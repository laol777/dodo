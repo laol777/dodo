{
 "cells": [
  {
   "cell_type": "code",
   "execution_count": 44,
   "metadata": {
    "collapsed": false
   },
   "outputs": [],
   "source": [
    "import pandas as pd\n",
    "import numpy as np\n",
    "import keras\n",
    "from sklearn.metrics import mean_absolute_error as mae"
   ]
  },
  {
   "cell_type": "code",
   "execution_count": 89,
   "metadata": {
    "collapsed": false
   },
   "outputs": [],
   "source": [
    "from keras.models import Sequential\n",
    "from keras.layers import Dense\n",
    "from keras.wrappers.scikit_learn import KerasRegressor\n",
    "from sklearn.model_selection import cross_val_score\n",
    "from sklearn.model_selection import KFold\n",
    "from sklearn.preprocessing import StandardScaler\n",
    "from sklearn.pipeline import Pipeline\n",
    "from IPython.display import SVG\n",
    "from keras.utils.visualize_util import model_to_dot\n",
    "from sklearn.preprocessing import normalize"
   ]
  },
  {
   "cell_type": "code",
   "execution_count": 92,
   "metadata": {
    "collapsed": true
   },
   "outputs": [],
   "source": [
    "features = pd.read_csv('data_transform/all.csv')\n",
    "\n",
    "data = features.fillna(data.mean())\n",
    "\n",
    "\n",
    "remove_column = ['IsTest', 'IsTrain', 'IsValidation', 'Date', 'Point', 'CityName'\n",
    "                 ,u'MeanForMonthDayByPoints', u'MeanForThroughMonthByPoints'\n",
    "                ,u'MeanForThroughWeekByPoints'\n",
    "                ,u'MeanForYearByPoints', u'MeanForYearDayByPoints'\n",
    "                 ,'MeanForYearDay', 'MeanForThroughWeek'\n",
    "                ]\n",
    "\n",
    "\n",
    "\n",
    "dataTrain = data[data.IsTrain == 1]\n",
    "dataTrain = dataTrain[dataTrain.columns.difference(remove_column)]\n",
    "\n",
    "X_train = dataTrain[dataTrain.columns.difference(['Count'])]\n",
    "y_train = dataTrain[['Count']]\n",
    "\n",
    "\n",
    "dataValidation =  data[data.IsTest == 1]\n",
    "dataValidation = dataValidation[dataValidation.columns.difference(remove_column)]\n",
    "\n",
    "X_test = dataValidation[dataValidation.columns.difference(['Count'])]\n",
    "y_test = dataValidation[['Count']]"
   ]
  },
  {
   "cell_type": "code",
   "execution_count": 93,
   "metadata": {
    "collapsed": true
   },
   "outputs": [],
   "source": [
    "X_train = X_train.as_matrix()\n",
    "y_train = y_train.as_matrix()\n",
    "X_test = X_test.as_matrix()\n",
    "y_test = y_test.as_matrix()"
   ]
  },
  {
   "cell_type": "code",
   "execution_count": 94,
   "metadata": {
    "collapsed": true
   },
   "outputs": [],
   "source": [
    "X_train = normalize(X_train)\n",
    "X_test = normalize(X_test)"
   ]
  },
  {
   "cell_type": "code",
   "execution_count": null,
   "metadata": {
    "collapsed": false
   },
   "outputs": [],
   "source": []
  },
  {
   "cell_type": "code",
   "execution_count": 99,
   "metadata": {
    "collapsed": true
   },
   "outputs": [],
   "source": [
    "model = Sequential()\n",
    "model.add(Dense(500, input_dim=15, init='normal', activation='relu'))\n",
    "model.add(Dense(1, init='normal'))\n",
    "\n",
    "model.compile(loss='mean_absolute_error', optimizer='adam')"
   ]
  },
  {
   "cell_type": "code",
   "execution_count": 100,
   "metadata": {
    "collapsed": false
   },
   "outputs": [
    {
     "data": {
      "image/svg+xml": [
       "<svg height=\"224pt\" viewBox=\"0.00 0.00 308.00 224.00\" width=\"308pt\" xmlns=\"http://www.w3.org/2000/svg\" xmlns:xlink=\"http://www.w3.org/1999/xlink\">\n",
       "<g class=\"graph\" id=\"graph0\" transform=\"scale(1 1) rotate(0) translate(4 220)\">\n",
       "<title>G</title>\n",
       "<polygon fill=\"white\" points=\"-4,4 -4,-220 304,-220 304,4 -4,4\" stroke=\"none\"/>\n",
       "<!-- 140549490733648 -->\n",
       "<g class=\"node\" id=\"node1\"><title>140549490733648</title>\n",
       "<polygon fill=\"none\" points=\"-0.5,-169 -0.5,-215 300.5,-215 300.5,-169 -0.5,-169\" stroke=\"black\"/>\n",
       "<text font-family=\"Times,serif\" font-size=\"14.00\" text-anchor=\"middle\" x=\"84.5\" y=\"-188.3\">dense_input_13: InputLayer</text>\n",
       "<polyline fill=\"none\" points=\"169.5,-169 169.5,-215 \" stroke=\"black\"/>\n",
       "<text font-family=\"Times,serif\" font-size=\"14.00\" text-anchor=\"middle\" x=\"197\" y=\"-199.8\">input:</text>\n",
       "<polyline fill=\"none\" points=\"169.5,-192 224.5,-192 \" stroke=\"black\"/>\n",
       "<text font-family=\"Times,serif\" font-size=\"14.00\" text-anchor=\"middle\" x=\"197\" y=\"-176.8\">output:</text>\n",
       "<polyline fill=\"none\" points=\"224.5,-169 224.5,-215 \" stroke=\"black\"/>\n",
       "<text font-family=\"Times,serif\" font-size=\"14.00\" text-anchor=\"middle\" x=\"262.5\" y=\"-199.8\">(None, 15)</text>\n",
       "<polyline fill=\"none\" points=\"224.5,-192 300.5,-192 \" stroke=\"black\"/>\n",
       "<text font-family=\"Times,serif\" font-size=\"14.00\" text-anchor=\"middle\" x=\"262.5\" y=\"-176.8\">(None, 15)</text>\n",
       "</g>\n",
       "<!-- 140548835364304 -->\n",
       "<g class=\"node\" id=\"node2\"><title>140548835364304</title>\n",
       "<polygon fill=\"none\" points=\"26.5,-85 26.5,-131 273.5,-131 273.5,-85 26.5,-85\" stroke=\"black\"/>\n",
       "<text font-family=\"Times,serif\" font-size=\"14.00\" text-anchor=\"middle\" x=\"81\" y=\"-104.3\">dense_26: Dense</text>\n",
       "<polyline fill=\"none\" points=\"135.5,-85 135.5,-131 \" stroke=\"black\"/>\n",
       "<text font-family=\"Times,serif\" font-size=\"14.00\" text-anchor=\"middle\" x=\"163\" y=\"-115.8\">input:</text>\n",
       "<polyline fill=\"none\" points=\"135.5,-108 190.5,-108 \" stroke=\"black\"/>\n",
       "<text font-family=\"Times,serif\" font-size=\"14.00\" text-anchor=\"middle\" x=\"163\" y=\"-92.8\">output:</text>\n",
       "<polyline fill=\"none\" points=\"190.5,-85 190.5,-131 \" stroke=\"black\"/>\n",
       "<text font-family=\"Times,serif\" font-size=\"14.00\" text-anchor=\"middle\" x=\"232\" y=\"-115.8\">(None, 15)</text>\n",
       "<polyline fill=\"none\" points=\"190.5,-108 273.5,-108 \" stroke=\"black\"/>\n",
       "<text font-family=\"Times,serif\" font-size=\"14.00\" text-anchor=\"middle\" x=\"232\" y=\"-92.8\">(None, 500)</text>\n",
       "</g>\n",
       "<!-- 140549490733648&#45;&gt;140548835364304 -->\n",
       "<g class=\"edge\" id=\"edge1\"><title>140549490733648-&gt;140548835364304</title>\n",
       "<path d=\"M150,-168.593C150,-160.118 150,-150.297 150,-141.104\" fill=\"none\" stroke=\"black\"/>\n",
       "<polygon fill=\"black\" points=\"153.5,-141.096 150,-131.096 146.5,-141.096 153.5,-141.096\" stroke=\"black\"/>\n",
       "</g>\n",
       "<!-- 140548835364752 -->\n",
       "<g class=\"node\" id=\"node3\"><title>140548835364752</title>\n",
       "<polygon fill=\"none\" points=\"26.5,-1 26.5,-47 273.5,-47 273.5,-1 26.5,-1\" stroke=\"black\"/>\n",
       "<text font-family=\"Times,serif\" font-size=\"14.00\" text-anchor=\"middle\" x=\"81\" y=\"-20.3\">dense_27: Dense</text>\n",
       "<polyline fill=\"none\" points=\"135.5,-1 135.5,-47 \" stroke=\"black\"/>\n",
       "<text font-family=\"Times,serif\" font-size=\"14.00\" text-anchor=\"middle\" x=\"163\" y=\"-31.8\">input:</text>\n",
       "<polyline fill=\"none\" points=\"135.5,-24 190.5,-24 \" stroke=\"black\"/>\n",
       "<text font-family=\"Times,serif\" font-size=\"14.00\" text-anchor=\"middle\" x=\"163\" y=\"-8.8\">output:</text>\n",
       "<polyline fill=\"none\" points=\"190.5,-1 190.5,-47 \" stroke=\"black\"/>\n",
       "<text font-family=\"Times,serif\" font-size=\"14.00\" text-anchor=\"middle\" x=\"232\" y=\"-31.8\">(None, 500)</text>\n",
       "<polyline fill=\"none\" points=\"190.5,-24 273.5,-24 \" stroke=\"black\"/>\n",
       "<text font-family=\"Times,serif\" font-size=\"14.00\" text-anchor=\"middle\" x=\"232\" y=\"-8.8\">(None, 1)</text>\n",
       "</g>\n",
       "<!-- 140548835364304&#45;&gt;140548835364752 -->\n",
       "<g class=\"edge\" id=\"edge2\"><title>140548835364304-&gt;140548835364752</title>\n",
       "<path d=\"M150,-84.5931C150,-76.1177 150,-66.2974 150,-57.104\" fill=\"none\" stroke=\"black\"/>\n",
       "<polygon fill=\"black\" points=\"153.5,-57.0958 150,-47.0959 146.5,-57.0959 153.5,-57.0958\" stroke=\"black\"/>\n",
       "</g>\n",
       "</g>\n",
       "</svg>"
      ],
      "text/plain": [
       "<IPython.core.display.SVG object>"
      ]
     },
     "execution_count": 100,
     "metadata": {},
     "output_type": "execute_result"
    }
   ],
   "source": [
    "SVG(model_to_dot(model, show_layer_names=True, show_shapes=True).create(prog='dot', format='svg'))"
   ]
  },
  {
   "cell_type": "code",
   "execution_count": 101,
   "metadata": {
    "collapsed": false
   },
   "outputs": [
    {
     "name": "stdout",
     "output_type": "stream",
     "text": [
      "Train on 46348 samples, validate on 5150 samples\n",
      "Epoch 1/30\n",
      "46348/46348 [==============================] - 1s - loss: 54.7414 - val_loss: 55.7120\n",
      "Epoch 2/30\n",
      "46348/46348 [==============================] - 1s - loss: 44.2644 - val_loss: 48.9513\n",
      "Epoch 3/30\n",
      "46348/46348 [==============================] - 1s - loss: 34.0613 - val_loss: 36.3922\n",
      "Epoch 4/30\n",
      "46348/46348 [==============================] - 1s - loss: 28.8149 - val_loss: 31.4814\n",
      "Epoch 5/30\n",
      "46348/46348 [==============================] - 1s - loss: 28.2892 - val_loss: 30.8752\n",
      "Epoch 6/30\n",
      "46348/46348 [==============================] - 1s - loss: 27.9832 - val_loss: 29.6968\n",
      "Epoch 7/30\n",
      "46348/46348 [==============================] - 1s - loss: 27.7079 - val_loss: 29.0260\n",
      "Epoch 8/30\n",
      "46348/46348 [==============================] - 1s - loss: 27.4826 - val_loss: 28.9265\n",
      "Epoch 9/30\n",
      "46348/46348 [==============================] - 1s - loss: 27.3164 - val_loss: 28.6736\n",
      "Epoch 10/30\n",
      "46348/46348 [==============================] - 1s - loss: 27.1697 - val_loss: 28.4491\n",
      "Epoch 11/30\n",
      "46348/46348 [==============================] - 1s - loss: 27.0640 - val_loss: 27.7210\n",
      "Epoch 12/30\n",
      "46348/46348 [==============================] - 1s - loss: 26.9740 - val_loss: 27.6576\n",
      "Epoch 13/30\n",
      "46348/46348 [==============================] - 1s - loss: 26.9175 - val_loss: 27.4334\n",
      "Epoch 14/30\n",
      "46348/46348 [==============================] - 1s - loss: 26.8581 - val_loss: 27.2521\n",
      "Epoch 15/30\n",
      "46348/46348 [==============================] - 1s - loss: 26.8170 - val_loss: 27.2506\n",
      "Epoch 16/30\n",
      "46348/46348 [==============================] - 1s - loss: 26.7842 - val_loss: 27.2519\n",
      "Epoch 17/30\n",
      "46348/46348 [==============================] - 1s - loss: 26.7512 - val_loss: 27.1184\n",
      "Epoch 18/30\n",
      "46348/46348 [==============================] - 1s - loss: 26.7252 - val_loss: 27.0459\n",
      "Epoch 19/30\n",
      "46348/46348 [==============================] - 1s - loss: 26.6955 - val_loss: 26.9078\n",
      "Epoch 20/30\n",
      "46348/46348 [==============================] - 1s - loss: 26.6775 - val_loss: 26.7567\n",
      "Epoch 21/30\n",
      "46348/46348 [==============================] - 1s - loss: 26.6573 - val_loss: 26.8421\n",
      "Epoch 22/30\n",
      "46348/46348 [==============================] - 1s - loss: 26.6362 - val_loss: 27.0812\n",
      "Epoch 23/30\n",
      "46348/46348 [==============================] - 1s - loss: 26.6287 - val_loss: 26.7920\n",
      "Epoch 24/30\n",
      "46348/46348 [==============================] - 1s - loss: 26.6117 - val_loss: 26.8855\n",
      "Epoch 25/30\n",
      "46348/46348 [==============================] - 1s - loss: 26.5961 - val_loss: 26.8683\n",
      "Epoch 26/30\n",
      "46348/46348 [==============================] - 1s - loss: 26.5857 - val_loss: 26.7758\n",
      "Epoch 27/30\n",
      "46348/46348 [==============================] - 1s - loss: 26.5622 - val_loss: 26.8720\n",
      "Epoch 28/30\n",
      "46348/46348 [==============================] - 1s - loss: 26.5603 - val_loss: 27.1040\n",
      "Epoch 29/30\n",
      "46348/46348 [==============================] - 1s - loss: 26.5495 - val_loss: 26.5463\n",
      "Epoch 30/30\n",
      "46348/46348 [==============================] - 1s - loss: 26.5319 - val_loss: 26.5945\n"
     ]
    },
    {
     "data": {
      "text/plain": [
       "<keras.callbacks.History at 0x7fd41335d310>"
      ]
     },
     "execution_count": 101,
     "metadata": {},
     "output_type": "execute_result"
    }
   ],
   "source": [
    "model.fit(X_train, y_train, batch_size=30, nb_epoch=30, validation_split=0.1, show_accuracy=True, shuffle=True, verbose=1)"
   ]
  },
  {
   "cell_type": "code",
   "execution_count": 102,
   "metadata": {
    "collapsed": false
   },
   "outputs": [],
   "source": [
    "predict = model.predict(X_test)"
   ]
  },
  {
   "cell_type": "code",
   "execution_count": 103,
   "metadata": {
    "collapsed": false
   },
   "outputs": [
    {
     "data": {
      "text/plain": [
       "30.257618188435053"
      ]
     },
     "execution_count": 103,
     "metadata": {},
     "output_type": "execute_result"
    }
   ],
   "source": [
    "mae(predict, y_test)"
   ]
  },
  {
   "cell_type": "code",
   "execution_count": null,
   "metadata": {
    "collapsed": true
   },
   "outputs": [],
   "source": []
  }
 ],
 "metadata": {
  "kernelspec": {
   "display_name": "Python 2",
   "language": "python",
   "name": "python2"
  },
  "language_info": {
   "codemirror_mode": {
    "name": "ipython",
    "version": 2
   },
   "file_extension": ".py",
   "mimetype": "text/x-python",
   "name": "python",
   "nbconvert_exporter": "python",
   "pygments_lexer": "ipython2",
   "version": "2.7.6"
  }
 },
 "nbformat": 4,
 "nbformat_minor": 1
}
