{
 "cells": [
  {
   "cell_type": "code",
   "execution_count": null,
   "metadata": {
    "collapsed": false
   },
   "outputs": [
    {
     "name": "stdout",
     "output_type": "stream",
     "text": [
      "[0]\teval-mae:103.633\ttrain-mae:104.724\n",
      "[300]\teval-mae:16.9867\ttrain-mae:15.8775\n"
     ]
    }
   ],
   "source": [
    "import pandas as pd\n",
    "import numpy as np\n",
    "import xgboost as xgb\n",
    "from sklearn.metrics import mean_absolute_error as mae\n",
    "\n",
    "\n",
    "features = pd.read_csv('data_transform/all.csv')\n",
    "\n",
    "data = features.fillna(100000000)\n",
    "\n",
    "remove_column = ['IsTest', 'IsTrain', 'IsValidation', 'Date', 'Point', 'CityName'\n",
    "\t\t\t\t , 'MeanForThroughDay', 'MeanForMonthDayByPoints'\n",
    "                 , 'MeanForThroughDayByPoints', 'MeanForThroughWeekByPoints'\n",
    "                 , 'MeanForYearDayByPoints', u'Prev2Day', u'Prev3Day'\n",
    "                 , u'Next2Day', u'Next3Day', 'NextExisting21Value'\n",
    "                 , 'PrevExisting21Value', 'NextExisting14Value'\n",
    "                 , 'PrevExisting14Value', 'NextExisting3Value'\n",
    "                 , 'PrevExisting3Value'\n",
    "                 , 'BranchNumber', 'MeanForMonth', 'Next1Day', 'Prev7Day'\n",
    "                 ]\n",
    "\n",
    "\n",
    "dataTrain = data[data.IsTrain == 1]\n",
    "dataTrain = dataTrain[dataTrain.columns.difference(remove_column)]\n",
    "\n",
    "X_train = dataTrain[dataTrain.columns.difference(['Count'])]\n",
    "y_train = dataTrain[['Count']]\n",
    "\n",
    "dataValidation =  data[data.IsValidation == 1]\n",
    "dataValidation = dataValidation[dataValidation.columns.difference(remove_column)]\n",
    "\n",
    "X_test = dataValidation[dataValidation.columns.difference(['Count'])]\n",
    "y_test = dataValidation[['Count']]\n",
    "\n",
    "dataResult =  data[data.IsValidation == 1]\n",
    "dataResult = dataResult[dataResult.columns.difference(remove_column)]\n",
    "\n",
    "X_res = dataResult[dataResult.columns.difference(['Count'])]\n",
    "\n",
    "\n",
    "dtrain = xgb.DMatrix( X_train, label=y_train)\n",
    "dtest = xgb.DMatrix( X_test, label=y_test)\n",
    "dres = xgb.DMatrix( X_res )\n",
    "evallist  = [(dtest,'eval'), (dtrain,'train')]\n",
    "\n",
    "param = {'max_depth': 6,\n",
    " \t\t'silent': 1,\n",
    " \t\t'eta': 0.01,\n",
    " \t\t'eval_metric': 'mae'\n",
    " }\n",
    "\n",
    "num_round = 1000\n",
    "\n",
    "bst = xgb.train( param, dtrain, num_round, evallist, verbose_eval=300 )\n",
    "\n",
    "\n",
    "result = bst.predict(dres)"
   ]
  },
  {
   "cell_type": "code",
   "execution_count": null,
   "metadata": {
    "collapsed": false
   },
   "outputs": [],
   "source": [
    "resDataFrame = pd.DataFrame()\n",
    "resDataFrame[\"Date\"] = data.Date[data.IsTest == True]\n",
    "resDataFrame.Date = resDataFrame.Date.apply(lambda x: pd.to_datetime(x))\n",
    "resDataFrame[\"Point\"] = data.Point[data.IsTest == True]\n",
    "resDataFrame.index = range(resDataFrame.shape[0])\n",
    "resDataFrame[\"Count\"] = pd.Series(result)"
   ]
  },
  {
   "cell_type": "code",
   "execution_count": null,
   "metadata": {
    "collapsed": false,
    "scrolled": true
   },
   "outputs": [],
   "source": [
    "resDataFrame.head()"
   ]
  },
  {
   "cell_type": "code",
   "execution_count": null,
   "metadata": {
    "collapsed": false
   },
   "outputs": [],
   "source": [
    "resDataFrame.tail()"
   ]
  },
  {
   "cell_type": "code",
   "execution_count": null,
   "metadata": {
    "collapsed": false
   },
   "outputs": [],
   "source": [
    "resDataFrame.shape"
   ]
  },
  {
   "cell_type": "code",
   "execution_count": null,
   "metadata": {
    "collapsed": true
   },
   "outputs": [],
   "source": [
    "originTest = pd.read_csv(\"data_original/test.csv\")"
   ]
  },
  {
   "cell_type": "code",
   "execution_count": null,
   "metadata": {
    "collapsed": false
   },
   "outputs": [],
   "source": [
    "originTest.Date = originTest.Date.apply(lambda x: pd.to_datetime(x, format='%d.%m.%Y'))"
   ]
  },
  {
   "cell_type": "markdown",
   "metadata": {
    "collapsed": false
   },
   "source": [
    "originTest.head()"
   ]
  },
  {
   "cell_type": "code",
   "execution_count": null,
   "metadata": {
    "collapsed": false
   },
   "outputs": [],
   "source": [
    "resDataFrame[(resDataFrame.Date == originTest.Date[0]) & (resDataFrame.Point == originTest.Point[0]) ]"
   ]
  },
  {
   "cell_type": "code",
   "execution_count": null,
   "metadata": {
    "collapsed": false,
    "scrolled": true
   },
   "outputs": [],
   "source": [
    "resNP = np.array([np.nan] * originTest.shape[0])\n",
    "for i in originTest.index:\n",
    "    resNP[i] = resDataFrame.Count[(resDataFrame.Date == originTest.Date[i]) &\n",
    "                                             (resDataFrame.Point == originTest.Point[i])]"
   ]
  },
  {
   "cell_type": "code",
   "execution_count": null,
   "metadata": {
    "collapsed": false
   },
   "outputs": [],
   "source": [
    "resNP.shape"
   ]
  },
  {
   "cell_type": "code",
   "execution_count": null,
   "metadata": {
    "collapsed": false
   },
   "outputs": [],
   "source": [
    "originTest.Count = pd.Series(resNP)"
   ]
  },
  {
   "cell_type": "code",
   "execution_count": null,
   "metadata": {
    "collapsed": true
   },
   "outputs": [],
   "source": [
    "originTest.Count = originTest.Count.apply(lambda x: 1 if x < 1 else x)"
   ]
  },
  {
   "cell_type": "code",
   "execution_count": null,
   "metadata": {
    "collapsed": false
   },
   "outputs": [],
   "source": [
    "originTest.Count = originTest.Count.apply(lambda x: round(x) if abs(x - round(x)) < 0.15 else x)\n"
   ]
  },
  {
   "cell_type": "code",
   "execution_count": null,
   "metadata": {
    "collapsed": true
   },
   "outputs": [],
   "source": [
    "originTest['Year'] = originTest.Date.apply(lambda x: x.year)\n",
    "originTest['Month'] = originTest.Date.apply(lambda x: x.month)\n",
    "originTest['MonthDay'] = originTest.Date.apply(lambda x: x.day)"
   ]
  },
  {
   "cell_type": "code",
   "execution_count": null,
   "metadata": {
    "collapsed": false
   },
   "outputs": [],
   "source": [
    "OriginalDate = []\n",
    "k = 9\n",
    "for i in range(originTest.shape[0]):\n",
    "    daystr = str(originTest.MonthDay[i]) if originTest.MonthDay[i] >= 10 else  \"0\" + str(originTest.MonthDay[i])\n",
    "    monthstr = str(originTest.Month[i]) if originTest.Month[i] >= 10 else  \"0\" + str(originTest.Month[i])\n",
    "    OriginalDate.append(daystr + \".\" + monthstr + \".\" +  str(originTest.Year[i]))"
   ]
  },
  {
   "cell_type": "code",
   "execution_count": null,
   "metadata": {
    "collapsed": false
   },
   "outputs": [],
   "source": []
  },
  {
   "cell_type": "code",
   "execution_count": null,
   "metadata": {
    "collapsed": true
   },
   "outputs": [],
   "source": []
  },
  {
   "cell_type": "code",
   "execution_count": null,
   "metadata": {
    "collapsed": true
   },
   "outputs": [],
   "source": [
    "originTest[\"OriginalDate\"] = pd.Series(OriginalDate)"
   ]
  },
  {
   "cell_type": "code",
   "execution_count": null,
   "metadata": {
    "collapsed": false,
    "scrolled": true
   },
   "outputs": [],
   "source": [
    "originTest.head()"
   ]
  },
  {
   "cell_type": "code",
   "execution_count": null,
   "metadata": {
    "collapsed": false
   },
   "outputs": [],
   "source": []
  },
  {
   "cell_type": "code",
   "execution_count": null,
   "metadata": {
    "collapsed": false
   },
   "outputs": [],
   "source": [
    "originTest.tail()"
   ]
  },
  {
   "cell_type": "code",
   "execution_count": null,
   "metadata": {
    "collapsed": false
   },
   "outputs": [],
   "source": [
    "originTest = originTest[[\"OriginalDate\", \"Point\", \"Count\"]]"
   ]
  },
  {
   "cell_type": "code",
   "execution_count": null,
   "metadata": {
    "collapsed": false
   },
   "outputs": [],
   "source": [
    "originTest.head()"
   ]
  },
  {
   "cell_type": "code",
   "execution_count": null,
   "metadata": {
    "collapsed": false
   },
   "outputs": [],
   "source": [
    "originTest.to_csv('submission.csv', index=None, header=None)"
   ]
  },
  {
   "cell_type": "code",
   "execution_count": null,
   "metadata": {
    "collapsed": true
   },
   "outputs": [],
   "source": []
  },
  {
   "cell_type": "code",
   "execution_count": null,
   "metadata": {
    "collapsed": true
   },
   "outputs": [],
   "source": []
  }
 ],
 "metadata": {
  "anaconda-cloud": {},
  "kernelspec": {
   "display_name": "Python 2",
   "language": "python",
   "name": "python2"
  },
  "language_info": {
   "codemirror_mode": {
    "name": "ipython",
    "version": 2
   },
   "file_extension": ".py",
   "mimetype": "text/x-python",
   "name": "python",
   "nbconvert_exporter": "python",
   "pygments_lexer": "ipython2",
   "version": "2.7.6"
  }
 },
 "nbformat": 4,
 "nbformat_minor": 1
}
