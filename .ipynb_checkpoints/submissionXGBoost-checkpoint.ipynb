{
 "metadata": {
  "anaconda-cloud": {},
  "kernelspec": {
   "display_name": "Python 2",
   "language": "python",
   "name": "python2"
  },
  "language_info": {
   "codemirror_mode": {
    "name": "ipython",
    "version": 2
   },
   "file_extension": ".py",
   "mimetype": "text/x-python",
   "name": "python",
   "nbconvert_exporter": "python",
   "pygments_lexer": "ipython2",
   "version": "2.7.6"
  },
  "name": ""
 },
 "nbformat": 3,
 "nbformat_minor": 0,
 "worksheets": [
  {
   "cells": [
    {
     "cell_type": "code",
     "collapsed": false,
     "input": [
      "import pandas as pd\n",
      "import numpy as np\n",
      "from sklearn.metrics import mean_absolute_error as mae\n",
      "from sklearn.ensemble import GradientBoostingRegressor\n",
      "from sklearn.ensemble import RandomForestRegressor\n",
      "\n",
      "features = pd.read_csv('data_transform/all.csv')\n",
      "\n",
      "data = features.fillna(100000000)\n",
      "\n",
      "remove_column = ['IsTest', 'IsTrain', 'IsValidation', 'Date', 'Point', 'CityName'\n",
      "                ,u'MeanForMonthDayByPoints', u'MeanForThroughMonthByPoints'\n",
      "                ,u'MeanForThroughWeekByPoints'\n",
      "                ,u'MeanForYearByPoints', u'MeanForYearDayByPoints'\n",
      "                ,'MeanForYearDay', 'MeanForThroughWeek', u'Prev2Day', u'Prev3Day'\n",
      "                ,u'Next2Day', u'Next3Day'\n",
      "                 ]\n",
      "\n",
      "#? u'MeanForWeekDayByPoints',\n",
      "\n",
      "#'YearDay', 'MeanForYear', 'PrevExisting1Value', 'NextExisting1Value', 'MeanForMonthByPoints'\n",
      "\n",
      "\n",
      "\n",
      "dataTrain = data[data.IsTrain == 1]\n",
      "dataTrain = dataTrain[dataTrain.columns.difference(remove_column)]\n",
      "\n",
      "X_train = dataTrain[dataTrain.columns.difference(['Count'])]\n",
      "y_train = dataTrain[['Count']]\n",
      "\n",
      "dataValidation =  data[data.IsValidation == 1]\n",
      "dataValidation = dataValidation[dataValidation.columns.difference(remove_column)]\n",
      "\n",
      "X_test = dataValidation[dataValidation.columns.difference(['Count'])]\n",
      "y_test = dataValidation[['Count']]\n",
      "\n",
      "dataResult =  data[data.IsTest == 1]\n",
      "dataResult = dataResult[dataResult.columns.difference(remove_column)]\n",
      "\n",
      "X_res = dataResult[dataResult.columns.difference(['Count'])]"
     ],
     "language": "python",
     "metadata": {},
     "outputs": [],
     "prompt_number": 3
    },
    {
     "cell_type": "code",
     "collapsed": false,
     "input": [
      "rfr = GradientBoostingRegressor(max_depth=6, n_estimators=1000, verbose=1, loss = \"lad\", learning_rate=0.01)"
     ],
     "language": "python",
     "metadata": {},
     "outputs": [],
     "prompt_number": 33
    },
    {
     "cell_type": "code",
     "collapsed": false,
     "input": [
      "rfr.fit(X_train, y_train)"
     ],
     "language": "python",
     "metadata": {},
     "outputs": [
      {
       "output_type": "stream",
       "stream": "stdout",
       "text": [
        "      Iter       Train Loss   Remaining Time \n",
        "         1          51.9254            4.43m"
       ]
      },
      {
       "output_type": "stream",
       "stream": "stdout",
       "text": [
        "\n",
        "         2          51.5369            4.41m"
       ]
      },
      {
       "output_type": "stream",
       "stream": "stdout",
       "text": [
        "\n",
        "         3          51.1557            4.40m"
       ]
      },
      {
       "output_type": "stream",
       "stream": "stdout",
       "text": [
        "\n",
        "         4          50.7600            4.40m"
       ]
      },
      {
       "output_type": "stream",
       "stream": "stdout",
       "text": [
        "\n",
        "         5          50.3676            4.39m"
       ]
      },
      {
       "output_type": "stream",
       "stream": "stdout",
       "text": [
        "\n",
        "         6          49.9798            4.38m"
       ]
      },
      {
       "output_type": "stream",
       "stream": "stdout",
       "text": [
        "\n",
        "         7          49.5966            4.38m"
       ]
      },
      {
       "output_type": "stream",
       "stream": "stdout",
       "text": [
        "\n",
        "         8          49.2151            4.39m"
       ]
      },
      {
       "output_type": "stream",
       "stream": "stdout",
       "text": [
        "\n",
        "         9          48.8591            4.39m"
       ]
      },
      {
       "output_type": "stream",
       "stream": "stdout",
       "text": [
        "\n",
        "        10          48.5016            4.40m"
       ]
      },
      {
       "output_type": "stream",
       "stream": "stdout",
       "text": [
        "\n",
        "        20          44.9496            4.36m"
       ]
      },
      {
       "output_type": "stream",
       "stream": "stdout",
       "text": [
        "\n",
        "        30          41.7884            4.33m"
       ]
      },
      {
       "output_type": "stream",
       "stream": "stdout",
       "text": [
        "\n",
        "        40          38.9357            4.29m"
       ]
      },
      {
       "output_type": "stream",
       "stream": "stdout",
       "text": [
        "\n",
        "        50          36.3682            4.26m"
       ]
      },
      {
       "output_type": "stream",
       "stream": "stdout",
       "text": [
        "\n",
        "        60          34.0605            4.23m"
       ]
      },
      {
       "output_type": "stream",
       "stream": "stdout",
       "text": [
        "\n",
        "        70          31.9788            4.20m"
       ]
      },
      {
       "output_type": "stream",
       "stream": "stdout",
       "text": [
        "\n",
        "        80          30.1051            4.18m"
       ]
      },
      {
       "output_type": "stream",
       "stream": "stdout",
       "text": [
        "\n",
        "        90          28.4469            4.14m"
       ]
      },
      {
       "output_type": "stream",
       "stream": "stdout",
       "text": [
        "\n",
        "       100          26.9718            4.10m"
       ]
      },
      {
       "output_type": "stream",
       "stream": "stdout",
       "text": [
        "\n",
        "       200          19.0174            3.61m"
       ]
      },
      {
       "output_type": "stream",
       "stream": "stdout",
       "text": [
        "\n",
        "       300          16.7792            3.10m"
       ]
      },
      {
       "output_type": "stream",
       "stream": "stdout",
       "text": [
        "\n",
        "       400          16.0361            2.53m"
       ]
      },
      {
       "output_type": "stream",
       "stream": "stdout",
       "text": [
        "\n",
        "       500          15.6330            2.00m"
       ]
      },
      {
       "output_type": "stream",
       "stream": "stdout",
       "text": [
        "\n",
        "       600          15.3401            1.53m"
       ]
      },
      {
       "output_type": "stream",
       "stream": "stdout",
       "text": [
        "\n",
        "       700          15.1001            1.10m"
       ]
      },
      {
       "output_type": "stream",
       "stream": "stdout",
       "text": [
        "\n",
        "       800          14.8784           42.52s"
       ]
      },
      {
       "output_type": "stream",
       "stream": "stdout",
       "text": [
        "\n",
        "       900          14.7376           20.59s"
       ]
      },
      {
       "output_type": "stream",
       "stream": "stdout",
       "text": [
        "\n",
        "      1000          14.5966            0.00s"
       ]
      },
      {
       "output_type": "stream",
       "stream": "stdout",
       "text": [
        "\n"
       ]
      },
      {
       "metadata": {},
       "output_type": "pyout",
       "prompt_number": 34,
       "text": [
        "GradientBoostingRegressor(alpha=0.9, criterion='friedman_mse', init=None,\n",
        "             learning_rate=0.01, loss='lad', max_depth=6,\n",
        "             max_features=None, max_leaf_nodes=None,\n",
        "             min_impurity_split=1e-07, min_samples_leaf=1,\n",
        "             min_samples_split=2, min_weight_fraction_leaf=0.0,\n",
        "             n_estimators=1000, presort='auto', random_state=None,\n",
        "             subsample=1.0, verbose=1, warm_start=False)"
       ]
      }
     ],
     "prompt_number": 34
    },
    {
     "cell_type": "code",
     "collapsed": false,
     "input": [
      "res = rfr.predict(X_test)\n",
      "mae(y_test, res)"
     ],
     "language": "python",
     "metadata": {},
     "outputs": [
      {
       "metadata": {},
       "output_type": "pyout",
       "prompt_number": 35,
       "text": [
        "17.091985504927401"
       ]
      }
     ],
     "prompt_number": 35
    },
    {
     "cell_type": "code",
     "collapsed": false,
     "input": [],
     "language": "python",
     "metadata": {},
     "outputs": []
    },
    {
     "cell_type": "code",
     "collapsed": false,
     "input": [],
     "language": "python",
     "metadata": {},
     "outputs": []
    },
    {
     "cell_type": "code",
     "collapsed": false,
     "input": [],
     "language": "python",
     "metadata": {},
     "outputs": []
    },
    {
     "cell_type": "code",
     "collapsed": false,
     "input": [
      "dtrain = xgb.DMatrix( X_train, label=y_train)\n",
      "dtest = xgb.DMatrix( X_test, label=y_test)\n",
      "dres = xgb.DMatrix( X_res )\n",
      "evallist  = [(dtest,'eval'), (dtrain,'train')]\n",
      "\n",
      "param = {'max_depth': 6,\n",
      " \t\t'silent': 1,\n",
      " \t\t'eta': 0.01,\n",
      " \t\t'eval_metric': 'mae'\n",
      " }\n",
      "\n",
      "num_round = 3000\n",
      "\n",
      "bst = xgb.train( param, dtrain, num_round, evallist, verbose_eval=20 )"
     ],
     "language": "python",
     "metadata": {
      "scrolled": true
     },
     "outputs": [
      {
       "output_type": "stream",
       "stream": "stdout",
       "text": [
        "[0]\teval-mae:105.199\ttrain-mae:104.431\n",
        "[20]\teval-mae:86.1809\ttrain-mae:85.4739\n",
        "[40]\teval-mae:70.6404\ttrain-mae:69.9905\n",
        "[60]\teval-mae:57.9605\ttrain-mae:57.3517\n",
        "[80]\teval-mae:47.679\ttrain-mae:47.0984\n",
        "[100]\teval-mae:39.4565\ttrain-mae:38.8933\n",
        "[120]\teval-mae:33.0599\ttrain-mae:32.4636\n",
        "[140]\teval-mae:28.2479\ttrain-mae:27.554\n",
        "[160]\teval-mae:24.7748\ttrain-mae:23.9185\n",
        "[180]\teval-mae:22.3551\ttrain-mae:21.3196\n",
        "[200]\teval-mae:20.6777\ttrain-mae:19.5003\n",
        "[220]\teval-mae:19.5274\ttrain-mae:18.2297\n",
        "[240]\teval-mae:18.7736\ttrain-mae:17.3508\n",
        "[260]\teval-mae:18.2777\ttrain-mae:16.741\n",
        "[280]\teval-mae:17.9444\ttrain-mae:16.312\n",
        "[300]\teval-mae:17.7342\ttrain-mae:15.9992\n",
        "[320]\teval-mae:17.602\ttrain-mae:15.7885\n",
        "[340]\teval-mae:17.5267\ttrain-mae:15.6386\n",
        "[360]\teval-mae:17.4669\ttrain-mae:15.5169\n",
        "[380]\teval-mae:17.4315\ttrain-mae:15.4038\n",
        "[400]\teval-mae:17.4061\ttrain-mae:15.3108\n",
        "[420]\teval-mae:17.3768\ttrain-mae:15.2226\n",
        "[440]\teval-mae:17.3586\ttrain-mae:15.1505\n",
        "[460]\teval-mae:17.3529\ttrain-mae:15.0814\n",
        "[480]\teval-mae:17.3325\ttrain-mae:15.0055\n",
        "[500]\teval-mae:17.3284\ttrain-mae:14.9452\n",
        "[520]\teval-mae:17.3241\ttrain-mae:14.887\n",
        "[540]\teval-mae:17.3119\ttrain-mae:14.8297\n",
        "[560]\teval-mae:17.2623\ttrain-mae:14.7413\n",
        "[580]\teval-mae:17.2428\ttrain-mae:14.6742\n",
        "[600]\teval-mae:17.2284\ttrain-mae:14.6119\n",
        "[620]\teval-mae:17.2142\ttrain-mae:14.5579\n",
        "[640]\teval-mae:17.2046\ttrain-mae:14.5132\n",
        "[660]\teval-mae:17.1818\ttrain-mae:14.4641\n",
        "[680]\teval-mae:17.1611\ttrain-mae:14.4177\n",
        "[700]\teval-mae:17.1538\ttrain-mae:14.3841\n",
        "[720]\teval-mae:17.1403\ttrain-mae:14.3406\n",
        "[740]\teval-mae:17.1297\ttrain-mae:14.2967\n",
        "[760]\teval-mae:17.1158\ttrain-mae:14.2567\n",
        "[780]\teval-mae:17.0922\ttrain-mae:14.2118\n",
        "[800]\teval-mae:17.0827\ttrain-mae:14.1764\n",
        "[820]\teval-mae:17.0742\ttrain-mae:14.142\n",
        "[840]\teval-mae:17.0678\ttrain-mae:14.1087\n",
        "[860]\teval-mae:17.0537\ttrain-mae:14.0745\n",
        "[880]\teval-mae:17.0349\ttrain-mae:14.0396\n",
        "[900]\teval-mae:17.0261\ttrain-mae:14.0045\n",
        "[920]\teval-mae:17.0125\ttrain-mae:13.9707\n",
        "[940]\teval-mae:17.0057\ttrain-mae:13.9383\n",
        "[960]\teval-mae:16.9912\ttrain-mae:13.9035\n",
        "[980]\teval-mae:16.9872\ttrain-mae:13.8672\n",
        "[1000]\teval-mae:16.9729\ttrain-mae:13.8309\n",
        "[1020]\teval-mae:16.9566\ttrain-mae:13.7885\n",
        "[1040]\teval-mae:16.9492\ttrain-mae:13.7571\n",
        "[1060]\teval-mae:16.945\ttrain-mae:13.7247\n",
        "[1080]\teval-mae:16.9351\ttrain-mae:13.6927\n",
        "[1100]\teval-mae:16.9276\ttrain-mae:13.6601\n",
        "[1120]\teval-mae:16.9244\ttrain-mae:13.6312\n",
        "[1140]\teval-mae:16.9256\ttrain-mae:13.6036\n",
        "[1160]\teval-mae:16.9253\ttrain-mae:13.5746\n",
        "[1180]\teval-mae:16.9182\ttrain-mae:13.5496\n",
        "[1200]\teval-mae:16.9151\ttrain-mae:13.5222\n",
        "[1220]\teval-mae:16.9116\ttrain-mae:13.492\n",
        "[1240]\teval-mae:16.9072\ttrain-mae:13.4638\n",
        "[1260]\teval-mae:16.9021\ttrain-mae:13.4338\n",
        "[1280]\teval-mae:16.9011\ttrain-mae:13.4021\n",
        "[1300]\teval-mae:16.8947\ttrain-mae:13.3763\n",
        "[1320]\teval-mae:16.8928\ttrain-mae:13.3488\n",
        "[1340]\teval-mae:16.8877\ttrain-mae:13.3228\n",
        "[1360]\teval-mae:16.8788\ttrain-mae:13.2973\n",
        "[1380]\teval-mae:16.8751\ttrain-mae:13.2662\n",
        "[1400]\teval-mae:16.875\ttrain-mae:13.2424\n",
        "[1420]\teval-mae:16.8728\ttrain-mae:13.2184\n",
        "[1440]\teval-mae:16.8693\ttrain-mae:13.1911\n",
        "[1460]\teval-mae:16.8655\ttrain-mae:13.1658\n",
        "[1480]\teval-mae:16.859\ttrain-mae:13.1409\n",
        "[1500]\teval-mae:16.8456\ttrain-mae:13.1137\n",
        "[1520]\teval-mae:16.8389\ttrain-mae:13.0848\n",
        "[1540]\teval-mae:16.835\ttrain-mae:13.0601\n",
        "[1560]\teval-mae:16.8303\ttrain-mae:13.0326\n",
        "[1580]\teval-mae:16.8276\ttrain-mae:13.0084\n",
        "[1600]\teval-mae:16.8263\ttrain-mae:12.9837\n",
        "[1620]\teval-mae:16.8199\ttrain-mae:12.9564\n",
        "[1640]\teval-mae:16.8185\ttrain-mae:12.9327\n",
        "[1660]\teval-mae:16.816\ttrain-mae:12.9093\n",
        "[1680]\teval-mae:16.813\ttrain-mae:12.8848\n",
        "[1700]\teval-mae:16.8063\ttrain-mae:12.8585\n",
        "[1720]\teval-mae:16.7923\ttrain-mae:12.8283\n",
        "[1740]\teval-mae:16.7887\ttrain-mae:12.8054\n",
        "[1760]\teval-mae:16.785\ttrain-mae:12.7829\n",
        "[1780]\teval-mae:16.7814\ttrain-mae:12.7609\n",
        "[1800]\teval-mae:16.7751\ttrain-mae:12.7368\n",
        "[1820]\teval-mae:16.7703\ttrain-mae:12.7116\n",
        "[1840]\teval-mae:16.7708\ttrain-mae:12.6911\n",
        "[1860]\teval-mae:16.7671\ttrain-mae:12.6686\n",
        "[1880]\teval-mae:16.7636\ttrain-mae:12.645\n",
        "[1900]\teval-mae:16.7612\ttrain-mae:12.6221\n",
        "[1920]\teval-mae:16.758\ttrain-mae:12.5993\n",
        "[1940]\teval-mae:16.7533\ttrain-mae:12.5771\n",
        "[1960]\teval-mae:16.7515\ttrain-mae:12.5543\n",
        "[1980]\teval-mae:16.7495\ttrain-mae:12.5339\n",
        "[2000]\teval-mae:16.7476\ttrain-mae:12.5125\n",
        "[2020]\teval-mae:16.7445\ttrain-mae:12.4922\n",
        "[2040]\teval-mae:16.7393\ttrain-mae:12.4686\n",
        "[2060]\teval-mae:16.7353\ttrain-mae:12.4475\n",
        "[2080]\teval-mae:16.7332\ttrain-mae:12.425\n",
        "[2100]\teval-mae:16.7293\ttrain-mae:12.4011\n",
        "[2120]\teval-mae:16.726\ttrain-mae:12.3768\n",
        "[2140]\teval-mae:16.7234\ttrain-mae:12.3524\n",
        "[2160]\teval-mae:16.7226\ttrain-mae:12.3272\n",
        "[2180]\teval-mae:16.7222\ttrain-mae:12.3054\n",
        "[2200]\teval-mae:16.7229\ttrain-mae:12.2818\n",
        "[2220]\teval-mae:16.7236\ttrain-mae:12.2594\n",
        "[2240]\teval-mae:16.7226\ttrain-mae:12.2397\n",
        "[2260]\teval-mae:16.7213\ttrain-mae:12.221\n",
        "[2280]\teval-mae:16.7235\ttrain-mae:12.2035\n",
        "[2300]\teval-mae:16.724\ttrain-mae:12.1839\n",
        "[2320]\teval-mae:16.7222\ttrain-mae:12.1639\n",
        "[2340]\teval-mae:16.7221\ttrain-mae:12.1431\n",
        "[2360]\teval-mae:16.7177\ttrain-mae:12.1198\n",
        "[2380]\teval-mae:16.7182\ttrain-mae:12.099\n",
        "[2400]\teval-mae:16.7153\ttrain-mae:12.0782\n",
        "[2420]\teval-mae:16.713\ttrain-mae:12.0597\n",
        "[2440]\teval-mae:16.7135\ttrain-mae:12.042\n",
        "[2460]\teval-mae:16.7095\ttrain-mae:12.0244\n",
        "[2480]\teval-mae:16.709\ttrain-mae:12.007\n",
        "[2500]\teval-mae:16.7094\ttrain-mae:11.9915\n",
        "[2520]\teval-mae:16.7093\ttrain-mae:11.9766\n",
        "[2540]\teval-mae:16.7078\ttrain-mae:11.958\n",
        "[2560]\teval-mae:16.7086\ttrain-mae:11.937\n",
        "[2580]\teval-mae:16.7082\ttrain-mae:11.9191\n",
        "[2600]\teval-mae:16.7069\ttrain-mae:11.9042\n",
        "[2620]\teval-mae:16.7079\ttrain-mae:11.8881\n",
        "[2640]\teval-mae:16.709\ttrain-mae:11.8721\n",
        "[2660]\teval-mae:16.7096\ttrain-mae:11.8565\n",
        "[2680]\teval-mae:16.7095\ttrain-mae:11.8407\n",
        "[2700]\teval-mae:16.7098\ttrain-mae:11.8251\n",
        "[2720]\teval-mae:16.7105\ttrain-mae:11.8096\n",
        "[2740]\teval-mae:16.7084\ttrain-mae:11.7921\n",
        "[2760]\teval-mae:16.708\ttrain-mae:11.7751\n",
        "[2780]\teval-mae:16.7058\ttrain-mae:11.759\n",
        "[2800]\teval-mae:16.7068\ttrain-mae:11.743\n",
        "[2820]\teval-mae:16.7049\ttrain-mae:11.7291\n",
        "[2840]\teval-mae:16.7061\ttrain-mae:11.7111\n",
        "[2860]\teval-mae:16.704\ttrain-mae:11.6928\n",
        "[2880]\teval-mae:16.7055\ttrain-mae:11.6758\n",
        "[2900]\teval-mae:16.7018\ttrain-mae:11.66\n",
        "[2920]\teval-mae:16.7016\ttrain-mae:11.6446\n",
        "[2940]\teval-mae:16.7\ttrain-mae:11.6269\n",
        "[2960]\teval-mae:16.6986\ttrain-mae:11.6088\n",
        "[2980]\teval-mae:16.6988\ttrain-mae:11.5928\n"
       ]
      }
     ],
     "prompt_number": 312
    },
    {
     "cell_type": "code",
     "collapsed": false,
     "input": [
      "bst.get_fscore()"
     ],
     "language": "python",
     "metadata": {
      "scrolled": false
     },
     "outputs": [
      {
       "metadata": {},
       "output_type": "pyout",
       "prompt_number": 313,
       "text": [
        "{'MeanForMonth': 6397,\n",
        " 'MeanForMonthByPoints': 10080,\n",
        " 'MeanForMonthDay': 8202,\n",
        " 'MeanForThroughMonth': 3237,\n",
        " 'MeanForWeekDay': 5302,\n",
        " 'MeanForWeekDayByPoints': 11510,\n",
        " 'MeanForYear': 526,\n",
        " 'Month': 999,\n",
        " 'MonthDay': 4499,\n",
        " 'Next1Day': 6791,\n",
        " 'Next7Day': 5649,\n",
        " 'NextExisting14Value': 6095,\n",
        " 'NextExisting1Value': 794,\n",
        " 'NextExisting21Value': 4461,\n",
        " 'NextExisting2Value': 5877,\n",
        " 'NextExisting30Value': 4493,\n",
        " 'NextExisting3Value': 5573,\n",
        " 'NextExisting7Value': 6539,\n",
        " 'Prev1Day': 5917,\n",
        " 'Prev7Day': 5058,\n",
        " 'PrevExisting14Value': 6392,\n",
        " 'PrevExisting1Value': 981,\n",
        " 'PrevExisting21Value': 4360,\n",
        " 'PrevExisting2Value': 5479,\n",
        " 'PrevExisting30Value': 4809,\n",
        " 'PrevExisting3Value': 6269,\n",
        " 'PrevExisting7Value': 6214,\n",
        " 'ThroughDay': 7576,\n",
        " 'WeekDay': 2636,\n",
        " 'YearDay': 9332}"
       ]
      }
     ],
     "prompt_number": 313
    },
    {
     "cell_type": "code",
     "collapsed": false,
     "input": [
      "X_train.columns"
     ],
     "language": "python",
     "metadata": {},
     "outputs": [
      {
       "metadata": {},
       "output_type": "pyout",
       "prompt_number": 251,
       "text": [
        "Index([u'MeanForMonth', u'MeanForMonthByPoints', u'MeanForMonthDay',\n",
        "       u'MeanForThroughMonth', u'MeanForWeekDay', u'MeanForWeekDayByPoints',\n",
        "       u'MeanForYear', u'Month', u'MonthDay', u'Next1Day', u'Next7Day',\n",
        "       u'NextExisting14Value', u'NextExisting1Value', u'NextExisting21Value',\n",
        "       u'NextExisting2Value', u'NextExisting30Value', u'NextExisting3Value',\n",
        "       u'NextExisting7Value', u'Prev1Day', u'Prev7Day', u'PrevExisting14Value',\n",
        "       u'PrevExisting1Value', u'PrevExisting21Value', u'PrevExisting2Value',\n",
        "       u'PrevExisting30Value', u'PrevExisting3Value', u'PrevExisting7Value',\n",
        "       u'ThroughDay', u'ThroughMonth', u'ThroughWeek', u'WeekDay', u'Year',\n",
        "       u'YearDay'],\n",
        "      dtype='object')"
       ]
      }
     ],
     "prompt_number": 251
    },
    {
     "cell_type": "code",
     "collapsed": false,
     "input": [],
     "language": "python",
     "metadata": {},
     "outputs": [],
     "prompt_number": null
    },
    {
     "cell_type": "code",
     "collapsed": false,
     "input": [
      "features.columns"
     ],
     "language": "python",
     "metadata": {},
     "outputs": [
      {
       "metadata": {},
       "output_type": "pyout",
       "prompt_number": 252,
       "text": [
        "Index([u'Count', u'Date', u'IsTest', u'IsTrain', u'IsValidation', u'Year',\n",
        "       u'Month', u'MonthDay', u'WeekDay', u'Point', u'YearDay',\n",
        "       u'ThroughMonth', u'ThroughWeek', u'ThroughDay', u'Prev1Day',\n",
        "       u'Prev2Day', u'Prev3Day', u'Prev7Day', u'Next1Day', u'Next2Day',\n",
        "       u'Next3Day', u'Next7Day', u'MeanForMonth', u'MeanForMonthDay',\n",
        "       u'MeanForThroughMonth', u'MeanForThroughWeek', u'MeanForWeekDay',\n",
        "       u'MeanForYear', u'MeanForYearDay', u'MeanForMonthByPoints',\n",
        "       u'MeanForMonthDayByPoints', u'MeanForThroughMonthByPoints',\n",
        "       u'MeanForThroughWeekByPoints', u'MeanForWeekDayByPoints',\n",
        "       u'MeanForYearByPoints', u'MeanForYearDayByPoints',\n",
        "       u'NextExisting1Value', u'NextExisting2Value', u'NextExisting3Value',\n",
        "       u'NextExisting7Value', u'NextExisting14Value', u'NextExisting21Value',\n",
        "       u'NextExisting30Value', u'PrevExisting1Value', u'PrevExisting2Value',\n",
        "       u'PrevExisting3Value', u'PrevExisting7Value', u'PrevExisting14Value',\n",
        "       u'PrevExisting21Value', u'PrevExisting30Value'],\n",
        "      dtype='object')"
       ]
      }
     ],
     "prompt_number": 252
    },
    {
     "cell_type": "code",
     "collapsed": true,
     "input": [],
     "language": "python",
     "metadata": {},
     "outputs": [],
     "prompt_number": null
    },
    {
     "cell_type": "code",
     "collapsed": false,
     "input": [],
     "language": "python",
     "metadata": {},
     "outputs": [],
     "prompt_number": null
    },
    {
     "cell_type": "code",
     "collapsed": false,
     "input": [],
     "language": "python",
     "metadata": {
      "scrolled": true
     },
     "outputs": [],
     "prompt_number": 283
    },
    {
     "cell_type": "code",
     "collapsed": false,
     "input": [],
     "language": "python",
     "metadata": {},
     "outputs": [],
     "prompt_number": null
    },
    {
     "cell_type": "code",
     "collapsed": false,
     "input": [],
     "language": "python",
     "metadata": {},
     "outputs": [],
     "prompt_number": null
    },
    {
     "cell_type": "code",
     "collapsed": true,
     "input": [],
     "language": "python",
     "metadata": {},
     "outputs": [],
     "prompt_number": null
    },
    {
     "cell_type": "code",
     "collapsed": true,
     "input": [],
     "language": "python",
     "metadata": {},
     "outputs": [],
     "prompt_number": null
    },
    {
     "cell_type": "code",
     "collapsed": true,
     "input": [],
     "language": "python",
     "metadata": {},
     "outputs": [],
     "prompt_number": null
    },
    {
     "cell_type": "code",
     "collapsed": true,
     "input": [],
     "language": "python",
     "metadata": {},
     "outputs": [],
     "prompt_number": null
    },
    {
     "cell_type": "code",
     "collapsed": true,
     "input": [],
     "language": "python",
     "metadata": {},
     "outputs": [],
     "prompt_number": null
    },
    {
     "cell_type": "code",
     "collapsed": true,
     "input": [],
     "language": "python",
     "metadata": {},
     "outputs": [],
     "prompt_number": null
    },
    {
     "cell_type": "code",
     "collapsed": true,
     "input": [],
     "language": "python",
     "metadata": {},
     "outputs": [],
     "prompt_number": null
    },
    {
     "cell_type": "code",
     "collapsed": true,
     "input": [],
     "language": "python",
     "metadata": {},
     "outputs": [],
     "prompt_number": null
    },
    {
     "cell_type": "code",
     "collapsed": true,
     "input": [],
     "language": "python",
     "metadata": {},
     "outputs": [],
     "prompt_number": null
    },
    {
     "cell_type": "code",
     "collapsed": true,
     "input": [],
     "language": "python",
     "metadata": {},
     "outputs": [],
     "prompt_number": null
    },
    {
     "cell_type": "code",
     "collapsed": true,
     "input": [
      "result = bst.predict(dres)"
     ],
     "language": "python",
     "metadata": {},
     "outputs": [],
     "prompt_number": null
    },
    {
     "cell_type": "code",
     "collapsed": false,
     "input": [
      "resDataFrame = pd.DataFrame()\n",
      "resDataFrame[\"Date\"] = data.Date[data.IsTest == True]\n",
      "resDataFrame.Date = resDataFrame.Date.apply(lambda x: pd.to_datetime(x))\n",
      "resDataFrame[\"Point\"] = data.Point[data.IsTest == True]\n",
      "resDataFrame.index = range(resDataFrame.shape[0])\n",
      "resDataFrame[\"Count\"] = pd.Series(result)"
     ],
     "language": "python",
     "metadata": {},
     "outputs": [],
     "prompt_number": 255
    },
    {
     "cell_type": "code",
     "collapsed": false,
     "input": [
      "resDataFrame.head()"
     ],
     "language": "python",
     "metadata": {
      "scrolled": true
     },
     "outputs": [
      {
       "html": [
        "<div>\n",
        "<table border=\"1\" class=\"dataframe\">\n",
        "  <thead>\n",
        "    <tr style=\"text-align: right;\">\n",
        "      <th></th>\n",
        "      <th>Date</th>\n",
        "      <th>Point</th>\n",
        "      <th>Count</th>\n",
        "    </tr>\n",
        "  </thead>\n",
        "  <tbody>\n",
        "    <tr>\n",
        "      <th>0</th>\n",
        "      <td>2011-12-14</td>\n",
        "      <td>\u0421\u044b\u043a\u0442\u044b\u0432\u043a\u0430\u0440-1</td>\n",
        "      <td>72.712013</td>\n",
        "    </tr>\n",
        "    <tr>\n",
        "      <th>1</th>\n",
        "      <td>2011-12-19</td>\n",
        "      <td>\u0421\u044b\u043a\u0442\u044b\u0432\u043a\u0430\u0440-1</td>\n",
        "      <td>77.765015</td>\n",
        "    </tr>\n",
        "    <tr>\n",
        "      <th>2</th>\n",
        "      <td>2011-12-26</td>\n",
        "      <td>\u0421\u044b\u043a\u0442\u044b\u0432\u043a\u0430\u0440-1</td>\n",
        "      <td>126.016167</td>\n",
        "    </tr>\n",
        "    <tr>\n",
        "      <th>3</th>\n",
        "      <td>2011-12-27</td>\n",
        "      <td>\u0421\u044b\u043a\u0442\u044b\u0432\u043a\u0430\u0440-1</td>\n",
        "      <td>127.293762</td>\n",
        "    </tr>\n",
        "    <tr>\n",
        "      <th>4</th>\n",
        "      <td>2012-01-12</td>\n",
        "      <td>\u0421\u044b\u043a\u0442\u044b\u0432\u043a\u0430\u0440-1</td>\n",
        "      <td>115.324005</td>\n",
        "    </tr>\n",
        "  </tbody>\n",
        "</table>\n",
        "</div>"
       ],
       "metadata": {},
       "output_type": "pyout",
       "prompt_number": 256,
       "text": [
        "        Date        Point       Count\n",
        "0 2011-12-14  \u0421\u044b\u043a\u0442\u044b\u0432\u043a\u0430\u0440-1   72.712013\n",
        "1 2011-12-19  \u0421\u044b\u043a\u0442\u044b\u0432\u043a\u0430\u0440-1   77.765015\n",
        "2 2011-12-26  \u0421\u044b\u043a\u0442\u044b\u0432\u043a\u0430\u0440-1  126.016167\n",
        "3 2011-12-27  \u0421\u044b\u043a\u0442\u044b\u0432\u043a\u0430\u0440-1  127.293762\n",
        "4 2012-01-12  \u0421\u044b\u043a\u0442\u044b\u0432\u043a\u0430\u0440-1  115.324005"
       ]
      }
     ],
     "prompt_number": 256
    },
    {
     "cell_type": "code",
     "collapsed": false,
     "input": [
      "resDataFrame.tail()"
     ],
     "language": "python",
     "metadata": {},
     "outputs": [
      {
       "html": [
        "<div>\n",
        "<table border=\"1\" class=\"dataframe\">\n",
        "  <thead>\n",
        "    <tr style=\"text-align: right;\">\n",
        "      <th></th>\n",
        "      <th>Date</th>\n",
        "      <th>Point</th>\n",
        "      <th>Count</th>\n",
        "    </tr>\n",
        "  </thead>\n",
        "  <tbody>\n",
        "    <tr>\n",
        "      <th>7332</th>\n",
        "      <td>2016-09-27</td>\n",
        "      <td>\u041d\u043e\u0432\u043e\u0430\u043b\u0442\u0430\u0439\u0441\u043a-1</td>\n",
        "      <td>15.382772</td>\n",
        "    </tr>\n",
        "    <tr>\n",
        "      <th>7333</th>\n",
        "      <td>2016-09-27</td>\n",
        "      <td>\u042d\u043d\u0433\u0435\u043b\u044c\u0441-1</td>\n",
        "      <td>45.560207</td>\n",
        "    </tr>\n",
        "    <tr>\n",
        "      <th>7334</th>\n",
        "      <td>2016-09-27</td>\n",
        "      <td>\u0417\u0435\u043b\u0435\u043d\u043e\u0433\u0440\u0430\u0434-1</td>\n",
        "      <td>134.546265</td>\n",
        "    </tr>\n",
        "    <tr>\n",
        "      <th>7335</th>\n",
        "      <td>2016-09-27</td>\n",
        "      <td>\u041b\u0435\u043d\u0438\u043d\u0441\u043a-\u041a\u0443\u0437\u043d\u0435\u0446\u043a\u0438\u0439-1</td>\n",
        "      <td>42.577305</td>\n",
        "    </tr>\n",
        "    <tr>\n",
        "      <th>7336</th>\n",
        "      <td>2016-09-27</td>\n",
        "      <td>\u0421\u0430\u043c\u0430\u0440\u0430-3</td>\n",
        "      <td>311.740906</td>\n",
        "    </tr>\n",
        "  </tbody>\n",
        "</table>\n",
        "</div>"
       ],
       "metadata": {},
       "output_type": "pyout",
       "prompt_number": 257,
       "text": [
        "           Date                Point       Count\n",
        "7332 2016-09-27        \u041d\u043e\u0432\u043e\u0430\u043b\u0442\u0430\u0439\u0441\u043a-1   15.382772\n",
        "7333 2016-09-27            \u042d\u043d\u0433\u0435\u043b\u044c\u0441-1   45.560207\n",
        "7334 2016-09-27         \u0417\u0435\u043b\u0435\u043d\u043e\u0433\u0440\u0430\u0434-1  134.546265\n",
        "7335 2016-09-27  \u041b\u0435\u043d\u0438\u043d\u0441\u043a-\u041a\u0443\u0437\u043d\u0435\u0446\u043a\u0438\u0439-1   42.577305\n",
        "7336 2016-09-27             \u0421\u0430\u043c\u0430\u0440\u0430-3  311.740906"
       ]
      }
     ],
     "prompt_number": 257
    },
    {
     "cell_type": "code",
     "collapsed": false,
     "input": [
      "resDataFrame.shape"
     ],
     "language": "python",
     "metadata": {},
     "outputs": [
      {
       "metadata": {},
       "output_type": "pyout",
       "prompt_number": 258,
       "text": [
        "(7337, 3)"
       ]
      }
     ],
     "prompt_number": 258
    },
    {
     "cell_type": "code",
     "collapsed": true,
     "input": [
      "originTest = pd.read_csv(\"data_original/test.csv\")"
     ],
     "language": "python",
     "metadata": {},
     "outputs": [],
     "prompt_number": 259
    },
    {
     "cell_type": "code",
     "collapsed": false,
     "input": [
      "originTest.Date = originTest.Date.apply(lambda x: pd.to_datetime(x, format='%d.%m.%Y'))"
     ],
     "language": "python",
     "metadata": {},
     "outputs": [],
     "prompt_number": 260
    },
    {
     "cell_type": "markdown",
     "metadata": {
      "collapsed": false
     },
     "source": [
      "originTest.head()"
     ]
    },
    {
     "cell_type": "code",
     "collapsed": false,
     "input": [
      "resDataFrame[(resDataFrame.Date == originTest.Date[0]) & (resDataFrame.Point == originTest.Point[0]) ]"
     ],
     "language": "python",
     "metadata": {},
     "outputs": [
      {
       "html": [
        "<div>\n",
        "<table border=\"1\" class=\"dataframe\">\n",
        "  <thead>\n",
        "    <tr style=\"text-align: right;\">\n",
        "      <th></th>\n",
        "      <th>Date</th>\n",
        "      <th>Point</th>\n",
        "      <th>Count</th>\n",
        "    </tr>\n",
        "  </thead>\n",
        "  <tbody>\n",
        "    <tr>\n",
        "      <th>6495</th>\n",
        "      <td>2016-07-08</td>\n",
        "      <td>\u0423\u043b\u044c\u044f\u043d\u043e\u0432\u0441\u043a-2</td>\n",
        "      <td>235.61293</td>\n",
        "    </tr>\n",
        "  </tbody>\n",
        "</table>\n",
        "</div>"
       ],
       "metadata": {},
       "output_type": "pyout",
       "prompt_number": 261,
       "text": [
        "           Date        Point      Count\n",
        "6495 2016-07-08  \u0423\u043b\u044c\u044f\u043d\u043e\u0432\u0441\u043a-2  235.61293"
       ]
      }
     ],
     "prompt_number": 261
    },
    {
     "cell_type": "code",
     "collapsed": false,
     "input": [
      "resNP = np.array([np.nan] * originTest.shape[0])\n",
      "for i in originTest.index:\n",
      "    resNP[i] = resDataFrame.Count[(resDataFrame.Date == originTest.Date[i]) &\n",
      "                                             (resDataFrame.Point == originTest.Point[i])]"
     ],
     "language": "python",
     "metadata": {
      "scrolled": true
     },
     "outputs": [],
     "prompt_number": 262
    },
    {
     "cell_type": "code",
     "collapsed": false,
     "input": [
      "resNP.shape"
     ],
     "language": "python",
     "metadata": {},
     "outputs": [
      {
       "metadata": {},
       "output_type": "pyout",
       "prompt_number": 263,
       "text": [
        "(7337,)"
       ]
      }
     ],
     "prompt_number": 263
    },
    {
     "cell_type": "code",
     "collapsed": false,
     "input": [
      "originTest.Count = pd.Series(resNP)"
     ],
     "language": "python",
     "metadata": {},
     "outputs": [],
     "prompt_number": 264
    },
    {
     "cell_type": "code",
     "collapsed": true,
     "input": [
      "originTest.Count = originTest.Count.apply(lambda x: 1 if x < 1 else x)"
     ],
     "language": "python",
     "metadata": {},
     "outputs": [],
     "prompt_number": 265
    },
    {
     "cell_type": "code",
     "collapsed": false,
     "input": [
      "originTest.Count = originTest.Count.apply(lambda x: round(x) if abs(x - round(x)) < 0.2 else x)"
     ],
     "language": "python",
     "metadata": {},
     "outputs": [],
     "prompt_number": 266
    },
    {
     "cell_type": "code",
     "collapsed": true,
     "input": [
      "originTest['Year'] = originTest.Date.apply(lambda x: x.year)\n",
      "originTest['Month'] = originTest.Date.apply(lambda x: x.month)\n",
      "originTest['MonthDay'] = originTest.Date.apply(lambda x: x.day)"
     ],
     "language": "python",
     "metadata": {},
     "outputs": [],
     "prompt_number": 267
    },
    {
     "cell_type": "code",
     "collapsed": false,
     "input": [
      "OriginalDate = []\n",
      "k = 9\n",
      "for i in range(originTest.shape[0]):\n",
      "    daystr = str(originTest.MonthDay[i]) if originTest.MonthDay[i] >= 10 else  \"0\" + str(originTest.MonthDay[i])\n",
      "    monthstr = str(originTest.Month[i]) if originTest.Month[i] >= 10 else  \"0\" + str(originTest.Month[i])\n",
      "    OriginalDate.append(daystr + \".\" + monthstr + \".\" +  str(originTest.Year[i]))"
     ],
     "language": "python",
     "metadata": {},
     "outputs": [],
     "prompt_number": 268
    },
    {
     "cell_type": "code",
     "collapsed": false,
     "input": [],
     "language": "python",
     "metadata": {},
     "outputs": [],
     "prompt_number": null
    },
    {
     "cell_type": "code",
     "collapsed": true,
     "input": [],
     "language": "python",
     "metadata": {},
     "outputs": [],
     "prompt_number": null
    },
    {
     "cell_type": "code",
     "collapsed": true,
     "input": [
      "originTest[\"OriginalDate\"] = pd.Series(OriginalDate)"
     ],
     "language": "python",
     "metadata": {},
     "outputs": [],
     "prompt_number": 269
    },
    {
     "cell_type": "code",
     "collapsed": false,
     "input": [
      "originTest.head()"
     ],
     "language": "python",
     "metadata": {
      "scrolled": true
     },
     "outputs": [
      {
       "html": [
        "<div>\n",
        "<table border=\"1\" class=\"dataframe\">\n",
        "  <thead>\n",
        "    <tr style=\"text-align: right;\">\n",
        "      <th></th>\n",
        "      <th>Date</th>\n",
        "      <th>Point</th>\n",
        "      <th>Count</th>\n",
        "      <th>Year</th>\n",
        "      <th>Month</th>\n",
        "      <th>MonthDay</th>\n",
        "      <th>OriginalDate</th>\n",
        "    </tr>\n",
        "  </thead>\n",
        "  <tbody>\n",
        "    <tr>\n",
        "      <th>0</th>\n",
        "      <td>2016-07-08</td>\n",
        "      <td>\u0423\u043b\u044c\u044f\u043d\u043e\u0432\u0441\u043a-2</td>\n",
        "      <td>235.612930</td>\n",
        "      <td>2016</td>\n",
        "      <td>7</td>\n",
        "      <td>8</td>\n",
        "      <td>08.07.2016</td>\n",
        "    </tr>\n",
        "    <tr>\n",
        "      <th>1</th>\n",
        "      <td>2016-07-25</td>\n",
        "      <td>\u0411\u0430\u043b\u0430\u0448\u0438\u0445\u0430-1</td>\n",
        "      <td>94.007462</td>\n",
        "      <td>2016</td>\n",
        "      <td>7</td>\n",
        "      <td>25</td>\n",
        "      <td>25.07.2016</td>\n",
        "    </tr>\n",
        "    <tr>\n",
        "      <th>2</th>\n",
        "      <td>2014-11-09</td>\n",
        "      <td>\u0423\u0445\u0442\u0430-1</td>\n",
        "      <td>233.761780</td>\n",
        "      <td>2014</td>\n",
        "      <td>11</td>\n",
        "      <td>9</td>\n",
        "      <td>09.11.2014</td>\n",
        "    </tr>\n",
        "    <tr>\n",
        "      <th>3</th>\n",
        "      <td>2015-11-12</td>\n",
        "      <td>\u0410\u043b\u044c\u043c\u0435\u0442\u044c\u0435\u0432\u0441\u043a-1</td>\n",
        "      <td>61.068512</td>\n",
        "      <td>2015</td>\n",
        "      <td>11</td>\n",
        "      <td>12</td>\n",
        "      <td>12.11.2015</td>\n",
        "    </tr>\n",
        "    <tr>\n",
        "      <th>4</th>\n",
        "      <td>2014-07-17</td>\n",
        "      <td>\u0423\u0445\u0442\u0430-1</td>\n",
        "      <td>145.457733</td>\n",
        "      <td>2014</td>\n",
        "      <td>7</td>\n",
        "      <td>17</td>\n",
        "      <td>17.07.2014</td>\n",
        "    </tr>\n",
        "  </tbody>\n",
        "</table>\n",
        "</div>"
       ],
       "metadata": {},
       "output_type": "pyout",
       "prompt_number": 270,
       "text": [
        "        Date          Point       Count  Year  Month  MonthDay OriginalDate\n",
        "0 2016-07-08    \u0423\u043b\u044c\u044f\u043d\u043e\u0432\u0441\u043a-2  235.612930  2016      7         8   08.07.2016\n",
        "1 2016-07-25     \u0411\u0430\u043b\u0430\u0448\u0438\u0445\u0430-1   94.007462  2016      7        25   25.07.2016\n",
        "2 2014-11-09         \u0423\u0445\u0442\u0430-1  233.761780  2014     11         9   09.11.2014\n",
        "3 2015-11-12  \u0410\u043b\u044c\u043c\u0435\u0442\u044c\u0435\u0432\u0441\u043a-1   61.068512  2015     11        12   12.11.2015\n",
        "4 2014-07-17         \u0423\u0445\u0442\u0430-1  145.457733  2014      7        17   17.07.2014"
       ]
      }
     ],
     "prompt_number": 270
    },
    {
     "cell_type": "code",
     "collapsed": false,
     "input": [],
     "language": "python",
     "metadata": {},
     "outputs": [],
     "prompt_number": null
    },
    {
     "cell_type": "code",
     "collapsed": false,
     "input": [
      "originTest.tail()"
     ],
     "language": "python",
     "metadata": {},
     "outputs": [
      {
       "html": [
        "<div>\n",
        "<table border=\"1\" class=\"dataframe\">\n",
        "  <thead>\n",
        "    <tr style=\"text-align: right;\">\n",
        "      <th></th>\n",
        "      <th>Date</th>\n",
        "      <th>Point</th>\n",
        "      <th>Count</th>\n",
        "      <th>Year</th>\n",
        "      <th>Month</th>\n",
        "      <th>MonthDay</th>\n",
        "      <th>OriginalDate</th>\n",
        "    </tr>\n",
        "  </thead>\n",
        "  <tbody>\n",
        "    <tr>\n",
        "      <th>7332</th>\n",
        "      <td>2015-05-27</td>\n",
        "      <td>\u0411\u0435\u043b\u0433\u043e\u0440\u043e\u0434-1</td>\n",
        "      <td>70.455986</td>\n",
        "      <td>2015</td>\n",
        "      <td>5</td>\n",
        "      <td>27</td>\n",
        "      <td>27.05.2015</td>\n",
        "    </tr>\n",
        "    <tr>\n",
        "      <th>7333</th>\n",
        "      <td>2015-01-31</td>\n",
        "      <td>\u0421\u0430\u043c\u0430\u0440\u0430-3</td>\n",
        "      <td>203.843674</td>\n",
        "      <td>2015</td>\n",
        "      <td>1</td>\n",
        "      <td>31</td>\n",
        "      <td>31.01.2015</td>\n",
        "    </tr>\n",
        "    <tr>\n",
        "      <th>7334</th>\n",
        "      <td>2015-11-12</td>\n",
        "      <td>\u0412\u043e\u043b\u043e\u0433\u0434\u0430-1</td>\n",
        "      <td>37.281940</td>\n",
        "      <td>2015</td>\n",
        "      <td>11</td>\n",
        "      <td>12</td>\n",
        "      <td>12.11.2015</td>\n",
        "    </tr>\n",
        "    <tr>\n",
        "      <th>7335</th>\n",
        "      <td>2016-05-07</td>\n",
        "      <td>\u0414\u043e\u043c\u043e\u0434\u0435\u0434\u043e\u0432\u043e-1</td>\n",
        "      <td>103.901634</td>\n",
        "      <td>2016</td>\n",
        "      <td>5</td>\n",
        "      <td>7</td>\n",
        "      <td>07.05.2016</td>\n",
        "    </tr>\n",
        "    <tr>\n",
        "      <th>7336</th>\n",
        "      <td>2015-04-18</td>\n",
        "      <td>\u041c\u0430\u0445\u0430\u0447\u043a\u0430\u043b\u0430-1</td>\n",
        "      <td>104.617760</td>\n",
        "      <td>2015</td>\n",
        "      <td>4</td>\n",
        "      <td>18</td>\n",
        "      <td>18.04.2015</td>\n",
        "    </tr>\n",
        "  </tbody>\n",
        "</table>\n",
        "</div>"
       ],
       "metadata": {},
       "output_type": "pyout",
       "prompt_number": 271,
       "text": [
        "           Date         Point       Count  Year  Month  MonthDay OriginalDate\n",
        "7332 2015-05-27    \u0411\u0435\u043b\u0433\u043e\u0440\u043e\u0434-1   70.455986  2015      5        27   27.05.2015\n",
        "7333 2015-01-31      \u0421\u0430\u043c\u0430\u0440\u0430-3  203.843674  2015      1        31   31.01.2015\n",
        "7334 2015-11-12     \u0412\u043e\u043b\u043e\u0433\u0434\u0430-1   37.281940  2015     11        12   12.11.2015\n",
        "7335 2016-05-07  \u0414\u043e\u043c\u043e\u0434\u0435\u0434\u043e\u0432\u043e-1  103.901634  2016      5         7   07.05.2016\n",
        "7336 2015-04-18   \u041c\u0430\u0445\u0430\u0447\u043a\u0430\u043b\u0430-1  104.617760  2015      4        18   18.04.2015"
       ]
      }
     ],
     "prompt_number": 271
    },
    {
     "cell_type": "code",
     "collapsed": false,
     "input": [
      "originTest = originTest[[\"OriginalDate\", \"Point\", \"Count\"]]"
     ],
     "language": "python",
     "metadata": {},
     "outputs": [],
     "prompt_number": 272
    },
    {
     "cell_type": "code",
     "collapsed": false,
     "input": [
      "originTest.head()"
     ],
     "language": "python",
     "metadata": {},
     "outputs": [
      {
       "html": [
        "<div>\n",
        "<table border=\"1\" class=\"dataframe\">\n",
        "  <thead>\n",
        "    <tr style=\"text-align: right;\">\n",
        "      <th></th>\n",
        "      <th>OriginalDate</th>\n",
        "      <th>Point</th>\n",
        "      <th>Count</th>\n",
        "    </tr>\n",
        "  </thead>\n",
        "  <tbody>\n",
        "    <tr>\n",
        "      <th>0</th>\n",
        "      <td>08.07.2016</td>\n",
        "      <td>\u0423\u043b\u044c\u044f\u043d\u043e\u0432\u0441\u043a-2</td>\n",
        "      <td>235.612930</td>\n",
        "    </tr>\n",
        "    <tr>\n",
        "      <th>1</th>\n",
        "      <td>25.07.2016</td>\n",
        "      <td>\u0411\u0430\u043b\u0430\u0448\u0438\u0445\u0430-1</td>\n",
        "      <td>94.007462</td>\n",
        "    </tr>\n",
        "    <tr>\n",
        "      <th>2</th>\n",
        "      <td>09.11.2014</td>\n",
        "      <td>\u0423\u0445\u0442\u0430-1</td>\n",
        "      <td>233.761780</td>\n",
        "    </tr>\n",
        "    <tr>\n",
        "      <th>3</th>\n",
        "      <td>12.11.2015</td>\n",
        "      <td>\u0410\u043b\u044c\u043c\u0435\u0442\u044c\u0435\u0432\u0441\u043a-1</td>\n",
        "      <td>61.068512</td>\n",
        "    </tr>\n",
        "    <tr>\n",
        "      <th>4</th>\n",
        "      <td>17.07.2014</td>\n",
        "      <td>\u0423\u0445\u0442\u0430-1</td>\n",
        "      <td>145.457733</td>\n",
        "    </tr>\n",
        "  </tbody>\n",
        "</table>\n",
        "</div>"
       ],
       "metadata": {},
       "output_type": "pyout",
       "prompt_number": 273,
       "text": [
        "  OriginalDate          Point       Count\n",
        "0   08.07.2016    \u0423\u043b\u044c\u044f\u043d\u043e\u0432\u0441\u043a-2  235.612930\n",
        "1   25.07.2016     \u0411\u0430\u043b\u0430\u0448\u0438\u0445\u0430-1   94.007462\n",
        "2   09.11.2014         \u0423\u0445\u0442\u0430-1  233.761780\n",
        "3   12.11.2015  \u0410\u043b\u044c\u043c\u0435\u0442\u044c\u0435\u0432\u0441\u043a-1   61.068512\n",
        "4   17.07.2014         \u0423\u0445\u0442\u0430-1  145.457733"
       ]
      }
     ],
     "prompt_number": 273
    },
    {
     "cell_type": "code",
     "collapsed": false,
     "input": [
      "originTest.to_csv('submission.csv', index=None, header=None)"
     ],
     "language": "python",
     "metadata": {},
     "outputs": [],
     "prompt_number": 274
    },
    {
     "cell_type": "code",
     "collapsed": false,
     "input": [
      "pd.isnull(originTest).sum() > 0"
     ],
     "language": "python",
     "metadata": {},
     "outputs": [
      {
       "metadata": {},
       "output_type": "pyout",
       "prompt_number": 275,
       "text": [
        "OriginalDate    False\n",
        "Point           False\n",
        "Count           False\n",
        "dtype: bool"
       ]
      }
     ],
     "prompt_number": 275
    },
    {
     "cell_type": "code",
     "collapsed": true,
     "input": [],
     "language": "python",
     "metadata": {},
     "outputs": [],
     "prompt_number": null
    },
    {
     "cell_type": "code",
     "collapsed": true,
     "input": [],
     "language": "python",
     "metadata": {},
     "outputs": [],
     "prompt_number": null
    }
   ],
   "metadata": {}
  }
 ]
}