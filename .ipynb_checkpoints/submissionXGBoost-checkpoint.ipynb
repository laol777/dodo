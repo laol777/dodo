{
 "cells": [
  {
   "cell_type": "code",
   "execution_count": 54,
   "metadata": {
    "collapsed": false
   },
   "outputs": [],
   "source": [
    "import pandas as pd\n",
    "import numpy as np\n",
    "from sklearn.metrics import mean_absolute_error as mae\n",
    "from sklearn.ensemble import GradientBoostingRegressor\n",
    "from sklearn.ensemble import RandomForestRegressor\n",
    "import xgboost as xgb\n",
    "\n",
    "features = pd.read_csv('data_transform/all.csv')\n",
    "\n",
    "data = features.fillna(100000000)\n",
    "\n",
    "remove_column = ['IsTest', 'IsTrain', 'IsValidation', 'Date', 'Point', 'CityName'\n",
    "                ,u'MeanForMonthDayByPoints', u'MeanForThroughMonthByPoints'\n",
    "                ,u'MeanForThroughWeekByPoints'\n",
    "                ,u'MeanForYearByPoints', u'MeanForYearDayByPoints'\n",
    "                ,'MeanForYearDay', 'MeanForThroughWeek', u'Prev2Day', u'Prev3Day'\n",
    "                ,u'Next2Day', u'Next3Day'\n",
    "                 ]\n",
    "\n",
    "#? u'MeanForWeekDayByPoints',\n",
    "\n",
    "#'YearDay', 'MeanForYear', 'PrevExisting1Value', 'NextExisting1Value', 'MeanForMonthByPoints'\n",
    "\n",
    "\n",
    "\n",
    "dataTrain = data[data.IsTrain == 1]\n",
    "dataTrain = dataTrain[dataTrain.columns.difference(remove_column)]\n",
    "\n",
    "X_train = dataTrain[dataTrain.columns.difference(['Count'])]\n",
    "y_train = dataTrain[['Count']]\n",
    "\n",
    "dataValidation =  data[data.IsValidation == 1]\n",
    "dataValidation = dataValidation[dataValidation.columns.difference(remove_column)]\n",
    "\n",
    "X_test = dataValidation[dataValidation.columns.difference(['Count'])]\n",
    "y_test = dataValidation[['Count']]\n",
    "\n",
    "dataResult =  data[data.IsTest == 1]\n",
    "dataResult = dataResult[dataResult.columns.difference(remove_column)]\n",
    "\n",
    "X_res = dataResult[dataResult.columns.difference(['Count'])]"
   ]
  },
  {
   "cell_type": "code",
   "execution_count": 55,
   "metadata": {
    "collapsed": false
   },
   "outputs": [
    {
     "data": {
      "text/plain": [
       "(38310, 33)"
      ]
     },
     "execution_count": 55,
     "metadata": {},
     "output_type": "execute_result"
    }
   ],
   "source": [
    "X_train.shape"
   ]
  },
  {
   "cell_type": "code",
   "execution_count": null,
   "metadata": {
    "collapsed": false
   },
   "outputs": [],
   "source": []
  },
  {
   "cell_type": "code",
   "execution_count": null,
   "metadata": {
    "collapsed": false
   },
   "outputs": [],
   "source": []
  },
  {
   "cell_type": "code",
   "execution_count": 61,
   "metadata": {
    "collapsed": false,
    "scrolled": true
   },
   "outputs": [
    {
     "name": "stdout",
     "output_type": "stream",
     "text": [
      "[0]\teval-mae:105.081\ttrain-mae:104.304\n",
      "[50]\teval-mae:102.526\ttrain-mae:101.738\n",
      "[100]\teval-mae:96.8855\ttrain-mae:96.069\n",
      "[150]\teval-mae:86.4806\ttrain-mae:85.6287\n",
      "[200]\teval-mae:71.3808\ttrain-mae:70.5001\n",
      "[250]\teval-mae:54.4226\ttrain-mae:53.5332\n",
      "[300]\teval-mae:39.3905\ttrain-mae:38.4923\n",
      "[350]\teval-mae:28.5792\ttrain-mae:27.6446\n",
      "[400]\teval-mae:22.2522\ttrain-mae:21.114\n",
      "[450]\teval-mae:19.2211\ttrain-mae:17.7782\n",
      "[500]\teval-mae:17.9328\ttrain-mae:16.2221\n",
      "[550]\teval-mae:17.4234\ttrain-mae:15.498\n",
      "[600]\teval-mae:17.2113\ttrain-mae:15.1242\n",
      "[650]\teval-mae:17.0945\ttrain-mae:14.8722\n",
      "[700]\teval-mae:17.0234\ttrain-mae:14.6984\n",
      "[750]\teval-mae:16.9967\ttrain-mae:14.5614\n",
      "[800]\teval-mae:16.9532\ttrain-mae:14.4319\n",
      "[850]\teval-mae:16.9003\ttrain-mae:14.3157\n",
      "[900]\teval-mae:16.8501\ttrain-mae:14.2127\n",
      "[950]\teval-mae:16.7979\ttrain-mae:14.1153\n",
      "[1000]\teval-mae:16.7504\ttrain-mae:14.0308\n",
      "[1050]\teval-mae:16.7008\ttrain-mae:13.944\n",
      "[1100]\teval-mae:16.6528\ttrain-mae:13.8589\n",
      "[1150]\teval-mae:16.6108\ttrain-mae:13.7791\n",
      "[1200]\teval-mae:16.5831\ttrain-mae:13.7046\n",
      "[1250]\teval-mae:16.5594\ttrain-mae:13.6378\n",
      "[1300]\teval-mae:16.5388\ttrain-mae:13.5662\n",
      "[1350]\teval-mae:16.5127\ttrain-mae:13.5049\n",
      "[1400]\teval-mae:16.499\ttrain-mae:13.4476\n",
      "[1450]\teval-mae:16.4873\ttrain-mae:13.389\n",
      "[1500]\teval-mae:16.4707\ttrain-mae:13.3284\n",
      "[1550]\teval-mae:16.4594\ttrain-mae:13.2692\n",
      "[1600]\teval-mae:16.4507\ttrain-mae:13.215\n",
      "[1650]\teval-mae:16.4383\ttrain-mae:13.1565\n",
      "[1700]\teval-mae:16.4225\ttrain-mae:13.1023\n",
      "[1750]\teval-mae:16.4136\ttrain-mae:13.0502\n",
      "[1800]\teval-mae:16.4045\ttrain-mae:12.9996\n",
      "[1850]\teval-mae:16.3973\ttrain-mae:12.9536\n",
      "[1900]\teval-mae:16.3836\ttrain-mae:12.903\n",
      "[1950]\teval-mae:16.3726\ttrain-mae:12.8556\n",
      "[2000]\teval-mae:16.3628\ttrain-mae:12.8083\n",
      "[2050]\teval-mae:16.3604\ttrain-mae:12.7653\n",
      "[2100]\teval-mae:16.3532\ttrain-mae:12.7218\n",
      "[2150]\teval-mae:16.3489\ttrain-mae:12.6787\n",
      "[2200]\teval-mae:16.3243\ttrain-mae:12.6335\n",
      "[2250]\teval-mae:16.3193\ttrain-mae:12.5883\n",
      "[2300]\teval-mae:16.31\ttrain-mae:12.5423\n",
      "[2350]\teval-mae:16.307\ttrain-mae:12.4995\n",
      "[2400]\teval-mae:16.3025\ttrain-mae:12.4559\n",
      "[2450]\teval-mae:16.2958\ttrain-mae:12.413\n",
      "[2500]\teval-mae:16.2875\ttrain-mae:12.3683\n",
      "[2550]\teval-mae:16.2805\ttrain-mae:12.3264\n",
      "[2600]\teval-mae:16.2772\ttrain-mae:12.2849\n",
      "[2650]\teval-mae:16.2693\ttrain-mae:12.2391\n",
      "[2700]\teval-mae:16.2661\ttrain-mae:12.1977\n",
      "[2750]\teval-mae:16.2606\ttrain-mae:12.1563\n",
      "[2800]\teval-mae:16.2586\ttrain-mae:12.1225\n",
      "[2850]\teval-mae:16.2538\ttrain-mae:12.0822\n",
      "[2900]\teval-mae:16.251\ttrain-mae:12.0424\n",
      "[2950]\teval-mae:16.2506\ttrain-mae:12.0029\n",
      "[3000]\teval-mae:16.2477\ttrain-mae:11.967\n",
      "[3050]\teval-mae:16.2411\ttrain-mae:11.9296\n",
      "[3100]\teval-mae:16.236\ttrain-mae:11.8901\n",
      "[3150]\teval-mae:16.237\ttrain-mae:11.8516\n",
      "[3200]\teval-mae:16.2337\ttrain-mae:11.8113\n",
      "[3250]\teval-mae:16.23\ttrain-mae:11.781\n",
      "[3300]\teval-mae:16.2268\ttrain-mae:11.7444\n",
      "[3350]\teval-mae:16.2259\ttrain-mae:11.7049\n",
      "[3400]\teval-mae:16.2239\ttrain-mae:11.6715\n",
      "[3450]\teval-mae:16.2221\ttrain-mae:11.6387\n",
      "[3500]\teval-mae:16.2195\ttrain-mae:11.6019\n",
      "[3550]\teval-mae:16.2149\ttrain-mae:11.5637\n",
      "[3600]\teval-mae:16.2118\ttrain-mae:11.5257\n",
      "[3650]\teval-mae:16.2099\ttrain-mae:11.4907\n",
      "[3700]\teval-mae:16.2062\ttrain-mae:11.453\n",
      "[3750]\teval-mae:16.2043\ttrain-mae:11.4197\n",
      "[3800]\teval-mae:16.201\ttrain-mae:11.3856\n",
      "[3850]\teval-mae:16.1979\ttrain-mae:11.351\n",
      "[3900]\teval-mae:16.1978\ttrain-mae:11.3187\n",
      "[3950]\teval-mae:16.1945\ttrain-mae:11.2848\n",
      "[4000]\teval-mae:16.1909\ttrain-mae:11.2476\n",
      "[4050]\teval-mae:16.1889\ttrain-mae:11.2153\n",
      "[4100]\teval-mae:16.1862\ttrain-mae:11.1808\n",
      "[4150]\teval-mae:16.1827\ttrain-mae:11.144\n",
      "[4200]\teval-mae:16.1801\ttrain-mae:11.1122\n",
      "[4250]\teval-mae:16.1783\ttrain-mae:11.0794\n",
      "[4300]\teval-mae:16.1763\ttrain-mae:11.0474\n",
      "[4350]\teval-mae:16.173\ttrain-mae:11.0098\n",
      "[4400]\teval-mae:16.1703\ttrain-mae:10.977\n",
      "[4450]\teval-mae:16.1694\ttrain-mae:10.9419\n",
      "[4500]\teval-mae:16.1672\ttrain-mae:10.909\n",
      "[4550]\teval-mae:16.1663\ttrain-mae:10.8742\n",
      "[4600]\teval-mae:16.1658\ttrain-mae:10.8419\n",
      "[4650]\teval-mae:16.1635\ttrain-mae:10.8104\n",
      "[4700]\teval-mae:16.1622\ttrain-mae:10.7778\n",
      "[4750]\teval-mae:16.1617\ttrain-mae:10.7479\n",
      "[4800]\teval-mae:16.1618\ttrain-mae:10.7146\n",
      "[4850]\teval-mae:16.1594\ttrain-mae:10.6792\n",
      "[4900]\teval-mae:16.1581\ttrain-mae:10.646\n",
      "[4950]\teval-mae:16.156\ttrain-mae:10.6116\n",
      "[5000]\teval-mae:16.1534\ttrain-mae:10.5802\n",
      "[5050]\teval-mae:16.1536\ttrain-mae:10.5485\n",
      "[5100]\teval-mae:16.1525\ttrain-mae:10.5193\n",
      "[5150]\teval-mae:16.1501\ttrain-mae:10.4847\n",
      "[5200]\teval-mae:16.1496\ttrain-mae:10.4523\n",
      "[5250]\teval-mae:16.1488\ttrain-mae:10.422\n",
      "[5300]\teval-mae:16.1486\ttrain-mae:10.3908\n",
      "[5350]\teval-mae:16.1508\ttrain-mae:10.3573\n",
      "[5400]\teval-mae:16.1518\ttrain-mae:10.3302\n",
      "[5450]\teval-mae:16.1502\ttrain-mae:10.2999\n",
      "[5500]\teval-mae:16.1488\ttrain-mae:10.2676\n",
      "[5550]\teval-mae:16.147\ttrain-mae:10.2366\n",
      "[5600]\teval-mae:16.1477\ttrain-mae:10.2027\n",
      "[5650]\teval-mae:16.1456\ttrain-mae:10.1712\n",
      "[5700]\teval-mae:16.1446\ttrain-mae:10.1437\n",
      "[5750]\teval-mae:16.1423\ttrain-mae:10.1128\n",
      "[5800]\teval-mae:16.1401\ttrain-mae:10.0834\n",
      "[5850]\teval-mae:16.1385\ttrain-mae:10.0527\n",
      "[5900]\teval-mae:16.1377\ttrain-mae:10.0223\n",
      "[5950]\teval-mae:16.1392\ttrain-mae:9.99119\n",
      "[6000]\teval-mae:16.1382\ttrain-mae:9.96316\n",
      "[6050]\teval-mae:16.1367\ttrain-mae:9.93572\n",
      "[6100]\teval-mae:16.1391\ttrain-mae:9.90728\n",
      "[6150]\teval-mae:16.1389\ttrain-mae:9.87623\n",
      "[6200]\teval-mae:16.1391\ttrain-mae:9.84917\n",
      "[6250]\teval-mae:16.1374\ttrain-mae:9.81763\n",
      "[6300]\teval-mae:16.1386\ttrain-mae:9.78861\n",
      "[6350]\teval-mae:16.1385\ttrain-mae:9.76089\n",
      "[6400]\teval-mae:16.1377\ttrain-mae:9.72978\n",
      "[6450]\teval-mae:16.1378\ttrain-mae:9.70395\n",
      "[6500]\teval-mae:16.1374\ttrain-mae:9.67581\n",
      "[6550]\teval-mae:16.136\ttrain-mae:9.64713\n",
      "[6600]\teval-mae:16.1349\ttrain-mae:9.62016\n",
      "[6650]\teval-mae:16.1341\ttrain-mae:9.59278\n",
      "[6700]\teval-mae:16.1342\ttrain-mae:9.56645\n",
      "[6750]\teval-mae:16.1334\ttrain-mae:9.53824\n",
      "[6800]\teval-mae:16.1294\ttrain-mae:9.50952\n",
      "[6850]\teval-mae:16.1287\ttrain-mae:9.48084\n",
      "[6900]\teval-mae:16.1282\ttrain-mae:9.45162\n",
      "[6950]\teval-mae:16.1288\ttrain-mae:9.42614\n",
      "[7000]\teval-mae:16.13\ttrain-mae:9.39838\n",
      "[7050]\teval-mae:16.1307\ttrain-mae:9.36994\n",
      "[7100]\teval-mae:16.1322\ttrain-mae:9.34067\n",
      "[7150]\teval-mae:16.1312\ttrain-mae:9.31412\n",
      "[7200]\teval-mae:16.132\ttrain-mae:9.2887\n",
      "[7250]\teval-mae:16.1306\ttrain-mae:9.26168\n",
      "[7300]\teval-mae:16.1299\ttrain-mae:9.23572\n",
      "[7350]\teval-mae:16.1301\ttrain-mae:9.21067\n",
      "[7400]\teval-mae:16.1305\ttrain-mae:9.18595\n",
      "[7450]\teval-mae:16.1309\ttrain-mae:9.16059\n",
      "[7500]\teval-mae:16.1313\ttrain-mae:9.13455\n",
      "[7550]\teval-mae:16.1319\ttrain-mae:9.11123\n",
      "[7600]\teval-mae:16.1326\ttrain-mae:9.08571\n",
      "[7650]\teval-mae:16.1309\ttrain-mae:9.06287\n",
      "[7700]\teval-mae:16.1317\ttrain-mae:9.03593\n",
      "[7750]\teval-mae:16.1323\ttrain-mae:9.00989\n",
      "[7800]\teval-mae:16.1327\ttrain-mae:8.98385\n",
      "[7850]\teval-mae:16.1332\ttrain-mae:8.9576\n",
      "[7900]\teval-mae:16.1327\ttrain-mae:8.9334\n",
      "[7950]\teval-mae:16.1328\ttrain-mae:8.90649\n",
      "[8000]\teval-mae:16.1329\ttrain-mae:8.88094\n",
      "[8050]\teval-mae:16.1319\ttrain-mae:8.85619\n",
      "[8100]\teval-mae:16.1305\ttrain-mae:8.83136\n",
      "[8150]\teval-mae:16.1307\ttrain-mae:8.80578\n",
      "[8200]\teval-mae:16.1299\ttrain-mae:8.78183\n",
      "[8250]\teval-mae:16.1295\ttrain-mae:8.75548\n",
      "[8300]\teval-mae:16.1289\ttrain-mae:8.72944\n",
      "[8350]\teval-mae:16.1303\ttrain-mae:8.70399\n",
      "[8400]\teval-mae:16.1302\ttrain-mae:8.67647\n",
      "[8450]\teval-mae:16.1302\ttrain-mae:8.65202\n",
      "[8500]\teval-mae:16.1291\ttrain-mae:8.62889\n",
      "[8550]\teval-mae:16.1284\ttrain-mae:8.60429\n",
      "[8600]\teval-mae:16.1287\ttrain-mae:8.58125\n",
      "[8650]\teval-mae:16.1288\ttrain-mae:8.55762\n",
      "[8700]\teval-mae:16.1275\ttrain-mae:8.53464\n"
     ]
    }
   ],
   "source": [
    "dtrain = xgb.DMatrix( X_train, label=y_train)\n",
    "dtest = xgb.DMatrix( X_test, label=y_test)\n",
    "dres = xgb.DMatrix( X_res )\n",
    "evallist  = [(dtest,'eval'), (dtrain,'train')]\n",
    "\n",
    "param = {'max_depth': 6,\n",
    " \t\t'silent': 1,\n",
    " \t\t'eta': 0.01,\n",
    " \t\t'eval_metric': 'mae',\n",
    "         'subsample' : 0.9,\n",
    "         'colsample_bytree':0.5,\n",
    "         'tree_method':'exact'\n",
    "         #,'rate_drop':0.01\n",
    "         ,'objective':'reg:tweedie'\n",
    " }\n",
    "\n",
    "num_round = 8740\n",
    "\n",
    "bst = xgb.train( param, dtrain, num_round, evallist, verbose_eval=50 )"
   ]
  },
  {
   "cell_type": "code",
   "execution_count": null,
   "metadata": {
    "collapsed": false
   },
   "outputs": [],
   "source": []
  },
  {
   "cell_type": "code",
   "execution_count": 62,
   "metadata": {
    "collapsed": false,
    "scrolled": false
   },
   "outputs": [
    {
     "data": {
      "text/plain": [
       "{'MeanForMonth': 14169,\n",
       " 'MeanForMonthByPoints': 25693,\n",
       " 'MeanForMonthDay': 18606,\n",
       " 'MeanForThroughMonth': 10494,\n",
       " 'MeanForWeekDay': 9690,\n",
       " 'MeanForWeekDayByPoints': 27711,\n",
       " 'MeanForYear': 2207,\n",
       " 'Month': 5139,\n",
       " 'MonthDay': 13490,\n",
       " 'Next1Day': 16442,\n",
       " 'Next7Day': 16953,\n",
       " 'NextExisting14Value': 21702,\n",
       " 'NextExisting1Value': 9470,\n",
       " 'NextExisting21Value': 19798,\n",
       " 'NextExisting2Value': 17313,\n",
       " 'NextExisting30Value': 18367,\n",
       " 'NextExisting3Value': 17927,\n",
       " 'NextExisting7Value': 18655,\n",
       " 'Prev1Day': 14096,\n",
       " 'Prev7Day': 14860,\n",
       " 'PrevExisting14Value': 20197,\n",
       " 'PrevExisting1Value': 8962,\n",
       " 'PrevExisting21Value': 19124,\n",
       " 'PrevExisting2Value': 15671,\n",
       " 'PrevExisting30Value': 18334,\n",
       " 'PrevExisting3Value': 16639,\n",
       " 'PrevExisting7Value': 17785,\n",
       " 'ThroughDay': 15903,\n",
       " 'ThroughMonth': 3092,\n",
       " 'ThroughWeek': 4695,\n",
       " 'WeekDay': 5811,\n",
       " 'Year': 193,\n",
       " 'YearDay': 16150}"
      ]
     },
     "execution_count": 62,
     "metadata": {},
     "output_type": "execute_result"
    }
   ],
   "source": [
    "bst.get_fscore()"
   ]
  },
  {
   "cell_type": "code",
   "execution_count": 63,
   "metadata": {
    "collapsed": false
   },
   "outputs": [
    {
     "data": {
      "text/plain": [
       "Index([u'MeanForMonth', u'MeanForMonthByPoints', u'MeanForMonthDay',\n",
       "       u'MeanForThroughMonth', u'MeanForWeekDay', u'MeanForWeekDayByPoints',\n",
       "       u'MeanForYear', u'Month', u'MonthDay', u'Next1Day', u'Next7Day',\n",
       "       u'NextExisting14Value', u'NextExisting1Value', u'NextExisting21Value',\n",
       "       u'NextExisting2Value', u'NextExisting30Value', u'NextExisting3Value',\n",
       "       u'NextExisting7Value', u'Prev1Day', u'Prev7Day', u'PrevExisting14Value',\n",
       "       u'PrevExisting1Value', u'PrevExisting21Value', u'PrevExisting2Value',\n",
       "       u'PrevExisting30Value', u'PrevExisting3Value', u'PrevExisting7Value',\n",
       "       u'ThroughDay', u'ThroughMonth', u'ThroughWeek', u'WeekDay', u'Year',\n",
       "       u'YearDay'],\n",
       "      dtype='object')"
      ]
     },
     "execution_count": 63,
     "metadata": {},
     "output_type": "execute_result"
    }
   ],
   "source": [
    "X_train.columns"
   ]
  },
  {
   "cell_type": "code",
   "execution_count": 64,
   "metadata": {
    "collapsed": false
   },
   "outputs": [
    {
     "data": {
      "text/plain": [
       "Index([u'MeanForMonth', u'MeanForMonthByPoints', u'MeanForMonthDay',\n",
       "       u'MeanForThroughMonth', u'MeanForWeekDay', u'MeanForWeekDayByPoints',\n",
       "       u'MeanForYear', u'Month', u'MonthDay', u'Next1Day', u'Next7Day',\n",
       "       u'NextExisting14Value', u'NextExisting1Value', u'NextExisting21Value',\n",
       "       u'NextExisting2Value', u'NextExisting30Value', u'NextExisting3Value',\n",
       "       u'NextExisting7Value', u'Prev1Day', u'Prev7Day', u'PrevExisting14Value',\n",
       "       u'PrevExisting1Value', u'PrevExisting21Value', u'PrevExisting2Value',\n",
       "       u'PrevExisting30Value', u'PrevExisting3Value', u'PrevExisting7Value',\n",
       "       u'ThroughDay', u'ThroughMonth', u'ThroughWeek', u'WeekDay', u'Year',\n",
       "       u'YearDay'],\n",
       "      dtype='object')"
      ]
     },
     "execution_count": 64,
     "metadata": {},
     "output_type": "execute_result"
    }
   ],
   "source": [
    "X_train.columns"
   ]
  },
  {
   "cell_type": "code",
   "execution_count": 65,
   "metadata": {
    "collapsed": false
   },
   "outputs": [
    {
     "data": {
      "text/plain": [
       "Index([u'Count', u'Date', u'IsTest', u'IsTrain', u'IsValidation', u'Year',\n",
       "       u'Month', u'MonthDay', u'WeekDay', u'Point', u'YearDay',\n",
       "       u'ThroughMonth', u'ThroughWeek', u'ThroughDay', u'Prev1Day',\n",
       "       u'Prev2Day', u'Prev3Day', u'Prev7Day', u'Next1Day', u'Next2Day',\n",
       "       u'Next3Day', u'Next7Day', u'MeanForMonth', u'MeanForMonthDay',\n",
       "       u'MeanForThroughMonth', u'MeanForThroughWeek', u'MeanForWeekDay',\n",
       "       u'MeanForYear', u'MeanForYearDay', u'MeanForMonthByPoints',\n",
       "       u'MeanForMonthDayByPoints', u'MeanForThroughMonthByPoints',\n",
       "       u'MeanForThroughWeekByPoints', u'MeanForWeekDayByPoints',\n",
       "       u'MeanForYearByPoints', u'MeanForYearDayByPoints',\n",
       "       u'NextExisting1Value', u'NextExisting2Value', u'NextExisting3Value',\n",
       "       u'NextExisting7Value', u'NextExisting14Value', u'NextExisting21Value',\n",
       "       u'NextExisting30Value', u'PrevExisting1Value', u'PrevExisting2Value',\n",
       "       u'PrevExisting3Value', u'PrevExisting7Value', u'PrevExisting14Value',\n",
       "       u'PrevExisting21Value', u'PrevExisting30Value'],\n",
       "      dtype='object')"
      ]
     },
     "execution_count": 65,
     "metadata": {},
     "output_type": "execute_result"
    }
   ],
   "source": [
    "features.columns"
   ]
  },
  {
   "cell_type": "code",
   "execution_count": null,
   "metadata": {
    "collapsed": true
   },
   "outputs": [],
   "source": []
  },
  {
   "cell_type": "code",
   "execution_count": null,
   "metadata": {
    "collapsed": false
   },
   "outputs": [],
   "source": []
  },
  {
   "cell_type": "code",
   "execution_count": null,
   "metadata": {
    "collapsed": false,
    "scrolled": true
   },
   "outputs": [],
   "source": []
  },
  {
   "cell_type": "code",
   "execution_count": null,
   "metadata": {
    "collapsed": false
   },
   "outputs": [],
   "source": []
  },
  {
   "cell_type": "code",
   "execution_count": null,
   "metadata": {
    "collapsed": false
   },
   "outputs": [],
   "source": []
  },
  {
   "cell_type": "code",
   "execution_count": null,
   "metadata": {
    "collapsed": true
   },
   "outputs": [],
   "source": []
  },
  {
   "cell_type": "code",
   "execution_count": null,
   "metadata": {
    "collapsed": true
   },
   "outputs": [],
   "source": []
  },
  {
   "cell_type": "code",
   "execution_count": null,
   "metadata": {
    "collapsed": true
   },
   "outputs": [],
   "source": []
  },
  {
   "cell_type": "code",
   "execution_count": null,
   "metadata": {
    "collapsed": true
   },
   "outputs": [],
   "source": []
  },
  {
   "cell_type": "code",
   "execution_count": null,
   "metadata": {
    "collapsed": true
   },
   "outputs": [],
   "source": []
  },
  {
   "cell_type": "code",
   "execution_count": null,
   "metadata": {
    "collapsed": true
   },
   "outputs": [],
   "source": []
  },
  {
   "cell_type": "code",
   "execution_count": null,
   "metadata": {
    "collapsed": true
   },
   "outputs": [],
   "source": []
  },
  {
   "cell_type": "code",
   "execution_count": null,
   "metadata": {
    "collapsed": true
   },
   "outputs": [],
   "source": []
  },
  {
   "cell_type": "code",
   "execution_count": null,
   "metadata": {
    "collapsed": true
   },
   "outputs": [],
   "source": []
  },
  {
   "cell_type": "code",
   "execution_count": null,
   "metadata": {
    "collapsed": true
   },
   "outputs": [],
   "source": []
  },
  {
   "cell_type": "code",
   "execution_count": 66,
   "metadata": {
    "collapsed": true
   },
   "outputs": [],
   "source": [
    "result = bst.predict(dres)"
   ]
  },
  {
   "cell_type": "code",
   "execution_count": 67,
   "metadata": {
    "collapsed": false
   },
   "outputs": [],
   "source": [
    "resDataFrame = pd.DataFrame()\n",
    "resDataFrame[\"Date\"] = data.Date[data.IsTest == True]\n",
    "resDataFrame.Date = resDataFrame.Date.apply(lambda x: pd.to_datetime(x))\n",
    "resDataFrame[\"Point\"] = data.Point[data.IsTest == True]\n",
    "resDataFrame.index = range(resDataFrame.shape[0])\n",
    "resDataFrame[\"Count\"] = pd.Series(result)"
   ]
  },
  {
   "cell_type": "code",
   "execution_count": 68,
   "metadata": {
    "collapsed": false,
    "scrolled": true
   },
   "outputs": [
    {
     "data": {
      "text/html": [
       "<div>\n",
       "<table border=\"1\" class=\"dataframe\">\n",
       "  <thead>\n",
       "    <tr style=\"text-align: right;\">\n",
       "      <th></th>\n",
       "      <th>Date</th>\n",
       "      <th>Point</th>\n",
       "      <th>Count</th>\n",
       "    </tr>\n",
       "  </thead>\n",
       "  <tbody>\n",
       "    <tr>\n",
       "      <th>0</th>\n",
       "      <td>2011-12-14</td>\n",
       "      <td>Сыктывкар-1</td>\n",
       "      <td>71.034828</td>\n",
       "    </tr>\n",
       "    <tr>\n",
       "      <th>1</th>\n",
       "      <td>2011-12-19</td>\n",
       "      <td>Сыктывкар-1</td>\n",
       "      <td>72.399292</td>\n",
       "    </tr>\n",
       "    <tr>\n",
       "      <th>2</th>\n",
       "      <td>2011-12-26</td>\n",
       "      <td>Сыктывкар-1</td>\n",
       "      <td>117.287918</td>\n",
       "    </tr>\n",
       "    <tr>\n",
       "      <th>3</th>\n",
       "      <td>2011-12-27</td>\n",
       "      <td>Сыктывкар-1</td>\n",
       "      <td>122.622513</td>\n",
       "    </tr>\n",
       "    <tr>\n",
       "      <th>4</th>\n",
       "      <td>2012-01-12</td>\n",
       "      <td>Сыктывкар-1</td>\n",
       "      <td>116.966942</td>\n",
       "    </tr>\n",
       "  </tbody>\n",
       "</table>\n",
       "</div>"
      ],
      "text/plain": [
       "        Date        Point       Count\n",
       "0 2011-12-14  Сыктывкар-1   71.034828\n",
       "1 2011-12-19  Сыктывкар-1   72.399292\n",
       "2 2011-12-26  Сыктывкар-1  117.287918\n",
       "3 2011-12-27  Сыктывкар-1  122.622513\n",
       "4 2012-01-12  Сыктывкар-1  116.966942"
      ]
     },
     "execution_count": 68,
     "metadata": {},
     "output_type": "execute_result"
    }
   ],
   "source": [
    "resDataFrame.head()"
   ]
  },
  {
   "cell_type": "code",
   "execution_count": 69,
   "metadata": {
    "collapsed": false
   },
   "outputs": [
    {
     "data": {
      "text/html": [
       "<div>\n",
       "<table border=\"1\" class=\"dataframe\">\n",
       "  <thead>\n",
       "    <tr style=\"text-align: right;\">\n",
       "      <th></th>\n",
       "      <th>Date</th>\n",
       "      <th>Point</th>\n",
       "      <th>Count</th>\n",
       "    </tr>\n",
       "  </thead>\n",
       "  <tbody>\n",
       "    <tr>\n",
       "      <th>7332</th>\n",
       "      <td>2016-09-27</td>\n",
       "      <td>Новоалтайск-1</td>\n",
       "      <td>14.073771</td>\n",
       "    </tr>\n",
       "    <tr>\n",
       "      <th>7333</th>\n",
       "      <td>2016-09-27</td>\n",
       "      <td>Энгельс-1</td>\n",
       "      <td>43.921310</td>\n",
       "    </tr>\n",
       "    <tr>\n",
       "      <th>7334</th>\n",
       "      <td>2016-09-27</td>\n",
       "      <td>Зеленоград-1</td>\n",
       "      <td>130.705811</td>\n",
       "    </tr>\n",
       "    <tr>\n",
       "      <th>7335</th>\n",
       "      <td>2016-09-27</td>\n",
       "      <td>Ленинск-Кузнецкий-1</td>\n",
       "      <td>42.049572</td>\n",
       "    </tr>\n",
       "    <tr>\n",
       "      <th>7336</th>\n",
       "      <td>2016-09-27</td>\n",
       "      <td>Самара-3</td>\n",
       "      <td>307.765503</td>\n",
       "    </tr>\n",
       "  </tbody>\n",
       "</table>\n",
       "</div>"
      ],
      "text/plain": [
       "           Date                Point       Count\n",
       "7332 2016-09-27        Новоалтайск-1   14.073771\n",
       "7333 2016-09-27            Энгельс-1   43.921310\n",
       "7334 2016-09-27         Зеленоград-1  130.705811\n",
       "7335 2016-09-27  Ленинск-Кузнецкий-1   42.049572\n",
       "7336 2016-09-27             Самара-3  307.765503"
      ]
     },
     "execution_count": 69,
     "metadata": {},
     "output_type": "execute_result"
    }
   ],
   "source": [
    "resDataFrame.tail()"
   ]
  },
  {
   "cell_type": "code",
   "execution_count": 70,
   "metadata": {
    "collapsed": false
   },
   "outputs": [
    {
     "data": {
      "text/plain": [
       "(7337, 3)"
      ]
     },
     "execution_count": 70,
     "metadata": {},
     "output_type": "execute_result"
    }
   ],
   "source": [
    "resDataFrame.shape"
   ]
  },
  {
   "cell_type": "code",
   "execution_count": 71,
   "metadata": {
    "collapsed": true
   },
   "outputs": [],
   "source": [
    "originTest = pd.read_csv(\"data_original/test.csv\")"
   ]
  },
  {
   "cell_type": "code",
   "execution_count": 72,
   "metadata": {
    "collapsed": false
   },
   "outputs": [],
   "source": [
    "originTest.Date = originTest.Date.apply(lambda x: pd.to_datetime(x, format='%d.%m.%Y'))"
   ]
  },
  {
   "cell_type": "markdown",
   "metadata": {
    "collapsed": false
   },
   "source": [
    "originTest.head()"
   ]
  },
  {
   "cell_type": "code",
   "execution_count": 73,
   "metadata": {
    "collapsed": false
   },
   "outputs": [
    {
     "data": {
      "text/html": [
       "<div>\n",
       "<table border=\"1\" class=\"dataframe\">\n",
       "  <thead>\n",
       "    <tr style=\"text-align: right;\">\n",
       "      <th></th>\n",
       "      <th>Date</th>\n",
       "      <th>Point</th>\n",
       "      <th>Count</th>\n",
       "    </tr>\n",
       "  </thead>\n",
       "  <tbody>\n",
       "    <tr>\n",
       "      <th>6495</th>\n",
       "      <td>2016-07-08</td>\n",
       "      <td>Ульяновск-2</td>\n",
       "      <td>235.00676</td>\n",
       "    </tr>\n",
       "  </tbody>\n",
       "</table>\n",
       "</div>"
      ],
      "text/plain": [
       "           Date        Point      Count\n",
       "6495 2016-07-08  Ульяновск-2  235.00676"
      ]
     },
     "execution_count": 73,
     "metadata": {},
     "output_type": "execute_result"
    }
   ],
   "source": [
    "resDataFrame[(resDataFrame.Date == originTest.Date[0]) & (resDataFrame.Point == originTest.Point[0]) ]"
   ]
  },
  {
   "cell_type": "code",
   "execution_count": 74,
   "metadata": {
    "collapsed": false,
    "scrolled": true
   },
   "outputs": [],
   "source": [
    "resNP = np.array([np.nan] * originTest.shape[0])\n",
    "for i in originTest.index:\n",
    "    resNP[i] = resDataFrame.Count[(resDataFrame.Date == originTest.Date[i]) &\n",
    "                                             (resDataFrame.Point == originTest.Point[i])]"
   ]
  },
  {
   "cell_type": "code",
   "execution_count": 75,
   "metadata": {
    "collapsed": false
   },
   "outputs": [
    {
     "data": {
      "text/plain": [
       "(7337,)"
      ]
     },
     "execution_count": 75,
     "metadata": {},
     "output_type": "execute_result"
    }
   ],
   "source": [
    "resNP.shape"
   ]
  },
  {
   "cell_type": "code",
   "execution_count": 76,
   "metadata": {
    "collapsed": false
   },
   "outputs": [],
   "source": [
    "originTest.Count = pd.Series(resNP)"
   ]
  },
  {
   "cell_type": "code",
   "execution_count": 77,
   "metadata": {
    "collapsed": true
   },
   "outputs": [],
   "source": [
    "originTest.Count = originTest.Count.apply(lambda x: 1 if x < 1 else x)"
   ]
  },
  {
   "cell_type": "code",
   "execution_count": 78,
   "metadata": {
    "collapsed": false
   },
   "outputs": [],
   "source": [
    "originTest.Count = originTest.Count.apply(lambda x: round(x) if abs(x - round(x)) < 0.2 else x)"
   ]
  },
  {
   "cell_type": "code",
   "execution_count": 79,
   "metadata": {
    "collapsed": true
   },
   "outputs": [],
   "source": [
    "originTest['Year'] = originTest.Date.apply(lambda x: x.year)\n",
    "originTest['Month'] = originTest.Date.apply(lambda x: x.month)\n",
    "originTest['MonthDay'] = originTest.Date.apply(lambda x: x.day)"
   ]
  },
  {
   "cell_type": "code",
   "execution_count": 80,
   "metadata": {
    "collapsed": false
   },
   "outputs": [],
   "source": [
    "OriginalDate = []\n",
    "k = 9\n",
    "for i in range(originTest.shape[0]):\n",
    "    daystr = str(originTest.MonthDay[i]) if originTest.MonthDay[i] >= 10 else  \"0\" + str(originTest.MonthDay[i])\n",
    "    monthstr = str(originTest.Month[i]) if originTest.Month[i] >= 10 else  \"0\" + str(originTest.Month[i])\n",
    "    OriginalDate.append(daystr + \".\" + monthstr + \".\" +  str(originTest.Year[i]))"
   ]
  },
  {
   "cell_type": "code",
   "execution_count": null,
   "metadata": {
    "collapsed": false
   },
   "outputs": [],
   "source": []
  },
  {
   "cell_type": "code",
   "execution_count": null,
   "metadata": {
    "collapsed": true
   },
   "outputs": [],
   "source": []
  },
  {
   "cell_type": "code",
   "execution_count": 81,
   "metadata": {
    "collapsed": true
   },
   "outputs": [],
   "source": [
    "originTest[\"OriginalDate\"] = pd.Series(OriginalDate)"
   ]
  },
  {
   "cell_type": "code",
   "execution_count": 82,
   "metadata": {
    "collapsed": false,
    "scrolled": true
   },
   "outputs": [
    {
     "data": {
      "text/html": [
       "<div>\n",
       "<table border=\"1\" class=\"dataframe\">\n",
       "  <thead>\n",
       "    <tr style=\"text-align: right;\">\n",
       "      <th></th>\n",
       "      <th>Date</th>\n",
       "      <th>Point</th>\n",
       "      <th>Count</th>\n",
       "      <th>Year</th>\n",
       "      <th>Month</th>\n",
       "      <th>MonthDay</th>\n",
       "      <th>OriginalDate</th>\n",
       "    </tr>\n",
       "  </thead>\n",
       "  <tbody>\n",
       "    <tr>\n",
       "      <th>0</th>\n",
       "      <td>2016-07-08</td>\n",
       "      <td>Ульяновск-2</td>\n",
       "      <td>235.000000</td>\n",
       "      <td>2016</td>\n",
       "      <td>7</td>\n",
       "      <td>8</td>\n",
       "      <td>08.07.2016</td>\n",
       "    </tr>\n",
       "    <tr>\n",
       "      <th>1</th>\n",
       "      <td>2016-07-25</td>\n",
       "      <td>Балашиха-1</td>\n",
       "      <td>95.000000</td>\n",
       "      <td>2016</td>\n",
       "      <td>7</td>\n",
       "      <td>25</td>\n",
       "      <td>25.07.2016</td>\n",
       "    </tr>\n",
       "    <tr>\n",
       "      <th>2</th>\n",
       "      <td>2014-11-09</td>\n",
       "      <td>Ухта-1</td>\n",
       "      <td>228.474182</td>\n",
       "      <td>2014</td>\n",
       "      <td>11</td>\n",
       "      <td>9</td>\n",
       "      <td>09.11.2014</td>\n",
       "    </tr>\n",
       "    <tr>\n",
       "      <th>3</th>\n",
       "      <td>2015-11-12</td>\n",
       "      <td>Альметьевск-1</td>\n",
       "      <td>59.252678</td>\n",
       "      <td>2015</td>\n",
       "      <td>11</td>\n",
       "      <td>12</td>\n",
       "      <td>12.11.2015</td>\n",
       "    </tr>\n",
       "    <tr>\n",
       "      <th>4</th>\n",
       "      <td>2014-07-17</td>\n",
       "      <td>Ухта-1</td>\n",
       "      <td>151.000000</td>\n",
       "      <td>2014</td>\n",
       "      <td>7</td>\n",
       "      <td>17</td>\n",
       "      <td>17.07.2014</td>\n",
       "    </tr>\n",
       "  </tbody>\n",
       "</table>\n",
       "</div>"
      ],
      "text/plain": [
       "        Date          Point       Count  Year  Month  MonthDay OriginalDate\n",
       "0 2016-07-08    Ульяновск-2  235.000000  2016      7         8   08.07.2016\n",
       "1 2016-07-25     Балашиха-1   95.000000  2016      7        25   25.07.2016\n",
       "2 2014-11-09         Ухта-1  228.474182  2014     11         9   09.11.2014\n",
       "3 2015-11-12  Альметьевск-1   59.252678  2015     11        12   12.11.2015\n",
       "4 2014-07-17         Ухта-1  151.000000  2014      7        17   17.07.2014"
      ]
     },
     "execution_count": 82,
     "metadata": {},
     "output_type": "execute_result"
    }
   ],
   "source": [
    "originTest.head()"
   ]
  },
  {
   "cell_type": "code",
   "execution_count": null,
   "metadata": {
    "collapsed": false
   },
   "outputs": [],
   "source": []
  },
  {
   "cell_type": "code",
   "execution_count": 83,
   "metadata": {
    "collapsed": false
   },
   "outputs": [
    {
     "data": {
      "text/html": [
       "<div>\n",
       "<table border=\"1\" class=\"dataframe\">\n",
       "  <thead>\n",
       "    <tr style=\"text-align: right;\">\n",
       "      <th></th>\n",
       "      <th>Date</th>\n",
       "      <th>Point</th>\n",
       "      <th>Count</th>\n",
       "      <th>Year</th>\n",
       "      <th>Month</th>\n",
       "      <th>MonthDay</th>\n",
       "      <th>OriginalDate</th>\n",
       "    </tr>\n",
       "  </thead>\n",
       "  <tbody>\n",
       "    <tr>\n",
       "      <th>7332</th>\n",
       "      <td>2015-05-27</td>\n",
       "      <td>Белгород-1</td>\n",
       "      <td>65.295219</td>\n",
       "      <td>2015</td>\n",
       "      <td>5</td>\n",
       "      <td>27</td>\n",
       "      <td>27.05.2015</td>\n",
       "    </tr>\n",
       "    <tr>\n",
       "      <th>7333</th>\n",
       "      <td>2015-01-31</td>\n",
       "      <td>Самара-3</td>\n",
       "      <td>208.630203</td>\n",
       "      <td>2015</td>\n",
       "      <td>1</td>\n",
       "      <td>31</td>\n",
       "      <td>31.01.2015</td>\n",
       "    </tr>\n",
       "    <tr>\n",
       "      <th>7334</th>\n",
       "      <td>2015-11-12</td>\n",
       "      <td>Вологда-1</td>\n",
       "      <td>38.000000</td>\n",
       "      <td>2015</td>\n",
       "      <td>11</td>\n",
       "      <td>12</td>\n",
       "      <td>12.11.2015</td>\n",
       "    </tr>\n",
       "    <tr>\n",
       "      <th>7335</th>\n",
       "      <td>2016-05-07</td>\n",
       "      <td>Домодедово-1</td>\n",
       "      <td>109.648727</td>\n",
       "      <td>2016</td>\n",
       "      <td>5</td>\n",
       "      <td>7</td>\n",
       "      <td>07.05.2016</td>\n",
       "    </tr>\n",
       "    <tr>\n",
       "      <th>7336</th>\n",
       "      <td>2015-04-18</td>\n",
       "      <td>Махачкала-1</td>\n",
       "      <td>101.000000</td>\n",
       "      <td>2015</td>\n",
       "      <td>4</td>\n",
       "      <td>18</td>\n",
       "      <td>18.04.2015</td>\n",
       "    </tr>\n",
       "  </tbody>\n",
       "</table>\n",
       "</div>"
      ],
      "text/plain": [
       "           Date         Point       Count  Year  Month  MonthDay OriginalDate\n",
       "7332 2015-05-27    Белгород-1   65.295219  2015      5        27   27.05.2015\n",
       "7333 2015-01-31      Самара-3  208.630203  2015      1        31   31.01.2015\n",
       "7334 2015-11-12     Вологда-1   38.000000  2015     11        12   12.11.2015\n",
       "7335 2016-05-07  Домодедово-1  109.648727  2016      5         7   07.05.2016\n",
       "7336 2015-04-18   Махачкала-1  101.000000  2015      4        18   18.04.2015"
      ]
     },
     "execution_count": 83,
     "metadata": {},
     "output_type": "execute_result"
    }
   ],
   "source": [
    "originTest.tail()"
   ]
  },
  {
   "cell_type": "code",
   "execution_count": 84,
   "metadata": {
    "collapsed": false
   },
   "outputs": [],
   "source": [
    "originTest = originTest[[\"OriginalDate\", \"Point\", \"Count\"]]"
   ]
  },
  {
   "cell_type": "code",
   "execution_count": 85,
   "metadata": {
    "collapsed": false
   },
   "outputs": [
    {
     "data": {
      "text/html": [
       "<div>\n",
       "<table border=\"1\" class=\"dataframe\">\n",
       "  <thead>\n",
       "    <tr style=\"text-align: right;\">\n",
       "      <th></th>\n",
       "      <th>OriginalDate</th>\n",
       "      <th>Point</th>\n",
       "      <th>Count</th>\n",
       "    </tr>\n",
       "  </thead>\n",
       "  <tbody>\n",
       "    <tr>\n",
       "      <th>0</th>\n",
       "      <td>08.07.2016</td>\n",
       "      <td>Ульяновск-2</td>\n",
       "      <td>235.000000</td>\n",
       "    </tr>\n",
       "    <tr>\n",
       "      <th>1</th>\n",
       "      <td>25.07.2016</td>\n",
       "      <td>Балашиха-1</td>\n",
       "      <td>95.000000</td>\n",
       "    </tr>\n",
       "    <tr>\n",
       "      <th>2</th>\n",
       "      <td>09.11.2014</td>\n",
       "      <td>Ухта-1</td>\n",
       "      <td>228.474182</td>\n",
       "    </tr>\n",
       "    <tr>\n",
       "      <th>3</th>\n",
       "      <td>12.11.2015</td>\n",
       "      <td>Альметьевск-1</td>\n",
       "      <td>59.252678</td>\n",
       "    </tr>\n",
       "    <tr>\n",
       "      <th>4</th>\n",
       "      <td>17.07.2014</td>\n",
       "      <td>Ухта-1</td>\n",
       "      <td>151.000000</td>\n",
       "    </tr>\n",
       "  </tbody>\n",
       "</table>\n",
       "</div>"
      ],
      "text/plain": [
       "  OriginalDate          Point       Count\n",
       "0   08.07.2016    Ульяновск-2  235.000000\n",
       "1   25.07.2016     Балашиха-1   95.000000\n",
       "2   09.11.2014         Ухта-1  228.474182\n",
       "3   12.11.2015  Альметьевск-1   59.252678\n",
       "4   17.07.2014         Ухта-1  151.000000"
      ]
     },
     "execution_count": 85,
     "metadata": {},
     "output_type": "execute_result"
    }
   ],
   "source": [
    "originTest.head()"
   ]
  },
  {
   "cell_type": "code",
   "execution_count": 86,
   "metadata": {
    "collapsed": false
   },
   "outputs": [],
   "source": [
    "originTest.to_csv('submission.csv', index=None, header=None)"
   ]
  },
  {
   "cell_type": "code",
   "execution_count": 87,
   "metadata": {
    "collapsed": false
   },
   "outputs": [
    {
     "data": {
      "text/plain": [
       "OriginalDate    False\n",
       "Point           False\n",
       "Count           False\n",
       "dtype: bool"
      ]
     },
     "execution_count": 87,
     "metadata": {},
     "output_type": "execute_result"
    }
   ],
   "source": [
    "pd.isnull(originTest).sum() > 0"
   ]
  },
  {
   "cell_type": "code",
   "execution_count": null,
   "metadata": {
    "collapsed": true
   },
   "outputs": [],
   "source": []
  },
  {
   "cell_type": "code",
   "execution_count": null,
   "metadata": {
    "collapsed": true
   },
   "outputs": [],
   "source": []
  }
 ],
 "metadata": {
  "anaconda-cloud": {},
  "kernelspec": {
   "display_name": "Python 2",
   "language": "python",
   "name": "python2"
  },
  "language_info": {
   "codemirror_mode": {
    "name": "ipython",
    "version": 2
   },
   "file_extension": ".py",
   "mimetype": "text/x-python",
   "name": "python",
   "nbconvert_exporter": "python",
   "pygments_lexer": "ipython2",
   "version": "2.7.6"
  }
 },
 "nbformat": 4,
 "nbformat_minor": 0
}
