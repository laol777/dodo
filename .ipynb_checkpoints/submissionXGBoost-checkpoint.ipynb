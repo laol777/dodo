{
 "cells": [
  {
   "cell_type": "code",
   "execution_count": 28,
   "metadata": {
    "collapsed": false
   },
   "outputs": [],
   "source": [
    "import pandas as pd\n",
    "import numpy as np\n",
    "from sklearn.metrics import mean_absolute_error as mae\n",
    "from sklearn.ensemble import GradientBoostingRegressor\n",
    "from sklearn.ensemble import RandomForestRegressor\n",
    "import xgboost as xgb\n",
    "\n",
    "features = pd.read_csv('data_transform/all.csv')\n",
    "\n",
    "data = features.fillna(100000000)\n",
    "\n",
    "'''\n",
    "remove_column = ['IsTest', 'IsTrain', 'IsValidation', 'Date', 'Point', 'CityName'\n",
    "                ,u'MeanForMonthDayByPoints', u'MeanForThroughMonthByPoints'\n",
    "                ,u'MeanForThroughWeekByPoints'\n",
    "                ,u'MeanForYearByPoints', u'MeanForYearDayByPoints'\n",
    "                ,'MeanForYearDay', 'MeanForThroughWeek'\n",
    "                 ]\n",
    "'''\n",
    "\n",
    "remove_column = ['IsTest', 'IsTrain', 'IsValidation', 'Date', 'Point', 'CityName'\n",
    "                ,u'MeanForMonthDayByPoints', u'MeanForThroughMonthByPoints'\n",
    "                ,u'MeanForThroughWeekByPoints'\n",
    "                ,u'MeanForYearByPoints', u'MeanForYearDayByPoints'\n",
    "                ,'MeanForYearDay', 'MeanForThroughWeek'\n",
    "                 ]\n",
    "\n",
    "\n",
    "dataTrain = data[data.IsTrain == 1]\n",
    "dataTrain = dataTrain[dataTrain.columns.difference(remove_column)]\n",
    "\n",
    "X_train = dataTrain[dataTrain.columns.difference(['Count'])]\n",
    "y_train = dataTrain[['Count']]\n",
    "\n",
    "dataValidation =  data[data.IsTest == 1]\n",
    "dataValidation = dataValidation[dataValidation.columns.difference(remove_column)]\n",
    "\n",
    "X_test = dataValidation[dataValidation.columns.difference(['Count'])]\n",
    "y_test = dataValidation[['Count']]"
   ]
  },
  {
   "cell_type": "code",
   "execution_count": null,
   "metadata": {
    "collapsed": false
   },
   "outputs": [],
   "source": []
  },
  {
   "cell_type": "code",
   "execution_count": 33,
   "metadata": {
    "collapsed": false,
    "scrolled": true
   },
   "outputs": [
    {
     "name": "stdout",
     "output_type": "stream",
     "text": [
      "[0]\teval-mae:115.886\ttrain-mae:103.652\n",
      "[300]\teval-mae:52.8898\ttrain-mae:40.728\n",
      "[600]\teval-mae:31.9818\ttrain-mae:20.4241\n",
      "[900]\teval-mae:31.2813\ttrain-mae:19.1344\n",
      "[1200]\teval-mae:30.852\ttrain-mae:18.359\n",
      "[1500]\teval-mae:30.2446\ttrain-mae:17.7282\n",
      "[1800]\teval-mae:29.7453\ttrain-mae:17.2054\n",
      "[2100]\teval-mae:29.2844\ttrain-mae:16.7794\n",
      "[2400]\teval-mae:28.8414\ttrain-mae:16.3906\n",
      "[2700]\teval-mae:28.3735\ttrain-mae:16.0452\n",
      "[3000]\teval-mae:28.0056\ttrain-mae:15.7317\n",
      "[3300]\teval-mae:27.6271\ttrain-mae:15.4401\n",
      "[3600]\teval-mae:27.3678\ttrain-mae:15.1911\n",
      "[3900]\teval-mae:27.1469\ttrain-mae:14.9464\n",
      "[4200]\teval-mae:26.9403\ttrain-mae:14.7308\n",
      "[4500]\teval-mae:26.7004\ttrain-mae:14.5106\n",
      "[4800]\teval-mae:26.51\ttrain-mae:14.2965\n",
      "[5100]\teval-mae:26.2919\ttrain-mae:14.1158\n",
      "[5400]\teval-mae:26.1329\ttrain-mae:13.9333\n",
      "[5700]\teval-mae:26.0165\ttrain-mae:13.7581\n",
      "[6000]\teval-mae:25.8203\ttrain-mae:13.5933\n",
      "[6300]\teval-mae:25.6878\ttrain-mae:13.4344\n",
      "[6600]\teval-mae:25.5788\ttrain-mae:13.284\n",
      "[6900]\teval-mae:25.4795\ttrain-mae:13.1561\n",
      "[7200]\teval-mae:25.3546\ttrain-mae:13.0165\n",
      "[7500]\teval-mae:25.2885\ttrain-mae:12.8833\n",
      "[7800]\teval-mae:25.2189\ttrain-mae:12.762\n",
      "[8100]\teval-mae:25.1276\ttrain-mae:12.6441\n",
      "[8400]\teval-mae:25.0821\ttrain-mae:12.5293\n",
      "[8700]\teval-mae:25.0353\ttrain-mae:12.4151\n",
      "[9000]\teval-mae:24.9506\ttrain-mae:12.3007\n",
      "[9300]\teval-mae:24.9078\ttrain-mae:12.1952\n",
      "[9600]\teval-mae:24.8335\ttrain-mae:12.09\n",
      "[9900]\teval-mae:24.7896\ttrain-mae:11.9893\n",
      "[10200]\teval-mae:24.7591\ttrain-mae:11.8941\n",
      "[10500]\teval-mae:24.7101\ttrain-mae:11.8007\n",
      "[10800]\teval-mae:24.6584\ttrain-mae:11.706\n",
      "[11100]\teval-mae:24.6558\ttrain-mae:11.618\n",
      "[11400]\teval-mae:24.6405\ttrain-mae:11.528\n",
      "[11700]\teval-mae:24.6354\ttrain-mae:11.443\n",
      "[12000]\teval-mae:24.6124\ttrain-mae:11.3674\n",
      "[12300]\teval-mae:24.5901\ttrain-mae:11.285\n",
      "[12600]\teval-mae:24.5923\ttrain-mae:11.2103\n",
      "[12900]\teval-mae:24.5631\ttrain-mae:11.1317\n",
      "[13200]\teval-mae:24.544\ttrain-mae:11.0548\n",
      "[13500]\teval-mae:24.5317\ttrain-mae:10.9839\n",
      "[13800]\teval-mae:24.5204\ttrain-mae:10.9094\n",
      "[14100]\teval-mae:24.5095\ttrain-mae:10.8416\n",
      "[14400]\teval-mae:24.5011\ttrain-mae:10.7747\n",
      "[14700]\teval-mae:24.4895\ttrain-mae:10.7061\n",
      "[15000]\teval-mae:24.4791\ttrain-mae:10.642\n",
      "[15300]\teval-mae:24.4633\ttrain-mae:10.5771\n",
      "[15600]\teval-mae:24.4671\ttrain-mae:10.5169\n",
      "[15900]\teval-mae:24.469\ttrain-mae:10.4547\n"
     ]
    }
   ],
   "source": [
    "dtrain = xgb.DMatrix( X_train, label=y_train)\n",
    "dtest = xgb.DMatrix( X_test, label=y_test)\n",
    "dres = xgb.DMatrix( X_res )\n",
    "evallist  = [(dtest,'eval'), (dtrain,'train')]\n",
    "\n",
    "param = {'max_depth': 6,\n",
    " \t\t'silent': 1,\n",
    " \t\t'eta': 0.01,\n",
    " \t\t'eval_metric': 'mae',\n",
    "         'subsample' : 0.9,\n",
    "         'colsample_bytree':0.5,\n",
    "         'tree_method':'exact'\n",
    "         #,'rate_drop':0.01\n",
    "         ,'objective':'reg:tweedie'\n",
    " }\n",
    "\n",
    "num_round = 16000\n",
    "\n",
    "bst = xgb.train( param, dtrain, num_round, evallist, verbose_eval=300 )"
   ]
  },
  {
   "cell_type": "code",
   "execution_count": null,
   "metadata": {
    "collapsed": false
   },
   "outputs": [],
   "source": []
  },
  {
   "cell_type": "code",
   "execution_count": 34,
   "metadata": {
    "collapsed": false,
    "scrolled": false
   },
   "outputs": [
    {
     "data": {
      "text/plain": [
       "{'MeanForMonth': 24104,\n",
       " 'MeanForMonthByPoints': 132848,\n",
       " 'MeanForMonthDay': 78924,\n",
       " 'MeanForThroughMonth': 40589,\n",
       " 'MeanForWeekDay': 44324,\n",
       " 'MeanForWeekDayByPoints': 132710,\n",
       " 'MeanForYear': 11035,\n",
       " 'Month': 12983,\n",
       " 'MonthDay': 73142,\n",
       " 'ThroughDay': 134921,\n",
       " 'ThroughMonth': 20871,\n",
       " 'ThroughWeek': 50578,\n",
       " 'WeekDay': 25545,\n",
       " 'Year': 2649,\n",
       " 'YearDay': 78597}"
      ]
     },
     "execution_count": 34,
     "metadata": {},
     "output_type": "execute_result"
    }
   ],
   "source": [
    "bst.get_fscore()"
   ]
  },
  {
   "cell_type": "code",
   "execution_count": null,
   "metadata": {
    "collapsed": true
   },
   "outputs": [],
   "source": []
  }
 ],
 "metadata": {
  "anaconda-cloud": {},
  "kernelspec": {
   "display_name": "Python 2",
   "language": "python",
   "name": "python2"
  },
  "language_info": {
   "codemirror_mode": {
    "name": "ipython",
    "version": 2
   },
   "file_extension": ".py",
   "mimetype": "text/x-python",
   "name": "python",
   "nbconvert_exporter": "python",
   "pygments_lexer": "ipython2",
   "version": "2.7.6"
  }
 },
 "nbformat": 4,
 "nbformat_minor": 0
}
