{
 "cells": [
  {
   "cell_type": "code",
   "execution_count": 1,
   "metadata": {
    "collapsed": false
   },
   "outputs": [],
   "source": [
    "import pandas as pd\n",
    "import numpy as np\n",
    "from sklearn.metrics import mean_absolute_error as mae\n",
    "from sklearn.ensemble import GradientBoostingRegressor\n",
    "from sklearn.ensemble import RandomForestRegressor\n",
    "import xgboost as xgb\n",
    "\n",
    "features = pd.read_csv('data_transform/all.csv')\n",
    "\n",
    "data = features.fillna(100000000)\n",
    "\n",
    "remove_column = ['IsTest', 'IsTrain', 'IsValidation', 'Date', 'Point', 'CityName'\n",
    "                ,u'MeanForMonthDayByPoints', u'MeanForThroughMonthByPoints'\n",
    "                ,u'MeanForThroughWeekByPoints'\n",
    "                ,u'MeanForYearByPoints', u'MeanForYearDayByPoints'\n",
    "                ,'MeanForYearDay', 'MeanForThroughWeek', u'Prev2Day', u'Prev3Day'\n",
    "                ,u'Next2Day', u'Next3Day'\n",
    "                 ]\n",
    "\n",
    "#? u'MeanForWeekDayByPoints',\n",
    "\n",
    "#'YearDay', 'MeanForYear', 'PrevExisting1Value', 'NextExisting1Value', 'MeanForMonthByPoints'\n",
    "\n",
    "\n",
    "\n",
    "dataTrain = data[data.IsTrain == 1]\n",
    "dataTrain = dataTrain[dataTrain.columns.difference(remove_column)]\n",
    "\n",
    "X_train = dataTrain[dataTrain.columns.difference(['Count'])]\n",
    "y_train = dataTrain[['Count']]\n",
    "\n",
    "dataValidation =  data[data.IsValidation == 1]\n",
    "dataValidation = dataValidation[dataValidation.columns.difference(remove_column)]\n",
    "\n",
    "X_test = dataValidation[dataValidation.columns.difference(['Count'])]\n",
    "y_test = dataValidation[['Count']]\n",
    "\n",
    "dataResult =  data[data.IsTest == 1]\n",
    "dataResult = dataResult[dataResult.columns.difference(remove_column)]\n",
    "\n",
    "X_res = dataResult[dataResult.columns.difference(['Count'])]"
   ]
  },
  {
   "cell_type": "code",
   "execution_count": null,
   "metadata": {
    "collapsed": false
   },
   "outputs": [],
   "source": []
  },
  {
   "cell_type": "code",
   "execution_count": null,
   "metadata": {
    "collapsed": false
   },
   "outputs": [],
   "source": []
  },
  {
   "cell_type": "code",
   "execution_count": null,
   "metadata": {
    "collapsed": false
   },
   "outputs": [],
   "source": []
  },
  {
   "cell_type": "code",
   "execution_count": 11,
   "metadata": {
    "collapsed": false,
    "scrolled": true
   },
   "outputs": [
    {
     "name": "stdout",
     "output_type": "stream",
     "text": [
      "[0]\teval-mae:105.207\ttrain-mae:104.43\n",
      "[20]\teval-mae:86.2171\ttrain-mae:85.476\n",
      "[40]\teval-mae:70.6989\ttrain-mae:69.9968\n",
      "[60]\teval-mae:58.0301\ttrain-mae:57.3625\n",
      "[80]\teval-mae:47.7554\ttrain-mae:47.1085\n",
      "[100]\teval-mae:39.5321\ttrain-mae:38.8974\n",
      "[120]\teval-mae:33.1542\ttrain-mae:32.4643\n",
      "[140]\teval-mae:28.2996\ttrain-mae:27.5578\n",
      "[160]\teval-mae:24.8133\ttrain-mae:23.9292\n",
      "[180]\teval-mae:22.3623\ttrain-mae:21.3255\n",
      "[200]\teval-mae:20.6574\ttrain-mae:19.5026\n",
      "[220]\teval-mae:19.5017\ttrain-mae:18.2408\n",
      "[240]\teval-mae:18.74\ttrain-mae:17.3637\n",
      "[260]\teval-mae:18.2499\ttrain-mae:16.7547\n",
      "[280]\teval-mae:17.9172\ttrain-mae:16.3316\n",
      "[300]\teval-mae:17.7018\ttrain-mae:16.0217\n",
      "[320]\teval-mae:17.5589\ttrain-mae:15.8074\n",
      "[340]\teval-mae:17.4617\ttrain-mae:15.6317\n",
      "[360]\teval-mae:17.4081\ttrain-mae:15.4996\n",
      "[380]\teval-mae:17.364\ttrain-mae:15.3798\n",
      "[400]\teval-mae:17.3327\ttrain-mae:15.284\n",
      "[420]\teval-mae:17.3063\ttrain-mae:15.2006\n",
      "[440]\teval-mae:17.2888\ttrain-mae:15.1179\n",
      "[460]\teval-mae:17.2669\ttrain-mae:15.0383\n",
      "[480]\teval-mae:17.2463\ttrain-mae:14.9697\n",
      "[500]\teval-mae:17.235\ttrain-mae:14.9021\n",
      "[520]\teval-mae:17.2181\ttrain-mae:14.8301\n",
      "[540]\teval-mae:17.2093\ttrain-mae:14.7753\n",
      "[560]\teval-mae:17.2035\ttrain-mae:14.7271\n",
      "[580]\teval-mae:17.1867\ttrain-mae:14.6707\n",
      "[600]\teval-mae:17.1775\ttrain-mae:14.6234\n",
      "[620]\teval-mae:17.1587\ttrain-mae:14.561\n",
      "[640]\teval-mae:17.1445\ttrain-mae:14.5071\n",
      "[660]\teval-mae:17.1181\ttrain-mae:14.4586\n",
      "[680]\teval-mae:17.0893\ttrain-mae:14.408\n",
      "[700]\teval-mae:17.0798\ttrain-mae:14.3682\n",
      "[720]\teval-mae:17.061\ttrain-mae:14.326\n",
      "[740]\teval-mae:17.0536\ttrain-mae:14.2843\n",
      "[760]\teval-mae:17.0417\ttrain-mae:14.2446\n",
      "[780]\teval-mae:17.0195\ttrain-mae:14.2023\n",
      "[800]\teval-mae:17.0056\ttrain-mae:14.1594\n",
      "[820]\teval-mae:16.9831\ttrain-mae:14.1156\n",
      "[840]\teval-mae:16.9706\ttrain-mae:14.0777\n",
      "[860]\teval-mae:16.9458\ttrain-mae:14.0403\n",
      "[880]\teval-mae:16.9326\ttrain-mae:14.003\n",
      "[900]\teval-mae:16.9198\ttrain-mae:13.9682\n",
      "[920]\teval-mae:16.9113\ttrain-mae:13.9326\n",
      "[940]\teval-mae:16.8984\ttrain-mae:13.8942\n",
      "[960]\teval-mae:16.8751\ttrain-mae:13.8561\n",
      "[980]\teval-mae:16.8578\ttrain-mae:13.8161\n",
      "[1000]\teval-mae:16.8469\ttrain-mae:13.7842\n",
      "[1020]\teval-mae:16.8419\ttrain-mae:13.7519\n",
      "[1040]\teval-mae:16.8315\ttrain-mae:13.7205\n",
      "[1060]\teval-mae:16.8184\ttrain-mae:13.6873\n",
      "[1080]\teval-mae:16.8077\ttrain-mae:13.6539\n",
      "[1100]\teval-mae:16.8026\ttrain-mae:13.6232\n",
      "[1120]\teval-mae:16.801\ttrain-mae:13.5913\n",
      "[1140]\teval-mae:16.7928\ttrain-mae:13.5585\n",
      "[1160]\teval-mae:16.7836\ttrain-mae:13.5237\n",
      "[1180]\teval-mae:16.7742\ttrain-mae:13.4929\n",
      "[1200]\teval-mae:16.7679\ttrain-mae:13.4627\n",
      "[1220]\teval-mae:16.7648\ttrain-mae:13.4345\n",
      "[1240]\teval-mae:16.7575\ttrain-mae:13.4054\n",
      "[1260]\teval-mae:16.7451\ttrain-mae:13.3719\n",
      "[1280]\teval-mae:16.7351\ttrain-mae:13.3421\n",
      "[1300]\teval-mae:16.7321\ttrain-mae:13.316\n",
      "[1320]\teval-mae:16.724\ttrain-mae:13.288\n",
      "[1340]\teval-mae:16.7201\ttrain-mae:13.2645\n",
      "[1360]\teval-mae:16.717\ttrain-mae:13.2383\n",
      "[1380]\teval-mae:16.7145\ttrain-mae:13.2133\n",
      "[1400]\teval-mae:16.7121\ttrain-mae:13.1891\n",
      "[1420]\teval-mae:16.7092\ttrain-mae:13.1619\n",
      "[1440]\teval-mae:16.7043\ttrain-mae:13.1328\n",
      "[1460]\teval-mae:16.7\ttrain-mae:13.1061\n",
      "[1480]\teval-mae:16.703\ttrain-mae:13.0811\n",
      "[1500]\teval-mae:16.6952\ttrain-mae:13.053\n",
      "[1520]\teval-mae:16.6896\ttrain-mae:13.0275\n",
      "[1540]\teval-mae:16.6901\ttrain-mae:13.0035\n",
      "[1560]\teval-mae:16.6835\ttrain-mae:12.978\n",
      "[1580]\teval-mae:16.6792\ttrain-mae:12.9547\n",
      "[1600]\teval-mae:16.6734\ttrain-mae:12.9302\n",
      "[1620]\teval-mae:16.6717\ttrain-mae:12.9066\n",
      "[1640]\teval-mae:16.6677\ttrain-mae:12.8804\n",
      "[1660]\teval-mae:16.6661\ttrain-mae:12.8567\n",
      "[1680]\teval-mae:16.6696\ttrain-mae:12.8342\n",
      "[1700]\teval-mae:16.6637\ttrain-mae:12.8087\n",
      "[1720]\teval-mae:16.664\ttrain-mae:12.7843\n",
      "[1740]\teval-mae:16.6625\ttrain-mae:12.7644\n",
      "[1760]\teval-mae:16.6587\ttrain-mae:12.7418\n",
      "[1780]\teval-mae:16.655\ttrain-mae:12.7195\n",
      "[1800]\teval-mae:16.6525\ttrain-mae:12.6978\n",
      "[1820]\teval-mae:16.6501\ttrain-mae:12.6759\n",
      "[1840]\teval-mae:16.6488\ttrain-mae:12.6544\n",
      "[1860]\teval-mae:16.649\ttrain-mae:12.6347\n",
      "[1880]\teval-mae:16.6394\ttrain-mae:12.6101\n",
      "[1900]\teval-mae:16.6333\ttrain-mae:12.5871\n",
      "[1920]\teval-mae:16.631\ttrain-mae:12.5639\n",
      "[1940]\teval-mae:16.6266\ttrain-mae:12.5424\n",
      "[1960]\teval-mae:16.6229\ttrain-mae:12.5175\n",
      "[1980]\teval-mae:16.6242\ttrain-mae:12.4948\n",
      "[2000]\teval-mae:16.6212\ttrain-mae:12.4718\n",
      "[2020]\teval-mae:16.6182\ttrain-mae:12.4511\n",
      "[2040]\teval-mae:16.6173\ttrain-mae:12.4295\n",
      "[2060]\teval-mae:16.6154\ttrain-mae:12.4099\n",
      "[2080]\teval-mae:16.6116\ttrain-mae:12.3896\n",
      "[2100]\teval-mae:16.6112\ttrain-mae:12.3708\n",
      "[2120]\teval-mae:16.6131\ttrain-mae:12.3511\n",
      "[2140]\teval-mae:16.6126\ttrain-mae:12.3294\n",
      "[2160]\teval-mae:16.6108\ttrain-mae:12.3093\n",
      "[2180]\teval-mae:16.6073\ttrain-mae:12.2883\n",
      "[2200]\teval-mae:16.6083\ttrain-mae:12.2675\n",
      "[2220]\teval-mae:16.6076\ttrain-mae:12.2448\n",
      "[2240]\teval-mae:16.6052\ttrain-mae:12.2233\n",
      "[2260]\teval-mae:16.6049\ttrain-mae:12.2023\n",
      "[2280]\teval-mae:16.6087\ttrain-mae:12.1827\n",
      "[2300]\teval-mae:16.6091\ttrain-mae:12.1628\n",
      "[2320]\teval-mae:16.6101\ttrain-mae:12.141\n",
      "[2340]\teval-mae:16.6074\ttrain-mae:12.1197\n",
      "[2360]\teval-mae:16.6067\ttrain-mae:12.0999\n",
      "[2380]\teval-mae:16.6084\ttrain-mae:12.0784\n",
      "[2400]\teval-mae:16.6067\ttrain-mae:12.06\n",
      "[2420]\teval-mae:16.604\ttrain-mae:12.0391\n",
      "[2440]\teval-mae:16.6022\ttrain-mae:12.0196\n",
      "[2460]\teval-mae:16.5996\ttrain-mae:12.0016\n",
      "[2480]\teval-mae:16.6006\ttrain-mae:11.9821\n",
      "[2500]\teval-mae:16.5979\ttrain-mae:11.9635\n",
      "[2520]\teval-mae:16.596\ttrain-mae:11.9449\n",
      "[2540]\teval-mae:16.5954\ttrain-mae:11.9266\n",
      "[2560]\teval-mae:16.5904\ttrain-mae:11.907\n",
      "[2580]\teval-mae:16.5897\ttrain-mae:11.8884\n",
      "[2600]\teval-mae:16.5911\ttrain-mae:11.8709\n",
      "[2620]\teval-mae:16.5875\ttrain-mae:11.8506\n",
      "[2640]\teval-mae:16.5861\ttrain-mae:11.8331\n",
      "[2660]\teval-mae:16.5843\ttrain-mae:11.8126\n",
      "[2680]\teval-mae:16.5839\ttrain-mae:11.7926\n",
      "[2700]\teval-mae:16.5842\ttrain-mae:11.774\n",
      "[2720]\teval-mae:16.5829\ttrain-mae:11.7555\n",
      "[2740]\teval-mae:16.5786\ttrain-mae:11.7367\n",
      "[2760]\teval-mae:16.5808\ttrain-mae:11.7203\n",
      "[2780]\teval-mae:16.581\ttrain-mae:11.7019\n",
      "[2800]\teval-mae:16.5805\ttrain-mae:11.6841\n",
      "[2820]\teval-mae:16.5796\ttrain-mae:11.6696\n",
      "[2840]\teval-mae:16.5785\ttrain-mae:11.6522\n",
      "[2860]\teval-mae:16.5785\ttrain-mae:11.6345\n",
      "[2880]\teval-mae:16.5778\ttrain-mae:11.6196\n",
      "[2900]\teval-mae:16.5773\ttrain-mae:11.6013\n",
      "[2920]\teval-mae:16.5779\ttrain-mae:11.585\n",
      "[2940]\teval-mae:16.5769\ttrain-mae:11.5676\n",
      "[2960]\teval-mae:16.5763\ttrain-mae:11.551\n",
      "[2980]\teval-mae:16.5757\ttrain-mae:11.5327\n",
      "[3000]\teval-mae:16.5748\ttrain-mae:11.5159\n",
      "[3020]\teval-mae:16.5749\ttrain-mae:11.4996\n",
      "[3040]\teval-mae:16.5732\ttrain-mae:11.4831\n",
      "[3060]\teval-mae:16.5723\ttrain-mae:11.4651\n",
      "[3080]\teval-mae:16.5723\ttrain-mae:11.4492\n",
      "[3100]\teval-mae:16.5692\ttrain-mae:11.4321\n",
      "[3120]\teval-mae:16.5696\ttrain-mae:11.4153\n",
      "[3140]\teval-mae:16.5674\ttrain-mae:11.3995\n",
      "[3160]\teval-mae:16.5637\ttrain-mae:11.3808\n",
      "[3180]\teval-mae:16.5627\ttrain-mae:11.363\n",
      "[3200]\teval-mae:16.5612\ttrain-mae:11.3475\n",
      "[3220]\teval-mae:16.5603\ttrain-mae:11.3307\n",
      "[3240]\teval-mae:16.5585\ttrain-mae:11.3128\n",
      "[3260]\teval-mae:16.5554\ttrain-mae:11.2972\n",
      "[3280]\teval-mae:16.5565\ttrain-mae:11.2795\n",
      "[3300]\teval-mae:16.5567\ttrain-mae:11.2635\n",
      "[3320]\teval-mae:16.5602\ttrain-mae:11.2476\n",
      "[3340]\teval-mae:16.5599\ttrain-mae:11.2288\n",
      "[3360]\teval-mae:16.5609\ttrain-mae:11.2125\n",
      "[3380]\teval-mae:16.5612\ttrain-mae:11.1985\n",
      "[3400]\teval-mae:16.5595\ttrain-mae:11.184\n",
      "[3420]\teval-mae:16.5584\ttrain-mae:11.167\n",
      "[3440]\teval-mae:16.5551\ttrain-mae:11.1522\n",
      "[3460]\teval-mae:16.5535\ttrain-mae:11.1357\n",
      "[3480]\teval-mae:16.5536\ttrain-mae:11.1202\n",
      "[3500]\teval-mae:16.5524\ttrain-mae:11.1041\n",
      "[3520]\teval-mae:16.5515\ttrain-mae:11.0881\n",
      "[3540]\teval-mae:16.5523\ttrain-mae:11.0721\n",
      "[3560]\teval-mae:16.5508\ttrain-mae:11.0555\n",
      "[3580]\teval-mae:16.5483\ttrain-mae:11.0399\n",
      "[3600]\teval-mae:16.5446\ttrain-mae:11.0241\n",
      "[3620]\teval-mae:16.5456\ttrain-mae:11.0098\n",
      "[3640]\teval-mae:16.5447\ttrain-mae:10.9934\n",
      "[3660]\teval-mae:16.5434\ttrain-mae:10.9774\n",
      "[3680]\teval-mae:16.5433\ttrain-mae:10.9631\n",
      "[3700]\teval-mae:16.5451\ttrain-mae:10.9477\n",
      "[3720]\teval-mae:16.5454\ttrain-mae:10.9336\n",
      "[3740]\teval-mae:16.5428\ttrain-mae:10.9198\n",
      "[3760]\teval-mae:16.5439\ttrain-mae:10.9051\n",
      "[3780]\teval-mae:16.5422\ttrain-mae:10.8882\n",
      "[3800]\teval-mae:16.5432\ttrain-mae:10.8723\n",
      "[3820]\teval-mae:16.5419\ttrain-mae:10.857\n",
      "[3840]\teval-mae:16.5405\ttrain-mae:10.8425\n",
      "[3860]\teval-mae:16.5412\ttrain-mae:10.8281\n",
      "[3880]\teval-mae:16.5426\ttrain-mae:10.8132\n",
      "[3900]\teval-mae:16.5424\ttrain-mae:10.7989\n",
      "[3920]\teval-mae:16.5392\ttrain-mae:10.7838\n",
      "[3940]\teval-mae:16.5387\ttrain-mae:10.7686\n",
      "[3960]\teval-mae:16.5395\ttrain-mae:10.7531\n",
      "[3980]\teval-mae:16.5386\ttrain-mae:10.7373\n",
      "[4000]\teval-mae:16.5414\ttrain-mae:10.7222\n",
      "[4020]\teval-mae:16.5405\ttrain-mae:10.7079\n",
      "[4040]\teval-mae:16.5401\ttrain-mae:10.6933\n",
      "[4060]\teval-mae:16.541\ttrain-mae:10.6785\n",
      "[4080]\teval-mae:16.5397\ttrain-mae:10.6642\n",
      "[4100]\teval-mae:16.5398\ttrain-mae:10.6502\n",
      "[4120]\teval-mae:16.5389\ttrain-mae:10.6345\n",
      "[4140]\teval-mae:16.5385\ttrain-mae:10.621\n",
      "[4160]\teval-mae:16.5369\ttrain-mae:10.6061\n",
      "[4180]\teval-mae:16.535\ttrain-mae:10.591\n",
      "[4200]\teval-mae:16.5339\ttrain-mae:10.5778\n",
      "[4220]\teval-mae:16.5318\ttrain-mae:10.5633\n",
      "[4240]\teval-mae:16.5316\ttrain-mae:10.5478\n",
      "[4260]\teval-mae:16.5308\ttrain-mae:10.5337\n",
      "[4280]\teval-mae:16.5296\ttrain-mae:10.5189\n",
      "[4300]\teval-mae:16.5286\ttrain-mae:10.5056\n",
      "[4320]\teval-mae:16.5267\ttrain-mae:10.4905\n",
      "[4340]\teval-mae:16.5271\ttrain-mae:10.4763\n",
      "[4360]\teval-mae:16.5269\ttrain-mae:10.4618\n",
      "[4380]\teval-mae:16.5281\ttrain-mae:10.4499\n",
      "[4400]\teval-mae:16.5272\ttrain-mae:10.4359\n",
      "[4420]\teval-mae:16.5273\ttrain-mae:10.4226\n",
      "[4440]\teval-mae:16.5271\ttrain-mae:10.408\n",
      "[4460]\teval-mae:16.5274\ttrain-mae:10.3941\n",
      "[4480]\teval-mae:16.5259\ttrain-mae:10.3814\n",
      "[4500]\teval-mae:16.5252\ttrain-mae:10.3657\n",
      "[4520]\teval-mae:16.5238\ttrain-mae:10.3522\n",
      "[4540]\teval-mae:16.5228\ttrain-mae:10.3385\n",
      "[4560]\teval-mae:16.523\ttrain-mae:10.3261\n",
      "[4580]\teval-mae:16.5227\ttrain-mae:10.3117\n",
      "[4600]\teval-mae:16.5224\ttrain-mae:10.2984\n",
      "[4620]\teval-mae:16.5233\ttrain-mae:10.2858\n",
      "[4640]\teval-mae:16.5225\ttrain-mae:10.2722\n",
      "[4660]\teval-mae:16.5231\ttrain-mae:10.257\n",
      "[4680]\teval-mae:16.5235\ttrain-mae:10.2435\n",
      "[4700]\teval-mae:16.5245\ttrain-mae:10.2304\n",
      "[4720]\teval-mae:16.5244\ttrain-mae:10.2174\n",
      "[4740]\teval-mae:16.5227\ttrain-mae:10.2039\n",
      "[4760]\teval-mae:16.523\ttrain-mae:10.1901\n",
      "[4780]\teval-mae:16.5213\ttrain-mae:10.1775\n",
      "[4800]\teval-mae:16.5212\ttrain-mae:10.1634\n",
      "[4820]\teval-mae:16.5233\ttrain-mae:10.1509\n",
      "[4840]\teval-mae:16.5234\ttrain-mae:10.1381\n",
      "[4860]\teval-mae:16.522\ttrain-mae:10.1253\n",
      "[4880]\teval-mae:16.5225\ttrain-mae:10.1124\n",
      "[4900]\teval-mae:16.5226\ttrain-mae:10.0999\n",
      "[4920]\teval-mae:16.5224\ttrain-mae:10.0865\n",
      "[4940]\teval-mae:16.5223\ttrain-mae:10.0733\n",
      "[4960]\teval-mae:16.5218\ttrain-mae:10.0614\n",
      "[4980]\teval-mae:16.5225\ttrain-mae:10.0495\n",
      "[5000]\teval-mae:16.5229\ttrain-mae:10.0373\n",
      "[5020]\teval-mae:16.5227\ttrain-mae:10.0243\n",
      "[5040]\teval-mae:16.5222\ttrain-mae:10.0129\n",
      "[5060]\teval-mae:16.5213\ttrain-mae:9.99891\n",
      "[5080]\teval-mae:16.5206\ttrain-mae:9.98655\n",
      "[5100]\teval-mae:16.5206\ttrain-mae:9.97347\n",
      "[5120]\teval-mae:16.5201\ttrain-mae:9.96075\n",
      "[5140]\teval-mae:16.5185\ttrain-mae:9.94653\n",
      "[5160]\teval-mae:16.5197\ttrain-mae:9.93422\n",
      "[5180]\teval-mae:16.5184\ttrain-mae:9.92108\n",
      "[5200]\teval-mae:16.5188\ttrain-mae:9.90803\n",
      "[5220]\teval-mae:16.5172\ttrain-mae:9.89437\n",
      "[5240]\teval-mae:16.5165\ttrain-mae:9.88231\n",
      "[5260]\teval-mae:16.5163\ttrain-mae:9.87006\n",
      "[5280]\teval-mae:16.5156\ttrain-mae:9.85769\n",
      "[5300]\teval-mae:16.515\ttrain-mae:9.84494\n",
      "[5320]\teval-mae:16.516\ttrain-mae:9.83248\n",
      "[5340]\teval-mae:16.5161\ttrain-mae:9.82042\n",
      "[5360]\teval-mae:16.5167\ttrain-mae:9.80876\n",
      "[5380]\teval-mae:16.5166\ttrain-mae:9.79622\n",
      "[5400]\teval-mae:16.5165\ttrain-mae:9.78427\n",
      "[5420]\teval-mae:16.5162\ttrain-mae:9.77198\n",
      "[5440]\teval-mae:16.5163\ttrain-mae:9.75993\n",
      "[5460]\teval-mae:16.5146\ttrain-mae:9.74709\n",
      "[5480]\teval-mae:16.5159\ttrain-mae:9.73525\n",
      "[5500]\teval-mae:16.517\ttrain-mae:9.72202\n",
      "[5520]\teval-mae:16.516\ttrain-mae:9.71114\n",
      "[5540]\teval-mae:16.5153\ttrain-mae:9.69789\n",
      "[5560]\teval-mae:16.5159\ttrain-mae:9.68556\n",
      "[5580]\teval-mae:16.5145\ttrain-mae:9.67185\n",
      "[5600]\teval-mae:16.513\ttrain-mae:9.65985\n",
      "[5620]\teval-mae:16.5127\ttrain-mae:9.648\n",
      "[5640]\teval-mae:16.5125\ttrain-mae:9.63603\n",
      "[5660]\teval-mae:16.5121\ttrain-mae:9.62359\n",
      "[5680]\teval-mae:16.5102\ttrain-mae:9.61191\n",
      "[5700]\teval-mae:16.5105\ttrain-mae:9.60007\n",
      "[5720]\teval-mae:16.5114\ttrain-mae:9.58712\n",
      "[5740]\teval-mae:16.512\ttrain-mae:9.57442\n",
      "[5760]\teval-mae:16.5125\ttrain-mae:9.56239\n",
      "[5780]\teval-mae:16.511\ttrain-mae:9.55125\n",
      "[5800]\teval-mae:16.5096\ttrain-mae:9.5387\n",
      "[5820]\teval-mae:16.5108\ttrain-mae:9.5259\n",
      "[5840]\teval-mae:16.5102\ttrain-mae:9.51412\n",
      "[5860]\teval-mae:16.5103\ttrain-mae:9.50177\n",
      "[5880]\teval-mae:16.5106\ttrain-mae:9.4909\n",
      "[5900]\teval-mae:16.5104\ttrain-mae:9.4798\n",
      "[5920]\teval-mae:16.5104\ttrain-mae:9.46756\n",
      "[5940]\teval-mae:16.5091\ttrain-mae:9.45584\n",
      "[5960]\teval-mae:16.509\ttrain-mae:9.44335\n",
      "[5980]\teval-mae:16.5097\ttrain-mae:9.43137\n",
      "[6000]\teval-mae:16.5092\ttrain-mae:9.41889\n",
      "[6020]\teval-mae:16.5089\ttrain-mae:9.40793\n",
      "[6040]\teval-mae:16.5085\ttrain-mae:9.39871\n",
      "[6060]\teval-mae:16.5079\ttrain-mae:9.3871\n",
      "[6080]\teval-mae:16.5084\ttrain-mae:9.37642\n",
      "[6100]\teval-mae:16.5079\ttrain-mae:9.36552\n",
      "[6120]\teval-mae:16.5084\ttrain-mae:9.3537\n",
      "[6140]\teval-mae:16.5086\ttrain-mae:9.34233\n",
      "[6160]\teval-mae:16.5092\ttrain-mae:9.33096\n",
      "[6180]\teval-mae:16.5093\ttrain-mae:9.32037\n",
      "[6200]\teval-mae:16.5086\ttrain-mae:9.31031\n",
      "[6220]\teval-mae:16.5074\ttrain-mae:9.29794\n",
      "[6240]\teval-mae:16.5073\ttrain-mae:9.28652\n",
      "[6260]\teval-mae:16.507\ttrain-mae:9.2747\n",
      "[6280]\teval-mae:16.5062\ttrain-mae:9.26239\n",
      "[6300]\teval-mae:16.5078\ttrain-mae:9.25128\n",
      "[6320]\teval-mae:16.5058\ttrain-mae:9.23958\n",
      "[6340]\teval-mae:16.5064\ttrain-mae:9.2283\n",
      "[6360]\teval-mae:16.5068\ttrain-mae:9.21806\n",
      "[6380]\teval-mae:16.507\ttrain-mae:9.20588\n",
      "[6400]\teval-mae:16.5075\ttrain-mae:9.19386\n",
      "[6420]\teval-mae:16.5069\ttrain-mae:9.18216\n",
      "[6440]\teval-mae:16.5073\ttrain-mae:9.17089\n",
      "[6460]\teval-mae:16.5068\ttrain-mae:9.16038\n",
      "[6480]\teval-mae:16.5081\ttrain-mae:9.14778\n",
      "[6500]\teval-mae:16.5085\ttrain-mae:9.13855\n",
      "[6520]\teval-mae:16.5083\ttrain-mae:9.12898\n",
      "[6540]\teval-mae:16.5082\ttrain-mae:9.11788\n",
      "[6560]\teval-mae:16.5076\ttrain-mae:9.10668\n",
      "[6580]\teval-mae:16.5071\ttrain-mae:9.09623\n",
      "[6600]\teval-mae:16.5067\ttrain-mae:9.0849\n",
      "[6620]\teval-mae:16.5068\ttrain-mae:9.07334\n",
      "[6640]\teval-mae:16.5067\ttrain-mae:9.062\n",
      "[6660]\teval-mae:16.5071\ttrain-mae:9.05182\n",
      "[6680]\teval-mae:16.5069\ttrain-mae:9.04149\n",
      "[6700]\teval-mae:16.5075\ttrain-mae:9.03146\n",
      "[6720]\teval-mae:16.5074\ttrain-mae:9.0205\n",
      "[6740]\teval-mae:16.5075\ttrain-mae:9.00915\n",
      "[6760]\teval-mae:16.5069\ttrain-mae:8.99822\n",
      "[6780]\teval-mae:16.5076\ttrain-mae:8.98796\n",
      "[6800]\teval-mae:16.5056\ttrain-mae:8.97662\n",
      "[6820]\teval-mae:16.5052\ttrain-mae:8.96608\n",
      "[6840]\teval-mae:16.5054\ttrain-mae:8.95569\n",
      "[6860]\teval-mae:16.5049\ttrain-mae:8.94453\n",
      "[6880]\teval-mae:16.504\ttrain-mae:8.93399\n",
      "[6900]\teval-mae:16.5044\ttrain-mae:8.92275\n",
      "[6920]\teval-mae:16.5052\ttrain-mae:8.91243\n",
      "[6940]\teval-mae:16.5056\ttrain-mae:8.90087\n",
      "[6960]\teval-mae:16.5062\ttrain-mae:8.89142\n",
      "[6980]\teval-mae:16.5067\ttrain-mae:8.88004\n",
      "[7000]\teval-mae:16.5074\ttrain-mae:8.86988\n",
      "[7020]\teval-mae:16.5069\ttrain-mae:8.85971\n",
      "[7040]\teval-mae:16.5066\ttrain-mae:8.84893\n",
      "[7060]\teval-mae:16.5053\ttrain-mae:8.83848\n",
      "[7080]\teval-mae:16.5059\ttrain-mae:8.82785\n",
      "[7100]\teval-mae:16.5051\ttrain-mae:8.81708\n",
      "[7120]\teval-mae:16.5048\ttrain-mae:8.8068\n",
      "[7140]\teval-mae:16.5049\ttrain-mae:8.79702\n",
      "[7160]\teval-mae:16.5044\ttrain-mae:8.78673\n",
      "[7180]\teval-mae:16.5043\ttrain-mae:8.77676\n",
      "[7200]\teval-mae:16.504\ttrain-mae:8.76602\n",
      "[7220]\teval-mae:16.5041\ttrain-mae:8.75588\n",
      "[7240]\teval-mae:16.505\ttrain-mae:8.74691\n",
      "[7260]\teval-mae:16.505\ttrain-mae:8.737\n",
      "[7280]\teval-mae:16.505\ttrain-mae:8.72704\n",
      "[7300]\teval-mae:16.505\ttrain-mae:8.7164\n",
      "[7320]\teval-mae:16.5053\ttrain-mae:8.70699\n",
      "[7340]\teval-mae:16.5059\ttrain-mae:8.69761\n",
      "[7360]\teval-mae:16.505\ttrain-mae:8.68848\n",
      "[7380]\teval-mae:16.5055\ttrain-mae:8.6782\n",
      "[7400]\teval-mae:16.506\ttrain-mae:8.66789\n",
      "[7420]\teval-mae:16.5065\ttrain-mae:8.65708\n",
      "[7440]\teval-mae:16.5065\ttrain-mae:8.64747\n",
      "[7460]\teval-mae:16.5056\ttrain-mae:8.63718\n",
      "[7480]\teval-mae:16.506\ttrain-mae:8.62697\n",
      "[7500]\teval-mae:16.5059\ttrain-mae:8.61568\n",
      "[7520]\teval-mae:16.5063\ttrain-mae:8.60558\n",
      "[7540]\teval-mae:16.5065\ttrain-mae:8.5946\n",
      "[7560]\teval-mae:16.5064\ttrain-mae:8.58454\n",
      "[7580]\teval-mae:16.5064\ttrain-mae:8.57345\n",
      "[7600]\teval-mae:16.5075\ttrain-mae:8.56278\n",
      "[7620]\teval-mae:16.5079\ttrain-mae:8.55215\n",
      "[7640]\teval-mae:16.5074\ttrain-mae:8.54133\n",
      "[7660]\teval-mae:16.5083\ttrain-mae:8.5317\n",
      "[7680]\teval-mae:16.5087\ttrain-mae:8.52204\n",
      "[7700]\teval-mae:16.5092\ttrain-mae:8.51247\n",
      "[7720]\teval-mae:16.5095\ttrain-mae:8.50177\n",
      "[7740]\teval-mae:16.5103\ttrain-mae:8.49097\n",
      "[7760]\teval-mae:16.5098\ttrain-mae:8.48054\n",
      "[7780]\teval-mae:16.5104\ttrain-mae:8.47077\n",
      "[7800]\teval-mae:16.5112\ttrain-mae:8.46063\n",
      "[7820]\teval-mae:16.5105\ttrain-mae:8.45063\n",
      "[7840]\teval-mae:16.5096\ttrain-mae:8.44064\n",
      "[7860]\teval-mae:16.5093\ttrain-mae:8.43023\n",
      "[7880]\teval-mae:16.5092\ttrain-mae:8.41973\n",
      "[7900]\teval-mae:16.5094\ttrain-mae:8.41001\n",
      "[7920]\teval-mae:16.5086\ttrain-mae:8.40017\n",
      "[7940]\teval-mae:16.5084\ttrain-mae:8.38997\n",
      "[7960]\teval-mae:16.5083\ttrain-mae:8.3803\n",
      "[7980]\teval-mae:16.5088\ttrain-mae:8.37106\n",
      "[8000]\teval-mae:16.5089\ttrain-mae:8.36191\n"
     ]
    },
    {
     "ename": "KeyboardInterrupt",
     "evalue": "",
     "output_type": "error",
     "traceback": [
      "\u001b[0;31m---------------------------------------------------------------------------\u001b[0m",
      "\u001b[0;31mKeyboardInterrupt\u001b[0m                         Traceback (most recent call last)",
      "\u001b[0;32m<ipython-input-11-5d69ff3ed2e6>\u001b[0m in \u001b[0;36m<module>\u001b[0;34m()\u001b[0m\n\u001b[1;32m     16\u001b[0m \u001b[0mnum_round\u001b[0m \u001b[0;34m=\u001b[0m \u001b[0;36m8740\u001b[0m\u001b[0;34m\u001b[0m\u001b[0m\n\u001b[1;32m     17\u001b[0m \u001b[0;34m\u001b[0m\u001b[0m\n\u001b[0;32m---> 18\u001b[0;31m \u001b[0mbst\u001b[0m \u001b[0;34m=\u001b[0m \u001b[0mxgb\u001b[0m\u001b[0;34m.\u001b[0m\u001b[0mtrain\u001b[0m\u001b[0;34m(\u001b[0m \u001b[0mparam\u001b[0m\u001b[0;34m,\u001b[0m \u001b[0mdtrain\u001b[0m\u001b[0;34m,\u001b[0m \u001b[0mnum_round\u001b[0m\u001b[0;34m,\u001b[0m \u001b[0mevallist\u001b[0m\u001b[0;34m,\u001b[0m \u001b[0mverbose_eval\u001b[0m\u001b[0;34m=\u001b[0m\u001b[0;36m20\u001b[0m \u001b[0;34m)\u001b[0m\u001b[0;34m\u001b[0m\u001b[0m\n\u001b[0m",
      "\u001b[0;32m/home/laol/env/local/lib/python2.7/site-packages/xgboost-0.6-py2.7.egg/xgboost/training.pyc\u001b[0m in \u001b[0;36mtrain\u001b[0;34m(params, dtrain, num_boost_round, evals, obj, feval, maximize, early_stopping_rounds, evals_result, verbose_eval, learning_rates, xgb_model, callbacks)\u001b[0m\n\u001b[1;32m    201\u001b[0m                            \u001b[0mevals\u001b[0m\u001b[0;34m=\u001b[0m\u001b[0mevals\u001b[0m\u001b[0;34m,\u001b[0m\u001b[0;34m\u001b[0m\u001b[0m\n\u001b[1;32m    202\u001b[0m                            \u001b[0mobj\u001b[0m\u001b[0;34m=\u001b[0m\u001b[0mobj\u001b[0m\u001b[0;34m,\u001b[0m \u001b[0mfeval\u001b[0m\u001b[0;34m=\u001b[0m\u001b[0mfeval\u001b[0m\u001b[0;34m,\u001b[0m\u001b[0;34m\u001b[0m\u001b[0m\n\u001b[0;32m--> 203\u001b[0;31m                            xgb_model=xgb_model, callbacks=callbacks)\n\u001b[0m\u001b[1;32m    204\u001b[0m \u001b[0;34m\u001b[0m\u001b[0m\n\u001b[1;32m    205\u001b[0m \u001b[0;34m\u001b[0m\u001b[0m\n",
      "\u001b[0;32m/home/laol/env/local/lib/python2.7/site-packages/xgboost-0.6-py2.7.egg/xgboost/training.pyc\u001b[0m in \u001b[0;36m_train_internal\u001b[0;34m(params, dtrain, num_boost_round, evals, obj, feval, xgb_model, callbacks)\u001b[0m\n\u001b[1;32m     82\u001b[0m         \u001b[0;31m# check evaluation result.\u001b[0m\u001b[0;34m\u001b[0m\u001b[0;34m\u001b[0m\u001b[0m\n\u001b[1;32m     83\u001b[0m         \u001b[0;32mif\u001b[0m \u001b[0mlen\u001b[0m\u001b[0;34m(\u001b[0m\u001b[0mevals\u001b[0m\u001b[0;34m)\u001b[0m \u001b[0;34m!=\u001b[0m \u001b[0;36m0\u001b[0m\u001b[0;34m:\u001b[0m\u001b[0;34m\u001b[0m\u001b[0m\n\u001b[0;32m---> 84\u001b[0;31m             \u001b[0mbst_eval_set\u001b[0m \u001b[0;34m=\u001b[0m \u001b[0mbst\u001b[0m\u001b[0;34m.\u001b[0m\u001b[0meval_set\u001b[0m\u001b[0;34m(\u001b[0m\u001b[0mevals\u001b[0m\u001b[0;34m,\u001b[0m \u001b[0mi\u001b[0m\u001b[0;34m,\u001b[0m \u001b[0mfeval\u001b[0m\u001b[0;34m)\u001b[0m\u001b[0;34m\u001b[0m\u001b[0m\n\u001b[0m\u001b[1;32m     85\u001b[0m             \u001b[0;32mif\u001b[0m \u001b[0misinstance\u001b[0m\u001b[0;34m(\u001b[0m\u001b[0mbst_eval_set\u001b[0m\u001b[0;34m,\u001b[0m \u001b[0mSTRING_TYPES\u001b[0m\u001b[0;34m)\u001b[0m\u001b[0;34m:\u001b[0m\u001b[0;34m\u001b[0m\u001b[0m\n\u001b[1;32m     86\u001b[0m                 \u001b[0mmsg\u001b[0m \u001b[0;34m=\u001b[0m \u001b[0mbst_eval_set\u001b[0m\u001b[0;34m\u001b[0m\u001b[0m\n",
      "\u001b[0;32m/home/laol/env/local/lib/python2.7/site-packages/xgboost-0.6-py2.7.egg/xgboost/core.pyc\u001b[0m in \u001b[0;36meval_set\u001b[0;34m(self, evals, iteration, feval)\u001b[0m\n\u001b[1;32m    877\u001b[0m         _check_call(_LIB.XGBoosterEvalOneIter(self.handle, iteration,\n\u001b[1;32m    878\u001b[0m                                               \u001b[0mdmats\u001b[0m\u001b[0;34m,\u001b[0m \u001b[0mevnames\u001b[0m\u001b[0;34m,\u001b[0m \u001b[0mlen\u001b[0m\u001b[0;34m(\u001b[0m\u001b[0mevals\u001b[0m\u001b[0;34m)\u001b[0m\u001b[0;34m,\u001b[0m\u001b[0;34m\u001b[0m\u001b[0m\n\u001b[0;32m--> 879\u001b[0;31m                                               ctypes.byref(msg)))\n\u001b[0m\u001b[1;32m    880\u001b[0m         \u001b[0mres\u001b[0m \u001b[0;34m=\u001b[0m \u001b[0mmsg\u001b[0m\u001b[0;34m.\u001b[0m\u001b[0mvalue\u001b[0m\u001b[0;34m.\u001b[0m\u001b[0mdecode\u001b[0m\u001b[0;34m(\u001b[0m\u001b[0;34m)\u001b[0m\u001b[0;34m\u001b[0m\u001b[0m\n\u001b[1;32m    881\u001b[0m         \u001b[0;32mif\u001b[0m \u001b[0mfeval\u001b[0m \u001b[0;32mis\u001b[0m \u001b[0;32mnot\u001b[0m \u001b[0mNone\u001b[0m\u001b[0;34m:\u001b[0m\u001b[0;34m\u001b[0m\u001b[0m\n",
      "\u001b[0;31mKeyboardInterrupt\u001b[0m: "
     ]
    }
   ],
   "source": [
    "dtrain = xgb.DMatrix( X_train, label=y_train)\n",
    "dtest = xgb.DMatrix( X_test, label=y_test)\n",
    "dres = xgb.DMatrix( X_res )\n",
    "evallist  = [(dtest,'eval'), (dtrain,'train')]\n",
    "\n",
    "param = {'max_depth': 6,\n",
    " \t\t'silent': 1,\n",
    " \t\t'eta': 0.01,\n",
    " \t\t'eval_metric': 'mae',\n",
    "         'subsample' : 0.9,\n",
    "         'colsample_bytree':0.5,\n",
    "         'tree_method':'exact',\n",
    "         \n",
    " }\n",
    "\n",
    "num_round = 8740\n",
    "\n",
    "bst = xgb.train( param, dtrain, num_round, evallist, verbose_eval=20 )"
   ]
  },
  {
   "cell_type": "code",
   "execution_count": 3,
   "metadata": {
    "collapsed": false,
    "scrolled": false
   },
   "outputs": [
    {
     "data": {
      "text/plain": [
       "{'MeanForMonth': 14201,\n",
       " 'MeanForMonthByPoints': 28137,\n",
       " 'MeanForMonthDay': 20587,\n",
       " 'MeanForThroughMonth': 11180,\n",
       " 'MeanForWeekDay': 10706,\n",
       " 'MeanForWeekDayByPoints': 31423,\n",
       " 'MeanForYear': 2215,\n",
       " 'Month': 6038,\n",
       " 'MonthDay': 15097,\n",
       " 'Next1Day': 18125,\n",
       " 'Next7Day': 18217,\n",
       " 'NextExisting14Value': 24822,\n",
       " 'NextExisting1Value': 10433,\n",
       " 'NextExisting21Value': 23309,\n",
       " 'NextExisting2Value': 20597,\n",
       " 'NextExisting30Value': 21309,\n",
       " 'NextExisting3Value': 20732,\n",
       " 'NextExisting7Value': 23109,\n",
       " 'Prev1Day': 16131,\n",
       " 'Prev7Day': 16766,\n",
       " 'PrevExisting14Value': 23266,\n",
       " 'PrevExisting1Value': 9843,\n",
       " 'PrevExisting21Value': 22350,\n",
       " 'PrevExisting2Value': 18966,\n",
       " 'PrevExisting30Value': 22012,\n",
       " 'PrevExisting3Value': 20689,\n",
       " 'PrevExisting7Value': 21812,\n",
       " 'ThroughDay': 18189,\n",
       " 'ThroughMonth': 3611,\n",
       " 'ThroughWeek': 5415,\n",
       " 'WeekDay': 6344,\n",
       " 'Year': 202,\n",
       " 'YearDay': 18093}"
      ]
     },
     "execution_count": 3,
     "metadata": {},
     "output_type": "execute_result"
    }
   ],
   "source": [
    "bst.get_fscore()"
   ]
  },
  {
   "cell_type": "code",
   "execution_count": 251,
   "metadata": {
    "collapsed": false
   },
   "outputs": [
    {
     "data": {
      "text/plain": [
       "Index([u'MeanForMonth', u'MeanForMonthByPoints', u'MeanForMonthDay',\n",
       "       u'MeanForThroughMonth', u'MeanForWeekDay', u'MeanForWeekDayByPoints',\n",
       "       u'MeanForYear', u'Month', u'MonthDay', u'Next1Day', u'Next7Day',\n",
       "       u'NextExisting14Value', u'NextExisting1Value', u'NextExisting21Value',\n",
       "       u'NextExisting2Value', u'NextExisting30Value', u'NextExisting3Value',\n",
       "       u'NextExisting7Value', u'Prev1Day', u'Prev7Day', u'PrevExisting14Value',\n",
       "       u'PrevExisting1Value', u'PrevExisting21Value', u'PrevExisting2Value',\n",
       "       u'PrevExisting30Value', u'PrevExisting3Value', u'PrevExisting7Value',\n",
       "       u'ThroughDay', u'ThroughMonth', u'ThroughWeek', u'WeekDay', u'Year',\n",
       "       u'YearDay'],\n",
       "      dtype='object')"
      ]
     },
     "execution_count": 251,
     "metadata": {},
     "output_type": "execute_result"
    }
   ],
   "source": [
    "X_train.columns"
   ]
  },
  {
   "cell_type": "code",
   "execution_count": null,
   "metadata": {
    "collapsed": false
   },
   "outputs": [],
   "source": []
  },
  {
   "cell_type": "code",
   "execution_count": 252,
   "metadata": {
    "collapsed": false
   },
   "outputs": [
    {
     "data": {
      "text/plain": [
       "Index([u'Count', u'Date', u'IsTest', u'IsTrain', u'IsValidation', u'Year',\n",
       "       u'Month', u'MonthDay', u'WeekDay', u'Point', u'YearDay',\n",
       "       u'ThroughMonth', u'ThroughWeek', u'ThroughDay', u'Prev1Day',\n",
       "       u'Prev2Day', u'Prev3Day', u'Prev7Day', u'Next1Day', u'Next2Day',\n",
       "       u'Next3Day', u'Next7Day', u'MeanForMonth', u'MeanForMonthDay',\n",
       "       u'MeanForThroughMonth', u'MeanForThroughWeek', u'MeanForWeekDay',\n",
       "       u'MeanForYear', u'MeanForYearDay', u'MeanForMonthByPoints',\n",
       "       u'MeanForMonthDayByPoints', u'MeanForThroughMonthByPoints',\n",
       "       u'MeanForThroughWeekByPoints', u'MeanForWeekDayByPoints',\n",
       "       u'MeanForYearByPoints', u'MeanForYearDayByPoints',\n",
       "       u'NextExisting1Value', u'NextExisting2Value', u'NextExisting3Value',\n",
       "       u'NextExisting7Value', u'NextExisting14Value', u'NextExisting21Value',\n",
       "       u'NextExisting30Value', u'PrevExisting1Value', u'PrevExisting2Value',\n",
       "       u'PrevExisting3Value', u'PrevExisting7Value', u'PrevExisting14Value',\n",
       "       u'PrevExisting21Value', u'PrevExisting30Value'],\n",
       "      dtype='object')"
      ]
     },
     "execution_count": 252,
     "metadata": {},
     "output_type": "execute_result"
    }
   ],
   "source": [
    "features.columns"
   ]
  },
  {
   "cell_type": "code",
   "execution_count": null,
   "metadata": {
    "collapsed": true
   },
   "outputs": [],
   "source": []
  },
  {
   "cell_type": "code",
   "execution_count": null,
   "metadata": {
    "collapsed": false
   },
   "outputs": [],
   "source": []
  },
  {
   "cell_type": "code",
   "execution_count": 283,
   "metadata": {
    "collapsed": false,
    "scrolled": true
   },
   "outputs": [],
   "source": []
  },
  {
   "cell_type": "code",
   "execution_count": null,
   "metadata": {
    "collapsed": false
   },
   "outputs": [],
   "source": []
  },
  {
   "cell_type": "code",
   "execution_count": null,
   "metadata": {
    "collapsed": false
   },
   "outputs": [],
   "source": []
  },
  {
   "cell_type": "code",
   "execution_count": null,
   "metadata": {
    "collapsed": true
   },
   "outputs": [],
   "source": []
  },
  {
   "cell_type": "code",
   "execution_count": null,
   "metadata": {
    "collapsed": true
   },
   "outputs": [],
   "source": []
  },
  {
   "cell_type": "code",
   "execution_count": null,
   "metadata": {
    "collapsed": true
   },
   "outputs": [],
   "source": []
  },
  {
   "cell_type": "code",
   "execution_count": null,
   "metadata": {
    "collapsed": true
   },
   "outputs": [],
   "source": []
  },
  {
   "cell_type": "code",
   "execution_count": null,
   "metadata": {
    "collapsed": true
   },
   "outputs": [],
   "source": []
  },
  {
   "cell_type": "code",
   "execution_count": null,
   "metadata": {
    "collapsed": true
   },
   "outputs": [],
   "source": []
  },
  {
   "cell_type": "code",
   "execution_count": null,
   "metadata": {
    "collapsed": true
   },
   "outputs": [],
   "source": []
  },
  {
   "cell_type": "code",
   "execution_count": null,
   "metadata": {
    "collapsed": true
   },
   "outputs": [],
   "source": []
  },
  {
   "cell_type": "code",
   "execution_count": null,
   "metadata": {
    "collapsed": true
   },
   "outputs": [],
   "source": []
  },
  {
   "cell_type": "code",
   "execution_count": null,
   "metadata": {
    "collapsed": true
   },
   "outputs": [],
   "source": []
  },
  {
   "cell_type": "code",
   "execution_count": null,
   "metadata": {
    "collapsed": true
   },
   "outputs": [],
   "source": [
    "result = bst.predict(dres)"
   ]
  },
  {
   "cell_type": "code",
   "execution_count": 255,
   "metadata": {
    "collapsed": false
   },
   "outputs": [],
   "source": [
    "resDataFrame = pd.DataFrame()\n",
    "resDataFrame[\"Date\"] = data.Date[data.IsTest == True]\n",
    "resDataFrame.Date = resDataFrame.Date.apply(lambda x: pd.to_datetime(x))\n",
    "resDataFrame[\"Point\"] = data.Point[data.IsTest == True]\n",
    "resDataFrame.index = range(resDataFrame.shape[0])\n",
    "resDataFrame[\"Count\"] = pd.Series(result)"
   ]
  },
  {
   "cell_type": "code",
   "execution_count": 256,
   "metadata": {
    "collapsed": false,
    "scrolled": true
   },
   "outputs": [
    {
     "data": {
      "text/html": [
       "<div>\n",
       "<table border=\"1\" class=\"dataframe\">\n",
       "  <thead>\n",
       "    <tr style=\"text-align: right;\">\n",
       "      <th></th>\n",
       "      <th>Date</th>\n",
       "      <th>Point</th>\n",
       "      <th>Count</th>\n",
       "    </tr>\n",
       "  </thead>\n",
       "  <tbody>\n",
       "    <tr>\n",
       "      <th>0</th>\n",
       "      <td>2011-12-14</td>\n",
       "      <td>Сыктывкар-1</td>\n",
       "      <td>72.712013</td>\n",
       "    </tr>\n",
       "    <tr>\n",
       "      <th>1</th>\n",
       "      <td>2011-12-19</td>\n",
       "      <td>Сыктывкар-1</td>\n",
       "      <td>77.765015</td>\n",
       "    </tr>\n",
       "    <tr>\n",
       "      <th>2</th>\n",
       "      <td>2011-12-26</td>\n",
       "      <td>Сыктывкар-1</td>\n",
       "      <td>126.016167</td>\n",
       "    </tr>\n",
       "    <tr>\n",
       "      <th>3</th>\n",
       "      <td>2011-12-27</td>\n",
       "      <td>Сыктывкар-1</td>\n",
       "      <td>127.293762</td>\n",
       "    </tr>\n",
       "    <tr>\n",
       "      <th>4</th>\n",
       "      <td>2012-01-12</td>\n",
       "      <td>Сыктывкар-1</td>\n",
       "      <td>115.324005</td>\n",
       "    </tr>\n",
       "  </tbody>\n",
       "</table>\n",
       "</div>"
      ],
      "text/plain": [
       "        Date        Point       Count\n",
       "0 2011-12-14  Сыктывкар-1   72.712013\n",
       "1 2011-12-19  Сыктывкар-1   77.765015\n",
       "2 2011-12-26  Сыктывкар-1  126.016167\n",
       "3 2011-12-27  Сыктывкар-1  127.293762\n",
       "4 2012-01-12  Сыктывкар-1  115.324005"
      ]
     },
     "execution_count": 256,
     "metadata": {},
     "output_type": "execute_result"
    }
   ],
   "source": [
    "resDataFrame.head()"
   ]
  },
  {
   "cell_type": "code",
   "execution_count": 257,
   "metadata": {
    "collapsed": false
   },
   "outputs": [
    {
     "data": {
      "text/html": [
       "<div>\n",
       "<table border=\"1\" class=\"dataframe\">\n",
       "  <thead>\n",
       "    <tr style=\"text-align: right;\">\n",
       "      <th></th>\n",
       "      <th>Date</th>\n",
       "      <th>Point</th>\n",
       "      <th>Count</th>\n",
       "    </tr>\n",
       "  </thead>\n",
       "  <tbody>\n",
       "    <tr>\n",
       "      <th>7332</th>\n",
       "      <td>2016-09-27</td>\n",
       "      <td>Новоалтайск-1</td>\n",
       "      <td>15.382772</td>\n",
       "    </tr>\n",
       "    <tr>\n",
       "      <th>7333</th>\n",
       "      <td>2016-09-27</td>\n",
       "      <td>Энгельс-1</td>\n",
       "      <td>45.560207</td>\n",
       "    </tr>\n",
       "    <tr>\n",
       "      <th>7334</th>\n",
       "      <td>2016-09-27</td>\n",
       "      <td>Зеленоград-1</td>\n",
       "      <td>134.546265</td>\n",
       "    </tr>\n",
       "    <tr>\n",
       "      <th>7335</th>\n",
       "      <td>2016-09-27</td>\n",
       "      <td>Ленинск-Кузнецкий-1</td>\n",
       "      <td>42.577305</td>\n",
       "    </tr>\n",
       "    <tr>\n",
       "      <th>7336</th>\n",
       "      <td>2016-09-27</td>\n",
       "      <td>Самара-3</td>\n",
       "      <td>311.740906</td>\n",
       "    </tr>\n",
       "  </tbody>\n",
       "</table>\n",
       "</div>"
      ],
      "text/plain": [
       "           Date                Point       Count\n",
       "7332 2016-09-27        Новоалтайск-1   15.382772\n",
       "7333 2016-09-27            Энгельс-1   45.560207\n",
       "7334 2016-09-27         Зеленоград-1  134.546265\n",
       "7335 2016-09-27  Ленинск-Кузнецкий-1   42.577305\n",
       "7336 2016-09-27             Самара-3  311.740906"
      ]
     },
     "execution_count": 257,
     "metadata": {},
     "output_type": "execute_result"
    }
   ],
   "source": [
    "resDataFrame.tail()"
   ]
  },
  {
   "cell_type": "code",
   "execution_count": 258,
   "metadata": {
    "collapsed": false
   },
   "outputs": [
    {
     "data": {
      "text/plain": [
       "(7337, 3)"
      ]
     },
     "execution_count": 258,
     "metadata": {},
     "output_type": "execute_result"
    }
   ],
   "source": [
    "resDataFrame.shape"
   ]
  },
  {
   "cell_type": "code",
   "execution_count": 259,
   "metadata": {
    "collapsed": true
   },
   "outputs": [],
   "source": [
    "originTest = pd.read_csv(\"data_original/test.csv\")"
   ]
  },
  {
   "cell_type": "code",
   "execution_count": 260,
   "metadata": {
    "collapsed": false
   },
   "outputs": [],
   "source": [
    "originTest.Date = originTest.Date.apply(lambda x: pd.to_datetime(x, format='%d.%m.%Y'))"
   ]
  },
  {
   "cell_type": "markdown",
   "metadata": {
    "collapsed": false
   },
   "source": [
    "originTest.head()"
   ]
  },
  {
   "cell_type": "code",
   "execution_count": 261,
   "metadata": {
    "collapsed": false
   },
   "outputs": [
    {
     "data": {
      "text/html": [
       "<div>\n",
       "<table border=\"1\" class=\"dataframe\">\n",
       "  <thead>\n",
       "    <tr style=\"text-align: right;\">\n",
       "      <th></th>\n",
       "      <th>Date</th>\n",
       "      <th>Point</th>\n",
       "      <th>Count</th>\n",
       "    </tr>\n",
       "  </thead>\n",
       "  <tbody>\n",
       "    <tr>\n",
       "      <th>6495</th>\n",
       "      <td>2016-07-08</td>\n",
       "      <td>Ульяновск-2</td>\n",
       "      <td>235.61293</td>\n",
       "    </tr>\n",
       "  </tbody>\n",
       "</table>\n",
       "</div>"
      ],
      "text/plain": [
       "           Date        Point      Count\n",
       "6495 2016-07-08  Ульяновск-2  235.61293"
      ]
     },
     "execution_count": 261,
     "metadata": {},
     "output_type": "execute_result"
    }
   ],
   "source": [
    "resDataFrame[(resDataFrame.Date == originTest.Date[0]) & (resDataFrame.Point == originTest.Point[0]) ]"
   ]
  },
  {
   "cell_type": "code",
   "execution_count": 262,
   "metadata": {
    "collapsed": false,
    "scrolled": true
   },
   "outputs": [],
   "source": [
    "resNP = np.array([np.nan] * originTest.shape[0])\n",
    "for i in originTest.index:\n",
    "    resNP[i] = resDataFrame.Count[(resDataFrame.Date == originTest.Date[i]) &\n",
    "                                             (resDataFrame.Point == originTest.Point[i])]"
   ]
  },
  {
   "cell_type": "code",
   "execution_count": 263,
   "metadata": {
    "collapsed": false
   },
   "outputs": [
    {
     "data": {
      "text/plain": [
       "(7337,)"
      ]
     },
     "execution_count": 263,
     "metadata": {},
     "output_type": "execute_result"
    }
   ],
   "source": [
    "resNP.shape"
   ]
  },
  {
   "cell_type": "code",
   "execution_count": 264,
   "metadata": {
    "collapsed": false
   },
   "outputs": [],
   "source": [
    "originTest.Count = pd.Series(resNP)"
   ]
  },
  {
   "cell_type": "code",
   "execution_count": 265,
   "metadata": {
    "collapsed": true
   },
   "outputs": [],
   "source": [
    "originTest.Count = originTest.Count.apply(lambda x: 1 if x < 1 else x)"
   ]
  },
  {
   "cell_type": "code",
   "execution_count": 266,
   "metadata": {
    "collapsed": false
   },
   "outputs": [],
   "source": [
    "originTest.Count = originTest.Count.apply(lambda x: round(x) if abs(x - round(x)) < 0.2 else x)"
   ]
  },
  {
   "cell_type": "code",
   "execution_count": 267,
   "metadata": {
    "collapsed": true
   },
   "outputs": [],
   "source": [
    "originTest['Year'] = originTest.Date.apply(lambda x: x.year)\n",
    "originTest['Month'] = originTest.Date.apply(lambda x: x.month)\n",
    "originTest['MonthDay'] = originTest.Date.apply(lambda x: x.day)"
   ]
  },
  {
   "cell_type": "code",
   "execution_count": 268,
   "metadata": {
    "collapsed": false
   },
   "outputs": [],
   "source": [
    "OriginalDate = []\n",
    "k = 9\n",
    "for i in range(originTest.shape[0]):\n",
    "    daystr = str(originTest.MonthDay[i]) if originTest.MonthDay[i] >= 10 else  \"0\" + str(originTest.MonthDay[i])\n",
    "    monthstr = str(originTest.Month[i]) if originTest.Month[i] >= 10 else  \"0\" + str(originTest.Month[i])\n",
    "    OriginalDate.append(daystr + \".\" + monthstr + \".\" +  str(originTest.Year[i]))"
   ]
  },
  {
   "cell_type": "code",
   "execution_count": null,
   "metadata": {
    "collapsed": false
   },
   "outputs": [],
   "source": []
  },
  {
   "cell_type": "code",
   "execution_count": null,
   "metadata": {
    "collapsed": true
   },
   "outputs": [],
   "source": []
  },
  {
   "cell_type": "code",
   "execution_count": 269,
   "metadata": {
    "collapsed": true
   },
   "outputs": [],
   "source": [
    "originTest[\"OriginalDate\"] = pd.Series(OriginalDate)"
   ]
  },
  {
   "cell_type": "code",
   "execution_count": 270,
   "metadata": {
    "collapsed": false,
    "scrolled": true
   },
   "outputs": [
    {
     "data": {
      "text/html": [
       "<div>\n",
       "<table border=\"1\" class=\"dataframe\">\n",
       "  <thead>\n",
       "    <tr style=\"text-align: right;\">\n",
       "      <th></th>\n",
       "      <th>Date</th>\n",
       "      <th>Point</th>\n",
       "      <th>Count</th>\n",
       "      <th>Year</th>\n",
       "      <th>Month</th>\n",
       "      <th>MonthDay</th>\n",
       "      <th>OriginalDate</th>\n",
       "    </tr>\n",
       "  </thead>\n",
       "  <tbody>\n",
       "    <tr>\n",
       "      <th>0</th>\n",
       "      <td>2016-07-08</td>\n",
       "      <td>Ульяновск-2</td>\n",
       "      <td>235.612930</td>\n",
       "      <td>2016</td>\n",
       "      <td>7</td>\n",
       "      <td>8</td>\n",
       "      <td>08.07.2016</td>\n",
       "    </tr>\n",
       "    <tr>\n",
       "      <th>1</th>\n",
       "      <td>2016-07-25</td>\n",
       "      <td>Балашиха-1</td>\n",
       "      <td>94.007462</td>\n",
       "      <td>2016</td>\n",
       "      <td>7</td>\n",
       "      <td>25</td>\n",
       "      <td>25.07.2016</td>\n",
       "    </tr>\n",
       "    <tr>\n",
       "      <th>2</th>\n",
       "      <td>2014-11-09</td>\n",
       "      <td>Ухта-1</td>\n",
       "      <td>233.761780</td>\n",
       "      <td>2014</td>\n",
       "      <td>11</td>\n",
       "      <td>9</td>\n",
       "      <td>09.11.2014</td>\n",
       "    </tr>\n",
       "    <tr>\n",
       "      <th>3</th>\n",
       "      <td>2015-11-12</td>\n",
       "      <td>Альметьевск-1</td>\n",
       "      <td>61.068512</td>\n",
       "      <td>2015</td>\n",
       "      <td>11</td>\n",
       "      <td>12</td>\n",
       "      <td>12.11.2015</td>\n",
       "    </tr>\n",
       "    <tr>\n",
       "      <th>4</th>\n",
       "      <td>2014-07-17</td>\n",
       "      <td>Ухта-1</td>\n",
       "      <td>145.457733</td>\n",
       "      <td>2014</td>\n",
       "      <td>7</td>\n",
       "      <td>17</td>\n",
       "      <td>17.07.2014</td>\n",
       "    </tr>\n",
       "  </tbody>\n",
       "</table>\n",
       "</div>"
      ],
      "text/plain": [
       "        Date          Point       Count  Year  Month  MonthDay OriginalDate\n",
       "0 2016-07-08    Ульяновск-2  235.612930  2016      7         8   08.07.2016\n",
       "1 2016-07-25     Балашиха-1   94.007462  2016      7        25   25.07.2016\n",
       "2 2014-11-09         Ухта-1  233.761780  2014     11         9   09.11.2014\n",
       "3 2015-11-12  Альметьевск-1   61.068512  2015     11        12   12.11.2015\n",
       "4 2014-07-17         Ухта-1  145.457733  2014      7        17   17.07.2014"
      ]
     },
     "execution_count": 270,
     "metadata": {},
     "output_type": "execute_result"
    }
   ],
   "source": [
    "originTest.head()"
   ]
  },
  {
   "cell_type": "code",
   "execution_count": null,
   "metadata": {
    "collapsed": false
   },
   "outputs": [],
   "source": []
  },
  {
   "cell_type": "code",
   "execution_count": 271,
   "metadata": {
    "collapsed": false
   },
   "outputs": [
    {
     "data": {
      "text/html": [
       "<div>\n",
       "<table border=\"1\" class=\"dataframe\">\n",
       "  <thead>\n",
       "    <tr style=\"text-align: right;\">\n",
       "      <th></th>\n",
       "      <th>Date</th>\n",
       "      <th>Point</th>\n",
       "      <th>Count</th>\n",
       "      <th>Year</th>\n",
       "      <th>Month</th>\n",
       "      <th>MonthDay</th>\n",
       "      <th>OriginalDate</th>\n",
       "    </tr>\n",
       "  </thead>\n",
       "  <tbody>\n",
       "    <tr>\n",
       "      <th>7332</th>\n",
       "      <td>2015-05-27</td>\n",
       "      <td>Белгород-1</td>\n",
       "      <td>70.455986</td>\n",
       "      <td>2015</td>\n",
       "      <td>5</td>\n",
       "      <td>27</td>\n",
       "      <td>27.05.2015</td>\n",
       "    </tr>\n",
       "    <tr>\n",
       "      <th>7333</th>\n",
       "      <td>2015-01-31</td>\n",
       "      <td>Самара-3</td>\n",
       "      <td>203.843674</td>\n",
       "      <td>2015</td>\n",
       "      <td>1</td>\n",
       "      <td>31</td>\n",
       "      <td>31.01.2015</td>\n",
       "    </tr>\n",
       "    <tr>\n",
       "      <th>7334</th>\n",
       "      <td>2015-11-12</td>\n",
       "      <td>Вологда-1</td>\n",
       "      <td>37.281940</td>\n",
       "      <td>2015</td>\n",
       "      <td>11</td>\n",
       "      <td>12</td>\n",
       "      <td>12.11.2015</td>\n",
       "    </tr>\n",
       "    <tr>\n",
       "      <th>7335</th>\n",
       "      <td>2016-05-07</td>\n",
       "      <td>Домодедово-1</td>\n",
       "      <td>103.901634</td>\n",
       "      <td>2016</td>\n",
       "      <td>5</td>\n",
       "      <td>7</td>\n",
       "      <td>07.05.2016</td>\n",
       "    </tr>\n",
       "    <tr>\n",
       "      <th>7336</th>\n",
       "      <td>2015-04-18</td>\n",
       "      <td>Махачкала-1</td>\n",
       "      <td>104.617760</td>\n",
       "      <td>2015</td>\n",
       "      <td>4</td>\n",
       "      <td>18</td>\n",
       "      <td>18.04.2015</td>\n",
       "    </tr>\n",
       "  </tbody>\n",
       "</table>\n",
       "</div>"
      ],
      "text/plain": [
       "           Date         Point       Count  Year  Month  MonthDay OriginalDate\n",
       "7332 2015-05-27    Белгород-1   70.455986  2015      5        27   27.05.2015\n",
       "7333 2015-01-31      Самара-3  203.843674  2015      1        31   31.01.2015\n",
       "7334 2015-11-12     Вологда-1   37.281940  2015     11        12   12.11.2015\n",
       "7335 2016-05-07  Домодедово-1  103.901634  2016      5         7   07.05.2016\n",
       "7336 2015-04-18   Махачкала-1  104.617760  2015      4        18   18.04.2015"
      ]
     },
     "execution_count": 271,
     "metadata": {},
     "output_type": "execute_result"
    }
   ],
   "source": [
    "originTest.tail()"
   ]
  },
  {
   "cell_type": "code",
   "execution_count": 272,
   "metadata": {
    "collapsed": false
   },
   "outputs": [],
   "source": [
    "originTest = originTest[[\"OriginalDate\", \"Point\", \"Count\"]]"
   ]
  },
  {
   "cell_type": "code",
   "execution_count": 273,
   "metadata": {
    "collapsed": false
   },
   "outputs": [
    {
     "data": {
      "text/html": [
       "<div>\n",
       "<table border=\"1\" class=\"dataframe\">\n",
       "  <thead>\n",
       "    <tr style=\"text-align: right;\">\n",
       "      <th></th>\n",
       "      <th>OriginalDate</th>\n",
       "      <th>Point</th>\n",
       "      <th>Count</th>\n",
       "    </tr>\n",
       "  </thead>\n",
       "  <tbody>\n",
       "    <tr>\n",
       "      <th>0</th>\n",
       "      <td>08.07.2016</td>\n",
       "      <td>Ульяновск-2</td>\n",
       "      <td>235.612930</td>\n",
       "    </tr>\n",
       "    <tr>\n",
       "      <th>1</th>\n",
       "      <td>25.07.2016</td>\n",
       "      <td>Балашиха-1</td>\n",
       "      <td>94.007462</td>\n",
       "    </tr>\n",
       "    <tr>\n",
       "      <th>2</th>\n",
       "      <td>09.11.2014</td>\n",
       "      <td>Ухта-1</td>\n",
       "      <td>233.761780</td>\n",
       "    </tr>\n",
       "    <tr>\n",
       "      <th>3</th>\n",
       "      <td>12.11.2015</td>\n",
       "      <td>Альметьевск-1</td>\n",
       "      <td>61.068512</td>\n",
       "    </tr>\n",
       "    <tr>\n",
       "      <th>4</th>\n",
       "      <td>17.07.2014</td>\n",
       "      <td>Ухта-1</td>\n",
       "      <td>145.457733</td>\n",
       "    </tr>\n",
       "  </tbody>\n",
       "</table>\n",
       "</div>"
      ],
      "text/plain": [
       "  OriginalDate          Point       Count\n",
       "0   08.07.2016    Ульяновск-2  235.612930\n",
       "1   25.07.2016     Балашиха-1   94.007462\n",
       "2   09.11.2014         Ухта-1  233.761780\n",
       "3   12.11.2015  Альметьевск-1   61.068512\n",
       "4   17.07.2014         Ухта-1  145.457733"
      ]
     },
     "execution_count": 273,
     "metadata": {},
     "output_type": "execute_result"
    }
   ],
   "source": [
    "originTest.head()"
   ]
  },
  {
   "cell_type": "code",
   "execution_count": 274,
   "metadata": {
    "collapsed": false
   },
   "outputs": [],
   "source": [
    "originTest.to_csv('submission.csv', index=None, header=None)"
   ]
  },
  {
   "cell_type": "code",
   "execution_count": 275,
   "metadata": {
    "collapsed": false
   },
   "outputs": [
    {
     "data": {
      "text/plain": [
       "OriginalDate    False\n",
       "Point           False\n",
       "Count           False\n",
       "dtype: bool"
      ]
     },
     "execution_count": 275,
     "metadata": {},
     "output_type": "execute_result"
    }
   ],
   "source": [
    "pd.isnull(originTest).sum() > 0"
   ]
  },
  {
   "cell_type": "code",
   "execution_count": null,
   "metadata": {
    "collapsed": true
   },
   "outputs": [],
   "source": []
  },
  {
   "cell_type": "code",
   "execution_count": null,
   "metadata": {
    "collapsed": true
   },
   "outputs": [],
   "source": []
  }
 ],
 "metadata": {
  "anaconda-cloud": {},
  "kernelspec": {
   "display_name": "Python 2",
   "language": "python",
   "name": "python2"
  },
  "language_info": {
   "codemirror_mode": {
    "name": "ipython",
    "version": 2
   },
   "file_extension": ".py",
   "mimetype": "text/x-python",
   "name": "python",
   "nbconvert_exporter": "python",
   "pygments_lexer": "ipython2",
   "version": "2.7.6"
  }
 },
 "nbformat": 4,
 "nbformat_minor": 0
}
