{
 "cells": [
  {
   "cell_type": "code",
   "execution_count": null,
   "metadata": {
    "collapsed": true
   },
   "outputs": [],
   "source": [
    "import pandas as pd\n",
    "import numpy as np\n",
    "import sklearn\n",
    "from sklearn.linear_model import LinearRegression\n",
    "from sklearn.ensemble import RandomForestRegressor\n",
    "from sklearn.cross_validation import KFold\n",
    "from sklearn.metrics import mean_absolute_error as mae"
   ]
  },
  {
   "cell_type": "code",
   "execution_count": null,
   "metadata": {
    "collapsed": true
   },
   "outputs": [],
   "source": [
    "def trainModelTestTrainSplit(data, model):\n",
    "    c = data.columns.difference(['Count'])\n",
    "    X_train, X_test, y_train, y_test = sklearn.cross_validation.train_test_split(data[c], data['Count'], test_size=0.3)\n",
    "    model.verbose=1\n",
    "    model.fit(X_train.as_matrix(), y_train.as_matrix())\n",
    "    pred = model.predict(X_test)\n",
    "    print (\"result \", mae(pred, y_test))\n",
    "    return model"
   ]
  },
  {
   "cell_type": "code",
   "execution_count": null,
   "metadata": {
    "collapsed": true
   },
   "outputs": [],
   "source": [
    "def trainModelKfold(data, model, countFold = 5):\n",
    "    meanMae = 0\n",
    "    \n",
    "    c = data.columns.difference(['Count'])\n",
    "    kf = KFold(len(data), n_folds=countFold, shuffle=True)\n",
    "    \n",
    "    for train_index, test_index in kf:\n",
    "        X_train, X_test = data[c].iloc[train_index], data[c].iloc[test_index]\n",
    "        y_train, y_test = data['Count'].iloc[train_index], data['Count'].iloc[test_index]\n",
    "        model.fit(X_train.as_matrix(), y_train.as_matrix())\n",
    "        pred = model.predict(X_test)\n",
    "        print (mae(pred, y_test))\n",
    "        meanMae += mae(pred, y_test)\n",
    "    meanMae /= countFold\n",
    "    print (\"result \", meanMae)\n",
    "    return model"
   ]
  },
  {
   "cell_type": "code",
   "execution_count": 70,
   "metadata": {
    "collapsed": false
   },
   "outputs": [],
   "source": [
    "features = pd.read_csv('data_transform/all.csv')\n",
    "data = features[pd.notnull(features.Count)]\n",
    "data = data[data.columns.difference(['Point', 'Date'])]\n"
   ]
  },
  {
   "cell_type": "code",
   "execution_count": 71,
   "metadata": {
    "collapsed": false,
    "scrolled": false
   },
   "outputs": [
    {
     "name": "stdout",
     "output_type": "stream",
     "text": [
      "0.00857511283043\n",
      "0.0442295293359\n",
      "0.0110967741935\n",
      "0.00658064516129\n",
      "0.0613548387097\n",
      "0.121161290323\n",
      "0.0136774193548\n",
      "0.0138064516129\n",
      "0.00883870967742\n",
      "0.143483870968\n",
      "0.0296774193548\n",
      "0.00541935483871\n",
      "0.602064516129\n",
      "0.00793548387097\n",
      "0.010064516129\n",
      "0.115032258065\n",
      "0.00987096774194\n",
      "0.313612903226\n",
      "0.168387096774\n",
      "0.0701935483871\n",
      "0.00722580645161\n",
      "0.0138709677419\n",
      "0.00767741935484\n",
      "0.0201290322581\n",
      "0.0305161290323\n",
      "result  0.0737792824608\n"
     ]
    }
   ],
   "source": [
    "m = trainModelKfold(data, RandomForestRegressor(), countFold = 25)"
   ]
  },
  {
   "cell_type": "code",
   "execution_count": 87,
   "metadata": {
    "collapsed": false
   },
   "outputs": [
    {
     "data": {
      "text/html": [
       "<div>\n",
       "<table border=\"1\" class=\"dataframe\">\n",
       "  <thead>\n",
       "    <tr style=\"text-align: right;\">\n",
       "      <th></th>\n",
       "      <th>Point</th>\n",
       "      <th>Count</th>\n",
       "      <th>Date</th>\n",
       "      <th>Year</th>\n",
       "      <th>Month</th>\n",
       "      <th>MonthDay</th>\n",
       "      <th>WeekDay</th>\n",
       "      <th>YearDay</th>\n",
       "      <th>ThroughMonth</th>\n",
       "      <th>ThroughWeek</th>\n",
       "      <th>...</th>\n",
       "      <th>MeanForYear</th>\n",
       "      <th>MeanForYearDay</th>\n",
       "      <th>MeanForMonthByPoints</th>\n",
       "      <th>MeanForMonthDayByPoints</th>\n",
       "      <th>MeanForThroughDayByPoints</th>\n",
       "      <th>MeanForThroughMonthByPoints</th>\n",
       "      <th>MeanForThroughWeekByPoints</th>\n",
       "      <th>MeanForWeekDayByPoints</th>\n",
       "      <th>MeanForYearByPoints</th>\n",
       "      <th>MeanForYearDayByPoints</th>\n",
       "    </tr>\n",
       "  </thead>\n",
       "  <tbody>\n",
       "  </tbody>\n",
       "</table>\n",
       "<p>0 rows × 27 columns</p>\n",
       "</div>"
      ],
      "text/plain": [
       "Empty DataFrame\n",
       "Columns: [Point, Count, Date, Year, Month, MonthDay, WeekDay, YearDay, ThroughMonth, ThroughWeek, ThroughDay, MeanForMonth, MeanForMonthDay, MeanForThroughDay, MeanForThroughMonth, MeanForThroughWeek, MeanForWeekDay, MeanForYear, MeanForYearDay, MeanForMonthByPoints, MeanForMonthDayByPoints, MeanForThroughDayByPoints, MeanForThroughMonthByPoints, MeanForThroughWeekByPoints, MeanForWeekDayByPoints, MeanForYearByPoints, MeanForYearDayByPoints]\n",
       "Index: []\n",
       "\n",
       "[0 rows x 27 columns]"
      ]
     },
     "execution_count": 87,
     "metadata": {},
     "output_type": "execute_result"
    }
   ],
   "source": [
    "test = pd.read_csv('data_original/v_test.csv')\n",
    "features = features[features.Point.isin(test.Point)]\n",
    "features = features[features.Date.isin(test.Date)]\n",
    "features"
   ]
  },
  {
   "cell_type": "code",
   "execution_count": null,
   "metadata": {
    "collapsed": false,
    "scrolled": false
   },
   "outputs": [],
   "source": [
    "m = trainModelKfold(data, LinearRegression(), countFold = 25)\n",
    "print(data.columns.difference(['Count']))\n",
    "m.coef_"
   ]
  },
  {
   "cell_type": "code",
   "execution_count": null,
   "metadata": {
    "collapsed": true
   },
   "outputs": [],
   "source": []
  },
  {
   "cell_type": "code",
   "execution_count": null,
   "metadata": {
    "collapsed": false
   },
   "outputs": [],
   "source": []
  },
  {
   "cell_type": "code",
   "execution_count": null,
   "metadata": {
    "collapsed": true
   },
   "outputs": [],
   "source": []
  }
 ],
 "metadata": {
  "anaconda-cloud": {},
  "kernelspec": {
   "display_name": "Python [conda root]",
   "language": "python",
   "name": "conda-root-py"
  },
  "language_info": {
   "codemirror_mode": {
    "name": "ipython",
    "version": 3
   },
   "file_extension": ".py",
   "mimetype": "text/x-python",
   "name": "python",
   "nbconvert_exporter": "python",
   "pygments_lexer": "ipython3",
   "version": "3.5.2"
  }
 },
 "nbformat": 4,
 "nbformat_minor": 1
}
