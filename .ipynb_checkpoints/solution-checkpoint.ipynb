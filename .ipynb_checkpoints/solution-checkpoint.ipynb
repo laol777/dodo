{
 "metadata": {
  "kernelspec": {
   "display_name": "Python 2",
   "language": "python",
   "name": "python2"
  },
  "language_info": {
   "codemirror_mode": {
    "name": "ipython",
    "version": 2
   },
   "file_extension": ".py",
   "mimetype": "text/x-python",
   "name": "python",
   "nbconvert_exporter": "python",
   "pygments_lexer": "ipython2",
   "version": "2.7.12"
  },
  "name": "",
  "signature": "sha256:94e89dfdd78d8c6522b80ad72ab0cc15715753e0e2eb67d0ce4654d2fb9c350f"
 },
 "nbformat": 3,
 "nbformat_minor": 0,
 "worksheets": [
  {
   "cells": [
    {
     "cell_type": "code",
     "collapsed": false,
     "input": [
      "import pandas as pd\n",
      "import matplotlib\n",
      "import numpy as np\n",
      "import matplotlib.pyplot as plt\n",
      "%matplotlib inline  \n",
      "\n",
      "from __future__ import division\n",
      "\n",
      "import calendar\n",
      "\n",
      "import sklearn\n",
      "from sklearn.linear_model import LinearRegression\n",
      "from sklearn import linear_model\n",
      "\n",
      "from sklearn.ensemble import RandomForestRegressor\n",
      "from sklearn.cross_validation import KFold\n",
      "from sklearn.metrics import mean_absolute_error as mae\n",
      "from sklearn.ensemble import GradientBoostingRegressor\n"
     ],
     "language": "python",
     "metadata": {},
     "outputs": [
      {
       "output_type": "stream",
       "stream": "stderr",
       "text": [
        "/usr/local/lib/python2.7/dist-packages/sklearn/cross_validation.py:44: DeprecationWarning: This module was deprecated in version 0.18 in favor of the model_selection module into which all the refactored classes and functions are moved. Also note that the interface of the new CV iterators are different from that of this module. This module will be removed in 0.20.\n",
        "  \"This module will be removed in 0.20.\", DeprecationWarning)\n"
       ]
      }
     ],
     "prompt_number": 1
    },
    {
     "cell_type": "code",
     "collapsed": false,
     "input": [
      "train = pd.read_csv(\"train.csv\")\n",
      "test = pd.read_csv(\"test.csv\")"
     ],
     "language": "python",
     "metadata": {},
     "outputs": [],
     "prompt_number": 2
    },
    {
     "cell_type": "code",
     "collapsed": false,
     "input": [],
     "language": "python",
     "metadata": {},
     "outputs": [],
     "prompt_number": 2
    },
    {
     "cell_type": "code",
     "collapsed": false,
     "input": [],
     "language": "python",
     "metadata": {},
     "outputs": [],
     "prompt_number": 2
    },
    {
     "cell_type": "code",
     "collapsed": false,
     "input": [
      "c = train.columns.difference(['City'])\n",
      "trainNew = pd.get_dummies(train, columns=['City'])\n",
      "print train.shape\n",
      "print trainNew.shape"
     ],
     "language": "python",
     "metadata": {},
     "outputs": [
      {
       "output_type": "stream",
       "stream": "stdout",
       "text": [
        "(46048, 6)\n",
        "(46048, 119)\n"
       ]
      }
     ],
     "prompt_number": 3
    },
    {
     "cell_type": "code",
     "collapsed": false,
     "input": [],
     "language": "python",
     "metadata": {},
     "outputs": [],
     "prompt_number": 3
    },
    {
     "cell_type": "code",
     "collapsed": false,
     "input": [],
     "language": "python",
     "metadata": {},
     "outputs": [],
     "prompt_number": 3
    },
    {
     "cell_type": "code",
     "collapsed": false,
     "input": [
      "#normData\n",
      "data = train.copy()\n",
      "\n",
      "\n",
      "c = data.columns.difference(['Count'])\n",
      "X_train, X_test, y_train, y_test = sklearn.cross_validation.train_test_split(data[c], data['Count'], test_size=0.3, random_state=0)\n",
      "\n",
      "\n",
      "#pred = map(round, pred)\n",
      "#print \"result \", mae(pred, y_test)"
     ],
     "language": "python",
     "metadata": {},
     "outputs": [],
     "prompt_number": 4
    },
    {
     "cell_type": "code",
     "collapsed": false,
     "input": [],
     "language": "python",
     "metadata": {},
     "outputs": [],
     "prompt_number": 4
    },
    {
     "cell_type": "code",
     "collapsed": false,
     "input": [],
     "language": "python",
     "metadata": {},
     "outputs": [],
     "prompt_number": 4
    },
    {
     "cell_type": "code",
     "collapsed": false,
     "input": [],
     "language": "python",
     "metadata": {},
     "outputs": [],
     "prompt_number": 4
    },
    {
     "cell_type": "code",
     "collapsed": false,
     "input": [],
     "language": "python",
     "metadata": {},
     "outputs": [],
     "prompt_number": 5
    },
    {
     "cell_type": "code",
     "collapsed": false,
     "input": [],
     "language": "python",
     "metadata": {},
     "outputs": [],
     "prompt_number": 6
    },
    {
     "cell_type": "code",
     "collapsed": false,
     "input": [],
     "language": "python",
     "metadata": {},
     "outputs": [],
     "prompt_number": 6
    },
    {
     "cell_type": "code",
     "collapsed": false,
     "input": [],
     "language": "python",
     "metadata": {},
     "outputs": [],
     "prompt_number": 6
    },
    {
     "cell_type": "code",
     "collapsed": false,
     "input": [],
     "language": "python",
     "metadata": {},
     "outputs": [],
     "prompt_number": 6
    },
    {
     "cell_type": "code",
     "collapsed": false,
     "input": [
      "def MeanPredict(X_train, y_train, city, year, month, day):\n",
      "    top = calendar.datetime.date(3000, 10, 10)\n",
      "    topIndex = None\n",
      "    down = calendar.datetime.date(1000, 10, 10)\n",
      "    downIndex = None\n",
      "\n",
      "    currentDate = calendar.datetime.date(year, month, day)\n",
      "\n",
      "    for i in X_train[(X_train.City == city)].index:\n",
      "        tmpDay = calendar.datetime.date(X_train.Year[i], X_train.Month[i], X_train.Day[i])\n",
      "        if((tmpDay > currentDate) & (tmpDay < top)):\n",
      "            top = tmpDay\n",
      "            topIndex = i\n",
      "        if((tmpDay < currentDate) & (tmpDay > down)):\n",
      "            down = tmpDay\n",
      "            downIndex = i\n",
      "\n",
      "    count = 0\n",
      "    if(topIndex == None):\n",
      "        count = y_train[downIndex]\n",
      "    if(downIndex == None):\n",
      "        count = y_train[topIndex]\n",
      "    if((downIndex != None) & (topIndex != None)):\n",
      "        allInter = (top - down).days\n",
      "        downInter = (currentDate - down).days\n",
      "        topInter = (top - currentDate).days\n",
      "        count = (topInter/allInter) * y_train[topIndex] + (downInter/allInter) * y_train[downIndex]\n",
      "    return count"
     ],
     "language": "python",
     "metadata": {},
     "outputs": [],
     "prompt_number": 38
    },
    {
     "cell_type": "code",
     "collapsed": false,
     "input": [
      "#normData\n",
      "data = train.copy()\n",
      "\n",
      "\n",
      "c = data.columns.difference(['Count'])\n",
      "X_train, X_test, y_train, y_test = sklearn.cross_validation.train_test_split(data[c], data['Count'], test_size=0.3, random_state=0)\n",
      "\n",
      "#pred = map(round, pred)\n",
      "#print \"result \", mae(pred, y_test)"
     ],
     "language": "python",
     "metadata": {},
     "outputs": [],
     "prompt_number": 39
    },
    {
     "cell_type": "code",
     "collapsed": false,
     "input": [
      "res = []\n",
      "k = 0\n",
      "for i in X_test.index:\n",
      "    tmp = MeanPredict(X_train, y_train, X_test.City[i], X_test.Year[i], X_test.Month[i], X_test.Day[i])\n",
      "    res.append(tmp)\n",
      "    if((k % 100) == 0):\n",
      "        print k,\n",
      "    k += 1"
     ],
     "language": "python",
     "metadata": {},
     "outputs": [
      {
       "output_type": "stream",
       "stream": "stdout",
       "text": [
        "0 "
       ]
      },
      {
       "output_type": "stream",
       "stream": "stdout",
       "text": [
        "100 "
       ]
      },
      {
       "output_type": "stream",
       "stream": "stdout",
       "text": [
        "200 "
       ]
      },
      {
       "output_type": "stream",
       "stream": "stdout",
       "text": [
        "300 "
       ]
      },
      {
       "output_type": "stream",
       "stream": "stdout",
       "text": [
        "400 "
       ]
      },
      {
       "output_type": "stream",
       "stream": "stdout",
       "text": [
        "500 "
       ]
      },
      {
       "output_type": "stream",
       "stream": "stdout",
       "text": [
        "600 "
       ]
      },
      {
       "output_type": "stream",
       "stream": "stdout",
       "text": [
        "700 "
       ]
      },
      {
       "output_type": "stream",
       "stream": "stdout",
       "text": [
        "800 "
       ]
      },
      {
       "output_type": "stream",
       "stream": "stdout",
       "text": [
        "900 "
       ]
      },
      {
       "output_type": "stream",
       "stream": "stdout",
       "text": [
        "1000 "
       ]
      },
      {
       "output_type": "stream",
       "stream": "stdout",
       "text": [
        "1100 "
       ]
      },
      {
       "output_type": "stream",
       "stream": "stdout",
       "text": [
        "1200 "
       ]
      },
      {
       "output_type": "stream",
       "stream": "stdout",
       "text": [
        "1300 "
       ]
      },
      {
       "output_type": "stream",
       "stream": "stdout",
       "text": [
        "1400 "
       ]
      },
      {
       "output_type": "stream",
       "stream": "stdout",
       "text": [
        "1500 "
       ]
      },
      {
       "output_type": "stream",
       "stream": "stdout",
       "text": [
        "1600 "
       ]
      },
      {
       "output_type": "stream",
       "stream": "stdout",
       "text": [
        "1700 "
       ]
      },
      {
       "output_type": "stream",
       "stream": "stdout",
       "text": [
        "1800 "
       ]
      },
      {
       "output_type": "stream",
       "stream": "stdout",
       "text": [
        "1900 "
       ]
      },
      {
       "output_type": "stream",
       "stream": "stdout",
       "text": [
        "2000 "
       ]
      },
      {
       "output_type": "stream",
       "stream": "stdout",
       "text": [
        "2100 "
       ]
      },
      {
       "output_type": "stream",
       "stream": "stdout",
       "text": [
        "2200 "
       ]
      },
      {
       "output_type": "stream",
       "stream": "stdout",
       "text": [
        "2300 "
       ]
      },
      {
       "output_type": "stream",
       "stream": "stdout",
       "text": [
        "2400 "
       ]
      },
      {
       "output_type": "stream",
       "stream": "stdout",
       "text": [
        "2500 "
       ]
      },
      {
       "output_type": "stream",
       "stream": "stdout",
       "text": [
        "2600 "
       ]
      },
      {
       "output_type": "stream",
       "stream": "stdout",
       "text": [
        "2700 "
       ]
      },
      {
       "output_type": "stream",
       "stream": "stdout",
       "text": [
        "2800 "
       ]
      },
      {
       "output_type": "stream",
       "stream": "stdout",
       "text": [
        "2900 "
       ]
      },
      {
       "output_type": "stream",
       "stream": "stdout",
       "text": [
        "3000 "
       ]
      },
      {
       "output_type": "stream",
       "stream": "stdout",
       "text": [
        "3100 "
       ]
      },
      {
       "output_type": "stream",
       "stream": "stdout",
       "text": [
        "3200 "
       ]
      },
      {
       "output_type": "stream",
       "stream": "stdout",
       "text": [
        "3300 "
       ]
      },
      {
       "output_type": "stream",
       "stream": "stdout",
       "text": [
        "3400 "
       ]
      },
      {
       "output_type": "stream",
       "stream": "stdout",
       "text": [
        "3500 "
       ]
      },
      {
       "output_type": "stream",
       "stream": "stdout",
       "text": [
        "3600 "
       ]
      },
      {
       "output_type": "stream",
       "stream": "stdout",
       "text": [
        "3700 "
       ]
      },
      {
       "output_type": "stream",
       "stream": "stdout",
       "text": [
        "3800 "
       ]
      },
      {
       "output_type": "stream",
       "stream": "stdout",
       "text": [
        "3900 "
       ]
      },
      {
       "output_type": "stream",
       "stream": "stdout",
       "text": [
        "4000 "
       ]
      },
      {
       "output_type": "stream",
       "stream": "stdout",
       "text": [
        "4100 "
       ]
      },
      {
       "output_type": "stream",
       "stream": "stdout",
       "text": [
        "4200 "
       ]
      },
      {
       "output_type": "stream",
       "stream": "stdout",
       "text": [
        "4300 "
       ]
      },
      {
       "output_type": "stream",
       "stream": "stdout",
       "text": [
        "4400 "
       ]
      },
      {
       "output_type": "stream",
       "stream": "stdout",
       "text": [
        "4500 "
       ]
      },
      {
       "output_type": "stream",
       "stream": "stdout",
       "text": [
        "4600 "
       ]
      },
      {
       "output_type": "stream",
       "stream": "stdout",
       "text": [
        "4700 "
       ]
      },
      {
       "output_type": "stream",
       "stream": "stdout",
       "text": [
        "4800 "
       ]
      },
      {
       "output_type": "stream",
       "stream": "stdout",
       "text": [
        "4900 "
       ]
      },
      {
       "output_type": "stream",
       "stream": "stdout",
       "text": [
        "5000 "
       ]
      },
      {
       "output_type": "stream",
       "stream": "stdout",
       "text": [
        "5100 "
       ]
      },
      {
       "output_type": "stream",
       "stream": "stdout",
       "text": [
        "5200 "
       ]
      },
      {
       "output_type": "stream",
       "stream": "stdout",
       "text": [
        "5300 "
       ]
      },
      {
       "output_type": "stream",
       "stream": "stdout",
       "text": [
        "5400 "
       ]
      },
      {
       "output_type": "stream",
       "stream": "stdout",
       "text": [
        "5500 "
       ]
      },
      {
       "output_type": "stream",
       "stream": "stdout",
       "text": [
        "5600 "
       ]
      },
      {
       "output_type": "stream",
       "stream": "stdout",
       "text": [
        "5700 "
       ]
      },
      {
       "output_type": "stream",
       "stream": "stdout",
       "text": [
        "5800 "
       ]
      },
      {
       "output_type": "stream",
       "stream": "stdout",
       "text": [
        "5900 "
       ]
      },
      {
       "output_type": "stream",
       "stream": "stdout",
       "text": [
        "6000 "
       ]
      },
      {
       "output_type": "stream",
       "stream": "stdout",
       "text": [
        "6100 "
       ]
      },
      {
       "output_type": "stream",
       "stream": "stdout",
       "text": [
        "6200 "
       ]
      },
      {
       "output_type": "stream",
       "stream": "stdout",
       "text": [
        "6300 "
       ]
      },
      {
       "output_type": "stream",
       "stream": "stdout",
       "text": [
        "6400 "
       ]
      },
      {
       "output_type": "stream",
       "stream": "stdout",
       "text": [
        "6500 "
       ]
      },
      {
       "output_type": "stream",
       "stream": "stdout",
       "text": [
        "6600 "
       ]
      },
      {
       "output_type": "stream",
       "stream": "stdout",
       "text": [
        "6700 "
       ]
      },
      {
       "output_type": "stream",
       "stream": "stdout",
       "text": [
        "6800 "
       ]
      },
      {
       "output_type": "stream",
       "stream": "stdout",
       "text": [
        "6900 "
       ]
      },
      {
       "output_type": "stream",
       "stream": "stdout",
       "text": [
        "7000 "
       ]
      },
      {
       "output_type": "stream",
       "stream": "stdout",
       "text": [
        "7100 "
       ]
      },
      {
       "output_type": "stream",
       "stream": "stdout",
       "text": [
        "7200 "
       ]
      },
      {
       "output_type": "stream",
       "stream": "stdout",
       "text": [
        "7300 "
       ]
      },
      {
       "output_type": "stream",
       "stream": "stdout",
       "text": [
        "7400 "
       ]
      },
      {
       "output_type": "stream",
       "stream": "stdout",
       "text": [
        "7500 "
       ]
      },
      {
       "output_type": "stream",
       "stream": "stdout",
       "text": [
        "7600 "
       ]
      },
      {
       "output_type": "stream",
       "stream": "stdout",
       "text": [
        "7700 "
       ]
      },
      {
       "output_type": "stream",
       "stream": "stdout",
       "text": [
        "7800 "
       ]
      },
      {
       "output_type": "stream",
       "stream": "stdout",
       "text": [
        "7900 "
       ]
      },
      {
       "output_type": "stream",
       "stream": "stdout",
       "text": [
        "8000 "
       ]
      },
      {
       "output_type": "stream",
       "stream": "stdout",
       "text": [
        "8100 "
       ]
      },
      {
       "output_type": "stream",
       "stream": "stdout",
       "text": [
        "8200 "
       ]
      },
      {
       "output_type": "stream",
       "stream": "stdout",
       "text": [
        "8300 "
       ]
      },
      {
       "output_type": "stream",
       "stream": "stdout",
       "text": [
        "8400 "
       ]
      },
      {
       "output_type": "stream",
       "stream": "stdout",
       "text": [
        "8500 "
       ]
      },
      {
       "output_type": "stream",
       "stream": "stdout",
       "text": [
        "8600 "
       ]
      },
      {
       "output_type": "stream",
       "stream": "stdout",
       "text": [
        "8700 "
       ]
      },
      {
       "output_type": "stream",
       "stream": "stdout",
       "text": [
        "8800 "
       ]
      },
      {
       "output_type": "stream",
       "stream": "stdout",
       "text": [
        "8900 "
       ]
      },
      {
       "output_type": "stream",
       "stream": "stdout",
       "text": [
        "9000 "
       ]
      },
      {
       "output_type": "stream",
       "stream": "stdout",
       "text": [
        "9100 "
       ]
      },
      {
       "output_type": "stream",
       "stream": "stdout",
       "text": [
        "9200 "
       ]
      },
      {
       "output_type": "stream",
       "stream": "stdout",
       "text": [
        "9300 "
       ]
      },
      {
       "output_type": "stream",
       "stream": "stdout",
       "text": [
        "9400 "
       ]
      },
      {
       "output_type": "stream",
       "stream": "stdout",
       "text": [
        "9500 "
       ]
      },
      {
       "output_type": "stream",
       "stream": "stdout",
       "text": [
        "9600 "
       ]
      },
      {
       "output_type": "stream",
       "stream": "stdout",
       "text": [
        "9700 "
       ]
      },
      {
       "output_type": "stream",
       "stream": "stdout",
       "text": [
        "9800 "
       ]
      },
      {
       "output_type": "stream",
       "stream": "stdout",
       "text": [
        "9900 "
       ]
      },
      {
       "output_type": "stream",
       "stream": "stdout",
       "text": [
        "10000 "
       ]
      },
      {
       "output_type": "stream",
       "stream": "stdout",
       "text": [
        "10100 "
       ]
      },
      {
       "output_type": "stream",
       "stream": "stdout",
       "text": [
        "10200 "
       ]
      },
      {
       "output_type": "stream",
       "stream": "stdout",
       "text": [
        "10300 "
       ]
      },
      {
       "output_type": "stream",
       "stream": "stdout",
       "text": [
        "10400 "
       ]
      },
      {
       "output_type": "stream",
       "stream": "stdout",
       "text": [
        "10500 "
       ]
      },
      {
       "output_type": "stream",
       "stream": "stdout",
       "text": [
        "10600 "
       ]
      },
      {
       "output_type": "stream",
       "stream": "stdout",
       "text": [
        "10700 "
       ]
      },
      {
       "output_type": "stream",
       "stream": "stdout",
       "text": [
        "10800 "
       ]
      },
      {
       "output_type": "stream",
       "stream": "stdout",
       "text": [
        "10900 "
       ]
      },
      {
       "output_type": "stream",
       "stream": "stdout",
       "text": [
        "11000 "
       ]
      },
      {
       "output_type": "stream",
       "stream": "stdout",
       "text": [
        "11100 "
       ]
      },
      {
       "output_type": "stream",
       "stream": "stdout",
       "text": [
        "11200 "
       ]
      },
      {
       "output_type": "stream",
       "stream": "stdout",
       "text": [
        "11300 "
       ]
      },
      {
       "output_type": "stream",
       "stream": "stdout",
       "text": [
        "11400 "
       ]
      },
      {
       "output_type": "stream",
       "stream": "stdout",
       "text": [
        "11500 "
       ]
      },
      {
       "output_type": "stream",
       "stream": "stdout",
       "text": [
        "11600 "
       ]
      },
      {
       "output_type": "stream",
       "stream": "stdout",
       "text": [
        "11700 "
       ]
      },
      {
       "output_type": "stream",
       "stream": "stdout",
       "text": [
        "11800 "
       ]
      },
      {
       "output_type": "stream",
       "stream": "stdout",
       "text": [
        "11900 "
       ]
      },
      {
       "output_type": "stream",
       "stream": "stdout",
       "text": [
        "12000 "
       ]
      },
      {
       "output_type": "stream",
       "stream": "stdout",
       "text": [
        "12100 "
       ]
      },
      {
       "output_type": "stream",
       "stream": "stdout",
       "text": [
        "12200 "
       ]
      },
      {
       "output_type": "stream",
       "stream": "stdout",
       "text": [
        "12300 "
       ]
      },
      {
       "output_type": "stream",
       "stream": "stdout",
       "text": [
        "12400 "
       ]
      },
      {
       "output_type": "stream",
       "stream": "stdout",
       "text": [
        "12500 "
       ]
      },
      {
       "output_type": "stream",
       "stream": "stdout",
       "text": [
        "12600 "
       ]
      },
      {
       "output_type": "stream",
       "stream": "stdout",
       "text": [
        "12700 "
       ]
      },
      {
       "output_type": "stream",
       "stream": "stdout",
       "text": [
        "12800 "
       ]
      },
      {
       "output_type": "stream",
       "stream": "stdout",
       "text": [
        "12900 "
       ]
      },
      {
       "output_type": "stream",
       "stream": "stdout",
       "text": [
        "13000 "
       ]
      },
      {
       "output_type": "stream",
       "stream": "stdout",
       "text": [
        "13100 "
       ]
      },
      {
       "output_type": "stream",
       "stream": "stdout",
       "text": [
        "13200 "
       ]
      },
      {
       "output_type": "stream",
       "stream": "stdout",
       "text": [
        "13300 "
       ]
      },
      {
       "output_type": "stream",
       "stream": "stdout",
       "text": [
        "13400 "
       ]
      },
      {
       "output_type": "stream",
       "stream": "stdout",
       "text": [
        "13500 "
       ]
      },
      {
       "output_type": "stream",
       "stream": "stdout",
       "text": [
        "13600 "
       ]
      },
      {
       "output_type": "stream",
       "stream": "stdout",
       "text": [
        "13700 "
       ]
      },
      {
       "output_type": "stream",
       "stream": "stdout",
       "text": [
        "13800\n"
       ]
      }
     ],
     "prompt_number": 47
    },
    {
     "cell_type": "code",
     "collapsed": false,
     "input": [
      "len(res)"
     ],
     "language": "python",
     "metadata": {},
     "outputs": [
      {
       "metadata": {},
       "output_type": "pyout",
       "prompt_number": 49,
       "text": [
        "13815"
       ]
      }
     ],
     "prompt_number": 49
    },
    {
     "cell_type": "code",
     "collapsed": false,
     "input": [
      "len(y_test)"
     ],
     "language": "python",
     "metadata": {},
     "outputs": [
      {
       "metadata": {},
       "output_type": "pyout",
       "prompt_number": 50,
       "text": [
        "13815"
       ]
      }
     ],
     "prompt_number": 50
    },
    {
     "cell_type": "code",
     "collapsed": false,
     "input": [
      "mae(res, y_test)"
     ],
     "language": "python",
     "metadata": {},
     "outputs": [
      {
       "metadata": {},
       "output_type": "pyout",
       "prompt_number": 52,
       "text": [
        "28.404754331212576"
       ]
      }
     ],
     "prompt_number": 52
    },
    {
     "cell_type": "code",
     "collapsed": false,
     "input": [
      "def trainModelKfold(data, model, countFold = 5):\n",
      "    meanMae = 0\n",
      "    \n",
      "    c = trainNew.columns.difference(['Count'])\n",
      "    countFold = 5\n",
      "    kf = KFold(len(trainNew), n_folds=countFold, shuffle=True)\n",
      "    \n",
      "    for train_index, test_index in kf:\n",
      "        X_train, X_test = data[c].loc[train_index], data[c].loc[test_index]\n",
      "        y_train, y_test = data['Count'].loc[train_index], data['Count'].loc[test_index]\n",
      "        model.fit(X_train.as_matrix(), y_train.as_matrix())\n",
      "        pred = model.predict(X_test)\n",
      "        print mae(pred, y_test)\n",
      "        meanMae += mae(pred, y_test)\n",
      "    meanMae /= countFold\n",
      "    print \"result \", meanMae"
     ],
     "language": "python",
     "metadata": {},
     "outputs": [],
     "prompt_number": 11
    },
    {
     "cell_type": "code",
     "collapsed": false,
     "input": [
      "def trainModelTestTrainSplit(data, model):\n",
      "    c = data.columns.difference(['Count'])\n",
      "    X_train, X_test, y_train, y_test = sklearn.cross_validation.train_test_split(data[c], data['Count'], test_size=0.3, random_state=0)\n",
      "    model.verbose=1\n",
      "    model.fit(X_train.as_matrix(), y_train.as_matrix())\n",
      "    pred = model.predict(X_test)\n",
      "    #pred = map(round, pred)\n",
      "    print \"result \", mae(pred, y_test)\n",
      "    return pred"
     ],
     "language": "python",
     "metadata": {},
     "outputs": [],
     "prompt_number": 19
    },
    {
     "cell_type": "code",
     "collapsed": false,
     "input": [
      "trainModelTestTrainSplit(trainNew, LinearRegression())"
     ],
     "language": "python",
     "metadata": {},
     "outputs": [
      {
       "output_type": "stream",
       "stream": "stdout",
       "text": [
        "result  30.3775054564\n"
       ]
      }
     ],
     "prompt_number": 13
    },
    {
     "cell_type": "code",
     "collapsed": false,
     "input": [
      "#normData\n",
      "data = trainNew.copy()\n",
      "cols_to_norm = [\"Day\", \"Month\", \"Year\"]\n",
      "data[cols_to_norm] = data[cols_to_norm].apply(lambda x: (x - x.mean()) / (x.max() - x.min()))"
     ],
     "language": "python",
     "metadata": {},
     "outputs": [],
     "prompt_number": 16
    },
    {
     "cell_type": "code",
     "collapsed": false,
     "input": [
      "rgr = trainModelTestTrainSplit(trainNew, RandomForestRegressor())"
     ],
     "language": "python",
     "metadata": {},
     "outputs": [
      {
       "output_type": "stream",
       "stream": "stderr",
       "text": [
        "[Parallel(n_jobs=1)]: Done  10 out of  10 | elapsed:    6.9s finished\n",
        "[Parallel(n_jobs=1)]: Done  10 out of  10 | elapsed:    0.1s finished\n"
       ]
      },
      {
       "output_type": "stream",
       "stream": "stdout",
       "text": [
        "result  19.4423307999\n"
       ]
      }
     ],
     "prompt_number": 17
    },
    {
     "cell_type": "code",
     "collapsed": false,
     "input": [
      "rgr"
     ],
     "language": "python",
     "metadata": {},
     "outputs": [
      {
       "metadata": {},
       "output_type": "pyout",
       "prompt_number": 18,
       "text": [
        "array([  66.9,   59.3,   77.6, ...,   80.3,   72.4,  103.1])"
       ]
      }
     ],
     "prompt_number": 18
    },
    {
     "cell_type": "code",
     "collapsed": false,
     "input": [
      "trainModelTestTrainSplit(trainNew, LinearRegression())"
     ],
     "language": "python",
     "metadata": {},
     "outputs": [
      {
       "output_type": "stream",
       "stream": "stdout",
       "text": [
        "result  30.3775054564\n"
       ]
      }
     ],
     "prompt_number": 37
    },
    {
     "cell_type": "code",
     "collapsed": false,
     "input": [
      "trainModelTestTrainSplit(trainNew, linear_model.ElasticNet())"
     ],
     "language": "python",
     "metadata": {},
     "outputs": [
      {
       "output_type": "stream",
       "stream": "stdout",
       "text": [
        "result  52.2915733832\n"
       ]
      }
     ],
     "prompt_number": 38
    },
    {
     "cell_type": "code",
     "collapsed": false,
     "input": [
      "trainModelTestTrainSplit(trainNew, sklearn.ensemble.ExtraTreesRegressor(criterion=\"mae\"))"
     ],
     "language": "python",
     "metadata": {},
     "outputs": []
    },
    {
     "cell_type": "code",
     "collapsed": false,
     "input": [],
     "language": "python",
     "metadata": {},
     "outputs": [],
     "prompt_number": 5
    },
    {
     "cell_type": "code",
     "collapsed": false,
     "input": [
      "trainModelTestTrainSplit(trainNew, sklearn.ensemble.RandomForestRegressor(n_estimators=300))"
     ],
     "language": "python",
     "metadata": {},
     "outputs": []
    },
    {
     "cell_type": "code",
     "collapsed": false,
     "input": [
      "trainModelTestTrainSplit(trainNew, sklearn.ensemble.BaggingRegressor())"
     ],
     "language": "python",
     "metadata": {},
     "outputs": [
      {
       "output_type": "stream",
       "stream": "stdout",
       "text": [
        "result  19.6640101339\n"
       ]
      }
     ],
     "prompt_number": 35
    },
    {
     "cell_type": "code",
     "collapsed": false,
     "input": [],
     "language": "python",
     "metadata": {},
     "outputs": [],
     "prompt_number": null
    },
    {
     "cell_type": "code",
     "collapsed": false,
     "input": [
      "data = trainNew\n",
      "model = sklearn.ensemble.GradientBoostingRegressor(loss = 'ls', learning_rate=0.1, max_depth = 3, verbose=1, n_estimators=10,\\\n",
      "                                                   criterion = \"mae\")"
     ],
     "language": "python",
     "metadata": {},
     "outputs": [],
     "prompt_number": 54
    },
    {
     "cell_type": "code",
     "collapsed": false,
     "input": [
      "c = trainNew.columns.difference(['Count'])\n",
      "X_train, X_test, y_train, y_test = sklearn.cross_validation.train_test_split(data[c], data['Count'], test_size=0.3, random_state=0)\n",
      "model.fit(X_train.as_matrix(), y_train.as_matrix())\n",
      "pred = model.predict(X_test)\n",
      "print \"result \", mae(pred, y_test)"
     ],
     "language": "python",
     "metadata": {},
     "outputs": []
    },
    {
     "cell_type": "code",
     "collapsed": false,
     "input": [
      "model.feature_importances_"
     ],
     "language": "python",
     "metadata": {},
     "outputs": [
      {
       "metadata": {},
       "output_type": "pyout",
       "prompt_number": 31,
       "text": [
        "array([  5.44335264e-03,   6.45594826e-03,   2.00477209e-03,\n",
        "         9.59723684e-03,   7.83662815e-03,   5.90436130e-04,\n",
        "         7.09270144e-03,   1.39095627e-03,   3.01235950e-03,\n",
        "         4.45238844e-03,   5.77847319e-03,   3.63852348e-04,\n",
        "         6.87055254e-03,   3.49814892e-04,   9.16518989e-03,\n",
        "         9.38886899e-03,   7.41757308e-03,   6.70804112e-03,\n",
        "         2.75003366e-03,   7.55657461e-03,   4.00109010e-03,\n",
        "         6.11474055e-03,   6.90328962e-03,   1.57537229e-03,\n",
        "         8.98828173e-04,   1.44579894e-03,   8.40689742e-03,\n",
        "         4.65505072e-03,   4.03495255e-03,   0.00000000e+00,\n",
        "         5.63729929e-04,   2.12886966e-03,   3.87871486e-03,\n",
        "         1.82087988e-03,   0.00000000e+00,   6.40451950e-03,\n",
        "         6.36515361e-03,   8.08304357e-03,   8.90893069e-03,\n",
        "         1.02533973e-03,   6.02295877e-04,   3.58951892e-03,\n",
        "         1.02209127e-02,   1.18976038e-04,   5.60662063e-03,\n",
        "         2.56260105e-03,   9.26532177e-03,   6.65150160e-03,\n",
        "         8.78266222e-03,   9.94361015e-03,   4.73715350e-05,\n",
        "         9.83143450e-03,   6.02141461e-03,   2.00874040e-03,\n",
        "         8.61441109e-04,   1.38048957e-02,   8.73582659e-04,\n",
        "         2.09189841e-03,   1.00614809e-02,   0.00000000e+00,\n",
        "         7.75694175e-04,   0.00000000e+00,   9.00755628e-03,\n",
        "         5.65705609e-03,   7.61523792e-03,   6.26977412e-03,\n",
        "         0.00000000e+00,   4.34424830e-03,   3.67875338e-03,\n",
        "         0.00000000e+00,   1.22122903e-02,   6.93098696e-03,\n",
        "         6.54584066e-03,   5.49807954e-03,   7.11604569e-03,\n",
        "         3.42946909e-03,   4.63263054e-03,   2.23978109e-03,\n",
        "         6.73101438e-03,   7.48706651e-03,   6.90282498e-03,\n",
        "         4.80281145e-03,   2.84736081e-03,   1.46459599e-03,\n",
        "         4.21856259e-03,   1.09692665e-02,   1.53139873e-03,\n",
        "         5.24616480e-03,   5.58731250e-03,   1.04745009e-02,\n",
        "         1.37546063e-02,   7.04337965e-03,   6.83524544e-03,\n",
        "         6.46186358e-03,   5.58284854e-03,   3.20346397e-03,\n",
        "         4.04436701e-03,   2.32113594e-03,   1.17243715e-03,\n",
        "         5.63758324e-03,   3.21506066e-03,   1.85739639e-03,\n",
        "         7.39162224e-03,   9.67425931e-03,   5.16739808e-03,\n",
        "         3.60384303e-03,   9.19960912e-03,   4.23040439e-03,\n",
        "         2.26111897e-03,   8.64476831e-03,   1.44670103e-02,\n",
        "         7.67034011e-03,   6.73984642e-03,   8.67579180e-04,\n",
        "         4.59501168e-02,   1.47179074e-01,   1.01291314e-01,\n",
        "         1.25928747e-01])"
       ]
      }
     ],
     "prompt_number": 31
    },
    {
     "cell_type": "code",
     "collapsed": false,
     "input": [],
     "language": "python",
     "metadata": {},
     "outputs": [],
     "prompt_number": null
    }
   ],
   "metadata": {}
  }
 ]
}