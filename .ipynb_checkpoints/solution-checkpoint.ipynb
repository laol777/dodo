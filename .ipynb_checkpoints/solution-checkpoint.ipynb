{
 "metadata": {
  "kernelspec": {
   "display_name": "Python 2",
   "language": "python",
   "name": "python2"
  },
  "language_info": {
   "codemirror_mode": {
    "name": "ipython",
    "version": 2
   },
   "file_extension": ".py",
   "mimetype": "text/x-python",
   "name": "python",
   "nbconvert_exporter": "python",
   "pygments_lexer": "ipython2",
   "version": "2.7.12"
  },
  "name": "",
  "signature": "sha256:d136439baec8e1e133c7c049132b6bfa0b16ab48fc8c7b91e2ee982bf8971664"
 },
 "nbformat": 3,
 "nbformat_minor": 0,
 "worksheets": [
  {
   "cells": [
    {
     "cell_type": "code",
     "collapsed": false,
     "input": [
      "import pandas as pd\n",
      "import matplotlib\n",
      "import numpy as np\n",
      "import matplotlib.pyplot as plt\n",
      "\n",
      "%matplotlib inline  \n",
      "\n",
      "from __future__ import division\n",
      "\n",
      "import calendar\n",
      "\n",
      "import sklearn\n",
      "from sklearn.linear_model import LinearRegression\n",
      "from sklearn import linear_model\n",
      "\n",
      "from sklearn.ensemble import RandomForestRegressor\n",
      "from sklearn.cross_validation import KFold\n",
      "from sklearn.metrics import mean_absolute_error as mae\n",
      "from sklearn.ensemble import GradientBoostingRegressor\n",
      "from sklearn.neighbors import KNeighborsRegressor"
     ],
     "language": "python",
     "metadata": {},
     "outputs": [
      {
       "output_type": "stream",
       "stream": "stderr",
       "text": [
        "/usr/local/lib/python2.7/dist-packages/sklearn/cross_validation.py:44: DeprecationWarning: This module was deprecated in version 0.18 in favor of the model_selection module into which all the refactored classes and functions are moved. Also note that the interface of the new CV iterators are different from that of this module. This module will be removed in 0.20.\n",
        "  \"This module will be removed in 0.20.\", DeprecationWarning)\n"
       ]
      }
     ],
     "prompt_number": 1
    },
    {
     "cell_type": "code",
     "collapsed": false,
     "input": [
      "train = pd.read_csv(\"train.csv\")\n",
      "test = pd.read_csv(\"test.csv\")\n",
      "data = train.copy()\n",
      "data = data.replace(data.City.unique(), range(len(data.City.unique())))"
     ],
     "language": "python",
     "metadata": {},
     "outputs": [],
     "prompt_number": 3
    },
    {
     "cell_type": "code",
     "collapsed": false,
     "input": [],
     "language": "python",
     "metadata": {},
     "outputs": [],
     "prompt_number": 4
    },
    {
     "cell_type": "code",
     "collapsed": false,
     "input": [],
     "language": "python",
     "metadata": {},
     "outputs": [],
     "prompt_number": 2
    },
    {
     "cell_type": "code",
     "collapsed": false,
     "input": [
      "c = train.columns.difference(['City'])\n",
      "trainNew = pd.get_dummies(train, columns=['City'])\n",
      "print train.shape\n",
      "print trainNew.shape"
     ],
     "language": "python",
     "metadata": {},
     "outputs": [
      {
       "output_type": "stream",
       "stream": "stdout",
       "text": [
        "(46048, 9)\n",
        "(46048, 122)\n"
       ]
      }
     ],
     "prompt_number": 3
    },
    {
     "cell_type": "code",
     "collapsed": false,
     "input": [],
     "language": "python",
     "metadata": {},
     "outputs": [],
     "prompt_number": 3
    },
    {
     "cell_type": "code",
     "collapsed": false,
     "input": [],
     "language": "python",
     "metadata": {},
     "outputs": [],
     "prompt_number": 17
    },
    {
     "cell_type": "code",
     "collapsed": false,
     "input": [],
     "language": "python",
     "metadata": {},
     "outputs": [],
     "prompt_number": 5
    },
    {
     "cell_type": "code",
     "collapsed": false,
     "input": [],
     "language": "python",
     "metadata": {},
     "outputs": [],
     "prompt_number": 5
    },
    {
     "cell_type": "code",
     "collapsed": false,
     "input": [],
     "language": "python",
     "metadata": {},
     "outputs": [],
     "prompt_number": 6
    },
    {
     "cell_type": "code",
     "collapsed": false,
     "input": [],
     "language": "python",
     "metadata": {},
     "outputs": [],
     "prompt_number": 6
    },
    {
     "cell_type": "code",
     "collapsed": false,
     "input": [
      "def MeanPredict(X_train, y_train, city, year, month, day):\n",
      "    top = calendar.datetime.date(3000, 10, 10)\n",
      "    topIndex = None\n",
      "    down = calendar.datetime.date(1000, 10, 10)\n",
      "    downIndex = None\n",
      "\n",
      "    currentDate = calendar.datetime.date(year, month, day)\n",
      "\n",
      "    for i in X_train[(X_train.City == city)].index:\n",
      "        tmpDay = calendar.datetime.date(X_train.Year[i], X_train.Month[i], X_train.Day[i])\n",
      "        if((tmpDay > currentDate) & (tmpDay < top)):\n",
      "            top = tmpDay\n",
      "            topIndex = i\n",
      "        if((tmpDay < currentDate) & (tmpDay > down)):\n",
      "            down = tmpDay\n",
      "            downIndex = i\n",
      "\n",
      "    count = 0\n",
      "    if(topIndex == None):\n",
      "        count = y_train[downIndex]\n",
      "    if(downIndex == None):\n",
      "        count = y_train[topIndex]\n",
      "    if((downIndex != None) & (topIndex != None)):\n",
      "        allInter = (top - down).days\n",
      "        downInter = (currentDate - down).days\n",
      "        topInter = (top - currentDate).days\n",
      "        count = (topInter/allInter) * y_train[topIndex] + (downInter/allInter) * y_train[downIndex]\n",
      "    return count\n",
      "'''\n",
      "res = []\n",
      "k = 0\n",
      "for i in X_test.index:\n",
      "    tmp = MeanPredict(X_train, y_train, X_test.City[i], X_test.Year[i], X_test.Month[i], X_test.Day[i])\n",
      "    res.append(tmp)\n",
      "    if((k % 100) == 0):\n",
      "        print k,\n",
      "    k += 1\n",
      "'''"
     ],
     "language": "python",
     "metadata": {},
     "outputs": [
      {
       "metadata": {},
       "output_type": "pyout",
       "prompt_number": 6,
       "text": [
        "'\\nres = []\\nk = 0\\nfor i in X_test.index:\\n    tmp = MeanPredict(X_train, y_train, X_test.City[i], X_test.Year[i], X_test.Month[i], X_test.Day[i])\\n    res.append(tmp)\\n    if((k % 100) == 0):\\n        print k,\\n    k += 1\\n'"
       ]
      }
     ],
     "prompt_number": 6
    },
    {
     "cell_type": "code",
     "collapsed": false,
     "input": [],
     "language": "python",
     "metadata": {},
     "outputs": [],
     "prompt_number": 7
    },
    {
     "cell_type": "code",
     "collapsed": false,
     "input": [],
     "language": "python",
     "metadata": {},
     "outputs": [],
     "prompt_number": 7
    },
    {
     "cell_type": "code",
     "collapsed": false,
     "input": [],
     "language": "python",
     "metadata": {},
     "outputs": [],
     "prompt_number": 7
    },
    {
     "cell_type": "code",
     "collapsed": false,
     "input": [],
     "language": "python",
     "metadata": {},
     "outputs": [],
     "prompt_number": 7
    },
    {
     "cell_type": "code",
     "collapsed": false,
     "input": [],
     "language": "python",
     "metadata": {},
     "outputs": [],
     "prompt_number": 7
    },
    {
     "cell_type": "code",
     "collapsed": false,
     "input": [
      "def trainModelKfold(data, model, countFold = 5):\n",
      "    meanMae = 0\n",
      "    \n",
      "    c = data.columns.difference(['Count'])\n",
      "    kf = KFold(len(data), n_folds=countFold, shuffle=True)\n",
      "    \n",
      "    for train_index, test_index in kf:\n",
      "        X_train, X_test = data[c].loc[train_index], data[c].loc[test_index]\n",
      "        y_train, y_test = data['Count'].loc[train_index], data['Count'].loc[test_index]\n",
      "        model.fit(X_train.as_matrix(), y_train.as_matrix())\n",
      "        pred = model.predict(X_test)\n",
      "        print mae(pred, y_test)\n",
      "        meanMae += mae(pred, y_test)\n",
      "    meanMae /= countFold\n",
      "    print \"result \", meanMae\n",
      "    return pred"
     ],
     "language": "python",
     "metadata": {},
     "outputs": [],
     "prompt_number": 5
    },
    {
     "cell_type": "code",
     "collapsed": false,
     "input": [
      "def trainModelTestTrainSplit(data, model):\n",
      "    c = data.columns.difference(['Count'])\n",
      "    X_train, X_test, y_train, y_test = sklearn.cross_validation.train_test_split(data[c], data['Count'], test_size=0.3)\n",
      "    model.verbose=1\n",
      "    model.fit(X_train.as_matrix(), y_train.as_matrix())\n",
      "    pred = model.predict(X_test)\n",
      "    #pred = map(round, pred)\n",
      "    print \"result \", mae(pred, y_test)\n",
      "    return model"
     ],
     "language": "python",
     "metadata": {},
     "outputs": [],
     "prompt_number": 6
    },
    {
     "cell_type": "code",
     "collapsed": false,
     "input": [],
     "language": "python",
     "metadata": {},
     "outputs": [],
     "prompt_number": 11
    },
    {
     "cell_type": "code",
     "collapsed": false,
     "input": [],
     "language": "python",
     "metadata": {},
     "outputs": [],
     "prompt_number": 11
    },
    {
     "cell_type": "code",
     "collapsed": false,
     "input": [
      "#normData\n",
      "data = trainNew.copy()\n",
      "cols_to_norm = [\"Day\", \"Month\", \"Year\"]\n",
      "data[cols_to_norm] = data[cols_to_norm].apply(lambda x: (x - x.mean()) / (x.max() - x.min()))"
     ],
     "language": "python",
     "metadata": {},
     "outputs": [],
     "prompt_number": 8
    },
    {
     "cell_type": "code",
     "collapsed": false,
     "input": [],
     "language": "python",
     "metadata": {},
     "outputs": [],
     "prompt_number": 39
    },
    {
     "cell_type": "code",
     "collapsed": false,
     "input": [],
     "language": "python",
     "metadata": {},
     "outputs": []
    },
    {
     "cell_type": "code",
     "collapsed": false,
     "input": [],
     "language": "python",
     "metadata": {},
     "outputs": [],
     "prompt_number": 8
    },
    {
     "cell_type": "code",
     "collapsed": false,
     "input": [],
     "language": "python",
     "metadata": {},
     "outputs": []
    },
    {
     "cell_type": "markdown",
     "metadata": {},
     "source": [
      "# \u041c\u043e\u0434\u0435\u043b\u0438"
     ]
    },
    {
     "cell_type": "code",
     "collapsed": false,
     "input": [],
     "language": "python",
     "metadata": {},
     "outputs": [],
     "prompt_number": 12
    },
    {
     "cell_type": "code",
     "collapsed": false,
     "input": [
      "pred = trainModelKfold(data, RandomForestRegressor(), countFold = 25)"
     ],
     "language": "python",
     "metadata": {},
     "outputs": [
      {
       "output_type": "stream",
       "stream": "stdout",
       "text": [
        "18.4728555917\n",
        "17.9420738328"
       ]
      },
      {
       "output_type": "stream",
       "stream": "stdout",
       "text": [
        "\n",
        "18.7075461455"
       ]
      },
      {
       "output_type": "stream",
       "stream": "stdout",
       "text": [
        "\n",
        "18.7697611292"
       ]
      },
      {
       "output_type": "stream",
       "stream": "stdout",
       "text": [
        "\n",
        "18.0751900109"
       ]
      },
      {
       "output_type": "stream",
       "stream": "stdout",
       "text": [
        "\n",
        "17.6033116178"
       ]
      },
      {
       "output_type": "stream",
       "stream": "stdout",
       "text": [
        "\n",
        "17.7408794788"
       ]
      },
      {
       "output_type": "stream",
       "stream": "stdout",
       "text": [
        "\n",
        "18.5128664495"
       ]
      },
      {
       "output_type": "stream",
       "stream": "stdout",
       "text": [
        "\n",
        "17.3984799131"
       ]
      },
      {
       "output_type": "stream",
       "stream": "stdout",
       "text": [
        "\n",
        "18.247937025"
       ]
      },
      {
       "output_type": "stream",
       "stream": "stdout",
       "text": [
        "\n",
        "17.2702497286"
       ]
      },
      {
       "output_type": "stream",
       "stream": "stdout",
       "text": [
        "\n",
        "17.3459283388"
       ]
      },
      {
       "output_type": "stream",
       "stream": "stdout",
       "text": [
        "\n",
        "17.5632464712"
       ]
      },
      {
       "output_type": "stream",
       "stream": "stdout",
       "text": [
        "\n",
        "19.184907709"
       ]
      },
      {
       "output_type": "stream",
       "stream": "stdout",
       "text": [
        "\n",
        "18.251465798"
       ]
      },
      {
       "output_type": "stream",
       "stream": "stdout",
       "text": [
        "\n",
        "17.388762215"
       ]
      },
      {
       "output_type": "stream",
       "stream": "stdout",
       "text": [
        "\n",
        "17.5610749186"
       ]
      },
      {
       "output_type": "stream",
       "stream": "stdout",
       "text": [
        "\n",
        "17.5588490771"
       ]
      },
      {
       "output_type": "stream",
       "stream": "stdout",
       "text": [
        "\n",
        "17.8808903366"
       ]
      },
      {
       "output_type": "stream",
       "stream": "stdout",
       "text": [
        "\n",
        "17.304451683"
       ]
      },
      {
       "output_type": "stream",
       "stream": "stdout",
       "text": [
        "\n",
        "18.3554831705"
       ]
      },
      {
       "output_type": "stream",
       "stream": "stdout",
       "text": [
        "\n",
        "18.088762215"
       ]
      },
      {
       "output_type": "stream",
       "stream": "stdout",
       "text": [
        "\n",
        "17.5824104235"
       ]
      },
      {
       "output_type": "stream",
       "stream": "stdout",
       "text": [
        "\n",
        "18.5976099946"
       ]
      },
      {
       "output_type": "stream",
       "stream": "stdout",
       "text": [
        "\n",
        "18.7318305269"
       ]
      },
      {
       "output_type": "stream",
       "stream": "stdout",
       "text": [
        "\n",
        "result  18.005472952\n"
       ]
      }
     ],
     "prompt_number": 8
    },
    {
     "cell_type": "code",
     "collapsed": false,
     "input": [
      "trainModelTestTrainSplit(data, sklearn.ensemble.RandomForestRegressor(n_estimators=900))"
     ],
     "language": "python",
     "metadata": {},
     "outputs": [
      {
       "output_type": "stream",
       "stream": "stderr",
       "text": [
        "[Parallel(n_jobs=1)]: Done 900 out of 900 | elapsed:  1.9min finished\n",
        "[Parallel(n_jobs=1)]: Done 900 out of 900 | elapsed:    3.5s finished\n"
       ]
      },
      {
       "output_type": "stream",
       "stream": "stdout",
       "text": [
        "result  17.9566277396\n"
       ]
      },
      {
       "metadata": {},
       "output_type": "pyout",
       "prompt_number": 12,
       "text": [
        "RandomForestRegressor(bootstrap=True, criterion='mse', max_depth=None,\n",
        "           max_features='auto', max_leaf_nodes=None,\n",
        "           min_impurity_split=1e-07, min_samples_leaf=1,\n",
        "           min_samples_split=2, min_weight_fraction_leaf=0.0,\n",
        "           n_estimators=900, n_jobs=1, oob_score=False, random_state=None,\n",
        "           verbose=1, warm_start=False)"
       ]
      }
     ],
     "prompt_number": 12
    },
    {
     "cell_type": "code",
     "collapsed": false,
     "input": [
      "trainModelTestTrainSplit(data, LinearRegression())"
     ],
     "language": "python",
     "metadata": {},
     "outputs": [
      {
       "output_type": "stream",
       "stream": "stdout",
       "text": [
        "result  52.8355865532\n"
       ]
      },
      {
       "metadata": {},
       "output_type": "pyout",
       "prompt_number": 7,
       "text": [
        "array([  89.84699844,   88.29157509,  110.55255125, ...,  120.08622759,\n",
        "         90.56408789,  101.98027682])"
       ]
      }
     ],
     "prompt_number": 7
    },
    {
     "cell_type": "code",
     "collapsed": false,
     "input": [
      "trainModelTestTrainSplit(trainNew, LinearRegression())"
     ],
     "language": "python",
     "metadata": {},
     "outputs": [
      {
       "output_type": "stream",
       "stream": "stdout",
       "text": [
        "result  30.3775054564\n"
       ]
      }
     ],
     "prompt_number": 31
    },
    {
     "cell_type": "code",
     "collapsed": false,
     "input": [
      "trainModelTestTrainSplit(data, linear_model.ElasticNet())"
     ],
     "language": "python",
     "metadata": {},
     "outputs": [
      {
       "output_type": "stream",
       "stream": "stdout",
       "text": [
        "result  52.918913329\n"
       ]
      }
     ],
     "prompt_number": 19
    },
    {
     "cell_type": "code",
     "collapsed": false,
     "input": [
      "data.columns"
     ],
     "language": "python",
     "metadata": {},
     "outputs": [
      {
       "metadata": {},
       "output_type": "pyout",
       "prompt_number": 26,
       "text": [
        "Index([u'Day', u'Month', u'Year', u'City', u'Count', u'WeekDay',\n",
        "       u'DayForStartYear', u'isWeekend', u'DayForStartTrainPeriod'],\n",
        "      dtype='object')"
       ]
      }
     ],
     "prompt_number": 26
    },
    {
     "cell_type": "code",
     "collapsed": false,
     "input": [
      "\n",
      "model = trainModelTestTrainSplit(data, sklearn.ensemble.ExtraTreesRegressor())"
     ],
     "language": "python",
     "metadata": {},
     "outputs": [
      {
       "output_type": "stream",
       "stream": "stdout",
       "text": [
        "result  22.3785595367\n"
       ]
      },
      {
       "output_type": "stream",
       "stream": "stderr",
       "text": [
        "[Parallel(n_jobs=1)]: Done  10 out of  10 | elapsed:    0.8s finished\n",
        "[Parallel(n_jobs=1)]: Done  10 out of  10 | elapsed:    0.0s finished\n"
       ]
      }
     ],
     "prompt_number": 42
    },
    {
     "cell_type": "code",
     "collapsed": false,
     "input": [
      "model = trainModelTestTrainSplit(data, sklearn.ensemble.RandomForestRegressor())\n",
      "model.feature_importances_"
     ],
     "language": "python",
     "metadata": {},
     "outputs": [
      {
       "output_type": "stream",
       "stream": "stdout",
       "text": [
        "result  18.7893811075\n"
       ]
      },
      {
       "output_type": "stream",
       "stream": "stderr",
       "text": [
        "[Parallel(n_jobs=1)]: Done  10 out of  10 | elapsed:    1.5s finished\n",
        "[Parallel(n_jobs=1)]: Done  10 out of  10 | elapsed:    0.0s finished\n"
       ]
      },
      {
       "metadata": {},
       "output_type": "pyout",
       "prompt_number": 47,
       "text": [
        "array([ 0.56204959,  0.04250813,  0.22579684,  0.06403352,  0.01084596,\n",
        "        0.08974613,  0.00143914,  0.00358069])"
       ]
      }
     ],
     "prompt_number": 47
    },
    {
     "cell_type": "code",
     "collapsed": false,
     "input": [
      "model.feature_importances_"
     ],
     "language": "python",
     "metadata": {},
     "outputs": [
      {
       "metadata": {},
       "output_type": "pyout",
       "prompt_number": 17,
       "text": [
        "array([ 0.64208362,  0.04417375,  0.08804042,  0.05009803,  0.03445921,\n",
        "        0.04994955,  0.05419726,  0.03699815])"
       ]
      }
     ],
     "prompt_number": 17
    },
    {
     "cell_type": "code",
     "collapsed": false,
     "input": [],
     "language": "python",
     "metadata": {},
     "outputs": [],
     "prompt_number": 18
    },
    {
     "cell_type": "code",
     "collapsed": false,
     "input": [
      "trainModelKfold(data, sklearn.ensemble.RandomForestRegressor(n_estimators=900))"
     ],
     "language": "python",
     "metadata": {},
     "outputs": [
      {
       "output_type": "stream",
       "stream": "stdout",
       "text": [
        "17.431775003\n",
        "17.9330062734"
       ]
      },
      {
       "output_type": "stream",
       "stream": "stdout",
       "text": [
        "\n",
        "17.5859364218"
       ]
      },
      {
       "output_type": "stream",
       "stream": "stdout",
       "text": [
        "\n",
        "17.4681679758"
       ]
      },
      {
       "output_type": "stream",
       "stream": "stdout",
       "text": [
        "\n",
        "17.8755631568"
       ]
      },
      {
       "output_type": "stream",
       "stream": "stdout",
       "text": [
        "\n",
        "result  17.6588897661\n"
       ]
      },
      {
       "metadata": {},
       "output_type": "pyout",
       "prompt_number": 11,
       "text": [
        "array([  43.95444444,   72.90111111,   26.50666667, ...,  174.20888889,\n",
        "         52.97222222,  200.61222222])"
       ]
      }
     ],
     "prompt_number": 11
    },
    {
     "cell_type": "code",
     "collapsed": false,
     "input": [
      "trainModelTestTrainSplit(trainNew, sklearn.ensemble.BaggingRegressor())"
     ],
     "language": "python",
     "metadata": {},
     "outputs": [
      {
       "output_type": "stream",
       "stream": "stderr",
       "text": [
        "[Parallel(n_jobs=1)]: Done   1 out of   1 | elapsed:    7.0s finished\n",
        "[Parallel(n_jobs=1)]: Done   1 out of   1 | elapsed:    0.1s finished\n"
       ]
      },
      {
       "output_type": "stream",
       "stream": "stdout",
       "text": [
        "result  19.9393340572\n"
       ]
      }
     ],
     "prompt_number": 22
    },
    {
     "cell_type": "code",
     "collapsed": false,
     "input": [
      "data = trainNew\n",
      "model = sklearn.ensemble.GradientBoostingRegressor(loss = 'ls', learning_rate=0.1, max_depth = 3, verbose=1, n_estimators=10,\\\n",
      "                                                   criterion = \"mae\")"
     ],
     "language": "python",
     "metadata": {},
     "outputs": [],
     "prompt_number": 54
    },
    {
     "cell_type": "code",
     "collapsed": false,
     "input": [
      "c = trainNew.columns.difference(['Count'])\n",
      "X_train, X_test, y_train, y_test = sklearn.cross_validation.train_test_split(data[c], data['Count'], test_size=0.3, random_state=0)\n",
      "model.fit(X_train.as_matrix(), y_train.as_matrix())\n",
      "pred = model.predict(X_test)\n",
      "print \"result \", mae(pred, y_test)"
     ],
     "language": "python",
     "metadata": {},
     "outputs": []
    },
    {
     "cell_type": "code",
     "collapsed": false,
     "input": [
      "model.feature_importances_"
     ],
     "language": "python",
     "metadata": {},
     "outputs": [
      {
       "metadata": {},
       "output_type": "pyout",
       "prompt_number": 31,
       "text": [
        "array([  5.44335264e-03,   6.45594826e-03,   2.00477209e-03,\n",
        "         9.59723684e-03,   7.83662815e-03,   5.90436130e-04,\n",
        "         7.09270144e-03,   1.39095627e-03,   3.01235950e-03,\n",
        "         4.45238844e-03,   5.77847319e-03,   3.63852348e-04,\n",
        "         6.87055254e-03,   3.49814892e-04,   9.16518989e-03,\n",
        "         9.38886899e-03,   7.41757308e-03,   6.70804112e-03,\n",
        "         2.75003366e-03,   7.55657461e-03,   4.00109010e-03,\n",
        "         6.11474055e-03,   6.90328962e-03,   1.57537229e-03,\n",
        "         8.98828173e-04,   1.44579894e-03,   8.40689742e-03,\n",
        "         4.65505072e-03,   4.03495255e-03,   0.00000000e+00,\n",
        "         5.63729929e-04,   2.12886966e-03,   3.87871486e-03,\n",
        "         1.82087988e-03,   0.00000000e+00,   6.40451950e-03,\n",
        "         6.36515361e-03,   8.08304357e-03,   8.90893069e-03,\n",
        "         1.02533973e-03,   6.02295877e-04,   3.58951892e-03,\n",
        "         1.02209127e-02,   1.18976038e-04,   5.60662063e-03,\n",
        "         2.56260105e-03,   9.26532177e-03,   6.65150160e-03,\n",
        "         8.78266222e-03,   9.94361015e-03,   4.73715350e-05,\n",
        "         9.83143450e-03,   6.02141461e-03,   2.00874040e-03,\n",
        "         8.61441109e-04,   1.38048957e-02,   8.73582659e-04,\n",
        "         2.09189841e-03,   1.00614809e-02,   0.00000000e+00,\n",
        "         7.75694175e-04,   0.00000000e+00,   9.00755628e-03,\n",
        "         5.65705609e-03,   7.61523792e-03,   6.26977412e-03,\n",
        "         0.00000000e+00,   4.34424830e-03,   3.67875338e-03,\n",
        "         0.00000000e+00,   1.22122903e-02,   6.93098696e-03,\n",
        "         6.54584066e-03,   5.49807954e-03,   7.11604569e-03,\n",
        "         3.42946909e-03,   4.63263054e-03,   2.23978109e-03,\n",
        "         6.73101438e-03,   7.48706651e-03,   6.90282498e-03,\n",
        "         4.80281145e-03,   2.84736081e-03,   1.46459599e-03,\n",
        "         4.21856259e-03,   1.09692665e-02,   1.53139873e-03,\n",
        "         5.24616480e-03,   5.58731250e-03,   1.04745009e-02,\n",
        "         1.37546063e-02,   7.04337965e-03,   6.83524544e-03,\n",
        "         6.46186358e-03,   5.58284854e-03,   3.20346397e-03,\n",
        "         4.04436701e-03,   2.32113594e-03,   1.17243715e-03,\n",
        "         5.63758324e-03,   3.21506066e-03,   1.85739639e-03,\n",
        "         7.39162224e-03,   9.67425931e-03,   5.16739808e-03,\n",
        "         3.60384303e-03,   9.19960912e-03,   4.23040439e-03,\n",
        "         2.26111897e-03,   8.64476831e-03,   1.44670103e-02,\n",
        "         7.67034011e-03,   6.73984642e-03,   8.67579180e-04,\n",
        "         4.59501168e-02,   1.47179074e-01,   1.01291314e-01,\n",
        "         1.25928747e-01])"
       ]
      }
     ],
     "prompt_number": 31
    },
    {
     "cell_type": "code",
     "collapsed": false,
     "input": [],
     "language": "python",
     "metadata": {},
     "outputs": [],
     "prompt_number": null
    }
   ],
   "metadata": {}
  }
 ]
}