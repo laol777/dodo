{
 "metadata": {
  "kernelspec": {
   "display_name": "Python 2",
   "language": "python",
   "name": "python2"
  },
  "language_info": {
   "codemirror_mode": {
    "name": "ipython",
    "version": 2
   },
   "file_extension": ".py",
   "mimetype": "text/x-python",
   "name": "python",
   "nbconvert_exporter": "python",
   "pygments_lexer": "ipython2",
   "version": "2.7.6"
  },
  "name": "",
  "signature": "sha256:689163e14bb2efcc611da1f7731e8d2b34676fdd4129a4470fa335a516a5cb8e"
 },
 "nbformat": 3,
 "nbformat_minor": 0,
 "worksheets": [
  {
   "cells": [
    {
     "cell_type": "code",
     "collapsed": false,
     "input": [
      "import pandas as pd\n",
      "import numpy as np\n",
      "import datetime\n",
      "import math\n",
      "import sklearn.cross_validation\n",
      "from scipy import stats\n",
      "\n",
      "from sklearn.linear_model import LinearRegression\n",
      "from sklearn.metrics import mean_absolute_error as mae\n",
      "\n",
      "import matplotlib.pyplot as plt\n",
      "\n",
      "import datetime\n",
      "\n",
      "%matplotlib inline  "
     ],
     "language": "python",
     "metadata": {},
     "outputs": [
      {
       "output_type": "stream",
       "stream": "stderr",
       "text": [
        "C:\\Python27\\lib\\site-packages\\sklearn\\cross_validation.py:44: DeprecationWarning: This module was deprecated in version 0.18 in favor of the model_selection module into which all the refactored classes and functions are moved. Also note that the interface of the new CV iterators are different from that of this module. This module will be removed in 0.20.\n",
        "  \"This module will be removed in 0.20.\", DeprecationWarning)\n"
       ]
      }
     ],
     "prompt_number": 2
    },
    {
     "cell_type": "code",
     "collapsed": false,
     "input": [],
     "language": "python",
     "metadata": {},
     "outputs": [],
     "prompt_number": 2
    },
    {
     "cell_type": "code",
     "collapsed": false,
     "input": [
      "data = pd.read_csv('data_transform/all.csv')"
     ],
     "language": "python",
     "metadata": {},
     "outputs": [],
     "prompt_number": 3
    },
    {
     "cell_type": "code",
     "collapsed": true,
     "input": [
      "remove_column = ['CityName'\n",
      "                ,u'MeanForMonthDayByPoints', u'MeanForThroughMonthByPoints'\n",
      "                ,u'MeanForThroughWeekByPoints'\n",
      "                ,u'MeanForYearByPoints', u'MeanForYearDayByPoints'\n",
      "                ,'MeanForYearDay', 'MeanForThroughWeek', u'Prev2Day', u'Prev3Day'\n",
      "                ,u'Next2Day', u'Next3Day', u'Next1Day', u'Next7Day',\n",
      "                   u'NextExisting14Value', u'NextExisting1Value', u'NextExisting21Value',\n",
      "                   u'NextExisting2Value', u'NextExisting30Value', u'NextExisting3Value',\n",
      "                   u'NextExisting7Value', u'Prev1Day', u'Prev7Day', u'PrevExisting14Value',\n",
      "                   u'PrevExisting1Value', u'PrevExisting21Value', u'PrevExisting2Value',\n",
      "                   u'PrevExisting30Value', u'PrevExisting3Value', u'PrevExisting7Value'\n",
      "                 ]\n",
      "\n",
      "data = data[data.columns.difference(remove_column)]\n",
      "data.Date = data.Date.apply(lambda x: pd.to_datetime(x))\n",
      "data = data.fillna(0)\n",
      "city = data.Point.unique()"
     ],
     "language": "python",
     "metadata": {},
     "outputs": [],
     "prompt_number": 4
    },
    {
     "cell_type": "code",
     "collapsed": false,
     "input": [],
     "language": "python",
     "metadata": {},
     "outputs": [],
     "prompt_number": 4
    },
    {
     "cell_type": "code",
     "collapsed": false,
     "input": [
      "data.head(15)"
     ],
     "language": "python",
     "metadata": {},
     "outputs": [
      {
       "html": [
        "<div style=\"max-width:1500px;overflow:auto;\">\n",
        "<table border=\"1\" class=\"dataframe\">\n",
        "  <thead>\n",
        "    <tr style=\"text-align: right;\">\n",
        "      <th></th>\n",
        "      <th>Count</th>\n",
        "      <th>Date</th>\n",
        "      <th>IsTest</th>\n",
        "      <th>IsTrain</th>\n",
        "      <th>IsValidation</th>\n",
        "      <th>LFnext7</th>\n",
        "      <th>MeanForMonth</th>\n",
        "      <th>MeanForMonthByPoints</th>\n",
        "      <th>MeanForMonthDay</th>\n",
        "      <th>MeanForThroughMonth</th>\n",
        "      <th>...</th>\n",
        "      <th>MeanForYear</th>\n",
        "      <th>Month</th>\n",
        "      <th>MonthDay</th>\n",
        "      <th>Point</th>\n",
        "      <th>ThroughDay</th>\n",
        "      <th>ThroughMonth</th>\n",
        "      <th>ThroughWeek</th>\n",
        "      <th>WeekDay</th>\n",
        "      <th>Year</th>\n",
        "      <th>YearDay</th>\n",
        "    </tr>\n",
        "  </thead>\n",
        "  <tbody>\n",
        "    <tr>\n",
        "      <th>0</th>\n",
        "      <td>8.0</td>\n",
        "      <td>2011-10-06</td>\n",
        "      <td>0</td>\n",
        "      <td>0</td>\n",
        "      <td>1</td>\n",
        "      <td>1.000000</td>\n",
        "      <td>110.429076</td>\n",
        "      <td>270.052083</td>\n",
        "      <td>106.547251</td>\n",
        "      <td>1.0</td>\n",
        "      <td>...</td>\n",
        "      <td>89.058824</td>\n",
        "      <td>10</td>\n",
        "      <td>6</td>\n",
        "      <td>\u0421\u044b\u043a\u0442\u044b\u0432\u043a\u0430\u0440-1</td>\n",
        "      <td>0</td>\n",
        "      <td>0</td>\n",
        "      <td>0</td>\n",
        "      <td>3</td>\n",
        "      <td>2011</td>\n",
        "      <td>278</td>\n",
        "    </tr>\n",
        "    <tr>\n",
        "      <th>1</th>\n",
        "      <td>88.0</td>\n",
        "      <td>2011-10-07</td>\n",
        "      <td>0</td>\n",
        "      <td>0</td>\n",
        "      <td>1</td>\n",
        "      <td>1.000000</td>\n",
        "      <td>110.429076</td>\n",
        "      <td>270.052083</td>\n",
        "      <td>107.727941</td>\n",
        "      <td>1.0</td>\n",
        "      <td>...</td>\n",
        "      <td>89.058824</td>\n",
        "      <td>10</td>\n",
        "      <td>7</td>\n",
        "      <td>\u0421\u044b\u043a\u0442\u044b\u0432\u043a\u0430\u0440-1</td>\n",
        "      <td>1</td>\n",
        "      <td>0</td>\n",
        "      <td>0</td>\n",
        "      <td>4</td>\n",
        "      <td>2011</td>\n",
        "      <td>279</td>\n",
        "    </tr>\n",
        "    <tr>\n",
        "      <th>2</th>\n",
        "      <td>1.0</td>\n",
        "      <td>2011-10-09</td>\n",
        "      <td>0</td>\n",
        "      <td>1</td>\n",
        "      <td>0</td>\n",
        "      <td>0.000000</td>\n",
        "      <td>110.429076</td>\n",
        "      <td>270.052083</td>\n",
        "      <td>108.823191</td>\n",
        "      <td>1.0</td>\n",
        "      <td>...</td>\n",
        "      <td>89.058824</td>\n",
        "      <td>10</td>\n",
        "      <td>9</td>\n",
        "      <td>\u0421\u044b\u043a\u0442\u044b\u0432\u043a\u0430\u0440-1</td>\n",
        "      <td>3</td>\n",
        "      <td>0</td>\n",
        "      <td>0</td>\n",
        "      <td>6</td>\n",
        "      <td>2011</td>\n",
        "      <td>281</td>\n",
        "    </tr>\n",
        "    <tr>\n",
        "      <th>3</th>\n",
        "      <td>1.0</td>\n",
        "      <td>2011-11-15</td>\n",
        "      <td>0</td>\n",
        "      <td>1</td>\n",
        "      <td>0</td>\n",
        "      <td>0.000000</td>\n",
        "      <td>100.500505</td>\n",
        "      <td>248.769231</td>\n",
        "      <td>109.760841</td>\n",
        "      <td>1.0</td>\n",
        "      <td>...</td>\n",
        "      <td>89.058824</td>\n",
        "      <td>11</td>\n",
        "      <td>15</td>\n",
        "      <td>\u0421\u044b\u043a\u0442\u044b\u0432\u043a\u0430\u0440-1</td>\n",
        "      <td>40</td>\n",
        "      <td>1</td>\n",
        "      <td>6</td>\n",
        "      <td>1</td>\n",
        "      <td>2011</td>\n",
        "      <td>318</td>\n",
        "    </tr>\n",
        "    <tr>\n",
        "      <th>4</th>\n",
        "      <td>2.0</td>\n",
        "      <td>2011-12-08</td>\n",
        "      <td>0</td>\n",
        "      <td>1</td>\n",
        "      <td>0</td>\n",
        "      <td>52.193114</td>\n",
        "      <td>107.095238</td>\n",
        "      <td>241.058824</td>\n",
        "      <td>106.963262</td>\n",
        "      <td>100.8</td>\n",
        "      <td>...</td>\n",
        "      <td>89.058824</td>\n",
        "      <td>12</td>\n",
        "      <td>8</td>\n",
        "      <td>\u0421\u044b\u043a\u0442\u044b\u0432\u043a\u0430\u0440-1</td>\n",
        "      <td>63</td>\n",
        "      <td>2</td>\n",
        "      <td>9</td>\n",
        "      <td>3</td>\n",
        "      <td>2011</td>\n",
        "      <td>341</td>\n",
        "    </tr>\n",
        "    <tr>\n",
        "      <th>5</th>\n",
        "      <td>43.0</td>\n",
        "      <td>2011-12-09</td>\n",
        "      <td>0</td>\n",
        "      <td>0</td>\n",
        "      <td>1</td>\n",
        "      <td>71.650520</td>\n",
        "      <td>107.095238</td>\n",
        "      <td>241.058824</td>\n",
        "      <td>108.823191</td>\n",
        "      <td>100.8</td>\n",
        "      <td>...</td>\n",
        "      <td>89.058824</td>\n",
        "      <td>12</td>\n",
        "      <td>9</td>\n",
        "      <td>\u0421\u044b\u043a\u0442\u044b\u0432\u043a\u0430\u0440-1</td>\n",
        "      <td>64</td>\n",
        "      <td>2</td>\n",
        "      <td>9</td>\n",
        "      <td>4</td>\n",
        "      <td>2011</td>\n",
        "      <td>342</td>\n",
        "    </tr>\n",
        "    <tr>\n",
        "      <th>6</th>\n",
        "      <td>10.0</td>\n",
        "      <td>2011-12-10</td>\n",
        "      <td>0</td>\n",
        "      <td>1</td>\n",
        "      <td>0</td>\n",
        "      <td>4.263608</td>\n",
        "      <td>107.095238</td>\n",
        "      <td>241.058824</td>\n",
        "      <td>99.359541</td>\n",
        "      <td>100.8</td>\n",
        "      <td>...</td>\n",
        "      <td>89.058824</td>\n",
        "      <td>12</td>\n",
        "      <td>10</td>\n",
        "      <td>\u0421\u044b\u043a\u0442\u044b\u0432\u043a\u0430\u0440-1</td>\n",
        "      <td>65</td>\n",
        "      <td>2</td>\n",
        "      <td>9</td>\n",
        "      <td>5</td>\n",
        "      <td>2011</td>\n",
        "      <td>343</td>\n",
        "    </tr>\n",
        "    <tr>\n",
        "      <th>7</th>\n",
        "      <td>1.0</td>\n",
        "      <td>2011-12-11</td>\n",
        "      <td>0</td>\n",
        "      <td>1</td>\n",
        "      <td>0</td>\n",
        "      <td>52.165016</td>\n",
        "      <td>107.095238</td>\n",
        "      <td>241.058824</td>\n",
        "      <td>104.211745</td>\n",
        "      <td>100.8</td>\n",
        "      <td>...</td>\n",
        "      <td>89.058824</td>\n",
        "      <td>12</td>\n",
        "      <td>11</td>\n",
        "      <td>\u0421\u044b\u043a\u0442\u044b\u0432\u043a\u0430\u0440-1</td>\n",
        "      <td>66</td>\n",
        "      <td>2</td>\n",
        "      <td>9</td>\n",
        "      <td>6</td>\n",
        "      <td>2011</td>\n",
        "      <td>344</td>\n",
        "    </tr>\n",
        "    <tr>\n",
        "      <th>8</th>\n",
        "      <td>60.0</td>\n",
        "      <td>2011-12-13</td>\n",
        "      <td>0</td>\n",
        "      <td>1</td>\n",
        "      <td>0</td>\n",
        "      <td>98.183060</td>\n",
        "      <td>107.095238</td>\n",
        "      <td>241.058824</td>\n",
        "      <td>98.933229</td>\n",
        "      <td>100.8</td>\n",
        "      <td>...</td>\n",
        "      <td>89.058824</td>\n",
        "      <td>12</td>\n",
        "      <td>13</td>\n",
        "      <td>\u0421\u044b\u043a\u0442\u044b\u0432\u043a\u0430\u0440-1</td>\n",
        "      <td>68</td>\n",
        "      <td>2</td>\n",
        "      <td>10</td>\n",
        "      <td>1</td>\n",
        "      <td>2011</td>\n",
        "      <td>346</td>\n",
        "    </tr>\n",
        "    <tr>\n",
        "      <th>9</th>\n",
        "      <td>0.0</td>\n",
        "      <td>2011-12-14</td>\n",
        "      <td>1</td>\n",
        "      <td>0</td>\n",
        "      <td>0</td>\n",
        "      <td>93.758444</td>\n",
        "      <td>107.095238</td>\n",
        "      <td>241.058824</td>\n",
        "      <td>105.942606</td>\n",
        "      <td>100.8</td>\n",
        "      <td>...</td>\n",
        "      <td>89.058824</td>\n",
        "      <td>12</td>\n",
        "      <td>14</td>\n",
        "      <td>\u0421\u044b\u043a\u0442\u044b\u0432\u043a\u0430\u0440-1</td>\n",
        "      <td>69</td>\n",
        "      <td>2</td>\n",
        "      <td>10</td>\n",
        "      <td>2</td>\n",
        "      <td>2011</td>\n",
        "      <td>347</td>\n",
        "    </tr>\n",
        "    <tr>\n",
        "      <th>10</th>\n",
        "      <td>96.0</td>\n",
        "      <td>2011-12-15</td>\n",
        "      <td>0</td>\n",
        "      <td>1</td>\n",
        "      <td>0</td>\n",
        "      <td>112.420916</td>\n",
        "      <td>107.095238</td>\n",
        "      <td>241.058824</td>\n",
        "      <td>109.760841</td>\n",
        "      <td>100.8</td>\n",
        "      <td>...</td>\n",
        "      <td>89.058824</td>\n",
        "      <td>12</td>\n",
        "      <td>15</td>\n",
        "      <td>\u0421\u044b\u043a\u0442\u044b\u0432\u043a\u0430\u0440-1</td>\n",
        "      <td>70</td>\n",
        "      <td>2</td>\n",
        "      <td>10</td>\n",
        "      <td>3</td>\n",
        "      <td>2011</td>\n",
        "      <td>348</td>\n",
        "    </tr>\n",
        "    <tr>\n",
        "      <th>11</th>\n",
        "      <td>134.0</td>\n",
        "      <td>2011-12-16</td>\n",
        "      <td>0</td>\n",
        "      <td>1</td>\n",
        "      <td>0</td>\n",
        "      <td>111.514536</td>\n",
        "      <td>107.095238</td>\n",
        "      <td>241.058824</td>\n",
        "      <td>105.413058</td>\n",
        "      <td>100.8</td>\n",
        "      <td>...</td>\n",
        "      <td>89.058824</td>\n",
        "      <td>12</td>\n",
        "      <td>16</td>\n",
        "      <td>\u0421\u044b\u043a\u0442\u044b\u0432\u043a\u0430\u0440-1</td>\n",
        "      <td>71</td>\n",
        "      <td>2</td>\n",
        "      <td>10</td>\n",
        "      <td>4</td>\n",
        "      <td>2011</td>\n",
        "      <td>349</td>\n",
        "    </tr>\n",
        "    <tr>\n",
        "      <th>12</th>\n",
        "      <td>112.0</td>\n",
        "      <td>2011-12-17</td>\n",
        "      <td>0</td>\n",
        "      <td>1</td>\n",
        "      <td>0</td>\n",
        "      <td>141.052895</td>\n",
        "      <td>107.095238</td>\n",
        "      <td>241.058824</td>\n",
        "      <td>106.995693</td>\n",
        "      <td>100.8</td>\n",
        "      <td>...</td>\n",
        "      <td>89.058824</td>\n",
        "      <td>12</td>\n",
        "      <td>17</td>\n",
        "      <td>\u0421\u044b\u043a\u0442\u044b\u0432\u043a\u0430\u0440-1</td>\n",
        "      <td>72</td>\n",
        "      <td>2</td>\n",
        "      <td>10</td>\n",
        "      <td>5</td>\n",
        "      <td>2011</td>\n",
        "      <td>350</td>\n",
        "    </tr>\n",
        "    <tr>\n",
        "      <th>13</th>\n",
        "      <td>100.0</td>\n",
        "      <td>2011-12-18</td>\n",
        "      <td>0</td>\n",
        "      <td>1</td>\n",
        "      <td>0</td>\n",
        "      <td>174.997373</td>\n",
        "      <td>107.095238</td>\n",
        "      <td>241.058824</td>\n",
        "      <td>97.615544</td>\n",
        "      <td>100.8</td>\n",
        "      <td>...</td>\n",
        "      <td>89.058824</td>\n",
        "      <td>12</td>\n",
        "      <td>18</td>\n",
        "      <td>\u0421\u044b\u043a\u0442\u044b\u0432\u043a\u0430\u0440-1</td>\n",
        "      <td>73</td>\n",
        "      <td>2</td>\n",
        "      <td>10</td>\n",
        "      <td>6</td>\n",
        "      <td>2011</td>\n",
        "      <td>351</td>\n",
        "    </tr>\n",
        "    <tr>\n",
        "      <th>14</th>\n",
        "      <td>0.0</td>\n",
        "      <td>2011-12-19</td>\n",
        "      <td>1</td>\n",
        "      <td>0</td>\n",
        "      <td>0</td>\n",
        "      <td>120.070806</td>\n",
        "      <td>107.095238</td>\n",
        "      <td>241.058824</td>\n",
        "      <td>95.277491</td>\n",
        "      <td>100.8</td>\n",
        "      <td>...</td>\n",
        "      <td>89.058824</td>\n",
        "      <td>12</td>\n",
        "      <td>19</td>\n",
        "      <td>\u0421\u044b\u043a\u0442\u044b\u0432\u043a\u0430\u0440-1</td>\n",
        "      <td>74</td>\n",
        "      <td>2</td>\n",
        "      <td>11</td>\n",
        "      <td>0</td>\n",
        "      <td>2011</td>\n",
        "      <td>352</td>\n",
        "    </tr>\n",
        "  </tbody>\n",
        "</table>\n",
        "<p>15 rows \u00d7 22 columns</p>\n",
        "</div>"
       ],
       "metadata": {},
       "output_type": "pyout",
       "prompt_number": 5,
       "text": [
        "    Count       Date  IsTest  IsTrain  IsValidation     LFnext7  MeanForMonth  \\\n",
        "0     8.0 2011-10-06       0        0             1    1.000000    110.429076   \n",
        "1    88.0 2011-10-07       0        0             1    1.000000    110.429076   \n",
        "2     1.0 2011-10-09       0        1             0    0.000000    110.429076   \n",
        "3     1.0 2011-11-15       0        1             0    0.000000    100.500505   \n",
        "4     2.0 2011-12-08       0        1             0   52.193114    107.095238   \n",
        "5    43.0 2011-12-09       0        0             1   71.650520    107.095238   \n",
        "6    10.0 2011-12-10       0        1             0    4.263608    107.095238   \n",
        "7     1.0 2011-12-11       0        1             0   52.165016    107.095238   \n",
        "8    60.0 2011-12-13       0        1             0   98.183060    107.095238   \n",
        "9     0.0 2011-12-14       1        0             0   93.758444    107.095238   \n",
        "10   96.0 2011-12-15       0        1             0  112.420916    107.095238   \n",
        "11  134.0 2011-12-16       0        1             0  111.514536    107.095238   \n",
        "12  112.0 2011-12-17       0        1             0  141.052895    107.095238   \n",
        "13  100.0 2011-12-18       0        1             0  174.997373    107.095238   \n",
        "14    0.0 2011-12-19       1        0             0  120.070806    107.095238   \n",
        "\n",
        "    MeanForMonthByPoints  MeanForMonthDay  MeanForThroughMonth   ...     \\\n",
        "0             270.052083       106.547251                  1.0   ...      \n",
        "1             270.052083       107.727941                  1.0   ...      \n",
        "2             270.052083       108.823191                  1.0   ...      \n",
        "3             248.769231       109.760841                  1.0   ...      \n",
        "4             241.058824       106.963262                100.8   ...      \n",
        "5             241.058824       108.823191                100.8   ...      \n",
        "6             241.058824        99.359541                100.8   ...      \n",
        "7             241.058824       104.211745                100.8   ...      \n",
        "8             241.058824        98.933229                100.8   ...      \n",
        "9             241.058824       105.942606                100.8   ...      \n",
        "10            241.058824       109.760841                100.8   ...      \n",
        "11            241.058824       105.413058                100.8   ...      \n",
        "12            241.058824       106.995693                100.8   ...      \n",
        "13            241.058824        97.615544                100.8   ...      \n",
        "14            241.058824        95.277491                100.8   ...      \n",
        "\n",
        "    MeanForYear  Month  MonthDay        Point  ThroughDay ThroughMonth  \\\n",
        "0     89.058824     10         6  \u0421\u044b\u043a\u0442\u044b\u0432\u043a\u0430\u0440-1           0            0   \n",
        "1     89.058824     10         7  \u0421\u044b\u043a\u0442\u044b\u0432\u043a\u0430\u0440-1           1            0   \n",
        "2     89.058824     10         9  \u0421\u044b\u043a\u0442\u044b\u0432\u043a\u0430\u0440-1           3            0   \n",
        "3     89.058824     11        15  \u0421\u044b\u043a\u0442\u044b\u0432\u043a\u0430\u0440-1          40            1   \n",
        "4     89.058824     12         8  \u0421\u044b\u043a\u0442\u044b\u0432\u043a\u0430\u0440-1          63            2   \n",
        "5     89.058824     12         9  \u0421\u044b\u043a\u0442\u044b\u0432\u043a\u0430\u0440-1          64            2   \n",
        "6     89.058824     12        10  \u0421\u044b\u043a\u0442\u044b\u0432\u043a\u0430\u0440-1          65            2   \n",
        "7     89.058824     12        11  \u0421\u044b\u043a\u0442\u044b\u0432\u043a\u0430\u0440-1          66            2   \n",
        "8     89.058824     12        13  \u0421\u044b\u043a\u0442\u044b\u0432\u043a\u0430\u0440-1          68            2   \n",
        "9     89.058824     12        14  \u0421\u044b\u043a\u0442\u044b\u0432\u043a\u0430\u0440-1          69            2   \n",
        "10    89.058824     12        15  \u0421\u044b\u043a\u0442\u044b\u0432\u043a\u0430\u0440-1          70            2   \n",
        "11    89.058824     12        16  \u0421\u044b\u043a\u0442\u044b\u0432\u043a\u0430\u0440-1          71            2   \n",
        "12    89.058824     12        17  \u0421\u044b\u043a\u0442\u044b\u0432\u043a\u0430\u0440-1          72            2   \n",
        "13    89.058824     12        18  \u0421\u044b\u043a\u0442\u044b\u0432\u043a\u0430\u0440-1          73            2   \n",
        "14    89.058824     12        19  \u0421\u044b\u043a\u0442\u044b\u0432\u043a\u0430\u0440-1          74            2   \n",
        "\n",
        "    ThroughWeek  WeekDay  Year  YearDay  \n",
        "0             0        3  2011      278  \n",
        "1             0        4  2011      279  \n",
        "2             0        6  2011      281  \n",
        "3             6        1  2011      318  \n",
        "4             9        3  2011      341  \n",
        "5             9        4  2011      342  \n",
        "6             9        5  2011      343  \n",
        "7             9        6  2011      344  \n",
        "8            10        1  2011      346  \n",
        "9            10        2  2011      347  \n",
        "10           10        3  2011      348  \n",
        "11           10        4  2011      349  \n",
        "12           10        5  2011      350  \n",
        "13           10        6  2011      351  \n",
        "14           11        0  2011      352  \n",
        "\n",
        "[15 rows x 22 columns]"
       ]
      }
     ],
     "prompt_number": 5
    },
    {
     "cell_type": "code",
     "collapsed": false,
     "input": [],
     "language": "python",
     "metadata": {},
     "outputs": [],
     "prompt_number": 4
    },
    {
     "cell_type": "code",
     "collapsed": false,
     "input": [
      "c = city[0]\n",
      "d = data.Date[5]\n",
      "n = 30"
     ],
     "language": "python",
     "metadata": {},
     "outputs": [],
     "prompt_number": 5
    },
    {
     "cell_type": "code",
     "collapsed": false,
     "input": [],
     "language": "python",
     "metadata": {},
     "outputs": [],
     "prompt_number": 77
    },
    {
     "cell_type": "code",
     "collapsed": false,
     "input": [
      "c = city[0]\n",
      "dataCity = data[data.Point == c]\n",
      "d = data.Date[12]\n",
      "\n",
      "n = 4"
     ],
     "language": "python",
     "metadata": {},
     "outputs": [],
     "prompt_number": 25
    },
    {
     "cell_type": "code",
     "collapsed": false,
     "input": [
      "d"
     ],
     "language": "python",
     "metadata": {},
     "outputs": [
      {
       "metadata": {},
       "output_type": "pyout",
       "prompt_number": 26,
       "text": [
        "Timestamp('2011-12-17 00:00:00')"
       ]
      }
     ],
     "prompt_number": 26
    },
    {
     "cell_type": "code",
     "collapsed": false,
     "input": [
      "d + datetime.timedelta(-n)"
     ],
     "language": "python",
     "metadata": {},
     "outputs": [
      {
       "metadata": {},
       "output_type": "pyout",
       "prompt_number": 27,
       "text": [
        "Timestamp('2011-12-13 00:00:00')"
       ]
      }
     ],
     "prompt_number": 27
    },
    {
     "cell_type": "code",
     "collapsed": false,
     "input": [
      "d - datetime.timedelta(abs(n) +)"
     ],
     "language": "python",
     "metadata": {},
     "outputs": [
      {
       "metadata": {},
       "output_type": "pyout",
       "prompt_number": 28,
       "text": [
        "Timestamp('2011-12-13 00:00:00')"
       ]
      }
     ],
     "prompt_number": 28
    },
    {
     "cell_type": "code",
     "collapsed": false,
     "input": [
      "dataTrain = data[(data.IsTrain == 1) & (data.Point == c)]\n",
      "dataTrain = dataTrain[dataTrain.columns.difference([u'IsTest', u'IsTrain', u'IsValidation', 'Point'])]\n",
      "\n",
      "\n",
      "indexData = data[data.Date == d].index[0]\n",
      "\n",
      "\n",
      "downIndex = indexData - data[data.Date > d + datetime.timedelta(-n - 3)].index[0]\n",
      "topIndex =  indexData + data[data.Date < d + datetime.timedelta(n + 3)].index[-1]\n",
      "\n",
      "downIndex = max(0, min(downIndex, data.shape[0]-1))\n",
      "topIndex = max(0, min(topIndex, data.shape[0]-1))\n",
      "\n",
      "dataTrain = dataTrain.loc[downIndex:topIndex]\n",
      "\n",
      "valueLessUpperN = dataTrain.Date.map( lambda x: ( ((x  - d).days <= n) & ((x  - d).days > 0) ) )\n",
      "\n",
      "dataTrain = dataTrain[valueLessUpperN]\n",
      "\n",
      "dataTrain = dataTrain[dataTrain.columns.difference([u'Date'])]\n",
      "\n",
      "X = dataTrain[dataTrain.columns.difference([\"Count\"])]"
     ],
     "language": "python",
     "metadata": {},
     "outputs": [],
     "prompt_number": 29
    },
    {
     "cell_type": "code",
     "collapsed": false,
     "input": [
      "d"
     ],
     "language": "python",
     "metadata": {},
     "outputs": [
      {
       "metadata": {},
       "output_type": "pyout",
       "prompt_number": 30,
       "text": [
        "Timestamp('2011-12-17 00:00:00')"
       ]
      }
     ],
     "prompt_number": 30
    },
    {
     "cell_type": "code",
     "collapsed": false,
     "input": [
      "d + datetime.timedelta(-n - 3)"
     ],
     "language": "python",
     "metadata": {},
     "outputs": [
      {
       "metadata": {},
       "output_type": "pyout",
       "prompt_number": 31,
       "text": [
        "Timestamp('2011-12-10 00:00:00')"
       ]
      }
     ],
     "prompt_number": 31
    },
    {
     "cell_type": "code",
     "collapsed": false,
     "input": [
      "downIndex"
     ],
     "language": "python",
     "metadata": {},
     "outputs": [
      {
       "metadata": {},
       "output_type": "pyout",
       "prompt_number": 32,
       "text": [
        "5"
       ]
      }
     ],
     "prompt_number": 32
    },
    {
     "cell_type": "code",
     "collapsed": false,
     "input": [
      "indexData"
     ],
     "language": "python",
     "metadata": {},
     "outputs": [
      {
       "metadata": {},
       "output_type": "pyout",
       "prompt_number": 33,
       "text": [
        "12"
       ]
      }
     ],
     "prompt_number": 33
    },
    {
     "cell_type": "code",
     "collapsed": false,
     "input": [
      "topIndex"
     ],
     "language": "python",
     "metadata": {},
     "outputs": [
      {
       "metadata": {},
       "output_type": "pyout",
       "prompt_number": 34,
       "text": [
        "30"
       ]
      }
     ],
     "prompt_number": 34
    },
    {
     "cell_type": "code",
     "collapsed": false,
     "input": [],
     "language": "python",
     "metadata": {},
     "outputs": [],
     "prompt_number": 34
    },
    {
     "cell_type": "code",
     "collapsed": false,
     "input": [
      "downIndex"
     ],
     "language": "python",
     "metadata": {},
     "outputs": [
      {
       "metadata": {},
       "output_type": "pyout",
       "prompt_number": 35,
       "text": [
        "5"
       ]
      }
     ],
     "prompt_number": 35
    },
    {
     "cell_type": "code",
     "collapsed": false,
     "input": [
      "d"
     ],
     "language": "python",
     "metadata": {},
     "outputs": [
      {
       "metadata": {},
       "output_type": "pyout",
       "prompt_number": 36,
       "text": [
        "Timestamp('2011-12-17 00:00:00')"
       ]
      }
     ],
     "prompt_number": 36
    },
    {
     "cell_type": "code",
     "collapsed": false,
     "input": [
      "d + datetime.timedelta(1)"
     ],
     "language": "python",
     "metadata": {},
     "outputs": [
      {
       "metadata": {},
       "output_type": "pyout",
       "prompt_number": 37,
       "text": [
        "Timestamp('2011-12-18 00:00:00')"
       ]
      }
     ],
     "prompt_number": 37
    },
    {
     "cell_type": "code",
     "collapsed": false,
     "input": [
      "dataTrain"
     ],
     "language": "python",
     "metadata": {},
     "outputs": [
      {
       "html": [
        "<div style=\"max-width:1500px;overflow:auto;\">\n",
        "<table border=\"1\" class=\"dataframe\">\n",
        "  <thead>\n",
        "    <tr style=\"text-align: right;\">\n",
        "      <th></th>\n",
        "      <th>Count</th>\n",
        "      <th>MeanForMonth</th>\n",
        "      <th>MeanForMonthByPoints</th>\n",
        "      <th>MeanForMonthDay</th>\n",
        "      <th>MeanForThroughMonth</th>\n",
        "      <th>MeanForWeekDay</th>\n",
        "      <th>MeanForWeekDayByPoints</th>\n",
        "      <th>MeanForYear</th>\n",
        "      <th>Month</th>\n",
        "      <th>MonthDay</th>\n",
        "      <th>ThroughDay</th>\n",
        "      <th>ThroughMonth</th>\n",
        "      <th>ThroughWeek</th>\n",
        "      <th>WeekDay</th>\n",
        "      <th>Year</th>\n",
        "      <th>YearDay</th>\n",
        "    </tr>\n",
        "  </thead>\n",
        "  <tbody>\n",
        "    <tr>\n",
        "      <th>13</th>\n",
        "      <td>100.0</td>\n",
        "      <td>107.095238</td>\n",
        "      <td>241.058824</td>\n",
        "      <td>97.615544</td>\n",
        "      <td>100.8</td>\n",
        "      <td>123.277839</td>\n",
        "      <td>261.082873</td>\n",
        "      <td>89.058824</td>\n",
        "      <td>12</td>\n",
        "      <td>18</td>\n",
        "      <td>73</td>\n",
        "      <td>2</td>\n",
        "      <td>10</td>\n",
        "      <td>6</td>\n",
        "      <td>2011</td>\n",
        "      <td>351</td>\n",
        "    </tr>\n",
        "    <tr>\n",
        "      <th>16</th>\n",
        "      <td>94.0</td>\n",
        "      <td>107.095238</td>\n",
        "      <td>241.058824</td>\n",
        "      <td>102.826180</td>\n",
        "      <td>100.8</td>\n",
        "      <td>86.762865</td>\n",
        "      <td>198.636364</td>\n",
        "      <td>89.058824</td>\n",
        "      <td>12</td>\n",
        "      <td>21</td>\n",
        "      <td>76</td>\n",
        "      <td>2</td>\n",
        "      <td>11</td>\n",
        "      <td>2</td>\n",
        "      <td>2011</td>\n",
        "      <td>354</td>\n",
        "    </tr>\n",
        "  </tbody>\n",
        "</table>\n",
        "</div>"
       ],
       "metadata": {},
       "output_type": "pyout",
       "prompt_number": 38,
       "text": [
        "    Count  MeanForMonth  MeanForMonthByPoints  MeanForMonthDay  \\\n",
        "13  100.0    107.095238            241.058824        97.615544   \n",
        "16   94.0    107.095238            241.058824       102.826180   \n",
        "\n",
        "    MeanForThroughMonth  MeanForWeekDay  MeanForWeekDayByPoints  MeanForYear  \\\n",
        "13                100.8      123.277839              261.082873    89.058824   \n",
        "16                100.8       86.762865              198.636364    89.058824   \n",
        "\n",
        "    Month  MonthDay  ThroughDay  ThroughMonth  ThroughWeek  WeekDay  Year  \\\n",
        "13     12        18          73             2           10        6  2011   \n",
        "16     12        21          76             2           11        2  2011   \n",
        "\n",
        "    YearDay  \n",
        "13      351  \n",
        "16      354  "
       ]
      }
     ],
     "prompt_number": 38
    },
    {
     "cell_type": "code",
     "collapsed": false,
     "input": [
      "dataTrain = data[(data.IsTrain == 1) & (data.Point == c)]\n",
      "dataTrain = dataTrain[dataTrain.columns.difference([u'IsTest', u'IsTrain', u'IsValidation', 'Point'])]\n",
      "\n",
      "dataTrain.index = range(dataTrain.shape[0])"
     ],
     "language": "python",
     "metadata": {},
     "outputs": [],
     "prompt_number": 39
    },
    {
     "cell_type": "code",
     "collapsed": false,
     "input": [
      "dataTrain[dataTrain.Date == d].index"
     ],
     "language": "python",
     "metadata": {},
     "outputs": [
      {
       "metadata": {},
       "output_type": "pyout",
       "prompt_number": 40,
       "text": [
        "Int64Index([8], dtype='int64')"
       ]
      }
     ],
     "prompt_number": 40
    },
    {
     "cell_type": "code",
     "collapsed": false,
     "input": [
      "#\u0434\u043b\u044f \u043f\u043e\u0441\u043b\u0435\u0434\u0443\u044e\u0449\u0438\u0445\n",
      "def GetModel(d, n, c):\n",
      "    dataTrain = data[(data.IsTrain == 1) & (data.Point == c)]\n",
      "    dataTrain = dataTrain[dataTrain.columns.difference([u'IsTest', u'IsTrain', u'IsValidation', 'Point'])]\n",
      "\n",
      "\n",
      "    indexData = data[data.Date == d].index[0]\n",
      "\n",
      "\n",
      "    downIndex = indexData - data[data.Date > d - datetime.timedelta(abs(n) + 3)].index[0]\n",
      "    topIndex =  indexData + data[data.Date < d + datetime.timedelta(abs(n) + 3)].index[-1]\n",
      "\n",
      "    downIndex = max(0, min(downIndex, data.shape[0]-1))\n",
      "    topIndex = max(0, min(topIndex, data.shape[0]-1))\n",
      "\n",
      "    dataTrain = dataTrain.loc[downIndex:topIndex]\n",
      "\n",
      "    valueLessUpperN = dataTrain.Date.map( lambda x: ( ((x  - d).days <= n) & ((x  - d).days > 0) ) )\n",
      "\n",
      "    dataTrain = dataTrain[valueLessUpperN]\n",
      "\n",
      "    dataTrain = dataTrain[dataTrain.columns.difference([u'Date'])]\n",
      "\n",
      "    X = dataTrain[dataTrain.columns.difference([\"Count\"])]\n",
      "    \n",
      "    if (X.shape[0] == 0):\n",
      "        return None\n",
      "    \n",
      "    y = dataTrain.Count\n",
      "    \n",
      "    lr = LinearRegression()\n",
      "\n",
      "    lr.fit(X, y)\n",
      "    return lr"
     ],
     "language": "python",
     "metadata": {},
     "outputs": [],
     "prompt_number": 6
    },
    {
     "cell_type": "code",
     "collapsed": false,
     "input": [
      "#\u0434\u043b\u044f \u043f\u0440\u0435\u0434\u044b\u0434\u0443\u0449\u0438\u0445\n",
      "def GetModelNegative(d, n, c):\n",
      "    dataTrain = data[(data.IsTrain == 1) & (data.Point == c)]\n",
      "    dataTrain = dataTrain[dataTrain.columns.difference([u'IsTest', u'IsTrain', u'IsValidation', 'Point'])]\n",
      "\n",
      "\n",
      "    indexData = data[data.Date == d].index[0]\n",
      "\n",
      "\n",
      "    downIndex = indexData - data[data.Date > d - datetime.timedelta(abs(n) + 3)].index[0]\n",
      "    topIndex =  indexData + data[data.Date < d + datetime.timedelta(abs(n) + 3)].index[-1]\n",
      "\n",
      "    downIndex = max(0, min(downIndex, data.shape[0]-1))\n",
      "    topIndex = max(0, min(topIndex, data.shape[0]-1))\n",
      "\n",
      "    dataTrain = dataTrain.loc[downIndex:topIndex]\n",
      "\n",
      "    valueLessUpperN = dataTrain.Date.map( lambda x: ( ((x  - d).days >= n) & ((x  - d).days < 0) ) )\n",
      "\n",
      "    dataTrain = dataTrain[valueLessUpperN]\n",
      "\n",
      "    dataTrain = dataTrain[dataTrain.columns.difference([u'Date'])]\n",
      "\n",
      "    X = dataTrain[dataTrain.columns.difference([\"Count\"])]\n",
      "    \n",
      "    if (X.shape[0] == 0):\n",
      "        return None\n",
      "    \n",
      "    y = dataTrain.Count\n",
      "    \n",
      "    lr = LinearRegression()\n",
      "\n",
      "    lr.fit(X, y)\n",
      "    return lr"
     ],
     "language": "python",
     "metadata": {},
     "outputs": [],
     "prompt_number": 7
    },
    {
     "cell_type": "code",
     "collapsed": false,
     "input": [
      "n = 3\n",
      "k = 1\n",
      "result = []\n",
      "for i in data.iterrows():\n",
      "    c = i[1].Point\n",
      "    d = i[1].Date\n",
      "\n",
      "    model = GetModelNegative(d, n, c)\n",
      "    X_test = data\n",
      "    X_test = X_test[(X_test.Point == c) & (X_test.Date == d)]\n",
      "    X_test = X_test[X_test.columns.difference([u'IsTest', u'IsTrain', u'IsValidation', 'Point', u'Date', \"Count\"])]\n",
      "    if (model != None):\n",
      "        print model.predict(X_test)[0],\n",
      "        result.append( max(1, model.predict(X_test)[0]) )\n",
      "    else:\n",
      "        print \"NaN\",\n",
      "        result.append(np.nan)\n",
      "\n",
      "    if( k > 20):\n",
      "        break\n",
      "    k += 1"
     ],
     "language": "python",
     "metadata": {},
     "outputs": [
      {
       "output_type": "stream",
       "stream": "stdout",
       "text": [
        "NaN NaN "
       ]
      },
      {
       "output_type": "stream",
       "stream": "stdout",
       "text": [
        "NaN NaN "
       ]
      },
      {
       "output_type": "stream",
       "stream": "stdout",
       "text": [
        "NaN NaN "
       ]
      },
      {
       "output_type": "stream",
       "stream": "stdout",
       "text": [
        "NaN NaN "
       ]
      },
      {
       "output_type": "stream",
       "stream": "stdout",
       "text": [
        "NaN NaN "
       ]
      },
      {
       "output_type": "stream",
       "stream": "stdout",
       "text": [
        "NaN NaN "
       ]
      },
      {
       "output_type": "stream",
       "stream": "stdout",
       "text": [
        "NaN NaN "
       ]
      },
      {
       "output_type": "stream",
       "stream": "stdout",
       "text": [
        "NaN NaN "
       ]
      },
      {
       "output_type": "stream",
       "stream": "stdout",
       "text": [
        "NaN NaN "
       ]
      },
      {
       "output_type": "stream",
       "stream": "stdout",
       "text": [
        "NaN NaN "
       ]
      },
      {
       "output_type": "stream",
       "stream": "stdout",
       "text": [
        "NaN\n"
       ]
      }
     ],
     "prompt_number": 82
    },
    {
     "cell_type": "code",
     "collapsed": false,
     "input": [
      "def GetResult(n):\n",
      "    k = 1\n",
      "    result = []\n",
      "    for i in data.iterrows():\n",
      "        c = i[1].Point\n",
      "        d = i[1].Date\n",
      "\n",
      "        model = GetModel(d, n, c)\n",
      "        X_test = data\n",
      "        X_test = X_test[(X_test.Point == c) & (X_test.Date == d)]\n",
      "        X_test = X_test[X_test.columns.difference([u'IsTest', u'IsTrain', u'IsValidation', 'Point', u'Date', \"Count\"])]\n",
      "        if (model != None):\n",
      "            result.append( max(1, model.predict(X_test)[0]) )\n",
      "        else:\n",
      "            result.append(np.nan)\n",
      "\n",
      "        if((k % 500) == 0):\n",
      "            print k,\n",
      "        k += 1\n",
      "    return result"
     ],
     "language": "python",
     "metadata": {},
     "outputs": [],
     "prompt_number": 13
    },
    {
     "cell_type": "code",
     "collapsed": false,
     "input": [
      "def GetResultNegative(n):\n",
      "    k = 1\n",
      "    result = []\n",
      "    for i in data.iterrows():\n",
      "        c = i[1].Point\n",
      "        d = i[1].Date\n",
      "\n",
      "        model = GetModelNegative(d, n, c)\n",
      "        X_test = data\n",
      "        X_test = X_test[(X_test.Point == c) & (X_test.Date == d)]\n",
      "        X_test = X_test[X_test.columns.difference([u'IsTest', u'IsTrain', u'IsValidation', 'Point', u'Date', \"Count\"])]\n",
      "        if (model != None):\n",
      "            result.append( max(1, model.predict(X_test)[0]) )\n",
      "        else:\n",
      "            result.append(np.nan)\n",
      "\n",
      "        if((k % 500) == 0):\n",
      "            print k,\n",
      "        k += 1\n",
      "    return result"
     ],
     "language": "python",
     "metadata": {},
     "outputs": [],
     "prompt_number": 17
    },
    {
     "cell_type": "code",
     "collapsed": false,
     "input": [
      "linearFeature = pd.DataFrame()"
     ],
     "language": "python",
     "metadata": {},
     "outputs": [],
     "prompt_number": 65
    },
    {
     "cell_type": "code",
     "collapsed": false,
     "input": [],
     "language": "python",
     "metadata": {},
     "outputs": [],
     "prompt_number": 65
    },
    {
     "cell_type": "code",
     "collapsed": false,
     "input": [
      "result7 = GetResult(7)"
     ],
     "language": "python",
     "metadata": {},
     "outputs": [
      {
       "output_type": "stream",
       "stream": "stdout",
       "text": [
        "500 "
       ]
      },
      {
       "output_type": "stream",
       "stream": "stdout",
       "text": [
        "1000 "
       ]
      },
      {
       "output_type": "stream",
       "stream": "stdout",
       "text": [
        "1500 "
       ]
      },
      {
       "output_type": "stream",
       "stream": "stdout",
       "text": [
        "2000 "
       ]
      },
      {
       "output_type": "stream",
       "stream": "stdout",
       "text": [
        "2500 "
       ]
      },
      {
       "output_type": "stream",
       "stream": "stdout",
       "text": [
        "3000 "
       ]
      },
      {
       "output_type": "stream",
       "stream": "stdout",
       "text": [
        "3500 "
       ]
      },
      {
       "output_type": "stream",
       "stream": "stdout",
       "text": [
        "4000 "
       ]
      },
      {
       "output_type": "stream",
       "stream": "stdout",
       "text": [
        "4500 "
       ]
      },
      {
       "output_type": "stream",
       "stream": "stdout",
       "text": [
        "5000 "
       ]
      },
      {
       "output_type": "stream",
       "stream": "stdout",
       "text": [
        "5500 "
       ]
      },
      {
       "output_type": "stream",
       "stream": "stdout",
       "text": [
        "6000 "
       ]
      },
      {
       "output_type": "stream",
       "stream": "stdout",
       "text": [
        "6500 "
       ]
      },
      {
       "output_type": "stream",
       "stream": "stdout",
       "text": [
        "7000 "
       ]
      },
      {
       "output_type": "stream",
       "stream": "stdout",
       "text": [
        "7500 "
       ]
      },
      {
       "output_type": "stream",
       "stream": "stdout",
       "text": [
        "8000 "
       ]
      },
      {
       "output_type": "stream",
       "stream": "stdout",
       "text": [
        "8500 "
       ]
      },
      {
       "output_type": "stream",
       "stream": "stdout",
       "text": [
        "9000 "
       ]
      },
      {
       "output_type": "stream",
       "stream": "stdout",
       "text": [
        "9500 "
       ]
      },
      {
       "output_type": "stream",
       "stream": "stdout",
       "text": [
        "10000 "
       ]
      },
      {
       "output_type": "stream",
       "stream": "stdout",
       "text": [
        "10500 "
       ]
      },
      {
       "output_type": "stream",
       "stream": "stdout",
       "text": [
        "11000 "
       ]
      },
      {
       "output_type": "stream",
       "stream": "stdout",
       "text": [
        "11500 "
       ]
      },
      {
       "output_type": "stream",
       "stream": "stdout",
       "text": [
        "12000 "
       ]
      },
      {
       "output_type": "stream",
       "stream": "stdout",
       "text": [
        "12500 "
       ]
      },
      {
       "output_type": "stream",
       "stream": "stdout",
       "text": [
        "13000 "
       ]
      },
      {
       "output_type": "stream",
       "stream": "stdout",
       "text": [
        "13500 "
       ]
      },
      {
       "output_type": "stream",
       "stream": "stdout",
       "text": [
        "14000 "
       ]
      },
      {
       "output_type": "stream",
       "stream": "stdout",
       "text": [
        "14500 "
       ]
      },
      {
       "output_type": "stream",
       "stream": "stdout",
       "text": [
        "15000 "
       ]
      },
      {
       "output_type": "stream",
       "stream": "stdout",
       "text": [
        "15500 "
       ]
      },
      {
       "output_type": "stream",
       "stream": "stdout",
       "text": [
        "16000 "
       ]
      },
      {
       "output_type": "stream",
       "stream": "stdout",
       "text": [
        "16500 "
       ]
      },
      {
       "output_type": "stream",
       "stream": "stdout",
       "text": [
        "17000 "
       ]
      },
      {
       "output_type": "stream",
       "stream": "stdout",
       "text": [
        "17500 "
       ]
      },
      {
       "output_type": "stream",
       "stream": "stdout",
       "text": [
        "18000 "
       ]
      },
      {
       "output_type": "stream",
       "stream": "stdout",
       "text": [
        "18500 "
       ]
      },
      {
       "output_type": "stream",
       "stream": "stdout",
       "text": [
        "19000 "
       ]
      },
      {
       "output_type": "stream",
       "stream": "stdout",
       "text": [
        "19500 "
       ]
      },
      {
       "output_type": "stream",
       "stream": "stdout",
       "text": [
        "20000 "
       ]
      },
      {
       "output_type": "stream",
       "stream": "stdout",
       "text": [
        "20500 "
       ]
      },
      {
       "output_type": "stream",
       "stream": "stdout",
       "text": [
        "21000 "
       ]
      },
      {
       "output_type": "stream",
       "stream": "stdout",
       "text": [
        "21500 "
       ]
      },
      {
       "output_type": "stream",
       "stream": "stdout",
       "text": [
        "22000 "
       ]
      },
      {
       "output_type": "stream",
       "stream": "stdout",
       "text": [
        "22500 "
       ]
      },
      {
       "output_type": "stream",
       "stream": "stdout",
       "text": [
        "23000 "
       ]
      },
      {
       "output_type": "stream",
       "stream": "stdout",
       "text": [
        "23500 "
       ]
      },
      {
       "output_type": "stream",
       "stream": "stdout",
       "text": [
        "24000 "
       ]
      },
      {
       "output_type": "stream",
       "stream": "stdout",
       "text": [
        "24500 "
       ]
      },
      {
       "output_type": "stream",
       "stream": "stdout",
       "text": [
        "25000 "
       ]
      },
      {
       "output_type": "stream",
       "stream": "stdout",
       "text": [
        "25500 "
       ]
      },
      {
       "output_type": "stream",
       "stream": "stdout",
       "text": [
        "26000 "
       ]
      },
      {
       "output_type": "stream",
       "stream": "stdout",
       "text": [
        "26500 "
       ]
      },
      {
       "output_type": "stream",
       "stream": "stdout",
       "text": [
        "27000 "
       ]
      },
      {
       "output_type": "stream",
       "stream": "stdout",
       "text": [
        "27500 "
       ]
      },
      {
       "output_type": "stream",
       "stream": "stdout",
       "text": [
        "28000 "
       ]
      },
      {
       "output_type": "stream",
       "stream": "stdout",
       "text": [
        "28500 "
       ]
      },
      {
       "output_type": "stream",
       "stream": "stdout",
       "text": [
        "29000 "
       ]
      },
      {
       "output_type": "stream",
       "stream": "stdout",
       "text": [
        "29500 "
       ]
      },
      {
       "output_type": "stream",
       "stream": "stdout",
       "text": [
        "30000 "
       ]
      },
      {
       "output_type": "stream",
       "stream": "stdout",
       "text": [
        "30500 "
       ]
      },
      {
       "output_type": "stream",
       "stream": "stdout",
       "text": [
        "31000 "
       ]
      },
      {
       "output_type": "stream",
       "stream": "stdout",
       "text": [
        "31500 "
       ]
      },
      {
       "output_type": "stream",
       "stream": "stdout",
       "text": [
        "32000 "
       ]
      },
      {
       "output_type": "stream",
       "stream": "stdout",
       "text": [
        "32500 "
       ]
      },
      {
       "output_type": "stream",
       "stream": "stdout",
       "text": [
        "33000 "
       ]
      },
      {
       "output_type": "stream",
       "stream": "stdout",
       "text": [
        "33500 "
       ]
      },
      {
       "output_type": "stream",
       "stream": "stdout",
       "text": [
        "34000 "
       ]
      },
      {
       "output_type": "stream",
       "stream": "stdout",
       "text": [
        "34500 "
       ]
      },
      {
       "output_type": "stream",
       "stream": "stdout",
       "text": [
        "35000 "
       ]
      },
      {
       "output_type": "stream",
       "stream": "stdout",
       "text": [
        "35500 "
       ]
      },
      {
       "output_type": "stream",
       "stream": "stdout",
       "text": [
        "36000 "
       ]
      },
      {
       "output_type": "stream",
       "stream": "stdout",
       "text": [
        "36500 "
       ]
      },
      {
       "output_type": "stream",
       "stream": "stdout",
       "text": [
        "37000 "
       ]
      },
      {
       "output_type": "stream",
       "stream": "stdout",
       "text": [
        "37500 "
       ]
      },
      {
       "output_type": "stream",
       "stream": "stdout",
       "text": [
        "38000 "
       ]
      },
      {
       "output_type": "stream",
       "stream": "stdout",
       "text": [
        "38500 "
       ]
      },
      {
       "output_type": "stream",
       "stream": "stdout",
       "text": [
        "39000 "
       ]
      },
      {
       "output_type": "stream",
       "stream": "stdout",
       "text": [
        "39500 "
       ]
      },
      {
       "output_type": "stream",
       "stream": "stdout",
       "text": [
        "40000 "
       ]
      },
      {
       "output_type": "stream",
       "stream": "stdout",
       "text": [
        "40500 "
       ]
      },
      {
       "output_type": "stream",
       "stream": "stdout",
       "text": [
        "41000 "
       ]
      },
      {
       "output_type": "stream",
       "stream": "stdout",
       "text": [
        "41500 "
       ]
      },
      {
       "output_type": "stream",
       "stream": "stdout",
       "text": [
        "42000 "
       ]
      },
      {
       "output_type": "stream",
       "stream": "stdout",
       "text": [
        "42500 "
       ]
      },
      {
       "output_type": "stream",
       "stream": "stdout",
       "text": [
        "43000 "
       ]
      },
      {
       "output_type": "stream",
       "stream": "stdout",
       "text": [
        "43500 "
       ]
      },
      {
       "output_type": "stream",
       "stream": "stdout",
       "text": [
        "44000 "
       ]
      },
      {
       "output_type": "stream",
       "stream": "stdout",
       "text": [
        "44500 "
       ]
      },
      {
       "output_type": "stream",
       "stream": "stdout",
       "text": [
        "45000 "
       ]
      },
      {
       "output_type": "stream",
       "stream": "stdout",
       "text": [
        "45500 "
       ]
      },
      {
       "output_type": "stream",
       "stream": "stdout",
       "text": [
        "46000 "
       ]
      },
      {
       "output_type": "stream",
       "stream": "stdout",
       "text": [
        "46500 "
       ]
      },
      {
       "output_type": "stream",
       "stream": "stdout",
       "text": [
        "47000 "
       ]
      },
      {
       "output_type": "stream",
       "stream": "stdout",
       "text": [
        "47500 "
       ]
      },
      {
       "output_type": "stream",
       "stream": "stdout",
       "text": [
        "48000 "
       ]
      },
      {
       "output_type": "stream",
       "stream": "stdout",
       "text": [
        "48500 "
       ]
      },
      {
       "output_type": "stream",
       "stream": "stdout",
       "text": [
        "49000 "
       ]
      },
      {
       "output_type": "stream",
       "stream": "stdout",
       "text": [
        "49500 "
       ]
      },
      {
       "output_type": "stream",
       "stream": "stdout",
       "text": [
        "50000 "
       ]
      },
      {
       "output_type": "stream",
       "stream": "stdout",
       "text": [
        "50500 "
       ]
      },
      {
       "output_type": "stream",
       "stream": "stdout",
       "text": [
        "51000 "
       ]
      },
      {
       "output_type": "stream",
       "stream": "stdout",
       "text": [
        "51500 "
       ]
      },
      {
       "output_type": "stream",
       "stream": "stdout",
       "text": [
        "52000 "
       ]
      },
      {
       "output_type": "stream",
       "stream": "stdout",
       "text": [
        "52500 "
       ]
      },
      {
       "output_type": "stream",
       "stream": "stdout",
       "text": [
        "53000\n"
       ]
      }
     ],
     "prompt_number": 66
    },
    {
     "cell_type": "code",
     "collapsed": false,
     "input": [
      "linearFeature[\"LFnext7\"] = pd.Series(result7)"
     ],
     "language": "python",
     "metadata": {},
     "outputs": [],
     "prompt_number": 67
    },
    {
     "cell_type": "code",
     "collapsed": false,
     "input": [
      "linearFeature.to_csv('data_transform/linearFeature.csv', index=None)"
     ],
     "language": "python",
     "metadata": {},
     "outputs": [],
     "prompt_number": 68
    },
    {
     "cell_type": "code",
     "collapsed": false,
     "input": [],
     "language": "python",
     "metadata": {},
     "outputs": [],
     "prompt_number": 68
    },
    {
     "cell_type": "code",
     "collapsed": false,
     "input": [
      "result30 = GetResult(30)"
     ],
     "language": "python",
     "metadata": {},
     "outputs": [
      {
       "output_type": "stream",
       "stream": "stdout",
       "text": [
        "500 "
       ]
      },
      {
       "output_type": "stream",
       "stream": "stdout",
       "text": [
        "1000 "
       ]
      },
      {
       "output_type": "stream",
       "stream": "stdout",
       "text": [
        "1500 "
       ]
      },
      {
       "output_type": "stream",
       "stream": "stdout",
       "text": [
        "2000 "
       ]
      },
      {
       "output_type": "stream",
       "stream": "stdout",
       "text": [
        "2500 "
       ]
      },
      {
       "output_type": "stream",
       "stream": "stdout",
       "text": [
        "3000 "
       ]
      },
      {
       "output_type": "stream",
       "stream": "stdout",
       "text": [
        "3500 "
       ]
      },
      {
       "output_type": "stream",
       "stream": "stdout",
       "text": [
        "4000 "
       ]
      },
      {
       "output_type": "stream",
       "stream": "stdout",
       "text": [
        "4500 "
       ]
      },
      {
       "output_type": "stream",
       "stream": "stdout",
       "text": [
        "5000 "
       ]
      },
      {
       "output_type": "stream",
       "stream": "stdout",
       "text": [
        "5500 "
       ]
      },
      {
       "output_type": "stream",
       "stream": "stdout",
       "text": [
        "6000 "
       ]
      },
      {
       "output_type": "stream",
       "stream": "stdout",
       "text": [
        "6500 "
       ]
      },
      {
       "output_type": "stream",
       "stream": "stdout",
       "text": [
        "7000 "
       ]
      },
      {
       "output_type": "stream",
       "stream": "stdout",
       "text": [
        "7500 "
       ]
      },
      {
       "output_type": "stream",
       "stream": "stdout",
       "text": [
        "8000 "
       ]
      },
      {
       "output_type": "stream",
       "stream": "stdout",
       "text": [
        "8500 "
       ]
      },
      {
       "output_type": "stream",
       "stream": "stdout",
       "text": [
        "9000 "
       ]
      },
      {
       "output_type": "stream",
       "stream": "stdout",
       "text": [
        "9500 "
       ]
      },
      {
       "output_type": "stream",
       "stream": "stdout",
       "text": [
        "10000 "
       ]
      },
      {
       "output_type": "stream",
       "stream": "stdout",
       "text": [
        "10500 "
       ]
      },
      {
       "output_type": "stream",
       "stream": "stdout",
       "text": [
        "11000 "
       ]
      },
      {
       "output_type": "stream",
       "stream": "stdout",
       "text": [
        "11500 "
       ]
      },
      {
       "output_type": "stream",
       "stream": "stdout",
       "text": [
        "12000 "
       ]
      },
      {
       "output_type": "stream",
       "stream": "stdout",
       "text": [
        "12500 "
       ]
      },
      {
       "output_type": "stream",
       "stream": "stdout",
       "text": [
        "13000 "
       ]
      },
      {
       "output_type": "stream",
       "stream": "stdout",
       "text": [
        "13500 "
       ]
      },
      {
       "output_type": "stream",
       "stream": "stdout",
       "text": [
        "14000 "
       ]
      },
      {
       "output_type": "stream",
       "stream": "stdout",
       "text": [
        "14500 "
       ]
      },
      {
       "output_type": "stream",
       "stream": "stdout",
       "text": [
        "15000 "
       ]
      },
      {
       "output_type": "stream",
       "stream": "stdout",
       "text": [
        "15500 "
       ]
      },
      {
       "output_type": "stream",
       "stream": "stdout",
       "text": [
        "16000 "
       ]
      },
      {
       "output_type": "stream",
       "stream": "stdout",
       "text": [
        "16500 "
       ]
      },
      {
       "output_type": "stream",
       "stream": "stdout",
       "text": [
        "17000 "
       ]
      },
      {
       "output_type": "stream",
       "stream": "stdout",
       "text": [
        "17500 "
       ]
      },
      {
       "output_type": "stream",
       "stream": "stdout",
       "text": [
        "18000 "
       ]
      },
      {
       "output_type": "stream",
       "stream": "stdout",
       "text": [
        "18500 "
       ]
      },
      {
       "output_type": "stream",
       "stream": "stdout",
       "text": [
        "19000 "
       ]
      },
      {
       "output_type": "stream",
       "stream": "stdout",
       "text": [
        "19500 "
       ]
      },
      {
       "output_type": "stream",
       "stream": "stdout",
       "text": [
        "20000 "
       ]
      },
      {
       "output_type": "stream",
       "stream": "stdout",
       "text": [
        "20500 "
       ]
      },
      {
       "output_type": "stream",
       "stream": "stdout",
       "text": [
        "21000 "
       ]
      },
      {
       "output_type": "stream",
       "stream": "stdout",
       "text": [
        "21500 "
       ]
      },
      {
       "output_type": "stream",
       "stream": "stdout",
       "text": [
        "22000 "
       ]
      },
      {
       "output_type": "stream",
       "stream": "stdout",
       "text": [
        "22500 "
       ]
      },
      {
       "output_type": "stream",
       "stream": "stdout",
       "text": [
        "23000 "
       ]
      },
      {
       "output_type": "stream",
       "stream": "stdout",
       "text": [
        "23500 "
       ]
      },
      {
       "output_type": "stream",
       "stream": "stdout",
       "text": [
        "24000 "
       ]
      },
      {
       "output_type": "stream",
       "stream": "stdout",
       "text": [
        "24500 "
       ]
      },
      {
       "output_type": "stream",
       "stream": "stdout",
       "text": [
        "25000 "
       ]
      },
      {
       "output_type": "stream",
       "stream": "stdout",
       "text": [
        "25500 "
       ]
      },
      {
       "output_type": "stream",
       "stream": "stdout",
       "text": [
        "26000 "
       ]
      },
      {
       "output_type": "stream",
       "stream": "stdout",
       "text": [
        "26500 "
       ]
      },
      {
       "output_type": "stream",
       "stream": "stdout",
       "text": [
        "27000 "
       ]
      },
      {
       "output_type": "stream",
       "stream": "stdout",
       "text": [
        "27500 "
       ]
      },
      {
       "output_type": "stream",
       "stream": "stdout",
       "text": [
        "28000 "
       ]
      },
      {
       "output_type": "stream",
       "stream": "stdout",
       "text": [
        "28500 "
       ]
      },
      {
       "output_type": "stream",
       "stream": "stdout",
       "text": [
        "29000 "
       ]
      },
      {
       "output_type": "stream",
       "stream": "stdout",
       "text": [
        "29500 "
       ]
      },
      {
       "output_type": "stream",
       "stream": "stdout",
       "text": [
        "30000 "
       ]
      },
      {
       "output_type": "stream",
       "stream": "stdout",
       "text": [
        "30500 "
       ]
      },
      {
       "output_type": "stream",
       "stream": "stdout",
       "text": [
        "31000 "
       ]
      },
      {
       "output_type": "stream",
       "stream": "stdout",
       "text": [
        "31500 "
       ]
      },
      {
       "output_type": "stream",
       "stream": "stdout",
       "text": [
        "32000 "
       ]
      },
      {
       "output_type": "stream",
       "stream": "stdout",
       "text": [
        "32500 "
       ]
      },
      {
       "output_type": "stream",
       "stream": "stdout",
       "text": [
        "33000 "
       ]
      },
      {
       "output_type": "stream",
       "stream": "stdout",
       "text": [
        "33500 "
       ]
      },
      {
       "output_type": "stream",
       "stream": "stdout",
       "text": [
        "34000 "
       ]
      },
      {
       "output_type": "stream",
       "stream": "stdout",
       "text": [
        "34500 "
       ]
      },
      {
       "output_type": "stream",
       "stream": "stdout",
       "text": [
        "35000 "
       ]
      },
      {
       "output_type": "stream",
       "stream": "stdout",
       "text": [
        "35500 "
       ]
      },
      {
       "output_type": "stream",
       "stream": "stdout",
       "text": [
        "36000 "
       ]
      },
      {
       "output_type": "stream",
       "stream": "stdout",
       "text": [
        "36500 "
       ]
      },
      {
       "output_type": "stream",
       "stream": "stdout",
       "text": [
        "37000 "
       ]
      },
      {
       "output_type": "stream",
       "stream": "stdout",
       "text": [
        "37500 "
       ]
      },
      {
       "output_type": "stream",
       "stream": "stdout",
       "text": [
        "38000 "
       ]
      },
      {
       "output_type": "stream",
       "stream": "stdout",
       "text": [
        "38500 "
       ]
      },
      {
       "output_type": "stream",
       "stream": "stdout",
       "text": [
        "39000 "
       ]
      },
      {
       "output_type": "stream",
       "stream": "stdout",
       "text": [
        "39500 "
       ]
      },
      {
       "output_type": "stream",
       "stream": "stdout",
       "text": [
        "40000 "
       ]
      },
      {
       "output_type": "stream",
       "stream": "stdout",
       "text": [
        "40500 "
       ]
      },
      {
       "output_type": "stream",
       "stream": "stdout",
       "text": [
        "41000 "
       ]
      },
      {
       "output_type": "stream",
       "stream": "stdout",
       "text": [
        "41500 "
       ]
      },
      {
       "output_type": "stream",
       "stream": "stdout",
       "text": [
        "42000 "
       ]
      },
      {
       "output_type": "stream",
       "stream": "stdout",
       "text": [
        "42500 "
       ]
      },
      {
       "output_type": "stream",
       "stream": "stdout",
       "text": [
        "43000 "
       ]
      },
      {
       "output_type": "stream",
       "stream": "stdout",
       "text": [
        "43500 "
       ]
      },
      {
       "output_type": "stream",
       "stream": "stdout",
       "text": [
        "44000 "
       ]
      },
      {
       "output_type": "stream",
       "stream": "stdout",
       "text": [
        "44500 "
       ]
      },
      {
       "output_type": "stream",
       "stream": "stdout",
       "text": [
        "45000 "
       ]
      },
      {
       "output_type": "stream",
       "stream": "stdout",
       "text": [
        "45500 "
       ]
      },
      {
       "output_type": "stream",
       "stream": "stdout",
       "text": [
        "46000 "
       ]
      },
      {
       "output_type": "stream",
       "stream": "stdout",
       "text": [
        "46500 "
       ]
      },
      {
       "output_type": "stream",
       "stream": "stdout",
       "text": [
        "47000 "
       ]
      },
      {
       "output_type": "stream",
       "stream": "stdout",
       "text": [
        "47500 "
       ]
      },
      {
       "output_type": "stream",
       "stream": "stdout",
       "text": [
        "48000 "
       ]
      },
      {
       "output_type": "stream",
       "stream": "stdout",
       "text": [
        "48500 "
       ]
      },
      {
       "output_type": "stream",
       "stream": "stdout",
       "text": [
        "49000 "
       ]
      },
      {
       "output_type": "stream",
       "stream": "stdout",
       "text": [
        "49500 "
       ]
      },
      {
       "output_type": "stream",
       "stream": "stdout",
       "text": [
        "50000 "
       ]
      },
      {
       "output_type": "stream",
       "stream": "stdout",
       "text": [
        "50500 "
       ]
      },
      {
       "output_type": "stream",
       "stream": "stdout",
       "text": [
        "51000 "
       ]
      },
      {
       "output_type": "stream",
       "stream": "stdout",
       "text": [
        "51500 "
       ]
      },
      {
       "output_type": "stream",
       "stream": "stdout",
       "text": [
        "52000 "
       ]
      },
      {
       "output_type": "stream",
       "stream": "stdout",
       "text": [
        "52500 "
       ]
      },
      {
       "output_type": "stream",
       "stream": "stdout",
       "text": [
        "53000\n"
       ]
      }
     ],
     "prompt_number": 69
    },
    {
     "cell_type": "code",
     "collapsed": false,
     "input": [
      "linearFeature[\"LFnext30\"] = pd.Series(result30)"
     ],
     "language": "python",
     "metadata": {},
     "outputs": [],
     "prompt_number": 70
    },
    {
     "cell_type": "code",
     "collapsed": false,
     "input": [
      "linearFeature.to_csv('data_transform/linearFeature.csv', index=None)"
     ],
     "language": "python",
     "metadata": {},
     "outputs": [],
     "prompt_number": 71
    },
    {
     "cell_type": "code",
     "collapsed": false,
     "input": [],
     "language": "python",
     "metadata": {},
     "outputs": [],
     "prompt_number": 11
    },
    {
     "cell_type": "code",
     "collapsed": false,
     "input": [],
     "language": "python",
     "metadata": {},
     "outputs": [],
     "prompt_number": 18
    },
    {
     "cell_type": "code",
     "collapsed": false,
     "input": [],
     "language": "python",
     "metadata": {},
     "outputs": []
    },
    {
     "cell_type": "code",
     "collapsed": false,
     "input": [],
     "language": "python",
     "metadata": {},
     "outputs": [],
     "prompt_number": 20
    },
    {
     "cell_type": "code",
     "collapsed": false,
     "input": [
      "linearFeature = pd.read_csv('data_transform/linearFeature.csv')"
     ],
     "language": "python",
     "metadata": {},
     "outputs": [],
     "prompt_number": 19
    },
    {
     "cell_type": "code",
     "collapsed": false,
     "input": [
      "predResult7 = GetResultNegative(-7)"
     ],
     "language": "python",
     "metadata": {},
     "outputs": [
      {
       "output_type": "stream",
       "stream": "stdout",
       "text": [
        "500 "
       ]
      },
      {
       "output_type": "stream",
       "stream": "stdout",
       "text": [
        "1000 "
       ]
      },
      {
       "output_type": "stream",
       "stream": "stdout",
       "text": [
        "1500 "
       ]
      },
      {
       "output_type": "stream",
       "stream": "stdout",
       "text": [
        "2000 "
       ]
      },
      {
       "output_type": "stream",
       "stream": "stdout",
       "text": [
        "2500 "
       ]
      },
      {
       "output_type": "stream",
       "stream": "stdout",
       "text": [
        "3000 "
       ]
      },
      {
       "output_type": "stream",
       "stream": "stdout",
       "text": [
        "3500 "
       ]
      },
      {
       "output_type": "stream",
       "stream": "stdout",
       "text": [
        "4000 "
       ]
      },
      {
       "output_type": "stream",
       "stream": "stdout",
       "text": [
        "4500 "
       ]
      },
      {
       "output_type": "stream",
       "stream": "stdout",
       "text": [
        "5000 "
       ]
      },
      {
       "output_type": "stream",
       "stream": "stdout",
       "text": [
        "5500 "
       ]
      },
      {
       "output_type": "stream",
       "stream": "stdout",
       "text": [
        "6000 "
       ]
      },
      {
       "output_type": "stream",
       "stream": "stdout",
       "text": [
        "6500 "
       ]
      },
      {
       "output_type": "stream",
       "stream": "stdout",
       "text": [
        "7000 "
       ]
      },
      {
       "output_type": "stream",
       "stream": "stdout",
       "text": [
        "7500 "
       ]
      },
      {
       "output_type": "stream",
       "stream": "stdout",
       "text": [
        "8000 "
       ]
      },
      {
       "output_type": "stream",
       "stream": "stdout",
       "text": [
        "8500 "
       ]
      },
      {
       "output_type": "stream",
       "stream": "stdout",
       "text": [
        "9000 "
       ]
      },
      {
       "output_type": "stream",
       "stream": "stdout",
       "text": [
        "9500 "
       ]
      },
      {
       "output_type": "stream",
       "stream": "stdout",
       "text": [
        "10000 "
       ]
      },
      {
       "output_type": "stream",
       "stream": "stdout",
       "text": [
        "10500 "
       ]
      },
      {
       "output_type": "stream",
       "stream": "stdout",
       "text": [
        "11000 "
       ]
      },
      {
       "output_type": "stream",
       "stream": "stdout",
       "text": [
        "11500 "
       ]
      },
      {
       "output_type": "stream",
       "stream": "stdout",
       "text": [
        "12000 "
       ]
      },
      {
       "output_type": "stream",
       "stream": "stdout",
       "text": [
        "12500 "
       ]
      },
      {
       "output_type": "stream",
       "stream": "stdout",
       "text": [
        "13000 "
       ]
      },
      {
       "output_type": "stream",
       "stream": "stdout",
       "text": [
        "13500 "
       ]
      },
      {
       "output_type": "stream",
       "stream": "stdout",
       "text": [
        "14000 "
       ]
      },
      {
       "output_type": "stream",
       "stream": "stdout",
       "text": [
        "14500 "
       ]
      },
      {
       "output_type": "stream",
       "stream": "stdout",
       "text": [
        "15000 "
       ]
      },
      {
       "output_type": "stream",
       "stream": "stdout",
       "text": [
        "15500 "
       ]
      },
      {
       "output_type": "stream",
       "stream": "stdout",
       "text": [
        "16000 "
       ]
      },
      {
       "output_type": "stream",
       "stream": "stdout",
       "text": [
        "16500 "
       ]
      },
      {
       "output_type": "stream",
       "stream": "stdout",
       "text": [
        "17000 "
       ]
      },
      {
       "output_type": "stream",
       "stream": "stdout",
       "text": [
        "17500 "
       ]
      },
      {
       "output_type": "stream",
       "stream": "stdout",
       "text": [
        "18000 "
       ]
      },
      {
       "output_type": "stream",
       "stream": "stdout",
       "text": [
        "18500 "
       ]
      },
      {
       "output_type": "stream",
       "stream": "stdout",
       "text": [
        "19000 "
       ]
      },
      {
       "output_type": "stream",
       "stream": "stdout",
       "text": [
        "19500 "
       ]
      },
      {
       "output_type": "stream",
       "stream": "stdout",
       "text": [
        "20000 "
       ]
      },
      {
       "output_type": "stream",
       "stream": "stdout",
       "text": [
        "20500 "
       ]
      },
      {
       "output_type": "stream",
       "stream": "stdout",
       "text": [
        "21000 "
       ]
      },
      {
       "output_type": "stream",
       "stream": "stdout",
       "text": [
        "21500 "
       ]
      },
      {
       "output_type": "stream",
       "stream": "stdout",
       "text": [
        "22000 "
       ]
      },
      {
       "output_type": "stream",
       "stream": "stdout",
       "text": [
        "22500 "
       ]
      },
      {
       "output_type": "stream",
       "stream": "stdout",
       "text": [
        "23000 "
       ]
      },
      {
       "output_type": "stream",
       "stream": "stdout",
       "text": [
        "23500 "
       ]
      },
      {
       "output_type": "stream",
       "stream": "stdout",
       "text": [
        "24000 "
       ]
      },
      {
       "output_type": "stream",
       "stream": "stdout",
       "text": [
        "24500 "
       ]
      },
      {
       "output_type": "stream",
       "stream": "stdout",
       "text": [
        "25000 "
       ]
      },
      {
       "output_type": "stream",
       "stream": "stdout",
       "text": [
        "25500 "
       ]
      },
      {
       "output_type": "stream",
       "stream": "stdout",
       "text": [
        "26000 "
       ]
      },
      {
       "output_type": "stream",
       "stream": "stdout",
       "text": [
        "26500 "
       ]
      },
      {
       "output_type": "stream",
       "stream": "stdout",
       "text": [
        "27000 "
       ]
      },
      {
       "output_type": "stream",
       "stream": "stdout",
       "text": [
        "27500 "
       ]
      },
      {
       "output_type": "stream",
       "stream": "stdout",
       "text": [
        "28000 "
       ]
      },
      {
       "output_type": "stream",
       "stream": "stdout",
       "text": [
        "28500 "
       ]
      },
      {
       "output_type": "stream",
       "stream": "stdout",
       "text": [
        "29000 "
       ]
      },
      {
       "output_type": "stream",
       "stream": "stdout",
       "text": [
        "29500 "
       ]
      },
      {
       "output_type": "stream",
       "stream": "stdout",
       "text": [
        "30000 "
       ]
      },
      {
       "output_type": "stream",
       "stream": "stdout",
       "text": [
        "30500 "
       ]
      },
      {
       "output_type": "stream",
       "stream": "stdout",
       "text": [
        "31000 "
       ]
      },
      {
       "output_type": "stream",
       "stream": "stdout",
       "text": [
        "31500 "
       ]
      },
      {
       "output_type": "stream",
       "stream": "stdout",
       "text": [
        "32000 "
       ]
      },
      {
       "output_type": "stream",
       "stream": "stdout",
       "text": [
        "32500 "
       ]
      },
      {
       "output_type": "stream",
       "stream": "stdout",
       "text": [
        "33000 "
       ]
      },
      {
       "output_type": "stream",
       "stream": "stdout",
       "text": [
        "33500 "
       ]
      },
      {
       "output_type": "stream",
       "stream": "stdout",
       "text": [
        "34000 "
       ]
      },
      {
       "output_type": "stream",
       "stream": "stdout",
       "text": [
        "34500 "
       ]
      },
      {
       "output_type": "stream",
       "stream": "stdout",
       "text": [
        "35000 "
       ]
      },
      {
       "output_type": "stream",
       "stream": "stdout",
       "text": [
        "35500 "
       ]
      },
      {
       "output_type": "stream",
       "stream": "stdout",
       "text": [
        "36000 "
       ]
      },
      {
       "output_type": "stream",
       "stream": "stdout",
       "text": [
        "36500 "
       ]
      },
      {
       "output_type": "stream",
       "stream": "stdout",
       "text": [
        "37000 "
       ]
      },
      {
       "output_type": "stream",
       "stream": "stdout",
       "text": [
        "37500 "
       ]
      },
      {
       "output_type": "stream",
       "stream": "stdout",
       "text": [
        "38000 "
       ]
      },
      {
       "output_type": "stream",
       "stream": "stdout",
       "text": [
        "38500 "
       ]
      },
      {
       "output_type": "stream",
       "stream": "stdout",
       "text": [
        "39000 "
       ]
      },
      {
       "output_type": "stream",
       "stream": "stdout",
       "text": [
        "39500 "
       ]
      },
      {
       "output_type": "stream",
       "stream": "stdout",
       "text": [
        "40000 "
       ]
      },
      {
       "output_type": "stream",
       "stream": "stdout",
       "text": [
        "40500 "
       ]
      },
      {
       "output_type": "stream",
       "stream": "stdout",
       "text": [
        "41000 "
       ]
      },
      {
       "output_type": "stream",
       "stream": "stdout",
       "text": [
        "41500 "
       ]
      },
      {
       "output_type": "stream",
       "stream": "stdout",
       "text": [
        "42000 "
       ]
      },
      {
       "output_type": "stream",
       "stream": "stdout",
       "text": [
        "42500 "
       ]
      },
      {
       "output_type": "stream",
       "stream": "stdout",
       "text": [
        "43000 "
       ]
      },
      {
       "output_type": "stream",
       "stream": "stdout",
       "text": [
        "43500 "
       ]
      },
      {
       "output_type": "stream",
       "stream": "stdout",
       "text": [
        "44000 "
       ]
      },
      {
       "output_type": "stream",
       "stream": "stdout",
       "text": [
        "44500 "
       ]
      },
      {
       "output_type": "stream",
       "stream": "stdout",
       "text": [
        "45000 "
       ]
      },
      {
       "output_type": "stream",
       "stream": "stdout",
       "text": [
        "45500 "
       ]
      },
      {
       "output_type": "stream",
       "stream": "stdout",
       "text": [
        "46000 "
       ]
      },
      {
       "output_type": "stream",
       "stream": "stdout",
       "text": [
        "46500 "
       ]
      },
      {
       "output_type": "stream",
       "stream": "stdout",
       "text": [
        "47000 "
       ]
      },
      {
       "output_type": "stream",
       "stream": "stdout",
       "text": [
        "47500 "
       ]
      },
      {
       "output_type": "stream",
       "stream": "stdout",
       "text": [
        "48000 "
       ]
      },
      {
       "output_type": "stream",
       "stream": "stdout",
       "text": [
        "48500 "
       ]
      },
      {
       "output_type": "stream",
       "stream": "stdout",
       "text": [
        "49000 "
       ]
      },
      {
       "output_type": "stream",
       "stream": "stdout",
       "text": [
        "49500 "
       ]
      },
      {
       "output_type": "stream",
       "stream": "stdout",
       "text": [
        "50000 "
       ]
      },
      {
       "output_type": "stream",
       "stream": "stdout",
       "text": [
        "50500 "
       ]
      },
      {
       "output_type": "stream",
       "stream": "stdout",
       "text": [
        "51000 "
       ]
      },
      {
       "output_type": "stream",
       "stream": "stdout",
       "text": [
        "51500 "
       ]
      },
      {
       "output_type": "stream",
       "stream": "stdout",
       "text": [
        "52000 "
       ]
      },
      {
       "output_type": "stream",
       "stream": "stdout",
       "text": [
        "52500 "
       ]
      },
      {
       "output_type": "stream",
       "stream": "stdout",
       "text": [
        "53000\n"
       ]
      }
     ],
     "prompt_number": 22
    },
    {
     "cell_type": "code",
     "collapsed": false,
     "input": [
      "linearFeature[\"LFprev7\"] = pd.Series(predResult7)"
     ],
     "language": "python",
     "metadata": {},
     "outputs": [],
     "prompt_number": 23
    },
    {
     "cell_type": "code",
     "collapsed": false,
     "input": [
      "linearFeature.to_csv('data_transform/linearFeature.csv', index=None)"
     ],
     "language": "python",
     "metadata": {},
     "outputs": [],
     "prompt_number": 24
    },
    {
     "cell_type": "code",
     "collapsed": false,
     "input": [],
     "language": "python",
     "metadata": {},
     "outputs": [],
     "prompt_number": 24
    },
    {
     "cell_type": "code",
     "collapsed": false,
     "input": [
      "predResult30 = GetResultNegative(-30)"
     ],
     "language": "python",
     "metadata": {},
     "outputs": [
      {
       "output_type": "stream",
       "stream": "stdout",
       "text": [
        "500 "
       ]
      },
      {
       "output_type": "stream",
       "stream": "stdout",
       "text": [
        "1000 "
       ]
      },
      {
       "output_type": "stream",
       "stream": "stdout",
       "text": [
        "1500 "
       ]
      },
      {
       "output_type": "stream",
       "stream": "stdout",
       "text": [
        "2000 "
       ]
      },
      {
       "output_type": "stream",
       "stream": "stdout",
       "text": [
        "2500 "
       ]
      },
      {
       "output_type": "stream",
       "stream": "stdout",
       "text": [
        "3000 "
       ]
      },
      {
       "output_type": "stream",
       "stream": "stdout",
       "text": [
        "3500 "
       ]
      },
      {
       "output_type": "stream",
       "stream": "stdout",
       "text": [
        "4000 "
       ]
      },
      {
       "output_type": "stream",
       "stream": "stdout",
       "text": [
        "4500 "
       ]
      },
      {
       "output_type": "stream",
       "stream": "stdout",
       "text": [
        "5000 "
       ]
      },
      {
       "output_type": "stream",
       "stream": "stdout",
       "text": [
        "5500 "
       ]
      },
      {
       "output_type": "stream",
       "stream": "stdout",
       "text": [
        "6000 "
       ]
      },
      {
       "output_type": "stream",
       "stream": "stdout",
       "text": [
        "6500 "
       ]
      },
      {
       "output_type": "stream",
       "stream": "stdout",
       "text": [
        "7000 "
       ]
      },
      {
       "output_type": "stream",
       "stream": "stdout",
       "text": [
        "7500 "
       ]
      },
      {
       "output_type": "stream",
       "stream": "stdout",
       "text": [
        "8000 "
       ]
      },
      {
       "output_type": "stream",
       "stream": "stdout",
       "text": [
        "8500 "
       ]
      },
      {
       "output_type": "stream",
       "stream": "stdout",
       "text": [
        "9000 "
       ]
      },
      {
       "output_type": "stream",
       "stream": "stdout",
       "text": [
        "9500 "
       ]
      },
      {
       "output_type": "stream",
       "stream": "stdout",
       "text": [
        "10000 "
       ]
      },
      {
       "output_type": "stream",
       "stream": "stdout",
       "text": [
        "10500 "
       ]
      },
      {
       "output_type": "stream",
       "stream": "stdout",
       "text": [
        "11000 "
       ]
      },
      {
       "output_type": "stream",
       "stream": "stdout",
       "text": [
        "11500 "
       ]
      },
      {
       "output_type": "stream",
       "stream": "stdout",
       "text": [
        "12000 "
       ]
      },
      {
       "output_type": "stream",
       "stream": "stdout",
       "text": [
        "12500 "
       ]
      },
      {
       "output_type": "stream",
       "stream": "stdout",
       "text": [
        "13000 "
       ]
      },
      {
       "output_type": "stream",
       "stream": "stdout",
       "text": [
        "13500 "
       ]
      },
      {
       "output_type": "stream",
       "stream": "stdout",
       "text": [
        "14000 "
       ]
      },
      {
       "output_type": "stream",
       "stream": "stdout",
       "text": [
        "14500 "
       ]
      },
      {
       "output_type": "stream",
       "stream": "stdout",
       "text": [
        "15000 "
       ]
      },
      {
       "output_type": "stream",
       "stream": "stdout",
       "text": [
        "15500 "
       ]
      },
      {
       "output_type": "stream",
       "stream": "stdout",
       "text": [
        "16000 "
       ]
      },
      {
       "output_type": "stream",
       "stream": "stdout",
       "text": [
        "16500 "
       ]
      },
      {
       "output_type": "stream",
       "stream": "stdout",
       "text": [
        "17000 "
       ]
      },
      {
       "output_type": "stream",
       "stream": "stdout",
       "text": [
        "17500 "
       ]
      },
      {
       "output_type": "stream",
       "stream": "stdout",
       "text": [
        "18000 "
       ]
      },
      {
       "output_type": "stream",
       "stream": "stdout",
       "text": [
        "18500 "
       ]
      },
      {
       "output_type": "stream",
       "stream": "stdout",
       "text": [
        "19000 "
       ]
      },
      {
       "output_type": "stream",
       "stream": "stdout",
       "text": [
        "19500 "
       ]
      },
      {
       "output_type": "stream",
       "stream": "stdout",
       "text": [
        "20000 "
       ]
      },
      {
       "output_type": "stream",
       "stream": "stdout",
       "text": [
        "20500 "
       ]
      },
      {
       "output_type": "stream",
       "stream": "stdout",
       "text": [
        "21000 "
       ]
      },
      {
       "output_type": "stream",
       "stream": "stdout",
       "text": [
        "21500 "
       ]
      },
      {
       "output_type": "stream",
       "stream": "stdout",
       "text": [
        "22000 "
       ]
      },
      {
       "output_type": "stream",
       "stream": "stdout",
       "text": [
        "22500 "
       ]
      },
      {
       "output_type": "stream",
       "stream": "stdout",
       "text": [
        "23000 "
       ]
      },
      {
       "output_type": "stream",
       "stream": "stdout",
       "text": [
        "23500 "
       ]
      },
      {
       "output_type": "stream",
       "stream": "stdout",
       "text": [
        "24000 "
       ]
      },
      {
       "output_type": "stream",
       "stream": "stdout",
       "text": [
        "24500 "
       ]
      },
      {
       "output_type": "stream",
       "stream": "stdout",
       "text": [
        "25000 "
       ]
      },
      {
       "output_type": "stream",
       "stream": "stdout",
       "text": [
        "25500 "
       ]
      },
      {
       "output_type": "stream",
       "stream": "stdout",
       "text": [
        "26000 "
       ]
      },
      {
       "output_type": "stream",
       "stream": "stdout",
       "text": [
        "26500 "
       ]
      },
      {
       "output_type": "stream",
       "stream": "stdout",
       "text": [
        "27000 "
       ]
      },
      {
       "output_type": "stream",
       "stream": "stdout",
       "text": [
        "27500 "
       ]
      },
      {
       "output_type": "stream",
       "stream": "stdout",
       "text": [
        "28000 "
       ]
      },
      {
       "output_type": "stream",
       "stream": "stdout",
       "text": [
        "28500 "
       ]
      },
      {
       "output_type": "stream",
       "stream": "stdout",
       "text": [
        "29000 "
       ]
      },
      {
       "output_type": "stream",
       "stream": "stdout",
       "text": [
        "29500 "
       ]
      },
      {
       "output_type": "stream",
       "stream": "stdout",
       "text": [
        "30000 "
       ]
      },
      {
       "output_type": "stream",
       "stream": "stdout",
       "text": [
        "30500 "
       ]
      },
      {
       "output_type": "stream",
       "stream": "stdout",
       "text": [
        "31000 "
       ]
      },
      {
       "output_type": "stream",
       "stream": "stdout",
       "text": [
        "31500 "
       ]
      },
      {
       "output_type": "stream",
       "stream": "stdout",
       "text": [
        "32000 "
       ]
      },
      {
       "output_type": "stream",
       "stream": "stdout",
       "text": [
        "32500 "
       ]
      },
      {
       "output_type": "stream",
       "stream": "stdout",
       "text": [
        "33000 "
       ]
      },
      {
       "output_type": "stream",
       "stream": "stdout",
       "text": [
        "33500 "
       ]
      },
      {
       "output_type": "stream",
       "stream": "stdout",
       "text": [
        "34000 "
       ]
      },
      {
       "output_type": "stream",
       "stream": "stdout",
       "text": [
        "34500 "
       ]
      },
      {
       "output_type": "stream",
       "stream": "stdout",
       "text": [
        "35000 "
       ]
      },
      {
       "output_type": "stream",
       "stream": "stdout",
       "text": [
        "35500 "
       ]
      },
      {
       "output_type": "stream",
       "stream": "stdout",
       "text": [
        "36000 "
       ]
      },
      {
       "output_type": "stream",
       "stream": "stdout",
       "text": [
        "36500 "
       ]
      },
      {
       "output_type": "stream",
       "stream": "stdout",
       "text": [
        "37000 "
       ]
      },
      {
       "output_type": "stream",
       "stream": "stdout",
       "text": [
        "37500 "
       ]
      },
      {
       "output_type": "stream",
       "stream": "stdout",
       "text": [
        "38000 "
       ]
      },
      {
       "output_type": "stream",
       "stream": "stdout",
       "text": [
        "38500 "
       ]
      },
      {
       "output_type": "stream",
       "stream": "stdout",
       "text": [
        "39000 "
       ]
      },
      {
       "output_type": "stream",
       "stream": "stdout",
       "text": [
        "39500 "
       ]
      },
      {
       "output_type": "stream",
       "stream": "stdout",
       "text": [
        "40000 "
       ]
      },
      {
       "output_type": "stream",
       "stream": "stdout",
       "text": [
        "40500 "
       ]
      },
      {
       "output_type": "stream",
       "stream": "stdout",
       "text": [
        "41000 "
       ]
      },
      {
       "output_type": "stream",
       "stream": "stdout",
       "text": [
        "41500 "
       ]
      },
      {
       "output_type": "stream",
       "stream": "stdout",
       "text": [
        "42000 "
       ]
      },
      {
       "output_type": "stream",
       "stream": "stdout",
       "text": [
        "42500 "
       ]
      },
      {
       "output_type": "stream",
       "stream": "stdout",
       "text": [
        "43000 "
       ]
      },
      {
       "output_type": "stream",
       "stream": "stdout",
       "text": [
        "43500 "
       ]
      },
      {
       "output_type": "stream",
       "stream": "stdout",
       "text": [
        "44000 "
       ]
      },
      {
       "output_type": "stream",
       "stream": "stdout",
       "text": [
        "44500 "
       ]
      },
      {
       "output_type": "stream",
       "stream": "stdout",
       "text": [
        "45000 "
       ]
      },
      {
       "output_type": "stream",
       "stream": "stdout",
       "text": [
        "45500 "
       ]
      },
      {
       "output_type": "stream",
       "stream": "stdout",
       "text": [
        "46000 "
       ]
      },
      {
       "output_type": "stream",
       "stream": "stdout",
       "text": [
        "46500 "
       ]
      },
      {
       "output_type": "stream",
       "stream": "stdout",
       "text": [
        "47000 "
       ]
      },
      {
       "output_type": "stream",
       "stream": "stdout",
       "text": [
        "47500 "
       ]
      },
      {
       "output_type": "stream",
       "stream": "stdout",
       "text": [
        "48000 "
       ]
      },
      {
       "output_type": "stream",
       "stream": "stdout",
       "text": [
        "48500 "
       ]
      },
      {
       "output_type": "stream",
       "stream": "stdout",
       "text": [
        "49000 "
       ]
      },
      {
       "output_type": "stream",
       "stream": "stdout",
       "text": [
        "49500 "
       ]
      },
      {
       "output_type": "stream",
       "stream": "stdout",
       "text": [
        "50000 "
       ]
      },
      {
       "output_type": "stream",
       "stream": "stdout",
       "text": [
        "50500 "
       ]
      },
      {
       "output_type": "stream",
       "stream": "stdout",
       "text": [
        "51000 "
       ]
      },
      {
       "output_type": "stream",
       "stream": "stdout",
       "text": [
        "51500 "
       ]
      },
      {
       "output_type": "stream",
       "stream": "stdout",
       "text": [
        "52000 "
       ]
      },
      {
       "output_type": "stream",
       "stream": "stdout",
       "text": [
        "52500 "
       ]
      },
      {
       "output_type": "stream",
       "stream": "stdout",
       "text": [
        "53000\n"
       ]
      }
     ],
     "prompt_number": 25
    },
    {
     "cell_type": "code",
     "collapsed": false,
     "input": [
      "linearFeature[\"LFprev30\"] = pd.Series(predResult30)"
     ],
     "language": "python",
     "metadata": {},
     "outputs": [],
     "prompt_number": 26
    },
    {
     "cell_type": "code",
     "collapsed": false,
     "input": [
      "linearFeature.to_csv('data_transform/linearFeature.csv', index=None)"
     ],
     "language": "python",
     "metadata": {},
     "outputs": [],
     "prompt_number": 27
    },
    {
     "cell_type": "code",
     "collapsed": false,
     "input": [],
     "language": "python",
     "metadata": {},
     "outputs": []
    },
    {
     "cell_type": "code",
     "collapsed": false,
     "input": [],
     "language": "python",
     "metadata": {},
     "outputs": []
    },
    {
     "cell_type": "code",
     "collapsed": false,
     "input": [
      "def predict(lm, c, d):\n",
      "    X = data[(data.Point == c) & (data.Date == d)]\n",
      "    lr = LinearRegression()\n",
      "    pred = lr.predict(X)\n",
      "    return pred"
     ],
     "language": "python",
     "metadata": {},
     "outputs": [],
     "prompt_number": 224
    },
    {
     "cell_type": "code",
     "collapsed": false,
     "input": [
      "lr.fit(X, y)"
     ],
     "language": "python",
     "metadata": {},
     "outputs": [
      {
       "metadata": {},
       "output_type": "pyout",
       "prompt_number": 249,
       "text": [
        "LinearRegression(copy_X=True, fit_intercept=True, n_jobs=1, normalize=False)"
       ]
      }
     ],
     "prompt_number": 249
    },
    {
     "cell_type": "code",
     "collapsed": false,
     "input": [
      "X_test.shape"
     ],
     "language": "python",
     "metadata": {},
     "outputs": [
      {
       "metadata": {},
       "output_type": "pyout",
       "prompt_number": 262,
       "text": [
        "(30, 15)"
       ]
      }
     ],
     "prompt_number": 262
    },
    {
     "cell_type": "code",
     "collapsed": false,
     "input": [
      "X.shape"
     ],
     "language": "python",
     "metadata": {},
     "outputs": [
      {
       "metadata": {},
       "output_type": "pyout",
       "prompt_number": 265,
       "text": [
        "(21, 15)"
       ]
      }
     ],
     "prompt_number": 265
    },
    {
     "cell_type": "code",
     "collapsed": false,
     "input": [],
     "language": "python",
     "metadata": {},
     "outputs": [],
     "prompt_number": 268
    },
    {
     "cell_type": "code",
     "collapsed": false,
     "input": [],
     "language": "python",
     "metadata": {},
     "outputs": [],
     "prompt_number": 268
    },
    {
     "cell_type": "code",
     "collapsed": false,
     "input": [
      "lr.predict(X_test)"
     ],
     "language": "python",
     "metadata": {},
     "outputs": [
      {
       "metadata": {},
       "output_type": "pyout",
       "prompt_number": 267,
       "text": [
        "array([  76.    ,   40.5   ,   19.25  ,   62.3125,   73.    ,   83.125 ,\n",
        "        115.125 ,  101.625 ,   52.0625,  111.375 ,  127.625 ,  112.75  ,\n",
        "        118.3125,  162.5   ,  152.    ,  112.9375,  192.9375,  178.4375,\n",
        "        149.75  ,  166.75  ,  222.3125,  189.9375,  105.4375,  138.1875,\n",
        "        131.0625,  134.375 ,  127.3125,  174.0625,  159.6875,  127.3125])"
       ]
      }
     ],
     "prompt_number": 267
    },
    {
     "cell_type": "code",
     "collapsed": false,
     "input": [
      "lr.predict(X)"
     ],
     "language": "python",
     "metadata": {},
     "outputs": [
      {
       "metadata": {},
       "output_type": "pyout",
       "prompt_number": 253,
       "text": [
        "array([  40.5   ,   19.25  ,   62.3125,   83.125 ,  115.125 ,  101.625 ,\n",
        "         52.0625,  112.75  ,  118.3125,  152.    ,  112.9375,  149.75  ,\n",
        "        166.75  ,  222.3125,  105.4375,  138.1875,  131.0625,  134.375 ,\n",
        "        127.3125,  159.6875,  127.3125])"
       ]
      }
     ],
     "prompt_number": 253
    },
    {
     "cell_type": "code",
     "collapsed": false,
     "input": [],
     "language": "python",
     "metadata": {},
     "outputs": [
      {
       "metadata": {},
       "output_type": "pyout",
       "prompt_number": 251,
       "text": [
        "6      10.0\n",
        "7       1.0\n",
        "8      60.0\n",
        "10     96.0\n",
        "11    134.0\n",
        "12    112.0\n",
        "13    100.0\n",
        "16     94.0\n",
        "17     94.0\n",
        "19    164.0\n",
        "20    122.0\n",
        "23    128.0\n",
        "24    172.0\n",
        "25    223.0\n",
        "27    100.0\n",
        "28    169.0\n",
        "29    142.0\n",
        "30    130.0\n",
        "31    119.0\n",
        "33    128.0\n",
        "34    136.0\n",
        "Name: Count, dtype: float64"
       ]
      }
     ],
     "prompt_number": 251
    },
    {
     "cell_type": "code",
     "collapsed": false,
     "input": [
      "dataTrain.columns"
     ],
     "language": "python",
     "metadata": {},
     "outputs": [
      {
       "metadata": {},
       "output_type": "pyout",
       "prompt_number": 154,
       "text": [
        "Index([u'Count', u'Date', u'MeanForMonth', u'MeanForMonthByPoints',\n",
        "       u'MeanForMonthDay', u'MeanForThroughMonth', u'MeanForWeekDay',\n",
        "       u'MeanForWeekDayByPoints', u'MeanForYear', u'Month', u'MonthDay',\n",
        "       u'Next1Day', u'Next7Day', u'NextExisting14Value', u'NextExisting1Value',\n",
        "       u'NextExisting21Value', u'NextExisting2Value', u'NextExisting30Value',\n",
        "       u'NextExisting3Value', u'NextExisting7Value', u'Prev1Day', u'Prev7Day',\n",
        "       u'PrevExisting14Value', u'PrevExisting1Value', u'PrevExisting21Value',\n",
        "       u'PrevExisting2Value', u'PrevExisting30Value', u'PrevExisting3Value',\n",
        "       u'PrevExisting7Value', u'ThroughDay', u'ThroughMonth', u'ThroughWeek',\n",
        "       u'WeekDay', u'Year', u'YearDay'],\n",
        "      dtype='object')"
       ]
      }
     ],
     "prompt_number": 154
    },
    {
     "cell_type": "code",
     "collapsed": false,
     "input": [
      "dataTrain"
     ],
     "language": "python",
     "metadata": {},
     "outputs": [
      {
       "html": [
        "<div style=\"max-width:1500px;overflow:auto;\">\n",
        "<table border=\"1\" class=\"dataframe\">\n",
        "  <thead>\n",
        "    <tr style=\"text-align: right;\">\n",
        "      <th></th>\n",
        "      <th>Count</th>\n",
        "      <th>Date</th>\n",
        "      <th>MeanForMonth</th>\n",
        "      <th>MeanForMonthByPoints</th>\n",
        "      <th>MeanForMonthDay</th>\n",
        "      <th>MeanForThroughMonth</th>\n",
        "      <th>MeanForWeekDay</th>\n",
        "      <th>MeanForWeekDayByPoints</th>\n",
        "      <th>MeanForYear</th>\n",
        "      <th>Month</th>\n",
        "      <th>...</th>\n",
        "      <th>PrevExisting2Value</th>\n",
        "      <th>PrevExisting30Value</th>\n",
        "      <th>PrevExisting3Value</th>\n",
        "      <th>PrevExisting7Value</th>\n",
        "      <th>ThroughDay</th>\n",
        "      <th>ThroughMonth</th>\n",
        "      <th>ThroughWeek</th>\n",
        "      <th>WeekDay</th>\n",
        "      <th>Year</th>\n",
        "      <th>YearDay</th>\n",
        "    </tr>\n",
        "  </thead>\n",
        "  <tbody>\n",
        "    <tr>\n",
        "      <th>16</th>\n",
        "      <td>94.0</td>\n",
        "      <td>2011-12-21</td>\n",
        "      <td>107.095238</td>\n",
        "      <td>241.058824</td>\n",
        "      <td>102.826180</td>\n",
        "      <td>100.8</td>\n",
        "      <td>86.762865</td>\n",
        "      <td>198.636364</td>\n",
        "      <td>89.058824</td>\n",
        "      <td>12</td>\n",
        "      <td>...</td>\n",
        "      <td>NaN</td>\n",
        "      <td>64.375000</td>\n",
        "      <td>100.0</td>\n",
        "      <td>110.5</td>\n",
        "      <td>76</td>\n",
        "      <td>2</td>\n",
        "      <td>11</td>\n",
        "      <td>2</td>\n",
        "      <td>2011</td>\n",
        "      <td>354</td>\n",
        "    </tr>\n",
        "    <tr>\n",
        "      <th>17</th>\n",
        "      <td>94.0</td>\n",
        "      <td>2011-12-22</td>\n",
        "      <td>107.095238</td>\n",
        "      <td>241.058824</td>\n",
        "      <td>104.350746</td>\n",
        "      <td>100.8</td>\n",
        "      <td>91.697674</td>\n",
        "      <td>212.065217</td>\n",
        "      <td>89.058824</td>\n",
        "      <td>12</td>\n",
        "      <td>...</td>\n",
        "      <td>94.0</td>\n",
        "      <td>67.666667</td>\n",
        "      <td>94.0</td>\n",
        "      <td>107.2</td>\n",
        "      <td>77</td>\n",
        "      <td>2</td>\n",
        "      <td>11</td>\n",
        "      <td>3</td>\n",
        "      <td>2011</td>\n",
        "      <td>355</td>\n",
        "    </tr>\n",
        "    <tr>\n",
        "      <th>19</th>\n",
        "      <td>164.0</td>\n",
        "      <td>2011-12-24</td>\n",
        "      <td>107.095238</td>\n",
        "      <td>241.058824</td>\n",
        "      <td>109.192099</td>\n",
        "      <td>100.8</td>\n",
        "      <td>141.469388</td>\n",
        "      <td>308.553672</td>\n",
        "      <td>89.058824</td>\n",
        "      <td>12</td>\n",
        "      <td>...</td>\n",
        "      <td>94.0</td>\n",
        "      <td>70.300000</td>\n",
        "      <td>94.0</td>\n",
        "      <td>100.0</td>\n",
        "      <td>79</td>\n",
        "      <td>2</td>\n",
        "      <td>11</td>\n",
        "      <td>5</td>\n",
        "      <td>2011</td>\n",
        "      <td>357</td>\n",
        "    </tr>\n",
        "    <tr>\n",
        "      <th>20</th>\n",
        "      <td>122.0</td>\n",
        "      <td>2011-12-25</td>\n",
        "      <td>107.095238</td>\n",
        "      <td>241.058824</td>\n",
        "      <td>105.081166</td>\n",
        "      <td>100.8</td>\n",
        "      <td>123.277839</td>\n",
        "      <td>261.082873</td>\n",
        "      <td>89.058824</td>\n",
        "      <td>12</td>\n",
        "      <td>...</td>\n",
        "      <td>164.0</td>\n",
        "      <td>78.818182</td>\n",
        "      <td>129.0</td>\n",
        "      <td>113.0</td>\n",
        "      <td>80</td>\n",
        "      <td>2</td>\n",
        "      <td>11</td>\n",
        "      <td>6</td>\n",
        "      <td>2011</td>\n",
        "      <td>358</td>\n",
        "    </tr>\n",
        "  </tbody>\n",
        "</table>\n",
        "<p>4 rows \u00d7 35 columns</p>\n",
        "</div>"
       ],
       "metadata": {},
       "output_type": "pyout",
       "prompt_number": 153,
       "text": [
        "    Count       Date  MeanForMonth  MeanForMonthByPoints  MeanForMonthDay  \\\n",
        "16   94.0 2011-12-21    107.095238            241.058824       102.826180   \n",
        "17   94.0 2011-12-22    107.095238            241.058824       104.350746   \n",
        "19  164.0 2011-12-24    107.095238            241.058824       109.192099   \n",
        "20  122.0 2011-12-25    107.095238            241.058824       105.081166   \n",
        "\n",
        "    MeanForThroughMonth  MeanForWeekDay  MeanForWeekDayByPoints  MeanForYear  \\\n",
        "16                100.8       86.762865              198.636364    89.058824   \n",
        "17                100.8       91.697674              212.065217    89.058824   \n",
        "19                100.8      141.469388              308.553672    89.058824   \n",
        "20                100.8      123.277839              261.082873    89.058824   \n",
        "\n",
        "    Month   ...     PrevExisting2Value  PrevExisting30Value  \\\n",
        "16     12   ...                    NaN            64.375000   \n",
        "17     12   ...                   94.0            67.666667   \n",
        "19     12   ...                   94.0            70.300000   \n",
        "20     12   ...                  164.0            78.818182   \n",
        "\n",
        "    PrevExisting3Value  PrevExisting7Value  ThroughDay  ThroughMonth  \\\n",
        "16               100.0               110.5          76             2   \n",
        "17                94.0               107.2          77             2   \n",
        "19                94.0               100.0          79             2   \n",
        "20               129.0               113.0          80             2   \n",
        "\n",
        "    ThroughWeek  WeekDay  Year  YearDay  \n",
        "16           11        2  2011      354  \n",
        "17           11        3  2011      355  \n",
        "19           11        5  2011      357  \n",
        "20           11        6  2011      358  \n",
        "\n",
        "[4 rows x 35 columns]"
       ]
      }
     ],
     "prompt_number": 153
    },
    {
     "cell_type": "code",
     "collapsed": false,
     "input": [
      "data"
     ],
     "language": "python",
     "metadata": {},
     "outputs": [
      {
       "html": [
        "<div style=\"max-width:1500px;overflow:auto;\">\n",
        "<table border=\"1\" class=\"dataframe\">\n",
        "  <thead>\n",
        "    <tr style=\"text-align: right;\">\n",
        "      <th></th>\n",
        "      <th>Count</th>\n",
        "      <th>Date</th>\n",
        "      <th>IsTest</th>\n",
        "      <th>IsTrain</th>\n",
        "      <th>IsValidation</th>\n",
        "      <th>MeanForMonth</th>\n",
        "      <th>MeanForMonthByPoints</th>\n",
        "      <th>MeanForMonthDay</th>\n",
        "      <th>MeanForThroughMonth</th>\n",
        "      <th>MeanForWeekDay</th>\n",
        "      <th>...</th>\n",
        "      <th>PrevExisting2Value</th>\n",
        "      <th>PrevExisting30Value</th>\n",
        "      <th>PrevExisting3Value</th>\n",
        "      <th>PrevExisting7Value</th>\n",
        "      <th>ThroughDay</th>\n",
        "      <th>ThroughMonth</th>\n",
        "      <th>ThroughWeek</th>\n",
        "      <th>WeekDay</th>\n",
        "      <th>Year</th>\n",
        "      <th>YearDay</th>\n",
        "    </tr>\n",
        "  </thead>\n",
        "  <tbody>\n",
        "    <tr>\n",
        "      <th>0</th>\n",
        "      <td>8.0</td>\n",
        "      <td>2011-10-06</td>\n",
        "      <td>0</td>\n",
        "      <td>0</td>\n",
        "      <td>1</td>\n",
        "      <td>110.429076</td>\n",
        "      <td>270.052083</td>\n",
        "      <td>106.547251</td>\n",
        "      <td>1.000000</td>\n",
        "      <td>91.697674</td>\n",
        "      <td>...</td>\n",
        "      <td>NaN</td>\n",
        "      <td>NaN</td>\n",
        "      <td>NaN</td>\n",
        "      <td>NaN</td>\n",
        "      <td>0</td>\n",
        "      <td>0</td>\n",
        "      <td>0</td>\n",
        "      <td>3</td>\n",
        "      <td>2011</td>\n",
        "      <td>278</td>\n",
        "    </tr>\n",
        "    <tr>\n",
        "      <th>1</th>\n",
        "      <td>88.0</td>\n",
        "      <td>2011-10-07</td>\n",
        "      <td>0</td>\n",
        "      <td>0</td>\n",
        "      <td>1</td>\n",
        "      <td>110.429076</td>\n",
        "      <td>270.052083</td>\n",
        "      <td>107.727941</td>\n",
        "      <td>1.000000</td>\n",
        "      <td>124.623141</td>\n",
        "      <td>...</td>\n",
        "      <td>NaN</td>\n",
        "      <td>NaN</td>\n",
        "      <td>NaN</td>\n",
        "      <td>NaN</td>\n",
        "      <td>1</td>\n",
        "      <td>0</td>\n",
        "      <td>0</td>\n",
        "      <td>4</td>\n",
        "      <td>2011</td>\n",
        "      <td>279</td>\n",
        "    </tr>\n",
        "    <tr>\n",
        "      <th>2</th>\n",
        "      <td>1.0</td>\n",
        "      <td>2011-10-09</td>\n",
        "      <td>0</td>\n",
        "      <td>1</td>\n",
        "      <td>0</td>\n",
        "      <td>110.429076</td>\n",
        "      <td>270.052083</td>\n",
        "      <td>108.823191</td>\n",
        "      <td>1.000000</td>\n",
        "      <td>123.277839</td>\n",
        "      <td>...</td>\n",
        "      <td>NaN</td>\n",
        "      <td>NaN</td>\n",
        "      <td>NaN</td>\n",
        "      <td>NaN</td>\n",
        "      <td>3</td>\n",
        "      <td>0</td>\n",
        "      <td>0</td>\n",
        "      <td>6</td>\n",
        "      <td>2011</td>\n",
        "      <td>281</td>\n",
        "    </tr>\n",
        "    <tr>\n",
        "      <th>3</th>\n",
        "      <td>1.0</td>\n",
        "      <td>2011-11-15</td>\n",
        "      <td>0</td>\n",
        "      <td>1</td>\n",
        "      <td>0</td>\n",
        "      <td>100.500505</td>\n",
        "      <td>248.769231</td>\n",
        "      <td>109.760841</td>\n",
        "      <td>1.000000</td>\n",
        "      <td>87.187102</td>\n",
        "      <td>...</td>\n",
        "      <td>NaN</td>\n",
        "      <td>NaN</td>\n",
        "      <td>NaN</td>\n",
        "      <td>NaN</td>\n",
        "      <td>40</td>\n",
        "      <td>1</td>\n",
        "      <td>6</td>\n",
        "      <td>1</td>\n",
        "      <td>2011</td>\n",
        "      <td>318</td>\n",
        "    </tr>\n",
        "    <tr>\n",
        "      <th>4</th>\n",
        "      <td>2.0</td>\n",
        "      <td>2011-12-08</td>\n",
        "      <td>0</td>\n",
        "      <td>1</td>\n",
        "      <td>0</td>\n",
        "      <td>107.095238</td>\n",
        "      <td>241.058824</td>\n",
        "      <td>106.963262</td>\n",
        "      <td>100.800000</td>\n",
        "      <td>91.697674</td>\n",
        "      <td>...</td>\n",
        "      <td>NaN</td>\n",
        "      <td>1.000000</td>\n",
        "      <td>NaN</td>\n",
        "      <td>NaN</td>\n",
        "      <td>63</td>\n",
        "      <td>2</td>\n",
        "      <td>9</td>\n",
        "      <td>3</td>\n",
        "      <td>2011</td>\n",
        "      <td>341</td>\n",
        "    </tr>\n",
        "    <tr>\n",
        "      <th>5</th>\n",
        "      <td>43.0</td>\n",
        "      <td>2011-12-09</td>\n",
        "      <td>0</td>\n",
        "      <td>0</td>\n",
        "      <td>1</td>\n",
        "      <td>107.095238</td>\n",
        "      <td>241.058824</td>\n",
        "      <td>108.823191</td>\n",
        "      <td>100.800000</td>\n",
        "      <td>124.623141</td>\n",
        "      <td>...</td>\n",
        "      <td>2.0</td>\n",
        "      <td>1.500000</td>\n",
        "      <td>2.000000</td>\n",
        "      <td>2.000000</td>\n",
        "      <td>64</td>\n",
        "      <td>2</td>\n",
        "      <td>9</td>\n",
        "      <td>4</td>\n",
        "      <td>2011</td>\n",
        "      <td>342</td>\n",
        "    </tr>\n",
        "    <tr>\n",
        "      <th>6</th>\n",
        "      <td>10.0</td>\n",
        "      <td>2011-12-10</td>\n",
        "      <td>0</td>\n",
        "      <td>1</td>\n",
        "      <td>0</td>\n",
        "      <td>107.095238</td>\n",
        "      <td>241.058824</td>\n",
        "      <td>99.359541</td>\n",
        "      <td>100.800000</td>\n",
        "      <td>141.469388</td>\n",
        "      <td>...</td>\n",
        "      <td>2.0</td>\n",
        "      <td>1.500000</td>\n",
        "      <td>2.000000</td>\n",
        "      <td>2.000000</td>\n",
        "      <td>65</td>\n",
        "      <td>2</td>\n",
        "      <td>9</td>\n",
        "      <td>5</td>\n",
        "      <td>2011</td>\n",
        "      <td>343</td>\n",
        "    </tr>\n",
        "    <tr>\n",
        "      <th>7</th>\n",
        "      <td>1.0</td>\n",
        "      <td>2011-12-11</td>\n",
        "      <td>0</td>\n",
        "      <td>1</td>\n",
        "      <td>0</td>\n",
        "      <td>107.095238</td>\n",
        "      <td>241.058824</td>\n",
        "      <td>104.211745</td>\n",
        "      <td>100.800000</td>\n",
        "      <td>123.277839</td>\n",
        "      <td>...</td>\n",
        "      <td>10.0</td>\n",
        "      <td>4.333333</td>\n",
        "      <td>6.000000</td>\n",
        "      <td>6.000000</td>\n",
        "      <td>66</td>\n",
        "      <td>2</td>\n",
        "      <td>9</td>\n",
        "      <td>6</td>\n",
        "      <td>2011</td>\n",
        "      <td>344</td>\n",
        "    </tr>\n",
        "    <tr>\n",
        "      <th>8</th>\n",
        "      <td>60.0</td>\n",
        "      <td>2011-12-13</td>\n",
        "      <td>0</td>\n",
        "      <td>1</td>\n",
        "      <td>0</td>\n",
        "      <td>107.095238</td>\n",
        "      <td>241.058824</td>\n",
        "      <td>98.933229</td>\n",
        "      <td>100.800000</td>\n",
        "      <td>87.187102</td>\n",
        "      <td>...</td>\n",
        "      <td>1.0</td>\n",
        "      <td>3.500000</td>\n",
        "      <td>5.500000</td>\n",
        "      <td>4.333333</td>\n",
        "      <td>68</td>\n",
        "      <td>2</td>\n",
        "      <td>10</td>\n",
        "      <td>1</td>\n",
        "      <td>2011</td>\n",
        "      <td>346</td>\n",
        "    </tr>\n",
        "    <tr>\n",
        "      <th>9</th>\n",
        "      <td>NaN</td>\n",
        "      <td>2011-12-14</td>\n",
        "      <td>1</td>\n",
        "      <td>0</td>\n",
        "      <td>0</td>\n",
        "      <td>107.095238</td>\n",
        "      <td>241.058824</td>\n",
        "      <td>105.942606</td>\n",
        "      <td>100.800000</td>\n",
        "      <td>86.762865</td>\n",
        "      <td>...</td>\n",
        "      <td>60.0</td>\n",
        "      <td>14.800000</td>\n",
        "      <td>30.500000</td>\n",
        "      <td>18.250000</td>\n",
        "      <td>69</td>\n",
        "      <td>2</td>\n",
        "      <td>10</td>\n",
        "      <td>2</td>\n",
        "      <td>2011</td>\n",
        "      <td>347</td>\n",
        "    </tr>\n",
        "    <tr>\n",
        "      <th>10</th>\n",
        "      <td>96.0</td>\n",
        "      <td>2011-12-15</td>\n",
        "      <td>0</td>\n",
        "      <td>1</td>\n",
        "      <td>0</td>\n",
        "      <td>107.095238</td>\n",
        "      <td>241.058824</td>\n",
        "      <td>109.760841</td>\n",
        "      <td>100.800000</td>\n",
        "      <td>91.697674</td>\n",
        "      <td>...</td>\n",
        "      <td>60.0</td>\n",
        "      <td>14.800000</td>\n",
        "      <td>60.000000</td>\n",
        "      <td>18.250000</td>\n",
        "      <td>70</td>\n",
        "      <td>2</td>\n",
        "      <td>10</td>\n",
        "      <td>3</td>\n",
        "      <td>2011</td>\n",
        "      <td>348</td>\n",
        "    </tr>\n",
        "    <tr>\n",
        "      <th>11</th>\n",
        "      <td>134.0</td>\n",
        "      <td>2011-12-16</td>\n",
        "      <td>0</td>\n",
        "      <td>1</td>\n",
        "      <td>0</td>\n",
        "      <td>107.095238</td>\n",
        "      <td>241.058824</td>\n",
        "      <td>105.413058</td>\n",
        "      <td>100.800000</td>\n",
        "      <td>124.623141</td>\n",
        "      <td>...</td>\n",
        "      <td>96.0</td>\n",
        "      <td>33.800000</td>\n",
        "      <td>78.000000</td>\n",
        "      <td>41.750000</td>\n",
        "      <td>71</td>\n",
        "      <td>2</td>\n",
        "      <td>10</td>\n",
        "      <td>4</td>\n",
        "      <td>2011</td>\n",
        "      <td>349</td>\n",
        "    </tr>\n",
        "    <tr>\n",
        "      <th>12</th>\n",
        "      <td>112.0</td>\n",
        "      <td>2011-12-17</td>\n",
        "      <td>0</td>\n",
        "      <td>1</td>\n",
        "      <td>0</td>\n",
        "      <td>107.095238</td>\n",
        "      <td>241.058824</td>\n",
        "      <td>106.995693</td>\n",
        "      <td>100.800000</td>\n",
        "      <td>141.469388</td>\n",
        "      <td>...</td>\n",
        "      <td>115.0</td>\n",
        "      <td>50.500000</td>\n",
        "      <td>115.000000</td>\n",
        "      <td>60.200000</td>\n",
        "      <td>72</td>\n",
        "      <td>2</td>\n",
        "      <td>10</td>\n",
        "      <td>5</td>\n",
        "      <td>2011</td>\n",
        "      <td>350</td>\n",
        "    </tr>\n",
        "    <tr>\n",
        "      <th>13</th>\n",
        "      <td>100.0</td>\n",
        "      <td>2011-12-18</td>\n",
        "      <td>0</td>\n",
        "      <td>1</td>\n",
        "      <td>0</td>\n",
        "      <td>107.095238</td>\n",
        "      <td>241.058824</td>\n",
        "      <td>97.615544</td>\n",
        "      <td>100.800000</td>\n",
        "      <td>123.277839</td>\n",
        "      <td>...</td>\n",
        "      <td>123.0</td>\n",
        "      <td>59.285714</td>\n",
        "      <td>114.000000</td>\n",
        "      <td>80.600000</td>\n",
        "      <td>73</td>\n",
        "      <td>2</td>\n",
        "      <td>10</td>\n",
        "      <td>6</td>\n",
        "      <td>2011</td>\n",
        "      <td>351</td>\n",
        "    </tr>\n",
        "    <tr>\n",
        "      <th>14</th>\n",
        "      <td>NaN</td>\n",
        "      <td>2011-12-19</td>\n",
        "      <td>1</td>\n",
        "      <td>0</td>\n",
        "      <td>0</td>\n",
        "      <td>107.095238</td>\n",
        "      <td>241.058824</td>\n",
        "      <td>95.277491</td>\n",
        "      <td>100.800000</td>\n",
        "      <td>87.161268</td>\n",
        "      <td>...</td>\n",
        "      <td>106.0</td>\n",
        "      <td>64.375000</td>\n",
        "      <td>115.333333</td>\n",
        "      <td>100.400000</td>\n",
        "      <td>74</td>\n",
        "      <td>2</td>\n",
        "      <td>11</td>\n",
        "      <td>0</td>\n",
        "      <td>2011</td>\n",
        "      <td>352</td>\n",
        "    </tr>\n",
        "    <tr>\n",
        "      <th>15</th>\n",
        "      <td>73.0</td>\n",
        "      <td>2011-12-20</td>\n",
        "      <td>0</td>\n",
        "      <td>0</td>\n",
        "      <td>1</td>\n",
        "      <td>107.095238</td>\n",
        "      <td>241.058824</td>\n",
        "      <td>108.669348</td>\n",
        "      <td>100.800000</td>\n",
        "      <td>87.187102</td>\n",
        "      <td>...</td>\n",
        "      <td>100.0</td>\n",
        "      <td>64.375000</td>\n",
        "      <td>106.000000</td>\n",
        "      <td>100.400000</td>\n",
        "      <td>75</td>\n",
        "      <td>2</td>\n",
        "      <td>11</td>\n",
        "      <td>1</td>\n",
        "      <td>2011</td>\n",
        "      <td>353</td>\n",
        "    </tr>\n",
        "    <tr>\n",
        "      <th>16</th>\n",
        "      <td>94.0</td>\n",
        "      <td>2011-12-21</td>\n",
        "      <td>0</td>\n",
        "      <td>1</td>\n",
        "      <td>0</td>\n",
        "      <td>107.095238</td>\n",
        "      <td>241.058824</td>\n",
        "      <td>102.826180</td>\n",
        "      <td>100.800000</td>\n",
        "      <td>86.762865</td>\n",
        "      <td>...</td>\n",
        "      <td>NaN</td>\n",
        "      <td>64.375000</td>\n",
        "      <td>100.000000</td>\n",
        "      <td>110.500000</td>\n",
        "      <td>76</td>\n",
        "      <td>2</td>\n",
        "      <td>11</td>\n",
        "      <td>2</td>\n",
        "      <td>2011</td>\n",
        "      <td>354</td>\n",
        "    </tr>\n",
        "    <tr>\n",
        "      <th>17</th>\n",
        "      <td>94.0</td>\n",
        "      <td>2011-12-22</td>\n",
        "      <td>0</td>\n",
        "      <td>1</td>\n",
        "      <td>0</td>\n",
        "      <td>107.095238</td>\n",
        "      <td>241.058824</td>\n",
        "      <td>104.350746</td>\n",
        "      <td>100.800000</td>\n",
        "      <td>91.697674</td>\n",
        "      <td>...</td>\n",
        "      <td>94.0</td>\n",
        "      <td>67.666667</td>\n",
        "      <td>94.000000</td>\n",
        "      <td>107.200000</td>\n",
        "      <td>77</td>\n",
        "      <td>2</td>\n",
        "      <td>11</td>\n",
        "      <td>3</td>\n",
        "      <td>2011</td>\n",
        "      <td>355</td>\n",
        "    </tr>\n",
        "    <tr>\n",
        "      <th>18</th>\n",
        "      <td>129.0</td>\n",
        "      <td>2011-12-23</td>\n",
        "      <td>0</td>\n",
        "      <td>0</td>\n",
        "      <td>1</td>\n",
        "      <td>107.095238</td>\n",
        "      <td>241.058824</td>\n",
        "      <td>106.085386</td>\n",
        "      <td>100.800000</td>\n",
        "      <td>124.623141</td>\n",
        "      <td>...</td>\n",
        "      <td>94.0</td>\n",
        "      <td>70.300000</td>\n",
        "      <td>94.000000</td>\n",
        "      <td>106.800000</td>\n",
        "      <td>78</td>\n",
        "      <td>2</td>\n",
        "      <td>11</td>\n",
        "      <td>4</td>\n",
        "      <td>2011</td>\n",
        "      <td>356</td>\n",
        "    </tr>\n",
        "    <tr>\n",
        "      <th>19</th>\n",
        "      <td>164.0</td>\n",
        "      <td>2011-12-24</td>\n",
        "      <td>0</td>\n",
        "      <td>1</td>\n",
        "      <td>0</td>\n",
        "      <td>107.095238</td>\n",
        "      <td>241.058824</td>\n",
        "      <td>109.192099</td>\n",
        "      <td>100.800000</td>\n",
        "      <td>141.469388</td>\n",
        "      <td>...</td>\n",
        "      <td>94.0</td>\n",
        "      <td>70.300000</td>\n",
        "      <td>94.000000</td>\n",
        "      <td>100.000000</td>\n",
        "      <td>79</td>\n",
        "      <td>2</td>\n",
        "      <td>11</td>\n",
        "      <td>5</td>\n",
        "      <td>2011</td>\n",
        "      <td>357</td>\n",
        "    </tr>\n",
        "    <tr>\n",
        "      <th>20</th>\n",
        "      <td>122.0</td>\n",
        "      <td>2011-12-25</td>\n",
        "      <td>0</td>\n",
        "      <td>1</td>\n",
        "      <td>0</td>\n",
        "      <td>107.095238</td>\n",
        "      <td>241.058824</td>\n",
        "      <td>105.081166</td>\n",
        "      <td>100.800000</td>\n",
        "      <td>123.277839</td>\n",
        "      <td>...</td>\n",
        "      <td>164.0</td>\n",
        "      <td>78.818182</td>\n",
        "      <td>129.000000</td>\n",
        "      <td>113.000000</td>\n",
        "      <td>80</td>\n",
        "      <td>2</td>\n",
        "      <td>11</td>\n",
        "      <td>6</td>\n",
        "      <td>2011</td>\n",
        "      <td>358</td>\n",
        "    </tr>\n",
        "    <tr>\n",
        "      <th>21</th>\n",
        "      <td>NaN</td>\n",
        "      <td>2011-12-26</td>\n",
        "      <td>1</td>\n",
        "      <td>0</td>\n",
        "      <td>0</td>\n",
        "      <td>107.095238</td>\n",
        "      <td>241.058824</td>\n",
        "      <td>113.180664</td>\n",
        "      <td>100.800000</td>\n",
        "      <td>87.161268</td>\n",
        "      <td>...</td>\n",
        "      <td>143.0</td>\n",
        "      <td>82.416667</td>\n",
        "      <td>143.000000</td>\n",
        "      <td>118.500000</td>\n",
        "      <td>81</td>\n",
        "      <td>2</td>\n",
        "      <td>12</td>\n",
        "      <td>0</td>\n",
        "      <td>2011</td>\n",
        "      <td>359</td>\n",
        "    </tr>\n",
        "    <tr>\n",
        "      <th>22</th>\n",
        "      <td>NaN</td>\n",
        "      <td>2011-12-27</td>\n",
        "      <td>1</td>\n",
        "      <td>0</td>\n",
        "      <td>0</td>\n",
        "      <td>107.095238</td>\n",
        "      <td>241.058824</td>\n",
        "      <td>111.084528</td>\n",
        "      <td>100.800000</td>\n",
        "      <td>87.187102</td>\n",
        "      <td>...</td>\n",
        "      <td>122.0</td>\n",
        "      <td>82.416667</td>\n",
        "      <td>143.000000</td>\n",
        "      <td>118.500000</td>\n",
        "      <td>82</td>\n",
        "      <td>2</td>\n",
        "      <td>12</td>\n",
        "      <td>1</td>\n",
        "      <td>2011</td>\n",
        "      <td>360</td>\n",
        "    </tr>\n",
        "    <tr>\n",
        "      <th>23</th>\n",
        "      <td>128.0</td>\n",
        "      <td>2011-12-28</td>\n",
        "      <td>0</td>\n",
        "      <td>1</td>\n",
        "      <td>0</td>\n",
        "      <td>107.095238</td>\n",
        "      <td>241.058824</td>\n",
        "      <td>98.304624</td>\n",
        "      <td>100.800000</td>\n",
        "      <td>86.762865</td>\n",
        "      <td>...</td>\n",
        "      <td>NaN</td>\n",
        "      <td>82.416667</td>\n",
        "      <td>122.000000</td>\n",
        "      <td>118.500000</td>\n",
        "      <td>83</td>\n",
        "      <td>2</td>\n",
        "      <td>12</td>\n",
        "      <td>2</td>\n",
        "      <td>2011</td>\n",
        "      <td>361</td>\n",
        "    </tr>\n",
        "    <tr>\n",
        "      <th>24</th>\n",
        "      <td>172.0</td>\n",
        "      <td>2011-12-29</td>\n",
        "      <td>0</td>\n",
        "      <td>1</td>\n",
        "      <td>0</td>\n",
        "      <td>107.095238</td>\n",
        "      <td>241.058824</td>\n",
        "      <td>105.559222</td>\n",
        "      <td>100.800000</td>\n",
        "      <td>91.697674</td>\n",
        "      <td>...</td>\n",
        "      <td>128.0</td>\n",
        "      <td>85.923077</td>\n",
        "      <td>128.000000</td>\n",
        "      <td>127.000000</td>\n",
        "      <td>84</td>\n",
        "      <td>2</td>\n",
        "      <td>12</td>\n",
        "      <td>3</td>\n",
        "      <td>2011</td>\n",
        "      <td>362</td>\n",
        "    </tr>\n",
        "    <tr>\n",
        "      <th>25</th>\n",
        "      <td>223.0</td>\n",
        "      <td>2011-12-30</td>\n",
        "      <td>0</td>\n",
        "      <td>1</td>\n",
        "      <td>0</td>\n",
        "      <td>107.095238</td>\n",
        "      <td>241.058824</td>\n",
        "      <td>113.074427</td>\n",
        "      <td>100.800000</td>\n",
        "      <td>124.623141</td>\n",
        "      <td>...</td>\n",
        "      <td>150.0</td>\n",
        "      <td>92.071429</td>\n",
        "      <td>150.000000</td>\n",
        "      <td>146.500000</td>\n",
        "      <td>85</td>\n",
        "      <td>2</td>\n",
        "      <td>12</td>\n",
        "      <td>4</td>\n",
        "      <td>2011</td>\n",
        "      <td>363</td>\n",
        "    </tr>\n",
        "    <tr>\n",
        "      <th>26</th>\n",
        "      <td>68.0</td>\n",
        "      <td>2011-12-31</td>\n",
        "      <td>0</td>\n",
        "      <td>0</td>\n",
        "      <td>1</td>\n",
        "      <td>107.095238</td>\n",
        "      <td>241.058824</td>\n",
        "      <td>105.184431</td>\n",
        "      <td>100.800000</td>\n",
        "      <td>141.469388</td>\n",
        "      <td>...</td>\n",
        "      <td>197.5</td>\n",
        "      <td>100.800000</td>\n",
        "      <td>174.333333</td>\n",
        "      <td>161.800000</td>\n",
        "      <td>86</td>\n",
        "      <td>2</td>\n",
        "      <td>12</td>\n",
        "      <td>5</td>\n",
        "      <td>2011</td>\n",
        "      <td>364</td>\n",
        "    </tr>\n",
        "    <tr>\n",
        "      <th>27</th>\n",
        "      <td>100.0</td>\n",
        "      <td>2012-01-01</td>\n",
        "      <td>0</td>\n",
        "      <td>1</td>\n",
        "      <td>0</td>\n",
        "      <td>106.673856</td>\n",
        "      <td>240.145455</td>\n",
        "      <td>119.085735</td>\n",
        "      <td>136.074074</td>\n",
        "      <td>123.277839</td>\n",
        "      <td>...</td>\n",
        "      <td>223.0</td>\n",
        "      <td>100.800000</td>\n",
        "      <td>197.500000</td>\n",
        "      <td>161.250000</td>\n",
        "      <td>87</td>\n",
        "      <td>3</td>\n",
        "      <td>12</td>\n",
        "      <td>6</td>\n",
        "      <td>2012</td>\n",
        "      <td>0</td>\n",
        "    </tr>\n",
        "    <tr>\n",
        "      <th>28</th>\n",
        "      <td>169.0</td>\n",
        "      <td>2012-01-02</td>\n",
        "      <td>0</td>\n",
        "      <td>1</td>\n",
        "      <td>0</td>\n",
        "      <td>106.673856</td>\n",
        "      <td>240.145455</td>\n",
        "      <td>103.396947</td>\n",
        "      <td>136.074074</td>\n",
        "      <td>87.161268</td>\n",
        "      <td>...</td>\n",
        "      <td>100.0</td>\n",
        "      <td>100.750000</td>\n",
        "      <td>161.500000</td>\n",
        "      <td>155.750000</td>\n",
        "      <td>88</td>\n",
        "      <td>3</td>\n",
        "      <td>13</td>\n",
        "      <td>0</td>\n",
        "      <td>2012</td>\n",
        "      <td>1</td>\n",
        "    </tr>\n",
        "    <tr>\n",
        "      <th>29</th>\n",
        "      <td>142.0</td>\n",
        "      <td>2012-01-03</td>\n",
        "      <td>0</td>\n",
        "      <td>1</td>\n",
        "      <td>0</td>\n",
        "      <td>106.673856</td>\n",
        "      <td>240.145455</td>\n",
        "      <td>105.003014</td>\n",
        "      <td>136.074074</td>\n",
        "      <td>87.187102</td>\n",
        "      <td>...</td>\n",
        "      <td>134.5</td>\n",
        "      <td>104.764706</td>\n",
        "      <td>134.500000</td>\n",
        "      <td>158.400000</td>\n",
        "      <td>89</td>\n",
        "      <td>3</td>\n",
        "      <td>13</td>\n",
        "      <td>1</td>\n",
        "      <td>2012</td>\n",
        "      <td>2</td>\n",
        "    </tr>\n",
        "    <tr>\n",
        "      <th>...</th>\n",
        "      <td>...</td>\n",
        "      <td>...</td>\n",
        "      <td>...</td>\n",
        "      <td>...</td>\n",
        "      <td>...</td>\n",
        "      <td>...</td>\n",
        "      <td>...</td>\n",
        "      <td>...</td>\n",
        "      <td>...</td>\n",
        "      <td>...</td>\n",
        "      <td>...</td>\n",
        "      <td>...</td>\n",
        "      <td>...</td>\n",
        "      <td>...</td>\n",
        "      <td>...</td>\n",
        "      <td>...</td>\n",
        "      <td>...</td>\n",
        "      <td>...</td>\n",
        "      <td>...</td>\n",
        "      <td>...</td>\n",
        "      <td>...</td>\n",
        "    </tr>\n",
        "    <tr>\n",
        "      <th>53355</th>\n",
        "      <td>70.0</td>\n",
        "      <td>2016-10-19</td>\n",
        "      <td>0</td>\n",
        "      <td>1</td>\n",
        "      <td>0</td>\n",
        "      <td>110.429076</td>\n",
        "      <td>78.088235</td>\n",
        "      <td>95.277491</td>\n",
        "      <td>118.503844</td>\n",
        "      <td>86.762865</td>\n",
        "      <td>...</td>\n",
        "      <td>68.0</td>\n",
        "      <td>96.480000</td>\n",
        "      <td>84.666667</td>\n",
        "      <td>107.166667</td>\n",
        "      <td>1840</td>\n",
        "      <td>60</td>\n",
        "      <td>263</td>\n",
        "      <td>2</td>\n",
        "      <td>2016</td>\n",
        "      <td>292</td>\n",
        "    </tr>\n",
        "    <tr>\n",
        "      <th>53356</th>\n",
        "      <td>93.0</td>\n",
        "      <td>2016-10-19</td>\n",
        "      <td>0</td>\n",
        "      <td>1</td>\n",
        "      <td>0</td>\n",
        "      <td>110.429076</td>\n",
        "      <td>115.000000</td>\n",
        "      <td>95.277491</td>\n",
        "      <td>118.503844</td>\n",
        "      <td>86.762865</td>\n",
        "      <td>...</td>\n",
        "      <td>81.5</td>\n",
        "      <td>129.040000</td>\n",
        "      <td>112.333333</td>\n",
        "      <td>145.500000</td>\n",
        "      <td>1840</td>\n",
        "      <td>60</td>\n",
        "      <td>263</td>\n",
        "      <td>2</td>\n",
        "      <td>2016</td>\n",
        "      <td>292</td>\n",
        "    </tr>\n",
        "    <tr>\n",
        "      <th>53357</th>\n",
        "      <td>76.0</td>\n",
        "      <td>2016-10-19</td>\n",
        "      <td>0</td>\n",
        "      <td>1</td>\n",
        "      <td>0</td>\n",
        "      <td>110.429076</td>\n",
        "      <td>88.384615</td>\n",
        "      <td>95.277491</td>\n",
        "      <td>118.503844</td>\n",
        "      <td>86.762865</td>\n",
        "      <td>...</td>\n",
        "      <td>70.5</td>\n",
        "      <td>86.200000</td>\n",
        "      <td>89.333333</td>\n",
        "      <td>93.500000</td>\n",
        "      <td>1840</td>\n",
        "      <td>60</td>\n",
        "      <td>263</td>\n",
        "      <td>2</td>\n",
        "      <td>2016</td>\n",
        "      <td>292</td>\n",
        "    </tr>\n",
        "    <tr>\n",
        "      <th>53358</th>\n",
        "      <td>232.0</td>\n",
        "      <td>2016-10-19</td>\n",
        "      <td>0</td>\n",
        "      <td>1</td>\n",
        "      <td>0</td>\n",
        "      <td>110.429076</td>\n",
        "      <td>175.557692</td>\n",
        "      <td>95.277491</td>\n",
        "      <td>118.503844</td>\n",
        "      <td>86.762865</td>\n",
        "      <td>...</td>\n",
        "      <td>201.0</td>\n",
        "      <td>247.680000</td>\n",
        "      <td>248.333333</td>\n",
        "      <td>273.500000</td>\n",
        "      <td>1840</td>\n",
        "      <td>60</td>\n",
        "      <td>263</td>\n",
        "      <td>2</td>\n",
        "      <td>2016</td>\n",
        "      <td>292</td>\n",
        "    </tr>\n",
        "    <tr>\n",
        "      <th>53359</th>\n",
        "      <td>69.0</td>\n",
        "      <td>2016-10-19</td>\n",
        "      <td>0</td>\n",
        "      <td>1</td>\n",
        "      <td>0</td>\n",
        "      <td>110.429076</td>\n",
        "      <td>110.200000</td>\n",
        "      <td>95.277491</td>\n",
        "      <td>118.503844</td>\n",
        "      <td>86.762865</td>\n",
        "      <td>...</td>\n",
        "      <td>60.0</td>\n",
        "      <td>107.920000</td>\n",
        "      <td>96.333333</td>\n",
        "      <td>118.833333</td>\n",
        "      <td>1840</td>\n",
        "      <td>60</td>\n",
        "      <td>263</td>\n",
        "      <td>2</td>\n",
        "      <td>2016</td>\n",
        "      <td>292</td>\n",
        "    </tr>\n",
        "    <tr>\n",
        "      <th>53360</th>\n",
        "      <td>30.0</td>\n",
        "      <td>2016-10-19</td>\n",
        "      <td>0</td>\n",
        "      <td>1</td>\n",
        "      <td>0</td>\n",
        "      <td>110.429076</td>\n",
        "      <td>28.333333</td>\n",
        "      <td>95.277491</td>\n",
        "      <td>118.503844</td>\n",
        "      <td>86.762865</td>\n",
        "      <td>...</td>\n",
        "      <td>24.5</td>\n",
        "      <td>28.960000</td>\n",
        "      <td>30.666667</td>\n",
        "      <td>31.833333</td>\n",
        "      <td>1840</td>\n",
        "      <td>60</td>\n",
        "      <td>263</td>\n",
        "      <td>2</td>\n",
        "      <td>2016</td>\n",
        "      <td>292</td>\n",
        "    </tr>\n",
        "    <tr>\n",
        "      <th>53361</th>\n",
        "      <td>41.0</td>\n",
        "      <td>2016-10-19</td>\n",
        "      <td>0</td>\n",
        "      <td>1</td>\n",
        "      <td>0</td>\n",
        "      <td>110.429076</td>\n",
        "      <td>59.117647</td>\n",
        "      <td>95.277491</td>\n",
        "      <td>118.503844</td>\n",
        "      <td>86.762865</td>\n",
        "      <td>...</td>\n",
        "      <td>41.5</td>\n",
        "      <td>64.680000</td>\n",
        "      <td>60.000000</td>\n",
        "      <td>71.333333</td>\n",
        "      <td>1840</td>\n",
        "      <td>60</td>\n",
        "      <td>263</td>\n",
        "      <td>2</td>\n",
        "      <td>2016</td>\n",
        "      <td>292</td>\n",
        "    </tr>\n",
        "    <tr>\n",
        "      <th>53362</th>\n",
        "      <td>105.0</td>\n",
        "      <td>2016-10-19</td>\n",
        "      <td>0</td>\n",
        "      <td>1</td>\n",
        "      <td>0</td>\n",
        "      <td>110.429076</td>\n",
        "      <td>153.200000</td>\n",
        "      <td>95.277491</td>\n",
        "      <td>118.503844</td>\n",
        "      <td>86.762865</td>\n",
        "      <td>...</td>\n",
        "      <td>92.0</td>\n",
        "      <td>152.200000</td>\n",
        "      <td>137.333333</td>\n",
        "      <td>165.333333</td>\n",
        "      <td>1840</td>\n",
        "      <td>60</td>\n",
        "      <td>263</td>\n",
        "      <td>2</td>\n",
        "      <td>2016</td>\n",
        "      <td>292</td>\n",
        "    </tr>\n",
        "    <tr>\n",
        "      <th>53363</th>\n",
        "      <td>69.0</td>\n",
        "      <td>2016-10-19</td>\n",
        "      <td>0</td>\n",
        "      <td>1</td>\n",
        "      <td>0</td>\n",
        "      <td>110.429076</td>\n",
        "      <td>95.866667</td>\n",
        "      <td>95.277491</td>\n",
        "      <td>118.503844</td>\n",
        "      <td>86.762865</td>\n",
        "      <td>...</td>\n",
        "      <td>80.5</td>\n",
        "      <td>100.040000</td>\n",
        "      <td>88.666667</td>\n",
        "      <td>105.166667</td>\n",
        "      <td>1840</td>\n",
        "      <td>60</td>\n",
        "      <td>263</td>\n",
        "      <td>2</td>\n",
        "      <td>2016</td>\n",
        "      <td>292</td>\n",
        "    </tr>\n",
        "    <tr>\n",
        "      <th>53364</th>\n",
        "      <td>56.0</td>\n",
        "      <td>2016-10-19</td>\n",
        "      <td>0</td>\n",
        "      <td>1</td>\n",
        "      <td>0</td>\n",
        "      <td>110.429076</td>\n",
        "      <td>74.066667</td>\n",
        "      <td>95.277491</td>\n",
        "      <td>118.503844</td>\n",
        "      <td>86.762865</td>\n",
        "      <td>...</td>\n",
        "      <td>40.5</td>\n",
        "      <td>73.480000</td>\n",
        "      <td>69.333333</td>\n",
        "      <td>84.833333</td>\n",
        "      <td>1840</td>\n",
        "      <td>60</td>\n",
        "      <td>263</td>\n",
        "      <td>2</td>\n",
        "      <td>2016</td>\n",
        "      <td>292</td>\n",
        "    </tr>\n",
        "    <tr>\n",
        "      <th>53365</th>\n",
        "      <td>33.0</td>\n",
        "      <td>2016-10-19</td>\n",
        "      <td>0</td>\n",
        "      <td>1</td>\n",
        "      <td>0</td>\n",
        "      <td>110.429076</td>\n",
        "      <td>38.333333</td>\n",
        "      <td>95.277491</td>\n",
        "      <td>118.503844</td>\n",
        "      <td>86.762865</td>\n",
        "      <td>...</td>\n",
        "      <td>30.0</td>\n",
        "      <td>38.600000</td>\n",
        "      <td>33.666667</td>\n",
        "      <td>42.500000</td>\n",
        "      <td>1840</td>\n",
        "      <td>60</td>\n",
        "      <td>263</td>\n",
        "      <td>2</td>\n",
        "      <td>2016</td>\n",
        "      <td>292</td>\n",
        "    </tr>\n",
        "    <tr>\n",
        "      <th>53366</th>\n",
        "      <td>85.0</td>\n",
        "      <td>2016-10-19</td>\n",
        "      <td>0</td>\n",
        "      <td>1</td>\n",
        "      <td>0</td>\n",
        "      <td>110.429076</td>\n",
        "      <td>116.839286</td>\n",
        "      <td>95.277491</td>\n",
        "      <td>118.503844</td>\n",
        "      <td>86.762865</td>\n",
        "      <td>...</td>\n",
        "      <td>81.5</td>\n",
        "      <td>116.120000</td>\n",
        "      <td>105.000000</td>\n",
        "      <td>126.166667</td>\n",
        "      <td>1840</td>\n",
        "      <td>60</td>\n",
        "      <td>263</td>\n",
        "      <td>2</td>\n",
        "      <td>2016</td>\n",
        "      <td>292</td>\n",
        "    </tr>\n",
        "    <tr>\n",
        "      <th>53367</th>\n",
        "      <td>63.0</td>\n",
        "      <td>2016-10-19</td>\n",
        "      <td>0</td>\n",
        "      <td>1</td>\n",
        "      <td>0</td>\n",
        "      <td>110.429076</td>\n",
        "      <td>52.911765</td>\n",
        "      <td>95.277491</td>\n",
        "      <td>118.503844</td>\n",
        "      <td>86.762865</td>\n",
        "      <td>...</td>\n",
        "      <td>46.0</td>\n",
        "      <td>61.680000</td>\n",
        "      <td>62.000000</td>\n",
        "      <td>73.166667</td>\n",
        "      <td>1840</td>\n",
        "      <td>60</td>\n",
        "      <td>263</td>\n",
        "      <td>2</td>\n",
        "      <td>2016</td>\n",
        "      <td>292</td>\n",
        "    </tr>\n",
        "    <tr>\n",
        "      <th>53368</th>\n",
        "      <td>66.0</td>\n",
        "      <td>2016-10-19</td>\n",
        "      <td>0</td>\n",
        "      <td>1</td>\n",
        "      <td>0</td>\n",
        "      <td>110.429076</td>\n",
        "      <td>46.800000</td>\n",
        "      <td>95.277491</td>\n",
        "      <td>118.503844</td>\n",
        "      <td>86.762865</td>\n",
        "      <td>...</td>\n",
        "      <td>66.5</td>\n",
        "      <td>36.090909</td>\n",
        "      <td>87.000000</td>\n",
        "      <td>74.000000</td>\n",
        "      <td>1840</td>\n",
        "      <td>60</td>\n",
        "      <td>263</td>\n",
        "      <td>2</td>\n",
        "      <td>2016</td>\n",
        "      <td>292</td>\n",
        "    </tr>\n",
        "    <tr>\n",
        "      <th>53369</th>\n",
        "      <td>144.0</td>\n",
        "      <td>2016-10-19</td>\n",
        "      <td>0</td>\n",
        "      <td>1</td>\n",
        "      <td>0</td>\n",
        "      <td>110.429076</td>\n",
        "      <td>133.221053</td>\n",
        "      <td>95.277491</td>\n",
        "      <td>118.503844</td>\n",
        "      <td>86.762865</td>\n",
        "      <td>...</td>\n",
        "      <td>153.5</td>\n",
        "      <td>190.080000</td>\n",
        "      <td>178.000000</td>\n",
        "      <td>196.166667</td>\n",
        "      <td>1840</td>\n",
        "      <td>60</td>\n",
        "      <td>263</td>\n",
        "      <td>2</td>\n",
        "      <td>2016</td>\n",
        "      <td>292</td>\n",
        "    </tr>\n",
        "    <tr>\n",
        "      <th>53370</th>\n",
        "      <td>84.0</td>\n",
        "      <td>2016-10-19</td>\n",
        "      <td>0</td>\n",
        "      <td>1</td>\n",
        "      <td>0</td>\n",
        "      <td>110.429076</td>\n",
        "      <td>100.466667</td>\n",
        "      <td>95.277491</td>\n",
        "      <td>118.503844</td>\n",
        "      <td>86.762865</td>\n",
        "      <td>...</td>\n",
        "      <td>67.0</td>\n",
        "      <td>94.520000</td>\n",
        "      <td>91.333333</td>\n",
        "      <td>107.500000</td>\n",
        "      <td>1840</td>\n",
        "      <td>60</td>\n",
        "      <td>263</td>\n",
        "      <td>2</td>\n",
        "      <td>2016</td>\n",
        "      <td>292</td>\n",
        "    </tr>\n",
        "    <tr>\n",
        "      <th>53371</th>\n",
        "      <td>127.0</td>\n",
        "      <td>2016-10-19</td>\n",
        "      <td>0</td>\n",
        "      <td>1</td>\n",
        "      <td>0</td>\n",
        "      <td>110.429076</td>\n",
        "      <td>98.081081</td>\n",
        "      <td>95.277491</td>\n",
        "      <td>118.503844</td>\n",
        "      <td>86.762865</td>\n",
        "      <td>...</td>\n",
        "      <td>100.0</td>\n",
        "      <td>129.720000</td>\n",
        "      <td>109.000000</td>\n",
        "      <td>125.166667</td>\n",
        "      <td>1840</td>\n",
        "      <td>60</td>\n",
        "      <td>263</td>\n",
        "      <td>2</td>\n",
        "      <td>2016</td>\n",
        "      <td>292</td>\n",
        "    </tr>\n",
        "    <tr>\n",
        "      <th>53372</th>\n",
        "      <td>43.0</td>\n",
        "      <td>2016-10-19</td>\n",
        "      <td>0</td>\n",
        "      <td>1</td>\n",
        "      <td>0</td>\n",
        "      <td>110.429076</td>\n",
        "      <td>57.400000</td>\n",
        "      <td>95.277491</td>\n",
        "      <td>118.503844</td>\n",
        "      <td>86.762865</td>\n",
        "      <td>...</td>\n",
        "      <td>48.5</td>\n",
        "      <td>57.800000</td>\n",
        "      <td>61.666667</td>\n",
        "      <td>70.833333</td>\n",
        "      <td>1840</td>\n",
        "      <td>60</td>\n",
        "      <td>263</td>\n",
        "      <td>2</td>\n",
        "      <td>2016</td>\n",
        "      <td>292</td>\n",
        "    </tr>\n",
        "    <tr>\n",
        "      <th>53373</th>\n",
        "      <td>185.0</td>\n",
        "      <td>2016-10-19</td>\n",
        "      <td>0</td>\n",
        "      <td>1</td>\n",
        "      <td>0</td>\n",
        "      <td>110.429076</td>\n",
        "      <td>148.400000</td>\n",
        "      <td>95.277491</td>\n",
        "      <td>118.503844</td>\n",
        "      <td>86.762865</td>\n",
        "      <td>...</td>\n",
        "      <td>93.0</td>\n",
        "      <td>147.400000</td>\n",
        "      <td>117.666667</td>\n",
        "      <td>149.166667</td>\n",
        "      <td>1840</td>\n",
        "      <td>60</td>\n",
        "      <td>263</td>\n",
        "      <td>2</td>\n",
        "      <td>2016</td>\n",
        "      <td>292</td>\n",
        "    </tr>\n",
        "    <tr>\n",
        "      <th>53374</th>\n",
        "      <td>33.0</td>\n",
        "      <td>2016-10-19</td>\n",
        "      <td>0</td>\n",
        "      <td>1</td>\n",
        "      <td>0</td>\n",
        "      <td>110.429076</td>\n",
        "      <td>52.333333</td>\n",
        "      <td>95.277491</td>\n",
        "      <td>118.503844</td>\n",
        "      <td>86.762865</td>\n",
        "      <td>...</td>\n",
        "      <td>30.0</td>\n",
        "      <td>57.800000</td>\n",
        "      <td>69.333333</td>\n",
        "      <td>72.500000</td>\n",
        "      <td>1840</td>\n",
        "      <td>60</td>\n",
        "      <td>263</td>\n",
        "      <td>2</td>\n",
        "      <td>2016</td>\n",
        "      <td>292</td>\n",
        "    </tr>\n",
        "    <tr>\n",
        "      <th>53375</th>\n",
        "      <td>239.0</td>\n",
        "      <td>2016-10-19</td>\n",
        "      <td>0</td>\n",
        "      <td>1</td>\n",
        "      <td>0</td>\n",
        "      <td>110.429076</td>\n",
        "      <td>178.647059</td>\n",
        "      <td>95.277491</td>\n",
        "      <td>118.503844</td>\n",
        "      <td>86.762865</td>\n",
        "      <td>...</td>\n",
        "      <td>215.0</td>\n",
        "      <td>229.520000</td>\n",
        "      <td>225.333333</td>\n",
        "      <td>259.833333</td>\n",
        "      <td>1840</td>\n",
        "      <td>60</td>\n",
        "      <td>263</td>\n",
        "      <td>2</td>\n",
        "      <td>2016</td>\n",
        "      <td>292</td>\n",
        "    </tr>\n",
        "    <tr>\n",
        "      <th>53376</th>\n",
        "      <td>174.0</td>\n",
        "      <td>2016-10-19</td>\n",
        "      <td>0</td>\n",
        "      <td>1</td>\n",
        "      <td>0</td>\n",
        "      <td>110.429076</td>\n",
        "      <td>172.466667</td>\n",
        "      <td>95.277491</td>\n",
        "      <td>118.503844</td>\n",
        "      <td>86.762865</td>\n",
        "      <td>...</td>\n",
        "      <td>140.5</td>\n",
        "      <td>170.960000</td>\n",
        "      <td>164.666667</td>\n",
        "      <td>186.666667</td>\n",
        "      <td>1840</td>\n",
        "      <td>60</td>\n",
        "      <td>263</td>\n",
        "      <td>2</td>\n",
        "      <td>2016</td>\n",
        "      <td>292</td>\n",
        "    </tr>\n",
        "    <tr>\n",
        "      <th>53377</th>\n",
        "      <td>155.0</td>\n",
        "      <td>2016-10-19</td>\n",
        "      <td>0</td>\n",
        "      <td>1</td>\n",
        "      <td>0</td>\n",
        "      <td>110.429076</td>\n",
        "      <td>270.052083</td>\n",
        "      <td>95.277491</td>\n",
        "      <td>118.503844</td>\n",
        "      <td>86.762865</td>\n",
        "      <td>...</td>\n",
        "      <td>180.0</td>\n",
        "      <td>226.000000</td>\n",
        "      <td>212.000000</td>\n",
        "      <td>245.500000</td>\n",
        "      <td>1840</td>\n",
        "      <td>60</td>\n",
        "      <td>263</td>\n",
        "      <td>2</td>\n",
        "      <td>2016</td>\n",
        "      <td>292</td>\n",
        "    </tr>\n",
        "    <tr>\n",
        "      <th>53378</th>\n",
        "      <td>178.0</td>\n",
        "      <td>2016-10-19</td>\n",
        "      <td>0</td>\n",
        "      <td>1</td>\n",
        "      <td>0</td>\n",
        "      <td>110.429076</td>\n",
        "      <td>122.676471</td>\n",
        "      <td>95.277491</td>\n",
        "      <td>118.503844</td>\n",
        "      <td>86.762865</td>\n",
        "      <td>...</td>\n",
        "      <td>145.5</td>\n",
        "      <td>157.040000</td>\n",
        "      <td>160.333333</td>\n",
        "      <td>172.666667</td>\n",
        "      <td>1840</td>\n",
        "      <td>60</td>\n",
        "      <td>263</td>\n",
        "      <td>2</td>\n",
        "      <td>2016</td>\n",
        "      <td>292</td>\n",
        "    </tr>\n",
        "    <tr>\n",
        "      <th>53379</th>\n",
        "      <td>74.0</td>\n",
        "      <td>2016-10-19</td>\n",
        "      <td>0</td>\n",
        "      <td>1</td>\n",
        "      <td>0</td>\n",
        "      <td>110.429076</td>\n",
        "      <td>68.800000</td>\n",
        "      <td>95.277491</td>\n",
        "      <td>118.503844</td>\n",
        "      <td>86.762865</td>\n",
        "      <td>...</td>\n",
        "      <td>37.5</td>\n",
        "      <td>70.280000</td>\n",
        "      <td>62.000000</td>\n",
        "      <td>67.833333</td>\n",
        "      <td>1840</td>\n",
        "      <td>60</td>\n",
        "      <td>263</td>\n",
        "      <td>2</td>\n",
        "      <td>2016</td>\n",
        "      <td>292</td>\n",
        "    </tr>\n",
        "    <tr>\n",
        "      <th>53380</th>\n",
        "      <td>76.0</td>\n",
        "      <td>2016-10-19</td>\n",
        "      <td>0</td>\n",
        "      <td>1</td>\n",
        "      <td>0</td>\n",
        "      <td>110.429076</td>\n",
        "      <td>96.735294</td>\n",
        "      <td>95.277491</td>\n",
        "      <td>118.503844</td>\n",
        "      <td>86.762865</td>\n",
        "      <td>...</td>\n",
        "      <td>139.5</td>\n",
        "      <td>152.960000</td>\n",
        "      <td>127.666667</td>\n",
        "      <td>150.333333</td>\n",
        "      <td>1840</td>\n",
        "      <td>60</td>\n",
        "      <td>263</td>\n",
        "      <td>2</td>\n",
        "      <td>2016</td>\n",
        "      <td>292</td>\n",
        "    </tr>\n",
        "    <tr>\n",
        "      <th>53381</th>\n",
        "      <td>75.0</td>\n",
        "      <td>2016-10-19</td>\n",
        "      <td>0</td>\n",
        "      <td>1</td>\n",
        "      <td>0</td>\n",
        "      <td>110.429076</td>\n",
        "      <td>113.866667</td>\n",
        "      <td>95.277491</td>\n",
        "      <td>118.503844</td>\n",
        "      <td>86.762865</td>\n",
        "      <td>...</td>\n",
        "      <td>63.0</td>\n",
        "      <td>98.560000</td>\n",
        "      <td>94.333333</td>\n",
        "      <td>89.333333</td>\n",
        "      <td>1840</td>\n",
        "      <td>60</td>\n",
        "      <td>263</td>\n",
        "      <td>2</td>\n",
        "      <td>2016</td>\n",
        "      <td>292</td>\n",
        "    </tr>\n",
        "    <tr>\n",
        "      <th>53382</th>\n",
        "      <td>129.0</td>\n",
        "      <td>2016-10-19</td>\n",
        "      <td>0</td>\n",
        "      <td>1</td>\n",
        "      <td>0</td>\n",
        "      <td>110.429076</td>\n",
        "      <td>143.000000</td>\n",
        "      <td>95.277491</td>\n",
        "      <td>118.503844</td>\n",
        "      <td>86.762865</td>\n",
        "      <td>...</td>\n",
        "      <td>116.0</td>\n",
        "      <td>172.240000</td>\n",
        "      <td>137.000000</td>\n",
        "      <td>145.500000</td>\n",
        "      <td>1840</td>\n",
        "      <td>60</td>\n",
        "      <td>263</td>\n",
        "      <td>2</td>\n",
        "      <td>2016</td>\n",
        "      <td>292</td>\n",
        "    </tr>\n",
        "    <tr>\n",
        "      <th>53383</th>\n",
        "      <td>48.0</td>\n",
        "      <td>2016-10-19</td>\n",
        "      <td>0</td>\n",
        "      <td>1</td>\n",
        "      <td>0</td>\n",
        "      <td>110.429076</td>\n",
        "      <td>49.411765</td>\n",
        "      <td>95.277491</td>\n",
        "      <td>118.503844</td>\n",
        "      <td>86.762865</td>\n",
        "      <td>...</td>\n",
        "      <td>51.0</td>\n",
        "      <td>71.080000</td>\n",
        "      <td>60.000000</td>\n",
        "      <td>79.666667</td>\n",
        "      <td>1840</td>\n",
        "      <td>60</td>\n",
        "      <td>263</td>\n",
        "      <td>2</td>\n",
        "      <td>2016</td>\n",
        "      <td>292</td>\n",
        "    </tr>\n",
        "    <tr>\n",
        "      <th>53384</th>\n",
        "      <td>80.0</td>\n",
        "      <td>2016-10-19</td>\n",
        "      <td>0</td>\n",
        "      <td>1</td>\n",
        "      <td>0</td>\n",
        "      <td>110.429076</td>\n",
        "      <td>65.957895</td>\n",
        "      <td>95.277491</td>\n",
        "      <td>118.503844</td>\n",
        "      <td>86.762865</td>\n",
        "      <td>...</td>\n",
        "      <td>61.0</td>\n",
        "      <td>91.280000</td>\n",
        "      <td>82.666667</td>\n",
        "      <td>100.833333</td>\n",
        "      <td>1840</td>\n",
        "      <td>60</td>\n",
        "      <td>263</td>\n",
        "      <td>2</td>\n",
        "      <td>2016</td>\n",
        "      <td>292</td>\n",
        "    </tr>\n",
        "  </tbody>\n",
        "</table>\n",
        "<p>53385 rows \u00d7 39 columns</p>\n",
        "</div>"
       ],
       "metadata": {},
       "output_type": "pyout",
       "prompt_number": 137,
       "text": [
        "       Count       Date  IsTest  IsTrain  IsValidation  MeanForMonth  \\\n",
        "0        8.0 2011-10-06       0        0             1    110.429076   \n",
        "1       88.0 2011-10-07       0        0             1    110.429076   \n",
        "2        1.0 2011-10-09       0        1             0    110.429076   \n",
        "3        1.0 2011-11-15       0        1             0    100.500505   \n",
        "4        2.0 2011-12-08       0        1             0    107.095238   \n",
        "5       43.0 2011-12-09       0        0             1    107.095238   \n",
        "6       10.0 2011-12-10       0        1             0    107.095238   \n",
        "7        1.0 2011-12-11       0        1             0    107.095238   \n",
        "8       60.0 2011-12-13       0        1             0    107.095238   \n",
        "9        NaN 2011-12-14       1        0             0    107.095238   \n",
        "10      96.0 2011-12-15       0        1             0    107.095238   \n",
        "11     134.0 2011-12-16       0        1             0    107.095238   \n",
        "12     112.0 2011-12-17       0        1             0    107.095238   \n",
        "13     100.0 2011-12-18       0        1             0    107.095238   \n",
        "14       NaN 2011-12-19       1        0             0    107.095238   \n",
        "15      73.0 2011-12-20       0        0             1    107.095238   \n",
        "16      94.0 2011-12-21       0        1             0    107.095238   \n",
        "17      94.0 2011-12-22       0        1             0    107.095238   \n",
        "18     129.0 2011-12-23       0        0             1    107.095238   \n",
        "19     164.0 2011-12-24       0        1             0    107.095238   \n",
        "20     122.0 2011-12-25       0        1             0    107.095238   \n",
        "21       NaN 2011-12-26       1        0             0    107.095238   \n",
        "22       NaN 2011-12-27       1        0             0    107.095238   \n",
        "23     128.0 2011-12-28       0        1             0    107.095238   \n",
        "24     172.0 2011-12-29       0        1             0    107.095238   \n",
        "25     223.0 2011-12-30       0        1             0    107.095238   \n",
        "26      68.0 2011-12-31       0        0             1    107.095238   \n",
        "27     100.0 2012-01-01       0        1             0    106.673856   \n",
        "28     169.0 2012-01-02       0        1             0    106.673856   \n",
        "29     142.0 2012-01-03       0        1             0    106.673856   \n",
        "...      ...        ...     ...      ...           ...           ...   \n",
        "53355   70.0 2016-10-19       0        1             0    110.429076   \n",
        "53356   93.0 2016-10-19       0        1             0    110.429076   \n",
        "53357   76.0 2016-10-19       0        1             0    110.429076   \n",
        "53358  232.0 2016-10-19       0        1             0    110.429076   \n",
        "53359   69.0 2016-10-19       0        1             0    110.429076   \n",
        "53360   30.0 2016-10-19       0        1             0    110.429076   \n",
        "53361   41.0 2016-10-19       0        1             0    110.429076   \n",
        "53362  105.0 2016-10-19       0        1             0    110.429076   \n",
        "53363   69.0 2016-10-19       0        1             0    110.429076   \n",
        "53364   56.0 2016-10-19       0        1             0    110.429076   \n",
        "53365   33.0 2016-10-19       0        1             0    110.429076   \n",
        "53366   85.0 2016-10-19       0        1             0    110.429076   \n",
        "53367   63.0 2016-10-19       0        1             0    110.429076   \n",
        "53368   66.0 2016-10-19       0        1             0    110.429076   \n",
        "53369  144.0 2016-10-19       0        1             0    110.429076   \n",
        "53370   84.0 2016-10-19       0        1             0    110.429076   \n",
        "53371  127.0 2016-10-19       0        1             0    110.429076   \n",
        "53372   43.0 2016-10-19       0        1             0    110.429076   \n",
        "53373  185.0 2016-10-19       0        1             0    110.429076   \n",
        "53374   33.0 2016-10-19       0        1             0    110.429076   \n",
        "53375  239.0 2016-10-19       0        1             0    110.429076   \n",
        "53376  174.0 2016-10-19       0        1             0    110.429076   \n",
        "53377  155.0 2016-10-19       0        1             0    110.429076   \n",
        "53378  178.0 2016-10-19       0        1             0    110.429076   \n",
        "53379   74.0 2016-10-19       0        1             0    110.429076   \n",
        "53380   76.0 2016-10-19       0        1             0    110.429076   \n",
        "53381   75.0 2016-10-19       0        1             0    110.429076   \n",
        "53382  129.0 2016-10-19       0        1             0    110.429076   \n",
        "53383   48.0 2016-10-19       0        1             0    110.429076   \n",
        "53384   80.0 2016-10-19       0        1             0    110.429076   \n",
        "\n",
        "       MeanForMonthByPoints  MeanForMonthDay  MeanForThroughMonth  \\\n",
        "0                270.052083       106.547251             1.000000   \n",
        "1                270.052083       107.727941             1.000000   \n",
        "2                270.052083       108.823191             1.000000   \n",
        "3                248.769231       109.760841             1.000000   \n",
        "4                241.058824       106.963262           100.800000   \n",
        "5                241.058824       108.823191           100.800000   \n",
        "6                241.058824        99.359541           100.800000   \n",
        "7                241.058824       104.211745           100.800000   \n",
        "8                241.058824        98.933229           100.800000   \n",
        "9                241.058824       105.942606           100.800000   \n",
        "10               241.058824       109.760841           100.800000   \n",
        "11               241.058824       105.413058           100.800000   \n",
        "12               241.058824       106.995693           100.800000   \n",
        "13               241.058824        97.615544           100.800000   \n",
        "14               241.058824        95.277491           100.800000   \n",
        "15               241.058824       108.669348           100.800000   \n",
        "16               241.058824       102.826180           100.800000   \n",
        "17               241.058824       104.350746           100.800000   \n",
        "18               241.058824       106.085386           100.800000   \n",
        "19               241.058824       109.192099           100.800000   \n",
        "20               241.058824       105.081166           100.800000   \n",
        "21               241.058824       113.180664           100.800000   \n",
        "22               241.058824       111.084528           100.800000   \n",
        "23               241.058824        98.304624           100.800000   \n",
        "24               241.058824       105.559222           100.800000   \n",
        "25               241.058824       113.074427           100.800000   \n",
        "26               241.058824       105.184431           100.800000   \n",
        "27               240.145455       119.085735           136.074074   \n",
        "28               240.145455       103.396947           136.074074   \n",
        "29               240.145455       105.003014           136.074074   \n",
        "...                     ...              ...                  ...   \n",
        "53355             78.088235        95.277491           118.503844   \n",
        "53356            115.000000        95.277491           118.503844   \n",
        "53357             88.384615        95.277491           118.503844   \n",
        "53358            175.557692        95.277491           118.503844   \n",
        "53359            110.200000        95.277491           118.503844   \n",
        "53360             28.333333        95.277491           118.503844   \n",
        "53361             59.117647        95.277491           118.503844   \n",
        "53362            153.200000        95.277491           118.503844   \n",
        "53363             95.866667        95.277491           118.503844   \n",
        "53364             74.066667        95.277491           118.503844   \n",
        "53365             38.333333        95.277491           118.503844   \n",
        "53366            116.839286        95.277491           118.503844   \n",
        "53367             52.911765        95.277491           118.503844   \n",
        "53368             46.800000        95.277491           118.503844   \n",
        "53369            133.221053        95.277491           118.503844   \n",
        "53370            100.466667        95.277491           118.503844   \n",
        "53371             98.081081        95.277491           118.503844   \n",
        "53372             57.400000        95.277491           118.503844   \n",
        "53373            148.400000        95.277491           118.503844   \n",
        "53374             52.333333        95.277491           118.503844   \n",
        "53375            178.647059        95.277491           118.503844   \n",
        "53376            172.466667        95.277491           118.503844   \n",
        "53377            270.052083        95.277491           118.503844   \n",
        "53378            122.676471        95.277491           118.503844   \n",
        "53379             68.800000        95.277491           118.503844   \n",
        "53380             96.735294        95.277491           118.503844   \n",
        "53381            113.866667        95.277491           118.503844   \n",
        "53382            143.000000        95.277491           118.503844   \n",
        "53383             49.411765        95.277491           118.503844   \n",
        "53384             65.957895        95.277491           118.503844   \n",
        "\n",
        "       MeanForWeekDay   ...     PrevExisting2Value  PrevExisting30Value  \\\n",
        "0           91.697674   ...                    NaN                  NaN   \n",
        "1          124.623141   ...                    NaN                  NaN   \n",
        "2          123.277839   ...                    NaN                  NaN   \n",
        "3           87.187102   ...                    NaN                  NaN   \n",
        "4           91.697674   ...                    NaN             1.000000   \n",
        "5          124.623141   ...                    2.0             1.500000   \n",
        "6          141.469388   ...                    2.0             1.500000   \n",
        "7          123.277839   ...                   10.0             4.333333   \n",
        "8           87.187102   ...                    1.0             3.500000   \n",
        "9           86.762865   ...                   60.0            14.800000   \n",
        "10          91.697674   ...                   60.0            14.800000   \n",
        "11         124.623141   ...                   96.0            33.800000   \n",
        "12         141.469388   ...                  115.0            50.500000   \n",
        "13         123.277839   ...                  123.0            59.285714   \n",
        "14          87.161268   ...                  106.0            64.375000   \n",
        "15          87.187102   ...                  100.0            64.375000   \n",
        "16          86.762865   ...                    NaN            64.375000   \n",
        "17          91.697674   ...                   94.0            67.666667   \n",
        "18         124.623141   ...                   94.0            70.300000   \n",
        "19         141.469388   ...                   94.0            70.300000   \n",
        "20         123.277839   ...                  164.0            78.818182   \n",
        "21          87.161268   ...                  143.0            82.416667   \n",
        "22          87.187102   ...                  122.0            82.416667   \n",
        "23          86.762865   ...                    NaN            82.416667   \n",
        "24          91.697674   ...                  128.0            85.923077   \n",
        "25         124.623141   ...                  150.0            92.071429   \n",
        "26         141.469388   ...                  197.5           100.800000   \n",
        "27         123.277839   ...                  223.0           100.800000   \n",
        "28          87.161268   ...                  100.0           100.750000   \n",
        "29          87.187102   ...                  134.5           104.764706   \n",
        "...               ...   ...                    ...                  ...   \n",
        "53355       86.762865   ...                   68.0            96.480000   \n",
        "53356       86.762865   ...                   81.5           129.040000   \n",
        "53357       86.762865   ...                   70.5            86.200000   \n",
        "53358       86.762865   ...                  201.0           247.680000   \n",
        "53359       86.762865   ...                   60.0           107.920000   \n",
        "53360       86.762865   ...                   24.5            28.960000   \n",
        "53361       86.762865   ...                   41.5            64.680000   \n",
        "53362       86.762865   ...                   92.0           152.200000   \n",
        "53363       86.762865   ...                   80.5           100.040000   \n",
        "53364       86.762865   ...                   40.5            73.480000   \n",
        "53365       86.762865   ...                   30.0            38.600000   \n",
        "53366       86.762865   ...                   81.5           116.120000   \n",
        "53367       86.762865   ...                   46.0            61.680000   \n",
        "53368       86.762865   ...                   66.5            36.090909   \n",
        "53369       86.762865   ...                  153.5           190.080000   \n",
        "53370       86.762865   ...                   67.0            94.520000   \n",
        "53371       86.762865   ...                  100.0           129.720000   \n",
        "53372       86.762865   ...                   48.5            57.800000   \n",
        "53373       86.762865   ...                   93.0           147.400000   \n",
        "53374       86.762865   ...                   30.0            57.800000   \n",
        "53375       86.762865   ...                  215.0           229.520000   \n",
        "53376       86.762865   ...                  140.5           170.960000   \n",
        "53377       86.762865   ...                  180.0           226.000000   \n",
        "53378       86.762865   ...                  145.5           157.040000   \n",
        "53379       86.762865   ...                   37.5            70.280000   \n",
        "53380       86.762865   ...                  139.5           152.960000   \n",
        "53381       86.762865   ...                   63.0            98.560000   \n",
        "53382       86.762865   ...                  116.0           172.240000   \n",
        "53383       86.762865   ...                   51.0            71.080000   \n",
        "53384       86.762865   ...                   61.0            91.280000   \n",
        "\n",
        "       PrevExisting3Value  PrevExisting7Value  ThroughDay  ThroughMonth  \\\n",
        "0                     NaN                 NaN           0             0   \n",
        "1                     NaN                 NaN           1             0   \n",
        "2                     NaN                 NaN           3             0   \n",
        "3                     NaN                 NaN          40             1   \n",
        "4                     NaN                 NaN          63             2   \n",
        "5                2.000000            2.000000          64             2   \n",
        "6                2.000000            2.000000          65             2   \n",
        "7                6.000000            6.000000          66             2   \n",
        "8                5.500000            4.333333          68             2   \n",
        "9               30.500000           18.250000          69             2   \n",
        "10              60.000000           18.250000          70             2   \n",
        "11              78.000000           41.750000          71             2   \n",
        "12             115.000000           60.200000          72             2   \n",
        "13             114.000000           80.600000          73             2   \n",
        "14             115.333333          100.400000          74             2   \n",
        "15             106.000000          100.400000          75             2   \n",
        "16             100.000000          110.500000          76             2   \n",
        "17              94.000000          107.200000          77             2   \n",
        "18              94.000000          106.800000          78             2   \n",
        "19              94.000000          100.000000          79             2   \n",
        "20             129.000000          113.000000          80             2   \n",
        "21             143.000000          118.500000          81             2   \n",
        "22             143.000000          118.500000          82             2   \n",
        "23             122.000000          118.500000          83             2   \n",
        "24             128.000000          127.000000          84             2   \n",
        "25             150.000000          146.500000          85             2   \n",
        "26             174.333333          161.800000          86             2   \n",
        "27             197.500000          161.250000          87             3   \n",
        "28             161.500000          155.750000          88             3   \n",
        "29             134.500000          158.400000          89             3   \n",
        "...                   ...                 ...         ...           ...   \n",
        "53355           84.666667          107.166667        1840            60   \n",
        "53356          112.333333          145.500000        1840            60   \n",
        "53357           89.333333           93.500000        1840            60   \n",
        "53358          248.333333          273.500000        1840            60   \n",
        "53359           96.333333          118.833333        1840            60   \n",
        "53360           30.666667           31.833333        1840            60   \n",
        "53361           60.000000           71.333333        1840            60   \n",
        "53362          137.333333          165.333333        1840            60   \n",
        "53363           88.666667          105.166667        1840            60   \n",
        "53364           69.333333           84.833333        1840            60   \n",
        "53365           33.666667           42.500000        1840            60   \n",
        "53366          105.000000          126.166667        1840            60   \n",
        "53367           62.000000           73.166667        1840            60   \n",
        "53368           87.000000           74.000000        1840            60   \n",
        "53369          178.000000          196.166667        1840            60   \n",
        "53370           91.333333          107.500000        1840            60   \n",
        "53371          109.000000          125.166667        1840            60   \n",
        "53372           61.666667           70.833333        1840            60   \n",
        "53373          117.666667          149.166667        1840            60   \n",
        "53374           69.333333           72.500000        1840            60   \n",
        "53375          225.333333          259.833333        1840            60   \n",
        "53376          164.666667          186.666667        1840            60   \n",
        "53377          212.000000          245.500000        1840            60   \n",
        "53378          160.333333          172.666667        1840            60   \n",
        "53379           62.000000           67.833333        1840            60   \n",
        "53380          127.666667          150.333333        1840            60   \n",
        "53381           94.333333           89.333333        1840            60   \n",
        "53382          137.000000          145.500000        1840            60   \n",
        "53383           60.000000           79.666667        1840            60   \n",
        "53384           82.666667          100.833333        1840            60   \n",
        "\n",
        "       ThroughWeek  WeekDay  Year  YearDay  \n",
        "0                0        3  2011      278  \n",
        "1                0        4  2011      279  \n",
        "2                0        6  2011      281  \n",
        "3                6        1  2011      318  \n",
        "4                9        3  2011      341  \n",
        "5                9        4  2011      342  \n",
        "6                9        5  2011      343  \n",
        "7                9        6  2011      344  \n",
        "8               10        1  2011      346  \n",
        "9               10        2  2011      347  \n",
        "10              10        3  2011      348  \n",
        "11              10        4  2011      349  \n",
        "12              10        5  2011      350  \n",
        "13              10        6  2011      351  \n",
        "14              11        0  2011      352  \n",
        "15              11        1  2011      353  \n",
        "16              11        2  2011      354  \n",
        "17              11        3  2011      355  \n",
        "18              11        4  2011      356  \n",
        "19              11        5  2011      357  \n",
        "20              11        6  2011      358  \n",
        "21              12        0  2011      359  \n",
        "22              12        1  2011      360  \n",
        "23              12        2  2011      361  \n",
        "24              12        3  2011      362  \n",
        "25              12        4  2011      363  \n",
        "26              12        5  2011      364  \n",
        "27              12        6  2012        0  \n",
        "28              13        0  2012        1  \n",
        "29              13        1  2012        2  \n",
        "...            ...      ...   ...      ...  \n",
        "53355          263        2  2016      292  \n",
        "53356          263        2  2016      292  \n",
        "53357          263        2  2016      292  \n",
        "53358          263        2  2016      292  \n",
        "53359          263        2  2016      292  \n",
        "53360          263        2  2016      292  \n",
        "53361          263        2  2016      292  \n",
        "53362          263        2  2016      292  \n",
        "53363          263        2  2016      292  \n",
        "53364          263        2  2016      292  \n",
        "53365          263        2  2016      292  \n",
        "53366          263        2  2016      292  \n",
        "53367          263        2  2016      292  \n",
        "53368          263        2  2016      292  \n",
        "53369          263        2  2016      292  \n",
        "53370          263        2  2016      292  \n",
        "53371          263        2  2016      292  \n",
        "53372          263        2  2016      292  \n",
        "53373          263        2  2016      292  \n",
        "53374          263        2  2016      292  \n",
        "53375          263        2  2016      292  \n",
        "53376          263        2  2016      292  \n",
        "53377          263        2  2016      292  \n",
        "53378          263        2  2016      292  \n",
        "53379          263        2  2016      292  \n",
        "53380          263        2  2016      292  \n",
        "53381          263        2  2016      292  \n",
        "53382          263        2  2016      292  \n",
        "53383          263        2  2016      292  \n",
        "53384          263        2  2016      292  \n",
        "\n",
        "[53385 rows x 39 columns]"
       ]
      }
     ],
     "prompt_number": 137
    },
    {
     "cell_type": "code",
     "collapsed": false,
     "input": [],
     "language": "python",
     "metadata": {},
     "outputs": [],
     "prompt_number": 121
    },
    {
     "cell_type": "code",
     "collapsed": false,
     "input": [],
     "language": "python",
     "metadata": {},
     "outputs": [],
     "prompt_number": 121
    },
    {
     "cell_type": "code",
     "collapsed": false,
     "input": [],
     "language": "python",
     "metadata": {},
     "outputs": []
    },
    {
     "cell_type": "code",
     "collapsed": false,
     "input": [],
     "language": "python",
     "metadata": {},
     "outputs": [],
     "prompt_number": 52
    },
    {
     "cell_type": "code",
     "collapsed": true,
     "input": [],
     "language": "python",
     "metadata": {},
     "outputs": [],
     "prompt_number": 27
    },
    {
     "cell_type": "code",
     "collapsed": false,
     "input": [
      "dataTrainX = tmpData[tmpData.columns.difference([u'Date', u'IsTest', u'IsTrain', u'IsValidation', 'Count', 'Point'])].fillna(0)\n",
      "dataTrainY = tmpData.Count\n",
      "lr.fit(dataTrainX, dataTrainY)"
     ],
     "language": "python",
     "metadata": {},
     "outputs": [
      {
       "metadata": {},
       "output_type": "pyout",
       "prompt_number": 26,
       "text": [
        "LinearRegression(copy_X=True, fit_intercept=True, n_jobs=1, normalize=False)"
       ]
      }
     ],
     "prompt_number": 26
    },
    {
     "cell_type": "code",
     "collapsed": false,
     "input": [
      "res = lr.predict(dataTrainX)\n",
      "mae(res, dataTrainY)"
     ],
     "language": "python",
     "metadata": {},
     "outputs": [
      {
       "metadata": {},
       "output_type": "pyout",
       "prompt_number": 27,
       "text": [
        "24.719088626914935"
       ]
      }
     ],
     "prompt_number": 27
    },
    {
     "cell_type": "code",
     "collapsed": false,
     "input": [],
     "language": "python",
     "metadata": {},
     "outputs": [],
     "prompt_number": 59
    },
    {
     "cell_type": "code",
     "collapsed": false,
     "input": [],
     "language": "python",
     "metadata": {},
     "outputs": [],
     "prompt_number": 15
    },
    {
     "cell_type": "code",
     "collapsed": true,
     "input": [],
     "language": "python",
     "metadata": {},
     "outputs": [],
     "prompt_number": null
    }
   ],
   "metadata": {}
  }
 ]
}