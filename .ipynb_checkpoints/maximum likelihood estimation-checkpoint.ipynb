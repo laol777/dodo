{
 "cells": [
  {
   "cell_type": "code",
   "execution_count": 1,
   "metadata": {
    "collapsed": false
   },
   "outputs": [],
   "source": [
    "import pandas as pd\n",
    "import numpy as np\n",
    "from sklearn.metrics import mean_absolute_error as mae\n",
    "import statsmodels.api as sm\n",
    "from scipy.stats.stats import pearsonr \n",
    "\n",
    "data = pd.read_csv('data_transform/all.csv')\n",
    "\n",
    "for i in data.Point.unique()[-15:]: #delete last point with little count information\n",
    "    data = data[data.Point != i] "
   ]
  },
  {
   "cell_type": "code",
   "execution_count": 2,
   "metadata": {
    "collapsed": false
   },
   "outputs": [
    {
     "data": {
      "text/plain": [
       "(2, 10)"
      ]
     },
     "execution_count": 2,
     "metadata": {},
     "output_type": "execute_result"
    }
   ],
   "source": [
    "def lsm (x, y):\n",
    "    n = x.shape[0]\n",
    "    a = (n * np.sum(x * y) - np.sum(x) * np.sum(y)) / (n * np.sum(x * x) - np.sum(x)**2)\n",
    "    b = (np.sum(y) - a * np.sum(x)) / n\n",
    "    return a, b\n",
    "lsm(np.array([1, 2]), np.array([12, 14]))"
   ]
  },
  {
   "cell_type": "code",
   "execution_count": 3,
   "metadata": {
    "collapsed": true
   },
   "outputs": [],
   "source": [
    "point = data.Point.unique()"
   ]
  },
  {
   "cell_type": "code",
   "execution_count": 4,
   "metadata": {
    "collapsed": false,
    "scrolled": true
   },
   "outputs": [],
   "source": [
    "loc_point = point[0]\n",
    "\n",
    "dataTrain = data[(data.Point == loc_point) & (data.IsTrain == 1)]\n",
    "\n",
    "M = 15\n",
    "\n",
    "maxCor = 0\n",
    "maxCorIndex = -1\n",
    "\n",
    "for i in range(0, dataTrain.shape[0] - M):\n",
    "    currentAbsCor = abs(pearsonr(dataTrain.Count[i:i + M], dataTrain.Count[-M:])[0])\n",
    "    if( maxCor < currentAbsCor ):\n",
    "        maxCor = currentAbsCor\n",
    "        maxCorIndex = i\n",
    "\n",
    "Msample = np.array(dataTrain.Count[-M:])\n",
    "historySample = np.array(dataTrain.Count[maxCorIndex + M: maxCorIndex + 2 * M])\n",
    "\n",
    "k, offset = lsm(historySample, Msample)"
   ]
  },
  {
   "cell_type": "code",
   "execution_count": 5,
   "metadata": {
    "collapsed": true
   },
   "outputs": [],
   "source": [
    "dataTest = data[(data.Point == loc_point) & (data.IsTest == 1)]        "
   ]
  },
  {
   "cell_type": "code",
   "execution_count": 6,
   "metadata": {
    "collapsed": false,
    "scrolled": true
   },
   "outputs": [
    {
     "data": {
      "text/plain": [
       "62.0"
      ]
     },
     "execution_count": 6,
     "metadata": {},
     "output_type": "execute_result"
    }
   ],
   "source": [
    "mae(dataTest.Count, dataTrain.Count[maxCorIndex + M: maxCorIndex + 2 * M ] * k + offset)"
   ]
  },
  {
   "cell_type": "code",
   "execution_count": 7,
   "metadata": {
    "collapsed": false
   },
   "outputs": [
    {
     "data": {
      "text/plain": [
       "22.733333333333334"
      ]
     },
     "execution_count": 7,
     "metadata": {},
     "output_type": "execute_result"
    }
   ],
   "source": [
    "mae(dataTest.Count, dataTrain.Count[maxCorIndex + M: maxCorIndex + 2 * M])"
   ]
  },
  {
   "cell_type": "code",
   "execution_count": null,
   "metadata": {
    "collapsed": false
   },
   "outputs": [],
   "source": []
  },
  {
   "cell_type": "code",
   "execution_count": null,
   "metadata": {
    "collapsed": true
   },
   "outputs": [],
   "source": []
  },
  {
   "cell_type": "code",
   "execution_count": null,
   "metadata": {
    "collapsed": true
   },
   "outputs": [],
   "source": []
  },
  {
   "cell_type": "code",
   "execution_count": null,
   "metadata": {
    "collapsed": true
   },
   "outputs": [],
   "source": []
  }
 ],
 "metadata": {
  "kernelspec": {
   "display_name": "Python 2",
   "language": "python",
   "name": "python2"
  },
  "language_info": {
   "codemirror_mode": {
    "name": "ipython",
    "version": 2
   },
   "file_extension": ".py",
   "mimetype": "text/x-python",
   "name": "python",
   "nbconvert_exporter": "python",
   "pygments_lexer": "ipython2",
   "version": "2.7.6"
  }
 },
 "nbformat": 4,
 "nbformat_minor": 1
}
