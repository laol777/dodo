{
 "cells": [
  {
   "cell_type": "code",
   "execution_count": 2,
   "metadata": {
    "collapsed": false
   },
   "outputs": [],
   "source": [
    "import pandas as pd\n",
    "import numpy as np\n",
    "import sklearn\n",
    "import sklearn.linear_model\n",
    "from sklearn.linear_model import LinearRegression\n",
    "from sklearn.ensemble import RandomForestRegressor\n",
    "from sklearn.cross_validation import KFold\n",
    "from sklearn.metrics import mean_absolute_error as mae\n",
    "from __future__ import division\n",
    "from sklearn.linear_model import Ridge"
   ]
  },
  {
   "cell_type": "code",
   "execution_count": 3,
   "metadata": {
    "collapsed": false
   },
   "outputs": [],
   "source": [
    "features = pd.read_csv('data_transform/all.csv')"
   ]
  },
  {
   "cell_type": "code",
   "execution_count": 3,
   "metadata": {
    "collapsed": false
   },
   "outputs": [],
   "source": [
    "remove_column = ['IsTest', 'IsTrain', 'IsValidation', 'Date', 'Point', 'CityName', 'FirstOrder']"
   ]
  },
  {
   "cell_type": "code",
   "execution_count": 4,
   "metadata": {
    "collapsed": false
   },
   "outputs": [],
   "source": [
    "data = features.fillna(100000000)"
   ]
  },
  {
   "cell_type": "code",
   "execution_count": 5,
   "metadata": {
    "collapsed": false
   },
   "outputs": [],
   "source": [
    "dataTrain = data[data.IsTrain == 1]\n",
    "dataTrain = dataTrain[dataTrain.columns.difference(remove_column)]\n",
    "\n",
    "dataValidation =  data[data.IsValidation == 1]\n",
    "dataValidation = dataValidation[dataValidation.columns.difference(remove_column)]\n",
    "\n",
    "X_test = dataValidation[dataValidation.columns.difference(['Count'])]\n",
    "y_test = dataValidation.Count"
   ]
  },
  {
   "cell_type": "code",
   "execution_count": 5,
   "metadata": {
    "collapsed": false
   },
   "outputs": [],
   "source": []
  },
  {
   "cell_type": "code",
   "execution_count": 6,
   "metadata": {
    "collapsed": false
   },
   "outputs": [],
   "source": [
    "currentColumn = dataTrain.columns"
   ]
  },
  {
   "cell_type": "code",
   "execution_count": 7,
   "metadata": {
    "collapsed": false
   },
   "outputs": [],
   "source": [
    "def trainModelTestTrainSplit(data, model):\n",
    "    c = data.columns.difference(['Count'])\n",
    "    X_train, X_test, y_train, y_test = sklearn.cross_validation.train_test_split(data[c], data['Count'], test_size=0.3)\n",
    "    #model.verbose=1\n",
    "    model.fit(X_train.as_matrix(), y_train.as_matrix())\n",
    "    pred = model.predict(X_test)\n",
    "    #print (\"result on train \" + str(mae(pred, y_test)))\n",
    "    return model"
   ]
  },
  {
   "cell_type": "code",
   "execution_count": 8,
   "metadata": {
    "collapsed": false
   },
   "outputs": [],
   "source": [
    "def fitOnTrainCheckOnVal(dataTrain, dataValidation, model):\n",
    "    model = trainModelTestTrainSplit(dataTrain, model)\n",
    "\n",
    "    X_test = dataValidation[dataValidation.columns.difference(['Count'])]\n",
    "    y_test = dataValidation.Count\n",
    "\n",
    "    pred = model.predict(X_test)\n",
    "    return (mae(pred, y_test))"
   ]
  },
  {
   "cell_type": "code",
   "execution_count": 9,
   "metadata": {
    "collapsed": false
   },
   "outputs": [],
   "source": [
    "def trainModelKfoldOnValidation(dataTrain, dataValidation, model, countFold = 5):\n",
    "    meanMae = 0\n",
    "    \n",
    "    c = dataTrain.columns.difference(['Count'])\n",
    "    kf = KFold(len(dataTrain), n_folds=countFold, shuffle=True)\n",
    "    \n",
    "    X_valid = dataValidation[c]\n",
    "    y_valid = dataValidation.Count\n",
    "    \n",
    "    for train_index, test_index in kf:\n",
    "        X_train, X_test = dataTrain[c].iloc[train_index], dataTrain[c].iloc[test_index]\n",
    "        y_train, y_test = dataTrain['Count'].iloc[train_index], dataTrain['Count'].iloc[test_index]\n",
    "        model.fit(X_train.as_matrix(), y_train.as_matrix())\n",
    "        pred = model.predict(X_valid)\n",
    "        #print (mae(pred, y_valid))\n",
    "        meanMae += mae(pred, y_valid)\n",
    "    meanMae /= countFold\n",
    "    #print (\"result \", meanMae)\n",
    "    return meanMae"
   ]
  },
  {
   "cell_type": "code",
   "execution_count": 10,
   "metadata": {
    "collapsed": false
   },
   "outputs": [],
   "source": [
    "def RemoveTrash(dataTrain, dataValidation, model):\n",
    "    features = pd.read_csv('data_transform/all.csv')\n",
    "    column = features.columns\n",
    "    remove_column = ['IsTest', 'IsTrain', 'IsValidation', 'Date', 'Point', 'CityName', 'FirstOrder']\n",
    "    column = column.difference(remove_column)\n",
    "\n",
    "    startScore = 10000000000000000000000000000000000000000\n",
    "    localScore = 100000\n",
    "\n",
    "    while (localScore < startScore):\n",
    "        name = \"None\"\n",
    "        prevStartScore = startScore\n",
    "        startScore = trainModelKfoldOnValidation(dataTrain[column], dataValidation[column], model)\n",
    "        localScore = startScore\n",
    "        print \"Coef between pasted baseline and current \" + str(prevStartScore / startScore) \n",
    "        if( (prevStartScore / startScore) < 0.98):\n",
    "            return column\n",
    "        \n",
    "        \n",
    "        for i in column:\n",
    "            if(i == 'Count'):\n",
    "                continue\n",
    "            c = column.difference([i])\n",
    "            res = fitOnTrainCheckOnVal(dataTrain[c], dataValidation[c], model)\n",
    "            if(res < localScore):\n",
    "                localScore = res\n",
    "                name = i\n",
    "            print i,\n",
    "        if(localScore < startScore):\n",
    "            column = column.drop(name)\n",
    "        print \"\"\n",
    "        print \"|_end iteration_| start score: \" + str(startScore) + \", end score: \" + str(localScore) + \", name feature: \" + name\n",
    "    return column"
   ]
  },
  {
   "cell_type": "code",
   "execution_count": 10,
   "metadata": {
    "collapsed": false
   },
   "outputs": [],
   "source": []
  },
  {
   "cell_type": "code",
   "execution_count": 11,
   "metadata": {
    "collapsed": false
   },
   "outputs": [
    {
     "name": "stdout",
     "output_type": "stream",
     "text": [
      "Coef between pasted baseline and current 1.00000110466e+32\n",
      "BranchNumber CityID MeanForMonth MeanForMonthByPoints MeanForMonthDay MeanForMonthDayByPoints MeanForThroughDay MeanForThroughDayByPoints MeanForThroughMonth MeanForThroughMonthByPoints MeanForThroughWeek MeanForThroughWeekByPoints MeanForWeekDay MeanForWeekDayByPoints MeanForYear MeanForYearByPoints MeanForYearDay MeanForYearDayByPoints Month MonthDay ThroughDay ThroughMonth ThroughWeek WeekDay Year YearDay \n",
      "|_end iteration_| start score: 99999889.5338, end score: 29644148.4493, name feature: MeanForThroughDayByPoints\n",
      "Coef between pasted baseline and current 3.46158329857\n",
      "BranchNumber CityID MeanForMonth MeanForMonthByPoints MeanForMonthDay MeanForMonthDayByPoints MeanForThroughDay MeanForThroughMonth MeanForThroughMonthByPoints MeanForThroughWeek MeanForThroughWeekByPoints MeanForWeekDay MeanForWeekDayByPoints MeanForYear MeanForYearByPoints MeanForYearDay MeanForYearDayByPoints Month MonthDay ThroughDay ThroughMonth ThroughWeek WeekDay Year YearDay \n",
      "|_end iteration_| start score: 28888482.7862, end score: 402410.7958, name feature: MeanForYearDayByPoints\n",
      "Coef between pasted baseline and current 70.1918489928\n",
      "BranchNumber CityID MeanForMonth MeanForMonthByPoints MeanForMonthDay MeanForMonthDayByPoints MeanForThroughDay MeanForThroughMonth MeanForThroughMonthByPoints MeanForThroughWeek MeanForThroughWeekByPoints MeanForWeekDay MeanForWeekDayByPoints MeanForYear MeanForYearByPoints MeanForYearDay Month MonthDay ThroughDay ThroughMonth ThroughWeek WeekDay Year YearDay \n",
      "|_end iteration_| start score: 411564.636075, end score: 170564.987935, name feature: MeanForThroughDay\n",
      "Coef between pasted baseline and current 2.42115886123\n",
      "BranchNumber CityID MeanForMonth MeanForMonthByPoints MeanForMonthDay MeanForMonthDayByPoints MeanForThroughMonth MeanForThroughMonthByPoints MeanForThroughWeek MeanForThroughWeekByPoints MeanForWeekDay MeanForWeekDayByPoints MeanForYear MeanForYearByPoints MeanForYearDay Month MonthDay ThroughDay ThroughMonth ThroughWeek WeekDay Year YearDay \n",
      "|_end iteration_| start score: 169986.630232, end score: 25837.5906297, name feature: MeanForThroughWeekByPoints\n",
      "Coef between pasted baseline and current 3.8025476421\n",
      "BranchNumber CityID MeanForMonth MeanForMonthByPoints MeanForMonthDay MeanForMonthDayByPoints MeanForThroughMonth MeanForThroughMonthByPoints MeanForThroughWeek MeanForWeekDay MeanForWeekDayByPoints MeanForYear MeanForYearByPoints MeanForYearDay Month MonthDay ThroughDay ThroughMonth ThroughWeek WeekDay Year YearDay \n",
      "|_end iteration_| start score: 44703.3531808, end score: 20.0237598867, name feature: MeanForMonthDayByPoints\n",
      "Coef between pasted baseline and current 2229.97663232\n",
      "BranchNumber CityID MeanForMonth MeanForMonthByPoints MeanForMonthDay MeanForThroughMonth MeanForThroughMonthByPoints MeanForThroughWeek MeanForWeekDay MeanForWeekDayByPoints MeanForYear MeanForYearByPoints MeanForYearDay Month MonthDay ThroughDay ThroughMonth ThroughWeek WeekDay Year YearDay \n",
      "|_end iteration_| start score: 20.0465567813, end score: 19.952054017, name feature: MeanForMonth\n",
      "Coef between pasted baseline and current 1.00015802091\n",
      "BranchNumber CityID MeanForMonthByPoints MeanForMonthDay MeanForThroughMonth MeanForThroughMonthByPoints MeanForThroughWeek MeanForWeekDay MeanForWeekDayByPoints MeanForYear MeanForYearByPoints MeanForYearDay Month MonthDay ThroughDay ThroughMonth ThroughWeek WeekDay Year YearDay \n",
      "|_end iteration_| start score: 20.0433895066, end score: 19.946350985, name feature: BranchNumber\n",
      "Coef between pasted baseline and current 0.99978048244\n",
      "CityID MeanForMonthByPoints MeanForMonthDay MeanForThroughMonth MeanForThroughMonthByPoints MeanForThroughWeek MeanForWeekDay MeanForWeekDayByPoints MeanForYear MeanForYearByPoints MeanForYearDay Month MonthDay ThroughDay ThroughMonth ThroughWeek WeekDay Year YearDay \n",
      "|_end iteration_| start score: 20.0477903486, end score: 19.992359966, name feature: ThroughMonth\n",
      "Coef between pasted baseline and current 1.00006092566\n",
      "CityID MeanForMonthByPoints MeanForMonthDay MeanForThroughMonth MeanForThroughMonthByPoints MeanForThroughWeek MeanForWeekDay MeanForWeekDayByPoints MeanForYear MeanForYearByPoints MeanForYearDay Month MonthDay ThroughDay ThroughWeek WeekDay Year YearDay \n",
      "|_end iteration_| start score: 20.0465689981, end score: 19.9866539458, name feature: MeanForThroughWeek\n",
      "Coef between pasted baseline and current 1.00037748351\n",
      "CityID MeanForMonthByPoints MeanForMonthDay MeanForThroughMonth MeanForThroughMonthByPoints MeanForWeekDay MeanForWeekDayByPoints MeanForYear MeanForYearByPoints MeanForYearDay Month MonthDay ThroughDay ThroughWeek WeekDay Year YearDay \n",
      "|_end iteration_| start score: 20.0390046044, end score: 20.0129276443, name feature: MeanForYear\n",
      "Coef between pasted baseline and current 0.99922317173\n",
      "CityID MeanForMonthByPoints MeanForMonthDay MeanForThroughMonth MeanForThroughMonthByPoints MeanForWeekDay MeanForWeekDayByPoints MeanForYearByPoints MeanForYearDay Month MonthDay ThroughDay ThroughWeek WeekDay Year YearDay \n",
      "|_end iteration_| start score: 20.0545835719, end score: 20.0123569547, name feature: CityID\n",
      "Coef between pasted baseline and current 0.999764272905\n",
      "MeanForMonthByPoints MeanForMonthDay MeanForThroughMonth MeanForThroughMonthByPoints MeanForWeekDay MeanForWeekDayByPoints MeanForYearByPoints MeanForYearDay Month MonthDay ThroughDay ThroughWeek WeekDay Year YearDay \n",
      "|_end iteration_| start score: 20.0593120952, end score: 20.007655884, name feature: Month\n",
      "Coef between pasted baseline and current 1.00009100861\n",
      "MeanForMonthByPoints MeanForMonthDay MeanForThroughMonth MeanForThroughMonthByPoints MeanForWeekDay MeanForWeekDayByPoints MeanForYearByPoints MeanForYearDay MonthDay ThroughDay ThroughWeek WeekDay Year YearDay \n",
      "|_end iteration_| start score: 20.0574866913, end score: 20.0088364072, name feature: MonthDay\n",
      "Coef between pasted baseline and current 0.999896915356\n",
      "MeanForMonthByPoints MeanForMonthDay MeanForThroughMonth MeanForThroughMonthByPoints MeanForWeekDay MeanForWeekDayByPoints MeanForYearByPoints MeanForYearDay ThroughDay ThroughWeek WeekDay Year YearDay \n",
      "|_end iteration_| start score: 20.0595545234, end score: 20.0050123221, name feature: ThroughWeek\n",
      "Coef between pasted baseline and current 1.00000871721\n",
      "MeanForMonthByPoints MeanForMonthDay MeanForThroughMonth MeanForThroughMonthByPoints MeanForWeekDay MeanForWeekDayByPoints MeanForYearByPoints MeanForYearDay ThroughDay WeekDay Year YearDay \n",
      "|_end iteration_| start score: 20.0593796616, end score: 20.0228373268, name feature: YearDay\n",
      "Coef between pasted baseline and current 1.00007045342\n",
      "MeanForMonthByPoints MeanForMonthDay MeanForThroughMonth MeanForThroughMonthByPoints MeanForWeekDay MeanForWeekDayByPoints MeanForYearByPoints MeanForYearDay ThroughDay WeekDay Year \n",
      "|_end iteration_| start score: 20.0579665093, end score: 20.0013373223, name feature: MeanForYearByPoints\n",
      "Coef between pasted baseline and current 1.00021708457\n",
      "MeanForMonthByPoints MeanForMonthDay MeanForThroughMonth MeanForThroughMonthByPoints MeanForWeekDay MeanForWeekDayByPoints MeanForYearDay ThroughDay WeekDay Year \n",
      "|_end iteration_| start score: 20.0536131793, end score: 20.0399707023, name feature: Year\n",
      "Coef between pasted baseline and current 0.999872215785\n",
      "MeanForMonthByPoints MeanForMonthDay MeanForThroughMonth MeanForThroughMonthByPoints MeanForWeekDay MeanForWeekDayByPoints MeanForYearDay ThroughDay WeekDay \n",
      "|_end iteration_| start score: 20.056176042, end score: 20.0454004257, name feature: MeanForThroughMonth\n",
      "Coef between pasted baseline and current 1.0000147582\n",
      "MeanForMonthByPoints MeanForMonthDay MeanForThroughMonthByPoints MeanForWeekDay MeanForWeekDayByPoints MeanForYearDay ThroughDay WeekDay \n",
      "|_end iteration_| start score: 20.0558800533, end score: 20.0558800533, name feature: None\n"
     ]
    }
   ],
   "source": [
    "column = RemoveTrash(dataTrain, dataValidation, Ridge())"
   ]
  },
  {
   "cell_type": "code",
   "execution_count": 18,
   "metadata": {
    "collapsed": false
   },
   "outputs": [
    {
     "name": "stdout",
     "output_type": "stream",
     "text": [
      " Coef between pasted baseline and current 1.00000105768e+32\n",
      "BranchNumber CityID MeanForMonth MeanForMonthByPoints MeanForMonthDay MeanForMonthDayByPoints MeanForThroughDay MeanForThroughDayByPoints MeanForThroughMonth MeanForThroughMonthByPoints MeanForThroughWeek MeanForThroughWeekByPoints MeanForWeekDay MeanForWeekDayByPoints MeanForYear MeanForYearByPoints MeanForYearDay MeanForYearDayByPoints Month MonthDay ThroughDay ThroughMonth ThroughWeek WeekDay Year YearDay lat lng \n",
      "|_end iteration_| start score: 99999894.2325, end score: None, name feature: BranchNumber\n",
      "Coef between pasted baseline and current 0.999999997655\n",
      "CityID MeanForMonth MeanForMonthByPoints MeanForMonthDay MeanForMonthDayByPoints MeanForThroughDay MeanForThroughDayByPoints MeanForThroughMonth MeanForThroughMonthByPoints MeanForThroughWeek MeanForThroughWeekByPoints MeanForWeekDay MeanForWeekDayByPoints MeanForYear MeanForYearByPoints MeanForYearDay MeanForYearDayByPoints Month MonthDay ThroughDay ThroughMonth ThroughWeek"
     ]
    },
    {
     "ename": "KeyboardInterrupt",
     "evalue": "",
     "output_type": "error",
     "traceback": [
      "\u001b[0;31m---------------------------------------------------------------------------\u001b[0m\n\u001b[0;31mKeyboardInterrupt\u001b[0m                         Traceback (most recent call last)",
      "\u001b[0;32m<ipython-input-18-e5b0a41a496e>\u001b[0m in \u001b[0;36m<module>\u001b[0;34m()\u001b[0m\n\u001b[0;32m----> 1\u001b[0;31m \u001b[0mcolumn\u001b[0m \u001b[0;34m=\u001b[0m \u001b[0mRemoveTrash\u001b[0m\u001b[0;34m(\u001b[0m\u001b[0mdataTrain\u001b[0m\u001b[0;34m,\u001b[0m \u001b[0mdataValidation\u001b[0m\u001b[0;34m,\u001b[0m \u001b[0msklearn\u001b[0m\u001b[0;34m.\u001b[0m\u001b[0mlinear_model\u001b[0m\u001b[0;34m.\u001b[0m\u001b[0mBayesianRidge\u001b[0m\u001b[0;34m(\u001b[0m\u001b[0;34m)\u001b[0m\u001b[0;34m)\u001b[0m\u001b[0;34m\u001b[0m\u001b[0m\n\u001b[0m",
      "\u001b[0;32m<ipython-input-16-ac6421a3b7ff>\u001b[0m in \u001b[0;36mRemoveTrash\u001b[0;34m(dataTrain, dataValidation, model)\u001b[0m\n\u001b[1;32m     22\u001b[0m                 \u001b[0;32mcontinue\u001b[0m\u001b[0;34m\u001b[0m\u001b[0m\n\u001b[1;32m     23\u001b[0m             \u001b[0mc\u001b[0m \u001b[0;34m=\u001b[0m \u001b[0mcolumn\u001b[0m\u001b[0;34m.\u001b[0m\u001b[0mdifference\u001b[0m\u001b[0;34m(\u001b[0m\u001b[0;34m[\u001b[0m\u001b[0mi\u001b[0m\u001b[0;34m]\u001b[0m\u001b[0;34m)\u001b[0m\u001b[0;34m\u001b[0m\u001b[0m\n\u001b[0;32m---> 24\u001b[0;31m             \u001b[0mres\u001b[0m \u001b[0;34m=\u001b[0m \u001b[0mfitOnTrainCheckOnVal\u001b[0m\u001b[0;34m(\u001b[0m\u001b[0mdataTrain\u001b[0m\u001b[0;34m[\u001b[0m\u001b[0mc\u001b[0m\u001b[0;34m]\u001b[0m\u001b[0;34m,\u001b[0m \u001b[0mdataValidation\u001b[0m\u001b[0;34m[\u001b[0m\u001b[0mc\u001b[0m\u001b[0;34m]\u001b[0m\u001b[0;34m,\u001b[0m \u001b[0mmodel\u001b[0m\u001b[0;34m)\u001b[0m\u001b[0;34m\u001b[0m\u001b[0m\n\u001b[0m\u001b[1;32m     25\u001b[0m             \u001b[0;32mif\u001b[0m\u001b[0;34m(\u001b[0m\u001b[0mres\u001b[0m \u001b[0;34m<\u001b[0m \u001b[0mlocalScore\u001b[0m\u001b[0;34m)\u001b[0m\u001b[0;34m:\u001b[0m\u001b[0;34m\u001b[0m\u001b[0m\n\u001b[1;32m     26\u001b[0m                 \u001b[0mlocalScore\u001b[0m \u001b[0;34m=\u001b[0m \u001b[0mres\u001b[0m\u001b[0;34m\u001b[0m\u001b[0m\n",
      "\u001b[0;32m<ipython-input-8-19eb22512c15>\u001b[0m in \u001b[0;36mfitOnTrainCheckOnVal\u001b[0;34m(dataTrain, dataValidation, model)\u001b[0m\n\u001b[1;32m      1\u001b[0m \u001b[0;32mdef\u001b[0m \u001b[0mfitOnTrainCheckOnVal\u001b[0m\u001b[0;34m(\u001b[0m\u001b[0mdataTrain\u001b[0m\u001b[0;34m,\u001b[0m \u001b[0mdataValidation\u001b[0m\u001b[0;34m,\u001b[0m \u001b[0mmodel\u001b[0m\u001b[0;34m)\u001b[0m\u001b[0;34m:\u001b[0m\u001b[0;34m\u001b[0m\u001b[0m\n\u001b[0;32m----> 2\u001b[0;31m     \u001b[0mmodel\u001b[0m \u001b[0;34m=\u001b[0m \u001b[0mtrainModelTestTrainSplit\u001b[0m\u001b[0;34m(\u001b[0m\u001b[0mdataTrain\u001b[0m\u001b[0;34m,\u001b[0m \u001b[0mmodel\u001b[0m\u001b[0;34m)\u001b[0m\u001b[0;34m\u001b[0m\u001b[0m\n\u001b[0m\u001b[1;32m      3\u001b[0m \u001b[0;34m\u001b[0m\u001b[0m\n\u001b[1;32m      4\u001b[0m     \u001b[0mX_test\u001b[0m \u001b[0;34m=\u001b[0m \u001b[0mdataValidation\u001b[0m\u001b[0;34m[\u001b[0m\u001b[0mdataValidation\u001b[0m\u001b[0;34m.\u001b[0m\u001b[0mcolumns\u001b[0m\u001b[0;34m.\u001b[0m\u001b[0mdifference\u001b[0m\u001b[0;34m(\u001b[0m\u001b[0;34m[\u001b[0m\u001b[0;34m'Count'\u001b[0m\u001b[0;34m]\u001b[0m\u001b[0;34m)\u001b[0m\u001b[0;34m]\u001b[0m\u001b[0;34m\u001b[0m\u001b[0m\n\u001b[1;32m      5\u001b[0m     \u001b[0my_test\u001b[0m \u001b[0;34m=\u001b[0m \u001b[0mdataValidation\u001b[0m\u001b[0;34m.\u001b[0m\u001b[0mCount\u001b[0m\u001b[0;34m\u001b[0m\u001b[0m\n",
      "\u001b[0;32m<ipython-input-7-a0ab9f22c7c8>\u001b[0m in \u001b[0;36mtrainModelTestTrainSplit\u001b[0;34m(data, model)\u001b[0m\n\u001b[1;32m      3\u001b[0m     \u001b[0mX_train\u001b[0m\u001b[0;34m,\u001b[0m \u001b[0mX_test\u001b[0m\u001b[0;34m,\u001b[0m \u001b[0my_train\u001b[0m\u001b[0;34m,\u001b[0m \u001b[0my_test\u001b[0m \u001b[0;34m=\u001b[0m \u001b[0msklearn\u001b[0m\u001b[0;34m.\u001b[0m\u001b[0mcross_validation\u001b[0m\u001b[0;34m.\u001b[0m\u001b[0mtrain_test_split\u001b[0m\u001b[0;34m(\u001b[0m\u001b[0mdata\u001b[0m\u001b[0;34m[\u001b[0m\u001b[0mc\u001b[0m\u001b[0;34m]\u001b[0m\u001b[0;34m,\u001b[0m \u001b[0mdata\u001b[0m\u001b[0;34m[\u001b[0m\u001b[0;34m'Count'\u001b[0m\u001b[0;34m]\u001b[0m\u001b[0;34m,\u001b[0m \u001b[0mtest_size\u001b[0m\u001b[0;34m=\u001b[0m\u001b[0;36m0.3\u001b[0m\u001b[0;34m)\u001b[0m\u001b[0;34m\u001b[0m\u001b[0m\n\u001b[1;32m      4\u001b[0m     \u001b[0;31m#model.verbose=1\u001b[0m\u001b[0;34m\u001b[0m\u001b[0;34m\u001b[0m\u001b[0m\n\u001b[0;32m----> 5\u001b[0;31m     \u001b[0mmodel\u001b[0m\u001b[0;34m.\u001b[0m\u001b[0mfit\u001b[0m\u001b[0;34m(\u001b[0m\u001b[0mX_train\u001b[0m\u001b[0;34m.\u001b[0m\u001b[0mas_matrix\u001b[0m\u001b[0;34m(\u001b[0m\u001b[0;34m)\u001b[0m\u001b[0;34m,\u001b[0m \u001b[0my_train\u001b[0m\u001b[0;34m.\u001b[0m\u001b[0mas_matrix\u001b[0m\u001b[0;34m(\u001b[0m\u001b[0;34m)\u001b[0m\u001b[0;34m)\u001b[0m\u001b[0;34m\u001b[0m\u001b[0m\n\u001b[0m\u001b[1;32m      6\u001b[0m     \u001b[0mpred\u001b[0m \u001b[0;34m=\u001b[0m \u001b[0mmodel\u001b[0m\u001b[0;34m.\u001b[0m\u001b[0mpredict\u001b[0m\u001b[0;34m(\u001b[0m\u001b[0mX_test\u001b[0m\u001b[0;34m)\u001b[0m\u001b[0;34m\u001b[0m\u001b[0m\n\u001b[1;32m      7\u001b[0m     \u001b[0;31m#print (\"result on train \" + str(mae(pred, y_test)))\u001b[0m\u001b[0;34m\u001b[0m\u001b[0;34m\u001b[0m\u001b[0m\n",
      "\u001b[0;32m/usr/local/lib/python2.7/dist-packages/sklearn/linear_model/bayes.pyc\u001b[0m in \u001b[0;36mfit\u001b[0;34m(self, X, y)\u001b[0m\n\u001b[1;32m    161\u001b[0m \u001b[0;34m\u001b[0m\u001b[0m\n\u001b[1;32m    162\u001b[0m         \u001b[0mXT_y\u001b[0m \u001b[0;34m=\u001b[0m \u001b[0mnp\u001b[0m\u001b[0;34m.\u001b[0m\u001b[0mdot\u001b[0m\u001b[0;34m(\u001b[0m\u001b[0mX\u001b[0m\u001b[0;34m.\u001b[0m\u001b[0mT\u001b[0m\u001b[0;34m,\u001b[0m \u001b[0my\u001b[0m\u001b[0;34m)\u001b[0m\u001b[0;34m\u001b[0m\u001b[0m\n\u001b[0;32m--> 163\u001b[0;31m         \u001b[0mU\u001b[0m\u001b[0;34m,\u001b[0m \u001b[0mS\u001b[0m\u001b[0;34m,\u001b[0m \u001b[0mVh\u001b[0m \u001b[0;34m=\u001b[0m \u001b[0mlinalg\u001b[0m\u001b[0;34m.\u001b[0m\u001b[0msvd\u001b[0m\u001b[0;34m(\u001b[0m\u001b[0mX\u001b[0m\u001b[0;34m,\u001b[0m \u001b[0mfull_matrices\u001b[0m\u001b[0;34m=\u001b[0m\u001b[0mFalse\u001b[0m\u001b[0;34m)\u001b[0m\u001b[0;34m\u001b[0m\u001b[0m\n\u001b[0m\u001b[1;32m    164\u001b[0m         \u001b[0meigen_vals_\u001b[0m \u001b[0;34m=\u001b[0m \u001b[0mS\u001b[0m \u001b[0;34m**\u001b[0m \u001b[0;36m2\u001b[0m\u001b[0;34m\u001b[0m\u001b[0m\n\u001b[1;32m    165\u001b[0m \u001b[0;34m\u001b[0m\u001b[0m\n",
      "\u001b[0;32m/usr/lib/python2.7/dist-packages/scipy/linalg/decomp_svd.pyc\u001b[0m in \u001b[0;36msvd\u001b[0;34m(a, full_matrices, compute_uv, overwrite_a, check_finite)\u001b[0m\n\u001b[1;32m    100\u001b[0m     \u001b[0;31m# perform decomposition\u001b[0m\u001b[0;34m\u001b[0m\u001b[0;34m\u001b[0m\u001b[0m\n\u001b[1;32m    101\u001b[0m     u,s,v,info = gesdd(a1, compute_uv=compute_uv, lwork=lwork,\n\u001b[0;32m--> 102\u001b[0;31m                        full_matrices=full_matrices, overwrite_a=overwrite_a)\n\u001b[0m\u001b[1;32m    103\u001b[0m \u001b[0;34m\u001b[0m\u001b[0m\n\u001b[1;32m    104\u001b[0m     \u001b[0;32mif\u001b[0m \u001b[0minfo\u001b[0m \u001b[0;34m>\u001b[0m \u001b[0;36m0\u001b[0m\u001b[0;34m:\u001b[0m\u001b[0;34m\u001b[0m\u001b[0m\n",
      "\u001b[0;31mKeyboardInterrupt\u001b[0m: "
     ]
    }
   ],
   "source": [
    "column = RemoveTrash(dataTrain, dataValidation, sklearn.linear_model.BayesianRidge())"
   ]
  },
  {
   "cell_type": "code",
   "execution_count": 225,
   "metadata": {
    "collapsed": false
   },
   "outputs": [
    {
     "name": "stdout",
     "output_type": "stream",
     "text": [
      "10002.5404826\n",
      "BranchNumber CityID MeanForMonth MeanForMonthByPoints MeanForMonthDay MeanForMonthDayByPoints MeanForThroughDay MeanForThroughDayByPoints MeanForThroughMonth MeanForThroughMonthByPoints MeanForThroughWeek MeanForThroughWeekByPoints MeanForWeekDay MeanForWeekDayByPoints MeanForYear MeanForYearByPoints MeanForYearDay MeanForYearDayByPoints Month MonthDay ThroughDay ThroughMonth ThroughWeek WeekDay Year YearDay lat lng \n",
      "|_end iteration_| start score: 99974601.6267, end score: 29823154.2782, name feature: MeanForThroughDayByPoints\n",
      "3.32924409581\n",
      "BranchNumber CityID MeanForMonth MeanForMonthByPoints MeanForMonthDay MeanForMonthDayByPoints MeanForThroughDay MeanForThroughMonth MeanForThroughMonthByPoints MeanForThroughWeek MeanForThroughWeekByPoints MeanForWeekDay MeanForWeekDayByPoints MeanForYear MeanForYearByPoints MeanForYearDay MeanForYearDayByPoints Month MonthDay ThroughDay ThroughMonth ThroughWeek WeekDay Year YearDay lat lng \n",
      "|_end iteration_| start score: 30029219.4713, end score: 317032.704251, name feature: MeanForYearDayByPoints\n",
      "97.4629295426\n",
      "BranchNumber CityID MeanForMonth MeanForMonthByPoints MeanForMonthDay MeanForMonthDayByPoints MeanForThroughDay MeanForThroughMonth MeanForThroughMonthByPoints MeanForThroughWeek MeanForThroughWeekByPoints MeanForWeekDay MeanForWeekDayByPoints MeanForYear MeanForYearByPoints MeanForYearDay Month MonthDay ThroughDay ThroughMonth ThroughWeek WeekDay Year YearDay lat lng \n",
      "|_end iteration_| start score: 308109.140698, end score: 73462.205512, name feature: MeanForThroughDay\n",
      "3.65777211965\n",
      "BranchNumber CityID MeanForMonth MeanForMonthByPoints MeanForMonthDay MeanForMonthDayByPoints MeanForThroughMonth MeanForThroughMonthByPoints MeanForThroughWeek MeanForThroughWeekByPoints MeanForWeekDay MeanForWeekDayByPoints MeanForYear MeanForYearByPoints MeanForYearDay Month MonthDay ThroughDay ThroughMonth ThroughWeek WeekDay Year YearDay lat lng \n",
      "|_end iteration_| start score: 84234.0995063, end score: 44680.7431199, name feature: MeanForThroughWeekByPoints\n",
      "1.94841859008\n",
      "BranchNumber CityID MeanForMonth MeanForMonthByPoints MeanForMonthDay MeanForMonthDayByPoints MeanForThroughMonth MeanForThroughMonthByPoints MeanForThroughWeek MeanForWeekDay MeanForWeekDayByPoints MeanForYear MeanForYearByPoints MeanForYearDay Month MonthDay ThroughDay ThroughMonth ThroughWeek WeekDay Year YearDay lat lng \n",
      "|_end iteration_| start score: 43232.0343972, end score: 14747.5913088, name feature: MeanForMonthDayByPoints\n",
      "2.99297568175\n",
      "BranchNumber CityID MeanForMonth MeanForMonthByPoints MeanForMonthDay MeanForThroughMonth MeanForThroughMonthByPoints MeanForThroughWeek MeanForWeekDay MeanForWeekDayByPoints MeanForYear MeanForYearByPoints MeanForYearDay Month MonthDay ThroughDay ThroughMonth ThroughWeek WeekDay Year YearDay lat lng \n",
      "|_end iteration_| start score: 14444.4990518, end score: 7732.4060497, name feature: MeanForThroughMonthByPoints\n",
      "1.81927482895\n",
      "BranchNumber CityID MeanForMonth MeanForMonthByPoints MeanForMonthDay MeanForThroughMonth MeanForThroughWeek MeanForWeekDay MeanForWeekDayByPoints MeanForYear MeanForYearByPoints MeanForYearDay Month MonthDay ThroughDay ThroughMonth ThroughWeek WeekDay Year YearDay lat lng \n",
      "|_end iteration_| start score: 7939.70147996, end score: 6472.45611854, name feature: MeanForMonth\n",
      "1.06270104681\n",
      "BranchNumber CityID MeanForMonthByPoints MeanForMonthDay MeanForThroughMonth MeanForThroughWeek MeanForWeekDay MeanForWeekDayByPoints MeanForYear MeanForYearByPoints MeanForYearDay Month MonthDay ThroughDay ThroughMonth ThroughWeek WeekDay Year YearDay lat lng \n",
      "|_end iteration_| start score: 7471.24650321, end score: 5980.70168086, name feature: MeanForThroughMonth\n",
      "1.14735736008\n",
      "BranchNumber CityID MeanForMonthByPoints MeanForMonthDay MeanForThroughWeek MeanForWeekDay MeanForWeekDayByPoints MeanForYear MeanForYearByPoints MeanForYearDay Month MonthDay ThroughDay ThroughMonth ThroughWeek WeekDay Year YearDay lat lng \n",
      "|_end iteration_| start score: 6511.69963532, end score: 23.429645107, name feature: MeanForThroughWeek\n",
      "277.042385978\n",
      "BranchNumber CityID MeanForMonthByPoints MeanForMonthDay MeanForWeekDay MeanForWeekDayByPoints MeanForYear MeanForYearByPoints MeanForYearDay Month MonthDay ThroughDay ThroughMonth ThroughWeek WeekDay Year YearDay lat lng \n",
      "|_end iteration_| start score: 23.5043443346, end score: 23.436718811, name feature: MonthDay\n",
      "1.00152116875\n",
      "BranchNumber CityID MeanForMonthByPoints MeanForMonthDay MeanForWeekDay MeanForWeekDayByPoints MeanForYear MeanForYearByPoints MeanForYearDay Month ThroughDay ThroughMonth ThroughWeek WeekDay Year YearDay lat lng \n",
      "|_end iteration_| start score: 23.4686445659, end score: 23.4188172892, name feature: MeanForMonthByPoints\n",
      "1.00187389737\n",
      "BranchNumber CityID MeanForMonthDay MeanForWeekDay MeanForWeekDayByPoints MeanForYear MeanForYearByPoints MeanForYearDay Month ThroughDay ThroughMonth ThroughWeek WeekDay Year YearDay lat lng \n",
      "|_end iteration_| start score: 23.4247489904, end score: 23.4029235969, name feature: BranchNumber\n",
      "0.999370141845\n",
      "CityID MeanForMonthDay MeanForWeekDay MeanForWeekDayByPoints MeanForYear MeanForYearByPoints MeanForYearDay Month ThroughDay ThroughMonth ThroughWeek WeekDay Year YearDay lat lng \n",
      "|_end iteration_| start score: 23.4395125585, end score: 23.4222792589, name feature: ThroughWeek\n",
      "0.997404813464\n",
      "CityID MeanForMonthDay MeanForWeekDay MeanForWeekDayByPoints MeanForYear MeanForYearByPoints MeanForYearDay Month ThroughDay ThroughMonth WeekDay Year YearDay lat lng \n",
      "|_end iteration_| start score: 23.5005007416, end score: 23.4264248545, name feature: ThroughMonth\n",
      "1.00313142331\n",
      "CityID MeanForMonthDay MeanForWeekDay MeanForWeekDayByPoints MeanForYear MeanForYearByPoints MeanForYearDay Month ThroughDay WeekDay Year YearDay lat lng \n",
      "|_end iteration_| start score: 23.427140448, end score: 23.3701109366, name feature: Month\n",
      "0.998097928977\n",
      "CityID MeanForMonthDay MeanForWeekDay MeanForWeekDayByPoints MeanForYear MeanForYearByPoints MeanForYearDay ThroughDay WeekDay Year YearDay lat lng \n",
      "|_end iteration_| start score: 23.471785451, end score: 23.4424802403, name feature: Year\n",
      "0.999510493208\n",
      "CityID MeanForMonthDay MeanForWeekDay MeanForWeekDayByPoints MeanForYear MeanForYearByPoints MeanForYearDay ThroughDay WeekDay YearDay lat lng \n",
      "|_end iteration_| start score: 23.4832806764, end score: 23.4121287424, name feature: MeanForMonthDay\n",
      "1.00103787311\n",
      "CityID MeanForWeekDay MeanForWeekDayByPoints MeanForYear MeanForYearByPoints MeanForYearDay ThroughDay WeekDay YearDay lat lng \n",
      "|_end iteration_| start score: 23.4589332804, end score: 23.4589332804, name feature: None\n"
     ]
    },
    {
     "name": "stderr",
     "output_type": "stream",
     "text": [
      "/usr/local/lib/python2.7/dist-packages/sklearn/linear_model/coordinate_descent.py:479: ConvergenceWarning: Objective did not converge. You might want to increase the number of iterations. Fitting data with very small alpha may cause precision problems.\n",
      "  ConvergenceWarning)\n"
     ]
    }
   ],
   "source": [
    "column = RemoveTrash(dataTrain, dataValidation, sklearn.linear_model.ElasticNet())"
   ]
  },
  {
   "cell_type": "code",
   "execution_count": 22,
   "metadata": {
    "collapsed": false
   },
   "outputs": [],
   "source": []
  },
  {
   "cell_type": "code",
   "execution_count": 14,
   "metadata": {
    "collapsed": false
   },
   "outputs": [
    {
     "name": "stdout",
     "output_type": "stream",
     "text": [
      "Coef between pasted baseline and current 8.84849514138e+36\n",
      "BranchNumber CityID MeanForMonth MeanForMonthByPoints MeanForMonthDay MeanForMonthDayByPoints MeanForThroughDay MeanForThroughDayByPoints MeanForThroughMonth MeanForThroughMonthByPoints MeanForThroughWeek MeanForThroughWeekByPoints MeanForWeekDay MeanForWeekDayByPoints MeanForYear MeanForYearByPoints MeanForYearDay MeanForYearDayByPoints Month MonthDay ThroughDay ThroughMonth ThroughWeek WeekDay Year YearDay \n",
      "|_end iteration_| start score: 1130.13567169, end score: 67.3198176028, name feature: MeanForThroughDayByPoints\n",
      "Coef between pasted baseline and current 14.2328561493\n",
      "BranchNumber CityID MeanForMonth MeanForMonthByPoints MeanForMonthDay MeanForMonthDayByPoints MeanForThroughDay MeanForThroughMonth MeanForThroughMonthByPoints MeanForThroughWeek MeanForThroughWeekByPoints MeanForWeekDay MeanForWeekDayByPoints MeanForYear MeanForYearByPoints MeanForYearDay MeanForYearDayByPoints Month MonthDay ThroughDay ThroughMonth ThroughWeek WeekDay Year YearDay \n",
      "|_end iteration_| start score: 79.4032947307, end score: 19.1544441228, name feature: MeanForYearDayByPoints\n",
      "Coef between pasted baseline and current 4.24148664459\n",
      "BranchNumber CityID MeanForMonth MeanForMonthByPoints MeanForMonthDay MeanForMonthDayByPoints MeanForThroughDay MeanForThroughMonth MeanForThroughMonthByPoints MeanForThroughWeek MeanForThroughWeekByPoints MeanForWeekDay MeanForWeekDayByPoints MeanForYear MeanForYearByPoints MeanForYearDay Month MonthDay ThroughDay ThroughMonth ThroughWeek WeekDay Year YearDay \n",
      "|_end iteration_| start score: 18.7206282571, end score: 17.9906050955, name feature: MeanForThroughWeekByPoints\n",
      "Coef between pasted baseline and current 1.0494599897\n",
      "BranchNumber CityID MeanForMonth MeanForMonthByPoints MeanForMonthDay MeanForMonthDayByPoints MeanForThroughDay MeanForThroughMonth MeanForThroughMonthByPoints MeanForThroughWeek MeanForWeekDay MeanForWeekDayByPoints MeanForYear MeanForYearByPoints MeanForYearDay Month MonthDay ThroughDay ThroughMonth ThroughWeek WeekDay Year YearDay \n",
      "|_end iteration_| start score: 17.838343949, end score: 17.4554429647, name feature: MeanForMonth\n",
      "Coef between pasted baseline and current 0.997852016\n",
      "BranchNumber CityID MeanForMonthByPoints MeanForMonthDay MeanForMonthDayByPoints MeanForThroughDay MeanForThroughMonth MeanForThroughMonthByPoints MeanForThroughWeek MeanForWeekDay MeanForWeekDayByPoints MeanForYear MeanForYearByPoints MeanForYearDay Month MonthDay ThroughDay ThroughMonth ThroughWeek WeekDay Year YearDay \n",
      "|_end iteration_| start score: 17.8767429068, end score: 17.4744933411, name feature: MeanForThroughDay\n",
      "Coef between pasted baseline and current 1.02740072713\n",
      "BranchNumber CityID MeanForMonthByPoints MeanForMonthDay MeanForMonthDayByPoints MeanForThroughMonth MeanForThroughMonthByPoints MeanForThroughWeek MeanForWeekDay MeanForWeekDayByPoints MeanForYear MeanForYearByPoints MeanForYearDay Month MonthDay ThroughDay ThroughMonth ThroughWeek WeekDay Year YearDay \n",
      "|_end iteration_| start score: 17.3999710481, end score: 17.1710191083, name feature: MeanForMonthByPoints\n",
      "Coef between pasted baseline and current 0.994739587919\n",
      "BranchNumber CityID MeanForMonthDay MeanForMonthDayByPoints MeanForThroughMonth MeanForThroughMonthByPoints MeanForThroughWeek MeanForWeekDay MeanForWeekDayByPoints MeanForYear MeanForYearByPoints MeanForYearDay Month MonthDay ThroughDay ThroughMonth ThroughWeek WeekDay Year YearDay \n",
      "|_end iteration_| start score: 17.4919861031, end score: 17.2815720903, name feature: MonthDay\n",
      "Coef between pasted baseline and current 1.00314388813\n",
      "BranchNumber CityID MeanForMonthDay MeanForMonthDayByPoints MeanForThroughMonth MeanForThroughMonthByPoints MeanForThroughWeek MeanForWeekDay MeanForWeekDayByPoints MeanForYear MeanForYearByPoints MeanForYearDay Month ThroughDay ThroughMonth ThroughWeek WeekDay Year YearDay \n",
      "|_end iteration_| start score: 17.4371656051, end score: 17.1908946149, name feature: ThroughWeek\n",
      "Coef between pasted baseline and current 0.995747717994\n",
      "BranchNumber CityID MeanForMonthDay MeanForMonthDayByPoints MeanForThroughMonth MeanForThroughMonthByPoints MeanForThroughWeek MeanForWeekDay MeanForWeekDayByPoints MeanForYear MeanForYearByPoints MeanForYearDay Month ThroughDay ThroughMonth WeekDay Year YearDay \n",
      "|_end iteration_| start score: 17.5116299942, end score: 17.414910249, name feature: Month\n",
      "Coef between pasted baseline and current 1.00239224459\n",
      "BranchNumber CityID MeanForMonthDay MeanForMonthDayByPoints MeanForThroughMonth MeanForThroughMonthByPoints MeanForThroughWeek MeanForWeekDay MeanForWeekDayByPoints MeanForYear MeanForYearByPoints MeanForYearDay ThroughDay ThroughMonth WeekDay Year YearDay \n",
      "|_end iteration_| start score: 17.4698378691, end score: 17.3625651419, name feature: ThroughMonth\n",
      "Coef between pasted baseline and current 0.996013688482\n",
      "BranchNumber CityID MeanForMonthDay MeanForMonthDayByPoints MeanForThroughMonth MeanForThroughMonthByPoints MeanForThroughWeek MeanForWeekDay MeanForWeekDayByPoints MeanForYear MeanForYearByPoints MeanForYearDay ThroughDay WeekDay Year YearDay \n",
      "|_end iteration_| start score: 17.5397568037, end score: 17.1903445281, name feature: MeanForMonthDayByPoints\n",
      "Coef between pasted baseline and current 1.00740391908\n",
      "BranchNumber CityID MeanForMonthDay MeanForThroughMonth MeanForThroughMonthByPoints MeanForThroughWeek MeanForWeekDay MeanForWeekDayByPoints MeanForYear MeanForYearByPoints MeanForYearDay ThroughDay WeekDay Year YearDay \n",
      "|_end iteration_| start score: 17.4108482918, end score: 17.048074696, name feature: BranchNumber\n",
      "Coef between pasted baseline and current 1.00771659631\n",
      "CityID MeanForMonthDay MeanForThroughMonth MeanForThroughMonthByPoints MeanForThroughWeek MeanForWeekDay MeanForWeekDayByPoints MeanForYear MeanForYearByPoints MeanForYearDay ThroughDay WeekDay Year YearDay \n",
      "|_end iteration_| start score: 17.2775246091, end score: 17.1416473654, name feature: WeekDay\n",
      "Coef between pasted baseline and current 0.997777109731\n",
      "CityID MeanForMonthDay MeanForThroughMonth MeanForThroughMonthByPoints MeanForThroughWeek MeanForWeekDay MeanForWeekDayByPoints MeanForYear MeanForYearByPoints MeanForYearDay ThroughDay Year YearDay \n",
      "|_end iteration_| start score: 17.3160162131, end score: 17.245193978, name feature: MeanForThroughMonth\n",
      "Coef between pasted baseline and current 1.00081223568\n",
      "CityID MeanForMonthDay MeanForThroughMonthByPoints MeanForThroughWeek MeanForWeekDay MeanForWeekDayByPoints MeanForYear MeanForYearByPoints MeanForYearDay ThroughDay Year YearDay \n",
      "|_end iteration_| start score: 17.3019629415, end score: 17.3019629415, name feature: None\n"
     ]
    }
   ],
   "source": [
    "column = RemoveTrash(dataTrain, dataValidation, RandomForestRegressor())"
   ]
  },
  {
   "cell_type": "code",
   "execution_count": 15,
   "metadata": {
    "collapsed": false
   },
   "outputs": [
    {
     "data": {
      "text/plain": [
       "Index([u'CityID', u'Count', u'MeanForMonthDay', u'MeanForThroughMonthByPoints',\n",
       "       u'MeanForThroughWeek', u'MeanForWeekDay', u'MeanForWeekDayByPoints',\n",
       "       u'MeanForYear', u'MeanForYearByPoints', u'MeanForYearDay',\n",
       "       u'ThroughDay', u'Year', u'YearDay'],\n",
       "      dtype='object')"
      ]
     },
     "execution_count": 15,
     "metadata": {},
     "output_type": "execute_result"
    }
   ],
   "source": [
    "column"
   ]
  },
  {
   "cell_type": "code",
   "execution_count": 16,
   "metadata": {
    "collapsed": false
   },
   "outputs": [
    {
     "name": "stdout",
     "output_type": "stream",
     "text": [
      "16.7736942675\n"
     ]
    }
   ],
   "source": [
    "print(fitOnTrainCheckOnVal(dataTrain[column], dataValidation[column], RandomForestRegressor(100)))"
   ]
  },
  {
   "cell_type": "code",
   "execution_count": 17,
   "metadata": {
    "collapsed": false
   },
   "outputs": [
    {
     "name": "stdout",
     "output_type": "stream",
     "text": [
      "16.5949390401\n"
     ]
    }
   ],
   "source": [
    "print(fitOnTrainCheckOnVal(dataTrain[column], dataValidation[column], RandomForestRegressor(900)))"
   ]
  },
  {
   "cell_type": "code",
   "execution_count": 56,
   "metadata": {
    "collapsed": false
   },
   "outputs": [],
   "source": [
    "col = [u'BranchNumber', u'CityID', u'Count', u'MeanForThroughMonthByPoints',\n",
    "       u'MeanForThroughWeek', u'MeanForWeekDay', u'MeanForWeekDayByPoints',\n",
    "       u'MeanForYearByPoints', u'MeanForYearDay', u'Month', u'ThroughDay',\n",
    "       u'lat', u'CourseUS']"
   ]
  },
  {
   "cell_type": "code",
   "execution_count": 57,
   "metadata": {
    "collapsed": false
   },
   "outputs": [
    {
     "name": "stdout",
     "output_type": "stream",
     "text": [
      "16.7121868672\n"
     ]
    }
   ],
   "source": [
    "print(fitOnTrainCheckOnVal(dataTrain[col], dataValidation[col], RandomForestRegressor(100)))"
   ]
  },
  {
   "cell_type": "code",
   "execution_count": 58,
   "metadata": {
    "collapsed": false
   },
   "outputs": [
    {
     "name": "stdout",
     "output_type": "stream",
     "text": [
      "16.6755277537\n"
     ]
    }
   ],
   "source": [
    "print(fitOnTrainCheckOnVal(dataTrain[col], dataValidation[col], RandomForestRegressor(900)))"
   ]
  },
  {
   "cell_type": "code",
   "execution_count": 26,
   "metadata": {
    "collapsed": false
   },
   "outputs": [],
   "source": []
  },
  {
   "cell_type": "code",
   "execution_count": null,
   "metadata": {
    "collapsed": false
   },
   "outputs": [],
   "source": []
  },
  {
   "cell_type": "code",
   "execution_count": null,
   "metadata": {
    "collapsed": false
   },
   "outputs": [],
   "source": []
  }
 ],
 "metadata": {
  "anaconda-cloud": {},
  "kernelspec": {
   "display_name": "Python [default]",
   "language": "python",
   "name": "python2"
  },
  "language_info": {
   "codemirror_mode": {
    "name": "ipython",
    "version": 2
   },
   "file_extension": ".py",
   "mimetype": "text/x-python",
   "name": "python",
   "nbconvert_exporter": "python",
   "pygments_lexer": "ipython2",
   "version": "2.7.12"
  }
 },
 "nbformat": 4,
 "nbformat_minor": 0
}
