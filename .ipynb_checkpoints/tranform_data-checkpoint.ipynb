{
 "cells": [
  {
   "cell_type": "code",
   "execution_count": 18,
   "metadata": {
    "collapsed": false
   },
   "outputs": [],
   "source": [
    "import pandas as pd\n",
    "import numpy as np\n",
    "import datetime\n",
    "import math\n",
    "import sklearn.cross_validation\n",
    "from scipy import stats"
   ]
  },
  {
   "cell_type": "code",
   "execution_count": 19,
   "metadata": {
    "collapsed": false
   },
   "outputs": [
    {
     "name": "stdout",
     "output_type": "stream",
     "text": [
      "114\n",
      "114\n"
     ]
    }
   ],
   "source": [
    "train = pd.read_csv('data_original/train.csv')\n",
    "test = pd.read_csv('data_original/test.csv')\n",
    "\n",
    "print len(train.Point.unique())\n",
    "print len(test.Point.unique())\n",
    "a = set(train.Point.unique()) - (set(train.Point.unique()) & set(test.Point.unique()))\n",
    "for i in a:\n",
    "    print i\n",
    "    train = train[train.Point != i]\n",
    "\n",
    "    \n",
    "test['Count'] = None\n",
    "frame = [train, test]\n",
    "common = pd.concat(frame)\n",
    "common.Date = common.Date.apply(lambda x: pd.to_datetime(x, format='%d.%m.%Y'))\n",
    "common = common.sort_values(by=['Date'])"
   ]
  },
  {
   "cell_type": "code",
   "execution_count": 20,
   "metadata": {
    "collapsed": false
   },
   "outputs": [],
   "source": [
    "common.to_csv('data_original/common.csv', index=None)\n",
    "train.to_csv('data_original/train.csv', index=None)\n",
    "test.to_csv('data_original/test.csv', index=None)"
   ]
  },
  {
   "cell_type": "markdown",
   "metadata": {},
   "source": [
    "# date.csv"
   ]
  },
  {
   "cell_type": "code",
   "execution_count": 21,
   "metadata": {
    "collapsed": false
   },
   "outputs": [],
   "source": [
    "date = pd.read_csv('data_original/common.csv')[['Date']]\n",
    "date.Date = date.Date.apply(lambda x: pd.to_datetime(x))"
   ]
  },
  {
   "cell_type": "code",
   "execution_count": 22,
   "metadata": {
    "collapsed": true
   },
   "outputs": [],
   "source": [
    "start_date = date.iloc[0]['Date']\n",
    "date['Year'] = date.Date.apply(lambda x: x.year)\n",
    "date['Month'] = date.Date.apply(lambda x: x.month)\n",
    "date['MonthDay'] = date.Date.apply(lambda x: x.day)\n",
    "date['WeekDay'] = date.Date.apply(lambda x: x.weekday())\n",
    "date['Point'] = pd.Series(common.Point.as_matrix())"
   ]
  },
  {
   "cell_type": "code",
   "execution_count": null,
   "metadata": {
    "collapsed": false
   },
   "outputs": [],
   "source": []
  },
  {
   "cell_type": "code",
   "execution_count": 23,
   "metadata": {
    "collapsed": false
   },
   "outputs": [
    {
     "data": {
      "text/plain": [
       "(53385, 6)"
      ]
     },
     "execution_count": 23,
     "metadata": {},
     "output_type": "execute_result"
    }
   ],
   "source": [
    "date.shape"
   ]
  },
  {
   "cell_type": "code",
   "execution_count": 24,
   "metadata": {
    "collapsed": false
   },
   "outputs": [
    {
     "data": {
      "text/plain": [
       "(53385, 3)"
      ]
     },
     "execution_count": 24,
     "metadata": {},
     "output_type": "execute_result"
    }
   ],
   "source": [
    "common.shape"
   ]
  },
  {
   "cell_type": "code",
   "execution_count": 25,
   "metadata": {
    "collapsed": true
   },
   "outputs": [],
   "source": [
    "date['YearDay'] = date.Date.apply(lambda x: (x-pd.to_datetime(str(x.year)+'-01-01')).days)"
   ]
  },
  {
   "cell_type": "code",
   "execution_count": 26,
   "metadata": {
    "collapsed": true
   },
   "outputs": [],
   "source": [
    "date['ThroughMonth'] = date.Date.apply(lambda x: (x.year - start_date.year) * 12 + x.month - start_date.month)"
   ]
  },
  {
   "cell_type": "code",
   "execution_count": 27,
   "metadata": {
    "collapsed": true
   },
   "outputs": [],
   "source": [
    "date['ThroughWeek'] = date.Date.apply(lambda x: int( ( (x - start_date).days + start_date.weekday()) / 7))\n",
    "#теперь нет смещения, это могло вводить неоднозначноть, т.е. одной недели могли противоречить две фичи"
   ]
  },
  {
   "cell_type": "code",
   "execution_count": 28,
   "metadata": {
    "collapsed": true
   },
   "outputs": [],
   "source": [
    "date['ThroughDay'] = date.Date.apply(lambda x: (x - start_date).days)"
   ]
  },
  {
   "cell_type": "code",
   "execution_count": 29,
   "metadata": {
    "collapsed": false,
    "scrolled": true
   },
   "outputs": [],
   "source": [
    "date.to_csv('data_transform/date.csv', index=None)"
   ]
  },
  {
   "cell_type": "code",
   "execution_count": 30,
   "metadata": {
    "collapsed": false
   },
   "outputs": [
    {
     "data": {
      "text/html": [
       "<div>\n",
       "<table border=\"1\" class=\"dataframe\">\n",
       "  <thead>\n",
       "    <tr style=\"text-align: right;\">\n",
       "      <th></th>\n",
       "      <th>Date</th>\n",
       "      <th>Year</th>\n",
       "      <th>Month</th>\n",
       "      <th>MonthDay</th>\n",
       "      <th>WeekDay</th>\n",
       "      <th>Point</th>\n",
       "      <th>YearDay</th>\n",
       "      <th>ThroughMonth</th>\n",
       "      <th>ThroughWeek</th>\n",
       "      <th>ThroughDay</th>\n",
       "    </tr>\n",
       "  </thead>\n",
       "  <tbody>\n",
       "    <tr>\n",
       "      <th>0</th>\n",
       "      <td>2011-10-06</td>\n",
       "      <td>2011</td>\n",
       "      <td>10</td>\n",
       "      <td>6</td>\n",
       "      <td>3</td>\n",
       "      <td>Сыктывкар-1</td>\n",
       "      <td>278</td>\n",
       "      <td>0</td>\n",
       "      <td>0</td>\n",
       "      <td>0</td>\n",
       "    </tr>\n",
       "    <tr>\n",
       "      <th>1</th>\n",
       "      <td>2011-10-07</td>\n",
       "      <td>2011</td>\n",
       "      <td>10</td>\n",
       "      <td>7</td>\n",
       "      <td>4</td>\n",
       "      <td>Сыктывкар-1</td>\n",
       "      <td>279</td>\n",
       "      <td>0</td>\n",
       "      <td>0</td>\n",
       "      <td>1</td>\n",
       "    </tr>\n",
       "    <tr>\n",
       "      <th>2</th>\n",
       "      <td>2011-10-09</td>\n",
       "      <td>2011</td>\n",
       "      <td>10</td>\n",
       "      <td>9</td>\n",
       "      <td>6</td>\n",
       "      <td>Сыктывкар-1</td>\n",
       "      <td>281</td>\n",
       "      <td>0</td>\n",
       "      <td>0</td>\n",
       "      <td>3</td>\n",
       "    </tr>\n",
       "    <tr>\n",
       "      <th>3</th>\n",
       "      <td>2011-11-15</td>\n",
       "      <td>2011</td>\n",
       "      <td>11</td>\n",
       "      <td>15</td>\n",
       "      <td>1</td>\n",
       "      <td>Сыктывкар-1</td>\n",
       "      <td>318</td>\n",
       "      <td>1</td>\n",
       "      <td>6</td>\n",
       "      <td>40</td>\n",
       "    </tr>\n",
       "    <tr>\n",
       "      <th>4</th>\n",
       "      <td>2011-12-08</td>\n",
       "      <td>2011</td>\n",
       "      <td>12</td>\n",
       "      <td>8</td>\n",
       "      <td>3</td>\n",
       "      <td>Сыктывкар-1</td>\n",
       "      <td>341</td>\n",
       "      <td>2</td>\n",
       "      <td>9</td>\n",
       "      <td>63</td>\n",
       "    </tr>\n",
       "    <tr>\n",
       "      <th>5</th>\n",
       "      <td>2011-12-09</td>\n",
       "      <td>2011</td>\n",
       "      <td>12</td>\n",
       "      <td>9</td>\n",
       "      <td>4</td>\n",
       "      <td>Сыктывкар-1</td>\n",
       "      <td>342</td>\n",
       "      <td>2</td>\n",
       "      <td>9</td>\n",
       "      <td>64</td>\n",
       "    </tr>\n",
       "    <tr>\n",
       "      <th>6</th>\n",
       "      <td>2011-12-10</td>\n",
       "      <td>2011</td>\n",
       "      <td>12</td>\n",
       "      <td>10</td>\n",
       "      <td>5</td>\n",
       "      <td>Сыктывкар-1</td>\n",
       "      <td>343</td>\n",
       "      <td>2</td>\n",
       "      <td>9</td>\n",
       "      <td>65</td>\n",
       "    </tr>\n",
       "    <tr>\n",
       "      <th>7</th>\n",
       "      <td>2011-12-11</td>\n",
       "      <td>2011</td>\n",
       "      <td>12</td>\n",
       "      <td>11</td>\n",
       "      <td>6</td>\n",
       "      <td>Сыктывкар-1</td>\n",
       "      <td>344</td>\n",
       "      <td>2</td>\n",
       "      <td>9</td>\n",
       "      <td>66</td>\n",
       "    </tr>\n",
       "    <tr>\n",
       "      <th>8</th>\n",
       "      <td>2011-12-13</td>\n",
       "      <td>2011</td>\n",
       "      <td>12</td>\n",
       "      <td>13</td>\n",
       "      <td>1</td>\n",
       "      <td>Сыктывкар-1</td>\n",
       "      <td>346</td>\n",
       "      <td>2</td>\n",
       "      <td>10</td>\n",
       "      <td>68</td>\n",
       "    </tr>\n",
       "    <tr>\n",
       "      <th>9</th>\n",
       "      <td>2011-12-14</td>\n",
       "      <td>2011</td>\n",
       "      <td>12</td>\n",
       "      <td>14</td>\n",
       "      <td>2</td>\n",
       "      <td>Сыктывкар-1</td>\n",
       "      <td>347</td>\n",
       "      <td>2</td>\n",
       "      <td>10</td>\n",
       "      <td>69</td>\n",
       "    </tr>\n",
       "    <tr>\n",
       "      <th>10</th>\n",
       "      <td>2011-12-15</td>\n",
       "      <td>2011</td>\n",
       "      <td>12</td>\n",
       "      <td>15</td>\n",
       "      <td>3</td>\n",
       "      <td>Сыктывкар-1</td>\n",
       "      <td>348</td>\n",
       "      <td>2</td>\n",
       "      <td>10</td>\n",
       "      <td>70</td>\n",
       "    </tr>\n",
       "    <tr>\n",
       "      <th>11</th>\n",
       "      <td>2011-12-16</td>\n",
       "      <td>2011</td>\n",
       "      <td>12</td>\n",
       "      <td>16</td>\n",
       "      <td>4</td>\n",
       "      <td>Сыктывкар-1</td>\n",
       "      <td>349</td>\n",
       "      <td>2</td>\n",
       "      <td>10</td>\n",
       "      <td>71</td>\n",
       "    </tr>\n",
       "    <tr>\n",
       "      <th>12</th>\n",
       "      <td>2011-12-17</td>\n",
       "      <td>2011</td>\n",
       "      <td>12</td>\n",
       "      <td>17</td>\n",
       "      <td>5</td>\n",
       "      <td>Сыктывкар-1</td>\n",
       "      <td>350</td>\n",
       "      <td>2</td>\n",
       "      <td>10</td>\n",
       "      <td>72</td>\n",
       "    </tr>\n",
       "    <tr>\n",
       "      <th>13</th>\n",
       "      <td>2011-12-18</td>\n",
       "      <td>2011</td>\n",
       "      <td>12</td>\n",
       "      <td>18</td>\n",
       "      <td>6</td>\n",
       "      <td>Сыктывкар-1</td>\n",
       "      <td>351</td>\n",
       "      <td>2</td>\n",
       "      <td>10</td>\n",
       "      <td>73</td>\n",
       "    </tr>\n",
       "    <tr>\n",
       "      <th>14</th>\n",
       "      <td>2011-12-19</td>\n",
       "      <td>2011</td>\n",
       "      <td>12</td>\n",
       "      <td>19</td>\n",
       "      <td>0</td>\n",
       "      <td>Сыктывкар-1</td>\n",
       "      <td>352</td>\n",
       "      <td>2</td>\n",
       "      <td>11</td>\n",
       "      <td>74</td>\n",
       "    </tr>\n",
       "    <tr>\n",
       "      <th>15</th>\n",
       "      <td>2011-12-20</td>\n",
       "      <td>2011</td>\n",
       "      <td>12</td>\n",
       "      <td>20</td>\n",
       "      <td>1</td>\n",
       "      <td>Сыктывкар-1</td>\n",
       "      <td>353</td>\n",
       "      <td>2</td>\n",
       "      <td>11</td>\n",
       "      <td>75</td>\n",
       "    </tr>\n",
       "    <tr>\n",
       "      <th>16</th>\n",
       "      <td>2011-12-21</td>\n",
       "      <td>2011</td>\n",
       "      <td>12</td>\n",
       "      <td>21</td>\n",
       "      <td>2</td>\n",
       "      <td>Сыктывкар-1</td>\n",
       "      <td>354</td>\n",
       "      <td>2</td>\n",
       "      <td>11</td>\n",
       "      <td>76</td>\n",
       "    </tr>\n",
       "    <tr>\n",
       "      <th>17</th>\n",
       "      <td>2011-12-22</td>\n",
       "      <td>2011</td>\n",
       "      <td>12</td>\n",
       "      <td>22</td>\n",
       "      <td>3</td>\n",
       "      <td>Сыктывкар-1</td>\n",
       "      <td>355</td>\n",
       "      <td>2</td>\n",
       "      <td>11</td>\n",
       "      <td>77</td>\n",
       "    </tr>\n",
       "    <tr>\n",
       "      <th>18</th>\n",
       "      <td>2011-12-23</td>\n",
       "      <td>2011</td>\n",
       "      <td>12</td>\n",
       "      <td>23</td>\n",
       "      <td>4</td>\n",
       "      <td>Сыктывкар-1</td>\n",
       "      <td>356</td>\n",
       "      <td>2</td>\n",
       "      <td>11</td>\n",
       "      <td>78</td>\n",
       "    </tr>\n",
       "    <tr>\n",
       "      <th>19</th>\n",
       "      <td>2011-12-24</td>\n",
       "      <td>2011</td>\n",
       "      <td>12</td>\n",
       "      <td>24</td>\n",
       "      <td>5</td>\n",
       "      <td>Сыктывкар-1</td>\n",
       "      <td>357</td>\n",
       "      <td>2</td>\n",
       "      <td>11</td>\n",
       "      <td>79</td>\n",
       "    </tr>\n",
       "    <tr>\n",
       "      <th>20</th>\n",
       "      <td>2011-12-25</td>\n",
       "      <td>2011</td>\n",
       "      <td>12</td>\n",
       "      <td>25</td>\n",
       "      <td>6</td>\n",
       "      <td>Сыктывкар-1</td>\n",
       "      <td>358</td>\n",
       "      <td>2</td>\n",
       "      <td>11</td>\n",
       "      <td>80</td>\n",
       "    </tr>\n",
       "    <tr>\n",
       "      <th>21</th>\n",
       "      <td>2011-12-26</td>\n",
       "      <td>2011</td>\n",
       "      <td>12</td>\n",
       "      <td>26</td>\n",
       "      <td>0</td>\n",
       "      <td>Сыктывкар-1</td>\n",
       "      <td>359</td>\n",
       "      <td>2</td>\n",
       "      <td>12</td>\n",
       "      <td>81</td>\n",
       "    </tr>\n",
       "    <tr>\n",
       "      <th>22</th>\n",
       "      <td>2011-12-27</td>\n",
       "      <td>2011</td>\n",
       "      <td>12</td>\n",
       "      <td>27</td>\n",
       "      <td>1</td>\n",
       "      <td>Сыктывкар-1</td>\n",
       "      <td>360</td>\n",
       "      <td>2</td>\n",
       "      <td>12</td>\n",
       "      <td>82</td>\n",
       "    </tr>\n",
       "    <tr>\n",
       "      <th>23</th>\n",
       "      <td>2011-12-28</td>\n",
       "      <td>2011</td>\n",
       "      <td>12</td>\n",
       "      <td>28</td>\n",
       "      <td>2</td>\n",
       "      <td>Сыктывкар-1</td>\n",
       "      <td>361</td>\n",
       "      <td>2</td>\n",
       "      <td>12</td>\n",
       "      <td>83</td>\n",
       "    </tr>\n",
       "    <tr>\n",
       "      <th>24</th>\n",
       "      <td>2011-12-29</td>\n",
       "      <td>2011</td>\n",
       "      <td>12</td>\n",
       "      <td>29</td>\n",
       "      <td>3</td>\n",
       "      <td>Сыктывкар-1</td>\n",
       "      <td>362</td>\n",
       "      <td>2</td>\n",
       "      <td>12</td>\n",
       "      <td>84</td>\n",
       "    </tr>\n",
       "  </tbody>\n",
       "</table>\n",
       "</div>"
      ],
      "text/plain": [
       "         Date  Year  Month  MonthDay  WeekDay        Point  YearDay  \\\n",
       "0  2011-10-06  2011     10         6        3  Сыктывкар-1      278   \n",
       "1  2011-10-07  2011     10         7        4  Сыктывкар-1      279   \n",
       "2  2011-10-09  2011     10         9        6  Сыктывкар-1      281   \n",
       "3  2011-11-15  2011     11        15        1  Сыктывкар-1      318   \n",
       "4  2011-12-08  2011     12         8        3  Сыктывкар-1      341   \n",
       "5  2011-12-09  2011     12         9        4  Сыктывкар-1      342   \n",
       "6  2011-12-10  2011     12        10        5  Сыктывкар-1      343   \n",
       "7  2011-12-11  2011     12        11        6  Сыктывкар-1      344   \n",
       "8  2011-12-13  2011     12        13        1  Сыктывкар-1      346   \n",
       "9  2011-12-14  2011     12        14        2  Сыктывкар-1      347   \n",
       "10 2011-12-15  2011     12        15        3  Сыктывкар-1      348   \n",
       "11 2011-12-16  2011     12        16        4  Сыктывкар-1      349   \n",
       "12 2011-12-17  2011     12        17        5  Сыктывкар-1      350   \n",
       "13 2011-12-18  2011     12        18        6  Сыктывкар-1      351   \n",
       "14 2011-12-19  2011     12        19        0  Сыктывкар-1      352   \n",
       "15 2011-12-20  2011     12        20        1  Сыктывкар-1      353   \n",
       "16 2011-12-21  2011     12        21        2  Сыктывкар-1      354   \n",
       "17 2011-12-22  2011     12        22        3  Сыктывкар-1      355   \n",
       "18 2011-12-23  2011     12        23        4  Сыктывкар-1      356   \n",
       "19 2011-12-24  2011     12        24        5  Сыктывкар-1      357   \n",
       "20 2011-12-25  2011     12        25        6  Сыктывкар-1      358   \n",
       "21 2011-12-26  2011     12        26        0  Сыктывкар-1      359   \n",
       "22 2011-12-27  2011     12        27        1  Сыктывкар-1      360   \n",
       "23 2011-12-28  2011     12        28        2  Сыктывкар-1      361   \n",
       "24 2011-12-29  2011     12        29        3  Сыктывкар-1      362   \n",
       "\n",
       "    ThroughMonth  ThroughWeek  ThroughDay  \n",
       "0              0            0           0  \n",
       "1              0            0           1  \n",
       "2              0            0           3  \n",
       "3              1            6          40  \n",
       "4              2            9          63  \n",
       "5              2            9          64  \n",
       "6              2            9          65  \n",
       "7              2            9          66  \n",
       "8              2           10          68  \n",
       "9              2           10          69  \n",
       "10             2           10          70  \n",
       "11             2           10          71  \n",
       "12             2           10          72  \n",
       "13             2           10          73  \n",
       "14             2           11          74  \n",
       "15             2           11          75  \n",
       "16             2           11          76  \n",
       "17             2           11          77  \n",
       "18             2           11          78  \n",
       "19             2           11          79  \n",
       "20             2           11          80  \n",
       "21             2           12          81  \n",
       "22             2           12          82  \n",
       "23             2           12          83  \n",
       "24             2           12          84  "
      ]
     },
     "execution_count": 30,
     "metadata": {},
     "output_type": "execute_result"
    }
   ],
   "source": [
    "date.head(25)"
   ]
  },
  {
   "cell_type": "markdown",
   "metadata": {},
   "source": [
    "# target.csv"
   ]
  },
  {
   "cell_type": "code",
   "execution_count": 31,
   "metadata": {
    "collapsed": true
   },
   "outputs": [],
   "source": [
    "sizeValidationSample = 0.15"
   ]
  },
  {
   "cell_type": "code",
   "execution_count": 32,
   "metadata": {
    "collapsed": false
   },
   "outputs": [],
   "source": [
    "target = pd.read_csv('data_original/common.csv')[['Count']]\n",
    "#target['Point'] = pd.Series(common.Point.as_matrix())\n",
    "target['IsTest'] = target.Count\n",
    "target['IsTrain'] = pd.Series(range(target.shape[0]))\n",
    "target['IsValidation'] = pd.Series(range(target.shape[0]))"
   ]
  },
  {
   "cell_type": "code",
   "execution_count": 33,
   "metadata": {
    "collapsed": false
   },
   "outputs": [],
   "source": [
    "target['IsTest'] = target.IsTest.apply(lambda x: 1 if math.isnan(x) else 0)"
   ]
  },
  {
   "cell_type": "code",
   "execution_count": 34,
   "metadata": {
    "collapsed": false
   },
   "outputs": [],
   "source": [
    "withCountValue = target[target.IsTest == 0].index\n",
    "indexTrain, indexValidation = sklearn.cross_validation.train_test_split(withCountValue, test_size=sizeValidationSample)"
   ]
  },
  {
   "cell_type": "code",
   "execution_count": 35,
   "metadata": {
    "collapsed": false
   },
   "outputs": [],
   "source": [
    "target['IsTrain'] = target.IsTrain.apply(lambda x: 1 if ((x in indexTrain) & (target.IsTest[x] == 0)) else 0)\n",
    "target['IsValidation'] = target.IsValidation.apply(lambda x: 1 if ((x in indexValidation) & (target.IsTest[x] == 0)) else 0)"
   ]
  },
  {
   "cell_type": "code",
   "execution_count": 36,
   "metadata": {
    "collapsed": false
   },
   "outputs": [],
   "source": [
    "target.to_csv('data_transform/target.csv', index = None)"
   ]
  },
  {
   "cell_type": "code",
   "execution_count": 37,
   "metadata": {
    "collapsed": false
   },
   "outputs": [
    {
     "data": {
      "text/html": [
       "<div>\n",
       "<table border=\"1\" class=\"dataframe\">\n",
       "  <thead>\n",
       "    <tr style=\"text-align: right;\">\n",
       "      <th></th>\n",
       "      <th>Count</th>\n",
       "      <th>IsTest</th>\n",
       "      <th>IsTrain</th>\n",
       "      <th>IsValidation</th>\n",
       "    </tr>\n",
       "  </thead>\n",
       "  <tbody>\n",
       "    <tr>\n",
       "      <th>0</th>\n",
       "      <td>8.0</td>\n",
       "      <td>0</td>\n",
       "      <td>1</td>\n",
       "      <td>0</td>\n",
       "    </tr>\n",
       "    <tr>\n",
       "      <th>1</th>\n",
       "      <td>88.0</td>\n",
       "      <td>0</td>\n",
       "      <td>1</td>\n",
       "      <td>0</td>\n",
       "    </tr>\n",
       "    <tr>\n",
       "      <th>2</th>\n",
       "      <td>1.0</td>\n",
       "      <td>0</td>\n",
       "      <td>1</td>\n",
       "      <td>0</td>\n",
       "    </tr>\n",
       "    <tr>\n",
       "      <th>3</th>\n",
       "      <td>1.0</td>\n",
       "      <td>0</td>\n",
       "      <td>1</td>\n",
       "      <td>0</td>\n",
       "    </tr>\n",
       "    <tr>\n",
       "      <th>4</th>\n",
       "      <td>2.0</td>\n",
       "      <td>0</td>\n",
       "      <td>1</td>\n",
       "      <td>0</td>\n",
       "    </tr>\n",
       "    <tr>\n",
       "      <th>5</th>\n",
       "      <td>43.0</td>\n",
       "      <td>0</td>\n",
       "      <td>1</td>\n",
       "      <td>0</td>\n",
       "    </tr>\n",
       "    <tr>\n",
       "      <th>6</th>\n",
       "      <td>10.0</td>\n",
       "      <td>0</td>\n",
       "      <td>1</td>\n",
       "      <td>0</td>\n",
       "    </tr>\n",
       "    <tr>\n",
       "      <th>7</th>\n",
       "      <td>1.0</td>\n",
       "      <td>0</td>\n",
       "      <td>1</td>\n",
       "      <td>0</td>\n",
       "    </tr>\n",
       "    <tr>\n",
       "      <th>8</th>\n",
       "      <td>60.0</td>\n",
       "      <td>0</td>\n",
       "      <td>1</td>\n",
       "      <td>0</td>\n",
       "    </tr>\n",
       "    <tr>\n",
       "      <th>9</th>\n",
       "      <td>NaN</td>\n",
       "      <td>1</td>\n",
       "      <td>0</td>\n",
       "      <td>0</td>\n",
       "    </tr>\n",
       "    <tr>\n",
       "      <th>10</th>\n",
       "      <td>96.0</td>\n",
       "      <td>0</td>\n",
       "      <td>1</td>\n",
       "      <td>0</td>\n",
       "    </tr>\n",
       "    <tr>\n",
       "      <th>11</th>\n",
       "      <td>134.0</td>\n",
       "      <td>0</td>\n",
       "      <td>1</td>\n",
       "      <td>0</td>\n",
       "    </tr>\n",
       "    <tr>\n",
       "      <th>12</th>\n",
       "      <td>112.0</td>\n",
       "      <td>0</td>\n",
       "      <td>0</td>\n",
       "      <td>1</td>\n",
       "    </tr>\n",
       "    <tr>\n",
       "      <th>13</th>\n",
       "      <td>100.0</td>\n",
       "      <td>0</td>\n",
       "      <td>1</td>\n",
       "      <td>0</td>\n",
       "    </tr>\n",
       "    <tr>\n",
       "      <th>14</th>\n",
       "      <td>NaN</td>\n",
       "      <td>1</td>\n",
       "      <td>0</td>\n",
       "      <td>0</td>\n",
       "    </tr>\n",
       "  </tbody>\n",
       "</table>\n",
       "</div>"
      ],
      "text/plain": [
       "    Count  IsTest  IsTrain  IsValidation\n",
       "0     8.0       0        1             0\n",
       "1    88.0       0        1             0\n",
       "2     1.0       0        1             0\n",
       "3     1.0       0        1             0\n",
       "4     2.0       0        1             0\n",
       "5    43.0       0        1             0\n",
       "6    10.0       0        1             0\n",
       "7     1.0       0        1             0\n",
       "8    60.0       0        1             0\n",
       "9     NaN       1        0             0\n",
       "10   96.0       0        1             0\n",
       "11  134.0       0        1             0\n",
       "12  112.0       0        0             1\n",
       "13  100.0       0        1             0\n",
       "14    NaN       1        0             0"
      ]
     },
     "execution_count": 37,
     "metadata": {},
     "output_type": "execute_result"
    }
   ],
   "source": [
    "target.head(15)"
   ]
  },
  {
   "cell_type": "code",
   "execution_count": null,
   "metadata": {
    "collapsed": false
   },
   "outputs": [],
   "source": []
  },
  {
   "cell_type": "code",
   "execution_count": null,
   "metadata": {
    "collapsed": false
   },
   "outputs": [],
   "source": []
  },
  {
   "cell_type": "code",
   "execution_count": null,
   "metadata": {
    "collapsed": false
   },
   "outputs": [],
   "source": []
  },
  {
   "cell_type": "code",
   "execution_count": null,
   "metadata": {
    "collapsed": false
   },
   "outputs": [],
   "source": []
  },
  {
   "cell_type": "markdown",
   "metadata": {},
   "source": [
    "# city.csv\n"
   ]
  },
  {
   "cell_type": "code",
   "execution_count": 38,
   "metadata": {
    "collapsed": false
   },
   "outputs": [],
   "source": [
    "cities = pd.read_csv('data_original/common.csv')[['Point']].Point.unique()\n",
    "city = pd.DataFrame()\n",
    "city['Point'] = pd.Series(cities)\n",
    "city['CityName'] = city.Point.apply(lambda x: '-'.join(x.split('-')[0:-1]))\n",
    "city_names = city.CityName.unique()\n",
    "city['CityID'] = city.CityName.apply(lambda x: np.where(city_names == x)[0][0]) \n",
    "city['BranchNumber'] = city.Point.apply(lambda x: x.split('-')[-1:][0])\n",
    "# Москва 1 -> Москва\n",
    "city['CityName'] = city.CityName.apply(lambda x: ('Москва' if x == 'Москва 1' else x))\n",
    "city.to_csv('data_transform/city.csv', index = None)"
   ]
  },
  {
   "cell_type": "code",
   "execution_count": 39,
   "metadata": {
    "collapsed": false
   },
   "outputs": [
    {
     "data": {
      "text/plain": [
       "\"\\n# geo\\ncity = pd.read_csv('data_transform/city.csv')\\ncities = city.CityName.unique()\\ngeo = pd.read_csv('data_transform/geo.csv', names=['CityName', 'lat', 'lng'])\\ngeo.CityName = pd.Series(cities)\\ncity = pd.merge(city, geo, how='left', on='CityName')\\ncity.to_csv('data_transform/city.csv', index=None)\\ncity.head(10)\\n\""
      ]
     },
     "execution_count": 39,
     "metadata": {},
     "output_type": "execute_result"
    }
   ],
   "source": [
    "'''\n",
    "# geo\n",
    "city = pd.read_csv('data_transform/city.csv')\n",
    "cities = city.CityName.unique()\n",
    "geo = pd.read_csv('data_transform/geo.csv', names=['CityName', 'lat', 'lng'])\n",
    "geo.CityName = pd.Series(cities)\n",
    "city = pd.merge(city, geo, how='left', on='CityName')\n",
    "city.to_csv('data_transform/city.csv', index=None)\n",
    "city.head(10)\n",
    "'''"
   ]
  },
  {
   "cell_type": "code",
   "execution_count": 40,
   "metadata": {
    "collapsed": false
   },
   "outputs": [
    {
     "data": {
      "text/plain": [
       "\"\\n# get date of first order for every branch\\ncity = pd.read_csv('data_transform/city.csv')\\ncommon = pd.read_csv('data_original/common.csv')\\ncommon.Date = common.Date.apply(lambda x: pd.to_datetime(x))\\ngroupped = common.groupby(['Point'])['Date'].min()\\nstart_date = pd.DataFrame()\\nstart_date['Point'] = groupped.index\\nstart_date['FirstOrder'] = groupped.as_matrix()\\ncity = pd.merge(city, start_date[['Point', 'FirstOrder']], how='left', on='Point')\\ncity = city[city.columns.difference(['Unnamed: 0'])]\\ncity.to_csv('data_transform/city.csv', index=None)\\ncity.head()\\n\""
      ]
     },
     "execution_count": 40,
     "metadata": {},
     "output_type": "execute_result"
    }
   ],
   "source": [
    "'''\n",
    "# get date of first order for every branch\n",
    "city = pd.read_csv('data_transform/city.csv')\n",
    "common = pd.read_csv('data_original/common.csv')\n",
    "common.Date = common.Date.apply(lambda x: pd.to_datetime(x))\n",
    "groupped = common.groupby(['Point'])['Date'].min()\n",
    "start_date = pd.DataFrame()\n",
    "start_date['Point'] = groupped.index\n",
    "start_date['FirstOrder'] = groupped.as_matrix()\n",
    "city = pd.merge(city, start_date[['Point', 'FirstOrder']], how='left', on='Point')\n",
    "city = city[city.columns.difference(['Unnamed: 0'])]\n",
    "city.to_csv('data_transform/city.csv', index=None)\n",
    "city.head()\n",
    "'''"
   ]
  },
  {
   "cell_type": "markdown",
   "metadata": {},
   "source": [
    "# internal_features.csv"
   ]
  },
  {
   "cell_type": "code",
   "execution_count": 41,
   "metadata": {
    "collapsed": false
   },
   "outputs": [],
   "source": [
    "src = pd.read_csv('data_transform/date.csv')\n",
    "src[['Count', 'Point']] = pd.read_csv('data_original/common.csv')[['Count', 'Point']]\n",
    "dst = pd.DataFrame() "
   ]
  },
  {
   "cell_type": "code",
   "execution_count": 42,
   "metadata": {
    "collapsed": false
   },
   "outputs": [],
   "source": [
    "#tmp = pd.read_csv('data_transform/target.csv')\n",
    "#tmp = pd.read_csv('data_transform/target.csv')[(tmp.IsTrain == True) | (tmp.IsValidation == True)]\n",
    "\n",
    "#trainIndex = tmp.index"
   ]
  },
  {
   "cell_type": "code",
   "execution_count": 43,
   "metadata": {
    "collapsed": false
   },
   "outputs": [],
   "source": [
    "#src = pd.read_csv('data_transform/date.csv').iloc[trainIndex]\n",
    "#src[['Count', 'Point']] = pd.read_csv('data_original/common.csv')[['Count', 'Point']].iloc[trainIndex]\n",
    "#dst = pd.DataFrame() "
   ]
  },
  {
   "cell_type": "code",
   "execution_count": 44,
   "metadata": {
    "collapsed": false
   },
   "outputs": [],
   "source": [
    "tmp = pd.read_csv('data_transform/target.csv')\n",
    "validationIndex = tmp[tmp.IsValidation == True].index\n",
    "src.loc[validationIndex, 'Count'] = None"
   ]
  },
  {
   "cell_type": "code",
   "execution_count": 45,
   "metadata": {
    "collapsed": false
   },
   "outputs": [
    {
     "data": {
      "text/html": [
       "<div>\n",
       "<table border=\"1\" class=\"dataframe\">\n",
       "  <thead>\n",
       "    <tr style=\"text-align: right;\">\n",
       "      <th></th>\n",
       "      <th>Date</th>\n",
       "      <th>Year</th>\n",
       "      <th>Month</th>\n",
       "      <th>MonthDay</th>\n",
       "      <th>WeekDay</th>\n",
       "      <th>Point</th>\n",
       "      <th>YearDay</th>\n",
       "      <th>ThroughMonth</th>\n",
       "      <th>ThroughWeek</th>\n",
       "      <th>ThroughDay</th>\n",
       "      <th>Count</th>\n",
       "    </tr>\n",
       "  </thead>\n",
       "  <tbody>\n",
       "    <tr>\n",
       "      <th>0</th>\n",
       "      <td>2011-10-06</td>\n",
       "      <td>2011</td>\n",
       "      <td>10</td>\n",
       "      <td>6</td>\n",
       "      <td>3</td>\n",
       "      <td>Сыктывкар-1</td>\n",
       "      <td>278</td>\n",
       "      <td>0</td>\n",
       "      <td>0</td>\n",
       "      <td>0</td>\n",
       "      <td>8.0</td>\n",
       "    </tr>\n",
       "    <tr>\n",
       "      <th>1</th>\n",
       "      <td>2011-10-07</td>\n",
       "      <td>2011</td>\n",
       "      <td>10</td>\n",
       "      <td>7</td>\n",
       "      <td>4</td>\n",
       "      <td>Сыктывкар-1</td>\n",
       "      <td>279</td>\n",
       "      <td>0</td>\n",
       "      <td>0</td>\n",
       "      <td>1</td>\n",
       "      <td>88.0</td>\n",
       "    </tr>\n",
       "    <tr>\n",
       "      <th>2</th>\n",
       "      <td>2011-10-09</td>\n",
       "      <td>2011</td>\n",
       "      <td>10</td>\n",
       "      <td>9</td>\n",
       "      <td>6</td>\n",
       "      <td>Сыктывкар-1</td>\n",
       "      <td>281</td>\n",
       "      <td>0</td>\n",
       "      <td>0</td>\n",
       "      <td>3</td>\n",
       "      <td>1.0</td>\n",
       "    </tr>\n",
       "    <tr>\n",
       "      <th>3</th>\n",
       "      <td>2011-11-15</td>\n",
       "      <td>2011</td>\n",
       "      <td>11</td>\n",
       "      <td>15</td>\n",
       "      <td>1</td>\n",
       "      <td>Сыктывкар-1</td>\n",
       "      <td>318</td>\n",
       "      <td>1</td>\n",
       "      <td>6</td>\n",
       "      <td>40</td>\n",
       "      <td>1.0</td>\n",
       "    </tr>\n",
       "    <tr>\n",
       "      <th>4</th>\n",
       "      <td>2011-12-08</td>\n",
       "      <td>2011</td>\n",
       "      <td>12</td>\n",
       "      <td>8</td>\n",
       "      <td>3</td>\n",
       "      <td>Сыктывкар-1</td>\n",
       "      <td>341</td>\n",
       "      <td>2</td>\n",
       "      <td>9</td>\n",
       "      <td>63</td>\n",
       "      <td>2.0</td>\n",
       "    </tr>\n",
       "    <tr>\n",
       "      <th>5</th>\n",
       "      <td>2011-12-09</td>\n",
       "      <td>2011</td>\n",
       "      <td>12</td>\n",
       "      <td>9</td>\n",
       "      <td>4</td>\n",
       "      <td>Сыктывкар-1</td>\n",
       "      <td>342</td>\n",
       "      <td>2</td>\n",
       "      <td>9</td>\n",
       "      <td>64</td>\n",
       "      <td>43.0</td>\n",
       "    </tr>\n",
       "    <tr>\n",
       "      <th>6</th>\n",
       "      <td>2011-12-10</td>\n",
       "      <td>2011</td>\n",
       "      <td>12</td>\n",
       "      <td>10</td>\n",
       "      <td>5</td>\n",
       "      <td>Сыктывкар-1</td>\n",
       "      <td>343</td>\n",
       "      <td>2</td>\n",
       "      <td>9</td>\n",
       "      <td>65</td>\n",
       "      <td>10.0</td>\n",
       "    </tr>\n",
       "    <tr>\n",
       "      <th>7</th>\n",
       "      <td>2011-12-11</td>\n",
       "      <td>2011</td>\n",
       "      <td>12</td>\n",
       "      <td>11</td>\n",
       "      <td>6</td>\n",
       "      <td>Сыктывкар-1</td>\n",
       "      <td>344</td>\n",
       "      <td>2</td>\n",
       "      <td>9</td>\n",
       "      <td>66</td>\n",
       "      <td>1.0</td>\n",
       "    </tr>\n",
       "    <tr>\n",
       "      <th>8</th>\n",
       "      <td>2011-12-13</td>\n",
       "      <td>2011</td>\n",
       "      <td>12</td>\n",
       "      <td>13</td>\n",
       "      <td>1</td>\n",
       "      <td>Сыктывкар-1</td>\n",
       "      <td>346</td>\n",
       "      <td>2</td>\n",
       "      <td>10</td>\n",
       "      <td>68</td>\n",
       "      <td>60.0</td>\n",
       "    </tr>\n",
       "    <tr>\n",
       "      <th>9</th>\n",
       "      <td>2011-12-14</td>\n",
       "      <td>2011</td>\n",
       "      <td>12</td>\n",
       "      <td>14</td>\n",
       "      <td>2</td>\n",
       "      <td>Сыктывкар-1</td>\n",
       "      <td>347</td>\n",
       "      <td>2</td>\n",
       "      <td>10</td>\n",
       "      <td>69</td>\n",
       "      <td>NaN</td>\n",
       "    </tr>\n",
       "  </tbody>\n",
       "</table>\n",
       "</div>"
      ],
      "text/plain": [
       "         Date  Year  Month  MonthDay  WeekDay        Point  YearDay  \\\n",
       "0  2011-10-06  2011     10         6        3  Сыктывкар-1      278   \n",
       "1  2011-10-07  2011     10         7        4  Сыктывкар-1      279   \n",
       "2  2011-10-09  2011     10         9        6  Сыктывкар-1      281   \n",
       "3  2011-11-15  2011     11        15        1  Сыктывкар-1      318   \n",
       "4  2011-12-08  2011     12         8        3  Сыктывкар-1      341   \n",
       "5  2011-12-09  2011     12         9        4  Сыктывкар-1      342   \n",
       "6  2011-12-10  2011     12        10        5  Сыктывкар-1      343   \n",
       "7  2011-12-11  2011     12        11        6  Сыктывкар-1      344   \n",
       "8  2011-12-13  2011     12        13        1  Сыктывкар-1      346   \n",
       "9  2011-12-14  2011     12        14        2  Сыктывкар-1      347   \n",
       "\n",
       "   ThroughMonth  ThroughWeek  ThroughDay  Count  \n",
       "0             0            0           0    8.0  \n",
       "1             0            0           1   88.0  \n",
       "2             0            0           3    1.0  \n",
       "3             1            6          40    1.0  \n",
       "4             2            9          63    2.0  \n",
       "5             2            9          64   43.0  \n",
       "6             2            9          65   10.0  \n",
       "7             2            9          66    1.0  \n",
       "8             2           10          68   60.0  \n",
       "9             2           10          69    NaN  "
      ]
     },
     "execution_count": 45,
     "metadata": {},
     "output_type": "execute_result"
    }
   ],
   "source": [
    "src.head(10)"
   ]
  },
  {
   "cell_type": "code",
   "execution_count": null,
   "metadata": {
    "collapsed": false
   },
   "outputs": [],
   "source": []
  },
  {
   "cell_type": "code",
   "execution_count": null,
   "metadata": {
    "collapsed": false
   },
   "outputs": [],
   "source": []
  },
  {
   "cell_type": "code",
   "execution_count": null,
   "metadata": {
    "collapsed": false
   },
   "outputs": [],
   "source": []
  },
  {
   "cell_type": "markdown",
   "metadata": {},
   "source": [
    "##  Next-Prev N Value"
   ]
  },
  {
   "cell_type": "code",
   "execution_count": 46,
   "metadata": {
    "collapsed": false
   },
   "outputs": [],
   "source": [
    "def GetValueForNPrevNextDay(n, target, src):\n",
    "    targetCopy = target.copy()\n",
    "    targetCopy.Count.loc[targetCopy.IsValidation == 1] = np.nan\n",
    "\n",
    "    targetCopy['Point'] = src.Point\n",
    "\n",
    "    city = src.Point.unique()\n",
    "\n",
    "    result = np.array([np.nan] * targetCopy.shape[0])\n",
    "    for i in city:\n",
    "        value = targetCopy.Count[targetCopy.Point == i].shift(n)\n",
    "        for j in value.index:\n",
    "            result[j] = value[j]\n",
    "\n",
    "\n",
    "    prefics = \"Prev\" if n > 0 else \"Next\"\n",
    "    targetCopy[prefics + str(abs(n)) + \"Day\"] = pd.Series(result)\n",
    "    del targetCopy[\"Point\"]\n",
    "    return targetCopy[prefics + str(abs(n)) + \"Day\"]"
   ]
  },
  {
   "cell_type": "code",
   "execution_count": 47,
   "metadata": {
    "collapsed": false
   },
   "outputs": [
    {
     "name": "stderr",
     "output_type": "stream",
     "text": [
      "/home/laol/env/local/lib/python2.7/site-packages/pandas/core/indexing.py:140: SettingWithCopyWarning: \n",
      "A value is trying to be set on a copy of a slice from a DataFrame\n",
      "\n",
      "See the caveats in the documentation: http://pandas.pydata.org/pandas-docs/stable/indexing.html#indexing-view-versus-copy\n",
      "  self._setitem_with_indexer(indexer, value)\n"
     ]
    }
   ],
   "source": [
    "target[\"Prev1Day\"] = GetValueForNPrevNextDay(1, target, src)\n",
    "target[\"Prev2Day\"] = GetValueForNPrevNextDay(2, target, src)\n",
    "target[\"Prev3Day\"] = GetValueForNPrevNextDay(3, target, src)\n",
    "target[\"Prev7Day\"] = GetValueForNPrevNextDay(7, target, src)"
   ]
  },
  {
   "cell_type": "code",
   "execution_count": 48,
   "metadata": {
    "collapsed": false
   },
   "outputs": [],
   "source": [
    "target[\"Next1Day\"] = GetValueForNPrevNextDay(-1, target, src)\n",
    "target[\"Next1Day\"] = GetValueForNPrevNextDay(-2, target, src)\n",
    "target[\"Next1Day\"] = GetValueForNPrevNextDay(-3, target, src)\n",
    "target[\"Next1Day\"] = GetValueForNPrevNextDay(-7, target, src)"
   ]
  },
  {
   "cell_type": "code",
   "execution_count": 49,
   "metadata": {
    "collapsed": false
   },
   "outputs": [],
   "source": [
    "target.to_csv('data_transform/target.csv', index = None)"
   ]
  },
  {
   "cell_type": "code",
   "execution_count": 50,
   "metadata": {
    "collapsed": false
   },
   "outputs": [
    {
     "data": {
      "text/html": [
       "<div>\n",
       "<table border=\"1\" class=\"dataframe\">\n",
       "  <thead>\n",
       "    <tr style=\"text-align: right;\">\n",
       "      <th></th>\n",
       "      <th>Count</th>\n",
       "      <th>IsTest</th>\n",
       "      <th>IsTrain</th>\n",
       "      <th>IsValidation</th>\n",
       "      <th>Prev1Day</th>\n",
       "      <th>Prev2Day</th>\n",
       "      <th>Prev3Day</th>\n",
       "      <th>Prev7Day</th>\n",
       "      <th>Next1Day</th>\n",
       "    </tr>\n",
       "  </thead>\n",
       "  <tbody>\n",
       "    <tr>\n",
       "      <th>0</th>\n",
       "      <td>8.0</td>\n",
       "      <td>0</td>\n",
       "      <td>1</td>\n",
       "      <td>0</td>\n",
       "      <td>NaN</td>\n",
       "      <td>NaN</td>\n",
       "      <td>NaN</td>\n",
       "      <td>NaN</td>\n",
       "      <td>1.0</td>\n",
       "    </tr>\n",
       "    <tr>\n",
       "      <th>1</th>\n",
       "      <td>88.0</td>\n",
       "      <td>0</td>\n",
       "      <td>1</td>\n",
       "      <td>0</td>\n",
       "      <td>8.0</td>\n",
       "      <td>NaN</td>\n",
       "      <td>NaN</td>\n",
       "      <td>NaN</td>\n",
       "      <td>60.0</td>\n",
       "    </tr>\n",
       "    <tr>\n",
       "      <th>2</th>\n",
       "      <td>1.0</td>\n",
       "      <td>0</td>\n",
       "      <td>1</td>\n",
       "      <td>0</td>\n",
       "      <td>88.0</td>\n",
       "      <td>8.0</td>\n",
       "      <td>NaN</td>\n",
       "      <td>NaN</td>\n",
       "      <td>NaN</td>\n",
       "    </tr>\n",
       "    <tr>\n",
       "      <th>3</th>\n",
       "      <td>1.0</td>\n",
       "      <td>0</td>\n",
       "      <td>1</td>\n",
       "      <td>0</td>\n",
       "      <td>1.0</td>\n",
       "      <td>88.0</td>\n",
       "      <td>8.0</td>\n",
       "      <td>NaN</td>\n",
       "      <td>96.0</td>\n",
       "    </tr>\n",
       "    <tr>\n",
       "      <th>4</th>\n",
       "      <td>2.0</td>\n",
       "      <td>0</td>\n",
       "      <td>1</td>\n",
       "      <td>0</td>\n",
       "      <td>1.0</td>\n",
       "      <td>1.0</td>\n",
       "      <td>88.0</td>\n",
       "      <td>NaN</td>\n",
       "      <td>134.0</td>\n",
       "    </tr>\n",
       "    <tr>\n",
       "      <th>5</th>\n",
       "      <td>43.0</td>\n",
       "      <td>0</td>\n",
       "      <td>1</td>\n",
       "      <td>0</td>\n",
       "      <td>2.0</td>\n",
       "      <td>1.0</td>\n",
       "      <td>1.0</td>\n",
       "      <td>NaN</td>\n",
       "      <td>NaN</td>\n",
       "    </tr>\n",
       "    <tr>\n",
       "      <th>6</th>\n",
       "      <td>10.0</td>\n",
       "      <td>0</td>\n",
       "      <td>1</td>\n",
       "      <td>0</td>\n",
       "      <td>43.0</td>\n",
       "      <td>2.0</td>\n",
       "      <td>1.0</td>\n",
       "      <td>NaN</td>\n",
       "      <td>100.0</td>\n",
       "    </tr>\n",
       "    <tr>\n",
       "      <th>7</th>\n",
       "      <td>1.0</td>\n",
       "      <td>0</td>\n",
       "      <td>1</td>\n",
       "      <td>0</td>\n",
       "      <td>10.0</td>\n",
       "      <td>43.0</td>\n",
       "      <td>2.0</td>\n",
       "      <td>8.0</td>\n",
       "      <td>NaN</td>\n",
       "    </tr>\n",
       "    <tr>\n",
       "      <th>8</th>\n",
       "      <td>60.0</td>\n",
       "      <td>0</td>\n",
       "      <td>1</td>\n",
       "      <td>0</td>\n",
       "      <td>1.0</td>\n",
       "      <td>10.0</td>\n",
       "      <td>43.0</td>\n",
       "      <td>88.0</td>\n",
       "      <td>73.0</td>\n",
       "    </tr>\n",
       "    <tr>\n",
       "      <th>9</th>\n",
       "      <td>NaN</td>\n",
       "      <td>1</td>\n",
       "      <td>0</td>\n",
       "      <td>0</td>\n",
       "      <td>60.0</td>\n",
       "      <td>1.0</td>\n",
       "      <td>10.0</td>\n",
       "      <td>1.0</td>\n",
       "      <td>NaN</td>\n",
       "    </tr>\n",
       "    <tr>\n",
       "      <th>10</th>\n",
       "      <td>96.0</td>\n",
       "      <td>0</td>\n",
       "      <td>1</td>\n",
       "      <td>0</td>\n",
       "      <td>NaN</td>\n",
       "      <td>60.0</td>\n",
       "      <td>1.0</td>\n",
       "      <td>1.0</td>\n",
       "      <td>94.0</td>\n",
       "    </tr>\n",
       "    <tr>\n",
       "      <th>11</th>\n",
       "      <td>134.0</td>\n",
       "      <td>0</td>\n",
       "      <td>1</td>\n",
       "      <td>0</td>\n",
       "      <td>96.0</td>\n",
       "      <td>NaN</td>\n",
       "      <td>60.0</td>\n",
       "      <td>2.0</td>\n",
       "      <td>129.0</td>\n",
       "    </tr>\n",
       "    <tr>\n",
       "      <th>12</th>\n",
       "      <td>112.0</td>\n",
       "      <td>0</td>\n",
       "      <td>0</td>\n",
       "      <td>1</td>\n",
       "      <td>134.0</td>\n",
       "      <td>96.0</td>\n",
       "      <td>NaN</td>\n",
       "      <td>43.0</td>\n",
       "      <td>164.0</td>\n",
       "    </tr>\n",
       "    <tr>\n",
       "      <th>13</th>\n",
       "      <td>100.0</td>\n",
       "      <td>0</td>\n",
       "      <td>1</td>\n",
       "      <td>0</td>\n",
       "      <td>NaN</td>\n",
       "      <td>134.0</td>\n",
       "      <td>96.0</td>\n",
       "      <td>10.0</td>\n",
       "      <td>122.0</td>\n",
       "    </tr>\n",
       "    <tr>\n",
       "      <th>14</th>\n",
       "      <td>NaN</td>\n",
       "      <td>1</td>\n",
       "      <td>0</td>\n",
       "      <td>0</td>\n",
       "      <td>100.0</td>\n",
       "      <td>NaN</td>\n",
       "      <td>134.0</td>\n",
       "      <td>1.0</td>\n",
       "      <td>NaN</td>\n",
       "    </tr>\n",
       "  </tbody>\n",
       "</table>\n",
       "</div>"
      ],
      "text/plain": [
       "    Count  IsTest  IsTrain  IsValidation  Prev1Day  Prev2Day  Prev3Day  \\\n",
       "0     8.0       0        1             0       NaN       NaN       NaN   \n",
       "1    88.0       0        1             0       8.0       NaN       NaN   \n",
       "2     1.0       0        1             0      88.0       8.0       NaN   \n",
       "3     1.0       0        1             0       1.0      88.0       8.0   \n",
       "4     2.0       0        1             0       1.0       1.0      88.0   \n",
       "5    43.0       0        1             0       2.0       1.0       1.0   \n",
       "6    10.0       0        1             0      43.0       2.0       1.0   \n",
       "7     1.0       0        1             0      10.0      43.0       2.0   \n",
       "8    60.0       0        1             0       1.0      10.0      43.0   \n",
       "9     NaN       1        0             0      60.0       1.0      10.0   \n",
       "10   96.0       0        1             0       NaN      60.0       1.0   \n",
       "11  134.0       0        1             0      96.0       NaN      60.0   \n",
       "12  112.0       0        0             1     134.0      96.0       NaN   \n",
       "13  100.0       0        1             0       NaN     134.0      96.0   \n",
       "14    NaN       1        0             0     100.0       NaN     134.0   \n",
       "\n",
       "    Prev7Day  Next1Day  \n",
       "0        NaN       1.0  \n",
       "1        NaN      60.0  \n",
       "2        NaN       NaN  \n",
       "3        NaN      96.0  \n",
       "4        NaN     134.0  \n",
       "5        NaN       NaN  \n",
       "6        NaN     100.0  \n",
       "7        8.0       NaN  \n",
       "8       88.0      73.0  \n",
       "9        1.0       NaN  \n",
       "10       1.0      94.0  \n",
       "11       2.0     129.0  \n",
       "12      43.0     164.0  \n",
       "13      10.0     122.0  \n",
       "14       1.0       NaN  "
      ]
     },
     "execution_count": 50,
     "metadata": {},
     "output_type": "execute_result"
    }
   ],
   "source": [
    "target.head(15)"
   ]
  },
  {
   "cell_type": "markdown",
   "metadata": {},
   "source": [
    "##  Next-Prev N Existing Count\n",
    "## НЕ ЗАПУСКАТЬ!!! - очень долго считается\n",
    "## TODO: Оптимизировать"
   ]
  },
  {
   "cell_type": "code",
   "execution_count": null,
   "metadata": {
    "collapsed": true
   },
   "outputs": [],
   "source": [
    "date = pd.read_csv('data_transform/date.csv')\n",
    "city = pd.read_csv('data_transform/city.csv')\n",
    "target = pd.read_csv('data_transform/target.csv')"
   ]
  },
  {
   "cell_type": "code",
   "execution_count": null,
   "metadata": {
    "collapsed": false
   },
   "outputs": [],
   "source": [
    "tmp = pd.DataFrame()\n",
    "tmp[[\"Count\", \"IsTest\", \"IsTrain\", \"IsValidation\"]]= target[[\"Count\", \"IsTest\", \"IsTrain\", \"IsValidation\"]]\n",
    "tmp[\"Point\"] = date.Point\n",
    "tmp[\"Date\"] = pd.to_datetime(date.Date)"
   ]
  },
  {
   "cell_type": "code",
   "execution_count": null,
   "metadata": {
    "collapsed": false
   },
   "outputs": [],
   "source": [
    "tmp.Count.loc[tmp.IsValidation == 1] = np.nan"
   ]
  },
  {
   "cell_type": "code",
   "execution_count": null,
   "metadata": {
    "collapsed": false
   },
   "outputs": [],
   "source": [
    "tmp.head()"
   ]
  },
  {
   "cell_type": "code",
   "execution_count": null,
   "metadata": {
    "collapsed": false
   },
   "outputs": [],
   "source": [
    "resultExistingMean = pd.DataFrame()"
   ]
  },
  {
   "cell_type": "code",
   "execution_count": null,
   "metadata": {
    "collapsed": false,
    "scrolled": true
   },
   "outputs": [],
   "source": [
    "def GetNextNExistingValue(n):\n",
    "    result = np.array([np.nan] * tmp.shape[0])\n",
    "    k = 1\n",
    "    for i in range(tmp.shape[0]):\n",
    "        currentDay = tmp.Date[i]\n",
    "        targetCity = tmp.Point[i]\n",
    "        tmpForCity = tmp[(tmp.Point == targetCity) &(tmp.IsTrain == 1)] #получение данных только по определенному \n",
    "        #городу и из Train части\n",
    "        valueLessWhenN = (tmpForCity.Date.map(lambda x: (x  - currentDay).days) <= n) \\\n",
    "                        &(tmpForCity.Date.map(lambda x: (x  - currentDay).days) > 0)\n",
    "        # получение городов, чья разница между первоночальной датой и вычисляемой меньше n и больше 0 (в днях)\n",
    "        targetCount = tmpForCity.Count[valueLessWhenN] #получение Count переменных для этих городов\n",
    "        targetCount = targetCount.dropna() #удаление отсутвующих значений для вычисления средних\n",
    "        meanCount = np.mean(targetCount)\n",
    "        result[i] = meanCount\n",
    "        k += 1\n",
    "        if ( (k % 500) == 1):\n",
    "            print k / 500,\n",
    "    return result\n",
    "\n",
    "def GetPrevNExistingValue(n):\n",
    "    result = np.array([np.nan] * tmp.shape[0])\n",
    "    k = 1\n",
    "    for i in range(tmp.shape[0]):\n",
    "        currentDay = tmp.Date[i]\n",
    "        targetCity = tmp.Point[i]\n",
    "        tmpForCity = tmp[(tmp.Point == targetCity) &(tmp.IsTrain == 1)] #получение данных только по определенному \n",
    "        #городу и из Train части\n",
    "        valueLessWhenN = (tmpForCity.Date.map(lambda x: (x  - currentDay).days) >= n) \\\n",
    "                        &(tmpForCity.Date.map(lambda x: (x  - currentDay).days) < 0)\n",
    "        # получение городов, чья разница между первоночальной датой и вычисляемой меньше n и больше 0 (в днях)\n",
    "        targetCount = tmpForCity.Count[valueLessWhenN] #получение Count переменных для этих городов\n",
    "        targetCount = targetCount.dropna() #удаление отсутвующих значений для вычисления средних\n",
    "        meanCount = np.mean(targetCount)\n",
    "        result[i] = meanCount\n",
    "        k += 1\n",
    "        if ( (k % 500) == 1):\n",
    "            print k / 500,\n",
    "    return result"
   ]
  },
  {
   "cell_type": "code",
   "execution_count": null,
   "metadata": {
    "collapsed": false
   },
   "outputs": [],
   "source": [
    "resultExistingMean[\"NextExisting1Value\"] = pd.Series(GetNextNExistingValue(1))"
   ]
  },
  {
   "cell_type": "code",
   "execution_count": null,
   "metadata": {
    "collapsed": false
   },
   "outputs": [],
   "source": [
    "resultExistingMean[\"NextExisting2Value\"] = pd.Series(GetNextNExistingValue(2))"
   ]
  },
  {
   "cell_type": "code",
   "execution_count": null,
   "metadata": {
    "collapsed": false
   },
   "outputs": [],
   "source": [
    "resultExistingMean[\"NextExisting3Value\"] = pd.Series(GetNextNExistingValue(3))"
   ]
  },
  {
   "cell_type": "code",
   "execution_count": null,
   "metadata": {
    "collapsed": false
   },
   "outputs": [],
   "source": [
    "resultExistingMean[\"NextExisting7Value\"] = pd.Series(GetNextNExistingValue(7))"
   ]
  },
  {
   "cell_type": "code",
   "execution_count": null,
   "metadata": {
    "collapsed": true
   },
   "outputs": [],
   "source": [
    "resultExistingMean[\"NextExisting14Value\"] = pd.Series(GetNextNExistingValue(14))"
   ]
  },
  {
   "cell_type": "code",
   "execution_count": null,
   "metadata": {
    "collapsed": true
   },
   "outputs": [],
   "source": [
    "resultExistingMean[\"NextExisting21Value\"] = pd.Series(GetNextNExistingValue(21))"
   ]
  },
  {
   "cell_type": "code",
   "execution_count": null,
   "metadata": {
    "collapsed": true
   },
   "outputs": [],
   "source": [
    "resultExistingMean[\"NextExisting30Value\"] = pd.Series(GetNextNExistingValue(30))"
   ]
  },
  {
   "cell_type": "code",
   "execution_count": null,
   "metadata": {
    "collapsed": true
   },
   "outputs": [],
   "source": [
    "resultExistingMean.to_csv('data_transform/resultExistingMean.csv', index=None)"
   ]
  },
  {
   "cell_type": "code",
   "execution_count": null,
   "metadata": {
    "collapsed": false
   },
   "outputs": [],
   "source": []
  },
  {
   "cell_type": "code",
   "execution_count": null,
   "metadata": {
    "collapsed": false
   },
   "outputs": [],
   "source": []
  },
  {
   "cell_type": "code",
   "execution_count": null,
   "metadata": {
    "collapsed": false
   },
   "outputs": [],
   "source": [
    "resultExistingMean[\"PrevExisting1Value\"] = pd.Series(GetPrevNExistingValue(-1))"
   ]
  },
  {
   "cell_type": "code",
   "execution_count": null,
   "metadata": {
    "collapsed": true
   },
   "outputs": [],
   "source": [
    "resultExistingMean[\"PrevExisting2Value\"] = pd.Series(GetPrevNExistingValue(-2))"
   ]
  },
  {
   "cell_type": "code",
   "execution_count": null,
   "metadata": {
    "collapsed": true
   },
   "outputs": [],
   "source": [
    "resultExistingMean[\"PrevExisting3Value\"] = pd.Series(GetPrevNExistingValue(-3))"
   ]
  },
  {
   "cell_type": "code",
   "execution_count": null,
   "metadata": {
    "collapsed": true
   },
   "outputs": [],
   "source": [
    "resultExistingMean[\"PrevExisting7Value\"] = pd.Series(GetPrevNExistingValue(-7))"
   ]
  },
  {
   "cell_type": "code",
   "execution_count": null,
   "metadata": {
    "collapsed": true
   },
   "outputs": [],
   "source": [
    "resultExistingMean[\"PrevExisting14Value\"] = pd.Series(GetPrevNExistingValue(-14))"
   ]
  },
  {
   "cell_type": "code",
   "execution_count": null,
   "metadata": {
    "collapsed": true
   },
   "outputs": [],
   "source": [
    "resultExistingMean[\"PrevExisting21Value\"] = pd.Series(GetPrevNExistingValue(-21))"
   ]
  },
  {
   "cell_type": "code",
   "execution_count": null,
   "metadata": {
    "collapsed": true
   },
   "outputs": [],
   "source": [
    "resultExistingMean[\"PrevExisting30Value\"] = pd.Series(GetPrevNExistingValue(-30))"
   ]
  },
  {
   "cell_type": "code",
   "execution_count": null,
   "metadata": {
    "collapsed": true
   },
   "outputs": [],
   "source": [
    "resultExistingMean.to_csv('data_transform/resultExistingMean.csv', index=None)"
   ]
  },
  {
   "cell_type": "code",
   "execution_count": null,
   "metadata": {
    "collapsed": true
   },
   "outputs": [],
   "source": []
  },
  {
   "cell_type": "code",
   "execution_count": null,
   "metadata": {
    "collapsed": true
   },
   "outputs": [],
   "source": []
  },
  {
   "cell_type": "code",
   "execution_count": null,
   "metadata": {
    "collapsed": true
   },
   "outputs": [],
   "source": []
  },
  {
   "cell_type": "code",
   "execution_count": null,
   "metadata": {
    "collapsed": true
   },
   "outputs": [],
   "source": []
  },
  {
   "cell_type": "markdown",
   "metadata": {},
   "source": [
    "## Mean"
   ]
  },
  {
   "cell_type": "markdown",
   "metadata": {},
   "source": [
    "### by date independed from points"
   ]
  },
  {
   "cell_type": "code",
   "execution_count": 51,
   "metadata": {
    "collapsed": false
   },
   "outputs": [],
   "source": [
    "def calc_mean(src, group_column, target_column):\n",
    "    mean = src.groupby([group_column])[target_column].mean()\n",
    "    return src[group_column].apply(lambda x: mean[x])\n",
    "\n",
    "def calc_median(src, group_column, target_column):\n",
    "    median = src.groupby([group_column])[target_column].median()\n",
    "    return src[group_column].apply(lambda x: median[x])\n",
    "\n",
    "def calc_mode(src, group_column, target_column):\n",
    "    mode = src.groupby([group_column])[target_column].mode().mean()\n",
    "    return src[group_column].apply(lambda x: mode[x])"
   ]
  },
  {
   "cell_type": "code",
   "execution_count": 52,
   "metadata": {
    "collapsed": false,
    "scrolled": true
   },
   "outputs": [
    {
     "data": {
      "text/plain": [
       "\"    \\nfor column in need_mean_list:\\n    dst['MedianFor' + column] = calc_mean(src, column, 'Count')\\n\\nfor column in need_mean_list:\\n    dst['ModeFor' + column] = calc_mean(src, column, 'Count')\\n\""
      ]
     },
     "execution_count": 52,
     "metadata": {},
     "output_type": "execute_result"
    }
   ],
   "source": [
    "need_mean_list = src.columns.difference(['Date', 'Count', 'Point'])\n",
    "for column in need_mean_list:\n",
    "    dst['MeanFor' + column] = calc_mean(src, column, 'Count')\n",
    "'''    \n",
    "for column in need_mean_list:\n",
    "    dst['MedianFor' + column] = calc_mean(src, column, 'Count')\n",
    "\n",
    "for column in need_mean_list:\n",
    "    dst['ModeFor' + column] = calc_mean(src, column, 'Count')\n",
    "'''"
   ]
  },
  {
   "cell_type": "code",
   "execution_count": 53,
   "metadata": {
    "collapsed": false
   },
   "outputs": [
    {
     "data": {
      "text/html": [
       "<div>\n",
       "<table border=\"1\" class=\"dataframe\">\n",
       "  <thead>\n",
       "    <tr style=\"text-align: right;\">\n",
       "      <th></th>\n",
       "      <th>MeanForMonth</th>\n",
       "      <th>MeanForMonthDay</th>\n",
       "      <th>MeanForThroughDay</th>\n",
       "      <th>MeanForThroughMonth</th>\n",
       "      <th>MeanForThroughWeek</th>\n",
       "      <th>MeanForWeekDay</th>\n",
       "      <th>MeanForYear</th>\n",
       "      <th>MeanForYearDay</th>\n",
       "    </tr>\n",
       "  </thead>\n",
       "  <tbody>\n",
       "    <tr>\n",
       "      <th>0</th>\n",
       "      <td>112.001349</td>\n",
       "      <td>105.840179</td>\n",
       "      <td>8.0</td>\n",
       "      <td>32.333333</td>\n",
       "      <td>32.333333</td>\n",
       "      <td>92.144521</td>\n",
       "      <td>81.761905</td>\n",
       "      <td>94.879032</td>\n",
       "    </tr>\n",
       "    <tr>\n",
       "      <th>1</th>\n",
       "      <td>112.001349</td>\n",
       "      <td>107.898594</td>\n",
       "      <td>88.0</td>\n",
       "      <td>32.333333</td>\n",
       "      <td>32.333333</td>\n",
       "      <td>123.380279</td>\n",
       "      <td>81.761905</td>\n",
       "      <td>91.006452</td>\n",
       "    </tr>\n",
       "    <tr>\n",
       "      <th>2</th>\n",
       "      <td>112.001349</td>\n",
       "      <td>105.792248</td>\n",
       "      <td>1.0</td>\n",
       "      <td>32.333333</td>\n",
       "      <td>32.333333</td>\n",
       "      <td>123.680556</td>\n",
       "      <td>81.761905</td>\n",
       "      <td>148.588235</td>\n",
       "    </tr>\n",
       "    <tr>\n",
       "      <th>3</th>\n",
       "      <td>102.960945</td>\n",
       "      <td>108.679322</td>\n",
       "      <td>1.0</td>\n",
       "      <td>1.000000</td>\n",
       "      <td>1.000000</td>\n",
       "      <td>87.408369</td>\n",
       "      <td>81.761905</td>\n",
       "      <td>127.435897</td>\n",
       "    </tr>\n",
       "    <tr>\n",
       "      <th>4</th>\n",
       "      <td>107.056321</td>\n",
       "      <td>109.635155</td>\n",
       "      <td>2.0</td>\n",
       "      <td>95.235294</td>\n",
       "      <td>14.000000</td>\n",
       "      <td>92.144521</td>\n",
       "      <td>81.761905</td>\n",
       "      <td>76.943820</td>\n",
       "    </tr>\n",
       "    <tr>\n",
       "      <th>5</th>\n",
       "      <td>107.056321</td>\n",
       "      <td>105.792248</td>\n",
       "      <td>43.0</td>\n",
       "      <td>95.235294</td>\n",
       "      <td>14.000000</td>\n",
       "      <td>123.380279</td>\n",
       "      <td>81.761905</td>\n",
       "      <td>77.311111</td>\n",
       "    </tr>\n",
       "    <tr>\n",
       "      <th>6</th>\n",
       "      <td>107.056321</td>\n",
       "      <td>101.936484</td>\n",
       "      <td>10.0</td>\n",
       "      <td>95.235294</td>\n",
       "      <td>14.000000</td>\n",
       "      <td>143.048428</td>\n",
       "      <td>81.761905</td>\n",
       "      <td>83.341772</td>\n",
       "    </tr>\n",
       "    <tr>\n",
       "      <th>7</th>\n",
       "      <td>107.056321</td>\n",
       "      <td>103.228209</td>\n",
       "      <td>1.0</td>\n",
       "      <td>95.235294</td>\n",
       "      <td>14.000000</td>\n",
       "      <td>123.680556</td>\n",
       "      <td>81.761905</td>\n",
       "      <td>104.192771</td>\n",
       "    </tr>\n",
       "    <tr>\n",
       "      <th>8</th>\n",
       "      <td>107.056321</td>\n",
       "      <td>100.536834</td>\n",
       "      <td>60.0</td>\n",
       "      <td>95.235294</td>\n",
       "      <td>97.500000</td>\n",
       "      <td>87.408369</td>\n",
       "      <td>81.761905</td>\n",
       "      <td>132.416667</td>\n",
       "    </tr>\n",
       "    <tr>\n",
       "      <th>9</th>\n",
       "      <td>107.056321</td>\n",
       "      <td>107.237121</td>\n",
       "      <td>NaN</td>\n",
       "      <td>95.235294</td>\n",
       "      <td>97.500000</td>\n",
       "      <td>87.944200</td>\n",
       "      <td>81.761905</td>\n",
       "      <td>119.550000</td>\n",
       "    </tr>\n",
       "    <tr>\n",
       "      <th>10</th>\n",
       "      <td>107.056321</td>\n",
       "      <td>108.679322</td>\n",
       "      <td>96.0</td>\n",
       "      <td>95.235294</td>\n",
       "      <td>97.500000</td>\n",
       "      <td>92.144521</td>\n",
       "      <td>81.761905</td>\n",
       "      <td>76.741573</td>\n",
       "    </tr>\n",
       "    <tr>\n",
       "      <th>11</th>\n",
       "      <td>107.056321</td>\n",
       "      <td>106.617331</td>\n",
       "      <td>134.0</td>\n",
       "      <td>95.235294</td>\n",
       "      <td>97.500000</td>\n",
       "      <td>123.380279</td>\n",
       "      <td>81.761905</td>\n",
       "      <td>80.011236</td>\n",
       "    </tr>\n",
       "    <tr>\n",
       "      <th>12</th>\n",
       "      <td>107.056321</td>\n",
       "      <td>107.215625</td>\n",
       "      <td>NaN</td>\n",
       "      <td>95.235294</td>\n",
       "      <td>97.500000</td>\n",
       "      <td>143.048428</td>\n",
       "      <td>81.761905</td>\n",
       "      <td>86.226667</td>\n",
       "    </tr>\n",
       "    <tr>\n",
       "      <th>13</th>\n",
       "      <td>107.056321</td>\n",
       "      <td>100.105546</td>\n",
       "      <td>100.0</td>\n",
       "      <td>95.235294</td>\n",
       "      <td>97.500000</td>\n",
       "      <td>123.680556</td>\n",
       "      <td>81.761905</td>\n",
       "      <td>95.666667</td>\n",
       "    </tr>\n",
       "    <tr>\n",
       "      <th>14</th>\n",
       "      <td>107.056321</td>\n",
       "      <td>100.051700</td>\n",
       "      <td>NaN</td>\n",
       "      <td>95.235294</td>\n",
       "      <td>116.400000</td>\n",
       "      <td>86.413470</td>\n",
       "      <td>81.761905</td>\n",
       "      <td>130.135417</td>\n",
       "    </tr>\n",
       "  </tbody>\n",
       "</table>\n",
       "</div>"
      ],
      "text/plain": [
       "    MeanForMonth  MeanForMonthDay  MeanForThroughDay  MeanForThroughMonth  \\\n",
       "0     112.001349       105.840179                8.0            32.333333   \n",
       "1     112.001349       107.898594               88.0            32.333333   \n",
       "2     112.001349       105.792248                1.0            32.333333   \n",
       "3     102.960945       108.679322                1.0             1.000000   \n",
       "4     107.056321       109.635155                2.0            95.235294   \n",
       "5     107.056321       105.792248               43.0            95.235294   \n",
       "6     107.056321       101.936484               10.0            95.235294   \n",
       "7     107.056321       103.228209                1.0            95.235294   \n",
       "8     107.056321       100.536834               60.0            95.235294   \n",
       "9     107.056321       107.237121                NaN            95.235294   \n",
       "10    107.056321       108.679322               96.0            95.235294   \n",
       "11    107.056321       106.617331              134.0            95.235294   \n",
       "12    107.056321       107.215625                NaN            95.235294   \n",
       "13    107.056321       100.105546              100.0            95.235294   \n",
       "14    107.056321       100.051700                NaN            95.235294   \n",
       "\n",
       "    MeanForThroughWeek  MeanForWeekDay  MeanForYear  MeanForYearDay  \n",
       "0            32.333333       92.144521    81.761905       94.879032  \n",
       "1            32.333333      123.380279    81.761905       91.006452  \n",
       "2            32.333333      123.680556    81.761905      148.588235  \n",
       "3             1.000000       87.408369    81.761905      127.435897  \n",
       "4            14.000000       92.144521    81.761905       76.943820  \n",
       "5            14.000000      123.380279    81.761905       77.311111  \n",
       "6            14.000000      143.048428    81.761905       83.341772  \n",
       "7            14.000000      123.680556    81.761905      104.192771  \n",
       "8            97.500000       87.408369    81.761905      132.416667  \n",
       "9            97.500000       87.944200    81.761905      119.550000  \n",
       "10           97.500000       92.144521    81.761905       76.741573  \n",
       "11           97.500000      123.380279    81.761905       80.011236  \n",
       "12           97.500000      143.048428    81.761905       86.226667  \n",
       "13           97.500000      123.680556    81.761905       95.666667  \n",
       "14          116.400000       86.413470    81.761905      130.135417  "
      ]
     },
     "execution_count": 53,
     "metadata": {},
     "output_type": "execute_result"
    }
   ],
   "source": [
    "dst.head(15)"
   ]
  },
  {
   "cell_type": "markdown",
   "metadata": {},
   "source": [
    "### by date depended from points"
   ]
  },
  {
   "cell_type": "code",
   "execution_count": 54,
   "metadata": {
    "collapsed": false,
    "scrolled": true
   },
   "outputs": [],
   "source": [
    "def map_group_two_key(group, x, y):\n",
    "    return group[x][y]\n",
    "\n",
    "def calc_mean_by_columns(src, group_columns, target_column):\n",
    "    mean = src.groupby(group_columns)[target_column].mean()\n",
    "    return src[group_columns].apply(lambda x: map_group_two_key(mean, *x), axis=1)\n",
    "\n"
   ]
  },
  {
   "cell_type": "code",
   "execution_count": null,
   "metadata": {
    "collapsed": false
   },
   "outputs": [],
   "source": [
    "need_list = src.columns.difference(['Date', 'Count', 'Point'])"
   ]
  },
  {
   "cell_type": "code",
   "execution_count": null,
   "metadata": {
    "collapsed": false
   },
   "outputs": [],
   "source": [
    "for column in need_list:\n",
    "    dst['MeanFor' + column + 'ByPoints'] = calc_mean_by_columns(src, [column, 'Point'], 'Count')"
   ]
  },
  {
   "cell_type": "code",
   "execution_count": null,
   "metadata": {
    "collapsed": false
   },
   "outputs": [],
   "source": [
    "\n",
    "def calc_median_by_columns(src, group_columns, target_column):\n",
    "    median = src.groupby(group_columns)[target_column].median()\n",
    "    return src[group_columns].apply(lambda x: map_group_two_key(median, *x), axis=1)\n",
    "\n",
    "def calc_moda_by_columns(src, group_columns, target_column):\n",
    "    mode = src.groupby(group_columns)[target_column].aggregate(stats.mode)\n",
    "    mode = mode.apply(lambda x: x[0][0])\n",
    "    return src[group_columns].apply(lambda x: map_group_two_key(mode, *x), axis=1)\n",
    "\n"
   ]
  },
  {
   "cell_type": "code",
   "execution_count": null,
   "metadata": {
    "collapsed": false
   },
   "outputs": [],
   "source": [
    "'''\n",
    "for column in need_list:\n",
    "    dst['MedianFor' + column + 'ByPoints'] = calc_median_by_columns(src, [column, 'Point'], 'Count')\n",
    "\n",
    "for column in need_list:\n",
    "    dst['ModaFor' + column + 'ByPoints'] = calc_moda_by_columns(src, [column, 'Point'], 'Count')\n",
    "'''"
   ]
  },
  {
   "cell_type": "code",
   "execution_count": null,
   "metadata": {
    "collapsed": false,
    "scrolled": true
   },
   "outputs": [],
   "source": [
    "dst[\"Point\"] = pd.Series(common.Point.as_matrix())\n",
    "dst.to_csv('data_transform/internal_features.csv', index=None)"
   ]
  },
  {
   "cell_type": "code",
   "execution_count": null,
   "metadata": {
    "collapsed": false
   },
   "outputs": [],
   "source": []
  },
  {
   "cell_type": "code",
   "execution_count": null,
   "metadata": {
    "collapsed": false
   },
   "outputs": [],
   "source": []
  },
  {
   "cell_type": "code",
   "execution_count": null,
   "metadata": {
    "collapsed": false
   },
   "outputs": [],
   "source": []
  },
  {
   "cell_type": "markdown",
   "metadata": {},
   "source": [
    "# All in one"
   ]
  },
  {
   "cell_type": "code",
   "execution_count": null,
   "metadata": {
    "collapsed": false
   },
   "outputs": [],
   "source": [
    "data = pd.read_csv('data_transform/target.csv')\n",
    "date = pd.read_csv('data_transform/date.csv')\n",
    "city = pd.read_csv('data_transform/city.csv')\n",
    "internal_features = pd.read_csv('data_transform/internal_features.csv')\n",
    "dollar = pd.read_csv('data_transform/dollar.csv')\n",
    "\n",
    "need_columns = date.columns\n",
    "data[need_columns] = date[need_columns]\n",
    "\n",
    "data = pd.merge(data, city, on='Point', how='left')\n",
    "\n",
    "need_columns = internal_features.columns\n",
    "data[need_columns] = internal_features[need_columns]\n",
    "\n",
    "#data = pd.merge(data, dollar, on='Date', how='left')\n",
    "\n",
    "data.to_csv('data_transform/all.csv', index=None)"
   ]
  },
  {
   "cell_type": "code",
   "execution_count": null,
   "metadata": {
    "collapsed": false
   },
   "outputs": [],
   "source": [
    "pd.isnull(data).sum() > 0"
   ]
  },
  {
   "cell_type": "code",
   "execution_count": null,
   "metadata": {
    "collapsed": false,
    "scrolled": true
   },
   "outputs": [],
   "source": [
    "data"
   ]
  },
  {
   "cell_type": "code",
   "execution_count": null,
   "metadata": {
    "collapsed": false
   },
   "outputs": [],
   "source": []
  },
  {
   "cell_type": "code",
   "execution_count": null,
   "metadata": {
    "collapsed": false
   },
   "outputs": [],
   "source": []
  },
  {
   "cell_type": "code",
   "execution_count": null,
   "metadata": {
    "collapsed": false
   },
   "outputs": [],
   "source": []
  }
 ],
 "metadata": {
  "anaconda-cloud": {},
  "kernelspec": {
   "display_name": "Python 2",
   "language": "python",
   "name": "python2"
  },
  "language_info": {
   "codemirror_mode": {
    "name": "ipython",
    "version": 2
   },
   "file_extension": ".py",
   "mimetype": "text/x-python",
   "name": "python",
   "nbconvert_exporter": "python",
   "pygments_lexer": "ipython2",
   "version": "2.7.6"
  }
 },
 "nbformat": 4,
 "nbformat_minor": 0
}
