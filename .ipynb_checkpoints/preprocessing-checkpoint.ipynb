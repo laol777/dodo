{
 "cells": [
  {
   "cell_type": "code",
   "execution_count": 1,
   "metadata": {
    "collapsed": false
   },
   "outputs": [],
   "source": [
    "import pandas as pd\n",
    "import matplotlib\n",
    "import numpy as np\n",
    "import matplotlib.pyplot as plt\n",
    "%matplotlib inline  \n",
    "\n",
    "import calendar\n",
    "from __future__ import division\n"
   ]
  },
  {
   "cell_type": "code",
   "execution_count": 12,
   "metadata": {
    "collapsed": false
   },
   "outputs": [],
   "source": [
    "train = pd.read_csv(\"train.csv\")\n",
    "test = pd.read_csv(\"test.csv\")"
   ]
  },
  {
   "cell_type": "code",
   "execution_count": 4,
   "metadata": {
    "collapsed": false
   },
   "outputs": [],
   "source": [
    "#train.columns = [\"Day\", \"Month\", \"Year\", \"City\", \"Count\"]\n",
    "#test.columns = [\"Day\", \"Month\", \"Year\", \"City\"]"
   ]
  },
  {
   "cell_type": "code",
   "execution_count": 5,
   "metadata": {
    "collapsed": false
   },
   "outputs": [
    {
     "name": "stdout",
     "output_type": "stream",
     "text": [
      "114\n",
      "114\n"
     ]
    }
   ],
   "source": [
    "#6 городов отсутвуют в тестовой выборке - удалим их из тренировочной\n",
    "print len(train.City.unique())\n",
    "print len(test.City.unique())\n",
    "a = set(train.City.unique()) - (set(train.City.unique()) & set(test.City.unique()))\n",
    "for i in a:\n",
    "    print i\n",
    "    train = train[train.City != i]"
   ]
  },
  {
   "cell_type": "code",
   "execution_count": 152,
   "metadata": {
    "collapsed": false
   },
   "outputs": [],
   "source": []
  },
  {
   "cell_type": "code",
   "execution_count": 7,
   "metadata": {
    "collapsed": false
   },
   "outputs": [
    {
     "data": {
      "text/html": [
       "<div style=\"max-width:1500px;overflow:auto;\">\n",
       "<table border=\"1\" class=\"dataframe\">\n",
       "  <thead>\n",
       "    <tr style=\"text-align: right;\">\n",
       "      <th></th>\n",
       "      <th>Day</th>\n",
       "      <th>Month</th>\n",
       "      <th>Year</th>\n",
       "      <th>Count</th>\n",
       "      <th>WeekDay</th>\n",
       "      <th>DayForStartYear</th>\n",
       "    </tr>\n",
       "  </thead>\n",
       "  <tbody>\n",
       "    <tr>\n",
       "      <th>count</th>\n",
       "      <td>46048.000000</td>\n",
       "      <td>46048.000000</td>\n",
       "      <td>46048.000000</td>\n",
       "      <td>46048.000000</td>\n",
       "      <td>46048.000000</td>\n",
       "      <td>46048.000000</td>\n",
       "    </tr>\n",
       "    <tr>\n",
       "      <th>mean</th>\n",
       "      <td>15.455916</td>\n",
       "      <td>6.606888</td>\n",
       "      <td>2015.200595</td>\n",
       "      <td>106.113447</td>\n",
       "      <td>2.998632</td>\n",
       "      <td>184.598484</td>\n",
       "    </tr>\n",
       "    <tr>\n",
       "      <th>std</th>\n",
       "      <td>8.732700</td>\n",
       "      <td>3.191562</td>\n",
       "      <td>1.008963</td>\n",
       "      <td>76.608338</td>\n",
       "      <td>1.994862</td>\n",
       "      <td>97.411710</td>\n",
       "    </tr>\n",
       "    <tr>\n",
       "      <th>min</th>\n",
       "      <td>1.000000</td>\n",
       "      <td>1.000000</td>\n",
       "      <td>2011.000000</td>\n",
       "      <td>1.000000</td>\n",
       "      <td>0.000000</td>\n",
       "      <td>0.000000</td>\n",
       "    </tr>\n",
       "    <tr>\n",
       "      <th>25%</th>\n",
       "      <td>8.000000</td>\n",
       "      <td>4.000000</td>\n",
       "      <td>2015.000000</td>\n",
       "      <td>55.000000</td>\n",
       "      <td>1.000000</td>\n",
       "      <td>103.000000</td>\n",
       "    </tr>\n",
       "    <tr>\n",
       "      <th>50%</th>\n",
       "      <td>15.000000</td>\n",
       "      <td>7.000000</td>\n",
       "      <td>2016.000000</td>\n",
       "      <td>87.000000</td>\n",
       "      <td>3.000000</td>\n",
       "      <td>192.000000</td>\n",
       "    </tr>\n",
       "    <tr>\n",
       "      <th>75%</th>\n",
       "      <td>23.000000</td>\n",
       "      <td>9.000000</td>\n",
       "      <td>2016.000000</td>\n",
       "      <td>135.000000</td>\n",
       "      <td>5.000000</td>\n",
       "      <td>262.000000</td>\n",
       "    </tr>\n",
       "    <tr>\n",
       "      <th>max</th>\n",
       "      <td>31.000000</td>\n",
       "      <td>12.000000</td>\n",
       "      <td>2016.000000</td>\n",
       "      <td>2044.000000</td>\n",
       "      <td>6.000000</td>\n",
       "      <td>364.000000</td>\n",
       "    </tr>\n",
       "  </tbody>\n",
       "</table>\n",
       "</div>"
      ],
      "text/plain": [
       "                Day         Month          Year         Count       WeekDay  \\\n",
       "count  46048.000000  46048.000000  46048.000000  46048.000000  46048.000000   \n",
       "mean      15.455916      6.606888   2015.200595    106.113447      2.998632   \n",
       "std        8.732700      3.191562      1.008963     76.608338      1.994862   \n",
       "min        1.000000      1.000000   2011.000000      1.000000      0.000000   \n",
       "25%        8.000000      4.000000   2015.000000     55.000000      1.000000   \n",
       "50%       15.000000      7.000000   2016.000000     87.000000      3.000000   \n",
       "75%       23.000000      9.000000   2016.000000    135.000000      5.000000   \n",
       "max       31.000000     12.000000   2016.000000   2044.000000      6.000000   \n",
       "\n",
       "       DayForStartYear  \n",
       "count     46048.000000  \n",
       "mean        184.598484  \n",
       "std          97.411710  \n",
       "min           0.000000  \n",
       "25%         103.000000  \n",
       "50%         192.000000  \n",
       "75%         262.000000  \n",
       "max         364.000000  "
      ]
     },
     "execution_count": 7,
     "metadata": {},
     "output_type": "execute_result"
    }
   ],
   "source": [
    "train.describe()"
   ]
  },
  {
   "cell_type": "code",
   "execution_count": 7,
   "metadata": {
    "collapsed": false
   },
   "outputs": [],
   "source": [
    "res = []\n",
    "for i in train.axes[0]:\n",
    "    a = calendar.datetime.date(train.Year[i], train.Month[i], train.Day[i])\n",
    "    res.append(a.weekday())\n",
    "train[\"WeekDay\"] = pd.Series(res)"
   ]
  },
  {
   "cell_type": "code",
   "execution_count": 8,
   "metadata": {
    "collapsed": false
   },
   "outputs": [],
   "source": [
    "res = []\n",
    "for i in test.axes[0]:\n",
    "    a = calendar.datetime.date(test.Year[i], test.Month[i], test.Day[i])\n",
    "    res.append(a.weekday())\n",
    "test[\"WeekDay\"] = pd.Series(res)"
   ]
  },
  {
   "cell_type": "code",
   "execution_count": 14,
   "metadata": {
    "collapsed": false
   },
   "outputs": [
    {
     "data": {
      "text/html": [
       "<div style=\"max-width:1500px;overflow:auto;\">\n",
       "<table border=\"1\" class=\"dataframe\">\n",
       "  <thead>\n",
       "    <tr style=\"text-align: right;\">\n",
       "      <th></th>\n",
       "      <th>Day</th>\n",
       "      <th>Month</th>\n",
       "      <th>Year</th>\n",
       "      <th>City</th>\n",
       "      <th>Count</th>\n",
       "      <th>WeekDay</th>\n",
       "    </tr>\n",
       "  </thead>\n",
       "  <tbody>\n",
       "    <tr>\n",
       "      <th>0</th>\n",
       "      <td>8</td>\n",
       "      <td>8</td>\n",
       "      <td>2016</td>\n",
       "      <td>Лениногорск-1</td>\n",
       "      <td>42</td>\n",
       "      <td>0</td>\n",
       "    </tr>\n",
       "    <tr>\n",
       "      <th>1</th>\n",
       "      <td>7</td>\n",
       "      <td>3</td>\n",
       "      <td>2015</td>\n",
       "      <td>Абакан-1</td>\n",
       "      <td>81</td>\n",
       "      <td>5</td>\n",
       "    </tr>\n",
       "    <tr>\n",
       "      <th>2</th>\n",
       "      <td>5</td>\n",
       "      <td>10</td>\n",
       "      <td>2016</td>\n",
       "      <td>Тюмень-1</td>\n",
       "      <td>138</td>\n",
       "      <td>2</td>\n",
       "    </tr>\n",
       "    <tr>\n",
       "      <th>3</th>\n",
       "      <td>22</td>\n",
       "      <td>2</td>\n",
       "      <td>2015</td>\n",
       "      <td>Октябрьский-1</td>\n",
       "      <td>94</td>\n",
       "      <td>6</td>\n",
       "    </tr>\n",
       "    <tr>\n",
       "      <th>4</th>\n",
       "      <td>6</td>\n",
       "      <td>8</td>\n",
       "      <td>2016</td>\n",
       "      <td>Нахабино-1</td>\n",
       "      <td>42</td>\n",
       "      <td>5</td>\n",
       "    </tr>\n",
       "  </tbody>\n",
       "</table>\n",
       "</div>"
      ],
      "text/plain": [
       "   Day  Month  Year           City  Count  WeekDay\n",
       "0    8      8  2016  Лениногорск-1     42        0\n",
       "1    7      3  2015       Абакан-1     81        5\n",
       "2    5     10  2016       Тюмень-1    138        2\n",
       "3   22      2  2015  Октябрьский-1     94        6\n",
       "4    6      8  2016     Нахабино-1     42        5"
      ]
     },
     "execution_count": 14,
     "metadata": {},
     "output_type": "execute_result"
    }
   ],
   "source": [
    "train.head()"
   ]
  },
  {
   "cell_type": "code",
   "execution_count": 18,
   "metadata": {
    "collapsed": false
   },
   "outputs": [],
   "source": [
    "cityDescribe = pd.DataFrame()\n",
    "cityDescribe[\"name\"] = train.City.unique()\n",
    "cityDescribe[\"population\"] = range(len(train.City.unique()))"
   ]
  },
  {
   "cell_type": "code",
   "execution_count": null,
   "metadata": {
    "collapsed": false
   },
   "outputs": [],
   "source": []
  },
  {
   "cell_type": "code",
   "execution_count": 50,
   "metadata": {
    "collapsed": false
   },
   "outputs": [
    {
     "name": "stdout",
     "output_type": "stream",
     "text": [
      "100 200 300 400 500 600 700 800 900 1000 1100 1200 1300 1400 1500 1600 1700 1800 1900 2000 2100 2200 2300 2400 2500 2600 2700 2800 2900 3000 3100 3200 3300 3400 3500 3600 3700 3800 3900 4000 4100 4200 4300 4400 4500 4600 4700 4800 4900 5000 5100 5200 5300 5400 5500 5600 5700 5800 5900 6000 6100 6200 6300 6400 6500 6600 6700 6800 6900 7000 7100 7200 7300 7400 7500 7600 7700 7800 7900 8000 8100 8200 8300 8400 8500 8600 8700 8800 8900 9000 9100 9200 9300 9400 9500 9600 9700 9800 9900 10000 10100 10200 10300 10400 10500 10600 10700 10800 10900 11000 11100 11200 11300 11400 11500 11600 11700 11800 11900 12000 12100 12200 12300 12400 12500 12600 12700 12800 12900 13000 13100 13200 13300 13400 13500 13600 13700 13800 13900 14000 14100 14200 14300 14400 14500 14600 14700 14800 14900 15000 15100 15200 15300 15400 15500 15600 15700 15800 15900 16000 16100 16200 16300 16400 16500 16600 16700 16800 16900 17000 17100 17200 17300 17400 17500 17600 17700 17800 17900 18000 18100 18200 18300 18400 18500 18600 18700 18800 18900 19000 19100 19200 19300 19400 19500 19600 19700 19800 19900 20000 20100 20200 20300 20400 20500 20600 20700 20800 20900 21000 21100 21200 21300 21400 21500 21600 21700 21800 21900 22000 22100 22200 22300 22400 22500 22600 22700 22800 22900 23000 23100 23200 23300 23400 23500 23600 23700 23800 23900 24000 24100 24200 24300 24400 24500 24600 24700 24800 24900 25000 25100 25200 25300 25400 25500 25600 25700 25800 25900 26000 26100 26200 26300 26400 26500 26600 26700 26800 26900 27000 27100 27200 27300 27400 27500 27600 27700 27800 27900 28000 28100 28200 28300 28400 28500 28600 28700 28800 28900 29000 29100 29200 29300 29400 29500 29600 29700 29800 29900 30000 30100 30200 30300 30400 30500 30600 30700 30800 30900 31000 31100 31200 31300 31400 31500 31600 31700 31800 31900 32000 32100 32200 32300 32400 32500 32600 32700 32800 32900 33000 33100 33200 33300 33400 33500 33600 33700 33800 33900 34000 34100 34200 34300 34400 34500 34600 34700 34800 34900 35000 35100 35200 35300 35400 35500 35600 35700 35800 35900 36000 36100 36200 36300 36400 36500 36600 36700 36800 36900 37000 37100 37200 37300 37400 37500 37600 37700 37800 37900 38000 38100 38200 38300 38400 38500 38600 38700 38800 38900 39000 39100 39200 39300 39400 39500 39600 39700 39800 39900 40000 40100 40200 40300 40400 40500 40600 40700 40800 40900 41000 41100 41200 41300 41400 41500 41600 41700 41800 41900 42000 42100 42200 42300 42400 42500 42600 42700 42800 42900 43000 43100 43200 43300 43400 43500 43600 43700 43800 43900 44000 44100 44200 44300 44400 44500 44600 44700 44800 44900 45000 45100 45200 45300 45400 45500 45600 45700 45800 45900 46000\n"
     ]
    }
   ],
   "source": [
    "trainNew = train.copy()\n",
    "i = 0\n",
    "for j in train.DayForStartTrainPeriod.sort_values().index:\n",
    "    trainNew.loc[i] = train.loc[j]\n",
    "    i += 1\n",
    "    if ((i % 100) == 0):\n",
    "        print i,\n",
    "trainNew.to_csv(\"train.csv\", index=None)"
   ]
  },
  {
   "cell_type": "code",
   "execution_count": 51,
   "metadata": {
    "collapsed": false
   },
   "outputs": [
    {
     "name": "stdout",
     "output_type": "stream",
     "text": [
      "100 200 300 400 500 600 700 800 900 1000 1100 1200 1300 1400 1500 1600 1700 1800 1900 2000 2100 2200 2300 2400 2500 2600 2700 2800 2900 3000 3100 3200 3300 3400 3500 3600 3700 3800 3900 4000 4100 4200 4300 4400 4500 4600 4700 4800 4900 5000 5100 5200 5300 5400 5500 5600 5700 5800 5900 6000 6100 6200 6300 6400 6500 6600 6700 6800 6900 7000 7100 7200 7300\n"
     ]
    }
   ],
   "source": [
    "testNew = test.copy()\n",
    "i = 0\n",
    "for j in test.DayForStartTrainPeriod.sort_values().index:\n",
    "    testNew.loc[i] = test.loc[j]\n",
    "    i += 1\n",
    "    if ((i % 100) == 0):\n",
    "        print i,\n",
    "testNew.to_csv(\"test.csv\", index=None)"
   ]
  },
  {
   "cell_type": "code",
   "execution_count": 49,
   "metadata": {
    "collapsed": false
   },
   "outputs": [],
   "source": []
  },
  {
   "cell_type": "code",
   "execution_count": 49,
   "metadata": {
    "collapsed": false
   },
   "outputs": [],
   "source": []
  },
  {
   "cell_type": "code",
   "execution_count": 59,
   "metadata": {
    "collapsed": false
   },
   "outputs": [
    {
     "data": {
      "text/plain": [
       "'\\ntop = calendar.datetime.date(3000, 10, 10)\\ntopIndex = None\\ndown = calendar.datetime.date(1000, 10, 10)\\ndownIndex = None\\n\\ncurrentDate = calendar.datetime.date(year, month, day)\\n\\nfor i in X_train[(X_train.City == city)].index:\\n    tmpDay = calendar.datetime.date(X_train.Year[i], X_train.Month[i], X_train.Day[i])\\n    if((tmpDay > currentDate) & (tmpDay < top)):\\n        top = tmpDay\\n        topIndex = i\\n    if((tmpDay < currentDate) & (tmpDay > down)):\\n        down = tmpDay\\n        downIndex = i\\n\\ncount = 0\\nif(topIndex == None):\\n    count = y_train[downIndex]\\nif(downIndex == None):\\n    count = y_train[topIndex]\\nif((downIndex != None) & (topIndex != None)):\\n    allInter = (top - down).days\\n    downInter = (currentDate - down).days\\n    topInter = (top - currentDate).days\\n    count = (topInter/allInter) * y_train[topIndex] + (downInter/allInter) * y_train[downIndex]\\nreturn count\\n\\nallInter = (top - down).days\\ndownInter = (currentDate - down).days\\ntopInter = (top - currentDate).days\\n'"
      ]
     },
     "execution_count": 59,
     "metadata": {},
     "output_type": "execute_result"
    }
   ],
   "source": [
    "'''\n",
    "top = calendar.datetime.date(3000, 10, 10)\n",
    "topIndex = None\n",
    "down = calendar.datetime.date(1000, 10, 10)\n",
    "downIndex = None\n",
    "\n",
    "currentDate = calendar.datetime.date(year, month, day)\n",
    "\n",
    "for i in X_train[(X_train.City == city)].index:\n",
    "    tmpDay = calendar.datetime.date(X_train.Year[i], X_train.Month[i], X_train.Day[i])\n",
    "    if((tmpDay > currentDate) & (tmpDay < top)):\n",
    "        top = tmpDay\n",
    "        topIndex = i\n",
    "    if((tmpDay < currentDate) & (tmpDay > down)):\n",
    "        down = tmpDay\n",
    "        downIndex = i\n",
    "\n",
    "count = 0\n",
    "if(topIndex == None):\n",
    "    count = y_train[downIndex]\n",
    "if(downIndex == None):\n",
    "    count = y_train[topIndex]\n",
    "if((downIndex != None) & (topIndex != None)):\n",
    "    allInter = (top - down).days\n",
    "    downInter = (currentDate - down).days\n",
    "    topInter = (top - currentDate).days\n",
    "    count = (topInter/allInter) * y_train[topIndex] + (downInter/allInter) * y_train[downIndex]\n",
    "return count\n",
    "\n",
    "allInter = (top - down).days\n",
    "downInter = (currentDate - down).days\n",
    "topInter = (top - currentDate).days\n",
    "'''"
   ]
  },
  {
   "cell_type": "code",
   "execution_count": 5,
   "metadata": {
    "collapsed": false
   },
   "outputs": [],
   "source": [
    "def GetCountDayForStarYear(year, month, day):\n",
    "    day = calendar.datetime.date(year, month, day)\n",
    "    dayStartYear = calendar.datetime.date(year, 1, 1)\n",
    "    \n",
    "    return int((day - dayStartYear).days)"
   ]
  },
  {
   "cell_type": "code",
   "execution_count": 6,
   "metadata": {
    "collapsed": false
   },
   "outputs": [],
   "source": [
    "train[\"DayForStartYear\"] = None\n",
    "\n",
    "\n",
    "res = []\n",
    "for i in range(len(train.index)):\n",
    "    res.append(GetCountDayForStarYear(train.Year[i], train.Month[i], train.Day[i]))\n",
    "train[\"DayForStartYear\"] = pd.Series(res)"
   ]
  },
  {
   "cell_type": "code",
   "execution_count": 7,
   "metadata": {
    "collapsed": false
   },
   "outputs": [],
   "source": [
    "test[\"DayForStartYear\"] = None\n",
    "\n",
    "\n",
    "res = []\n",
    "for i in range(len(test.index)):\n",
    "    res.append(GetCountDayForStarYear(test.Year[i], test.Month[i], test.Day[i]))\n",
    "test[\"DayForStartYear\"] = pd.Series(res)"
   ]
  },
  {
   "cell_type": "code",
   "execution_count": 9,
   "metadata": {
    "collapsed": false
   },
   "outputs": [],
   "source": []
  },
  {
   "cell_type": "code",
   "execution_count": 17,
   "metadata": {
    "collapsed": false
   },
   "outputs": [],
   "source": []
  },
  {
   "cell_type": "code",
   "execution_count": 31,
   "metadata": {
    "collapsed": false
   },
   "outputs": [],
   "source": [
    "res = [0] * len(train.index)\n",
    "for i in range(len(train.index)):\n",
    "    if((calendar.datetime.date(train.Year[i], train.Month[i], train.Day[i]).weekday() == 5) |\\\n",
    "       (calendar.datetime.date(train.Year[i], train.Month[i], train.Day[i]).weekday() == 6)):\n",
    "        res[i] = 1\n",
    "train[\"isWeekend\"] = pd.Series(res)"
   ]
  },
  {
   "cell_type": "code",
   "execution_count": 33,
   "metadata": {
    "collapsed": false
   },
   "outputs": [],
   "source": [
    "res = [0] * len(test.index)\n",
    "for i in range(len(test.index)):\n",
    "    if((calendar.datetime.date(test.Year[i], test.Month[i], test.Day[i]).weekday() == 5) |\\\n",
    "       (calendar.datetime.date(test.Year[i], test.Month[i], test.Day[i]).weekday() == 6)):\n",
    "        res[i] = 1\n",
    "test[\"isWeekend\"] = pd.Series(res)"
   ]
  },
  {
   "cell_type": "code",
   "execution_count": 35,
   "metadata": {
    "collapsed": false
   },
   "outputs": [],
   "source": [
    "#6.10.2011"
   ]
  },
  {
   "cell_type": "code",
   "execution_count": 43,
   "metadata": {
    "collapsed": false
   },
   "outputs": [],
   "source": [
    "def DayForStartTrainPeriod(data):\n",
    "    res = [0] * len(data.index)\n",
    "    startDate = calendar.datetime.date(2011, 10, 6)\n",
    "    for i in range(len(data.index)):\n",
    "        currentDay = calendar.datetime.date(data.Year[i], data.Month[i], data.Day[i])\n",
    "        res[i] = (currentDay - startDate).days\n",
    "    return res\n"
   ]
  },
  {
   "cell_type": "code",
   "execution_count": 47,
   "metadata": {
    "collapsed": false
   },
   "outputs": [],
   "source": [
    "res = DayForStartTrainPeriod(train)\n",
    "train[\"DayForStartTrainPeriod\"] = pd.Series(res)\n",
    "res = DayForStartTrainPeriod(test)\n",
    "test[\"DayForStartTrainPeriod\"] = pd.Series(res)"
   ]
  },
  {
   "cell_type": "code",
   "execution_count": 39,
   "metadata": {
    "collapsed": false
   },
   "outputs": [],
   "source": []
  },
  {
   "cell_type": "code",
   "execution_count": null,
   "metadata": {
    "collapsed": false
   },
   "outputs": [],
   "source": []
  },
  {
   "cell_type": "code",
   "execution_count": 5,
   "metadata": {
    "collapsed": false
   },
   "outputs": [],
   "source": [
    "def MeanNDayFromThis(n, data, City, Year, Month, Day):\n",
    "    data = data[data.City == City]\n",
    "    indexArray = data.index\n",
    "    step = 1 if n > 0 else -1\n",
    "\n",
    "\n",
    "    startIndex = data[(data.City == City) & (data.Year == Year) & (data.Month == Month) & (data.Day == Day)].index\n",
    "    startIndex = startIndex.astype(int)[0]\n",
    "\n",
    "\n",
    "    startI = indexArray.tolist().index(startIndex)\n",
    "    start = startI + step\n",
    "    \n",
    "    if((startI == 0) & (n < 0) ):\n",
    "        return -100000\n",
    "    \n",
    "    if((startI == (len(indexArray) - 1)) & (n > 0)):\n",
    "        return 100000\n",
    "    \n",
    "    if(n > 0):\n",
    "        end = (start + n - step)  if ( (start + n - step) < len(indexArray)) else len(indexArray) - 1\n",
    "\n",
    "    if(n < 0):\n",
    "        end = (start + n + step)  if ( (start + n + step) >= 0) else 0\n",
    "\n",
    "    startTime = calendar.datetime.date(Year, Month, Day)\n",
    "\n",
    "    count = 0\n",
    "    mean = 0\n",
    "\n",
    "    k = 0\n",
    "\n",
    "    for i in range(start, end, step):\n",
    "        year = data.Year[indexArray[i]]\n",
    "        month = data.Month[indexArray[i]]\n",
    "        day = data.Day[indexArray[i]]\n",
    "        if( abs((calendar.datetime.date(year, month, day) - startTime).days) <= abs(n) ):\n",
    "            mean += data.Count[indexArray[i]]\n",
    "            count += 1\n",
    "        else:\n",
    "            break\n",
    "\n",
    "    if( (n < 0) & (count == 0) ):\n",
    "        return -100000 * 10\n",
    "    \n",
    "    if( (n > 0)  & (count == 0) ):\n",
    "        return 100000 * 10\n",
    "    \n",
    "    res = mean / count\n",
    "    \n",
    "    return res\n",
    "    #так как я в основном использую деревья для решений, то при ситуации, когда не будет значений перед текущей датой, \n",
    "    #я буду присваивать ей большое положительное знание, если сзади нет, то большое отрицательное, с целью, чтобы данные значения \n",
    "    #уходили в отдельный лист дерева\n",
    "\n"
   ]
  },
  {
   "cell_type": "code",
   "execution_count": 92,
   "metadata": {
    "collapsed": false
   },
   "outputs": [],
   "source": []
  },
  {
   "cell_type": "code",
   "execution_count": 97,
   "metadata": {
    "collapsed": false
   },
   "outputs": [
    {
     "name": "stdout",
     "output_type": "stream",
     "text": [
      "0 100 200 300 400 500 600 700 800 900 1000 1100 1200 1300 1400 1500 1600 1700 1800 1900 2000 2100 2200 2300 2400 2500 2600 2700 2800 2900 3000 3100 3200 3300 3400 3500 3600 3700 3800 3900 4000 4100 4200 4300 4400 4500 4600 4700 4800 4900 5000 5100 5200 5300 5400 5500 5600 5700 5800 5900 6000 6100 6200 6300 6400 6500 6600 6700 6800 6900 7000 7100 7200 7300 7400 7500 7600 7700 7800 7900 8000 8100 8200 8300 8400 8500 8600 8700 8800 8900 9000 9100 9200 9300 9400 9500 9600 9700 9800 9900 10000 10100 10200 10300 10400 10500 10600 10700 10800 10900 11000 11100 11200 11300 11400 11500 11600 11700 11800 11900 12000 12100 12200 12300 12400 12500 12600 12700 12800 12900 13000 13100 13200 13300 13400 13500 13600 13700 13800 13900 14000 14100 14200 14300 14400 14500 14600 14700 14800 14900 15000 15100 15200 15300 15400 15500 15600 15700 15800 15900 16000 16100 16200 16300 16400 16500 16600 16700 16800 16900 17000 17100 17200 17300 17400 17500 17600 17700 17800 17900 18000 18100 18200 18300 18400 18500 18600 18700 18800 18900 19000 19100 19200 19300 19400 19500 19600 19700 19800 19900 20000 20100 20200 20300 20400 20500 20600 20700 20800 20900 21000 21100 21200 21300 21400 21500 21600 21700 21800 21900 22000 22100 22200 22300 22400 22500 22600 22700 22800 22900 23000 23100 23200 23300 23400 23500 23600 23700 23800 23900 24000 24100 24200 24300 24400 24500 24600 24700 24800 24900 25000 25100 25200 25300 25400 25500 25600 25700 25800 25900 26000 26100 26200 26300 26400 26500 26600 26700 26800 26900 27000 27100 27200 27300 27400 27500 27600 27700 27800 27900 28000 28100 28200 28300 28400 28500 28600 28700 28800 28900 29000 29100 29200 29300 29400 29500 29600 29700 29800 29900 30000 30100 30200 30300 30400 30500 30600 30700 30800 30900 31000 31100 31200 31300 31400 31500 31600 31700 31800 31900 32000 32100 32200 32300 32400 32500 32600 32700 32800 32900 33000 33100 33200 33300 33400 33500 33600 33700 33800 33900 34000 34100 34200 34300 34400 34500 34600 34700 34800 34900 35000 35100 35200 35300 35400 35500 35600 35700 35800 35900 36000 36100 36200 36300 36400 36500 36600 36700 36800 36900 37000 37100 37200 37300 37400 37500 37600 37700 37800 37900 38000 38100 38200 38300 38400 38500 38600 38700 38800 38900 39000 39100 39200 39300 39400 39500 39600 39700 39800 39900 40000 40100 40200 40300 40400 40500 40600 40700 40800 40900 41000 41100 41200 41300 41400 41500 41600 41700 41800 41900 42000 42100 42200 42300 42400 42500 42600 42700 42800 42900 43000 43100 43200 43300 43400 43500 43600 43700 43800 43900 44000 44100 44200 44300 44400 44500 44600 44700 44800 44900 45000 45100 45200 45300 45400 45500 45600 45700 45800 45900 46000\n"
     ]
    }
   ],
   "source": [
    "n = 7\n",
    "res = []\n",
    "k = 0\n",
    "for i in range(len(train)):\n",
    "    res.append(MeanNDayFromThis(n, train, train.City[i], train.Year[i], train.Month[i], train.Day[i]))\n",
    "    if ( (k % 100) == 0):\n",
    "        print k,\n",
    "    k += 1\n",
    "train[\"MeanNext7Day\"] = pd.Series(res)"
   ]
  },
  {
   "cell_type": "code",
   "execution_count": 14,
   "metadata": {
    "collapsed": false
   },
   "outputs": [],
   "source": []
  },
  {
   "cell_type": "code",
   "execution_count": null,
   "metadata": {
    "collapsed": true
   },
   "outputs": [],
   "source": []
  },
  {
   "cell_type": "code",
   "execution_count": null,
   "metadata": {
    "collapsed": true
   },
   "outputs": [],
   "source": []
  },
  {
   "cell_type": "code",
   "execution_count": null,
   "metadata": {
    "collapsed": true
   },
   "outputs": [],
   "source": []
  },
  {
   "cell_type": "code",
   "execution_count": null,
   "metadata": {
    "collapsed": false
   },
   "outputs": [],
   "source": [
    "train.to_csv(\"train.csv\", index=None)\n",
    "test.to_csv(\"test.csv\", index=None)"
   ]
  },
  {
   "cell_type": "code",
   "execution_count": null,
   "metadata": {
    "collapsed": false
   },
   "outputs": [],
   "source": []
  }
 ],
 "metadata": {
  "anaconda-cloud": {},
  "kernelspec": {
   "display_name": "Python 3",
   "language": "python",
   "name": "python3"
  },
  "language_info": {
   "codemirror_mode": {
    "name": "ipython",
    "version": 3
   },
   "file_extension": ".py",
   "mimetype": "text/x-python",
   "name": "python",
   "nbconvert_exporter": "python",
   "pygments_lexer": "ipython3",
   "version": "3.5.2"
  }
 },
 "nbformat": 4,
 "nbformat_minor": 0
}
