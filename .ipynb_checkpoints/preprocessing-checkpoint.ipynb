{
 "metadata": {
  "name": "",
  "signature": "sha256:69eebbe0bb14553092658c4e7917b759c31c12e2f2df49be66527841b6da0372"
 },
 "nbformat": 3,
 "nbformat_minor": 0,
 "worksheets": [
  {
   "cells": [
    {
     "cell_type": "code",
     "collapsed": false,
     "input": [
      "import pandas as pd\n",
      "import matplotlib\n",
      "import numpy as np\n",
      "import matplotlib.pyplot as plt\n",
      "%matplotlib inline  \n",
      "\n",
      "import calendar\n",
      "\n",
      "import geopy"
     ],
     "language": "python",
     "metadata": {},
     "outputs": [],
     "prompt_number": 20
    },
    {
     "cell_type": "code",
     "collapsed": false,
     "input": [
      "train = pd.read_csv(\"train.csv\")\n",
      "test = pd.read_csv(\"test.csv\")"
     ],
     "language": "python",
     "metadata": {},
     "outputs": [],
     "prompt_number": 2
    },
    {
     "cell_type": "code",
     "collapsed": false,
     "input": [
      "#train.columns = [\"Day\", \"Month\", \"Year\", \"City\", \"Count\"]\n",
      "#test.columns = [\"Day\", \"Month\", \"Year\", \"City\"]"
     ],
     "language": "python",
     "metadata": {},
     "outputs": [],
     "prompt_number": 3
    },
    {
     "cell_type": "code",
     "collapsed": false,
     "input": [
      "#6 \u0433\u043e\u0440\u043e\u0434\u043e\u0432 \u043e\u0442\u0441\u0443\u0442\u0432\u0443\u044e\u0442 \u0432 \u0442\u0435\u0441\u0442\u043e\u0432\u043e\u0439 \u0432\u044b\u0431\u043e\u0440\u043a\u0435 - \u0443\u0434\u0430\u043b\u0438\u043c \u0438\u0445 \u0438\u0437 \u0442\u0440\u0435\u043d\u0438\u0440\u043e\u0432\u043e\u0447\u043d\u043e\u0439\n",
      "print len(train.City.unique())\n",
      "print len(test.City.unique())\n",
      "a = set(train.City.unique()) - (set(train.City.unique()) & set(test.City.unique()))\n",
      "for i in a:\n",
      "    print i\n",
      "    train = train[train.City != i]"
     ],
     "language": "python",
     "metadata": {},
     "outputs": [
      {
       "output_type": "stream",
       "stream": "stdout",
       "text": [
        "114\n",
        "114\n"
       ]
      }
     ],
     "prompt_number": 4
    },
    {
     "cell_type": "code",
     "collapsed": false,
     "input": [
      "s1 = train.City\n",
      "s2 = test.City\n",
      "d = pd.DataFrame({'s1': s1, 's2': s2})\n",
      "d.apply(pd.value_counts).plot(kind='bar', subplots=True)"
     ],
     "language": "python",
     "metadata": {},
     "outputs": [
      {
       "metadata": {},
       "output_type": "pyout",
       "prompt_number": 5,
       "text": [
        "array([<matplotlib.axes._subplots.AxesSubplot object at 0xa91ad2ec>,\n",
        "       <matplotlib.axes._subplots.AxesSubplot object at 0xa8f3f20c>], dtype=object)"
       ]
      },
      {
       "metadata": {},
       "output_type": "display_data",
       "png": "[encoded data removed]",
       "text": [
        "<matplotlib.figure.Figure at 0xa9191ccc>"
       ]
      }
     ],
     "prompt_number": 5
    },
    {
     "cell_type": "code",
     "collapsed": false,
     "input": [
      "train.describe()"
     ],
     "language": "python",
     "metadata": {},
     "outputs": [
      {
       "html": [
        "<div style=\"max-width:1500px;overflow:auto;\">\n",
        "<table border=\"1\" class=\"dataframe\">\n",
        "  <thead>\n",
        "    <tr style=\"text-align: right;\">\n",
        "      <th></th>\n",
        "      <th>Day</th>\n",
        "      <th>Month</th>\n",
        "      <th>Year</th>\n",
        "      <th>Count</th>\n",
        "      <th>WeekDay</th>\n",
        "    </tr>\n",
        "  </thead>\n",
        "  <tbody>\n",
        "    <tr>\n",
        "      <th>count</th>\n",
        "      <td>46048.000000</td>\n",
        "      <td>46048.000000</td>\n",
        "      <td>46048.000000</td>\n",
        "      <td>46048.000000</td>\n",
        "      <td>46048.000000</td>\n",
        "    </tr>\n",
        "    <tr>\n",
        "      <th>mean</th>\n",
        "      <td>15.455916</td>\n",
        "      <td>6.606888</td>\n",
        "      <td>2015.200595</td>\n",
        "      <td>106.113447</td>\n",
        "      <td>2.998632</td>\n",
        "    </tr>\n",
        "    <tr>\n",
        "      <th>std</th>\n",
        "      <td>8.732700</td>\n",
        "      <td>3.191562</td>\n",
        "      <td>1.008963</td>\n",
        "      <td>76.608338</td>\n",
        "      <td>1.994862</td>\n",
        "    </tr>\n",
        "    <tr>\n",
        "      <th>min</th>\n",
        "      <td>1.000000</td>\n",
        "      <td>1.000000</td>\n",
        "      <td>2011.000000</td>\n",
        "      <td>1.000000</td>\n",
        "      <td>0.000000</td>\n",
        "    </tr>\n",
        "    <tr>\n",
        "      <th>25%</th>\n",
        "      <td>8.000000</td>\n",
        "      <td>4.000000</td>\n",
        "      <td>2015.000000</td>\n",
        "      <td>55.000000</td>\n",
        "      <td>1.000000</td>\n",
        "    </tr>\n",
        "    <tr>\n",
        "      <th>50%</th>\n",
        "      <td>15.000000</td>\n",
        "      <td>7.000000</td>\n",
        "      <td>2016.000000</td>\n",
        "      <td>87.000000</td>\n",
        "      <td>3.000000</td>\n",
        "    </tr>\n",
        "    <tr>\n",
        "      <th>75%</th>\n",
        "      <td>23.000000</td>\n",
        "      <td>9.000000</td>\n",
        "      <td>2016.000000</td>\n",
        "      <td>135.000000</td>\n",
        "      <td>5.000000</td>\n",
        "    </tr>\n",
        "    <tr>\n",
        "      <th>max</th>\n",
        "      <td>31.000000</td>\n",
        "      <td>12.000000</td>\n",
        "      <td>2016.000000</td>\n",
        "      <td>2044.000000</td>\n",
        "      <td>6.000000</td>\n",
        "    </tr>\n",
        "  </tbody>\n",
        "</table>\n",
        "</div>"
       ],
       "metadata": {},
       "output_type": "pyout",
       "prompt_number": 6,
       "text": [
        "                Day         Month          Year         Count       WeekDay\n",
        "count  46048.000000  46048.000000  46048.000000  46048.000000  46048.000000\n",
        "mean      15.455916      6.606888   2015.200595    106.113447      2.998632\n",
        "std        8.732700      3.191562      1.008963     76.608338      1.994862\n",
        "min        1.000000      1.000000   2011.000000      1.000000      0.000000\n",
        "25%        8.000000      4.000000   2015.000000     55.000000      1.000000\n",
        "50%       15.000000      7.000000   2016.000000     87.000000      3.000000\n",
        "75%       23.000000      9.000000   2016.000000    135.000000      5.000000\n",
        "max       31.000000     12.000000   2016.000000   2044.000000      6.000000"
       ]
      }
     ],
     "prompt_number": 6
    },
    {
     "cell_type": "code",
     "collapsed": false,
     "input": [
      "res = []\n",
      "for i in train.axes[0]:\n",
      "    a = calendar.datetime.date(train.Year[i], train.Month[i], train.Day[i])\n",
      "    res.append(a.weekday())\n",
      "train[\"WeekDay\"] = pd.Series(res)"
     ],
     "language": "python",
     "metadata": {},
     "outputs": [],
     "prompt_number": 7
    },
    {
     "cell_type": "code",
     "collapsed": false,
     "input": [
      "res = []\n",
      "for i in test.axes[0]:\n",
      "    a = calendar.datetime.date(test.Year[i], test.Month[i], test.Day[i])\n",
      "    res.append(a.weekday())\n",
      "test[\"WeekDay\"] = pd.Series(res)"
     ],
     "language": "python",
     "metadata": {},
     "outputs": [],
     "prompt_number": 8
    },
    {
     "cell_type": "code",
     "collapsed": false,
     "input": [
      "train.head()"
     ],
     "language": "python",
     "metadata": {},
     "outputs": [
      {
       "html": [
        "<div style=\"max-width:1500px;overflow:auto;\">\n",
        "<table border=\"1\" class=\"dataframe\">\n",
        "  <thead>\n",
        "    <tr style=\"text-align: right;\">\n",
        "      <th></th>\n",
        "      <th>Day</th>\n",
        "      <th>Month</th>\n",
        "      <th>Year</th>\n",
        "      <th>City</th>\n",
        "      <th>Count</th>\n",
        "      <th>WeekDay</th>\n",
        "    </tr>\n",
        "  </thead>\n",
        "  <tbody>\n",
        "    <tr>\n",
        "      <th>0</th>\n",
        "      <td>8</td>\n",
        "      <td>8</td>\n",
        "      <td>2016</td>\n",
        "      <td>\u041b\u0435\u043d\u0438\u043d\u043e\u0433\u043e\u0440\u0441\u043a-1</td>\n",
        "      <td>42</td>\n",
        "      <td>0</td>\n",
        "    </tr>\n",
        "    <tr>\n",
        "      <th>1</th>\n",
        "      <td>7</td>\n",
        "      <td>3</td>\n",
        "      <td>2015</td>\n",
        "      <td>\u0410\u0431\u0430\u043a\u0430\u043d-1</td>\n",
        "      <td>81</td>\n",
        "      <td>5</td>\n",
        "    </tr>\n",
        "    <tr>\n",
        "      <th>2</th>\n",
        "      <td>5</td>\n",
        "      <td>10</td>\n",
        "      <td>2016</td>\n",
        "      <td>\u0422\u044e\u043c\u0435\u043d\u044c-1</td>\n",
        "      <td>138</td>\n",
        "      <td>2</td>\n",
        "    </tr>\n",
        "    <tr>\n",
        "      <th>3</th>\n",
        "      <td>22</td>\n",
        "      <td>2</td>\n",
        "      <td>2015</td>\n",
        "      <td>\u041e\u043a\u0442\u044f\u0431\u0440\u044c\u0441\u043a\u0438\u0439-1</td>\n",
        "      <td>94</td>\n",
        "      <td>6</td>\n",
        "    </tr>\n",
        "    <tr>\n",
        "      <th>4</th>\n",
        "      <td>6</td>\n",
        "      <td>8</td>\n",
        "      <td>2016</td>\n",
        "      <td>\u041d\u0430\u0445\u0430\u0431\u0438\u043d\u043e-1</td>\n",
        "      <td>42</td>\n",
        "      <td>5</td>\n",
        "    </tr>\n",
        "  </tbody>\n",
        "</table>\n",
        "</div>"
       ],
       "metadata": {},
       "output_type": "pyout",
       "prompt_number": 14,
       "text": [
        "   Day  Month  Year           City  Count  WeekDay\n",
        "0    8      8  2016  \u041b\u0435\u043d\u0438\u043d\u043e\u0433\u043e\u0440\u0441\u043a-1     42        0\n",
        "1    7      3  2015       \u0410\u0431\u0430\u043a\u0430\u043d-1     81        5\n",
        "2    5     10  2016       \u0422\u044e\u043c\u0435\u043d\u044c-1    138        2\n",
        "3   22      2  2015  \u041e\u043a\u0442\u044f\u0431\u0440\u044c\u0441\u043a\u0438\u0439-1     94        6\n",
        "4    6      8  2016     \u041d\u0430\u0445\u0430\u0431\u0438\u043d\u043e-1     42        5"
       ]
      }
     ],
     "prompt_number": 14
    },
    {
     "cell_type": "code",
     "collapsed": false,
     "input": [
      "cityDescribe = pd.DataFrame()\n",
      "cityDescribe[\"name\"] = train.City.unique()\n",
      "cityDescribe[\"population\"] = range(len(train.City.unique()))"
     ],
     "language": "python",
     "metadata": {},
     "outputs": [],
     "prompt_number": 18
    },
    {
     "cell_type": "code",
     "collapsed": false,
     "input": [],
     "language": "python",
     "metadata": {},
     "outputs": [],
     "prompt_number": 20
    },
    {
     "cell_type": "code",
     "collapsed": false,
     "input": [
      "top = calendar.datetime.date(3000, 10, 10)\n",
      "topIndex = None\n",
      "down = calendar.datetime.date(1000, 10, 10)\n",
      "downIndex = None\n",
      "\n",
      "currentDate = calendar.datetime.date(year, month, day)\n",
      "\n",
      "for i in X_train[(X_train.City == city)].index:\n",
      "    tmpDay = calendar.datetime.date(X_train.Year[i], X_train.Month[i], X_train.Day[i])\n",
      "    if((tmpDay > currentDate) & (tmpDay < top)):\n",
      "        top = tmpDay\n",
      "        topIndex = i\n",
      "    if((tmpDay < currentDate) & (tmpDay > down)):\n",
      "        down = tmpDay\n",
      "        downIndex = i\n",
      "\n",
      "count = 0\n",
      "if(topIndex == None):\n",
      "    count = y_train[downIndex]\n",
      "if(downIndex == None):\n",
      "    count = y_train[topIndex]\n",
      "if((downIndex != None) & (topIndex != None)):\n",
      "    allInter = (top - down).days\n",
      "    downInter = (currentDate - down).days\n",
      "    topInter = (top - currentDate).days\n",
      "    count = (topInter/allInter) * y_train[topIndex] + (downInter/allInter) * y_train[downIndex]\n",
      "return count\n",
      "\n",
      "allInter = (top - down).days\n",
      "downInter = (currentDate - down).days\n",
      "topInter = (top - currentDate).days"
     ],
     "language": "python",
     "metadata": {},
     "outputs": []
    },
    {
     "cell_type": "code",
     "collapsed": false,
     "input": [
      "def GetCountDayForStarYear(year, month, day):\n",
      "    day = calendar.datetime.date(year, month, day)\n",
      "    dayStartYear = calendar.datetime.date(year, 1, 1)\n",
      "    \n",
      "    return int((day - dayStartYear).days)"
     ],
     "language": "python",
     "metadata": {},
     "outputs": [],
     "prompt_number": 52
    },
    {
     "cell_type": "code",
     "collapsed": false,
     "input": [
      "train[\"DayForStartYear\"] = None\n",
      "\n",
      "\n",
      "res = []\n",
      "for i in range(len(train.index)):\n",
      "    res.append(GetCountDayForStarYear(train.Year[i], train.Month[i], train.Day[i]))\n",
      "train[\"DayForStartYear\"] = pd.Series(res)"
     ],
     "language": "python",
     "metadata": {},
     "outputs": [],
     "prompt_number": 57
    },
    {
     "cell_type": "code",
     "collapsed": false,
     "input": [
      "test[\"DayForStartYear\"] = None\n",
      "\n",
      "\n",
      "res = []\n",
      "for i in range(len(test.index)):\n",
      "    res.append(GetCountDayForStarYear(test.Year[i], test.Month[i], test.Day[i]))\n",
      "test[\"DayForStartYear\"] = pd.Series(res)"
     ],
     "language": "python",
     "metadata": {},
     "outputs": [],
     "prompt_number": 58
    },
    {
     "cell_type": "code",
     "collapsed": false,
     "input": [],
     "language": "python",
     "metadata": {},
     "outputs": [],
     "prompt_number": 47
    },
    {
     "cell_type": "code",
     "collapsed": false,
     "input": [],
     "language": "python",
     "metadata": {},
     "outputs": [],
     "prompt_number": 29
    },
    {
     "cell_type": "code",
     "collapsed": false,
     "input": [],
     "language": "python",
     "metadata": {},
     "outputs": []
    },
    {
     "cell_type": "code",
     "collapsed": false,
     "input": [],
     "language": "python",
     "metadata": {},
     "outputs": [],
     "prompt_number": 14
    },
    {
     "cell_type": "code",
     "collapsed": false,
     "input": [
      "train.to_csv(\"train.csv\", index=None)\n",
      "test.to_csv(\"test.csv\", index=None)"
     ],
     "language": "python",
     "metadata": {},
     "outputs": [],
     "prompt_number": 59
    },
    {
     "cell_type": "code",
     "collapsed": false,
     "input": [],
     "language": "python",
     "metadata": {},
     "outputs": []
    }
   ],
   "metadata": {}
  }
 ]
}