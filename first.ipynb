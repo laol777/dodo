{
 "metadata": {
  "name": "",
  "signature": "sha256:5bb99fb0d71c7cf1407d578fa33a933fd7a532f2b716ec6ace44f16d9d9a9fae"
 },
 "nbformat": 3,
 "nbformat_minor": 0,
 "worksheets": [
  {
   "cells": [
    {
     "cell_type": "markdown",
     "metadata": {},
     "source": [
      "\u0422\u0440\u0435\u0431\u0443\u0435\u0442\u0441\u044f \u043f\u0440\u0435\u0434\u0441\u043a\u0430\u0437\u0430\u0442\u044c \u043d\u0435 \u0437\u043d\u0430\u0447\u0435\u043d\u0438\u044f \u043f\u043e\u0441\u043b\u0435 \u043e\u043f\u0440\u0435\u0434\u0435\u043b\u0435\u043d\u043d\u043e\u0433\u043e \u043f\u0435\u0440\u0438\u043e\u0434\u0430, \u0430 \u0447\u0430\u0441\u0442\u044c \u0438\u0441\u0442\u043e\u0440\u0438\u0447\u0435\u0441\u043a\u0438\u0445 \u0434\u0430\u043d\u043d\u044b\u0445, \u0438\u0437\u0432\u043b\u0435\u0447\u0435\u043d\u043d\u044b\u0445 \u0441\u0438\u043b\u043e\u0439 \u0440\u0430\u043d\u0434\u043e\u043c\u0430, \u043f\u043e \u043a\u0430\u043a\u043e\u0439 \u043f\u0435\u0440\u0435\u043c\u0435\u043d\u043d\u043e\u0439 \u043f\u043e\u043a\u0430 \u043d\u0435 \u043f\u043e\u043d\u044f\u043b, \u0441\u043a\u043e\u0440\u0435\u0435 \u0432\u0441\u0435\u0433\u043e \u043f\u043e \u0432\u0440\u0435\u043c\u0435\u043d\u0438. \u041f\u0440\u043e\u043f\u0443\u0441\u043a\u0438 \u0432 \u0434\u0430\u043d\u043d\u044b\u0445 \u043e\u0442\u0441\u0443\u0442\u0432\u0443\u044e\u0442.\n",
      "\n",
      "\u041f\u0440\u0435\u0434\u043f\u043e\u043b\u043e\u0436\u0438\u0442\u0435\u043b\u044c\u043d\u043e \u043c\u043e\u0436\u043d\u043e \u0434\u043e\u0431\u0430\u0432\u0438\u0442\u044c \u0434\u0430\u043d\u043d\u044b\u0435 - \u043a\u0443\u0440\u0441 \u0434\u043e\u043b\u043b\u0430\u0440\u0430, \u043f\u043e\u0433\u043e\u0434\u043d\u044b\u0435 \u0443\u0441\u043b\u043e\u0432\u0438\u044f, knn \u0434\u043e [1, n] \u0441\u043e\u0441\u0435\u0434\u044f\u043c, \u0440\u0430\u0441\u0441\u0442\u043e\u044f\u043d\u0438\u0435 \u043e\u0442 \u0443\u0441\u043b\u043e\u0432\u043d\u043e\u0433\u043e \u0446\u0435\u043d\u0442\u0440\u0430 \u0433\u043e\u0440\u043e\u0434\u0430 \u0438\u043b\u0438 \u043a\u0430\u043a\u0438\u043c-\u043b\u0438\u0431\u043e \u0434\u0440\u0443\u0433\u0438\u043c \u043e\u0431\u0440\u0430\u0437\u043e\u043c \u043e\u0446\u0435\u043d\u0435\u043d\u043d\u043e\u0435 \u043c\u0435\u0441\u0442\u043e\u043f\u043e\u043b\u043e\u0436\u0435\u043d\u0438\u0435"
     ]
    },
    {
     "cell_type": "code",
     "collapsed": false,
     "input": [
      "import pandas as pd\n",
      "import numpy as np"
     ],
     "language": "python",
     "metadata": {},
     "outputs": []
    },
    {
     "cell_type": "code",
     "collapsed": false,
     "input": [
      "train = pd.read_csv(\"train.csv\", header=None)\n",
      "test = pd.read_csv(\"test.csv\", header=None)"
     ],
     "language": "python",
     "metadata": {},
     "outputs": [],
     "prompt_number": 2
    },
    {
     "cell_type": "code",
     "collapsed": false,
     "input": [
      "train.columns = [\"Date\", \"City\", \"Count\"]\n",
      "test.columns = [\"Date\", \"City\"]"
     ],
     "language": "python",
     "metadata": {},
     "outputs": [],
     "prompt_number": 4
    },
    {
     "cell_type": "code",
     "collapsed": false,
     "input": [
      "train.Date = pd.DatetimeIndex(train.Date)\n",
      "test.Date = pd.DatetimeIndex(test.Date)"
     ],
     "language": "python",
     "metadata": {},
     "outputs": [],
     "prompt_number": 38
    },
    {
     "cell_type": "markdown",
     "metadata": {},
     "source": [
      "6 \u0433\u043e\u0440\u043e\u0434\u043e\u0432 \u043e\u0442\u0441\u0443\u0442\u0432\u0443\u044e\u0442 \u0432 \u0442\u0435\u0441\u0442\u043e\u0432\u043e\u0439 \u0432\u044b\u0431\u043e\u0440\u043a\u0435 - \u0443\u0434\u0430\u043b\u0438\u043c \u0438\u0445 \u0438\u0437 \u0442\u0440\u0435\u043d\u0438\u0440\u043e\u0432\u043e\u0447\u043d\u043e\u0439"
     ]
    },
    {
     "cell_type": "code",
     "collapsed": false,
     "input": [
      "print len(train.City.unique())\n",
      "print len(test.City.unique())\n",
      "a = set(train.City.unique()) - (set(train.City.unique()) & set(test.City.unique()))\n",
      "for i in a:\n",
      "    print i"
     ],
     "language": "python",
     "metadata": {},
     "outputs": [
      {
       "output_type": "stream",
       "stream": "stdout",
       "text": [
        "120\n",
        "114\n",
        "\u0422\u0440\u043e\u0438\u0446\u043a-1\n",
        "\u041a\u043e\u043c\u0441\u043e\u043c\u043e\u043b\u044c\u0441\u043a-\u043d\u0430-\u0410\u043c\u0443\u0440\u0435-2\n",
        "\u041a\u0440\u0430\u0441\u043d\u043e\u0434\u0430\u0440-1\n",
        "\u041a\u043e\u043b\u043e\u043c\u043d\u0430-1\n",
        "\u041a\u0440\u0430\u0441\u043d\u043e\u0434\u0430\u0440-2\n",
        "\u041a\u0438\u0440\u043e\u0432-1\n"
       ]
      }
     ],
     "prompt_number": 64
    },
    {
     "cell_type": "code",
     "collapsed": false,
     "input": [
      "[num * 2 for num in [1, 2, 3]]"
     ],
     "language": "python",
     "metadata": {},
     "outputs": [
      {
       "metadata": {},
       "output_type": "pyout",
       "prompt_number": 67,
       "text": [
        "[2, 4, 6]"
       ]
      }
     ],
     "prompt_number": 67
    },
    {
     "cell_type": "code",
     "collapsed": false,
     "input": [],
     "language": "python",
     "metadata": {},
     "outputs": [],
     "prompt_number": 68
    },
    {
     "cell_type": "code",
     "collapsed": false,
     "input": [
      "train.head()"
     ],
     "language": "python",
     "metadata": {},
     "outputs": [
      {
       "html": [
        "<div style=\"max-width:1500px;overflow:auto;\">\n",
        "<table border=\"1\" class=\"dataframe\">\n",
        "  <thead>\n",
        "    <tr style=\"text-align: right;\">\n",
        "      <th></th>\n",
        "      <th>Date</th>\n",
        "      <th>City</th>\n",
        "      <th>Count</th>\n",
        "    </tr>\n",
        "  </thead>\n",
        "  <tbody>\n",
        "    <tr>\n",
        "      <th>0</th>\n",
        "      <td>2016-08-08</td>\n",
        "      <td>\u041b\u0435\u043d\u0438\u043d\u043e\u0433\u043e\u0440\u0441\u043a-1</td>\n",
        "      <td>42</td>\n",
        "    </tr>\n",
        "    <tr>\n",
        "      <th>1</th>\n",
        "      <td>2015-07-03</td>\n",
        "      <td>\u0410\u0431\u0430\u043a\u0430\u043d-1</td>\n",
        "      <td>81</td>\n",
        "    </tr>\n",
        "    <tr>\n",
        "      <th>2</th>\n",
        "      <td>2016-05-10</td>\n",
        "      <td>\u0422\u044e\u043c\u0435\u043d\u044c-1</td>\n",
        "      <td>138</td>\n",
        "    </tr>\n",
        "    <tr>\n",
        "      <th>3</th>\n",
        "      <td>2015-02-22</td>\n",
        "      <td>\u041e\u043a\u0442\u044f\u0431\u0440\u044c\u0441\u043a\u0438\u0439-1</td>\n",
        "      <td>94</td>\n",
        "    </tr>\n",
        "    <tr>\n",
        "      <th>4</th>\n",
        "      <td>2016-06-08</td>\n",
        "      <td>\u041d\u0430\u0445\u0430\u0431\u0438\u043d\u043e-1</td>\n",
        "      <td>42</td>\n",
        "    </tr>\n",
        "  </tbody>\n",
        "</table>\n",
        "</div>"
       ],
       "metadata": {},
       "output_type": "pyout",
       "prompt_number": 41,
       "text": [
        "        Date           City  Count\n",
        "0 2016-08-08  \u041b\u0435\u043d\u0438\u043d\u043e\u0433\u043e\u0440\u0441\u043a-1     42\n",
        "1 2015-07-03       \u0410\u0431\u0430\u043a\u0430\u043d-1     81\n",
        "2 2016-05-10       \u0422\u044e\u043c\u0435\u043d\u044c-1    138\n",
        "3 2015-02-22  \u041e\u043a\u0442\u044f\u0431\u0440\u044c\u0441\u043a\u0438\u0439-1     94\n",
        "4 2016-06-08     \u041d\u0430\u0445\u0430\u0431\u0438\u043d\u043e-1     42"
       ]
      }
     ],
     "prompt_number": 41
    },
    {
     "cell_type": "code",
     "collapsed": false,
     "input": [],
     "language": "python",
     "metadata": {},
     "outputs": [],
     "prompt_number": 54
    },
    {
     "cell_type": "code",
     "collapsed": false,
     "input": [
      "pd.DatetimeIndex(test.Date).sort_values()"
     ],
     "language": "python",
     "metadata": {},
     "outputs": [
      {
       "metadata": {},
       "output_type": "pyout",
       "prompt_number": 52,
       "text": [
        "DatetimeIndex(['2011-12-14', '2011-12-19', '2011-12-26', '2011-12-27',\n",
        "               '2012-01-11', '2012-01-11', '2012-01-11', '2012-01-11',\n",
        "               '2012-01-12', '2012-01-12',\n",
        "               ...\n",
        "               '2016-11-05', '2016-11-05', '2016-11-05', '2016-11-05',\n",
        "               '2016-11-05', '2016-11-05', '2016-11-05', '2016-11-05',\n",
        "               '2016-11-05', '2016-11-05'],\n",
        "              dtype='datetime64[ns]', length=7337, freq=None)"
       ]
      }
     ],
     "prompt_number": 52
    },
    {
     "cell_type": "code",
     "collapsed": false,
     "input": [],
     "language": "python",
     "metadata": {},
     "outputs": [
      {
       "output_type": "stream",
       "stream": "stdout",
       "text": [
        "\u0422\u0440\u043e\u0438\u0446\u043a-1\n",
        "\u041a\u043e\u043c\u0441\u043e\u043c\u043e\u043b\u044c\u0441\u043a-\u043d\u0430-\u0410\u043c\u0443\u0440\u0435-2\n",
        "\u041a\u0440\u0430\u0441\u043d\u043e\u0434\u0430\u0440-1\n",
        "\u041a\u043e\u043b\u043e\u043c\u043d\u0430-1\n",
        "\u041a\u0440\u0430\u0441\u043d\u043e\u0434\u0430\u0440-2\n",
        "\u041a\u0438\u0440\u043e\u0432-1\n"
       ]
      }
     ],
     "prompt_number": 56
    },
    {
     "cell_type": "code",
     "collapsed": false,
     "input": [],
     "language": "python",
     "metadata": {},
     "outputs": [],
     "prompt_number": 42
    },
    {
     "cell_type": "code",
     "collapsed": false,
     "input": [],
     "language": "python",
     "metadata": {},
     "outputs": [],
     "prompt_number": 42
    },
    {
     "cell_type": "code",
     "collapsed": false,
     "input": [],
     "language": "python",
     "metadata": {},
     "outputs": []
    }
   ],
   "metadata": {}
  }
 ]
}