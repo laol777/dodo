{
 "cells": [
  {
   "cell_type": "code",
   "execution_count": 13,
   "metadata": {
    "collapsed": true
   },
   "outputs": [],
   "source": [
    "import pandas as pd\n",
    "import numpy as np\n",
    "import sklearn\n",
    "from sklearn.linear_model import LinearRegression\n",
    "from sklearn.ensemble import RandomForestRegressor\n",
    "from sklearn.cross_validation import KFold\n",
    "from sklearn.metrics import mean_absolute_error as mae"
   ]
  },
  {
   "cell_type": "code",
   "execution_count": 20,
   "metadata": {
    "collapsed": true
   },
   "outputs": [],
   "source": [
    "def trainModelTestTrainSplit(data, model):\n",
    "    c = data.columns.difference(['Count'])\n",
    "    X_train, X_test, y_train, y_test = sklearn.cross_validation.train_test_split(data[c], data['Count'], test_size=0.3)\n",
    "    model.verbose=1\n",
    "    model.fit(X_train.as_matrix(), y_train.as_matrix())\n",
    "    pred = model.predict(X_test)\n",
    "    print (\"result \", mae(pred, y_test))\n",
    "    return model"
   ]
  },
  {
   "cell_type": "code",
   "execution_count": 35,
   "metadata": {
    "collapsed": true
   },
   "outputs": [],
   "source": [
    "def trainModelKfold(data, model, countFold = 5):\n",
    "    meanMae = 0\n",
    "    \n",
    "    c = data.columns.difference(['Count'])\n",
    "    kf = KFold(len(data), n_folds=countFold, shuffle=True)\n",
    "    \n",
    "    for train_index, test_index in kf:\n",
    "        X_train, X_test = data[c].iloc[train_index], data[c].iloc[test_index]\n",
    "        y_train, y_test = data['Count'].iloc[train_index], data['Count'].iloc[test_index]\n",
    "        model.fit(X_train.as_matrix(), y_train.as_matrix())\n",
    "        pred = model.predict(X_test)\n",
    "        print (mae(pred, y_test))\n",
    "        meanMae += mae(pred, y_test)\n",
    "    meanMae /= countFold\n",
    "    print (\"result \", meanMae)\n",
    "    return pred"
   ]
  },
  {
   "cell_type": "code",
   "execution_count": 36,
   "metadata": {
    "collapsed": false
   },
   "outputs": [
    {
     "name": "stdout",
     "output_type": "stream",
     "text": [
      "0.013557483731\n",
      "0.0110629067245\n",
      "0.153687635575\n",
      "0.00515184381779\n",
      "0.00699566160521\n",
      "0.0202277657267\n",
      "0.48248373102\n",
      "0.00206073752712\n",
      "0.457863340564\n",
      "0.004284164859\n",
      "0.00276572668113\n",
      "0.00748373101952\n",
      "0.0322125813449\n",
      "0.0104121475054\n",
      "0.0117200217037\n",
      "0.00759631036354\n",
      "0.0172544763972\n",
      "0.044384156267\n",
      "0.0120998372219\n",
      "0.00542593597396\n",
      "0.00537167661422\n",
      "0.0382528486164\n",
      "0.0177970699946\n",
      "0.426153011394\n",
      "0.00797612588171\n",
      "result  0.0721712371252\n"
     ]
    }
   ],
   "source": [
    "data = pd.read_csv('data_transform/all.csv')\n",
    "data = data[pd.notnull(data.Count)]\n",
    "data = data[data.columns.difference(['Point'])]\n",
    "\n",
    "pred = trainModelKfold(data, RandomForestRegressor(), countFold = 25)\n"
   ]
  },
  {
   "cell_type": "code",
   "execution_count": null,
   "metadata": {
    "collapsed": true
   },
   "outputs": [],
   "source": []
  }
 ],
 "metadata": {
  "anaconda-cloud": {},
  "kernelspec": {
   "display_name": "Python [conda root]",
   "language": "python",
   "name": "conda-root-py"
  },
  "language_info": {
   "codemirror_mode": {
    "name": "ipython",
    "version": 3
   },
   "file_extension": ".py",
   "mimetype": "text/x-python",
   "name": "python",
   "nbconvert_exporter": "python",
   "pygments_lexer": "ipython3",
   "version": "3.5.2"
  }
 },
 "nbformat": 4,
 "nbformat_minor": 1
}
