{
 "metadata": {
  "anaconda-cloud": {},
  "kernelspec": {
   "display_name": "Python [conda root]",
   "language": "python",
   "name": "conda-root-py"
  },
  "language_info": {
   "codemirror_mode": {
    "name": "ipython",
    "version": 3
   },
   "file_extension": ".py",
   "mimetype": "text/x-python",
   "name": "python",
   "nbconvert_exporter": "python",
   "pygments_lexer": "ipython3",
   "version": "3.5.2"
  },
  "name": "",
  "signature": "sha256:6b283f44cf86274006e8649c138ae4aaf89d3ad6b6fa98b0c75325ad6a77deca"
 },
 "nbformat": 3,
 "nbformat_minor": 0,
 "worksheets": [
  {
   "cells": [
    {
     "cell_type": "code",
     "collapsed": true,
     "input": [
      "import pandas as pd\n",
      "import numpy as np\n",
      "import sklearn\n",
      "from sklearn.linear_model import LinearRegression\n",
      "from sklearn.ensemble import RandomForestRegressor\n",
      "from sklearn.cross_validation import KFold\n",
      "from sklearn.metrics import mean_absolute_error as mae"
     ],
     "language": "python",
     "metadata": {},
     "outputs": [
      {
       "output_type": "stream",
       "stream": "stderr",
       "text": [
        "/usr/local/lib/python2.7/dist-packages/sklearn/cross_validation.py:44: DeprecationWarning: This module was deprecated in version 0.18 in favor of the model_selection module into which all the refactored classes and functions are moved. Also note that the interface of the new CV iterators are different from that of this module. This module will be removed in 0.20.\n",
        "  \"This module will be removed in 0.20.\", DeprecationWarning)\n"
       ]
      }
     ],
     "prompt_number": 1
    },
    {
     "cell_type": "code",
     "collapsed": true,
     "input": [
      "def trainModelTestTrainSplit(data, model):\n",
      "    c = data.columns.difference(['Count'])\n",
      "    X_train, X_test, y_train, y_test = sklearn.cross_validation.train_test_split(data[c], data['Count'], test_size=0.3)\n",
      "    model.verbose=1\n",
      "    model.fit(X_train.as_matrix(), y_train.as_matrix())\n",
      "    pred = model.predict(X_test)\n",
      "    print (\"result \", mae(pred, y_test))\n",
      "    return model"
     ],
     "language": "python",
     "metadata": {},
     "outputs": [],
     "prompt_number": 2
    },
    {
     "cell_type": "code",
     "collapsed": true,
     "input": [
      "def trainModelKfold(data, model, countFold = 5):\n",
      "    meanMae = 0\n",
      "    \n",
      "    c = data.columns.difference(['Count'])\n",
      "    kf = KFold(len(data), n_folds=countFold, shuffle=True)\n",
      "    \n",
      "    for train_index, test_index in kf:\n",
      "        X_train, X_test = data[c].iloc[train_index], data[c].iloc[test_index]\n",
      "        y_train, y_test = data['Count'].iloc[train_index], data['Count'].iloc[test_index]\n",
      "        model.fit(X_train.as_matrix(), y_train.as_matrix())\n",
      "        pred = model.predict(X_test)\n",
      "        print (mae(pred, y_test))\n",
      "        meanMae += mae(pred, y_test)\n",
      "    meanMae /= countFold\n",
      "    print (\"result \", meanMae)\n",
      "    return model"
     ],
     "language": "python",
     "metadata": {},
     "outputs": [],
     "prompt_number": 3
    },
    {
     "cell_type": "code",
     "collapsed": false,
     "input": [
      "features = pd.read_csv('data_transform/all.csv')"
     ],
     "language": "python",
     "metadata": {},
     "outputs": [
      {
       "output_type": "stream",
       "stream": "stderr",
       "text": [
        "/usr/lib/python2.7/dist-packages/IPython/core/interactiveshell.py:2741: DtypeWarning: Columns (15,16,17) have mixed types. Specify dtype option on import or set low_memory=False.\n",
        "  interactivity=interactivity, compiler=compiler)\n"
       ]
      }
     ],
     "prompt_number": 4
    },
    {
     "cell_type": "code",
     "collapsed": false,
     "input": [
      "data = features.fillna(100000000)\n",
      "#data = data[data.columns.difference(['Point', 'Date'])]"
     ],
     "language": "python",
     "metadata": {},
     "outputs": [],
     "prompt_number": 5
    },
    {
     "cell_type": "code",
     "collapsed": false,
     "input": [
      "features.columns"
     ],
     "language": "python",
     "metadata": {},
     "outputs": [
      {
       "metadata": {},
       "output_type": "pyout",
       "prompt_number": 6,
       "text": [
        "Index([u'Count', u'IsTest', u'IsTrain', u'IsValidation', u'Date', u'Year',\n",
        "       u'Month', u'MonthDay', u'WeekDay', u'YearDay', u'ThroughMonth',\n",
        "       u'ThroughWeek', u'ThroughDay', u'BranchNumber', u'CityID', u'CityName',\n",
        "       u'FirstOrder', u'Point', u'lat', u'lng', u'MeanForMonth',\n",
        "       u'MeanForMonthDay', u'MeanForThroughDay', u'MeanForThroughMonth',\n",
        "       u'MeanForThroughWeek', u'MeanForWeekDay', u'MeanForYear',\n",
        "       u'MeanForYearDay', u'MeanForMonthByPoints', u'MeanForMonthDayByPoints',\n",
        "       u'MeanForThroughDayByPoints', u'MeanForThroughMonthByPoints',\n",
        "       u'MeanForThroughWeekByPoints', u'MeanForWeekDayByPoints',\n",
        "       u'MeanForYearByPoints', u'MeanForYearDayByPoints'],\n",
        "      dtype='object')"
       ]
      }
     ],
     "prompt_number": 6
    },
    {
     "cell_type": "code",
     "collapsed": false,
     "input": [
      "remove_column = ['IsTest', 'IsTrain', 'IsValidation', 'Date', 'Point', 'CityName', 'MeanForThroughDay', 'MeanForMonthDayByPoints' \\\n",
      "                 ,'MeanForThroughDayByPoints', 'MeanForThroughWeekByPoints', 'MeanForYearDayByPoints', 'FirstOrder']# \\\n",
      "                 #, 'MeanForThroughMonthByPoints', 'MeanForYearByPoints', 'MeanForWeekDayByPoints', 'MeanForMonthByPoints']\n",
      "'''\n",
      "                 , 'MedianForThroughDayByPoints', 'ModaForThroughDayByPoints', 'MedianForThroughWeekByPoints'\\\n",
      "                 , 'MeanForThroughMonthByPoints', 'MedianForYearDayByPoints', 'MedianForThroughMonthByPoints'\\\n",
      "                 , 'MeanForYearByPoints', 'ModaForThroughWeekByPoints', 'MedianForYearByPoints', 'ModaForYearByPoints' \\\n",
      "                 , 'ModaForThroughMonthByPoints', 'MeanForWeekDayByPoints', 'MedianForWeekDayByPoints', 'MeanForMonthByPoints'\\\n",
      "                 , 'ModaForYearDayByPoints', 'MedianForMonthByPoints', 'MedianForMonthDayByPoints', 'ModaForWeekDayByPoints' \\\n",
      "                 , 'ModaForMonthByPoints', 'ModaForMonthDayByPoints', 'MedianForThroughDay', 'ModeForThroughDay']\n",
      "'''"
     ],
     "language": "python",
     "metadata": {},
     "outputs": [
      {
       "metadata": {},
       "output_type": "pyout",
       "prompt_number": 41,
       "text": [
        "\"\\n                 , 'MedianForThroughDayByPoints', 'ModaForThroughDayByPoints', 'MedianForThroughWeekByPoints'                 , 'MeanForThroughMonthByPoints', 'MedianForYearDayByPoints', 'MedianForThroughMonthByPoints'                 , 'MeanForYearByPoints', 'ModaForThroughWeekByPoints', 'MedianForYearByPoints', 'ModaForYearByPoints'                  , 'ModaForThroughMonthByPoints', 'MeanForWeekDayByPoints', 'MedianForWeekDayByPoints', 'MeanForMonthByPoints'                 , 'ModaForYearDayByPoints', 'MedianForMonthByPoints', 'MedianForMonthDayByPoints', 'ModaForWeekDayByPoints'                  , 'ModaForMonthByPoints', 'ModaForMonthDayByPoints', 'MedianForThroughDay', 'ModeForThroughDay']\\n\""
       ]
      }
     ],
     "prompt_number": 41
    },
    {
     "cell_type": "code",
     "collapsed": false,
     "input": [],
     "language": "python",
     "metadata": {},
     "outputs": [],
     "prompt_number": 41
    },
    {
     "cell_type": "code",
     "collapsed": false,
     "input": [
      "dataTrain = data[data.IsTrain == 1]\n",
      "dataTrain = dataTrain[dataTrain.columns.difference(remove_column)]\n",
      "\n",
      "dataValidation =  data[data.IsValidation == 1]\n",
      "dataValidation = dataValidation[dataValidation.columns.difference(remove_column)]"
     ],
     "language": "python",
     "metadata": {},
     "outputs": [],
     "prompt_number": 42
    },
    {
     "cell_type": "code",
     "collapsed": false,
     "input": [
      "dataTrain.head()"
     ],
     "language": "python",
     "metadata": {},
     "outputs": [
      {
       "html": [
        "<div style=\"max-width:1500px;overflow:auto;\">\n",
        "<table border=\"1\" class=\"dataframe\">\n",
        "  <thead>\n",
        "    <tr style=\"text-align: right;\">\n",
        "      <th></th>\n",
        "      <th>BranchNumber</th>\n",
        "      <th>CityID</th>\n",
        "      <th>Count</th>\n",
        "      <th>MeanForMonth</th>\n",
        "      <th>MeanForMonthDay</th>\n",
        "      <th>MeanForThroughMonth</th>\n",
        "      <th>MeanForThroughWeek</th>\n",
        "      <th>MeanForWeekDay</th>\n",
        "      <th>MeanForYear</th>\n",
        "      <th>MeanForYearDay</th>\n",
        "      <th>Month</th>\n",
        "      <th>MonthDay</th>\n",
        "      <th>ThroughDay</th>\n",
        "      <th>ThroughMonth</th>\n",
        "      <th>ThroughWeek</th>\n",
        "      <th>WeekDay</th>\n",
        "      <th>Year</th>\n",
        "      <th>YearDay</th>\n",
        "      <th>lat</th>\n",
        "      <th>lng</th>\n",
        "    </tr>\n",
        "  </thead>\n",
        "  <tbody>\n",
        "    <tr>\n",
        "      <th>0</th>\n",
        "      <td>1</td>\n",
        "      <td>0</td>\n",
        "      <td>8</td>\n",
        "      <td>111.539463</td>\n",
        "      <td>104.736722</td>\n",
        "      <td>4.500000</td>\n",
        "      <td>4.5</td>\n",
        "      <td>91.533510</td>\n",
        "      <td>82.421053</td>\n",
        "      <td>93.507812</td>\n",
        "      <td>10</td>\n",
        "      <td>6</td>\n",
        "      <td>0</td>\n",
        "      <td>0</td>\n",
        "      <td>0</td>\n",
        "      <td>3</td>\n",
        "      <td>2011</td>\n",
        "      <td>278</td>\n",
        "      <td>61.647851</td>\n",
        "      <td>50.833903</td>\n",
        "    </tr>\n",
        "    <tr>\n",
        "      <th>2</th>\n",
        "      <td>1</td>\n",
        "      <td>1</td>\n",
        "      <td>1</td>\n",
        "      <td>111.539463</td>\n",
        "      <td>109.099924</td>\n",
        "      <td>4.500000</td>\n",
        "      <td>4.5</td>\n",
        "      <td>123.541007</td>\n",
        "      <td>82.421053</td>\n",
        "      <td>147.400000</td>\n",
        "      <td>10</td>\n",
        "      <td>9</td>\n",
        "      <td>3</td>\n",
        "      <td>0</td>\n",
        "      <td>0</td>\n",
        "      <td>6</td>\n",
        "      <td>2011</td>\n",
        "      <td>281</td>\n",
        "      <td>63.567321</td>\n",
        "      <td>53.747159</td>\n",
        "    </tr>\n",
        "    <tr>\n",
        "      <th>4</th>\n",
        "      <td>1</td>\n",
        "      <td>3</td>\n",
        "      <td>2</td>\n",
        "      <td>107.065024</td>\n",
        "      <td>111.090706</td>\n",
        "      <td>91.588235</td>\n",
        "      <td>14.0</td>\n",
        "      <td>91.533510</td>\n",
        "      <td>82.421053</td>\n",
        "      <td>78.482353</td>\n",
        "      <td>12</td>\n",
        "      <td>8</td>\n",
        "      <td>63</td>\n",
        "      <td>2</td>\n",
        "      <td>9</td>\n",
        "      <td>3</td>\n",
        "      <td>2011</td>\n",
        "      <td>341</td>\n",
        "      <td>56.453929</td>\n",
        "      <td>53.774219</td>\n",
        "    </tr>\n",
        "    <tr>\n",
        "      <th>5</th>\n",
        "      <td>1</td>\n",
        "      <td>4</td>\n",
        "      <td>43</td>\n",
        "      <td>107.065024</td>\n",
        "      <td>109.099924</td>\n",
        "      <td>91.588235</td>\n",
        "      <td>14.0</td>\n",
        "      <td>122.924948</td>\n",
        "      <td>82.421053</td>\n",
        "      <td>78.887640</td>\n",
        "      <td>12</td>\n",
        "      <td>9</td>\n",
        "      <td>64</td>\n",
        "      <td>2</td>\n",
        "      <td>9</td>\n",
        "      <td>4</td>\n",
        "      <td>2011</td>\n",
        "      <td>342</td>\n",
        "      <td>53.241504</td>\n",
        "      <td>50.221246</td>\n",
        "    </tr>\n",
        "    <tr>\n",
        "      <th>6</th>\n",
        "      <td>1</td>\n",
        "      <td>5</td>\n",
        "      <td>10</td>\n",
        "      <td>107.065024</td>\n",
        "      <td>103.439913</td>\n",
        "      <td>91.588235</td>\n",
        "      <td>14.0</td>\n",
        "      <td>143.428854</td>\n",
        "      <td>82.421053</td>\n",
        "      <td>84.783133</td>\n",
        "      <td>12</td>\n",
        "      <td>10</td>\n",
        "      <td>65</td>\n",
        "      <td>2</td>\n",
        "      <td>9</td>\n",
        "      <td>5</td>\n",
        "      <td>2011</td>\n",
        "      <td>343</td>\n",
        "      <td>55.164442</td>\n",
        "      <td>61.436843</td>\n",
        "    </tr>\n",
        "  </tbody>\n",
        "</table>\n",
        "</div>"
       ],
       "metadata": {},
       "output_type": "pyout",
       "prompt_number": 43,
       "text": [
        "   BranchNumber  CityID  Count  MeanForMonth  MeanForMonthDay  \\\n",
        "0             1       0      8    111.539463       104.736722   \n",
        "2             1       1      1    111.539463       109.099924   \n",
        "4             1       3      2    107.065024       111.090706   \n",
        "5             1       4     43    107.065024       109.099924   \n",
        "6             1       5     10    107.065024       103.439913   \n",
        "\n",
        "   MeanForThroughMonth  MeanForThroughWeek  MeanForWeekDay  MeanForYear  \\\n",
        "0             4.500000                 4.5       91.533510    82.421053   \n",
        "2             4.500000                 4.5      123.541007    82.421053   \n",
        "4            91.588235                14.0       91.533510    82.421053   \n",
        "5            91.588235                14.0      122.924948    82.421053   \n",
        "6            91.588235                14.0      143.428854    82.421053   \n",
        "\n",
        "   MeanForYearDay  Month  MonthDay  ThroughDay  ThroughMonth  ThroughWeek  \\\n",
        "0       93.507812     10         6           0             0            0   \n",
        "2      147.400000     10         9           3             0            0   \n",
        "4       78.482353     12         8          63             2            9   \n",
        "5       78.887640     12         9          64             2            9   \n",
        "6       84.783133     12        10          65             2            9   \n",
        "\n",
        "   WeekDay  Year  YearDay        lat        lng  \n",
        "0        3  2011      278  61.647851  50.833903  \n",
        "2        6  2011      281  63.567321  53.747159  \n",
        "4        3  2011      341  56.453929  53.774219  \n",
        "5        4  2011      342  53.241504  50.221246  \n",
        "6        5  2011      343  55.164442  61.436843  "
       ]
      }
     ],
     "prompt_number": 43
    },
    {
     "cell_type": "code",
     "collapsed": false,
     "input": [
      "model = trainModelTestTrainSplit(dataTrain, RandomForestRegressor(100))\n",
      "\n",
      "X_test = dataValidation[dataValidation.columns.difference(['Count'])]\n",
      "y_test = dataValidation.Count\n",
      "\n",
      "pred = model.predict(X_test)\n",
      "print (mae(pred, y_test))"
     ],
     "language": "python",
     "metadata": {},
     "outputs": [
      {
       "output_type": "stream",
       "stream": "stderr",
       "text": [
        "[Parallel(n_jobs=1)]: Done 100 out of 100 | elapsed:   10.4s finished\n",
        "[Parallel(n_jobs=1)]: Done 100 out of 100 | elapsed:    0.2s finished\n"
       ]
      },
      {
       "output_type": "stream",
       "stream": "stdout",
       "text": [
        "('result ', 53.322566424958346)\n",
        "52.7170763398"
       ]
      },
      {
       "output_type": "stream",
       "stream": "stdout",
       "text": [
        "\n"
       ]
      },
      {
       "output_type": "stream",
       "stream": "stderr",
       "text": [
        "[Parallel(n_jobs=1)]: Done 100 out of 100 | elapsed:    0.1s finished\n"
       ]
      }
     ],
     "prompt_number": 44
    },
    {
     "cell_type": "code",
     "collapsed": false,
     "input": [
      "c = dataTrain.columns.difference([\"Count\"])"
     ],
     "language": "python",
     "metadata": {},
     "outputs": [],
     "prompt_number": 45
    },
    {
     "cell_type": "code",
     "collapsed": false,
     "input": [
      "max(model.feature_importances_)"
     ],
     "language": "python",
     "metadata": {},
     "outputs": [
      {
       "metadata": {},
       "output_type": "pyout",
       "prompt_number": 46,
       "text": [
        "0.24514602015952622"
       ]
      }
     ],
     "prompt_number": 46
    },
    {
     "cell_type": "code",
     "collapsed": false,
     "input": [
      "c[np.where(max(model.feature_importances_) == model.feature_importances_)[0][0]]"
     ],
     "language": "python",
     "metadata": {},
     "outputs": [
      {
       "metadata": {},
       "output_type": "pyout",
       "prompt_number": 47,
       "text": [
        "'MeanForWeekDay'"
       ]
      }
     ],
     "prompt_number": 47
    },
    {
     "cell_type": "code",
     "collapsed": false,
     "input": [],
     "language": "python",
     "metadata": {},
     "outputs": [],
     "prompt_number": 180
    },
    {
     "cell_type": "code",
     "collapsed": false,
     "input": [],
     "language": "python",
     "metadata": {},
     "outputs": [],
     "prompt_number": 47
    },
    {
     "cell_type": "code",
     "collapsed": false,
     "input": [],
     "language": "python",
     "metadata": {},
     "outputs": []
    },
    {
     "cell_type": "code",
     "collapsed": false,
     "input": [],
     "language": "python",
     "metadata": {},
     "outputs": []
    },
    {
     "cell_type": "code",
     "collapsed": false,
     "input": [],
     "language": "python",
     "metadata": {},
     "outputs": []
    },
    {
     "cell_type": "code",
     "collapsed": false,
     "input": [
      "m = trainModelKfoldOnValidation(dataTrain, RandomForestRegressor(), countFold = 25)"
     ],
     "language": "python",
     "metadata": {
      "scrolled": false
     },
     "outputs": [
      {
       "output_type": "stream",
       "stream": "stdout",
       "text": [
        "16.64804744\n",
        "16.6859415678"
       ]
      },
      {
       "output_type": "stream",
       "stream": "stdout",
       "text": [
        "\n",
        "16.6955018802"
       ]
      },
      {
       "output_type": "stream",
       "stream": "stdout",
       "text": [
        "\n",
        "16.8776251085"
       ]
      },
      {
       "output_type": "stream",
       "stream": "stdout",
       "text": [
        "\n",
        "16.8328174718"
       ]
      },
      {
       "output_type": "stream",
       "stream": "stdout",
       "text": [
        "\n",
        "16.754150998"
       ]
      },
      {
       "output_type": "stream",
       "stream": "stdout",
       "text": [
        "\n",
        "16.7422910038"
       ]
      },
      {
       "output_type": "stream",
       "stream": "stdout",
       "text": [
        "\n",
        "16.770899624"
       ]
      },
      {
       "output_type": "stream",
       "stream": "stdout",
       "text": [
        "\n",
        "16.8688313567"
       ]
      },
      {
       "output_type": "stream",
       "stream": "stdout",
       "text": [
        "\n",
        "16.8696557709"
       ]
      },
      {
       "output_type": "stream",
       "stream": "stdout",
       "text": [
        "\n",
        "16.729100376"
       ]
      },
      {
       "output_type": "stream",
       "stream": "stdout",
       "text": [
        "\n",
        "16.8253254267"
       ]
      },
      {
       "output_type": "stream",
       "stream": "stdout",
       "text": [
        "\n",
        "16.996167197"
       ]
      },
      {
       "output_type": "stream",
       "stream": "stdout",
       "text": [
        "\n",
        "16.8018079259"
       ]
      },
      {
       "output_type": "stream",
       "stream": "stdout",
       "text": [
        "\n",
        "16.7459936361"
       ]
      },
      {
       "output_type": "stream",
       "stream": "stdout",
       "text": [
        "\n",
        "16.8113971652"
       ]
      },
      {
       "output_type": "stream",
       "stream": "stdout",
       "text": [
        "\n",
        "16.9056118021"
       ]
      },
      {
       "output_type": "stream",
       "stream": "stdout",
       "text": [
        "\n",
        "16.7818918137"
       ]
      },
      {
       "output_type": "stream",
       "stream": "stdout",
       "text": [
        "\n",
        "16.8295342783"
       ]
      },
      {
       "output_type": "stream",
       "stream": "stdout",
       "text": [
        "\n",
        "16.825267573"
       ]
      },
      {
       "output_type": "stream",
       "stream": "stdout",
       "text": [
        "\n",
        "16.9791148395"
       ]
      },
      {
       "output_type": "stream",
       "stream": "stdout",
       "text": [
        "\n",
        "16.6815302285"
       ]
      },
      {
       "output_type": "stream",
       "stream": "stdout",
       "text": [
        "\n",
        "16.6579114839"
       ]
      },
      {
       "output_type": "stream",
       "stream": "stdout",
       "text": [
        "\n",
        "16.6662279433"
       ]
      },
      {
       "output_type": "stream",
       "stream": "stdout",
       "text": [
        "\n",
        "16.6541654614"
       ]
      },
      {
       "output_type": "stream",
       "stream": "stdout",
       "text": [
        "\n",
        "('result ', 16.78547237489153)\n"
       ]
      }
     ],
     "prompt_number": 81
    },
    {
     "cell_type": "code",
     "collapsed": false,
     "input": [
      "m = trainModelKfold(data, LinearRegression(), countFold = 25)\n",
      "print(data.columns.difference(['Count']))\n",
      "m.coef_"
     ],
     "language": "python",
     "metadata": {
      "scrolled": false
     },
     "outputs": [],
     "prompt_number": null
    },
    {
     "cell_type": "code",
     "collapsed": true,
     "input": [],
     "language": "python",
     "metadata": {},
     "outputs": [],
     "prompt_number": null
    },
    {
     "cell_type": "code",
     "collapsed": false,
     "input": [],
     "language": "python",
     "metadata": {},
     "outputs": [],
     "prompt_number": null
    },
    {
     "cell_type": "code",
     "collapsed": true,
     "input": [],
     "language": "python",
     "metadata": {},
     "outputs": [],
     "prompt_number": null
    }
   ],
   "metadata": {}
  }
 ]
}