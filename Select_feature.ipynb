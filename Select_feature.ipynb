{
 "metadata": {
  "name": "",
  "signature": "sha256:dc35409daf1285d88d058003137e2674b96491d577703356d4c84b5480e2e70d"
 },
 "nbformat": 3,
 "nbformat_minor": 0,
 "worksheets": [
  {
   "cells": [
    {
     "cell_type": "code",
     "collapsed": false,
     "input": [
      "import pandas as pd\n",
      "import numpy as np\n",
      "import sklearn\n",
      "import sklearn.linear_model\n",
      "from sklearn.linear_model import LinearRegression\n",
      "from sklearn.ensemble import RandomForestRegressor\n",
      "from sklearn.cross_validation import KFold\n",
      "from sklearn.metrics import mean_absolute_error as mae\n",
      "from __future__ import division\n",
      "from sklearn.linear_model import Ridge"
     ],
     "language": "python",
     "metadata": {},
     "outputs": [
      {
       "output_type": "stream",
       "stream": "stderr",
       "text": [
        "/usr/local/lib/python2.7/dist-packages/sklearn/cross_validation.py:44: DeprecationWarning: This module was deprecated in version 0.18 in favor of the model_selection module into which all the refactored classes and functions are moved. Also note that the interface of the new CV iterators are different from that of this module. This module will be removed in 0.20.\n",
        "  \"This module will be removed in 0.20.\", DeprecationWarning)\n"
       ]
      }
     ],
     "prompt_number": 1
    },
    {
     "cell_type": "code",
     "collapsed": false,
     "input": [
      "features = pd.read_csv('data_transform/all.csv')"
     ],
     "language": "python",
     "metadata": {},
     "outputs": [
      {
       "output_type": "stream",
       "stream": "stderr",
       "text": [
        "/usr/lib/python2.7/dist-packages/IPython/core/interactiveshell.py:2741: DtypeWarning: Columns (15,16,17) have mixed types. Specify dtype option on import or set low_memory=False.\n",
        "  interactivity=interactivity, compiler=compiler)\n"
       ]
      }
     ],
     "prompt_number": 2
    },
    {
     "cell_type": "code",
     "collapsed": false,
     "input": [
      "remove_column = ['IsTest', 'IsTrain', 'IsValidation', 'Date', 'Point', 'CityName', 'FirstOrder']"
     ],
     "language": "python",
     "metadata": {},
     "outputs": [],
     "prompt_number": 3
    },
    {
     "cell_type": "code",
     "collapsed": false,
     "input": [
      "data = features.fillna(100000000)"
     ],
     "language": "python",
     "metadata": {},
     "outputs": [],
     "prompt_number": 4
    },
    {
     "cell_type": "code",
     "collapsed": false,
     "input": [
      "dataTrain = data[data.IsTrain == 1]\n",
      "dataTrain = dataTrain[dataTrain.columns.difference(remove_column)]\n",
      "\n",
      "dataValidation =  data[data.IsValidation == 1]\n",
      "dataValidation = dataValidation[dataValidation.columns.difference(remove_column)]\n",
      "\n",
      "X_test = dataValidation[dataValidation.columns.difference(['Count'])]\n",
      "y_test = dataValidation.Count"
     ],
     "language": "python",
     "metadata": {},
     "outputs": [],
     "prompt_number": 5
    },
    {
     "cell_type": "code",
     "collapsed": false,
     "input": [],
     "language": "python",
     "metadata": {},
     "outputs": [],
     "prompt_number": 9
    },
    {
     "cell_type": "code",
     "collapsed": false,
     "input": [
      "currentColumn = dataTrain.columns"
     ],
     "language": "python",
     "metadata": {},
     "outputs": [],
     "prompt_number": 10
    },
    {
     "cell_type": "code",
     "collapsed": false,
     "input": [
      "def trainModelTestTrainSplit(data, model):\n",
      "    c = data.columns.difference(['Count'])\n",
      "    X_train, X_test, y_train, y_test = sklearn.cross_validation.train_test_split(data[c], data['Count'], test_size=0.3)\n",
      "    #model.verbose=1\n",
      "    model.fit(X_train.as_matrix(), y_train.as_matrix())\n",
      "    pred = model.predict(X_test)\n",
      "    #print (\"result on train \" + str(mae(pred, y_test)))\n",
      "    return model"
     ],
     "language": "python",
     "metadata": {},
     "outputs": [],
     "prompt_number": 11
    },
    {
     "cell_type": "code",
     "collapsed": false,
     "input": [
      "def fitOnTrainCheckOnVal(dataTrain, dataValidation, model):\n",
      "    model = trainModelTestTrainSplit(dataTrain, model)\n",
      "\n",
      "    X_test = dataValidation[dataValidation.columns.difference(['Count'])]\n",
      "    y_test = dataValidation.Count\n",
      "\n",
      "    pred = model.predict(X_test)\n",
      "    return (mae(pred, y_test))"
     ],
     "language": "python",
     "metadata": {},
     "outputs": [
      {
       "output_type": "stream",
       "stream": "stdout",
       "text": [
        "\n"
       ]
      }
     ],
     "prompt_number": 20
    },
    {
     "cell_type": "code",
     "collapsed": false,
     "input": [
      "def trainModelKfoldOnValidation(dataTrain, dataValidation, model, countFold = 5):\n",
      "    meanMae = 0\n",
      "    \n",
      "    c = dataTrain.columns.difference(['Count'])\n",
      "    kf = KFold(len(dataTrain), n_folds=countFold, shuffle=True)\n",
      "    \n",
      "    X_valid = dataValidation[c]\n",
      "    y_valid = dataValidation.Count\n",
      "    \n",
      "    for train_index, test_index in kf:\n",
      "        X_train, X_test = dataTrain[c].iloc[train_index], dataTrain[c].iloc[test_index]\n",
      "        y_train, y_test = dataTrain['Count'].iloc[train_index], dataTrain['Count'].iloc[test_index]\n",
      "        model.fit(X_train.as_matrix(), y_train.as_matrix())\n",
      "        pred = model.predict(X_valid)\n",
      "        #print (mae(pred, y_valid))\n",
      "        meanMae += mae(pred, y_valid)\n",
      "    meanMae /= countFold\n",
      "    #print (\"result \", meanMae)\n",
      "    return meanMae"
     ],
     "language": "python",
     "metadata": {},
     "outputs": [],
     "prompt_number": 13
    },
    {
     "cell_type": "code",
     "collapsed": false,
     "input": [
      "def RemoveTrash(dataTrain, dataValidation, model):\n",
      "    features = pd.read_csv('data_transform/all.csv')\n",
      "    column = features.columns\n",
      "    remove_column = ['IsTest', 'IsTrain', 'IsValidation', 'Date', 'Point', 'CityName', 'FirstOrder']\n",
      "    column = column.difference(remove_column)\n",
      "\n",
      "    startScore = 10000000000000000000000000000000000000000\n",
      "    localScore = 100000\n",
      "\n",
      "    while (localScore < startScore):\n",
      "        name = \"None\"\n",
      "        prevStartScore = startScore\n",
      "        startScore = trainModelKfoldOnValidation(dataTrain[column], dataValidation[column], model)\n",
      "        localScore = startScore\n",
      "        print \"Coef between pasted baseline and current \" + str(prevStartScore / startScore) \n",
      "        if( (prevStartScore / startScore) < 0.98):\n",
      "            return column\n",
      "        \n",
      "        \n",
      "        for i in column:\n",
      "            if(i == 'Count'):\n",
      "                continue\n",
      "            c = column.difference([i])\n",
      "            res = fitOnTrainCheckOnVal(dataTrain[c], dataValidation[c], model)\n",
      "            if(res < localScore):\n",
      "                localScore = res\n",
      "                name = i\n",
      "            print i,\n",
      "        if(localScore < startScore):\n",
      "            column = column.drop(name)\n",
      "        print \"\"\n",
      "        print \"|_end iteration_| start score: \" + str(startScore) + \", end score: \" + str(localScore) + \", name feature: \" + name\n",
      "    return column"
     ],
     "language": "python",
     "metadata": {},
     "outputs": [],
     "prompt_number": 21
    },
    {
     "cell_type": "code",
     "collapsed": false,
     "input": [
      "column = RemoveTrash(dataTrain, dataValidation, Ridge())"
     ],
     "language": "python",
     "metadata": {},
     "outputs": [
      {
       "output_type": "stream",
       "stream": "stdout",
       "text": [
        "Coef between pasted baseline and current 1.00000110348e+32\n",
        "BranchNumber"
       ]
      },
      {
       "output_type": "stream",
       "stream": "stdout",
       "text": [
        " CityID "
       ]
      },
      {
       "output_type": "stream",
       "stream": "stdout",
       "text": [
        "MeanForMonth "
       ]
      },
      {
       "output_type": "stream",
       "stream": "stdout",
       "text": [
        "MeanForMonthByPoints "
       ]
      },
      {
       "output_type": "stream",
       "stream": "stdout",
       "text": [
        "MeanForMonthDay "
       ]
      },
      {
       "output_type": "stream",
       "stream": "stdout",
       "text": [
        "MeanForMonthDayByPoints "
       ]
      },
      {
       "output_type": "stream",
       "stream": "stdout",
       "text": [
        "MeanForThroughDay "
       ]
      },
      {
       "output_type": "stream",
       "stream": "stdout",
       "text": [
        "MeanForThroughDayByPoints "
       ]
      },
      {
       "output_type": "stream",
       "stream": "stdout",
       "text": [
        "MeanForThroughMonth "
       ]
      },
      {
       "output_type": "stream",
       "stream": "stdout",
       "text": [
        "MeanForThroughMonthByPoints "
       ]
      },
      {
       "output_type": "stream",
       "stream": "stdout",
       "text": [
        "MeanForThroughWeek "
       ]
      },
      {
       "output_type": "stream",
       "stream": "stdout",
       "text": [
        "MeanForThroughWeekByPoints "
       ]
      },
      {
       "output_type": "stream",
       "stream": "stdout",
       "text": [
        "MeanForWeekDay "
       ]
      },
      {
       "output_type": "stream",
       "stream": "stdout",
       "text": [
        "MeanForWeekDayByPoints "
       ]
      },
      {
       "output_type": "stream",
       "stream": "stdout",
       "text": [
        "MeanForYear "
       ]
      },
      {
       "output_type": "stream",
       "stream": "stdout",
       "text": [
        "MeanForYearByPoints "
       ]
      },
      {
       "output_type": "stream",
       "stream": "stdout",
       "text": [
        "MeanForYearDay "
       ]
      },
      {
       "output_type": "stream",
       "stream": "stdout",
       "text": [
        "MeanForYearDayByPoints "
       ]
      },
      {
       "output_type": "stream",
       "stream": "stdout",
       "text": [
        "Month "
       ]
      },
      {
       "output_type": "stream",
       "stream": "stdout",
       "text": [
        "MonthDay "
       ]
      },
      {
       "output_type": "stream",
       "stream": "stdout",
       "text": [
        "ThroughDay "
       ]
      },
      {
       "output_type": "stream",
       "stream": "stdout",
       "text": [
        "ThroughMonth "
       ]
      },
      {
       "output_type": "stream",
       "stream": "stdout",
       "text": [
        "ThroughWeek "
       ]
      },
      {
       "output_type": "stream",
       "stream": "stdout",
       "text": [
        "WeekDay "
       ]
      },
      {
       "output_type": "stream",
       "stream": "stdout",
       "text": [
        "Year "
       ]
      },
      {
       "output_type": "stream",
       "stream": "stdout",
       "text": [
        "YearDay "
       ]
      },
      {
       "output_type": "stream",
       "stream": "stdout",
       "text": [
        "lat "
       ]
      },
      {
       "output_type": "stream",
       "stream": "stdout",
       "text": [
        "lng \n",
        "|_end iteration_| start score: 99999889.6524, end score: 26898369.3281, name feature: MeanForThroughDayByPoints\n",
        "Coef between pasted baseline and current 3.43797027777"
       ]
      },
      {
       "output_type": "stream",
       "stream": "stdout",
       "text": [
        "\n",
        "BranchNumber"
       ]
      },
      {
       "output_type": "stream",
       "stream": "stdout",
       "text": [
        " CityID "
       ]
      },
      {
       "output_type": "stream",
       "stream": "stdout",
       "text": [
        "MeanForMonth "
       ]
      },
      {
       "output_type": "stream",
       "stream": "stdout",
       "text": [
        "MeanForMonthByPoints "
       ]
      },
      {
       "output_type": "stream",
       "stream": "stdout",
       "text": [
        "MeanForMonthDay "
       ]
      },
      {
       "output_type": "stream",
       "stream": "stdout",
       "text": [
        "MeanForMonthDayByPoints "
       ]
      },
      {
       "output_type": "stream",
       "stream": "stdout",
       "text": [
        "MeanForThroughDay "
       ]
      },
      {
       "output_type": "stream",
       "stream": "stdout",
       "text": [
        "MeanForThroughMonth "
       ]
      },
      {
       "output_type": "stream",
       "stream": "stdout",
       "text": [
        "MeanForThroughMonthByPoints "
       ]
      },
      {
       "output_type": "stream",
       "stream": "stdout",
       "text": [
        "MeanForThroughWeek "
       ]
      },
      {
       "output_type": "stream",
       "stream": "stdout",
       "text": [
        "MeanForThroughWeekByPoints "
       ]
      },
      {
       "output_type": "stream",
       "stream": "stdout",
       "text": [
        "MeanForWeekDay "
       ]
      },
      {
       "output_type": "stream",
       "stream": "stdout",
       "text": [
        "MeanForWeekDayByPoints "
       ]
      },
      {
       "output_type": "stream",
       "stream": "stdout",
       "text": [
        "MeanForYear "
       ]
      },
      {
       "output_type": "stream",
       "stream": "stdout",
       "text": [
        "MeanForYearByPoints "
       ]
      },
      {
       "output_type": "stream",
       "stream": "stdout",
       "text": [
        "MeanForYearDay "
       ]
      },
      {
       "output_type": "stream",
       "stream": "stdout",
       "text": [
        "MeanForYearDayByPoints "
       ]
      },
      {
       "output_type": "stream",
       "stream": "stdout",
       "text": [
        "Month "
       ]
      },
      {
       "output_type": "stream",
       "stream": "stdout",
       "text": [
        "MonthDay "
       ]
      },
      {
       "output_type": "stream",
       "stream": "stdout",
       "text": [
        "ThroughDay "
       ]
      },
      {
       "output_type": "stream",
       "stream": "stdout",
       "text": [
        "ThroughMonth "
       ]
      },
      {
       "output_type": "stream",
       "stream": "stdout",
       "text": [
        "ThroughWeek "
       ]
      },
      {
       "output_type": "stream",
       "stream": "stdout",
       "text": [
        "WeekDay "
       ]
      },
      {
       "output_type": "stream",
       "stream": "stdout",
       "text": [
        "Year "
       ]
      },
      {
       "output_type": "stream",
       "stream": "stdout",
       "text": [
        "YearDay "
       ]
      },
      {
       "output_type": "stream",
       "stream": "stdout",
       "text": [
        "lat "
       ]
      },
      {
       "output_type": "stream",
       "stream": "stdout",
       "text": [
        "lng \n",
        "|_end iteration_| start score: 29086897.6672, end score: 289708.619802, name feature: MeanForYearDayByPoints\n",
        "Coef between pasted baseline and current 95.5199081533"
       ]
      },
      {
       "output_type": "stream",
       "stream": "stdout",
       "text": [
        "\n",
        "BranchNumber"
       ]
      },
      {
       "output_type": "stream",
       "stream": "stdout",
       "text": [
        " CityID "
       ]
      },
      {
       "output_type": "stream",
       "stream": "stdout",
       "text": [
        "MeanForMonth "
       ]
      },
      {
       "output_type": "stream",
       "stream": "stdout",
       "text": [
        "MeanForMonthByPoints "
       ]
      },
      {
       "output_type": "stream",
       "stream": "stdout",
       "text": [
        "MeanForMonthDay "
       ]
      },
      {
       "output_type": "stream",
       "stream": "stdout",
       "text": [
        "MeanForMonthDayByPoints "
       ]
      },
      {
       "output_type": "stream",
       "stream": "stdout",
       "text": [
        "MeanForThroughDay "
       ]
      },
      {
       "output_type": "stream",
       "stream": "stdout",
       "text": [
        "MeanForThroughMonth "
       ]
      },
      {
       "output_type": "stream",
       "stream": "stdout",
       "text": [
        "MeanForThroughMonthByPoints "
       ]
      },
      {
       "output_type": "stream",
       "stream": "stdout",
       "text": [
        "MeanForThroughWeek "
       ]
      },
      {
       "output_type": "stream",
       "stream": "stdout",
       "text": [
        "MeanForThroughWeekByPoints "
       ]
      },
      {
       "output_type": "stream",
       "stream": "stdout",
       "text": [
        "MeanForWeekDay "
       ]
      },
      {
       "output_type": "stream",
       "stream": "stdout",
       "text": [
        "MeanForWeekDayByPoints "
       ]
      },
      {
       "output_type": "stream",
       "stream": "stdout",
       "text": [
        "MeanForYear "
       ]
      },
      {
       "output_type": "stream",
       "stream": "stdout",
       "text": [
        "MeanForYearByPoints "
       ]
      },
      {
       "output_type": "stream",
       "stream": "stdout",
       "text": [
        "MeanForYearDay "
       ]
      },
      {
       "output_type": "stream",
       "stream": "stdout",
       "text": [
        "Month "
       ]
      },
      {
       "output_type": "stream",
       "stream": "stdout",
       "text": [
        "MonthDay "
       ]
      },
      {
       "output_type": "stream",
       "stream": "stdout",
       "text": [
        "ThroughDay "
       ]
      },
      {
       "output_type": "stream",
       "stream": "stdout",
       "text": [
        "ThroughMonth "
       ]
      },
      {
       "output_type": "stream",
       "stream": "stdout",
       "text": [
        "ThroughWeek "
       ]
      },
      {
       "output_type": "stream",
       "stream": "stdout",
       "text": [
        "WeekDay "
       ]
      },
      {
       "output_type": "stream",
       "stream": "stdout",
       "text": [
        "Year "
       ]
      },
      {
       "output_type": "stream",
       "stream": "stdout",
       "text": [
        "YearDay "
       ]
      },
      {
       "output_type": "stream",
       "stream": "stdout",
       "text": [
        "lat "
       ]
      },
      {
       "output_type": "stream",
       "stream": "stdout",
       "text": [
        "lng \n",
        "|_end iteration_| start score: 304511.365532, end score: 94956.0456454, name feature: MeanForThroughDay\n",
        "Coef between pasted baseline and current 3.50900295149"
       ]
      },
      {
       "output_type": "stream",
       "stream": "stdout",
       "text": [
        "\n",
        "BranchNumber"
       ]
      },
      {
       "output_type": "stream",
       "stream": "stdout",
       "text": [
        " CityID "
       ]
      },
      {
       "output_type": "stream",
       "stream": "stdout",
       "text": [
        "MeanForMonth "
       ]
      },
      {
       "output_type": "stream",
       "stream": "stdout",
       "text": [
        "MeanForMonthByPoints "
       ]
      },
      {
       "output_type": "stream",
       "stream": "stdout",
       "text": [
        "MeanForMonthDay "
       ]
      },
      {
       "output_type": "stream",
       "stream": "stdout",
       "text": [
        "MeanForMonthDayByPoints "
       ]
      },
      {
       "output_type": "stream",
       "stream": "stdout",
       "text": [
        "MeanForThroughMonth "
       ]
      },
      {
       "output_type": "stream",
       "stream": "stdout",
       "text": [
        "MeanForThroughMonthByPoints "
       ]
      },
      {
       "output_type": "stream",
       "stream": "stdout",
       "text": [
        "MeanForThroughWeek "
       ]
      },
      {
       "output_type": "stream",
       "stream": "stdout",
       "text": [
        "MeanForThroughWeekByPoints "
       ]
      },
      {
       "output_type": "stream",
       "stream": "stdout",
       "text": [
        "MeanForWeekDay "
       ]
      },
      {
       "output_type": "stream",
       "stream": "stdout",
       "text": [
        "MeanForWeekDayByPoints "
       ]
      },
      {
       "output_type": "stream",
       "stream": "stdout",
       "text": [
        "MeanForYear "
       ]
      },
      {
       "output_type": "stream",
       "stream": "stdout",
       "text": [
        "MeanForYearByPoints "
       ]
      },
      {
       "output_type": "stream",
       "stream": "stdout",
       "text": [
        "MeanForYearDay "
       ]
      },
      {
       "output_type": "stream",
       "stream": "stdout",
       "text": [
        "Month "
       ]
      },
      {
       "output_type": "stream",
       "stream": "stdout",
       "text": [
        "MonthDay "
       ]
      },
      {
       "output_type": "stream",
       "stream": "stdout",
       "text": [
        "ThroughDay "
       ]
      },
      {
       "output_type": "stream",
       "stream": "stdout",
       "text": [
        "ThroughMonth "
       ]
      },
      {
       "output_type": "stream",
       "stream": "stdout",
       "text": [
        "ThroughWeek "
       ]
      },
      {
       "output_type": "stream",
       "stream": "stdout",
       "text": [
        "WeekDay "
       ]
      },
      {
       "output_type": "stream",
       "stream": "stdout",
       "text": [
        "Year "
       ]
      },
      {
       "output_type": "stream",
       "stream": "stdout",
       "text": [
        "YearDay "
       ]
      },
      {
       "output_type": "stream",
       "stream": "stdout",
       "text": [
        "lat "
       ]
      },
      {
       "output_type": "stream",
       "stream": "stdout",
       "text": [
        "lng \n",
        "|_end iteration_| start score: 86780.0254778, end score: 49285.1371612, name feature: MeanForThroughWeekByPoints\n",
        "Coef between pasted baseline and current 2.71784668487"
       ]
      },
      {
       "output_type": "stream",
       "stream": "stdout",
       "text": [
        "\n",
        "BranchNumber"
       ]
      },
      {
       "output_type": "stream",
       "stream": "stdout",
       "text": [
        " CityID "
       ]
      },
      {
       "output_type": "stream",
       "stream": "stdout",
       "text": [
        "MeanForMonth "
       ]
      },
      {
       "output_type": "stream",
       "stream": "stdout",
       "text": [
        "MeanForMonthByPoints "
       ]
      },
      {
       "output_type": "stream",
       "stream": "stdout",
       "text": [
        "MeanForMonthDay "
       ]
      },
      {
       "output_type": "stream",
       "stream": "stdout",
       "text": [
        "MeanForMonthDayByPoints "
       ]
      },
      {
       "output_type": "stream",
       "stream": "stdout",
       "text": [
        "MeanForThroughMonth "
       ]
      },
      {
       "output_type": "stream",
       "stream": "stdout",
       "text": [
        "MeanForThroughMonthByPoints "
       ]
      },
      {
       "output_type": "stream",
       "stream": "stdout",
       "text": [
        "MeanForThroughWeek "
       ]
      },
      {
       "output_type": "stream",
       "stream": "stdout",
       "text": [
        "MeanForWeekDay "
       ]
      },
      {
       "output_type": "stream",
       "stream": "stdout",
       "text": [
        "MeanForWeekDayByPoints "
       ]
      },
      {
       "output_type": "stream",
       "stream": "stdout",
       "text": [
        "MeanForYear "
       ]
      },
      {
       "output_type": "stream",
       "stream": "stdout",
       "text": [
        "MeanForYearByPoints "
       ]
      },
      {
       "output_type": "stream",
       "stream": "stdout",
       "text": [
        "MeanForYearDay "
       ]
      },
      {
       "output_type": "stream",
       "stream": "stdout",
       "text": [
        "Month "
       ]
      },
      {
       "output_type": "stream",
       "stream": "stdout",
       "text": [
        "MonthDay "
       ]
      },
      {
       "output_type": "stream",
       "stream": "stdout",
       "text": [
        "ThroughDay "
       ]
      },
      {
       "output_type": "stream",
       "stream": "stdout",
       "text": [
        "ThroughMonth "
       ]
      },
      {
       "output_type": "stream",
       "stream": "stdout",
       "text": [
        "ThroughWeek "
       ]
      },
      {
       "output_type": "stream",
       "stream": "stdout",
       "text": [
        "WeekDay "
       ]
      },
      {
       "output_type": "stream",
       "stream": "stdout",
       "text": [
        "Year "
       ]
      },
      {
       "output_type": "stream",
       "stream": "stdout",
       "text": [
        "YearDay "
       ]
      },
      {
       "output_type": "stream",
       "stream": "stdout",
       "text": [
        "lat "
       ]
      },
      {
       "output_type": "stream",
       "stream": "stdout",
       "text": [
        "lng \n",
        "|_end iteration_| start score: 31929.6985959, end score: 14187.843709, name feature: MeanForMonthDayByPoints\n",
        "Coef between pasted baseline and current 2.23470773312"
       ]
      },
      {
       "output_type": "stream",
       "stream": "stdout",
       "text": [
        "\n",
        "BranchNumber"
       ]
      },
      {
       "output_type": "stream",
       "stream": "stdout",
       "text": [
        " CityID "
       ]
      },
      {
       "output_type": "stream",
       "stream": "stdout",
       "text": [
        "MeanForMonth "
       ]
      },
      {
       "output_type": "stream",
       "stream": "stdout",
       "text": [
        "MeanForMonthByPoints "
       ]
      },
      {
       "output_type": "stream",
       "stream": "stdout",
       "text": [
        "MeanForMonthDay "
       ]
      },
      {
       "output_type": "stream",
       "stream": "stdout",
       "text": [
        "MeanForThroughMonth "
       ]
      },
      {
       "output_type": "stream",
       "stream": "stdout",
       "text": [
        "MeanForThroughMonthByPoints "
       ]
      },
      {
       "output_type": "stream",
       "stream": "stdout",
       "text": [
        "MeanForThroughWeek "
       ]
      },
      {
       "output_type": "stream",
       "stream": "stdout",
       "text": [
        "MeanForWeekDay "
       ]
      },
      {
       "output_type": "stream",
       "stream": "stdout",
       "text": [
        "MeanForWeekDayByPoints "
       ]
      },
      {
       "output_type": "stream",
       "stream": "stdout",
       "text": [
        "MeanForYear "
       ]
      },
      {
       "output_type": "stream",
       "stream": "stdout",
       "text": [
        "MeanForYearByPoints "
       ]
      },
      {
       "output_type": "stream",
       "stream": "stdout",
       "text": [
        "MeanForYearDay "
       ]
      },
      {
       "output_type": "stream",
       "stream": "stdout",
       "text": [
        "Month "
       ]
      },
      {
       "output_type": "stream",
       "stream": "stdout",
       "text": [
        "MonthDay "
       ]
      },
      {
       "output_type": "stream",
       "stream": "stdout",
       "text": [
        "ThroughDay "
       ]
      },
      {
       "output_type": "stream",
       "stream": "stdout",
       "text": [
        "ThroughMonth "
       ]
      },
      {
       "output_type": "stream",
       "stream": "stdout",
       "text": [
        "ThroughWeek "
       ]
      },
      {
       "output_type": "stream",
       "stream": "stdout",
       "text": [
        "WeekDay "
       ]
      },
      {
       "output_type": "stream",
       "stream": "stdout",
       "text": [
        "Year "
       ]
      },
      {
       "output_type": "stream",
       "stream": "stdout",
       "text": [
        "YearDay "
       ]
      },
      {
       "output_type": "stream",
       "stream": "stdout",
       "text": [
        "lat "
       ]
      },
      {
       "output_type": "stream",
       "stream": "stdout",
       "text": [
        "lng \n",
        "|_end iteration_| start score: 14288.0870383, end score: 8484.0687064, name feature: MeanForThroughMonthByPoints\n",
        "Coef between pasted baseline and current 1.61904844147"
       ]
      },
      {
       "output_type": "stream",
       "stream": "stdout",
       "text": [
        "\n",
        "BranchNumber"
       ]
      },
      {
       "output_type": "stream",
       "stream": "stdout",
       "text": [
        " CityID "
       ]
      },
      {
       "output_type": "stream",
       "stream": "stdout",
       "text": [
        "MeanForMonth "
       ]
      },
      {
       "output_type": "stream",
       "stream": "stdout",
       "text": [
        "MeanForMonthByPoints "
       ]
      },
      {
       "output_type": "stream",
       "stream": "stdout",
       "text": [
        "MeanForMonthDay "
       ]
      },
      {
       "output_type": "stream",
       "stream": "stdout",
       "text": [
        "MeanForThroughMonth "
       ]
      },
      {
       "output_type": "stream",
       "stream": "stdout",
       "text": [
        "MeanForThroughWeek "
       ]
      },
      {
       "output_type": "stream",
       "stream": "stdout",
       "text": [
        "MeanForWeekDay "
       ]
      },
      {
       "output_type": "stream",
       "stream": "stdout",
       "text": [
        "MeanForWeekDayByPoints "
       ]
      },
      {
       "output_type": "stream",
       "stream": "stdout",
       "text": [
        "MeanForYear "
       ]
      },
      {
       "output_type": "stream",
       "stream": "stdout",
       "text": [
        "MeanForYearByPoints "
       ]
      },
      {
       "output_type": "stream",
       "stream": "stdout",
       "text": [
        "MeanForYearDay "
       ]
      },
      {
       "output_type": "stream",
       "stream": "stdout",
       "text": [
        "Month "
       ]
      },
      {
       "output_type": "stream",
       "stream": "stdout",
       "text": [
        "MonthDay "
       ]
      },
      {
       "output_type": "stream",
       "stream": "stdout",
       "text": [
        "ThroughDay "
       ]
      },
      {
       "output_type": "stream",
       "stream": "stdout",
       "text": [
        "ThroughMonth "
       ]
      },
      {
       "output_type": "stream",
       "stream": "stdout",
       "text": [
        "ThroughWeek "
       ]
      },
      {
       "output_type": "stream",
       "stream": "stdout",
       "text": [
        "WeekDay "
       ]
      },
      {
       "output_type": "stream",
       "stream": "stdout",
       "text": [
        "Year "
       ]
      },
      {
       "output_type": "stream",
       "stream": "stdout",
       "text": [
        "YearDay "
       ]
      },
      {
       "output_type": "stream",
       "stream": "stdout",
       "text": [
        "lat "
       ]
      },
      {
       "output_type": "stream",
       "stream": "stdout",
       "text": [
        "lng \n",
        "|_end iteration_| start score: 8824.99045264, end score: 6170.82280603, name feature: MeanForThroughMonth\n",
        "Coef between pasted baseline and current 1.31456366115"
       ]
      },
      {
       "output_type": "stream",
       "stream": "stdout",
       "text": [
        "\n",
        "BranchNumber"
       ]
      },
      {
       "output_type": "stream",
       "stream": "stdout",
       "text": [
        " CityID "
       ]
      },
      {
       "output_type": "stream",
       "stream": "stdout",
       "text": [
        "MeanForMonth "
       ]
      },
      {
       "output_type": "stream",
       "stream": "stdout",
       "text": [
        "MeanForMonthByPoints "
       ]
      },
      {
       "output_type": "stream",
       "stream": "stdout",
       "text": [
        "MeanForMonthDay "
       ]
      },
      {
       "output_type": "stream",
       "stream": "stdout",
       "text": [
        "MeanForThroughWeek "
       ]
      },
      {
       "output_type": "stream",
       "stream": "stdout",
       "text": [
        "MeanForWeekDay "
       ]
      },
      {
       "output_type": "stream",
       "stream": "stdout",
       "text": [
        "MeanForWeekDayByPoints "
       ]
      },
      {
       "output_type": "stream",
       "stream": "stdout",
       "text": [
        "MeanForYear "
       ]
      },
      {
       "output_type": "stream",
       "stream": "stdout",
       "text": [
        "MeanForYearByPoints "
       ]
      },
      {
       "output_type": "stream",
       "stream": "stdout",
       "text": [
        "MeanForYearDay "
       ]
      },
      {
       "output_type": "stream",
       "stream": "stdout",
       "text": [
        "Month "
       ]
      },
      {
       "output_type": "stream",
       "stream": "stdout",
       "text": [
        "MonthDay "
       ]
      },
      {
       "output_type": "stream",
       "stream": "stdout",
       "text": [
        "ThroughDay "
       ]
      },
      {
       "output_type": "stream",
       "stream": "stdout",
       "text": [
        "ThroughMonth "
       ]
      },
      {
       "output_type": "stream",
       "stream": "stdout",
       "text": [
        "ThroughWeek "
       ]
      },
      {
       "output_type": "stream",
       "stream": "stdout",
       "text": [
        "WeekDay "
       ]
      },
      {
       "output_type": "stream",
       "stream": "stdout",
       "text": [
        "Year "
       ]
      },
      {
       "output_type": "stream",
       "stream": "stdout",
       "text": [
        "YearDay "
       ]
      },
      {
       "output_type": "stream",
       "stream": "stdout",
       "text": [
        "lat "
       ]
      },
      {
       "output_type": "stream",
       "stream": "stdout",
       "text": [
        "lng \n",
        "|_end iteration_| start score: 6713.24692248, end score: 23.4392831268, name feature: MeanForThroughWeek\n",
        "Coef between pasted baseline and current 286.290833014"
       ]
      },
      {
       "output_type": "stream",
       "stream": "stdout",
       "text": [
        "\n",
        "BranchNumber"
       ]
      },
      {
       "output_type": "stream",
       "stream": "stdout",
       "text": [
        " CityID "
       ]
      },
      {
       "output_type": "stream",
       "stream": "stdout",
       "text": [
        "MeanForMonth "
       ]
      },
      {
       "output_type": "stream",
       "stream": "stdout",
       "text": [
        "MeanForMonthByPoints "
       ]
      },
      {
       "output_type": "stream",
       "stream": "stdout",
       "text": [
        "MeanForMonthDay "
       ]
      },
      {
       "output_type": "stream",
       "stream": "stdout",
       "text": [
        "MeanForWeekDay "
       ]
      },
      {
       "output_type": "stream",
       "stream": "stdout",
       "text": [
        "MeanForWeekDayByPoints "
       ]
      },
      {
       "output_type": "stream",
       "stream": "stdout",
       "text": [
        "MeanForYear "
       ]
      },
      {
       "output_type": "stream",
       "stream": "stdout",
       "text": [
        "MeanForYearByPoints "
       ]
      },
      {
       "output_type": "stream",
       "stream": "stdout",
       "text": [
        "MeanForYearDay "
       ]
      },
      {
       "output_type": "stream",
       "stream": "stdout",
       "text": [
        "Month "
       ]
      },
      {
       "output_type": "stream",
       "stream": "stdout",
       "text": [
        "MonthDay "
       ]
      },
      {
       "output_type": "stream",
       "stream": "stdout",
       "text": [
        "ThroughDay "
       ]
      },
      {
       "output_type": "stream",
       "stream": "stdout",
       "text": [
        "ThroughMonth "
       ]
      },
      {
       "output_type": "stream",
       "stream": "stdout",
       "text": [
        "ThroughWeek "
       ]
      },
      {
       "output_type": "stream",
       "stream": "stdout",
       "text": [
        "WeekDay "
       ]
      },
      {
       "output_type": "stream",
       "stream": "stdout",
       "text": [
        "Year "
       ]
      },
      {
       "output_type": "stream",
       "stream": "stdout",
       "text": [
        "YearDay "
       ]
      },
      {
       "output_type": "stream",
       "stream": "stdout",
       "text": [
        "lat "
       ]
      },
      {
       "output_type": "stream",
       "stream": "stdout",
       "text": [
        "lng \n",
        "|_end iteration_| start score: 23.4490460341, end score: 23.4047293372, name feature: MeanForMonthByPoints\n",
        "Coef between pasted baseline and current 0.999925254916"
       ]
      },
      {
       "output_type": "stream",
       "stream": "stdout",
       "text": [
        "\n",
        "BranchNumber"
       ]
      },
      {
       "output_type": "stream",
       "stream": "stdout",
       "text": [
        " CityID "
       ]
      },
      {
       "output_type": "stream",
       "stream": "stdout",
       "text": [
        "MeanForMonth "
       ]
      },
      {
       "output_type": "stream",
       "stream": "stdout",
       "text": [
        "MeanForMonthDay "
       ]
      },
      {
       "output_type": "stream",
       "stream": "stdout",
       "text": [
        "MeanForWeekDay "
       ]
      },
      {
       "output_type": "stream",
       "stream": "stdout",
       "text": [
        "MeanForWeekDayByPoints "
       ]
      },
      {
       "output_type": "stream",
       "stream": "stdout",
       "text": [
        "MeanForYear "
       ]
      },
      {
       "output_type": "stream",
       "stream": "stdout",
       "text": [
        "MeanForYearByPoints "
       ]
      },
      {
       "output_type": "stream",
       "stream": "stdout",
       "text": [
        "MeanForYearDay "
       ]
      },
      {
       "output_type": "stream",
       "stream": "stdout",
       "text": [
        "Month "
       ]
      },
      {
       "output_type": "stream",
       "stream": "stdout",
       "text": [
        "MonthDay "
       ]
      },
      {
       "output_type": "stream",
       "stream": "stdout",
       "text": [
        "ThroughDay "
       ]
      },
      {
       "output_type": "stream",
       "stream": "stdout",
       "text": [
        "ThroughMonth "
       ]
      },
      {
       "output_type": "stream",
       "stream": "stdout",
       "text": [
        "ThroughWeek "
       ]
      },
      {
       "output_type": "stream",
       "stream": "stdout",
       "text": [
        "WeekDay "
       ]
      },
      {
       "output_type": "stream",
       "stream": "stdout",
       "text": [
        "Year "
       ]
      },
      {
       "output_type": "stream",
       "stream": "stdout",
       "text": [
        "YearDay "
       ]
      },
      {
       "output_type": "stream",
       "stream": "stdout",
       "text": [
        "lat "
       ]
      },
      {
       "output_type": "stream",
       "stream": "stdout",
       "text": [
        "lng \n",
        "|_end iteration_| start score: 23.4507988661, end score: 23.3994509265, name feature: YearDay\n",
        "Coef between pasted baseline and current 1.00041704546"
       ]
      },
      {
       "output_type": "stream",
       "stream": "stdout",
       "text": [
        "\n",
        "BranchNumber"
       ]
      },
      {
       "output_type": "stream",
       "stream": "stdout",
       "text": [
        " CityID "
       ]
      },
      {
       "output_type": "stream",
       "stream": "stdout",
       "text": [
        "MeanForMonth "
       ]
      },
      {
       "output_type": "stream",
       "stream": "stdout",
       "text": [
        "MeanForMonthDay "
       ]
      },
      {
       "output_type": "stream",
       "stream": "stdout",
       "text": [
        "MeanForWeekDay "
       ]
      },
      {
       "output_type": "stream",
       "stream": "stdout",
       "text": [
        "MeanForWeekDayByPoints "
       ]
      },
      {
       "output_type": "stream",
       "stream": "stdout",
       "text": [
        "MeanForYear "
       ]
      },
      {
       "output_type": "stream",
       "stream": "stdout",
       "text": [
        "MeanForYearByPoints "
       ]
      },
      {
       "output_type": "stream",
       "stream": "stdout",
       "text": [
        "MeanForYearDay "
       ]
      },
      {
       "output_type": "stream",
       "stream": "stdout",
       "text": [
        "Month "
       ]
      },
      {
       "output_type": "stream",
       "stream": "stdout",
       "text": [
        "MonthDay "
       ]
      },
      {
       "output_type": "stream",
       "stream": "stdout",
       "text": [
        "ThroughDay "
       ]
      },
      {
       "output_type": "stream",
       "stream": "stdout",
       "text": [
        "ThroughMonth "
       ]
      },
      {
       "output_type": "stream",
       "stream": "stdout",
       "text": [
        "ThroughWeek "
       ]
      },
      {
       "output_type": "stream",
       "stream": "stdout",
       "text": [
        "WeekDay "
       ]
      },
      {
       "output_type": "stream",
       "stream": "stdout",
       "text": [
        "Year "
       ]
      },
      {
       "output_type": "stream",
       "stream": "stdout",
       "text": [
        "lat "
       ]
      },
      {
       "output_type": "stream",
       "stream": "stdout",
       "text": [
        "lng \n",
        "|_end iteration_| start score: 23.4410228938, end score: 23.3957241593, name feature: Month\n",
        "Coef between pasted baseline and current 1.00001246349"
       ]
      },
      {
       "output_type": "stream",
       "stream": "stdout",
       "text": [
        "\n",
        "BranchNumber"
       ]
      },
      {
       "output_type": "stream",
       "stream": "stdout",
       "text": [
        " CityID "
       ]
      },
      {
       "output_type": "stream",
       "stream": "stdout",
       "text": [
        "MeanForMonth "
       ]
      },
      {
       "output_type": "stream",
       "stream": "stdout",
       "text": [
        "MeanForMonthDay "
       ]
      },
      {
       "output_type": "stream",
       "stream": "stdout",
       "text": [
        "MeanForWeekDay "
       ]
      },
      {
       "output_type": "stream",
       "stream": "stdout",
       "text": [
        "MeanForWeekDayByPoints "
       ]
      },
      {
       "output_type": "stream",
       "stream": "stdout",
       "text": [
        "MeanForYear "
       ]
      },
      {
       "output_type": "stream",
       "stream": "stdout",
       "text": [
        "MeanForYearByPoints "
       ]
      },
      {
       "output_type": "stream",
       "stream": "stdout",
       "text": [
        "MeanForYearDay "
       ]
      },
      {
       "output_type": "stream",
       "stream": "stdout",
       "text": [
        "MonthDay "
       ]
      },
      {
       "output_type": "stream",
       "stream": "stdout",
       "text": [
        "ThroughDay "
       ]
      },
      {
       "output_type": "stream",
       "stream": "stdout",
       "text": [
        "ThroughMonth "
       ]
      },
      {
       "output_type": "stream",
       "stream": "stdout",
       "text": [
        "ThroughWeek "
       ]
      },
      {
       "output_type": "stream",
       "stream": "stdout",
       "text": [
        "WeekDay "
       ]
      },
      {
       "output_type": "stream",
       "stream": "stdout",
       "text": [
        "Year "
       ]
      },
      {
       "output_type": "stream",
       "stream": "stdout",
       "text": [
        "lat "
       ]
      },
      {
       "output_type": "stream",
       "stream": "stdout",
       "text": [
        "lng \n",
        "|_end iteration_| start score: 23.4407307405, end score: 23.3853480495, name feature: lng\n",
        "Coef between pasted baseline and current 1.00009665022"
       ]
      },
      {
       "output_type": "stream",
       "stream": "stdout",
       "text": [
        "\n",
        "BranchNumber"
       ]
      },
      {
       "output_type": "stream",
       "stream": "stdout",
       "text": [
        " CityID "
       ]
      },
      {
       "output_type": "stream",
       "stream": "stdout",
       "text": [
        "MeanForMonth "
       ]
      },
      {
       "output_type": "stream",
       "stream": "stdout",
       "text": [
        "MeanForMonthDay "
       ]
      },
      {
       "output_type": "stream",
       "stream": "stdout",
       "text": [
        "MeanForWeekDay "
       ]
      },
      {
       "output_type": "stream",
       "stream": "stdout",
       "text": [
        "MeanForWeekDayByPoints "
       ]
      },
      {
       "output_type": "stream",
       "stream": "stdout",
       "text": [
        "MeanForYear "
       ]
      },
      {
       "output_type": "stream",
       "stream": "stdout",
       "text": [
        "MeanForYearByPoints "
       ]
      },
      {
       "output_type": "stream",
       "stream": "stdout",
       "text": [
        "MeanForYearDay "
       ]
      },
      {
       "output_type": "stream",
       "stream": "stdout",
       "text": [
        "MonthDay "
       ]
      },
      {
       "output_type": "stream",
       "stream": "stdout",
       "text": [
        "ThroughDay "
       ]
      },
      {
       "output_type": "stream",
       "stream": "stdout",
       "text": [
        "ThroughMonth "
       ]
      },
      {
       "output_type": "stream",
       "stream": "stdout",
       "text": [
        "ThroughWeek "
       ]
      },
      {
       "output_type": "stream",
       "stream": "stdout",
       "text": [
        "WeekDay "
       ]
      },
      {
       "output_type": "stream",
       "stream": "stdout",
       "text": [
        "Year "
       ]
      },
      {
       "output_type": "stream",
       "stream": "stdout",
       "text": [
        "lat \n",
        "|_end iteration_| start score: 23.4384654076, end score: 23.4002597054, name feature: MeanForMonth\n",
        "Coef between pasted baseline and current 0.999900090142"
       ]
      },
      {
       "output_type": "stream",
       "stream": "stdout",
       "text": [
        "\n",
        "BranchNumber"
       ]
      },
      {
       "output_type": "stream",
       "stream": "stdout",
       "text": [
        " CityID "
       ]
      },
      {
       "output_type": "stream",
       "stream": "stdout",
       "text": [
        "MeanForMonthDay "
       ]
      },
      {
       "output_type": "stream",
       "stream": "stdout",
       "text": [
        "MeanForWeekDay "
       ]
      },
      {
       "output_type": "stream",
       "stream": "stdout",
       "text": [
        "MeanForWeekDayByPoints "
       ]
      },
      {
       "output_type": "stream",
       "stream": "stdout",
       "text": [
        "MeanForYear "
       ]
      },
      {
       "output_type": "stream",
       "stream": "stdout",
       "text": [
        "MeanForYearByPoints "
       ]
      },
      {
       "output_type": "stream",
       "stream": "stdout",
       "text": [
        "MeanForYearDay "
       ]
      },
      {
       "output_type": "stream",
       "stream": "stdout",
       "text": [
        "MonthDay "
       ]
      },
      {
       "output_type": "stream",
       "stream": "stdout",
       "text": [
        "ThroughDay "
       ]
      },
      {
       "output_type": "stream",
       "stream": "stdout",
       "text": [
        "ThroughMonth "
       ]
      },
      {
       "output_type": "stream",
       "stream": "stdout",
       "text": [
        "ThroughWeek "
       ]
      },
      {
       "output_type": "stream",
       "stream": "stdout",
       "text": [
        "WeekDay "
       ]
      },
      {
       "output_type": "stream",
       "stream": "stdout",
       "text": [
        "Year "
       ]
      },
      {
       "output_type": "stream",
       "stream": "stdout",
       "text": [
        "lat \n",
        "|_end iteration_| start score: 23.4408073753, end score: 23.3767099234, name feature: ThroughDay\n",
        "Coef between pasted baseline and current 1.00014475534"
       ]
      },
      {
       "output_type": "stream",
       "stream": "stdout",
       "text": [
        "\n",
        "BranchNumber"
       ]
      },
      {
       "output_type": "stream",
       "stream": "stdout",
       "text": [
        " CityID "
       ]
      },
      {
       "output_type": "stream",
       "stream": "stdout",
       "text": [
        "MeanForMonthDay "
       ]
      },
      {
       "output_type": "stream",
       "stream": "stdout",
       "text": [
        "MeanForWeekDay "
       ]
      },
      {
       "output_type": "stream",
       "stream": "stdout",
       "text": [
        "MeanForWeekDayByPoints "
       ]
      },
      {
       "output_type": "stream",
       "stream": "stdout",
       "text": [
        "MeanForYear "
       ]
      },
      {
       "output_type": "stream",
       "stream": "stdout",
       "text": [
        "MeanForYearByPoints "
       ]
      },
      {
       "output_type": "stream",
       "stream": "stdout",
       "text": [
        "MeanForYearDay "
       ]
      },
      {
       "output_type": "stream",
       "stream": "stdout",
       "text": [
        "MonthDay "
       ]
      },
      {
       "output_type": "stream",
       "stream": "stdout",
       "text": [
        "ThroughMonth "
       ]
      },
      {
       "output_type": "stream",
       "stream": "stdout",
       "text": [
        "ThroughWeek "
       ]
      },
      {
       "output_type": "stream",
       "stream": "stdout",
       "text": [
        "WeekDay "
       ]
      },
      {
       "output_type": "stream",
       "stream": "stdout",
       "text": [
        "Year "
       ]
      },
      {
       "output_type": "stream",
       "stream": "stdout",
       "text": [
        "lat \n",
        "|_end iteration_| start score: 23.4374146845, end score: 23.4126446777, name feature: MonthDay\n",
        "Coef between pasted baseline and current 0.999364571433"
       ]
      },
      {
       "output_type": "stream",
       "stream": "stdout",
       "text": [
        "\n",
        "BranchNumber"
       ]
      },
      {
       "output_type": "stream",
       "stream": "stdout",
       "text": [
        " CityID "
       ]
      },
      {
       "output_type": "stream",
       "stream": "stdout",
       "text": [
        "MeanForMonthDay "
       ]
      },
      {
       "output_type": "stream",
       "stream": "stdout",
       "text": [
        "MeanForWeekDay "
       ]
      },
      {
       "output_type": "stream",
       "stream": "stdout",
       "text": [
        "MeanForWeekDayByPoints "
       ]
      },
      {
       "output_type": "stream",
       "stream": "stdout",
       "text": [
        "MeanForYear "
       ]
      },
      {
       "output_type": "stream",
       "stream": "stdout",
       "text": [
        "MeanForYearByPoints "
       ]
      },
      {
       "output_type": "stream",
       "stream": "stdout",
       "text": [
        "MeanForYearDay "
       ]
      },
      {
       "output_type": "stream",
       "stream": "stdout",
       "text": [
        "ThroughMonth "
       ]
      },
      {
       "output_type": "stream",
       "stream": "stdout",
       "text": [
        "ThroughWeek "
       ]
      },
      {
       "output_type": "stream",
       "stream": "stdout",
       "text": [
        "WeekDay "
       ]
      },
      {
       "output_type": "stream",
       "stream": "stdout",
       "text": [
        "Year "
       ]
      },
      {
       "output_type": "stream",
       "stream": "stdout",
       "text": [
        "lat \n",
        "|_end iteration_| start score: 23.4523169566, end score: 23.4231471179, name feature: ThroughMonth\n",
        "Coef between pasted baseline and current 1.0000627722"
       ]
      },
      {
       "output_type": "stream",
       "stream": "stdout",
       "text": [
        "\n",
        "BranchNumber"
       ]
      },
      {
       "output_type": "stream",
       "stream": "stdout",
       "text": [
        " CityID "
       ]
      },
      {
       "output_type": "stream",
       "stream": "stdout",
       "text": [
        "MeanForMonthDay "
       ]
      },
      {
       "output_type": "stream",
       "stream": "stdout",
       "text": [
        "MeanForWeekDay "
       ]
      },
      {
       "output_type": "stream",
       "stream": "stdout",
       "text": [
        "MeanForWeekDayByPoints "
       ]
      },
      {
       "output_type": "stream",
       "stream": "stdout",
       "text": [
        "MeanForYear "
       ]
      },
      {
       "output_type": "stream",
       "stream": "stdout",
       "text": [
        "MeanForYearByPoints "
       ]
      },
      {
       "output_type": "stream",
       "stream": "stdout",
       "text": [
        "MeanForYearDay "
       ]
      },
      {
       "output_type": "stream",
       "stream": "stdout",
       "text": [
        "ThroughWeek "
       ]
      },
      {
       "output_type": "stream",
       "stream": "stdout",
       "text": [
        "WeekDay "
       ]
      },
      {
       "output_type": "stream",
       "stream": "stdout",
       "text": [
        "Year "
       ]
      },
      {
       "output_type": "stream",
       "stream": "stdout",
       "text": [
        "lat \n",
        "|_end iteration_| start score: 23.4508448956, end score: 23.4194304991, name feature: lat\n",
        "Coef between pasted baseline and current 1.00002750166"
       ]
      },
      {
       "output_type": "stream",
       "stream": "stdout",
       "text": [
        "\n",
        "BranchNumber"
       ]
      },
      {
       "output_type": "stream",
       "stream": "stdout",
       "text": [
        " CityID "
       ]
      },
      {
       "output_type": "stream",
       "stream": "stdout",
       "text": [
        "MeanForMonthDay "
       ]
      },
      {
       "output_type": "stream",
       "stream": "stdout",
       "text": [
        "MeanForWeekDay "
       ]
      },
      {
       "output_type": "stream",
       "stream": "stdout",
       "text": [
        "MeanForWeekDayByPoints "
       ]
      },
      {
       "output_type": "stream",
       "stream": "stdout",
       "text": [
        "MeanForYear MeanForYearByPoints "
       ]
      },
      {
       "output_type": "stream",
       "stream": "stdout",
       "text": [
        "MeanForYearDay "
       ]
      },
      {
       "output_type": "stream",
       "stream": "stdout",
       "text": [
        "ThroughWeek "
       ]
      },
      {
       "output_type": "stream",
       "stream": "stdout",
       "text": [
        "WeekDay "
       ]
      },
      {
       "output_type": "stream",
       "stream": "stdout",
       "text": [
        "Year \n",
        "|_end iteration_| start score: 23.4501999761, end score: 23.4401766773, name feature: WeekDay\n",
        "Coef between pasted baseline and current 0.99992496714"
       ]
      },
      {
       "output_type": "stream",
       "stream": "stdout",
       "text": [
        "\n",
        "BranchNumber"
       ]
      },
      {
       "output_type": "stream",
       "stream": "stdout",
       "text": [
        " CityID "
       ]
      },
      {
       "output_type": "stream",
       "stream": "stdout",
       "text": [
        "MeanForMonthDay "
       ]
      },
      {
       "output_type": "stream",
       "stream": "stdout",
       "text": [
        "MeanForWeekDay "
       ]
      },
      {
       "output_type": "stream",
       "stream": "stdout",
       "text": [
        "MeanForWeekDayByPoints "
       ]
      },
      {
       "output_type": "stream",
       "stream": "stdout",
       "text": [
        "MeanForYear "
       ]
      },
      {
       "output_type": "stream",
       "stream": "stdout",
       "text": [
        "MeanForYearByPoints "
       ]
      },
      {
       "output_type": "stream",
       "stream": "stdout",
       "text": [
        "MeanForYearDay ThroughWeek "
       ]
      },
      {
       "output_type": "stream",
       "stream": "stdout",
       "text": [
        "Year \n",
        "|_end iteration_| start score: 23.4519596437, end score: 23.4519596437, name feature: None\n"
       ]
      }
     ],
     "prompt_number": 22
    },
    {
     "cell_type": "code",
     "collapsed": false,
     "input": [
      "column = RemoveTrash(dataTrain, dataValidation, sklearn.linear_model.BayesianRidge())"
     ],
     "language": "python",
     "metadata": {},
     "outputs": [
      {
       "output_type": "stream",
       "stream": "stdout",
       "text": [
        " Coef between pasted baseline and current 1.00000105768e+32\n",
        "BranchNumber"
       ]
      },
      {
       "output_type": "stream",
       "stream": "stdout",
       "text": [
        " CityID "
       ]
      },
      {
       "output_type": "stream",
       "stream": "stdout",
       "text": [
        "MeanForMonth "
       ]
      },
      {
       "output_type": "stream",
       "stream": "stdout",
       "text": [
        "MeanForMonthByPoints "
       ]
      },
      {
       "output_type": "stream",
       "stream": "stdout",
       "text": [
        "MeanForMonthDay "
       ]
      },
      {
       "output_type": "stream",
       "stream": "stdout",
       "text": [
        "MeanForMonthDayByPoints "
       ]
      },
      {
       "output_type": "stream",
       "stream": "stdout",
       "text": [
        "MeanForThroughDay "
       ]
      },
      {
       "output_type": "stream",
       "stream": "stdout",
       "text": [
        "MeanForThroughDayByPoints "
       ]
      },
      {
       "output_type": "stream",
       "stream": "stdout",
       "text": [
        "MeanForThroughMonth "
       ]
      },
      {
       "output_type": "stream",
       "stream": "stdout",
       "text": [
        "MeanForThroughMonthByPoints "
       ]
      },
      {
       "output_type": "stream",
       "stream": "stdout",
       "text": [
        "MeanForThroughWeek "
       ]
      },
      {
       "output_type": "stream",
       "stream": "stdout",
       "text": [
        "MeanForThroughWeekByPoints "
       ]
      },
      {
       "output_type": "stream",
       "stream": "stdout",
       "text": [
        "MeanForWeekDay "
       ]
      },
      {
       "output_type": "stream",
       "stream": "stdout",
       "text": [
        "MeanForWeekDayByPoints "
       ]
      },
      {
       "output_type": "stream",
       "stream": "stdout",
       "text": [
        "MeanForYear "
       ]
      },
      {
       "output_type": "stream",
       "stream": "stdout",
       "text": [
        "MeanForYearByPoints "
       ]
      },
      {
       "output_type": "stream",
       "stream": "stdout",
       "text": [
        "MeanForYearDay "
       ]
      },
      {
       "output_type": "stream",
       "stream": "stdout",
       "text": [
        "MeanForYearDayByPoints "
       ]
      },
      {
       "output_type": "stream",
       "stream": "stdout",
       "text": [
        "Month "
       ]
      },
      {
       "output_type": "stream",
       "stream": "stdout",
       "text": [
        "MonthDay "
       ]
      },
      {
       "output_type": "stream",
       "stream": "stdout",
       "text": [
        "ThroughDay "
       ]
      },
      {
       "output_type": "stream",
       "stream": "stdout",
       "text": [
        "ThroughMonth "
       ]
      },
      {
       "output_type": "stream",
       "stream": "stdout",
       "text": [
        "ThroughWeek "
       ]
      },
      {
       "output_type": "stream",
       "stream": "stdout",
       "text": [
        "WeekDay "
       ]
      },
      {
       "output_type": "stream",
       "stream": "stdout",
       "text": [
        "Year "
       ]
      },
      {
       "output_type": "stream",
       "stream": "stdout",
       "text": [
        "YearDay "
       ]
      },
      {
       "output_type": "stream",
       "stream": "stdout",
       "text": [
        "lat "
       ]
      },
      {
       "output_type": "stream",
       "stream": "stdout",
       "text": [
        "lng \n",
        "|_end iteration_| start score: 99999894.2325, end score: None, name feature: BranchNumber\n",
        "Coef between pasted baseline and current 0.999999997655"
       ]
      },
      {
       "output_type": "stream",
       "stream": "stdout",
       "text": [
        "\n",
        "CityID"
       ]
      },
      {
       "output_type": "stream",
       "stream": "stdout",
       "text": [
        " MeanForMonth "
       ]
      },
      {
       "output_type": "stream",
       "stream": "stdout",
       "text": [
        "MeanForMonthByPoints "
       ]
      },
      {
       "output_type": "stream",
       "stream": "stdout",
       "text": [
        "MeanForMonthDay "
       ]
      },
      {
       "output_type": "stream",
       "stream": "stdout",
       "text": [
        "MeanForMonthDayByPoints "
       ]
      },
      {
       "output_type": "stream",
       "stream": "stdout",
       "text": [
        "MeanForThroughDay "
       ]
      },
      {
       "output_type": "stream",
       "stream": "stdout",
       "text": [
        "MeanForThroughDayByPoints "
       ]
      },
      {
       "output_type": "stream",
       "stream": "stdout",
       "text": [
        "MeanForThroughMonth "
       ]
      },
      {
       "output_type": "stream",
       "stream": "stdout",
       "text": [
        "MeanForThroughMonthByPoints "
       ]
      },
      {
       "output_type": "stream",
       "stream": "stdout",
       "text": [
        "MeanForThroughWeek "
       ]
      },
      {
       "output_type": "stream",
       "stream": "stdout",
       "text": [
        "MeanForThroughWeekByPoints "
       ]
      },
      {
       "output_type": "stream",
       "stream": "stdout",
       "text": [
        "MeanForWeekDay "
       ]
      },
      {
       "output_type": "stream",
       "stream": "stdout",
       "text": [
        "MeanForWeekDayByPoints "
       ]
      },
      {
       "output_type": "stream",
       "stream": "stdout",
       "text": [
        "MeanForYear "
       ]
      },
      {
       "output_type": "stream",
       "stream": "stdout",
       "text": [
        "MeanForYearByPoints "
       ]
      },
      {
       "output_type": "stream",
       "stream": "stdout",
       "text": [
        "MeanForYearDay "
       ]
      },
      {
       "output_type": "stream",
       "stream": "stdout",
       "text": [
        "MeanForYearDayByPoints "
       ]
      },
      {
       "output_type": "stream",
       "stream": "stdout",
       "text": [
        "Month "
       ]
      },
      {
       "output_type": "stream",
       "stream": "stdout",
       "text": [
        "MonthDay "
       ]
      },
      {
       "output_type": "stream",
       "stream": "stdout",
       "text": [
        "ThroughDay "
       ]
      },
      {
       "output_type": "stream",
       "stream": "stdout",
       "text": [
        "ThroughMonth "
       ]
      },
      {
       "output_type": "stream",
       "stream": "stdout",
       "text": [
        "ThroughWeek"
       ]
      },
      {
       "ename": "KeyboardInterrupt",
       "evalue": "",
       "output_type": "pyerr",
       "traceback": [
        "\u001b[0;31m---------------------------------------------------------------------------\u001b[0m\n\u001b[0;31mKeyboardInterrupt\u001b[0m                         Traceback (most recent call last)",
        "\u001b[0;32m<ipython-input-18-e5b0a41a496e>\u001b[0m in \u001b[0;36m<module>\u001b[0;34m()\u001b[0m\n\u001b[0;32m----> 1\u001b[0;31m \u001b[0mcolumn\u001b[0m \u001b[0;34m=\u001b[0m \u001b[0mRemoveTrash\u001b[0m\u001b[0;34m(\u001b[0m\u001b[0mdataTrain\u001b[0m\u001b[0;34m,\u001b[0m \u001b[0mdataValidation\u001b[0m\u001b[0;34m,\u001b[0m \u001b[0msklearn\u001b[0m\u001b[0;34m.\u001b[0m\u001b[0mlinear_model\u001b[0m\u001b[0;34m.\u001b[0m\u001b[0mBayesianRidge\u001b[0m\u001b[0;34m(\u001b[0m\u001b[0;34m)\u001b[0m\u001b[0;34m)\u001b[0m\u001b[0;34m\u001b[0m\u001b[0m\n\u001b[0m",
        "\u001b[0;32m<ipython-input-16-ac6421a3b7ff>\u001b[0m in \u001b[0;36mRemoveTrash\u001b[0;34m(dataTrain, dataValidation, model)\u001b[0m\n\u001b[1;32m     22\u001b[0m                 \u001b[0;32mcontinue\u001b[0m\u001b[0;34m\u001b[0m\u001b[0m\n\u001b[1;32m     23\u001b[0m             \u001b[0mc\u001b[0m \u001b[0;34m=\u001b[0m \u001b[0mcolumn\u001b[0m\u001b[0;34m.\u001b[0m\u001b[0mdifference\u001b[0m\u001b[0;34m(\u001b[0m\u001b[0;34m[\u001b[0m\u001b[0mi\u001b[0m\u001b[0;34m]\u001b[0m\u001b[0;34m)\u001b[0m\u001b[0;34m\u001b[0m\u001b[0m\n\u001b[0;32m---> 24\u001b[0;31m             \u001b[0mres\u001b[0m \u001b[0;34m=\u001b[0m \u001b[0mfitOnTrainCheckOnVal\u001b[0m\u001b[0;34m(\u001b[0m\u001b[0mdataTrain\u001b[0m\u001b[0;34m[\u001b[0m\u001b[0mc\u001b[0m\u001b[0;34m]\u001b[0m\u001b[0;34m,\u001b[0m \u001b[0mdataValidation\u001b[0m\u001b[0;34m[\u001b[0m\u001b[0mc\u001b[0m\u001b[0;34m]\u001b[0m\u001b[0;34m,\u001b[0m \u001b[0mmodel\u001b[0m\u001b[0;34m)\u001b[0m\u001b[0;34m\u001b[0m\u001b[0m\n\u001b[0m\u001b[1;32m     25\u001b[0m             \u001b[0;32mif\u001b[0m\u001b[0;34m(\u001b[0m\u001b[0mres\u001b[0m \u001b[0;34m<\u001b[0m \u001b[0mlocalScore\u001b[0m\u001b[0;34m)\u001b[0m\u001b[0;34m:\u001b[0m\u001b[0;34m\u001b[0m\u001b[0m\n\u001b[1;32m     26\u001b[0m                 \u001b[0mlocalScore\u001b[0m \u001b[0;34m=\u001b[0m \u001b[0mres\u001b[0m\u001b[0;34m\u001b[0m\u001b[0m\n",
        "\u001b[0;32m<ipython-input-8-19eb22512c15>\u001b[0m in \u001b[0;36mfitOnTrainCheckOnVal\u001b[0;34m(dataTrain, dataValidation, model)\u001b[0m\n\u001b[1;32m      1\u001b[0m \u001b[0;32mdef\u001b[0m \u001b[0mfitOnTrainCheckOnVal\u001b[0m\u001b[0;34m(\u001b[0m\u001b[0mdataTrain\u001b[0m\u001b[0;34m,\u001b[0m \u001b[0mdataValidation\u001b[0m\u001b[0;34m,\u001b[0m \u001b[0mmodel\u001b[0m\u001b[0;34m)\u001b[0m\u001b[0;34m:\u001b[0m\u001b[0;34m\u001b[0m\u001b[0m\n\u001b[0;32m----> 2\u001b[0;31m     \u001b[0mmodel\u001b[0m \u001b[0;34m=\u001b[0m \u001b[0mtrainModelTestTrainSplit\u001b[0m\u001b[0;34m(\u001b[0m\u001b[0mdataTrain\u001b[0m\u001b[0;34m,\u001b[0m \u001b[0mmodel\u001b[0m\u001b[0;34m)\u001b[0m\u001b[0;34m\u001b[0m\u001b[0m\n\u001b[0m\u001b[1;32m      3\u001b[0m \u001b[0;34m\u001b[0m\u001b[0m\n\u001b[1;32m      4\u001b[0m     \u001b[0mX_test\u001b[0m \u001b[0;34m=\u001b[0m \u001b[0mdataValidation\u001b[0m\u001b[0;34m[\u001b[0m\u001b[0mdataValidation\u001b[0m\u001b[0;34m.\u001b[0m\u001b[0mcolumns\u001b[0m\u001b[0;34m.\u001b[0m\u001b[0mdifference\u001b[0m\u001b[0;34m(\u001b[0m\u001b[0;34m[\u001b[0m\u001b[0;34m'Count'\u001b[0m\u001b[0;34m]\u001b[0m\u001b[0;34m)\u001b[0m\u001b[0;34m]\u001b[0m\u001b[0;34m\u001b[0m\u001b[0m\n\u001b[1;32m      5\u001b[0m     \u001b[0my_test\u001b[0m \u001b[0;34m=\u001b[0m \u001b[0mdataValidation\u001b[0m\u001b[0;34m.\u001b[0m\u001b[0mCount\u001b[0m\u001b[0;34m\u001b[0m\u001b[0m\n",
        "\u001b[0;32m<ipython-input-7-a0ab9f22c7c8>\u001b[0m in \u001b[0;36mtrainModelTestTrainSplit\u001b[0;34m(data, model)\u001b[0m\n\u001b[1;32m      3\u001b[0m     \u001b[0mX_train\u001b[0m\u001b[0;34m,\u001b[0m \u001b[0mX_test\u001b[0m\u001b[0;34m,\u001b[0m \u001b[0my_train\u001b[0m\u001b[0;34m,\u001b[0m \u001b[0my_test\u001b[0m \u001b[0;34m=\u001b[0m \u001b[0msklearn\u001b[0m\u001b[0;34m.\u001b[0m\u001b[0mcross_validation\u001b[0m\u001b[0;34m.\u001b[0m\u001b[0mtrain_test_split\u001b[0m\u001b[0;34m(\u001b[0m\u001b[0mdata\u001b[0m\u001b[0;34m[\u001b[0m\u001b[0mc\u001b[0m\u001b[0;34m]\u001b[0m\u001b[0;34m,\u001b[0m \u001b[0mdata\u001b[0m\u001b[0;34m[\u001b[0m\u001b[0;34m'Count'\u001b[0m\u001b[0;34m]\u001b[0m\u001b[0;34m,\u001b[0m \u001b[0mtest_size\u001b[0m\u001b[0;34m=\u001b[0m\u001b[0;36m0.3\u001b[0m\u001b[0;34m)\u001b[0m\u001b[0;34m\u001b[0m\u001b[0m\n\u001b[1;32m      4\u001b[0m     \u001b[0;31m#model.verbose=1\u001b[0m\u001b[0;34m\u001b[0m\u001b[0;34m\u001b[0m\u001b[0m\n\u001b[0;32m----> 5\u001b[0;31m     \u001b[0mmodel\u001b[0m\u001b[0;34m.\u001b[0m\u001b[0mfit\u001b[0m\u001b[0;34m(\u001b[0m\u001b[0mX_train\u001b[0m\u001b[0;34m.\u001b[0m\u001b[0mas_matrix\u001b[0m\u001b[0;34m(\u001b[0m\u001b[0;34m)\u001b[0m\u001b[0;34m,\u001b[0m \u001b[0my_train\u001b[0m\u001b[0;34m.\u001b[0m\u001b[0mas_matrix\u001b[0m\u001b[0;34m(\u001b[0m\u001b[0;34m)\u001b[0m\u001b[0;34m)\u001b[0m\u001b[0;34m\u001b[0m\u001b[0m\n\u001b[0m\u001b[1;32m      6\u001b[0m     \u001b[0mpred\u001b[0m \u001b[0;34m=\u001b[0m \u001b[0mmodel\u001b[0m\u001b[0;34m.\u001b[0m\u001b[0mpredict\u001b[0m\u001b[0;34m(\u001b[0m\u001b[0mX_test\u001b[0m\u001b[0;34m)\u001b[0m\u001b[0;34m\u001b[0m\u001b[0m\n\u001b[1;32m      7\u001b[0m     \u001b[0;31m#print (\"result on train \" + str(mae(pred, y_test)))\u001b[0m\u001b[0;34m\u001b[0m\u001b[0;34m\u001b[0m\u001b[0m\n",
        "\u001b[0;32m/usr/local/lib/python2.7/dist-packages/sklearn/linear_model/bayes.pyc\u001b[0m in \u001b[0;36mfit\u001b[0;34m(self, X, y)\u001b[0m\n\u001b[1;32m    161\u001b[0m \u001b[0;34m\u001b[0m\u001b[0m\n\u001b[1;32m    162\u001b[0m         \u001b[0mXT_y\u001b[0m \u001b[0;34m=\u001b[0m \u001b[0mnp\u001b[0m\u001b[0;34m.\u001b[0m\u001b[0mdot\u001b[0m\u001b[0;34m(\u001b[0m\u001b[0mX\u001b[0m\u001b[0;34m.\u001b[0m\u001b[0mT\u001b[0m\u001b[0;34m,\u001b[0m \u001b[0my\u001b[0m\u001b[0;34m)\u001b[0m\u001b[0;34m\u001b[0m\u001b[0m\n\u001b[0;32m--> 163\u001b[0;31m         \u001b[0mU\u001b[0m\u001b[0;34m,\u001b[0m \u001b[0mS\u001b[0m\u001b[0;34m,\u001b[0m \u001b[0mVh\u001b[0m \u001b[0;34m=\u001b[0m \u001b[0mlinalg\u001b[0m\u001b[0;34m.\u001b[0m\u001b[0msvd\u001b[0m\u001b[0;34m(\u001b[0m\u001b[0mX\u001b[0m\u001b[0;34m,\u001b[0m \u001b[0mfull_matrices\u001b[0m\u001b[0;34m=\u001b[0m\u001b[0mFalse\u001b[0m\u001b[0;34m)\u001b[0m\u001b[0;34m\u001b[0m\u001b[0m\n\u001b[0m\u001b[1;32m    164\u001b[0m         \u001b[0meigen_vals_\u001b[0m \u001b[0;34m=\u001b[0m \u001b[0mS\u001b[0m \u001b[0;34m**\u001b[0m \u001b[0;36m2\u001b[0m\u001b[0;34m\u001b[0m\u001b[0m\n\u001b[1;32m    165\u001b[0m \u001b[0;34m\u001b[0m\u001b[0m\n",
        "\u001b[0;32m/usr/lib/python2.7/dist-packages/scipy/linalg/decomp_svd.pyc\u001b[0m in \u001b[0;36msvd\u001b[0;34m(a, full_matrices, compute_uv, overwrite_a, check_finite)\u001b[0m\n\u001b[1;32m    100\u001b[0m     \u001b[0;31m# perform decomposition\u001b[0m\u001b[0;34m\u001b[0m\u001b[0;34m\u001b[0m\u001b[0m\n\u001b[1;32m    101\u001b[0m     u,s,v,info = gesdd(a1, compute_uv=compute_uv, lwork=lwork,\n\u001b[0;32m--> 102\u001b[0;31m                        full_matrices=full_matrices, overwrite_a=overwrite_a)\n\u001b[0m\u001b[1;32m    103\u001b[0m \u001b[0;34m\u001b[0m\u001b[0m\n\u001b[1;32m    104\u001b[0m     \u001b[0;32mif\u001b[0m \u001b[0minfo\u001b[0m \u001b[0;34m>\u001b[0m \u001b[0;36m0\u001b[0m\u001b[0;34m:\u001b[0m\u001b[0;34m\u001b[0m\u001b[0m\n",
        "\u001b[0;31mKeyboardInterrupt\u001b[0m: "
       ]
      }
     ],
     "prompt_number": 18
    },
    {
     "cell_type": "code",
     "collapsed": false,
     "input": [
      "column = RemoveTrash(dataTrain, dataValidation, sklearn.linear_model.ElasticNet())"
     ],
     "language": "python",
     "metadata": {},
     "outputs": [
      {
       "output_type": "stream",
       "stream": "stdout",
       "text": [
        "10002.5404826\n",
        "BranchNumber"
       ]
      },
      {
       "output_type": "stream",
       "stream": "stdout",
       "text": [
        " CityID "
       ]
      },
      {
       "output_type": "stream",
       "stream": "stdout",
       "text": [
        "MeanForMonth "
       ]
      },
      {
       "output_type": "stream",
       "stream": "stdout",
       "text": [
        "MeanForMonthByPoints "
       ]
      },
      {
       "output_type": "stream",
       "stream": "stdout",
       "text": [
        "MeanForMonthDay "
       ]
      },
      {
       "output_type": "stream",
       "stream": "stdout",
       "text": [
        "MeanForMonthDayByPoints "
       ]
      },
      {
       "output_type": "stream",
       "stream": "stdout",
       "text": [
        "MeanForThroughDay "
       ]
      },
      {
       "output_type": "stream",
       "stream": "stdout",
       "text": [
        "MeanForThroughDayByPoints "
       ]
      },
      {
       "output_type": "stream",
       "stream": "stdout",
       "text": [
        "MeanForThroughMonth "
       ]
      },
      {
       "output_type": "stream",
       "stream": "stdout",
       "text": [
        "MeanForThroughMonthByPoints "
       ]
      },
      {
       "output_type": "stream",
       "stream": "stdout",
       "text": [
        "MeanForThroughWeek "
       ]
      },
      {
       "output_type": "stream",
       "stream": "stdout",
       "text": [
        "MeanForThroughWeekByPoints "
       ]
      },
      {
       "output_type": "stream",
       "stream": "stdout",
       "text": [
        "MeanForWeekDay "
       ]
      },
      {
       "output_type": "stream",
       "stream": "stdout",
       "text": [
        "MeanForWeekDayByPoints "
       ]
      },
      {
       "output_type": "stream",
       "stream": "stdout",
       "text": [
        "MeanForYear "
       ]
      },
      {
       "output_type": "stream",
       "stream": "stdout",
       "text": [
        "MeanForYearByPoints "
       ]
      },
      {
       "output_type": "stream",
       "stream": "stdout",
       "text": [
        "MeanForYearDay "
       ]
      },
      {
       "output_type": "stream",
       "stream": "stdout",
       "text": [
        "MeanForYearDayByPoints "
       ]
      },
      {
       "output_type": "stream",
       "stream": "stdout",
       "text": [
        "Month "
       ]
      },
      {
       "output_type": "stream",
       "stream": "stdout",
       "text": [
        "MonthDay "
       ]
      },
      {
       "output_type": "stream",
       "stream": "stdout",
       "text": [
        "ThroughDay "
       ]
      },
      {
       "output_type": "stream",
       "stream": "stdout",
       "text": [
        "ThroughMonth "
       ]
      },
      {
       "output_type": "stream",
       "stream": "stdout",
       "text": [
        "ThroughWeek "
       ]
      },
      {
       "output_type": "stream",
       "stream": "stdout",
       "text": [
        "WeekDay "
       ]
      },
      {
       "output_type": "stream",
       "stream": "stdout",
       "text": [
        "Year "
       ]
      },
      {
       "output_type": "stream",
       "stream": "stdout",
       "text": [
        "YearDay "
       ]
      },
      {
       "output_type": "stream",
       "stream": "stdout",
       "text": [
        "lat "
       ]
      },
      {
       "output_type": "stream",
       "stream": "stdout",
       "text": [
        "lng \n",
        "|_end iteration_| start score: 99974601.6267, end score: 29823154.2782, name feature: MeanForThroughDayByPoints\n",
        "3.32924409581"
       ]
      },
      {
       "output_type": "stream",
       "stream": "stdout",
       "text": [
        "\n",
        "BranchNumber"
       ]
      },
      {
       "output_type": "stream",
       "stream": "stdout",
       "text": [
        " CityID "
       ]
      },
      {
       "output_type": "stream",
       "stream": "stdout",
       "text": [
        "MeanForMonth "
       ]
      },
      {
       "output_type": "stream",
       "stream": "stdout",
       "text": [
        "MeanForMonthByPoints "
       ]
      },
      {
       "output_type": "stream",
       "stream": "stdout",
       "text": [
        "MeanForMonthDay "
       ]
      },
      {
       "output_type": "stream",
       "stream": "stdout",
       "text": [
        "MeanForMonthDayByPoints "
       ]
      },
      {
       "output_type": "stream",
       "stream": "stdout",
       "text": [
        "MeanForThroughDay "
       ]
      },
      {
       "output_type": "stream",
       "stream": "stdout",
       "text": [
        "MeanForThroughMonth "
       ]
      },
      {
       "output_type": "stream",
       "stream": "stdout",
       "text": [
        "MeanForThroughMonthByPoints "
       ]
      },
      {
       "output_type": "stream",
       "stream": "stdout",
       "text": [
        "MeanForThroughWeek "
       ]
      },
      {
       "output_type": "stream",
       "stream": "stdout",
       "text": [
        "MeanForThroughWeekByPoints "
       ]
      },
      {
       "output_type": "stream",
       "stream": "stdout",
       "text": [
        "MeanForWeekDay "
       ]
      },
      {
       "output_type": "stream",
       "stream": "stdout",
       "text": [
        "MeanForWeekDayByPoints "
       ]
      },
      {
       "output_type": "stream",
       "stream": "stdout",
       "text": [
        "MeanForYear "
       ]
      },
      {
       "output_type": "stream",
       "stream": "stdout",
       "text": [
        "MeanForYearByPoints "
       ]
      },
      {
       "output_type": "stream",
       "stream": "stdout",
       "text": [
        "MeanForYearDay "
       ]
      },
      {
       "output_type": "stream",
       "stream": "stdout",
       "text": [
        "MeanForYearDayByPoints "
       ]
      },
      {
       "output_type": "stream",
       "stream": "stdout",
       "text": [
        "Month "
       ]
      },
      {
       "output_type": "stream",
       "stream": "stdout",
       "text": [
        "MonthDay "
       ]
      },
      {
       "output_type": "stream",
       "stream": "stdout",
       "text": [
        "ThroughDay "
       ]
      },
      {
       "output_type": "stream",
       "stream": "stdout",
       "text": [
        "ThroughMonth "
       ]
      },
      {
       "output_type": "stream",
       "stream": "stdout",
       "text": [
        "ThroughWeek "
       ]
      },
      {
       "output_type": "stream",
       "stream": "stdout",
       "text": [
        "WeekDay "
       ]
      },
      {
       "output_type": "stream",
       "stream": "stdout",
       "text": [
        "Year "
       ]
      },
      {
       "output_type": "stream",
       "stream": "stdout",
       "text": [
        "YearDay "
       ]
      },
      {
       "output_type": "stream",
       "stream": "stdout",
       "text": [
        "lat "
       ]
      },
      {
       "output_type": "stream",
       "stream": "stdout",
       "text": [
        "lng \n",
        "|_end iteration_| start score: 30029219.4713, end score: 317032.704251, name feature: MeanForYearDayByPoints\n",
        "97.4629295426"
       ]
      },
      {
       "output_type": "stream",
       "stream": "stdout",
       "text": [
        "\n",
        "BranchNumber"
       ]
      },
      {
       "output_type": "stream",
       "stream": "stdout",
       "text": [
        " CityID "
       ]
      },
      {
       "output_type": "stream",
       "stream": "stdout",
       "text": [
        "MeanForMonth "
       ]
      },
      {
       "output_type": "stream",
       "stream": "stdout",
       "text": [
        "MeanForMonthByPoints "
       ]
      },
      {
       "output_type": "stream",
       "stream": "stdout",
       "text": [
        "MeanForMonthDay "
       ]
      },
      {
       "output_type": "stream",
       "stream": "stdout",
       "text": [
        "MeanForMonthDayByPoints "
       ]
      },
      {
       "output_type": "stream",
       "stream": "stdout",
       "text": [
        "MeanForThroughDay "
       ]
      },
      {
       "output_type": "stream",
       "stream": "stdout",
       "text": [
        "MeanForThroughMonth "
       ]
      },
      {
       "output_type": "stream",
       "stream": "stdout",
       "text": [
        "MeanForThroughMonthByPoints "
       ]
      },
      {
       "output_type": "stream",
       "stream": "stdout",
       "text": [
        "MeanForThroughWeek "
       ]
      },
      {
       "output_type": "stream",
       "stream": "stdout",
       "text": [
        "MeanForThroughWeekByPoints "
       ]
      },
      {
       "output_type": "stream",
       "stream": "stdout",
       "text": [
        "MeanForWeekDay "
       ]
      },
      {
       "output_type": "stream",
       "stream": "stdout",
       "text": [
        "MeanForWeekDayByPoints "
       ]
      },
      {
       "output_type": "stream",
       "stream": "stdout",
       "text": [
        "MeanForYear "
       ]
      },
      {
       "output_type": "stream",
       "stream": "stdout",
       "text": [
        "MeanForYearByPoints "
       ]
      },
      {
       "output_type": "stream",
       "stream": "stdout",
       "text": [
        "MeanForYearDay "
       ]
      },
      {
       "output_type": "stream",
       "stream": "stdout",
       "text": [
        "Month "
       ]
      },
      {
       "output_type": "stream",
       "stream": "stdout",
       "text": [
        "MonthDay "
       ]
      },
      {
       "output_type": "stream",
       "stream": "stdout",
       "text": [
        "ThroughDay "
       ]
      },
      {
       "output_type": "stream",
       "stream": "stdout",
       "text": [
        "ThroughMonth "
       ]
      },
      {
       "output_type": "stream",
       "stream": "stdout",
       "text": [
        "ThroughWeek "
       ]
      },
      {
       "output_type": "stream",
       "stream": "stdout",
       "text": [
        "WeekDay "
       ]
      },
      {
       "output_type": "stream",
       "stream": "stdout",
       "text": [
        "Year "
       ]
      },
      {
       "output_type": "stream",
       "stream": "stdout",
       "text": [
        "YearDay "
       ]
      },
      {
       "output_type": "stream",
       "stream": "stdout",
       "text": [
        "lat "
       ]
      },
      {
       "output_type": "stream",
       "stream": "stdout",
       "text": [
        "lng \n",
        "|_end iteration_| start score: 308109.140698, end score: 73462.205512, name feature: MeanForThroughDay\n",
        "3.65777211965"
       ]
      },
      {
       "output_type": "stream",
       "stream": "stdout",
       "text": [
        "\n",
        "BranchNumber"
       ]
      },
      {
       "output_type": "stream",
       "stream": "stdout",
       "text": [
        " CityID "
       ]
      },
      {
       "output_type": "stream",
       "stream": "stdout",
       "text": [
        "MeanForMonth "
       ]
      },
      {
       "output_type": "stream",
       "stream": "stdout",
       "text": [
        "MeanForMonthByPoints "
       ]
      },
      {
       "output_type": "stream",
       "stream": "stdout",
       "text": [
        "MeanForMonthDay "
       ]
      },
      {
       "output_type": "stream",
       "stream": "stdout",
       "text": [
        "MeanForMonthDayByPoints "
       ]
      },
      {
       "output_type": "stream",
       "stream": "stdout",
       "text": [
        "MeanForThroughMonth "
       ]
      },
      {
       "output_type": "stream",
       "stream": "stdout",
       "text": [
        "MeanForThroughMonthByPoints "
       ]
      },
      {
       "output_type": "stream",
       "stream": "stdout",
       "text": [
        "MeanForThroughWeek "
       ]
      },
      {
       "output_type": "stream",
       "stream": "stdout",
       "text": [
        "MeanForThroughWeekByPoints "
       ]
      },
      {
       "output_type": "stream",
       "stream": "stdout",
       "text": [
        "MeanForWeekDay "
       ]
      },
      {
       "output_type": "stream",
       "stream": "stdout",
       "text": [
        "MeanForWeekDayByPoints "
       ]
      },
      {
       "output_type": "stream",
       "stream": "stdout",
       "text": [
        "MeanForYear "
       ]
      },
      {
       "output_type": "stream",
       "stream": "stdout",
       "text": [
        "MeanForYearByPoints "
       ]
      },
      {
       "output_type": "stream",
       "stream": "stdout",
       "text": [
        "MeanForYearDay "
       ]
      },
      {
       "output_type": "stream",
       "stream": "stdout",
       "text": [
        "Month "
       ]
      },
      {
       "output_type": "stream",
       "stream": "stdout",
       "text": [
        "MonthDay "
       ]
      },
      {
       "output_type": "stream",
       "stream": "stdout",
       "text": [
        "ThroughDay "
       ]
      },
      {
       "output_type": "stream",
       "stream": "stdout",
       "text": [
        "ThroughMonth "
       ]
      },
      {
       "output_type": "stream",
       "stream": "stdout",
       "text": [
        "ThroughWeek "
       ]
      },
      {
       "output_type": "stream",
       "stream": "stdout",
       "text": [
        "WeekDay "
       ]
      },
      {
       "output_type": "stream",
       "stream": "stdout",
       "text": [
        "Year "
       ]
      },
      {
       "output_type": "stream",
       "stream": "stdout",
       "text": [
        "YearDay "
       ]
      },
      {
       "output_type": "stream",
       "stream": "stdout",
       "text": [
        "lat "
       ]
      },
      {
       "output_type": "stream",
       "stream": "stdout",
       "text": [
        "lng \n",
        "|_end iteration_| start score: 84234.0995063, end score: 44680.7431199, name feature: MeanForThroughWeekByPoints\n",
        "1.94841859008"
       ]
      },
      {
       "output_type": "stream",
       "stream": "stdout",
       "text": [
        "\n",
        "BranchNumber"
       ]
      },
      {
       "output_type": "stream",
       "stream": "stdout",
       "text": [
        " CityID "
       ]
      },
      {
       "output_type": "stream",
       "stream": "stdout",
       "text": [
        "MeanForMonth "
       ]
      },
      {
       "output_type": "stream",
       "stream": "stdout",
       "text": [
        "MeanForMonthByPoints "
       ]
      },
      {
       "output_type": "stream",
       "stream": "stdout",
       "text": [
        "MeanForMonthDay "
       ]
      },
      {
       "output_type": "stream",
       "stream": "stdout",
       "text": [
        "MeanForMonthDayByPoints "
       ]
      },
      {
       "output_type": "stream",
       "stream": "stdout",
       "text": [
        "MeanForThroughMonth "
       ]
      },
      {
       "output_type": "stream",
       "stream": "stdout",
       "text": [
        "MeanForThroughMonthByPoints "
       ]
      },
      {
       "output_type": "stream",
       "stream": "stdout",
       "text": [
        "MeanForThroughWeek "
       ]
      },
      {
       "output_type": "stream",
       "stream": "stdout",
       "text": [
        "MeanForWeekDay "
       ]
      },
      {
       "output_type": "stream",
       "stream": "stdout",
       "text": [
        "MeanForWeekDayByPoints "
       ]
      },
      {
       "output_type": "stream",
       "stream": "stdout",
       "text": [
        "MeanForYear "
       ]
      },
      {
       "output_type": "stream",
       "stream": "stdout",
       "text": [
        "MeanForYearByPoints "
       ]
      },
      {
       "output_type": "stream",
       "stream": "stdout",
       "text": [
        "MeanForYearDay "
       ]
      },
      {
       "output_type": "stream",
       "stream": "stdout",
       "text": [
        "Month "
       ]
      },
      {
       "output_type": "stream",
       "stream": "stdout",
       "text": [
        "MonthDay "
       ]
      },
      {
       "output_type": "stream",
       "stream": "stdout",
       "text": [
        "ThroughDay "
       ]
      },
      {
       "output_type": "stream",
       "stream": "stdout",
       "text": [
        "ThroughMonth "
       ]
      },
      {
       "output_type": "stream",
       "stream": "stdout",
       "text": [
        "ThroughWeek "
       ]
      },
      {
       "output_type": "stream",
       "stream": "stdout",
       "text": [
        "WeekDay "
       ]
      },
      {
       "output_type": "stream",
       "stream": "stdout",
       "text": [
        "Year "
       ]
      },
      {
       "output_type": "stream",
       "stream": "stdout",
       "text": [
        "YearDay "
       ]
      },
      {
       "output_type": "stream",
       "stream": "stdout",
       "text": [
        "lat "
       ]
      },
      {
       "output_type": "stream",
       "stream": "stdout",
       "text": [
        "lng \n",
        "|_end iteration_| start score: 43232.0343972, end score: 14747.5913088, name feature: MeanForMonthDayByPoints\n",
        "2.99297568175"
       ]
      },
      {
       "output_type": "stream",
       "stream": "stdout",
       "text": [
        "\n",
        "BranchNumber"
       ]
      },
      {
       "output_type": "stream",
       "stream": "stdout",
       "text": [
        " CityID "
       ]
      },
      {
       "output_type": "stream",
       "stream": "stdout",
       "text": [
        "MeanForMonth "
       ]
      },
      {
       "output_type": "stream",
       "stream": "stdout",
       "text": [
        "MeanForMonthByPoints "
       ]
      },
      {
       "output_type": "stream",
       "stream": "stdout",
       "text": [
        "MeanForMonthDay "
       ]
      },
      {
       "output_type": "stream",
       "stream": "stdout",
       "text": [
        "MeanForThroughMonth "
       ]
      },
      {
       "output_type": "stream",
       "stream": "stdout",
       "text": [
        "MeanForThroughMonthByPoints "
       ]
      },
      {
       "output_type": "stream",
       "stream": "stdout",
       "text": [
        "MeanForThroughWeek "
       ]
      },
      {
       "output_type": "stream",
       "stream": "stdout",
       "text": [
        "MeanForWeekDay "
       ]
      },
      {
       "output_type": "stream",
       "stream": "stdout",
       "text": [
        "MeanForWeekDayByPoints "
       ]
      },
      {
       "output_type": "stream",
       "stream": "stdout",
       "text": [
        "MeanForYear "
       ]
      },
      {
       "output_type": "stream",
       "stream": "stdout",
       "text": [
        "MeanForYearByPoints "
       ]
      },
      {
       "output_type": "stream",
       "stream": "stdout",
       "text": [
        "MeanForYearDay "
       ]
      },
      {
       "output_type": "stream",
       "stream": "stdout",
       "text": [
        "Month "
       ]
      },
      {
       "output_type": "stream",
       "stream": "stdout",
       "text": [
        "MonthDay "
       ]
      },
      {
       "output_type": "stream",
       "stream": "stdout",
       "text": [
        "ThroughDay "
       ]
      },
      {
       "output_type": "stream",
       "stream": "stdout",
       "text": [
        "ThroughMonth "
       ]
      },
      {
       "output_type": "stream",
       "stream": "stdout",
       "text": [
        "ThroughWeek "
       ]
      },
      {
       "output_type": "stream",
       "stream": "stdout",
       "text": [
        "WeekDay "
       ]
      },
      {
       "output_type": "stream",
       "stream": "stdout",
       "text": [
        "Year "
       ]
      },
      {
       "output_type": "stream",
       "stream": "stdout",
       "text": [
        "YearDay "
       ]
      },
      {
       "output_type": "stream",
       "stream": "stdout",
       "text": [
        "lat "
       ]
      },
      {
       "output_type": "stream",
       "stream": "stdout",
       "text": [
        "lng \n",
        "|_end iteration_| start score: 14444.4990518, end score: 7732.4060497, name feature: MeanForThroughMonthByPoints\n",
        "1.81927482895"
       ]
      },
      {
       "output_type": "stream",
       "stream": "stdout",
       "text": [
        "\n",
        "BranchNumber"
       ]
      },
      {
       "output_type": "stream",
       "stream": "stdout",
       "text": [
        " CityID "
       ]
      },
      {
       "output_type": "stream",
       "stream": "stdout",
       "text": [
        "MeanForMonth "
       ]
      },
      {
       "output_type": "stream",
       "stream": "stdout",
       "text": [
        "MeanForMonthByPoints "
       ]
      },
      {
       "output_type": "stream",
       "stream": "stdout",
       "text": [
        "MeanForMonthDay "
       ]
      },
      {
       "output_type": "stream",
       "stream": "stdout",
       "text": [
        "MeanForThroughMonth "
       ]
      },
      {
       "output_type": "stream",
       "stream": "stdout",
       "text": [
        "MeanForThroughWeek "
       ]
      },
      {
       "output_type": "stream",
       "stream": "stdout",
       "text": [
        "MeanForWeekDay "
       ]
      },
      {
       "output_type": "stream",
       "stream": "stdout",
       "text": [
        "MeanForWeekDayByPoints "
       ]
      },
      {
       "output_type": "stream",
       "stream": "stdout",
       "text": [
        "MeanForYear "
       ]
      },
      {
       "output_type": "stream",
       "stream": "stdout",
       "text": [
        "MeanForYearByPoints "
       ]
      },
      {
       "output_type": "stream",
       "stream": "stdout",
       "text": [
        "MeanForYearDay "
       ]
      },
      {
       "output_type": "stream",
       "stream": "stdout",
       "text": [
        "Month "
       ]
      },
      {
       "output_type": "stream",
       "stream": "stdout",
       "text": [
        "MonthDay "
       ]
      },
      {
       "output_type": "stream",
       "stream": "stdout",
       "text": [
        "ThroughDay "
       ]
      },
      {
       "output_type": "stream",
       "stream": "stdout",
       "text": [
        "ThroughMonth "
       ]
      },
      {
       "output_type": "stream",
       "stream": "stdout",
       "text": [
        "ThroughWeek "
       ]
      },
      {
       "output_type": "stream",
       "stream": "stdout",
       "text": [
        "WeekDay "
       ]
      },
      {
       "output_type": "stream",
       "stream": "stdout",
       "text": [
        "Year "
       ]
      },
      {
       "output_type": "stream",
       "stream": "stdout",
       "text": [
        "YearDay "
       ]
      },
      {
       "output_type": "stream",
       "stream": "stdout",
       "text": [
        "lat "
       ]
      },
      {
       "output_type": "stream",
       "stream": "stdout",
       "text": [
        "lng \n",
        "|_end iteration_| start score: 7939.70147996, end score: 6472.45611854, name feature: MeanForMonth\n",
        "1.06270104681"
       ]
      },
      {
       "output_type": "stream",
       "stream": "stdout",
       "text": [
        "\n",
        "BranchNumber"
       ]
      },
      {
       "output_type": "stream",
       "stream": "stdout",
       "text": [
        " CityID "
       ]
      },
      {
       "output_type": "stream",
       "stream": "stdout",
       "text": [
        "MeanForMonthByPoints "
       ]
      },
      {
       "output_type": "stream",
       "stream": "stdout",
       "text": [
        "MeanForMonthDay "
       ]
      },
      {
       "output_type": "stream",
       "stream": "stdout",
       "text": [
        "MeanForThroughMonth "
       ]
      },
      {
       "output_type": "stream",
       "stream": "stdout",
       "text": [
        "MeanForThroughWeek "
       ]
      },
      {
       "output_type": "stream",
       "stream": "stdout",
       "text": [
        "MeanForWeekDay "
       ]
      },
      {
       "output_type": "stream",
       "stream": "stdout",
       "text": [
        "MeanForWeekDayByPoints "
       ]
      },
      {
       "output_type": "stream",
       "stream": "stdout",
       "text": [
        "MeanForYear "
       ]
      },
      {
       "output_type": "stream",
       "stream": "stdout",
       "text": [
        "MeanForYearByPoints "
       ]
      },
      {
       "output_type": "stream",
       "stream": "stdout",
       "text": [
        "MeanForYearDay "
       ]
      },
      {
       "output_type": "stream",
       "stream": "stdout",
       "text": [
        "Month "
       ]
      },
      {
       "output_type": "stream",
       "stream": "stdout",
       "text": [
        "MonthDay "
       ]
      },
      {
       "output_type": "stream",
       "stream": "stdout",
       "text": [
        "ThroughDay "
       ]
      },
      {
       "output_type": "stream",
       "stream": "stdout",
       "text": [
        "ThroughMonth "
       ]
      },
      {
       "output_type": "stream",
       "stream": "stdout",
       "text": [
        "ThroughWeek "
       ]
      },
      {
       "output_type": "stream",
       "stream": "stdout",
       "text": [
        "WeekDay "
       ]
      },
      {
       "output_type": "stream",
       "stream": "stdout",
       "text": [
        "Year "
       ]
      },
      {
       "output_type": "stream",
       "stream": "stdout",
       "text": [
        "YearDay "
       ]
      },
      {
       "output_type": "stream",
       "stream": "stdout",
       "text": [
        "lat "
       ]
      },
      {
       "output_type": "stream",
       "stream": "stdout",
       "text": [
        "lng \n",
        "|_end iteration_| start score: 7471.24650321, end score: 5980.70168086, name feature: MeanForThroughMonth\n",
        "1.14735736008"
       ]
      },
      {
       "output_type": "stream",
       "stream": "stdout",
       "text": [
        "\n",
        "BranchNumber"
       ]
      },
      {
       "output_type": "stream",
       "stream": "stdout",
       "text": [
        " CityID "
       ]
      },
      {
       "output_type": "stream",
       "stream": "stdout",
       "text": [
        "MeanForMonthByPoints "
       ]
      },
      {
       "output_type": "stream",
       "stream": "stdout",
       "text": [
        "MeanForMonthDay "
       ]
      },
      {
       "output_type": "stream",
       "stream": "stdout",
       "text": [
        "MeanForThroughWeek "
       ]
      },
      {
       "output_type": "stream",
       "stream": "stdout",
       "text": [
        "MeanForWeekDay "
       ]
      },
      {
       "output_type": "stream",
       "stream": "stdout",
       "text": [
        "MeanForWeekDayByPoints "
       ]
      },
      {
       "output_type": "stream",
       "stream": "stdout",
       "text": [
        "MeanForYear "
       ]
      },
      {
       "output_type": "stream",
       "stream": "stdout",
       "text": [
        "MeanForYearByPoints "
       ]
      },
      {
       "output_type": "stream",
       "stream": "stdout",
       "text": [
        "MeanForYearDay "
       ]
      },
      {
       "output_type": "stream",
       "stream": "stdout",
       "text": [
        "Month "
       ]
      },
      {
       "output_type": "stream",
       "stream": "stdout",
       "text": [
        "MonthDay "
       ]
      },
      {
       "output_type": "stream",
       "stream": "stdout",
       "text": [
        "ThroughDay "
       ]
      },
      {
       "output_type": "stream",
       "stream": "stdout",
       "text": [
        "ThroughMonth "
       ]
      },
      {
       "output_type": "stream",
       "stream": "stdout",
       "text": [
        "ThroughWeek "
       ]
      },
      {
       "output_type": "stream",
       "stream": "stdout",
       "text": [
        "WeekDay "
       ]
      },
      {
       "output_type": "stream",
       "stream": "stdout",
       "text": [
        "Year "
       ]
      },
      {
       "output_type": "stream",
       "stream": "stdout",
       "text": [
        "YearDay "
       ]
      },
      {
       "output_type": "stream",
       "stream": "stdout",
       "text": [
        "lat "
       ]
      },
      {
       "output_type": "stream",
       "stream": "stdout",
       "text": [
        "lng \n",
        "|_end iteration_| start score: 6511.69963532, end score: 23.429645107, name feature: MeanForThroughWeek\n",
        "277.042385978"
       ]
      },
      {
       "output_type": "stream",
       "stream": "stdout",
       "text": [
        "\n",
        "BranchNumber"
       ]
      },
      {
       "output_type": "stream",
       "stream": "stdout",
       "text": [
        " CityID "
       ]
      },
      {
       "output_type": "stream",
       "stream": "stdout",
       "text": [
        "MeanForMonthByPoints "
       ]
      },
      {
       "output_type": "stream",
       "stream": "stdout",
       "text": [
        "MeanForMonthDay "
       ]
      },
      {
       "output_type": "stream",
       "stream": "stdout",
       "text": [
        "MeanForWeekDay "
       ]
      },
      {
       "output_type": "stream",
       "stream": "stdout",
       "text": [
        "MeanForWeekDayByPoints "
       ]
      },
      {
       "output_type": "stream",
       "stream": "stdout",
       "text": [
        "MeanForYear "
       ]
      },
      {
       "output_type": "stream",
       "stream": "stdout",
       "text": [
        "MeanForYearByPoints "
       ]
      },
      {
       "output_type": "stream",
       "stream": "stdout",
       "text": [
        "MeanForYearDay "
       ]
      },
      {
       "output_type": "stream",
       "stream": "stdout",
       "text": [
        "Month "
       ]
      },
      {
       "output_type": "stream",
       "stream": "stdout",
       "text": [
        "MonthDay "
       ]
      },
      {
       "output_type": "stream",
       "stream": "stdout",
       "text": [
        "ThroughDay "
       ]
      },
      {
       "output_type": "stream",
       "stream": "stdout",
       "text": [
        "ThroughMonth "
       ]
      },
      {
       "output_type": "stream",
       "stream": "stdout",
       "text": [
        "ThroughWeek "
       ]
      },
      {
       "output_type": "stream",
       "stream": "stdout",
       "text": [
        "WeekDay "
       ]
      },
      {
       "output_type": "stream",
       "stream": "stdout",
       "text": [
        "Year "
       ]
      },
      {
       "output_type": "stream",
       "stream": "stdout",
       "text": [
        "YearDay "
       ]
      },
      {
       "output_type": "stream",
       "stream": "stdout",
       "text": [
        "lat "
       ]
      },
      {
       "output_type": "stream",
       "stream": "stdout",
       "text": [
        "lng \n",
        "|_end iteration_| start score: 23.5043443346, end score: 23.436718811, name feature: MonthDay\n",
        "1.00152116875"
       ]
      },
      {
       "output_type": "stream",
       "stream": "stdout",
       "text": [
        "\n",
        "BranchNumber"
       ]
      },
      {
       "output_type": "stream",
       "stream": "stdout",
       "text": [
        " CityID "
       ]
      },
      {
       "output_type": "stream",
       "stream": "stdout",
       "text": [
        "MeanForMonthByPoints "
       ]
      },
      {
       "output_type": "stream",
       "stream": "stdout",
       "text": [
        "MeanForMonthDay "
       ]
      },
      {
       "output_type": "stream",
       "stream": "stdout",
       "text": [
        "MeanForWeekDay "
       ]
      },
      {
       "output_type": "stream",
       "stream": "stdout",
       "text": [
        "MeanForWeekDayByPoints "
       ]
      },
      {
       "output_type": "stream",
       "stream": "stdout",
       "text": [
        "MeanForYear "
       ]
      },
      {
       "output_type": "stream",
       "stream": "stdout",
       "text": [
        "MeanForYearByPoints "
       ]
      },
      {
       "output_type": "stream",
       "stream": "stdout",
       "text": [
        "MeanForYearDay "
       ]
      },
      {
       "output_type": "stream",
       "stream": "stdout",
       "text": [
        "Month "
       ]
      },
      {
       "output_type": "stream",
       "stream": "stdout",
       "text": [
        "ThroughDay "
       ]
      },
      {
       "output_type": "stream",
       "stream": "stdout",
       "text": [
        "ThroughMonth "
       ]
      },
      {
       "output_type": "stream",
       "stream": "stdout",
       "text": [
        "ThroughWeek "
       ]
      },
      {
       "output_type": "stream",
       "stream": "stdout",
       "text": [
        "WeekDay "
       ]
      },
      {
       "output_type": "stream",
       "stream": "stdout",
       "text": [
        "Year "
       ]
      },
      {
       "output_type": "stream",
       "stream": "stdout",
       "text": [
        "YearDay "
       ]
      },
      {
       "output_type": "stream",
       "stream": "stdout",
       "text": [
        "lat "
       ]
      },
      {
       "output_type": "stream",
       "stream": "stdout",
       "text": [
        "lng \n",
        "|_end iteration_| start score: 23.4686445659, end score: 23.4188172892, name feature: MeanForMonthByPoints\n",
        "1.00187389737"
       ]
      },
      {
       "output_type": "stream",
       "stream": "stdout",
       "text": [
        "\n",
        "BranchNumber"
       ]
      },
      {
       "output_type": "stream",
       "stream": "stdout",
       "text": [
        " CityID "
       ]
      },
      {
       "output_type": "stream",
       "stream": "stdout",
       "text": [
        "MeanForMonthDay "
       ]
      },
      {
       "output_type": "stream",
       "stream": "stdout",
       "text": [
        "MeanForWeekDay "
       ]
      },
      {
       "output_type": "stream",
       "stream": "stdout",
       "text": [
        "MeanForWeekDayByPoints "
       ]
      },
      {
       "output_type": "stream",
       "stream": "stdout",
       "text": [
        "MeanForYear "
       ]
      },
      {
       "output_type": "stream",
       "stream": "stdout",
       "text": [
        "MeanForYearByPoints "
       ]
      },
      {
       "output_type": "stream",
       "stream": "stdout",
       "text": [
        "MeanForYearDay "
       ]
      },
      {
       "output_type": "stream",
       "stream": "stdout",
       "text": [
        "Month "
       ]
      },
      {
       "output_type": "stream",
       "stream": "stdout",
       "text": [
        "ThroughDay "
       ]
      },
      {
       "output_type": "stream",
       "stream": "stdout",
       "text": [
        "ThroughMonth "
       ]
      },
      {
       "output_type": "stream",
       "stream": "stdout",
       "text": [
        "ThroughWeek "
       ]
      },
      {
       "output_type": "stream",
       "stream": "stdout",
       "text": [
        "WeekDay "
       ]
      },
      {
       "output_type": "stream",
       "stream": "stdout",
       "text": [
        "Year "
       ]
      },
      {
       "output_type": "stream",
       "stream": "stdout",
       "text": [
        "YearDay "
       ]
      },
      {
       "output_type": "stream",
       "stream": "stdout",
       "text": [
        "lat "
       ]
      },
      {
       "output_type": "stream",
       "stream": "stdout",
       "text": [
        "lng \n",
        "|_end iteration_| start score: 23.4247489904, end score: 23.4029235969, name feature: BranchNumber\n",
        "0.999370141845"
       ]
      },
      {
       "output_type": "stream",
       "stream": "stdout",
       "text": [
        "\n",
        "CityID"
       ]
      },
      {
       "output_type": "stream",
       "stream": "stdout",
       "text": [
        " MeanForMonthDay "
       ]
      },
      {
       "output_type": "stream",
       "stream": "stdout",
       "text": [
        "MeanForWeekDay "
       ]
      },
      {
       "output_type": "stream",
       "stream": "stdout",
       "text": [
        "MeanForWeekDayByPoints "
       ]
      },
      {
       "output_type": "stream",
       "stream": "stdout",
       "text": [
        "MeanForYear "
       ]
      },
      {
       "output_type": "stream",
       "stream": "stdout",
       "text": [
        "MeanForYearByPoints "
       ]
      },
      {
       "output_type": "stream",
       "stream": "stdout",
       "text": [
        "MeanForYearDay "
       ]
      },
      {
       "output_type": "stream",
       "stream": "stdout",
       "text": [
        "Month "
       ]
      },
      {
       "output_type": "stream",
       "stream": "stdout",
       "text": [
        "ThroughDay "
       ]
      },
      {
       "output_type": "stream",
       "stream": "stdout",
       "text": [
        "ThroughMonth "
       ]
      },
      {
       "output_type": "stream",
       "stream": "stdout",
       "text": [
        "ThroughWeek "
       ]
      },
      {
       "output_type": "stream",
       "stream": "stdout",
       "text": [
        "WeekDay "
       ]
      },
      {
       "output_type": "stream",
       "stream": "stdout",
       "text": [
        "Year "
       ]
      },
      {
       "output_type": "stream",
       "stream": "stdout",
       "text": [
        "YearDay "
       ]
      },
      {
       "output_type": "stream",
       "stream": "stdout",
       "text": [
        "lat "
       ]
      },
      {
       "output_type": "stream",
       "stream": "stdout",
       "text": [
        "lng \n",
        "|_end iteration_| start score: 23.4395125585, end score: 23.4222792589, name feature: ThroughWeek\n",
        "0.997404813464"
       ]
      },
      {
       "output_type": "stream",
       "stream": "stdout",
       "text": [
        "\n",
        "CityID"
       ]
      },
      {
       "output_type": "stream",
       "stream": "stdout",
       "text": [
        " MeanForMonthDay "
       ]
      },
      {
       "output_type": "stream",
       "stream": "stdout",
       "text": [
        "MeanForWeekDay "
       ]
      },
      {
       "output_type": "stream",
       "stream": "stdout",
       "text": [
        "MeanForWeekDayByPoints "
       ]
      },
      {
       "output_type": "stream",
       "stream": "stdout",
       "text": [
        "MeanForYear "
       ]
      },
      {
       "output_type": "stream",
       "stream": "stdout",
       "text": [
        "MeanForYearByPoints "
       ]
      },
      {
       "output_type": "stream",
       "stream": "stdout",
       "text": [
        "MeanForYearDay "
       ]
      },
      {
       "output_type": "stream",
       "stream": "stdout",
       "text": [
        "Month "
       ]
      },
      {
       "output_type": "stream",
       "stream": "stdout",
       "text": [
        "ThroughDay "
       ]
      },
      {
       "output_type": "stream",
       "stream": "stdout",
       "text": [
        "ThroughMonth "
       ]
      },
      {
       "output_type": "stream",
       "stream": "stdout",
       "text": [
        "WeekDay "
       ]
      },
      {
       "output_type": "stream",
       "stream": "stdout",
       "text": [
        "Year "
       ]
      },
      {
       "output_type": "stream",
       "stream": "stdout",
       "text": [
        "YearDay "
       ]
      },
      {
       "output_type": "stream",
       "stream": "stdout",
       "text": [
        "lat "
       ]
      },
      {
       "output_type": "stream",
       "stream": "stdout",
       "text": [
        "lng \n",
        "|_end iteration_| start score: 23.5005007416, end score: 23.4264248545, name feature: ThroughMonth\n",
        "1.00313142331"
       ]
      },
      {
       "output_type": "stream",
       "stream": "stdout",
       "text": [
        "\n",
        "CityID"
       ]
      },
      {
       "output_type": "stream",
       "stream": "stdout",
       "text": [
        " MeanForMonthDay "
       ]
      },
      {
       "output_type": "stream",
       "stream": "stdout",
       "text": [
        "MeanForWeekDay "
       ]
      },
      {
       "output_type": "stream",
       "stream": "stdout",
       "text": [
        "MeanForWeekDayByPoints "
       ]
      },
      {
       "output_type": "stream",
       "stream": "stdout",
       "text": [
        "MeanForYear "
       ]
      },
      {
       "output_type": "stream",
       "stream": "stdout",
       "text": [
        "MeanForYearByPoints "
       ]
      },
      {
       "output_type": "stream",
       "stream": "stdout",
       "text": [
        "MeanForYearDay "
       ]
      },
      {
       "output_type": "stream",
       "stream": "stdout",
       "text": [
        "Month "
       ]
      },
      {
       "output_type": "stream",
       "stream": "stdout",
       "text": [
        "ThroughDay "
       ]
      },
      {
       "output_type": "stream",
       "stream": "stdout",
       "text": [
        "WeekDay "
       ]
      },
      {
       "output_type": "stream",
       "stream": "stdout",
       "text": [
        "Year "
       ]
      },
      {
       "output_type": "stream",
       "stream": "stdout",
       "text": [
        "YearDay "
       ]
      },
      {
       "output_type": "stream",
       "stream": "stdout",
       "text": [
        "lat "
       ]
      },
      {
       "output_type": "stream",
       "stream": "stdout",
       "text": [
        "lng \n",
        "|_end iteration_| start score: 23.427140448, end score: 23.3701109366, name feature: Month\n",
        "0.998097928977"
       ]
      },
      {
       "output_type": "stream",
       "stream": "stdout",
       "text": [
        "\n",
        "CityID"
       ]
      },
      {
       "output_type": "stream",
       "stream": "stdout",
       "text": [
        " MeanForMonthDay "
       ]
      },
      {
       "output_type": "stream",
       "stream": "stdout",
       "text": [
        "MeanForWeekDay "
       ]
      },
      {
       "output_type": "stream",
       "stream": "stdout",
       "text": [
        "MeanForWeekDayByPoints "
       ]
      },
      {
       "output_type": "stream",
       "stream": "stdout",
       "text": [
        "MeanForYear "
       ]
      },
      {
       "output_type": "stream",
       "stream": "stdout",
       "text": [
        "MeanForYearByPoints "
       ]
      },
      {
       "output_type": "stream",
       "stream": "stdout",
       "text": [
        "MeanForYearDay "
       ]
      },
      {
       "output_type": "stream",
       "stream": "stdout",
       "text": [
        "ThroughDay "
       ]
      },
      {
       "output_type": "stream",
       "stream": "stdout",
       "text": [
        "WeekDay "
       ]
      },
      {
       "output_type": "stream",
       "stream": "stdout",
       "text": [
        "Year "
       ]
      },
      {
       "output_type": "stream",
       "stream": "stdout",
       "text": [
        "YearDay "
       ]
      },
      {
       "output_type": "stream",
       "stream": "stdout",
       "text": [
        "lat "
       ]
      },
      {
       "output_type": "stream",
       "stream": "stdout",
       "text": [
        "lng \n",
        "|_end iteration_| start score: 23.471785451, end score: 23.4424802403, name feature: Year\n",
        "0.999510493208"
       ]
      },
      {
       "output_type": "stream",
       "stream": "stdout",
       "text": [
        "\n",
        "CityID"
       ]
      },
      {
       "output_type": "stream",
       "stream": "stdout",
       "text": [
        " MeanForMonthDay "
       ]
      },
      {
       "output_type": "stream",
       "stream": "stdout",
       "text": [
        "MeanForWeekDay "
       ]
      },
      {
       "output_type": "stream",
       "stream": "stdout",
       "text": [
        "MeanForWeekDayByPoints "
       ]
      },
      {
       "output_type": "stream",
       "stream": "stdout",
       "text": [
        "MeanForYear "
       ]
      },
      {
       "output_type": "stream",
       "stream": "stdout",
       "text": [
        "MeanForYearByPoints "
       ]
      },
      {
       "output_type": "stream",
       "stream": "stdout",
       "text": [
        "MeanForYearDay "
       ]
      },
      {
       "output_type": "stream",
       "stream": "stdout",
       "text": [
        "ThroughDay "
       ]
      },
      {
       "output_type": "stream",
       "stream": "stdout",
       "text": [
        "WeekDay "
       ]
      },
      {
       "output_type": "stream",
       "stream": "stdout",
       "text": [
        "YearDay "
       ]
      },
      {
       "output_type": "stream",
       "stream": "stdout",
       "text": [
        "lat "
       ]
      },
      {
       "output_type": "stream",
       "stream": "stdout",
       "text": [
        "lng \n",
        "|_end iteration_| start score: 23.4832806764, end score: 23.4121287424, name feature: MeanForMonthDay\n",
        "1.00103787311"
       ]
      },
      {
       "output_type": "stream",
       "stream": "stdout",
       "text": [
        "\n",
        "CityID"
       ]
      },
      {
       "output_type": "stream",
       "stream": "stdout",
       "text": [
        " MeanForWeekDay "
       ]
      },
      {
       "output_type": "stream",
       "stream": "stdout",
       "text": [
        "MeanForWeekDayByPoints "
       ]
      },
      {
       "output_type": "stream",
       "stream": "stdout",
       "text": [
        "MeanForYear "
       ]
      },
      {
       "output_type": "stream",
       "stream": "stdout",
       "text": [
        "MeanForYearByPoints "
       ]
      },
      {
       "output_type": "stream",
       "stream": "stdout",
       "text": [
        "MeanForYearDay "
       ]
      },
      {
       "output_type": "stream",
       "stream": "stdout",
       "text": [
        "ThroughDay "
       ]
      },
      {
       "output_type": "stream",
       "stream": "stdout",
       "text": [
        "WeekDay "
       ]
      },
      {
       "output_type": "stream",
       "stream": "stdout",
       "text": [
        "YearDay "
       ]
      },
      {
       "output_type": "stream",
       "stream": "stdout",
       "text": [
        "lat "
       ]
      },
      {
       "output_type": "stream",
       "stream": "stdout",
       "text": [
        "lng \n",
        "|_end iteration_| start score: 23.4589332804, end score: 23.4589332804, name feature: None\n"
       ]
      },
      {
       "output_type": "stream",
       "stream": "stderr",
       "text": [
        "/usr/local/lib/python2.7/dist-packages/sklearn/linear_model/coordinate_descent.py:479: ConvergenceWarning: Objective did not converge. You might want to increase the number of iterations. Fitting data with very small alpha may cause precision problems.\n",
        "  ConvergenceWarning)\n"
       ]
      }
     ],
     "prompt_number": 225
    },
    {
     "cell_type": "code",
     "collapsed": false,
     "input": [],
     "language": "python",
     "metadata": {},
     "outputs": [],
     "prompt_number": 22
    },
    {
     "cell_type": "code",
     "collapsed": false,
     "input": [
      "column = RemoveTrash(dataTrain, dataValidation, RandomForestRegressor())"
     ],
     "language": "python",
     "metadata": {},
     "outputs": [
      {
       "output_type": "stream",
       "stream": "stdout",
       "text": [
        "Coef between pasted baseline and current 8.42505333324e+36\n",
        "BranchNumber"
       ]
      },
      {
       "output_type": "stream",
       "stream": "stdout",
       "text": [
        " CityID "
       ]
      },
      {
       "output_type": "stream",
       "stream": "stdout",
       "text": [
        "MeanForMonth "
       ]
      },
      {
       "output_type": "stream",
       "stream": "stdout",
       "text": [
        "MeanForMonthByPoints "
       ]
      },
      {
       "output_type": "stream",
       "stream": "stdout",
       "text": [
        "MeanForMonthDay "
       ]
      },
      {
       "output_type": "stream",
       "stream": "stdout",
       "text": [
        "MeanForMonthDayByPoints "
       ]
      },
      {
       "output_type": "stream",
       "stream": "stdout",
       "text": [
        "MeanForThroughDay "
       ]
      },
      {
       "output_type": "stream",
       "stream": "stdout",
       "text": [
        "MeanForThroughDayByPoints "
       ]
      },
      {
       "output_type": "stream",
       "stream": "stdout",
       "text": [
        "MeanForThroughMonth "
       ]
      },
      {
       "output_type": "stream",
       "stream": "stdout",
       "text": [
        "MeanForThroughMonthByPoints "
       ]
      },
      {
       "output_type": "stream",
       "stream": "stdout",
       "text": [
        "MeanForThroughWeek "
       ]
      },
      {
       "output_type": "stream",
       "stream": "stdout",
       "text": [
        "MeanForThroughWeekByPoints "
       ]
      },
      {
       "output_type": "stream",
       "stream": "stdout",
       "text": [
        "MeanForWeekDay "
       ]
      },
      {
       "output_type": "stream",
       "stream": "stdout",
       "text": [
        "MeanForWeekDayByPoints "
       ]
      },
      {
       "output_type": "stream",
       "stream": "stdout",
       "text": [
        "MeanForYear "
       ]
      },
      {
       "output_type": "stream",
       "stream": "stdout",
       "text": [
        "MeanForYearByPoints "
       ]
      },
      {
       "output_type": "stream",
       "stream": "stdout",
       "text": [
        "MeanForYearDay "
       ]
      },
      {
       "output_type": "stream",
       "stream": "stdout",
       "text": [
        "MeanForYearDayByPoints "
       ]
      },
      {
       "output_type": "stream",
       "stream": "stdout",
       "text": [
        "Month "
       ]
      },
      {
       "output_type": "stream",
       "stream": "stdout",
       "text": [
        "MonthDay "
       ]
      },
      {
       "output_type": "stream",
       "stream": "stdout",
       "text": [
        "ThroughDay "
       ]
      },
      {
       "output_type": "stream",
       "stream": "stdout",
       "text": [
        "ThroughMonth "
       ]
      },
      {
       "output_type": "stream",
       "stream": "stdout",
       "text": [
        "ThroughWeek "
       ]
      },
      {
       "output_type": "stream",
       "stream": "stdout",
       "text": [
        "WeekDay "
       ]
      },
      {
       "output_type": "stream",
       "stream": "stdout",
       "text": [
        "Year "
       ]
      },
      {
       "output_type": "stream",
       "stream": "stdout",
       "text": [
        "YearDay "
       ]
      },
      {
       "output_type": "stream",
       "stream": "stdout",
       "text": [
        "lat "
       ]
      },
      {
       "output_type": "stream",
       "stream": "stdout",
       "text": [
        "lng \n",
        "|_end iteration_| start score: 1186.93610645, end score: 53.0077523865, name feature: MeanForThroughDayByPoints\n",
        "Coef between pasted baseline and current 16.3051227898"
       ]
      },
      {
       "output_type": "stream",
       "stream": "stdout",
       "text": [
        "\n",
        "BranchNumber"
       ]
      },
      {
       "output_type": "stream",
       "stream": "stdout",
       "text": [
        " CityID "
       ]
      },
      {
       "output_type": "stream",
       "stream": "stdout",
       "text": [
        "MeanForMonth "
       ]
      },
      {
       "output_type": "stream",
       "stream": "stdout",
       "text": [
        "MeanForMonthByPoints "
       ]
      },
      {
       "output_type": "stream",
       "stream": "stdout",
       "text": [
        "MeanForMonthDay "
       ]
      },
      {
       "output_type": "stream",
       "stream": "stdout",
       "text": [
        "MeanForMonthDayByPoints "
       ]
      },
      {
       "output_type": "stream",
       "stream": "stdout",
       "text": [
        "MeanForThroughDay "
       ]
      },
      {
       "output_type": "stream",
       "stream": "stdout",
       "text": [
        "MeanForThroughMonth "
       ]
      },
      {
       "output_type": "stream",
       "stream": "stdout",
       "text": [
        "MeanForThroughMonthByPoints "
       ]
      },
      {
       "output_type": "stream",
       "stream": "stdout",
       "text": [
        "MeanForThroughWeek "
       ]
      },
      {
       "output_type": "stream",
       "stream": "stdout",
       "text": [
        "MeanForThroughWeekByPoints "
       ]
      },
      {
       "output_type": "stream",
       "stream": "stdout",
       "text": [
        "MeanForWeekDay "
       ]
      },
      {
       "output_type": "stream",
       "stream": "stdout",
       "text": [
        "MeanForWeekDayByPoints "
       ]
      },
      {
       "output_type": "stream",
       "stream": "stdout",
       "text": [
        "MeanForYear "
       ]
      },
      {
       "output_type": "stream",
       "stream": "stdout",
       "text": [
        "MeanForYearByPoints "
       ]
      },
      {
       "output_type": "stream",
       "stream": "stdout",
       "text": [
        "MeanForYearDay "
       ]
      },
      {
       "output_type": "stream",
       "stream": "stdout",
       "text": [
        "MeanForYearDayByPoints "
       ]
      },
      {
       "output_type": "stream",
       "stream": "stdout",
       "text": [
        "Month "
       ]
      },
      {
       "output_type": "stream",
       "stream": "stdout",
       "text": [
        "MonthDay "
       ]
      },
      {
       "output_type": "stream",
       "stream": "stdout",
       "text": [
        "ThroughDay "
       ]
      },
      {
       "output_type": "stream",
       "stream": "stdout",
       "text": [
        "ThroughMonth "
       ]
      },
      {
       "output_type": "stream",
       "stream": "stdout",
       "text": [
        "ThroughWeek "
       ]
      },
      {
       "output_type": "stream",
       "stream": "stdout",
       "text": [
        "WeekDay "
       ]
      },
      {
       "output_type": "stream",
       "stream": "stdout",
       "text": [
        "Year "
       ]
      },
      {
       "output_type": "stream",
       "stream": "stdout",
       "text": [
        "YearDay "
       ]
      },
      {
       "output_type": "stream",
       "stream": "stdout",
       "text": [
        "lat "
       ]
      },
      {
       "output_type": "stream",
       "stream": "stdout",
       "text": [
        "lng \n",
        "|_end iteration_| start score: 72.7952878218, end score: 17.6256002314, name feature: MeanForYearDayByPoints\n",
        "Coef between pasted baseline and current 4.09444165501"
       ]
      },
      {
       "output_type": "stream",
       "stream": "stdout",
       "text": [
        "\n",
        "BranchNumber"
       ]
      },
      {
       "output_type": "stream",
       "stream": "stdout",
       "text": [
        " CityID "
       ]
      },
      {
       "output_type": "stream",
       "stream": "stdout",
       "text": [
        "MeanForMonth "
       ]
      },
      {
       "output_type": "stream",
       "stream": "stdout",
       "text": [
        "MeanForMonthByPoints "
       ]
      },
      {
       "output_type": "stream",
       "stream": "stdout",
       "text": [
        "MeanForMonthDay "
       ]
      },
      {
       "output_type": "stream",
       "stream": "stdout",
       "text": [
        "MeanForMonthDayByPoints "
       ]
      },
      {
       "output_type": "stream",
       "stream": "stdout",
       "text": [
        "MeanForThroughDay "
       ]
      },
      {
       "output_type": "stream",
       "stream": "stdout",
       "text": [
        "MeanForThroughMonth "
       ]
      },
      {
       "output_type": "stream",
       "stream": "stdout",
       "text": [
        "MeanForThroughMonthByPoints "
       ]
      },
      {
       "output_type": "stream",
       "stream": "stdout",
       "text": [
        "MeanForThroughWeek "
       ]
      },
      {
       "output_type": "stream",
       "stream": "stdout",
       "text": [
        "MeanForThroughWeekByPoints "
       ]
      },
      {
       "output_type": "stream",
       "stream": "stdout",
       "text": [
        "MeanForWeekDay "
       ]
      },
      {
       "output_type": "stream",
       "stream": "stdout",
       "text": [
        "MeanForWeekDayByPoints "
       ]
      },
      {
       "output_type": "stream",
       "stream": "stdout",
       "text": [
        "MeanForYear "
       ]
      },
      {
       "output_type": "stream",
       "stream": "stdout",
       "text": [
        "MeanForYearByPoints "
       ]
      },
      {
       "output_type": "stream",
       "stream": "stdout",
       "text": [
        "MeanForYearDay "
       ]
      },
      {
       "output_type": "stream",
       "stream": "stdout",
       "text": [
        "Month "
       ]
      },
      {
       "output_type": "stream",
       "stream": "stdout",
       "text": [
        "MonthDay "
       ]
      },
      {
       "output_type": "stream",
       "stream": "stdout",
       "text": [
        "ThroughDay "
       ]
      },
      {
       "output_type": "stream",
       "stream": "stdout",
       "text": [
        "ThroughMonth "
       ]
      },
      {
       "output_type": "stream",
       "stream": "stdout",
       "text": [
        "ThroughWeek "
       ]
      },
      {
       "output_type": "stream",
       "stream": "stdout",
       "text": [
        "WeekDay "
       ]
      },
      {
       "output_type": "stream",
       "stream": "stdout",
       "text": [
        "Year "
       ]
      },
      {
       "output_type": "stream",
       "stream": "stdout",
       "text": [
        "YearDay "
       ]
      },
      {
       "output_type": "stream",
       "stream": "stdout",
       "text": [
        "lat "
       ]
      },
      {
       "output_type": "stream",
       "stream": "stdout",
       "text": [
        "lng \n",
        "|_end iteration_| start score: 17.7790512005, end score: 17.6391813711, name feature: MeanForMonthDay\n",
        "Coef between pasted baseline and current 0.992295532778"
       ]
      },
      {
       "output_type": "stream",
       "stream": "stdout",
       "text": [
        "\n",
        "BranchNumber"
       ]
      },
      {
       "output_type": "stream",
       "stream": "stdout",
       "text": [
        " CityID "
       ]
      },
      {
       "output_type": "stream",
       "stream": "stdout",
       "text": [
        "MeanForMonth "
       ]
      },
      {
       "output_type": "stream",
       "stream": "stdout",
       "text": [
        "MeanForMonthByPoints "
       ]
      },
      {
       "output_type": "stream",
       "stream": "stdout",
       "text": [
        "MeanForMonthDayByPoints "
       ]
      },
      {
       "output_type": "stream",
       "stream": "stdout",
       "text": [
        "MeanForThroughDay "
       ]
      },
      {
       "output_type": "stream",
       "stream": "stdout",
       "text": [
        "MeanForThroughMonth "
       ]
      },
      {
       "output_type": "stream",
       "stream": "stdout",
       "text": [
        "MeanForThroughMonthByPoints "
       ]
      },
      {
       "output_type": "stream",
       "stream": "stdout",
       "text": [
        "MeanForThroughWeek "
       ]
      },
      {
       "output_type": "stream",
       "stream": "stdout",
       "text": [
        "MeanForThroughWeekByPoints "
       ]
      },
      {
       "output_type": "stream",
       "stream": "stdout",
       "text": [
        "MeanForWeekDay "
       ]
      },
      {
       "output_type": "stream",
       "stream": "stdout",
       "text": [
        "MeanForWeekDayByPoints "
       ]
      },
      {
       "output_type": "stream",
       "stream": "stdout",
       "text": [
        "MeanForYear "
       ]
      },
      {
       "output_type": "stream",
       "stream": "stdout",
       "text": [
        "MeanForYearByPoints "
       ]
      },
      {
       "output_type": "stream",
       "stream": "stdout",
       "text": [
        "MeanForYearDay "
       ]
      },
      {
       "output_type": "stream",
       "stream": "stdout",
       "text": [
        "Month "
       ]
      },
      {
       "output_type": "stream",
       "stream": "stdout",
       "text": [
        "MonthDay "
       ]
      },
      {
       "output_type": "stream",
       "stream": "stdout",
       "text": [
        "ThroughDay "
       ]
      },
      {
       "output_type": "stream",
       "stream": "stdout",
       "text": [
        "ThroughMonth "
       ]
      },
      {
       "output_type": "stream",
       "stream": "stdout",
       "text": [
        "ThroughWeek "
       ]
      },
      {
       "output_type": "stream",
       "stream": "stdout",
       "text": [
        "WeekDay "
       ]
      },
      {
       "output_type": "stream",
       "stream": "stdout",
       "text": [
        "Year "
       ]
      },
      {
       "output_type": "stream",
       "stream": "stdout",
       "text": [
        "YearDay "
       ]
      },
      {
       "output_type": "stream",
       "stream": "stdout",
       "text": [
        "lat "
       ]
      },
      {
       "output_type": "stream",
       "stream": "stdout",
       "text": [
        "lng \n",
        "|_end iteration_| start score: 17.9170928551, end score: 17.4725918426, name feature: MeanForMonthDayByPoints\n",
        "Coef between pasted baseline and current 1.0095688313"
       ]
      },
      {
       "output_type": "stream",
       "stream": "stdout",
       "text": [
        "\n",
        "BranchNumber"
       ]
      },
      {
       "output_type": "stream",
       "stream": "stdout",
       "text": [
        " CityID "
       ]
      },
      {
       "output_type": "stream",
       "stream": "stdout",
       "text": [
        "MeanForMonth "
       ]
      },
      {
       "output_type": "stream",
       "stream": "stdout",
       "text": [
        "MeanForMonthByPoints "
       ]
      },
      {
       "output_type": "stream",
       "stream": "stdout",
       "text": [
        "MeanForThroughDay "
       ]
      },
      {
       "output_type": "stream",
       "stream": "stdout",
       "text": [
        "MeanForThroughMonth "
       ]
      },
      {
       "output_type": "stream",
       "stream": "stdout",
       "text": [
        "MeanForThroughMonthByPoints "
       ]
      },
      {
       "output_type": "stream",
       "stream": "stdout",
       "text": [
        "MeanForThroughWeek "
       ]
      },
      {
       "output_type": "stream",
       "stream": "stdout",
       "text": [
        "MeanForThroughWeekByPoints "
       ]
      },
      {
       "output_type": "stream",
       "stream": "stdout",
       "text": [
        "MeanForWeekDay "
       ]
      },
      {
       "output_type": "stream",
       "stream": "stdout",
       "text": [
        "MeanForWeekDayByPoints "
       ]
      },
      {
       "output_type": "stream",
       "stream": "stdout",
       "text": [
        "MeanForYear "
       ]
      },
      {
       "output_type": "stream",
       "stream": "stdout",
       "text": [
        "MeanForYearByPoints "
       ]
      },
      {
       "output_type": "stream",
       "stream": "stdout",
       "text": [
        "MeanForYearDay "
       ]
      },
      {
       "output_type": "stream",
       "stream": "stdout",
       "text": [
        "Month "
       ]
      },
      {
       "output_type": "stream",
       "stream": "stdout",
       "text": [
        "MonthDay "
       ]
      },
      {
       "output_type": "stream",
       "stream": "stdout",
       "text": [
        "ThroughDay "
       ]
      },
      {
       "output_type": "stream",
       "stream": "stdout",
       "text": [
        "ThroughMonth "
       ]
      },
      {
       "output_type": "stream",
       "stream": "stdout",
       "text": [
        "ThroughWeek "
       ]
      },
      {
       "output_type": "stream",
       "stream": "stdout",
       "text": [
        "WeekDay "
       ]
      },
      {
       "output_type": "stream",
       "stream": "stdout",
       "text": [
        "Year "
       ]
      },
      {
       "output_type": "stream",
       "stream": "stdout",
       "text": [
        "YearDay "
       ]
      },
      {
       "output_type": "stream",
       "stream": "stdout",
       "text": [
        "lat "
       ]
      },
      {
       "output_type": "stream",
       "stream": "stdout",
       "text": [
        "lng \n",
        "|_end iteration_| start score: 17.7472722013, end score: 17.2642319931, name feature: MeanForThroughWeekByPoints\n",
        "Coef between pasted baseline and current 1.02925886937"
       ]
      },
      {
       "output_type": "stream",
       "stream": "stdout",
       "text": [
        "\n",
        "BranchNumber"
       ]
      },
      {
       "output_type": "stream",
       "stream": "stdout",
       "text": [
        " CityID "
       ]
      },
      {
       "output_type": "stream",
       "stream": "stdout",
       "text": [
        "MeanForMonth "
       ]
      },
      {
       "output_type": "stream",
       "stream": "stdout",
       "text": [
        "MeanForMonthByPoints "
       ]
      },
      {
       "output_type": "stream",
       "stream": "stdout",
       "text": [
        "MeanForThroughDay "
       ]
      },
      {
       "output_type": "stream",
       "stream": "stdout",
       "text": [
        "MeanForThroughMonth "
       ]
      },
      {
       "output_type": "stream",
       "stream": "stdout",
       "text": [
        "MeanForThroughMonthByPoints "
       ]
      },
      {
       "output_type": "stream",
       "stream": "stdout",
       "text": [
        "MeanForThroughWeek "
       ]
      },
      {
       "output_type": "stream",
       "stream": "stdout",
       "text": [
        "MeanForWeekDay "
       ]
      },
      {
       "output_type": "stream",
       "stream": "stdout",
       "text": [
        "MeanForWeekDayByPoints "
       ]
      },
      {
       "output_type": "stream",
       "stream": "stdout",
       "text": [
        "MeanForYear "
       ]
      },
      {
       "output_type": "stream",
       "stream": "stdout",
       "text": [
        "MeanForYearByPoints "
       ]
      },
      {
       "output_type": "stream",
       "stream": "stdout",
       "text": [
        "MeanForYearDay "
       ]
      },
      {
       "output_type": "stream",
       "stream": "stdout",
       "text": [
        "Month "
       ]
      },
      {
       "output_type": "stream",
       "stream": "stdout",
       "text": [
        "MonthDay "
       ]
      },
      {
       "output_type": "stream",
       "stream": "stdout",
       "text": [
        "ThroughDay "
       ]
      },
      {
       "output_type": "stream",
       "stream": "stdout",
       "text": [
        "ThroughMonth "
       ]
      },
      {
       "output_type": "stream",
       "stream": "stdout",
       "text": [
        "ThroughWeek "
       ]
      },
      {
       "output_type": "stream",
       "stream": "stdout",
       "text": [
        "WeekDay "
       ]
      },
      {
       "output_type": "stream",
       "stream": "stdout",
       "text": [
        "Year "
       ]
      },
      {
       "output_type": "stream",
       "stream": "stdout",
       "text": [
        "YearDay "
       ]
      },
      {
       "output_type": "stream",
       "stream": "stdout",
       "text": [
        "lat "
       ]
      },
      {
       "output_type": "stream",
       "stream": "stdout",
       "text": [
        "lng \n",
        "|_end iteration_| start score: 17.2427682962, end score: 17.0361729824, name feature: lat\n",
        "Coef between pasted baseline and current 1.00079179209"
       ]
      },
      {
       "output_type": "stream",
       "stream": "stdout",
       "text": [
        "\n",
        "BranchNumber"
       ]
      },
      {
       "output_type": "stream",
       "stream": "stdout",
       "text": [
        " CityID "
       ]
      },
      {
       "output_type": "stream",
       "stream": "stdout",
       "text": [
        "MeanForMonth "
       ]
      },
      {
       "output_type": "stream",
       "stream": "stdout",
       "text": [
        "MeanForMonthByPoints "
       ]
      },
      {
       "output_type": "stream",
       "stream": "stdout",
       "text": [
        "MeanForThroughDay "
       ]
      },
      {
       "output_type": "stream",
       "stream": "stdout",
       "text": [
        "MeanForThroughMonth "
       ]
      },
      {
       "output_type": "stream",
       "stream": "stdout",
       "text": [
        "MeanForThroughMonthByPoints "
       ]
      },
      {
       "output_type": "stream",
       "stream": "stdout",
       "text": [
        "MeanForThroughWeek "
       ]
      },
      {
       "output_type": "stream",
       "stream": "stdout",
       "text": [
        "MeanForWeekDay "
       ]
      },
      {
       "output_type": "stream",
       "stream": "stdout",
       "text": [
        "MeanForWeekDayByPoints "
       ]
      },
      {
       "output_type": "stream",
       "stream": "stdout",
       "text": [
        "MeanForYear "
       ]
      },
      {
       "output_type": "stream",
       "stream": "stdout",
       "text": [
        "MeanForYearByPoints "
       ]
      },
      {
       "output_type": "stream",
       "stream": "stdout",
       "text": [
        "MeanForYearDay "
       ]
      },
      {
       "output_type": "stream",
       "stream": "stdout",
       "text": [
        "Month "
       ]
      },
      {
       "output_type": "stream",
       "stream": "stdout",
       "text": [
        "MonthDay "
       ]
      },
      {
       "output_type": "stream",
       "stream": "stdout",
       "text": [
        "ThroughDay "
       ]
      },
      {
       "output_type": "stream",
       "stream": "stdout",
       "text": [
        "ThroughMonth "
       ]
      },
      {
       "output_type": "stream",
       "stream": "stdout",
       "text": [
        "ThroughWeek "
       ]
      },
      {
       "output_type": "stream",
       "stream": "stdout",
       "text": [
        "WeekDay "
       ]
      },
      {
       "output_type": "stream",
       "stream": "stdout",
       "text": [
        "Year "
       ]
      },
      {
       "output_type": "stream",
       "stream": "stdout",
       "text": [
        "YearDay "
       ]
      },
      {
       "output_type": "stream",
       "stream": "stdout",
       "text": [
        "lng \n",
        "|_end iteration_| start score: 17.2291264102, end score: 17.0278420596, name feature: MeanForThroughDay\n",
        "Coef between pasted baseline and current 1.00677532519"
       ]
      },
      {
       "output_type": "stream",
       "stream": "stdout",
       "text": [
        "\n",
        "BranchNumber"
       ]
      },
      {
       "output_type": "stream",
       "stream": "stdout",
       "text": [
        " CityID "
       ]
      },
      {
       "output_type": "stream",
       "stream": "stdout",
       "text": [
        "MeanForMonth "
       ]
      },
      {
       "output_type": "stream",
       "stream": "stdout",
       "text": [
        "MeanForMonthByPoints "
       ]
      },
      {
       "output_type": "stream",
       "stream": "stdout",
       "text": [
        "MeanForThroughMonth "
       ]
      },
      {
       "output_type": "stream",
       "stream": "stdout",
       "text": [
        "MeanForThroughMonthByPoints "
       ]
      },
      {
       "output_type": "stream",
       "stream": "stdout",
       "text": [
        "MeanForThroughWeek "
       ]
      },
      {
       "output_type": "stream",
       "stream": "stdout",
       "text": [
        "MeanForWeekDay "
       ]
      },
      {
       "output_type": "stream",
       "stream": "stdout",
       "text": [
        "MeanForWeekDayByPoints "
       ]
      },
      {
       "output_type": "stream",
       "stream": "stdout",
       "text": [
        "MeanForYear "
       ]
      },
      {
       "output_type": "stream",
       "stream": "stdout",
       "text": [
        "MeanForYearByPoints "
       ]
      },
      {
       "output_type": "stream",
       "stream": "stdout",
       "text": [
        "MeanForYearDay "
       ]
      },
      {
       "output_type": "stream",
       "stream": "stdout",
       "text": [
        "Month "
       ]
      },
      {
       "output_type": "stream",
       "stream": "stdout",
       "text": [
        "MonthDay "
       ]
      },
      {
       "output_type": "stream",
       "stream": "stdout",
       "text": [
        "ThroughDay "
       ]
      },
      {
       "output_type": "stream",
       "stream": "stdout",
       "text": [
        "ThroughMonth "
       ]
      },
      {
       "output_type": "stream",
       "stream": "stdout",
       "text": [
        "ThroughWeek "
       ]
      },
      {
       "output_type": "stream",
       "stream": "stdout",
       "text": [
        "WeekDay "
       ]
      },
      {
       "output_type": "stream",
       "stream": "stdout",
       "text": [
        "Year "
       ]
      },
      {
       "output_type": "stream",
       "stream": "stdout",
       "text": [
        "YearDay "
       ]
      },
      {
       "output_type": "stream",
       "stream": "stdout",
       "text": [
        "lng \n",
        "|_end iteration_| start score: 17.113179057, end score: 17.0227654035, name feature: lng\n",
        "Coef between pasted baseline and current 1.00021759202"
       ]
      },
      {
       "output_type": "stream",
       "stream": "stdout",
       "text": [
        "\n",
        "BranchNumber"
       ]
      },
      {
       "output_type": "stream",
       "stream": "stdout",
       "text": [
        " CityID "
       ]
      },
      {
       "output_type": "stream",
       "stream": "stdout",
       "text": [
        "MeanForMonth "
       ]
      },
      {
       "output_type": "stream",
       "stream": "stdout",
       "text": [
        "MeanForMonthByPoints "
       ]
      },
      {
       "output_type": "stream",
       "stream": "stdout",
       "text": [
        "MeanForThroughMonth "
       ]
      },
      {
       "output_type": "stream",
       "stream": "stdout",
       "text": [
        "MeanForThroughMonthByPoints "
       ]
      },
      {
       "output_type": "stream",
       "stream": "stdout",
       "text": [
        "MeanForThroughWeek "
       ]
      },
      {
       "output_type": "stream",
       "stream": "stdout",
       "text": [
        "MeanForWeekDay "
       ]
      },
      {
       "output_type": "stream",
       "stream": "stdout",
       "text": [
        "MeanForWeekDayByPoints "
       ]
      },
      {
       "output_type": "stream",
       "stream": "stdout",
       "text": [
        "MeanForYear "
       ]
      },
      {
       "output_type": "stream",
       "stream": "stdout",
       "text": [
        "MeanForYearByPoints "
       ]
      },
      {
       "output_type": "stream",
       "stream": "stdout",
       "text": [
        "MeanForYearDay "
       ]
      },
      {
       "output_type": "stream",
       "stream": "stdout",
       "text": [
        "Month "
       ]
      },
      {
       "output_type": "stream",
       "stream": "stdout",
       "text": [
        "MonthDay "
       ]
      },
      {
       "output_type": "stream",
       "stream": "stdout",
       "text": [
        "ThroughDay "
       ]
      },
      {
       "output_type": "stream",
       "stream": "stdout",
       "text": [
        "ThroughMonth "
       ]
      },
      {
       "output_type": "stream",
       "stream": "stdout",
       "text": [
        "ThroughWeek "
       ]
      },
      {
       "output_type": "stream",
       "stream": "stdout",
       "text": [
        "WeekDay "
       ]
      },
      {
       "output_type": "stream",
       "stream": "stdout",
       "text": [
        "Year "
       ]
      },
      {
       "output_type": "stream",
       "stream": "stdout",
       "text": [
        "YearDay \n",
        "|_end iteration_| start score: 17.1094561759, end score: 16.8856667631, name feature: BranchNumber\n",
        "Coef between pasted baseline and current 0.998181760803"
       ]
      },
      {
       "output_type": "stream",
       "stream": "stdout",
       "text": [
        "\n",
        "CityID"
       ]
      },
      {
       "output_type": "stream",
       "stream": "stdout",
       "text": [
        " MeanForMonth "
       ]
      },
      {
       "output_type": "stream",
       "stream": "stdout",
       "text": [
        "MeanForMonthByPoints "
       ]
      },
      {
       "output_type": "stream",
       "stream": "stdout",
       "text": [
        "MeanForThroughMonth "
       ]
      },
      {
       "output_type": "stream",
       "stream": "stdout",
       "text": [
        "MeanForThroughMonthByPoints "
       ]
      },
      {
       "output_type": "stream",
       "stream": "stdout",
       "text": [
        "MeanForThroughWeek "
       ]
      },
      {
       "output_type": "stream",
       "stream": "stdout",
       "text": [
        "MeanForWeekDay "
       ]
      },
      {
       "output_type": "stream",
       "stream": "stdout",
       "text": [
        "MeanForWeekDayByPoints "
       ]
      },
      {
       "output_type": "stream",
       "stream": "stdout",
       "text": [
        "MeanForYear "
       ]
      },
      {
       "output_type": "stream",
       "stream": "stdout",
       "text": [
        "MeanForYearByPoints "
       ]
      },
      {
       "output_type": "stream",
       "stream": "stdout",
       "text": [
        "MeanForYearDay "
       ]
      },
      {
       "output_type": "stream",
       "stream": "stdout",
       "text": [
        "Month "
       ]
      },
      {
       "output_type": "stream",
       "stream": "stdout",
       "text": [
        "MonthDay "
       ]
      },
      {
       "output_type": "stream",
       "stream": "stdout",
       "text": [
        "ThroughDay "
       ]
      },
      {
       "output_type": "stream",
       "stream": "stdout",
       "text": [
        "ThroughMonth "
       ]
      },
      {
       "output_type": "stream",
       "stream": "stdout",
       "text": [
        "ThroughWeek "
       ]
      },
      {
       "output_type": "stream",
       "stream": "stdout",
       "text": [
        "WeekDay "
       ]
      },
      {
       "output_type": "stream",
       "stream": "stdout",
       "text": [
        "Year "
       ]
      },
      {
       "output_type": "stream",
       "stream": "stdout",
       "text": [
        "YearDay \n",
        "|_end iteration_| start score: 17.1406219265, end score: 17.0390078102, name feature: ThroughMonth\n",
        "Coef between pasted baseline and current 0.995957016704"
       ]
      },
      {
       "output_type": "stream",
       "stream": "stdout",
       "text": [
        "\n",
        "CityID"
       ]
      },
      {
       "output_type": "stream",
       "stream": "stdout",
       "text": [
        " MeanForMonth "
       ]
      },
      {
       "output_type": "stream",
       "stream": "stdout",
       "text": [
        "MeanForMonthByPoints "
       ]
      },
      {
       "output_type": "stream",
       "stream": "stdout",
       "text": [
        "MeanForThroughMonth "
       ]
      },
      {
       "output_type": "stream",
       "stream": "stdout",
       "text": [
        "MeanForThroughMonthByPoints "
       ]
      },
      {
       "output_type": "stream",
       "stream": "stdout",
       "text": [
        "MeanForThroughWeek "
       ]
      },
      {
       "output_type": "stream",
       "stream": "stdout",
       "text": [
        "MeanForWeekDay "
       ]
      },
      {
       "output_type": "stream",
       "stream": "stdout",
       "text": [
        "MeanForWeekDayByPoints "
       ]
      },
      {
       "output_type": "stream",
       "stream": "stdout",
       "text": [
        "MeanForYear "
       ]
      },
      {
       "output_type": "stream",
       "stream": "stdout",
       "text": [
        "MeanForYearByPoints "
       ]
      },
      {
       "output_type": "stream",
       "stream": "stdout",
       "text": [
        "MeanForYearDay "
       ]
      },
      {
       "output_type": "stream",
       "stream": "stdout",
       "text": [
        "Month "
       ]
      },
      {
       "output_type": "stream",
       "stream": "stdout",
       "text": [
        "MonthDay "
       ]
      },
      {
       "output_type": "stream",
       "stream": "stdout",
       "text": [
        "ThroughDay "
       ]
      },
      {
       "output_type": "stream",
       "stream": "stdout",
       "text": [
        "ThroughWeek "
       ]
      },
      {
       "output_type": "stream",
       "stream": "stdout",
       "text": [
        "WeekDay "
       ]
      },
      {
       "output_type": "stream",
       "stream": "stdout",
       "text": [
        "Year "
       ]
      },
      {
       "output_type": "stream",
       "stream": "stdout",
       "text": [
        "YearDay \n",
        "|_end iteration_| start score: 17.2102024877, end score: 16.8780445473, name feature: ThroughWeek\n",
        "Coef between pasted baseline and current 1.00324163375"
       ]
      },
      {
       "output_type": "stream",
       "stream": "stdout",
       "text": [
        "\n",
        "CityID"
       ]
      },
      {
       "output_type": "stream",
       "stream": "stdout",
       "text": [
        " MeanForMonth "
       ]
      },
      {
       "output_type": "stream",
       "stream": "stdout",
       "text": [
        "MeanForMonthByPoints "
       ]
      },
      {
       "output_type": "stream",
       "stream": "stdout",
       "text": [
        "MeanForThroughMonth "
       ]
      },
      {
       "output_type": "stream",
       "stream": "stdout",
       "text": [
        "MeanForThroughMonthByPoints "
       ]
      },
      {
       "output_type": "stream",
       "stream": "stdout",
       "text": [
        "MeanForThroughWeek "
       ]
      },
      {
       "output_type": "stream",
       "stream": "stdout",
       "text": [
        "MeanForWeekDay "
       ]
      },
      {
       "output_type": "stream",
       "stream": "stdout",
       "text": [
        "MeanForWeekDayByPoints "
       ]
      },
      {
       "output_type": "stream",
       "stream": "stdout",
       "text": [
        "MeanForYear "
       ]
      },
      {
       "output_type": "stream",
       "stream": "stdout",
       "text": [
        "MeanForYearByPoints "
       ]
      },
      {
       "output_type": "stream",
       "stream": "stdout",
       "text": [
        "MeanForYearDay "
       ]
      },
      {
       "output_type": "stream",
       "stream": "stdout",
       "text": [
        "Month "
       ]
      },
      {
       "output_type": "stream",
       "stream": "stdout",
       "text": [
        "MonthDay "
       ]
      },
      {
       "output_type": "stream",
       "stream": "stdout",
       "text": [
        "ThroughDay "
       ]
      },
      {
       "output_type": "stream",
       "stream": "stdout",
       "text": [
        "WeekDay "
       ]
      },
      {
       "output_type": "stream",
       "stream": "stdout",
       "text": [
        "Year "
       ]
      },
      {
       "output_type": "stream",
       "stream": "stdout",
       "text": [
        "YearDay \n",
        "|_end iteration_| start score: 17.1545935782, end score: 17.0006942436, name feature: MeanForYear\n",
        "Coef between pasted baseline and current 0.997945663403"
       ]
      },
      {
       "output_type": "stream",
       "stream": "stdout",
       "text": [
        "\n",
        "CityID"
       ]
      },
      {
       "output_type": "stream",
       "stream": "stdout",
       "text": [
        " MeanForMonth "
       ]
      },
      {
       "output_type": "stream",
       "stream": "stdout",
       "text": [
        "MeanForMonthByPoints "
       ]
      },
      {
       "output_type": "stream",
       "stream": "stdout",
       "text": [
        "MeanForThroughMonth "
       ]
      },
      {
       "output_type": "stream",
       "stream": "stdout",
       "text": [
        "MeanForThroughMonthByPoints "
       ]
      },
      {
       "output_type": "stream",
       "stream": "stdout",
       "text": [
        "MeanForThroughWeek "
       ]
      },
      {
       "output_type": "stream",
       "stream": "stdout",
       "text": [
        "MeanForWeekDay "
       ]
      },
      {
       "output_type": "stream",
       "stream": "stdout",
       "text": [
        "MeanForWeekDayByPoints "
       ]
      },
      {
       "output_type": "stream",
       "stream": "stdout",
       "text": [
        "MeanForYearByPoints "
       ]
      },
      {
       "output_type": "stream",
       "stream": "stdout",
       "text": [
        "MeanForYearDay "
       ]
      },
      {
       "output_type": "stream",
       "stream": "stdout",
       "text": [
        "Month "
       ]
      },
      {
       "output_type": "stream",
       "stream": "stdout",
       "text": [
        "MonthDay "
       ]
      },
      {
       "output_type": "stream",
       "stream": "stdout",
       "text": [
        "ThroughDay "
       ]
      },
      {
       "output_type": "stream",
       "stream": "stdout",
       "text": [
        "WeekDay "
       ]
      },
      {
       "output_type": "stream",
       "stream": "stdout",
       "text": [
        "Year "
       ]
      },
      {
       "output_type": "stream",
       "stream": "stdout",
       "text": [
        "YearDay \n",
        "|_end iteration_| start score: 17.1899074342, end score: 17.0085334105, name feature: Month\n",
        "Coef between pasted baseline and current 1.00613751314"
       ]
      },
      {
       "output_type": "stream",
       "stream": "stdout",
       "text": [
        "\n",
        "CityID"
       ]
      },
      {
       "output_type": "stream",
       "stream": "stdout",
       "text": [
        " MeanForMonth "
       ]
      },
      {
       "output_type": "stream",
       "stream": "stdout",
       "text": [
        "MeanForMonthByPoints "
       ]
      },
      {
       "output_type": "stream",
       "stream": "stdout",
       "text": [
        "MeanForThroughMonth "
       ]
      },
      {
       "output_type": "stream",
       "stream": "stdout",
       "text": [
        "MeanForThroughMonthByPoints "
       ]
      },
      {
       "output_type": "stream",
       "stream": "stdout",
       "text": [
        "MeanForThroughWeek "
       ]
      },
      {
       "output_type": "stream",
       "stream": "stdout",
       "text": [
        "MeanForWeekDay "
       ]
      },
      {
       "output_type": "stream",
       "stream": "stdout",
       "text": [
        "MeanForWeekDayByPoints "
       ]
      },
      {
       "output_type": "stream",
       "stream": "stdout",
       "text": [
        "MeanForYearByPoints "
       ]
      },
      {
       "output_type": "stream",
       "stream": "stdout",
       "text": [
        "MeanForYearDay "
       ]
      },
      {
       "output_type": "stream",
       "stream": "stdout",
       "text": [
        "MonthDay "
       ]
      },
      {
       "output_type": "stream",
       "stream": "stdout",
       "text": [
        "ThroughDay "
       ]
      },
      {
       "output_type": "stream",
       "stream": "stdout",
       "text": [
        "WeekDay "
       ]
      },
      {
       "output_type": "stream",
       "stream": "stdout",
       "text": [
        "Year "
       ]
      },
      {
       "output_type": "stream",
       "stream": "stdout",
       "text": [
        "YearDay \n",
        "|_end iteration_| start score: 17.0850477292, end score: 17.0850477292, name feature: None\n"
       ]
      }
     ],
     "prompt_number": 23
    },
    {
     "cell_type": "code",
     "collapsed": false,
     "input": [
      "print(fitOnTrainCheckOnVal(dataTrain[column], dataValidation[column], RandomForestRegressor(100)))"
     ],
     "language": "python",
     "metadata": {},
     "outputs": [
      {
       "output_type": "stream",
       "stream": "stdout",
       "text": [
        "16.3058562337\n"
       ]
      }
     ],
     "prompt_number": 24
    },
    {
     "cell_type": "code",
     "collapsed": false,
     "input": [
      "print(fitOnTrainCheckOnVal(dataTrain[column], dataValidation[column], RandomForestRegressor(900)))"
     ],
     "language": "python",
     "metadata": {},
     "outputs": [
      {
       "output_type": "stream",
       "stream": "stdout",
       "text": [
        "16.375280108\n"
       ]
      }
     ],
     "prompt_number": 25
    },
    {
     "cell_type": "code",
     "collapsed": false,
     "input": [],
     "language": "python",
     "metadata": {},
     "outputs": [],
     "prompt_number": 25
    },
    {
     "cell_type": "code",
     "collapsed": false,
     "input": [],
     "language": "python",
     "metadata": {},
     "outputs": [],
     "prompt_number": 25
    },
    {
     "cell_type": "code",
     "collapsed": false,
     "input": [],
     "language": "python",
     "metadata": {},
     "outputs": []
    },
    {
     "cell_type": "code",
     "collapsed": false,
     "input": [],
     "language": "python",
     "metadata": {},
     "outputs": []
    },
    {
     "cell_type": "code",
     "collapsed": false,
     "input": [],
     "language": "python",
     "metadata": {},
     "outputs": []
    },
    {
     "cell_type": "code",
     "collapsed": false,
     "input": [],
     "language": "python",
     "metadata": {},
     "outputs": []
    },
    {
     "cell_type": "code",
     "collapsed": false,
     "input": [],
     "language": "python",
     "metadata": {},
     "outputs": []
    }
   ],
   "metadata": {}
  }
 ]
}