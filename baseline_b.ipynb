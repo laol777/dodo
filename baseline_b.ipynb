{
 "metadata": {
  "kernelspec": {
   "display_name": "Python 2",
   "language": "python",
   "name": "python2"
  },
  "language_info": {
   "codemirror_mode": {
    "name": "ipython",
    "version": 2
   },
   "file_extension": ".py",
   "mimetype": "text/x-python",
   "name": "python",
   "nbconvert_exporter": "python",
   "pygments_lexer": "ipython2",
   "version": "2.7.12"
  },
  "name": "",
  "signature": "sha256:24a7709e5fcbd524e1b3e0c6ac19ac0704e50b8d0c1145aeefcc483e7b1c0db1"
 },
 "nbformat": 3,
 "nbformat_minor": 0,
 "worksheets": [
  {
   "cells": [
    {
     "cell_type": "heading",
     "level": 1,
     "metadata": {},
     "source": [
      "\u0411\u0430\u0437\u043e\u0432\u043e\u0435 \u0440\u0435\u0448\u0435\u043d\u0438\u0435 \u0434\u043b\u044f \u0437\u0430\u0434\u0430\u0447\u0438 B"
     ]
    },
    {
     "cell_type": "code",
     "collapsed": true,
     "input": [
      "import pandas as pd\n",
      "import numpy as np\n",
      "\n",
      "from sklearn.ensemble import GradientBoostingRegressor, RandomForestRegressor\n",
      "from sklearn.linear_model import LinearRegression"
     ],
     "language": "python",
     "metadata": {},
     "outputs": [],
     "prompt_number": 1
    },
    {
     "cell_type": "markdown",
     "metadata": {},
     "source": [
      "\u0427\u0438\u0442\u0430\u0435\u043c \u0432\u0445\u043e\u0434\u043d\u044b\u0435 \u0444\u0430\u0439\u043b\u044b \u0441 \u0434\u0430\u043d\u043d\u044b\u043c\u0438"
     ]
    },
    {
     "cell_type": "code",
     "collapsed": false,
     "input": [
      "transactions = pd.read_csv('data/transactions.csv')"
     ],
     "language": "python",
     "metadata": {},
     "outputs": [],
     "prompt_number": 3
    },
    {
     "cell_type": "markdown",
     "metadata": {},
     "source": [
      "\u0411\u0435\u0440\u0451\u043c \u0440\u0430\u0441\u0445\u043e\u0434\u043d\u044b\u0435 \u0442\u0440\u0430\u043d\u0437\u0430\u043a\u0446\u0438\u0438 \u0438 \u0444\u043e\u0440\u043c\u0438\u0440\u0443\u0435\u043c \u0442\u0435\u0441\u0442\u043e\u0432\u0443\u044e \u0432\u044b\u0431\u043e\u0440\u043a\u0443"
     ]
    },
    {
     "cell_type": "code",
     "collapsed": true,
     "input": [
      "train_transactions = transactions[transactions.amount < 0].copy()\n",
      "train_transactions['day'] = train_transactions.tr_datetime.apply(lambda dt: dt.split()[0]).astype(int)"
     ],
     "language": "python",
     "metadata": {},
     "outputs": [],
     "prompt_number": 4
    },
    {
     "cell_type": "code",
     "collapsed": true,
     "input": [
      "test_transactions = pd.DataFrame(columns=train_transactions.mcc_code.unique(), \n",
      "                                 index=np.arange(1, 31) + train_transactions.day.max())\n",
      "test_transactions = test_transactions.unstack().reset_index().dropna(axis=1)\n",
      "test_transactions.columns = ['mcc_code', 'day']"
     ],
     "language": "python",
     "metadata": {},
     "outputs": [],
     "prompt_number": 5
    },
    {
     "cell_type": "code",
     "collapsed": true,
     "input": [
      "train_grid = pd.DataFrame(columns=train_transactions.mcc_code.unique(), \n",
      "                          index=train_transactions.day.unique())\n",
      "train_grid = train_grid.unstack().reset_index().dropna(axis=1)\n",
      "train_grid.columns = ['mcc_code', 'day']"
     ],
     "language": "python",
     "metadata": {},
     "outputs": [],
     "prompt_number": 6
    },
    {
     "cell_type": "markdown",
     "metadata": {},
     "source": [
      "\u0414\u043e\u0431\u0430\u0432\u043b\u044f\u0435\u043c \u043f\u0440\u0438\u0437\u043d\u0430\u043a\u0438, \u043e\u0442\u043d\u043e\u0441\u044f\u0449\u0438\u0435\u0441\u044f \u043a \u0434\u0430\u0442\u0435."
     ]
    },
    {
     "cell_type": "code",
     "collapsed": true,
     "input": [
      "for tr_table in [train_transactions, test_transactions, train_grid]:\n",
      "    tr_table['week_num'] = tr_table['day'] // 7\n",
      "    tr_table['week_day'] = tr_table['day'] % 7\n",
      "    tr_table['month_num'] = tr_table['day'] // 30\n",
      "    tr_table['month_day'] = tr_table['day'] % 30"
     ],
     "language": "python",
     "metadata": {},
     "outputs": [],
     "prompt_number": 7
    },
    {
     "cell_type": "code",
     "collapsed": true,
     "input": [
      "train_transactions = \\\n",
      "    pd.merge(train_grid,\n",
      "             train_transactions.groupby(['day', 'week_num', 'week_day', 'month_num', 'month_day', 'mcc_code'])[['amount']]\\\n",
      "                 .sum().reset_index(),\n",
      "             how='left').fillna(0)"
     ],
     "language": "python",
     "metadata": {},
     "outputs": [],
     "prompt_number": 8
    },
    {
     "cell_type": "markdown",
     "metadata": {},
     "source": [
      "\u0414\u043b\u044f \u043a\u0430\u0436\u0434\u043e\u0433\u043e mcc_code \u043f\u043e\u043b\u0443\u0447\u0438\u043c \u0434\u0430\u043d\u043d\u044b\u0435 \u043e \u0441\u0443\u043c\u043c\u0435 \u0442\u0440\u0430\u043d\u0437\u0430\u043a\u0438\u0439 \u0437\u0430 \u043a\u0430\u0436\u0434\u044b\u0439 \u0434\u0435\u043d\u044c. \u0418\u0441\u043f\u043e\u043b\u044c\u0437\u0443\u0435\u043c \u0434\u043b\u044f \u043e\u0431\u0443\u0447\u0435\u043d\u0438\u044f \u0442\u043e\u043b\u044c\u043a\u043e \u0432\u0440\u0435\u043c\u0435\u043d\u043d\u044b\u0435 \u043f\u0440\u0438\u0437\u043d\u0430\u043a\u0438."
     ]
    },
    {
     "cell_type": "code",
     "collapsed": true,
     "input": [
      "for day_shift in [-1, 0, 1]:\n",
      "    for month_shift in train_transactions.month_num.unique()[1:]:\n",
      "        train_shift = train_transactions.copy()\n",
      "        train_shift['month_num'] += month_shift\n",
      "        train_shift['month_day'] += day_shift\n",
      "        train_shift['amount_day_{}_{}'.format(day_shift, month_shift)] = np.log(-train_shift['amount'] + 1)\n",
      "        train_shift = train_shift[['month_num', 'month_day', 'mcc_code', 'amount_day_{}_{}'.format(day_shift, month_shift)]]\n",
      "\n",
      "        train_transactions = pd.merge(train_transactions, train_shift, \n",
      "                                      on=['month_num', 'month_day', 'mcc_code'], how='left').fillna(0)\n",
      "        test_transactions = pd.merge(test_transactions, train_shift, \n",
      "                                     on=['month_num', 'month_day', 'mcc_code'], how='left').fillna(0)"
     ],
     "language": "python",
     "metadata": {},
     "outputs": [],
     "prompt_number": 9
    },
    {
     "cell_type": "markdown",
     "metadata": {},
     "source": [
      "\u041e\u0431\u0443\u0447\u0430\u0435\u043c\u0441\u044f \u043d\u0430 \u0432\u0441\u0435\u0445 \u0434\u0430\u043d\u043d\u044b\u0445"
     ]
    },
    {
     "cell_type": "code",
     "collapsed": false,
     "input": [
      "shift = 500\n",
      "train = pd.get_dummies(train_transactions, columns=['mcc_code'])\n",
      "test = pd.get_dummies(test_transactions, columns=['mcc_code'])\n",
      "c = train.columns.difference(['amount'])\n",
      "\n",
      "clf = GradientBoostingRegressor()\n",
      "clf.fit(train[c], np.log(-train['amount'] + shift))"
     ],
     "language": "python",
     "metadata": {},
     "outputs": [
      {
       "metadata": {},
       "output_type": "pyout",
       "prompt_number": 10,
       "text": [
        "GradientBoostingRegressor(alpha=0.9, criterion='friedman_mse', init=None,\n",
        "             learning_rate=0.1, loss='ls', max_depth=3, max_features=None,\n",
        "             max_leaf_nodes=None, min_impurity_split=1e-07,\n",
        "             min_samples_leaf=1, min_samples_split=2,\n",
        "             min_weight_fraction_leaf=0.0, n_estimators=100,\n",
        "             presort='auto', random_state=None, subsample=1.0, verbose=0,\n",
        "             warm_start=False)"
       ]
      }
     ],
     "prompt_number": 10
    },
    {
     "cell_type": "code",
     "collapsed": false,
     "input": [
      "train.to_csv(\"tt.csv\")"
     ],
     "language": "python",
     "metadata": {},
     "outputs": [],
     "prompt_number": 15
    },
    {
     "cell_type": "code",
     "collapsed": true,
     "input": [],
     "language": "python",
     "metadata": {},
     "outputs": [],
     "prompt_number": 20
    },
    {
     "cell_type": "markdown",
     "metadata": {},
     "source": [
      "\u041f\u0440\u0435\u0434\u0441\u043a\u0430\u0437\u044b\u0432\u0430\u0435\u043c \u043e\u0431\u044a\u0451\u043c \u0442\u0440\u0430\u0442 \u0434\u043b\u044f \u0442\u0435\u0441\u0442\u043e\u0432\u044b\u0445 \u0434\u0430\u043d\u043d\u044b\u0445 \u0438 \u0441\u043e\u0437\u0434\u0430\u0451\u043c \u0444\u0430\u0439\u043b \u0441 \u043e\u0442\u0432\u0435\u0442\u043e\u043c"
     ]
    },
    {
     "cell_type": "code",
     "collapsed": false,
     "input": [
      "test_transactions['volume'] = np.e ** clf.predict(test[c]) - shift\n",
      "test_transactions[['mcc_code', 'day', 'volume']].to_csv('baseline.csv', index=False)"
     ],
     "language": "python",
     "metadata": {},
     "outputs": [],
     "prompt_number": 12
    },
    {
     "cell_type": "code",
     "collapsed": false,
     "input": [],
     "language": "python",
     "metadata": {},
     "outputs": [],
     "prompt_number": null
    },
    {
     "cell_type": "code",
     "collapsed": true,
     "input": [],
     "language": "python",
     "metadata": {},
     "outputs": [],
     "prompt_number": null
    }
   ],
   "metadata": {}
  }
 ]
}