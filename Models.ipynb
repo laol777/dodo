{
 "metadata": {
  "anaconda-cloud": {},
  "kernelspec": {
   "display_name": "Python [conda root]",
   "language": "python",
   "name": "conda-root-py"
  },
  "language_info": {
   "codemirror_mode": {
    "name": "ipython",
    "version": 3
   },
   "file_extension": ".py",
   "mimetype": "text/x-python",
   "name": "python",
   "nbconvert_exporter": "python",
   "pygments_lexer": "ipython3",
   "version": "3.5.2"
  },
  "name": ""
 },
 "nbformat": 3,
 "nbformat_minor": 0,
 "worksheets": [
  {
   "cells": [
    {
     "cell_type": "code",
     "collapsed": true,
     "input": [
      "import pandas as pd\n",
      "import numpy as np\n",
      "import sklearn\n",
      "from sklearn.linear_model import LinearRegression\n",
      "from sklearn.ensemble import RandomForestRegressor\n",
      "from sklearn.cross_validation import KFold\n",
      "from sklearn.metrics import mean_absolute_error as mae\n",
      "from sklearn.ensemble import GradientBoostingRegressor\n",
      "from sklearn.linear_model import Ridge"
     ],
     "language": "python",
     "metadata": {},
     "outputs": [],
     "prompt_number": 217
    },
    {
     "cell_type": "code",
     "collapsed": true,
     "input": [
      "def trainModelTestTrainSplit(data, model):\n",
      "    c = data.columns.difference(['Count'])\n",
      "    X_train, X_test, y_train, y_test = sklearn.cross_validation.train_test_split(data[c], data['Count'], test_size=0.3)\n",
      "    model.verbose=1\n",
      "    model.fit(X_train.as_matrix(), y_train.as_matrix())\n",
      "    pred = model.predict(X_test)\n",
      "    print (\"result \", mae(pred, y_test))\n",
      "    return model"
     ],
     "language": "python",
     "metadata": {},
     "outputs": [],
     "prompt_number": 2
    },
    {
     "cell_type": "code",
     "collapsed": true,
     "input": [
      "def trainModelKfold(data, model, countFold = 5):\n",
      "    meanMae = 0\n",
      "    \n",
      "    c = data.columns.difference(['Count'])\n",
      "    kf = KFold(len(data), n_folds=countFold, shuffle=True)\n",
      "    \n",
      "    for train_index, test_index in kf:\n",
      "        X_train, X_test = data[c].iloc[train_index], data[c].iloc[test_index]\n",
      "        y_train, y_test = data['Count'].iloc[train_index], data['Count'].iloc[test_index]\n",
      "        model.fit(X_train.as_matrix(), y_train.as_matrix())\n",
      "        pred = model.predict(X_test)\n",
      "        print (mae(pred, y_test))\n",
      "        meanMae += mae(pred, y_test)\n",
      "    meanMae /= countFold\n",
      "    print (\"result \", meanMae)\n",
      "    return model"
     ],
     "language": "python",
     "metadata": {},
     "outputs": [],
     "prompt_number": 3
    },
    {
     "cell_type": "code",
     "collapsed": false,
     "input": [
      "features = pd.read_csv('data_transform/all.csv')\n",
      "features.head()"
     ],
     "language": "python",
     "metadata": {},
     "outputs": [
      {
       "html": [
        "<div style=\"max-width:1500px;overflow:auto;\">\n",
        "<table border=\"1\" class=\"dataframe\">\n",
        "  <thead>\n",
        "    <tr style=\"text-align: right;\">\n",
        "      <th></th>\n",
        "      <th>Count</th>\n",
        "      <th>IsTest</th>\n",
        "      <th>IsTrain</th>\n",
        "      <th>IsValidation</th>\n",
        "      <th>Date</th>\n",
        "      <th>Year</th>\n",
        "      <th>Month</th>\n",
        "      <th>MonthDay</th>\n",
        "      <th>WeekDay</th>\n",
        "      <th>Point</th>\n",
        "      <th>...</th>\n",
        "      <th>MeanForYear</th>\n",
        "      <th>MeanForYearDay</th>\n",
        "      <th>MeanForMonthByPoints</th>\n",
        "      <th>MeanForMonthDayByPoints</th>\n",
        "      <th>MeanForThroughDayByPoints</th>\n",
        "      <th>MeanForThroughMonthByPoints</th>\n",
        "      <th>MeanForThroughWeekByPoints</th>\n",
        "      <th>MeanForWeekDayByPoints</th>\n",
        "      <th>MeanForYearByPoints</th>\n",
        "      <th>MeanForYearDayByPoints</th>\n",
        "    </tr>\n",
        "  </thead>\n",
        "  <tbody>\n",
        "    <tr>\n",
        "      <th>0</th>\n",
        "      <td>8</td>\n",
        "      <td>0</td>\n",
        "      <td>1</td>\n",
        "      <td>0</td>\n",
        "      <td>2011-10-06</td>\n",
        "      <td>2011</td>\n",
        "      <td>10</td>\n",
        "      <td>6</td>\n",
        "      <td>3</td>\n",
        "      <td>\u0421\u044b\u043a\u0442\u044b\u0432\u043a\u0430\u0440-1</td>\n",
        "      <td>...</td>\n",
        "      <td>83.833333</td>\n",
        "      <td>95.384000</td>\n",
        "      <td>260.461538</td>\n",
        "      <td>228.936170</td>\n",
        "      <td>8</td>\n",
        "      <td>32.333333</td>\n",
        "      <td>32.333333</td>\n",
        "      <td>213.255319</td>\n",
        "      <td>83.833333</td>\n",
        "      <td>228.50</td>\n",
        "    </tr>\n",
        "    <tr>\n",
        "      <th>1</th>\n",
        "      <td>88</td>\n",
        "      <td>0</td>\n",
        "      <td>1</td>\n",
        "      <td>0</td>\n",
        "      <td>2011-10-07</td>\n",
        "      <td>2011</td>\n",
        "      <td>10</td>\n",
        "      <td>7</td>\n",
        "      <td>4</td>\n",
        "      <td>\u0421\u044b\u043a\u0442\u044b\u0432\u043a\u0430\u0440-1</td>\n",
        "      <td>...</td>\n",
        "      <td>83.833333</td>\n",
        "      <td>91.039474</td>\n",
        "      <td>260.461538</td>\n",
        "      <td>248.782609</td>\n",
        "      <td>88</td>\n",
        "      <td>32.333333</td>\n",
        "      <td>32.333333</td>\n",
        "      <td>290.928205</td>\n",
        "      <td>83.833333</td>\n",
        "      <td>185.25</td>\n",
        "    </tr>\n",
        "    <tr>\n",
        "      <th>2</th>\n",
        "      <td>1</td>\n",
        "      <td>0</td>\n",
        "      <td>1</td>\n",
        "      <td>0</td>\n",
        "      <td>2011-10-09</td>\n",
        "      <td>2011</td>\n",
        "      <td>10</td>\n",
        "      <td>9</td>\n",
        "      <td>6</td>\n",
        "      <td>\u0421\u044b\u043a\u0442\u044b\u0432\u043a\u0430\u0440-1</td>\n",
        "      <td>...</td>\n",
        "      <td>83.833333</td>\n",
        "      <td>141.851429</td>\n",
        "      <td>260.461538</td>\n",
        "      <td>244.065217</td>\n",
        "      <td>1</td>\n",
        "      <td>32.333333</td>\n",
        "      <td>32.333333</td>\n",
        "      <td>266.098765</td>\n",
        "      <td>83.833333</td>\n",
        "      <td>223.80</td>\n",
        "    </tr>\n",
        "    <tr>\n",
        "      <th>3</th>\n",
        "      <td>1</td>\n",
        "      <td>0</td>\n",
        "      <td>1</td>\n",
        "      <td>0</td>\n",
        "      <td>2011-11-15</td>\n",
        "      <td>2011</td>\n",
        "      <td>11</td>\n",
        "      <td>15</td>\n",
        "      <td>1</td>\n",
        "      <td>\u0421\u044b\u043a\u0442\u044b\u0432\u043a\u0430\u0440-1</td>\n",
        "      <td>...</td>\n",
        "      <td>83.833333</td>\n",
        "      <td>128.240000</td>\n",
        "      <td>254.107143</td>\n",
        "      <td>236.734694</td>\n",
        "      <td>1</td>\n",
        "      <td>1.000000</td>\n",
        "      <td>1.000000</td>\n",
        "      <td>192.367568</td>\n",
        "      <td>83.833333</td>\n",
        "      <td>192.00</td>\n",
        "    </tr>\n",
        "    <tr>\n",
        "      <th>4</th>\n",
        "      <td>2</td>\n",
        "      <td>0</td>\n",
        "      <td>0</td>\n",
        "      <td>1</td>\n",
        "      <td>2011-12-08</td>\n",
        "      <td>2011</td>\n",
        "      <td>12</td>\n",
        "      <td>8</td>\n",
        "      <td>3</td>\n",
        "      <td>\u0421\u044b\u043a\u0442\u044b\u0432\u043a\u0430\u0440-1</td>\n",
        "      <td>...</td>\n",
        "      <td>83.833333</td>\n",
        "      <td>76.725275</td>\n",
        "      <td>236.561224</td>\n",
        "      <td>243.319149</td>\n",
        "      <td>NaN</td>\n",
        "      <td>100.785714</td>\n",
        "      <td>26.500000</td>\n",
        "      <td>213.255319</td>\n",
        "      <td>83.833333</td>\n",
        "      <td>227.75</td>\n",
        "    </tr>\n",
        "  </tbody>\n",
        "</table>\n",
        "<p>5 rows \u00d7 33 columns</p>\n",
        "</div>"
       ],
       "metadata": {},
       "output_type": "pyout",
       "prompt_number": 4,
       "text": [
        "   Count  IsTest  IsTrain  IsValidation        Date  Year  Month  MonthDay  \\\n",
        "0      8       0        1             0  2011-10-06  2011     10         6   \n",
        "1     88       0        1             0  2011-10-07  2011     10         7   \n",
        "2      1       0        1             0  2011-10-09  2011     10         9   \n",
        "3      1       0        1             0  2011-11-15  2011     11        15   \n",
        "4      2       0        0             1  2011-12-08  2011     12         8   \n",
        "\n",
        "   WeekDay        Point           ...            MeanForYear  MeanForYearDay  \\\n",
        "0        3  \u0421\u044b\u043a\u0442\u044b\u0432\u043a\u0430\u0440-1           ...              83.833333       95.384000   \n",
        "1        4  \u0421\u044b\u043a\u0442\u044b\u0432\u043a\u0430\u0440-1           ...              83.833333       91.039474   \n",
        "2        6  \u0421\u044b\u043a\u0442\u044b\u0432\u043a\u0430\u0440-1           ...              83.833333      141.851429   \n",
        "3        1  \u0421\u044b\u043a\u0442\u044b\u0432\u043a\u0430\u0440-1           ...              83.833333      128.240000   \n",
        "4        3  \u0421\u044b\u043a\u0442\u044b\u0432\u043a\u0430\u0440-1           ...              83.833333       76.725275   \n",
        "\n",
        "   MeanForMonthByPoints  MeanForMonthDayByPoints MeanForThroughDayByPoints  \\\n",
        "0            260.461538               228.936170                         8   \n",
        "1            260.461538               248.782609                        88   \n",
        "2            260.461538               244.065217                         1   \n",
        "3            254.107143               236.734694                         1   \n",
        "4            236.561224               243.319149                       NaN   \n",
        "\n",
        "   MeanForThroughMonthByPoints  MeanForThroughWeekByPoints  \\\n",
        "0                    32.333333                   32.333333   \n",
        "1                    32.333333                   32.333333   \n",
        "2                    32.333333                   32.333333   \n",
        "3                     1.000000                    1.000000   \n",
        "4                   100.785714                   26.500000   \n",
        "\n",
        "   MeanForWeekDayByPoints  MeanForYearByPoints  MeanForYearDayByPoints  \n",
        "0              213.255319            83.833333                  228.50  \n",
        "1              290.928205            83.833333                  185.25  \n",
        "2              266.098765            83.833333                  223.80  \n",
        "3              192.367568            83.833333                  192.00  \n",
        "4              213.255319            83.833333                  227.75  \n",
        "\n",
        "[5 rows x 33 columns]"
       ]
      }
     ],
     "prompt_number": 4
    },
    {
     "cell_type": "code",
     "collapsed": false,
     "input": [
      "features.columns"
     ],
     "language": "python",
     "metadata": {},
     "outputs": [
      {
       "metadata": {},
       "output_type": "pyout",
       "prompt_number": 5,
       "text": [
        "Index([u'Count', u'IsTest', u'IsTrain', u'IsValidation', u'Date', u'Year',\n",
        "       u'Month', u'MonthDay', u'WeekDay', u'Point', u'YearDay',\n",
        "       u'ThroughMonth', u'ThroughWeek', u'ThroughDay', u'CityName', u'CityID',\n",
        "       u'BranchNumber', u'MeanForMonth', u'MeanForMonthDay',\n",
        "       u'MeanForThroughDay', u'MeanForThroughMonth', u'MeanForThroughWeek',\n",
        "       u'MeanForWeekDay', u'MeanForYear', u'MeanForYearDay',\n",
        "       u'MeanForMonthByPoints', u'MeanForMonthDayByPoints',\n",
        "       u'MeanForThroughDayByPoints', u'MeanForThroughMonthByPoints',\n",
        "       u'MeanForThroughWeekByPoints', u'MeanForWeekDayByPoints',\n",
        "       u'MeanForYearByPoints', u'MeanForYearDayByPoints'],\n",
        "      dtype='object')"
       ]
      }
     ],
     "prompt_number": 5
    },
    {
     "cell_type": "code",
     "collapsed": false,
     "input": [
      "data = features.fillna(100000000)\n",
      "#data = data[data.columns.difference(['Point', 'Date'])]"
     ],
     "language": "python",
     "metadata": {},
     "outputs": [],
     "prompt_number": 6
    },
    {
     "cell_type": "code",
     "collapsed": false,
     "input": [
      "remove_column = ['IsTest', 'IsTrain', 'IsValidation', 'Date', 'Point', 'CityName', 'MeanForThroughDay', 'MeanForMonthDayByPoints' \\\n",
      "                 ,'MeanForThroughDayByPoints', 'MeanForThroughWeekByPoints', 'MeanForYearDayByPoints']"
     ],
     "language": "python",
     "metadata": {},
     "outputs": [],
     "prompt_number": 44
    },
    {
     "cell_type": "code",
     "collapsed": false,
     "input": [
      "dataTrain = data[data.IsTrain == 1]\n",
      "dataTrain = dataTrain[dataTrain.columns.difference(remove_column)]\n",
      "\n",
      "dataValidation =  data[data.IsValidation == 1]\n",
      "dataValidation = dataValidation[dataValidation.columns.difference(remove_column)]\n",
      "\n",
      "X_test = dataValidation[dataValidation.columns.difference(['Count'])]\n",
      "y_test = dataValidation.Count"
     ],
     "language": "python",
     "metadata": {},
     "outputs": [],
     "prompt_number": 45
    },
    {
     "cell_type": "code",
     "collapsed": false,
     "input": [],
     "language": "python",
     "metadata": {},
     "outputs": [],
     "prompt_number": 8
    },
    {
     "cell_type": "code",
     "collapsed": false,
     "input": [
      "def trainModelKfoldOnValidation(data, model, countFold = 5):\n",
      "    meanMae = 0\n",
      "    \n",
      "    c = data.columns.difference(['Count'])\n",
      "    kf = KFold(len(data), n_folds=countFold, shuffle=True)\n",
      "    \n",
      "    for train_index, test_index in kf:\n",
      "        X_train, X_test = data[c].iloc[train_index], data[c].iloc[test_index]\n",
      "        y_train, y_test = data['Count'].iloc[train_index], data['Count'].iloc[test_index]\n",
      "        model.fit(X_train.as_matrix(), y_train.as_matrix())\n",
      "        pred = model.predict(X_test)\n",
      "        print (mae(pred, y_test))\n",
      "        meanMae += mae(pred, y_test)\n",
      "    meanMae /= countFold\n",
      "    print (\"result \", meanMae)\n",
      "    return model"
     ],
     "language": "python",
     "metadata": {},
     "outputs": [],
     "prompt_number": 9
    },
    {
     "cell_type": "code",
     "collapsed": false,
     "input": [
      "model = trainModelTestTrainSplit(dataTrain, RandomForestRegressor())\n",
      "pred = model.predict(X_test)\n",
      "print (mae(pred, y_test))"
     ],
     "language": "python",
     "metadata": {},
     "outputs": [
      {
       "output_type": "stream",
       "stream": "stderr",
       "text": [
        "[Parallel(n_jobs=1)]: Done  10 out of  10 | elapsed:    3.6s finished\n",
        "[Parallel(n_jobs=1)]: Done  10 out of  10 | elapsed:    0.0s finished\n",
        "[Parallel(n_jobs=1)]: Done  10 out of  10 | elapsed:    0.0s finished\n"
       ]
      },
      {
       "output_type": "stream",
       "stream": "stdout",
       "text": [
        "('result ', 16.790921478453416)\n",
        "17.5113636364\n"
       ]
      }
     ],
     "prompt_number": 38
    },
    {
     "cell_type": "code",
     "collapsed": false,
     "input": [
      "model = trainModelTestTrainSplit(dataTrain, RandomForestRegressor(100))\n",
      "pred = model.predict(X_test)\n",
      "print (mae(pred, y_test))"
     ],
     "language": "python",
     "metadata": {},
     "outputs": [
      {
       "output_type": "stream",
       "stream": "stderr",
       "text": [
        "[Parallel(n_jobs=1)]: Done 100 out of 100 | elapsed:   36.7s finished\n",
        "[Parallel(n_jobs=1)]: Done 100 out of 100 | elapsed:    0.4s finished\n"
       ]
      },
      {
       "output_type": "stream",
       "stream": "stdout",
       "text": [
        "('result ', 16.241037301992847)\n",
        "16.6029733642"
       ]
      },
      {
       "output_type": "stream",
       "stream": "stdout",
       "text": [
        "\n"
       ]
      },
      {
       "output_type": "stream",
       "stream": "stderr",
       "text": [
        "[Parallel(n_jobs=1)]: Done 100 out of 100 | elapsed:    0.2s finished\n"
       ]
      }
     ],
     "prompt_number": 39
    },
    {
     "cell_type": "code",
     "collapsed": false,
     "input": [
      "model = trainModelTestTrainSplit(dataTrain, RandomForestRegressor(1000))\n",
      "pred = model.predict(X_test)\n",
      "print (mae(pred, y_test))"
     ],
     "language": "python",
     "metadata": {},
     "outputs": [
      {
       "output_type": "stream",
       "stream": "stderr",
       "text": [
        "[Parallel(n_jobs=1)]: Done 1000 out of 1000 | elapsed:  5.6min finished\n",
        "[Parallel(n_jobs=1)]: Done 1000 out of 1000 | elapsed:    3.4s finished\n"
       ]
      },
      {
       "output_type": "stream",
       "stream": "stdout",
       "text": [
        "('result ', 16.1461769715551)\n",
        "16.4290610886"
       ]
      },
      {
       "output_type": "stream",
       "stream": "stdout",
       "text": [
        "\n"
       ]
      },
      {
       "output_type": "stream",
       "stream": "stderr",
       "text": [
        "[Parallel(n_jobs=1)]: Done 1000 out of 1000 | elapsed:    2.2s finished\n"
       ]
      }
     ],
     "prompt_number": 15
    },
    {
     "cell_type": "code",
     "collapsed": false,
     "input": [],
     "language": "python",
     "metadata": {},
     "outputs": []
    },
    {
     "cell_type": "code",
     "collapsed": false,
     "input": [],
     "language": "python",
     "metadata": {},
     "outputs": []
    },
    {
     "cell_type": "code",
     "collapsed": false,
     "input": [],
     "language": "python",
     "metadata": {},
     "outputs": []
    },
    {
     "cell_type": "code",
     "collapsed": false,
     "input": [
      "remove_column = ['IsTest', 'IsTrain', 'IsValidation', 'Date', 'CityName', 'MeanForThroughDay', 'MeanForMonthDayByPoints' \\\n",
      "                 ,'MeanForThroughDayByPoints', 'MeanForThroughWeekByPoints', 'MeanForYearDayByPoints']"
     ],
     "language": "python",
     "metadata": {},
     "outputs": [],
     "prompt_number": 180
    },
    {
     "cell_type": "code",
     "collapsed": false,
     "input": [
      "data = features.fillna(100000000)"
     ],
     "language": "python",
     "metadata": {},
     "outputs": [],
     "prompt_number": 181
    },
    {
     "cell_type": "code",
     "collapsed": false,
     "input": [
      "dataTrain = data[data.IsTrain == 1]\n",
      "dataTrain = dataTrain[dataTrain.columns.difference(remove_column)]\n",
      "\n",
      "X_train = dataTrain[dataTrain.columns.difference(['Count'])]\n",
      "y_train = dataTrain[['Count', 'Point']]"
     ],
     "language": "python",
     "metadata": {},
     "outputs": [],
     "prompt_number": 182
    },
    {
     "cell_type": "code",
     "collapsed": false,
     "input": [
      "dataValidation =  data[data.IsValidation == 1]\n",
      "dataValidation = dataValidation[dataValidation.columns.difference(remove_column)]\n",
      "\n",
      "X_test = dataValidation[dataValidation.columns.difference(['Count'])]\n",
      "y_test = dataValidation[['Count', 'Point']]"
     ],
     "language": "python",
     "metadata": {},
     "outputs": [],
     "prompt_number": 183
    },
    {
     "cell_type": "code",
     "collapsed": false,
     "input": [],
     "language": "python",
     "metadata": {},
     "outputs": [],
     "prompt_number": 183
    },
    {
     "cell_type": "code",
     "collapsed": false,
     "input": [
      "def FitOnCitySeparate(model):\n",
      "    city = features.Point.unique()\n",
      "    pred = dataValidation.Count\n",
      "\n",
      "\n",
      "    for i in city:\n",
      "        X = X_train[X_train.Point == i]\n",
      "        X = X[X.columns.difference(['Point'])]\n",
      "\n",
      "        y = y_train[y_train.Point == i].Count\n",
      "\n",
      "        X_val = X_test[X_test.Point == i]\n",
      "        X_val = X_val[X_val.columns.difference(['Point'])]\n",
      "\n",
      "        y_val = y_test[y_test.Point == i].Count\n",
      "\n",
      "        model.fit(X, y)\n",
      "\n",
      "        pred[y_val.index] = model.predict(X_val)\n",
      "        print i,\n",
      "    print \"\"\n",
      "    print mae(y_test.Count, pred)"
     ],
     "language": "python",
     "metadata": {},
     "outputs": [],
     "prompt_number": 215
    },
    {
     "cell_type": "code",
     "collapsed": false,
     "input": [],
     "language": "python",
     "metadata": {},
     "outputs": [],
     "prompt_number": 215
    },
    {
     "cell_type": "code",
     "collapsed": false,
     "input": [
      "FitOnCitySeparate(GradientBoostingRegressor(learning_rate=0.1, max_depth=7, verbose=1, n_estimators=100, loss ='lad'))"
     ],
     "language": "python",
     "metadata": {},
     "outputs": [
      {
       "output_type": "stream",
       "stream": "stdout",
       "text": [
        "      Iter       Train Loss   Remaining Time \n",
        "         1          61.4283            0.63s\n",
        "         2          56.4308            0.61s\n",
        "         3          52.0576            0.62s\n",
        "         4          48.2447            0.62s\n",
        "         5          44.6886            0.62s\n",
        "         6          41.5847            0.62s\n",
        "         7          38.7752            0.62s\n",
        "         8          36.3796            0.61s"
       ]
      },
      {
       "output_type": "stream",
       "stream": "stdout",
       "text": [
        "\n",
        "         9          34.2528            0.61s\n",
        "        10          32.3870            0.61s\n",
        "        20          21.6750            0.54s"
       ]
      },
      {
       "output_type": "stream",
       "stream": "stdout",
       "text": [
        "\n",
        "        30          18.2635            0.44s"
       ]
      },
      {
       "output_type": "stream",
       "stream": "stdout",
       "text": [
        "\n",
        "        40          16.1791            0.36s\n",
        "        50          15.2948            0.28s"
       ]
      },
      {
       "output_type": "stream",
       "stream": "stdout",
       "text": [
        "\n",
        "        60          14.4867            0.22s\n",
        "        70          13.6559            0.16s"
       ]
      },
      {
       "output_type": "stream",
       "stream": "stdout",
       "text": [
        "\n",
        "        80          13.0845            0.10s\n",
        "        90          12.4626            0.05s"
       ]
      },
      {
       "output_type": "stream",
       "stream": "stdout",
       "text": [
        "\n",
        "       100          11.9737            0.00s"
       ]
      },
      {
       "output_type": "stream",
       "stream": "stdout",
       "text": [
        "\n",
        "\u0421\u044b\u043a\u0442\u044b\u0432\u043a\u0430\u0440-1      Iter       Train Loss   Remaining Time "
       ]
      },
      {
       "output_type": "stream",
       "stream": "stdout",
       "text": [
        "\n",
        "         1          27.5656            0.51s\n",
        "         2          25.1441            0.51s\n",
        "         3          23.0855            0.52s\n",
        "         4          21.2894            0.51s\n",
        "         5          19.6494            0.52s\n",
        "         6          18.1876            0.52s\n",
        "         7          16.8883            0.52s\n",
        "         8          15.7808            0.52s\n",
        "         9          14.7782            0.52s"
       ]
      },
      {
       "output_type": "stream",
       "stream": "stdout",
       "text": [
        "\n",
        "        10          13.8895            0.53s\n",
        "        20           8.9961            0.48s"
       ]
      },
      {
       "output_type": "stream",
       "stream": "stdout",
       "text": [
        "\n",
        "        30           7.5040            0.41s"
       ]
      },
      {
       "output_type": "stream",
       "stream": "stdout",
       "text": [
        "\n",
        "        40           6.6721            0.34s"
       ]
      },
      {
       "output_type": "stream",
       "stream": "stdout",
       "text": [
        "\n",
        "        50           6.1925            0.27s\n",
        "        60           5.9126            0.20s"
       ]
      },
      {
       "output_type": "stream",
       "stream": "stdout",
       "text": [
        "\n",
        "        70           5.5946            0.15s\n",
        "        80           5.4068            0.10s"
       ]
      },
      {
       "output_type": "stream",
       "stream": "stdout",
       "text": [
        "\n",
        "        90           5.3343            0.05s\n",
        "       100           5.2456            0.00s"
       ]
      },
      {
       "output_type": "stream",
       "stream": "stdout",
       "text": [
        "\n",
        " \u0421\u044b\u043a\u0442\u044b\u0432\u043a\u0430\u0440-2      Iter       Train Loss   Remaining Time \n",
        "         1          60.0578            0.52s"
       ]
      },
      {
       "output_type": "stream",
       "stream": "stdout",
       "text": [
        "\n",
        "         2          54.9048            0.56s\n",
        "         3          50.2952            0.57s\n",
        "         4          46.3513            0.55s\n",
        "         5          42.6890            0.55s\n",
        "         6          39.4793            0.55s\n",
        "         7          36.7022            0.55s\n",
        "         8          34.2999            0.55s\n",
        "         9          32.0760            0.55s\n",
        "        10          30.1320            0.55s"
       ]
      },
      {
       "output_type": "stream",
       "stream": "stdout",
       "text": [
        "\n",
        "        20          18.6090            0.51s"
       ]
      },
      {
       "output_type": "stream",
       "stream": "stdout",
       "text": [
        "\n",
        "        30          14.6654            0.42s"
       ]
      },
      {
       "output_type": "stream",
       "stream": "stdout",
       "text": [
        "\n",
        "        40          13.3435            0.33s\n",
        "        50          12.8155            0.26s"
       ]
      },
      {
       "output_type": "stream",
       "stream": "stdout",
       "text": [
        "\n",
        "        60          12.3526            0.20s\n",
        "        70          11.7820            0.15s"
       ]
      },
      {
       "output_type": "stream",
       "stream": "stdout",
       "text": [
        "\n",
        "        80          11.3005            0.10s\n",
        "        90          11.1417            0.05s"
       ]
      },
      {
       "output_type": "stream",
       "stream": "stdout",
       "text": [
        "\n",
        "       100          10.9854            0.00s\n",
        " "
       ]
      },
      {
       "output_type": "stream",
       "stream": "stdout",
       "text": [
        "\u0423\u0445\u0442\u0430-1      Iter       Train Loss   Remaining Time \n",
        "         1          41.0701            0.48s\n",
        "         2          37.7295            0.50s\n",
        "         3          34.6928            0.52s\n",
        "         4          31.9317            0.52s\n",
        "         5          29.4880            0.52s\n",
        "         6          27.3259            0.54s\n",
        "         7          25.4549            0.55s"
       ]
      },
      {
       "output_type": "stream",
       "stream": "stdout",
       "text": [
        "\n",
        "         8          23.7886            0.57s\n",
        "         9          22.2706            0.57s\n",
        "        10          21.0480            0.56s\n",
        "        20          13.8789            0.49s"
       ]
      },
      {
       "output_type": "stream",
       "stream": "stdout",
       "text": [
        "\n",
        "        30          11.2516            0.41s"
       ]
      },
      {
       "output_type": "stream",
       "stream": "stdout",
       "text": [
        "\n",
        "        40          10.0602            0.33s\n",
        "        50           9.3292            0.26s"
       ]
      },
      {
       "output_type": "stream",
       "stream": "stdout",
       "text": [
        "\n",
        "        60           8.7176            0.20s\n",
        "        70           8.2727            0.15s"
       ]
      },
      {
       "output_type": "stream",
       "stream": "stdout",
       "text": [
        "\n",
        "        80           8.0411            0.10s\n",
        "        90           7.8962            0.05s"
       ]
      },
      {
       "output_type": "stream",
       "stream": "stdout",
       "text": [
        "\n",
        "       100           7.8168            0.00s\n",
        " "
       ]
      },
      {
       "output_type": "stream",
       "stream": "stdout",
       "text": [
        "\u0421\u043c\u043e\u043b\u0435\u043d\u0441\u043a-1      Iter       Train Loss   Remaining Time \n",
        "         1          21.0311            0.60s\n",
        "         2          19.4878            0.59s\n",
        "         3          18.0114            0.61s\n",
        "         4          16.7352            0.60s\n",
        "         5          15.6632            0.60s\n",
        "         6          14.6691            0.60s"
       ]
      },
      {
       "output_type": "stream",
       "stream": "stdout",
       "text": [
        "\n",
        "         7          13.8445            0.60s\n",
        "         8          13.0344            0.59s\n",
        "         9          12.3821            0.59s\n",
        "        10          11.7396            0.58s\n",
        "        20           8.2754            0.49s"
       ]
      },
      {
       "output_type": "stream",
       "stream": "stdout",
       "text": [
        "\n",
        "        30           7.0669            0.40s\n",
        "        40           6.3663            0.32s"
       ]
      },
      {
       "output_type": "stream",
       "stream": "stdout",
       "text": [
        "\n",
        "        50           6.0910            0.25s\n",
        "        60           5.8422            0.19s"
       ]
      },
      {
       "output_type": "stream",
       "stream": "stdout",
       "text": [
        "\n",
        "        70           5.5965            0.14s\n",
        "        80           5.4587            0.09s"
       ]
      },
      {
       "output_type": "stream",
       "stream": "stdout",
       "text": [
        "\n",
        "        90           5.3633            0.04s\n",
        "       100           5.2075            0.00s"
       ]
      },
      {
       "output_type": "stream",
       "stream": "stdout",
       "text": [
        "\n",
        " \u0421\u0430\u0440\u0430\u043f\u0443\u043b-1      Iter       Train Loss   Remaining Time \n",
        "         1          59.8529            0.35s"
       ]
      },
      {
       "output_type": "stream",
       "stream": "stdout",
       "text": [
        "\n",
        "         2          54.7503            0.43s\n",
        "         3          50.3436            0.43s\n",
        "         4          46.3138            0.44s\n",
        "         5          42.4735            0.44s\n",
        "         6          39.1470            0.45s\n",
        "         7          36.1159            0.45s\n",
        "         8          33.3472            0.45s\n",
        "         9          31.0749            0.45s\n",
        "        10          28.8625            0.45s\n",
        "        20          16.2281            0.40s"
       ]
      },
      {
       "output_type": "stream",
       "stream": "stdout",
       "text": [
        "\n",
        "        30          12.3580            0.33s\n",
        "        40          10.9579            0.26s"
       ]
      },
      {
       "output_type": "stream",
       "stream": "stdout",
       "text": [
        "\n",
        "        50           9.9961            0.21s\n",
        "        60           9.6857            0.16s"
       ]
      },
      {
       "output_type": "stream",
       "stream": "stdout",
       "text": [
        "\n",
        "        70           9.3436            0.12s\n",
        "        80           9.0706            0.08s"
       ]
      },
      {
       "output_type": "stream",
       "stream": "stdout",
       "text": [
        "\n",
        "        90           8.9554            0.04s\n",
        "       100           8.7568            0.00s"
       ]
      },
      {
       "output_type": "stream",
       "stream": "stdout",
       "text": [
        "\n",
        " \u0421\u0430\u043c\u0430\u0440\u0430-1      Iter       Train Loss   Remaining Time "
       ]
      },
      {
       "output_type": "stream",
       "stream": "stdout",
       "text": [
        "\n",
        "         1          28.0931            0.59s\n",
        "         2          25.8118            0.58s\n",
        "         3          23.8860            0.57s\n",
        "         4          22.1315            0.56s\n",
        "         5          20.5811            0.55s\n",
        "         6          19.1905            0.55s\n",
        "         7          17.9137            0.55s\n",
        "         8          16.8193            0.55s\n",
        "         9          15.8459            0.54s"
       ]
      },
      {
       "output_type": "stream",
       "stream": "stdout",
       "text": [
        "\n",
        "        10          14.9514            0.55s\n",
        "        20           9.8789            0.47s"
       ]
      },
      {
       "output_type": "stream",
       "stream": "stdout",
       "text": [
        "\n",
        "        30           8.3808            0.38s\n",
        "        40           7.7159            0.30s"
       ]
      },
      {
       "output_type": "stream",
       "stream": "stdout",
       "text": [
        "\n",
        "        50           7.4123            0.23s\n",
        "        60           6.9765            0.18s"
       ]
      },
      {
       "output_type": "stream",
       "stream": "stdout",
       "text": [
        "\n",
        "        70           6.7101            0.13s\n",
        "        80           6.5105            0.08s"
       ]
      },
      {
       "output_type": "stream",
       "stream": "stdout",
       "text": [
        "\n",
        "        90           6.3615            0.04s\n",
        "       100           6.1797            0.00s"
       ]
      },
      {
       "output_type": "stream",
       "stream": "stdout",
       "text": [
        "\n",
        " \u0427\u0435\u043b\u044f\u0431\u0438\u043d\u0441\u043a-1      Iter       Train Loss   Remaining Time \n",
        "         1          21.5515            0.50s"
       ]
      },
      {
       "output_type": "stream",
       "stream": "stdout",
       "text": [
        "\n",
        "         2          19.9973            0.55s\n",
        "         3          18.6005            0.55s\n",
        "         4          17.4089            0.54s\n",
        "         5          16.3859            0.52s\n",
        "         6          15.4457            0.52s\n",
        "         7          14.6492            0.51s\n",
        "         8          13.9235            0.51s\n",
        "         9          13.2746            0.51s\n",
        "        10          12.6863            0.51s"
       ]
      },
      {
       "output_type": "stream",
       "stream": "stdout",
       "text": [
        "\n",
        "        20           9.2971            0.43s"
       ]
      },
      {
       "output_type": "stream",
       "stream": "stdout",
       "text": [
        "\n",
        "        30           8.1406            0.36s\n",
        "        40           7.6140            0.29s"
       ]
      },
      {
       "output_type": "stream",
       "stream": "stdout",
       "text": [
        "\n",
        "        50           7.2522            0.23s\n",
        "        60           7.0703            0.17s"
       ]
      },
      {
       "output_type": "stream",
       "stream": "stdout",
       "text": [
        "\n",
        "        70           6.8101            0.13s\n",
        "        80           6.4510            0.08s"
       ]
      },
      {
       "output_type": "stream",
       "stream": "stdout",
       "text": [
        "\n",
        "        90           6.2613            0.04s\n",
        "       100           6.1319            0.00s"
       ]
      },
      {
       "output_type": "stream",
       "stream": "stdout",
       "text": [
        "\n",
        " \u0411\u0435\u043b\u0433\u043e\u0440\u043e\u0434-1      Iter       Train Loss   Remaining Time "
       ]
      },
      {
       "output_type": "stream",
       "stream": "stdout",
       "text": [
        "\n",
        "         1          50.0921            0.31s\n",
        "         2          45.8030            0.31s\n",
        "         3          41.9670            0.31s\n",
        "         4          38.4424            0.32s\n",
        "         5          35.3915            0.32s\n",
        "         6          32.6081            0.31s\n",
        "         7          30.0579            0.31s\n",
        "         8          27.9547            0.31s\n",
        "         9          25.9880            0.30s\n",
        "        10          24.2537            0.30s\n",
        "        20          13.6842            0.25s"
       ]
      },
      {
       "output_type": "stream",
       "stream": "stdout",
       "text": [
        "\n",
        "        30           9.9710            0.22s\n",
        "        40           8.7223            0.18s"
       ]
      },
      {
       "output_type": "stream",
       "stream": "stdout",
       "text": [
        "\n",
        "        50           8.0217            0.15s\n",
        "        60           7.4914            0.12s"
       ]
      },
      {
       "output_type": "stream",
       "stream": "stdout",
       "text": [
        "\n",
        "        70           7.1252            0.09s\n",
        "        80           6.9727            0.06s\n",
        "        90           6.6101            0.03s"
       ]
      },
      {
       "output_type": "stream",
       "stream": "stdout",
       "text": [
        "\n",
        "       100           6.4640            0.00s\n",
        " "
       ]
      },
      {
       "output_type": "stream",
       "stream": "stdout",
       "text": [
        "\u0421\u043c\u043e\u043b\u0435\u043d\u0441\u043a-2      Iter       Train Loss   Remaining Time \n",
        "         1          72.3394            0.37s\n",
        "         2          66.3648            0.40s\n",
        "         3          60.7600            0.40s\n",
        "         4          55.9357            0.41s\n",
        "         5          51.3295            0.41s\n",
        "         6          47.5444            0.41s\n",
        "         7          44.0708            0.41s\n",
        "         8          40.8436            0.41s\n",
        "         9          38.0692            0.41s"
       ]
      },
      {
       "output_type": "stream",
       "stream": "stdout",
       "text": [
        "\n",
        "        10          35.3749            0.41s\n",
        "        20          20.5068            0.36s"
       ]
      },
      {
       "output_type": "stream",
       "stream": "stdout",
       "text": [
        "\n",
        "        30          15.3478            0.30s\n",
        "        40          13.0546            0.25s"
       ]
      },
      {
       "output_type": "stream",
       "stream": "stdout",
       "text": [
        "\n",
        "        50          11.5162            0.21s\n",
        "        60          10.6299            0.17s"
       ]
      },
      {
       "output_type": "stream",
       "stream": "stdout",
       "text": [
        "\n",
        "        70          10.0148            0.13s\n",
        "        80           9.3242            0.08s"
       ]
      },
      {
       "output_type": "stream",
       "stream": "stdout",
       "text": [
        "\n",
        "        90           8.9523            0.04s\n",
        "       100           8.6603            0.00s"
       ]
      },
      {
       "output_type": "stream",
       "stream": "stdout",
       "text": [
        "\n",
        " \u0421\u0430\u043c\u0430\u0440\u0430-2      Iter       Train Loss   Remaining Time "
       ]
      },
      {
       "output_type": "stream",
       "stream": "stdout",
       "text": [
        "\n",
        "         1          26.8480            0.39s\n",
        "         2          24.8378            0.40s\n",
        "         3          22.9567            0.41s\n",
        "         4          21.3699            0.43s\n",
        "         5          19.9218            0.43s\n",
        "         6          18.6907            0.44s\n",
        "         7          17.5366            0.43s\n",
        "         8          16.5501            0.42s\n",
        "         9          15.6316            0.43s\n",
        "        10          14.8637            0.42s\n",
        "        20          10.1419            0.36s"
       ]
      },
      {
       "output_type": "stream",
       "stream": "stdout",
       "text": [
        "\n",
        "        30           8.3577            0.29s\n",
        "        40           7.5871            0.23s"
       ]
      },
      {
       "output_type": "stream",
       "stream": "stdout",
       "text": [
        "\n",
        "        50           7.1269            0.18s\n",
        "        60           6.5995            0.14s"
       ]
      },
      {
       "output_type": "stream",
       "stream": "stdout",
       "text": [
        "\n",
        "        70           6.3202            0.11s\n",
        "        80           6.0370            0.07s"
       ]
      },
      {
       "output_type": "stream",
       "stream": "stdout",
       "text": [
        "\n",
        "        90           5.8393            0.03s\n",
        "       100           5.6995            0.00s"
       ]
      },
      {
       "output_type": "stream",
       "stream": "stdout",
       "text": [
        "\n",
        " \u0423\u043b\u044c\u044f\u043d\u043e\u0432\u0441\u043a-1      Iter       Train Loss   Remaining Time "
       ]
      },
      {
       "output_type": "stream",
       "stream": "stdout",
       "text": [
        "\n",
        "         1          29.6644            0.37s\n",
        "         2          27.3063            0.37s\n",
        "         3          25.2197            0.37s\n",
        "         4          23.4433            0.37s\n",
        "         5          21.8341            0.39s\n",
        "         6          20.4331            0.39s\n",
        "         7          19.1797            0.40s\n",
        "         8          17.9948            0.40s\n",
        "         9          17.0154            0.41s\n",
        "        10          16.1245            0.41s\n",
        "        20          11.0526            0.35s"
       ]
      },
      {
       "output_type": "stream",
       "stream": "stdout",
       "text": [
        "\n",
        "        30           9.0363            0.29s\n",
        "        40           8.0228            0.24s"
       ]
      },
      {
       "output_type": "stream",
       "stream": "stdout",
       "text": [
        "\n",
        "        50           7.1896            0.19s\n",
        "        60           6.6694            0.15s"
       ]
      },
      {
       "output_type": "stream",
       "stream": "stdout",
       "text": [
        "\n",
        "        70           6.1620            0.11s\n",
        "        80           5.8554            0.07s"
       ]
      },
      {
       "output_type": "stream",
       "stream": "stdout",
       "text": [
        "\n",
        "        90           5.6578            0.04s\n",
        "       100           5.3869            0.00s"
       ]
      },
      {
       "output_type": "stream",
       "stream": "stdout",
       "text": [
        "\n",
        " \u0421\u044b\u043a\u0442\u044b\u0432\u043a\u0430\u0440-3      Iter       Train Loss   Remaining Time \n",
        "         1          18.6230            0.44s"
       ]
      },
      {
       "output_type": "stream",
       "stream": "stdout",
       "text": [
        "\n",
        "         2          17.4190            0.50s\n",
        "         3          16.2856            0.48s\n",
        "         4          15.3070            0.47s\n",
        "         5          14.5214            0.46s\n",
        "         6          13.7010            0.46s\n",
        "         7          13.0497            0.45s\n",
        "         8          12.4087            0.44s\n",
        "         9          11.8572            0.44s\n",
        "        10          11.3640            0.43s\n",
        "        20           8.7164            0.36s"
       ]
      },
      {
       "output_type": "stream",
       "stream": "stdout",
       "text": [
        "\n",
        "        30           7.5209            0.29s\n",
        "        40           6.9013            0.23s"
       ]
      },
      {
       "output_type": "stream",
       "stream": "stdout",
       "text": [
        "\n",
        "        50           6.3446            0.19s\n",
        "        60           6.1173            0.14s"
       ]
      },
      {
       "output_type": "stream",
       "stream": "stdout",
       "text": [
        "\n",
        "        70           5.7511            0.10s\n",
        "        80           5.6835            0.07s\n",
        "        90           5.4044            0.03s"
       ]
      },
      {
       "output_type": "stream",
       "stream": "stdout",
       "text": [
        "\n",
        "       100           5.1524            0.00s\n",
        " "
       ]
      },
      {
       "output_type": "stream",
       "stream": "stdout",
       "text": [
        "\u041e\u043a\u0442\u044f\u0431\u0440\u044c\u0441\u043a\u0438\u0439-1      Iter       Train Loss   Remaining Time \n",
        "         1          24.8844            0.35s\n",
        "         2          22.9679            0.33s\n",
        "         3          21.2520            0.33s\n",
        "         4          19.7281            0.34s\n",
        "         5          18.3180            0.35s\n",
        "         6          17.1114            0.36s\n",
        "         7          16.0650            0.36s\n",
        "         8          14.9977            0.37s\n",
        "         9          14.1478            0.37s\n",
        "        10          13.3831            0.37s"
       ]
      },
      {
       "output_type": "stream",
       "stream": "stdout",
       "text": [
        "\n",
        "        20           8.8413            0.34s\n",
        "        30           7.0956            0.29s"
       ]
      },
      {
       "output_type": "stream",
       "stream": "stdout",
       "text": [
        "\n",
        "        40           6.3260            0.24s\n",
        "        50           5.9027            0.19s"
       ]
      },
      {
       "output_type": "stream",
       "stream": "stdout",
       "text": [
        "\n",
        "        60           5.5764            0.15s\n",
        "        70           5.2997            0.11s"
       ]
      },
      {
       "output_type": "stream",
       "stream": "stdout",
       "text": [
        "\n",
        "        80           4.9658            0.07s\n",
        "        90           4.7990            0.04s"
       ]
      },
      {
       "output_type": "stream",
       "stream": "stdout",
       "text": [
        "\n",
        "       100           4.7496            0.00s\n",
        " "
       ]
      },
      {
       "output_type": "stream",
       "stream": "stdout",
       "text": [
        "\u0421\u044b\u043a\u0442\u044b\u0432\u043a\u0430\u0440-4      Iter       Train Loss   Remaining Time \n",
        "         1          60.1115            0.29s\n",
        "         2          54.9979            0.31s\n",
        "         3          50.4896            0.32s\n",
        "         4          46.5616            0.31s\n",
        "         5          42.7963            0.33s\n",
        "         6          39.4167            0.34s\n",
        "         7          36.3876            0.34s\n",
        "         8          33.8026            0.34s\n",
        "         9          31.4732            0.35s\n",
        "        10          29.3994            0.35s"
       ]
      },
      {
       "output_type": "stream",
       "stream": "stdout",
       "text": [
        "\n",
        "        20          17.1101            0.32s\n",
        "        30          12.3974            0.27s"
       ]
      },
      {
       "output_type": "stream",
       "stream": "stdout",
       "text": [
        "\n",
        "        40          10.8888            0.22s\n",
        "        50          10.0137            0.17s"
       ]
      },
      {
       "output_type": "stream",
       "stream": "stdout",
       "text": [
        "\n",
        "        60           9.4508            0.13s\n",
        "        70           8.9616            0.10s"
       ]
      },
      {
       "output_type": "stream",
       "stream": "stdout",
       "text": [
        "\n",
        "        80           8.5636            0.06s\n",
        "        90           8.0704            0.03s"
       ]
      },
      {
       "output_type": "stream",
       "stream": "stdout",
       "text": [
        "\n",
        "       100           7.8833            0.00s\n",
        " "
       ]
      },
      {
       "output_type": "stream",
       "stream": "stdout",
       "text": [
        "\u0414\u043e\u043b\u0433\u043e\u043f\u0440\u0443\u0434\u043d\u044b\u0439-1      Iter       Train Loss   Remaining Time \n",
        "         1          50.6972            0.47s\n",
        "         2          46.3673            0.43s\n",
        "         3          42.4703            0.42s\n",
        "         4          38.9731            0.41s\n",
        "         5          35.8450            0.40s\n",
        "         6          33.1929            0.39s\n",
        "         7          30.7530            0.38s\n",
        "         8          28.4989            0.38s\n",
        "         9          26.5532            0.38s\n",
        "        10          24.8367            0.38s"
       ]
      },
      {
       "output_type": "stream",
       "stream": "stdout",
       "text": [
        "\n",
        "        20          15.0939            0.35s\n",
        "        30          11.4373            0.30s"
       ]
      },
      {
       "output_type": "stream",
       "stream": "stdout",
       "text": [
        "\n",
        "        40          10.1067            0.24s\n",
        "        50           9.4271            0.18s"
       ]
      },
      {
       "output_type": "stream",
       "stream": "stdout",
       "text": [
        "\n",
        "        60           9.0298            0.14s\n",
        "        70           8.4458            0.10s"
       ]
      },
      {
       "output_type": "stream",
       "stream": "stdout",
       "text": [
        "\n",
        "        80           8.0506            0.07s\n",
        "        90           7.9250            0.03s"
       ]
      },
      {
       "output_type": "stream",
       "stream": "stdout",
       "text": [
        "\n",
        "       100           7.7725            0.00s\n",
        " "
       ]
      },
      {
       "output_type": "stream",
       "stream": "stdout",
       "text": [
        "\u0422\u0430\u0433\u0430\u043d\u0440\u043e\u0433-1      Iter       Train Loss   Remaining Time \n",
        "         1          13.6979            0.37s\n",
        "         2          12.6334            0.38s\n",
        "         3          11.6895            0.37s\n",
        "         4          10.8630            0.37s\n",
        "         5          10.1108            0.36s\n",
        "         6           9.4568            0.37s\n",
        "         7           8.8646            0.37s\n",
        "         8           8.3747            0.37s\n",
        "         9           7.9575            0.36s\n",
        "        10           7.5888            0.36s\n",
        "        20           5.3262            0.31s"
       ]
      },
      {
       "output_type": "stream",
       "stream": "stdout",
       "text": [
        "\n",
        "        30           4.3254            0.26s\n",
        "        40           3.8192            0.21s"
       ]
      },
      {
       "output_type": "stream",
       "stream": "stdout",
       "text": [
        "\n",
        "        50           3.6179            0.17s\n",
        "        60           3.5073            0.12s\n",
        "        70           3.4286            0.09s"
       ]
      },
      {
       "output_type": "stream",
       "stream": "stdout",
       "text": [
        "\n",
        "        80           3.4115            0.05s\n",
        "        90           3.3766            0.03s\n",
        "       100           3.3341            0.00s"
       ]
      },
      {
       "output_type": "stream",
       "stream": "stdout",
       "text": [
        "\n",
        " \u042d\u043d\u0433\u0435\u043b\u044c\u0441-1      Iter       Train Loss   Remaining Time "
       ]
      },
      {
       "output_type": "stream",
       "stream": "stdout",
       "text": [
        "\n",
        "         1           6.1376            0.13s\n",
        "         2           5.6856            0.14s\n",
        "         3           5.2361            0.14s\n",
        "         4           4.8512            0.14s\n",
        "         5           4.5209            0.14s\n",
        "         6           4.2190            0.14s\n",
        "         7           3.9683            0.13s\n",
        "         8           3.7531            0.13s\n",
        "         9           3.5681            0.13s\n",
        "        10           3.3496            0.13s\n",
        "        20           2.0552            0.11s\n",
        "        30           1.5427            0.09s\n",
        "        40           1.1359            0.08s"
       ]
      },
      {
       "output_type": "stream",
       "stream": "stdout",
       "text": [
        "\n",
        "        50           0.9983            0.07s\n",
        "        60           0.8311            0.05s\n",
        "        70           0.7264            0.04s\n",
        "        80           0.6319            0.03s"
       ]
      },
      {
       "output_type": "stream",
       "stream": "stdout",
       "text": [
        "\n",
        "        90           0.5420            0.01s\n",
        "       100           0.5025            0.00s\n",
        " "
       ]
      },
      {
       "output_type": "stream",
       "stream": "stdout",
       "text": [
        "\u041a\u0440\u0430\u0441\u043d\u043e\u044f\u0440\u0441\u043a-1      Iter       Train Loss   Remaining Time \n",
        "         1          14.7508            0.39s\n",
        "         2          13.8193            0.39s\n",
        "         3          12.9875            0.39s\n",
        "         4          12.3577            0.39s\n",
        "         5          11.7453            0.39s\n",
        "         6          11.1403            0.39s\n",
        "         7          10.6057            0.39s\n",
        "         8          10.1479            0.38s\n",
        "         9           9.6959            0.38s\n",
        "        10           9.3831            0.38s"
       ]
      },
      {
       "output_type": "stream",
       "stream": "stdout",
       "text": [
        "\n",
        "        20           7.2774            0.31s\n",
        "        30           6.3072            0.26s"
       ]
      },
      {
       "output_type": "stream",
       "stream": "stdout",
       "text": [
        "\n",
        "        40           5.8378            0.21s\n",
        "        50           5.5245            0.16s"
       ]
      },
      {
       "output_type": "stream",
       "stream": "stdout",
       "text": [
        "\n",
        "        60           5.2229            0.13s\n",
        "        70           5.0065            0.09s"
       ]
      },
      {
       "output_type": "stream",
       "stream": "stdout",
       "text": [
        "\n",
        "        80           4.7892            0.06s\n",
        "        90           4.5411            0.03s"
       ]
      },
      {
       "output_type": "stream",
       "stream": "stdout",
       "text": [
        "\n",
        "       100           4.3467            0.00s\n",
        " "
       ]
      },
      {
       "output_type": "stream",
       "stream": "stdout",
       "text": [
        "\u0410\u0431\u0430\u043a\u0430\u043d-1      Iter       Train Loss   Remaining Time \n",
        "         1          48.6355            0.30s\n",
        "         2          44.5212            0.29s\n",
        "         3          40.8713            0.28s\n",
        "         4          37.5958            0.28s\n",
        "         5          34.6153            0.28s\n",
        "         6          31.9129            0.29s\n",
        "         7          29.5384            0.29s\n",
        "         8          27.3181            0.29s\n",
        "         9          25.4045            0.30s\n",
        "        10          23.6170            0.30s\n",
        "        20          13.8376            0.28s"
       ]
      },
      {
       "output_type": "stream",
       "stream": "stdout",
       "text": [
        "\n",
        "        30          10.3932            0.23s\n",
        "        40           9.0619            0.19s"
       ]
      },
      {
       "output_type": "stream",
       "stream": "stdout",
       "text": [
        "\n",
        "        50           8.1677            0.15s\n",
        "        60           7.5218            0.12s"
       ]
      },
      {
       "output_type": "stream",
       "stream": "stdout",
       "text": [
        "\n",
        "        70           7.1421            0.09s\n",
        "        80           6.8044            0.06s\n",
        "        90           6.6887            0.03s"
       ]
      },
      {
       "output_type": "stream",
       "stream": "stdout",
       "text": [
        "\n",
        "       100           6.4606            0.00s\n",
        " "
       ]
      },
      {
       "output_type": "stream",
       "stream": "stdout",
       "text": [
        "\u0423\u043b\u044c\u044f\u043d\u043e\u0432\u0441\u043a-2      Iter       Train Loss   Remaining Time \n",
        "         1          19.8738            0.29s\n",
        "         2          18.6993            0.28s\n",
        "         3          17.6633            0.28s\n",
        "         4          16.7070            0.29s\n",
        "         5          15.7758            0.29s\n",
        "         6          14.9129            0.30s\n",
        "         7          14.2171            0.30s\n",
        "         8          13.6302            0.30s\n",
        "         9          13.0284            0.30s\n",
        "        10          12.4933            0.30s\n",
        "        20           9.4572            0.24s"
       ]
      },
      {
       "output_type": "stream",
       "stream": "stdout",
       "text": [
        "\n",
        "        30           8.1094            0.21s\n",
        "        40           7.5813            0.17s"
       ]
      },
      {
       "output_type": "stream",
       "stream": "stdout",
       "text": [
        "\n",
        "        50           6.9333            0.14s\n",
        "        60           6.4009            0.11s"
       ]
      },
      {
       "output_type": "stream",
       "stream": "stdout",
       "text": [
        "\n",
        "        70           6.2531            0.08s\n",
        "        80           6.0170            0.05s\n",
        "        90           5.7375            0.03s"
       ]
      },
      {
       "output_type": "stream",
       "stream": "stdout",
       "text": [
        "\n",
        "       100           5.5607            0.00s\n",
        " "
       ]
      },
      {
       "output_type": "stream",
       "stream": "stdout",
       "text": [
        "\u041c\u0430\u0439\u043a\u043e\u043f-1      Iter       Train Loss   Remaining Time \n",
        "         1          79.7627            0.28s\n",
        "         2          72.3564            0.27s\n",
        "         3          66.2668            0.30s\n",
        "         4          60.7589            0.30s\n",
        "         5          55.9262            0.29s\n",
        "         6          51.7030            0.29s\n",
        "         7          47.7290            0.30s\n",
        "         8          44.3604            0.29s\n",
        "         9          41.1475            0.29s\n",
        "        10          38.3902            0.29s\n",
        "        20          23.1410            0.27s"
       ]
      },
      {
       "output_type": "stream",
       "stream": "stdout",
       "text": [
        "\n",
        "        30          18.1709            0.22s\n",
        "        40          15.8985            0.18s"
       ]
      },
      {
       "output_type": "stream",
       "stream": "stdout",
       "text": [
        "\n",
        "        50          14.5498            0.14s\n",
        "        60          13.6812            0.11s\n",
        "        70          13.0868            0.08s"
       ]
      },
      {
       "output_type": "stream",
       "stream": "stdout",
       "text": [
        "\n",
        "        80          12.4741            0.05s\n",
        "        90          11.9688            0.03s\n",
        "       100          10.9691            0.00s"
       ]
      },
      {
       "output_type": "stream",
       "stream": "stdout",
       "text": [
        "\n",
        " \u0421\u0430\u043c\u0430\u0440\u0430-3      Iter       Train Loss   Remaining Time "
       ]
      },
      {
       "output_type": "stream",
       "stream": "stdout",
       "text": [
        "\n",
        "         1          24.5353            0.28s\n",
        "         2          22.4008            0.27s\n",
        "         3          20.5777            0.28s\n",
        "         4          18.9380            0.27s\n",
        "         5          17.4432            0.27s\n",
        "         6          16.0733            0.27s\n",
        "         7          14.9245            0.26s\n",
        "         8          13.8511            0.27s\n",
        "         9          12.9131            0.28s\n",
        "        10          11.9695            0.28s\n",
        "        20           7.1101            0.26s"
       ]
      },
      {
       "output_type": "stream",
       "stream": "stdout",
       "text": [
        "\n",
        "        30           5.6206            0.22s\n",
        "        40           4.9804            0.18s"
       ]
      },
      {
       "output_type": "stream",
       "stream": "stdout",
       "text": [
        "\n",
        "        50           4.6087            0.14s\n",
        "        60           4.1411            0.12s"
       ]
      },
      {
       "output_type": "stream",
       "stream": "stdout",
       "text": [
        "\n",
        "        70           3.8808            0.09s\n",
        "        80           3.6274            0.06s"
       ]
      },
      {
       "output_type": "stream",
       "stream": "stdout",
       "text": [
        "\n",
        "        90           3.5623            0.03s\n",
        "       100           3.2643            0.00s"
       ]
      },
      {
       "output_type": "stream",
       "stream": "stdout",
       "text": [
        "\n",
        " \u041d\u0438\u0436\u043d\u0435\u043a\u0430\u043c\u0441\u043a-1      Iter       Train Loss   Remaining Time "
       ]
      },
      {
       "output_type": "stream",
       "stream": "stdout",
       "text": [
        "\n",
        "         1          32.7292            0.32s\n",
        "         2          29.9418            0.30s\n",
        "         3          27.5411            0.31s\n",
        "         4          25.4528            0.31s\n",
        "         5          23.6406            0.31s\n",
        "         6          22.0545            0.31s\n",
        "         7          20.4761            0.31s\n",
        "         8          19.0883            0.30s\n",
        "         9          17.8605            0.30s\n",
        "        10          16.6957            0.30s\n",
        "        20          10.3591            0.27s"
       ]
      },
      {
       "output_type": "stream",
       "stream": "stdout",
       "text": [
        "\n",
        "        30           7.8214            0.22s\n",
        "        40           6.8974            0.17s\n",
        "        50           6.2221            0.14s"
       ]
      },
      {
       "output_type": "stream",
       "stream": "stdout",
       "text": [
        "\n",
        "        60           5.8297            0.11s\n",
        "        70           5.4483            0.08s\n",
        "        80           5.0256            0.05s"
       ]
      },
      {
       "output_type": "stream",
       "stream": "stdout",
       "text": [
        "\n",
        "        90           4.7820            0.03s\n",
        "       100           4.5701            0.00s\n",
        " "
       ]
      },
      {
       "output_type": "stream",
       "stream": "stdout",
       "text": [
        "\u041a\u043e\u0440\u043e\u043b\u0435\u0432-1      Iter       Train Loss   Remaining Time \n",
        "         1          43.1978            0.28s\n",
        "         2          39.5786            0.29s\n",
        "         3          36.3514            0.28s\n",
        "         4          33.4254            0.27s\n",
        "         5          30.7383            0.27s\n",
        "         6          28.4197            0.27s\n",
        "         7          26.3764            0.27s\n",
        "         8          24.5255            0.27s\n",
        "         9          22.9598            0.26s\n",
        "        10          21.5011            0.26s\n",
        "        20          12.5816            0.24s"
       ]
      },
      {
       "output_type": "stream",
       "stream": "stdout",
       "text": [
        "\n",
        "        30           9.5768            0.21s\n",
        "        40           8.3318            0.17s"
       ]
      },
      {
       "output_type": "stream",
       "stream": "stdout",
       "text": [
        "\n",
        "        50           7.5754            0.14s\n",
        "        60           7.1112            0.11s\n",
        "        70           6.7298            0.08s"
       ]
      },
      {
       "output_type": "stream",
       "stream": "stdout",
       "text": [
        "\n",
        "        80           6.3443            0.05s\n",
        "        90           6.0070            0.02s\n",
        "       100           5.6868            0.00s"
       ]
      },
      {
       "output_type": "stream",
       "stream": "stdout",
       "text": [
        "\n",
        " \u0420\u043e\u0441\u0442\u043e\u0432-\u043d\u0430-\u0414\u043e\u043d\u0443-1      Iter       Train Loss   Remaining Time \n",
        "         1          23.7523            0.29s"
       ]
      },
      {
       "output_type": "stream",
       "stream": "stdout",
       "text": [
        "\n",
        "         2          21.8623            0.36s\n",
        "         3          20.1532            0.36s\n",
        "         4          18.7323            0.35s\n",
        "         5          17.5328            0.33s\n",
        "         6          16.4224            0.32s\n",
        "         7          15.4494            0.32s\n",
        "         8          14.6102            0.31s\n",
        "         9          13.8162            0.30s\n",
        "        10          13.1377            0.30s\n",
        "        20           9.2544            0.25s"
       ]
      },
      {
       "output_type": "stream",
       "stream": "stdout",
       "text": [
        "\n",
        "        30           7.8595            0.21s\n",
        "        40           7.1591            0.16s\n",
        "        50           6.6273            0.13s"
       ]
      },
      {
       "output_type": "stream",
       "stream": "stdout",
       "text": [
        "\n",
        "        60           6.3475            0.10s\n",
        "        70           5.8826            0.07s\n",
        "        80           5.5036            0.05s"
       ]
      },
      {
       "output_type": "stream",
       "stream": "stdout",
       "text": [
        "\n",
        "        90           5.3049            0.02s\n",
        "       100           5.1698            0.00s\n",
        " "
       ]
      },
      {
       "output_type": "stream",
       "stream": "stdout",
       "text": [
        "\u0410\u043b\u044c\u043c\u0435\u0442\u044c\u0435\u0432\u0441\u043a-1      Iter       Train Loss   Remaining Time \n",
        "         1          31.1228            0.30s\n",
        "         2          28.5017            0.29s\n",
        "         3          26.1921            0.29s\n",
        "         4          24.0510            0.29s\n",
        "         5          22.2738            0.29s\n",
        "         6          20.6424            0.29s\n",
        "         7          19.1184            0.29s\n",
        "         8          17.7484            0.29s\n",
        "         9          16.5535            0.29s\n",
        "        10          15.5589            0.29s\n",
        "        20           9.4002            0.26s"
       ]
      },
      {
       "output_type": "stream",
       "stream": "stdout",
       "text": [
        "\n",
        "        30           7.3510            0.22s\n",
        "        40           6.4554            0.17s"
       ]
      },
      {
       "output_type": "stream",
       "stream": "stdout",
       "text": [
        "\n",
        "        50           5.8713            0.14s\n",
        "        60           5.5536            0.11s\n",
        "        70           5.3530            0.08s"
       ]
      },
      {
       "output_type": "stream",
       "stream": "stdout",
       "text": [
        "\n",
        "        80           5.1754            0.05s\n",
        "        90           5.1036            0.02s\n",
        "       100           4.9930            0.00s"
       ]
      },
      {
       "output_type": "stream",
       "stream": "stdout",
       "text": [
        "\n",
        " \u0413\u0430\u0442\u0447\u0438\u043d\u0430-1      Iter       Train Loss   Remaining Time "
       ]
      },
      {
       "output_type": "stream",
       "stream": "stdout",
       "text": [
        "\n",
        "         1          26.3597            0.26s\n",
        "         2          24.3137            0.27s\n",
        "         3          22.5549            0.27s\n",
        "         4          20.9145            0.28s\n",
        "         5          19.4503            0.28s\n",
        "         6          18.1191            0.28s\n",
        "         7          16.9970            0.29s\n",
        "         8          15.9578            0.29s\n",
        "         9          15.0645            0.28s\n",
        "        10          14.2669            0.28s\n",
        "        20           9.6701            0.26s"
       ]
      },
      {
       "output_type": "stream",
       "stream": "stdout",
       "text": [
        "\n",
        "        30           7.8968            0.21s\n",
        "        40           7.0972            0.17s\n",
        "        50           6.3751            0.14s"
       ]
      },
      {
       "output_type": "stream",
       "stream": "stdout",
       "text": [
        "\n",
        "        60           5.7687            0.11s\n",
        "        70           5.4219            0.08s"
       ]
      },
      {
       "output_type": "stream",
       "stream": "stdout",
       "text": [
        "\n",
        "        80           5.1615            0.06s\n",
        "        90           5.0070            0.03s\n",
        "       100           4.8919            0.00s"
       ]
      },
      {
       "output_type": "stream",
       "stream": "stdout",
       "text": [
        "\n",
        " \u0421\u043c\u043e\u043b\u0435\u043d\u0441\u043a-3      Iter       Train Loss   Remaining Time \n",
        "         1          41.0158            0.26s"
       ]
      },
      {
       "output_type": "stream",
       "stream": "stdout",
       "text": [
        "\n",
        "         2          37.4939            0.27s\n",
        "         3          34.2709            0.28s\n",
        "         4          31.4267            0.29s\n",
        "         5          28.9216            0.29s\n",
        "         6          26.6271            0.29s\n",
        "         7          24.4635            0.28s\n",
        "         8          22.9131            0.28s\n",
        "         9          21.1914            0.28s\n",
        "        10          19.7368            0.28s\n",
        "        20          10.8994            0.24s"
       ]
      },
      {
       "output_type": "stream",
       "stream": "stdout",
       "text": [
        "\n",
        "        30           7.6287            0.21s\n",
        "        40           6.3616            0.16s\n",
        "        50           5.7348            0.13s"
       ]
      },
      {
       "output_type": "stream",
       "stream": "stdout",
       "text": [
        "\n",
        "        60           5.0389            0.10s\n",
        "        70           4.6298            0.07s\n",
        "        80           4.3182            0.05s"
       ]
      },
      {
       "output_type": "stream",
       "stream": "stdout",
       "text": [
        "\n",
        "        90           3.9704            0.02s\n",
        "       100           3.7462            0.00s\n",
        " "
       ]
      },
      {
       "output_type": "stream",
       "stream": "stdout",
       "text": [
        "\u0425\u0438\u043c\u043a\u0438-1      Iter       Train Loss   Remaining Time \n",
        "         1          26.0819            0.37s\n",
        "         2          24.3416            0.37s\n",
        "         3          22.8883            0.34s\n",
        "         4          21.6462            0.33s\n",
        "         5          20.3358            0.32s\n",
        "         6          19.3071            0.31s\n",
        "         7          18.3005            0.31s\n",
        "         8          17.4019            0.30s\n",
        "         9          16.5652            0.30s\n",
        "        10          15.8699            0.29s\n",
        "        20          11.8347            0.23s"
       ]
      },
      {
       "output_type": "stream",
       "stream": "stdout",
       "text": [
        "\n",
        "        30           9.9498            0.21s\n",
        "        40           8.7852            0.17s"
       ]
      },
      {
       "output_type": "stream",
       "stream": "stdout",
       "text": [
        "\n",
        "        50           8.2472            0.14s\n",
        "        60           7.8255            0.11s\n",
        "        70           7.4745            0.08s"
       ]
      },
      {
       "output_type": "stream",
       "stream": "stdout",
       "text": [
        "\n",
        "        80           7.2062            0.05s\n",
        "        90           6.9685            0.03s\n",
        "       100           6.8190            0.00s"
       ]
      },
      {
       "output_type": "stream",
       "stream": "stdout",
       "text": [
        "\n",
        " \u041c\u0430\u0445\u0430\u0447\u043a\u0430\u043b\u0430-1      Iter       Train Loss   Remaining Time \n",
        "         1          34.1815            0.25s"
       ]
      },
      {
       "output_type": "stream",
       "stream": "stdout",
       "text": [
        "\n",
        "         2          31.2369            0.31s\n",
        "         3          28.7188            0.30s\n",
        "         4          26.4485            0.29s\n",
        "         5          24.3360            0.30s\n",
        "         6          22.4837            0.30s\n",
        "         7          20.8351            0.30s\n",
        "         8          19.3709            0.29s\n",
        "         9          18.0864            0.28s\n",
        "        10          16.8412            0.28s\n",
        "        20          10.1594            0.24s"
       ]
      },
      {
       "output_type": "stream",
       "stream": "stdout",
       "text": [
        "\n",
        "        30           7.6604            0.20s\n",
        "        40           6.7214            0.16s\n",
        "        50           5.8718            0.13s"
       ]
      },
      {
       "output_type": "stream",
       "stream": "stdout",
       "text": [
        "\n",
        "        60           5.1899            0.11s\n",
        "        70           4.9210            0.08s\n",
        "        80           4.5078            0.05s"
       ]
      },
      {
       "output_type": "stream",
       "stream": "stdout",
       "text": [
        "\n",
        "        90           4.2501            0.03s\n",
        "       100           3.9075            0.00s"
       ]
      },
      {
       "output_type": "stream",
       "stream": "stdout",
       "text": [
        "\n",
        " \u0422\u044e\u043c\u0435\u043d\u044c-1      Iter       Train Loss   Remaining Time \n",
        "         1          30.1528            0.27s\n",
        "         2          27.5934            0.25s"
       ]
      },
      {
       "output_type": "stream",
       "stream": "stdout",
       "text": [
        "\n",
        "         3          25.3470            0.28s\n",
        "         4          23.2644            0.30s\n",
        "         5          21.4532            0.29s\n",
        "         6          19.9524            0.29s\n",
        "         7          18.5426            0.29s\n",
        "         8          17.3295            0.28s\n",
        "         9          16.2395            0.28s\n",
        "        10          15.2929            0.27s\n",
        "        20           9.7385            0.23s"
       ]
      },
      {
       "output_type": "stream",
       "stream": "stdout",
       "text": [
        "\n",
        "        30           7.8376            0.20s\n",
        "        40           6.8253            0.17s"
       ]
      },
      {
       "output_type": "stream",
       "stream": "stdout",
       "text": [
        "\n",
        "        50           6.2863            0.13s\n",
        "        60           5.9267            0.10s\n",
        "        70           5.7005            0.07s"
       ]
      },
      {
       "output_type": "stream",
       "stream": "stdout",
       "text": [
        "\n",
        "        80           5.4484            0.05s\n",
        "        90           5.2782            0.02s\n",
        "       100           5.0725            0.00s"
       ]
      },
      {
       "output_type": "stream",
       "stream": "stdout",
       "text": [
        "\n",
        " \u0411\u0443\u0433\u0443\u043b\u044c\u043c\u0430-1      Iter       Train Loss   Remaining Time "
       ]
      },
      {
       "output_type": "stream",
       "stream": "stdout",
       "text": [
        "\n",
        "         1          39.8872            0.25s\n",
        "         2          36.4573            0.25s\n",
        "         3          33.4581            0.26s\n",
        "         4          30.7008            0.26s\n",
        "         5          28.4540            0.26s\n",
        "         6          26.2910            0.27s\n",
        "         7          24.2545            0.27s\n",
        "         8          22.5342            0.27s\n",
        "         9          20.9054            0.27s\n",
        "        10          19.4155            0.27s\n",
        "        20          11.3754            0.24s"
       ]
      },
      {
       "output_type": "stream",
       "stream": "stdout",
       "text": [
        "\n",
        "        30           8.8614            0.19s\n",
        "        40           7.7716            0.15s\n",
        "        50           7.2832            0.12s"
       ]
      },
      {
       "output_type": "stream",
       "stream": "stdout",
       "text": [
        "\n",
        "        60           7.0320            0.09s\n",
        "        70           6.5618            0.07s\n",
        "        80           5.8019            0.05s"
       ]
      },
      {
       "output_type": "stream",
       "stream": "stdout",
       "text": [
        "\n",
        "        90           5.1212            0.02s\n",
        "       100           4.6499            0.00s"
       ]
      },
      {
       "output_type": "stream",
       "stream": "stdout",
       "text": [
        "\n",
        " \u0423\u0441\u0441\u0443\u0440\u0438\u0439\u0441\u043a-1      Iter       Train Loss   Remaining Time "
       ]
      },
      {
       "output_type": "stream",
       "stream": "stdout",
       "text": [
        "\n",
        "         1          14.9130            0.31s\n",
        "         2          14.2114            0.31s\n",
        "         3          13.6546            0.29s\n",
        "         4          13.1730            0.28s\n",
        "         5          12.7216            0.28s\n",
        "         6          12.3816            0.29s\n",
        "         7          12.0362            0.27s\n",
        "         8          11.7133            0.27s\n",
        "         9          11.4231            0.27s\n",
        "        10          11.1335            0.26s\n",
        "        20           9.1364            0.21s"
       ]
      },
      {
       "output_type": "stream",
       "stream": "stdout",
       "text": [
        "\n",
        "        30           8.2648            0.18s\n",
        "        40           7.3834            0.14s\n",
        "        50           7.0806            0.12s"
       ]
      },
      {
       "output_type": "stream",
       "stream": "stdout",
       "text": [
        "\n",
        "        60           6.9722            0.09s\n",
        "        70           6.7902            0.07s\n",
        "        80           6.6283            0.04s"
       ]
      },
      {
       "output_type": "stream",
       "stream": "stdout",
       "text": [
        "\n",
        "        90           6.5648            0.02s\n",
        "       100           6.4334            0.00s\n",
        " "
       ]
      },
      {
       "output_type": "stream",
       "stream": "stdout",
       "text": [
        "\u0421\u044b\u043a\u0442\u044b\u0432\u043a\u0430\u0440-5      Iter       Train Loss   Remaining Time \n",
        "         1          55.5237            0.25s\n",
        "         2          50.8510            0.26s\n",
        "         3          46.6404            0.27s\n",
        "         4          42.9670            0.26s\n",
        "         5          39.6037            0.26s\n",
        "         6          36.6631            0.26s\n",
        "         7          33.9967            0.26s\n",
        "         8          31.6281            0.27s\n",
        "         9          29.8338            0.26s\n",
        "        10          28.1281            0.26s\n",
        "        20          17.5332            0.23s"
       ]
      },
      {
       "output_type": "stream",
       "stream": "stdout",
       "text": [
        "\n",
        "        30          12.9932            0.20s\n",
        "        40          10.8754            0.16s\n",
        "        50           9.9450            0.13s"
       ]
      },
      {
       "output_type": "stream",
       "stream": "stdout",
       "text": [
        "\n",
        "        60           9.0798            0.10s\n",
        "        70           8.2024            0.07s\n",
        "        80           7.3816            0.05s"
       ]
      },
      {
       "output_type": "stream",
       "stream": "stdout",
       "text": [
        "\n",
        "        90           6.8554            0.02s\n",
        "       100           6.5133            0.00s\n",
        " "
       ]
      },
      {
       "output_type": "stream",
       "stream": "stdout",
       "text": [
        "\u0421\u0430\u043c\u0430\u0440\u0430-4      Iter       Train Loss   Remaining Time \n",
        "         1          27.3897            0.22s\n",
        "         2          25.2350            0.22s\n",
        "         3          23.3788            0.22s\n",
        "         4          21.7763            0.23s\n",
        "         5          20.3132            0.22s\n",
        "         6          18.9498            0.22s\n",
        "         7          17.6449            0.23s\n",
        "         8          16.5700            0.23s\n",
        "         9          15.6373            0.24s\n",
        "        10          14.7630            0.24s\n",
        "        20           9.9056            0.21s"
       ]
      },
      {
       "output_type": "stream",
       "stream": "stdout",
       "text": [
        "\n",
        "        30           7.9996            0.17s\n",
        "        40           6.7678            0.15s\n",
        "        50           6.1402            0.12s"
       ]
      },
      {
       "output_type": "stream",
       "stream": "stdout",
       "text": [
        "\n",
        "        60           5.5574            0.10s\n",
        "        70           5.2206            0.07s\n",
        "        80           4.9886            0.05s"
       ]
      },
      {
       "output_type": "stream",
       "stream": "stdout",
       "text": [
        "\n",
        "        90           4.9011            0.02s\n",
        "       100           4.6960            0.00s\n",
        " "
       ]
      },
      {
       "output_type": "stream",
       "stream": "stdout",
       "text": [
        "\u041a\u043e\u043b\u043f\u0438\u043d\u043e-1      Iter       Train Loss   Remaining Time \n",
        "         1          15.9724            0.23s\n",
        "         2          14.6812            0.25s\n",
        "         3          13.5632            0.25s\n",
        "         4          12.5507            0.25s\n",
        "         5          11.6742            0.26s\n",
        "         6          10.8065            0.26s\n",
        "         7          10.0863            0.26s\n",
        "         8           9.4700            0.26s\n",
        "         9           8.9283            0.25s\n",
        "        10           8.3807            0.25s\n",
        "        20           5.5241            0.21s"
       ]
      },
      {
       "output_type": "stream",
       "stream": "stdout",
       "text": [
        "\n",
        "        30           4.3793            0.18s\n",
        "        40           3.7907            0.15s\n",
        "        50           3.4250            0.12s"
       ]
      },
      {
       "output_type": "stream",
       "stream": "stdout",
       "text": [
        "\n",
        "        60           3.1865            0.09s\n",
        "        70           3.0157            0.07s\n",
        "        80           2.9025            0.04s"
       ]
      },
      {
       "output_type": "stream",
       "stream": "stdout",
       "text": [
        "\n",
        "        90           2.7641            0.02s\n",
        "       100           2.6702            0.00s\n",
        " "
       ]
      },
      {
       "output_type": "stream",
       "stream": "stdout",
       "text": [
        "\u0410\u0441\u0442\u0440\u0430\u0445\u0430\u043d\u044c-1      Iter       Train Loss   Remaining Time \n",
        "         1          41.9146            0.23s\n",
        "         2          37.8735            0.23s\n",
        "         3          34.4995            0.24s\n",
        "         4          31.4396            0.23s\n",
        "         5          28.7292            0.25s\n",
        "         6          26.2583            0.25s\n",
        "         7          24.1048            0.25s\n",
        "         8          22.2515            0.25s\n",
        "         9          20.6322            0.24s\n",
        "        10          19.2491            0.24s\n",
        "        20          10.8111            0.21s"
       ]
      },
      {
       "output_type": "stream",
       "stream": "stdout",
       "text": [
        "\n",
        "        30           7.8981            0.18s\n",
        "        40           6.5279            0.15s\n",
        "        50           5.4591            0.12s"
       ]
      },
      {
       "output_type": "stream",
       "stream": "stdout",
       "text": [
        "\n",
        "        60           4.7799            0.10s\n",
        "        70           4.3106            0.07s\n",
        "        80           3.8910            0.05s"
       ]
      },
      {
       "output_type": "stream",
       "stream": "stdout",
       "text": [
        "\n",
        "        90           3.5761            0.02s\n",
        "       100           3.3452            0.00s"
       ]
      },
      {
       "output_type": "stream",
       "stream": "stdout",
       "text": [
        "\n",
        " \u041d\u043e\u0432\u043e\u0440\u043e\u0441\u0441\u0438\u0439\u0441\u043a-1      Iter       Train Loss   Remaining Time \n",
        "         1          24.3135            0.25s"
       ]
      },
      {
       "output_type": "stream",
       "stream": "stdout",
       "text": [
        "\n",
        "         2          22.4060            0.27s\n",
        "         3          20.6423            0.27s\n",
        "         4          19.0687            0.25s\n",
        "         5          17.6441            0.25s\n",
        "         6          16.3534            0.25s\n",
        "         7          15.2062            0.25s\n",
        "         8          14.2488            0.25s\n",
        "         9          13.3542            0.26s\n",
        "        10          12.5437            0.25s\n",
        "        20           8.0272            0.23s"
       ]
      },
      {
       "output_type": "stream",
       "stream": "stdout",
       "text": [
        "\n",
        "        30           6.4066            0.19s\n",
        "        40           5.4514            0.16s\n",
        "        50           4.8177            0.12s"
       ]
      },
      {
       "output_type": "stream",
       "stream": "stdout",
       "text": [
        "\n",
        "        60           4.5918            0.09s\n",
        "        70           4.3990            0.07s\n",
        "        80           4.2439            0.04s"
       ]
      },
      {
       "output_type": "stream",
       "stream": "stdout",
       "text": [
        "\n",
        "        90           4.0014            0.02s\n",
        "       100           3.7698            0.00s\n",
        " "
       ]
      },
      {
       "output_type": "stream",
       "stream": "stdout",
       "text": [
        "\u041c\u044b\u0442\u0438\u0449\u0438-1      Iter       Train Loss   Remaining Time \n",
        "         1          30.5479            0.23s\n",
        "         2          28.0803            0.25s\n",
        "         3          25.9684            0.25s\n",
        "         4          24.1428            0.25s\n",
        "         5          22.4625            0.25s\n",
        "         6          20.8924            0.25s\n",
        "         7          19.5768            0.25s\n",
        "         8          18.3688            0.24s\n",
        "         9          17.3545            0.23s\n",
        "        10          16.3955            0.22s\n",
        "        20          10.9085            0.19s"
       ]
      },
      {
       "output_type": "stream",
       "stream": "stdout",
       "text": [
        "\n",
        "        30           8.9346            0.15s\n",
        "        40           7.8349            0.13s\n",
        "        50           7.1306            0.10s"
       ]
      },
      {
       "output_type": "stream",
       "stream": "stdout",
       "text": [
        "\n",
        "        60           6.4595            0.08s\n",
        "        70           5.8360            0.06s\n",
        "        80           5.4826            0.04s"
       ]
      },
      {
       "output_type": "stream",
       "stream": "stdout",
       "text": [
        "\n",
        "        90           5.2573            0.02s\n",
        "       100           4.9641            0.00s\n",
        " "
       ]
      },
      {
       "output_type": "stream",
       "stream": "stdout",
       "text": [
        "\u0410\u0447\u0438\u043d\u0441\u043a-1      Iter       Train Loss   Remaining Time \n",
        "         1          27.1310            0.21s\n",
        "         2          25.1435            0.22s\n",
        "         3          23.3967            0.21s\n",
        "         4          21.7967            0.21s\n",
        "         5          20.3745            0.21s\n",
        "         6          19.0856            0.21s\n",
        "         7          18.0226            0.21s\n",
        "         8          17.0255            0.21s\n",
        "         9          16.1421            0.21s\n",
        "        10          15.4003            0.21s\n",
        "        20          10.8752            0.20s"
       ]
      },
      {
       "output_type": "stream",
       "stream": "stdout",
       "text": [
        "\n",
        "        30           9.0776            0.16s\n",
        "        40           8.2033            0.13s\n",
        "        50           7.3935            0.11s"
       ]
      },
      {
       "output_type": "stream",
       "stream": "stdout",
       "text": [
        "\n",
        "        60           6.9975            0.08s\n",
        "        70           6.8536            0.06s\n",
        "        80           6.7965            0.04s\n",
        "        90           6.7261            0.02s"
       ]
      },
      {
       "output_type": "stream",
       "stream": "stdout",
       "text": [
        "\n",
        "       100           6.3294            0.00s\n",
        " "
       ]
      },
      {
       "output_type": "stream",
       "stream": "stdout",
       "text": [
        "\u0412\u043e\u043b\u0436\u0441\u043a\u0438\u0439-1      Iter       Train Loss   Remaining Time \n",
        "         1          14.9319            0.26s\n",
        "         2          13.7344            0.26s\n",
        "         3          12.7167            0.26s\n",
        "         4          11.7461            0.27s\n",
        "         5          10.9716            0.27s\n",
        "         6          10.2019            0.27s\n",
        "         7           9.5548            0.27s\n",
        "         8           9.0187            0.27s\n",
        "         9           8.5171            0.26s\n",
        "        10           8.0323            0.26s\n",
        "        20           5.4457            0.20s"
       ]
      },
      {
       "output_type": "stream",
       "stream": "stdout",
       "text": [
        "\n",
        "        30           4.3730            0.17s\n",
        "        40           3.6751            0.14s\n",
        "        50           3.2986            0.12s"
       ]
      },
      {
       "output_type": "stream",
       "stream": "stdout",
       "text": [
        "\n",
        "        60           3.0164            0.09s\n",
        "        70           2.6467            0.07s\n",
        "        80           2.4457            0.05s"
       ]
      },
      {
       "output_type": "stream",
       "stream": "stdout",
       "text": [
        "\n",
        "        90           2.3079            0.02s\n",
        "       100           2.2006            0.00s\n",
        " "
       ]
      },
      {
       "output_type": "stream",
       "stream": "stdout",
       "text": [
        "\u041c\u0443\u0440\u043e\u043c-1      Iter       Train Loss   Remaining Time \n",
        "         1          26.4160            0.25s\n",
        "         2          24.1278            0.25s\n",
        "         3          22.2132            0.24s\n",
        "         4          20.5233            0.24s\n",
        "         5          19.0052            0.23s\n",
        "         6          17.6235            0.24s\n",
        "         7          16.3882            0.24s\n",
        "         8          15.2337            0.24s\n",
        "         9          14.2430            0.23s\n",
        "        10          13.4150            0.23s\n",
        "        20           8.5922            0.20s"
       ]
      },
      {
       "output_type": "stream",
       "stream": "stdout",
       "text": [
        "\n",
        "        30           6.9181            0.17s\n",
        "        40           6.1311            0.14s\n",
        "        50           5.7201            0.11s"
       ]
      },
      {
       "output_type": "stream",
       "stream": "stdout",
       "text": [
        "\n",
        "        60           5.5078            0.08s\n",
        "        70           5.3983            0.06s\n",
        "        80           5.3316            0.04s\n",
        "        90           5.0004            0.02s"
       ]
      },
      {
       "output_type": "stream",
       "stream": "stdout",
       "text": [
        "\n",
        "       100           4.7811            0.00s\n",
        " "
       ]
      },
      {
       "output_type": "stream",
       "stream": "stdout",
       "text": [
        "\u041a\u0430\u043b\u0438\u043d\u0438\u043d\u0433\u0440\u0430\u0434-1      Iter       Train Loss   Remaining Time \n",
        "         1          25.6918            0.19s\n",
        "         2          23.5715            0.19s\n",
        "         3          21.5463            0.20s\n",
        "         4          19.7613            0.21s\n",
        "         5          18.1813            0.21s\n",
        "         6          16.7646            0.21s\n",
        "         7          15.5309            0.21s\n",
        "         8          14.4199            0.21s\n",
        "         9          13.4752            0.21s\n",
        "        10          12.5806            0.21s\n",
        "        20           7.3299            0.20s"
       ]
      },
      {
       "output_type": "stream",
       "stream": "stdout",
       "text": [
        "\n",
        "        30           5.2531            0.18s\n",
        "        40           4.3073            0.15s\n",
        "        50           3.9851            0.11s"
       ]
      },
      {
       "output_type": "stream",
       "stream": "stdout",
       "text": [
        "\n",
        "        60           3.5676            0.09s\n",
        "        70           3.3425            0.07s\n",
        "        80           3.1127            0.05s"
       ]
      },
      {
       "output_type": "stream",
       "stream": "stdout",
       "text": [
        "\n",
        "        90           2.9698            0.02s\n",
        "       100           2.8500            0.00s\n",
        " "
       ]
      },
      {
       "output_type": "stream",
       "stream": "stdout",
       "text": [
        "\u0411\u0435\u0440\u0435\u0437\u043d\u0438\u043a\u0438-1      Iter       Train Loss   Remaining Time \n",
        "         1          35.8727            0.23s\n",
        "         2          32.7638            0.22s\n",
        "         3          29.9678            0.22s\n",
        "         4          27.5712            0.22s\n",
        "         5          25.3242            0.22s\n",
        "         6          23.3038            0.22s\n",
        "         7          21.5125            0.22s\n",
        "         8          19.9340            0.22s\n",
        "         9          18.7068            0.21s\n",
        "        10          17.5944            0.21s\n",
        "        20          10.2130            0.19s"
       ]
      },
      {
       "output_type": "stream",
       "stream": "stdout",
       "text": [
        "\n",
        "        30           7.2731            0.16s\n",
        "        40           6.1605            0.13s\n",
        "        50           5.5716            0.10s"
       ]
      },
      {
       "output_type": "stream",
       "stream": "stdout",
       "text": [
        "\n",
        "        60           5.1619            0.08s\n",
        "        70           4.7808            0.06s\n",
        "        80           4.2960            0.04s\n",
        "        90           3.8535            0.02s"
       ]
      },
      {
       "output_type": "stream",
       "stream": "stdout",
       "text": [
        "\n",
        "       100           3.5655            0.00s\n",
        " "
       ]
      },
      {
       "output_type": "stream",
       "stream": "stdout",
       "text": [
        "\u0420\u043e\u0441\u0442\u043e\u0432-\u043d\u0430-\u0414\u043e\u043d\u0443-2      Iter       Train Loss   Remaining Time \n",
        "         1          19.9893            0.20s\n",
        "         2          18.5052            0.20s\n",
        "         3          17.1109            0.21s\n",
        "         4          15.8753            0.21s\n",
        "         5          14.8022            0.21s\n",
        "         6          13.8952            0.21s\n",
        "         7          13.0152            0.21s\n",
        "         8          12.2610            0.21s\n",
        "         9          11.6140            0.22s\n",
        "        10          11.0005            0.21s\n",
        "        20           7.5044            0.19s"
       ]
      },
      {
       "output_type": "stream",
       "stream": "stdout",
       "text": [
        "\n",
        "        30           5.9803            0.16s\n",
        "        40           5.1852            0.14s\n",
        "        50           4.4586            0.11s"
       ]
      },
      {
       "output_type": "stream",
       "stream": "stdout",
       "text": [
        "\n",
        "        60           4.1448            0.09s\n",
        "        70           3.8919            0.07s\n",
        "        80           3.6908            0.04s"
       ]
      },
      {
       "output_type": "stream",
       "stream": "stdout",
       "text": [
        "\n",
        "        90           3.4814            0.02s\n",
        "       100           3.2433            0.00s\n",
        " "
       ]
      },
      {
       "output_type": "stream",
       "stream": "stdout",
       "text": [
        "\u0427\u0430\u0439\u043a\u043e\u0432\u0441\u043a\u0438\u0439-1      Iter       Train Loss   Remaining Time \n",
        "         1          21.0363            0.21s\n",
        "         2          19.2858            0.21s\n",
        "         3          17.7868            0.21s\n",
        "         4          16.5394            0.21s\n",
        "         5          15.3783            0.21s\n",
        "         6          14.3277            0.21s\n",
        "         7          13.3764            0.21s\n",
        "         8          12.5386            0.20s\n",
        "         9          11.6715            0.21s\n",
        "        10          11.0332            0.20s\n",
        "        20           7.1151            0.18s"
       ]
      },
      {
       "output_type": "stream",
       "stream": "stdout",
       "text": [
        "\n",
        "        30           5.5731            0.16s\n",
        "        40           4.9915            0.13s\n",
        "        50           4.6185            0.10s"
       ]
      },
      {
       "output_type": "stream",
       "stream": "stdout",
       "text": [
        "\n",
        "        60           4.3525            0.08s\n",
        "        70           3.9556            0.06s\n",
        "        80           3.7126            0.04s"
       ]
      },
      {
       "output_type": "stream",
       "stream": "stdout",
       "text": [
        "\n",
        "        90           3.5424            0.02s\n",
        "       100           3.4038            0.00s\n",
        " "
       ]
      },
      {
       "output_type": "stream",
       "stream": "stdout",
       "text": [
        "\u041d\u0438\u0436\u043d\u0435\u0432\u0430\u0440\u0442\u043e\u0432\u0441\u043a-1      Iter       Train Loss   Remaining Time \n",
        "         1          28.6286            0.20s\n",
        "         2          26.2901            0.20s\n",
        "         3          24.2493            0.19s\n",
        "         4          22.3592            0.22s\n",
        "         5          20.7534            0.22s\n",
        "         6          19.3569            0.21s\n",
        "         7          18.1249            0.22s\n",
        "         8          16.9736            0.22s\n",
        "         9          16.0435            0.22s\n",
        "        10          15.0287            0.22s\n",
        "        20           9.3651            0.20s"
       ]
      },
      {
       "output_type": "stream",
       "stream": "stdout",
       "text": [
        "\n",
        "        30           7.0716            0.16s\n",
        "        40           6.1183            0.12s\n",
        "        50           5.2778            0.10s"
       ]
      },
      {
       "output_type": "stream",
       "stream": "stdout",
       "text": [
        "\n",
        "        60           4.7045            0.08s\n",
        "        70           4.3538            0.06s\n",
        "        80           4.0990            0.04s\n",
        "        90           3.7688            0.02s"
       ]
      },
      {
       "output_type": "stream",
       "stream": "stdout",
       "text": [
        "\n",
        "       100           3.5206            0.00s\n",
        " "
       ]
      },
      {
       "output_type": "stream",
       "stream": "stdout",
       "text": [
        "\u0421\u0430\u0440\u0430\u0442\u043e\u0432-1      Iter       Train Loss   Remaining Time \n",
        "         1          33.3472            0.17s\n",
        "         2          30.7241            0.18s\n",
        "         3          28.1889            0.18s\n",
        "         4          26.1888            0.18s\n",
        "         5          24.1177            0.19s\n",
        "         6          22.4865            0.18s\n",
        "         7          20.8343            0.19s\n",
        "         8          19.3873            0.19s\n",
        "         9          17.9919            0.19s\n",
        "        10          16.9449            0.19s\n",
        "        20          10.1022            0.17s"
       ]
      },
      {
       "output_type": "stream",
       "stream": "stdout",
       "text": [
        "\n",
        "        30           7.6405            0.15s\n",
        "        40           6.5132            0.12s\n",
        "        50           6.0845            0.10s"
       ]
      },
      {
       "output_type": "stream",
       "stream": "stdout",
       "text": [
        "\n",
        "        60           5.3561            0.08s\n",
        "        70           4.9257            0.06s\n",
        "        80           4.4792            0.04s"
       ]
      },
      {
       "output_type": "stream",
       "stream": "stdout",
       "text": [
        "\n",
        "        90           4.2101            0.02s\n",
        "       100           3.9243            0.00s\n",
        " "
       ]
      },
      {
       "output_type": "stream",
       "stream": "stdout",
       "text": [
        "\u0420\u0435\u0443\u0442\u043e\u0432-1      Iter       Train Loss   Remaining Time \n",
        "         1          37.4463            0.18s\n",
        "         2          34.0903            0.18s\n",
        "         3          31.0463            0.19s\n",
        "         4          28.4105            0.19s\n",
        "         5          26.2400            0.19s\n",
        "         6          24.4055            0.19s\n",
        "         7          22.7382            0.18s\n",
        "         8          21.2783            0.18s\n",
        "         9          19.8555            0.18s\n",
        "        10          18.5620            0.18s\n",
        "        20          11.0693            0.16s"
       ]
      },
      {
       "output_type": "stream",
       "stream": "stdout",
       "text": [
        "\n",
        "        30           8.5075            0.14s\n",
        "        40           7.4919            0.12s\n",
        "        50           6.5171            0.10s"
       ]
      },
      {
       "output_type": "stream",
       "stream": "stdout",
       "text": [
        "\n",
        "        60           5.4948            0.08s\n",
        "        70           4.8497            0.06s\n",
        "        80           4.5028            0.04s"
       ]
      },
      {
       "output_type": "stream",
       "stream": "stdout",
       "text": [
        "\n",
        "        90           4.4054            0.02s\n",
        "       100           4.2470            0.00s\n",
        " "
       ]
      },
      {
       "output_type": "stream",
       "stream": "stdout",
       "text": [
        "\u041e\u0434\u0438\u043d\u0446\u043e\u0432\u043e-1      Iter       Train Loss   Remaining Time \n",
        "         1          38.5718            0.15s\n",
        "         2          35.2601            0.17s\n",
        "         3          32.3588            0.17s\n",
        "         4          29.6294            0.17s\n",
        "         5          27.2217            0.18s\n",
        "         6          25.1012            0.19s\n",
        "         7          23.2836            0.20s\n",
        "         8          21.6007            0.20s\n",
        "         9          20.1477            0.19s\n",
        "        10          18.7725            0.19s\n",
        "        20          10.9816            0.18s"
       ]
      },
      {
       "output_type": "stream",
       "stream": "stdout",
       "text": [
        "\n",
        "        30           8.5017            0.15s\n",
        "        40           7.5940            0.13s\n",
        "        50           6.7135            0.10s"
       ]
      },
      {
       "output_type": "stream",
       "stream": "stdout",
       "text": [
        "\n",
        "        60           5.9904            0.08s\n",
        "        70           5.5337            0.06s\n",
        "        80           4.8088            0.04s"
       ]
      },
      {
       "output_type": "stream",
       "stream": "stdout",
       "text": [
        "\n",
        "        90           4.2884            0.02s\n",
        "       100           4.0823            0.00s\n",
        " "
       ]
      },
      {
       "output_type": "stream",
       "stream": "stdout",
       "text": [
        "\u041a\u043e\u043c\u0441\u043e\u043c\u043e\u043b\u044c\u0441\u043a-\u043d\u0430-\u0410\u043c\u0443\u0440\u0435-1      Iter       Train Loss   Remaining Time \n",
        "         1          21.1135            0.23s\n",
        "         2          19.5825            0.22s\n",
        "         3          18.0764            0.24s\n",
        "         4          16.8587            0.23s\n",
        "         5          15.7139            0.23s\n",
        "         6          14.6316            0.23s\n",
        "         7          13.6924            0.23s\n",
        "         8          12.9222            0.22s\n",
        "         9          12.1874            0.22s\n",
        "        10          11.4889            0.22s\n",
        "        20           7.7094            0.19s"
       ]
      },
      {
       "output_type": "stream",
       "stream": "stdout",
       "text": [
        "\n",
        "        30           6.2192            0.16s\n",
        "        40           5.6416            0.12s\n",
        "        50           4.9768            0.10s"
       ]
      },
      {
       "output_type": "stream",
       "stream": "stdout",
       "text": [
        "\n",
        "        60           4.6234            0.08s\n",
        "        70           4.2742            0.06s\n",
        "        80           3.9961            0.04s"
       ]
      },
      {
       "output_type": "stream",
       "stream": "stdout",
       "text": [
        "\n",
        "        90           3.7315            0.02s\n",
        "       100           3.5892            0.00s\n",
        " "
       ]
      },
      {
       "output_type": "stream",
       "stream": "stdout",
       "text": [
        "\u0414\u043e\u043c\u043e\u0434\u0435\u0434\u043e\u0432\u043e-1      Iter       Train Loss   Remaining Time \n",
        "         1          17.1166            0.17s\n",
        "         2          15.8165            0.18s\n",
        "         3          14.5968            0.21s\n",
        "         4          13.4155            0.21s\n",
        "         5          12.4236            0.22s\n",
        "         6          11.5645            0.22s\n",
        "         7          10.8043            0.23s\n",
        "         8          10.1706            0.23s\n",
        "         9           9.5966            0.22s\n",
        "        10           9.1188            0.22s\n",
        "        20           5.9541            0.18s"
       ]
      },
      {
       "output_type": "stream",
       "stream": "stdout",
       "text": [
        "\n",
        "        30           4.7715            0.15s\n",
        "        40           4.2405            0.13s\n",
        "        50           3.7970            0.10s"
       ]
      },
      {
       "output_type": "stream",
       "stream": "stdout",
       "text": [
        "\n",
        "        60           3.5507            0.08s\n",
        "        70           3.2890            0.06s\n",
        "        80           3.1185            0.04s"
       ]
      },
      {
       "output_type": "stream",
       "stream": "stdout",
       "text": [
        "\n",
        "        90           2.9455            0.02s\n",
        "       100           2.8810            0.00s\n",
        " "
       ]
      },
      {
       "output_type": "stream",
       "stream": "stdout",
       "text": [
        "\u0412\u043e\u043b\u043e\u0433\u0434\u0430-1      Iter       Train Loss   Remaining Time \n",
        "         1          35.1767            0.21s\n",
        "         2          32.3607            0.19s\n",
        "         3          29.7144            0.20s\n",
        "         4          27.4685            0.22s\n",
        "         5          25.1937            0.22s\n",
        "         6          23.1638            0.22s\n",
        "         7          21.4033            0.22s\n",
        "         8          19.7617            0.21s\n",
        "         9          18.1801            0.21s\n",
        "        10          16.9417            0.20s\n",
        "        20           9.7480            0.18s"
       ]
      },
      {
       "output_type": "stream",
       "stream": "stdout",
       "text": [
        "\n",
        "        30           6.8631            0.14s\n",
        "        40           6.1027            0.12s\n",
        "        50           5.0728            0.09s\n",
        "        60           3.9865            0.08s"
       ]
      },
      {
       "output_type": "stream",
       "stream": "stdout",
       "text": [
        "\n",
        "        70           3.4608            0.06s\n",
        "        80           3.0495            0.04s\n",
        "        90           2.7485            0.02s"
       ]
      },
      {
       "output_type": "stream",
       "stream": "stdout",
       "text": [
        "\n",
        "       100           2.4961            0.00s\n",
        " "
       ]
      },
      {
       "output_type": "stream",
       "stream": "stdout",
       "text": [
        "\u0411\u0430\u043b\u0430\u0448\u0438\u0445\u0430-1      Iter       Train Loss   Remaining Time \n",
        "         1          18.4481            0.22s\n",
        "         2          16.8780            0.24s\n",
        "         3          15.4518            0.22s\n",
        "         4          14.1280            0.22s\n",
        "         5          13.0781            0.21s\n",
        "         6          12.0899            0.21s\n",
        "         7          11.2307            0.21s\n",
        "         8          10.4358            0.21s\n",
        "         9           9.7436            0.21s\n",
        "        10           9.1127            0.20s\n",
        "        20           5.5490            0.18s"
       ]
      },
      {
       "output_type": "stream",
       "stream": "stdout",
       "text": [
        "\n",
        "        30           3.9990            0.15s\n",
        "        40           3.3186            0.13s\n",
        "        50           2.9256            0.10s"
       ]
      },
      {
       "output_type": "stream",
       "stream": "stdout",
       "text": [
        "\n",
        "        60           2.5674            0.08s\n",
        "        70           2.3965            0.06s\n",
        "        80           2.2066            0.04s"
       ]
      },
      {
       "output_type": "stream",
       "stream": "stdout",
       "text": [
        "\n",
        "        90           2.0764            0.02s\n",
        "       100           1.9429            0.00s\n",
        " "
       ]
      },
      {
       "output_type": "stream",
       "stream": "stdout",
       "text": [
        "\u0410\u043d\u0433\u0430\u0440\u0441\u043a-1      Iter       Train Loss   Remaining Time \n",
        "         1           2.3465            0.22s\n",
        "         2           2.1957            0.23s\n",
        "         3           2.0445            0.23s\n",
        "         4           1.9313            0.22s\n",
        "         5           1.8182            0.22s\n",
        "         6           1.7259            0.22s\n",
        "         7           1.6295            0.22s\n",
        "         8           1.5490            0.21s\n",
        "         9           1.4824            0.21s\n",
        "        10           1.4293            0.20s\n",
        "        20           0.9847            0.17s"
       ]
      },
      {
       "output_type": "stream",
       "stream": "stdout",
       "text": [
        "\n",
        "        30           0.7981            0.14s\n",
        "        40           0.6962            0.12s\n",
        "        50           0.6127            0.10s"
       ]
      },
      {
       "output_type": "stream",
       "stream": "stdout",
       "text": [
        "\n",
        "        60           0.5687            0.07s\n",
        "        70           0.5331            0.05s\n",
        "        80           0.4997            0.04s\n",
        "        90           0.4628            0.02s"
       ]
      },
      {
       "output_type": "stream",
       "stream": "stdout",
       "text": [
        "\n",
        "       100           0.4358            0.00s\n",
        " "
       ]
      },
      {
       "output_type": "stream",
       "stream": "stdout",
       "text": [
        "\u0421\u044b\u043a\u0442\u044b\u0432\u043a\u0430\u0440-6      Iter       Train Loss   Remaining Time \n",
        "         1          53.8308            0.13s\n",
        "         2          49.0432            0.13s\n",
        "         3          44.6178            0.14s\n",
        "         4          40.7577            0.15s\n",
        "         5          37.3146            0.15s\n",
        "         6          34.3115            0.15s\n",
        "         7          31.5648            0.15s\n",
        "         8          29.0909            0.15s\n",
        "         9          26.9404            0.15s\n",
        "        10          25.1203            0.15s\n",
        "        20          14.0641            0.15s\n",
        "        30          10.3408            0.13s"
       ]
      },
      {
       "output_type": "stream",
       "stream": "stdout",
       "text": [
        "\n",
        "        40           8.4086            0.11s\n",
        "        50           7.5787            0.09s\n",
        "        60           6.6458            0.07s\n",
        "        70           6.1194            0.05s"
       ]
      },
      {
       "output_type": "stream",
       "stream": "stdout",
       "text": [
        "\n",
        "        80           5.7860            0.03s\n",
        "        90           5.4789            0.02s\n",
        "       100           5.2369            0.00s\n",
        " "
       ]
      },
      {
       "output_type": "stream",
       "stream": "stdout",
       "text": [
        "\u0421\u0443\u0440\u0433\u0443\u0442-1      Iter       Train Loss   Remaining Time \n",
        "         1          19.9733            0.18s\n",
        "         2          18.4490            0.18s\n",
        "         3          17.0113            0.19s\n",
        "         4          15.7000            0.19s\n",
        "         5          14.5401            0.20s\n",
        "         6          13.5031            0.21s\n",
        "         7          12.6552            0.20s\n",
        "         8          11.9591            0.19s\n",
        "         9          11.3078            0.19s\n",
        "        10          10.7348            0.18s\n",
        "        20           6.9948            0.15s\n",
        "        30           5.7559            0.13s"
       ]
      },
      {
       "output_type": "stream",
       "stream": "stdout",
       "text": [
        "\n",
        "        40           4.7973            0.11s\n",
        "        50           4.4458            0.09s\n",
        "        60           4.0761            0.07s\n",
        "        70           3.4831            0.05s"
       ]
      },
      {
       "output_type": "stream",
       "stream": "stdout",
       "text": [
        "\n",
        "        80           3.1336            0.03s\n",
        "        90           2.8887            0.02s\n",
        "       100           2.6252            0.00s"
       ]
      },
      {
       "output_type": "stream",
       "stream": "stdout",
       "text": [
        "\n",
        " \u041d\u0430\u0445\u0430\u0431\u0438\u043d\u043e-1      Iter       Train Loss   Remaining Time \n",
        "         1          36.2615            0.16s\n",
        "         2          33.3333            0.18s"
       ]
      },
      {
       "output_type": "stream",
       "stream": "stdout",
       "text": [
        "\n",
        "         3          30.7960            0.20s\n",
        "         4          28.2902            0.19s\n",
        "         5          26.5382            0.19s\n",
        "         6          24.8539            0.19s\n",
        "         7          23.4727            0.18s\n",
        "         8          21.5299            0.19s\n",
        "         9          20.3414            0.18s\n",
        "        10          18.9468            0.18s\n",
        "        20          12.7157            0.17s\n",
        "        30          10.0335            0.14s"
       ]
      },
      {
       "output_type": "stream",
       "stream": "stdout",
       "text": [
        "\n",
        "        40           9.3747            0.11s\n",
        "        50           8.8701            0.09s\n",
        "        60           8.2484            0.07s\n",
        "        70           7.1416            0.05s"
       ]
      },
      {
       "output_type": "stream",
       "stream": "stdout",
       "text": [
        "\n",
        "        80           5.7257            0.03s\n",
        "        90           5.0177            0.02s\n",
        "       100           4.6223            0.00s\n",
        " "
       ]
      },
      {
       "output_type": "stream",
       "stream": "stdout",
       "text": [
        "\u041a\u0430\u043b\u0443\u0433\u0430-1      Iter       Train Loss   Remaining Time \n",
        "         1          14.1457            0.20s\n",
        "         2          13.0190            0.22s\n",
        "         3          12.0369            0.21s\n",
        "         4          11.1659            0.20s\n",
        "         5          10.4067            0.20s\n",
        "         6           9.7072            0.19s\n",
        "         7           9.0409            0.19s\n",
        "         8           8.4860            0.19s\n",
        "         9           7.9945            0.18s\n",
        "        10           7.4986            0.18s\n",
        "        20           4.5080            0.16s"
       ]
      },
      {
       "output_type": "stream",
       "stream": "stdout",
       "text": [
        "\n",
        "        30           3.4002            0.14s\n",
        "        40           2.9540            0.11s\n",
        "        50           2.7967            0.09s\n",
        "        60           2.7612            0.07s"
       ]
      },
      {
       "output_type": "stream",
       "stream": "stdout",
       "text": [
        "\n",
        "        70           2.4683            0.05s\n",
        "        80           2.3441            0.03s\n",
        "        90           2.2582            0.02s\n",
        "       100           2.1888            0.00s"
       ]
      },
      {
       "output_type": "stream",
       "stream": "stdout",
       "text": [
        "\n",
        " \u0429\u0435\u043b\u043a\u043e\u0432\u043e-1      Iter       Train Loss   Remaining Time \n",
        "         1          22.8904            0.14s\n",
        "         2          20.9706            0.15s"
       ]
      },
      {
       "output_type": "stream",
       "stream": "stdout",
       "text": [
        "\n",
        "         3          19.1301            0.17s\n",
        "         4          17.6419            0.16s\n",
        "         5          16.2984            0.16s\n",
        "         6          14.9999            0.17s\n",
        "         7          13.9844            0.17s\n",
        "         8          12.9778            0.17s\n",
        "         9          12.1550            0.17s\n",
        "        10          11.4423            0.17s\n",
        "        20           6.8432            0.15s\n",
        "        30           5.3024            0.13s"
       ]
      },
      {
       "output_type": "stream",
       "stream": "stdout",
       "text": [
        "\n",
        "        40           4.4824            0.11s\n",
        "        50           3.6351            0.09s\n",
        "        60           2.9643            0.07s"
       ]
      },
      {
       "output_type": "stream",
       "stream": "stdout",
       "text": [
        "\n",
        "        70           2.3427            0.05s\n",
        "        80           1.8072            0.04s\n",
        "        90           1.4657            0.02s"
       ]
      },
      {
       "output_type": "stream",
       "stream": "stdout",
       "text": [
        "\n",
        "       100           1.2671            0.00s\n",
        " "
       ]
      },
      {
       "output_type": "stream",
       "stream": "stdout",
       "text": [
        "\u0413\u0430\u0442\u0447\u0438\u043d\u0430-2      Iter       Train Loss   Remaining Time \n",
        "         1          40.7254            0.13s\n",
        "         2          37.3437            0.13s\n",
        "         3          34.2924            0.14s\n",
        "         4          31.5380            0.15s\n",
        "         5          29.0894            0.15s\n",
        "         6          26.8621            0.15s\n",
        "         7          24.7885            0.15s\n",
        "         8          22.9169            0.15s\n",
        "         9          21.3487            0.15s\n",
        "        10          19.9886            0.15s\n",
        "        20          11.6908            0.15s\n",
        "        30           8.7332            0.13s"
       ]
      },
      {
       "output_type": "stream",
       "stream": "stdout",
       "text": [
        "\n",
        "        40           7.4640            0.11s\n",
        "        50           6.6457            0.08s\n",
        "        60           6.0090            0.07s\n",
        "        70           5.0213            0.05s"
       ]
      },
      {
       "output_type": "stream",
       "stream": "stdout",
       "text": [
        "\n",
        "        80           4.7560            0.03s\n",
        "        90           4.3965            0.02s\n",
        "       100           4.1998            0.00s\n",
        " "
       ]
      },
      {
       "output_type": "stream",
       "stream": "stdout",
       "text": [
        "\u0417\u0435\u043b\u0435\u043d\u043e\u0433\u0440\u0430\u0434-1      Iter       Train Loss   Remaining Time \n",
        "         1          18.2440            0.17s\n",
        "         2          16.6776            0.17s\n",
        "         3          15.4446            0.16s\n",
        "         4          14.2548            0.17s\n",
        "         5          13.1411            0.17s\n",
        "         6          12.1302            0.17s\n",
        "         7          11.2957            0.17s\n",
        "         8          10.6037            0.17s\n",
        "         9           9.9924            0.17s\n",
        "        10           9.4491            0.17s\n",
        "        20           5.9150            0.15s\n",
        "        30           4.5456            0.13s"
       ]
      },
      {
       "output_type": "stream",
       "stream": "stdout",
       "text": [
        "\n",
        "        40           3.9296            0.10s\n",
        "        50           3.4453            0.08s\n",
        "        60           3.2325            0.06s\n",
        "        70           2.9786            0.04s\n",
        "        80           2.7465            0.03s"
       ]
      },
      {
       "output_type": "stream",
       "stream": "stdout",
       "text": [
        "\n",
        "        90           2.5960            0.01s\n",
        "       100           2.3382            0.00s\n",
        " "
       ]
      },
      {
       "output_type": "stream",
       "stream": "stdout",
       "text": [
        "\u0412\u0441\u0435\u0432\u043e\u043b\u043e\u0436\u0441\u043a-1      Iter       Train Loss   Remaining Time \n",
        "         1          11.8155            0.17s\n",
        "         2          10.9475            0.16s\n",
        "         3          10.1538            0.15s\n",
        "         4           9.4365            0.16s\n",
        "         5           8.8970            0.16s\n",
        "         6           8.2151            0.17s\n",
        "         7           7.7514            0.17s\n",
        "         8           7.2845            0.17s\n",
        "         9           6.9097            0.17s\n",
        "        10           6.5609            0.17s\n",
        "        20           4.2097            0.15s\n",
        "        30           3.3082            0.12s"
       ]
      },
      {
       "output_type": "stream",
       "stream": "stdout",
       "text": [
        "\n",
        "        40           2.8154            0.10s\n",
        "        50           2.3943            0.08s\n",
        "        60           2.1362            0.06s\n",
        "        70           2.0011            0.05s"
       ]
      },
      {
       "output_type": "stream",
       "stream": "stdout",
       "text": [
        "\n",
        "        80           1.8329            0.03s\n",
        "        90           1.6878            0.02s\n",
        "       100           1.5693            0.00s\n",
        " "
       ]
      },
      {
       "output_type": "stream",
       "stream": "stdout",
       "text": [
        "\u041d\u043e\u0432\u043e\u0447\u0435\u0431\u043e\u043a\u0441\u0430\u0440\u0441\u043a-1      Iter       Train Loss   Remaining Time \n",
        "         1          39.5636            0.15s\n",
        "         2          36.1460            0.14s\n",
        "         3          33.1536            0.14s\n",
        "         4          30.4957            0.14s\n",
        "         5          27.9116            0.15s\n",
        "         6          25.6989            0.15s\n",
        "         7          23.5632            0.15s\n",
        "         8          21.9540            0.16s\n",
        "         9          20.4003            0.16s\n",
        "        10          19.1511            0.15s\n",
        "        20          10.7016            0.13s\n",
        "        30           7.2090            0.12s"
       ]
      },
      {
       "output_type": "stream",
       "stream": "stdout",
       "text": [
        "\n",
        "        40           5.6493            0.10s\n",
        "        50           4.6849            0.08s\n",
        "        60           4.1966            0.06s\n",
        "        70           3.4862            0.05s"
       ]
      },
      {
       "output_type": "stream",
       "stream": "stdout",
       "text": [
        "\n",
        "        80           3.0057            0.03s\n",
        "        90           2.6965            0.02s\n",
        "       100           2.3627            0.00s"
       ]
      },
      {
       "output_type": "stream",
       "stream": "stdout",
       "text": [
        "\n",
        " \u0416\u0435\u043b\u0435\u0437\u043d\u043e\u0434\u043e\u0440\u043e\u0436\u043d\u044b\u0439-1      Iter       Train Loss   Remaining Time \n",
        "         1          31.4640            0.15s\n",
        "         2          28.7278            0.16s"
       ]
      },
      {
       "output_type": "stream",
       "stream": "stdout",
       "text": [
        "\n",
        "         3          26.1881            0.17s\n",
        "         4          24.0510            0.16s\n",
        "         5          22.1230            0.16s\n",
        "         6          20.4648            0.16s\n",
        "         7          18.8237            0.16s\n",
        "         8          17.2679            0.15s\n",
        "         9          16.0261            0.15s\n",
        "        10          15.0434            0.15s\n",
        "        20           8.4575            0.14s\n",
        "        30           6.1119            0.11s\n",
        "        40           4.8429            0.09s"
       ]
      },
      {
       "output_type": "stream",
       "stream": "stdout",
       "text": [
        "\n",
        "        50           4.1987            0.08s\n",
        "        60           3.4247            0.06s\n",
        "        70           3.1533            0.05s\n",
        "        80           2.8461            0.03s"
       ]
      },
      {
       "output_type": "stream",
       "stream": "stdout",
       "text": [
        "\n",
        "        90           2.5424            0.02s\n",
        "       100           2.3626            0.00s\n",
        " "
       ]
      },
      {
       "output_type": "stream",
       "stream": "stdout",
       "text": [
        "\u041c\u043e\u0441\u043a\u0432\u0430 1-1      Iter       Train Loss   Remaining Time \n",
        "         1          16.1747            0.16s\n",
        "         2          14.9734            0.16s\n",
        "         3          13.9809            0.17s\n",
        "         4          13.1542            0.16s\n",
        "         5          12.4104            0.16s\n",
        "         6          11.7245            0.16s\n",
        "         7          11.1895            0.16s\n",
        "         8          10.6690            0.16s\n",
        "         9          10.2304            0.16s\n",
        "        10           9.8109            0.16s\n",
        "        20           7.1958            0.15s\n",
        "        30           5.8717            0.12s"
       ]
      },
      {
       "output_type": "stream",
       "stream": "stdout",
       "text": [
        "\n",
        "        40           4.9682            0.11s\n",
        "        50           4.4695            0.09s\n",
        "        60           4.1238            0.07s"
       ]
      },
      {
       "output_type": "stream",
       "stream": "stdout",
       "text": [
        "\n",
        "        70           3.9405            0.05s\n",
        "        80           3.8033            0.03s\n",
        "        90           3.4963            0.02s\n",
        "       100           2.7682            0.00s"
       ]
      },
      {
       "output_type": "stream",
       "stream": "stdout",
       "text": [
        "\n",
        " \u0428\u0430\u0445\u0442\u044b-1      Iter       Train Loss   Remaining Time \n",
        "         1           9.5642            0.24s"
       ]
      },
      {
       "output_type": "stream",
       "stream": "stdout",
       "text": [
        "\n",
        "         2           8.7472            0.24s\n",
        "         3           8.0437            0.22s\n",
        "         4           7.4905            0.21s\n",
        "         5           7.0003            0.20s\n",
        "         6           6.4739            0.20s\n",
        "         7           5.9607            0.20s\n",
        "         8           5.5876            0.20s\n",
        "         9           5.2477            0.20s\n",
        "        10           4.9483            0.19s\n",
        "        20           3.1257            0.14s\n",
        "        30           2.3032            0.12s\n",
        "        40           1.8218            0.10s"
       ]
      },
      {
       "output_type": "stream",
       "stream": "stdout",
       "text": [
        "\n",
        "        50           1.5899            0.08s\n",
        "        60           1.3590            0.07s\n",
        "        70           1.1521            0.05s\n",
        "        80           1.0146            0.03s"
       ]
      },
      {
       "output_type": "stream",
       "stream": "stdout",
       "text": [
        "\n",
        "        90           0.8869            0.02s\n",
        "       100           0.8004            0.00s\n",
        " "
       ]
      },
      {
       "output_type": "stream",
       "stream": "stdout",
       "text": [
        "\u0421\u0430\u043b\u0430\u0432\u0430\u0442-1      Iter       Train Loss   Remaining Time \n",
        "         1          22.7776            0.16s\n",
        "         2          20.9495            0.16s\n",
        "         3          19.3237            0.17s\n",
        "         4          17.8767            0.17s\n",
        "         5          16.5839            0.16s\n",
        "         6          15.3472            0.16s\n",
        "         7          14.3479            0.16s\n",
        "         8          13.4507            0.17s\n",
        "         9          12.6202            0.17s\n",
        "        10          11.8799            0.17s\n",
        "        20           7.0258            0.17s"
       ]
      },
      {
       "output_type": "stream",
       "stream": "stdout",
       "text": [
        "\n",
        "        30           5.5082            0.12s\n",
        "        40           4.8729            0.09s\n",
        "        50           4.5007            0.07s\n",
        "        60           3.6102            0.06s\n",
        "        70           3.2697            0.04s"
       ]
      },
      {
       "output_type": "stream",
       "stream": "stdout",
       "text": [
        "\n",
        "        80           2.7771            0.03s\n",
        "        90           2.1615            0.02s\n",
        "       100           1.8418            0.00s"
       ]
      },
      {
       "output_type": "stream",
       "stream": "stdout",
       "text": [
        "\n",
        " \u0427\u0435\u043b\u044f\u0431\u0438\u043d\u0441\u043a-2      Iter       Train Loss   Remaining Time \n",
        "         1          14.1871            0.20s"
       ]
      },
      {
       "output_type": "stream",
       "stream": "stdout",
       "text": [
        "\n",
        "         2          12.9170            0.24s\n",
        "         3          11.8368            0.21s\n",
        "         4          10.8709            0.19s\n",
        "         5          10.0372            0.19s\n",
        "         6           9.3172            0.18s\n",
        "         7           8.6282            0.17s\n",
        "         8           7.9699            0.17s\n",
        "         9           7.4800            0.17s\n",
        "        10           7.0226            0.16s\n",
        "        20           4.1413            0.13s\n",
        "        30           2.9803            0.11s\n",
        "        40           2.3507            0.10s"
       ]
      },
      {
       "output_type": "stream",
       "stream": "stdout",
       "text": [
        "\n",
        "        50           2.0579            0.08s\n",
        "        60           1.7729            0.06s\n",
        "        70           1.5442            0.05s\n",
        "        80           1.3639            0.03s"
       ]
      },
      {
       "output_type": "stream",
       "stream": "stdout",
       "text": [
        "\n",
        "        90           1.1924            0.02s\n",
        "       100           1.0495            0.00s\n",
        " "
       ]
      },
      {
       "output_type": "stream",
       "stream": "stdout",
       "text": [
        "\u041b\u0435\u043d\u0438\u043d\u0441\u043a-\u041a\u0443\u0437\u043d\u0435\u0446\u043a\u0438\u0439-1      Iter       Train Loss   Remaining Time \n",
        "         1          32.3470            0.21s\n",
        "         2          29.7580            0.19s\n",
        "         3          27.4260            0.19s\n",
        "         4          25.3847            0.17s\n",
        "         5          23.5831            0.16s\n",
        "         6          22.0445            0.16s\n",
        "         7          20.5490            0.17s\n",
        "         8          19.2538            0.16s\n",
        "         9          18.0475            0.16s\n",
        "        10          17.0657            0.16s\n",
        "        20          10.6173            0.14s\n",
        "        30           8.4973            0.11s"
       ]
      },
      {
       "output_type": "stream",
       "stream": "stdout",
       "text": [
        "\n",
        "        40           7.3914            0.10s\n",
        "        50           6.6679            0.08s\n",
        "        60           5.9300            0.06s\n",
        "        70           5.5044            0.05s"
       ]
      },
      {
       "output_type": "stream",
       "stream": "stdout",
       "text": [
        "\n",
        "        80           5.3979            0.03s\n",
        "        90           5.1555            0.01s\n",
        "       100           4.8207            0.00s\n",
        " "
       ]
      },
      {
       "output_type": "stream",
       "stream": "stdout",
       "text": [
        "\u041b\u043e\u0431\u043d\u044f-1      Iter       Train Loss   Remaining Time \n",
        "         1          20.0074            0.14s\n",
        "         2          18.3194            0.14s\n",
        "         3          16.7582            0.14s\n",
        "         4          15.4830            0.13s\n",
        "         5          14.2911            0.13s\n",
        "         6          13.2387            0.14s\n",
        "         7          12.4496            0.14s\n",
        "         8          11.4975            0.14s\n",
        "         9          10.7075            0.14s\n",
        "        10          10.1108            0.13s\n",
        "        20           5.8902            0.12s\n",
        "        30           4.4828            0.10s"
       ]
      },
      {
       "output_type": "stream",
       "stream": "stdout",
       "text": [
        "\n",
        "        40           3.5678            0.09s\n",
        "        50           3.0099            0.07s\n",
        "        60           2.6977            0.06s\n",
        "        70           2.5375            0.04s"
       ]
      },
      {
       "output_type": "stream",
       "stream": "stdout",
       "text": [
        "\n",
        "        80           2.3713            0.03s\n",
        "        90           2.0863            0.01s\n",
        "       100           1.8901            0.00s\n",
        " "
       ]
      },
      {
       "output_type": "stream",
       "stream": "stdout",
       "text": [
        "\u0425\u0430\u043d\u0442\u044b-\u041c\u0430\u043d\u0441\u0438\u0439\u0441\u043a-1      Iter       Train Loss   Remaining Time \n",
        "         1          21.6411            0.15s\n",
        "         2          19.7728            0.15s\n",
        "         3          18.1309            0.16s\n",
        "         4          16.6617            0.16s\n",
        "         5          15.3649            0.16s\n",
        "         6          14.3496            0.15s\n",
        "         7          13.3050            0.15s\n",
        "         8          12.3214            0.15s\n",
        "         9          11.6014            0.14s\n",
        "        10          10.7395            0.14s\n",
        "        20           5.9100            0.13s\n",
        "        30           4.3050            0.11s"
       ]
      },
      {
       "output_type": "stream",
       "stream": "stdout",
       "text": [
        "\n",
        "        40           3.5404            0.10s\n",
        "        50           3.1388            0.08s\n",
        "        60           2.6148            0.06s\n",
        "        70           2.3633            0.05s"
       ]
      },
      {
       "output_type": "stream",
       "stream": "stdout",
       "text": [
        "\n",
        "        80           2.1652            0.03s\n",
        "        90           2.0318            0.02s\n",
        "       100           1.8866            0.00s\n",
        " "
       ]
      },
      {
       "output_type": "stream",
       "stream": "stdout",
       "text": [
        "\u0411\u0430\u043b\u0430\u043a\u043e\u0432\u043e-1      Iter       Train Loss   Remaining Time \n",
        "         1          28.6563            0.13s\n",
        "         2          26.6453            0.12s\n",
        "         3          24.2972            0.12s\n",
        "         4          22.3001            0.12s\n",
        "         5          20.2878            0.12s\n",
        "         6          18.5678            0.13s\n",
        "         7          17.1200            0.13s\n",
        "         8          15.7084            0.13s\n",
        "         9          14.4421            0.13s\n",
        "        10          13.2744            0.13s\n",
        "        20           6.7965            0.12s\n",
        "        30           4.4094            0.11s"
       ]
      },
      {
       "output_type": "stream",
       "stream": "stdout",
       "text": [
        "\n",
        "        40           3.1590            0.10s\n",
        "        50           2.3279            0.08s\n",
        "        60           1.8507            0.07s"
       ]
      },
      {
       "output_type": "stream",
       "stream": "stdout",
       "text": [
        "\n",
        "        70           1.5595            0.05s\n",
        "        80           1.2938            0.03s\n",
        "        90           1.0632            0.02s\n",
        "       100           0.9061            0.00s"
       ]
      },
      {
       "output_type": "stream",
       "stream": "stdout",
       "text": [
        "\n",
        " \u0422\u0432\u0435\u0440\u044c-1      Iter       Train Loss   Remaining Time \n",
        "         1          60.9905            0.13s\n",
        "         2          55.6139            0.15s"
       ]
      },
      {
       "output_type": "stream",
       "stream": "stdout",
       "text": [
        "\n",
        "         3          50.8454            0.18s\n",
        "         4          46.7296            0.17s\n",
        "         5          42.9458            0.17s\n",
        "         6          39.9036            0.16s\n",
        "         7          37.3273            0.16s\n",
        "         8          34.5538            0.16s\n",
        "         9          32.6730            0.15s\n",
        "        10          30.2443            0.15s\n",
        "        20          17.4780            0.12s\n",
        "        30          11.7318            0.11s\n",
        "        40           8.8962            0.09s"
       ]
      },
      {
       "output_type": "stream",
       "stream": "stdout",
       "text": [
        "\n",
        "        50           7.7211            0.07s\n",
        "        60           7.0195            0.06s\n",
        "        70           6.1418            0.04s\n",
        "        80           5.6496            0.03s"
       ]
      },
      {
       "output_type": "stream",
       "stream": "stdout",
       "text": [
        "\n",
        "        90           5.2611            0.01s\n",
        "       100           4.8841            0.00s\n",
        " "
       ]
      },
      {
       "output_type": "stream",
       "stream": "stdout",
       "text": [
        "\u0422\u043e\u043b\u044c\u044f\u0442\u0442\u0438-1      Iter       Train Loss   Remaining Time \n",
        "         1          21.5573            0.13s\n",
        "         2          19.6081            0.13s\n",
        "         3          17.8938            0.14s\n",
        "         4          16.4679            0.14s\n",
        "         5          15.1013            0.15s\n",
        "         6          14.0226            0.14s\n",
        "         7          13.0199            0.14s\n",
        "         8          12.1086            0.14s\n",
        "         9          11.1872            0.14s\n",
        "        10          10.4671            0.14s\n",
        "        20           6.0978            0.12s\n",
        "        30           4.4622            0.10s"
       ]
      },
      {
       "output_type": "stream",
       "stream": "stdout",
       "text": [
        "\n",
        "        40           3.7129            0.09s\n",
        "        50           2.9813            0.07s\n",
        "        60           2.5556            0.06s\n",
        "        70           2.3740            0.04s"
       ]
      },
      {
       "output_type": "stream",
       "stream": "stdout",
       "text": [
        "\n",
        "        80           2.1277            0.03s\n",
        "        90           1.8944            0.01s\n",
        "       100           1.7069            0.00s\n",
        " "
       ]
      },
      {
       "output_type": "stream",
       "stream": "stdout",
       "text": [
        "\u041f\u0443\u0448\u043a\u0438\u043d\u043e-1      Iter       Train Loss   Remaining Time \n",
        "         1          20.8835            0.12s\n",
        "         2          19.1708            0.13s\n",
        "         3          17.6304            0.13s\n",
        "         4          16.3210            0.13s\n",
        "         5          15.1669            0.12s\n",
        "         6          14.1318            0.12s\n",
        "         7          13.1001            0.12s\n",
        "         8          12.3158            0.13s\n",
        "         9          11.6011            0.13s\n",
        "        10          10.9491            0.13s\n",
        "        20           6.8579            0.11s\n",
        "        30           4.8944            0.10s\n",
        "        40           3.5680            0.08s"
       ]
      },
      {
       "output_type": "stream",
       "stream": "stdout",
       "text": [
        "\n",
        "        50           2.7265            0.07s\n",
        "        60           2.0787            0.06s\n",
        "        70           1.7627            0.04s\n",
        "        80           1.5763            0.03s"
       ]
      },
      {
       "output_type": "stream",
       "stream": "stdout",
       "text": [
        "\n",
        "        90           1.4953            0.01s\n",
        "       100           1.3541            0.00s\n",
        " "
       ]
      },
      {
       "output_type": "stream",
       "stream": "stdout",
       "text": [
        "\u041a\u0430\u043b\u0438\u043d\u0438\u043d\u0433\u0440\u0430\u0434-2      Iter       Train Loss   Remaining Time \n",
        "         1           9.0435            0.15s\n",
        "         2           8.4664            0.15s\n",
        "         3           7.9804            0.16s\n",
        "         4           7.5077            0.16s\n",
        "         5           7.1021            0.16s\n",
        "         6           6.7451            0.15s\n",
        "         7           6.4082            0.15s\n",
        "         8           6.1460            0.15s\n",
        "         9           5.8969            0.14s\n",
        "        10           5.5416            0.14s\n",
        "        20           3.8284            0.12s\n",
        "        30           2.9424            0.10s"
       ]
      },
      {
       "output_type": "stream",
       "stream": "stdout",
       "text": [
        "\n",
        "        40           2.0917            0.09s\n",
        "        50           1.7693            0.07s\n",
        "        60           1.5539            0.06s\n",
        "        70           1.2619            0.04s"
       ]
      },
      {
       "output_type": "stream",
       "stream": "stdout",
       "text": [
        "\n",
        "        80           1.0856            0.03s\n",
        "        90           0.9806            0.01s\n",
        "       100           0.9071            0.00s\n",
        " "
       ]
      },
      {
       "output_type": "stream",
       "stream": "stdout",
       "text": [
        "\u041d\u0435\u0444\u0442\u0435\u043a\u0430\u043c\u0441\u043a-1      Iter       Train Loss   Remaining Time \n",
        "         1          16.3327            0.13s\n",
        "         2          15.0815            0.12s\n",
        "         3          13.9399            0.12s\n",
        "         4          12.8480            0.12s\n",
        "         5          11.9237            0.13s\n",
        "         6          11.1006            0.12s\n",
        "         7          10.3611            0.12s\n",
        "         8           9.6076            0.12s\n",
        "         9           8.9424            0.12s\n",
        "        10           8.3878            0.12s\n",
        "        20           4.9665            0.10s\n",
        "        30           3.5113            0.09s\n",
        "        40           3.0031            0.08s"
       ]
      },
      {
       "output_type": "stream",
       "stream": "stdout",
       "text": [
        "\n",
        "        50           2.5117            0.06s\n",
        "        60           2.0929            0.05s\n",
        "        70           1.8153            0.04s\n",
        "        80           1.6496            0.03s"
       ]
      },
      {
       "output_type": "stream",
       "stream": "stdout",
       "text": [
        "\n",
        "        90           1.4239            0.01s\n",
        "       100           1.2667            0.00s\n",
        " "
       ]
      },
      {
       "output_type": "stream",
       "stream": "stdout",
       "text": [
        "\u041f\u0435\u0442\u0440\u043e\u0437\u0430\u0432\u043e\u0434\u0441\u043a-1      Iter       Train Loss   Remaining Time \n",
        "         1          54.6468            0.09s\n",
        "         2          49.4375            0.09s\n",
        "         3          45.0019            0.09s\n",
        "         4          41.1138            0.09s\n",
        "         5          37.6042            0.09s\n",
        "         6          34.2559            0.10s\n",
        "         7          31.2209            0.10s\n",
        "         8          28.7301            0.10s\n",
        "         9          26.6706            0.10s\n",
        "        10          24.5947            0.10s\n",
        "        20          13.0011            0.10s\n",
        "        30           9.1473            0.09s\n",
        "        40           7.3193            0.08s"
       ]
      },
      {
       "output_type": "stream",
       "stream": "stdout",
       "text": [
        "\n",
        "        50           6.5550            0.06s\n",
        "        60           5.9430            0.05s\n",
        "        70           5.4175            0.04s\n",
        "        80           4.7774            0.03s"
       ]
      },
      {
       "output_type": "stream",
       "stream": "stdout",
       "text": [
        "\n",
        "        90           4.4683            0.01s\n",
        "       100           4.3543            0.00s\n",
        " "
       ]
      },
      {
       "output_type": "stream",
       "stream": "stdout",
       "text": [
        "\u0421\u043e\u0447\u0438-1      Iter       Train Loss   Remaining Time \n",
        "         1          29.2788            0.14s\n",
        "         2          27.0032            0.13s\n",
        "         3          24.9885            0.13s\n",
        "         4          23.1303            0.13s\n",
        "         5          21.4375            0.13s\n",
        "         6          19.9156            0.13s\n",
        "         7          18.6633            0.12s\n",
        "         8          17.5149            0.12s\n",
        "         9          16.5758            0.12s\n",
        "        10          15.7427            0.12s\n",
        "        20           9.7587            0.10s\n",
        "        30           7.5146            0.09s\n",
        "        40           6.1130            0.07s"
       ]
      },
      {
       "output_type": "stream",
       "stream": "stdout",
       "text": [
        "\n",
        "        50           5.2589            0.06s\n",
        "        60           4.6544            0.05s\n",
        "        70           4.0282            0.04s\n",
        "        80           3.3845            0.02s"
       ]
      },
      {
       "output_type": "stream",
       "stream": "stdout",
       "text": [
        "\n",
        "        90           3.0391            0.01s\n",
        "       100           2.7590            0.00s\n",
        " "
       ]
      },
      {
       "output_type": "stream",
       "stream": "stdout",
       "text": [
        "\u041a\u0430\u0437\u0430\u043d\u044c-1      Iter       Train Loss   Remaining Time \n",
        "         1          13.8318            0.13s\n",
        "         2          12.5878            0.13s\n",
        "         3          11.6536            0.12s\n",
        "         4          10.8302            0.12s\n",
        "         5          10.1847            0.12s\n",
        "         6           9.4908            0.13s\n",
        "         7           8.8934            0.13s\n",
        "         8           8.4746            0.12s\n",
        "         9           8.0293            0.12s\n",
        "        10           7.5684            0.12s\n",
        "        20           4.9602            0.11s\n",
        "        30           3.6745            0.09s\n",
        "        40           2.9990            0.08s"
       ]
      },
      {
       "output_type": "stream",
       "stream": "stdout",
       "text": [
        "\n",
        "        50           2.2994            0.07s\n",
        "        60           1.9718            0.05s\n",
        "        70           1.7095            0.04s\n",
        "        80           1.5021            0.03s"
       ]
      },
      {
       "output_type": "stream",
       "stream": "stdout",
       "text": [
        "\n",
        "        90           1.3643            0.01s\n",
        "       100           1.2627            0.00s\n",
        " "
       ]
      },
      {
       "output_type": "stream",
       "stream": "stdout",
       "text": [
        "\u0412\u0435\u043b\u044c\u0441\u043a-1      Iter       Train Loss   Remaining Time \n",
        "         1          14.9606            0.12s\n",
        "         2          13.7294            0.11s\n",
        "         3          12.6613            0.11s\n",
        "         4          11.6303            0.11s\n",
        "         5          10.8743            0.11s\n",
        "         6          10.1094            0.11s\n",
        "         7           9.4240            0.11s\n",
        "         8           8.8014            0.11s\n",
        "         9           8.2361            0.11s\n",
        "        10           7.7878            0.11s\n",
        "        20           4.5736            0.11s\n",
        "        30           3.1679            0.09s\n",
        "        40           2.5384            0.08s"
       ]
      },
      {
       "output_type": "stream",
       "stream": "stdout",
       "text": [
        "\n",
        "        50           2.0376            0.06s\n",
        "        60           1.6104            0.05s\n",
        "        70           1.2687            0.04s\n",
        "        80           1.0751            0.03s\n",
        "        90           0.9418            0.01s"
       ]
      },
      {
       "output_type": "stream",
       "stream": "stdout",
       "text": [
        "\n",
        "       100           0.8120            0.00s\n",
        " \u0412\u044b\u0431\u043e\u0440\u0433-1      Iter       Train Loss   Remaining Time "
       ]
      },
      {
       "output_type": "stream",
       "stream": "stdout",
       "text": [
        "\n",
        "         1          19.6219            0.12s\n",
        "         2          18.0003            0.11s\n",
        "         3          16.4277            0.12s\n",
        "         4          15.0654            0.11s\n",
        "         5          13.9891            0.12s\n",
        "         6          12.8434            0.12s\n",
        "         7          12.0585            0.12s\n",
        "         8          11.1305            0.12s\n",
        "         9          10.3264            0.12s\n",
        "        10           9.6152            0.12s\n",
        "        20           5.3638            0.11s\n",
        "        30           3.5182            0.10s\n",
        "        40           2.5598            0.08s"
       ]
      },
      {
       "output_type": "stream",
       "stream": "stdout",
       "text": [
        "\n",
        "        50           1.9773            0.07s\n",
        "        60           1.7698            0.05s\n",
        "        70           1.4512            0.04s\n",
        "        80           1.2527            0.03s\n",
        "        90           1.0923            0.01s"
       ]
      },
      {
       "output_type": "stream",
       "stream": "stdout",
       "text": [
        "\n",
        "       100           0.9877            0.00s\n",
        " "
       ]
      },
      {
       "output_type": "stream",
       "stream": "stdout",
       "text": [
        "\u0422\u043e\u0431\u043e\u043b\u044c\u0441\u043a-1      Iter       Train Loss   Remaining Time \n",
        "         1          14.4015            0.10s\n",
        "         2          13.1482            0.10s\n",
        "         3          12.1393            0.10s\n",
        "         4          11.1273            0.10s\n",
        "         5          10.1869            0.10s\n",
        "         6           9.3523            0.10s\n",
        "         7           8.6791            0.10s\n",
        "         8           8.0871            0.10s\n",
        "         9           7.6125            0.10s\n",
        "        10           7.1286            0.10s\n",
        "        20           4.1081            0.09s\n",
        "        30           2.8908            0.08s\n",
        "        40           2.3069            0.07s"
       ]
      },
      {
       "output_type": "stream",
       "stream": "stdout",
       "text": [
        "\n",
        "        50           1.8666            0.06s\n",
        "        60           1.5877            0.05s\n",
        "        70           1.3118            0.04s\n",
        "        80           1.1221            0.02s\n",
        "        90           1.0173            0.01s"
       ]
      },
      {
       "output_type": "stream",
       "stream": "stdout",
       "text": [
        "\n",
        "       100           0.9680            0.00s\n",
        " "
       ]
      },
      {
       "output_type": "stream",
       "stream": "stdout",
       "text": [
        "\u0423\u0445\u0442\u0430-2      Iter       Train Loss   Remaining Time \n",
        "         1          19.2132            0.10s\n",
        "         2          17.6280            0.10s\n",
        "         3          16.1735            0.10s\n",
        "         4          14.9553            0.10s\n",
        "         5          13.8669            0.10s\n",
        "         6          13.0389            0.10s\n",
        "         7          12.2452            0.10s\n",
        "         8          11.4982            0.10s\n",
        "         9          10.8161            0.10s\n",
        "        10          10.2564            0.10s\n",
        "        20           6.9165            0.09s\n",
        "        30           5.3591            0.08s\n",
        "        40           4.3646            0.07s"
       ]
      },
      {
       "output_type": "stream",
       "stream": "stdout",
       "text": [
        "\n",
        "        50           3.6889            0.06s\n",
        "        60           3.1077            0.05s\n",
        "        70           2.9659            0.04s\n",
        "        80           2.7657            0.02s\n",
        "        90           2.6584            0.01s"
       ]
      },
      {
       "output_type": "stream",
       "stream": "stdout",
       "text": [
        "\n",
        "       100           2.5196            0.00s\n",
        " \u0410\u0431\u0438\u043d\u0441\u043a-1      Iter       Train Loss   Remaining Time "
       ]
      },
      {
       "output_type": "stream",
       "stream": "stdout",
       "text": [
        "\n",
        "         1          32.4545            0.12s\n",
        "         2          29.7592            0.11s\n",
        "         3          27.3803            0.11s\n",
        "         4          25.5242            0.11s\n",
        "         5          23.7625            0.11s\n",
        "         6          22.2241            0.11s\n",
        "         7          20.8985            0.11s\n",
        "         8          19.6422            0.11s\n",
        "         9          18.5096            0.11s\n",
        "        10          17.3341            0.10s\n",
        "        20          11.4194            0.09s\n",
        "        30           8.7856            0.08s\n",
        "        40           7.0546            0.07s\n",
        "        50           5.8961            0.06s"
       ]
      },
      {
       "output_type": "stream",
       "stream": "stdout",
       "text": [
        "\n",
        "        60           5.2077            0.05s\n",
        "        70           4.4190            0.04s\n",
        "        80           3.2278            0.02s\n",
        "        90           2.9631            0.01s"
       ]
      },
      {
       "output_type": "stream",
       "stream": "stdout",
       "text": [
        "\n",
        "       100           2.7666            0.00s\n",
        " "
       ]
      },
      {
       "output_type": "stream",
       "stream": "stdout",
       "text": [
        "\u041d\u0438\u0436\u043d\u0438\u0439 \u041d\u043e\u0432\u0433\u043e\u0440\u043e\u0434-1      Iter       Train Loss   Remaining Time \n",
        "         1          17.7525            0.13s\n",
        "         2          16.0285            0.12s\n",
        "         3          14.5840            0.11s\n",
        "         4          13.2913            0.11s\n",
        "         5          12.1185            0.11s\n",
        "         6          11.0823            0.11s\n",
        "         7          10.1700            0.11s\n",
        "         8           9.4432            0.11s\n",
        "         9           8.6243            0.11s\n",
        "        10           8.0073            0.10s\n",
        "        20           4.7785            0.09s\n",
        "        30           3.3616            0.08s\n",
        "        40           2.9056            0.06s\n",
        "        50           2.1338            0.05s"
       ]
      },
      {
       "output_type": "stream",
       "stream": "stdout",
       "text": [
        "\n",
        "        60           1.5191            0.04s\n",
        "        70           1.2611            0.03s\n",
        "        80           1.1175            0.02s\n",
        "        90           0.9532            0.01s\n",
        "       100           0.8755            0.00s"
       ]
      },
      {
       "output_type": "stream",
       "stream": "stdout",
       "text": [
        "\n",
        " \u0411\u043b\u0430\u0433\u043e\u0432\u0435\u0449\u0435\u043d\u0441\u043a-1      Iter       Train Loss   Remaining Time \n",
        "         1          27.7121            0.09s\n",
        "         2          25.6255            0.10s\n",
        "         3          23.5744            0.10s\n",
        "         4          21.9489            0.10s\n",
        "         5          20.4035            0.10s\n",
        "         6          18.9870            0.10s"
       ]
      },
      {
       "output_type": "stream",
       "stream": "stdout",
       "text": [
        "\n",
        "         7          17.7977            0.10s\n",
        "         8          16.7017            0.10s\n",
        "         9          15.7118            0.10s\n",
        "        10          14.9115            0.10s\n",
        "        20           9.1437            0.08s\n",
        "        30           6.1843            0.08s\n",
        "        40           4.3929            0.07s\n",
        "        50           3.4634            0.05s\n",
        "        60           2.7420            0.05s"
       ]
      },
      {
       "output_type": "stream",
       "stream": "stdout",
       "text": [
        "\n",
        "        70           2.3306            0.03s\n",
        "        80           1.9600            0.02s\n",
        "        90           1.6597            0.01s\n",
        "       100           1.4761            0.00s\n",
        " "
       ]
      },
      {
       "output_type": "stream",
       "stream": "stdout",
       "text": [
        "\u0422\u044e\u043c\u0435\u043d\u044c-2      Iter       Train Loss   Remaining Time \n",
        "         1          29.7287            0.12s\n",
        "         2          27.2661            0.12s\n",
        "         3          25.1710            0.11s\n",
        "         4          23.3008            0.11s\n",
        "         5          21.9176            0.11s\n",
        "         6          20.4222            0.11s\n",
        "         7          19.1976            0.11s\n",
        "         8          17.9715            0.11s\n",
        "         9          16.7398            0.10s\n",
        "        10          15.6557            0.10s\n",
        "        20          10.2480            0.09s\n",
        "        30           7.1267            0.08s\n",
        "        40           5.3220            0.06s"
       ]
      },
      {
       "output_type": "stream",
       "stream": "stdout",
       "text": [
        "\n",
        "        50           4.1724            0.05s\n",
        "        60           3.4238            0.04s\n",
        "        70           2.9535            0.03s\n",
        "        80           2.5150            0.02s\n",
        "        90           2.1390            0.01s"
       ]
      },
      {
       "output_type": "stream",
       "stream": "stdout",
       "text": [
        "\n",
        "       100           1.8785            0.00s\n",
        " \u0421\u0430\u043c\u0430\u0440\u0430-5      Iter       Train Loss   Remaining Time "
       ]
      },
      {
       "output_type": "stream",
       "stream": "stdout",
       "text": [
        "\n",
        "         1          33.8280            0.11s\n",
        "         2          31.2132            0.11s\n",
        "         3          28.9357            0.11s\n",
        "         4          27.0472            0.11s\n",
        "         5          25.0870            0.11s\n",
        "         6          23.4034            0.11s\n",
        "         7          21.7912            0.11s\n",
        "         8          20.5509            0.11s\n",
        "         9          19.4732            0.11s\n",
        "        10          18.4620            0.11s\n",
        "        20          12.4140            0.09s\n",
        "        30           8.9991            0.08s\n",
        "        40           6.9175            0.07s\n",
        "        50           6.1858            0.05s"
       ]
      },
      {
       "output_type": "stream",
       "stream": "stdout",
       "text": [
        "\n",
        "        60           5.3864            0.04s\n",
        "        70           4.3675            0.03s\n",
        "        80           3.3490            0.02s\n",
        "        90           2.7879            0.01s"
       ]
      },
      {
       "output_type": "stream",
       "stream": "stdout",
       "text": [
        "\n",
        "       100           2.5600            0.00s\n",
        " \u041d\u043e\u0432\u043e\u043a\u0443\u0439\u0431\u044b\u0448\u0435\u0432\u0441\u043a-1      Iter       Train Loss   Remaining Time "
       ]
      },
      {
       "output_type": "stream",
       "stream": "stdout",
       "text": [
        "\n",
        "         1          25.7010            0.09s\n",
        "         2          23.4353            0.09s\n",
        "         3          21.3349            0.08s\n",
        "         4          19.5782            0.08s\n",
        "         5          18.0045            0.08s\n",
        "         6          16.5666            0.08s\n",
        "         7          15.2311            0.08s\n",
        "         8          13.9160            0.08s\n",
        "         9          13.1019            0.08s\n",
        "        10          12.0908            0.08s\n",
        "        20           6.0326            0.07s\n",
        "        30           3.8024            0.07s\n",
        "        40           2.9187            0.06s\n",
        "        50           2.4558            0.05s\n",
        "        60           2.1896            0.04s"
       ]
      },
      {
       "output_type": "stream",
       "stream": "stdout",
       "text": [
        "\n",
        "        70           1.9099            0.03s\n",
        "        80           1.5500            0.02s\n",
        "        90           1.3487            0.01s\n",
        "       100           1.0926            0.00s\n",
        " "
       ]
      },
      {
       "output_type": "stream",
       "stream": "stdout",
       "text": [
        "\u041a\u0440\u0430\u0441\u043d\u043e\u0433\u043e\u0440\u0441\u043a-1      Iter       Train Loss   Remaining Time \n",
        "         1          20.1874            0.07s\n",
        "         2          18.5306            0.07s\n",
        "         3          16.9703            0.07s\n",
        "         4          15.5941            0.07s\n",
        "         5          14.4419            0.07s\n",
        "         6          13.3347            0.07s\n",
        "         7          12.5753            0.07s\n",
        "         8          11.7661            0.07s\n",
        "         9          10.9081            0.07s\n",
        "        10           9.9615            0.07s\n",
        "        20           4.9409            0.07s\n",
        "        30           3.5824            0.06s\n",
        "        40           2.5222            0.05s\n",
        "        50           1.7924            0.05s"
       ]
      },
      {
       "output_type": "stream",
       "stream": "stdout",
       "text": [
        "\n",
        "        60           1.3889            0.04s\n",
        "        70           1.1883            0.03s\n",
        "        80           1.0180            0.02s\n",
        "        90           0.9046            0.01s\n",
        "       100           0.8510            0.00s\n",
        " "
       ]
      },
      {
       "output_type": "stream",
       "stream": "stdout",
       "text": [
        "\u042d\u043b\u0435\u043a\u0442\u0440\u043e\u0441\u0442\u0430\u043b\u044c-1      Iter       Train Loss   Remaining Time \n",
        "         1           5.5447            0.10s\n",
        "         2           5.1343            0.11s\n",
        "         3           4.7406            0.10s\n",
        "         4           4.4657            0.10s\n",
        "         5           4.1716            0.10s\n",
        "         6           3.8858            0.10s\n",
        "         7           3.6770            0.09s\n",
        "         8           3.5241            0.09s\n",
        "         9           3.4075            0.09s\n",
        "        10           3.2129            0.09s\n",
        "        20           2.1784            0.08s\n",
        "        30           1.5899            0.07s\n",
        "        40           1.1392            0.06s\n",
        "        50           0.8346            0.05s"
       ]
      },
      {
       "output_type": "stream",
       "stream": "stdout",
       "text": [
        "\n",
        "        60           0.6868            0.04s\n",
        "        70           0.5833            0.03s\n",
        "        80           0.5158            0.02s\n",
        "        90           0.4622            0.01s\n",
        "       100           0.4268            0.00s\n",
        " "
       ]
      },
      {
       "output_type": "stream",
       "stream": "stdout",
       "text": [
        "\u041d\u043e\u0432\u043e\u0430\u043b\u0442\u0430\u0439\u0441\u043a-1      Iter       Train Loss   Remaining Time \n",
        "         1          18.5989            0.09s\n",
        "         2          16.9425            0.09s\n",
        "         3          15.4707            0.09s\n",
        "         4          14.3052            0.08s\n",
        "         5          13.1326            0.08s\n",
        "         6          12.2114            0.08s\n",
        "         7          11.3728            0.08s\n",
        "         8          10.6624            0.08s\n",
        "         9           9.9506            0.08s\n",
        "        10           9.3101            0.08s\n",
        "        20           5.0049            0.07s\n",
        "        30           3.2653            0.06s\n",
        "        40           2.2940            0.05s\n",
        "        50           1.6768            0.04s"
       ]
      },
      {
       "output_type": "stream",
       "stream": "stdout",
       "text": [
        "\n",
        "        60           1.2925            0.04s\n",
        "        70           1.0009            0.03s\n",
        "        80           0.8555            0.02s\n",
        "        90           0.7444            0.01s\n",
        "       100           0.5826            0.00s\n",
        " "
       ]
      },
      {
       "output_type": "stream",
       "stream": "stdout",
       "text": [
        "\u0420\u043e\u0441\u0442\u043e\u0432-\u043d\u0430-\u0414\u043e\u043d\u0443-3      Iter       Train Loss   Remaining Time \n",
        "         1           7.2850            0.14s\n",
        "         2           6.7473            0.12s\n",
        "         3           6.1299            0.12s\n",
        "         4           5.6573            0.11s\n",
        "         5           5.2250            0.11s\n",
        "         6           4.8768            0.10s\n",
        "         7           4.6344            0.10s\n",
        "         8           4.3014            0.10s\n",
        "         9           4.2020            0.09s\n",
        "        10           3.9732            0.09s\n",
        "        20           2.6317            0.07s\n",
        "        30           1.8334            0.06s\n",
        "        40           1.5151            0.05s\n",
        "        50           1.2217            0.04s"
       ]
      },
      {
       "output_type": "stream",
       "stream": "stdout",
       "text": [
        "\n",
        "        60           1.0100            0.04s\n",
        "        70           0.8072            0.03s\n",
        "        80           0.6660            0.02s\n",
        "        90           0.5492            0.01s\n",
        "       100           0.5029            0.00s\n",
        " "
       ]
      },
      {
       "output_type": "stream",
       "stream": "stdout",
       "text": [
        "\u041c\u0430\u0445\u0430\u0447\u043a\u0430\u043b\u0430-2      Iter       Train Loss   Remaining Time \n",
        "         1          22.0434            0.08s\n",
        "         2          20.1729            0.08s\n",
        "         3          18.6459            0.08s\n",
        "         4          17.1468            0.08s\n",
        "         5          15.8943            0.08s\n",
        "         6          14.6013            0.08s\n",
        "         7          13.5531            0.08s\n",
        "         8          12.6222            0.08s\n",
        "         9          11.6133            0.08s\n",
        "        10          10.8257            0.08s\n",
        "        20           5.8020            0.07s\n",
        "        30           3.7417            0.06s\n",
        "        40           2.6894            0.05s\n",
        "        50           1.9935            0.05s"
       ]
      },
      {
       "output_type": "stream",
       "stream": "stdout",
       "text": [
        "\n",
        "        60           1.6091            0.04s\n",
        "        70           1.3299            0.03s\n",
        "        80           1.0448            0.02s\n",
        "        90           0.9238            0.01s\n",
        "       100           0.8076            0.00s\n",
        " "
       ]
      },
      {
       "output_type": "stream",
       "stream": "stdout",
       "text": [
        "\u042f\u043a\u0443\u0442\u0441\u043a-1      Iter       Train Loss   Remaining Time \n",
        "         1          26.6962            0.10s\n",
        "         2          25.4958            0.09s\n",
        "         3          24.0498            0.09s\n",
        "         4          22.7462            0.09s\n",
        "         5          21.8426            0.09s\n",
        "         6          20.9310            0.09s\n",
        "         7          20.2197            0.09s\n",
        "         8          19.4229            0.08s\n",
        "         9          18.5421            0.08s\n",
        "        10          18.0125            0.08s\n",
        "        20          13.2920            0.07s\n",
        "        30           8.8565            0.06s\n",
        "        40           5.6125            0.05s\n",
        "        50           3.7735            0.04s"
       ]
      },
      {
       "output_type": "stream",
       "stream": "stdout",
       "text": [
        "\n",
        "        60           3.1572            0.04s\n",
        "        70           2.5685            0.03s\n",
        "        80           2.1968            0.02s\n",
        "        90           1.5839            0.01s\n",
        "       100           1.4955            0.00s\n",
        " "
       ]
      },
      {
       "output_type": "stream",
       "stream": "stdout",
       "text": [
        "\u0420\u0430\u0434\u0443\u0436\u043d\u044b\u0439-1      Iter       Train Loss   Remaining Time \n",
        "         1          22.9627            0.09s\n",
        "         2          22.3337            0.09s\n",
        "         3          21.7760            0.09s\n",
        "         4          20.1247            0.09s\n",
        "         5          19.6788            0.09s\n",
        "         6          19.3588            0.09s\n",
        "         7          19.0115            0.08s\n",
        "         8          18.7242            0.08s\n",
        "         9          18.3152            0.08s\n",
        "        10          17.8116            0.08s\n",
        "        20          14.6197            0.07s\n",
        "        30          12.5050            0.06s\n",
        "        40          11.0163            0.05s\n",
        "        50           9.0313            0.04s"
       ]
      },
      {
       "output_type": "stream",
       "stream": "stdout",
       "text": [
        "\n",
        "        60           8.5598            0.03s\n",
        "        70           8.0884            0.03s\n",
        "        80           7.1312            0.02s\n",
        "        90           6.9102            0.01s\n",
        "       100           6.0866            0.00s\n",
        " "
       ]
      },
      {
       "output_type": "stream",
       "stream": "stdout",
       "text": [
        "\u0417\u0435\u043b\u0435\u043d\u043e\u043a\u0443\u043c\u0441\u043a-1      Iter       Train Loss   Remaining Time \n",
        "         1          16.9333            0.07s\n",
        "         2          15.3653            0.07s\n",
        "         3          14.0202            0.07s\n",
        "         4          12.9284            0.07s\n",
        "         5          11.8538            0.07s\n",
        "         6          10.8455            0.07s\n",
        "         7          10.0655            0.07s\n",
        "         8           9.3089            0.07s\n",
        "         9           8.5745            0.07s\n",
        "        10           7.8702            0.08s\n",
        "        20           4.3514            0.07s\n",
        "        30           3.0330            0.06s\n",
        "        40           2.3919            0.05s\n",
        "        50           1.8975            0.04s"
       ]
      },
      {
       "output_type": "stream",
       "stream": "stdout",
       "text": [
        "\n",
        "        60           1.4293            0.04s\n",
        "        70           1.0206            0.03s\n",
        "        80           0.8261            0.02s\n",
        "        90           0.6578            0.01s\n",
        "       100           0.6046            0.00s\n",
        " "
       ]
      },
      {
       "output_type": "stream",
       "stream": "stdout",
       "text": [
        "\u0421\u0435\u0440\u043f\u0443\u0445\u043e\u0432-1      Iter       Train Loss   Remaining Time \n",
        "         1          10.6135            0.07s\n",
        "         2           9.7593            0.08s\n",
        "         3           8.9394            0.07s\n",
        "         4           8.2456            0.07s\n",
        "         5           7.6335            0.07s\n",
        "         6           7.0576            0.08s\n",
        "         7           6.5321            0.08s\n",
        "         8           6.0394            0.08s\n",
        "         9           5.7520            0.08s\n",
        "        10           5.3808            0.08s\n",
        "        20           3.3583            0.07s\n",
        "        30           2.5786            0.06s\n",
        "        40           2.0525            0.05s\n",
        "        50           1.5361            0.04s"
       ]
      },
      {
       "output_type": "stream",
       "stream": "stdout",
       "text": [
        "\n",
        "        60           1.1631            0.04s\n",
        "        70           0.9070            0.03s\n",
        "        80           0.7572            0.02s\n",
        "        90           0.6817            0.01s\n",
        "       100           0.5558            0.00s\n",
        " "
       ]
      },
      {
       "output_type": "stream",
       "stream": "stdout",
       "text": [
        "\u041b\u0435\u043d\u0438\u043d\u043e\u0433\u043e\u0440\u0441\u043a-1      Iter       Train Loss   Remaining Time \n",
        "         1          20.0000            0.07s\n",
        "         2          18.4034            0.07s\n",
        "         3          16.7817            0.07s\n",
        "         4          15.3494            0.07s\n",
        "         5          13.9824            0.07s\n",
        "         6          12.9558            0.07s\n",
        "         7          12.0160            0.07s\n",
        "         8          11.1481            0.07s\n",
        "         9          10.4287            0.07s\n",
        "        10           9.6888            0.07s\n",
        "        20           5.5805            0.06s\n",
        "        30           4.0830            0.06s\n",
        "        40           2.8565            0.05s\n",
        "        50           2.0972            0.04s\n",
        "        60           1.5595            0.03s"
       ]
      },
      {
       "output_type": "stream",
       "stream": "stdout",
       "text": [
        "\n",
        "        70           1.1418            0.03s\n",
        "        80           0.8885            0.02s\n",
        "        90           0.6685            0.01s\n",
        "       100           0.5149            0.00s\n",
        " "
       ]
      },
      {
       "output_type": "stream",
       "stream": "stdout",
       "text": [
        "\u0423\u0444\u0430-1      Iter       Train Loss   Remaining Time \n",
        "         1          39.7825            0.12s\n",
        "         2          37.0172            0.10s\n",
        "         3          34.6500            0.08s\n",
        "         4          31.8333            0.07s\n",
        "         5          29.5272            0.07s\n",
        "         6          27.4336            0.07s\n",
        "         7          25.6289            0.06s\n",
        "         8          23.8942            0.06s\n",
        "         9          22.3544            0.06s\n",
        "        10          21.2974            0.06s\n",
        "        20          14.5429            0.05s\n",
        "        30          11.7238            0.05s\n",
        "        40          10.4185            0.04s\n",
        "        50           9.5982            0.04s\n",
        "        60           9.1613            0.03s"
       ]
      },
      {
       "output_type": "stream",
       "stream": "stdout",
       "text": [
        "\n",
        "        70           8.9006            0.02s\n",
        "        80           8.6364            0.02s\n",
        "        90           8.4332            0.01s\n",
        "       100           6.1754            0.00s\n",
        " "
       ]
      },
      {
       "output_type": "stream",
       "stream": "stdout",
       "text": [
        "\u041c\u043e\u0441\u043a\u0432\u0430 1-5      Iter       Train Loss   Remaining Time \n",
        "         1          20.3893            0.07s\n",
        "         2          18.9504            0.07s\n",
        "         3          17.5781            0.07s\n",
        "         4          16.3013            0.06s\n",
        "         5          15.1592            0.06s\n",
        "         6          14.1273            0.06s\n",
        "         7          13.1525            0.06s\n",
        "         8          12.2848            0.06s\n",
        "         9          11.5291            0.06s\n",
        "        10          10.9346            0.06s\n",
        "        20           6.4092            0.05s\n",
        "        30           4.0205            0.05s\n",
        "        40           2.6713            0.04s\n",
        "        50           2.0055            0.03s\n",
        "        60           1.5933            0.03s"
       ]
      },
      {
       "output_type": "stream",
       "stream": "stdout",
       "text": [
        "\n",
        "        70           1.3219            0.02s\n",
        "        80           1.1193            0.01s\n",
        "        90           0.9280            0.01s\n",
        "       100           0.8416            0.00s\n",
        " "
       ]
      },
      {
       "output_type": "stream",
       "stream": "stdout",
       "text": [
        "\u0421\u0435\u0432\u0435\u0440\u0441\u043a-1      Iter       Train Loss   Remaining Time \n",
        "         1          57.8983            0.05s\n",
        "         2          51.9938            0.05s\n",
        "         3          47.9678            0.05s\n",
        "         4          43.5067            0.05s\n",
        "         5          39.3791            0.05s\n",
        "         6          35.4668            0.05s\n",
        "         7          32.3000            0.05s\n",
        "         8          29.4671            0.05s\n",
        "         9          27.1520            0.05s\n",
        "        10          24.8677            0.05s\n",
        "        20          11.9368            0.05s\n",
        "        30           6.4333            0.05s\n",
        "        40           3.7969            0.04s\n",
        "        50           2.7753            0.03s\n",
        "        60           2.3871            0.03s"
       ]
      },
      {
       "output_type": "stream",
       "stream": "stdout",
       "text": [
        "\n",
        "        70           2.1211            0.02s\n",
        "        80           1.6015            0.01s\n",
        "        90           1.2995            0.01s\n",
        "       100           1.1405            0.00s\n",
        " "
       ]
      },
      {
       "output_type": "stream",
       "stream": "stdout",
       "text": [
        "\u041d\u0435\u0444\u0442\u0435\u044e\u0433\u0430\u043d\u0441\u043a-1      Iter       Train Loss   Remaining Time \n",
        "         1          23.3111            0.05s\n",
        "         2          21.3074            0.05s\n",
        "         3          19.4927            0.05s\n",
        "         4          17.9307            0.05s\n",
        "         5          16.6675            0.05s\n",
        "         6          15.4411            0.05s\n",
        "         7          14.2721            0.05s\n",
        "         8          13.3187            0.05s\n",
        "         9          12.7384            0.05s\n",
        "        10          11.9136            0.05s\n",
        "        20           7.5352            0.05s\n",
        "        30           5.1827            0.05s\n",
        "        40           3.5890            0.04s\n",
        "        50           2.4302            0.03s\n",
        "        60           1.6770            0.03s"
       ]
      },
      {
       "output_type": "stream",
       "stream": "stdout",
       "text": [
        "\n",
        "        70           1.2887            0.02s\n",
        "        80           0.8943            0.01s\n",
        "        90           0.6139            0.01s\n",
        "       100           0.3970            0.00s\n",
        " "
       ]
      },
      {
       "output_type": "stream",
       "stream": "stdout",
       "text": [
        "\u0418\u0436\u0435\u0432\u0441\u043a-1      Iter       Train Loss   Remaining Time \n",
        "         1          19.7468            0.04s\n",
        "         2          17.8987            0.04s\n",
        "         3          16.3966            0.04s\n",
        "         4          14.7934            0.04s\n",
        "         5          13.6163            0.04s\n",
        "         6          12.4780            0.04s\n",
        "         7          11.4663            0.05s\n",
        "         8          10.5510            0.05s\n",
        "         9           9.7896            0.05s\n",
        "        10           9.0558            0.05s\n",
        "        20           4.8352            0.05s\n",
        "        30           3.3551            0.04s\n",
        "        40           2.4638            0.04s\n",
        "        50           1.9455            0.03s\n",
        "        60           1.5658            0.02s\n",
        "        70           1.3157            0.02s"
       ]
      },
      {
       "output_type": "stream",
       "stream": "stdout",
       "text": [
        "\n",
        "        80           1.1128            0.01s\n",
        "        90           0.9434            0.01s\n",
        "       100           0.6259            0.00s\n",
        " "
       ]
      },
      {
       "output_type": "stream",
       "stream": "stdout",
       "text": [
        "\u0420\u0430\u043c\u0435\u043d\u0441\u043a\u043e\u0435-1      Iter       Train Loss   Remaining Time \n",
        "         1          14.0091            0.05s\n",
        "         2          12.4634            0.05s\n",
        "         3          11.1369            0.05s\n",
        "         4          10.0708            0.05s\n",
        "         5           9.3405            0.05s\n",
        "         6           8.5319            0.05s\n",
        "         7           7.8545            0.05s\n",
        "         8           7.2556            0.05s\n",
        "         9           6.7402            0.05s\n",
        "        10           6.1838            0.05s\n",
        "        20           3.1799            0.05s\n",
        "        30           1.7985            0.04s\n",
        "        40           1.1172            0.04s\n",
        "        50           0.8582            0.03s\n",
        "        60           0.6379            0.03s\n",
        "        70           0.4680            0.02s"
       ]
      },
      {
       "output_type": "stream",
       "stream": "stdout",
       "text": [
        "\n",
        "        80           0.3353            0.01s\n",
        "        90           0.2940            0.01s\n",
        "       100           0.2417            0.00s\n",
        " "
       ]
      },
      {
       "output_type": "stream",
       "stream": "stdout",
       "text": [
        "\u0412\u043e\u043b\u043e\u0433\u0434\u0430-2      Iter       Train Loss   Remaining Time \n",
        "         1          43.0075            0.04s\n",
        "         2          39.3563            0.05s\n",
        "         3          37.0879            0.05s\n",
        "         4          33.9917            0.05s\n",
        "         5          31.6619            0.05s\n",
        "         6          28.7323            0.05s\n",
        "         7          26.6872            0.05s\n",
        "         8          24.6814            0.05s\n",
        "         9          22.7043            0.05s\n",
        "        10          20.8258            0.05s\n",
        "        20          11.6554            0.04s\n",
        "        30           7.1555            0.04s\n",
        "        40           4.6959            0.03s\n",
        "        50           3.1585            0.03s\n",
        "        60           2.8122            0.02s\n",
        "        70           2.1259            0.02s\n",
        "        80           1.6710            0.01s"
       ]
      },
      {
       "output_type": "stream",
       "stream": "stdout",
       "text": [
        "\n",
        "        90           1.4381            0.01s\n",
        "       100           1.0743            0.00s\n",
        " \u041e\u0431\u043d\u0438\u043d\u0441\u043a-1      Iter       Train Loss   Remaining Time "
       ]
      },
      {
       "output_type": "stream",
       "stream": "stdout",
       "text": [
        "\n",
        "         1          38.1154            0.06s\n",
        "         2          34.8923            0.05s\n",
        "         3          31.9893            0.05s\n",
        "         4          29.2801            0.05s\n",
        "         5          27.0901            0.05s\n",
        "         6          25.0135            0.05s\n",
        "         7          23.1481            0.05s\n",
        "         8          21.3710            0.05s\n",
        "         9          19.8369            0.05s\n",
        "        10          18.6930            0.05s\n",
        "        20          10.0865            0.04s\n",
        "        30           6.8798            0.04s\n",
        "        40           4.6571            0.03s\n",
        "        50           3.3610            0.03s\n",
        "        60           2.6914            0.02s\n",
        "        70           1.7882            0.02s\n",
        "        80           1.1699            0.01s\n",
        "        90           0.9641            0.01s\n",
        "       100           0.8033            0.00s"
       ]
      },
      {
       "output_type": "stream",
       "stream": "stdout",
       "text": [
        "\n",
        " \u0422\u043e\u043b\u044c\u044f\u0442\u0442\u0438-2      Iter       Train Loss   Remaining Time \n",
        "         1          21.3216            0.05s\n",
        "         2          19.7281            0.05s\n",
        "         3          18.5607            0.05s\n",
        "         4          17.2731            0.05s\n",
        "         5          16.3072            0.05s\n",
        "         6          15.4562            0.04s\n",
        "         7          14.4017            0.04s\n",
        "         8          13.5124            0.04s\n",
        "         9          12.6242            0.04s\n",
        "        10          12.0204            0.04s\n",
        "        20           6.8826            0.04s"
       ]
      },
      {
       "output_type": "stream",
       "stream": "stdout",
       "text": [
        "\n",
        "        30           5.6400            0.04s\n",
        "        40           3.8424            0.03s\n",
        "        50           2.3481            0.03s\n",
        "        60           1.7025            0.02s\n",
        "        70           1.2125            0.02s\n",
        "        80           1.0486            0.01s\n",
        "        90           0.9348            0.01s\n",
        "       100           0.8147            0.00s\n",
        " "
       ]
      },
      {
       "output_type": "stream",
       "stream": "stdout",
       "text": [
        "\u041d\u0438\u0436\u043d\u0438\u0439 \u0422\u0430\u0433\u0438\u043b-1      Iter       Train Loss   Remaining Time \n",
        "         1           8.2531            0.05s\n",
        "         2           7.7528            0.05s\n",
        "         3           7.2678            0.05s\n",
        "         4           6.8820            0.05s\n",
        "         5           6.5594            0.05s\n",
        "         6           6.2018            0.05s\n",
        "         7           5.9591            0.05s\n",
        "         8           5.7080            0.05s\n",
        "         9           5.5027            0.05s\n",
        "        10           5.2578            0.05s\n",
        "        20           3.9078            0.04s\n",
        "        30           2.9188            0.04s\n",
        "        40           2.2380            0.03s\n",
        "        50           1.6965            0.03s\n",
        "        60           1.2633            0.02s\n",
        "        70           1.1210            0.02s\n",
        "        80           0.9566            0.01s"
       ]
      },
      {
       "output_type": "stream",
       "stream": "stdout",
       "text": [
        "\n",
        "        90           0.9308            0.01s\n",
        "       100           0.9188            0.00s\n",
        " \u041c\u043e\u0441\u043a\u0432\u0430 1-3      Iter       Train Loss   Remaining Time "
       ]
      },
      {
       "output_type": "stream",
       "stream": "stdout",
       "text": [
        "\n",
        "         1          22.0370            0.04s\n",
        "         2          19.8863            0.04s\n",
        "         3          18.4101            0.04s\n",
        "         4          17.1801            0.04s\n",
        "         5          15.5503            0.04s\n",
        "         6          14.3640            0.04s\n",
        "         7          13.0894            0.04s\n",
        "         8          12.0607            0.04s\n",
        "         9          11.2465            0.04s\n",
        "        10          10.3479            0.04s\n",
        "        20           5.9677            0.03s\n",
        "        30           4.2668            0.03s\n",
        "        40           2.9588            0.03s\n",
        "        50           2.6789            0.02s\n",
        "        60           2.5884            0.02s\n",
        "        70           2.4229            0.01s\n",
        "        80           2.0940            0.01s\n",
        "        90           1.8473            0.00s\n",
        "       100           1.7214            0.00s\n",
        " "
       ]
      },
      {
       "output_type": "stream",
       "stream": "stdout",
       "text": [
        "\u0415\u043a\u0430\u0442\u0435\u0440\u0438\u043d\u0431\u0443\u0440\u0433-1      Iter       Train Loss   Remaining Time \n",
        "         1          15.9750            0.04s\n",
        "         2          15.1225            0.04s\n",
        "         3          13.9423            0.05s\n",
        "         4          13.2096            0.04s\n",
        "         5          12.4649            0.04s\n",
        "         6          11.6035            0.04s\n",
        "         7          10.9600            0.04s\n",
        "         8          10.1257            0.04s\n",
        "         9           9.4366            0.04s\n",
        "        10           9.0156            0.04s\n",
        "        20           5.4330            0.03s\n",
        "        30           3.3664            0.03s\n",
        "        40           2.2428            0.02s\n",
        "        50           1.6596            0.02s\n",
        "        60           1.4105            0.01s\n",
        "        70           1.1175            0.01s\n",
        "        80           0.8792            0.01s\n",
        "        90           0.6589            0.00s\n",
        "       100           0.4230            0.00s\n",
        " "
       ]
      },
      {
       "output_type": "stream",
       "stream": "stdout",
       "text": [
        "\u0414\u043c\u0438\u0442\u0440\u043e\u0432-1 \n",
        "16.259068704\n"
       ]
      }
     ],
     "prompt_number": 221
    },
    {
     "cell_type": "code",
     "collapsed": false,
     "input": [],
     "language": "python",
     "metadata": {},
     "outputs": [
      {
       "metadata": {},
       "output_type": "pyout",
       "prompt_number": 207,
       "text": [
        "50257     12\n",
        "50684     17\n",
        "51455     52\n",
        "51866     11\n",
        "52338     27\n",
        "52670     24\n",
        "52944    128\n",
        "Name: Count, dtype: float64"
       ]
      }
     ],
     "prompt_number": 207
    },
    {
     "cell_type": "code",
     "collapsed": false,
     "input": [
      "for i in city:\n",
      "    X = X_train[X_train.Point == i]\n",
      "    X = X[X.columns.difference(['Point'])]\n",
      "    \n",
      "    y = y_train[y_train.Point == i].Count\n",
      "    \n",
      "    X_val = X_train[X_train.Point == i]\n",
      "    X_val = X_val[X_val.columns.difference(['Point'])]\n",
      "    \n",
      "    y_val = y_train[y_train.Point == i].Count\n",
      "    \n",
      "    model.fit(X, y)\n",
      "    predict = model.predict(X_val)\n",
      "    k = 0\n",
      "    print y_val.index.shape\n",
      "    print y_val.index\n",
      "    for i in y_val.index:\n",
      "        pass\n",
      "        #print i\n",
      "        #pred.Count[i] = predict[k]\n",
      "        #k += 1\n",
      "    break"
     ],
     "language": "python",
     "metadata": {},
     "outputs": [
      {
       "output_type": "stream",
       "stream": "stdout",
       "text": [
        "(1265,)\n",
        "Int64Index([    0,     1,     2,     3,     5,     6,     8,    10,    11,\n",
        "               12,\n",
        "            ...\n",
        "            52185, 52275, 52462, 52570, 52696, 52823, 52827, 53079, 53194,\n",
        "            53377],\n",
        "           dtype='int64', length=1265)\n"
       ]
      }
     ],
     "prompt_number": 175
    },
    {
     "cell_type": "code",
     "collapsed": false,
     "input": [],
     "language": "python",
     "metadata": {},
     "outputs": [],
     "prompt_number": 166
    },
    {
     "cell_type": "code",
     "collapsed": false,
     "input": [],
     "language": "python",
     "metadata": {},
     "outputs": []
    },
    {
     "cell_type": "code",
     "collapsed": false,
     "input": [],
     "language": "python",
     "metadata": {},
     "outputs": []
    },
    {
     "cell_type": "code",
     "collapsed": false,
     "input": [
      "gbr = GradientBoostingRegressor(learning_rate=0.1, max_depth=7, verbose=1, n_estimators=100, loss ='lad')"
     ],
     "language": "python",
     "metadata": {},
     "outputs": [],
     "prompt_number": 33
    },
    {
     "cell_type": "code",
     "collapsed": false,
     "input": [
      "gbr.fit(X_train, y_train)"
     ],
     "language": "python",
     "metadata": {},
     "outputs": [
      {
       "output_type": "stream",
       "stream": "stdout",
       "text": [
        "      Iter       Train Loss   Remaining Time \n",
        "         1          48.2226           20.99s"
       ]
      },
      {
       "output_type": "stream",
       "stream": "stdout",
       "text": [
        "\n",
        "         2          44.3011           21.03s"
       ]
      },
      {
       "output_type": "stream",
       "stream": "stdout",
       "text": [
        "\n",
        "         3          40.7860           21.01s"
       ]
      },
      {
       "output_type": "stream",
       "stream": "stdout",
       "text": [
        "\n",
        "         4          37.7115           20.70s"
       ]
      },
      {
       "output_type": "stream",
       "stream": "stdout",
       "text": [
        "\n",
        "         5          34.9820           20.59s"
       ]
      },
      {
       "output_type": "stream",
       "stream": "stdout",
       "text": [
        "\n",
        "         6          32.5336           20.39s"
       ]
      },
      {
       "output_type": "stream",
       "stream": "stdout",
       "text": [
        "\n",
        "         7          30.3562           20.16s"
       ]
      },
      {
       "output_type": "stream",
       "stream": "stdout",
       "text": [
        "\n",
        "         8          28.4163           19.98s"
       ]
      },
      {
       "output_type": "stream",
       "stream": "stdout",
       "text": [
        "\n",
        "         9          26.7126           19.79s"
       ]
      },
      {
       "output_type": "stream",
       "stream": "stdout",
       "text": [
        "\n",
        "        10          25.2067           19.66s"
       ]
      },
      {
       "output_type": "stream",
       "stream": "stdout",
       "text": [
        "\n",
        "        20          17.5483           17.16s"
       ]
      },
      {
       "output_type": "stream",
       "stream": "stdout",
       "text": [
        "\n",
        "        30          15.4989           14.50s"
       ]
      },
      {
       "output_type": "stream",
       "stream": "stdout",
       "text": [
        "\n",
        "        40          14.8318           11.92s"
       ]
      },
      {
       "output_type": "stream",
       "stream": "stdout",
       "text": [
        "\n",
        "        50          14.5011            9.46s"
       ]
      },
      {
       "output_type": "stream",
       "stream": "stdout",
       "text": [
        "\n",
        "        60          14.2541            7.20s"
       ]
      },
      {
       "output_type": "stream",
       "stream": "stdout",
       "text": [
        "\n",
        "        70          14.0130            5.22s"
       ]
      },
      {
       "output_type": "stream",
       "stream": "stdout",
       "text": [
        "\n",
        "        80          13.8357            3.33s"
       ]
      },
      {
       "output_type": "stream",
       "stream": "stdout",
       "text": [
        "\n",
        "        90          13.7347            1.61s"
       ]
      },
      {
       "output_type": "stream",
       "stream": "stdout",
       "text": [
        "\n",
        "       100          13.5670            0.00s"
       ]
      },
      {
       "output_type": "stream",
       "stream": "stdout",
       "text": [
        "\n"
       ]
      },
      {
       "metadata": {},
       "output_type": "pyout",
       "prompt_number": 34,
       "text": [
        "GradientBoostingRegressor(alpha=0.9, criterion='friedman_mse', init=None,\n",
        "             learning_rate=0.1, loss='lad', max_depth=7, max_features=None,\n",
        "             max_leaf_nodes=None, min_impurity_split=1e-07,\n",
        "             min_samples_leaf=1, min_samples_split=2,\n",
        "             min_weight_fraction_leaf=0.0, n_estimators=100,\n",
        "             presort='auto', random_state=None, subsample=1.0, verbose=1,\n",
        "             warm_start=False)"
       ]
      }
     ],
     "prompt_number": 34
    },
    {
     "cell_type": "code",
     "collapsed": false,
     "input": [
      "pred = gbr.predict(X_test)\n",
      "print mae(y_test, pred)"
     ],
     "language": "python",
     "metadata": {},
     "outputs": [
      {
       "output_type": "stream",
       "stream": "stdout",
       "text": [
        "15.5920315095\n"
       ]
      }
     ],
     "prompt_number": 35
    },
    {
     "cell_type": "code",
     "collapsed": false,
     "input": [
      "gbr = GradientBoostingRegressor(learning_rate=0.01, max_depth=7, verbose=1, n_estimators=4000, loss ='lad')"
     ],
     "language": "python",
     "metadata": {},
     "outputs": [],
     "prompt_number": 28
    },
    {
     "cell_type": "code",
     "collapsed": false,
     "input": [
      "gbr.fit(X_train, y_train)"
     ],
     "language": "python",
     "metadata": {},
     "outputs": [
      {
       "output_type": "stream",
       "stream": "stdout",
       "text": [
        "      Iter       Train Loss   Remaining Time \n",
        "         1          52.0946           14.51m"
       ]
      },
      {
       "output_type": "stream",
       "stream": "stdout",
       "text": [
        "\n",
        "         2          51.6626           15.34m"
       ]
      },
      {
       "output_type": "stream",
       "stream": "stdout",
       "text": [
        "\n",
        "         3          51.2344           15.78m"
       ]
      },
      {
       "output_type": "stream",
       "stream": "stdout",
       "text": [
        "\n",
        "         4          50.8138           15.91m"
       ]
      },
      {
       "output_type": "stream",
       "stream": "stdout",
       "text": [
        "\n",
        "         5          50.3961           16.01m"
       ]
      },
      {
       "output_type": "stream",
       "stream": "stdout",
       "text": [
        "\n",
        "         6          49.9769           15.94m"
       ]
      },
      {
       "output_type": "stream",
       "stream": "stdout",
       "text": [
        "\n",
        "         7          49.5602           15.86m"
       ]
      },
      {
       "output_type": "stream",
       "stream": "stdout",
       "text": [
        "\n",
        "         8          49.1497           16.21m"
       ]
      },
      {
       "output_type": "stream",
       "stream": "stdout",
       "text": [
        "\n",
        "         9          48.7457           16.01m"
       ]
      },
      {
       "output_type": "stream",
       "stream": "stdout",
       "text": [
        "\n",
        "        10          48.3411           15.88m"
       ]
      },
      {
       "output_type": "stream",
       "stream": "stdout",
       "text": [
        "\n",
        "        20          44.5455           14.98m"
       ]
      },
      {
       "output_type": "stream",
       "stream": "stdout",
       "text": [
        "\n",
        "        30          41.1503           14.61m"
       ]
      },
      {
       "output_type": "stream",
       "stream": "stdout",
       "text": [
        "\n",
        "        40          38.1413           14.39m"
       ]
      },
      {
       "output_type": "stream",
       "stream": "stdout",
       "text": [
        "\n",
        "        50          35.4368           14.27m"
       ]
      },
      {
       "output_type": "stream",
       "stream": "stdout",
       "text": [
        "\n",
        "        60          33.0354           14.19m"
       ]
      },
      {
       "output_type": "stream",
       "stream": "stdout",
       "text": [
        "\n",
        "        70          30.8824           14.14m"
       ]
      },
      {
       "output_type": "stream",
       "stream": "stdout",
       "text": [
        "\n",
        "        80          28.9630           14.08m"
       ]
      },
      {
       "output_type": "stream",
       "stream": "stdout",
       "text": [
        "\n",
        "        90          27.2523           14.06m"
       ]
      },
      {
       "output_type": "stream",
       "stream": "stdout",
       "text": [
        "\n",
        "       100          25.7310           14.08m"
       ]
      },
      {
       "output_type": "stream",
       "stream": "stdout",
       "text": [
        "\n",
        "       200          17.7504           13.48m"
       ]
      },
      {
       "output_type": "stream",
       "stream": "stdout",
       "text": [
        "\n",
        "       300          15.5231           12.72m"
       ]
      },
      {
       "output_type": "stream",
       "stream": "stdout",
       "text": [
        "\n",
        "       400          14.8163           11.76m"
       ]
      },
      {
       "output_type": "stream",
       "stream": "stdout",
       "text": [
        "\n",
        "       500          14.4742           10.90m"
       ]
      },
      {
       "output_type": "stream",
       "stream": "stdout",
       "text": [
        "\n",
        "       600          14.1841           10.15m"
       ]
      },
      {
       "output_type": "stream",
       "stream": "stdout",
       "text": [
        "\n",
        "       700          13.9501            9.45m"
       ]
      },
      {
       "output_type": "stream",
       "stream": "stdout",
       "text": [
        "\n",
        "       800          13.8240            8.72m"
       ]
      },
      {
       "output_type": "stream",
       "stream": "stdout",
       "text": [
        "\n",
        "       900          13.6699            8.16m"
       ]
      },
      {
       "output_type": "stream",
       "stream": "stdout",
       "text": [
        "\n",
        "      1000          13.5720            7.64m"
       ]
      },
      {
       "output_type": "stream",
       "stream": "stdout",
       "text": [
        "\n",
        "      2000          13.3448            3.90m"
       ]
      },
      {
       "output_type": "stream",
       "stream": "stdout",
       "text": [
        "\n",
        "      3000          13.2904            1.68m"
       ]
      },
      {
       "output_type": "stream",
       "stream": "stdout",
       "text": [
        "\n",
        "      4000          13.2904            0.00s"
       ]
      },
      {
       "output_type": "stream",
       "stream": "stdout",
       "text": [
        "\n"
       ]
      },
      {
       "metadata": {},
       "output_type": "pyout",
       "prompt_number": 29,
       "text": [
        "GradientBoostingRegressor(alpha=0.9, criterion='friedman_mse', init=None,\n",
        "             learning_rate=0.01, loss='lad', max_depth=7,\n",
        "             max_features=None, max_leaf_nodes=None,\n",
        "             min_impurity_split=1e-07, min_samples_leaf=1,\n",
        "             min_samples_split=2, min_weight_fraction_leaf=0.0,\n",
        "             n_estimators=4000, presort='auto', random_state=None,\n",
        "             subsample=1.0, verbose=1, warm_start=False)"
       ]
      }
     ],
     "prompt_number": 29
    },
    {
     "cell_type": "code",
     "collapsed": false,
     "input": [
      "pred = gbr.predict(X_test)\n",
      "print mae(y_test, pred)"
     ],
     "language": "python",
     "metadata": {},
     "outputs": [
      {
       "output_type": "stream",
       "stream": "stdout",
       "text": [
        "15.42651794\n"
       ]
      }
     ],
     "prompt_number": 30
    },
    {
     "cell_type": "code",
     "collapsed": false,
     "input": [
      "model = trainModelKfoldOnValidation(dataTrain, RandomForestRegressor(), countFold = 25)\n",
      "pred = model.predict(X_test)\n",
      "print (mae(pred, y_test))"
     ],
     "language": "python",
     "metadata": {
      "scrolled": false
     },
     "outputs": [
      {
       "output_type": "stream",
       "stream": "stdout",
       "text": [
        "16.632610083\n",
        "18.7105296745\n",
        "18.443905552\n",
        "16.315252074\n",
        "16.8954690491\n",
        "17.0089342693\n",
        "16.1523292916\n",
        "17.0751754946\n",
        "17.5008296107\n",
        "16.970134014\n",
        "17.7065092534\n",
        "16.8759412891\n",
        "15.4571155073\n",
        "16.1772814295\n",
        "16.3549457562\n",
        "16.8608806637\n",
        "16.846330568\n",
        "17.8841097639\n",
        "16.939948947\n",
        "17.321952776\n",
        "16.6019783025\n",
        "16.478366305\n",
        "16.4514358647\n",
        "16.62744097\n",
        "16.6901723038\n",
        "result  16.9191831525\n",
        "16.875267573\n"
       ]
      }
     ],
     "prompt_number": 19
    },
    {
     "cell_type": "code",
     "collapsed": false,
     "input": [
      "m = trainModelKfold(data, LinearRegression(), countFold = 25)\n",
      "print(data.columns.difference(['Count']))\n",
      "m.coef_"
     ],
     "language": "python",
     "metadata": {
      "scrolled": false
     },
     "outputs": [],
     "prompt_number": null
    },
    {
     "cell_type": "heading",
     "level": 1,
     "metadata": {
      "collapsed": true
     },
     "source": [
      "Weather (be or not to be)"
     ]
    },
    {
     "cell_type": "code",
     "collapsed": false,
     "input": [
      "features = pd.read_csv('data_transform/all.csv')\n",
      "remove_column = ['IsTest', 'IsTrain', 'IsValidation', 'lat', 'lng', 'FirstOrder', 'BranchNumber', 'CityID', 'Date', 'Point', 'CityName', 'MeanForThroughDay', 'MeanForMonthDayByPoints' \\\n",
      "                 ,'MeanForThroughDayByPoints', 'MeanForThroughWeekByPoints', 'MeanForYearDayByPoints']"
     ],
     "language": "python",
     "metadata": {},
     "outputs": [
      {
       "output_type": "stream",
       "stream": "stderr",
       "text": [
        "/opt/anaconda3/lib/python3.5/site-packages/IPython/core/interactiveshell.py:2717: DtypeWarning: Columns (15,16,17) have mixed types. Specify dtype option on import or set low_memory=False.\n",
        "  interactivity=interactivity, compiler=compiler, result=result)\n"
       ]
      }
     ],
     "prompt_number": 100
    },
    {
     "cell_type": "heading",
     "level": 2,
     "metadata": {
      "collapsed": false
     },
     "source": [
      "without weather"
     ]
    },
    {
     "cell_type": "code",
     "collapsed": false,
     "input": [
      "weather = pd.read_csv('data_transform/tmp_weather.csv')\n",
      "weather = weather[pd.notnull(weather.summary)]\n",
      "weather.head()"
     ],
     "language": "python",
     "metadata": {},
     "outputs": [
      {
       "output_type": "stream",
       "stream": "stderr",
       "text": [
        "/opt/anaconda3/lib/python3.5/site-packages/IPython/core/interactiveshell.py:2717: DtypeWarning: Columns (4,5,6) have mixed types. Specify dtype option on import or set low_memory=False.\n",
        "  interactivity=interactivity, compiler=compiler, result=result)\n"
       ]
      },
      {
       "html": [
        "<div>\n",
        "<table border=\"1\" class=\"dataframe\">\n",
        "  <thead>\n",
        "    <tr style=\"text-align: right;\">\n",
        "      <th></th>\n",
        "      <th>Date</th>\n",
        "      <th>CityName</th>\n",
        "      <th>lat</th>\n",
        "      <th>lng</th>\n",
        "      <th>summary</th>\n",
        "      <th>icon</th>\n",
        "      <th>precipType</th>\n",
        "      <th>temperature</th>\n",
        "      <th>apparentTemperature</th>\n",
        "      <th>dewPoint</th>\n",
        "      <th>humidity</th>\n",
        "      <th>windSpeed</th>\n",
        "      <th>windBearing</th>\n",
        "      <th>visibility</th>\n",
        "      <th>cloudCover</th>\n",
        "      <th>pressure</th>\n",
        "    </tr>\n",
        "  </thead>\n",
        "  <tbody>\n",
        "    <tr>\n",
        "      <th>0</th>\n",
        "      <td>2011-10-06</td>\n",
        "      <td>\u0421\u044b\u043a\u0442\u044b\u0432\u043a\u0430\u0440</td>\n",
        "      <td>61.647851</td>\n",
        "      <td>50.833903</td>\n",
        "      <td>Overcast</td>\n",
        "      <td>cloudy</td>\n",
        "      <td>rain</td>\n",
        "      <td>4.95</td>\n",
        "      <td>1.77</td>\n",
        "      <td>4.13</td>\n",
        "      <td>0.94</td>\n",
        "      <td>4.05</td>\n",
        "      <td>195.0</td>\n",
        "      <td>8.32</td>\n",
        "      <td>1.0</td>\n",
        "      <td>990.66</td>\n",
        "    </tr>\n",
        "    <tr>\n",
        "      <th>1</th>\n",
        "      <td>2011-10-07</td>\n",
        "      <td>\u0421\u044b\u043a\u0442\u044b\u0432\u043a\u0430\u0440</td>\n",
        "      <td>61.647851</td>\n",
        "      <td>50.833903</td>\n",
        "      <td>Overcast</td>\n",
        "      <td>cloudy</td>\n",
        "      <td>rain</td>\n",
        "      <td>7.22</td>\n",
        "      <td>5.09</td>\n",
        "      <td>5.04</td>\n",
        "      <td>0.86</td>\n",
        "      <td>3.13</td>\n",
        "      <td>240.0</td>\n",
        "      <td>11.27</td>\n",
        "      <td>1.0</td>\n",
        "      <td>NaN</td>\n",
        "    </tr>\n",
        "    <tr>\n",
        "      <th>2</th>\n",
        "      <td>2011-10-09</td>\n",
        "      <td>\u0421\u044b\u043a\u0442\u044b\u0432\u043a\u0430\u0440</td>\n",
        "      <td>61.647851</td>\n",
        "      <td>50.833903</td>\n",
        "      <td>Partly Cloudy</td>\n",
        "      <td>partly-cloudy-night</td>\n",
        "      <td>rain</td>\n",
        "      <td>9.71</td>\n",
        "      <td>9.00</td>\n",
        "      <td>8.08</td>\n",
        "      <td>0.90</td>\n",
        "      <td>1.82</td>\n",
        "      <td>229.0</td>\n",
        "      <td>8.48</td>\n",
        "      <td>0.5</td>\n",
        "      <td>1007.93</td>\n",
        "    </tr>\n",
        "    <tr>\n",
        "      <th>3</th>\n",
        "      <td>2011-11-15</td>\n",
        "      <td>\u0421\u044b\u043a\u0442\u044b\u0432\u043a\u0430\u0440</td>\n",
        "      <td>61.647851</td>\n",
        "      <td>50.833903</td>\n",
        "      <td>Overcast</td>\n",
        "      <td>cloudy</td>\n",
        "      <td>snow</td>\n",
        "      <td>-1.04</td>\n",
        "      <td>-5.66</td>\n",
        "      <td>-1.32</td>\n",
        "      <td>0.98</td>\n",
        "      <td>4.14</td>\n",
        "      <td>205.0</td>\n",
        "      <td>5.63</td>\n",
        "      <td>1.0</td>\n",
        "      <td>988.27</td>\n",
        "    </tr>\n",
        "    <tr>\n",
        "      <th>4</th>\n",
        "      <td>2011-12-08</td>\n",
        "      <td>\u0421\u044b\u043a\u0442\u044b\u0432\u043a\u0430\u0440</td>\n",
        "      <td>61.647851</td>\n",
        "      <td>50.833903</td>\n",
        "      <td>Overcast</td>\n",
        "      <td>cloudy</td>\n",
        "      <td>snow</td>\n",
        "      <td>-1.78</td>\n",
        "      <td>-3.57</td>\n",
        "      <td>-2.19</td>\n",
        "      <td>0.97</td>\n",
        "      <td>1.38</td>\n",
        "      <td>171.0</td>\n",
        "      <td>10.54</td>\n",
        "      <td>1.0</td>\n",
        "      <td>1013.80</td>\n",
        "    </tr>\n",
        "  </tbody>\n",
        "</table>\n",
        "</div>"
       ],
       "metadata": {},
       "output_type": "pyout",
       "prompt_number": 96,
       "text": [
        "         Date   CityName        lat        lng        summary  \\\n",
        "0  2011-10-06  \u0421\u044b\u043a\u0442\u044b\u0432\u043a\u0430\u0440  61.647851  50.833903       Overcast   \n",
        "1  2011-10-07  \u0421\u044b\u043a\u0442\u044b\u0432\u043a\u0430\u0440  61.647851  50.833903       Overcast   \n",
        "2  2011-10-09  \u0421\u044b\u043a\u0442\u044b\u0432\u043a\u0430\u0440  61.647851  50.833903  Partly Cloudy   \n",
        "3  2011-11-15  \u0421\u044b\u043a\u0442\u044b\u0432\u043a\u0430\u0440  61.647851  50.833903       Overcast   \n",
        "4  2011-12-08  \u0421\u044b\u043a\u0442\u044b\u0432\u043a\u0430\u0440  61.647851  50.833903       Overcast   \n",
        "\n",
        "                  icon precipType  temperature  apparentTemperature  dewPoint  \\\n",
        "0               cloudy       rain         4.95                 1.77      4.13   \n",
        "1               cloudy       rain         7.22                 5.09      5.04   \n",
        "2  partly-cloudy-night       rain         9.71                 9.00      8.08   \n",
        "3               cloudy       snow        -1.04                -5.66     -1.32   \n",
        "4               cloudy       snow        -1.78                -3.57     -2.19   \n",
        "\n",
        "   humidity  windSpeed  windBearing  visibility  cloudCover  pressure  \n",
        "0      0.94       4.05        195.0        8.32         1.0    990.66  \n",
        "1      0.86       3.13        240.0       11.27         1.0       NaN  \n",
        "2      0.90       1.82        229.0        8.48         0.5   1007.93  \n",
        "3      0.98       4.14        205.0        5.63         1.0    988.27  \n",
        "4      0.97       1.38        171.0       10.54         1.0   1013.80  "
       ]
      }
     ],
     "prompt_number": 96
    },
    {
     "cell_type": "code",
     "collapsed": false,
     "input": [
      "#column with text to number\n",
      "uniq = weather.summary.unique()\n",
      "weather.summary = weather.summary.apply(lambda x: np.where(uniq == x)[0][0]) \n",
      "\n",
      "uniq = weather.icon.unique()\n",
      "weather.icon = weather.icon.apply(lambda x: np.where(uniq == x)[0][0]) \n",
      "\n",
      "uniq = weather.precipType.unique()\n",
      "weather.precipType = weather.precipType.apply(lambda x: np.where(uniq == x)[0][0]) \n",
      "\n",
      "weather.head()"
     ],
     "language": "python",
     "metadata": {},
     "outputs": [
      {
       "html": [
        "<div>\n",
        "<table border=\"1\" class=\"dataframe\">\n",
        "  <thead>\n",
        "    <tr style=\"text-align: right;\">\n",
        "      <th></th>\n",
        "      <th>Date</th>\n",
        "      <th>CityName</th>\n",
        "      <th>lat</th>\n",
        "      <th>lng</th>\n",
        "      <th>summary</th>\n",
        "      <th>icon</th>\n",
        "      <th>precipType</th>\n",
        "      <th>temperature</th>\n",
        "      <th>apparentTemperature</th>\n",
        "      <th>dewPoint</th>\n",
        "      <th>humidity</th>\n",
        "      <th>windSpeed</th>\n",
        "      <th>windBearing</th>\n",
        "      <th>visibility</th>\n",
        "      <th>cloudCover</th>\n",
        "      <th>pressure</th>\n",
        "    </tr>\n",
        "  </thead>\n",
        "  <tbody>\n",
        "    <tr>\n",
        "      <th>0</th>\n",
        "      <td>2011-10-06</td>\n",
        "      <td>\u0421\u044b\u043a\u0442\u044b\u0432\u043a\u0430\u0440</td>\n",
        "      <td>61.647851</td>\n",
        "      <td>50.833903</td>\n",
        "      <td>0</td>\n",
        "      <td>0</td>\n",
        "      <td>0</td>\n",
        "      <td>4.95</td>\n",
        "      <td>1.77</td>\n",
        "      <td>4.13</td>\n",
        "      <td>0.94</td>\n",
        "      <td>4.05</td>\n",
        "      <td>195.0</td>\n",
        "      <td>8.32</td>\n",
        "      <td>1.0</td>\n",
        "      <td>990.66</td>\n",
        "    </tr>\n",
        "    <tr>\n",
        "      <th>1</th>\n",
        "      <td>2011-10-07</td>\n",
        "      <td>\u0421\u044b\u043a\u0442\u044b\u0432\u043a\u0430\u0440</td>\n",
        "      <td>61.647851</td>\n",
        "      <td>50.833903</td>\n",
        "      <td>0</td>\n",
        "      <td>0</td>\n",
        "      <td>0</td>\n",
        "      <td>7.22</td>\n",
        "      <td>5.09</td>\n",
        "      <td>5.04</td>\n",
        "      <td>0.86</td>\n",
        "      <td>3.13</td>\n",
        "      <td>240.0</td>\n",
        "      <td>11.27</td>\n",
        "      <td>1.0</td>\n",
        "      <td>NaN</td>\n",
        "    </tr>\n",
        "    <tr>\n",
        "      <th>2</th>\n",
        "      <td>2011-10-09</td>\n",
        "      <td>\u0421\u044b\u043a\u0442\u044b\u0432\u043a\u0430\u0440</td>\n",
        "      <td>61.647851</td>\n",
        "      <td>50.833903</td>\n",
        "      <td>1</td>\n",
        "      <td>1</td>\n",
        "      <td>0</td>\n",
        "      <td>9.71</td>\n",
        "      <td>9.00</td>\n",
        "      <td>8.08</td>\n",
        "      <td>0.90</td>\n",
        "      <td>1.82</td>\n",
        "      <td>229.0</td>\n",
        "      <td>8.48</td>\n",
        "      <td>0.5</td>\n",
        "      <td>1007.93</td>\n",
        "    </tr>\n",
        "    <tr>\n",
        "      <th>3</th>\n",
        "      <td>2011-11-15</td>\n",
        "      <td>\u0421\u044b\u043a\u0442\u044b\u0432\u043a\u0430\u0440</td>\n",
        "      <td>61.647851</td>\n",
        "      <td>50.833903</td>\n",
        "      <td>0</td>\n",
        "      <td>0</td>\n",
        "      <td>1</td>\n",
        "      <td>-1.04</td>\n",
        "      <td>-5.66</td>\n",
        "      <td>-1.32</td>\n",
        "      <td>0.98</td>\n",
        "      <td>4.14</td>\n",
        "      <td>205.0</td>\n",
        "      <td>5.63</td>\n",
        "      <td>1.0</td>\n",
        "      <td>988.27</td>\n",
        "    </tr>\n",
        "    <tr>\n",
        "      <th>4</th>\n",
        "      <td>2011-12-08</td>\n",
        "      <td>\u0421\u044b\u043a\u0442\u044b\u0432\u043a\u0430\u0440</td>\n",
        "      <td>61.647851</td>\n",
        "      <td>50.833903</td>\n",
        "      <td>0</td>\n",
        "      <td>0</td>\n",
        "      <td>1</td>\n",
        "      <td>-1.78</td>\n",
        "      <td>-3.57</td>\n",
        "      <td>-2.19</td>\n",
        "      <td>0.97</td>\n",
        "      <td>1.38</td>\n",
        "      <td>171.0</td>\n",
        "      <td>10.54</td>\n",
        "      <td>1.0</td>\n",
        "      <td>1013.80</td>\n",
        "    </tr>\n",
        "  </tbody>\n",
        "</table>\n",
        "</div>"
       ],
       "metadata": {},
       "output_type": "pyout",
       "prompt_number": 97,
       "text": [
        "         Date   CityName        lat        lng  summary  icon  precipType  \\\n",
        "0  2011-10-06  \u0421\u044b\u043a\u0442\u044b\u0432\u043a\u0430\u0440  61.647851  50.833903        0     0           0   \n",
        "1  2011-10-07  \u0421\u044b\u043a\u0442\u044b\u0432\u043a\u0430\u0440  61.647851  50.833903        0     0           0   \n",
        "2  2011-10-09  \u0421\u044b\u043a\u0442\u044b\u0432\u043a\u0430\u0440  61.647851  50.833903        1     1           0   \n",
        "3  2011-11-15  \u0421\u044b\u043a\u0442\u044b\u0432\u043a\u0430\u0440  61.647851  50.833903        0     0           1   \n",
        "4  2011-12-08  \u0421\u044b\u043a\u0442\u044b\u0432\u043a\u0430\u0440  61.647851  50.833903        0     0           1   \n",
        "\n",
        "   temperature  apparentTemperature  dewPoint  humidity  windSpeed  \\\n",
        "0         4.95                 1.77      4.13      0.94       4.05   \n",
        "1         7.22                 5.09      5.04      0.86       3.13   \n",
        "2         9.71                 9.00      8.08      0.90       1.82   \n",
        "3        -1.04                -5.66     -1.32      0.98       4.14   \n",
        "4        -1.78                -3.57     -2.19      0.97       1.38   \n",
        "\n",
        "   windBearing  visibility  cloudCover  pressure  \n",
        "0        195.0        8.32         1.0    990.66  \n",
        "1        240.0       11.27         1.0       NaN  \n",
        "2        229.0        8.48         0.5   1007.93  \n",
        "3        205.0        5.63         1.0    988.27  \n",
        "4        171.0       10.54         1.0   1013.80  "
       ]
      }
     ],
     "prompt_number": 97
    },
    {
     "cell_type": "code",
     "collapsed": false,
     "input": [
      "indexes = weather.index\n",
      "with_weather = features.iloc[indexes]\n",
      "\n",
      "dataTrain = with_weather[with_weather.IsTrain == 1]\n",
      "dataTrain = dataTrain[dataTrain.columns.difference(remove_column)]\n",
      "\n",
      "X_train = dataTrain[dataTrain.columns.difference(['Count'])].as_matrix()\n",
      "y_train = dataTrain.Count.as_matrix()\n",
      "\n",
      "dataValidation =  with_weather[with_weather.IsValidation == 1]\n",
      "dataValidation = dataValidation[dataValidation.columns.difference(remove_column)]\n",
      "\n",
      "X_test = dataValidation[dataValidation.columns.difference(['Count'])].as_matrix()\n",
      "y_test = dataValidation.Count.as_matrix()\n",
      "dataTrain"
     ],
     "language": "python",
     "metadata": {},
     "outputs": [
      {
       "html": [
        "<div>\n",
        "<table border=\"1\" class=\"dataframe\">\n",
        "  <thead>\n",
        "    <tr style=\"text-align: right;\">\n",
        "      <th></th>\n",
        "      <th>Count</th>\n",
        "      <th>MeanForMonth</th>\n",
        "      <th>MeanForMonthByPoints</th>\n",
        "      <th>MeanForMonthDay</th>\n",
        "      <th>MeanForThroughMonth</th>\n",
        "      <th>MeanForThroughMonthByPoints</th>\n",
        "      <th>MeanForThroughWeek</th>\n",
        "      <th>MeanForWeekDay</th>\n",
        "      <th>MeanForWeekDayByPoints</th>\n",
        "      <th>MeanForYear</th>\n",
        "      <th>MeanForYearByPoints</th>\n",
        "      <th>MeanForYearDay</th>\n",
        "      <th>Month</th>\n",
        "      <th>MonthDay</th>\n",
        "      <th>ThroughDay</th>\n",
        "      <th>ThroughMonth</th>\n",
        "      <th>ThroughWeek</th>\n",
        "      <th>WeekDay</th>\n",
        "      <th>Year</th>\n",
        "      <th>YearDay</th>\n",
        "    </tr>\n",
        "  </thead>\n",
        "  <tbody>\n",
        "    <tr>\n",
        "      <th>0</th>\n",
        "      <td>8.0</td>\n",
        "      <td>112.145788</td>\n",
        "      <td>259.317757</td>\n",
        "      <td>104.137491</td>\n",
        "      <td>32.333333</td>\n",
        "      <td>32.333333</td>\n",
        "      <td>32.333333</td>\n",
        "      <td>90.875335</td>\n",
        "      <td>214.426230</td>\n",
        "      <td>87.318182</td>\n",
        "      <td>87.318182</td>\n",
        "      <td>94.327731</td>\n",
        "      <td>10</td>\n",
        "      <td>6</td>\n",
        "      <td>0</td>\n",
        "      <td>0</td>\n",
        "      <td>0</td>\n",
        "      <td>3</td>\n",
        "      <td>2011</td>\n",
        "      <td>278</td>\n",
        "    </tr>\n",
        "    <tr>\n",
        "      <th>1</th>\n",
        "      <td>88.0</td>\n",
        "      <td>112.145788</td>\n",
        "      <td>259.317757</td>\n",
        "      <td>107.172263</td>\n",
        "      <td>32.333333</td>\n",
        "      <td>32.333333</td>\n",
        "      <td>32.333333</td>\n",
        "      <td>123.721962</td>\n",
        "      <td>291.581522</td>\n",
        "      <td>87.318182</td>\n",
        "      <td>87.318182</td>\n",
        "      <td>91.530201</td>\n",
        "      <td>10</td>\n",
        "      <td>7</td>\n",
        "      <td>1</td>\n",
        "      <td>0</td>\n",
        "      <td>0</td>\n",
        "      <td>4</td>\n",
        "      <td>2011</td>\n",
        "      <td>279</td>\n",
        "    </tr>\n",
        "    <tr>\n",
        "      <th>2</th>\n",
        "      <td>1.0</td>\n",
        "      <td>112.145788</td>\n",
        "      <td>259.317757</td>\n",
        "      <td>107.880699</td>\n",
        "      <td>32.333333</td>\n",
        "      <td>32.333333</td>\n",
        "      <td>32.333333</td>\n",
        "      <td>123.640722</td>\n",
        "      <td>262.022099</td>\n",
        "      <td>87.318182</td>\n",
        "      <td>87.318182</td>\n",
        "      <td>143.346821</td>\n",
        "      <td>10</td>\n",
        "      <td>9</td>\n",
        "      <td>3</td>\n",
        "      <td>0</td>\n",
        "      <td>0</td>\n",
        "      <td>6</td>\n",
        "      <td>2011</td>\n",
        "      <td>281</td>\n",
        "    </tr>\n",
        "    <tr>\n",
        "      <th>3</th>\n",
        "      <td>1.0</td>\n",
        "      <td>104.213605</td>\n",
        "      <td>257.108696</td>\n",
        "      <td>108.351462</td>\n",
        "      <td>1.000000</td>\n",
        "      <td>1.000000</td>\n",
        "      <td>1.000000</td>\n",
        "      <td>87.286115</td>\n",
        "      <td>198.868852</td>\n",
        "      <td>87.318182</td>\n",
        "      <td>87.318182</td>\n",
        "      <td>124.594937</td>\n",
        "      <td>11</td>\n",
        "      <td>15</td>\n",
        "      <td>40</td>\n",
        "      <td>1</td>\n",
        "      <td>6</td>\n",
        "      <td>1</td>\n",
        "      <td>2011</td>\n",
        "      <td>318</td>\n",
        "    </tr>\n",
        "    <tr>\n",
        "      <th>5</th>\n",
        "      <td>43.0</td>\n",
        "      <td>105.650704</td>\n",
        "      <td>230.669643</td>\n",
        "      <td>107.880699</td>\n",
        "      <td>101.277778</td>\n",
        "      <td>101.277778</td>\n",
        "      <td>18.000000</td>\n",
        "      <td>123.721962</td>\n",
        "      <td>291.581522</td>\n",
        "      <td>87.318182</td>\n",
        "      <td>87.318182</td>\n",
        "      <td>72.645161</td>\n",
        "      <td>12</td>\n",
        "      <td>9</td>\n",
        "      <td>64</td>\n",
        "      <td>2</td>\n",
        "      <td>9</td>\n",
        "      <td>4</td>\n",
        "      <td>2011</td>\n",
        "      <td>342</td>\n",
        "    </tr>\n",
        "    <tr>\n",
        "      <th>6</th>\n",
        "      <td>10.0</td>\n",
        "      <td>105.650704</td>\n",
        "      <td>230.669643</td>\n",
        "      <td>102.119765</td>\n",
        "      <td>101.277778</td>\n",
        "      <td>101.277778</td>\n",
        "      <td>18.000000</td>\n",
        "      <td>142.693482</td>\n",
        "      <td>312.527174</td>\n",
        "      <td>87.318182</td>\n",
        "      <td>87.318182</td>\n",
        "      <td>81.650000</td>\n",
        "      <td>12</td>\n",
        "      <td>10</td>\n",
        "      <td>65</td>\n",
        "      <td>2</td>\n",
        "      <td>9</td>\n",
        "      <td>5</td>\n",
        "      <td>2011</td>\n",
        "      <td>343</td>\n",
        "    </tr>\n",
        "    <tr>\n",
        "      <th>7</th>\n",
        "      <td>1.0</td>\n",
        "      <td>105.650704</td>\n",
        "      <td>230.669643</td>\n",
        "      <td>102.062201</td>\n",
        "      <td>101.277778</td>\n",
        "      <td>101.277778</td>\n",
        "      <td>18.000000</td>\n",
        "      <td>123.640722</td>\n",
        "      <td>262.022099</td>\n",
        "      <td>87.318182</td>\n",
        "      <td>87.318182</td>\n",
        "      <td>103.202532</td>\n",
        "      <td>12</td>\n",
        "      <td>11</td>\n",
        "      <td>66</td>\n",
        "      <td>2</td>\n",
        "      <td>9</td>\n",
        "      <td>6</td>\n",
        "      <td>2011</td>\n",
        "      <td>344</td>\n",
        "    </tr>\n",
        "    <tr>\n",
        "      <th>8</th>\n",
        "      <td>60.0</td>\n",
        "      <td>105.650704</td>\n",
        "      <td>230.669643</td>\n",
        "      <td>100.133333</td>\n",
        "      <td>101.277778</td>\n",
        "      <td>101.277778</td>\n",
        "      <td>100.400000</td>\n",
        "      <td>87.286115</td>\n",
        "      <td>198.868852</td>\n",
        "      <td>87.318182</td>\n",
        "      <td>87.318182</td>\n",
        "      <td>122.585106</td>\n",
        "      <td>12</td>\n",
        "      <td>13</td>\n",
        "      <td>68</td>\n",
        "      <td>2</td>\n",
        "      <td>10</td>\n",
        "      <td>1</td>\n",
        "      <td>2011</td>\n",
        "      <td>346</td>\n",
        "    </tr>\n",
        "    <tr>\n",
        "      <th>10</th>\n",
        "      <td>96.0</td>\n",
        "      <td>105.650704</td>\n",
        "      <td>230.669643</td>\n",
        "      <td>108.351462</td>\n",
        "      <td>101.277778</td>\n",
        "      <td>101.277778</td>\n",
        "      <td>100.400000</td>\n",
        "      <td>90.875335</td>\n",
        "      <td>214.426230</td>\n",
        "      <td>87.318182</td>\n",
        "      <td>87.318182</td>\n",
        "      <td>81.652632</td>\n",
        "      <td>12</td>\n",
        "      <td>15</td>\n",
        "      <td>70</td>\n",
        "      <td>2</td>\n",
        "      <td>10</td>\n",
        "      <td>3</td>\n",
        "      <td>2011</td>\n",
        "      <td>348</td>\n",
        "    </tr>\n",
        "    <tr>\n",
        "      <th>11</th>\n",
        "      <td>134.0</td>\n",
        "      <td>105.650704</td>\n",
        "      <td>230.669643</td>\n",
        "      <td>103.290323</td>\n",
        "      <td>101.277778</td>\n",
        "      <td>101.277778</td>\n",
        "      <td>100.400000</td>\n",
        "      <td>123.721962</td>\n",
        "      <td>291.581522</td>\n",
        "      <td>87.318182</td>\n",
        "      <td>87.318182</td>\n",
        "      <td>77.175824</td>\n",
        "      <td>12</td>\n",
        "      <td>16</td>\n",
        "      <td>71</td>\n",
        "      <td>2</td>\n",
        "      <td>10</td>\n",
        "      <td>4</td>\n",
        "      <td>2011</td>\n",
        "      <td>349</td>\n",
        "    </tr>\n",
        "    <tr>\n",
        "      <th>12</th>\n",
        "      <td>112.0</td>\n",
        "      <td>105.650704</td>\n",
        "      <td>230.669643</td>\n",
        "      <td>105.817130</td>\n",
        "      <td>101.277778</td>\n",
        "      <td>101.277778</td>\n",
        "      <td>100.400000</td>\n",
        "      <td>142.693482</td>\n",
        "      <td>312.527174</td>\n",
        "      <td>87.318182</td>\n",
        "      <td>87.318182</td>\n",
        "      <td>85.521127</td>\n",
        "      <td>12</td>\n",
        "      <td>17</td>\n",
        "      <td>72</td>\n",
        "      <td>2</td>\n",
        "      <td>10</td>\n",
        "      <td>5</td>\n",
        "      <td>2011</td>\n",
        "      <td>350</td>\n",
        "    </tr>\n",
        "    <tr>\n",
        "      <th>13</th>\n",
        "      <td>100.0</td>\n",
        "      <td>105.650704</td>\n",
        "      <td>230.669643</td>\n",
        "      <td>99.619893</td>\n",
        "      <td>101.277778</td>\n",
        "      <td>101.277778</td>\n",
        "      <td>100.400000</td>\n",
        "      <td>123.640722</td>\n",
        "      <td>262.022099</td>\n",
        "      <td>87.318182</td>\n",
        "      <td>87.318182</td>\n",
        "      <td>102.204082</td>\n",
        "      <td>12</td>\n",
        "      <td>18</td>\n",
        "      <td>73</td>\n",
        "      <td>2</td>\n",
        "      <td>10</td>\n",
        "      <td>6</td>\n",
        "      <td>2011</td>\n",
        "      <td>351</td>\n",
        "    </tr>\n",
        "    <tr>\n",
        "      <th>15</th>\n",
        "      <td>73.0</td>\n",
        "      <td>105.650704</td>\n",
        "      <td>230.669643</td>\n",
        "      <td>109.836940</td>\n",
        "      <td>101.277778</td>\n",
        "      <td>101.277778</td>\n",
        "      <td>112.666667</td>\n",
        "      <td>87.286115</td>\n",
        "      <td>198.868852</td>\n",
        "      <td>87.318182</td>\n",
        "      <td>87.318182</td>\n",
        "      <td>123.233333</td>\n",
        "      <td>12</td>\n",
        "      <td>20</td>\n",
        "      <td>75</td>\n",
        "      <td>2</td>\n",
        "      <td>11</td>\n",
        "      <td>1</td>\n",
        "      <td>2011</td>\n",
        "      <td>353</td>\n",
        "    </tr>\n",
        "    <tr>\n",
        "      <th>16</th>\n",
        "      <td>94.0</td>\n",
        "      <td>105.650704</td>\n",
        "      <td>230.669643</td>\n",
        "      <td>104.622352</td>\n",
        "      <td>101.277778</td>\n",
        "      <td>101.277778</td>\n",
        "      <td>112.666667</td>\n",
        "      <td>87.164051</td>\n",
        "      <td>200.978495</td>\n",
        "      <td>87.318182</td>\n",
        "      <td>87.318182</td>\n",
        "      <td>91.365591</td>\n",
        "      <td>12</td>\n",
        "      <td>21</td>\n",
        "      <td>76</td>\n",
        "      <td>2</td>\n",
        "      <td>11</td>\n",
        "      <td>2</td>\n",
        "      <td>2011</td>\n",
        "      <td>354</td>\n",
        "    </tr>\n",
        "    <tr>\n",
        "      <th>17</th>\n",
        "      <td>94.0</td>\n",
        "      <td>105.650704</td>\n",
        "      <td>230.669643</td>\n",
        "      <td>106.173509</td>\n",
        "      <td>101.277778</td>\n",
        "      <td>101.277778</td>\n",
        "      <td>112.666667</td>\n",
        "      <td>90.875335</td>\n",
        "      <td>214.426230</td>\n",
        "      <td>87.318182</td>\n",
        "      <td>87.318182</td>\n",
        "      <td>89.181818</td>\n",
        "      <td>12</td>\n",
        "      <td>22</td>\n",
        "      <td>77</td>\n",
        "      <td>2</td>\n",
        "      <td>11</td>\n",
        "      <td>3</td>\n",
        "      <td>2011</td>\n",
        "      <td>355</td>\n",
        "    </tr>\n",
        "    <tr>\n",
        "      <th>18</th>\n",
        "      <td>129.0</td>\n",
        "      <td>105.650704</td>\n",
        "      <td>230.669643</td>\n",
        "      <td>108.850467</td>\n",
        "      <td>101.277778</td>\n",
        "      <td>101.277778</td>\n",
        "      <td>112.666667</td>\n",
        "      <td>123.721962</td>\n",
        "      <td>291.581522</td>\n",
        "      <td>87.318182</td>\n",
        "      <td>87.318182</td>\n",
        "      <td>85.041096</td>\n",
        "      <td>12</td>\n",
        "      <td>23</td>\n",
        "      <td>78</td>\n",
        "      <td>2</td>\n",
        "      <td>11</td>\n",
        "      <td>4</td>\n",
        "      <td>2011</td>\n",
        "      <td>356</td>\n",
        "    </tr>\n",
        "    <tr>\n",
        "      <th>19</th>\n",
        "      <td>164.0</td>\n",
        "      <td>105.650704</td>\n",
        "      <td>230.669643</td>\n",
        "      <td>107.476531</td>\n",
        "      <td>101.277778</td>\n",
        "      <td>101.277778</td>\n",
        "      <td>112.666667</td>\n",
        "      <td>142.693482</td>\n",
        "      <td>312.527174</td>\n",
        "      <td>87.318182</td>\n",
        "      <td>87.318182</td>\n",
        "      <td>95.186047</td>\n",
        "      <td>12</td>\n",
        "      <td>24</td>\n",
        "      <td>79</td>\n",
        "      <td>2</td>\n",
        "      <td>11</td>\n",
        "      <td>5</td>\n",
        "      <td>2011</td>\n",
        "      <td>357</td>\n",
        "    </tr>\n",
        "    <tr>\n",
        "      <th>20</th>\n",
        "      <td>122.0</td>\n",
        "      <td>105.650704</td>\n",
        "      <td>230.669643</td>\n",
        "      <td>104.337815</td>\n",
        "      <td>101.277778</td>\n",
        "      <td>101.277778</td>\n",
        "      <td>112.666667</td>\n",
        "      <td>123.640722</td>\n",
        "      <td>262.022099</td>\n",
        "      <td>87.318182</td>\n",
        "      <td>87.318182</td>\n",
        "      <td>129.443182</td>\n",
        "      <td>12</td>\n",
        "      <td>25</td>\n",
        "      <td>80</td>\n",
        "      <td>2</td>\n",
        "      <td>11</td>\n",
        "      <td>6</td>\n",
        "      <td>2011</td>\n",
        "      <td>358</td>\n",
        "    </tr>\n",
        "    <tr>\n",
        "      <th>23</th>\n",
        "      <td>128.0</td>\n",
        "      <td>105.650704</td>\n",
        "      <td>230.669643</td>\n",
        "      <td>103.456647</td>\n",
        "      <td>101.277778</td>\n",
        "      <td>101.277778</td>\n",
        "      <td>147.750000</td>\n",
        "      <td>87.164051</td>\n",
        "      <td>200.978495</td>\n",
        "      <td>87.318182</td>\n",
        "      <td>87.318182</td>\n",
        "      <td>115.720588</td>\n",
        "      <td>12</td>\n",
        "      <td>28</td>\n",
        "      <td>83</td>\n",
        "      <td>2</td>\n",
        "      <td>12</td>\n",
        "      <td>2</td>\n",
        "      <td>2011</td>\n",
        "      <td>361</td>\n",
        "    </tr>\n",
        "    <tr>\n",
        "      <th>24</th>\n",
        "      <td>172.0</td>\n",
        "      <td>105.650704</td>\n",
        "      <td>230.669643</td>\n",
        "      <td>105.357430</td>\n",
        "      <td>101.277778</td>\n",
        "      <td>101.277778</td>\n",
        "      <td>147.750000</td>\n",
        "      <td>90.875335</td>\n",
        "      <td>214.426230</td>\n",
        "      <td>87.318182</td>\n",
        "      <td>87.318182</td>\n",
        "      <td>132.780822</td>\n",
        "      <td>12</td>\n",
        "      <td>29</td>\n",
        "      <td>84</td>\n",
        "      <td>2</td>\n",
        "      <td>12</td>\n",
        "      <td>3</td>\n",
        "      <td>2011</td>\n",
        "      <td>362</td>\n",
        "    </tr>\n",
        "    <tr>\n",
        "      <th>25</th>\n",
        "      <td>223.0</td>\n",
        "      <td>105.650704</td>\n",
        "      <td>230.669643</td>\n",
        "      <td>113.251908</td>\n",
        "      <td>101.277778</td>\n",
        "      <td>101.277778</td>\n",
        "      <td>147.750000</td>\n",
        "      <td>123.721962</td>\n",
        "      <td>291.581522</td>\n",
        "      <td>87.318182</td>\n",
        "      <td>87.318182</td>\n",
        "      <td>150.505882</td>\n",
        "      <td>12</td>\n",
        "      <td>30</td>\n",
        "      <td>85</td>\n",
        "      <td>2</td>\n",
        "      <td>12</td>\n",
        "      <td>4</td>\n",
        "      <td>2011</td>\n",
        "      <td>363</td>\n",
        "    </tr>\n",
        "    <tr>\n",
        "      <th>26</th>\n",
        "      <td>68.0</td>\n",
        "      <td>105.650704</td>\n",
        "      <td>230.669643</td>\n",
        "      <td>102.614765</td>\n",
        "      <td>101.277778</td>\n",
        "      <td>101.277778</td>\n",
        "      <td>147.750000</td>\n",
        "      <td>142.693482</td>\n",
        "      <td>312.527174</td>\n",
        "      <td>87.318182</td>\n",
        "      <td>87.318182</td>\n",
        "      <td>88.010638</td>\n",
        "      <td>12</td>\n",
        "      <td>31</td>\n",
        "      <td>86</td>\n",
        "      <td>2</td>\n",
        "      <td>12</td>\n",
        "      <td>5</td>\n",
        "      <td>2011</td>\n",
        "      <td>364</td>\n",
        "    </tr>\n",
        "    <tr>\n",
        "      <th>28</th>\n",
        "      <td>169.0</td>\n",
        "      <td>107.562911</td>\n",
        "      <td>247.852174</td>\n",
        "      <td>105.307387</td>\n",
        "      <td>134.458333</td>\n",
        "      <td>134.458333</td>\n",
        "      <td>135.000000</td>\n",
        "      <td>86.619073</td>\n",
        "      <td>203.937143</td>\n",
        "      <td>106.084472</td>\n",
        "      <td>218.725564</td>\n",
        "      <td>145.400000</td>\n",
        "      <td>1</td>\n",
        "      <td>2</td>\n",
        "      <td>88</td>\n",
        "      <td>3</td>\n",
        "      <td>13</td>\n",
        "      <td>0</td>\n",
        "      <td>2012</td>\n",
        "      <td>1</td>\n",
        "    </tr>\n",
        "    <tr>\n",
        "      <th>30</th>\n",
        "      <td>130.0</td>\n",
        "      <td>107.562911</td>\n",
        "      <td>247.852174</td>\n",
        "      <td>105.960446</td>\n",
        "      <td>134.458333</td>\n",
        "      <td>134.458333</td>\n",
        "      <td>135.000000</td>\n",
        "      <td>87.164051</td>\n",
        "      <td>200.978495</td>\n",
        "      <td>106.084472</td>\n",
        "      <td>218.725564</td>\n",
        "      <td>143.096774</td>\n",
        "      <td>1</td>\n",
        "      <td>4</td>\n",
        "      <td>90</td>\n",
        "      <td>3</td>\n",
        "      <td>13</td>\n",
        "      <td>2</td>\n",
        "      <td>2012</td>\n",
        "      <td>3</td>\n",
        "    </tr>\n",
        "    <tr>\n",
        "      <th>31</th>\n",
        "      <td>119.0</td>\n",
        "      <td>107.562911</td>\n",
        "      <td>247.852174</td>\n",
        "      <td>104.449664</td>\n",
        "      <td>134.458333</td>\n",
        "      <td>134.458333</td>\n",
        "      <td>135.000000</td>\n",
        "      <td>90.875335</td>\n",
        "      <td>214.426230</td>\n",
        "      <td>106.084472</td>\n",
        "      <td>218.725564</td>\n",
        "      <td>136.684783</td>\n",
        "      <td>1</td>\n",
        "      <td>5</td>\n",
        "      <td>91</td>\n",
        "      <td>3</td>\n",
        "      <td>13</td>\n",
        "      <td>3</td>\n",
        "      <td>2012</td>\n",
        "      <td>4</td>\n",
        "    </tr>\n",
        "    <tr>\n",
        "      <th>32</th>\n",
        "      <td>128.0</td>\n",
        "      <td>107.562911</td>\n",
        "      <td>247.852174</td>\n",
        "      <td>104.137491</td>\n",
        "      <td>134.458333</td>\n",
        "      <td>134.458333</td>\n",
        "      <td>135.000000</td>\n",
        "      <td>123.721962</td>\n",
        "      <td>291.581522</td>\n",
        "      <td>106.084472</td>\n",
        "      <td>218.725564</td>\n",
        "      <td>119.857143</td>\n",
        "      <td>1</td>\n",
        "      <td>6</td>\n",
        "      <td>92</td>\n",
        "      <td>3</td>\n",
        "      <td>13</td>\n",
        "      <td>4</td>\n",
        "      <td>2012</td>\n",
        "      <td>5</td>\n",
        "    </tr>\n",
        "    <tr>\n",
        "      <th>33</th>\n",
        "      <td>128.0</td>\n",
        "      <td>107.562911</td>\n",
        "      <td>247.852174</td>\n",
        "      <td>107.172263</td>\n",
        "      <td>134.458333</td>\n",
        "      <td>134.458333</td>\n",
        "      <td>135.000000</td>\n",
        "      <td>142.693482</td>\n",
        "      <td>312.527174</td>\n",
        "      <td>106.084472</td>\n",
        "      <td>218.725564</td>\n",
        "      <td>115.720430</td>\n",
        "      <td>1</td>\n",
        "      <td>7</td>\n",
        "      <td>93</td>\n",
        "      <td>3</td>\n",
        "      <td>13</td>\n",
        "      <td>5</td>\n",
        "      <td>2012</td>\n",
        "      <td>6</td>\n",
        "    </tr>\n",
        "    <tr>\n",
        "      <th>34</th>\n",
        "      <td>136.0</td>\n",
        "      <td>107.562911</td>\n",
        "      <td>247.852174</td>\n",
        "      <td>109.919853</td>\n",
        "      <td>134.458333</td>\n",
        "      <td>134.458333</td>\n",
        "      <td>135.000000</td>\n",
        "      <td>123.640722</td>\n",
        "      <td>262.022099</td>\n",
        "      <td>106.084472</td>\n",
        "      <td>218.725564</td>\n",
        "      <td>117.673267</td>\n",
        "      <td>1</td>\n",
        "      <td>8</td>\n",
        "      <td>94</td>\n",
        "      <td>3</td>\n",
        "      <td>13</td>\n",
        "      <td>6</td>\n",
        "      <td>2012</td>\n",
        "      <td>7</td>\n",
        "    </tr>\n",
        "    <tr>\n",
        "      <th>35</th>\n",
        "      <td>105.0</td>\n",
        "      <td>107.562911</td>\n",
        "      <td>247.852174</td>\n",
        "      <td>107.880699</td>\n",
        "      <td>134.458333</td>\n",
        "      <td>134.458333</td>\n",
        "      <td>134.600000</td>\n",
        "      <td>86.619073</td>\n",
        "      <td>203.937143</td>\n",
        "      <td>106.084472</td>\n",
        "      <td>218.725564</td>\n",
        "      <td>117.112903</td>\n",
        "      <td>1</td>\n",
        "      <td>9</td>\n",
        "      <td>95</td>\n",
        "      <td>3</td>\n",
        "      <td>14</td>\n",
        "      <td>0</td>\n",
        "      <td>2012</td>\n",
        "      <td>8</td>\n",
        "    </tr>\n",
        "    <tr>\n",
        "      <th>36</th>\n",
        "      <td>129.0</td>\n",
        "      <td>107.562911</td>\n",
        "      <td>247.852174</td>\n",
        "      <td>102.119765</td>\n",
        "      <td>134.458333</td>\n",
        "      <td>134.458333</td>\n",
        "      <td>134.600000</td>\n",
        "      <td>87.286115</td>\n",
        "      <td>198.868852</td>\n",
        "      <td>106.084472</td>\n",
        "      <td>218.725564</td>\n",
        "      <td>104.717949</td>\n",
        "      <td>1</td>\n",
        "      <td>10</td>\n",
        "      <td>96</td>\n",
        "      <td>3</td>\n",
        "      <td>14</td>\n",
        "      <td>1</td>\n",
        "      <td>2012</td>\n",
        "      <td>9</td>\n",
        "    </tr>\n",
        "    <tr>\n",
        "      <th>...</th>\n",
        "      <td>...</td>\n",
        "      <td>...</td>\n",
        "      <td>...</td>\n",
        "      <td>...</td>\n",
        "      <td>...</td>\n",
        "      <td>...</td>\n",
        "      <td>...</td>\n",
        "      <td>...</td>\n",
        "      <td>...</td>\n",
        "      <td>...</td>\n",
        "      <td>...</td>\n",
        "      <td>...</td>\n",
        "      <td>...</td>\n",
        "      <td>...</td>\n",
        "      <td>...</td>\n",
        "      <td>...</td>\n",
        "      <td>...</td>\n",
        "      <td>...</td>\n",
        "      <td>...</td>\n",
        "      <td>...</td>\n",
        "    </tr>\n",
        "    <tr>\n",
        "      <th>1929</th>\n",
        "      <td>18.0</td>\n",
        "      <td>99.459011</td>\n",
        "      <td>109.017544</td>\n",
        "      <td>102.014461</td>\n",
        "      <td>93.140187</td>\n",
        "      <td>22.777778</td>\n",
        "      <td>100.020833</td>\n",
        "      <td>123.721962</td>\n",
        "      <td>150.319588</td>\n",
        "      <td>97.453240</td>\n",
        "      <td>11.188976</td>\n",
        "      <td>89.392857</td>\n",
        "      <td>4</td>\n",
        "      <td>12</td>\n",
        "      <td>554</td>\n",
        "      <td>18</td>\n",
        "      <td>79</td>\n",
        "      <td>4</td>\n",
        "      <td>2013</td>\n",
        "      <td>101</td>\n",
        "    </tr>\n",
        "    <tr>\n",
        "      <th>1930</th>\n",
        "      <td>70.0</td>\n",
        "      <td>99.459011</td>\n",
        "      <td>60.228261</td>\n",
        "      <td>100.133333</td>\n",
        "      <td>93.140187</td>\n",
        "      <td>50.115385</td>\n",
        "      <td>100.020833</td>\n",
        "      <td>142.693482</td>\n",
        "      <td>102.012270</td>\n",
        "      <td>97.453240</td>\n",
        "      <td>60.620301</td>\n",
        "      <td>75.918182</td>\n",
        "      <td>4</td>\n",
        "      <td>13</td>\n",
        "      <td>555</td>\n",
        "      <td>18</td>\n",
        "      <td>79</td>\n",
        "      <td>5</td>\n",
        "      <td>2013</td>\n",
        "      <td>102</td>\n",
        "    </tr>\n",
        "    <tr>\n",
        "      <th>1931</th>\n",
        "      <td>133.0</td>\n",
        "      <td>99.459011</td>\n",
        "      <td>101.900000</td>\n",
        "      <td>100.133333</td>\n",
        "      <td>93.140187</td>\n",
        "      <td>90.086957</td>\n",
        "      <td>100.020833</td>\n",
        "      <td>142.693482</td>\n",
        "      <td>114.006494</td>\n",
        "      <td>97.453240</td>\n",
        "      <td>61.960938</td>\n",
        "      <td>75.918182</td>\n",
        "      <td>4</td>\n",
        "      <td>13</td>\n",
        "      <td>555</td>\n",
        "      <td>18</td>\n",
        "      <td>79</td>\n",
        "      <td>5</td>\n",
        "      <td>2013</td>\n",
        "      <td>102</td>\n",
        "    </tr>\n",
        "    <tr>\n",
        "      <th>1932</th>\n",
        "      <td>463.0</td>\n",
        "      <td>99.459011</td>\n",
        "      <td>213.961905</td>\n",
        "      <td>100.133333</td>\n",
        "      <td>93.140187</td>\n",
        "      <td>308.680000</td>\n",
        "      <td>100.020833</td>\n",
        "      <td>142.693482</td>\n",
        "      <td>312.527174</td>\n",
        "      <td>97.453240</td>\n",
        "      <td>315.467681</td>\n",
        "      <td>75.918182</td>\n",
        "      <td>4</td>\n",
        "      <td>13</td>\n",
        "      <td>555</td>\n",
        "      <td>18</td>\n",
        "      <td>79</td>\n",
        "      <td>5</td>\n",
        "      <td>2013</td>\n",
        "      <td>102</td>\n",
        "    </tr>\n",
        "    <tr>\n",
        "      <th>1933</th>\n",
        "      <td>74.0</td>\n",
        "      <td>99.459011</td>\n",
        "      <td>62.891566</td>\n",
        "      <td>100.133333</td>\n",
        "      <td>93.140187</td>\n",
        "      <td>35.666667</td>\n",
        "      <td>100.020833</td>\n",
        "      <td>142.693482</td>\n",
        "      <td>89.211429</td>\n",
        "      <td>97.453240</td>\n",
        "      <td>41.090566</td>\n",
        "      <td>75.918182</td>\n",
        "      <td>4</td>\n",
        "      <td>13</td>\n",
        "      <td>555</td>\n",
        "      <td>18</td>\n",
        "      <td>79</td>\n",
        "      <td>5</td>\n",
        "      <td>2013</td>\n",
        "      <td>102</td>\n",
        "    </tr>\n",
        "    <tr>\n",
        "      <th>1934</th>\n",
        "      <td>162.0</td>\n",
        "      <td>99.459011</td>\n",
        "      <td>168.569767</td>\n",
        "      <td>100.133333</td>\n",
        "      <td>93.140187</td>\n",
        "      <td>113.434783</td>\n",
        "      <td>100.020833</td>\n",
        "      <td>142.693482</td>\n",
        "      <td>246.490683</td>\n",
        "      <td>97.453240</td>\n",
        "      <td>123.561538</td>\n",
        "      <td>75.918182</td>\n",
        "      <td>4</td>\n",
        "      <td>13</td>\n",
        "      <td>555</td>\n",
        "      <td>18</td>\n",
        "      <td>79</td>\n",
        "      <td>5</td>\n",
        "      <td>2013</td>\n",
        "      <td>102</td>\n",
        "    </tr>\n",
        "    <tr>\n",
        "      <th>1935</th>\n",
        "      <td>126.0</td>\n",
        "      <td>99.459011</td>\n",
        "      <td>121.344828</td>\n",
        "      <td>100.133333</td>\n",
        "      <td>93.140187</td>\n",
        "      <td>72.423077</td>\n",
        "      <td>100.020833</td>\n",
        "      <td>142.693482</td>\n",
        "      <td>188.893939</td>\n",
        "      <td>97.453240</td>\n",
        "      <td>78.064639</td>\n",
        "      <td>75.918182</td>\n",
        "      <td>4</td>\n",
        "      <td>13</td>\n",
        "      <td>555</td>\n",
        "      <td>18</td>\n",
        "      <td>79</td>\n",
        "      <td>5</td>\n",
        "      <td>2013</td>\n",
        "      <td>102</td>\n",
        "    </tr>\n",
        "    <tr>\n",
        "      <th>1936</th>\n",
        "      <td>41.0</td>\n",
        "      <td>99.459011</td>\n",
        "      <td>71.314607</td>\n",
        "      <td>100.133333</td>\n",
        "      <td>93.140187</td>\n",
        "      <td>42.500000</td>\n",
        "      <td>100.020833</td>\n",
        "      <td>142.693482</td>\n",
        "      <td>103.363014</td>\n",
        "      <td>97.453240</td>\n",
        "      <td>60.184211</td>\n",
        "      <td>75.918182</td>\n",
        "      <td>4</td>\n",
        "      <td>13</td>\n",
        "      <td>555</td>\n",
        "      <td>18</td>\n",
        "      <td>79</td>\n",
        "      <td>5</td>\n",
        "      <td>2013</td>\n",
        "      <td>102</td>\n",
        "    </tr>\n",
        "    <tr>\n",
        "      <th>1937</th>\n",
        "      <td>126.0</td>\n",
        "      <td>99.459011</td>\n",
        "      <td>129.909091</td>\n",
        "      <td>100.133333</td>\n",
        "      <td>93.140187</td>\n",
        "      <td>85.956522</td>\n",
        "      <td>100.020833</td>\n",
        "      <td>142.693482</td>\n",
        "      <td>190.993243</td>\n",
        "      <td>97.453240</td>\n",
        "      <td>98.687500</td>\n",
        "      <td>75.918182</td>\n",
        "      <td>4</td>\n",
        "      <td>13</td>\n",
        "      <td>555</td>\n",
        "      <td>18</td>\n",
        "      <td>79</td>\n",
        "      <td>5</td>\n",
        "      <td>2013</td>\n",
        "      <td>102</td>\n",
        "    </tr>\n",
        "    <tr>\n",
        "      <th>1938</th>\n",
        "      <td>32.0</td>\n",
        "      <td>99.459011</td>\n",
        "      <td>109.017544</td>\n",
        "      <td>100.133333</td>\n",
        "      <td>93.140187</td>\n",
        "      <td>22.777778</td>\n",
        "      <td>100.020833</td>\n",
        "      <td>142.693482</td>\n",
        "      <td>176.529412</td>\n",
        "      <td>97.453240</td>\n",
        "      <td>11.188976</td>\n",
        "      <td>75.918182</td>\n",
        "      <td>4</td>\n",
        "      <td>13</td>\n",
        "      <td>555</td>\n",
        "      <td>18</td>\n",
        "      <td>79</td>\n",
        "      <td>5</td>\n",
        "      <td>2013</td>\n",
        "      <td>102</td>\n",
        "    </tr>\n",
        "    <tr>\n",
        "      <th>1939</th>\n",
        "      <td>47.0</td>\n",
        "      <td>99.459011</td>\n",
        "      <td>109.017544</td>\n",
        "      <td>107.442146</td>\n",
        "      <td>93.140187</td>\n",
        "      <td>22.777778</td>\n",
        "      <td>100.020833</td>\n",
        "      <td>123.640722</td>\n",
        "      <td>157.654762</td>\n",
        "      <td>97.453240</td>\n",
        "      <td>11.188976</td>\n",
        "      <td>80.705263</td>\n",
        "      <td>4</td>\n",
        "      <td>14</td>\n",
        "      <td>556</td>\n",
        "      <td>18</td>\n",
        "      <td>79</td>\n",
        "      <td>6</td>\n",
        "      <td>2013</td>\n",
        "      <td>103</td>\n",
        "    </tr>\n",
        "    <tr>\n",
        "      <th>1940</th>\n",
        "      <td>386.0</td>\n",
        "      <td>99.459011</td>\n",
        "      <td>213.961905</td>\n",
        "      <td>107.442146</td>\n",
        "      <td>93.140187</td>\n",
        "      <td>308.680000</td>\n",
        "      <td>100.020833</td>\n",
        "      <td>123.640722</td>\n",
        "      <td>262.022099</td>\n",
        "      <td>97.453240</td>\n",
        "      <td>315.467681</td>\n",
        "      <td>80.705263</td>\n",
        "      <td>4</td>\n",
        "      <td>14</td>\n",
        "      <td>556</td>\n",
        "      <td>18</td>\n",
        "      <td>79</td>\n",
        "      <td>6</td>\n",
        "      <td>2013</td>\n",
        "      <td>103</td>\n",
        "    </tr>\n",
        "    <tr>\n",
        "      <th>1941</th>\n",
        "      <td>100.0</td>\n",
        "      <td>99.459011</td>\n",
        "      <td>129.909091</td>\n",
        "      <td>107.442146</td>\n",
        "      <td>93.140187</td>\n",
        "      <td>85.956522</td>\n",
        "      <td>100.020833</td>\n",
        "      <td>123.640722</td>\n",
        "      <td>156.597484</td>\n",
        "      <td>97.453240</td>\n",
        "      <td>98.687500</td>\n",
        "      <td>80.705263</td>\n",
        "      <td>4</td>\n",
        "      <td>14</td>\n",
        "      <td>556</td>\n",
        "      <td>18</td>\n",
        "      <td>79</td>\n",
        "      <td>6</td>\n",
        "      <td>2013</td>\n",
        "      <td>103</td>\n",
        "    </tr>\n",
        "    <tr>\n",
        "      <th>1942</th>\n",
        "      <td>54.0</td>\n",
        "      <td>99.459011</td>\n",
        "      <td>62.891566</td>\n",
        "      <td>107.442146</td>\n",
        "      <td>93.140187</td>\n",
        "      <td>35.666667</td>\n",
        "      <td>100.020833</td>\n",
        "      <td>123.640722</td>\n",
        "      <td>81.754491</td>\n",
        "      <td>97.453240</td>\n",
        "      <td>41.090566</td>\n",
        "      <td>80.705263</td>\n",
        "      <td>4</td>\n",
        "      <td>14</td>\n",
        "      <td>556</td>\n",
        "      <td>18</td>\n",
        "      <td>79</td>\n",
        "      <td>6</td>\n",
        "      <td>2013</td>\n",
        "      <td>103</td>\n",
        "    </tr>\n",
        "    <tr>\n",
        "      <th>1943</th>\n",
        "      <td>79.0</td>\n",
        "      <td>99.459011</td>\n",
        "      <td>121.344828</td>\n",
        "      <td>107.442146</td>\n",
        "      <td>93.140187</td>\n",
        "      <td>72.423077</td>\n",
        "      <td>100.020833</td>\n",
        "      <td>123.640722</td>\n",
        "      <td>153.112782</td>\n",
        "      <td>97.453240</td>\n",
        "      <td>78.064639</td>\n",
        "      <td>80.705263</td>\n",
        "      <td>4</td>\n",
        "      <td>14</td>\n",
        "      <td>556</td>\n",
        "      <td>18</td>\n",
        "      <td>79</td>\n",
        "      <td>6</td>\n",
        "      <td>2013</td>\n",
        "      <td>103</td>\n",
        "    </tr>\n",
        "    <tr>\n",
        "      <th>1944</th>\n",
        "      <td>60.0</td>\n",
        "      <td>99.459011</td>\n",
        "      <td>71.314607</td>\n",
        "      <td>107.442146</td>\n",
        "      <td>93.140187</td>\n",
        "      <td>42.500000</td>\n",
        "      <td>100.020833</td>\n",
        "      <td>123.640722</td>\n",
        "      <td>84.793893</td>\n",
        "      <td>97.453240</td>\n",
        "      <td>60.184211</td>\n",
        "      <td>80.705263</td>\n",
        "      <td>4</td>\n",
        "      <td>14</td>\n",
        "      <td>556</td>\n",
        "      <td>18</td>\n",
        "      <td>79</td>\n",
        "      <td>6</td>\n",
        "      <td>2013</td>\n",
        "      <td>103</td>\n",
        "    </tr>\n",
        "    <tr>\n",
        "      <th>1945</th>\n",
        "      <td>122.0</td>\n",
        "      <td>99.459011</td>\n",
        "      <td>168.569767</td>\n",
        "      <td>107.442146</td>\n",
        "      <td>93.140187</td>\n",
        "      <td>113.434783</td>\n",
        "      <td>100.020833</td>\n",
        "      <td>123.640722</td>\n",
        "      <td>203.006211</td>\n",
        "      <td>97.453240</td>\n",
        "      <td>123.561538</td>\n",
        "      <td>80.705263</td>\n",
        "      <td>4</td>\n",
        "      <td>14</td>\n",
        "      <td>556</td>\n",
        "      <td>18</td>\n",
        "      <td>79</td>\n",
        "      <td>6</td>\n",
        "      <td>2013</td>\n",
        "      <td>103</td>\n",
        "    </tr>\n",
        "    <tr>\n",
        "      <th>1946</th>\n",
        "      <td>53.0</td>\n",
        "      <td>99.459011</td>\n",
        "      <td>60.228261</td>\n",
        "      <td>107.442146</td>\n",
        "      <td>93.140187</td>\n",
        "      <td>50.115385</td>\n",
        "      <td>100.020833</td>\n",
        "      <td>123.640722</td>\n",
        "      <td>85.597315</td>\n",
        "      <td>97.453240</td>\n",
        "      <td>60.620301</td>\n",
        "      <td>80.705263</td>\n",
        "      <td>4</td>\n",
        "      <td>14</td>\n",
        "      <td>556</td>\n",
        "      <td>18</td>\n",
        "      <td>79</td>\n",
        "      <td>6</td>\n",
        "      <td>2013</td>\n",
        "      <td>103</td>\n",
        "    </tr>\n",
        "    <tr>\n",
        "      <th>1947</th>\n",
        "      <td>69.0</td>\n",
        "      <td>99.459011</td>\n",
        "      <td>101.900000</td>\n",
        "      <td>107.442146</td>\n",
        "      <td>93.140187</td>\n",
        "      <td>90.086957</td>\n",
        "      <td>100.020833</td>\n",
        "      <td>123.640722</td>\n",
        "      <td>95.855072</td>\n",
        "      <td>97.453240</td>\n",
        "      <td>61.960938</td>\n",
        "      <td>80.705263</td>\n",
        "      <td>4</td>\n",
        "      <td>14</td>\n",
        "      <td>556</td>\n",
        "      <td>18</td>\n",
        "      <td>79</td>\n",
        "      <td>6</td>\n",
        "      <td>2013</td>\n",
        "      <td>103</td>\n",
        "    </tr>\n",
        "    <tr>\n",
        "      <th>1948</th>\n",
        "      <td>70.0</td>\n",
        "      <td>99.459011</td>\n",
        "      <td>129.909091</td>\n",
        "      <td>108.351462</td>\n",
        "      <td>93.140187</td>\n",
        "      <td>85.956522</td>\n",
        "      <td>94.701754</td>\n",
        "      <td>86.619073</td>\n",
        "      <td>116.530612</td>\n",
        "      <td>97.453240</td>\n",
        "      <td>98.687500</td>\n",
        "      <td>84.642276</td>\n",
        "      <td>4</td>\n",
        "      <td>15</td>\n",
        "      <td>557</td>\n",
        "      <td>18</td>\n",
        "      <td>80</td>\n",
        "      <td>0</td>\n",
        "      <td>2013</td>\n",
        "      <td>104</td>\n",
        "    </tr>\n",
        "    <tr>\n",
        "      <th>1949</th>\n",
        "      <td>266.0</td>\n",
        "      <td>99.459011</td>\n",
        "      <td>213.961905</td>\n",
        "      <td>108.351462</td>\n",
        "      <td>93.140187</td>\n",
        "      <td>308.680000</td>\n",
        "      <td>94.701754</td>\n",
        "      <td>86.619073</td>\n",
        "      <td>203.937143</td>\n",
        "      <td>97.453240</td>\n",
        "      <td>315.467681</td>\n",
        "      <td>84.642276</td>\n",
        "      <td>4</td>\n",
        "      <td>15</td>\n",
        "      <td>557</td>\n",
        "      <td>18</td>\n",
        "      <td>80</td>\n",
        "      <td>0</td>\n",
        "      <td>2013</td>\n",
        "      <td>104</td>\n",
        "    </tr>\n",
        "    <tr>\n",
        "      <th>1950</th>\n",
        "      <td>84.0</td>\n",
        "      <td>99.459011</td>\n",
        "      <td>168.569767</td>\n",
        "      <td>108.351462</td>\n",
        "      <td>93.140187</td>\n",
        "      <td>113.434783</td>\n",
        "      <td>94.701754</td>\n",
        "      <td>86.619073</td>\n",
        "      <td>139.371795</td>\n",
        "      <td>97.453240</td>\n",
        "      <td>123.561538</td>\n",
        "      <td>84.642276</td>\n",
        "      <td>4</td>\n",
        "      <td>15</td>\n",
        "      <td>557</td>\n",
        "      <td>18</td>\n",
        "      <td>80</td>\n",
        "      <td>0</td>\n",
        "      <td>2013</td>\n",
        "      <td>104</td>\n",
        "    </tr>\n",
        "    <tr>\n",
        "      <th>1951</th>\n",
        "      <td>32.0</td>\n",
        "      <td>99.459011</td>\n",
        "      <td>71.314607</td>\n",
        "      <td>108.351462</td>\n",
        "      <td>93.140187</td>\n",
        "      <td>42.500000</td>\n",
        "      <td>94.701754</td>\n",
        "      <td>86.619073</td>\n",
        "      <td>65.170213</td>\n",
        "      <td>97.453240</td>\n",
        "      <td>60.184211</td>\n",
        "      <td>84.642276</td>\n",
        "      <td>4</td>\n",
        "      <td>15</td>\n",
        "      <td>557</td>\n",
        "      <td>18</td>\n",
        "      <td>80</td>\n",
        "      <td>0</td>\n",
        "      <td>2013</td>\n",
        "      <td>104</td>\n",
        "    </tr>\n",
        "    <tr>\n",
        "      <th>1952</th>\n",
        "      <td>89.0</td>\n",
        "      <td>99.459011</td>\n",
        "      <td>101.900000</td>\n",
        "      <td>108.351462</td>\n",
        "      <td>93.140187</td>\n",
        "      <td>90.086957</td>\n",
        "      <td>94.701754</td>\n",
        "      <td>86.619073</td>\n",
        "      <td>77.164286</td>\n",
        "      <td>97.453240</td>\n",
        "      <td>61.960938</td>\n",
        "      <td>84.642276</td>\n",
        "      <td>4</td>\n",
        "      <td>15</td>\n",
        "      <td>557</td>\n",
        "      <td>18</td>\n",
        "      <td>80</td>\n",
        "      <td>0</td>\n",
        "      <td>2013</td>\n",
        "      <td>104</td>\n",
        "    </tr>\n",
        "    <tr>\n",
        "      <th>1953</th>\n",
        "      <td>48.0</td>\n",
        "      <td>99.459011</td>\n",
        "      <td>60.228261</td>\n",
        "      <td>108.351462</td>\n",
        "      <td>93.140187</td>\n",
        "      <td>50.115385</td>\n",
        "      <td>94.701754</td>\n",
        "      <td>86.619073</td>\n",
        "      <td>53.694444</td>\n",
        "      <td>97.453240</td>\n",
        "      <td>60.620301</td>\n",
        "      <td>84.642276</td>\n",
        "      <td>4</td>\n",
        "      <td>15</td>\n",
        "      <td>557</td>\n",
        "      <td>18</td>\n",
        "      <td>80</td>\n",
        "      <td>0</td>\n",
        "      <td>2013</td>\n",
        "      <td>104</td>\n",
        "    </tr>\n",
        "    <tr>\n",
        "      <th>1954</th>\n",
        "      <td>43.0</td>\n",
        "      <td>99.459011</td>\n",
        "      <td>62.891566</td>\n",
        "      <td>108.351462</td>\n",
        "      <td>93.140187</td>\n",
        "      <td>35.666667</td>\n",
        "      <td>94.701754</td>\n",
        "      <td>86.619073</td>\n",
        "      <td>56.887574</td>\n",
        "      <td>97.453240</td>\n",
        "      <td>41.090566</td>\n",
        "      <td>84.642276</td>\n",
        "      <td>4</td>\n",
        "      <td>15</td>\n",
        "      <td>557</td>\n",
        "      <td>18</td>\n",
        "      <td>80</td>\n",
        "      <td>0</td>\n",
        "      <td>2013</td>\n",
        "      <td>104</td>\n",
        "    </tr>\n",
        "    <tr>\n",
        "      <th>1955</th>\n",
        "      <td>85.0</td>\n",
        "      <td>99.459011</td>\n",
        "      <td>121.344828</td>\n",
        "      <td>108.351462</td>\n",
        "      <td>93.140187</td>\n",
        "      <td>72.423077</td>\n",
        "      <td>94.701754</td>\n",
        "      <td>86.619073</td>\n",
        "      <td>117.769231</td>\n",
        "      <td>97.453240</td>\n",
        "      <td>78.064639</td>\n",
        "      <td>84.642276</td>\n",
        "      <td>4</td>\n",
        "      <td>15</td>\n",
        "      <td>557</td>\n",
        "      <td>18</td>\n",
        "      <td>80</td>\n",
        "      <td>0</td>\n",
        "      <td>2013</td>\n",
        "      <td>104</td>\n",
        "    </tr>\n",
        "    <tr>\n",
        "      <th>1956</th>\n",
        "      <td>29.0</td>\n",
        "      <td>99.459011</td>\n",
        "      <td>109.017544</td>\n",
        "      <td>108.351462</td>\n",
        "      <td>93.140187</td>\n",
        "      <td>22.777778</td>\n",
        "      <td>94.701754</td>\n",
        "      <td>86.619073</td>\n",
        "      <td>120.430233</td>\n",
        "      <td>97.453240</td>\n",
        "      <td>11.188976</td>\n",
        "      <td>84.642276</td>\n",
        "      <td>4</td>\n",
        "      <td>15</td>\n",
        "      <td>557</td>\n",
        "      <td>18</td>\n",
        "      <td>80</td>\n",
        "      <td>0</td>\n",
        "      <td>2013</td>\n",
        "      <td>104</td>\n",
        "    </tr>\n",
        "    <tr>\n",
        "      <th>1957</th>\n",
        "      <td>238.0</td>\n",
        "      <td>99.459011</td>\n",
        "      <td>213.961905</td>\n",
        "      <td>103.290323</td>\n",
        "      <td>93.140187</td>\n",
        "      <td>308.680000</td>\n",
        "      <td>94.701754</td>\n",
        "      <td>87.286115</td>\n",
        "      <td>198.868852</td>\n",
        "      <td>97.453240</td>\n",
        "      <td>315.467681</td>\n",
        "      <td>109.750000</td>\n",
        "      <td>4</td>\n",
        "      <td>16</td>\n",
        "      <td>558</td>\n",
        "      <td>18</td>\n",
        "      <td>80</td>\n",
        "      <td>1</td>\n",
        "      <td>2013</td>\n",
        "      <td>105</td>\n",
        "    </tr>\n",
        "    <tr>\n",
        "      <th>1959</th>\n",
        "      <td>31.0</td>\n",
        "      <td>99.459011</td>\n",
        "      <td>62.891566</td>\n",
        "      <td>103.290323</td>\n",
        "      <td>93.140187</td>\n",
        "      <td>35.666667</td>\n",
        "      <td>94.701754</td>\n",
        "      <td>87.286115</td>\n",
        "      <td>52.892216</td>\n",
        "      <td>97.453240</td>\n",
        "      <td>41.090566</td>\n",
        "      <td>109.750000</td>\n",
        "      <td>4</td>\n",
        "      <td>16</td>\n",
        "      <td>558</td>\n",
        "      <td>18</td>\n",
        "      <td>80</td>\n",
        "      <td>1</td>\n",
        "      <td>2013</td>\n",
        "      <td>105</td>\n",
        "    </tr>\n",
        "  </tbody>\n",
        "</table>\n",
        "<p>1444 rows \u00d7 20 columns</p>\n",
        "</div>"
       ],
       "metadata": {},
       "output_type": "pyout",
       "prompt_number": 101,
       "text": [
        "      Count  MeanForMonth  MeanForMonthByPoints  MeanForMonthDay  \\\n",
        "0       8.0    112.145788            259.317757       104.137491   \n",
        "1      88.0    112.145788            259.317757       107.172263   \n",
        "2       1.0    112.145788            259.317757       107.880699   \n",
        "3       1.0    104.213605            257.108696       108.351462   \n",
        "5      43.0    105.650704            230.669643       107.880699   \n",
        "6      10.0    105.650704            230.669643       102.119765   \n",
        "7       1.0    105.650704            230.669643       102.062201   \n",
        "8      60.0    105.650704            230.669643       100.133333   \n",
        "10     96.0    105.650704            230.669643       108.351462   \n",
        "11    134.0    105.650704            230.669643       103.290323   \n",
        "12    112.0    105.650704            230.669643       105.817130   \n",
        "13    100.0    105.650704            230.669643        99.619893   \n",
        "15     73.0    105.650704            230.669643       109.836940   \n",
        "16     94.0    105.650704            230.669643       104.622352   \n",
        "17     94.0    105.650704            230.669643       106.173509   \n",
        "18    129.0    105.650704            230.669643       108.850467   \n",
        "19    164.0    105.650704            230.669643       107.476531   \n",
        "20    122.0    105.650704            230.669643       104.337815   \n",
        "23    128.0    105.650704            230.669643       103.456647   \n",
        "24    172.0    105.650704            230.669643       105.357430   \n",
        "25    223.0    105.650704            230.669643       113.251908   \n",
        "26     68.0    105.650704            230.669643       102.614765   \n",
        "28    169.0    107.562911            247.852174       105.307387   \n",
        "30    130.0    107.562911            247.852174       105.960446   \n",
        "31    119.0    107.562911            247.852174       104.449664   \n",
        "32    128.0    107.562911            247.852174       104.137491   \n",
        "33    128.0    107.562911            247.852174       107.172263   \n",
        "34    136.0    107.562911            247.852174       109.919853   \n",
        "35    105.0    107.562911            247.852174       107.880699   \n",
        "36    129.0    107.562911            247.852174       102.119765   \n",
        "...     ...           ...                   ...              ...   \n",
        "1929   18.0     99.459011            109.017544       102.014461   \n",
        "1930   70.0     99.459011             60.228261       100.133333   \n",
        "1931  133.0     99.459011            101.900000       100.133333   \n",
        "1932  463.0     99.459011            213.961905       100.133333   \n",
        "1933   74.0     99.459011             62.891566       100.133333   \n",
        "1934  162.0     99.459011            168.569767       100.133333   \n",
        "1935  126.0     99.459011            121.344828       100.133333   \n",
        "1936   41.0     99.459011             71.314607       100.133333   \n",
        "1937  126.0     99.459011            129.909091       100.133333   \n",
        "1938   32.0     99.459011            109.017544       100.133333   \n",
        "1939   47.0     99.459011            109.017544       107.442146   \n",
        "1940  386.0     99.459011            213.961905       107.442146   \n",
        "1941  100.0     99.459011            129.909091       107.442146   \n",
        "1942   54.0     99.459011             62.891566       107.442146   \n",
        "1943   79.0     99.459011            121.344828       107.442146   \n",
        "1944   60.0     99.459011             71.314607       107.442146   \n",
        "1945  122.0     99.459011            168.569767       107.442146   \n",
        "1946   53.0     99.459011             60.228261       107.442146   \n",
        "1947   69.0     99.459011            101.900000       107.442146   \n",
        "1948   70.0     99.459011            129.909091       108.351462   \n",
        "1949  266.0     99.459011            213.961905       108.351462   \n",
        "1950   84.0     99.459011            168.569767       108.351462   \n",
        "1951   32.0     99.459011             71.314607       108.351462   \n",
        "1952   89.0     99.459011            101.900000       108.351462   \n",
        "1953   48.0     99.459011             60.228261       108.351462   \n",
        "1954   43.0     99.459011             62.891566       108.351462   \n",
        "1955   85.0     99.459011            121.344828       108.351462   \n",
        "1956   29.0     99.459011            109.017544       108.351462   \n",
        "1957  238.0     99.459011            213.961905       103.290323   \n",
        "1959   31.0     99.459011             62.891566       103.290323   \n",
        "\n",
        "      MeanForThroughMonth  MeanForThroughMonthByPoints  MeanForThroughWeek  \\\n",
        "0               32.333333                    32.333333           32.333333   \n",
        "1               32.333333                    32.333333           32.333333   \n",
        "2               32.333333                    32.333333           32.333333   \n",
        "3                1.000000                     1.000000            1.000000   \n",
        "5              101.277778                   101.277778           18.000000   \n",
        "6              101.277778                   101.277778           18.000000   \n",
        "7              101.277778                   101.277778           18.000000   \n",
        "8              101.277778                   101.277778          100.400000   \n",
        "10             101.277778                   101.277778          100.400000   \n",
        "11             101.277778                   101.277778          100.400000   \n",
        "12             101.277778                   101.277778          100.400000   \n",
        "13             101.277778                   101.277778          100.400000   \n",
        "15             101.277778                   101.277778          112.666667   \n",
        "16             101.277778                   101.277778          112.666667   \n",
        "17             101.277778                   101.277778          112.666667   \n",
        "18             101.277778                   101.277778          112.666667   \n",
        "19             101.277778                   101.277778          112.666667   \n",
        "20             101.277778                   101.277778          112.666667   \n",
        "23             101.277778                   101.277778          147.750000   \n",
        "24             101.277778                   101.277778          147.750000   \n",
        "25             101.277778                   101.277778          147.750000   \n",
        "26             101.277778                   101.277778          147.750000   \n",
        "28             134.458333                   134.458333          135.000000   \n",
        "30             134.458333                   134.458333          135.000000   \n",
        "31             134.458333                   134.458333          135.000000   \n",
        "32             134.458333                   134.458333          135.000000   \n",
        "33             134.458333                   134.458333          135.000000   \n",
        "34             134.458333                   134.458333          135.000000   \n",
        "35             134.458333                   134.458333          134.600000   \n",
        "36             134.458333                   134.458333          134.600000   \n",
        "...                   ...                          ...                 ...   \n",
        "1929            93.140187                    22.777778          100.020833   \n",
        "1930            93.140187                    50.115385          100.020833   \n",
        "1931            93.140187                    90.086957          100.020833   \n",
        "1932            93.140187                   308.680000          100.020833   \n",
        "1933            93.140187                    35.666667          100.020833   \n",
        "1934            93.140187                   113.434783          100.020833   \n",
        "1935            93.140187                    72.423077          100.020833   \n",
        "1936            93.140187                    42.500000          100.020833   \n",
        "1937            93.140187                    85.956522          100.020833   \n",
        "1938            93.140187                    22.777778          100.020833   \n",
        "1939            93.140187                    22.777778          100.020833   \n",
        "1940            93.140187                   308.680000          100.020833   \n",
        "1941            93.140187                    85.956522          100.020833   \n",
        "1942            93.140187                    35.666667          100.020833   \n",
        "1943            93.140187                    72.423077          100.020833   \n",
        "1944            93.140187                    42.500000          100.020833   \n",
        "1945            93.140187                   113.434783          100.020833   \n",
        "1946            93.140187                    50.115385          100.020833   \n",
        "1947            93.140187                    90.086957          100.020833   \n",
        "1948            93.140187                    85.956522           94.701754   \n",
        "1949            93.140187                   308.680000           94.701754   \n",
        "1950            93.140187                   113.434783           94.701754   \n",
        "1951            93.140187                    42.500000           94.701754   \n",
        "1952            93.140187                    90.086957           94.701754   \n",
        "1953            93.140187                    50.115385           94.701754   \n",
        "1954            93.140187                    35.666667           94.701754   \n",
        "1955            93.140187                    72.423077           94.701754   \n",
        "1956            93.140187                    22.777778           94.701754   \n",
        "1957            93.140187                   308.680000           94.701754   \n",
        "1959            93.140187                    35.666667           94.701754   \n",
        "\n",
        "      MeanForWeekDay  MeanForWeekDayByPoints  MeanForYear  \\\n",
        "0          90.875335              214.426230    87.318182   \n",
        "1         123.721962              291.581522    87.318182   \n",
        "2         123.640722              262.022099    87.318182   \n",
        "3          87.286115              198.868852    87.318182   \n",
        "5         123.721962              291.581522    87.318182   \n",
        "6         142.693482              312.527174    87.318182   \n",
        "7         123.640722              262.022099    87.318182   \n",
        "8          87.286115              198.868852    87.318182   \n",
        "10         90.875335              214.426230    87.318182   \n",
        "11        123.721962              291.581522    87.318182   \n",
        "12        142.693482              312.527174    87.318182   \n",
        "13        123.640722              262.022099    87.318182   \n",
        "15         87.286115              198.868852    87.318182   \n",
        "16         87.164051              200.978495    87.318182   \n",
        "17         90.875335              214.426230    87.318182   \n",
        "18        123.721962              291.581522    87.318182   \n",
        "19        142.693482              312.527174    87.318182   \n",
        "20        123.640722              262.022099    87.318182   \n",
        "23         87.164051              200.978495    87.318182   \n",
        "24         90.875335              214.426230    87.318182   \n",
        "25        123.721962              291.581522    87.318182   \n",
        "26        142.693482              312.527174    87.318182   \n",
        "28         86.619073              203.937143   106.084472   \n",
        "30         87.164051              200.978495   106.084472   \n",
        "31         90.875335              214.426230   106.084472   \n",
        "32        123.721962              291.581522   106.084472   \n",
        "33        142.693482              312.527174   106.084472   \n",
        "34        123.640722              262.022099   106.084472   \n",
        "35         86.619073              203.937143   106.084472   \n",
        "36         87.286115              198.868852   106.084472   \n",
        "...              ...                     ...          ...   \n",
        "1929      123.721962              150.319588    97.453240   \n",
        "1930      142.693482              102.012270    97.453240   \n",
        "1931      142.693482              114.006494    97.453240   \n",
        "1932      142.693482              312.527174    97.453240   \n",
        "1933      142.693482               89.211429    97.453240   \n",
        "1934      142.693482              246.490683    97.453240   \n",
        "1935      142.693482              188.893939    97.453240   \n",
        "1936      142.693482              103.363014    97.453240   \n",
        "1937      142.693482              190.993243    97.453240   \n",
        "1938      142.693482              176.529412    97.453240   \n",
        "1939      123.640722              157.654762    97.453240   \n",
        "1940      123.640722              262.022099    97.453240   \n",
        "1941      123.640722              156.597484    97.453240   \n",
        "1942      123.640722               81.754491    97.453240   \n",
        "1943      123.640722              153.112782    97.453240   \n",
        "1944      123.640722               84.793893    97.453240   \n",
        "1945      123.640722              203.006211    97.453240   \n",
        "1946      123.640722               85.597315    97.453240   \n",
        "1947      123.640722               95.855072    97.453240   \n",
        "1948       86.619073              116.530612    97.453240   \n",
        "1949       86.619073              203.937143    97.453240   \n",
        "1950       86.619073              139.371795    97.453240   \n",
        "1951       86.619073               65.170213    97.453240   \n",
        "1952       86.619073               77.164286    97.453240   \n",
        "1953       86.619073               53.694444    97.453240   \n",
        "1954       86.619073               56.887574    97.453240   \n",
        "1955       86.619073              117.769231    97.453240   \n",
        "1956       86.619073              120.430233    97.453240   \n",
        "1957       87.286115              198.868852    97.453240   \n",
        "1959       87.286115               52.892216    97.453240   \n",
        "\n",
        "      MeanForYearByPoints  MeanForYearDay  Month  MonthDay  ThroughDay  \\\n",
        "0               87.318182       94.327731     10         6           0   \n",
        "1               87.318182       91.530201     10         7           1   \n",
        "2               87.318182      143.346821     10         9           3   \n",
        "3               87.318182      124.594937     11        15          40   \n",
        "5               87.318182       72.645161     12         9          64   \n",
        "6               87.318182       81.650000     12        10          65   \n",
        "7               87.318182      103.202532     12        11          66   \n",
        "8               87.318182      122.585106     12        13          68   \n",
        "10              87.318182       81.652632     12        15          70   \n",
        "11              87.318182       77.175824     12        16          71   \n",
        "12              87.318182       85.521127     12        17          72   \n",
        "13              87.318182      102.204082     12        18          73   \n",
        "15              87.318182      123.233333     12        20          75   \n",
        "16              87.318182       91.365591     12        21          76   \n",
        "17              87.318182       89.181818     12        22          77   \n",
        "18              87.318182       85.041096     12        23          78   \n",
        "19              87.318182       95.186047     12        24          79   \n",
        "20              87.318182      129.443182     12        25          80   \n",
        "23              87.318182      115.720588     12        28          83   \n",
        "24              87.318182      132.780822     12        29          84   \n",
        "25              87.318182      150.505882     12        30          85   \n",
        "26              87.318182       88.010638     12        31          86   \n",
        "28             218.725564      145.400000      1         2          88   \n",
        "30             218.725564      143.096774      1         4          90   \n",
        "31             218.725564      136.684783      1         5          91   \n",
        "32             218.725564      119.857143      1         6          92   \n",
        "33             218.725564      115.720430      1         7          93   \n",
        "34             218.725564      117.673267      1         8          94   \n",
        "35             218.725564      117.112903      1         9          95   \n",
        "36             218.725564      104.717949      1        10          96   \n",
        "...                   ...             ...    ...       ...         ...   \n",
        "1929            11.188976       89.392857      4        12         554   \n",
        "1930            60.620301       75.918182      4        13         555   \n",
        "1931            61.960938       75.918182      4        13         555   \n",
        "1932           315.467681       75.918182      4        13         555   \n",
        "1933            41.090566       75.918182      4        13         555   \n",
        "1934           123.561538       75.918182      4        13         555   \n",
        "1935            78.064639       75.918182      4        13         555   \n",
        "1936            60.184211       75.918182      4        13         555   \n",
        "1937            98.687500       75.918182      4        13         555   \n",
        "1938            11.188976       75.918182      4        13         555   \n",
        "1939            11.188976       80.705263      4        14         556   \n",
        "1940           315.467681       80.705263      4        14         556   \n",
        "1941            98.687500       80.705263      4        14         556   \n",
        "1942            41.090566       80.705263      4        14         556   \n",
        "1943            78.064639       80.705263      4        14         556   \n",
        "1944            60.184211       80.705263      4        14         556   \n",
        "1945           123.561538       80.705263      4        14         556   \n",
        "1946            60.620301       80.705263      4        14         556   \n",
        "1947            61.960938       80.705263      4        14         556   \n",
        "1948            98.687500       84.642276      4        15         557   \n",
        "1949           315.467681       84.642276      4        15         557   \n",
        "1950           123.561538       84.642276      4        15         557   \n",
        "1951            60.184211       84.642276      4        15         557   \n",
        "1952            61.960938       84.642276      4        15         557   \n",
        "1953            60.620301       84.642276      4        15         557   \n",
        "1954            41.090566       84.642276      4        15         557   \n",
        "1955            78.064639       84.642276      4        15         557   \n",
        "1956            11.188976       84.642276      4        15         557   \n",
        "1957           315.467681      109.750000      4        16         558   \n",
        "1959            41.090566      109.750000      4        16         558   \n",
        "\n",
        "      ThroughMonth  ThroughWeek  WeekDay  Year  YearDay  \n",
        "0                0            0        3  2011      278  \n",
        "1                0            0        4  2011      279  \n",
        "2                0            0        6  2011      281  \n",
        "3                1            6        1  2011      318  \n",
        "5                2            9        4  2011      342  \n",
        "6                2            9        5  2011      343  \n",
        "7                2            9        6  2011      344  \n",
        "8                2           10        1  2011      346  \n",
        "10               2           10        3  2011      348  \n",
        "11               2           10        4  2011      349  \n",
        "12               2           10        5  2011      350  \n",
        "13               2           10        6  2011      351  \n",
        "15               2           11        1  2011      353  \n",
        "16               2           11        2  2011      354  \n",
        "17               2           11        3  2011      355  \n",
        "18               2           11        4  2011      356  \n",
        "19               2           11        5  2011      357  \n",
        "20               2           11        6  2011      358  \n",
        "23               2           12        2  2011      361  \n",
        "24               2           12        3  2011      362  \n",
        "25               2           12        4  2011      363  \n",
        "26               2           12        5  2011      364  \n",
        "28               3           13        0  2012        1  \n",
        "30               3           13        2  2012        3  \n",
        "31               3           13        3  2012        4  \n",
        "32               3           13        4  2012        5  \n",
        "33               3           13        5  2012        6  \n",
        "34               3           13        6  2012        7  \n",
        "35               3           14        0  2012        8  \n",
        "36               3           14        1  2012        9  \n",
        "...            ...          ...      ...   ...      ...  \n",
        "1929            18           79        4  2013      101  \n",
        "1930            18           79        5  2013      102  \n",
        "1931            18           79        5  2013      102  \n",
        "1932            18           79        5  2013      102  \n",
        "1933            18           79        5  2013      102  \n",
        "1934            18           79        5  2013      102  \n",
        "1935            18           79        5  2013      102  \n",
        "1936            18           79        5  2013      102  \n",
        "1937            18           79        5  2013      102  \n",
        "1938            18           79        5  2013      102  \n",
        "1939            18           79        6  2013      103  \n",
        "1940            18           79        6  2013      103  \n",
        "1941            18           79        6  2013      103  \n",
        "1942            18           79        6  2013      103  \n",
        "1943            18           79        6  2013      103  \n",
        "1944            18           79        6  2013      103  \n",
        "1945            18           79        6  2013      103  \n",
        "1946            18           79        6  2013      103  \n",
        "1947            18           79        6  2013      103  \n",
        "1948            18           80        0  2013      104  \n",
        "1949            18           80        0  2013      104  \n",
        "1950            18           80        0  2013      104  \n",
        "1951            18           80        0  2013      104  \n",
        "1952            18           80        0  2013      104  \n",
        "1953            18           80        0  2013      104  \n",
        "1954            18           80        0  2013      104  \n",
        "1955            18           80        0  2013      104  \n",
        "1956            18           80        0  2013      104  \n",
        "1957            18           80        1  2013      105  \n",
        "1959            18           80        1  2013      105  \n",
        "\n",
        "[1444 rows x 20 columns]"
       ]
      }
     ],
     "prompt_number": 101
    },
    {
     "cell_type": "code",
     "collapsed": false,
     "input": [
      "model = RandomForestRegressor()\n",
      "model.fit(X_train, y_train)\n",
      "pred = model.predict(X_test)\n",
      "print (mae(pred, y_test))"
     ],
     "language": "python",
     "metadata": {},
     "outputs": [
      {
       "output_type": "stream",
       "stream": "stdout",
       "text": [
        "17.9631818182\n"
       ]
      }
     ],
     "prompt_number": 102
    },
    {
     "cell_type": "code",
     "collapsed": false,
     "input": [
      "weather_columns = weather.columns.difference(['Date', 'CityName', 'lat', 'lng'])\n",
      "with_weather[weather_columns] = weather[weather_columns]\n",
      "with_weather\n",
      "with_weather.fillna(method='bfill', inplace=True)\n",
      "with_weather.fillna(method='ffill', inplace=True)\n",
      "dataTrain = with_weather[with_weather.IsTrain == 1]\n",
      "dataTrain = dataTrain[dataTrain.columns.difference(remove_column)]\n",
      "\n",
      "X_train = dataTrain[dataTrain.columns.difference(['Count'])].as_matrix()\n",
      "y_train = dataTrain.Count.as_matrix()\n",
      "\n",
      "dataValidation =  with_weather[with_weather.IsValidation == 1]\n",
      "dataValidation = dataValidation[dataValidation.columns.difference(remove_column)]\n",
      "\n",
      "X_test = dataValidation[dataValidation.columns.difference(['Count'])].as_matrix()\n",
      "y_test = dataValidation.Count.as_matrix()\n",
      "dataTrain"
     ],
     "language": "python",
     "metadata": {},
     "outputs": [
      {
       "output_type": "stream",
       "stream": "stderr",
       "text": [
        "/opt/anaconda3/lib/python3.5/site-packages/pandas/core/frame.py:2378: SettingWithCopyWarning: \n",
        "A value is trying to be set on a copy of a slice from a DataFrame.\n",
        "Try using .loc[row_indexer,col_indexer] = value instead\n",
        "\n",
        "See the caveats in the documentation: http://pandas.pydata.org/pandas-docs/stable/indexing.html#indexing-view-versus-copy\n",
        "  self[k1] = value[k2]\n",
        "/opt/anaconda3/lib/python3.5/site-packages/pandas/core/frame.py:2762: SettingWithCopyWarning: \n",
        "A value is trying to be set on a copy of a slice from a DataFrame\n",
        "\n",
        "See the caveats in the documentation: http://pandas.pydata.org/pandas-docs/stable/indexing.html#indexing-view-versus-copy\n",
        "  downcast=downcast, **kwargs)\n"
       ]
      },
      {
       "html": [
        "<div>\n",
        "<table border=\"1\" class=\"dataframe\">\n",
        "  <thead>\n",
        "    <tr style=\"text-align: right;\">\n",
        "      <th></th>\n",
        "      <th>Count</th>\n",
        "      <th>MeanForMonth</th>\n",
        "      <th>MeanForMonthByPoints</th>\n",
        "      <th>MeanForMonthDay</th>\n",
        "      <th>MeanForThroughMonth</th>\n",
        "      <th>MeanForThroughMonthByPoints</th>\n",
        "      <th>MeanForThroughWeek</th>\n",
        "      <th>MeanForWeekDay</th>\n",
        "      <th>MeanForWeekDayByPoints</th>\n",
        "      <th>MeanForYear</th>\n",
        "      <th>...</th>\n",
        "      <th>dewPoint</th>\n",
        "      <th>humidity</th>\n",
        "      <th>icon</th>\n",
        "      <th>precipType</th>\n",
        "      <th>pressure</th>\n",
        "      <th>summary</th>\n",
        "      <th>temperature</th>\n",
        "      <th>visibility</th>\n",
        "      <th>windBearing</th>\n",
        "      <th>windSpeed</th>\n",
        "    </tr>\n",
        "  </thead>\n",
        "  <tbody>\n",
        "    <tr>\n",
        "      <th>0</th>\n",
        "      <td>8.0</td>\n",
        "      <td>112.145788</td>\n",
        "      <td>259.317757</td>\n",
        "      <td>104.137491</td>\n",
        "      <td>32.333333</td>\n",
        "      <td>32.333333</td>\n",
        "      <td>32.333333</td>\n",
        "      <td>90.875335</td>\n",
        "      <td>214.426230</td>\n",
        "      <td>87.318182</td>\n",
        "      <td>...</td>\n",
        "      <td>4.13</td>\n",
        "      <td>0.94</td>\n",
        "      <td>0</td>\n",
        "      <td>0</td>\n",
        "      <td>990.66</td>\n",
        "      <td>0</td>\n",
        "      <td>4.95</td>\n",
        "      <td>8.32</td>\n",
        "      <td>195.0</td>\n",
        "      <td>4.05</td>\n",
        "    </tr>\n",
        "    <tr>\n",
        "      <th>1</th>\n",
        "      <td>88.0</td>\n",
        "      <td>112.145788</td>\n",
        "      <td>259.317757</td>\n",
        "      <td>107.172263</td>\n",
        "      <td>32.333333</td>\n",
        "      <td>32.333333</td>\n",
        "      <td>32.333333</td>\n",
        "      <td>123.721962</td>\n",
        "      <td>291.581522</td>\n",
        "      <td>87.318182</td>\n",
        "      <td>...</td>\n",
        "      <td>5.04</td>\n",
        "      <td>0.86</td>\n",
        "      <td>0</td>\n",
        "      <td>0</td>\n",
        "      <td>1007.93</td>\n",
        "      <td>0</td>\n",
        "      <td>7.22</td>\n",
        "      <td>11.27</td>\n",
        "      <td>240.0</td>\n",
        "      <td>3.13</td>\n",
        "    </tr>\n",
        "    <tr>\n",
        "      <th>2</th>\n",
        "      <td>1.0</td>\n",
        "      <td>112.145788</td>\n",
        "      <td>259.317757</td>\n",
        "      <td>107.880699</td>\n",
        "      <td>32.333333</td>\n",
        "      <td>32.333333</td>\n",
        "      <td>32.333333</td>\n",
        "      <td>123.640722</td>\n",
        "      <td>262.022099</td>\n",
        "      <td>87.318182</td>\n",
        "      <td>...</td>\n",
        "      <td>8.08</td>\n",
        "      <td>0.90</td>\n",
        "      <td>1</td>\n",
        "      <td>0</td>\n",
        "      <td>1007.93</td>\n",
        "      <td>1</td>\n",
        "      <td>9.71</td>\n",
        "      <td>8.48</td>\n",
        "      <td>229.0</td>\n",
        "      <td>1.82</td>\n",
        "    </tr>\n",
        "    <tr>\n",
        "      <th>3</th>\n",
        "      <td>1.0</td>\n",
        "      <td>104.213605</td>\n",
        "      <td>257.108696</td>\n",
        "      <td>108.351462</td>\n",
        "      <td>1.000000</td>\n",
        "      <td>1.000000</td>\n",
        "      <td>1.000000</td>\n",
        "      <td>87.286115</td>\n",
        "      <td>198.868852</td>\n",
        "      <td>87.318182</td>\n",
        "      <td>...</td>\n",
        "      <td>-1.32</td>\n",
        "      <td>0.98</td>\n",
        "      <td>0</td>\n",
        "      <td>1</td>\n",
        "      <td>988.27</td>\n",
        "      <td>0</td>\n",
        "      <td>-1.04</td>\n",
        "      <td>5.63</td>\n",
        "      <td>205.0</td>\n",
        "      <td>4.14</td>\n",
        "    </tr>\n",
        "    <tr>\n",
        "      <th>5</th>\n",
        "      <td>43.0</td>\n",
        "      <td>105.650704</td>\n",
        "      <td>230.669643</td>\n",
        "      <td>107.880699</td>\n",
        "      <td>101.277778</td>\n",
        "      <td>101.277778</td>\n",
        "      <td>18.000000</td>\n",
        "      <td>123.721962</td>\n",
        "      <td>291.581522</td>\n",
        "      <td>87.318182</td>\n",
        "      <td>...</td>\n",
        "      <td>-4.04</td>\n",
        "      <td>0.89</td>\n",
        "      <td>0</td>\n",
        "      <td>1</td>\n",
        "      <td>1026.65</td>\n",
        "      <td>0</td>\n",
        "      <td>-2.44</td>\n",
        "      <td>9.06</td>\n",
        "      <td>188.0</td>\n",
        "      <td>0.89</td>\n",
        "    </tr>\n",
        "    <tr>\n",
        "      <th>6</th>\n",
        "      <td>10.0</td>\n",
        "      <td>105.650704</td>\n",
        "      <td>230.669643</td>\n",
        "      <td>102.119765</td>\n",
        "      <td>101.277778</td>\n",
        "      <td>101.277778</td>\n",
        "      <td>18.000000</td>\n",
        "      <td>142.693482</td>\n",
        "      <td>312.527174</td>\n",
        "      <td>87.318182</td>\n",
        "      <td>...</td>\n",
        "      <td>-6.47</td>\n",
        "      <td>0.86</td>\n",
        "      <td>0</td>\n",
        "      <td>1</td>\n",
        "      <td>1026.66</td>\n",
        "      <td>0</td>\n",
        "      <td>-4.43</td>\n",
        "      <td>10.61</td>\n",
        "      <td>163.0</td>\n",
        "      <td>2.45</td>\n",
        "    </tr>\n",
        "    <tr>\n",
        "      <th>7</th>\n",
        "      <td>1.0</td>\n",
        "      <td>105.650704</td>\n",
        "      <td>230.669643</td>\n",
        "      <td>102.062201</td>\n",
        "      <td>101.277778</td>\n",
        "      <td>101.277778</td>\n",
        "      <td>18.000000</td>\n",
        "      <td>123.640722</td>\n",
        "      <td>262.022099</td>\n",
        "      <td>87.318182</td>\n",
        "      <td>...</td>\n",
        "      <td>-8.93</td>\n",
        "      <td>0.88</td>\n",
        "      <td>0</td>\n",
        "      <td>1</td>\n",
        "      <td>1018.29</td>\n",
        "      <td>0</td>\n",
        "      <td>-7.28</td>\n",
        "      <td>8.42</td>\n",
        "      <td>173.0</td>\n",
        "      <td>4.10</td>\n",
        "    </tr>\n",
        "    <tr>\n",
        "      <th>8</th>\n",
        "      <td>60.0</td>\n",
        "      <td>105.650704</td>\n",
        "      <td>230.669643</td>\n",
        "      <td>100.133333</td>\n",
        "      <td>101.277778</td>\n",
        "      <td>101.277778</td>\n",
        "      <td>100.400000</td>\n",
        "      <td>87.286115</td>\n",
        "      <td>198.868852</td>\n",
        "      <td>87.318182</td>\n",
        "      <td>...</td>\n",
        "      <td>-11.34</td>\n",
        "      <td>0.88</td>\n",
        "      <td>0</td>\n",
        "      <td>1</td>\n",
        "      <td>1017.16</td>\n",
        "      <td>0</td>\n",
        "      <td>-9.77</td>\n",
        "      <td>8.40</td>\n",
        "      <td>192.0</td>\n",
        "      <td>3.49</td>\n",
        "    </tr>\n",
        "    <tr>\n",
        "      <th>10</th>\n",
        "      <td>96.0</td>\n",
        "      <td>105.650704</td>\n",
        "      <td>230.669643</td>\n",
        "      <td>108.351462</td>\n",
        "      <td>101.277778</td>\n",
        "      <td>101.277778</td>\n",
        "      <td>100.400000</td>\n",
        "      <td>90.875335</td>\n",
        "      <td>214.426230</td>\n",
        "      <td>87.318182</td>\n",
        "      <td>...</td>\n",
        "      <td>-11.45</td>\n",
        "      <td>0.84</td>\n",
        "      <td>0</td>\n",
        "      <td>1</td>\n",
        "      <td>1024.86</td>\n",
        "      <td>0</td>\n",
        "      <td>-9.23</td>\n",
        "      <td>10.80</td>\n",
        "      <td>170.0</td>\n",
        "      <td>3.61</td>\n",
        "    </tr>\n",
        "    <tr>\n",
        "      <th>11</th>\n",
        "      <td>134.0</td>\n",
        "      <td>105.650704</td>\n",
        "      <td>230.669643</td>\n",
        "      <td>103.290323</td>\n",
        "      <td>101.277778</td>\n",
        "      <td>101.277778</td>\n",
        "      <td>100.400000</td>\n",
        "      <td>123.721962</td>\n",
        "      <td>291.581522</td>\n",
        "      <td>87.318182</td>\n",
        "      <td>...</td>\n",
        "      <td>-6.72</td>\n",
        "      <td>0.94</td>\n",
        "      <td>0</td>\n",
        "      <td>1</td>\n",
        "      <td>1022.50</td>\n",
        "      <td>0</td>\n",
        "      <td>-5.90</td>\n",
        "      <td>7.19</td>\n",
        "      <td>162.0</td>\n",
        "      <td>2.77</td>\n",
        "    </tr>\n",
        "    <tr>\n",
        "      <th>12</th>\n",
        "      <td>112.0</td>\n",
        "      <td>105.650704</td>\n",
        "      <td>230.669643</td>\n",
        "      <td>105.817130</td>\n",
        "      <td>101.277778</td>\n",
        "      <td>101.277778</td>\n",
        "      <td>100.400000</td>\n",
        "      <td>142.693482</td>\n",
        "      <td>312.527174</td>\n",
        "      <td>87.318182</td>\n",
        "      <td>...</td>\n",
        "      <td>-0.59</td>\n",
        "      <td>0.96</td>\n",
        "      <td>0</td>\n",
        "      <td>1</td>\n",
        "      <td>1020.28</td>\n",
        "      <td>0</td>\n",
        "      <td>-0.02</td>\n",
        "      <td>5.36</td>\n",
        "      <td>163.0</td>\n",
        "      <td>4.47</td>\n",
        "    </tr>\n",
        "    <tr>\n",
        "      <th>13</th>\n",
        "      <td>100.0</td>\n",
        "      <td>105.650704</td>\n",
        "      <td>230.669643</td>\n",
        "      <td>99.619893</td>\n",
        "      <td>101.277778</td>\n",
        "      <td>101.277778</td>\n",
        "      <td>100.400000</td>\n",
        "      <td>123.640722</td>\n",
        "      <td>262.022099</td>\n",
        "      <td>87.318182</td>\n",
        "      <td>...</td>\n",
        "      <td>-8.57</td>\n",
        "      <td>0.78</td>\n",
        "      <td>1</td>\n",
        "      <td>1</td>\n",
        "      <td>1024.57</td>\n",
        "      <td>1</td>\n",
        "      <td>-5.27</td>\n",
        "      <td>8.64</td>\n",
        "      <td>181.0</td>\n",
        "      <td>5.11</td>\n",
        "    </tr>\n",
        "    <tr>\n",
        "      <th>15</th>\n",
        "      <td>73.0</td>\n",
        "      <td>105.650704</td>\n",
        "      <td>230.669643</td>\n",
        "      <td>109.836940</td>\n",
        "      <td>101.277778</td>\n",
        "      <td>101.277778</td>\n",
        "      <td>112.666667</td>\n",
        "      <td>87.286115</td>\n",
        "      <td>198.868852</td>\n",
        "      <td>87.318182</td>\n",
        "      <td>...</td>\n",
        "      <td>-9.20</td>\n",
        "      <td>0.86</td>\n",
        "      <td>0</td>\n",
        "      <td>1</td>\n",
        "      <td>1026.08</td>\n",
        "      <td>0</td>\n",
        "      <td>-7.28</td>\n",
        "      <td>10.81</td>\n",
        "      <td>197.0</td>\n",
        "      <td>4.44</td>\n",
        "    </tr>\n",
        "    <tr>\n",
        "      <th>16</th>\n",
        "      <td>94.0</td>\n",
        "      <td>105.650704</td>\n",
        "      <td>230.669643</td>\n",
        "      <td>104.622352</td>\n",
        "      <td>101.277778</td>\n",
        "      <td>101.277778</td>\n",
        "      <td>112.666667</td>\n",
        "      <td>87.164051</td>\n",
        "      <td>200.978495</td>\n",
        "      <td>87.318182</td>\n",
        "      <td>...</td>\n",
        "      <td>-10.42</td>\n",
        "      <td>0.82</td>\n",
        "      <td>1</td>\n",
        "      <td>1</td>\n",
        "      <td>1027.67</td>\n",
        "      <td>2</td>\n",
        "      <td>-7.85</td>\n",
        "      <td>9.16</td>\n",
        "      <td>203.0</td>\n",
        "      <td>4.36</td>\n",
        "    </tr>\n",
        "    <tr>\n",
        "      <th>17</th>\n",
        "      <td>94.0</td>\n",
        "      <td>105.650704</td>\n",
        "      <td>230.669643</td>\n",
        "      <td>106.173509</td>\n",
        "      <td>101.277778</td>\n",
        "      <td>101.277778</td>\n",
        "      <td>112.666667</td>\n",
        "      <td>90.875335</td>\n",
        "      <td>214.426230</td>\n",
        "      <td>87.318182</td>\n",
        "      <td>...</td>\n",
        "      <td>-8.03</td>\n",
        "      <td>0.94</td>\n",
        "      <td>2</td>\n",
        "      <td>1</td>\n",
        "      <td>1020.49</td>\n",
        "      <td>3</td>\n",
        "      <td>-7.23</td>\n",
        "      <td>2.30</td>\n",
        "      <td>179.0</td>\n",
        "      <td>2.56</td>\n",
        "    </tr>\n",
        "    <tr>\n",
        "      <th>18</th>\n",
        "      <td>129.0</td>\n",
        "      <td>105.650704</td>\n",
        "      <td>230.669643</td>\n",
        "      <td>108.850467</td>\n",
        "      <td>101.277778</td>\n",
        "      <td>101.277778</td>\n",
        "      <td>112.666667</td>\n",
        "      <td>123.721962</td>\n",
        "      <td>291.581522</td>\n",
        "      <td>87.318182</td>\n",
        "      <td>...</td>\n",
        "      <td>-8.83</td>\n",
        "      <td>0.90</td>\n",
        "      <td>0</td>\n",
        "      <td>1</td>\n",
        "      <td>1015.72</td>\n",
        "      <td>0</td>\n",
        "      <td>-7.49</td>\n",
        "      <td>8.34</td>\n",
        "      <td>169.0</td>\n",
        "      <td>0.96</td>\n",
        "    </tr>\n",
        "    <tr>\n",
        "      <th>19</th>\n",
        "      <td>164.0</td>\n",
        "      <td>105.650704</td>\n",
        "      <td>230.669643</td>\n",
        "      <td>107.476531</td>\n",
        "      <td>101.277778</td>\n",
        "      <td>101.277778</td>\n",
        "      <td>112.666667</td>\n",
        "      <td>142.693482</td>\n",
        "      <td>312.527174</td>\n",
        "      <td>87.318182</td>\n",
        "      <td>...</td>\n",
        "      <td>-9.92</td>\n",
        "      <td>0.90</td>\n",
        "      <td>0</td>\n",
        "      <td>1</td>\n",
        "      <td>1013.33</td>\n",
        "      <td>0</td>\n",
        "      <td>-8.59</td>\n",
        "      <td>9.46</td>\n",
        "      <td>155.0</td>\n",
        "      <td>0.89</td>\n",
        "    </tr>\n",
        "    <tr>\n",
        "      <th>20</th>\n",
        "      <td>122.0</td>\n",
        "      <td>105.650704</td>\n",
        "      <td>230.669643</td>\n",
        "      <td>104.337815</td>\n",
        "      <td>101.277778</td>\n",
        "      <td>101.277778</td>\n",
        "      <td>112.666667</td>\n",
        "      <td>123.640722</td>\n",
        "      <td>262.022099</td>\n",
        "      <td>87.318182</td>\n",
        "      <td>...</td>\n",
        "      <td>-17.13</td>\n",
        "      <td>0.83</td>\n",
        "      <td>1</td>\n",
        "      <td>1</td>\n",
        "      <td>1014.45</td>\n",
        "      <td>2</td>\n",
        "      <td>-14.87</td>\n",
        "      <td>8.50</td>\n",
        "      <td>206.0</td>\n",
        "      <td>1.35</td>\n",
        "    </tr>\n",
        "    <tr>\n",
        "      <th>23</th>\n",
        "      <td>128.0</td>\n",
        "      <td>105.650704</td>\n",
        "      <td>230.669643</td>\n",
        "      <td>103.456647</td>\n",
        "      <td>101.277778</td>\n",
        "      <td>101.277778</td>\n",
        "      <td>147.750000</td>\n",
        "      <td>87.164051</td>\n",
        "      <td>200.978495</td>\n",
        "      <td>87.318182</td>\n",
        "      <td>...</td>\n",
        "      <td>-5.02</td>\n",
        "      <td>0.94</td>\n",
        "      <td>0</td>\n",
        "      <td>1</td>\n",
        "      <td>977.68</td>\n",
        "      <td>0</td>\n",
        "      <td>-4.22</td>\n",
        "      <td>5.15</td>\n",
        "      <td>171.0</td>\n",
        "      <td>2.51</td>\n",
        "    </tr>\n",
        "    <tr>\n",
        "      <th>24</th>\n",
        "      <td>172.0</td>\n",
        "      <td>105.650704</td>\n",
        "      <td>230.669643</td>\n",
        "      <td>105.357430</td>\n",
        "      <td>101.277778</td>\n",
        "      <td>101.277778</td>\n",
        "      <td>147.750000</td>\n",
        "      <td>90.875335</td>\n",
        "      <td>214.426230</td>\n",
        "      <td>87.318182</td>\n",
        "      <td>...</td>\n",
        "      <td>-8.37</td>\n",
        "      <td>0.88</td>\n",
        "      <td>1</td>\n",
        "      <td>1</td>\n",
        "      <td>986.71</td>\n",
        "      <td>2</td>\n",
        "      <td>-6.73</td>\n",
        "      <td>10.51</td>\n",
        "      <td>325.0</td>\n",
        "      <td>3.13</td>\n",
        "    </tr>\n",
        "    <tr>\n",
        "      <th>25</th>\n",
        "      <td>223.0</td>\n",
        "      <td>105.650704</td>\n",
        "      <td>230.669643</td>\n",
        "      <td>113.251908</td>\n",
        "      <td>101.277778</td>\n",
        "      <td>101.277778</td>\n",
        "      <td>147.750000</td>\n",
        "      <td>123.721962</td>\n",
        "      <td>291.581522</td>\n",
        "      <td>87.318182</td>\n",
        "      <td>...</td>\n",
        "      <td>-6.11</td>\n",
        "      <td>0.92</td>\n",
        "      <td>0</td>\n",
        "      <td>1</td>\n",
        "      <td>1000.90</td>\n",
        "      <td>0</td>\n",
        "      <td>-5.01</td>\n",
        "      <td>10.80</td>\n",
        "      <td>215.0</td>\n",
        "      <td>3.52</td>\n",
        "    </tr>\n",
        "    <tr>\n",
        "      <th>26</th>\n",
        "      <td>68.0</td>\n",
        "      <td>105.650704</td>\n",
        "      <td>230.669643</td>\n",
        "      <td>102.614765</td>\n",
        "      <td>101.277778</td>\n",
        "      <td>101.277778</td>\n",
        "      <td>147.750000</td>\n",
        "      <td>142.693482</td>\n",
        "      <td>312.527174</td>\n",
        "      <td>87.318182</td>\n",
        "      <td>...</td>\n",
        "      <td>-2.27</td>\n",
        "      <td>0.98</td>\n",
        "      <td>0</td>\n",
        "      <td>1</td>\n",
        "      <td>1008.09</td>\n",
        "      <td>0</td>\n",
        "      <td>-1.99</td>\n",
        "      <td>11.02</td>\n",
        "      <td>200.0</td>\n",
        "      <td>3.99</td>\n",
        "    </tr>\n",
        "    <tr>\n",
        "      <th>28</th>\n",
        "      <td>169.0</td>\n",
        "      <td>107.562911</td>\n",
        "      <td>247.852174</td>\n",
        "      <td>105.307387</td>\n",
        "      <td>134.458333</td>\n",
        "      <td>134.458333</td>\n",
        "      <td>135.000000</td>\n",
        "      <td>86.619073</td>\n",
        "      <td>203.937143</td>\n",
        "      <td>106.084472</td>\n",
        "      <td>...</td>\n",
        "      <td>-6.09</td>\n",
        "      <td>0.92</td>\n",
        "      <td>0</td>\n",
        "      <td>1</td>\n",
        "      <td>1022.03</td>\n",
        "      <td>0</td>\n",
        "      <td>-4.99</td>\n",
        "      <td>9.01</td>\n",
        "      <td>205.0</td>\n",
        "      <td>1.32</td>\n",
        "    </tr>\n",
        "    <tr>\n",
        "      <th>30</th>\n",
        "      <td>130.0</td>\n",
        "      <td>107.562911</td>\n",
        "      <td>247.852174</td>\n",
        "      <td>105.960446</td>\n",
        "      <td>134.458333</td>\n",
        "      <td>134.458333</td>\n",
        "      <td>135.000000</td>\n",
        "      <td>87.164051</td>\n",
        "      <td>200.978495</td>\n",
        "      <td>106.084472</td>\n",
        "      <td>...</td>\n",
        "      <td>-12.52</td>\n",
        "      <td>0.91</td>\n",
        "      <td>0</td>\n",
        "      <td>1</td>\n",
        "      <td>1017.32</td>\n",
        "      <td>0</td>\n",
        "      <td>-11.39</td>\n",
        "      <td>9.17</td>\n",
        "      <td>52.0</td>\n",
        "      <td>0.87</td>\n",
        "    </tr>\n",
        "    <tr>\n",
        "      <th>31</th>\n",
        "      <td>119.0</td>\n",
        "      <td>107.562911</td>\n",
        "      <td>247.852174</td>\n",
        "      <td>104.449664</td>\n",
        "      <td>134.458333</td>\n",
        "      <td>134.458333</td>\n",
        "      <td>135.000000</td>\n",
        "      <td>90.875335</td>\n",
        "      <td>214.426230</td>\n",
        "      <td>106.084472</td>\n",
        "      <td>...</td>\n",
        "      <td>-9.48</td>\n",
        "      <td>0.90</td>\n",
        "      <td>0</td>\n",
        "      <td>1</td>\n",
        "      <td>1006.14</td>\n",
        "      <td>0</td>\n",
        "      <td>-8.14</td>\n",
        "      <td>7.61</td>\n",
        "      <td>164.0</td>\n",
        "      <td>3.59</td>\n",
        "    </tr>\n",
        "    <tr>\n",
        "      <th>32</th>\n",
        "      <td>128.0</td>\n",
        "      <td>107.562911</td>\n",
        "      <td>247.852174</td>\n",
        "      <td>104.137491</td>\n",
        "      <td>134.458333</td>\n",
        "      <td>134.458333</td>\n",
        "      <td>135.000000</td>\n",
        "      <td>123.721962</td>\n",
        "      <td>291.581522</td>\n",
        "      <td>106.084472</td>\n",
        "      <td>...</td>\n",
        "      <td>-4.57</td>\n",
        "      <td>0.94</td>\n",
        "      <td>0</td>\n",
        "      <td>1</td>\n",
        "      <td>1000.49</td>\n",
        "      <td>0</td>\n",
        "      <td>-3.77</td>\n",
        "      <td>7.31</td>\n",
        "      <td>192.0</td>\n",
        "      <td>2.77</td>\n",
        "    </tr>\n",
        "    <tr>\n",
        "      <th>33</th>\n",
        "      <td>128.0</td>\n",
        "      <td>107.562911</td>\n",
        "      <td>247.852174</td>\n",
        "      <td>107.172263</td>\n",
        "      <td>134.458333</td>\n",
        "      <td>134.458333</td>\n",
        "      <td>135.000000</td>\n",
        "      <td>142.693482</td>\n",
        "      <td>312.527174</td>\n",
        "      <td>106.084472</td>\n",
        "      <td>...</td>\n",
        "      <td>-0.91</td>\n",
        "      <td>0.94</td>\n",
        "      <td>2</td>\n",
        "      <td>1</td>\n",
        "      <td>1010.80</td>\n",
        "      <td>3</td>\n",
        "      <td>-0.06</td>\n",
        "      <td>2.54</td>\n",
        "      <td>179.0</td>\n",
        "      <td>2.48</td>\n",
        "    </tr>\n",
        "    <tr>\n",
        "      <th>34</th>\n",
        "      <td>136.0</td>\n",
        "      <td>107.562911</td>\n",
        "      <td>247.852174</td>\n",
        "      <td>109.919853</td>\n",
        "      <td>134.458333</td>\n",
        "      <td>134.458333</td>\n",
        "      <td>135.000000</td>\n",
        "      <td>123.640722</td>\n",
        "      <td>262.022099</td>\n",
        "      <td>106.084472</td>\n",
        "      <td>...</td>\n",
        "      <td>-6.19</td>\n",
        "      <td>0.88</td>\n",
        "      <td>2</td>\n",
        "      <td>1</td>\n",
        "      <td>1010.82</td>\n",
        "      <td>3</td>\n",
        "      <td>-4.46</td>\n",
        "      <td>2.37</td>\n",
        "      <td>194.0</td>\n",
        "      <td>5.57</td>\n",
        "    </tr>\n",
        "    <tr>\n",
        "      <th>35</th>\n",
        "      <td>105.0</td>\n",
        "      <td>107.562911</td>\n",
        "      <td>247.852174</td>\n",
        "      <td>107.880699</td>\n",
        "      <td>134.458333</td>\n",
        "      <td>134.458333</td>\n",
        "      <td>134.600000</td>\n",
        "      <td>86.619073</td>\n",
        "      <td>203.937143</td>\n",
        "      <td>106.084472</td>\n",
        "      <td>...</td>\n",
        "      <td>-4.09</td>\n",
        "      <td>0.88</td>\n",
        "      <td>1</td>\n",
        "      <td>1</td>\n",
        "      <td>1023.30</td>\n",
        "      <td>1</td>\n",
        "      <td>-2.40</td>\n",
        "      <td>10.57</td>\n",
        "      <td>219.0</td>\n",
        "      <td>3.59</td>\n",
        "    </tr>\n",
        "    <tr>\n",
        "      <th>36</th>\n",
        "      <td>129.0</td>\n",
        "      <td>107.562911</td>\n",
        "      <td>247.852174</td>\n",
        "      <td>102.119765</td>\n",
        "      <td>134.458333</td>\n",
        "      <td>134.458333</td>\n",
        "      <td>134.600000</td>\n",
        "      <td>87.286115</td>\n",
        "      <td>198.868852</td>\n",
        "      <td>106.084472</td>\n",
        "      <td>...</td>\n",
        "      <td>-8.29</td>\n",
        "      <td>0.92</td>\n",
        "      <td>0</td>\n",
        "      <td>1</td>\n",
        "      <td>1024.27</td>\n",
        "      <td>0</td>\n",
        "      <td>-7.22</td>\n",
        "      <td>8.59</td>\n",
        "      <td>166.0</td>\n",
        "      <td>3.08</td>\n",
        "    </tr>\n",
        "    <tr>\n",
        "      <th>...</th>\n",
        "      <td>...</td>\n",
        "      <td>...</td>\n",
        "      <td>...</td>\n",
        "      <td>...</td>\n",
        "      <td>...</td>\n",
        "      <td>...</td>\n",
        "      <td>...</td>\n",
        "      <td>...</td>\n",
        "      <td>...</td>\n",
        "      <td>...</td>\n",
        "      <td>...</td>\n",
        "      <td>...</td>\n",
        "      <td>...</td>\n",
        "      <td>...</td>\n",
        "      <td>...</td>\n",
        "      <td>...</td>\n",
        "      <td>...</td>\n",
        "      <td>...</td>\n",
        "      <td>...</td>\n",
        "      <td>...</td>\n",
        "      <td>...</td>\n",
        "    </tr>\n",
        "    <tr>\n",
        "      <th>1929</th>\n",
        "      <td>18.0</td>\n",
        "      <td>99.459011</td>\n",
        "      <td>109.017544</td>\n",
        "      <td>102.014461</td>\n",
        "      <td>93.140187</td>\n",
        "      <td>22.777778</td>\n",
        "      <td>100.020833</td>\n",
        "      <td>123.721962</td>\n",
        "      <td>150.319588</td>\n",
        "      <td>97.453240</td>\n",
        "      <td>...</td>\n",
        "      <td>-5.53</td>\n",
        "      <td>0.54</td>\n",
        "      <td>3</td>\n",
        "      <td>0</td>\n",
        "      <td>1019.42</td>\n",
        "      <td>4</td>\n",
        "      <td>2.88</td>\n",
        "      <td>10.98</td>\n",
        "      <td>128.0</td>\n",
        "      <td>3.06</td>\n",
        "    </tr>\n",
        "    <tr>\n",
        "      <th>1930</th>\n",
        "      <td>70.0</td>\n",
        "      <td>99.459011</td>\n",
        "      <td>60.228261</td>\n",
        "      <td>100.133333</td>\n",
        "      <td>93.140187</td>\n",
        "      <td>50.115385</td>\n",
        "      <td>100.020833</td>\n",
        "      <td>142.693482</td>\n",
        "      <td>102.012270</td>\n",
        "      <td>97.453240</td>\n",
        "      <td>...</td>\n",
        "      <td>-3.34</td>\n",
        "      <td>0.79</td>\n",
        "      <td>1</td>\n",
        "      <td>1</td>\n",
        "      <td>1022.96</td>\n",
        "      <td>2</td>\n",
        "      <td>-0.19</td>\n",
        "      <td>15.47</td>\n",
        "      <td>13.0</td>\n",
        "      <td>1.06</td>\n",
        "    </tr>\n",
        "    <tr>\n",
        "      <th>1931</th>\n",
        "      <td>133.0</td>\n",
        "      <td>99.459011</td>\n",
        "      <td>101.900000</td>\n",
        "      <td>100.133333</td>\n",
        "      <td>93.140187</td>\n",
        "      <td>90.086957</td>\n",
        "      <td>100.020833</td>\n",
        "      <td>142.693482</td>\n",
        "      <td>114.006494</td>\n",
        "      <td>97.453240</td>\n",
        "      <td>...</td>\n",
        "      <td>-2.59</td>\n",
        "      <td>0.80</td>\n",
        "      <td>0</td>\n",
        "      <td>0</td>\n",
        "      <td>1022.64</td>\n",
        "      <td>0</td>\n",
        "      <td>0.45</td>\n",
        "      <td>10.88</td>\n",
        "      <td>21.0</td>\n",
        "      <td>3.14</td>\n",
        "    </tr>\n",
        "    <tr>\n",
        "      <th>1932</th>\n",
        "      <td>463.0</td>\n",
        "      <td>99.459011</td>\n",
        "      <td>213.961905</td>\n",
        "      <td>100.133333</td>\n",
        "      <td>93.140187</td>\n",
        "      <td>308.680000</td>\n",
        "      <td>100.020833</td>\n",
        "      <td>142.693482</td>\n",
        "      <td>312.527174</td>\n",
        "      <td>97.453240</td>\n",
        "      <td>...</td>\n",
        "      <td>-11.32</td>\n",
        "      <td>0.58</td>\n",
        "      <td>1</td>\n",
        "      <td>1</td>\n",
        "      <td>1027.57</td>\n",
        "      <td>1</td>\n",
        "      <td>-4.38</td>\n",
        "      <td>8.67</td>\n",
        "      <td>330.0</td>\n",
        "      <td>1.79</td>\n",
        "    </tr>\n",
        "    <tr>\n",
        "      <th>1933</th>\n",
        "      <td>74.0</td>\n",
        "      <td>99.459011</td>\n",
        "      <td>62.891566</td>\n",
        "      <td>100.133333</td>\n",
        "      <td>93.140187</td>\n",
        "      <td>35.666667</td>\n",
        "      <td>100.020833</td>\n",
        "      <td>142.693482</td>\n",
        "      <td>89.211429</td>\n",
        "      <td>97.453240</td>\n",
        "      <td>...</td>\n",
        "      <td>-11.32</td>\n",
        "      <td>0.58</td>\n",
        "      <td>1</td>\n",
        "      <td>1</td>\n",
        "      <td>1027.57</td>\n",
        "      <td>1</td>\n",
        "      <td>-4.38</td>\n",
        "      <td>8.67</td>\n",
        "      <td>330.0</td>\n",
        "      <td>1.79</td>\n",
        "    </tr>\n",
        "    <tr>\n",
        "      <th>1934</th>\n",
        "      <td>162.0</td>\n",
        "      <td>99.459011</td>\n",
        "      <td>168.569767</td>\n",
        "      <td>100.133333</td>\n",
        "      <td>93.140187</td>\n",
        "      <td>113.434783</td>\n",
        "      <td>100.020833</td>\n",
        "      <td>142.693482</td>\n",
        "      <td>246.490683</td>\n",
        "      <td>97.453240</td>\n",
        "      <td>...</td>\n",
        "      <td>-15.07</td>\n",
        "      <td>0.49</td>\n",
        "      <td>3</td>\n",
        "      <td>1</td>\n",
        "      <td>1017.90</td>\n",
        "      <td>4</td>\n",
        "      <td>-6.11</td>\n",
        "      <td>9.98</td>\n",
        "      <td>330.0</td>\n",
        "      <td>1.79</td>\n",
        "    </tr>\n",
        "    <tr>\n",
        "      <th>1935</th>\n",
        "      <td>126.0</td>\n",
        "      <td>99.459011</td>\n",
        "      <td>121.344828</td>\n",
        "      <td>100.133333</td>\n",
        "      <td>93.140187</td>\n",
        "      <td>72.423077</td>\n",
        "      <td>100.020833</td>\n",
        "      <td>142.693482</td>\n",
        "      <td>188.893939</td>\n",
        "      <td>97.453240</td>\n",
        "      <td>...</td>\n",
        "      <td>-1.11</td>\n",
        "      <td>1.00</td>\n",
        "      <td>2</td>\n",
        "      <td>1</td>\n",
        "      <td>1017.90</td>\n",
        "      <td>3</td>\n",
        "      <td>-1.11</td>\n",
        "      <td>0.97</td>\n",
        "      <td>330.0</td>\n",
        "      <td>1.79</td>\n",
        "    </tr>\n",
        "    <tr>\n",
        "      <th>1936</th>\n",
        "      <td>41.0</td>\n",
        "      <td>99.459011</td>\n",
        "      <td>71.314607</td>\n",
        "      <td>100.133333</td>\n",
        "      <td>93.140187</td>\n",
        "      <td>42.500000</td>\n",
        "      <td>100.020833</td>\n",
        "      <td>142.693482</td>\n",
        "      <td>103.363014</td>\n",
        "      <td>97.453240</td>\n",
        "      <td>...</td>\n",
        "      <td>-2.21</td>\n",
        "      <td>0.49</td>\n",
        "      <td>3</td>\n",
        "      <td>0</td>\n",
        "      <td>1017.90</td>\n",
        "      <td>4</td>\n",
        "      <td>7.75</td>\n",
        "      <td>9.93</td>\n",
        "      <td>159.0</td>\n",
        "      <td>1.78</td>\n",
        "    </tr>\n",
        "    <tr>\n",
        "      <th>1937</th>\n",
        "      <td>126.0</td>\n",
        "      <td>99.459011</td>\n",
        "      <td>129.909091</td>\n",
        "      <td>100.133333</td>\n",
        "      <td>93.140187</td>\n",
        "      <td>85.956522</td>\n",
        "      <td>100.020833</td>\n",
        "      <td>142.693482</td>\n",
        "      <td>190.993243</td>\n",
        "      <td>97.453240</td>\n",
        "      <td>...</td>\n",
        "      <td>-2.07</td>\n",
        "      <td>0.61</td>\n",
        "      <td>3</td>\n",
        "      <td>0</td>\n",
        "      <td>1017.90</td>\n",
        "      <td>4</td>\n",
        "      <td>4.78</td>\n",
        "      <td>10.99</td>\n",
        "      <td>124.0</td>\n",
        "      <td>3.76</td>\n",
        "    </tr>\n",
        "    <tr>\n",
        "      <th>1938</th>\n",
        "      <td>32.0</td>\n",
        "      <td>99.459011</td>\n",
        "      <td>109.017544</td>\n",
        "      <td>100.133333</td>\n",
        "      <td>93.140187</td>\n",
        "      <td>22.777778</td>\n",
        "      <td>100.020833</td>\n",
        "      <td>142.693482</td>\n",
        "      <td>176.529412</td>\n",
        "      <td>97.453240</td>\n",
        "      <td>...</td>\n",
        "      <td>-2.07</td>\n",
        "      <td>0.61</td>\n",
        "      <td>3</td>\n",
        "      <td>0</td>\n",
        "      <td>1017.90</td>\n",
        "      <td>4</td>\n",
        "      <td>4.78</td>\n",
        "      <td>10.99</td>\n",
        "      <td>124.0</td>\n",
        "      <td>3.76</td>\n",
        "    </tr>\n",
        "    <tr>\n",
        "      <th>1939</th>\n",
        "      <td>47.0</td>\n",
        "      <td>99.459011</td>\n",
        "      <td>109.017544</td>\n",
        "      <td>107.442146</td>\n",
        "      <td>93.140187</td>\n",
        "      <td>22.777778</td>\n",
        "      <td>100.020833</td>\n",
        "      <td>123.640722</td>\n",
        "      <td>157.654762</td>\n",
        "      <td>97.453240</td>\n",
        "      <td>...</td>\n",
        "      <td>4.04</td>\n",
        "      <td>0.94</td>\n",
        "      <td>0</td>\n",
        "      <td>0</td>\n",
        "      <td>1018.59</td>\n",
        "      <td>0</td>\n",
        "      <td>4.90</td>\n",
        "      <td>3.40</td>\n",
        "      <td>144.0</td>\n",
        "      <td>0.93</td>\n",
        "    </tr>\n",
        "    <tr>\n",
        "      <th>1940</th>\n",
        "      <td>386.0</td>\n",
        "      <td>99.459011</td>\n",
        "      <td>213.961905</td>\n",
        "      <td>107.442146</td>\n",
        "      <td>93.140187</td>\n",
        "      <td>308.680000</td>\n",
        "      <td>100.020833</td>\n",
        "      <td>123.640722</td>\n",
        "      <td>262.022099</td>\n",
        "      <td>97.453240</td>\n",
        "      <td>...</td>\n",
        "      <td>-13.93</td>\n",
        "      <td>0.37</td>\n",
        "      <td>3</td>\n",
        "      <td>1</td>\n",
        "      <td>1018.59</td>\n",
        "      <td>4</td>\n",
        "      <td>-1.11</td>\n",
        "      <td>9.98</td>\n",
        "      <td>144.0</td>\n",
        "      <td>0.93</td>\n",
        "    </tr>\n",
        "    <tr>\n",
        "      <th>1941</th>\n",
        "      <td>100.0</td>\n",
        "      <td>99.459011</td>\n",
        "      <td>129.909091</td>\n",
        "      <td>107.442146</td>\n",
        "      <td>93.140187</td>\n",
        "      <td>85.956522</td>\n",
        "      <td>100.020833</td>\n",
        "      <td>123.640722</td>\n",
        "      <td>156.597484</td>\n",
        "      <td>97.453240</td>\n",
        "      <td>...</td>\n",
        "      <td>4.04</td>\n",
        "      <td>0.94</td>\n",
        "      <td>0</td>\n",
        "      <td>0</td>\n",
        "      <td>1018.59</td>\n",
        "      <td>0</td>\n",
        "      <td>4.90</td>\n",
        "      <td>3.40</td>\n",
        "      <td>144.0</td>\n",
        "      <td>0.93</td>\n",
        "    </tr>\n",
        "    <tr>\n",
        "      <th>1942</th>\n",
        "      <td>54.0</td>\n",
        "      <td>99.459011</td>\n",
        "      <td>62.891566</td>\n",
        "      <td>107.442146</td>\n",
        "      <td>93.140187</td>\n",
        "      <td>35.666667</td>\n",
        "      <td>100.020833</td>\n",
        "      <td>123.640722</td>\n",
        "      <td>81.754491</td>\n",
        "      <td>97.453240</td>\n",
        "      <td>...</td>\n",
        "      <td>-13.93</td>\n",
        "      <td>0.37</td>\n",
        "      <td>3</td>\n",
        "      <td>1</td>\n",
        "      <td>1025.13</td>\n",
        "      <td>4</td>\n",
        "      <td>-1.11</td>\n",
        "      <td>9.98</td>\n",
        "      <td>320.0</td>\n",
        "      <td>3.13</td>\n",
        "    </tr>\n",
        "    <tr>\n",
        "      <th>1943</th>\n",
        "      <td>79.0</td>\n",
        "      <td>99.459011</td>\n",
        "      <td>121.344828</td>\n",
        "      <td>107.442146</td>\n",
        "      <td>93.140187</td>\n",
        "      <td>72.423077</td>\n",
        "      <td>100.020833</td>\n",
        "      <td>123.640722</td>\n",
        "      <td>153.112782</td>\n",
        "      <td>97.453240</td>\n",
        "      <td>...</td>\n",
        "      <td>-1.14</td>\n",
        "      <td>0.92</td>\n",
        "      <td>0</td>\n",
        "      <td>1</td>\n",
        "      <td>1025.13</td>\n",
        "      <td>0</td>\n",
        "      <td>0.00</td>\n",
        "      <td>3.22</td>\n",
        "      <td>320.0</td>\n",
        "      <td>3.13</td>\n",
        "    </tr>\n",
        "    <tr>\n",
        "      <th>1944</th>\n",
        "      <td>60.0</td>\n",
        "      <td>99.459011</td>\n",
        "      <td>71.314607</td>\n",
        "      <td>107.442146</td>\n",
        "      <td>93.140187</td>\n",
        "      <td>42.500000</td>\n",
        "      <td>100.020833</td>\n",
        "      <td>123.640722</td>\n",
        "      <td>84.793893</td>\n",
        "      <td>97.453240</td>\n",
        "      <td>...</td>\n",
        "      <td>2.98</td>\n",
        "      <td>0.61</td>\n",
        "      <td>0</td>\n",
        "      <td>0</td>\n",
        "      <td>1025.13</td>\n",
        "      <td>0</td>\n",
        "      <td>10.05</td>\n",
        "      <td>10.04</td>\n",
        "      <td>130.0</td>\n",
        "      <td>3.13</td>\n",
        "    </tr>\n",
        "    <tr>\n",
        "      <th>1945</th>\n",
        "      <td>122.0</td>\n",
        "      <td>99.459011</td>\n",
        "      <td>168.569767</td>\n",
        "      <td>107.442146</td>\n",
        "      <td>93.140187</td>\n",
        "      <td>113.434783</td>\n",
        "      <td>100.020833</td>\n",
        "      <td>123.640722</td>\n",
        "      <td>203.006211</td>\n",
        "      <td>97.453240</td>\n",
        "      <td>...</td>\n",
        "      <td>-12.26</td>\n",
        "      <td>0.46</td>\n",
        "      <td>3</td>\n",
        "      <td>1</td>\n",
        "      <td>1025.13</td>\n",
        "      <td>4</td>\n",
        "      <td>-2.22</td>\n",
        "      <td>9.98</td>\n",
        "      <td>160.0</td>\n",
        "      <td>4.92</td>\n",
        "    </tr>\n",
        "    <tr>\n",
        "      <th>1946</th>\n",
        "      <td>53.0</td>\n",
        "      <td>99.459011</td>\n",
        "      <td>60.228261</td>\n",
        "      <td>107.442146</td>\n",
        "      <td>93.140187</td>\n",
        "      <td>50.115385</td>\n",
        "      <td>100.020833</td>\n",
        "      <td>123.640722</td>\n",
        "      <td>85.597315</td>\n",
        "      <td>97.453240</td>\n",
        "      <td>...</td>\n",
        "      <td>-4.66</td>\n",
        "      <td>0.75</td>\n",
        "      <td>1</td>\n",
        "      <td>1</td>\n",
        "      <td>1025.13</td>\n",
        "      <td>1</td>\n",
        "      <td>-0.79</td>\n",
        "      <td>10.12</td>\n",
        "      <td>48.0</td>\n",
        "      <td>0.86</td>\n",
        "    </tr>\n",
        "    <tr>\n",
        "      <th>1947</th>\n",
        "      <td>69.0</td>\n",
        "      <td>99.459011</td>\n",
        "      <td>101.900000</td>\n",
        "      <td>107.442146</td>\n",
        "      <td>93.140187</td>\n",
        "      <td>90.086957</td>\n",
        "      <td>100.020833</td>\n",
        "      <td>123.640722</td>\n",
        "      <td>95.855072</td>\n",
        "      <td>97.453240</td>\n",
        "      <td>...</td>\n",
        "      <td>-3.61</td>\n",
        "      <td>0.88</td>\n",
        "      <td>0</td>\n",
        "      <td>1</td>\n",
        "      <td>1026.05</td>\n",
        "      <td>0</td>\n",
        "      <td>-1.88</td>\n",
        "      <td>7.87</td>\n",
        "      <td>35.0</td>\n",
        "      <td>1.70</td>\n",
        "    </tr>\n",
        "    <tr>\n",
        "      <th>1948</th>\n",
        "      <td>70.0</td>\n",
        "      <td>99.459011</td>\n",
        "      <td>129.909091</td>\n",
        "      <td>108.351462</td>\n",
        "      <td>93.140187</td>\n",
        "      <td>85.956522</td>\n",
        "      <td>94.701754</td>\n",
        "      <td>86.619073</td>\n",
        "      <td>116.530612</td>\n",
        "      <td>97.453240</td>\n",
        "      <td>...</td>\n",
        "      <td>4.60</td>\n",
        "      <td>1.00</td>\n",
        "      <td>2</td>\n",
        "      <td>0</td>\n",
        "      <td>1025.32</td>\n",
        "      <td>3</td>\n",
        "      <td>4.60</td>\n",
        "      <td>1.95</td>\n",
        "      <td>35.0</td>\n",
        "      <td>1.04</td>\n",
        "    </tr>\n",
        "    <tr>\n",
        "      <th>1949</th>\n",
        "      <td>266.0</td>\n",
        "      <td>99.459011</td>\n",
        "      <td>213.961905</td>\n",
        "      <td>108.351462</td>\n",
        "      <td>93.140187</td>\n",
        "      <td>308.680000</td>\n",
        "      <td>94.701754</td>\n",
        "      <td>86.619073</td>\n",
        "      <td>203.937143</td>\n",
        "      <td>97.453240</td>\n",
        "      <td>...</td>\n",
        "      <td>-10.12</td>\n",
        "      <td>0.38</td>\n",
        "      <td>3</td>\n",
        "      <td>0</td>\n",
        "      <td>1027.23</td>\n",
        "      <td>4</td>\n",
        "      <td>2.78</td>\n",
        "      <td>9.98</td>\n",
        "      <td>180.0</td>\n",
        "      <td>3.13</td>\n",
        "    </tr>\n",
        "    <tr>\n",
        "      <th>1950</th>\n",
        "      <td>84.0</td>\n",
        "      <td>99.459011</td>\n",
        "      <td>168.569767</td>\n",
        "      <td>108.351462</td>\n",
        "      <td>93.140187</td>\n",
        "      <td>113.434783</td>\n",
        "      <td>94.701754</td>\n",
        "      <td>86.619073</td>\n",
        "      <td>139.371795</td>\n",
        "      <td>97.453240</td>\n",
        "      <td>...</td>\n",
        "      <td>-3.99</td>\n",
        "      <td>0.61</td>\n",
        "      <td>3</td>\n",
        "      <td>0</td>\n",
        "      <td>1027.23</td>\n",
        "      <td>4</td>\n",
        "      <td>2.78</td>\n",
        "      <td>9.98</td>\n",
        "      <td>170.0</td>\n",
        "      <td>5.81</td>\n",
        "    </tr>\n",
        "    <tr>\n",
        "      <th>1951</th>\n",
        "      <td>32.0</td>\n",
        "      <td>99.459011</td>\n",
        "      <td>71.314607</td>\n",
        "      <td>108.351462</td>\n",
        "      <td>93.140187</td>\n",
        "      <td>42.500000</td>\n",
        "      <td>94.701754</td>\n",
        "      <td>86.619073</td>\n",
        "      <td>65.170213</td>\n",
        "      <td>97.453240</td>\n",
        "      <td>...</td>\n",
        "      <td>6.21</td>\n",
        "      <td>0.83</td>\n",
        "      <td>1</td>\n",
        "      <td>0</td>\n",
        "      <td>1027.23</td>\n",
        "      <td>2</td>\n",
        "      <td>8.94</td>\n",
        "      <td>7.08</td>\n",
        "      <td>12.0</td>\n",
        "      <td>3.98</td>\n",
        "    </tr>\n",
        "    <tr>\n",
        "      <th>1952</th>\n",
        "      <td>89.0</td>\n",
        "      <td>99.459011</td>\n",
        "      <td>101.900000</td>\n",
        "      <td>108.351462</td>\n",
        "      <td>93.140187</td>\n",
        "      <td>90.086957</td>\n",
        "      <td>94.701754</td>\n",
        "      <td>86.619073</td>\n",
        "      <td>77.164286</td>\n",
        "      <td>97.453240</td>\n",
        "      <td>...</td>\n",
        "      <td>-4.60</td>\n",
        "      <td>0.77</td>\n",
        "      <td>1</td>\n",
        "      <td>1</td>\n",
        "      <td>1027.23</td>\n",
        "      <td>2</td>\n",
        "      <td>-1.11</td>\n",
        "      <td>10.88</td>\n",
        "      <td>28.0</td>\n",
        "      <td>3.87</td>\n",
        "    </tr>\n",
        "    <tr>\n",
        "      <th>1953</th>\n",
        "      <td>48.0</td>\n",
        "      <td>99.459011</td>\n",
        "      <td>60.228261</td>\n",
        "      <td>108.351462</td>\n",
        "      <td>93.140187</td>\n",
        "      <td>50.115385</td>\n",
        "      <td>94.701754</td>\n",
        "      <td>86.619073</td>\n",
        "      <td>53.694444</td>\n",
        "      <td>97.453240</td>\n",
        "      <td>...</td>\n",
        "      <td>-7.56</td>\n",
        "      <td>0.65</td>\n",
        "      <td>3</td>\n",
        "      <td>1</td>\n",
        "      <td>1030.54</td>\n",
        "      <td>4</td>\n",
        "      <td>-1.87</td>\n",
        "      <td>15.47</td>\n",
        "      <td>329.0</td>\n",
        "      <td>0.76</td>\n",
        "    </tr>\n",
        "    <tr>\n",
        "      <th>1954</th>\n",
        "      <td>43.0</td>\n",
        "      <td>99.459011</td>\n",
        "      <td>62.891566</td>\n",
        "      <td>108.351462</td>\n",
        "      <td>93.140187</td>\n",
        "      <td>35.666667</td>\n",
        "      <td>94.701754</td>\n",
        "      <td>86.619073</td>\n",
        "      <td>56.887574</td>\n",
        "      <td>97.453240</td>\n",
        "      <td>...</td>\n",
        "      <td>-10.12</td>\n",
        "      <td>0.38</td>\n",
        "      <td>3</td>\n",
        "      <td>0</td>\n",
        "      <td>1025.32</td>\n",
        "      <td>4</td>\n",
        "      <td>2.78</td>\n",
        "      <td>9.98</td>\n",
        "      <td>180.0</td>\n",
        "      <td>3.13</td>\n",
        "    </tr>\n",
        "    <tr>\n",
        "      <th>1955</th>\n",
        "      <td>85.0</td>\n",
        "      <td>99.459011</td>\n",
        "      <td>121.344828</td>\n",
        "      <td>108.351462</td>\n",
        "      <td>93.140187</td>\n",
        "      <td>72.423077</td>\n",
        "      <td>94.701754</td>\n",
        "      <td>86.619073</td>\n",
        "      <td>117.769231</td>\n",
        "      <td>97.453240</td>\n",
        "      <td>...</td>\n",
        "      <td>-3.89</td>\n",
        "      <td>0.75</td>\n",
        "      <td>0</td>\n",
        "      <td>1</td>\n",
        "      <td>1025.32</td>\n",
        "      <td>0</td>\n",
        "      <td>0.00</td>\n",
        "      <td>11.27</td>\n",
        "      <td>0.0</td>\n",
        "      <td>4.02</td>\n",
        "    </tr>\n",
        "    <tr>\n",
        "      <th>1956</th>\n",
        "      <td>29.0</td>\n",
        "      <td>99.459011</td>\n",
        "      <td>109.017544</td>\n",
        "      <td>108.351462</td>\n",
        "      <td>93.140187</td>\n",
        "      <td>22.777778</td>\n",
        "      <td>94.701754</td>\n",
        "      <td>86.619073</td>\n",
        "      <td>120.430233</td>\n",
        "      <td>97.453240</td>\n",
        "      <td>...</td>\n",
        "      <td>4.60</td>\n",
        "      <td>1.00</td>\n",
        "      <td>2</td>\n",
        "      <td>0</td>\n",
        "      <td>1025.32</td>\n",
        "      <td>3</td>\n",
        "      <td>4.60</td>\n",
        "      <td>1.95</td>\n",
        "      <td>35.0</td>\n",
        "      <td>1.04</td>\n",
        "    </tr>\n",
        "    <tr>\n",
        "      <th>1957</th>\n",
        "      <td>238.0</td>\n",
        "      <td>99.459011</td>\n",
        "      <td>213.961905</td>\n",
        "      <td>103.290323</td>\n",
        "      <td>93.140187</td>\n",
        "      <td>308.680000</td>\n",
        "      <td>94.701754</td>\n",
        "      <td>87.286115</td>\n",
        "      <td>198.868852</td>\n",
        "      <td>97.453240</td>\n",
        "      <td>...</td>\n",
        "      <td>-1.08</td>\n",
        "      <td>0.70</td>\n",
        "      <td>3</td>\n",
        "      <td>0</td>\n",
        "      <td>1025.32</td>\n",
        "      <td>4</td>\n",
        "      <td>3.89</td>\n",
        "      <td>9.98</td>\n",
        "      <td>200.0</td>\n",
        "      <td>4.02</td>\n",
        "    </tr>\n",
        "    <tr>\n",
        "      <th>1959</th>\n",
        "      <td>31.0</td>\n",
        "      <td>99.459011</td>\n",
        "      <td>62.891566</td>\n",
        "      <td>103.290323</td>\n",
        "      <td>93.140187</td>\n",
        "      <td>35.666667</td>\n",
        "      <td>94.701754</td>\n",
        "      <td>87.286115</td>\n",
        "      <td>52.892216</td>\n",
        "      <td>97.453240</td>\n",
        "      <td>...</td>\n",
        "      <td>-1.08</td>\n",
        "      <td>0.70</td>\n",
        "      <td>3</td>\n",
        "      <td>0</td>\n",
        "      <td>1025.32</td>\n",
        "      <td>4</td>\n",
        "      <td>3.89</td>\n",
        "      <td>9.98</td>\n",
        "      <td>200.0</td>\n",
        "      <td>4.02</td>\n",
        "    </tr>\n",
        "  </tbody>\n",
        "</table>\n",
        "<p>1444 rows \u00d7 32 columns</p>\n",
        "</div>"
       ],
       "metadata": {},
       "output_type": "pyout",
       "prompt_number": 110,
       "text": [
        "      Count  MeanForMonth  MeanForMonthByPoints  MeanForMonthDay  \\\n",
        "0       8.0    112.145788            259.317757       104.137491   \n",
        "1      88.0    112.145788            259.317757       107.172263   \n",
        "2       1.0    112.145788            259.317757       107.880699   \n",
        "3       1.0    104.213605            257.108696       108.351462   \n",
        "5      43.0    105.650704            230.669643       107.880699   \n",
        "6      10.0    105.650704            230.669643       102.119765   \n",
        "7       1.0    105.650704            230.669643       102.062201   \n",
        "8      60.0    105.650704            230.669643       100.133333   \n",
        "10     96.0    105.650704            230.669643       108.351462   \n",
        "11    134.0    105.650704            230.669643       103.290323   \n",
        "12    112.0    105.650704            230.669643       105.817130   \n",
        "13    100.0    105.650704            230.669643        99.619893   \n",
        "15     73.0    105.650704            230.669643       109.836940   \n",
        "16     94.0    105.650704            230.669643       104.622352   \n",
        "17     94.0    105.650704            230.669643       106.173509   \n",
        "18    129.0    105.650704            230.669643       108.850467   \n",
        "19    164.0    105.650704            230.669643       107.476531   \n",
        "20    122.0    105.650704            230.669643       104.337815   \n",
        "23    128.0    105.650704            230.669643       103.456647   \n",
        "24    172.0    105.650704            230.669643       105.357430   \n",
        "25    223.0    105.650704            230.669643       113.251908   \n",
        "26     68.0    105.650704            230.669643       102.614765   \n",
        "28    169.0    107.562911            247.852174       105.307387   \n",
        "30    130.0    107.562911            247.852174       105.960446   \n",
        "31    119.0    107.562911            247.852174       104.449664   \n",
        "32    128.0    107.562911            247.852174       104.137491   \n",
        "33    128.0    107.562911            247.852174       107.172263   \n",
        "34    136.0    107.562911            247.852174       109.919853   \n",
        "35    105.0    107.562911            247.852174       107.880699   \n",
        "36    129.0    107.562911            247.852174       102.119765   \n",
        "...     ...           ...                   ...              ...   \n",
        "1929   18.0     99.459011            109.017544       102.014461   \n",
        "1930   70.0     99.459011             60.228261       100.133333   \n",
        "1931  133.0     99.459011            101.900000       100.133333   \n",
        "1932  463.0     99.459011            213.961905       100.133333   \n",
        "1933   74.0     99.459011             62.891566       100.133333   \n",
        "1934  162.0     99.459011            168.569767       100.133333   \n",
        "1935  126.0     99.459011            121.344828       100.133333   \n",
        "1936   41.0     99.459011             71.314607       100.133333   \n",
        "1937  126.0     99.459011            129.909091       100.133333   \n",
        "1938   32.0     99.459011            109.017544       100.133333   \n",
        "1939   47.0     99.459011            109.017544       107.442146   \n",
        "1940  386.0     99.459011            213.961905       107.442146   \n",
        "1941  100.0     99.459011            129.909091       107.442146   \n",
        "1942   54.0     99.459011             62.891566       107.442146   \n",
        "1943   79.0     99.459011            121.344828       107.442146   \n",
        "1944   60.0     99.459011             71.314607       107.442146   \n",
        "1945  122.0     99.459011            168.569767       107.442146   \n",
        "1946   53.0     99.459011             60.228261       107.442146   \n",
        "1947   69.0     99.459011            101.900000       107.442146   \n",
        "1948   70.0     99.459011            129.909091       108.351462   \n",
        "1949  266.0     99.459011            213.961905       108.351462   \n",
        "1950   84.0     99.459011            168.569767       108.351462   \n",
        "1951   32.0     99.459011             71.314607       108.351462   \n",
        "1952   89.0     99.459011            101.900000       108.351462   \n",
        "1953   48.0     99.459011             60.228261       108.351462   \n",
        "1954   43.0     99.459011             62.891566       108.351462   \n",
        "1955   85.0     99.459011            121.344828       108.351462   \n",
        "1956   29.0     99.459011            109.017544       108.351462   \n",
        "1957  238.0     99.459011            213.961905       103.290323   \n",
        "1959   31.0     99.459011             62.891566       103.290323   \n",
        "\n",
        "      MeanForThroughMonth  MeanForThroughMonthByPoints  MeanForThroughWeek  \\\n",
        "0               32.333333                    32.333333           32.333333   \n",
        "1               32.333333                    32.333333           32.333333   \n",
        "2               32.333333                    32.333333           32.333333   \n",
        "3                1.000000                     1.000000            1.000000   \n",
        "5              101.277778                   101.277778           18.000000   \n",
        "6              101.277778                   101.277778           18.000000   \n",
        "7              101.277778                   101.277778           18.000000   \n",
        "8              101.277778                   101.277778          100.400000   \n",
        "10             101.277778                   101.277778          100.400000   \n",
        "11             101.277778                   101.277778          100.400000   \n",
        "12             101.277778                   101.277778          100.400000   \n",
        "13             101.277778                   101.277778          100.400000   \n",
        "15             101.277778                   101.277778          112.666667   \n",
        "16             101.277778                   101.277778          112.666667   \n",
        "17             101.277778                   101.277778          112.666667   \n",
        "18             101.277778                   101.277778          112.666667   \n",
        "19             101.277778                   101.277778          112.666667   \n",
        "20             101.277778                   101.277778          112.666667   \n",
        "23             101.277778                   101.277778          147.750000   \n",
        "24             101.277778                   101.277778          147.750000   \n",
        "25             101.277778                   101.277778          147.750000   \n",
        "26             101.277778                   101.277778          147.750000   \n",
        "28             134.458333                   134.458333          135.000000   \n",
        "30             134.458333                   134.458333          135.000000   \n",
        "31             134.458333                   134.458333          135.000000   \n",
        "32             134.458333                   134.458333          135.000000   \n",
        "33             134.458333                   134.458333          135.000000   \n",
        "34             134.458333                   134.458333          135.000000   \n",
        "35             134.458333                   134.458333          134.600000   \n",
        "36             134.458333                   134.458333          134.600000   \n",
        "...                   ...                          ...                 ...   \n",
        "1929            93.140187                    22.777778          100.020833   \n",
        "1930            93.140187                    50.115385          100.020833   \n",
        "1931            93.140187                    90.086957          100.020833   \n",
        "1932            93.140187                   308.680000          100.020833   \n",
        "1933            93.140187                    35.666667          100.020833   \n",
        "1934            93.140187                   113.434783          100.020833   \n",
        "1935            93.140187                    72.423077          100.020833   \n",
        "1936            93.140187                    42.500000          100.020833   \n",
        "1937            93.140187                    85.956522          100.020833   \n",
        "1938            93.140187                    22.777778          100.020833   \n",
        "1939            93.140187                    22.777778          100.020833   \n",
        "1940            93.140187                   308.680000          100.020833   \n",
        "1941            93.140187                    85.956522          100.020833   \n",
        "1942            93.140187                    35.666667          100.020833   \n",
        "1943            93.140187                    72.423077          100.020833   \n",
        "1944            93.140187                    42.500000          100.020833   \n",
        "1945            93.140187                   113.434783          100.020833   \n",
        "1946            93.140187                    50.115385          100.020833   \n",
        "1947            93.140187                    90.086957          100.020833   \n",
        "1948            93.140187                    85.956522           94.701754   \n",
        "1949            93.140187                   308.680000           94.701754   \n",
        "1950            93.140187                   113.434783           94.701754   \n",
        "1951            93.140187                    42.500000           94.701754   \n",
        "1952            93.140187                    90.086957           94.701754   \n",
        "1953            93.140187                    50.115385           94.701754   \n",
        "1954            93.140187                    35.666667           94.701754   \n",
        "1955            93.140187                    72.423077           94.701754   \n",
        "1956            93.140187                    22.777778           94.701754   \n",
        "1957            93.140187                   308.680000           94.701754   \n",
        "1959            93.140187                    35.666667           94.701754   \n",
        "\n",
        "      MeanForWeekDay  MeanForWeekDayByPoints  MeanForYear    ...      \\\n",
        "0          90.875335              214.426230    87.318182    ...       \n",
        "1         123.721962              291.581522    87.318182    ...       \n",
        "2         123.640722              262.022099    87.318182    ...       \n",
        "3          87.286115              198.868852    87.318182    ...       \n",
        "5         123.721962              291.581522    87.318182    ...       \n",
        "6         142.693482              312.527174    87.318182    ...       \n",
        "7         123.640722              262.022099    87.318182    ...       \n",
        "8          87.286115              198.868852    87.318182    ...       \n",
        "10         90.875335              214.426230    87.318182    ...       \n",
        "11        123.721962              291.581522    87.318182    ...       \n",
        "12        142.693482              312.527174    87.318182    ...       \n",
        "13        123.640722              262.022099    87.318182    ...       \n",
        "15         87.286115              198.868852    87.318182    ...       \n",
        "16         87.164051              200.978495    87.318182    ...       \n",
        "17         90.875335              214.426230    87.318182    ...       \n",
        "18        123.721962              291.581522    87.318182    ...       \n",
        "19        142.693482              312.527174    87.318182    ...       \n",
        "20        123.640722              262.022099    87.318182    ...       \n",
        "23         87.164051              200.978495    87.318182    ...       \n",
        "24         90.875335              214.426230    87.318182    ...       \n",
        "25        123.721962              291.581522    87.318182    ...       \n",
        "26        142.693482              312.527174    87.318182    ...       \n",
        "28         86.619073              203.937143   106.084472    ...       \n",
        "30         87.164051              200.978495   106.084472    ...       \n",
        "31         90.875335              214.426230   106.084472    ...       \n",
        "32        123.721962              291.581522   106.084472    ...       \n",
        "33        142.693482              312.527174   106.084472    ...       \n",
        "34        123.640722              262.022099   106.084472    ...       \n",
        "35         86.619073              203.937143   106.084472    ...       \n",
        "36         87.286115              198.868852   106.084472    ...       \n",
        "...              ...                     ...          ...    ...       \n",
        "1929      123.721962              150.319588    97.453240    ...       \n",
        "1930      142.693482              102.012270    97.453240    ...       \n",
        "1931      142.693482              114.006494    97.453240    ...       \n",
        "1932      142.693482              312.527174    97.453240    ...       \n",
        "1933      142.693482               89.211429    97.453240    ...       \n",
        "1934      142.693482              246.490683    97.453240    ...       \n",
        "1935      142.693482              188.893939    97.453240    ...       \n",
        "1936      142.693482              103.363014    97.453240    ...       \n",
        "1937      142.693482              190.993243    97.453240    ...       \n",
        "1938      142.693482              176.529412    97.453240    ...       \n",
        "1939      123.640722              157.654762    97.453240    ...       \n",
        "1940      123.640722              262.022099    97.453240    ...       \n",
        "1941      123.640722              156.597484    97.453240    ...       \n",
        "1942      123.640722               81.754491    97.453240    ...       \n",
        "1943      123.640722              153.112782    97.453240    ...       \n",
        "1944      123.640722               84.793893    97.453240    ...       \n",
        "1945      123.640722              203.006211    97.453240    ...       \n",
        "1946      123.640722               85.597315    97.453240    ...       \n",
        "1947      123.640722               95.855072    97.453240    ...       \n",
        "1948       86.619073              116.530612    97.453240    ...       \n",
        "1949       86.619073              203.937143    97.453240    ...       \n",
        "1950       86.619073              139.371795    97.453240    ...       \n",
        "1951       86.619073               65.170213    97.453240    ...       \n",
        "1952       86.619073               77.164286    97.453240    ...       \n",
        "1953       86.619073               53.694444    97.453240    ...       \n",
        "1954       86.619073               56.887574    97.453240    ...       \n",
        "1955       86.619073              117.769231    97.453240    ...       \n",
        "1956       86.619073              120.430233    97.453240    ...       \n",
        "1957       87.286115              198.868852    97.453240    ...       \n",
        "1959       87.286115               52.892216    97.453240    ...       \n",
        "\n",
        "      dewPoint  humidity  icon  precipType  pressure  summary  temperature  \\\n",
        "0         4.13      0.94     0           0    990.66        0         4.95   \n",
        "1         5.04      0.86     0           0   1007.93        0         7.22   \n",
        "2         8.08      0.90     1           0   1007.93        1         9.71   \n",
        "3        -1.32      0.98     0           1    988.27        0        -1.04   \n",
        "5        -4.04      0.89     0           1   1026.65        0        -2.44   \n",
        "6        -6.47      0.86     0           1   1026.66        0        -4.43   \n",
        "7        -8.93      0.88     0           1   1018.29        0        -7.28   \n",
        "8       -11.34      0.88     0           1   1017.16        0        -9.77   \n",
        "10      -11.45      0.84     0           1   1024.86        0        -9.23   \n",
        "11       -6.72      0.94     0           1   1022.50        0        -5.90   \n",
        "12       -0.59      0.96     0           1   1020.28        0        -0.02   \n",
        "13       -8.57      0.78     1           1   1024.57        1        -5.27   \n",
        "15       -9.20      0.86     0           1   1026.08        0        -7.28   \n",
        "16      -10.42      0.82     1           1   1027.67        2        -7.85   \n",
        "17       -8.03      0.94     2           1   1020.49        3        -7.23   \n",
        "18       -8.83      0.90     0           1   1015.72        0        -7.49   \n",
        "19       -9.92      0.90     0           1   1013.33        0        -8.59   \n",
        "20      -17.13      0.83     1           1   1014.45        2       -14.87   \n",
        "23       -5.02      0.94     0           1    977.68        0        -4.22   \n",
        "24       -8.37      0.88     1           1    986.71        2        -6.73   \n",
        "25       -6.11      0.92     0           1   1000.90        0        -5.01   \n",
        "26       -2.27      0.98     0           1   1008.09        0        -1.99   \n",
        "28       -6.09      0.92     0           1   1022.03        0        -4.99   \n",
        "30      -12.52      0.91     0           1   1017.32        0       -11.39   \n",
        "31       -9.48      0.90     0           1   1006.14        0        -8.14   \n",
        "32       -4.57      0.94     0           1   1000.49        0        -3.77   \n",
        "33       -0.91      0.94     2           1   1010.80        3        -0.06   \n",
        "34       -6.19      0.88     2           1   1010.82        3        -4.46   \n",
        "35       -4.09      0.88     1           1   1023.30        1        -2.40   \n",
        "36       -8.29      0.92     0           1   1024.27        0        -7.22   \n",
        "...        ...       ...   ...         ...       ...      ...          ...   \n",
        "1929     -5.53      0.54     3           0   1019.42        4         2.88   \n",
        "1930     -3.34      0.79     1           1   1022.96        2        -0.19   \n",
        "1931     -2.59      0.80     0           0   1022.64        0         0.45   \n",
        "1932    -11.32      0.58     1           1   1027.57        1        -4.38   \n",
        "1933    -11.32      0.58     1           1   1027.57        1        -4.38   \n",
        "1934    -15.07      0.49     3           1   1017.90        4        -6.11   \n",
        "1935     -1.11      1.00     2           1   1017.90        3        -1.11   \n",
        "1936     -2.21      0.49     3           0   1017.90        4         7.75   \n",
        "1937     -2.07      0.61     3           0   1017.90        4         4.78   \n",
        "1938     -2.07      0.61     3           0   1017.90        4         4.78   \n",
        "1939      4.04      0.94     0           0   1018.59        0         4.90   \n",
        "1940    -13.93      0.37     3           1   1018.59        4        -1.11   \n",
        "1941      4.04      0.94     0           0   1018.59        0         4.90   \n",
        "1942    -13.93      0.37     3           1   1025.13        4        -1.11   \n",
        "1943     -1.14      0.92     0           1   1025.13        0         0.00   \n",
        "1944      2.98      0.61     0           0   1025.13        0        10.05   \n",
        "1945    -12.26      0.46     3           1   1025.13        4        -2.22   \n",
        "1946     -4.66      0.75     1           1   1025.13        1        -0.79   \n",
        "1947     -3.61      0.88     0           1   1026.05        0        -1.88   \n",
        "1948      4.60      1.00     2           0   1025.32        3         4.60   \n",
        "1949    -10.12      0.38     3           0   1027.23        4         2.78   \n",
        "1950     -3.99      0.61     3           0   1027.23        4         2.78   \n",
        "1951      6.21      0.83     1           0   1027.23        2         8.94   \n",
        "1952     -4.60      0.77     1           1   1027.23        2        -1.11   \n",
        "1953     -7.56      0.65     3           1   1030.54        4        -1.87   \n",
        "1954    -10.12      0.38     3           0   1025.32        4         2.78   \n",
        "1955     -3.89      0.75     0           1   1025.32        0         0.00   \n",
        "1956      4.60      1.00     2           0   1025.32        3         4.60   \n",
        "1957     -1.08      0.70     3           0   1025.32        4         3.89   \n",
        "1959     -1.08      0.70     3           0   1025.32        4         3.89   \n",
        "\n",
        "      visibility  windBearing  windSpeed  \n",
        "0           8.32        195.0       4.05  \n",
        "1          11.27        240.0       3.13  \n",
        "2           8.48        229.0       1.82  \n",
        "3           5.63        205.0       4.14  \n",
        "5           9.06        188.0       0.89  \n",
        "6          10.61        163.0       2.45  \n",
        "7           8.42        173.0       4.10  \n",
        "8           8.40        192.0       3.49  \n",
        "10         10.80        170.0       3.61  \n",
        "11          7.19        162.0       2.77  \n",
        "12          5.36        163.0       4.47  \n",
        "13          8.64        181.0       5.11  \n",
        "15         10.81        197.0       4.44  \n",
        "16          9.16        203.0       4.36  \n",
        "17          2.30        179.0       2.56  \n",
        "18          8.34        169.0       0.96  \n",
        "19          9.46        155.0       0.89  \n",
        "20          8.50        206.0       1.35  \n",
        "23          5.15        171.0       2.51  \n",
        "24         10.51        325.0       3.13  \n",
        "25         10.80        215.0       3.52  \n",
        "26         11.02        200.0       3.99  \n",
        "28          9.01        205.0       1.32  \n",
        "30          9.17         52.0       0.87  \n",
        "31          7.61        164.0       3.59  \n",
        "32          7.31        192.0       2.77  \n",
        "33          2.54        179.0       2.48  \n",
        "34          2.37        194.0       5.57  \n",
        "35         10.57        219.0       3.59  \n",
        "36          8.59        166.0       3.08  \n",
        "...          ...          ...        ...  \n",
        "1929       10.98        128.0       3.06  \n",
        "1930       15.47         13.0       1.06  \n",
        "1931       10.88         21.0       3.14  \n",
        "1932        8.67        330.0       1.79  \n",
        "1933        8.67        330.0       1.79  \n",
        "1934        9.98        330.0       1.79  \n",
        "1935        0.97        330.0       1.79  \n",
        "1936        9.93        159.0       1.78  \n",
        "1937       10.99        124.0       3.76  \n",
        "1938       10.99        124.0       3.76  \n",
        "1939        3.40        144.0       0.93  \n",
        "1940        9.98        144.0       0.93  \n",
        "1941        3.40        144.0       0.93  \n",
        "1942        9.98        320.0       3.13  \n",
        "1943        3.22        320.0       3.13  \n",
        "1944       10.04        130.0       3.13  \n",
        "1945        9.98        160.0       4.92  \n",
        "1946       10.12         48.0       0.86  \n",
        "1947        7.87         35.0       1.70  \n",
        "1948        1.95         35.0       1.04  \n",
        "1949        9.98        180.0       3.13  \n",
        "1950        9.98        170.0       5.81  \n",
        "1951        7.08         12.0       3.98  \n",
        "1952       10.88         28.0       3.87  \n",
        "1953       15.47        329.0       0.76  \n",
        "1954        9.98        180.0       3.13  \n",
        "1955       11.27          0.0       4.02  \n",
        "1956        1.95         35.0       1.04  \n",
        "1957        9.98        200.0       4.02  \n",
        "1959        9.98        200.0       4.02  \n",
        "\n",
        "[1444 rows x 32 columns]"
       ]
      }
     ],
     "prompt_number": 110
    },
    {
     "cell_type": "code",
     "collapsed": false,
     "input": [
      "model = RandomForestRegressor()\n",
      "model.fit(X_train, y_train)\n",
      "pred = model.predict(X_test)\n",
      "print (mae(pred, y_test))\n"
     ],
     "language": "python",
     "metadata": {},
     "outputs": [
      {
       "output_type": "stream",
       "stream": "stdout",
       "text": [
        "17.9131818182\n"
       ]
      }
     ],
     "prompt_number": 111
    },
    {
     "cell_type": "code",
     "collapsed": false,
     "input": [
      "f = pd.DataFrame()\n",
      "f['val'] = model.feature_importances_\n",
      "f['Name'] = dataTrain.columns.difference(['Count'])\n",
      "f.sort_values(by='val')"
     ],
     "language": "python",
     "metadata": {},
     "outputs": [
      {
       "html": [
        "<div>\n",
        "<table border=\"1\" class=\"dataframe\">\n",
        "  <thead>\n",
        "    <tr style=\"text-align: right;\">\n",
        "      <th></th>\n",
        "      <th>val</th>\n",
        "      <th>Name</th>\n",
        "    </tr>\n",
        "  </thead>\n",
        "  <tbody>\n",
        "    <tr>\n",
        "      <th>24</th>\n",
        "      <td>0.000083</td>\n",
        "      <td>precipType</td>\n",
        "    </tr>\n",
        "    <tr>\n",
        "      <th>17</th>\n",
        "      <td>0.000110</td>\n",
        "      <td>Year</td>\n",
        "    </tr>\n",
        "    <tr>\n",
        "      <th>23</th>\n",
        "      <td>0.000277</td>\n",
        "      <td>icon</td>\n",
        "    </tr>\n",
        "    <tr>\n",
        "      <th>8</th>\n",
        "      <td>0.000320</td>\n",
        "      <td>MeanForYear</td>\n",
        "    </tr>\n",
        "    <tr>\n",
        "      <th>3</th>\n",
        "      <td>0.000366</td>\n",
        "      <td>MeanForThroughMonth</td>\n",
        "    </tr>\n",
        "    <tr>\n",
        "      <th>26</th>\n",
        "      <td>0.000548</td>\n",
        "      <td>summary</td>\n",
        "    </tr>\n",
        "    <tr>\n",
        "      <th>11</th>\n",
        "      <td>0.000636</td>\n",
        "      <td>Month</td>\n",
        "    </tr>\n",
        "    <tr>\n",
        "      <th>0</th>\n",
        "      <td>0.000872</td>\n",
        "      <td>MeanForMonth</td>\n",
        "    </tr>\n",
        "    <tr>\n",
        "      <th>1</th>\n",
        "      <td>0.001005</td>\n",
        "      <td>MeanForMonthByPoints</td>\n",
        "    </tr>\n",
        "    <tr>\n",
        "      <th>21</th>\n",
        "      <td>0.001240</td>\n",
        "      <td>dewPoint</td>\n",
        "    </tr>\n",
        "    <tr>\n",
        "      <th>14</th>\n",
        "      <td>0.001593</td>\n",
        "      <td>ThroughMonth</td>\n",
        "    </tr>\n",
        "    <tr>\n",
        "      <th>20</th>\n",
        "      <td>0.001598</td>\n",
        "      <td>cloudCover</td>\n",
        "    </tr>\n",
        "    <tr>\n",
        "      <th>28</th>\n",
        "      <td>0.002021</td>\n",
        "      <td>visibility</td>\n",
        "    </tr>\n",
        "    <tr>\n",
        "      <th>25</th>\n",
        "      <td>0.002619</td>\n",
        "      <td>pressure</td>\n",
        "    </tr>\n",
        "    <tr>\n",
        "      <th>9</th>\n",
        "      <td>0.002698</td>\n",
        "      <td>MeanForYearByPoints</td>\n",
        "    </tr>\n",
        "    <tr>\n",
        "      <th>2</th>\n",
        "      <td>0.002730</td>\n",
        "      <td>MeanForMonthDay</td>\n",
        "    </tr>\n",
        "    <tr>\n",
        "      <th>12</th>\n",
        "      <td>0.002893</td>\n",
        "      <td>MonthDay</td>\n",
        "    </tr>\n",
        "    <tr>\n",
        "      <th>27</th>\n",
        "      <td>0.002990</td>\n",
        "      <td>temperature</td>\n",
        "    </tr>\n",
        "    <tr>\n",
        "      <th>5</th>\n",
        "      <td>0.003454</td>\n",
        "      <td>MeanForThroughWeek</td>\n",
        "    </tr>\n",
        "    <tr>\n",
        "      <th>29</th>\n",
        "      <td>0.003931</td>\n",
        "      <td>windBearing</td>\n",
        "    </tr>\n",
        "    <tr>\n",
        "      <th>22</th>\n",
        "      <td>0.004049</td>\n",
        "      <td>humidity</td>\n",
        "    </tr>\n",
        "    <tr>\n",
        "      <th>15</th>\n",
        "      <td>0.004331</td>\n",
        "      <td>ThroughWeek</td>\n",
        "    </tr>\n",
        "    <tr>\n",
        "      <th>30</th>\n",
        "      <td>0.009164</td>\n",
        "      <td>windSpeed</td>\n",
        "    </tr>\n",
        "    <tr>\n",
        "      <th>19</th>\n",
        "      <td>0.012270</td>\n",
        "      <td>apparentTemperature</td>\n",
        "    </tr>\n",
        "    <tr>\n",
        "      <th>18</th>\n",
        "      <td>0.014436</td>\n",
        "      <td>YearDay</td>\n",
        "    </tr>\n",
        "    <tr>\n",
        "      <th>6</th>\n",
        "      <td>0.014621</td>\n",
        "      <td>MeanForWeekDay</td>\n",
        "    </tr>\n",
        "    <tr>\n",
        "      <th>13</th>\n",
        "      <td>0.016946</td>\n",
        "      <td>ThroughDay</td>\n",
        "    </tr>\n",
        "    <tr>\n",
        "      <th>16</th>\n",
        "      <td>0.017835</td>\n",
        "      <td>WeekDay</td>\n",
        "    </tr>\n",
        "    <tr>\n",
        "      <th>10</th>\n",
        "      <td>0.032049</td>\n",
        "      <td>MeanForYearDay</td>\n",
        "    </tr>\n",
        "    <tr>\n",
        "      <th>7</th>\n",
        "      <td>0.046602</td>\n",
        "      <td>MeanForWeekDayByPoints</td>\n",
        "    </tr>\n",
        "    <tr>\n",
        "      <th>4</th>\n",
        "      <td>0.795714</td>\n",
        "      <td>MeanForThroughMonthByPoints</td>\n",
        "    </tr>\n",
        "  </tbody>\n",
        "</table>\n",
        "</div>"
       ],
       "metadata": {},
       "output_type": "pyout",
       "prompt_number": 115,
       "text": [
        "         val                         Name\n",
        "24  0.000083                   precipType\n",
        "17  0.000110                         Year\n",
        "23  0.000277                         icon\n",
        "8   0.000320                  MeanForYear\n",
        "3   0.000366          MeanForThroughMonth\n",
        "26  0.000548                      summary\n",
        "11  0.000636                        Month\n",
        "0   0.000872                 MeanForMonth\n",
        "1   0.001005         MeanForMonthByPoints\n",
        "21  0.001240                     dewPoint\n",
        "14  0.001593                 ThroughMonth\n",
        "20  0.001598                   cloudCover\n",
        "28  0.002021                   visibility\n",
        "25  0.002619                     pressure\n",
        "9   0.002698          MeanForYearByPoints\n",
        "2   0.002730              MeanForMonthDay\n",
        "12  0.002893                     MonthDay\n",
        "27  0.002990                  temperature\n",
        "5   0.003454           MeanForThroughWeek\n",
        "29  0.003931                  windBearing\n",
        "22  0.004049                     humidity\n",
        "15  0.004331                  ThroughWeek\n",
        "30  0.009164                    windSpeed\n",
        "19  0.012270          apparentTemperature\n",
        "18  0.014436                      YearDay\n",
        "6   0.014621               MeanForWeekDay\n",
        "13  0.016946                   ThroughDay\n",
        "16  0.017835                      WeekDay\n",
        "10  0.032049               MeanForYearDay\n",
        "7   0.046602       MeanForWeekDayByPoints\n",
        "4   0.795714  MeanForThroughMonthByPoints"
       ]
      }
     ],
     "prompt_number": 115
    }
   ],
   "metadata": {}
  }
 ]
}