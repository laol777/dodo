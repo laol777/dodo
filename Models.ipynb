{
 "cells": [
  {
   "cell_type": "code",
   "execution_count": 1,
   "metadata": {
    "collapsed": true
   },
   "outputs": [],
   "source": [
    "import pandas as pd\n",
    "import numpy as np\n",
    "import sklearn\n",
    "from sklearn.linear_model import LinearRegression\n",
    "from sklearn.ensemble import RandomForestRegressor\n",
    "from sklearn.cross_validation import KFold\n",
    "from sklearn.metrics import mean_absolute_error as mae"
   ]
  },
  {
   "cell_type": "code",
   "execution_count": 2,
   "metadata": {
    "collapsed": true
   },
   "outputs": [],
   "source": [
    "def trainModelTestTrainSplit(data, model):\n",
    "    c = data.columns.difference(['Count'])\n",
    "    X_train, X_test, y_train, y_test = sklearn.cross_validation.train_test_split(data[c], data['Count'], test_size=0.3)\n",
    "    model.verbose=1\n",
    "    model.fit(X_train.as_matrix(), y_train.as_matrix())\n",
    "    pred = model.predict(X_test)\n",
    "    print (\"result \", mae(pred, y_test))\n",
    "    return model"
   ]
  },
  {
   "cell_type": "code",
   "execution_count": 3,
   "metadata": {
    "collapsed": true
   },
   "outputs": [],
   "source": [
    "def trainModelKfold(data, model, countFold = 5):\n",
    "    meanMae = 0\n",
    "    \n",
    "    c = data.columns.difference(['Count'])\n",
    "    kf = KFold(len(data), n_folds=countFold, shuffle=True)\n",
    "    \n",
    "    for train_index, test_index in kf:\n",
    "        X_train, X_test = data[c].iloc[train_index], data[c].iloc[test_index]\n",
    "        y_train, y_test = data['Count'].iloc[train_index], data['Count'].iloc[test_index]\n",
    "        model.fit(X_train.as_matrix(), y_train.as_matrix())\n",
    "        pred = model.predict(X_test)\n",
    "        print (mae(pred, y_test))\n",
    "        meanMae += mae(pred, y_test)\n",
    "    meanMae /= countFold\n",
    "    print (\"result \", meanMae)\n",
    "    return model"
   ]
  },
  {
   "cell_type": "code",
   "execution_count": 7,
   "metadata": {
    "collapsed": false
   },
   "outputs": [
    {
     "name": "stderr",
     "output_type": "stream",
     "text": [
      "/opt/anaconda3/lib/python3.5/site-packages/IPython/core/interactiveshell.py:2717: DtypeWarning: Columns (13,14) have mixed types. Specify dtype option on import or set low_memory=False.\n",
      "  interactivity=interactivity, compiler=compiler, result=result)\n"
     ]
    }
   ],
   "source": [
    "features = pd.read_csv('data_transform/all.csv')"
   ]
  },
  {
   "cell_type": "code",
   "execution_count": 8,
   "metadata": {
    "collapsed": false
   },
   "outputs": [],
   "source": [
    "data = features.fillna(100000000)\n",
    "#data = data[data.columns.difference(['Point', 'Date'])]"
   ]
  },
  {
   "cell_type": "code",
   "execution_count": 23,
   "metadata": {
    "collapsed": false
   },
   "outputs": [],
   "source": []
  },
  {
   "cell_type": "code",
   "execution_count": 9,
   "metadata": {
    "collapsed": false
   },
   "outputs": [],
   "source": [
    "remove_column = ['IsTest', 'IsTrain', 'IsValidation', 'Date', 'Point', 'CityName', 'MeanForThroughDay', 'MeanForMonthDayByPoints' \\\n",
    "                 ,'MeanForThroughDayByPoints', 'MeanForThroughWeekByPoints', 'MeanForYearDayByPoints']"
   ]
  },
  {
   "cell_type": "code",
   "execution_count": 17,
   "metadata": {
    "collapsed": false
   },
   "outputs": [],
   "source": [
    "dataTrain = data[data.IsTrain == 1]\n",
    "dataTrain = dataTrain[dataTrain.columns.difference(remove_column)]\n",
    "\n",
    "dataValidation =  data[data.IsValidation == 1]\n",
    "dataValidation = dataValidation[dataValidation.columns.difference(remove_column)]\n",
    "\n",
    "X_test = dataValidation[dataValidation.columns.difference(['Count'])]\n",
    "y_test = dataValidation.Count"
   ]
  },
  {
   "cell_type": "code",
   "execution_count": 61,
   "metadata": {
    "collapsed": false
   },
   "outputs": [],
   "source": []
  },
  {
   "cell_type": "code",
   "execution_count": 18,
   "metadata": {
    "collapsed": false
   },
   "outputs": [],
   "source": [
    "def trainModelKfoldOnValidation(data, model, countFold = 5):\n",
    "    meanMae = 0\n",
    "    \n",
    "    c = data.columns.difference(['Count'])\n",
    "    kf = KFold(len(data), n_folds=countFold, shuffle=True)\n",
    "    \n",
    "    for train_index, test_index in kf:\n",
    "        X_train, X_test = data[c].iloc[train_index], data[c].iloc[test_index]\n",
    "        y_train, y_test = data['Count'].iloc[train_index], data['Count'].iloc[test_index]\n",
    "        model.fit(X_train.as_matrix(), y_train.as_matrix())\n",
    "        pred = model.predict(X_test)\n",
    "        print (mae(pred, y_test))\n",
    "        meanMae += mae(pred, y_test)\n",
    "    meanMae /= countFold\n",
    "    print (\"result \", meanMae)\n",
    "    return model"
   ]
  },
  {
   "cell_type": "code",
   "execution_count": 15,
   "metadata": {
    "collapsed": false
   },
   "outputs": [],
   "source": [
    "\n",
    "\n",
    "\n"
   ]
  },
  {
   "cell_type": "code",
   "execution_count": 56,
   "metadata": {
    "collapsed": false
   },
   "outputs": [],
   "source": []
  },
  {
   "cell_type": "code",
   "execution_count": 16,
   "metadata": {
    "collapsed": false
   },
   "outputs": [
    {
     "name": "stdout",
     "output_type": "stream",
     "text": [
      "result  17.1075044669\n",
      "17.2152733584\n"
     ]
    },
    {
     "name": "stderr",
     "output_type": "stream",
     "text": [
      "[Parallel(n_jobs=1)]: Done  10 out of  10 | elapsed:    2.1s finished\n",
      "[Parallel(n_jobs=1)]: Done  10 out of  10 | elapsed:    0.0s finished\n",
      "[Parallel(n_jobs=1)]: Done  10 out of  10 | elapsed:    0.0s finished\n"
     ]
    }
   ],
   "source": [
    "model = trainModelTestTrainSplit(dataTrain, RandomForestRegressor())\n",
    "pred = model.predict(X_test)\n",
    "print (mae(pred, y_test))"
   ]
  },
  {
   "cell_type": "code",
   "execution_count": null,
   "metadata": {
    "collapsed": false
   },
   "outputs": [],
   "source": []
  },
  {
   "cell_type": "code",
   "execution_count": null,
   "metadata": {
    "collapsed": false
   },
   "outputs": [],
   "source": []
  },
  {
   "cell_type": "code",
   "execution_count": 19,
   "metadata": {
    "collapsed": false,
    "scrolled": false
   },
   "outputs": [
    {
     "name": "stdout",
     "output_type": "stream",
     "text": [
      "16.632610083\n",
      "18.7105296745\n",
      "18.443905552\n",
      "16.315252074\n",
      "16.8954690491\n",
      "17.0089342693\n",
      "16.1523292916\n",
      "17.0751754946\n",
      "17.5008296107\n",
      "16.970134014\n",
      "17.7065092534\n",
      "16.8759412891\n",
      "15.4571155073\n",
      "16.1772814295\n",
      "16.3549457562\n",
      "16.8608806637\n",
      "16.846330568\n",
      "17.8841097639\n",
      "16.939948947\n",
      "17.321952776\n",
      "16.6019783025\n",
      "16.478366305\n",
      "16.4514358647\n",
      "16.62744097\n",
      "16.6901723038\n",
      "result  16.9191831525\n",
      "16.875267573\n"
     ]
    }
   ],
   "source": [
    "model = trainModelKfoldOnValidation(dataTrain, RandomForestRegressor(), countFold = 25)\n",
    "pred = model.predict(X_test)\n",
    "print (mae(pred, y_test))"
   ]
  },
  {
   "cell_type": "code",
   "execution_count": null,
   "metadata": {
    "collapsed": false,
    "scrolled": false
   },
   "outputs": [],
   "source": [
    "m = trainModelKfold(data, LinearRegression(), countFold = 25)\n",
    "print(data.columns.difference(['Count']))\n",
    "m.coef_"
   ]
  },
  {
   "cell_type": "code",
   "execution_count": null,
   "metadata": {
    "collapsed": true
   },
   "outputs": [],
   "source": []
  },
  {
   "cell_type": "code",
   "execution_count": null,
   "metadata": {
    "collapsed": false
   },
   "outputs": [],
   "source": []
  },
  {
   "cell_type": "code",
   "execution_count": null,
   "metadata": {
    "collapsed": true
   },
   "outputs": [],
   "source": []
  }
 ],
 "metadata": {
  "anaconda-cloud": {},
  "kernelspec": {
   "display_name": "Python [conda root]",
   "language": "python",
   "name": "conda-root-py"
  },
  "language_info": {
   "codemirror_mode": {
    "name": "ipython",
    "version": 3
   },
   "file_extension": ".py",
   "mimetype": "text/x-python",
   "name": "python",
   "nbconvert_exporter": "python",
   "pygments_lexer": "ipython3",
   "version": "3.5.2"
  }
 },
 "nbformat": 4,
 "nbformat_minor": 0
}
