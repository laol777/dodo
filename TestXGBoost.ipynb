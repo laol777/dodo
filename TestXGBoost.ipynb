{
 "cells": [
  {
   "cell_type": "code",
   "execution_count": 1,
   "metadata": {
    "collapsed": false
   },
   "outputs": [
    {
     "name": "stderr",
     "output_type": "stream",
     "text": [
      "/home/laol/env/local/lib/python2.7/site-packages/sklearn/cross_validation.py:44: DeprecationWarning: This module was deprecated in version 0.18 in favor of the model_selection module into which all the refactored classes and functions are moved. Also note that the interface of the new CV iterators are different from that of this module. This module will be removed in 0.20.\n",
      "  \"This module will be removed in 0.20.\", DeprecationWarning)\n"
     ]
    }
   ],
   "source": [
    "import pandas as pd\n",
    "import numpy as np\n",
    "import sklearn\n",
    "from sklearn.linear_model import LinearRegression\n",
    "from sklearn.ensemble import RandomForestRegressor\n",
    "from sklearn.cross_validation import KFold\n",
    "from sklearn.metrics import mean_absolute_error as mae\n",
    "from sklearn.ensemble import GradientBoostingRegressor\n",
    "import matplotlib\n",
    "import numpy as np\n",
    "import matplotlib.pyplot as plt\n",
    "%matplotlib inline  \n",
    "from sklearn.linear_model import Ridge"
   ]
  },
  {
   "cell_type": "code",
   "execution_count": 2,
   "metadata": {
    "collapsed": false
   },
   "outputs": [],
   "source": [
    "features = pd.read_csv('data_transform/all.csv')\n",
    "\n",
    "data = features.fillna(100000000)\n",
    "\n",
    "remove_column = ['IsTest', 'IsTrain', 'IsValidation', 'Date', 'CityName', 'MeanForThroughDay', 'MeanForMonthDayByPoints' \\\n",
    "                 ,'MeanForThroughDayByPoints', 'MeanForThroughWeekByPoints', 'MeanForYearDayByPoints', 'Point']\n",
    "       #, u'Prev1Day',\\\n",
    "       #u'Prev2Day', u'Prev3Day', u'Prev7Day', u'Next1Day', u'Next2Day',\n",
    "       #u'Next3Day', u'Next7Day']\n",
    "\n",
    "dataTrain = data[data.IsTrain == 1]\n",
    "dataTrain = dataTrain[dataTrain.columns.difference(remove_column)]\n",
    "\n",
    "X_train = dataTrain[dataTrain.columns.difference(['Count'])]\n",
    "y_train = dataTrain[['Count']]\n",
    "\n",
    "dataValidation =  data[data.IsValidation == 1]\n",
    "dataValidation = dataValidation[dataValidation.columns.difference(remove_column)]\n",
    "\n",
    "X_test = dataValidation[dataValidation.columns.difference(['Count'])]\n",
    "y_test = dataValidation[['Count']]"
   ]
  },
  {
   "cell_type": "code",
   "execution_count": 13,
   "metadata": {
    "collapsed": true
   },
   "outputs": [],
   "source": [
    "gbr = GradientBoostingRegressor(learning_rate=0.01, max_depth=7, verbose=1, n_estimators=5000, loss ='lad')"
   ]
  },
  {
   "cell_type": "code",
   "execution_count": 14,
   "metadata": {
    "collapsed": false,
    "scrolled": true
   },
   "outputs": [
    {
     "name": "stderr",
     "output_type": "stream",
     "text": [
      "/home/laol/anaconda2/lib/python2.7/site-packages/sklearn/utils/validation.py:515: DataConversionWarning: A column-vector y was passed when a 1d array was expected. Please change the shape of y to (n_samples, ), for example using ravel().\n",
      "  y = column_or_1d(y, warn=True)\n"
     ]
    },
    {
     "name": "stdout",
     "output_type": "stream",
     "text": [
      "      Iter       Train Loss   Remaining Time \n",
      "         1          52.1495           21.33m\n",
      "         2          51.7206           19.98m\n",
      "         3          51.2969           19.40m\n",
      "         4          50.8778           19.23m\n",
      "         5          50.4636           19.08m\n",
      "         6          50.0649           18.95m\n",
      "         7          49.6681           18.85m\n",
      "         8          49.2746           18.82m\n",
      "         9          48.8817           18.91m\n",
      "        10          48.4876           18.90m\n",
      "        20          44.8252           18.57m\n",
      "        30          41.5318           18.36m\n",
      "        40          38.5484           18.26m\n",
      "        50          35.8616           18.26m\n",
      "        60          33.4554           18.23m\n",
      "        70          31.3046           18.21m\n",
      "        80          29.3839           18.20m\n",
      "        90          27.6825           18.18m\n",
      "       100          26.1467           18.14m\n",
      "       200          17.8719           17.70m\n",
      "       300          15.4768           16.94m\n",
      "       400          14.6944           15.73m\n",
      "       500          14.3279           14.50m\n",
      "       600          14.0753           13.47m\n",
      "       700          13.8299           12.82m\n",
      "       800          13.6336           12.13m\n",
      "       900          13.4862           11.50m\n",
      "      1000          13.4376           10.75m\n",
      "      2000          13.2049            6.57m\n",
      "      3000          13.1851            3.82m\n",
      "      4000          13.1669            1.75m\n",
      "      5000          13.1562            0.00s\n"
     ]
    },
    {
     "data": {
      "text/plain": [
       "GradientBoostingRegressor(alpha=0.9, init=None, learning_rate=0.01,\n",
       "             loss='lad', max_depth=7, max_features=None,\n",
       "             max_leaf_nodes=None, min_samples_leaf=1, min_samples_split=2,\n",
       "             min_weight_fraction_leaf=0.0, n_estimators=5000,\n",
       "             presort='auto', random_state=None, subsample=1.0, verbose=1,\n",
       "             warm_start=False)"
      ]
     },
     "execution_count": 14,
     "metadata": {},
     "output_type": "execute_result"
    }
   ],
   "source": [
    "gbr.fit(X_train, y_train)"
   ]
  },
  {
   "cell_type": "code",
   "execution_count": 15,
   "metadata": {
    "collapsed": false
   },
   "outputs": [
    {
     "name": "stdout",
     "output_type": "stream",
     "text": [
      "15.2139906649\n"
     ]
    }
   ],
   "source": [
    "pred = gbr.predict(X_test)\n",
    "print mae(y_test, pred)"
   ]
  },
  {
   "cell_type": "code",
   "execution_count": 4,
   "metadata": {
    "collapsed": false
   },
   "outputs": [],
   "source": [
    "import xgboost as xgb"
   ]
  },
  {
   "cell_type": "code",
   "execution_count": null,
   "metadata": {
    "collapsed": true
   },
   "outputs": [],
   "source": [
    "features = pd.read_csv('data_transform/all.csv')\n",
    "\n",
    "data = features.fillna(100000000)\n",
    "\n",
    "remove_column = ['IsTest', 'IsTrain', 'IsValidation', 'Date', 'CityName', 'MeanForThroughDay', 'MeanForMonthDayByPoints' \\\n",
    "                 ,'MeanForThroughDayByPoints', 'MeanForThroughWeekByPoints', 'MeanForYearDayByPoints', 'Point']\n",
    "       #, u'Prev1Day',\\\n",
    "       #u'Prev2Day', u'Prev3Day', u'Prev7Day', u'Next1Day', u'Next2Day',\n",
    "       #u'Next3Day', u'Next7Day']\n",
    "\n",
    "dataTrain = data[data.IsTrain == 1]\n",
    "dataTrain = dataTrain[dataTrain.columns.difference(remove_column)]\n",
    "\n",
    "X_train = dataTrain[dataTrain.columns.difference(['Count'])]\n",
    "y_train = dataTrain[['Count']]\n",
    "\n",
    "dataValidation =  data[data.IsValidation == 1]\n",
    "dataValidation = dataValidation[dataValidation.columns.difference(remove_column)]\n",
    "\n",
    "X_test = dataValidation[dataValidation.columns.difference(['Count'])]\n",
    "y_test = dataValidation[['Count']]"
   ]
  },
  {
   "cell_type": "code",
   "execution_count": 31,
   "metadata": {
    "collapsed": true
   },
   "outputs": [],
   "source": [
    "gbm = xgb.XGBRegressor(max_depth=7, n_estimators=3000, learning_rate=0.01, silent = False)"
   ]
  },
  {
   "cell_type": "code",
   "execution_count": 32,
   "metadata": {
    "collapsed": false
   },
   "outputs": [
    {
     "data": {
      "text/plain": [
       "XGBRegressor(base_score=0.5, colsample_bylevel=1, colsample_bytree=1, gamma=0,\n",
       "       learning_rate=0.01, max_delta_step=0, max_depth=7,\n",
       "       min_child_weight=1, missing=None, n_estimators=3000, nthread=-1,\n",
       "       objective='reg:linear', reg_alpha=0, reg_lambda=1,\n",
       "       scale_pos_weight=1, seed=0, silent=False, subsample=1)"
      ]
     },
     "execution_count": 32,
     "metadata": {},
     "output_type": "execute_result"
    }
   ],
   "source": [
    "gbm.fit(X_train, y_train, verbose = False)"
   ]
  },
  {
   "cell_type": "code",
   "execution_count": 33,
   "metadata": {
    "collapsed": false
   },
   "outputs": [
    {
     "name": "stdout",
     "output_type": "stream",
     "text": [
      "15.0901867301\n"
     ]
    }
   ],
   "source": [
    "predictions = gbm.predict(X_test)\n",
    "print mae(y_test, predictions)"
   ]
  },
  {
   "cell_type": "code",
   "execution_count": 39,
   "metadata": {
    "collapsed": false
   },
   "outputs": [],
   "source": [
    "dtrain = xgb.DMatrix( X_train, label=y_train)\n",
    "dtest = xgb.DMatrix( X_test, label=y_test)\n",
    "evallist  = [(dtest,'eval'), (dtrain,'train')]"
   ]
  },
  {
   "cell_type": "code",
   "execution_count": 60,
   "metadata": {
    "collapsed": false
   },
   "outputs": [],
   "source": [
    "param = {'max_depth':7, 'silent':1}"
   ]
  },
  {
   "cell_type": "code",
   "execution_count": 62,
   "metadata": {
    "collapsed": false,
    "scrolled": true
   },
   "outputs": [
    {
     "name": "stdout",
     "output_type": "stream",
     "text": [
      "[0]\teval-rmse:92.4925\ttrain-rmse:94.5149\n",
      "[1]\teval-rmse:68.3669\ttrain-rmse:69.7168\n",
      "[2]\teval-rmse:52.3775\ttrain-rmse:52.8933\n",
      "[3]\teval-rmse:42.3301\ttrain-rmse:41.9115\n",
      "[4]\teval-rmse:36.2586\ttrain-rmse:35.0078\n",
      "[5]\teval-rmse:32.6773\ttrain-rmse:30.6947\n",
      "[6]\teval-rmse:30.6569\ttrain-rmse:28.0474\n",
      "[7]\teval-rmse:29.5277\ttrain-rmse:26.4565\n",
      "[8]\teval-rmse:28.8922\ttrain-rmse:25.4505\n",
      "[9]\teval-rmse:28.535\ttrain-rmse:24.6162\n",
      "[10]\teval-rmse:28.4375\ttrain-rmse:24.1246\n",
      "[11]\teval-rmse:28.2626\ttrain-rmse:23.8172\n",
      "[12]\teval-rmse:28.221\ttrain-rmse:23.419\n",
      "[13]\teval-rmse:28.0629\ttrain-rmse:23.1315\n",
      "[14]\teval-rmse:28.0203\ttrain-rmse:22.8697\n",
      "[15]\teval-rmse:27.9748\ttrain-rmse:22.6166\n",
      "[16]\teval-rmse:27.9695\ttrain-rmse:22.3491\n",
      "[17]\teval-rmse:27.9613\ttrain-rmse:22.2361\n",
      "[18]\teval-rmse:27.8886\ttrain-rmse:22.0878\n",
      "[19]\teval-rmse:27.8235\ttrain-rmse:21.8889\n",
      "[20]\teval-rmse:27.8243\ttrain-rmse:21.6158\n",
      "[21]\teval-rmse:27.8562\ttrain-rmse:21.3935\n",
      "[22]\teval-rmse:27.8329\ttrain-rmse:21.2891\n",
      "[23]\teval-rmse:27.8131\ttrain-rmse:21.2293\n",
      "[24]\teval-rmse:27.8009\ttrain-rmse:21.085\n",
      "[25]\teval-rmse:27.8134\ttrain-rmse:20.7748\n",
      "[26]\teval-rmse:27.7938\ttrain-rmse:20.6675\n",
      "[27]\teval-rmse:27.745\ttrain-rmse:20.5262\n",
      "[28]\teval-rmse:27.7112\ttrain-rmse:20.2886\n",
      "[29]\teval-rmse:27.7684\ttrain-rmse:20.1523\n"
     ]
    }
   ],
   "source": [
    "num_round = 30\n",
    "bst = xgb.train( param, dtrain, num_round, evallist )"
   ]
  },
  {
   "cell_type": "code",
   "execution_count": 63,
   "metadata": {
    "collapsed": false
   },
   "outputs": [
    {
     "name": "stdout",
     "output_type": "stream",
     "text": [
      "15.8734100713\n"
     ]
    }
   ],
   "source": [
    "predictions = bst.predict(dtest)\n",
    "print mae(y_test, predictions)"
   ]
  },
  {
   "cell_type": "code",
   "execution_count": null,
   "metadata": {
    "collapsed": true
   },
   "outputs": [],
   "source": []
  },
  {
   "cell_type": "code",
   "execution_count": null,
   "metadata": {
    "collapsed": true
   },
   "outputs": [],
   "source": []
  },
  {
   "cell_type": "code",
   "execution_count": null,
   "metadata": {
    "collapsed": true
   },
   "outputs": [],
   "source": []
  },
  {
   "cell_type": "code",
   "execution_count": null,
   "metadata": {
    "collapsed": true
   },
   "outputs": [],
   "source": []
  }
 ],
 "metadata": {
  "anaconda-cloud": {},
  "kernelspec": {
   "display_name": "Python 2",
   "language": "python",
   "name": "python2"
  },
  "language_info": {
   "codemirror_mode": {
    "name": "ipython",
    "version": 2
   },
   "file_extension": ".py",
   "mimetype": "text/x-python",
   "name": "python",
   "nbconvert_exporter": "python",
   "pygments_lexer": "ipython2",
   "version": "2.7.6"
  }
 },
 "nbformat": 4,
 "nbformat_minor": 1
}
