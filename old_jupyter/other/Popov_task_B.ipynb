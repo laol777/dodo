{
 "cells": [
  {
   "cell_type": "markdown",
   "metadata": {},
   "source": [
    "# Базовое решение для задачи B"
   ]
  },
  {
   "cell_type": "code",
   "execution_count": 1,
   "metadata": {
    "collapsed": true
   },
   "outputs": [],
   "source": [
    "import pandas as pd\n",
    "import numpy as np\n",
    "\n",
    "from sklearn.ensemble import RandomForestRegressor\n",
    "\n",
    "import xgboost as xgb\n",
    "%matplotlib inline"
   ]
  },
  {
   "cell_type": "markdown",
   "metadata": {},
   "source": [
    "Читаем входные файлы с данными"
   ]
  },
  {
   "cell_type": "code",
   "execution_count": 2,
   "metadata": {
    "collapsed": false
   },
   "outputs": [],
   "source": [
    "transactions = pd.read_csv('transactions.csv')"
   ]
  },
  {
   "cell_type": "code",
   "execution_count": 3,
   "metadata": {
    "collapsed": true
   },
   "outputs": [],
   "source": [
    "transactions['day'] = transactions['tr_datetime'].apply(lambda x: int(x.split(' ')[0]))\n",
    "del transactions['tr_datetime']"
   ]
  },
  {
   "cell_type": "code",
   "execution_count": 4,
   "metadata": {
    "collapsed": true
   },
   "outputs": [],
   "source": [
    "transactions['week_num'] = transactions['day'] // 7\n",
    "transactions['week_day'] = (transactions['day'] +4) % 7\n",
    "transactions['month_num'] = transactions['day'] // 30\n",
    "transactions['month_day'] = transactions['day'] % 30"
   ]
  },
  {
   "cell_type": "code",
   "execution_count": 5,
   "metadata": {
    "collapsed": true
   },
   "outputs": [],
   "source": [
    "transactions['log_amount'] = np.log(np.sign(transactions.amount)*transactions.amount+1)"
   ]
  },
  {
   "cell_type": "code",
   "execution_count": 6,
   "metadata": {
    "collapsed": true
   },
   "outputs": [],
   "source": [
    "transactions_train = transactions[(transactions.month_num < 14) & (transactions.amount < 0)]\n",
    "transactions_fit = transactions[(transactions.month_num >= 14) & (transactions.amount < 0)]"
   ]
  },
  {
   "cell_type": "code",
   "execution_count": 7,
   "metadata": {
    "collapsed": false
   },
   "outputs": [],
   "source": [
    "positive_features = transactions[(transactions.amount > 0)].groupby(['mcc_code']).amount.sum()"
   ]
  },
  {
   "cell_type": "code",
   "execution_count": 8,
   "metadata": {
    "collapsed": false
   },
   "outputs": [],
   "source": [
    "p_df =  pd.DataFrame()\n",
    "p_df['positive_sums'] =  transactions[(transactions.amount > 0)].groupby(['mcc_code']).amount.sum()\n",
    "p_df['positive_means'] = transactions[(transactions.amount > 0)].groupby(['mcc_code']).amount.mean()\n",
    "p_df['mcc_code'] = transactions[(transactions.amount > 0)].groupby(['mcc_code']).amount.sum().index\n",
    "p_df.index = [i for i in range(p_df.shape[0])]"
   ]
  },
  {
   "cell_type": "code",
   "execution_count": 9,
   "metadata": {
    "collapsed": false
   },
   "outputs": [
    {
     "name": "stderr",
     "output_type": "stream",
     "text": [
      "/Library/Frameworks/Python.framework/Versions/3.4/lib/python3.4/site-packages/pandas/core/index.py:3141: FutureWarning: elementwise comparison failed; returning scalar instead, but in the future will perform elementwise comparison\n",
      "  return np.sum(name == np.asarray(self.names)) > 1\n"
     ]
    }
   ],
   "source": [
    "# посчитаем для трейна средние\n",
    "train_sum = transactions_train.groupby(['mcc_code', 'day']).amount.sum().unstack().fillna(0)\n",
    "\n",
    "ans = []\n",
    "n = max(transactions_train['day'])\n",
    "weights = np.array([(n-i+1)/n for i in range(n+1,0,-1)])\n",
    "weights_exp = np.array([0.5**i for i in range(n+1,0,-1)])\n",
    "weights_3 = np.array([1/(i**0.5) for i in range(n+1,0,-1)])\n",
    "\n",
    "w_ans = []\n",
    "for k in range(184):\n",
    "        values = np.log(500-train_sum.iloc[k])\n",
    "        avg = np.average(values, weights=weights)\n",
    "        std = np.average((values-avg)**2, weights=weights)\n",
    "        avg1 = np.average(values, weights=weights_exp)\n",
    "        std1 = np.average((values-avg)**2, weights=weights_exp)\n",
    "        avg2 = np.average(values, weights=weights_3)\n",
    "        std2 = np.average((values-avg)**2, weights=weights_3)\n",
    "        ans.append([std, avg, avg1, std1, avg2, std2])\n",
    "\n",
    "std_avg_train = pd.DataFrame(data=ans, index=train_sum.index,columns=['std_all_linear','avg_all_linear', \n",
    "                                                                      'std_all_linear1','avg_all_linear1',\n",
    "                                                                      'std_all_linear2','avg_all_linear2'])\n",
    "\n",
    "std_avg_train['mcc_code']= std_avg_train.index\n",
    "\n",
    "std_avg_train.index = np.array([i for i in range(std_avg_train.shape[0])])"
   ]
  },
  {
   "cell_type": "code",
   "execution_count": 10,
   "metadata": {
    "collapsed": false
   },
   "outputs": [
    {
     "name": "stderr",
     "output_type": "stream",
     "text": [
      "/Library/Frameworks/Python.framework/Versions/3.4/lib/python3.4/site-packages/pandas/core/index.py:3141: FutureWarning: elementwise comparison failed; returning scalar instead, but in the future will perform elementwise comparison\n",
      "  return np.sum(name == np.asarray(self.names)) > 1\n"
     ]
    }
   ],
   "source": [
    "# посчитаем для всех \n",
    "all_sum = transactions[transactions['amount']<0].groupby(['mcc_code', 'day']).amount.sum().unstack().fillna(0)\n",
    "\n",
    "ans = []\n",
    "n = max(transactions['day'])\n",
    "    \n",
    "weights = np.array([(n-i+1)/n for i in range(n+1,0,-1)])\n",
    "weights_exp = np.array([0.5**i for i in range(n+1,0,-1)])\n",
    "weights_3 = np.array([1/(i**0.5) for i in range(n+1,0,-1)])\n",
    "\n",
    "w_ans = []\n",
    "for k in range(184):\n",
    "        values = np.log(500-all_sum.iloc[k])\n",
    "        avg = np.average(values, weights=weights)\n",
    "        std = np.average((values-avg)**2, weights=weights)\n",
    "        avg1 = np.average(values, weights=weights_exp)\n",
    "        std1 = np.average((values-avg)**2, weights=weights_exp)\n",
    "        avg2 = np.average(values, weights=weights_3)\n",
    "        std2 = np.average((values-avg)**2, weights=weights_3)\n",
    "        ans.append([std, avg, avg1, std1, avg2, std2])\n",
    "\n",
    "std_avg_all = pd.DataFrame(data=ans, index=all_sum.index,columns=['std_all_linear','avg_all_linear', \n",
    "                                                                      'std_all_linear1','avg_all_linear1',\n",
    "                                                                      'std_all_linear2','avg_all_linear2'])\n",
    "\n",
    "std_avg_all['mcc_code']= std_avg_all.index\n",
    "\n",
    "std_avg_all.index = np.array([i for i in range(std_avg_all.shape[0])])"
   ]
  },
  {
   "cell_type": "code",
   "execution_count": 11,
   "metadata": {
    "collapsed": false
   },
   "outputs": [
    {
     "name": "stderr",
     "output_type": "stream",
     "text": [
      "/Library/Frameworks/Python.framework/Versions/3.4/lib/python3.4/site-packages/pandas/core/index.py:3141: FutureWarning: elementwise comparison failed; returning scalar instead, but in the future will perform elementwise comparison\n",
      "  return np.sum(name == np.asarray(self.names)) > 1\n"
     ]
    }
   ],
   "source": [
    "train_sum_wd = transactions_train.groupby(['mcc_code', 'week_day', 'day']).amount.sum()\n",
    "n = max(transactions_train['day'])\n",
    "d = 1\n",
    "weights = np.array([ ((n//7-i//7+1)/(n//7))**d for i in range(n+1,0,-1)])\n",
    "weights_exp = np.array([0.5**(i//7) for i in range(n+1,0,-1)])\n",
    "weights_3 = np.array([1/((i//7+1)) for i in range(n+1,0,-1)])\n",
    "\n",
    "\n",
    "\n",
    "# train_sum_wd = train_sum_wd.reset_index()\n",
    "train_sum_wd = train_sum_wd.unstack().fillna(0).reset_index()\n",
    "\n",
    "c = train_sum_wd.columns[2:]\n",
    "values = np.log(500 - train_sum_wd[c].values)\n",
    "avg_weekday = np.average(values, axis=1, weights=weights)\n",
    "std_weekday = np.average(np.apply_along_axis(lambda x: (x - avg_weekday)**2, 0, values),axis=1,weights=weights)\n",
    "\n",
    "avg_weekday1 = np.average(values, axis=1, weights=weights_exp)\n",
    "std_weekday1 = np.average(np.apply_along_axis(lambda x: (x - avg_weekday1)**2, 0, values),axis=1,weights=weights_exp)\n",
    "\n",
    "avg_weekday2 = np.average(values, axis=1, weights=weights_3)\n",
    "std_weekday2 = np.average(np.apply_along_axis(lambda x: (x - avg_weekday2)**2, 0, values),axis=1,weights=weights_3)\n",
    "\n",
    "train_sum_wd['avg_wd'] = avg_weekday\n",
    "train_sum_wd['std_wd'] = std_weekday\n",
    "\n",
    "train_sum_wd['avg_wd1'] = avg_weekday1\n",
    "train_sum_wd['std_wd1'] = std_weekday1\n",
    "\n",
    "train_sum_wd['avg_wd2'] = avg_weekday2\n",
    "train_sum_wd['std_wd2'] = std_weekday2\n",
    "\n",
    "train_sum_wd = train_sum_wd[['mcc_code', 'week_day', 'avg_wd', 'std_wd']]\n",
    "# train_sum_wd = train_sum_wd[['mcc_code', 'week_day', 'avg_wd', 'std_wd', 'avg_wd1', 'std_wd1', 'avg_wd2', 'std_wd2']]"
   ]
  },
  {
   "cell_type": "code",
   "execution_count": 12,
   "metadata": {
    "collapsed": false
   },
   "outputs": [
    {
     "name": "stderr",
     "output_type": "stream",
     "text": [
      "/Library/Frameworks/Python.framework/Versions/3.4/lib/python3.4/site-packages/pandas/core/index.py:3141: FutureWarning: elementwise comparison failed; returning scalar instead, but in the future will perform elementwise comparison\n",
      "  return np.sum(name == np.asarray(self.names)) > 1\n"
     ]
    }
   ],
   "source": [
    "n = max(transactions['day'])\n",
    "all_sum_wd = transactions[transactions['amount']<0].groupby(['mcc_code', 'week_day', 'day']).amount.sum().unstack().fillna(0).reset_index()\n",
    "d = 1\n",
    "weights = np.array([ ((n//7-i//7+1)/(n//7))**d for i in range(n+1,0,-1)])\n",
    "weights_exp = np.array([0.5**(i//7) for i in range(n+1,0,-1)])\n",
    "weights_3 = np.array([1/((i//7+1)) for i in range(n+1,0,-1)])\n",
    "\n",
    "c = all_sum_wd.columns[2:]\n",
    "values = np.log(500 - all_sum_wd[c].values)\n",
    "avg_weekday = np.average(values, axis=1, weights=weights)\n",
    "std_weekday = np.average(np.apply_along_axis(lambda x: (x - avg_weekday)**2, 0, values),axis=1,weights=weights)\n",
    "\n",
    "avg_weekday1 = np.average(values, axis=1, weights=weights_exp)\n",
    "std_weekday1 = np.average(np.apply_along_axis(lambda x: (x - avg_weekday1)**2, 0, values),axis=1,weights=weights_exp)\n",
    "\n",
    "avg_weekday2 = np.average(values, axis=1, weights=weights_3)\n",
    "std_weekday2 = np.average(np.apply_along_axis(lambda x: (x - avg_weekday2)**2, 0, values),axis=1,weights=weights_3)\n",
    "\n",
    "all_sum_wd['avg_wd'] = avg_weekday\n",
    "all_sum_wd['std_wd'] = std_weekday\n",
    "\n",
    "all_sum_wd['avg_wd1'] = avg_weekday1\n",
    "all_sum_wd['std_wd1'] = std_weekday1\n",
    "\n",
    "all_sum_wd['avg_wd2'] = avg_weekday2\n",
    "all_sum_wd['std_wd2'] = std_weekday2\n",
    "\n",
    "all_sum_wd = all_sum_wd[['mcc_code', 'week_day', 'avg_wd', 'std_wd']]\n",
    "# all_sum_wd = all_sum_wd[['mcc_code', 'week_day', 'avg_wd', 'std_wd', 'avg_wd1', 'std_wd1', 'avg_wd2', 'std_wd2']]"
   ]
  },
  {
   "cell_type": "code",
   "execution_count": 13,
   "metadata": {
    "collapsed": true
   },
   "outputs": [],
   "source": [
    "dollars = pd.read_csv('USDRUB.csv', delimiter=';')\n",
    "dollars[\"<DATE>\"] = pd.to_datetime(dollars['<DATE>'], format='%Y%m%d')\n",
    "dollars[\"day\"] = [i.days for i in (dollars[\"<DATE>\"] - dollars.iloc[0][\"<DATE>\"])]\n",
    "dollars = dollars[[\"day\",\"<OPEN>\"]]\n",
    "dollars.columns = ['day', 'usd']"
   ]
  },
  {
   "cell_type": "code",
   "execution_count": 14,
   "metadata": {
    "collapsed": false
   },
   "outputs": [],
   "source": [
    "holidays = ['20141101', '20141102', '20141103', '20141104', '20150101', '20150102', '20150103'\n",
    "           , '20150104', '20150105', '20150106', '20150107', '20150108', '20150109', '20150110', '20150111'\n",
    "           ,  '20150221', '20150222', '20150223', '20150307','20150308','20150309'\n",
    "           , '20150501', '20150502', '20150503', '20150504'\n",
    "           , '20150509', '20150510', '20150511'\n",
    "           , '20150512', '20150513', '20150514'\n",
    "           , '20151004'\n",
    "           ]\n",
    "first_inholidays = ['20141101', '20150101', '20150221', '20150307', '20150308', '20150501', '20150509',\n",
    "                   '20150612', '20151004', '20151007', '20151014', '20151021', '20151028']\n",
    "pred_holiday = ['20141031', '20141231', '20150306', '20150220', '20150508', '20150611', '20151003']\n",
    "\n",
    "holidays = pd.DataFrame(data=holidays,columns=['day'])\n",
    "\n",
    "default_holidays = transactions[transactions['week_day']>=5].groupby('day').size().index.values\n",
    "\n",
    "holidays['day'] = (pd.to_datetime(holidays['day'], format='%Y%m%d') - pd.to_datetime('20140801', format='%Y%m%d'))\n",
    "holidays['day'] = [i.days for i in holidays['day']]\n",
    "holidays['hol'] = [1 for i in range(holidays.shape[0])]\n",
    "\n",
    "\n",
    "\n",
    "fholidays = pd.DataFrame(data=first_inholidays,columns=['day'])\n",
    "\n",
    "fholidays['day'] = (pd.to_datetime(fholidays['day'], format='%Y%m%d') - pd.to_datetime('20140801', format='%Y%m%d'))\n",
    "fholidays['day'] = [i.days for i in fholidays['day']]\n",
    "fholidays['first'] = [1 for i in range(fholidays.shape[0])]\n",
    "\n",
    "holidays = pd.merge(holidays, fholidays, on=['day'], how='left').fillna(0)\n",
    "\n",
    "\n",
    "default_holidays = transactions[transactions['week_day']>=5].groupby('day').size().index.values\n",
    "default_first = transactions[transactions['week_day']==5].groupby('day').size().index.values\n",
    "default_holidays = pd.DataFrame(data=default_holidays,columns=['day'])\n",
    "default_holidays['hol'] = [1 for i in range(default_holidays.shape[0])]\n",
    "default_first = pd.DataFrame(data=default_first,columns=['day'])\n",
    "default_holidays['first'] = [1 for i in range(default_holidays.shape[0])]\n",
    "default_holidays = pd.merge(default_holidays, default_first, on=['day'], how='left').fillna(0)\n",
    "holidays = pd.concat([holidays, default_holidays])\n",
    "\n",
    "\n",
    "holidays.index = [i for i in range (holidays.shape[0])]\n"
   ]
  },
  {
   "cell_type": "code",
   "execution_count": 15,
   "metadata": {
    "collapsed": false
   },
   "outputs": [
    {
     "name": "stderr",
     "output_type": "stream",
     "text": [
      "/Library/Frameworks/Python.framework/Versions/3.4/lib/python3.4/site-packages/pandas/core/index.py:3141: FutureWarning: elementwise comparison failed; returning scalar instead, but in the future will perform elementwise comparison\n",
      "  return np.sum(name == np.asarray(self.names)) > 1\n"
     ]
    }
   ],
   "source": [
    "month_means = transactions_train[transactions_train.month_num.isin([11, 12, 13])].groupby(['mcc_code', 'month_num']).amount.mean().unstack().fillna(0).reset_index()\n",
    "month_means.columns = ['mcc_code'] + ['mean_month_' + str(x) for x in month_means.columns[1:]]"
   ]
  },
  {
   "cell_type": "code",
   "execution_count": 16,
   "metadata": {
    "collapsed": false
   },
   "outputs": [
    {
     "name": "stderr",
     "output_type": "stream",
     "text": [
      "/Library/Frameworks/Python.framework/Versions/3.4/lib/python3.4/site-packages/pandas/core/index.py:3141: FutureWarning: elementwise comparison failed; returning scalar instead, but in the future will perform elementwise comparison\n",
      "  return np.sum(name == np.asarray(self.names)) > 1\n"
     ]
    }
   ],
   "source": [
    "month_means_all = transactions[(transactions['amount']<0) & (transactions.month_num.isin([12, 13, 14]))].groupby(['mcc_code', 'month_num']).amount.mean().unstack().fillna(0).reset_index()\n",
    "month_means_all.columns = ['mcc_code'] + ['mean_month_' + str(int(x)-1) for x in month_means_all.columns[1:]]"
   ]
  },
  {
   "cell_type": "markdown",
   "metadata": {},
   "source": [
    "Берём расходные транзакции и формируем тестовую выборку"
   ]
  },
  {
   "cell_type": "code",
   "execution_count": 17,
   "metadata": {
    "collapsed": true
   },
   "outputs": [],
   "source": [
    "# fit model\n",
    "train_transactions = transactions_train.copy() #transactions[transactions.amount < 0].copy()\n",
    "\n",
    "test_transactions = pd.DataFrame(columns=train_transactions.mcc_code.unique(), \n",
    "                             index=np.arange(1, 38) + train_transactions.day.max())\n",
    "test_transactions = test_transactions.unstack().reset_index().dropna(axis=1)\n",
    "test_transactions.columns = ['mcc_code', 'day']\n",
    "train_grid = pd.DataFrame(columns=train_transactions.mcc_code.unique(), \n",
    "                      index=train_transactions.day.unique())\n",
    "train_grid = train_grid.unstack().reset_index().dropna(axis=1)\n",
    "train_grid.columns = ['mcc_code', 'day']\n",
    "\n",
    "for tr_table in [test_transactions, train_grid]:\n",
    "    tr_table['week_num'] = tr_table['day'] // 7\n",
    "    tr_table['week_day'] = (tr_table['day']+4) % 7\n",
    "    tr_table['month_num'] = tr_table['day'] // 30\n",
    "    tr_table['month_day'] = tr_table['day'] % 30\n",
    "\n",
    "train_transactions = \\\n",
    "pd.merge(train_grid,\n",
    "         train_transactions.groupby(['day', 'week_num', 'week_day', 'month_num', 'month_day', 'mcc_code'])[['amount']]\\\n",
    "             .sum().reset_index(),\n",
    "         how='left').fillna(0)\n",
    "\n",
    "for day_shift in [-1, 0, 1]:\n",
    "    for month_shift in train_transactions.month_num.unique()[1:]:\n",
    "        train_shift = train_transactions.copy()\n",
    "        train_shift['month_num'] += month_shift\n",
    "        train_shift['month_day'] += day_shift\n",
    "        train_shift['amount_day_{}_{}'.format(day_shift, month_shift)] = np.log(-train_shift['amount'] + 1)\n",
    "        train_shift = train_shift[['month_num', 'month_day', 'mcc_code', 'amount_day_{}_{}'.format(day_shift, month_shift)]]\n",
    "\n",
    "        train_transactions = pd.merge(train_transactions, train_shift, \n",
    "                                      on=['month_num', 'month_day', 'mcc_code'], how='left').fillna(0)\n",
    "        test_transactions = pd.merge(test_transactions, train_shift, \n",
    "                                     on=['month_num', 'month_day', 'mcc_code'], how='left').fillna(0)\n",
    "\n",
    "train_transactions = pd.merge(train_transactions, std_avg_train, on=['mcc_code'], how='left')\n",
    "\n",
    "test_transactions = pd.merge(test_transactions, std_avg_train, on=['mcc_code'], how='left')\n",
    "\n",
    "train_transactions = pd.merge(train_transactions, train_sum_wd, on=['mcc_code', 'week_day'], how='left')\n",
    "\n",
    "test_transactions = pd.merge(test_transactions, train_sum_wd, on=['mcc_code', 'week_day'], how='left')\n",
    "\n",
    "train_transactions = pd.merge(train_transactions, dollars, on=['day'], how='left')\n",
    "\n",
    "test_transactions = pd.merge(test_transactions, dollars, on=['day'], how='left')\n",
    "\n",
    "\n",
    "train_transactions = pd.merge(train_transactions, month_means, on=['mcc_code'], how='left')\n",
    "\n",
    "test_transactions = pd.merge(test_transactions, month_means, on=['mcc_code'], how='left')\n",
    "\n",
    "\n",
    "\n",
    "test_transactions = pd.merge(test_transactions, transactions_fit.groupby(['mcc_code', 'day']).amount.sum().reset_index()\n",
    "                             , on=['mcc_code', 'day'], how='left')\n",
    "\n",
    "test_transactions = test_transactions.fillna(0)\n",
    "\n",
    "train_transactions = pd.merge(train_transactions, p_df, on=['mcc_code'], how='left')\n",
    "\n",
    "test_transactions = pd.merge(test_transactions, p_df, on=['mcc_code'], how='left')\n",
    "\n",
    "train_transactions = pd.merge(train_transactions, holidays, on=['day'], how='left')\n",
    "\n",
    "test_transactions = pd.merge(test_transactions, holidays, on=['day'], how='left')\n",
    "\n",
    "\n",
    "\n",
    "\n",
    "\n",
    "shift = 500\n",
    "train = pd.get_dummies(train_transactions, columns=['mcc_code']).fillna(0)\n",
    "train_fit = pd.get_dummies(test_transactions, columns=['mcc_code']).fillna(0)\n",
    "clmn = train.columns.difference(['amount', 'log_amount'])"
   ]
  },
  {
   "cell_type": "code",
   "execution_count": 19,
   "metadata": {
    "collapsed": false
   },
   "outputs": [
    {
     "data": {
      "text/plain": [
       "XGBRegressor(base_score=0.5, colsample_bylevel=1, colsample_bytree=1, gamma=0,\n",
       "       learning_rate=0.05, max_delta_step=0, max_depth=4,\n",
       "       min_child_weight=1, missing=None, n_estimators=801, nthread=-1,\n",
       "       objective='reg:linear', reg_alpha=0, reg_lambda=1,\n",
       "       scale_pos_weight=1, seed=0, silent=True, subsample=1)"
      ]
     },
     "execution_count": 19,
     "metadata": {},
     "output_type": "execute_result"
    }
   ],
   "source": [
    "clf2 = xgb.XGBRegressor(max_depth=4, learning_rate=0.05, n_estimators=801, objective='reg:linear')\n",
    "\n",
    "clf2.fit(train[clmn], np.log(-train['amount'] + shift), early_stopping_rounds=40, eval_metric=\"rmse\", eval_set=[(train_fit[clmn], np.log(-train_fit['amount'] + shift))])"
   ]
  },
  {
   "cell_type": "code",
   "execution_count": 20,
   "metadata": {
    "collapsed": false
   },
   "outputs": [
    {
     "data": {
      "text/plain": [
       "RandomForestRegressor(bootstrap=True, criterion='mse', max_depth=None,\n",
       "           max_features='auto', max_leaf_nodes=None, min_samples_leaf=1,\n",
       "           min_samples_split=2, min_weight_fraction_leaf=0.0,\n",
       "           n_estimators=1000, n_jobs=-1, oob_score=False,\n",
       "           random_state=None, verbose=0, warm_start=False)"
      ]
     },
     "execution_count": 20,
     "metadata": {},
     "output_type": "execute_result"
    }
   ],
   "source": [
    "from sklearn.ensemble import RandomForestRegressor\n",
    "num_trees = 1000\n",
    "model = RandomForestRegressor(n_estimators=num_trees, n_jobs=-1)\n",
    "model.fit(train[clmn].fillna(0), np.log(-train['amount'] + shift))"
   ]
  },
  {
   "cell_type": "code",
   "execution_count": 21,
   "metadata": {
    "collapsed": false
   },
   "outputs": [
    {
     "name": "stderr",
     "output_type": "stream",
     "text": [
      "/Library/Frameworks/Python.framework/Versions/3.4/lib/python3.4/site-packages/scipy/linalg/basic.py:884: RuntimeWarning: internal gelsd driver lwork query error, required iwork dimension not returned. This is likely the result of LAPACK bug 0038, fixed in LAPACK 3.2.2 (released July 21, 2010). Falling back to 'gelss' driver.\n",
      "  warnings.warn(mesg, RuntimeWarning)\n"
     ]
    },
    {
     "data": {
      "text/plain": [
       "LinearRegression(copy_X=True, fit_intercept=True, n_jobs=1, normalize=False)"
      ]
     },
     "execution_count": 21,
     "metadata": {},
     "output_type": "execute_result"
    }
   ],
   "source": [
    "from sklearn.linear_model import LinearRegression, Ridge\n",
    "linear_clf = LinearRegression()\n",
    "linear_clf.fit(train[clmn], np.log(-train['amount'] + shift))"
   ]
  },
  {
   "cell_type": "code",
   "execution_count": 27,
   "metadata": {
    "collapsed": false
   },
   "outputs": [
    {
     "name": "stdout",
     "output_type": "stream",
     "text": [
      "linear =  1.60298097918\n",
      "xgb =  1.56339514092\n",
      "rf =  1.60663070556\n"
     ]
    }
   ],
   "source": [
    "from sklearn.metrics import mean_squared_error\n",
    "\n",
    "lr_p = linear_clf.predict(train_fit[clmn])\n",
    "lr_p[(np.e**lr_p - shift) < 0] = 2*np.log(2)+3*np.log(5)\n",
    "xgb_p = clf2.predict(train_fit[clmn])\n",
    "rf_p = model.predict(train_fit[clmn])\n",
    "print(\"linear = \",mean_squared_error(lr_p, np.log(-train_fit['amount'] + shift))**0.5)\n",
    "print(\"xgb = \",mean_squared_error(xgb_p, np.log(-train_fit['amount'] + shift))**0.5)\n",
    "print(\"rf = \",mean_squared_error(rf_p, np.log(-train_fit['amount'] + shift))**0.5)\n",
    "\n"
   ]
  },
  {
   "cell_type": "code",
   "execution_count": 41,
   "metadata": {
    "collapsed": false
   },
   "outputs": [
    {
     "name": "stdout",
     "output_type": "stream",
     "text": [
      "1.56189418425\n"
     ]
    },
    {
     "data": {
      "text/plain": [
       "(0.84, 0.155, 0.005)"
      ]
     },
     "execution_count": 41,
     "metadata": {},
     "output_type": "execute_result"
    }
   ],
   "source": [
    "min_err = 3\n",
    "a_min, b_min, c_min = 0, 1, 0\n",
    "step = 200\n",
    "for  a  in range(step):\n",
    "    for b in range(step-a):\n",
    "        c = step - b - a\n",
    "        mixed_ans = xgb_p/step*a+ rf_p/step*b + lr_p/step*c\n",
    "        mixed_ans[(np.e**mixed_ans - shift)<0] = 0\n",
    "        err = mean_squared_error(mixed_ans,  np.log(-train_fit['amount'] + shift))**0.5\n",
    "        if err < min_err:\n",
    "            a_min, b_min, c_min = a/step, b/step, c/step\n",
    "            min_err = err\n",
    "print(min_err)\n",
    "(a_min, b_min, c_min)           "
   ]
  },
  {
   "cell_type": "markdown",
   "metadata": {
    "collapsed": false
   },
   "source": [
    "теперь строим трейны на всех данных и предиктим"
   ]
  },
  {
   "cell_type": "code",
   "execution_count": 32,
   "metadata": {
    "collapsed": true
   },
   "outputs": [],
   "source": [
    "train_transactions = transactions[transactions.amount < 0].copy()\n",
    "\n",
    "test_transactions = pd.DataFrame(columns=train_transactions.mcc_code.unique(), \n",
    "                             index=np.arange(1, 31) + train_transactions.day.max())\n",
    "test_transactions = test_transactions.unstack().reset_index().dropna(axis=1)\n",
    "test_transactions.columns = ['mcc_code', 'day']\n",
    "train_grid = pd.DataFrame(columns=train_transactions.mcc_code.unique(), \n",
    "                      index=train_transactions.day.unique())\n",
    "train_grid = train_grid.unstack().reset_index().dropna(axis=1)\n",
    "train_grid.columns = ['mcc_code', 'day']\n",
    "\n",
    "for tr_table in [test_transactions, train_grid]:\n",
    "    tr_table['week_num'] = tr_table['day'] // 7\n",
    "    tr_table['week_day'] = (tr_table['day']+4) % 7\n",
    "    tr_table['month_num'] = tr_table['day'] // 30\n",
    "    tr_table['month_day'] = tr_table['day'] % 30\n",
    "\n",
    "train_transactions = \\\n",
    "pd.merge(train_grid,\n",
    "         train_transactions.groupby(['day', 'week_num', 'week_day', 'month_num', 'month_day', 'mcc_code'])[['amount']]\\\n",
    "             .sum().reset_index(),\n",
    "         how='left').fillna(0)\n",
    "for day_shift in [-1, 0, 1]:\n",
    "    for month_shift in train_transactions.month_num.unique()[1:]:\n",
    "        train_shift = train_transactions.copy()\n",
    "        train_shift['month_num'] += month_shift\n",
    "        train_shift['month_day'] += day_shift\n",
    "        train_shift['amount_day_{}_{}'.format(day_shift, month_shift)] = np.log(-train_shift['amount'] + 1)\n",
    "        train_shift = train_shift[['month_num', 'month_day', 'mcc_code', 'amount_day_{}_{}'.format(day_shift, month_shift)]]\n",
    "\n",
    "        train_transactions = pd.merge(train_transactions, train_shift, \n",
    "                                      on=['month_num', 'month_day', 'mcc_code'], how='left').fillna(0)\n",
    "        test_transactions = pd.merge(test_transactions, train_shift, \n",
    "                                     on=['month_num', 'month_day', 'mcc_code'], how='left').fillna(0)\n",
    "\n",
    "train_transactions = pd.merge(train_transactions, std_avg_all, on=['mcc_code'], how='left')\n",
    "\n",
    "test_transactions = pd.merge(test_transactions, std_avg_all, on=['mcc_code'], how='left')\n",
    "\n",
    "train_transactions = pd.merge(train_transactions, dollars, on=['day'], how='left')\n",
    "\n",
    "test_transactions = pd.merge(test_transactions, dollars, on=['day'], how='left')\n",
    "\n",
    "train_transactions = pd.merge(train_transactions, all_sum_wd, on=['mcc_code', 'week_day'], how='left')\n",
    "\n",
    "test_transactions = pd.merge(test_transactions, all_sum_wd, on=['mcc_code', 'week_day'], how='left')\n",
    "\n",
    "train_transactions = pd.merge(train_transactions, month_means_all, on=['mcc_code'], how='left')\n",
    "\n",
    "test_transactions = pd.merge(test_transactions, month_means_all, on=['mcc_code'], how='left')\n",
    "\n",
    "train_transactions = pd.merge(train_transactions, p_df, on=['mcc_code'], how='left')\n",
    "\n",
    "test_transactions = pd.merge(test_transactions, p_df, on=['mcc_code'], how='left')\n",
    "\n",
    "train_transactions = pd.merge(train_transactions, holidays, on=['day'], how='left')\n",
    "\n",
    "test_transactions = pd.merge(test_transactions, holidays, on=['day'], how='left')\n",
    "\n",
    "train = pd.get_dummies(train_transactions, columns=['mcc_code'])\n",
    "train = train.fillna(0)\n",
    "\n",
    "test = pd.get_dummies(test_transactions, columns=['mcc_code'])\n",
    "test = test.fillna(0)"
   ]
  },
  {
   "cell_type": "code",
   "execution_count": 33,
   "metadata": {
    "collapsed": false
   },
   "outputs": [],
   "source": [
    "xgb_ans = clf2.predict(test[clmn])\n",
    "rf_ans = model.predict(test[clmn])\n",
    "linear_ans = linear_clf.predict(test[clmn])"
   ]
  },
  {
   "cell_type": "code",
   "execution_count": 36,
   "metadata": {
    "collapsed": false
   },
   "outputs": [],
   "source": [
    "mixed = a_min*xgb_ans + b_min*rf_ans + c_min*linear_ans\n",
    "mixed = np.e**mixed - shift\n",
    "mixed[mixed<0] = 0"
   ]
  },
  {
   "cell_type": "code",
   "execution_count": 38,
   "metadata": {
    "collapsed": false
   },
   "outputs": [],
   "source": [
    "test_transactions['volume'] = mixed"
   ]
  },
  {
   "cell_type": "markdown",
   "metadata": {},
   "source": [
    "Предсказываем объём трат для тестовых данных и создаём файл с ответом"
   ]
  },
  {
   "cell_type": "code",
   "execution_count": 39,
   "metadata": {
    "collapsed": true
   },
   "outputs": [],
   "source": [
    "test_transactions[['mcc_code', 'day', 'volume']].to_csv('b.csv', index=False)"
   ]
  },
  {
   "cell_type": "code",
   "execution_count": null,
   "metadata": {
    "collapsed": true
   },
   "outputs": [],
   "source": []
  }
 ],
 "metadata": {
  "kernelspec": {
   "display_name": "Python 3",
   "language": "python",
   "name": "python3"
  },
  "language_info": {
   "codemirror_mode": {
    "name": "ipython",
    "version": 3
   },
   "file_extension": ".py",
   "mimetype": "text/x-python",
   "name": "python",
   "nbconvert_exporter": "python",
   "pygments_lexer": "ipython3",
   "version": "3.4.2"
  }
 },
 "nbformat": 4,
 "nbformat_minor": 0
}
