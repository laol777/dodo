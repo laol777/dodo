{
 "cells": [
  {
   "cell_type": "code",
   "execution_count": 6,
   "metadata": {
    "collapsed": false
   },
   "outputs": [],
   "source": [
    "import pandas as pd\n",
    "import matplotlib\n",
    "import numpy as np\n",
    "import matplotlib.pyplot as plt\n",
    "\n",
    "%matplotlib inline  \n",
    "\n",
    "from __future__ import division\n",
    "\n",
    "import calendar\n",
    "\n",
    "import sklearn\n",
    "from sklearn.linear_model import LinearRegression\n",
    "from sklearn import linear_model\n",
    "\n",
    "from sklearn.ensemble import RandomForestRegressor\n",
    "from sklearn.cross_validation import KFold\n",
    "from sklearn.metrics import mean_absolute_error as mae\n",
    "from sklearn.ensemble import GradientBoostingRegressor\n",
    "from sklearn.neighbors import KNeighborsRegressor"
   ]
  },
  {
   "cell_type": "code",
   "execution_count": 3,
   "metadata": {
    "collapsed": false
   },
   "outputs": [],
   "source": [
    "train = pd.read_csv(\"train.csv\")\n",
    "test = pd.read_csv(\"test.csv\")\n",
    "data = train.copy()\n",
    "data = data.replace(data.City.unique(), range(len(data.City.unique())))"
   ]
  },
  {
   "cell_type": "code",
   "execution_count": 14,
   "metadata": {
    "collapsed": false
   },
   "outputs": [
    {
     "data": {
      "text/html": [
       "<div>\n",
       "<table border=\"1\" class=\"dataframe\">\n",
       "  <thead>\n",
       "    <tr style=\"text-align: right;\">\n",
       "      <th></th>\n",
       "      <th>Day</th>\n",
       "      <th>Month</th>\n",
       "      <th>Year</th>\n",
       "      <th>City</th>\n",
       "      <th>Count</th>\n",
       "      <th>WeekDay</th>\n",
       "      <th>DayForStartYear</th>\n",
       "      <th>isWeekend</th>\n",
       "      <th>DayForStartTrainPeriod</th>\n",
       "    </tr>\n",
       "  </thead>\n",
       "  <tbody>\n",
       "    <tr>\n",
       "      <th>0</th>\n",
       "      <td>6</td>\n",
       "      <td>10</td>\n",
       "      <td>2011</td>\n",
       "      <td>0</td>\n",
       "      <td>8</td>\n",
       "      <td>3</td>\n",
       "      <td>278</td>\n",
       "      <td>0</td>\n",
       "      <td>0</td>\n",
       "    </tr>\n",
       "    <tr>\n",
       "      <th>1</th>\n",
       "      <td>7</td>\n",
       "      <td>10</td>\n",
       "      <td>2011</td>\n",
       "      <td>0</td>\n",
       "      <td>88</td>\n",
       "      <td>4</td>\n",
       "      <td>279</td>\n",
       "      <td>0</td>\n",
       "      <td>1</td>\n",
       "    </tr>\n",
       "    <tr>\n",
       "      <th>2</th>\n",
       "      <td>9</td>\n",
       "      <td>10</td>\n",
       "      <td>2011</td>\n",
       "      <td>0</td>\n",
       "      <td>1</td>\n",
       "      <td>6</td>\n",
       "      <td>281</td>\n",
       "      <td>1</td>\n",
       "      <td>3</td>\n",
       "    </tr>\n",
       "    <tr>\n",
       "      <th>3</th>\n",
       "      <td>15</td>\n",
       "      <td>11</td>\n",
       "      <td>2011</td>\n",
       "      <td>0</td>\n",
       "      <td>1</td>\n",
       "      <td>1</td>\n",
       "      <td>318</td>\n",
       "      <td>0</td>\n",
       "      <td>40</td>\n",
       "    </tr>\n",
       "    <tr>\n",
       "      <th>4</th>\n",
       "      <td>8</td>\n",
       "      <td>12</td>\n",
       "      <td>2011</td>\n",
       "      <td>0</td>\n",
       "      <td>2</td>\n",
       "      <td>3</td>\n",
       "      <td>341</td>\n",
       "      <td>0</td>\n",
       "      <td>63</td>\n",
       "    </tr>\n",
       "    <tr>\n",
       "      <th>5</th>\n",
       "      <td>9</td>\n",
       "      <td>12</td>\n",
       "      <td>2011</td>\n",
       "      <td>0</td>\n",
       "      <td>43</td>\n",
       "      <td>4</td>\n",
       "      <td>342</td>\n",
       "      <td>0</td>\n",
       "      <td>64</td>\n",
       "    </tr>\n",
       "    <tr>\n",
       "      <th>6</th>\n",
       "      <td>10</td>\n",
       "      <td>12</td>\n",
       "      <td>2011</td>\n",
       "      <td>0</td>\n",
       "      <td>10</td>\n",
       "      <td>5</td>\n",
       "      <td>343</td>\n",
       "      <td>1</td>\n",
       "      <td>65</td>\n",
       "    </tr>\n",
       "    <tr>\n",
       "      <th>7</th>\n",
       "      <td>11</td>\n",
       "      <td>12</td>\n",
       "      <td>2011</td>\n",
       "      <td>0</td>\n",
       "      <td>1</td>\n",
       "      <td>6</td>\n",
       "      <td>344</td>\n",
       "      <td>1</td>\n",
       "      <td>66</td>\n",
       "    </tr>\n",
       "    <tr>\n",
       "      <th>8</th>\n",
       "      <td>13</td>\n",
       "      <td>12</td>\n",
       "      <td>2011</td>\n",
       "      <td>0</td>\n",
       "      <td>60</td>\n",
       "      <td>1</td>\n",
       "      <td>346</td>\n",
       "      <td>0</td>\n",
       "      <td>68</td>\n",
       "    </tr>\n",
       "    <tr>\n",
       "      <th>9</th>\n",
       "      <td>15</td>\n",
       "      <td>12</td>\n",
       "      <td>2011</td>\n",
       "      <td>0</td>\n",
       "      <td>96</td>\n",
       "      <td>3</td>\n",
       "      <td>348</td>\n",
       "      <td>0</td>\n",
       "      <td>70</td>\n",
       "    </tr>\n",
       "    <tr>\n",
       "      <th>10</th>\n",
       "      <td>16</td>\n",
       "      <td>12</td>\n",
       "      <td>2011</td>\n",
       "      <td>0</td>\n",
       "      <td>134</td>\n",
       "      <td>4</td>\n",
       "      <td>349</td>\n",
       "      <td>0</td>\n",
       "      <td>71</td>\n",
       "    </tr>\n",
       "    <tr>\n",
       "      <th>11</th>\n",
       "      <td>17</td>\n",
       "      <td>12</td>\n",
       "      <td>2011</td>\n",
       "      <td>0</td>\n",
       "      <td>112</td>\n",
       "      <td>5</td>\n",
       "      <td>350</td>\n",
       "      <td>1</td>\n",
       "      <td>72</td>\n",
       "    </tr>\n",
       "    <tr>\n",
       "      <th>12</th>\n",
       "      <td>18</td>\n",
       "      <td>12</td>\n",
       "      <td>2011</td>\n",
       "      <td>0</td>\n",
       "      <td>100</td>\n",
       "      <td>6</td>\n",
       "      <td>351</td>\n",
       "      <td>1</td>\n",
       "      <td>73</td>\n",
       "    </tr>\n",
       "    <tr>\n",
       "      <th>13</th>\n",
       "      <td>20</td>\n",
       "      <td>12</td>\n",
       "      <td>2011</td>\n",
       "      <td>0</td>\n",
       "      <td>73</td>\n",
       "      <td>1</td>\n",
       "      <td>353</td>\n",
       "      <td>0</td>\n",
       "      <td>75</td>\n",
       "    </tr>\n",
       "    <tr>\n",
       "      <th>14</th>\n",
       "      <td>21</td>\n",
       "      <td>12</td>\n",
       "      <td>2011</td>\n",
       "      <td>0</td>\n",
       "      <td>94</td>\n",
       "      <td>2</td>\n",
       "      <td>354</td>\n",
       "      <td>0</td>\n",
       "      <td>76</td>\n",
       "    </tr>\n",
       "    <tr>\n",
       "      <th>15</th>\n",
       "      <td>22</td>\n",
       "      <td>12</td>\n",
       "      <td>2011</td>\n",
       "      <td>0</td>\n",
       "      <td>94</td>\n",
       "      <td>3</td>\n",
       "      <td>355</td>\n",
       "      <td>0</td>\n",
       "      <td>77</td>\n",
       "    </tr>\n",
       "    <tr>\n",
       "      <th>16</th>\n",
       "      <td>23</td>\n",
       "      <td>12</td>\n",
       "      <td>2011</td>\n",
       "      <td>0</td>\n",
       "      <td>129</td>\n",
       "      <td>4</td>\n",
       "      <td>356</td>\n",
       "      <td>0</td>\n",
       "      <td>78</td>\n",
       "    </tr>\n",
       "    <tr>\n",
       "      <th>17</th>\n",
       "      <td>24</td>\n",
       "      <td>12</td>\n",
       "      <td>2011</td>\n",
       "      <td>0</td>\n",
       "      <td>164</td>\n",
       "      <td>5</td>\n",
       "      <td>357</td>\n",
       "      <td>1</td>\n",
       "      <td>79</td>\n",
       "    </tr>\n",
       "    <tr>\n",
       "      <th>18</th>\n",
       "      <td>25</td>\n",
       "      <td>12</td>\n",
       "      <td>2011</td>\n",
       "      <td>0</td>\n",
       "      <td>122</td>\n",
       "      <td>6</td>\n",
       "      <td>358</td>\n",
       "      <td>1</td>\n",
       "      <td>80</td>\n",
       "    </tr>\n",
       "    <tr>\n",
       "      <th>19</th>\n",
       "      <td>28</td>\n",
       "      <td>12</td>\n",
       "      <td>2011</td>\n",
       "      <td>0</td>\n",
       "      <td>128</td>\n",
       "      <td>2</td>\n",
       "      <td>361</td>\n",
       "      <td>0</td>\n",
       "      <td>83</td>\n",
       "    </tr>\n",
       "    <tr>\n",
       "      <th>20</th>\n",
       "      <td>29</td>\n",
       "      <td>12</td>\n",
       "      <td>2011</td>\n",
       "      <td>0</td>\n",
       "      <td>172</td>\n",
       "      <td>3</td>\n",
       "      <td>362</td>\n",
       "      <td>0</td>\n",
       "      <td>84</td>\n",
       "    </tr>\n",
       "    <tr>\n",
       "      <th>21</th>\n",
       "      <td>30</td>\n",
       "      <td>12</td>\n",
       "      <td>2011</td>\n",
       "      <td>0</td>\n",
       "      <td>223</td>\n",
       "      <td>4</td>\n",
       "      <td>363</td>\n",
       "      <td>0</td>\n",
       "      <td>85</td>\n",
       "    </tr>\n",
       "    <tr>\n",
       "      <th>22</th>\n",
       "      <td>31</td>\n",
       "      <td>12</td>\n",
       "      <td>2011</td>\n",
       "      <td>0</td>\n",
       "      <td>68</td>\n",
       "      <td>5</td>\n",
       "      <td>364</td>\n",
       "      <td>1</td>\n",
       "      <td>86</td>\n",
       "    </tr>\n",
       "    <tr>\n",
       "      <th>23</th>\n",
       "      <td>1</td>\n",
       "      <td>1</td>\n",
       "      <td>2012</td>\n",
       "      <td>0</td>\n",
       "      <td>100</td>\n",
       "      <td>6</td>\n",
       "      <td>0</td>\n",
       "      <td>1</td>\n",
       "      <td>87</td>\n",
       "    </tr>\n",
       "    <tr>\n",
       "      <th>24</th>\n",
       "      <td>2</td>\n",
       "      <td>1</td>\n",
       "      <td>2012</td>\n",
       "      <td>0</td>\n",
       "      <td>169</td>\n",
       "      <td>0</td>\n",
       "      <td>1</td>\n",
       "      <td>0</td>\n",
       "      <td>88</td>\n",
       "    </tr>\n",
       "    <tr>\n",
       "      <th>25</th>\n",
       "      <td>3</td>\n",
       "      <td>1</td>\n",
       "      <td>2012</td>\n",
       "      <td>0</td>\n",
       "      <td>142</td>\n",
       "      <td>1</td>\n",
       "      <td>2</td>\n",
       "      <td>0</td>\n",
       "      <td>89</td>\n",
       "    </tr>\n",
       "    <tr>\n",
       "      <th>26</th>\n",
       "      <td>4</td>\n",
       "      <td>1</td>\n",
       "      <td>2012</td>\n",
       "      <td>0</td>\n",
       "      <td>130</td>\n",
       "      <td>2</td>\n",
       "      <td>3</td>\n",
       "      <td>0</td>\n",
       "      <td>90</td>\n",
       "    </tr>\n",
       "    <tr>\n",
       "      <th>27</th>\n",
       "      <td>5</td>\n",
       "      <td>1</td>\n",
       "      <td>2012</td>\n",
       "      <td>0</td>\n",
       "      <td>119</td>\n",
       "      <td>3</td>\n",
       "      <td>4</td>\n",
       "      <td>0</td>\n",
       "      <td>91</td>\n",
       "    </tr>\n",
       "    <tr>\n",
       "      <th>28</th>\n",
       "      <td>6</td>\n",
       "      <td>1</td>\n",
       "      <td>2012</td>\n",
       "      <td>0</td>\n",
       "      <td>128</td>\n",
       "      <td>4</td>\n",
       "      <td>5</td>\n",
       "      <td>0</td>\n",
       "      <td>92</td>\n",
       "    </tr>\n",
       "    <tr>\n",
       "      <th>29</th>\n",
       "      <td>7</td>\n",
       "      <td>1</td>\n",
       "      <td>2012</td>\n",
       "      <td>0</td>\n",
       "      <td>128</td>\n",
       "      <td>5</td>\n",
       "      <td>6</td>\n",
       "      <td>1</td>\n",
       "      <td>93</td>\n",
       "    </tr>\n",
       "    <tr>\n",
       "      <th>...</th>\n",
       "      <td>...</td>\n",
       "      <td>...</td>\n",
       "      <td>...</td>\n",
       "      <td>...</td>\n",
       "      <td>...</td>\n",
       "      <td>...</td>\n",
       "      <td>...</td>\n",
       "      <td>...</td>\n",
       "      <td>...</td>\n",
       "    </tr>\n",
       "    <tr>\n",
       "      <th>46018</th>\n",
       "      <td>19</td>\n",
       "      <td>10</td>\n",
       "      <td>2016</td>\n",
       "      <td>5</td>\n",
       "      <td>240</td>\n",
       "      <td>2</td>\n",
       "      <td>292</td>\n",
       "      <td>0</td>\n",
       "      <td>1840</td>\n",
       "    </tr>\n",
       "    <tr>\n",
       "      <th>46019</th>\n",
       "      <td>19</td>\n",
       "      <td>10</td>\n",
       "      <td>2016</td>\n",
       "      <td>100</td>\n",
       "      <td>98</td>\n",
       "      <td>2</td>\n",
       "      <td>292</td>\n",
       "      <td>0</td>\n",
       "      <td>1840</td>\n",
       "    </tr>\n",
       "    <tr>\n",
       "      <th>46020</th>\n",
       "      <td>19</td>\n",
       "      <td>10</td>\n",
       "      <td>2016</td>\n",
       "      <td>6</td>\n",
       "      <td>127</td>\n",
       "      <td>2</td>\n",
       "      <td>292</td>\n",
       "      <td>0</td>\n",
       "      <td>1840</td>\n",
       "    </tr>\n",
       "    <tr>\n",
       "      <th>46021</th>\n",
       "      <td>19</td>\n",
       "      <td>10</td>\n",
       "      <td>2016</td>\n",
       "      <td>97</td>\n",
       "      <td>46</td>\n",
       "      <td>2</td>\n",
       "      <td>292</td>\n",
       "      <td>0</td>\n",
       "      <td>1840</td>\n",
       "    </tr>\n",
       "    <tr>\n",
       "      <th>46022</th>\n",
       "      <td>19</td>\n",
       "      <td>10</td>\n",
       "      <td>2016</td>\n",
       "      <td>51</td>\n",
       "      <td>65</td>\n",
       "      <td>2</td>\n",
       "      <td>292</td>\n",
       "      <td>0</td>\n",
       "      <td>1840</td>\n",
       "    </tr>\n",
       "    <tr>\n",
       "      <th>46023</th>\n",
       "      <td>19</td>\n",
       "      <td>10</td>\n",
       "      <td>2016</td>\n",
       "      <td>53</td>\n",
       "      <td>105</td>\n",
       "      <td>2</td>\n",
       "      <td>292</td>\n",
       "      <td>0</td>\n",
       "      <td>1840</td>\n",
       "    </tr>\n",
       "    <tr>\n",
       "      <th>46024</th>\n",
       "      <td>19</td>\n",
       "      <td>10</td>\n",
       "      <td>2016</td>\n",
       "      <td>40</td>\n",
       "      <td>86</td>\n",
       "      <td>2</td>\n",
       "      <td>292</td>\n",
       "      <td>0</td>\n",
       "      <td>1840</td>\n",
       "    </tr>\n",
       "    <tr>\n",
       "      <th>46025</th>\n",
       "      <td>19</td>\n",
       "      <td>10</td>\n",
       "      <td>2016</td>\n",
       "      <td>25</td>\n",
       "      <td>58</td>\n",
       "      <td>2</td>\n",
       "      <td>292</td>\n",
       "      <td>0</td>\n",
       "      <td>1840</td>\n",
       "    </tr>\n",
       "    <tr>\n",
       "      <th>46026</th>\n",
       "      <td>19</td>\n",
       "      <td>10</td>\n",
       "      <td>2016</td>\n",
       "      <td>89</td>\n",
       "      <td>117</td>\n",
       "      <td>2</td>\n",
       "      <td>292</td>\n",
       "      <td>0</td>\n",
       "      <td>1840</td>\n",
       "    </tr>\n",
       "    <tr>\n",
       "      <th>46027</th>\n",
       "      <td>19</td>\n",
       "      <td>10</td>\n",
       "      <td>2016</td>\n",
       "      <td>18</td>\n",
       "      <td>56</td>\n",
       "      <td>2</td>\n",
       "      <td>292</td>\n",
       "      <td>0</td>\n",
       "      <td>1840</td>\n",
       "    </tr>\n",
       "    <tr>\n",
       "      <th>46028</th>\n",
       "      <td>19</td>\n",
       "      <td>10</td>\n",
       "      <td>2016</td>\n",
       "      <td>47</td>\n",
       "      <td>178</td>\n",
       "      <td>2</td>\n",
       "      <td>292</td>\n",
       "      <td>0</td>\n",
       "      <td>1840</td>\n",
       "    </tr>\n",
       "    <tr>\n",
       "      <th>46029</th>\n",
       "      <td>19</td>\n",
       "      <td>10</td>\n",
       "      <td>2016</td>\n",
       "      <td>37</td>\n",
       "      <td>125</td>\n",
       "      <td>2</td>\n",
       "      <td>292</td>\n",
       "      <td>0</td>\n",
       "      <td>1840</td>\n",
       "    </tr>\n",
       "    <tr>\n",
       "      <th>46030</th>\n",
       "      <td>19</td>\n",
       "      <td>10</td>\n",
       "      <td>2016</td>\n",
       "      <td>82</td>\n",
       "      <td>81</td>\n",
       "      <td>2</td>\n",
       "      <td>292</td>\n",
       "      <td>0</td>\n",
       "      <td>1840</td>\n",
       "    </tr>\n",
       "    <tr>\n",
       "      <th>46031</th>\n",
       "      <td>19</td>\n",
       "      <td>10</td>\n",
       "      <td>2016</td>\n",
       "      <td>112</td>\n",
       "      <td>78</td>\n",
       "      <td>2</td>\n",
       "      <td>292</td>\n",
       "      <td>0</td>\n",
       "      <td>1840</td>\n",
       "    </tr>\n",
       "    <tr>\n",
       "      <th>46032</th>\n",
       "      <td>19</td>\n",
       "      <td>10</td>\n",
       "      <td>2016</td>\n",
       "      <td>98</td>\n",
       "      <td>36</td>\n",
       "      <td>2</td>\n",
       "      <td>292</td>\n",
       "      <td>0</td>\n",
       "      <td>1840</td>\n",
       "    </tr>\n",
       "    <tr>\n",
       "      <th>46033</th>\n",
       "      <td>19</td>\n",
       "      <td>10</td>\n",
       "      <td>2016</td>\n",
       "      <td>48</td>\n",
       "      <td>95</td>\n",
       "      <td>2</td>\n",
       "      <td>292</td>\n",
       "      <td>0</td>\n",
       "      <td>1840</td>\n",
       "    </tr>\n",
       "    <tr>\n",
       "      <th>46034</th>\n",
       "      <td>19</td>\n",
       "      <td>10</td>\n",
       "      <td>2016</td>\n",
       "      <td>34</td>\n",
       "      <td>190</td>\n",
       "      <td>2</td>\n",
       "      <td>292</td>\n",
       "      <td>0</td>\n",
       "      <td>1840</td>\n",
       "    </tr>\n",
       "    <tr>\n",
       "      <th>46035</th>\n",
       "      <td>19</td>\n",
       "      <td>10</td>\n",
       "      <td>2016</td>\n",
       "      <td>10</td>\n",
       "      <td>111</td>\n",
       "      <td>2</td>\n",
       "      <td>292</td>\n",
       "      <td>0</td>\n",
       "      <td>1840</td>\n",
       "    </tr>\n",
       "    <tr>\n",
       "      <th>46036</th>\n",
       "      <td>19</td>\n",
       "      <td>10</td>\n",
       "      <td>2016</td>\n",
       "      <td>13</td>\n",
       "      <td>33</td>\n",
       "      <td>2</td>\n",
       "      <td>292</td>\n",
       "      <td>0</td>\n",
       "      <td>1840</td>\n",
       "    </tr>\n",
       "    <tr>\n",
       "      <th>46037</th>\n",
       "      <td>19</td>\n",
       "      <td>10</td>\n",
       "      <td>2016</td>\n",
       "      <td>61</td>\n",
       "      <td>139</td>\n",
       "      <td>2</td>\n",
       "      <td>292</td>\n",
       "      <td>0</td>\n",
       "      <td>1840</td>\n",
       "    </tr>\n",
       "    <tr>\n",
       "      <th>46038</th>\n",
       "      <td>19</td>\n",
       "      <td>10</td>\n",
       "      <td>2016</td>\n",
       "      <td>65</td>\n",
       "      <td>69</td>\n",
       "      <td>2</td>\n",
       "      <td>292</td>\n",
       "      <td>0</td>\n",
       "      <td>1840</td>\n",
       "    </tr>\n",
       "    <tr>\n",
       "      <th>46039</th>\n",
       "      <td>19</td>\n",
       "      <td>10</td>\n",
       "      <td>2016</td>\n",
       "      <td>32</td>\n",
       "      <td>130</td>\n",
       "      <td>2</td>\n",
       "      <td>292</td>\n",
       "      <td>0</td>\n",
       "      <td>1840</td>\n",
       "    </tr>\n",
       "    <tr>\n",
       "      <th>46040</th>\n",
       "      <td>19</td>\n",
       "      <td>10</td>\n",
       "      <td>2016</td>\n",
       "      <td>16</td>\n",
       "      <td>48</td>\n",
       "      <td>2</td>\n",
       "      <td>292</td>\n",
       "      <td>0</td>\n",
       "      <td>1840</td>\n",
       "    </tr>\n",
       "    <tr>\n",
       "      <th>46041</th>\n",
       "      <td>19</td>\n",
       "      <td>10</td>\n",
       "      <td>2016</td>\n",
       "      <td>85</td>\n",
       "      <td>43</td>\n",
       "      <td>2</td>\n",
       "      <td>292</td>\n",
       "      <td>0</td>\n",
       "      <td>1840</td>\n",
       "    </tr>\n",
       "    <tr>\n",
       "      <th>46042</th>\n",
       "      <td>19</td>\n",
       "      <td>10</td>\n",
       "      <td>2016</td>\n",
       "      <td>27</td>\n",
       "      <td>39</td>\n",
       "      <td>2</td>\n",
       "      <td>292</td>\n",
       "      <td>0</td>\n",
       "      <td>1840</td>\n",
       "    </tr>\n",
       "    <tr>\n",
       "      <th>46043</th>\n",
       "      <td>19</td>\n",
       "      <td>10</td>\n",
       "      <td>2016</td>\n",
       "      <td>102</td>\n",
       "      <td>75</td>\n",
       "      <td>2</td>\n",
       "      <td>292</td>\n",
       "      <td>0</td>\n",
       "      <td>1840</td>\n",
       "    </tr>\n",
       "    <tr>\n",
       "      <th>46044</th>\n",
       "      <td>19</td>\n",
       "      <td>10</td>\n",
       "      <td>2016</td>\n",
       "      <td>45</td>\n",
       "      <td>41</td>\n",
       "      <td>2</td>\n",
       "      <td>292</td>\n",
       "      <td>0</td>\n",
       "      <td>1840</td>\n",
       "    </tr>\n",
       "    <tr>\n",
       "      <th>46045</th>\n",
       "      <td>19</td>\n",
       "      <td>10</td>\n",
       "      <td>2016</td>\n",
       "      <td>68</td>\n",
       "      <td>134</td>\n",
       "      <td>2</td>\n",
       "      <td>292</td>\n",
       "      <td>0</td>\n",
       "      <td>1840</td>\n",
       "    </tr>\n",
       "    <tr>\n",
       "      <th>46046</th>\n",
       "      <td>19</td>\n",
       "      <td>10</td>\n",
       "      <td>2016</td>\n",
       "      <td>54</td>\n",
       "      <td>68</td>\n",
       "      <td>2</td>\n",
       "      <td>292</td>\n",
       "      <td>0</td>\n",
       "      <td>1840</td>\n",
       "    </tr>\n",
       "    <tr>\n",
       "      <th>46047</th>\n",
       "      <td>19</td>\n",
       "      <td>10</td>\n",
       "      <td>2016</td>\n",
       "      <td>64</td>\n",
       "      <td>105</td>\n",
       "      <td>2</td>\n",
       "      <td>292</td>\n",
       "      <td>0</td>\n",
       "      <td>1840</td>\n",
       "    </tr>\n",
       "  </tbody>\n",
       "</table>\n",
       "<p>46048 rows × 9 columns</p>\n",
       "</div>"
      ],
      "text/plain": [
       "       Day  Month  Year  City  Count  WeekDay  DayForStartYear  isWeekend  \\\n",
       "0        6     10  2011     0      8        3              278          0   \n",
       "1        7     10  2011     0     88        4              279          0   \n",
       "2        9     10  2011     0      1        6              281          1   \n",
       "3       15     11  2011     0      1        1              318          0   \n",
       "4        8     12  2011     0      2        3              341          0   \n",
       "5        9     12  2011     0     43        4              342          0   \n",
       "6       10     12  2011     0     10        5              343          1   \n",
       "7       11     12  2011     0      1        6              344          1   \n",
       "8       13     12  2011     0     60        1              346          0   \n",
       "9       15     12  2011     0     96        3              348          0   \n",
       "10      16     12  2011     0    134        4              349          0   \n",
       "11      17     12  2011     0    112        5              350          1   \n",
       "12      18     12  2011     0    100        6              351          1   \n",
       "13      20     12  2011     0     73        1              353          0   \n",
       "14      21     12  2011     0     94        2              354          0   \n",
       "15      22     12  2011     0     94        3              355          0   \n",
       "16      23     12  2011     0    129        4              356          0   \n",
       "17      24     12  2011     0    164        5              357          1   \n",
       "18      25     12  2011     0    122        6              358          1   \n",
       "19      28     12  2011     0    128        2              361          0   \n",
       "20      29     12  2011     0    172        3              362          0   \n",
       "21      30     12  2011     0    223        4              363          0   \n",
       "22      31     12  2011     0     68        5              364          1   \n",
       "23       1      1  2012     0    100        6                0          1   \n",
       "24       2      1  2012     0    169        0                1          0   \n",
       "25       3      1  2012     0    142        1                2          0   \n",
       "26       4      1  2012     0    130        2                3          0   \n",
       "27       5      1  2012     0    119        3                4          0   \n",
       "28       6      1  2012     0    128        4                5          0   \n",
       "29       7      1  2012     0    128        5                6          1   \n",
       "...    ...    ...   ...   ...    ...      ...              ...        ...   \n",
       "46018   19     10  2016     5    240        2              292          0   \n",
       "46019   19     10  2016   100     98        2              292          0   \n",
       "46020   19     10  2016     6    127        2              292          0   \n",
       "46021   19     10  2016    97     46        2              292          0   \n",
       "46022   19     10  2016    51     65        2              292          0   \n",
       "46023   19     10  2016    53    105        2              292          0   \n",
       "46024   19     10  2016    40     86        2              292          0   \n",
       "46025   19     10  2016    25     58        2              292          0   \n",
       "46026   19     10  2016    89    117        2              292          0   \n",
       "46027   19     10  2016    18     56        2              292          0   \n",
       "46028   19     10  2016    47    178        2              292          0   \n",
       "46029   19     10  2016    37    125        2              292          0   \n",
       "46030   19     10  2016    82     81        2              292          0   \n",
       "46031   19     10  2016   112     78        2              292          0   \n",
       "46032   19     10  2016    98     36        2              292          0   \n",
       "46033   19     10  2016    48     95        2              292          0   \n",
       "46034   19     10  2016    34    190        2              292          0   \n",
       "46035   19     10  2016    10    111        2              292          0   \n",
       "46036   19     10  2016    13     33        2              292          0   \n",
       "46037   19     10  2016    61    139        2              292          0   \n",
       "46038   19     10  2016    65     69        2              292          0   \n",
       "46039   19     10  2016    32    130        2              292          0   \n",
       "46040   19     10  2016    16     48        2              292          0   \n",
       "46041   19     10  2016    85     43        2              292          0   \n",
       "46042   19     10  2016    27     39        2              292          0   \n",
       "46043   19     10  2016   102     75        2              292          0   \n",
       "46044   19     10  2016    45     41        2              292          0   \n",
       "46045   19     10  2016    68    134        2              292          0   \n",
       "46046   19     10  2016    54     68        2              292          0   \n",
       "46047   19     10  2016    64    105        2              292          0   \n",
       "\n",
       "       DayForStartTrainPeriod  \n",
       "0                           0  \n",
       "1                           1  \n",
       "2                           3  \n",
       "3                          40  \n",
       "4                          63  \n",
       "5                          64  \n",
       "6                          65  \n",
       "7                          66  \n",
       "8                          68  \n",
       "9                          70  \n",
       "10                         71  \n",
       "11                         72  \n",
       "12                         73  \n",
       "13                         75  \n",
       "14                         76  \n",
       "15                         77  \n",
       "16                         78  \n",
       "17                         79  \n",
       "18                         80  \n",
       "19                         83  \n",
       "20                         84  \n",
       "21                         85  \n",
       "22                         86  \n",
       "23                         87  \n",
       "24                         88  \n",
       "25                         89  \n",
       "26                         90  \n",
       "27                         91  \n",
       "28                         92  \n",
       "29                         93  \n",
       "...                       ...  \n",
       "46018                    1840  \n",
       "46019                    1840  \n",
       "46020                    1840  \n",
       "46021                    1840  \n",
       "46022                    1840  \n",
       "46023                    1840  \n",
       "46024                    1840  \n",
       "46025                    1840  \n",
       "46026                    1840  \n",
       "46027                    1840  \n",
       "46028                    1840  \n",
       "46029                    1840  \n",
       "46030                    1840  \n",
       "46031                    1840  \n",
       "46032                    1840  \n",
       "46033                    1840  \n",
       "46034                    1840  \n",
       "46035                    1840  \n",
       "46036                    1840  \n",
       "46037                    1840  \n",
       "46038                    1840  \n",
       "46039                    1840  \n",
       "46040                    1840  \n",
       "46041                    1840  \n",
       "46042                    1840  \n",
       "46043                    1840  \n",
       "46044                    1840  \n",
       "46045                    1840  \n",
       "46046                    1840  \n",
       "46047                    1840  \n",
       "\n",
       "[46048 rows x 9 columns]"
      ]
     },
     "execution_count": 14,
     "metadata": {},
     "output_type": "execute_result"
    }
   ],
   "source": [
    "data"
   ]
  },
  {
   "cell_type": "code",
   "execution_count": 2,
   "metadata": {
    "collapsed": false
   },
   "outputs": [],
   "source": []
  },
  {
   "cell_type": "code",
   "execution_count": 3,
   "metadata": {
    "collapsed": false
   },
   "outputs": [
    {
     "name": "stdout",
     "output_type": "stream",
     "text": [
      "(46048, 9)\n",
      "(46048, 122)\n"
     ]
    }
   ],
   "source": [
    "c = train.columns.difference(['City'])\n",
    "trainNew = pd.get_dummies(train, columns=['City'])\n",
    "print train.shape\n",
    "print trainNew.shape"
   ]
  },
  {
   "cell_type": "code",
   "execution_count": 3,
   "metadata": {
    "collapsed": false
   },
   "outputs": [],
   "source": []
  },
  {
   "cell_type": "code",
   "execution_count": 17,
   "metadata": {
    "collapsed": false
   },
   "outputs": [],
   "source": []
  },
  {
   "cell_type": "code",
   "execution_count": 5,
   "metadata": {
    "collapsed": false
   },
   "outputs": [],
   "source": []
  },
  {
   "cell_type": "code",
   "execution_count": 5,
   "metadata": {
    "collapsed": false
   },
   "outputs": [],
   "source": []
  },
  {
   "cell_type": "code",
   "execution_count": 6,
   "metadata": {
    "collapsed": false
   },
   "outputs": [],
   "source": []
  },
  {
   "cell_type": "code",
   "execution_count": 6,
   "metadata": {
    "collapsed": false
   },
   "outputs": [],
   "source": []
  },
  {
   "cell_type": "code",
   "execution_count": 6,
   "metadata": {
    "collapsed": false
   },
   "outputs": [
    {
     "data": {
      "text/plain": [
       "'\\nres = []\\nk = 0\\nfor i in X_test.index:\\n    tmp = MeanPredict(X_train, y_train, X_test.City[i], X_test.Year[i], X_test.Month[i], X_test.Day[i])\\n    res.append(tmp)\\n    if((k % 100) == 0):\\n        print k,\\n    k += 1\\n'"
      ]
     },
     "execution_count": 6,
     "metadata": {},
     "output_type": "execute_result"
    }
   ],
   "source": [
    "def MeanPredict(X_train, y_train, city, year, month, day):\n",
    "    top = calendar.datetime.date(3000, 10, 10)\n",
    "    topIndex = None\n",
    "    down = calendar.datetime.date(1000, 10, 10)\n",
    "    downIndex = None\n",
    "\n",
    "    currentDate = calendar.datetime.date(year, month, day)\n",
    "\n",
    "    for i in X_train[(X_train.City == city)].index:\n",
    "        tmpDay = calendar.datetime.date(X_train.Year[i], X_train.Month[i], X_train.Day[i])\n",
    "        if((tmpDay > currentDate) & (tmpDay < top)):\n",
    "            top = tmpDay\n",
    "            topIndex = i\n",
    "        if((tmpDay < currentDate) & (tmpDay > down)):\n",
    "            down = tmpDay\n",
    "            downIndex = i\n",
    "\n",
    "    count = 0\n",
    "    if(topIndex == None):\n",
    "        count = y_train[downIndex]\n",
    "    if(downIndex == None):\n",
    "        count = y_train[topIndex]\n",
    "    if((downIndex != None) & (topIndex != None)):\n",
    "        allInter = (top - down).days\n",
    "        downInter = (currentDate - down).days\n",
    "        topInter = (top - currentDate).days\n",
    "        count = (topInter/allInter) * y_train[topIndex] + (downInter/allInter) * y_train[downIndex]\n",
    "    return count\n",
    "'''\n",
    "res = []\n",
    "k = 0\n",
    "for i in X_test.index:\n",
    "    tmp = MeanPredict(X_train, y_train, X_test.City[i], X_test.Year[i], X_test.Month[i], X_test.Day[i])\n",
    "    res.append(tmp)\n",
    "    if((k % 100) == 0):\n",
    "        print k,\n",
    "    k += 1\n",
    "'''"
   ]
  },
  {
   "cell_type": "code",
   "execution_count": 7,
   "metadata": {
    "collapsed": false
   },
   "outputs": [],
   "source": []
  },
  {
   "cell_type": "code",
   "execution_count": 7,
   "metadata": {
    "collapsed": false
   },
   "outputs": [],
   "source": []
  },
  {
   "cell_type": "code",
   "execution_count": 7,
   "metadata": {
    "collapsed": false
   },
   "outputs": [],
   "source": []
  },
  {
   "cell_type": "code",
   "execution_count": 7,
   "metadata": {
    "collapsed": false
   },
   "outputs": [],
   "source": []
  },
  {
   "cell_type": "code",
   "execution_count": 7,
   "metadata": {
    "collapsed": false
   },
   "outputs": [],
   "source": []
  },
  {
   "cell_type": "code",
   "execution_count": 9,
   "metadata": {
    "collapsed": false
   },
   "outputs": [],
   "source": [
    "def trainModelKfold(data, model, countFold = 5):\n",
    "    meanMae = 0\n",
    "    \n",
    "    c = data.columns.difference(['Count'])\n",
    "    kf = KFold(len(data), n_folds=countFold, shuffle=True)\n",
    "    \n",
    "    for train_index, test_index in kf:\n",
    "        X_train, X_test = data[c].loc[train_index], data[c].loc[test_index]\n",
    "        y_train, y_test = data['Count'].loc[train_index], data['Count'].loc[test_index]\n",
    "        model.fit(X_train.as_matrix(), y_train.as_matrix())\n",
    "        pred = model.predict(X_test)\n",
    "        print (mae(pred, y_test))\n",
    "        meanMae += mae(pred, y_test)\n",
    "    meanMae /= countFold\n",
    "    print (\"result \", meanMae)\n",
    "    return pred"
   ]
  },
  {
   "cell_type": "code",
   "execution_count": 11,
   "metadata": {
    "collapsed": false
   },
   "outputs": [],
   "source": [
    "def trainModelTestTrainSplit(data, model):\n",
    "    c = data.columns.difference(['Count'])\n",
    "    X_train, X_test, y_train, y_test = sklearn.cross_validation.train_test_split(data[c], data['Count'], test_size=0.3)\n",
    "    model.verbose=1\n",
    "    model.fit(X_train.as_matrix(), y_train.as_matrix())\n",
    "    pred = model.predict(X_test)\n",
    "    #pred = map(round, pred)\n",
    "    print (\"result \", mae(pred, y_test))\n",
    "    return model"
   ]
  },
  {
   "cell_type": "code",
   "execution_count": 11,
   "metadata": {
    "collapsed": false
   },
   "outputs": [],
   "source": []
  },
  {
   "cell_type": "code",
   "execution_count": 11,
   "metadata": {
    "collapsed": false
   },
   "outputs": [],
   "source": []
  },
  {
   "cell_type": "code",
   "execution_count": 8,
   "metadata": {
    "collapsed": false
   },
   "outputs": [],
   "source": [
    "#normData\n",
    "data = trainNew.copy()\n",
    "cols_to_norm = [\"Day\", \"Month\", \"Year\"]\n",
    "data[cols_to_norm] = data[cols_to_norm].apply(lambda x: (x - x.mean()) / (x.max() - x.min()))"
   ]
  },
  {
   "cell_type": "code",
   "execution_count": 39,
   "metadata": {
    "collapsed": false
   },
   "outputs": [],
   "source": []
  },
  {
   "cell_type": "code",
   "execution_count": null,
   "metadata": {
    "collapsed": false
   },
   "outputs": [],
   "source": []
  },
  {
   "cell_type": "code",
   "execution_count": 8,
   "metadata": {
    "collapsed": false
   },
   "outputs": [],
   "source": []
  },
  {
   "cell_type": "code",
   "execution_count": null,
   "metadata": {
    "collapsed": false
   },
   "outputs": [],
   "source": []
  },
  {
   "cell_type": "markdown",
   "metadata": {},
   "source": [
    "# Модели"
   ]
  },
  {
   "cell_type": "code",
   "execution_count": 12,
   "metadata": {
    "collapsed": false
   },
   "outputs": [],
   "source": []
  },
  {
   "cell_type": "code",
   "execution_count": 12,
   "metadata": {
    "collapsed": false
   },
   "outputs": [
    {
     "name": "stdout",
     "output_type": "stream",
     "text": [
      "17.3161237785\n",
      "17.36330076\n",
      "18.3345819761\n",
      "19.75\n",
      "19.1746471227\n",
      "17.7109120521\n",
      "19.2692725299\n",
      "19.238762215\n",
      "19.2271986971\n",
      "17.714495114\n",
      "18.4116178067\n",
      "18.6456568947\n",
      "18.051194354\n",
      "17.7119978284\n",
      "17.5280130293\n",
      "18.6875135722\n",
      "18.1910966341\n",
      "18.110369164\n",
      "16.8392508143\n",
      "18.3984799131\n",
      "18.6901737242\n",
      "18.658577633\n",
      "17.9179153094\n",
      "18.5837588267\n",
      "20.0453014666\n",
      "result  18.3828084486\n"
     ]
    }
   ],
   "source": [
    "pred = trainModelKfold(data, RandomForestRegressor(), countFold = 25)"
   ]
  },
  {
   "cell_type": "code",
   "execution_count": 12,
   "metadata": {
    "collapsed": false
   },
   "outputs": [
    {
     "name": "stderr",
     "output_type": "stream",
     "text": [
      "[Parallel(n_jobs=1)]: Done 900 out of 900 | elapsed:  1.9min finished\n",
      "[Parallel(n_jobs=1)]: Done 900 out of 900 | elapsed:    3.5s finished\n"
     ]
    },
    {
     "name": "stdout",
     "output_type": "stream",
     "text": [
      "result  17.9566277396\n"
     ]
    },
    {
     "data": {
      "text/plain": [
       "RandomForestRegressor(bootstrap=True, criterion='mse', max_depth=None,\n",
       "           max_features='auto', max_leaf_nodes=None,\n",
       "           min_impurity_split=1e-07, min_samples_leaf=1,\n",
       "           min_samples_split=2, min_weight_fraction_leaf=0.0,\n",
       "           n_estimators=900, n_jobs=1, oob_score=False, random_state=None,\n",
       "           verbose=1, warm_start=False)"
      ]
     },
     "execution_count": 12,
     "metadata": {},
     "output_type": "execute_result"
    }
   ],
   "source": [
    "trainModelTestTrainSplit(data, sklearn.ensemble.RandomForestRegressor(n_estimators=900))"
   ]
  },
  {
   "cell_type": "code",
   "execution_count": 7,
   "metadata": {
    "collapsed": false
   },
   "outputs": [
    {
     "name": "stdout",
     "output_type": "stream",
     "text": [
      "result  52.8355865532\n"
     ]
    },
    {
     "data": {
      "text/plain": [
       "array([  89.84699844,   88.29157509,  110.55255125, ...,  120.08622759,\n",
       "         90.56408789,  101.98027682])"
      ]
     },
     "execution_count": 7,
     "metadata": {},
     "output_type": "execute_result"
    }
   ],
   "source": [
    "trainModelTestTrainSplit(data, LinearRegression())"
   ]
  },
  {
   "cell_type": "code",
   "execution_count": 31,
   "metadata": {
    "collapsed": false
   },
   "outputs": [
    {
     "name": "stdout",
     "output_type": "stream",
     "text": [
      "result  30.3775054564\n"
     ]
    }
   ],
   "source": [
    "trainModelTestTrainSplit(trainNew, LinearRegression())"
   ]
  },
  {
   "cell_type": "code",
   "execution_count": 19,
   "metadata": {
    "collapsed": false
   },
   "outputs": [
    {
     "name": "stdout",
     "output_type": "stream",
     "text": [
      "result  52.918913329\n"
     ]
    }
   ],
   "source": [
    "trainModelTestTrainSplit(data, linear_model.ElasticNet())"
   ]
  },
  {
   "cell_type": "code",
   "execution_count": 26,
   "metadata": {
    "collapsed": false
   },
   "outputs": [
    {
     "data": {
      "text/plain": [
       "Index([u'Day', u'Month', u'Year', u'City', u'Count', u'WeekDay',\n",
       "       u'DayForStartYear', u'isWeekend', u'DayForStartTrainPeriod'],\n",
       "      dtype='object')"
      ]
     },
     "execution_count": 26,
     "metadata": {},
     "output_type": "execute_result"
    }
   ],
   "source": [
    "data.columns"
   ]
  },
  {
   "cell_type": "code",
   "execution_count": 42,
   "metadata": {
    "collapsed": false
   },
   "outputs": [
    {
     "name": "stdout",
     "output_type": "stream",
     "text": [
      "result  22.3785595367\n"
     ]
    },
    {
     "name": "stderr",
     "output_type": "stream",
     "text": [
      "[Parallel(n_jobs=1)]: Done  10 out of  10 | elapsed:    0.8s finished\n",
      "[Parallel(n_jobs=1)]: Done  10 out of  10 | elapsed:    0.0s finished\n"
     ]
    }
   ],
   "source": [
    "\n",
    "model = trainModelTestTrainSplit(data, sklearn.ensemble.ExtraTreesRegressor())"
   ]
  },
  {
   "cell_type": "code",
   "execution_count": 47,
   "metadata": {
    "collapsed": false
   },
   "outputs": [
    {
     "name": "stdout",
     "output_type": "stream",
     "text": [
      "result  18.7893811075\n"
     ]
    },
    {
     "name": "stderr",
     "output_type": "stream",
     "text": [
      "[Parallel(n_jobs=1)]: Done  10 out of  10 | elapsed:    1.5s finished\n",
      "[Parallel(n_jobs=1)]: Done  10 out of  10 | elapsed:    0.0s finished\n"
     ]
    },
    {
     "data": {
      "text/plain": [
       "array([ 0.56204959,  0.04250813,  0.22579684,  0.06403352,  0.01084596,\n",
       "        0.08974613,  0.00143914,  0.00358069])"
      ]
     },
     "execution_count": 47,
     "metadata": {},
     "output_type": "execute_result"
    }
   ],
   "source": [
    "model = trainModelTestTrainSplit(data, sklearn.ensemble.RandomForestRegressor())\n",
    "model.feature_importances_"
   ]
  },
  {
   "cell_type": "code",
   "execution_count": 17,
   "metadata": {
    "collapsed": false
   },
   "outputs": [
    {
     "data": {
      "text/plain": [
       "array([ 0.64208362,  0.04417375,  0.08804042,  0.05009803,  0.03445921,\n",
       "        0.04994955,  0.05419726,  0.03699815])"
      ]
     },
     "execution_count": 17,
     "metadata": {},
     "output_type": "execute_result"
    }
   ],
   "source": [
    "model.feature_importances_"
   ]
  },
  {
   "cell_type": "code",
   "execution_count": 18,
   "metadata": {
    "collapsed": false
   },
   "outputs": [],
   "source": []
  },
  {
   "cell_type": "code",
   "execution_count": 11,
   "metadata": {
    "collapsed": false
   },
   "outputs": [
    {
     "name": "stdout",
     "output_type": "stream",
     "text": [
      "17.431775003\n",
      "17.9330062734\n",
      "17.5859364218\n",
      "17.4681679758\n",
      "17.8755631568\n",
      "result  17.6588897661\n"
     ]
    },
    {
     "data": {
      "text/plain": [
       "array([  43.95444444,   72.90111111,   26.50666667, ...,  174.20888889,\n",
       "         52.97222222,  200.61222222])"
      ]
     },
     "execution_count": 11,
     "metadata": {},
     "output_type": "execute_result"
    }
   ],
   "source": [
    "trainModelKfold(data, sklearn.ensemble.RandomForestRegressor(n_estimators=900))"
   ]
  },
  {
   "cell_type": "code",
   "execution_count": 22,
   "metadata": {
    "collapsed": false
   },
   "outputs": [
    {
     "name": "stderr",
     "output_type": "stream",
     "text": [
      "[Parallel(n_jobs=1)]: Done   1 out of   1 | elapsed:    7.0s finished\n",
      "[Parallel(n_jobs=1)]: Done   1 out of   1 | elapsed:    0.1s finished\n"
     ]
    },
    {
     "name": "stdout",
     "output_type": "stream",
     "text": [
      "result  19.9393340572\n"
     ]
    }
   ],
   "source": [
    "trainModelTestTrainSplit(trainNew, sklearn.ensemble.BaggingRegressor())"
   ]
  },
  {
   "cell_type": "code",
   "execution_count": 54,
   "metadata": {
    "collapsed": false
   },
   "outputs": [],
   "source": [
    "data = trainNew\n",
    "model = sklearn.ensemble.GradientBoostingRegressor(loss = 'ls', learning_rate=0.1, max_depth = 3, verbose=1, n_estimators=10,\\\n",
    "                                                   criterion = \"mae\")"
   ]
  },
  {
   "cell_type": "code",
   "execution_count": null,
   "metadata": {
    "collapsed": false
   },
   "outputs": [],
   "source": [
    "c = trainNew.columns.difference(['Count'])\n",
    "X_train, X_test, y_train, y_test = sklearn.cross_validation.train_test_split(data[c], data['Count'], test_size=0.3, random_state=0)\n",
    "model.fit(X_train.as_matrix(), y_train.as_matrix())\n",
    "pred = model.predict(X_test)\n",
    "print \"result \", mae(pred, y_test)"
   ]
  },
  {
   "cell_type": "code",
   "execution_count": 31,
   "metadata": {
    "collapsed": false
   },
   "outputs": [
    {
     "data": {
      "text/plain": [
       "array([  5.44335264e-03,   6.45594826e-03,   2.00477209e-03,\n",
       "         9.59723684e-03,   7.83662815e-03,   5.90436130e-04,\n",
       "         7.09270144e-03,   1.39095627e-03,   3.01235950e-03,\n",
       "         4.45238844e-03,   5.77847319e-03,   3.63852348e-04,\n",
       "         6.87055254e-03,   3.49814892e-04,   9.16518989e-03,\n",
       "         9.38886899e-03,   7.41757308e-03,   6.70804112e-03,\n",
       "         2.75003366e-03,   7.55657461e-03,   4.00109010e-03,\n",
       "         6.11474055e-03,   6.90328962e-03,   1.57537229e-03,\n",
       "         8.98828173e-04,   1.44579894e-03,   8.40689742e-03,\n",
       "         4.65505072e-03,   4.03495255e-03,   0.00000000e+00,\n",
       "         5.63729929e-04,   2.12886966e-03,   3.87871486e-03,\n",
       "         1.82087988e-03,   0.00000000e+00,   6.40451950e-03,\n",
       "         6.36515361e-03,   8.08304357e-03,   8.90893069e-03,\n",
       "         1.02533973e-03,   6.02295877e-04,   3.58951892e-03,\n",
       "         1.02209127e-02,   1.18976038e-04,   5.60662063e-03,\n",
       "         2.56260105e-03,   9.26532177e-03,   6.65150160e-03,\n",
       "         8.78266222e-03,   9.94361015e-03,   4.73715350e-05,\n",
       "         9.83143450e-03,   6.02141461e-03,   2.00874040e-03,\n",
       "         8.61441109e-04,   1.38048957e-02,   8.73582659e-04,\n",
       "         2.09189841e-03,   1.00614809e-02,   0.00000000e+00,\n",
       "         7.75694175e-04,   0.00000000e+00,   9.00755628e-03,\n",
       "         5.65705609e-03,   7.61523792e-03,   6.26977412e-03,\n",
       "         0.00000000e+00,   4.34424830e-03,   3.67875338e-03,\n",
       "         0.00000000e+00,   1.22122903e-02,   6.93098696e-03,\n",
       "         6.54584066e-03,   5.49807954e-03,   7.11604569e-03,\n",
       "         3.42946909e-03,   4.63263054e-03,   2.23978109e-03,\n",
       "         6.73101438e-03,   7.48706651e-03,   6.90282498e-03,\n",
       "         4.80281145e-03,   2.84736081e-03,   1.46459599e-03,\n",
       "         4.21856259e-03,   1.09692665e-02,   1.53139873e-03,\n",
       "         5.24616480e-03,   5.58731250e-03,   1.04745009e-02,\n",
       "         1.37546063e-02,   7.04337965e-03,   6.83524544e-03,\n",
       "         6.46186358e-03,   5.58284854e-03,   3.20346397e-03,\n",
       "         4.04436701e-03,   2.32113594e-03,   1.17243715e-03,\n",
       "         5.63758324e-03,   3.21506066e-03,   1.85739639e-03,\n",
       "         7.39162224e-03,   9.67425931e-03,   5.16739808e-03,\n",
       "         3.60384303e-03,   9.19960912e-03,   4.23040439e-03,\n",
       "         2.26111897e-03,   8.64476831e-03,   1.44670103e-02,\n",
       "         7.67034011e-03,   6.73984642e-03,   8.67579180e-04,\n",
       "         4.59501168e-02,   1.47179074e-01,   1.01291314e-01,\n",
       "         1.25928747e-01])"
      ]
     },
     "execution_count": 31,
     "metadata": {},
     "output_type": "execute_result"
    }
   ],
   "source": [
    "model.feature_importances_"
   ]
  },
  {
   "cell_type": "code",
   "execution_count": null,
   "metadata": {
    "collapsed": false
   },
   "outputs": [],
   "source": []
  }
 ],
 "metadata": {
  "anaconda-cloud": {},
  "kernelspec": {
   "display_name": "Python [default]",
   "language": "python",
   "name": "python3"
  },
  "language_info": {
   "codemirror_mode": {
    "name": "ipython",
    "version": 3
   },
   "file_extension": ".py",
   "mimetype": "text/x-python",
   "name": "python",
   "nbconvert_exporter": "python",
   "pygments_lexer": "ipython3",
   "version": "3.5.2"
  }
 },
 "nbformat": 4,
 "nbformat_minor": 0
}
