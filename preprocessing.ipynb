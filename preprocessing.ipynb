{
 "metadata": {
  "name": "",
  "signature": "sha256:a67fa7991ed2d67086a3286778b5d8dba792387ba88cb019d3e08ac42eae8686"
 },
 "nbformat": 3,
 "nbformat_minor": 0,
 "worksheets": [
  {
   "cells": [
    {
     "cell_type": "code",
     "collapsed": false,
     "input": [
      "import pandas as pd\n",
      "import matplotlib\n",
      "import numpy as np\n",
      "import matplotlib.pyplot as plt\n",
      "%matplotlib inline  \n",
      "\n",
      "import calendar\n",
      "from __future__ import division\n"
     ],
     "language": "python",
     "metadata": {},
     "outputs": [],
     "prompt_number": 1
    },
    {
     "cell_type": "code",
     "collapsed": false,
     "input": [
      "train = pd.read_csv(\"train.csv\")\n",
      "test = pd.read_csv(\"test.csv\")"
     ],
     "language": "python",
     "metadata": {},
     "outputs": [],
     "prompt_number": 12
    },
    {
     "cell_type": "code",
     "collapsed": false,
     "input": [
      "#train.columns = [\"Day\", \"Month\", \"Year\", \"City\", \"Count\"]\n",
      "#test.columns = [\"Day\", \"Month\", \"Year\", \"City\"]"
     ],
     "language": "python",
     "metadata": {},
     "outputs": [],
     "prompt_number": 4
    },
    {
     "cell_type": "code",
     "collapsed": false,
     "input": [
      "#6 \u0433\u043e\u0440\u043e\u0434\u043e\u0432 \u043e\u0442\u0441\u0443\u0442\u0432\u0443\u044e\u0442 \u0432 \u0442\u0435\u0441\u0442\u043e\u0432\u043e\u0439 \u0432\u044b\u0431\u043e\u0440\u043a\u0435 - \u0443\u0434\u0430\u043b\u0438\u043c \u0438\u0445 \u0438\u0437 \u0442\u0440\u0435\u043d\u0438\u0440\u043e\u0432\u043e\u0447\u043d\u043e\u0439\n",
      "print len(train.City.unique())\n",
      "print len(test.City.unique())\n",
      "a = set(train.City.unique()) - (set(train.City.unique()) & set(test.City.unique()))\n",
      "for i in a:\n",
      "    print i\n",
      "    train = train[train.City != i]"
     ],
     "language": "python",
     "metadata": {},
     "outputs": [
      {
       "output_type": "stream",
       "stream": "stdout",
       "text": [
        "114\n",
        "114\n"
       ]
      }
     ],
     "prompt_number": 5
    },
    {
     "cell_type": "code",
     "collapsed": false,
     "input": [],
     "language": "python",
     "metadata": {},
     "outputs": [],
     "prompt_number": 152
    },
    {
     "cell_type": "code",
     "collapsed": false,
     "input": [
      "train.describe()"
     ],
     "language": "python",
     "metadata": {},
     "outputs": [
      {
       "html": [
        "<div style=\"max-width:1500px;overflow:auto;\">\n",
        "<table border=\"1\" class=\"dataframe\">\n",
        "  <thead>\n",
        "    <tr style=\"text-align: right;\">\n",
        "      <th></th>\n",
        "      <th>Day</th>\n",
        "      <th>Month</th>\n",
        "      <th>Year</th>\n",
        "      <th>Count</th>\n",
        "      <th>WeekDay</th>\n",
        "      <th>DayForStartYear</th>\n",
        "    </tr>\n",
        "  </thead>\n",
        "  <tbody>\n",
        "    <tr>\n",
        "      <th>count</th>\n",
        "      <td>46048.000000</td>\n",
        "      <td>46048.000000</td>\n",
        "      <td>46048.000000</td>\n",
        "      <td>46048.000000</td>\n",
        "      <td>46048.000000</td>\n",
        "      <td>46048.000000</td>\n",
        "    </tr>\n",
        "    <tr>\n",
        "      <th>mean</th>\n",
        "      <td>15.455916</td>\n",
        "      <td>6.606888</td>\n",
        "      <td>2015.200595</td>\n",
        "      <td>106.113447</td>\n",
        "      <td>2.998632</td>\n",
        "      <td>184.598484</td>\n",
        "    </tr>\n",
        "    <tr>\n",
        "      <th>std</th>\n",
        "      <td>8.732700</td>\n",
        "      <td>3.191562</td>\n",
        "      <td>1.008963</td>\n",
        "      <td>76.608338</td>\n",
        "      <td>1.994862</td>\n",
        "      <td>97.411710</td>\n",
        "    </tr>\n",
        "    <tr>\n",
        "      <th>min</th>\n",
        "      <td>1.000000</td>\n",
        "      <td>1.000000</td>\n",
        "      <td>2011.000000</td>\n",
        "      <td>1.000000</td>\n",
        "      <td>0.000000</td>\n",
        "      <td>0.000000</td>\n",
        "    </tr>\n",
        "    <tr>\n",
        "      <th>25%</th>\n",
        "      <td>8.000000</td>\n",
        "      <td>4.000000</td>\n",
        "      <td>2015.000000</td>\n",
        "      <td>55.000000</td>\n",
        "      <td>1.000000</td>\n",
        "      <td>103.000000</td>\n",
        "    </tr>\n",
        "    <tr>\n",
        "      <th>50%</th>\n",
        "      <td>15.000000</td>\n",
        "      <td>7.000000</td>\n",
        "      <td>2016.000000</td>\n",
        "      <td>87.000000</td>\n",
        "      <td>3.000000</td>\n",
        "      <td>192.000000</td>\n",
        "    </tr>\n",
        "    <tr>\n",
        "      <th>75%</th>\n",
        "      <td>23.000000</td>\n",
        "      <td>9.000000</td>\n",
        "      <td>2016.000000</td>\n",
        "      <td>135.000000</td>\n",
        "      <td>5.000000</td>\n",
        "      <td>262.000000</td>\n",
        "    </tr>\n",
        "    <tr>\n",
        "      <th>max</th>\n",
        "      <td>31.000000</td>\n",
        "      <td>12.000000</td>\n",
        "      <td>2016.000000</td>\n",
        "      <td>2044.000000</td>\n",
        "      <td>6.000000</td>\n",
        "      <td>364.000000</td>\n",
        "    </tr>\n",
        "  </tbody>\n",
        "</table>\n",
        "</div>"
       ],
       "metadata": {},
       "output_type": "pyout",
       "prompt_number": 7,
       "text": [
        "                Day         Month          Year         Count       WeekDay  \\\n",
        "count  46048.000000  46048.000000  46048.000000  46048.000000  46048.000000   \n",
        "mean      15.455916      6.606888   2015.200595    106.113447      2.998632   \n",
        "std        8.732700      3.191562      1.008963     76.608338      1.994862   \n",
        "min        1.000000      1.000000   2011.000000      1.000000      0.000000   \n",
        "25%        8.000000      4.000000   2015.000000     55.000000      1.000000   \n",
        "50%       15.000000      7.000000   2016.000000     87.000000      3.000000   \n",
        "75%       23.000000      9.000000   2016.000000    135.000000      5.000000   \n",
        "max       31.000000     12.000000   2016.000000   2044.000000      6.000000   \n",
        "\n",
        "       DayForStartYear  \n",
        "count     46048.000000  \n",
        "mean        184.598484  \n",
        "std          97.411710  \n",
        "min           0.000000  \n",
        "25%         103.000000  \n",
        "50%         192.000000  \n",
        "75%         262.000000  \n",
        "max         364.000000  "
       ]
      }
     ],
     "prompt_number": 7
    },
    {
     "cell_type": "code",
     "collapsed": false,
     "input": [
      "res = []\n",
      "for i in train.axes[0]:\n",
      "    a = calendar.datetime.date(train.Year[i], train.Month[i], train.Day[i])\n",
      "    res.append(a.weekday())\n",
      "train[\"WeekDay\"] = pd.Series(res)"
     ],
     "language": "python",
     "metadata": {},
     "outputs": [],
     "prompt_number": 7
    },
    {
     "cell_type": "code",
     "collapsed": false,
     "input": [
      "res = []\n",
      "for i in test.axes[0]:\n",
      "    a = calendar.datetime.date(test.Year[i], test.Month[i], test.Day[i])\n",
      "    res.append(a.weekday())\n",
      "test[\"WeekDay\"] = pd.Series(res)"
     ],
     "language": "python",
     "metadata": {},
     "outputs": [],
     "prompt_number": 8
    },
    {
     "cell_type": "code",
     "collapsed": false,
     "input": [
      "train.head()"
     ],
     "language": "python",
     "metadata": {},
     "outputs": [
      {
       "html": [
        "<div style=\"max-width:1500px;overflow:auto;\">\n",
        "<table border=\"1\" class=\"dataframe\">\n",
        "  <thead>\n",
        "    <tr style=\"text-align: right;\">\n",
        "      <th></th>\n",
        "      <th>Day</th>\n",
        "      <th>Month</th>\n",
        "      <th>Year</th>\n",
        "      <th>City</th>\n",
        "      <th>Count</th>\n",
        "      <th>WeekDay</th>\n",
        "    </tr>\n",
        "  </thead>\n",
        "  <tbody>\n",
        "    <tr>\n",
        "      <th>0</th>\n",
        "      <td>8</td>\n",
        "      <td>8</td>\n",
        "      <td>2016</td>\n",
        "      <td>\u041b\u0435\u043d\u0438\u043d\u043e\u0433\u043e\u0440\u0441\u043a-1</td>\n",
        "      <td>42</td>\n",
        "      <td>0</td>\n",
        "    </tr>\n",
        "    <tr>\n",
        "      <th>1</th>\n",
        "      <td>7</td>\n",
        "      <td>3</td>\n",
        "      <td>2015</td>\n",
        "      <td>\u0410\u0431\u0430\u043a\u0430\u043d-1</td>\n",
        "      <td>81</td>\n",
        "      <td>5</td>\n",
        "    </tr>\n",
        "    <tr>\n",
        "      <th>2</th>\n",
        "      <td>5</td>\n",
        "      <td>10</td>\n",
        "      <td>2016</td>\n",
        "      <td>\u0422\u044e\u043c\u0435\u043d\u044c-1</td>\n",
        "      <td>138</td>\n",
        "      <td>2</td>\n",
        "    </tr>\n",
        "    <tr>\n",
        "      <th>3</th>\n",
        "      <td>22</td>\n",
        "      <td>2</td>\n",
        "      <td>2015</td>\n",
        "      <td>\u041e\u043a\u0442\u044f\u0431\u0440\u044c\u0441\u043a\u0438\u0439-1</td>\n",
        "      <td>94</td>\n",
        "      <td>6</td>\n",
        "    </tr>\n",
        "    <tr>\n",
        "      <th>4</th>\n",
        "      <td>6</td>\n",
        "      <td>8</td>\n",
        "      <td>2016</td>\n",
        "      <td>\u041d\u0430\u0445\u0430\u0431\u0438\u043d\u043e-1</td>\n",
        "      <td>42</td>\n",
        "      <td>5</td>\n",
        "    </tr>\n",
        "  </tbody>\n",
        "</table>\n",
        "</div>"
       ],
       "metadata": {},
       "output_type": "pyout",
       "prompt_number": 14,
       "text": [
        "   Day  Month  Year           City  Count  WeekDay\n",
        "0    8      8  2016  \u041b\u0435\u043d\u0438\u043d\u043e\u0433\u043e\u0440\u0441\u043a-1     42        0\n",
        "1    7      3  2015       \u0410\u0431\u0430\u043a\u0430\u043d-1     81        5\n",
        "2    5     10  2016       \u0422\u044e\u043c\u0435\u043d\u044c-1    138        2\n",
        "3   22      2  2015  \u041e\u043a\u0442\u044f\u0431\u0440\u044c\u0441\u043a\u0438\u0439-1     94        6\n",
        "4    6      8  2016     \u041d\u0430\u0445\u0430\u0431\u0438\u043d\u043e-1     42        5"
       ]
      }
     ],
     "prompt_number": 14
    },
    {
     "cell_type": "code",
     "collapsed": false,
     "input": [
      "cityDescribe = pd.DataFrame()\n",
      "cityDescribe[\"name\"] = train.City.unique()\n",
      "cityDescribe[\"population\"] = range(len(train.City.unique()))"
     ],
     "language": "python",
     "metadata": {},
     "outputs": [],
     "prompt_number": 18
    },
    {
     "cell_type": "code",
     "collapsed": false,
     "input": [],
     "language": "python",
     "metadata": {},
     "outputs": []
    },
    {
     "cell_type": "code",
     "collapsed": false,
     "input": [
      "trainNew = train.copy()\n",
      "i = 0\n",
      "for j in train.DayForStartTrainPeriod.sort_values().index:\n",
      "    trainNew.loc[i] = train.loc[j]\n",
      "    i += 1\n",
      "    if ((i % 100) == 0):\n",
      "        print i,\n",
      "trainNew.to_csv(\"train.csv\", index=None)"
     ],
     "language": "python",
     "metadata": {},
     "outputs": [
      {
       "output_type": "stream",
       "stream": "stdout",
       "text": [
        "100 "
       ]
      },
      {
       "output_type": "stream",
       "stream": "stdout",
       "text": [
        "200 "
       ]
      },
      {
       "output_type": "stream",
       "stream": "stdout",
       "text": [
        "300 "
       ]
      },
      {
       "output_type": "stream",
       "stream": "stdout",
       "text": [
        "400 "
       ]
      },
      {
       "output_type": "stream",
       "stream": "stdout",
       "text": [
        "500 "
       ]
      },
      {
       "output_type": "stream",
       "stream": "stdout",
       "text": [
        "600 "
       ]
      },
      {
       "output_type": "stream",
       "stream": "stdout",
       "text": [
        "700 "
       ]
      },
      {
       "output_type": "stream",
       "stream": "stdout",
       "text": [
        "800 "
       ]
      },
      {
       "output_type": "stream",
       "stream": "stdout",
       "text": [
        "900 "
       ]
      },
      {
       "output_type": "stream",
       "stream": "stdout",
       "text": [
        "1000 "
       ]
      },
      {
       "output_type": "stream",
       "stream": "stdout",
       "text": [
        "1100 "
       ]
      },
      {
       "output_type": "stream",
       "stream": "stdout",
       "text": [
        "1200 "
       ]
      },
      {
       "output_type": "stream",
       "stream": "stdout",
       "text": [
        "1300 "
       ]
      },
      {
       "output_type": "stream",
       "stream": "stdout",
       "text": [
        "1400 "
       ]
      },
      {
       "output_type": "stream",
       "stream": "stdout",
       "text": [
        "1500 "
       ]
      },
      {
       "output_type": "stream",
       "stream": "stdout",
       "text": [
        "1600 "
       ]
      },
      {
       "output_type": "stream",
       "stream": "stdout",
       "text": [
        "1700 "
       ]
      },
      {
       "output_type": "stream",
       "stream": "stdout",
       "text": [
        "1800 "
       ]
      },
      {
       "output_type": "stream",
       "stream": "stdout",
       "text": [
        "1900 "
       ]
      },
      {
       "output_type": "stream",
       "stream": "stdout",
       "text": [
        "2000 "
       ]
      },
      {
       "output_type": "stream",
       "stream": "stdout",
       "text": [
        "2100 "
       ]
      },
      {
       "output_type": "stream",
       "stream": "stdout",
       "text": [
        "2200 "
       ]
      },
      {
       "output_type": "stream",
       "stream": "stdout",
       "text": [
        "2300 "
       ]
      },
      {
       "output_type": "stream",
       "stream": "stdout",
       "text": [
        "2400 "
       ]
      },
      {
       "output_type": "stream",
       "stream": "stdout",
       "text": [
        "2500 "
       ]
      },
      {
       "output_type": "stream",
       "stream": "stdout",
       "text": [
        "2600 "
       ]
      },
      {
       "output_type": "stream",
       "stream": "stdout",
       "text": [
        "2700 "
       ]
      },
      {
       "output_type": "stream",
       "stream": "stdout",
       "text": [
        "2800 "
       ]
      },
      {
       "output_type": "stream",
       "stream": "stdout",
       "text": [
        "2900 "
       ]
      },
      {
       "output_type": "stream",
       "stream": "stdout",
       "text": [
        "3000 "
       ]
      },
      {
       "output_type": "stream",
       "stream": "stdout",
       "text": [
        "3100 "
       ]
      },
      {
       "output_type": "stream",
       "stream": "stdout",
       "text": [
        "3200 "
       ]
      },
      {
       "output_type": "stream",
       "stream": "stdout",
       "text": [
        "3300 "
       ]
      },
      {
       "output_type": "stream",
       "stream": "stdout",
       "text": [
        "3400 "
       ]
      },
      {
       "output_type": "stream",
       "stream": "stdout",
       "text": [
        "3500 "
       ]
      },
      {
       "output_type": "stream",
       "stream": "stdout",
       "text": [
        "3600 "
       ]
      },
      {
       "output_type": "stream",
       "stream": "stdout",
       "text": [
        "3700 "
       ]
      },
      {
       "output_type": "stream",
       "stream": "stdout",
       "text": [
        "3800 "
       ]
      },
      {
       "output_type": "stream",
       "stream": "stdout",
       "text": [
        "3900 "
       ]
      },
      {
       "output_type": "stream",
       "stream": "stdout",
       "text": [
        "4000 "
       ]
      },
      {
       "output_type": "stream",
       "stream": "stdout",
       "text": [
        "4100 "
       ]
      },
      {
       "output_type": "stream",
       "stream": "stdout",
       "text": [
        "4200 "
       ]
      },
      {
       "output_type": "stream",
       "stream": "stdout",
       "text": [
        "4300 "
       ]
      },
      {
       "output_type": "stream",
       "stream": "stdout",
       "text": [
        "4400 "
       ]
      },
      {
       "output_type": "stream",
       "stream": "stdout",
       "text": [
        "4500 "
       ]
      },
      {
       "output_type": "stream",
       "stream": "stdout",
       "text": [
        "4600 "
       ]
      },
      {
       "output_type": "stream",
       "stream": "stdout",
       "text": [
        "4700 "
       ]
      },
      {
       "output_type": "stream",
       "stream": "stdout",
       "text": [
        "4800 "
       ]
      },
      {
       "output_type": "stream",
       "stream": "stdout",
       "text": [
        "4900 "
       ]
      },
      {
       "output_type": "stream",
       "stream": "stdout",
       "text": [
        "5000 "
       ]
      },
      {
       "output_type": "stream",
       "stream": "stdout",
       "text": [
        "5100 "
       ]
      },
      {
       "output_type": "stream",
       "stream": "stdout",
       "text": [
        "5200 "
       ]
      },
      {
       "output_type": "stream",
       "stream": "stdout",
       "text": [
        "5300 "
       ]
      },
      {
       "output_type": "stream",
       "stream": "stdout",
       "text": [
        "5400 "
       ]
      },
      {
       "output_type": "stream",
       "stream": "stdout",
       "text": [
        "5500 "
       ]
      },
      {
       "output_type": "stream",
       "stream": "stdout",
       "text": [
        "5600 "
       ]
      },
      {
       "output_type": "stream",
       "stream": "stdout",
       "text": [
        "5700 "
       ]
      },
      {
       "output_type": "stream",
       "stream": "stdout",
       "text": [
        "5800 "
       ]
      },
      {
       "output_type": "stream",
       "stream": "stdout",
       "text": [
        "5900 "
       ]
      },
      {
       "output_type": "stream",
       "stream": "stdout",
       "text": [
        "6000 "
       ]
      },
      {
       "output_type": "stream",
       "stream": "stdout",
       "text": [
        "6100 "
       ]
      },
      {
       "output_type": "stream",
       "stream": "stdout",
       "text": [
        "6200 "
       ]
      },
      {
       "output_type": "stream",
       "stream": "stdout",
       "text": [
        "6300 "
       ]
      },
      {
       "output_type": "stream",
       "stream": "stdout",
       "text": [
        "6400 "
       ]
      },
      {
       "output_type": "stream",
       "stream": "stdout",
       "text": [
        "6500 "
       ]
      },
      {
       "output_type": "stream",
       "stream": "stdout",
       "text": [
        "6600 "
       ]
      },
      {
       "output_type": "stream",
       "stream": "stdout",
       "text": [
        "6700 "
       ]
      },
      {
       "output_type": "stream",
       "stream": "stdout",
       "text": [
        "6800 "
       ]
      },
      {
       "output_type": "stream",
       "stream": "stdout",
       "text": [
        "6900 "
       ]
      },
      {
       "output_type": "stream",
       "stream": "stdout",
       "text": [
        "7000 "
       ]
      },
      {
       "output_type": "stream",
       "stream": "stdout",
       "text": [
        "7100 "
       ]
      },
      {
       "output_type": "stream",
       "stream": "stdout",
       "text": [
        "7200 "
       ]
      },
      {
       "output_type": "stream",
       "stream": "stdout",
       "text": [
        "7300 "
       ]
      },
      {
       "output_type": "stream",
       "stream": "stdout",
       "text": [
        "7400 "
       ]
      },
      {
       "output_type": "stream",
       "stream": "stdout",
       "text": [
        "7500 "
       ]
      },
      {
       "output_type": "stream",
       "stream": "stdout",
       "text": [
        "7600 "
       ]
      },
      {
       "output_type": "stream",
       "stream": "stdout",
       "text": [
        "7700 "
       ]
      },
      {
       "output_type": "stream",
       "stream": "stdout",
       "text": [
        "7800 "
       ]
      },
      {
       "output_type": "stream",
       "stream": "stdout",
       "text": [
        "7900 "
       ]
      },
      {
       "output_type": "stream",
       "stream": "stdout",
       "text": [
        "8000 "
       ]
      },
      {
       "output_type": "stream",
       "stream": "stdout",
       "text": [
        "8100 "
       ]
      },
      {
       "output_type": "stream",
       "stream": "stdout",
       "text": [
        "8200 "
       ]
      },
      {
       "output_type": "stream",
       "stream": "stdout",
       "text": [
        "8300 "
       ]
      },
      {
       "output_type": "stream",
       "stream": "stdout",
       "text": [
        "8400 "
       ]
      },
      {
       "output_type": "stream",
       "stream": "stdout",
       "text": [
        "8500 "
       ]
      },
      {
       "output_type": "stream",
       "stream": "stdout",
       "text": [
        "8600 "
       ]
      },
      {
       "output_type": "stream",
       "stream": "stdout",
       "text": [
        "8700 "
       ]
      },
      {
       "output_type": "stream",
       "stream": "stdout",
       "text": [
        "8800 "
       ]
      },
      {
       "output_type": "stream",
       "stream": "stdout",
       "text": [
        "8900 "
       ]
      },
      {
       "output_type": "stream",
       "stream": "stdout",
       "text": [
        "9000 "
       ]
      },
      {
       "output_type": "stream",
       "stream": "stdout",
       "text": [
        "9100 "
       ]
      },
      {
       "output_type": "stream",
       "stream": "stdout",
       "text": [
        "9200 "
       ]
      },
      {
       "output_type": "stream",
       "stream": "stdout",
       "text": [
        "9300 "
       ]
      },
      {
       "output_type": "stream",
       "stream": "stdout",
       "text": [
        "9400 "
       ]
      },
      {
       "output_type": "stream",
       "stream": "stdout",
       "text": [
        "9500 "
       ]
      },
      {
       "output_type": "stream",
       "stream": "stdout",
       "text": [
        "9600 "
       ]
      },
      {
       "output_type": "stream",
       "stream": "stdout",
       "text": [
        "9700 "
       ]
      },
      {
       "output_type": "stream",
       "stream": "stdout",
       "text": [
        "9800 "
       ]
      },
      {
       "output_type": "stream",
       "stream": "stdout",
       "text": [
        "9900 "
       ]
      },
      {
       "output_type": "stream",
       "stream": "stdout",
       "text": [
        "10000 "
       ]
      },
      {
       "output_type": "stream",
       "stream": "stdout",
       "text": [
        "10100 "
       ]
      },
      {
       "output_type": "stream",
       "stream": "stdout",
       "text": [
        "10200 "
       ]
      },
      {
       "output_type": "stream",
       "stream": "stdout",
       "text": [
        "10300 "
       ]
      },
      {
       "output_type": "stream",
       "stream": "stdout",
       "text": [
        "10400 "
       ]
      },
      {
       "output_type": "stream",
       "stream": "stdout",
       "text": [
        "10500 "
       ]
      },
      {
       "output_type": "stream",
       "stream": "stdout",
       "text": [
        "10600 "
       ]
      },
      {
       "output_type": "stream",
       "stream": "stdout",
       "text": [
        "10700 "
       ]
      },
      {
       "output_type": "stream",
       "stream": "stdout",
       "text": [
        "10800 "
       ]
      },
      {
       "output_type": "stream",
       "stream": "stdout",
       "text": [
        "10900 "
       ]
      },
      {
       "output_type": "stream",
       "stream": "stdout",
       "text": [
        "11000 "
       ]
      },
      {
       "output_type": "stream",
       "stream": "stdout",
       "text": [
        "11100 "
       ]
      },
      {
       "output_type": "stream",
       "stream": "stdout",
       "text": [
        "11200 "
       ]
      },
      {
       "output_type": "stream",
       "stream": "stdout",
       "text": [
        "11300 "
       ]
      },
      {
       "output_type": "stream",
       "stream": "stdout",
       "text": [
        "11400 "
       ]
      },
      {
       "output_type": "stream",
       "stream": "stdout",
       "text": [
        "11500 "
       ]
      },
      {
       "output_type": "stream",
       "stream": "stdout",
       "text": [
        "11600 "
       ]
      },
      {
       "output_type": "stream",
       "stream": "stdout",
       "text": [
        "11700 "
       ]
      },
      {
       "output_type": "stream",
       "stream": "stdout",
       "text": [
        "11800 "
       ]
      },
      {
       "output_type": "stream",
       "stream": "stdout",
       "text": [
        "11900 "
       ]
      },
      {
       "output_type": "stream",
       "stream": "stdout",
       "text": [
        "12000 "
       ]
      },
      {
       "output_type": "stream",
       "stream": "stdout",
       "text": [
        "12100 "
       ]
      },
      {
       "output_type": "stream",
       "stream": "stdout",
       "text": [
        "12200 "
       ]
      },
      {
       "output_type": "stream",
       "stream": "stdout",
       "text": [
        "12300 "
       ]
      },
      {
       "output_type": "stream",
       "stream": "stdout",
       "text": [
        "12400 "
       ]
      },
      {
       "output_type": "stream",
       "stream": "stdout",
       "text": [
        "12500 "
       ]
      },
      {
       "output_type": "stream",
       "stream": "stdout",
       "text": [
        "12600 "
       ]
      },
      {
       "output_type": "stream",
       "stream": "stdout",
       "text": [
        "12700 "
       ]
      },
      {
       "output_type": "stream",
       "stream": "stdout",
       "text": [
        "12800 "
       ]
      },
      {
       "output_type": "stream",
       "stream": "stdout",
       "text": [
        "12900 "
       ]
      },
      {
       "output_type": "stream",
       "stream": "stdout",
       "text": [
        "13000 "
       ]
      },
      {
       "output_type": "stream",
       "stream": "stdout",
       "text": [
        "13100 "
       ]
      },
      {
       "output_type": "stream",
       "stream": "stdout",
       "text": [
        "13200 "
       ]
      },
      {
       "output_type": "stream",
       "stream": "stdout",
       "text": [
        "13300 "
       ]
      },
      {
       "output_type": "stream",
       "stream": "stdout",
       "text": [
        "13400 "
       ]
      },
      {
       "output_type": "stream",
       "stream": "stdout",
       "text": [
        "13500 "
       ]
      },
      {
       "output_type": "stream",
       "stream": "stdout",
       "text": [
        "13600 "
       ]
      },
      {
       "output_type": "stream",
       "stream": "stdout",
       "text": [
        "13700 "
       ]
      },
      {
       "output_type": "stream",
       "stream": "stdout",
       "text": [
        "13800 "
       ]
      },
      {
       "output_type": "stream",
       "stream": "stdout",
       "text": [
        "13900 "
       ]
      },
      {
       "output_type": "stream",
       "stream": "stdout",
       "text": [
        "14000 "
       ]
      },
      {
       "output_type": "stream",
       "stream": "stdout",
       "text": [
        "14100 "
       ]
      },
      {
       "output_type": "stream",
       "stream": "stdout",
       "text": [
        "14200 "
       ]
      },
      {
       "output_type": "stream",
       "stream": "stdout",
       "text": [
        "14300 "
       ]
      },
      {
       "output_type": "stream",
       "stream": "stdout",
       "text": [
        "14400 "
       ]
      },
      {
       "output_type": "stream",
       "stream": "stdout",
       "text": [
        "14500 "
       ]
      },
      {
       "output_type": "stream",
       "stream": "stdout",
       "text": [
        "14600 "
       ]
      },
      {
       "output_type": "stream",
       "stream": "stdout",
       "text": [
        "14700 "
       ]
      },
      {
       "output_type": "stream",
       "stream": "stdout",
       "text": [
        "14800 "
       ]
      },
      {
       "output_type": "stream",
       "stream": "stdout",
       "text": [
        "14900 "
       ]
      },
      {
       "output_type": "stream",
       "stream": "stdout",
       "text": [
        "15000 "
       ]
      },
      {
       "output_type": "stream",
       "stream": "stdout",
       "text": [
        "15100 "
       ]
      },
      {
       "output_type": "stream",
       "stream": "stdout",
       "text": [
        "15200 "
       ]
      },
      {
       "output_type": "stream",
       "stream": "stdout",
       "text": [
        "15300 "
       ]
      },
      {
       "output_type": "stream",
       "stream": "stdout",
       "text": [
        "15400 "
       ]
      },
      {
       "output_type": "stream",
       "stream": "stdout",
       "text": [
        "15500 "
       ]
      },
      {
       "output_type": "stream",
       "stream": "stdout",
       "text": [
        "15600 "
       ]
      },
      {
       "output_type": "stream",
       "stream": "stdout",
       "text": [
        "15700 "
       ]
      },
      {
       "output_type": "stream",
       "stream": "stdout",
       "text": [
        "15800 "
       ]
      },
      {
       "output_type": "stream",
       "stream": "stdout",
       "text": [
        "15900 "
       ]
      },
      {
       "output_type": "stream",
       "stream": "stdout",
       "text": [
        "16000 "
       ]
      },
      {
       "output_type": "stream",
       "stream": "stdout",
       "text": [
        "16100 "
       ]
      },
      {
       "output_type": "stream",
       "stream": "stdout",
       "text": [
        "16200 "
       ]
      },
      {
       "output_type": "stream",
       "stream": "stdout",
       "text": [
        "16300 "
       ]
      },
      {
       "output_type": "stream",
       "stream": "stdout",
       "text": [
        "16400 "
       ]
      },
      {
       "output_type": "stream",
       "stream": "stdout",
       "text": [
        "16500 "
       ]
      },
      {
       "output_type": "stream",
       "stream": "stdout",
       "text": [
        "16600 "
       ]
      },
      {
       "output_type": "stream",
       "stream": "stdout",
       "text": [
        "16700 "
       ]
      },
      {
       "output_type": "stream",
       "stream": "stdout",
       "text": [
        "16800 "
       ]
      },
      {
       "output_type": "stream",
       "stream": "stdout",
       "text": [
        "16900 "
       ]
      },
      {
       "output_type": "stream",
       "stream": "stdout",
       "text": [
        "17000 "
       ]
      },
      {
       "output_type": "stream",
       "stream": "stdout",
       "text": [
        "17100 "
       ]
      },
      {
       "output_type": "stream",
       "stream": "stdout",
       "text": [
        "17200 "
       ]
      },
      {
       "output_type": "stream",
       "stream": "stdout",
       "text": [
        "17300 "
       ]
      },
      {
       "output_type": "stream",
       "stream": "stdout",
       "text": [
        "17400 "
       ]
      },
      {
       "output_type": "stream",
       "stream": "stdout",
       "text": [
        "17500 "
       ]
      },
      {
       "output_type": "stream",
       "stream": "stdout",
       "text": [
        "17600 "
       ]
      },
      {
       "output_type": "stream",
       "stream": "stdout",
       "text": [
        "17700 "
       ]
      },
      {
       "output_type": "stream",
       "stream": "stdout",
       "text": [
        "17800 "
       ]
      },
      {
       "output_type": "stream",
       "stream": "stdout",
       "text": [
        "17900 "
       ]
      },
      {
       "output_type": "stream",
       "stream": "stdout",
       "text": [
        "18000 "
       ]
      },
      {
       "output_type": "stream",
       "stream": "stdout",
       "text": [
        "18100 "
       ]
      },
      {
       "output_type": "stream",
       "stream": "stdout",
       "text": [
        "18200 "
       ]
      },
      {
       "output_type": "stream",
       "stream": "stdout",
       "text": [
        "18300 "
       ]
      },
      {
       "output_type": "stream",
       "stream": "stdout",
       "text": [
        "18400 "
       ]
      },
      {
       "output_type": "stream",
       "stream": "stdout",
       "text": [
        "18500 "
       ]
      },
      {
       "output_type": "stream",
       "stream": "stdout",
       "text": [
        "18600 "
       ]
      },
      {
       "output_type": "stream",
       "stream": "stdout",
       "text": [
        "18700 "
       ]
      },
      {
       "output_type": "stream",
       "stream": "stdout",
       "text": [
        "18800 "
       ]
      },
      {
       "output_type": "stream",
       "stream": "stdout",
       "text": [
        "18900 "
       ]
      },
      {
       "output_type": "stream",
       "stream": "stdout",
       "text": [
        "19000 "
       ]
      },
      {
       "output_type": "stream",
       "stream": "stdout",
       "text": [
        "19100 "
       ]
      },
      {
       "output_type": "stream",
       "stream": "stdout",
       "text": [
        "19200 "
       ]
      },
      {
       "output_type": "stream",
       "stream": "stdout",
       "text": [
        "19300 "
       ]
      },
      {
       "output_type": "stream",
       "stream": "stdout",
       "text": [
        "19400 "
       ]
      },
      {
       "output_type": "stream",
       "stream": "stdout",
       "text": [
        "19500 "
       ]
      },
      {
       "output_type": "stream",
       "stream": "stdout",
       "text": [
        "19600 "
       ]
      },
      {
       "output_type": "stream",
       "stream": "stdout",
       "text": [
        "19700 "
       ]
      },
      {
       "output_type": "stream",
       "stream": "stdout",
       "text": [
        "19800 "
       ]
      },
      {
       "output_type": "stream",
       "stream": "stdout",
       "text": [
        "19900 "
       ]
      },
      {
       "output_type": "stream",
       "stream": "stdout",
       "text": [
        "20000 "
       ]
      },
      {
       "output_type": "stream",
       "stream": "stdout",
       "text": [
        "20100 "
       ]
      },
      {
       "output_type": "stream",
       "stream": "stdout",
       "text": [
        "20200 "
       ]
      },
      {
       "output_type": "stream",
       "stream": "stdout",
       "text": [
        "20300 "
       ]
      },
      {
       "output_type": "stream",
       "stream": "stdout",
       "text": [
        "20400 "
       ]
      },
      {
       "output_type": "stream",
       "stream": "stdout",
       "text": [
        "20500 "
       ]
      },
      {
       "output_type": "stream",
       "stream": "stdout",
       "text": [
        "20600 "
       ]
      },
      {
       "output_type": "stream",
       "stream": "stdout",
       "text": [
        "20700 "
       ]
      },
      {
       "output_type": "stream",
       "stream": "stdout",
       "text": [
        "20800 "
       ]
      },
      {
       "output_type": "stream",
       "stream": "stdout",
       "text": [
        "20900 "
       ]
      },
      {
       "output_type": "stream",
       "stream": "stdout",
       "text": [
        "21000 "
       ]
      },
      {
       "output_type": "stream",
       "stream": "stdout",
       "text": [
        "21100 "
       ]
      },
      {
       "output_type": "stream",
       "stream": "stdout",
       "text": [
        "21200 "
       ]
      },
      {
       "output_type": "stream",
       "stream": "stdout",
       "text": [
        "21300 "
       ]
      },
      {
       "output_type": "stream",
       "stream": "stdout",
       "text": [
        "21400 "
       ]
      },
      {
       "output_type": "stream",
       "stream": "stdout",
       "text": [
        "21500 "
       ]
      },
      {
       "output_type": "stream",
       "stream": "stdout",
       "text": [
        "21600 "
       ]
      },
      {
       "output_type": "stream",
       "stream": "stdout",
       "text": [
        "21700 "
       ]
      },
      {
       "output_type": "stream",
       "stream": "stdout",
       "text": [
        "21800 "
       ]
      },
      {
       "output_type": "stream",
       "stream": "stdout",
       "text": [
        "21900 "
       ]
      },
      {
       "output_type": "stream",
       "stream": "stdout",
       "text": [
        "22000 "
       ]
      },
      {
       "output_type": "stream",
       "stream": "stdout",
       "text": [
        "22100 "
       ]
      },
      {
       "output_type": "stream",
       "stream": "stdout",
       "text": [
        "22200 "
       ]
      },
      {
       "output_type": "stream",
       "stream": "stdout",
       "text": [
        "22300 "
       ]
      },
      {
       "output_type": "stream",
       "stream": "stdout",
       "text": [
        "22400 "
       ]
      },
      {
       "output_type": "stream",
       "stream": "stdout",
       "text": [
        "22500 "
       ]
      },
      {
       "output_type": "stream",
       "stream": "stdout",
       "text": [
        "22600 "
       ]
      },
      {
       "output_type": "stream",
       "stream": "stdout",
       "text": [
        "22700 "
       ]
      },
      {
       "output_type": "stream",
       "stream": "stdout",
       "text": [
        "22800 "
       ]
      },
      {
       "output_type": "stream",
       "stream": "stdout",
       "text": [
        "22900 "
       ]
      },
      {
       "output_type": "stream",
       "stream": "stdout",
       "text": [
        "23000 "
       ]
      },
      {
       "output_type": "stream",
       "stream": "stdout",
       "text": [
        "23100 "
       ]
      },
      {
       "output_type": "stream",
       "stream": "stdout",
       "text": [
        "23200 "
       ]
      },
      {
       "output_type": "stream",
       "stream": "stdout",
       "text": [
        "23300 "
       ]
      },
      {
       "output_type": "stream",
       "stream": "stdout",
       "text": [
        "23400 "
       ]
      },
      {
       "output_type": "stream",
       "stream": "stdout",
       "text": [
        "23500 "
       ]
      },
      {
       "output_type": "stream",
       "stream": "stdout",
       "text": [
        "23600 "
       ]
      },
      {
       "output_type": "stream",
       "stream": "stdout",
       "text": [
        "23700 "
       ]
      },
      {
       "output_type": "stream",
       "stream": "stdout",
       "text": [
        "23800 "
       ]
      },
      {
       "output_type": "stream",
       "stream": "stdout",
       "text": [
        "23900 "
       ]
      },
      {
       "output_type": "stream",
       "stream": "stdout",
       "text": [
        "24000 "
       ]
      },
      {
       "output_type": "stream",
       "stream": "stdout",
       "text": [
        "24100 "
       ]
      },
      {
       "output_type": "stream",
       "stream": "stdout",
       "text": [
        "24200 "
       ]
      },
      {
       "output_type": "stream",
       "stream": "stdout",
       "text": [
        "24300 "
       ]
      },
      {
       "output_type": "stream",
       "stream": "stdout",
       "text": [
        "24400 "
       ]
      },
      {
       "output_type": "stream",
       "stream": "stdout",
       "text": [
        "24500 "
       ]
      },
      {
       "output_type": "stream",
       "stream": "stdout",
       "text": [
        "24600 "
       ]
      },
      {
       "output_type": "stream",
       "stream": "stdout",
       "text": [
        "24700 "
       ]
      },
      {
       "output_type": "stream",
       "stream": "stdout",
       "text": [
        "24800 "
       ]
      },
      {
       "output_type": "stream",
       "stream": "stdout",
       "text": [
        "24900 "
       ]
      },
      {
       "output_type": "stream",
       "stream": "stdout",
       "text": [
        "25000 "
       ]
      },
      {
       "output_type": "stream",
       "stream": "stdout",
       "text": [
        "25100 "
       ]
      },
      {
       "output_type": "stream",
       "stream": "stdout",
       "text": [
        "25200 "
       ]
      },
      {
       "output_type": "stream",
       "stream": "stdout",
       "text": [
        "25300 "
       ]
      },
      {
       "output_type": "stream",
       "stream": "stdout",
       "text": [
        "25400 "
       ]
      },
      {
       "output_type": "stream",
       "stream": "stdout",
       "text": [
        "25500 "
       ]
      },
      {
       "output_type": "stream",
       "stream": "stdout",
       "text": [
        "25600 "
       ]
      },
      {
       "output_type": "stream",
       "stream": "stdout",
       "text": [
        "25700 "
       ]
      },
      {
       "output_type": "stream",
       "stream": "stdout",
       "text": [
        "25800 "
       ]
      },
      {
       "output_type": "stream",
       "stream": "stdout",
       "text": [
        "25900 "
       ]
      },
      {
       "output_type": "stream",
       "stream": "stdout",
       "text": [
        "26000 "
       ]
      },
      {
       "output_type": "stream",
       "stream": "stdout",
       "text": [
        "26100 "
       ]
      },
      {
       "output_type": "stream",
       "stream": "stdout",
       "text": [
        "26200 "
       ]
      },
      {
       "output_type": "stream",
       "stream": "stdout",
       "text": [
        "26300 "
       ]
      },
      {
       "output_type": "stream",
       "stream": "stdout",
       "text": [
        "26400 "
       ]
      },
      {
       "output_type": "stream",
       "stream": "stdout",
       "text": [
        "26500 "
       ]
      },
      {
       "output_type": "stream",
       "stream": "stdout",
       "text": [
        "26600 "
       ]
      },
      {
       "output_type": "stream",
       "stream": "stdout",
       "text": [
        "26700 "
       ]
      },
      {
       "output_type": "stream",
       "stream": "stdout",
       "text": [
        "26800 "
       ]
      },
      {
       "output_type": "stream",
       "stream": "stdout",
       "text": [
        "26900 "
       ]
      },
      {
       "output_type": "stream",
       "stream": "stdout",
       "text": [
        "27000 "
       ]
      },
      {
       "output_type": "stream",
       "stream": "stdout",
       "text": [
        "27100 "
       ]
      },
      {
       "output_type": "stream",
       "stream": "stdout",
       "text": [
        "27200 "
       ]
      },
      {
       "output_type": "stream",
       "stream": "stdout",
       "text": [
        "27300 "
       ]
      },
      {
       "output_type": "stream",
       "stream": "stdout",
       "text": [
        "27400 "
       ]
      },
      {
       "output_type": "stream",
       "stream": "stdout",
       "text": [
        "27500 "
       ]
      },
      {
       "output_type": "stream",
       "stream": "stdout",
       "text": [
        "27600 "
       ]
      },
      {
       "output_type": "stream",
       "stream": "stdout",
       "text": [
        "27700 "
       ]
      },
      {
       "output_type": "stream",
       "stream": "stdout",
       "text": [
        "27800 "
       ]
      },
      {
       "output_type": "stream",
       "stream": "stdout",
       "text": [
        "27900 "
       ]
      },
      {
       "output_type": "stream",
       "stream": "stdout",
       "text": [
        "28000 "
       ]
      },
      {
       "output_type": "stream",
       "stream": "stdout",
       "text": [
        "28100 "
       ]
      },
      {
       "output_type": "stream",
       "stream": "stdout",
       "text": [
        "28200 "
       ]
      },
      {
       "output_type": "stream",
       "stream": "stdout",
       "text": [
        "28300 "
       ]
      },
      {
       "output_type": "stream",
       "stream": "stdout",
       "text": [
        "28400 "
       ]
      },
      {
       "output_type": "stream",
       "stream": "stdout",
       "text": [
        "28500 "
       ]
      },
      {
       "output_type": "stream",
       "stream": "stdout",
       "text": [
        "28600 "
       ]
      },
      {
       "output_type": "stream",
       "stream": "stdout",
       "text": [
        "28700 "
       ]
      },
      {
       "output_type": "stream",
       "stream": "stdout",
       "text": [
        "28800 "
       ]
      },
      {
       "output_type": "stream",
       "stream": "stdout",
       "text": [
        "28900 "
       ]
      },
      {
       "output_type": "stream",
       "stream": "stdout",
       "text": [
        "29000 "
       ]
      },
      {
       "output_type": "stream",
       "stream": "stdout",
       "text": [
        "29100 "
       ]
      },
      {
       "output_type": "stream",
       "stream": "stdout",
       "text": [
        "29200 "
       ]
      },
      {
       "output_type": "stream",
       "stream": "stdout",
       "text": [
        "29300 "
       ]
      },
      {
       "output_type": "stream",
       "stream": "stdout",
       "text": [
        "29400 "
       ]
      },
      {
       "output_type": "stream",
       "stream": "stdout",
       "text": [
        "29500 "
       ]
      },
      {
       "output_type": "stream",
       "stream": "stdout",
       "text": [
        "29600 "
       ]
      },
      {
       "output_type": "stream",
       "stream": "stdout",
       "text": [
        "29700 "
       ]
      },
      {
       "output_type": "stream",
       "stream": "stdout",
       "text": [
        "29800 "
       ]
      },
      {
       "output_type": "stream",
       "stream": "stdout",
       "text": [
        "29900 "
       ]
      },
      {
       "output_type": "stream",
       "stream": "stdout",
       "text": [
        "30000 "
       ]
      },
      {
       "output_type": "stream",
       "stream": "stdout",
       "text": [
        "30100 "
       ]
      },
      {
       "output_type": "stream",
       "stream": "stdout",
       "text": [
        "30200 "
       ]
      },
      {
       "output_type": "stream",
       "stream": "stdout",
       "text": [
        "30300 "
       ]
      },
      {
       "output_type": "stream",
       "stream": "stdout",
       "text": [
        "30400 "
       ]
      },
      {
       "output_type": "stream",
       "stream": "stdout",
       "text": [
        "30500 "
       ]
      },
      {
       "output_type": "stream",
       "stream": "stdout",
       "text": [
        "30600 "
       ]
      },
      {
       "output_type": "stream",
       "stream": "stdout",
       "text": [
        "30700 "
       ]
      },
      {
       "output_type": "stream",
       "stream": "stdout",
       "text": [
        "30800 "
       ]
      },
      {
       "output_type": "stream",
       "stream": "stdout",
       "text": [
        "30900 "
       ]
      },
      {
       "output_type": "stream",
       "stream": "stdout",
       "text": [
        "31000 "
       ]
      },
      {
       "output_type": "stream",
       "stream": "stdout",
       "text": [
        "31100 "
       ]
      },
      {
       "output_type": "stream",
       "stream": "stdout",
       "text": [
        "31200 "
       ]
      },
      {
       "output_type": "stream",
       "stream": "stdout",
       "text": [
        "31300 "
       ]
      },
      {
       "output_type": "stream",
       "stream": "stdout",
       "text": [
        "31400 "
       ]
      },
      {
       "output_type": "stream",
       "stream": "stdout",
       "text": [
        "31500 "
       ]
      },
      {
       "output_type": "stream",
       "stream": "stdout",
       "text": [
        "31600 "
       ]
      },
      {
       "output_type": "stream",
       "stream": "stdout",
       "text": [
        "31700 "
       ]
      },
      {
       "output_type": "stream",
       "stream": "stdout",
       "text": [
        "31800 "
       ]
      },
      {
       "output_type": "stream",
       "stream": "stdout",
       "text": [
        "31900 "
       ]
      },
      {
       "output_type": "stream",
       "stream": "stdout",
       "text": [
        "32000 "
       ]
      },
      {
       "output_type": "stream",
       "stream": "stdout",
       "text": [
        "32100 "
       ]
      },
      {
       "output_type": "stream",
       "stream": "stdout",
       "text": [
        "32200 "
       ]
      },
      {
       "output_type": "stream",
       "stream": "stdout",
       "text": [
        "32300 "
       ]
      },
      {
       "output_type": "stream",
       "stream": "stdout",
       "text": [
        "32400 "
       ]
      },
      {
       "output_type": "stream",
       "stream": "stdout",
       "text": [
        "32500 "
       ]
      },
      {
       "output_type": "stream",
       "stream": "stdout",
       "text": [
        "32600 "
       ]
      },
      {
       "output_type": "stream",
       "stream": "stdout",
       "text": [
        "32700 "
       ]
      },
      {
       "output_type": "stream",
       "stream": "stdout",
       "text": [
        "32800 "
       ]
      },
      {
       "output_type": "stream",
       "stream": "stdout",
       "text": [
        "32900 "
       ]
      },
      {
       "output_type": "stream",
       "stream": "stdout",
       "text": [
        "33000 "
       ]
      },
      {
       "output_type": "stream",
       "stream": "stdout",
       "text": [
        "33100 "
       ]
      },
      {
       "output_type": "stream",
       "stream": "stdout",
       "text": [
        "33200 "
       ]
      },
      {
       "output_type": "stream",
       "stream": "stdout",
       "text": [
        "33300 "
       ]
      },
      {
       "output_type": "stream",
       "stream": "stdout",
       "text": [
        "33400 "
       ]
      },
      {
       "output_type": "stream",
       "stream": "stdout",
       "text": [
        "33500 "
       ]
      },
      {
       "output_type": "stream",
       "stream": "stdout",
       "text": [
        "33600 "
       ]
      },
      {
       "output_type": "stream",
       "stream": "stdout",
       "text": [
        "33700 "
       ]
      },
      {
       "output_type": "stream",
       "stream": "stdout",
       "text": [
        "33800 "
       ]
      },
      {
       "output_type": "stream",
       "stream": "stdout",
       "text": [
        "33900 "
       ]
      },
      {
       "output_type": "stream",
       "stream": "stdout",
       "text": [
        "34000 "
       ]
      },
      {
       "output_type": "stream",
       "stream": "stdout",
       "text": [
        "34100 "
       ]
      },
      {
       "output_type": "stream",
       "stream": "stdout",
       "text": [
        "34200 "
       ]
      },
      {
       "output_type": "stream",
       "stream": "stdout",
       "text": [
        "34300 "
       ]
      },
      {
       "output_type": "stream",
       "stream": "stdout",
       "text": [
        "34400 "
       ]
      },
      {
       "output_type": "stream",
       "stream": "stdout",
       "text": [
        "34500 "
       ]
      },
      {
       "output_type": "stream",
       "stream": "stdout",
       "text": [
        "34600 "
       ]
      },
      {
       "output_type": "stream",
       "stream": "stdout",
       "text": [
        "34700 "
       ]
      },
      {
       "output_type": "stream",
       "stream": "stdout",
       "text": [
        "34800 "
       ]
      },
      {
       "output_type": "stream",
       "stream": "stdout",
       "text": [
        "34900 "
       ]
      },
      {
       "output_type": "stream",
       "stream": "stdout",
       "text": [
        "35000 "
       ]
      },
      {
       "output_type": "stream",
       "stream": "stdout",
       "text": [
        "35100 "
       ]
      },
      {
       "output_type": "stream",
       "stream": "stdout",
       "text": [
        "35200 "
       ]
      },
      {
       "output_type": "stream",
       "stream": "stdout",
       "text": [
        "35300 "
       ]
      },
      {
       "output_type": "stream",
       "stream": "stdout",
       "text": [
        "35400 "
       ]
      },
      {
       "output_type": "stream",
       "stream": "stdout",
       "text": [
        "35500 "
       ]
      },
      {
       "output_type": "stream",
       "stream": "stdout",
       "text": [
        "35600 "
       ]
      },
      {
       "output_type": "stream",
       "stream": "stdout",
       "text": [
        "35700 "
       ]
      },
      {
       "output_type": "stream",
       "stream": "stdout",
       "text": [
        "35800 "
       ]
      },
      {
       "output_type": "stream",
       "stream": "stdout",
       "text": [
        "35900 "
       ]
      },
      {
       "output_type": "stream",
       "stream": "stdout",
       "text": [
        "36000 "
       ]
      },
      {
       "output_type": "stream",
       "stream": "stdout",
       "text": [
        "36100 "
       ]
      },
      {
       "output_type": "stream",
       "stream": "stdout",
       "text": [
        "36200 "
       ]
      },
      {
       "output_type": "stream",
       "stream": "stdout",
       "text": [
        "36300 "
       ]
      },
      {
       "output_type": "stream",
       "stream": "stdout",
       "text": [
        "36400 "
       ]
      },
      {
       "output_type": "stream",
       "stream": "stdout",
       "text": [
        "36500 "
       ]
      },
      {
       "output_type": "stream",
       "stream": "stdout",
       "text": [
        "36600 "
       ]
      },
      {
       "output_type": "stream",
       "stream": "stdout",
       "text": [
        "36700 "
       ]
      },
      {
       "output_type": "stream",
       "stream": "stdout",
       "text": [
        "36800 "
       ]
      },
      {
       "output_type": "stream",
       "stream": "stdout",
       "text": [
        "36900 "
       ]
      },
      {
       "output_type": "stream",
       "stream": "stdout",
       "text": [
        "37000 "
       ]
      },
      {
       "output_type": "stream",
       "stream": "stdout",
       "text": [
        "37100 "
       ]
      },
      {
       "output_type": "stream",
       "stream": "stdout",
       "text": [
        "37200 "
       ]
      },
      {
       "output_type": "stream",
       "stream": "stdout",
       "text": [
        "37300 "
       ]
      },
      {
       "output_type": "stream",
       "stream": "stdout",
       "text": [
        "37400 "
       ]
      },
      {
       "output_type": "stream",
       "stream": "stdout",
       "text": [
        "37500 "
       ]
      },
      {
       "output_type": "stream",
       "stream": "stdout",
       "text": [
        "37600 "
       ]
      },
      {
       "output_type": "stream",
       "stream": "stdout",
       "text": [
        "37700 "
       ]
      },
      {
       "output_type": "stream",
       "stream": "stdout",
       "text": [
        "37800 "
       ]
      },
      {
       "output_type": "stream",
       "stream": "stdout",
       "text": [
        "37900 "
       ]
      },
      {
       "output_type": "stream",
       "stream": "stdout",
       "text": [
        "38000 "
       ]
      },
      {
       "output_type": "stream",
       "stream": "stdout",
       "text": [
        "38100 "
       ]
      },
      {
       "output_type": "stream",
       "stream": "stdout",
       "text": [
        "38200 "
       ]
      },
      {
       "output_type": "stream",
       "stream": "stdout",
       "text": [
        "38300 "
       ]
      },
      {
       "output_type": "stream",
       "stream": "stdout",
       "text": [
        "38400 "
       ]
      },
      {
       "output_type": "stream",
       "stream": "stdout",
       "text": [
        "38500 "
       ]
      },
      {
       "output_type": "stream",
       "stream": "stdout",
       "text": [
        "38600 "
       ]
      },
      {
       "output_type": "stream",
       "stream": "stdout",
       "text": [
        "38700 "
       ]
      },
      {
       "output_type": "stream",
       "stream": "stdout",
       "text": [
        "38800 "
       ]
      },
      {
       "output_type": "stream",
       "stream": "stdout",
       "text": [
        "38900 "
       ]
      },
      {
       "output_type": "stream",
       "stream": "stdout",
       "text": [
        "39000 "
       ]
      },
      {
       "output_type": "stream",
       "stream": "stdout",
       "text": [
        "39100 "
       ]
      },
      {
       "output_type": "stream",
       "stream": "stdout",
       "text": [
        "39200 "
       ]
      },
      {
       "output_type": "stream",
       "stream": "stdout",
       "text": [
        "39300 "
       ]
      },
      {
       "output_type": "stream",
       "stream": "stdout",
       "text": [
        "39400 "
       ]
      },
      {
       "output_type": "stream",
       "stream": "stdout",
       "text": [
        "39500 "
       ]
      },
      {
       "output_type": "stream",
       "stream": "stdout",
       "text": [
        "39600 "
       ]
      },
      {
       "output_type": "stream",
       "stream": "stdout",
       "text": [
        "39700 "
       ]
      },
      {
       "output_type": "stream",
       "stream": "stdout",
       "text": [
        "39800 "
       ]
      },
      {
       "output_type": "stream",
       "stream": "stdout",
       "text": [
        "39900 "
       ]
      },
      {
       "output_type": "stream",
       "stream": "stdout",
       "text": [
        "40000 "
       ]
      },
      {
       "output_type": "stream",
       "stream": "stdout",
       "text": [
        "40100 "
       ]
      },
      {
       "output_type": "stream",
       "stream": "stdout",
       "text": [
        "40200 "
       ]
      },
      {
       "output_type": "stream",
       "stream": "stdout",
       "text": [
        "40300 "
       ]
      },
      {
       "output_type": "stream",
       "stream": "stdout",
       "text": [
        "40400 "
       ]
      },
      {
       "output_type": "stream",
       "stream": "stdout",
       "text": [
        "40500 "
       ]
      },
      {
       "output_type": "stream",
       "stream": "stdout",
       "text": [
        "40600 "
       ]
      },
      {
       "output_type": "stream",
       "stream": "stdout",
       "text": [
        "40700 "
       ]
      },
      {
       "output_type": "stream",
       "stream": "stdout",
       "text": [
        "40800 "
       ]
      },
      {
       "output_type": "stream",
       "stream": "stdout",
       "text": [
        "40900 "
       ]
      },
      {
       "output_type": "stream",
       "stream": "stdout",
       "text": [
        "41000 "
       ]
      },
      {
       "output_type": "stream",
       "stream": "stdout",
       "text": [
        "41100 "
       ]
      },
      {
       "output_type": "stream",
       "stream": "stdout",
       "text": [
        "41200 "
       ]
      },
      {
       "output_type": "stream",
       "stream": "stdout",
       "text": [
        "41300 "
       ]
      },
      {
       "output_type": "stream",
       "stream": "stdout",
       "text": [
        "41400 "
       ]
      },
      {
       "output_type": "stream",
       "stream": "stdout",
       "text": [
        "41500 "
       ]
      },
      {
       "output_type": "stream",
       "stream": "stdout",
       "text": [
        "41600 "
       ]
      },
      {
       "output_type": "stream",
       "stream": "stdout",
       "text": [
        "41700 "
       ]
      },
      {
       "output_type": "stream",
       "stream": "stdout",
       "text": [
        "41800 "
       ]
      },
      {
       "output_type": "stream",
       "stream": "stdout",
       "text": [
        "41900 "
       ]
      },
      {
       "output_type": "stream",
       "stream": "stdout",
       "text": [
        "42000 "
       ]
      },
      {
       "output_type": "stream",
       "stream": "stdout",
       "text": [
        "42100 "
       ]
      },
      {
       "output_type": "stream",
       "stream": "stdout",
       "text": [
        "42200 "
       ]
      },
      {
       "output_type": "stream",
       "stream": "stdout",
       "text": [
        "42300 "
       ]
      },
      {
       "output_type": "stream",
       "stream": "stdout",
       "text": [
        "42400 "
       ]
      },
      {
       "output_type": "stream",
       "stream": "stdout",
       "text": [
        "42500 "
       ]
      },
      {
       "output_type": "stream",
       "stream": "stdout",
       "text": [
        "42600 "
       ]
      },
      {
       "output_type": "stream",
       "stream": "stdout",
       "text": [
        "42700 "
       ]
      },
      {
       "output_type": "stream",
       "stream": "stdout",
       "text": [
        "42800 "
       ]
      },
      {
       "output_type": "stream",
       "stream": "stdout",
       "text": [
        "42900 "
       ]
      },
      {
       "output_type": "stream",
       "stream": "stdout",
       "text": [
        "43000 "
       ]
      },
      {
       "output_type": "stream",
       "stream": "stdout",
       "text": [
        "43100 "
       ]
      },
      {
       "output_type": "stream",
       "stream": "stdout",
       "text": [
        "43200 "
       ]
      },
      {
       "output_type": "stream",
       "stream": "stdout",
       "text": [
        "43300 "
       ]
      },
      {
       "output_type": "stream",
       "stream": "stdout",
       "text": [
        "43400 "
       ]
      },
      {
       "output_type": "stream",
       "stream": "stdout",
       "text": [
        "43500 "
       ]
      },
      {
       "output_type": "stream",
       "stream": "stdout",
       "text": [
        "43600 "
       ]
      },
      {
       "output_type": "stream",
       "stream": "stdout",
       "text": [
        "43700 "
       ]
      },
      {
       "output_type": "stream",
       "stream": "stdout",
       "text": [
        "43800 "
       ]
      },
      {
       "output_type": "stream",
       "stream": "stdout",
       "text": [
        "43900 "
       ]
      },
      {
       "output_type": "stream",
       "stream": "stdout",
       "text": [
        "44000 "
       ]
      },
      {
       "output_type": "stream",
       "stream": "stdout",
       "text": [
        "44100 "
       ]
      },
      {
       "output_type": "stream",
       "stream": "stdout",
       "text": [
        "44200 "
       ]
      },
      {
       "output_type": "stream",
       "stream": "stdout",
       "text": [
        "44300 "
       ]
      },
      {
       "output_type": "stream",
       "stream": "stdout",
       "text": [
        "44400 "
       ]
      },
      {
       "output_type": "stream",
       "stream": "stdout",
       "text": [
        "44500 "
       ]
      },
      {
       "output_type": "stream",
       "stream": "stdout",
       "text": [
        "44600 "
       ]
      },
      {
       "output_type": "stream",
       "stream": "stdout",
       "text": [
        "44700 "
       ]
      },
      {
       "output_type": "stream",
       "stream": "stdout",
       "text": [
        "44800 "
       ]
      },
      {
       "output_type": "stream",
       "stream": "stdout",
       "text": [
        "44900 "
       ]
      },
      {
       "output_type": "stream",
       "stream": "stdout",
       "text": [
        "45000 "
       ]
      },
      {
       "output_type": "stream",
       "stream": "stdout",
       "text": [
        "45100 "
       ]
      },
      {
       "output_type": "stream",
       "stream": "stdout",
       "text": [
        "45200 "
       ]
      },
      {
       "output_type": "stream",
       "stream": "stdout",
       "text": [
        "45300 "
       ]
      },
      {
       "output_type": "stream",
       "stream": "stdout",
       "text": [
        "45400 "
       ]
      },
      {
       "output_type": "stream",
       "stream": "stdout",
       "text": [
        "45500 "
       ]
      },
      {
       "output_type": "stream",
       "stream": "stdout",
       "text": [
        "45600 "
       ]
      },
      {
       "output_type": "stream",
       "stream": "stdout",
       "text": [
        "45700 "
       ]
      },
      {
       "output_type": "stream",
       "stream": "stdout",
       "text": [
        "45800 "
       ]
      },
      {
       "output_type": "stream",
       "stream": "stdout",
       "text": [
        "45900 "
       ]
      },
      {
       "output_type": "stream",
       "stream": "stdout",
       "text": [
        "46000\n"
       ]
      }
     ],
     "prompt_number": 50
    },
    {
     "cell_type": "code",
     "collapsed": false,
     "input": [
      "testNew = test.copy()\n",
      "i = 0\n",
      "for j in test.DayForStartTrainPeriod.sort_values().index:\n",
      "    testNew.loc[i] = test.loc[j]\n",
      "    i += 1\n",
      "    if ((i % 100) == 0):\n",
      "        print i,\n",
      "testNew.to_csv(\"test.csv\", index=None)"
     ],
     "language": "python",
     "metadata": {},
     "outputs": [
      {
       "output_type": "stream",
       "stream": "stdout",
       "text": [
        "100 "
       ]
      },
      {
       "output_type": "stream",
       "stream": "stdout",
       "text": [
        "200 "
       ]
      },
      {
       "output_type": "stream",
       "stream": "stdout",
       "text": [
        "300 "
       ]
      },
      {
       "output_type": "stream",
       "stream": "stdout",
       "text": [
        "400 "
       ]
      },
      {
       "output_type": "stream",
       "stream": "stdout",
       "text": [
        "500 "
       ]
      },
      {
       "output_type": "stream",
       "stream": "stdout",
       "text": [
        "600 "
       ]
      },
      {
       "output_type": "stream",
       "stream": "stdout",
       "text": [
        "700 "
       ]
      },
      {
       "output_type": "stream",
       "stream": "stdout",
       "text": [
        "800 "
       ]
      },
      {
       "output_type": "stream",
       "stream": "stdout",
       "text": [
        "900 "
       ]
      },
      {
       "output_type": "stream",
       "stream": "stdout",
       "text": [
        "1000 "
       ]
      },
      {
       "output_type": "stream",
       "stream": "stdout",
       "text": [
        "1100 "
       ]
      },
      {
       "output_type": "stream",
       "stream": "stdout",
       "text": [
        "1200 "
       ]
      },
      {
       "output_type": "stream",
       "stream": "stdout",
       "text": [
        "1300 "
       ]
      },
      {
       "output_type": "stream",
       "stream": "stdout",
       "text": [
        "1400 "
       ]
      },
      {
       "output_type": "stream",
       "stream": "stdout",
       "text": [
        "1500 "
       ]
      },
      {
       "output_type": "stream",
       "stream": "stdout",
       "text": [
        "1600 "
       ]
      },
      {
       "output_type": "stream",
       "stream": "stdout",
       "text": [
        "1700 "
       ]
      },
      {
       "output_type": "stream",
       "stream": "stdout",
       "text": [
        "1800 "
       ]
      },
      {
       "output_type": "stream",
       "stream": "stdout",
       "text": [
        "1900 "
       ]
      },
      {
       "output_type": "stream",
       "stream": "stdout",
       "text": [
        "2000 "
       ]
      },
      {
       "output_type": "stream",
       "stream": "stdout",
       "text": [
        "2100 "
       ]
      },
      {
       "output_type": "stream",
       "stream": "stdout",
       "text": [
        "2200 "
       ]
      },
      {
       "output_type": "stream",
       "stream": "stdout",
       "text": [
        "2300 "
       ]
      },
      {
       "output_type": "stream",
       "stream": "stdout",
       "text": [
        "2400 "
       ]
      },
      {
       "output_type": "stream",
       "stream": "stdout",
       "text": [
        "2500 "
       ]
      },
      {
       "output_type": "stream",
       "stream": "stdout",
       "text": [
        "2600 "
       ]
      },
      {
       "output_type": "stream",
       "stream": "stdout",
       "text": [
        "2700 "
       ]
      },
      {
       "output_type": "stream",
       "stream": "stdout",
       "text": [
        "2800 "
       ]
      },
      {
       "output_type": "stream",
       "stream": "stdout",
       "text": [
        "2900 "
       ]
      },
      {
       "output_type": "stream",
       "stream": "stdout",
       "text": [
        "3000 "
       ]
      },
      {
       "output_type": "stream",
       "stream": "stdout",
       "text": [
        "3100 "
       ]
      },
      {
       "output_type": "stream",
       "stream": "stdout",
       "text": [
        "3200 "
       ]
      },
      {
       "output_type": "stream",
       "stream": "stdout",
       "text": [
        "3300 "
       ]
      },
      {
       "output_type": "stream",
       "stream": "stdout",
       "text": [
        "3400 "
       ]
      },
      {
       "output_type": "stream",
       "stream": "stdout",
       "text": [
        "3500 "
       ]
      },
      {
       "output_type": "stream",
       "stream": "stdout",
       "text": [
        "3600 "
       ]
      },
      {
       "output_type": "stream",
       "stream": "stdout",
       "text": [
        "3700 "
       ]
      },
      {
       "output_type": "stream",
       "stream": "stdout",
       "text": [
        "3800 "
       ]
      },
      {
       "output_type": "stream",
       "stream": "stdout",
       "text": [
        "3900 "
       ]
      },
      {
       "output_type": "stream",
       "stream": "stdout",
       "text": [
        "4000 "
       ]
      },
      {
       "output_type": "stream",
       "stream": "stdout",
       "text": [
        "4100 "
       ]
      },
      {
       "output_type": "stream",
       "stream": "stdout",
       "text": [
        "4200 "
       ]
      },
      {
       "output_type": "stream",
       "stream": "stdout",
       "text": [
        "4300 "
       ]
      },
      {
       "output_type": "stream",
       "stream": "stdout",
       "text": [
        "4400 "
       ]
      },
      {
       "output_type": "stream",
       "stream": "stdout",
       "text": [
        "4500 "
       ]
      },
      {
       "output_type": "stream",
       "stream": "stdout",
       "text": [
        "4600 "
       ]
      },
      {
       "output_type": "stream",
       "stream": "stdout",
       "text": [
        "4700 "
       ]
      },
      {
       "output_type": "stream",
       "stream": "stdout",
       "text": [
        "4800 "
       ]
      },
      {
       "output_type": "stream",
       "stream": "stdout",
       "text": [
        "4900 "
       ]
      },
      {
       "output_type": "stream",
       "stream": "stdout",
       "text": [
        "5000 "
       ]
      },
      {
       "output_type": "stream",
       "stream": "stdout",
       "text": [
        "5100 "
       ]
      },
      {
       "output_type": "stream",
       "stream": "stdout",
       "text": [
        "5200 "
       ]
      },
      {
       "output_type": "stream",
       "stream": "stdout",
       "text": [
        "5300 "
       ]
      },
      {
       "output_type": "stream",
       "stream": "stdout",
       "text": [
        "5400 "
       ]
      },
      {
       "output_type": "stream",
       "stream": "stdout",
       "text": [
        "5500 "
       ]
      },
      {
       "output_type": "stream",
       "stream": "stdout",
       "text": [
        "5600 "
       ]
      },
      {
       "output_type": "stream",
       "stream": "stdout",
       "text": [
        "5700 "
       ]
      },
      {
       "output_type": "stream",
       "stream": "stdout",
       "text": [
        "5800 "
       ]
      },
      {
       "output_type": "stream",
       "stream": "stdout",
       "text": [
        "5900 "
       ]
      },
      {
       "output_type": "stream",
       "stream": "stdout",
       "text": [
        "6000 "
       ]
      },
      {
       "output_type": "stream",
       "stream": "stdout",
       "text": [
        "6100 "
       ]
      },
      {
       "output_type": "stream",
       "stream": "stdout",
       "text": [
        "6200 "
       ]
      },
      {
       "output_type": "stream",
       "stream": "stdout",
       "text": [
        "6300 "
       ]
      },
      {
       "output_type": "stream",
       "stream": "stdout",
       "text": [
        "6400 "
       ]
      },
      {
       "output_type": "stream",
       "stream": "stdout",
       "text": [
        "6500 "
       ]
      },
      {
       "output_type": "stream",
       "stream": "stdout",
       "text": [
        "6600 "
       ]
      },
      {
       "output_type": "stream",
       "stream": "stdout",
       "text": [
        "6700 "
       ]
      },
      {
       "output_type": "stream",
       "stream": "stdout",
       "text": [
        "6800 "
       ]
      },
      {
       "output_type": "stream",
       "stream": "stdout",
       "text": [
        "6900 "
       ]
      },
      {
       "output_type": "stream",
       "stream": "stdout",
       "text": [
        "7000 "
       ]
      },
      {
       "output_type": "stream",
       "stream": "stdout",
       "text": [
        "7100 "
       ]
      },
      {
       "output_type": "stream",
       "stream": "stdout",
       "text": [
        "7200 "
       ]
      },
      {
       "output_type": "stream",
       "stream": "stdout",
       "text": [
        "7300\n"
       ]
      }
     ],
     "prompt_number": 51
    },
    {
     "cell_type": "code",
     "collapsed": false,
     "input": [],
     "language": "python",
     "metadata": {},
     "outputs": [],
     "prompt_number": 49
    },
    {
     "cell_type": "code",
     "collapsed": false,
     "input": [],
     "language": "python",
     "metadata": {},
     "outputs": [],
     "prompt_number": 49
    },
    {
     "cell_type": "code",
     "collapsed": false,
     "input": [
      "'''\n",
      "top = calendar.datetime.date(3000, 10, 10)\n",
      "topIndex = None\n",
      "down = calendar.datetime.date(1000, 10, 10)\n",
      "downIndex = None\n",
      "\n",
      "currentDate = calendar.datetime.date(year, month, day)\n",
      "\n",
      "for i in X_train[(X_train.City == city)].index:\n",
      "    tmpDay = calendar.datetime.date(X_train.Year[i], X_train.Month[i], X_train.Day[i])\n",
      "    if((tmpDay > currentDate) & (tmpDay < top)):\n",
      "        top = tmpDay\n",
      "        topIndex = i\n",
      "    if((tmpDay < currentDate) & (tmpDay > down)):\n",
      "        down = tmpDay\n",
      "        downIndex = i\n",
      "\n",
      "count = 0\n",
      "if(topIndex == None):\n",
      "    count = y_train[downIndex]\n",
      "if(downIndex == None):\n",
      "    count = y_train[topIndex]\n",
      "if((downIndex != None) & (topIndex != None)):\n",
      "    allInter = (top - down).days\n",
      "    downInter = (currentDate - down).days\n",
      "    topInter = (top - currentDate).days\n",
      "    count = (topInter/allInter) * y_train[topIndex] + (downInter/allInter) * y_train[downIndex]\n",
      "return count\n",
      "\n",
      "allInter = (top - down).days\n",
      "downInter = (currentDate - down).days\n",
      "topInter = (top - currentDate).days\n",
      "'''"
     ],
     "language": "python",
     "metadata": {},
     "outputs": [
      {
       "metadata": {},
       "output_type": "pyout",
       "prompt_number": 59,
       "text": [
        "'\\ntop = calendar.datetime.date(3000, 10, 10)\\ntopIndex = None\\ndown = calendar.datetime.date(1000, 10, 10)\\ndownIndex = None\\n\\ncurrentDate = calendar.datetime.date(year, month, day)\\n\\nfor i in X_train[(X_train.City == city)].index:\\n    tmpDay = calendar.datetime.date(X_train.Year[i], X_train.Month[i], X_train.Day[i])\\n    if((tmpDay > currentDate) & (tmpDay < top)):\\n        top = tmpDay\\n        topIndex = i\\n    if((tmpDay < currentDate) & (tmpDay > down)):\\n        down = tmpDay\\n        downIndex = i\\n\\ncount = 0\\nif(topIndex == None):\\n    count = y_train[downIndex]\\nif(downIndex == None):\\n    count = y_train[topIndex]\\nif((downIndex != None) & (topIndex != None)):\\n    allInter = (top - down).days\\n    downInter = (currentDate - down).days\\n    topInter = (top - currentDate).days\\n    count = (topInter/allInter) * y_train[topIndex] + (downInter/allInter) * y_train[downIndex]\\nreturn count\\n\\nallInter = (top - down).days\\ndownInter = (currentDate - down).days\\ntopInter = (top - currentDate).days\\n'"
       ]
      }
     ],
     "prompt_number": 59
    },
    {
     "cell_type": "code",
     "collapsed": false,
     "input": [
      "def GetCountDayForStarYear(year, month, day):\n",
      "    day = calendar.datetime.date(year, month, day)\n",
      "    dayStartYear = calendar.datetime.date(year, 1, 1)\n",
      "    \n",
      "    return int((day - dayStartYear).days)"
     ],
     "language": "python",
     "metadata": {},
     "outputs": [],
     "prompt_number": 5
    },
    {
     "cell_type": "code",
     "collapsed": false,
     "input": [
      "train[\"DayForStartYear\"] = None\n",
      "\n",
      "\n",
      "res = []\n",
      "for i in range(len(train.index)):\n",
      "    res.append(GetCountDayForStarYear(train.Year[i], train.Month[i], train.Day[i]))\n",
      "train[\"DayForStartYear\"] = pd.Series(res)"
     ],
     "language": "python",
     "metadata": {},
     "outputs": [],
     "prompt_number": 6
    },
    {
     "cell_type": "code",
     "collapsed": false,
     "input": [
      "test[\"DayForStartYear\"] = None\n",
      "\n",
      "\n",
      "res = []\n",
      "for i in range(len(test.index)):\n",
      "    res.append(GetCountDayForStarYear(test.Year[i], test.Month[i], test.Day[i]))\n",
      "test[\"DayForStartYear\"] = pd.Series(res)"
     ],
     "language": "python",
     "metadata": {},
     "outputs": [],
     "prompt_number": 7
    },
    {
     "cell_type": "code",
     "collapsed": false,
     "input": [],
     "language": "python",
     "metadata": {},
     "outputs": [],
     "prompt_number": 9
    },
    {
     "cell_type": "code",
     "collapsed": false,
     "input": [],
     "language": "python",
     "metadata": {},
     "outputs": [],
     "prompt_number": 17
    },
    {
     "cell_type": "code",
     "collapsed": false,
     "input": [
      "res = [0] * len(train.index)\n",
      "for i in range(len(train.index)):\n",
      "    if((calendar.datetime.date(train.Year[i], train.Month[i], train.Day[i]).weekday() == 5) |\\\n",
      "       (calendar.datetime.date(train.Year[i], train.Month[i], train.Day[i]).weekday() == 6)):\n",
      "        res[i] = 1\n",
      "train[\"isWeekend\"] = pd.Series(res)"
     ],
     "language": "python",
     "metadata": {},
     "outputs": [],
     "prompt_number": 31
    },
    {
     "cell_type": "code",
     "collapsed": false,
     "input": [
      "res = [0] * len(test.index)\n",
      "for i in range(len(test.index)):\n",
      "    if((calendar.datetime.date(test.Year[i], test.Month[i], test.Day[i]).weekday() == 5) |\\\n",
      "       (calendar.datetime.date(test.Year[i], test.Month[i], test.Day[i]).weekday() == 6)):\n",
      "        res[i] = 1\n",
      "test[\"isWeekend\"] = pd.Series(res)"
     ],
     "language": "python",
     "metadata": {},
     "outputs": [],
     "prompt_number": 33
    },
    {
     "cell_type": "code",
     "collapsed": false,
     "input": [
      "#6.10.2011"
     ],
     "language": "python",
     "metadata": {},
     "outputs": [],
     "prompt_number": 35
    },
    {
     "cell_type": "code",
     "collapsed": false,
     "input": [
      "def DayForStartTrainPeriod(data):\n",
      "    res = [0] * len(data.index)\n",
      "    startDate = calendar.datetime.date(2011, 10, 6)\n",
      "    for i in range(len(data.index)):\n",
      "        currentDay = calendar.datetime.date(data.Year[i], data.Month[i], data.Day[i])\n",
      "        res[i] = (currentDay - startDate).days\n",
      "    return res\n"
     ],
     "language": "python",
     "metadata": {},
     "outputs": [],
     "prompt_number": 43
    },
    {
     "cell_type": "code",
     "collapsed": false,
     "input": [
      "res = DayForStartTrainPeriod(train)\n",
      "train[\"DayForStartTrainPeriod\"] = pd.Series(res)\n",
      "res = DayForStartTrainPeriod(test)\n",
      "test[\"DayForStartTrainPeriod\"] = pd.Series(res)"
     ],
     "language": "python",
     "metadata": {},
     "outputs": [],
     "prompt_number": 47
    },
    {
     "cell_type": "code",
     "collapsed": false,
     "input": [],
     "language": "python",
     "metadata": {},
     "outputs": [],
     "prompt_number": 39
    },
    {
     "cell_type": "code",
     "collapsed": false,
     "input": [],
     "language": "python",
     "metadata": {},
     "outputs": []
    },
    {
     "cell_type": "code",
     "collapsed": false,
     "input": [
      "def MeanNDayFromThis(n, data, City, Year, Month, Day):\n",
      "    data = data[data.City == City]\n",
      "    indexArray = data.index\n",
      "    step = 1 if n > 0 else -1\n",
      "\n",
      "\n",
      "    startIndex = data[(data.City == City) & (data.Year == Year) & (data.Month == Month) & (data.Day == Day)].index\n",
      "    startIndex = startIndex.astype(int)[0]\n",
      "\n",
      "\n",
      "    startI = indexArray.tolist().index(startIndex)\n",
      "    start = startI + step\n",
      "    \n",
      "    if((startI == 0) & (n < 0) ):\n",
      "        return -100000\n",
      "    \n",
      "    if((startI == (len(indexArray) - 1)) & (n > 0)):\n",
      "        return 100000\n",
      "    \n",
      "    if(n > 0):\n",
      "        end = (start + n - step)  if ( (start + n - step) < len(indexArray)) else len(indexArray) - 1\n",
      "\n",
      "    if(n < 0):\n",
      "        end = (start + n + step)  if ( (start + n + step) >= 0) else 0\n",
      "\n",
      "    startTime = calendar.datetime.date(Year, Month, Day)\n",
      "\n",
      "    count = 0\n",
      "    mean = 0\n",
      "\n",
      "    k = 0\n",
      "\n",
      "    for i in range(start, end, step):\n",
      "        year = data.Year[indexArray[i]]\n",
      "        month = data.Month[indexArray[i]]\n",
      "        day = data.Day[indexArray[i]]\n",
      "        if( abs((calendar.datetime.date(year, month, day) - startTime).days) <= abs(n) ):\n",
      "            mean += data.Count[indexArray[i]]\n",
      "            count += 1\n",
      "        else:\n",
      "            break\n",
      "\n",
      "    if( (n < 0) & (count == 0) ):\n",
      "        return -100000 * 10\n",
      "    \n",
      "    if( (n > 0)  & (count == 0) ):\n",
      "        return 100000 * 10\n",
      "    \n",
      "    res = mean / count\n",
      "    \n",
      "    return res\n",
      "    #\u0442\u0430\u043a \u043a\u0430\u043a \u044f \u0432 \u043e\u0441\u043d\u043e\u0432\u043d\u043e\u043c \u0438\u0441\u043f\u043e\u043b\u044c\u0437\u0443\u044e \u0434\u0435\u0440\u0435\u0432\u044c\u044f \u0434\u043b\u044f \u0440\u0435\u0448\u0435\u043d\u0438\u0439, \u0442\u043e \u043f\u0440\u0438 \u0441\u0438\u0442\u0443\u0430\u0446\u0438\u0438, \u043a\u043e\u0433\u0434\u0430 \u043d\u0435 \u0431\u0443\u0434\u0435\u0442 \u0437\u043d\u0430\u0447\u0435\u043d\u0438\u0439 \u043f\u0435\u0440\u0435\u0434 \u0442\u0435\u043a\u0443\u0449\u0435\u0439 \u0434\u0430\u0442\u043e\u0439, \n",
      "    #\u044f \u0431\u0443\u0434\u0443 \u043f\u0440\u0438\u0441\u0432\u0430\u0438\u0432\u0430\u0442\u044c \u0435\u0439 \u0431\u043e\u043b\u044c\u0448\u043e\u0435 \u043f\u043e\u043b\u043e\u0436\u0438\u0442\u0435\u043b\u044c\u043d\u043e\u0435 \u0437\u043d\u0430\u043d\u0438\u0435, \u0435\u0441\u043b\u0438 \u0441\u0437\u0430\u0434\u0438 \u043d\u0435\u0442, \u0442\u043e \u0431\u043e\u043b\u044c\u0448\u043e\u0435 \u043e\u0442\u0440\u0438\u0446\u0430\u0442\u0435\u043b\u044c\u043d\u043e\u0435, \u0441 \u0446\u0435\u043b\u044c\u044e, \u0447\u0442\u043e\u0431\u044b \u0434\u0430\u043d\u043d\u044b\u0435 \u0437\u043d\u0430\u0447\u0435\u043d\u0438\u044f \n",
      "    #\u0443\u0445\u043e\u0434\u0438\u043b\u0438 \u0432 \u043e\u0442\u0434\u0435\u043b\u044c\u043d\u044b\u0439 \u043b\u0438\u0441\u0442 \u0434\u0435\u0440\u0435\u0432\u0430\n",
      "\n"
     ],
     "language": "python",
     "metadata": {},
     "outputs": [],
     "prompt_number": 5
    },
    {
     "cell_type": "code",
     "collapsed": false,
     "input": [],
     "language": "python",
     "metadata": {},
     "outputs": [],
     "prompt_number": 92
    },
    {
     "cell_type": "code",
     "collapsed": false,
     "input": [
      "n = 7\n",
      "res = []\n",
      "k = 0\n",
      "for i in range(len(train)):\n",
      "    res.append(MeanNDayFromThis(n, train, train.City[i], train.Year[i], train.Month[i], train.Day[i]))\n",
      "    if ( (k % 100) == 0):\n",
      "        print k,\n",
      "    k += 1\n",
      "train[\"MeanNext7Day\"] = pd.Series(res)"
     ],
     "language": "python",
     "metadata": {},
     "outputs": [
      {
       "output_type": "stream",
       "stream": "stdout",
       "text": [
        "0 "
       ]
      },
      {
       "output_type": "stream",
       "stream": "stdout",
       "text": [
        "100 "
       ]
      },
      {
       "output_type": "stream",
       "stream": "stdout",
       "text": [
        "200 "
       ]
      },
      {
       "output_type": "stream",
       "stream": "stdout",
       "text": [
        "300 "
       ]
      },
      {
       "output_type": "stream",
       "stream": "stdout",
       "text": [
        "400 "
       ]
      },
      {
       "output_type": "stream",
       "stream": "stdout",
       "text": [
        "500 "
       ]
      },
      {
       "output_type": "stream",
       "stream": "stdout",
       "text": [
        "600 "
       ]
      },
      {
       "output_type": "stream",
       "stream": "stdout",
       "text": [
        "700 "
       ]
      },
      {
       "output_type": "stream",
       "stream": "stdout",
       "text": [
        "800 "
       ]
      },
      {
       "output_type": "stream",
       "stream": "stdout",
       "text": [
        "900 "
       ]
      },
      {
       "output_type": "stream",
       "stream": "stdout",
       "text": [
        "1000 "
       ]
      },
      {
       "output_type": "stream",
       "stream": "stdout",
       "text": [
        "1100 "
       ]
      },
      {
       "output_type": "stream",
       "stream": "stdout",
       "text": [
        "1200 "
       ]
      },
      {
       "output_type": "stream",
       "stream": "stdout",
       "text": [
        "1300 "
       ]
      },
      {
       "output_type": "stream",
       "stream": "stdout",
       "text": [
        "1400 "
       ]
      },
      {
       "output_type": "stream",
       "stream": "stdout",
       "text": [
        "1500 "
       ]
      },
      {
       "output_type": "stream",
       "stream": "stdout",
       "text": [
        "1600 "
       ]
      },
      {
       "output_type": "stream",
       "stream": "stdout",
       "text": [
        "1700 "
       ]
      },
      {
       "output_type": "stream",
       "stream": "stdout",
       "text": [
        "1800 "
       ]
      },
      {
       "output_type": "stream",
       "stream": "stdout",
       "text": [
        "1900 "
       ]
      },
      {
       "output_type": "stream",
       "stream": "stdout",
       "text": [
        "2000 "
       ]
      },
      {
       "output_type": "stream",
       "stream": "stdout",
       "text": [
        "2100 "
       ]
      },
      {
       "output_type": "stream",
       "stream": "stdout",
       "text": [
        "2200 "
       ]
      },
      {
       "output_type": "stream",
       "stream": "stdout",
       "text": [
        "2300 "
       ]
      },
      {
       "output_type": "stream",
       "stream": "stdout",
       "text": [
        "2400 "
       ]
      },
      {
       "output_type": "stream",
       "stream": "stdout",
       "text": [
        "2500 "
       ]
      },
      {
       "output_type": "stream",
       "stream": "stdout",
       "text": [
        "2600 "
       ]
      },
      {
       "output_type": "stream",
       "stream": "stdout",
       "text": [
        "2700 "
       ]
      },
      {
       "output_type": "stream",
       "stream": "stdout",
       "text": [
        "2800 "
       ]
      },
      {
       "output_type": "stream",
       "stream": "stdout",
       "text": [
        "2900 "
       ]
      },
      {
       "output_type": "stream",
       "stream": "stdout",
       "text": [
        "3000 "
       ]
      },
      {
       "output_type": "stream",
       "stream": "stdout",
       "text": [
        "3100 "
       ]
      },
      {
       "output_type": "stream",
       "stream": "stdout",
       "text": [
        "3200 "
       ]
      },
      {
       "output_type": "stream",
       "stream": "stdout",
       "text": [
        "3300 "
       ]
      },
      {
       "output_type": "stream",
       "stream": "stdout",
       "text": [
        "3400 "
       ]
      },
      {
       "output_type": "stream",
       "stream": "stdout",
       "text": [
        "3500 "
       ]
      },
      {
       "output_type": "stream",
       "stream": "stdout",
       "text": [
        "3600 "
       ]
      },
      {
       "output_type": "stream",
       "stream": "stdout",
       "text": [
        "3700 "
       ]
      },
      {
       "output_type": "stream",
       "stream": "stdout",
       "text": [
        "3800 "
       ]
      },
      {
       "output_type": "stream",
       "stream": "stdout",
       "text": [
        "3900 "
       ]
      },
      {
       "output_type": "stream",
       "stream": "stdout",
       "text": [
        "4000 "
       ]
      },
      {
       "output_type": "stream",
       "stream": "stdout",
       "text": [
        "4100 "
       ]
      },
      {
       "output_type": "stream",
       "stream": "stdout",
       "text": [
        "4200 "
       ]
      },
      {
       "output_type": "stream",
       "stream": "stdout",
       "text": [
        "4300 "
       ]
      },
      {
       "output_type": "stream",
       "stream": "stdout",
       "text": [
        "4400 "
       ]
      },
      {
       "output_type": "stream",
       "stream": "stdout",
       "text": [
        "4500 "
       ]
      },
      {
       "output_type": "stream",
       "stream": "stdout",
       "text": [
        "4600 "
       ]
      },
      {
       "output_type": "stream",
       "stream": "stdout",
       "text": [
        "4700 "
       ]
      },
      {
       "output_type": "stream",
       "stream": "stdout",
       "text": [
        "4800 "
       ]
      },
      {
       "output_type": "stream",
       "stream": "stdout",
       "text": [
        "4900 "
       ]
      },
      {
       "output_type": "stream",
       "stream": "stdout",
       "text": [
        "5000 "
       ]
      },
      {
       "output_type": "stream",
       "stream": "stdout",
       "text": [
        "5100 "
       ]
      },
      {
       "output_type": "stream",
       "stream": "stdout",
       "text": [
        "5200 "
       ]
      },
      {
       "output_type": "stream",
       "stream": "stdout",
       "text": [
        "5300 "
       ]
      },
      {
       "output_type": "stream",
       "stream": "stdout",
       "text": [
        "5400 "
       ]
      },
      {
       "output_type": "stream",
       "stream": "stdout",
       "text": [
        "5500 "
       ]
      },
      {
       "output_type": "stream",
       "stream": "stdout",
       "text": [
        "5600 "
       ]
      },
      {
       "output_type": "stream",
       "stream": "stdout",
       "text": [
        "5700 "
       ]
      },
      {
       "output_type": "stream",
       "stream": "stdout",
       "text": [
        "5800 "
       ]
      },
      {
       "output_type": "stream",
       "stream": "stdout",
       "text": [
        "5900 "
       ]
      },
      {
       "output_type": "stream",
       "stream": "stdout",
       "text": [
        "6000 "
       ]
      },
      {
       "output_type": "stream",
       "stream": "stdout",
       "text": [
        "6100 "
       ]
      },
      {
       "output_type": "stream",
       "stream": "stdout",
       "text": [
        "6200 "
       ]
      },
      {
       "output_type": "stream",
       "stream": "stdout",
       "text": [
        "6300 "
       ]
      },
      {
       "output_type": "stream",
       "stream": "stdout",
       "text": [
        "6400 "
       ]
      },
      {
       "output_type": "stream",
       "stream": "stdout",
       "text": [
        "6500 "
       ]
      },
      {
       "output_type": "stream",
       "stream": "stdout",
       "text": [
        "6600 "
       ]
      },
      {
       "output_type": "stream",
       "stream": "stdout",
       "text": [
        "6700 "
       ]
      },
      {
       "output_type": "stream",
       "stream": "stdout",
       "text": [
        "6800 "
       ]
      },
      {
       "output_type": "stream",
       "stream": "stdout",
       "text": [
        "6900 "
       ]
      },
      {
       "output_type": "stream",
       "stream": "stdout",
       "text": [
        "7000 "
       ]
      },
      {
       "output_type": "stream",
       "stream": "stdout",
       "text": [
        "7100 "
       ]
      },
      {
       "output_type": "stream",
       "stream": "stdout",
       "text": [
        "7200 "
       ]
      },
      {
       "output_type": "stream",
       "stream": "stdout",
       "text": [
        "7300 "
       ]
      },
      {
       "output_type": "stream",
       "stream": "stdout",
       "text": [
        "7400 "
       ]
      },
      {
       "output_type": "stream",
       "stream": "stdout",
       "text": [
        "7500 "
       ]
      },
      {
       "output_type": "stream",
       "stream": "stdout",
       "text": [
        "7600 "
       ]
      },
      {
       "output_type": "stream",
       "stream": "stdout",
       "text": [
        "7700 "
       ]
      },
      {
       "output_type": "stream",
       "stream": "stdout",
       "text": [
        "7800 "
       ]
      },
      {
       "output_type": "stream",
       "stream": "stdout",
       "text": [
        "7900 "
       ]
      },
      {
       "output_type": "stream",
       "stream": "stdout",
       "text": [
        "8000 "
       ]
      },
      {
       "output_type": "stream",
       "stream": "stdout",
       "text": [
        "8100 "
       ]
      },
      {
       "output_type": "stream",
       "stream": "stdout",
       "text": [
        "8200 "
       ]
      },
      {
       "output_type": "stream",
       "stream": "stdout",
       "text": [
        "8300 "
       ]
      },
      {
       "output_type": "stream",
       "stream": "stdout",
       "text": [
        "8400 "
       ]
      },
      {
       "output_type": "stream",
       "stream": "stdout",
       "text": [
        "8500 "
       ]
      },
      {
       "output_type": "stream",
       "stream": "stdout",
       "text": [
        "8600 "
       ]
      },
      {
       "output_type": "stream",
       "stream": "stdout",
       "text": [
        "8700 "
       ]
      },
      {
       "output_type": "stream",
       "stream": "stdout",
       "text": [
        "8800 "
       ]
      },
      {
       "output_type": "stream",
       "stream": "stdout",
       "text": [
        "8900 "
       ]
      },
      {
       "output_type": "stream",
       "stream": "stdout",
       "text": [
        "9000 "
       ]
      },
      {
       "output_type": "stream",
       "stream": "stdout",
       "text": [
        "9100 "
       ]
      },
      {
       "output_type": "stream",
       "stream": "stdout",
       "text": [
        "9200 "
       ]
      },
      {
       "output_type": "stream",
       "stream": "stdout",
       "text": [
        "9300 "
       ]
      },
      {
       "output_type": "stream",
       "stream": "stdout",
       "text": [
        "9400 "
       ]
      },
      {
       "output_type": "stream",
       "stream": "stdout",
       "text": [
        "9500 "
       ]
      },
      {
       "output_type": "stream",
       "stream": "stdout",
       "text": [
        "9600 "
       ]
      },
      {
       "output_type": "stream",
       "stream": "stdout",
       "text": [
        "9700 "
       ]
      },
      {
       "output_type": "stream",
       "stream": "stdout",
       "text": [
        "9800 "
       ]
      },
      {
       "output_type": "stream",
       "stream": "stdout",
       "text": [
        "9900 "
       ]
      },
      {
       "output_type": "stream",
       "stream": "stdout",
       "text": [
        "10000 "
       ]
      },
      {
       "output_type": "stream",
       "stream": "stdout",
       "text": [
        "10100 "
       ]
      },
      {
       "output_type": "stream",
       "stream": "stdout",
       "text": [
        "10200 "
       ]
      },
      {
       "output_type": "stream",
       "stream": "stdout",
       "text": [
        "10300 "
       ]
      },
      {
       "output_type": "stream",
       "stream": "stdout",
       "text": [
        "10400 "
       ]
      },
      {
       "output_type": "stream",
       "stream": "stdout",
       "text": [
        "10500 "
       ]
      },
      {
       "output_type": "stream",
       "stream": "stdout",
       "text": [
        "10600 "
       ]
      },
      {
       "output_type": "stream",
       "stream": "stdout",
       "text": [
        "10700 "
       ]
      },
      {
       "output_type": "stream",
       "stream": "stdout",
       "text": [
        "10800 "
       ]
      },
      {
       "output_type": "stream",
       "stream": "stdout",
       "text": [
        "10900 "
       ]
      },
      {
       "output_type": "stream",
       "stream": "stdout",
       "text": [
        "11000 "
       ]
      },
      {
       "output_type": "stream",
       "stream": "stdout",
       "text": [
        "11100 "
       ]
      },
      {
       "output_type": "stream",
       "stream": "stdout",
       "text": [
        "11200 "
       ]
      },
      {
       "output_type": "stream",
       "stream": "stdout",
       "text": [
        "11300 "
       ]
      },
      {
       "output_type": "stream",
       "stream": "stdout",
       "text": [
        "11400 "
       ]
      },
      {
       "output_type": "stream",
       "stream": "stdout",
       "text": [
        "11500 "
       ]
      },
      {
       "output_type": "stream",
       "stream": "stdout",
       "text": [
        "11600 "
       ]
      },
      {
       "output_type": "stream",
       "stream": "stdout",
       "text": [
        "11700 "
       ]
      },
      {
       "output_type": "stream",
       "stream": "stdout",
       "text": [
        "11800 "
       ]
      },
      {
       "output_type": "stream",
       "stream": "stdout",
       "text": [
        "11900 "
       ]
      },
      {
       "output_type": "stream",
       "stream": "stdout",
       "text": [
        "12000 "
       ]
      },
      {
       "output_type": "stream",
       "stream": "stdout",
       "text": [
        "12100 "
       ]
      },
      {
       "output_type": "stream",
       "stream": "stdout",
       "text": [
        "12200 "
       ]
      },
      {
       "output_type": "stream",
       "stream": "stdout",
       "text": [
        "12300 "
       ]
      },
      {
       "output_type": "stream",
       "stream": "stdout",
       "text": [
        "12400 "
       ]
      },
      {
       "output_type": "stream",
       "stream": "stdout",
       "text": [
        "12500 "
       ]
      },
      {
       "output_type": "stream",
       "stream": "stdout",
       "text": [
        "12600 "
       ]
      },
      {
       "output_type": "stream",
       "stream": "stdout",
       "text": [
        "12700 "
       ]
      },
      {
       "output_type": "stream",
       "stream": "stdout",
       "text": [
        "12800 "
       ]
      },
      {
       "output_type": "stream",
       "stream": "stdout",
       "text": [
        "12900 "
       ]
      },
      {
       "output_type": "stream",
       "stream": "stdout",
       "text": [
        "13000 "
       ]
      },
      {
       "output_type": "stream",
       "stream": "stdout",
       "text": [
        "13100 "
       ]
      },
      {
       "output_type": "stream",
       "stream": "stdout",
       "text": [
        "13200 "
       ]
      },
      {
       "output_type": "stream",
       "stream": "stdout",
       "text": [
        "13300 "
       ]
      },
      {
       "output_type": "stream",
       "stream": "stdout",
       "text": [
        "13400 "
       ]
      },
      {
       "output_type": "stream",
       "stream": "stdout",
       "text": [
        "13500 "
       ]
      },
      {
       "output_type": "stream",
       "stream": "stdout",
       "text": [
        "13600 "
       ]
      },
      {
       "output_type": "stream",
       "stream": "stdout",
       "text": [
        "13700 "
       ]
      },
      {
       "output_type": "stream",
       "stream": "stdout",
       "text": [
        "13800 "
       ]
      },
      {
       "output_type": "stream",
       "stream": "stdout",
       "text": [
        "13900 "
       ]
      },
      {
       "output_type": "stream",
       "stream": "stdout",
       "text": [
        "14000 "
       ]
      },
      {
       "output_type": "stream",
       "stream": "stdout",
       "text": [
        "14100 "
       ]
      },
      {
       "output_type": "stream",
       "stream": "stdout",
       "text": [
        "14200 "
       ]
      },
      {
       "output_type": "stream",
       "stream": "stdout",
       "text": [
        "14300 "
       ]
      },
      {
       "output_type": "stream",
       "stream": "stdout",
       "text": [
        "14400 "
       ]
      },
      {
       "output_type": "stream",
       "stream": "stdout",
       "text": [
        "14500 "
       ]
      },
      {
       "output_type": "stream",
       "stream": "stdout",
       "text": [
        "14600 "
       ]
      },
      {
       "output_type": "stream",
       "stream": "stdout",
       "text": [
        "14700 "
       ]
      },
      {
       "output_type": "stream",
       "stream": "stdout",
       "text": [
        "14800 "
       ]
      },
      {
       "output_type": "stream",
       "stream": "stdout",
       "text": [
        "14900 "
       ]
      },
      {
       "output_type": "stream",
       "stream": "stdout",
       "text": [
        "15000 "
       ]
      },
      {
       "output_type": "stream",
       "stream": "stdout",
       "text": [
        "15100 "
       ]
      },
      {
       "output_type": "stream",
       "stream": "stdout",
       "text": [
        "15200 "
       ]
      },
      {
       "output_type": "stream",
       "stream": "stdout",
       "text": [
        "15300 "
       ]
      },
      {
       "output_type": "stream",
       "stream": "stdout",
       "text": [
        "15400 "
       ]
      },
      {
       "output_type": "stream",
       "stream": "stdout",
       "text": [
        "15500 "
       ]
      },
      {
       "output_type": "stream",
       "stream": "stdout",
       "text": [
        "15600 "
       ]
      },
      {
       "output_type": "stream",
       "stream": "stdout",
       "text": [
        "15700 "
       ]
      },
      {
       "output_type": "stream",
       "stream": "stdout",
       "text": [
        "15800 "
       ]
      },
      {
       "output_type": "stream",
       "stream": "stdout",
       "text": [
        "15900 "
       ]
      },
      {
       "output_type": "stream",
       "stream": "stdout",
       "text": [
        "16000 "
       ]
      },
      {
       "output_type": "stream",
       "stream": "stdout",
       "text": [
        "16100 "
       ]
      },
      {
       "output_type": "stream",
       "stream": "stdout",
       "text": [
        "16200 "
       ]
      },
      {
       "output_type": "stream",
       "stream": "stdout",
       "text": [
        "16300 "
       ]
      },
      {
       "output_type": "stream",
       "stream": "stdout",
       "text": [
        "16400 "
       ]
      },
      {
       "output_type": "stream",
       "stream": "stdout",
       "text": [
        "16500 "
       ]
      },
      {
       "output_type": "stream",
       "stream": "stdout",
       "text": [
        "16600 "
       ]
      },
      {
       "output_type": "stream",
       "stream": "stdout",
       "text": [
        "16700 "
       ]
      },
      {
       "output_type": "stream",
       "stream": "stdout",
       "text": [
        "16800 "
       ]
      },
      {
       "output_type": "stream",
       "stream": "stdout",
       "text": [
        "16900 "
       ]
      },
      {
       "output_type": "stream",
       "stream": "stdout",
       "text": [
        "17000 "
       ]
      },
      {
       "output_type": "stream",
       "stream": "stdout",
       "text": [
        "17100 "
       ]
      },
      {
       "output_type": "stream",
       "stream": "stdout",
       "text": [
        "17200 "
       ]
      },
      {
       "output_type": "stream",
       "stream": "stdout",
       "text": [
        "17300 "
       ]
      },
      {
       "output_type": "stream",
       "stream": "stdout",
       "text": [
        "17400 "
       ]
      },
      {
       "output_type": "stream",
       "stream": "stdout",
       "text": [
        "17500 "
       ]
      },
      {
       "output_type": "stream",
       "stream": "stdout",
       "text": [
        "17600 "
       ]
      },
      {
       "output_type": "stream",
       "stream": "stdout",
       "text": [
        "17700 "
       ]
      },
      {
       "output_type": "stream",
       "stream": "stdout",
       "text": [
        "17800 "
       ]
      },
      {
       "output_type": "stream",
       "stream": "stdout",
       "text": [
        "17900 "
       ]
      },
      {
       "output_type": "stream",
       "stream": "stdout",
       "text": [
        "18000 "
       ]
      },
      {
       "output_type": "stream",
       "stream": "stdout",
       "text": [
        "18100 "
       ]
      },
      {
       "output_type": "stream",
       "stream": "stdout",
       "text": [
        "18200 "
       ]
      },
      {
       "output_type": "stream",
       "stream": "stdout",
       "text": [
        "18300 "
       ]
      },
      {
       "output_type": "stream",
       "stream": "stdout",
       "text": [
        "18400 "
       ]
      },
      {
       "output_type": "stream",
       "stream": "stdout",
       "text": [
        "18500 "
       ]
      },
      {
       "output_type": "stream",
       "stream": "stdout",
       "text": [
        "18600 "
       ]
      },
      {
       "output_type": "stream",
       "stream": "stdout",
       "text": [
        "18700 "
       ]
      },
      {
       "output_type": "stream",
       "stream": "stdout",
       "text": [
        "18800 "
       ]
      },
      {
       "output_type": "stream",
       "stream": "stdout",
       "text": [
        "18900 "
       ]
      },
      {
       "output_type": "stream",
       "stream": "stdout",
       "text": [
        "19000 "
       ]
      },
      {
       "output_type": "stream",
       "stream": "stdout",
       "text": [
        "19100 "
       ]
      },
      {
       "output_type": "stream",
       "stream": "stdout",
       "text": [
        "19200 "
       ]
      },
      {
       "output_type": "stream",
       "stream": "stdout",
       "text": [
        "19300 "
       ]
      },
      {
       "output_type": "stream",
       "stream": "stdout",
       "text": [
        "19400 "
       ]
      },
      {
       "output_type": "stream",
       "stream": "stdout",
       "text": [
        "19500 "
       ]
      },
      {
       "output_type": "stream",
       "stream": "stdout",
       "text": [
        "19600 "
       ]
      },
      {
       "output_type": "stream",
       "stream": "stdout",
       "text": [
        "19700 "
       ]
      },
      {
       "output_type": "stream",
       "stream": "stdout",
       "text": [
        "19800 "
       ]
      },
      {
       "output_type": "stream",
       "stream": "stdout",
       "text": [
        "19900 "
       ]
      },
      {
       "output_type": "stream",
       "stream": "stdout",
       "text": [
        "20000 "
       ]
      },
      {
       "output_type": "stream",
       "stream": "stdout",
       "text": [
        "20100 "
       ]
      },
      {
       "output_type": "stream",
       "stream": "stdout",
       "text": [
        "20200 "
       ]
      },
      {
       "output_type": "stream",
       "stream": "stdout",
       "text": [
        "20300 "
       ]
      },
      {
       "output_type": "stream",
       "stream": "stdout",
       "text": [
        "20400 "
       ]
      },
      {
       "output_type": "stream",
       "stream": "stdout",
       "text": [
        "20500 "
       ]
      },
      {
       "output_type": "stream",
       "stream": "stdout",
       "text": [
        "20600 "
       ]
      },
      {
       "output_type": "stream",
       "stream": "stdout",
       "text": [
        "20700 "
       ]
      },
      {
       "output_type": "stream",
       "stream": "stdout",
       "text": [
        "20800 "
       ]
      },
      {
       "output_type": "stream",
       "stream": "stdout",
       "text": [
        "20900 "
       ]
      },
      {
       "output_type": "stream",
       "stream": "stdout",
       "text": [
        "21000 "
       ]
      },
      {
       "output_type": "stream",
       "stream": "stdout",
       "text": [
        "21100 "
       ]
      },
      {
       "output_type": "stream",
       "stream": "stdout",
       "text": [
        "21200 "
       ]
      },
      {
       "output_type": "stream",
       "stream": "stdout",
       "text": [
        "21300 "
       ]
      },
      {
       "output_type": "stream",
       "stream": "stdout",
       "text": [
        "21400 "
       ]
      },
      {
       "output_type": "stream",
       "stream": "stdout",
       "text": [
        "21500 "
       ]
      },
      {
       "output_type": "stream",
       "stream": "stdout",
       "text": [
        "21600 "
       ]
      },
      {
       "output_type": "stream",
       "stream": "stdout",
       "text": [
        "21700 "
       ]
      },
      {
       "output_type": "stream",
       "stream": "stdout",
       "text": [
        "21800 "
       ]
      },
      {
       "output_type": "stream",
       "stream": "stdout",
       "text": [
        "21900 "
       ]
      },
      {
       "output_type": "stream",
       "stream": "stdout",
       "text": [
        "22000 "
       ]
      },
      {
       "output_type": "stream",
       "stream": "stdout",
       "text": [
        "22100 "
       ]
      },
      {
       "output_type": "stream",
       "stream": "stdout",
       "text": [
        "22200 "
       ]
      },
      {
       "output_type": "stream",
       "stream": "stdout",
       "text": [
        "22300 "
       ]
      },
      {
       "output_type": "stream",
       "stream": "stdout",
       "text": [
        "22400 "
       ]
      },
      {
       "output_type": "stream",
       "stream": "stdout",
       "text": [
        "22500 "
       ]
      },
      {
       "output_type": "stream",
       "stream": "stdout",
       "text": [
        "22600 "
       ]
      },
      {
       "output_type": "stream",
       "stream": "stdout",
       "text": [
        "22700 "
       ]
      },
      {
       "output_type": "stream",
       "stream": "stdout",
       "text": [
        "22800 "
       ]
      },
      {
       "output_type": "stream",
       "stream": "stdout",
       "text": [
        "22900 "
       ]
      },
      {
       "output_type": "stream",
       "stream": "stdout",
       "text": [
        "23000 "
       ]
      },
      {
       "output_type": "stream",
       "stream": "stdout",
       "text": [
        "23100 "
       ]
      },
      {
       "output_type": "stream",
       "stream": "stdout",
       "text": [
        "23200 "
       ]
      },
      {
       "output_type": "stream",
       "stream": "stdout",
       "text": [
        "23300 "
       ]
      },
      {
       "output_type": "stream",
       "stream": "stdout",
       "text": [
        "23400 "
       ]
      },
      {
       "output_type": "stream",
       "stream": "stdout",
       "text": [
        "23500 "
       ]
      },
      {
       "output_type": "stream",
       "stream": "stdout",
       "text": [
        "23600 "
       ]
      },
      {
       "output_type": "stream",
       "stream": "stdout",
       "text": [
        "23700 "
       ]
      },
      {
       "output_type": "stream",
       "stream": "stdout",
       "text": [
        "23800 "
       ]
      },
      {
       "output_type": "stream",
       "stream": "stdout",
       "text": [
        "23900 "
       ]
      },
      {
       "output_type": "stream",
       "stream": "stdout",
       "text": [
        "24000 "
       ]
      },
      {
       "output_type": "stream",
       "stream": "stdout",
       "text": [
        "24100 "
       ]
      },
      {
       "output_type": "stream",
       "stream": "stdout",
       "text": [
        "24200 "
       ]
      },
      {
       "output_type": "stream",
       "stream": "stdout",
       "text": [
        "24300 "
       ]
      },
      {
       "output_type": "stream",
       "stream": "stdout",
       "text": [
        "24400 "
       ]
      },
      {
       "output_type": "stream",
       "stream": "stdout",
       "text": [
        "24500 "
       ]
      },
      {
       "output_type": "stream",
       "stream": "stdout",
       "text": [
        "24600 "
       ]
      },
      {
       "output_type": "stream",
       "stream": "stdout",
       "text": [
        "24700 "
       ]
      },
      {
       "output_type": "stream",
       "stream": "stdout",
       "text": [
        "24800 "
       ]
      },
      {
       "output_type": "stream",
       "stream": "stdout",
       "text": [
        "24900 "
       ]
      },
      {
       "output_type": "stream",
       "stream": "stdout",
       "text": [
        "25000 "
       ]
      },
      {
       "output_type": "stream",
       "stream": "stdout",
       "text": [
        "25100 "
       ]
      },
      {
       "output_type": "stream",
       "stream": "stdout",
       "text": [
        "25200 "
       ]
      },
      {
       "output_type": "stream",
       "stream": "stdout",
       "text": [
        "25300 "
       ]
      },
      {
       "output_type": "stream",
       "stream": "stdout",
       "text": [
        "25400 "
       ]
      },
      {
       "output_type": "stream",
       "stream": "stdout",
       "text": [
        "25500 "
       ]
      },
      {
       "output_type": "stream",
       "stream": "stdout",
       "text": [
        "25600 "
       ]
      },
      {
       "output_type": "stream",
       "stream": "stdout",
       "text": [
        "25700 "
       ]
      },
      {
       "output_type": "stream",
       "stream": "stdout",
       "text": [
        "25800 "
       ]
      },
      {
       "output_type": "stream",
       "stream": "stdout",
       "text": [
        "25900 "
       ]
      },
      {
       "output_type": "stream",
       "stream": "stdout",
       "text": [
        "26000 "
       ]
      },
      {
       "output_type": "stream",
       "stream": "stdout",
       "text": [
        "26100 "
       ]
      },
      {
       "output_type": "stream",
       "stream": "stdout",
       "text": [
        "26200 "
       ]
      },
      {
       "output_type": "stream",
       "stream": "stdout",
       "text": [
        "26300 "
       ]
      },
      {
       "output_type": "stream",
       "stream": "stdout",
       "text": [
        "26400 "
       ]
      },
      {
       "output_type": "stream",
       "stream": "stdout",
       "text": [
        "26500 "
       ]
      },
      {
       "output_type": "stream",
       "stream": "stdout",
       "text": [
        "26600 "
       ]
      },
      {
       "output_type": "stream",
       "stream": "stdout",
       "text": [
        "26700 "
       ]
      },
      {
       "output_type": "stream",
       "stream": "stdout",
       "text": [
        "26800 "
       ]
      },
      {
       "output_type": "stream",
       "stream": "stdout",
       "text": [
        "26900 "
       ]
      },
      {
       "output_type": "stream",
       "stream": "stdout",
       "text": [
        "27000 "
       ]
      },
      {
       "output_type": "stream",
       "stream": "stdout",
       "text": [
        "27100 "
       ]
      },
      {
       "output_type": "stream",
       "stream": "stdout",
       "text": [
        "27200 "
       ]
      },
      {
       "output_type": "stream",
       "stream": "stdout",
       "text": [
        "27300 "
       ]
      },
      {
       "output_type": "stream",
       "stream": "stdout",
       "text": [
        "27400 "
       ]
      },
      {
       "output_type": "stream",
       "stream": "stdout",
       "text": [
        "27500 "
       ]
      },
      {
       "output_type": "stream",
       "stream": "stdout",
       "text": [
        "27600 "
       ]
      },
      {
       "output_type": "stream",
       "stream": "stdout",
       "text": [
        "27700 "
       ]
      },
      {
       "output_type": "stream",
       "stream": "stdout",
       "text": [
        "27800 "
       ]
      },
      {
       "output_type": "stream",
       "stream": "stdout",
       "text": [
        "27900 "
       ]
      },
      {
       "output_type": "stream",
       "stream": "stdout",
       "text": [
        "28000 "
       ]
      },
      {
       "output_type": "stream",
       "stream": "stdout",
       "text": [
        "28100 "
       ]
      },
      {
       "output_type": "stream",
       "stream": "stdout",
       "text": [
        "28200 "
       ]
      },
      {
       "output_type": "stream",
       "stream": "stdout",
       "text": [
        "28300 "
       ]
      },
      {
       "output_type": "stream",
       "stream": "stdout",
       "text": [
        "28400 "
       ]
      },
      {
       "output_type": "stream",
       "stream": "stdout",
       "text": [
        "28500 "
       ]
      },
      {
       "output_type": "stream",
       "stream": "stdout",
       "text": [
        "28600 "
       ]
      },
      {
       "output_type": "stream",
       "stream": "stdout",
       "text": [
        "28700 "
       ]
      },
      {
       "output_type": "stream",
       "stream": "stdout",
       "text": [
        "28800 "
       ]
      },
      {
       "output_type": "stream",
       "stream": "stdout",
       "text": [
        "28900 "
       ]
      },
      {
       "output_type": "stream",
       "stream": "stdout",
       "text": [
        "29000 "
       ]
      },
      {
       "output_type": "stream",
       "stream": "stdout",
       "text": [
        "29100 "
       ]
      },
      {
       "output_type": "stream",
       "stream": "stdout",
       "text": [
        "29200 "
       ]
      },
      {
       "output_type": "stream",
       "stream": "stdout",
       "text": [
        "29300 "
       ]
      },
      {
       "output_type": "stream",
       "stream": "stdout",
       "text": [
        "29400 "
       ]
      },
      {
       "output_type": "stream",
       "stream": "stdout",
       "text": [
        "29500 "
       ]
      },
      {
       "output_type": "stream",
       "stream": "stdout",
       "text": [
        "29600 "
       ]
      },
      {
       "output_type": "stream",
       "stream": "stdout",
       "text": [
        "29700 "
       ]
      },
      {
       "output_type": "stream",
       "stream": "stdout",
       "text": [
        "29800 "
       ]
      },
      {
       "output_type": "stream",
       "stream": "stdout",
       "text": [
        "29900 "
       ]
      },
      {
       "output_type": "stream",
       "stream": "stdout",
       "text": [
        "30000 "
       ]
      },
      {
       "output_type": "stream",
       "stream": "stdout",
       "text": [
        "30100 "
       ]
      },
      {
       "output_type": "stream",
       "stream": "stdout",
       "text": [
        "30200 "
       ]
      },
      {
       "output_type": "stream",
       "stream": "stdout",
       "text": [
        "30300 "
       ]
      },
      {
       "output_type": "stream",
       "stream": "stdout",
       "text": [
        "30400 "
       ]
      },
      {
       "output_type": "stream",
       "stream": "stdout",
       "text": [
        "30500 "
       ]
      },
      {
       "output_type": "stream",
       "stream": "stdout",
       "text": [
        "30600 "
       ]
      },
      {
       "output_type": "stream",
       "stream": "stdout",
       "text": [
        "30700 "
       ]
      },
      {
       "output_type": "stream",
       "stream": "stdout",
       "text": [
        "30800 "
       ]
      },
      {
       "output_type": "stream",
       "stream": "stdout",
       "text": [
        "30900 "
       ]
      },
      {
       "output_type": "stream",
       "stream": "stdout",
       "text": [
        "31000 "
       ]
      },
      {
       "output_type": "stream",
       "stream": "stdout",
       "text": [
        "31100 "
       ]
      },
      {
       "output_type": "stream",
       "stream": "stdout",
       "text": [
        "31200 "
       ]
      },
      {
       "output_type": "stream",
       "stream": "stdout",
       "text": [
        "31300 "
       ]
      },
      {
       "output_type": "stream",
       "stream": "stdout",
       "text": [
        "31400 "
       ]
      },
      {
       "output_type": "stream",
       "stream": "stdout",
       "text": [
        "31500 "
       ]
      },
      {
       "output_type": "stream",
       "stream": "stdout",
       "text": [
        "31600 "
       ]
      },
      {
       "output_type": "stream",
       "stream": "stdout",
       "text": [
        "31700 "
       ]
      },
      {
       "output_type": "stream",
       "stream": "stdout",
       "text": [
        "31800 "
       ]
      },
      {
       "output_type": "stream",
       "stream": "stdout",
       "text": [
        "31900 "
       ]
      },
      {
       "output_type": "stream",
       "stream": "stdout",
       "text": [
        "32000 "
       ]
      },
      {
       "output_type": "stream",
       "stream": "stdout",
       "text": [
        "32100 "
       ]
      },
      {
       "output_type": "stream",
       "stream": "stdout",
       "text": [
        "32200 "
       ]
      },
      {
       "output_type": "stream",
       "stream": "stdout",
       "text": [
        "32300 "
       ]
      },
      {
       "output_type": "stream",
       "stream": "stdout",
       "text": [
        "32400 "
       ]
      },
      {
       "output_type": "stream",
       "stream": "stdout",
       "text": [
        "32500 "
       ]
      },
      {
       "output_type": "stream",
       "stream": "stdout",
       "text": [
        "32600 "
       ]
      },
      {
       "output_type": "stream",
       "stream": "stdout",
       "text": [
        "32700 "
       ]
      },
      {
       "output_type": "stream",
       "stream": "stdout",
       "text": [
        "32800 "
       ]
      },
      {
       "output_type": "stream",
       "stream": "stdout",
       "text": [
        "32900 "
       ]
      },
      {
       "output_type": "stream",
       "stream": "stdout",
       "text": [
        "33000 "
       ]
      },
      {
       "output_type": "stream",
       "stream": "stdout",
       "text": [
        "33100 "
       ]
      },
      {
       "output_type": "stream",
       "stream": "stdout",
       "text": [
        "33200 "
       ]
      },
      {
       "output_type": "stream",
       "stream": "stdout",
       "text": [
        "33300 "
       ]
      },
      {
       "output_type": "stream",
       "stream": "stdout",
       "text": [
        "33400 "
       ]
      },
      {
       "output_type": "stream",
       "stream": "stdout",
       "text": [
        "33500 "
       ]
      },
      {
       "output_type": "stream",
       "stream": "stdout",
       "text": [
        "33600 "
       ]
      },
      {
       "output_type": "stream",
       "stream": "stdout",
       "text": [
        "33700 "
       ]
      },
      {
       "output_type": "stream",
       "stream": "stdout",
       "text": [
        "33800 "
       ]
      },
      {
       "output_type": "stream",
       "stream": "stdout",
       "text": [
        "33900 "
       ]
      },
      {
       "output_type": "stream",
       "stream": "stdout",
       "text": [
        "34000 "
       ]
      },
      {
       "output_type": "stream",
       "stream": "stdout",
       "text": [
        "34100 "
       ]
      },
      {
       "output_type": "stream",
       "stream": "stdout",
       "text": [
        "34200 "
       ]
      },
      {
       "output_type": "stream",
       "stream": "stdout",
       "text": [
        "34300 "
       ]
      },
      {
       "output_type": "stream",
       "stream": "stdout",
       "text": [
        "34400 "
       ]
      },
      {
       "output_type": "stream",
       "stream": "stdout",
       "text": [
        "34500 "
       ]
      },
      {
       "output_type": "stream",
       "stream": "stdout",
       "text": [
        "34600 "
       ]
      },
      {
       "output_type": "stream",
       "stream": "stdout",
       "text": [
        "34700 "
       ]
      },
      {
       "output_type": "stream",
       "stream": "stdout",
       "text": [
        "34800 "
       ]
      },
      {
       "output_type": "stream",
       "stream": "stdout",
       "text": [
        "34900 "
       ]
      },
      {
       "output_type": "stream",
       "stream": "stdout",
       "text": [
        "35000 "
       ]
      },
      {
       "output_type": "stream",
       "stream": "stdout",
       "text": [
        "35100 "
       ]
      },
      {
       "output_type": "stream",
       "stream": "stdout",
       "text": [
        "35200 "
       ]
      },
      {
       "output_type": "stream",
       "stream": "stdout",
       "text": [
        "35300 "
       ]
      },
      {
       "output_type": "stream",
       "stream": "stdout",
       "text": [
        "35400 "
       ]
      },
      {
       "output_type": "stream",
       "stream": "stdout",
       "text": [
        "35500 "
       ]
      },
      {
       "output_type": "stream",
       "stream": "stdout",
       "text": [
        "35600 "
       ]
      },
      {
       "output_type": "stream",
       "stream": "stdout",
       "text": [
        "35700 "
       ]
      },
      {
       "output_type": "stream",
       "stream": "stdout",
       "text": [
        "35800 "
       ]
      },
      {
       "output_type": "stream",
       "stream": "stdout",
       "text": [
        "35900 "
       ]
      },
      {
       "output_type": "stream",
       "stream": "stdout",
       "text": [
        "36000 "
       ]
      },
      {
       "output_type": "stream",
       "stream": "stdout",
       "text": [
        "36100 "
       ]
      },
      {
       "output_type": "stream",
       "stream": "stdout",
       "text": [
        "36200 "
       ]
      },
      {
       "output_type": "stream",
       "stream": "stdout",
       "text": [
        "36300 "
       ]
      },
      {
       "output_type": "stream",
       "stream": "stdout",
       "text": [
        "36400 "
       ]
      },
      {
       "output_type": "stream",
       "stream": "stdout",
       "text": [
        "36500 "
       ]
      },
      {
       "output_type": "stream",
       "stream": "stdout",
       "text": [
        "36600 "
       ]
      },
      {
       "output_type": "stream",
       "stream": "stdout",
       "text": [
        "36700 "
       ]
      },
      {
       "output_type": "stream",
       "stream": "stdout",
       "text": [
        "36800 "
       ]
      },
      {
       "output_type": "stream",
       "stream": "stdout",
       "text": [
        "36900 "
       ]
      },
      {
       "output_type": "stream",
       "stream": "stdout",
       "text": [
        "37000 "
       ]
      },
      {
       "output_type": "stream",
       "stream": "stdout",
       "text": [
        "37100 "
       ]
      },
      {
       "output_type": "stream",
       "stream": "stdout",
       "text": [
        "37200 "
       ]
      },
      {
       "output_type": "stream",
       "stream": "stdout",
       "text": [
        "37300 "
       ]
      },
      {
       "output_type": "stream",
       "stream": "stdout",
       "text": [
        "37400 "
       ]
      },
      {
       "output_type": "stream",
       "stream": "stdout",
       "text": [
        "37500 "
       ]
      },
      {
       "output_type": "stream",
       "stream": "stdout",
       "text": [
        "37600 "
       ]
      },
      {
       "output_type": "stream",
       "stream": "stdout",
       "text": [
        "37700 "
       ]
      },
      {
       "output_type": "stream",
       "stream": "stdout",
       "text": [
        "37800 "
       ]
      },
      {
       "output_type": "stream",
       "stream": "stdout",
       "text": [
        "37900 "
       ]
      },
      {
       "output_type": "stream",
       "stream": "stdout",
       "text": [
        "38000 "
       ]
      },
      {
       "output_type": "stream",
       "stream": "stdout",
       "text": [
        "38100 "
       ]
      },
      {
       "output_type": "stream",
       "stream": "stdout",
       "text": [
        "38200 "
       ]
      },
      {
       "output_type": "stream",
       "stream": "stdout",
       "text": [
        "38300 "
       ]
      },
      {
       "output_type": "stream",
       "stream": "stdout",
       "text": [
        "38400 "
       ]
      },
      {
       "output_type": "stream",
       "stream": "stdout",
       "text": [
        "38500 "
       ]
      },
      {
       "output_type": "stream",
       "stream": "stdout",
       "text": [
        "38600 "
       ]
      },
      {
       "output_type": "stream",
       "stream": "stdout",
       "text": [
        "38700 "
       ]
      },
      {
       "output_type": "stream",
       "stream": "stdout",
       "text": [
        "38800 "
       ]
      },
      {
       "output_type": "stream",
       "stream": "stdout",
       "text": [
        "38900 "
       ]
      },
      {
       "output_type": "stream",
       "stream": "stdout",
       "text": [
        "39000 "
       ]
      },
      {
       "output_type": "stream",
       "stream": "stdout",
       "text": [
        "39100 "
       ]
      },
      {
       "output_type": "stream",
       "stream": "stdout",
       "text": [
        "39200 "
       ]
      },
      {
       "output_type": "stream",
       "stream": "stdout",
       "text": [
        "39300 "
       ]
      },
      {
       "output_type": "stream",
       "stream": "stdout",
       "text": [
        "39400 "
       ]
      },
      {
       "output_type": "stream",
       "stream": "stdout",
       "text": [
        "39500 "
       ]
      },
      {
       "output_type": "stream",
       "stream": "stdout",
       "text": [
        "39600 "
       ]
      },
      {
       "output_type": "stream",
       "stream": "stdout",
       "text": [
        "39700 "
       ]
      },
      {
       "output_type": "stream",
       "stream": "stdout",
       "text": [
        "39800 "
       ]
      },
      {
       "output_type": "stream",
       "stream": "stdout",
       "text": [
        "39900 "
       ]
      },
      {
       "output_type": "stream",
       "stream": "stdout",
       "text": [
        "40000 "
       ]
      },
      {
       "output_type": "stream",
       "stream": "stdout",
       "text": [
        "40100 "
       ]
      },
      {
       "output_type": "stream",
       "stream": "stdout",
       "text": [
        "40200 "
       ]
      },
      {
       "output_type": "stream",
       "stream": "stdout",
       "text": [
        "40300 "
       ]
      },
      {
       "output_type": "stream",
       "stream": "stdout",
       "text": [
        "40400 "
       ]
      },
      {
       "output_type": "stream",
       "stream": "stdout",
       "text": [
        "40500 "
       ]
      },
      {
       "output_type": "stream",
       "stream": "stdout",
       "text": [
        "40600 "
       ]
      },
      {
       "output_type": "stream",
       "stream": "stdout",
       "text": [
        "40700 "
       ]
      },
      {
       "output_type": "stream",
       "stream": "stdout",
       "text": [
        "40800 "
       ]
      },
      {
       "output_type": "stream",
       "stream": "stdout",
       "text": [
        "40900 "
       ]
      },
      {
       "output_type": "stream",
       "stream": "stdout",
       "text": [
        "41000 "
       ]
      },
      {
       "output_type": "stream",
       "stream": "stdout",
       "text": [
        "41100 "
       ]
      },
      {
       "output_type": "stream",
       "stream": "stdout",
       "text": [
        "41200 "
       ]
      },
      {
       "output_type": "stream",
       "stream": "stdout",
       "text": [
        "41300 "
       ]
      },
      {
       "output_type": "stream",
       "stream": "stdout",
       "text": [
        "41400 "
       ]
      },
      {
       "output_type": "stream",
       "stream": "stdout",
       "text": [
        "41500 "
       ]
      },
      {
       "output_type": "stream",
       "stream": "stdout",
       "text": [
        "41600 "
       ]
      },
      {
       "output_type": "stream",
       "stream": "stdout",
       "text": [
        "41700 "
       ]
      },
      {
       "output_type": "stream",
       "stream": "stdout",
       "text": [
        "41800 "
       ]
      },
      {
       "output_type": "stream",
       "stream": "stdout",
       "text": [
        "41900 "
       ]
      },
      {
       "output_type": "stream",
       "stream": "stdout",
       "text": [
        "42000 "
       ]
      },
      {
       "output_type": "stream",
       "stream": "stdout",
       "text": [
        "42100 "
       ]
      },
      {
       "output_type": "stream",
       "stream": "stdout",
       "text": [
        "42200 "
       ]
      },
      {
       "output_type": "stream",
       "stream": "stdout",
       "text": [
        "42300 "
       ]
      },
      {
       "output_type": "stream",
       "stream": "stdout",
       "text": [
        "42400 "
       ]
      },
      {
       "output_type": "stream",
       "stream": "stdout",
       "text": [
        "42500 "
       ]
      },
      {
       "output_type": "stream",
       "stream": "stdout",
       "text": [
        "42600 "
       ]
      },
      {
       "output_type": "stream",
       "stream": "stdout",
       "text": [
        "42700 "
       ]
      },
      {
       "output_type": "stream",
       "stream": "stdout",
       "text": [
        "42800 "
       ]
      },
      {
       "output_type": "stream",
       "stream": "stdout",
       "text": [
        "42900 "
       ]
      },
      {
       "output_type": "stream",
       "stream": "stdout",
       "text": [
        "43000 "
       ]
      },
      {
       "output_type": "stream",
       "stream": "stdout",
       "text": [
        "43100 "
       ]
      },
      {
       "output_type": "stream",
       "stream": "stdout",
       "text": [
        "43200 "
       ]
      },
      {
       "output_type": "stream",
       "stream": "stdout",
       "text": [
        "43300 "
       ]
      },
      {
       "output_type": "stream",
       "stream": "stdout",
       "text": [
        "43400 "
       ]
      },
      {
       "output_type": "stream",
       "stream": "stdout",
       "text": [
        "43500 "
       ]
      },
      {
       "output_type": "stream",
       "stream": "stdout",
       "text": [
        "43600 "
       ]
      },
      {
       "output_type": "stream",
       "stream": "stdout",
       "text": [
        "43700 "
       ]
      },
      {
       "output_type": "stream",
       "stream": "stdout",
       "text": [
        "43800 "
       ]
      },
      {
       "output_type": "stream",
       "stream": "stdout",
       "text": [
        "43900 "
       ]
      },
      {
       "output_type": "stream",
       "stream": "stdout",
       "text": [
        "44000 "
       ]
      },
      {
       "output_type": "stream",
       "stream": "stdout",
       "text": [
        "44100 "
       ]
      },
      {
       "output_type": "stream",
       "stream": "stdout",
       "text": [
        "44200 "
       ]
      },
      {
       "output_type": "stream",
       "stream": "stdout",
       "text": [
        "44300 "
       ]
      },
      {
       "output_type": "stream",
       "stream": "stdout",
       "text": [
        "44400 "
       ]
      },
      {
       "output_type": "stream",
       "stream": "stdout",
       "text": [
        "44500 "
       ]
      },
      {
       "output_type": "stream",
       "stream": "stdout",
       "text": [
        "44600 "
       ]
      },
      {
       "output_type": "stream",
       "stream": "stdout",
       "text": [
        "44700 "
       ]
      },
      {
       "output_type": "stream",
       "stream": "stdout",
       "text": [
        "44800 "
       ]
      },
      {
       "output_type": "stream",
       "stream": "stdout",
       "text": [
        "44900 "
       ]
      },
      {
       "output_type": "stream",
       "stream": "stdout",
       "text": [
        "45000 "
       ]
      },
      {
       "output_type": "stream",
       "stream": "stdout",
       "text": [
        "45100 "
       ]
      },
      {
       "output_type": "stream",
       "stream": "stdout",
       "text": [
        "45200 "
       ]
      },
      {
       "output_type": "stream",
       "stream": "stdout",
       "text": [
        "45300 "
       ]
      },
      {
       "output_type": "stream",
       "stream": "stdout",
       "text": [
        "45400 "
       ]
      },
      {
       "output_type": "stream",
       "stream": "stdout",
       "text": [
        "45500 "
       ]
      },
      {
       "output_type": "stream",
       "stream": "stdout",
       "text": [
        "45600 "
       ]
      },
      {
       "output_type": "stream",
       "stream": "stdout",
       "text": [
        "45700 "
       ]
      },
      {
       "output_type": "stream",
       "stream": "stdout",
       "text": [
        "45800 "
       ]
      },
      {
       "output_type": "stream",
       "stream": "stdout",
       "text": [
        "45900 "
       ]
      },
      {
       "output_type": "stream",
       "stream": "stdout",
       "text": [
        "46000\n"
       ]
      }
     ],
     "prompt_number": 97
    },
    {
     "cell_type": "code",
     "collapsed": false,
     "input": [
      "train"
     ],
     "language": "python",
     "metadata": {},
     "outputs": [
      {
       "html": [
        "<div style=\"max-width:1500px;overflow:auto;\">\n",
        "<table border=\"1\" class=\"dataframe\">\n",
        "  <thead>\n",
        "    <tr style=\"text-align: right;\">\n",
        "      <th></th>\n",
        "      <th>Day</th>\n",
        "      <th>Month</th>\n",
        "      <th>Year</th>\n",
        "      <th>City</th>\n",
        "      <th>Count</th>\n",
        "      <th>WeekDay</th>\n",
        "      <th>DayForStartYear</th>\n",
        "      <th>isWeekend</th>\n",
        "      <th>DayForStartTrainPeriod</th>\n",
        "      <th>MeanNext7Day</th>\n",
        "    </tr>\n",
        "  </thead>\n",
        "  <tbody>\n",
        "    <tr>\n",
        "      <th>0</th>\n",
        "      <td>6</td>\n",
        "      <td>10</td>\n",
        "      <td>2011</td>\n",
        "      <td>\u0421\u044b\u043a\u0442\u044b\u0432\u043a\u0430\u0440-1</td>\n",
        "      <td>8</td>\n",
        "      <td>3</td>\n",
        "      <td>278</td>\n",
        "      <td>0</td>\n",
        "      <td>0</td>\n",
        "      <td>44.500000</td>\n",
        "    </tr>\n",
        "    <tr>\n",
        "      <th>1</th>\n",
        "      <td>7</td>\n",
        "      <td>10</td>\n",
        "      <td>2011</td>\n",
        "      <td>\u0421\u044b\u043a\u0442\u044b\u0432\u043a\u0430\u0440-1</td>\n",
        "      <td>88</td>\n",
        "      <td>4</td>\n",
        "      <td>279</td>\n",
        "      <td>0</td>\n",
        "      <td>1</td>\n",
        "      <td>1.000000</td>\n",
        "    </tr>\n",
        "    <tr>\n",
        "      <th>2</th>\n",
        "      <td>9</td>\n",
        "      <td>10</td>\n",
        "      <td>2011</td>\n",
        "      <td>\u0421\u044b\u043a\u0442\u044b\u0432\u043a\u0430\u0440-1</td>\n",
        "      <td>1</td>\n",
        "      <td>6</td>\n",
        "      <td>281</td>\n",
        "      <td>1</td>\n",
        "      <td>3</td>\n",
        "      <td>1000000.000000</td>\n",
        "    </tr>\n",
        "    <tr>\n",
        "      <th>3</th>\n",
        "      <td>15</td>\n",
        "      <td>11</td>\n",
        "      <td>2011</td>\n",
        "      <td>\u0421\u044b\u043a\u0442\u044b\u0432\u043a\u0430\u0440-1</td>\n",
        "      <td>1</td>\n",
        "      <td>1</td>\n",
        "      <td>318</td>\n",
        "      <td>0</td>\n",
        "      <td>40</td>\n",
        "      <td>1000000.000000</td>\n",
        "    </tr>\n",
        "    <tr>\n",
        "      <th>4</th>\n",
        "      <td>8</td>\n",
        "      <td>12</td>\n",
        "      <td>2011</td>\n",
        "      <td>\u0421\u044b\u043a\u0442\u044b\u0432\u043a\u0430\u0440-1</td>\n",
        "      <td>2</td>\n",
        "      <td>3</td>\n",
        "      <td>341</td>\n",
        "      <td>0</td>\n",
        "      <td>63</td>\n",
        "      <td>42.000000</td>\n",
        "    </tr>\n",
        "    <tr>\n",
        "      <th>5</th>\n",
        "      <td>9</td>\n",
        "      <td>12</td>\n",
        "      <td>2011</td>\n",
        "      <td>\u0421\u044b\u043a\u0442\u044b\u0432\u043a\u0430\u0440-1</td>\n",
        "      <td>43</td>\n",
        "      <td>4</td>\n",
        "      <td>342</td>\n",
        "      <td>0</td>\n",
        "      <td>64</td>\n",
        "      <td>60.200000</td>\n",
        "    </tr>\n",
        "    <tr>\n",
        "      <th>6</th>\n",
        "      <td>10</td>\n",
        "      <td>12</td>\n",
        "      <td>2011</td>\n",
        "      <td>\u0421\u044b\u043a\u0442\u044b\u0432\u043a\u0430\u0440-1</td>\n",
        "      <td>10</td>\n",
        "      <td>5</td>\n",
        "      <td>343</td>\n",
        "      <td>1</td>\n",
        "      <td>65</td>\n",
        "      <td>80.600000</td>\n",
        "    </tr>\n",
        "    <tr>\n",
        "      <th>7</th>\n",
        "      <td>11</td>\n",
        "      <td>12</td>\n",
        "      <td>2011</td>\n",
        "      <td>\u0421\u044b\u043a\u0442\u044b\u0432\u043a\u0430\u0440-1</td>\n",
        "      <td>1</td>\n",
        "      <td>6</td>\n",
        "      <td>344</td>\n",
        "      <td>1</td>\n",
        "      <td>66</td>\n",
        "      <td>100.400000</td>\n",
        "    </tr>\n",
        "    <tr>\n",
        "      <th>8</th>\n",
        "      <td>13</td>\n",
        "      <td>12</td>\n",
        "      <td>2011</td>\n",
        "      <td>\u0421\u044b\u043a\u0442\u044b\u0432\u043a\u0430\u0440-1</td>\n",
        "      <td>60</td>\n",
        "      <td>1</td>\n",
        "      <td>346</td>\n",
        "      <td>0</td>\n",
        "      <td>68</td>\n",
        "      <td>103.000000</td>\n",
        "    </tr>\n",
        "    <tr>\n",
        "      <th>9</th>\n",
        "      <td>15</td>\n",
        "      <td>12</td>\n",
        "      <td>2011</td>\n",
        "      <td>\u0421\u044b\u043a\u0442\u044b\u0432\u043a\u0430\u0440-1</td>\n",
        "      <td>96</td>\n",
        "      <td>3</td>\n",
        "      <td>348</td>\n",
        "      <td>0</td>\n",
        "      <td>70</td>\n",
        "      <td>101.166667</td>\n",
        "    </tr>\n",
        "    <tr>\n",
        "      <th>10</th>\n",
        "      <td>16</td>\n",
        "      <td>12</td>\n",
        "      <td>2011</td>\n",
        "      <td>\u0421\u044b\u043a\u0442\u044b\u0432\u043a\u0430\u0440-1</td>\n",
        "      <td>134</td>\n",
        "      <td>4</td>\n",
        "      <td>349</td>\n",
        "      <td>0</td>\n",
        "      <td>71</td>\n",
        "      <td>100.333333</td>\n",
        "    </tr>\n",
        "    <tr>\n",
        "      <th>11</th>\n",
        "      <td>17</td>\n",
        "      <td>12</td>\n",
        "      <td>2011</td>\n",
        "      <td>\u0421\u044b\u043a\u0442\u044b\u0432\u043a\u0430\u0440-1</td>\n",
        "      <td>112</td>\n",
        "      <td>5</td>\n",
        "      <td>350</td>\n",
        "      <td>1</td>\n",
        "      <td>72</td>\n",
        "      <td>109.000000</td>\n",
        "    </tr>\n",
        "    <tr>\n",
        "      <th>12</th>\n",
        "      <td>18</td>\n",
        "      <td>12</td>\n",
        "      <td>2011</td>\n",
        "      <td>\u0421\u044b\u043a\u0442\u044b\u0432\u043a\u0430\u0440-1</td>\n",
        "      <td>100</td>\n",
        "      <td>6</td>\n",
        "      <td>351</td>\n",
        "      <td>1</td>\n",
        "      <td>73</td>\n",
        "      <td>112.666667</td>\n",
        "    </tr>\n",
        "    <tr>\n",
        "      <th>13</th>\n",
        "      <td>20</td>\n",
        "      <td>12</td>\n",
        "      <td>2011</td>\n",
        "      <td>\u0421\u044b\u043a\u0442\u044b\u0432\u043a\u0430\u0440-1</td>\n",
        "      <td>73</td>\n",
        "      <td>1</td>\n",
        "      <td>353</td>\n",
        "      <td>0</td>\n",
        "      <td>75</td>\n",
        "      <td>120.600000</td>\n",
        "    </tr>\n",
        "    <tr>\n",
        "      <th>14</th>\n",
        "      <td>21</td>\n",
        "      <td>12</td>\n",
        "      <td>2011</td>\n",
        "      <td>\u0421\u044b\u043a\u0442\u044b\u0432\u043a\u0430\u0440-1</td>\n",
        "      <td>94</td>\n",
        "      <td>2</td>\n",
        "      <td>354</td>\n",
        "      <td>0</td>\n",
        "      <td>76</td>\n",
        "      <td>127.400000</td>\n",
        "    </tr>\n",
        "    <tr>\n",
        "      <th>15</th>\n",
        "      <td>22</td>\n",
        "      <td>12</td>\n",
        "      <td>2011</td>\n",
        "      <td>\u0421\u044b\u043a\u0442\u044b\u0432\u043a\u0430\u0440-1</td>\n",
        "      <td>94</td>\n",
        "      <td>3</td>\n",
        "      <td>355</td>\n",
        "      <td>0</td>\n",
        "      <td>77</td>\n",
        "      <td>143.000000</td>\n",
        "    </tr>\n",
        "    <tr>\n",
        "      <th>16</th>\n",
        "      <td>23</td>\n",
        "      <td>12</td>\n",
        "      <td>2011</td>\n",
        "      <td>\u0421\u044b\u043a\u0442\u044b\u0432\u043a\u0430\u0440-1</td>\n",
        "      <td>129</td>\n",
        "      <td>4</td>\n",
        "      <td>356</td>\n",
        "      <td>0</td>\n",
        "      <td>78</td>\n",
        "      <td>161.800000</td>\n",
        "    </tr>\n",
        "    <tr>\n",
        "      <th>17</th>\n",
        "      <td>24</td>\n",
        "      <td>12</td>\n",
        "      <td>2011</td>\n",
        "      <td>\u0421\u044b\u043a\u0442\u044b\u0432\u043a\u0430\u0440-1</td>\n",
        "      <td>164</td>\n",
        "      <td>5</td>\n",
        "      <td>357</td>\n",
        "      <td>1</td>\n",
        "      <td>79</td>\n",
        "      <td>142.600000</td>\n",
        "    </tr>\n",
        "    <tr>\n",
        "      <th>18</th>\n",
        "      <td>25</td>\n",
        "      <td>12</td>\n",
        "      <td>2011</td>\n",
        "      <td>\u0421\u044b\u043a\u0442\u044b\u0432\u043a\u0430\u0440-1</td>\n",
        "      <td>122</td>\n",
        "      <td>6</td>\n",
        "      <td>358</td>\n",
        "      <td>1</td>\n",
        "      <td>80</td>\n",
        "      <td>138.200000</td>\n",
        "    </tr>\n",
        "    <tr>\n",
        "      <th>19</th>\n",
        "      <td>28</td>\n",
        "      <td>12</td>\n",
        "      <td>2011</td>\n",
        "      <td>\u0421\u044b\u043a\u0442\u044b\u0432\u043a\u0430\u0440-1</td>\n",
        "      <td>128</td>\n",
        "      <td>2</td>\n",
        "      <td>361</td>\n",
        "      <td>0</td>\n",
        "      <td>83</td>\n",
        "      <td>145.666667</td>\n",
        "    </tr>\n",
        "    <tr>\n",
        "      <th>20</th>\n",
        "      <td>29</td>\n",
        "      <td>12</td>\n",
        "      <td>2011</td>\n",
        "      <td>\u0421\u044b\u043a\u0442\u044b\u0432\u043a\u0430\u0440-1</td>\n",
        "      <td>172</td>\n",
        "      <td>3</td>\n",
        "      <td>362</td>\n",
        "      <td>0</td>\n",
        "      <td>84</td>\n",
        "      <td>138.666667</td>\n",
        "    </tr>\n",
        "    <tr>\n",
        "      <th>21</th>\n",
        "      <td>30</td>\n",
        "      <td>12</td>\n",
        "      <td>2011</td>\n",
        "      <td>\u0421\u044b\u043a\u0442\u044b\u0432\u043a\u0430\u0440-1</td>\n",
        "      <td>223</td>\n",
        "      <td>4</td>\n",
        "      <td>363</td>\n",
        "      <td>0</td>\n",
        "      <td>85</td>\n",
        "      <td>121.333333</td>\n",
        "    </tr>\n",
        "    <tr>\n",
        "      <th>22</th>\n",
        "      <td>31</td>\n",
        "      <td>12</td>\n",
        "      <td>2011</td>\n",
        "      <td>\u0421\u044b\u043a\u0442\u044b\u0432\u043a\u0430\u0440-1</td>\n",
        "      <td>68</td>\n",
        "      <td>5</td>\n",
        "      <td>364</td>\n",
        "      <td>1</td>\n",
        "      <td>86</td>\n",
        "      <td>131.333333</td>\n",
        "    </tr>\n",
        "    <tr>\n",
        "      <th>23</th>\n",
        "      <td>1</td>\n",
        "      <td>1</td>\n",
        "      <td>2012</td>\n",
        "      <td>\u0421\u044b\u043a\u0442\u044b\u0432\u043a\u0430\u0440-1</td>\n",
        "      <td>100</td>\n",
        "      <td>6</td>\n",
        "      <td>0</td>\n",
        "      <td>1</td>\n",
        "      <td>87</td>\n",
        "      <td>136.000000</td>\n",
        "    </tr>\n",
        "    <tr>\n",
        "      <th>24</th>\n",
        "      <td>2</td>\n",
        "      <td>1</td>\n",
        "      <td>2012</td>\n",
        "      <td>\u0421\u044b\u043a\u0442\u044b\u0432\u043a\u0430\u0440-1</td>\n",
        "      <td>169</td>\n",
        "      <td>0</td>\n",
        "      <td>1</td>\n",
        "      <td>0</td>\n",
        "      <td>88</td>\n",
        "      <td>130.500000</td>\n",
        "    </tr>\n",
        "    <tr>\n",
        "      <th>25</th>\n",
        "      <td>3</td>\n",
        "      <td>1</td>\n",
        "      <td>2012</td>\n",
        "      <td>\u0421\u044b\u043a\u0442\u044b\u0432\u043a\u0430\u0440-1</td>\n",
        "      <td>142</td>\n",
        "      <td>1</td>\n",
        "      <td>2</td>\n",
        "      <td>0</td>\n",
        "      <td>89</td>\n",
        "      <td>124.333333</td>\n",
        "    </tr>\n",
        "    <tr>\n",
        "      <th>26</th>\n",
        "      <td>4</td>\n",
        "      <td>1</td>\n",
        "      <td>2012</td>\n",
        "      <td>\u0421\u044b\u043a\u0442\u044b\u0432\u043a\u0430\u0440-1</td>\n",
        "      <td>130</td>\n",
        "      <td>2</td>\n",
        "      <td>3</td>\n",
        "      <td>0</td>\n",
        "      <td>90</td>\n",
        "      <td>124.166667</td>\n",
        "    </tr>\n",
        "    <tr>\n",
        "      <th>27</th>\n",
        "      <td>5</td>\n",
        "      <td>1</td>\n",
        "      <td>2012</td>\n",
        "      <td>\u0421\u044b\u043a\u0442\u044b\u0432\u043a\u0430\u0440-1</td>\n",
        "      <td>119</td>\n",
        "      <td>3</td>\n",
        "      <td>4</td>\n",
        "      <td>0</td>\n",
        "      <td>91</td>\n",
        "      <td>121.166667</td>\n",
        "    </tr>\n",
        "    <tr>\n",
        "      <th>28</th>\n",
        "      <td>6</td>\n",
        "      <td>1</td>\n",
        "      <td>2012</td>\n",
        "      <td>\u0421\u044b\u043a\u0442\u044b\u0432\u043a\u0430\u0440-1</td>\n",
        "      <td>128</td>\n",
        "      <td>4</td>\n",
        "      <td>5</td>\n",
        "      <td>0</td>\n",
        "      <td>92</td>\n",
        "      <td>135.666667</td>\n",
        "    </tr>\n",
        "    <tr>\n",
        "      <th>29</th>\n",
        "      <td>7</td>\n",
        "      <td>1</td>\n",
        "      <td>2012</td>\n",
        "      <td>\u0421\u044b\u043a\u0442\u044b\u0432\u043a\u0430\u0440-1</td>\n",
        "      <td>128</td>\n",
        "      <td>5</td>\n",
        "      <td>6</td>\n",
        "      <td>1</td>\n",
        "      <td>93</td>\n",
        "      <td>143.333333</td>\n",
        "    </tr>\n",
        "    <tr>\n",
        "      <th>...</th>\n",
        "      <td>...</td>\n",
        "      <td>...</td>\n",
        "      <td>...</td>\n",
        "      <td>...</td>\n",
        "      <td>...</td>\n",
        "      <td>...</td>\n",
        "      <td>...</td>\n",
        "      <td>...</td>\n",
        "      <td>...</td>\n",
        "      <td>...</td>\n",
        "    </tr>\n",
        "    <tr>\n",
        "      <th>46018</th>\n",
        "      <td>19</td>\n",
        "      <td>10</td>\n",
        "      <td>2016</td>\n",
        "      <td>\u0421\u0430\u043c\u0430\u0440\u0430-1</td>\n",
        "      <td>240</td>\n",
        "      <td>2</td>\n",
        "      <td>292</td>\n",
        "      <td>0</td>\n",
        "      <td>1840</td>\n",
        "      <td>100000.000000</td>\n",
        "    </tr>\n",
        "    <tr>\n",
        "      <th>46019</th>\n",
        "      <td>19</td>\n",
        "      <td>10</td>\n",
        "      <td>2016</td>\n",
        "      <td>\u0423\u0444\u0430-1</td>\n",
        "      <td>98</td>\n",
        "      <td>2</td>\n",
        "      <td>292</td>\n",
        "      <td>0</td>\n",
        "      <td>1840</td>\n",
        "      <td>100000.000000</td>\n",
        "    </tr>\n",
        "    <tr>\n",
        "      <th>46020</th>\n",
        "      <td>19</td>\n",
        "      <td>10</td>\n",
        "      <td>2016</td>\n",
        "      <td>\u0427\u0435\u043b\u044f\u0431\u0438\u043d\u0441\u043a-1</td>\n",
        "      <td>127</td>\n",
        "      <td>2</td>\n",
        "      <td>292</td>\n",
        "      <td>0</td>\n",
        "      <td>1840</td>\n",
        "      <td>100000.000000</td>\n",
        "    </tr>\n",
        "    <tr>\n",
        "      <th>46021</th>\n",
        "      <td>19</td>\n",
        "      <td>10</td>\n",
        "      <td>2016</td>\n",
        "      <td>\u0420\u0430\u0434\u0443\u0436\u043d\u044b\u0439-1</td>\n",
        "      <td>46</td>\n",
        "      <td>2</td>\n",
        "      <td>292</td>\n",
        "      <td>0</td>\n",
        "      <td>1840</td>\n",
        "      <td>100000.000000</td>\n",
        "    </tr>\n",
        "    <tr>\n",
        "      <th>46022</th>\n",
        "      <td>19</td>\n",
        "      <td>10</td>\n",
        "      <td>2016</td>\n",
        "      <td>\u0414\u043e\u043c\u043e\u0434\u0435\u0434\u043e\u0432\u043e-1</td>\n",
        "      <td>65</td>\n",
        "      <td>2</td>\n",
        "      <td>292</td>\n",
        "      <td>0</td>\n",
        "      <td>1840</td>\n",
        "      <td>100000.000000</td>\n",
        "    </tr>\n",
        "    <tr>\n",
        "      <th>46023</th>\n",
        "      <td>19</td>\n",
        "      <td>10</td>\n",
        "      <td>2016</td>\n",
        "      <td>\u0411\u0430\u043b\u0430\u0448\u0438\u0445\u0430-1</td>\n",
        "      <td>105</td>\n",
        "      <td>2</td>\n",
        "      <td>292</td>\n",
        "      <td>0</td>\n",
        "      <td>1840</td>\n",
        "      <td>100000.000000</td>\n",
        "    </tr>\n",
        "    <tr>\n",
        "      <th>46024</th>\n",
        "      <td>19</td>\n",
        "      <td>10</td>\n",
        "      <td>2016</td>\n",
        "      <td>\u0412\u043e\u043b\u0436\u0441\u043a\u0438\u0439-1</td>\n",
        "      <td>86</td>\n",
        "      <td>2</td>\n",
        "      <td>292</td>\n",
        "      <td>0</td>\n",
        "      <td>1840</td>\n",
        "      <td>100000.000000</td>\n",
        "    </tr>\n",
        "    <tr>\n",
        "      <th>46025</th>\n",
        "      <td>19</td>\n",
        "      <td>10</td>\n",
        "      <td>2016</td>\n",
        "      <td>\u0410\u043b\u044c\u043c\u0435\u0442\u044c\u0435\u0432\u0441\u043a-1</td>\n",
        "      <td>58</td>\n",
        "      <td>2</td>\n",
        "      <td>292</td>\n",
        "      <td>0</td>\n",
        "      <td>1840</td>\n",
        "      <td>100000.000000</td>\n",
        "    </tr>\n",
        "    <tr>\n",
        "      <th>46026</th>\n",
        "      <td>19</td>\n",
        "      <td>10</td>\n",
        "      <td>2016</td>\n",
        "      <td>\u0422\u044e\u043c\u0435\u043d\u044c-2</td>\n",
        "      <td>117</td>\n",
        "      <td>2</td>\n",
        "      <td>292</td>\n",
        "      <td>0</td>\n",
        "      <td>1840</td>\n",
        "      <td>100000.000000</td>\n",
        "    </tr>\n",
        "    <tr>\n",
        "      <th>46027</th>\n",
        "      <td>19</td>\n",
        "      <td>10</td>\n",
        "      <td>2016</td>\n",
        "      <td>\u0410\u0431\u0430\u043a\u0430\u043d-1</td>\n",
        "      <td>56</td>\n",
        "      <td>2</td>\n",
        "      <td>292</td>\n",
        "      <td>0</td>\n",
        "      <td>1840</td>\n",
        "      <td>100000.000000</td>\n",
        "    </tr>\n",
        "    <tr>\n",
        "      <th>46028</th>\n",
        "      <td>19</td>\n",
        "      <td>10</td>\n",
        "      <td>2016</td>\n",
        "      <td>\u0421\u0430\u0440\u0430\u0442\u043e\u0432-1</td>\n",
        "      <td>178</td>\n",
        "      <td>2</td>\n",
        "      <td>292</td>\n",
        "      <td>0</td>\n",
        "      <td>1840</td>\n",
        "      <td>100000.000000</td>\n",
        "    </tr>\n",
        "    <tr>\n",
        "      <th>46029</th>\n",
        "      <td>19</td>\n",
        "      <td>10</td>\n",
        "      <td>2016</td>\n",
        "      <td>\u041d\u043e\u0432\u043e\u0440\u043e\u0441\u0441\u0438\u0439\u0441\u043a-1</td>\n",
        "      <td>125</td>\n",
        "      <td>2</td>\n",
        "      <td>292</td>\n",
        "      <td>0</td>\n",
        "      <td>1840</td>\n",
        "      <td>100000.000000</td>\n",
        "    </tr>\n",
        "    <tr>\n",
        "      <th>46030</th>\n",
        "      <td>19</td>\n",
        "      <td>10</td>\n",
        "      <td>2016</td>\n",
        "      <td>\u0412\u044b\u0431\u043e\u0440\u0433-1</td>\n",
        "      <td>81</td>\n",
        "      <td>2</td>\n",
        "      <td>292</td>\n",
        "      <td>0</td>\n",
        "      <td>1840</td>\n",
        "      <td>100000.000000</td>\n",
        "    </tr>\n",
        "    <tr>\n",
        "      <th>46031</th>\n",
        "      <td>19</td>\n",
        "      <td>10</td>\n",
        "      <td>2016</td>\n",
        "      <td>\u0415\u043a\u0430\u0442\u0435\u0440\u0438\u043d\u0431\u0443\u0440\u0433-1</td>\n",
        "      <td>78</td>\n",
        "      <td>2</td>\n",
        "      <td>292</td>\n",
        "      <td>0</td>\n",
        "      <td>1840</td>\n",
        "      <td>100000.000000</td>\n",
        "    </tr>\n",
        "    <tr>\n",
        "      <th>46032</th>\n",
        "      <td>19</td>\n",
        "      <td>10</td>\n",
        "      <td>2016</td>\n",
        "      <td>\u0417\u0435\u043b\u0435\u043d\u043e\u043a\u0443\u043c\u0441\u043a-1</td>\n",
        "      <td>36</td>\n",
        "      <td>2</td>\n",
        "      <td>292</td>\n",
        "      <td>0</td>\n",
        "      <td>1840</td>\n",
        "      <td>100000.000000</td>\n",
        "    </tr>\n",
        "    <tr>\n",
        "      <th>46033</th>\n",
        "      <td>19</td>\n",
        "      <td>10</td>\n",
        "      <td>2016</td>\n",
        "      <td>\u0420\u0435\u0443\u0442\u043e\u0432-1</td>\n",
        "      <td>95</td>\n",
        "      <td>2</td>\n",
        "      <td>292</td>\n",
        "      <td>0</td>\n",
        "      <td>1840</td>\n",
        "      <td>100000.000000</td>\n",
        "    </tr>\n",
        "    <tr>\n",
        "      <th>46034</th>\n",
        "      <td>19</td>\n",
        "      <td>10</td>\n",
        "      <td>2016</td>\n",
        "      <td>\u0421\u0430\u043c\u0430\u0440\u0430-4</td>\n",
        "      <td>190</td>\n",
        "      <td>2</td>\n",
        "      <td>292</td>\n",
        "      <td>0</td>\n",
        "      <td>1840</td>\n",
        "      <td>100000.000000</td>\n",
        "    </tr>\n",
        "    <tr>\n",
        "      <th>46035</th>\n",
        "      <td>19</td>\n",
        "      <td>10</td>\n",
        "      <td>2016</td>\n",
        "      <td>\u0423\u043b\u044c\u044f\u043d\u043e\u0432\u0441\u043a-1</td>\n",
        "      <td>111</td>\n",
        "      <td>2</td>\n",
        "      <td>292</td>\n",
        "      <td>0</td>\n",
        "      <td>1840</td>\n",
        "      <td>100000.000000</td>\n",
        "    </tr>\n",
        "    <tr>\n",
        "      <th>46036</th>\n",
        "      <td>19</td>\n",
        "      <td>10</td>\n",
        "      <td>2016</td>\n",
        "      <td>\u0421\u044b\u043a\u0442\u044b\u0432\u043a\u0430\u0440-4</td>\n",
        "      <td>33</td>\n",
        "      <td>2</td>\n",
        "      <td>292</td>\n",
        "      <td>0</td>\n",
        "      <td>1840</td>\n",
        "      <td>100000.000000</td>\n",
        "    </tr>\n",
        "    <tr>\n",
        "      <th>46037</th>\n",
        "      <td>19</td>\n",
        "      <td>10</td>\n",
        "      <td>2016</td>\n",
        "      <td>\u0417\u0435\u043b\u0435\u043d\u043e\u0433\u0440\u0430\u0434-1</td>\n",
        "      <td>139</td>\n",
        "      <td>2</td>\n",
        "      <td>292</td>\n",
        "      <td>0</td>\n",
        "      <td>1840</td>\n",
        "      <td>100000.000000</td>\n",
        "    </tr>\n",
        "    <tr>\n",
        "      <th>46038</th>\n",
        "      <td>19</td>\n",
        "      <td>10</td>\n",
        "      <td>2016</td>\n",
        "      <td>\u041c\u043e\u0441\u043a\u0432\u0430 1-1</td>\n",
        "      <td>69</td>\n",
        "      <td>2</td>\n",
        "      <td>292</td>\n",
        "      <td>0</td>\n",
        "      <td>1840</td>\n",
        "      <td>100000.000000</td>\n",
        "    </tr>\n",
        "    <tr>\n",
        "      <th>46039</th>\n",
        "      <td>19</td>\n",
        "      <td>10</td>\n",
        "      <td>2016</td>\n",
        "      <td>\u0423\u0441\u0441\u0443\u0440\u0438\u0439\u0441\u043a-1</td>\n",
        "      <td>130</td>\n",
        "      <td>2</td>\n",
        "      <td>292</td>\n",
        "      <td>0</td>\n",
        "      <td>1840</td>\n",
        "      <td>100000.000000</td>\n",
        "    </tr>\n",
        "    <tr>\n",
        "      <th>46040</th>\n",
        "      <td>19</td>\n",
        "      <td>10</td>\n",
        "      <td>2016</td>\n",
        "      <td>\u042d\u043d\u0433\u0435\u043b\u044c\u0441-1</td>\n",
        "      <td>48</td>\n",
        "      <td>2</td>\n",
        "      <td>292</td>\n",
        "      <td>0</td>\n",
        "      <td>1840</td>\n",
        "      <td>100000.000000</td>\n",
        "    </tr>\n",
        "    <tr>\n",
        "      <th>46041</th>\n",
        "      <td>19</td>\n",
        "      <td>10</td>\n",
        "      <td>2016</td>\n",
        "      <td>\u0410\u0431\u0438\u043d\u0441\u043a-1</td>\n",
        "      <td>43</td>\n",
        "      <td>2</td>\n",
        "      <td>292</td>\n",
        "      <td>0</td>\n",
        "      <td>1840</td>\n",
        "      <td>100000.000000</td>\n",
        "    </tr>\n",
        "    <tr>\n",
        "      <th>46042</th>\n",
        "      <td>19</td>\n",
        "      <td>10</td>\n",
        "      <td>2016</td>\n",
        "      <td>\u0421\u043c\u043e\u043b\u0435\u043d\u0441\u043a-3</td>\n",
        "      <td>39</td>\n",
        "      <td>2</td>\n",
        "      <td>292</td>\n",
        "      <td>0</td>\n",
        "      <td>1840</td>\n",
        "      <td>100000.000000</td>\n",
        "    </tr>\n",
        "    <tr>\n",
        "      <th>46043</th>\n",
        "      <td>19</td>\n",
        "      <td>10</td>\n",
        "      <td>2016</td>\n",
        "      <td>\u041c\u043e\u0441\u043a\u0432\u0430 1-5</td>\n",
        "      <td>75</td>\n",
        "      <td>2</td>\n",
        "      <td>292</td>\n",
        "      <td>0</td>\n",
        "      <td>1840</td>\n",
        "      <td>100000.000000</td>\n",
        "    </tr>\n",
        "    <tr>\n",
        "      <th>46044</th>\n",
        "      <td>19</td>\n",
        "      <td>10</td>\n",
        "      <td>2016</td>\n",
        "      <td>\u0427\u0430\u0439\u043a\u043e\u0432\u0441\u043a\u0438\u0439-1</td>\n",
        "      <td>41</td>\n",
        "      <td>2</td>\n",
        "      <td>292</td>\n",
        "      <td>0</td>\n",
        "      <td>1840</td>\n",
        "      <td>100000.000000</td>\n",
        "    </tr>\n",
        "    <tr>\n",
        "      <th>46045</th>\n",
        "      <td>19</td>\n",
        "      <td>10</td>\n",
        "      <td>2016</td>\n",
        "      <td>\u0427\u0435\u043b\u044f\u0431\u0438\u043d\u0441\u043a-2</td>\n",
        "      <td>134</td>\n",
        "      <td>2</td>\n",
        "      <td>292</td>\n",
        "      <td>0</td>\n",
        "      <td>1840</td>\n",
        "      <td>100000.000000</td>\n",
        "    </tr>\n",
        "    <tr>\n",
        "      <th>46046</th>\n",
        "      <td>19</td>\n",
        "      <td>10</td>\n",
        "      <td>2016</td>\n",
        "      <td>\u0410\u043d\u0433\u0430\u0440\u0441\u043a-1</td>\n",
        "      <td>68</td>\n",
        "      <td>2</td>\n",
        "      <td>292</td>\n",
        "      <td>0</td>\n",
        "      <td>1840</td>\n",
        "      <td>100000.000000</td>\n",
        "    </tr>\n",
        "    <tr>\n",
        "      <th>46047</th>\n",
        "      <td>19</td>\n",
        "      <td>10</td>\n",
        "      <td>2016</td>\n",
        "      <td>\u0416\u0435\u043b\u0435\u0437\u043d\u043e\u0434\u043e\u0440\u043e\u0436\u043d\u044b\u0439-1</td>\n",
        "      <td>105</td>\n",
        "      <td>2</td>\n",
        "      <td>292</td>\n",
        "      <td>0</td>\n",
        "      <td>1840</td>\n",
        "      <td>100000.000000</td>\n",
        "    </tr>\n",
        "  </tbody>\n",
        "</table>\n",
        "<p>46048 rows \u00d7 10 columns</p>\n",
        "</div>"
       ],
       "metadata": {},
       "output_type": "pyout",
       "prompt_number": 99,
       "text": [
        "       Day  Month  Year               City  Count  WeekDay  DayForStartYear  \\\n",
        "0        6     10  2011        \u0421\u044b\u043a\u0442\u044b\u0432\u043a\u0430\u0440-1      8        3              278   \n",
        "1        7     10  2011        \u0421\u044b\u043a\u0442\u044b\u0432\u043a\u0430\u0440-1     88        4              279   \n",
        "2        9     10  2011        \u0421\u044b\u043a\u0442\u044b\u0432\u043a\u0430\u0440-1      1        6              281   \n",
        "3       15     11  2011        \u0421\u044b\u043a\u0442\u044b\u0432\u043a\u0430\u0440-1      1        1              318   \n",
        "4        8     12  2011        \u0421\u044b\u043a\u0442\u044b\u0432\u043a\u0430\u0440-1      2        3              341   \n",
        "5        9     12  2011        \u0421\u044b\u043a\u0442\u044b\u0432\u043a\u0430\u0440-1     43        4              342   \n",
        "6       10     12  2011        \u0421\u044b\u043a\u0442\u044b\u0432\u043a\u0430\u0440-1     10        5              343   \n",
        "7       11     12  2011        \u0421\u044b\u043a\u0442\u044b\u0432\u043a\u0430\u0440-1      1        6              344   \n",
        "8       13     12  2011        \u0421\u044b\u043a\u0442\u044b\u0432\u043a\u0430\u0440-1     60        1              346   \n",
        "9       15     12  2011        \u0421\u044b\u043a\u0442\u044b\u0432\u043a\u0430\u0440-1     96        3              348   \n",
        "10      16     12  2011        \u0421\u044b\u043a\u0442\u044b\u0432\u043a\u0430\u0440-1    134        4              349   \n",
        "11      17     12  2011        \u0421\u044b\u043a\u0442\u044b\u0432\u043a\u0430\u0440-1    112        5              350   \n",
        "12      18     12  2011        \u0421\u044b\u043a\u0442\u044b\u0432\u043a\u0430\u0440-1    100        6              351   \n",
        "13      20     12  2011        \u0421\u044b\u043a\u0442\u044b\u0432\u043a\u0430\u0440-1     73        1              353   \n",
        "14      21     12  2011        \u0421\u044b\u043a\u0442\u044b\u0432\u043a\u0430\u0440-1     94        2              354   \n",
        "15      22     12  2011        \u0421\u044b\u043a\u0442\u044b\u0432\u043a\u0430\u0440-1     94        3              355   \n",
        "16      23     12  2011        \u0421\u044b\u043a\u0442\u044b\u0432\u043a\u0430\u0440-1    129        4              356   \n",
        "17      24     12  2011        \u0421\u044b\u043a\u0442\u044b\u0432\u043a\u0430\u0440-1    164        5              357   \n",
        "18      25     12  2011        \u0421\u044b\u043a\u0442\u044b\u0432\u043a\u0430\u0440-1    122        6              358   \n",
        "19      28     12  2011        \u0421\u044b\u043a\u0442\u044b\u0432\u043a\u0430\u0440-1    128        2              361   \n",
        "20      29     12  2011        \u0421\u044b\u043a\u0442\u044b\u0432\u043a\u0430\u0440-1    172        3              362   \n",
        "21      30     12  2011        \u0421\u044b\u043a\u0442\u044b\u0432\u043a\u0430\u0440-1    223        4              363   \n",
        "22      31     12  2011        \u0421\u044b\u043a\u0442\u044b\u0432\u043a\u0430\u0440-1     68        5              364   \n",
        "23       1      1  2012        \u0421\u044b\u043a\u0442\u044b\u0432\u043a\u0430\u0440-1    100        6                0   \n",
        "24       2      1  2012        \u0421\u044b\u043a\u0442\u044b\u0432\u043a\u0430\u0440-1    169        0                1   \n",
        "25       3      1  2012        \u0421\u044b\u043a\u0442\u044b\u0432\u043a\u0430\u0440-1    142        1                2   \n",
        "26       4      1  2012        \u0421\u044b\u043a\u0442\u044b\u0432\u043a\u0430\u0440-1    130        2                3   \n",
        "27       5      1  2012        \u0421\u044b\u043a\u0442\u044b\u0432\u043a\u0430\u0440-1    119        3                4   \n",
        "28       6      1  2012        \u0421\u044b\u043a\u0442\u044b\u0432\u043a\u0430\u0440-1    128        4                5   \n",
        "29       7      1  2012        \u0421\u044b\u043a\u0442\u044b\u0432\u043a\u0430\u0440-1    128        5                6   \n",
        "...    ...    ...   ...                ...    ...      ...              ...   \n",
        "46018   19     10  2016           \u0421\u0430\u043c\u0430\u0440\u0430-1    240        2              292   \n",
        "46019   19     10  2016              \u0423\u0444\u0430-1     98        2              292   \n",
        "46020   19     10  2016        \u0427\u0435\u043b\u044f\u0431\u0438\u043d\u0441\u043a-1    127        2              292   \n",
        "46021   19     10  2016         \u0420\u0430\u0434\u0443\u0436\u043d\u044b\u0439-1     46        2              292   \n",
        "46022   19     10  2016       \u0414\u043e\u043c\u043e\u0434\u0435\u0434\u043e\u0432\u043e-1     65        2              292   \n",
        "46023   19     10  2016         \u0411\u0430\u043b\u0430\u0448\u0438\u0445\u0430-1    105        2              292   \n",
        "46024   19     10  2016         \u0412\u043e\u043b\u0436\u0441\u043a\u0438\u0439-1     86        2              292   \n",
        "46025   19     10  2016      \u0410\u043b\u044c\u043c\u0435\u0442\u044c\u0435\u0432\u0441\u043a-1     58        2              292   \n",
        "46026   19     10  2016           \u0422\u044e\u043c\u0435\u043d\u044c-2    117        2              292   \n",
        "46027   19     10  2016           \u0410\u0431\u0430\u043a\u0430\u043d-1     56        2              292   \n",
        "46028   19     10  2016          \u0421\u0430\u0440\u0430\u0442\u043e\u0432-1    178        2              292   \n",
        "46029   19     10  2016     \u041d\u043e\u0432\u043e\u0440\u043e\u0441\u0441\u0438\u0439\u0441\u043a-1    125        2              292   \n",
        "46030   19     10  2016           \u0412\u044b\u0431\u043e\u0440\u0433-1     81        2              292   \n",
        "46031   19     10  2016     \u0415\u043a\u0430\u0442\u0435\u0440\u0438\u043d\u0431\u0443\u0440\u0433-1     78        2              292   \n",
        "46032   19     10  2016      \u0417\u0435\u043b\u0435\u043d\u043e\u043a\u0443\u043c\u0441\u043a-1     36        2              292   \n",
        "46033   19     10  2016           \u0420\u0435\u0443\u0442\u043e\u0432-1     95        2              292   \n",
        "46034   19     10  2016           \u0421\u0430\u043c\u0430\u0440\u0430-4    190        2              292   \n",
        "46035   19     10  2016        \u0423\u043b\u044c\u044f\u043d\u043e\u0432\u0441\u043a-1    111        2              292   \n",
        "46036   19     10  2016        \u0421\u044b\u043a\u0442\u044b\u0432\u043a\u0430\u0440-4     33        2              292   \n",
        "46037   19     10  2016       \u0417\u0435\u043b\u0435\u043d\u043e\u0433\u0440\u0430\u0434-1    139        2              292   \n",
        "46038   19     10  2016         \u041c\u043e\u0441\u043a\u0432\u0430 1-1     69        2              292   \n",
        "46039   19     10  2016        \u0423\u0441\u0441\u0443\u0440\u0438\u0439\u0441\u043a-1    130        2              292   \n",
        "46040   19     10  2016          \u042d\u043d\u0433\u0435\u043b\u044c\u0441-1     48        2              292   \n",
        "46041   19     10  2016           \u0410\u0431\u0438\u043d\u0441\u043a-1     43        2              292   \n",
        "46042   19     10  2016         \u0421\u043c\u043e\u043b\u0435\u043d\u0441\u043a-3     39        2              292   \n",
        "46043   19     10  2016         \u041c\u043e\u0441\u043a\u0432\u0430 1-5     75        2              292   \n",
        "46044   19     10  2016       \u0427\u0430\u0439\u043a\u043e\u0432\u0441\u043a\u0438\u0439-1     41        2              292   \n",
        "46045   19     10  2016        \u0427\u0435\u043b\u044f\u0431\u0438\u043d\u0441\u043a-2    134        2              292   \n",
        "46046   19     10  2016          \u0410\u043d\u0433\u0430\u0440\u0441\u043a-1     68        2              292   \n",
        "46047   19     10  2016  \u0416\u0435\u043b\u0435\u0437\u043d\u043e\u0434\u043e\u0440\u043e\u0436\u043d\u044b\u0439-1    105        2              292   \n",
        "\n",
        "       isWeekend  DayForStartTrainPeriod    MeanNext7Day  \n",
        "0              0                       0       44.500000  \n",
        "1              0                       1        1.000000  \n",
        "2              1                       3  1000000.000000  \n",
        "3              0                      40  1000000.000000  \n",
        "4              0                      63       42.000000  \n",
        "5              0                      64       60.200000  \n",
        "6              1                      65       80.600000  \n",
        "7              1                      66      100.400000  \n",
        "8              0                      68      103.000000  \n",
        "9              0                      70      101.166667  \n",
        "10             0                      71      100.333333  \n",
        "11             1                      72      109.000000  \n",
        "12             1                      73      112.666667  \n",
        "13             0                      75      120.600000  \n",
        "14             0                      76      127.400000  \n",
        "15             0                      77      143.000000  \n",
        "16             0                      78      161.800000  \n",
        "17             1                      79      142.600000  \n",
        "18             1                      80      138.200000  \n",
        "19             0                      83      145.666667  \n",
        "20             0                      84      138.666667  \n",
        "21             0                      85      121.333333  \n",
        "22             1                      86      131.333333  \n",
        "23             1                      87      136.000000  \n",
        "24             0                      88      130.500000  \n",
        "25             0                      89      124.333333  \n",
        "26             0                      90      124.166667  \n",
        "27             0                      91      121.166667  \n",
        "28             0                      92      135.666667  \n",
        "29             1                      93      143.333333  \n",
        "...          ...                     ...             ...  \n",
        "46018          0                    1840   100000.000000  \n",
        "46019          0                    1840   100000.000000  \n",
        "46020          0                    1840   100000.000000  \n",
        "46021          0                    1840   100000.000000  \n",
        "46022          0                    1840   100000.000000  \n",
        "46023          0                    1840   100000.000000  \n",
        "46024          0                    1840   100000.000000  \n",
        "46025          0                    1840   100000.000000  \n",
        "46026          0                    1840   100000.000000  \n",
        "46027          0                    1840   100000.000000  \n",
        "46028          0                    1840   100000.000000  \n",
        "46029          0                    1840   100000.000000  \n",
        "46030          0                    1840   100000.000000  \n",
        "46031          0                    1840   100000.000000  \n",
        "46032          0                    1840   100000.000000  \n",
        "46033          0                    1840   100000.000000  \n",
        "46034          0                    1840   100000.000000  \n",
        "46035          0                    1840   100000.000000  \n",
        "46036          0                    1840   100000.000000  \n",
        "46037          0                    1840   100000.000000  \n",
        "46038          0                    1840   100000.000000  \n",
        "46039          0                    1840   100000.000000  \n",
        "46040          0                    1840   100000.000000  \n",
        "46041          0                    1840   100000.000000  \n",
        "46042          0                    1840   100000.000000  \n",
        "46043          0                    1840   100000.000000  \n",
        "46044          0                    1840   100000.000000  \n",
        "46045          0                    1840   100000.000000  \n",
        "46046          0                    1840   100000.000000  \n",
        "46047          0                    1840   100000.000000  \n",
        "\n",
        "[46048 rows x 10 columns]"
       ]
      }
     ],
     "prompt_number": 99
    },
    {
     "cell_type": "code",
     "collapsed": false,
     "input": [
      "n = 14\n",
      "res = []\n",
      "k = 0\n",
      "for i in range(len(train)):\n",
      "    res.append(MeanNDayFromThis(n, train, train.City[i], train.Year[i], train.Month[i], train.Day[i]))\n",
      "    if ( (k % 100) == 0):\n",
      "        print k,\n",
      "    k += 1\n",
      "train[\"MeanNext14Day\"] = pd.Series(res)"
     ],
     "language": "python",
     "metadata": {},
     "outputs": [
      {
       "output_type": "stream",
       "stream": "stdout",
       "text": [
        "0 "
       ]
      },
      {
       "output_type": "stream",
       "stream": "stdout",
       "text": [
        "100 "
       ]
      },
      {
       "output_type": "stream",
       "stream": "stdout",
       "text": [
        "200 "
       ]
      },
      {
       "output_type": "stream",
       "stream": "stdout",
       "text": [
        "300 "
       ]
      },
      {
       "output_type": "stream",
       "stream": "stdout",
       "text": [
        "400 "
       ]
      },
      {
       "output_type": "stream",
       "stream": "stdout",
       "text": [
        "500 "
       ]
      },
      {
       "output_type": "stream",
       "stream": "stdout",
       "text": [
        "600 "
       ]
      },
      {
       "output_type": "stream",
       "stream": "stdout",
       "text": [
        "700 "
       ]
      },
      {
       "output_type": "stream",
       "stream": "stdout",
       "text": [
        "800 "
       ]
      },
      {
       "output_type": "stream",
       "stream": "stdout",
       "text": [
        "900 "
       ]
      },
      {
       "output_type": "stream",
       "stream": "stdout",
       "text": [
        "1000 "
       ]
      },
      {
       "output_type": "stream",
       "stream": "stdout",
       "text": [
        "1100 "
       ]
      },
      {
       "output_type": "stream",
       "stream": "stdout",
       "text": [
        "1200 "
       ]
      },
      {
       "output_type": "stream",
       "stream": "stdout",
       "text": [
        "1300 "
       ]
      },
      {
       "output_type": "stream",
       "stream": "stdout",
       "text": [
        "1400 "
       ]
      },
      {
       "output_type": "stream",
       "stream": "stdout",
       "text": [
        "1500 "
       ]
      },
      {
       "output_type": "stream",
       "stream": "stdout",
       "text": [
        "1600 "
       ]
      },
      {
       "output_type": "stream",
       "stream": "stdout",
       "text": [
        "1700 "
       ]
      },
      {
       "output_type": "stream",
       "stream": "stdout",
       "text": [
        "1800 "
       ]
      },
      {
       "output_type": "stream",
       "stream": "stdout",
       "text": [
        "1900 "
       ]
      },
      {
       "output_type": "stream",
       "stream": "stdout",
       "text": [
        "2000 "
       ]
      },
      {
       "output_type": "stream",
       "stream": "stdout",
       "text": [
        "2100 "
       ]
      },
      {
       "output_type": "stream",
       "stream": "stdout",
       "text": [
        "2200 "
       ]
      },
      {
       "output_type": "stream",
       "stream": "stdout",
       "text": [
        "2300 "
       ]
      },
      {
       "output_type": "stream",
       "stream": "stdout",
       "text": [
        "2400 "
       ]
      },
      {
       "output_type": "stream",
       "stream": "stdout",
       "text": [
        "2500 "
       ]
      },
      {
       "output_type": "stream",
       "stream": "stdout",
       "text": [
        "2600 "
       ]
      },
      {
       "output_type": "stream",
       "stream": "stdout",
       "text": [
        "2700 "
       ]
      },
      {
       "output_type": "stream",
       "stream": "stdout",
       "text": [
        "2800 "
       ]
      },
      {
       "output_type": "stream",
       "stream": "stdout",
       "text": [
        "2900 "
       ]
      },
      {
       "output_type": "stream",
       "stream": "stdout",
       "text": [
        "3000 "
       ]
      },
      {
       "output_type": "stream",
       "stream": "stdout",
       "text": [
        "3100 "
       ]
      },
      {
       "output_type": "stream",
       "stream": "stdout",
       "text": [
        "3200 "
       ]
      },
      {
       "output_type": "stream",
       "stream": "stdout",
       "text": [
        "3300 "
       ]
      },
      {
       "output_type": "stream",
       "stream": "stdout",
       "text": [
        "3400 "
       ]
      },
      {
       "output_type": "stream",
       "stream": "stdout",
       "text": [
        "3500 "
       ]
      },
      {
       "output_type": "stream",
       "stream": "stdout",
       "text": [
        "3600 "
       ]
      },
      {
       "output_type": "stream",
       "stream": "stdout",
       "text": [
        "3700 "
       ]
      },
      {
       "output_type": "stream",
       "stream": "stdout",
       "text": [
        "3800 "
       ]
      },
      {
       "output_type": "stream",
       "stream": "stdout",
       "text": [
        "3900 "
       ]
      },
      {
       "output_type": "stream",
       "stream": "stdout",
       "text": [
        "4000 "
       ]
      },
      {
       "output_type": "stream",
       "stream": "stdout",
       "text": [
        "4100 "
       ]
      },
      {
       "output_type": "stream",
       "stream": "stdout",
       "text": [
        "4200 "
       ]
      },
      {
       "output_type": "stream",
       "stream": "stdout",
       "text": [
        "4300 "
       ]
      },
      {
       "output_type": "stream",
       "stream": "stdout",
       "text": [
        "4400 "
       ]
      },
      {
       "output_type": "stream",
       "stream": "stdout",
       "text": [
        "4500 "
       ]
      },
      {
       "output_type": "stream",
       "stream": "stdout",
       "text": [
        "4600 "
       ]
      },
      {
       "output_type": "stream",
       "stream": "stdout",
       "text": [
        "4700 "
       ]
      },
      {
       "output_type": "stream",
       "stream": "stdout",
       "text": [
        "4800 "
       ]
      },
      {
       "output_type": "stream",
       "stream": "stdout",
       "text": [
        "4900 "
       ]
      },
      {
       "output_type": "stream",
       "stream": "stdout",
       "text": [
        "5000 "
       ]
      },
      {
       "output_type": "stream",
       "stream": "stdout",
       "text": [
        "5100 "
       ]
      },
      {
       "output_type": "stream",
       "stream": "stdout",
       "text": [
        "5200 "
       ]
      },
      {
       "output_type": "stream",
       "stream": "stdout",
       "text": [
        "5300 "
       ]
      },
      {
       "output_type": "stream",
       "stream": "stdout",
       "text": [
        "5400 "
       ]
      },
      {
       "output_type": "stream",
       "stream": "stdout",
       "text": [
        "5500 "
       ]
      },
      {
       "output_type": "stream",
       "stream": "stdout",
       "text": [
        "5600 "
       ]
      },
      {
       "output_type": "stream",
       "stream": "stdout",
       "text": [
        "5700 "
       ]
      },
      {
       "output_type": "stream",
       "stream": "stdout",
       "text": [
        "5800 "
       ]
      },
      {
       "output_type": "stream",
       "stream": "stdout",
       "text": [
        "5900 "
       ]
      },
      {
       "output_type": "stream",
       "stream": "stdout",
       "text": [
        "6000 "
       ]
      },
      {
       "output_type": "stream",
       "stream": "stdout",
       "text": [
        "6100 "
       ]
      },
      {
       "output_type": "stream",
       "stream": "stdout",
       "text": [
        "6200 "
       ]
      },
      {
       "output_type": "stream",
       "stream": "stdout",
       "text": [
        "6300 "
       ]
      },
      {
       "output_type": "stream",
       "stream": "stdout",
       "text": [
        "6400 "
       ]
      },
      {
       "output_type": "stream",
       "stream": "stdout",
       "text": [
        "6500 "
       ]
      },
      {
       "output_type": "stream",
       "stream": "stdout",
       "text": [
        "6600 "
       ]
      },
      {
       "output_type": "stream",
       "stream": "stdout",
       "text": [
        "6700 "
       ]
      },
      {
       "output_type": "stream",
       "stream": "stdout",
       "text": [
        "6800 "
       ]
      },
      {
       "output_type": "stream",
       "stream": "stdout",
       "text": [
        "6900 "
       ]
      },
      {
       "output_type": "stream",
       "stream": "stdout",
       "text": [
        "7000 "
       ]
      },
      {
       "output_type": "stream",
       "stream": "stdout",
       "text": [
        "7100 "
       ]
      },
      {
       "output_type": "stream",
       "stream": "stdout",
       "text": [
        "7200 "
       ]
      },
      {
       "output_type": "stream",
       "stream": "stdout",
       "text": [
        "7300 "
       ]
      },
      {
       "output_type": "stream",
       "stream": "stdout",
       "text": [
        "7400 "
       ]
      },
      {
       "output_type": "stream",
       "stream": "stdout",
       "text": [
        "7500 "
       ]
      },
      {
       "output_type": "stream",
       "stream": "stdout",
       "text": [
        "7600 "
       ]
      },
      {
       "output_type": "stream",
       "stream": "stdout",
       "text": [
        "7700 "
       ]
      },
      {
       "output_type": "stream",
       "stream": "stdout",
       "text": [
        "7800 "
       ]
      },
      {
       "output_type": "stream",
       "stream": "stdout",
       "text": [
        "7900 "
       ]
      },
      {
       "output_type": "stream",
       "stream": "stdout",
       "text": [
        "8000 "
       ]
      },
      {
       "output_type": "stream",
       "stream": "stdout",
       "text": [
        "8100 "
       ]
      },
      {
       "output_type": "stream",
       "stream": "stdout",
       "text": [
        "8200 "
       ]
      },
      {
       "output_type": "stream",
       "stream": "stdout",
       "text": [
        "8300 "
       ]
      },
      {
       "output_type": "stream",
       "stream": "stdout",
       "text": [
        "8400 "
       ]
      },
      {
       "output_type": "stream",
       "stream": "stdout",
       "text": [
        "8500 "
       ]
      },
      {
       "output_type": "stream",
       "stream": "stdout",
       "text": [
        "8600 "
       ]
      },
      {
       "output_type": "stream",
       "stream": "stdout",
       "text": [
        "8700 "
       ]
      },
      {
       "output_type": "stream",
       "stream": "stdout",
       "text": [
        "8800 "
       ]
      },
      {
       "output_type": "stream",
       "stream": "stdout",
       "text": [
        "8900 "
       ]
      },
      {
       "output_type": "stream",
       "stream": "stdout",
       "text": [
        "9000 "
       ]
      },
      {
       "output_type": "stream",
       "stream": "stdout",
       "text": [
        "9100 "
       ]
      },
      {
       "output_type": "stream",
       "stream": "stdout",
       "text": [
        "9200 "
       ]
      },
      {
       "output_type": "stream",
       "stream": "stdout",
       "text": [
        "9300 "
       ]
      },
      {
       "output_type": "stream",
       "stream": "stdout",
       "text": [
        "9400 "
       ]
      },
      {
       "output_type": "stream",
       "stream": "stdout",
       "text": [
        "9500 "
       ]
      },
      {
       "output_type": "stream",
       "stream": "stdout",
       "text": [
        "9600 "
       ]
      },
      {
       "output_type": "stream",
       "stream": "stdout",
       "text": [
        "9700 "
       ]
      },
      {
       "output_type": "stream",
       "stream": "stdout",
       "text": [
        "9800 "
       ]
      },
      {
       "output_type": "stream",
       "stream": "stdout",
       "text": [
        "9900 "
       ]
      },
      {
       "output_type": "stream",
       "stream": "stdout",
       "text": [
        "10000 "
       ]
      },
      {
       "output_type": "stream",
       "stream": "stdout",
       "text": [
        "10100 "
       ]
      },
      {
       "output_type": "stream",
       "stream": "stdout",
       "text": [
        "10200 "
       ]
      },
      {
       "output_type": "stream",
       "stream": "stdout",
       "text": [
        "10300 "
       ]
      },
      {
       "output_type": "stream",
       "stream": "stdout",
       "text": [
        "10400 "
       ]
      },
      {
       "output_type": "stream",
       "stream": "stdout",
       "text": [
        "10500 "
       ]
      },
      {
       "output_type": "stream",
       "stream": "stdout",
       "text": [
        "10600 "
       ]
      },
      {
       "output_type": "stream",
       "stream": "stdout",
       "text": [
        "10700 "
       ]
      },
      {
       "output_type": "stream",
       "stream": "stdout",
       "text": [
        "10800 "
       ]
      },
      {
       "output_type": "stream",
       "stream": "stdout",
       "text": [
        "10900 "
       ]
      },
      {
       "output_type": "stream",
       "stream": "stdout",
       "text": [
        "11000 "
       ]
      },
      {
       "output_type": "stream",
       "stream": "stdout",
       "text": [
        "11100 "
       ]
      },
      {
       "output_type": "stream",
       "stream": "stdout",
       "text": [
        "11200 "
       ]
      },
      {
       "output_type": "stream",
       "stream": "stdout",
       "text": [
        "11300 "
       ]
      },
      {
       "output_type": "stream",
       "stream": "stdout",
       "text": [
        "11400 "
       ]
      },
      {
       "output_type": "stream",
       "stream": "stdout",
       "text": [
        "11500 "
       ]
      },
      {
       "output_type": "stream",
       "stream": "stdout",
       "text": [
        "11600 "
       ]
      },
      {
       "output_type": "stream",
       "stream": "stdout",
       "text": [
        "11700 "
       ]
      },
      {
       "output_type": "stream",
       "stream": "stdout",
       "text": [
        "11800 "
       ]
      },
      {
       "output_type": "stream",
       "stream": "stdout",
       "text": [
        "11900 "
       ]
      },
      {
       "output_type": "stream",
       "stream": "stdout",
       "text": [
        "12000 "
       ]
      },
      {
       "output_type": "stream",
       "stream": "stdout",
       "text": [
        "12100 "
       ]
      },
      {
       "output_type": "stream",
       "stream": "stdout",
       "text": [
        "12200 "
       ]
      },
      {
       "output_type": "stream",
       "stream": "stdout",
       "text": [
        "12300 "
       ]
      },
      {
       "output_type": "stream",
       "stream": "stdout",
       "text": [
        "12400 "
       ]
      },
      {
       "output_type": "stream",
       "stream": "stdout",
       "text": [
        "12500 "
       ]
      },
      {
       "output_type": "stream",
       "stream": "stdout",
       "text": [
        "12600 "
       ]
      },
      {
       "output_type": "stream",
       "stream": "stdout",
       "text": [
        "12700 "
       ]
      },
      {
       "output_type": "stream",
       "stream": "stdout",
       "text": [
        "12800 "
       ]
      },
      {
       "output_type": "stream",
       "stream": "stdout",
       "text": [
        "12900 "
       ]
      },
      {
       "output_type": "stream",
       "stream": "stdout",
       "text": [
        "13000 "
       ]
      },
      {
       "output_type": "stream",
       "stream": "stdout",
       "text": [
        "13100 "
       ]
      },
      {
       "output_type": "stream",
       "stream": "stdout",
       "text": [
        "13200 "
       ]
      },
      {
       "output_type": "stream",
       "stream": "stdout",
       "text": [
        "13300 "
       ]
      },
      {
       "output_type": "stream",
       "stream": "stdout",
       "text": [
        "13400 "
       ]
      },
      {
       "output_type": "stream",
       "stream": "stdout",
       "text": [
        "13500 "
       ]
      },
      {
       "output_type": "stream",
       "stream": "stdout",
       "text": [
        "13600 "
       ]
      },
      {
       "output_type": "stream",
       "stream": "stdout",
       "text": [
        "13700 "
       ]
      },
      {
       "output_type": "stream",
       "stream": "stdout",
       "text": [
        "13800 "
       ]
      },
      {
       "output_type": "stream",
       "stream": "stdout",
       "text": [
        "13900 "
       ]
      },
      {
       "output_type": "stream",
       "stream": "stdout",
       "text": [
        "14000 "
       ]
      },
      {
       "output_type": "stream",
       "stream": "stdout",
       "text": [
        "14100 "
       ]
      },
      {
       "output_type": "stream",
       "stream": "stdout",
       "text": [
        "14200 "
       ]
      },
      {
       "output_type": "stream",
       "stream": "stdout",
       "text": [
        "14300 "
       ]
      },
      {
       "output_type": "stream",
       "stream": "stdout",
       "text": [
        "14400 "
       ]
      },
      {
       "output_type": "stream",
       "stream": "stdout",
       "text": [
        "14500 "
       ]
      },
      {
       "output_type": "stream",
       "stream": "stdout",
       "text": [
        "14600 "
       ]
      },
      {
       "output_type": "stream",
       "stream": "stdout",
       "text": [
        "14700 "
       ]
      },
      {
       "output_type": "stream",
       "stream": "stdout",
       "text": [
        "14800 "
       ]
      },
      {
       "output_type": "stream",
       "stream": "stdout",
       "text": [
        "14900 "
       ]
      },
      {
       "output_type": "stream",
       "stream": "stdout",
       "text": [
        "15000 "
       ]
      },
      {
       "output_type": "stream",
       "stream": "stdout",
       "text": [
        "15100 "
       ]
      },
      {
       "output_type": "stream",
       "stream": "stdout",
       "text": [
        "15200 "
       ]
      },
      {
       "output_type": "stream",
       "stream": "stdout",
       "text": [
        "15300 "
       ]
      },
      {
       "output_type": "stream",
       "stream": "stdout",
       "text": [
        "15400 "
       ]
      },
      {
       "output_type": "stream",
       "stream": "stdout",
       "text": [
        "15500 "
       ]
      },
      {
       "output_type": "stream",
       "stream": "stdout",
       "text": [
        "15600 "
       ]
      },
      {
       "output_type": "stream",
       "stream": "stdout",
       "text": [
        "15700 "
       ]
      },
      {
       "output_type": "stream",
       "stream": "stdout",
       "text": [
        "15800 "
       ]
      },
      {
       "output_type": "stream",
       "stream": "stdout",
       "text": [
        "15900 "
       ]
      },
      {
       "output_type": "stream",
       "stream": "stdout",
       "text": [
        "16000 "
       ]
      },
      {
       "output_type": "stream",
       "stream": "stdout",
       "text": [
        "16100 "
       ]
      },
      {
       "output_type": "stream",
       "stream": "stdout",
       "text": [
        "16200 "
       ]
      },
      {
       "output_type": "stream",
       "stream": "stdout",
       "text": [
        "16300 "
       ]
      },
      {
       "output_type": "stream",
       "stream": "stdout",
       "text": [
        "16400 "
       ]
      },
      {
       "output_type": "stream",
       "stream": "stdout",
       "text": [
        "16500 "
       ]
      },
      {
       "output_type": "stream",
       "stream": "stdout",
       "text": [
        "16600 "
       ]
      },
      {
       "output_type": "stream",
       "stream": "stdout",
       "text": [
        "16700 "
       ]
      },
      {
       "output_type": "stream",
       "stream": "stdout",
       "text": [
        "16800 "
       ]
      },
      {
       "output_type": "stream",
       "stream": "stdout",
       "text": [
        "16900 "
       ]
      },
      {
       "output_type": "stream",
       "stream": "stdout",
       "text": [
        "17000 "
       ]
      },
      {
       "output_type": "stream",
       "stream": "stdout",
       "text": [
        "17100 "
       ]
      },
      {
       "output_type": "stream",
       "stream": "stdout",
       "text": [
        "17200 "
       ]
      },
      {
       "output_type": "stream",
       "stream": "stdout",
       "text": [
        "17300 "
       ]
      },
      {
       "output_type": "stream",
       "stream": "stdout",
       "text": [
        "17400 "
       ]
      },
      {
       "output_type": "stream",
       "stream": "stdout",
       "text": [
        "17500 "
       ]
      },
      {
       "output_type": "stream",
       "stream": "stdout",
       "text": [
        "17600 "
       ]
      },
      {
       "output_type": "stream",
       "stream": "stdout",
       "text": [
        "17700 "
       ]
      },
      {
       "output_type": "stream",
       "stream": "stdout",
       "text": [
        "17800 "
       ]
      },
      {
       "output_type": "stream",
       "stream": "stdout",
       "text": [
        "17900 "
       ]
      },
      {
       "output_type": "stream",
       "stream": "stdout",
       "text": [
        "18000 "
       ]
      },
      {
       "output_type": "stream",
       "stream": "stdout",
       "text": [
        "18100 "
       ]
      },
      {
       "output_type": "stream",
       "stream": "stdout",
       "text": [
        "18200 "
       ]
      },
      {
       "output_type": "stream",
       "stream": "stdout",
       "text": [
        "18300 "
       ]
      },
      {
       "output_type": "stream",
       "stream": "stdout",
       "text": [
        "18400 "
       ]
      },
      {
       "output_type": "stream",
       "stream": "stdout",
       "text": [
        "18500 "
       ]
      },
      {
       "output_type": "stream",
       "stream": "stdout",
       "text": [
        "18600 "
       ]
      },
      {
       "output_type": "stream",
       "stream": "stdout",
       "text": [
        "18700 "
       ]
      },
      {
       "output_type": "stream",
       "stream": "stdout",
       "text": [
        "18800 "
       ]
      },
      {
       "output_type": "stream",
       "stream": "stdout",
       "text": [
        "18900 "
       ]
      },
      {
       "output_type": "stream",
       "stream": "stdout",
       "text": [
        "19000 "
       ]
      },
      {
       "output_type": "stream",
       "stream": "stdout",
       "text": [
        "19100 "
       ]
      },
      {
       "output_type": "stream",
       "stream": "stdout",
       "text": [
        "19200 "
       ]
      },
      {
       "output_type": "stream",
       "stream": "stdout",
       "text": [
        "19300 "
       ]
      },
      {
       "output_type": "stream",
       "stream": "stdout",
       "text": [
        "19400 "
       ]
      },
      {
       "output_type": "stream",
       "stream": "stdout",
       "text": [
        "19500 "
       ]
      },
      {
       "output_type": "stream",
       "stream": "stdout",
       "text": [
        "19600 "
       ]
      },
      {
       "output_type": "stream",
       "stream": "stdout",
       "text": [
        "19700 "
       ]
      },
      {
       "output_type": "stream",
       "stream": "stdout",
       "text": [
        "19800 "
       ]
      },
      {
       "output_type": "stream",
       "stream": "stdout",
       "text": [
        "19900 "
       ]
      },
      {
       "output_type": "stream",
       "stream": "stdout",
       "text": [
        "20000 "
       ]
      },
      {
       "output_type": "stream",
       "stream": "stdout",
       "text": [
        "20100 "
       ]
      },
      {
       "output_type": "stream",
       "stream": "stdout",
       "text": [
        "20200 "
       ]
      },
      {
       "output_type": "stream",
       "stream": "stdout",
       "text": [
        "20300 "
       ]
      },
      {
       "output_type": "stream",
       "stream": "stdout",
       "text": [
        "20400 "
       ]
      },
      {
       "output_type": "stream",
       "stream": "stdout",
       "text": [
        "20500 "
       ]
      },
      {
       "output_type": "stream",
       "stream": "stdout",
       "text": [
        "20600 "
       ]
      },
      {
       "output_type": "stream",
       "stream": "stdout",
       "text": [
        "20700 "
       ]
      },
      {
       "output_type": "stream",
       "stream": "stdout",
       "text": [
        "20800 "
       ]
      },
      {
       "output_type": "stream",
       "stream": "stdout",
       "text": [
        "20900 "
       ]
      },
      {
       "output_type": "stream",
       "stream": "stdout",
       "text": [
        "21000 "
       ]
      },
      {
       "output_type": "stream",
       "stream": "stdout",
       "text": [
        "21100 "
       ]
      },
      {
       "output_type": "stream",
       "stream": "stdout",
       "text": [
        "21200 "
       ]
      },
      {
       "output_type": "stream",
       "stream": "stdout",
       "text": [
        "21300 "
       ]
      },
      {
       "output_type": "stream",
       "stream": "stdout",
       "text": [
        "21400 "
       ]
      },
      {
       "output_type": "stream",
       "stream": "stdout",
       "text": [
        "21500 "
       ]
      },
      {
       "output_type": "stream",
       "stream": "stdout",
       "text": [
        "21600 "
       ]
      },
      {
       "output_type": "stream",
       "stream": "stdout",
       "text": [
        "21700 "
       ]
      },
      {
       "output_type": "stream",
       "stream": "stdout",
       "text": [
        "21800 "
       ]
      },
      {
       "output_type": "stream",
       "stream": "stdout",
       "text": [
        "21900 "
       ]
      },
      {
       "output_type": "stream",
       "stream": "stdout",
       "text": [
        "22000 "
       ]
      },
      {
       "output_type": "stream",
       "stream": "stdout",
       "text": [
        "22100 "
       ]
      },
      {
       "output_type": "stream",
       "stream": "stdout",
       "text": [
        "22200 "
       ]
      },
      {
       "output_type": "stream",
       "stream": "stdout",
       "text": [
        "22300 "
       ]
      },
      {
       "output_type": "stream",
       "stream": "stdout",
       "text": [
        "22400 "
       ]
      },
      {
       "output_type": "stream",
       "stream": "stdout",
       "text": [
        "22500 "
       ]
      },
      {
       "output_type": "stream",
       "stream": "stdout",
       "text": [
        "22600 "
       ]
      },
      {
       "output_type": "stream",
       "stream": "stdout",
       "text": [
        "22700 "
       ]
      },
      {
       "output_type": "stream",
       "stream": "stdout",
       "text": [
        "22800 "
       ]
      },
      {
       "output_type": "stream",
       "stream": "stdout",
       "text": [
        "22900 "
       ]
      },
      {
       "output_type": "stream",
       "stream": "stdout",
       "text": [
        "23000 "
       ]
      },
      {
       "output_type": "stream",
       "stream": "stdout",
       "text": [
        "23100 "
       ]
      },
      {
       "output_type": "stream",
       "stream": "stdout",
       "text": [
        "23200 "
       ]
      },
      {
       "output_type": "stream",
       "stream": "stdout",
       "text": [
        "23300 "
       ]
      },
      {
       "output_type": "stream",
       "stream": "stdout",
       "text": [
        "23400 "
       ]
      },
      {
       "output_type": "stream",
       "stream": "stdout",
       "text": [
        "23500 "
       ]
      },
      {
       "output_type": "stream",
       "stream": "stdout",
       "text": [
        "23600 "
       ]
      },
      {
       "output_type": "stream",
       "stream": "stdout",
       "text": [
        "23700 "
       ]
      },
      {
       "output_type": "stream",
       "stream": "stdout",
       "text": [
        "23800 "
       ]
      },
      {
       "output_type": "stream",
       "stream": "stdout",
       "text": [
        "23900 "
       ]
      },
      {
       "output_type": "stream",
       "stream": "stdout",
       "text": [
        "24000 "
       ]
      },
      {
       "output_type": "stream",
       "stream": "stdout",
       "text": [
        "24100 "
       ]
      },
      {
       "output_type": "stream",
       "stream": "stdout",
       "text": [
        "24200 "
       ]
      },
      {
       "output_type": "stream",
       "stream": "stdout",
       "text": [
        "24300 "
       ]
      },
      {
       "output_type": "stream",
       "stream": "stdout",
       "text": [
        "24400 "
       ]
      },
      {
       "output_type": "stream",
       "stream": "stdout",
       "text": [
        "24500 "
       ]
      },
      {
       "output_type": "stream",
       "stream": "stdout",
       "text": [
        "24600 "
       ]
      },
      {
       "output_type": "stream",
       "stream": "stdout",
       "text": [
        "24700 "
       ]
      },
      {
       "output_type": "stream",
       "stream": "stdout",
       "text": [
        "24800 "
       ]
      },
      {
       "output_type": "stream",
       "stream": "stdout",
       "text": [
        "24900 "
       ]
      },
      {
       "output_type": "stream",
       "stream": "stdout",
       "text": [
        "25000 "
       ]
      },
      {
       "output_type": "stream",
       "stream": "stdout",
       "text": [
        "25100 "
       ]
      },
      {
       "output_type": "stream",
       "stream": "stdout",
       "text": [
        "25200 "
       ]
      },
      {
       "output_type": "stream",
       "stream": "stdout",
       "text": [
        "25300 "
       ]
      },
      {
       "output_type": "stream",
       "stream": "stdout",
       "text": [
        "25400 "
       ]
      },
      {
       "output_type": "stream",
       "stream": "stdout",
       "text": [
        "25500 "
       ]
      },
      {
       "output_type": "stream",
       "stream": "stdout",
       "text": [
        "25600 "
       ]
      },
      {
       "output_type": "stream",
       "stream": "stdout",
       "text": [
        "25700 "
       ]
      },
      {
       "output_type": "stream",
       "stream": "stdout",
       "text": [
        "25800 "
       ]
      },
      {
       "output_type": "stream",
       "stream": "stdout",
       "text": [
        "25900 "
       ]
      },
      {
       "output_type": "stream",
       "stream": "stdout",
       "text": [
        "26000 "
       ]
      },
      {
       "output_type": "stream",
       "stream": "stdout",
       "text": [
        "26100 "
       ]
      },
      {
       "output_type": "stream",
       "stream": "stdout",
       "text": [
        "26200 "
       ]
      },
      {
       "output_type": "stream",
       "stream": "stdout",
       "text": [
        "26300 "
       ]
      },
      {
       "output_type": "stream",
       "stream": "stdout",
       "text": [
        "26400 "
       ]
      },
      {
       "output_type": "stream",
       "stream": "stdout",
       "text": [
        "26500 "
       ]
      },
      {
       "output_type": "stream",
       "stream": "stdout",
       "text": [
        "26600 "
       ]
      },
      {
       "output_type": "stream",
       "stream": "stdout",
       "text": [
        "26700 "
       ]
      },
      {
       "output_type": "stream",
       "stream": "stdout",
       "text": [
        "26800 "
       ]
      },
      {
       "output_type": "stream",
       "stream": "stdout",
       "text": [
        "26900 "
       ]
      },
      {
       "output_type": "stream",
       "stream": "stdout",
       "text": [
        "27000 "
       ]
      },
      {
       "output_type": "stream",
       "stream": "stdout",
       "text": [
        "27100 "
       ]
      },
      {
       "output_type": "stream",
       "stream": "stdout",
       "text": [
        "27200 "
       ]
      },
      {
       "output_type": "stream",
       "stream": "stdout",
       "text": [
        "27300 "
       ]
      },
      {
       "output_type": "stream",
       "stream": "stdout",
       "text": [
        "27400 "
       ]
      },
      {
       "output_type": "stream",
       "stream": "stdout",
       "text": [
        "27500 "
       ]
      },
      {
       "output_type": "stream",
       "stream": "stdout",
       "text": [
        "27600 "
       ]
      },
      {
       "output_type": "stream",
       "stream": "stdout",
       "text": [
        "27700 "
       ]
      },
      {
       "output_type": "stream",
       "stream": "stdout",
       "text": [
        "27800 "
       ]
      },
      {
       "output_type": "stream",
       "stream": "stdout",
       "text": [
        "27900 "
       ]
      },
      {
       "output_type": "stream",
       "stream": "stdout",
       "text": [
        "28000 "
       ]
      },
      {
       "output_type": "stream",
       "stream": "stdout",
       "text": [
        "28100 "
       ]
      },
      {
       "output_type": "stream",
       "stream": "stdout",
       "text": [
        "28200 "
       ]
      },
      {
       "output_type": "stream",
       "stream": "stdout",
       "text": [
        "28300 "
       ]
      },
      {
       "output_type": "stream",
       "stream": "stdout",
       "text": [
        "28400 "
       ]
      },
      {
       "output_type": "stream",
       "stream": "stdout",
       "text": [
        "28500 "
       ]
      },
      {
       "output_type": "stream",
       "stream": "stdout",
       "text": [
        "28600 "
       ]
      },
      {
       "output_type": "stream",
       "stream": "stdout",
       "text": [
        "28700 "
       ]
      },
      {
       "output_type": "stream",
       "stream": "stdout",
       "text": [
        "28800 "
       ]
      },
      {
       "output_type": "stream",
       "stream": "stdout",
       "text": [
        "28900 "
       ]
      },
      {
       "output_type": "stream",
       "stream": "stdout",
       "text": [
        "29000 "
       ]
      },
      {
       "output_type": "stream",
       "stream": "stdout",
       "text": [
        "29100 "
       ]
      },
      {
       "output_type": "stream",
       "stream": "stdout",
       "text": [
        "29200 "
       ]
      },
      {
       "output_type": "stream",
       "stream": "stdout",
       "text": [
        "29300 "
       ]
      },
      {
       "output_type": "stream",
       "stream": "stdout",
       "text": [
        "29400 "
       ]
      },
      {
       "output_type": "stream",
       "stream": "stdout",
       "text": [
        "29500 "
       ]
      },
      {
       "output_type": "stream",
       "stream": "stdout",
       "text": [
        "29600 "
       ]
      },
      {
       "output_type": "stream",
       "stream": "stdout",
       "text": [
        "29700 "
       ]
      },
      {
       "output_type": "stream",
       "stream": "stdout",
       "text": [
        "29800 "
       ]
      },
      {
       "output_type": "stream",
       "stream": "stdout",
       "text": [
        "29900 "
       ]
      },
      {
       "output_type": "stream",
       "stream": "stdout",
       "text": [
        "30000 "
       ]
      },
      {
       "output_type": "stream",
       "stream": "stdout",
       "text": [
        "30100 "
       ]
      },
      {
       "output_type": "stream",
       "stream": "stdout",
       "text": [
        "30200 "
       ]
      },
      {
       "output_type": "stream",
       "stream": "stdout",
       "text": [
        "30300 "
       ]
      },
      {
       "output_type": "stream",
       "stream": "stdout",
       "text": [
        "30400 "
       ]
      },
      {
       "output_type": "stream",
       "stream": "stdout",
       "text": [
        "30500 "
       ]
      },
      {
       "output_type": "stream",
       "stream": "stdout",
       "text": [
        "30600 "
       ]
      },
      {
       "output_type": "stream",
       "stream": "stdout",
       "text": [
        "30700 "
       ]
      },
      {
       "output_type": "stream",
       "stream": "stdout",
       "text": [
        "30800 "
       ]
      },
      {
       "output_type": "stream",
       "stream": "stdout",
       "text": [
        "30900 "
       ]
      },
      {
       "output_type": "stream",
       "stream": "stdout",
       "text": [
        "31000 "
       ]
      },
      {
       "output_type": "stream",
       "stream": "stdout",
       "text": [
        "31100 "
       ]
      },
      {
       "output_type": "stream",
       "stream": "stdout",
       "text": [
        "31200 "
       ]
      },
      {
       "output_type": "stream",
       "stream": "stdout",
       "text": [
        "31300 "
       ]
      },
      {
       "output_type": "stream",
       "stream": "stdout",
       "text": [
        "31400 "
       ]
      },
      {
       "output_type": "stream",
       "stream": "stdout",
       "text": [
        "31500 "
       ]
      },
      {
       "output_type": "stream",
       "stream": "stdout",
       "text": [
        "31600 "
       ]
      },
      {
       "output_type": "stream",
       "stream": "stdout",
       "text": [
        "31700 "
       ]
      },
      {
       "output_type": "stream",
       "stream": "stdout",
       "text": [
        "31800 "
       ]
      },
      {
       "output_type": "stream",
       "stream": "stdout",
       "text": [
        "31900 "
       ]
      },
      {
       "output_type": "stream",
       "stream": "stdout",
       "text": [
        "32000 "
       ]
      },
      {
       "output_type": "stream",
       "stream": "stdout",
       "text": [
        "32100 "
       ]
      },
      {
       "output_type": "stream",
       "stream": "stdout",
       "text": [
        "32200 "
       ]
      },
      {
       "output_type": "stream",
       "stream": "stdout",
       "text": [
        "32300 "
       ]
      },
      {
       "output_type": "stream",
       "stream": "stdout",
       "text": [
        "32400 "
       ]
      },
      {
       "output_type": "stream",
       "stream": "stdout",
       "text": [
        "32500 "
       ]
      },
      {
       "output_type": "stream",
       "stream": "stdout",
       "text": [
        "32600 "
       ]
      },
      {
       "output_type": "stream",
       "stream": "stdout",
       "text": [
        "32700 "
       ]
      },
      {
       "output_type": "stream",
       "stream": "stdout",
       "text": [
        "32800 "
       ]
      },
      {
       "output_type": "stream",
       "stream": "stdout",
       "text": [
        "32900 "
       ]
      },
      {
       "output_type": "stream",
       "stream": "stdout",
       "text": [
        "33000 "
       ]
      },
      {
       "output_type": "stream",
       "stream": "stdout",
       "text": [
        "33100 "
       ]
      },
      {
       "output_type": "stream",
       "stream": "stdout",
       "text": [
        "33200 "
       ]
      },
      {
       "output_type": "stream",
       "stream": "stdout",
       "text": [
        "33300 "
       ]
      },
      {
       "output_type": "stream",
       "stream": "stdout",
       "text": [
        "33400 "
       ]
      },
      {
       "output_type": "stream",
       "stream": "stdout",
       "text": [
        "33500 "
       ]
      },
      {
       "output_type": "stream",
       "stream": "stdout",
       "text": [
        "33600 "
       ]
      },
      {
       "output_type": "stream",
       "stream": "stdout",
       "text": [
        "33700 "
       ]
      },
      {
       "output_type": "stream",
       "stream": "stdout",
       "text": [
        "33800 "
       ]
      },
      {
       "output_type": "stream",
       "stream": "stdout",
       "text": [
        "33900 "
       ]
      },
      {
       "output_type": "stream",
       "stream": "stdout",
       "text": [
        "34000 "
       ]
      },
      {
       "output_type": "stream",
       "stream": "stdout",
       "text": [
        "34100 "
       ]
      },
      {
       "output_type": "stream",
       "stream": "stdout",
       "text": [
        "34200 "
       ]
      },
      {
       "output_type": "stream",
       "stream": "stdout",
       "text": [
        "34300 "
       ]
      },
      {
       "output_type": "stream",
       "stream": "stdout",
       "text": [
        "34400 "
       ]
      },
      {
       "output_type": "stream",
       "stream": "stdout",
       "text": [
        "34500 "
       ]
      },
      {
       "output_type": "stream",
       "stream": "stdout",
       "text": [
        "34600 "
       ]
      },
      {
       "output_type": "stream",
       "stream": "stdout",
       "text": [
        "34700 "
       ]
      },
      {
       "output_type": "stream",
       "stream": "stdout",
       "text": [
        "34800 "
       ]
      },
      {
       "output_type": "stream",
       "stream": "stdout",
       "text": [
        "34900 "
       ]
      },
      {
       "output_type": "stream",
       "stream": "stdout",
       "text": [
        "35000 "
       ]
      },
      {
       "output_type": "stream",
       "stream": "stdout",
       "text": [
        "35100 "
       ]
      },
      {
       "output_type": "stream",
       "stream": "stdout",
       "text": [
        "35200 "
       ]
      },
      {
       "output_type": "stream",
       "stream": "stdout",
       "text": [
        "35300 "
       ]
      },
      {
       "output_type": "stream",
       "stream": "stdout",
       "text": [
        "35400 "
       ]
      },
      {
       "output_type": "stream",
       "stream": "stdout",
       "text": [
        "35500 "
       ]
      },
      {
       "output_type": "stream",
       "stream": "stdout",
       "text": [
        "35600 "
       ]
      },
      {
       "output_type": "stream",
       "stream": "stdout",
       "text": [
        "35700 "
       ]
      },
      {
       "output_type": "stream",
       "stream": "stdout",
       "text": [
        "35800 "
       ]
      },
      {
       "output_type": "stream",
       "stream": "stdout",
       "text": [
        "35900 "
       ]
      },
      {
       "output_type": "stream",
       "stream": "stdout",
       "text": [
        "36000 "
       ]
      },
      {
       "output_type": "stream",
       "stream": "stdout",
       "text": [
        "36100 "
       ]
      },
      {
       "output_type": "stream",
       "stream": "stdout",
       "text": [
        "36200 "
       ]
      },
      {
       "output_type": "stream",
       "stream": "stdout",
       "text": [
        "36300 "
       ]
      },
      {
       "output_type": "stream",
       "stream": "stdout",
       "text": [
        "36400 "
       ]
      },
      {
       "output_type": "stream",
       "stream": "stdout",
       "text": [
        "36500 "
       ]
      },
      {
       "output_type": "stream",
       "stream": "stdout",
       "text": [
        "36600 "
       ]
      },
      {
       "output_type": "stream",
       "stream": "stdout",
       "text": [
        "36700 "
       ]
      },
      {
       "output_type": "stream",
       "stream": "stdout",
       "text": [
        "36800 "
       ]
      },
      {
       "output_type": "stream",
       "stream": "stdout",
       "text": [
        "36900 "
       ]
      },
      {
       "output_type": "stream",
       "stream": "stdout",
       "text": [
        "37000 "
       ]
      },
      {
       "output_type": "stream",
       "stream": "stdout",
       "text": [
        "37100 "
       ]
      },
      {
       "output_type": "stream",
       "stream": "stdout",
       "text": [
        "37200 "
       ]
      },
      {
       "output_type": "stream",
       "stream": "stdout",
       "text": [
        "37300 "
       ]
      },
      {
       "output_type": "stream",
       "stream": "stdout",
       "text": [
        "37400 "
       ]
      },
      {
       "output_type": "stream",
       "stream": "stdout",
       "text": [
        "37500 "
       ]
      },
      {
       "output_type": "stream",
       "stream": "stdout",
       "text": [
        "37600 "
       ]
      },
      {
       "output_type": "stream",
       "stream": "stdout",
       "text": [
        "37700 "
       ]
      },
      {
       "output_type": "stream",
       "stream": "stdout",
       "text": [
        "37800 "
       ]
      },
      {
       "output_type": "stream",
       "stream": "stdout",
       "text": [
        "37900 "
       ]
      },
      {
       "output_type": "stream",
       "stream": "stdout",
       "text": [
        "38000 "
       ]
      },
      {
       "output_type": "stream",
       "stream": "stdout",
       "text": [
        "38100 "
       ]
      },
      {
       "output_type": "stream",
       "stream": "stdout",
       "text": [
        "38200 "
       ]
      },
      {
       "output_type": "stream",
       "stream": "stdout",
       "text": [
        "38300 "
       ]
      },
      {
       "output_type": "stream",
       "stream": "stdout",
       "text": [
        "38400 "
       ]
      },
      {
       "output_type": "stream",
       "stream": "stdout",
       "text": [
        "38500 "
       ]
      },
      {
       "output_type": "stream",
       "stream": "stdout",
       "text": [
        "38600 "
       ]
      },
      {
       "output_type": "stream",
       "stream": "stdout",
       "text": [
        "38700 "
       ]
      },
      {
       "output_type": "stream",
       "stream": "stdout",
       "text": [
        "38800 "
       ]
      },
      {
       "output_type": "stream",
       "stream": "stdout",
       "text": [
        "38900 "
       ]
      },
      {
       "output_type": "stream",
       "stream": "stdout",
       "text": [
        "39000 "
       ]
      },
      {
       "output_type": "stream",
       "stream": "stdout",
       "text": [
        "39100 "
       ]
      },
      {
       "output_type": "stream",
       "stream": "stdout",
       "text": [
        "39200 "
       ]
      },
      {
       "output_type": "stream",
       "stream": "stdout",
       "text": [
        "39300 "
       ]
      },
      {
       "output_type": "stream",
       "stream": "stdout",
       "text": [
        "39400 "
       ]
      },
      {
       "output_type": "stream",
       "stream": "stdout",
       "text": [
        "39500 "
       ]
      },
      {
       "output_type": "stream",
       "stream": "stdout",
       "text": [
        "39600 "
       ]
      },
      {
       "output_type": "stream",
       "stream": "stdout",
       "text": [
        "39700 "
       ]
      },
      {
       "output_type": "stream",
       "stream": "stdout",
       "text": [
        "39800 "
       ]
      },
      {
       "output_type": "stream",
       "stream": "stdout",
       "text": [
        "39900 "
       ]
      },
      {
       "output_type": "stream",
       "stream": "stdout",
       "text": [
        "40000 "
       ]
      },
      {
       "output_type": "stream",
       "stream": "stdout",
       "text": [
        "40100 "
       ]
      },
      {
       "output_type": "stream",
       "stream": "stdout",
       "text": [
        "40200 "
       ]
      },
      {
       "output_type": "stream",
       "stream": "stdout",
       "text": [
        "40300 "
       ]
      },
      {
       "output_type": "stream",
       "stream": "stdout",
       "text": [
        "40400 "
       ]
      },
      {
       "output_type": "stream",
       "stream": "stdout",
       "text": [
        "40500 "
       ]
      },
      {
       "output_type": "stream",
       "stream": "stdout",
       "text": [
        "40600 "
       ]
      },
      {
       "output_type": "stream",
       "stream": "stdout",
       "text": [
        "40700 "
       ]
      },
      {
       "output_type": "stream",
       "stream": "stdout",
       "text": [
        "40800 "
       ]
      },
      {
       "output_type": "stream",
       "stream": "stdout",
       "text": [
        "40900 "
       ]
      },
      {
       "output_type": "stream",
       "stream": "stdout",
       "text": [
        "41000 "
       ]
      },
      {
       "output_type": "stream",
       "stream": "stdout",
       "text": [
        "41100 "
       ]
      },
      {
       "output_type": "stream",
       "stream": "stdout",
       "text": [
        "41200 "
       ]
      },
      {
       "output_type": "stream",
       "stream": "stdout",
       "text": [
        "41300 "
       ]
      },
      {
       "output_type": "stream",
       "stream": "stdout",
       "text": [
        "41400 "
       ]
      },
      {
       "output_type": "stream",
       "stream": "stdout",
       "text": [
        "41500 "
       ]
      },
      {
       "output_type": "stream",
       "stream": "stdout",
       "text": [
        "41600 "
       ]
      },
      {
       "output_type": "stream",
       "stream": "stdout",
       "text": [
        "41700 "
       ]
      },
      {
       "output_type": "stream",
       "stream": "stdout",
       "text": [
        "41800 "
       ]
      },
      {
       "output_type": "stream",
       "stream": "stdout",
       "text": [
        "41900 "
       ]
      },
      {
       "output_type": "stream",
       "stream": "stdout",
       "text": [
        "42000 "
       ]
      },
      {
       "output_type": "stream",
       "stream": "stdout",
       "text": [
        "42100 "
       ]
      },
      {
       "output_type": "stream",
       "stream": "stdout",
       "text": [
        "42200 "
       ]
      },
      {
       "output_type": "stream",
       "stream": "stdout",
       "text": [
        "42300 "
       ]
      },
      {
       "output_type": "stream",
       "stream": "stdout",
       "text": [
        "42400 "
       ]
      },
      {
       "output_type": "stream",
       "stream": "stdout",
       "text": [
        "42500 "
       ]
      },
      {
       "output_type": "stream",
       "stream": "stdout",
       "text": [
        "42600 "
       ]
      },
      {
       "output_type": "stream",
       "stream": "stdout",
       "text": [
        "42700 "
       ]
      },
      {
       "output_type": "stream",
       "stream": "stdout",
       "text": [
        "42800 "
       ]
      },
      {
       "output_type": "stream",
       "stream": "stdout",
       "text": [
        "42900 "
       ]
      },
      {
       "output_type": "stream",
       "stream": "stdout",
       "text": [
        "43000 "
       ]
      },
      {
       "output_type": "stream",
       "stream": "stdout",
       "text": [
        "43100 "
       ]
      },
      {
       "output_type": "stream",
       "stream": "stdout",
       "text": [
        "43200 "
       ]
      },
      {
       "output_type": "stream",
       "stream": "stdout",
       "text": [
        "43300 "
       ]
      },
      {
       "output_type": "stream",
       "stream": "stdout",
       "text": [
        "43400 "
       ]
      },
      {
       "output_type": "stream",
       "stream": "stdout",
       "text": [
        "43500 "
       ]
      },
      {
       "output_type": "stream",
       "stream": "stdout",
       "text": [
        "43600 "
       ]
      },
      {
       "output_type": "stream",
       "stream": "stdout",
       "text": [
        "43700 "
       ]
      },
      {
       "output_type": "stream",
       "stream": "stdout",
       "text": [
        "43800 "
       ]
      },
      {
       "output_type": "stream",
       "stream": "stdout",
       "text": [
        "43900 "
       ]
      },
      {
       "output_type": "stream",
       "stream": "stdout",
       "text": [
        "44000 "
       ]
      },
      {
       "output_type": "stream",
       "stream": "stdout",
       "text": [
        "44100 "
       ]
      },
      {
       "output_type": "stream",
       "stream": "stdout",
       "text": [
        "44200 "
       ]
      },
      {
       "output_type": "stream",
       "stream": "stdout",
       "text": [
        "44300 "
       ]
      },
      {
       "output_type": "stream",
       "stream": "stdout",
       "text": [
        "44400 "
       ]
      },
      {
       "output_type": "stream",
       "stream": "stdout",
       "text": [
        "44500 "
       ]
      },
      {
       "output_type": "stream",
       "stream": "stdout",
       "text": [
        "44600 "
       ]
      },
      {
       "output_type": "stream",
       "stream": "stdout",
       "text": [
        "44700 "
       ]
      },
      {
       "output_type": "stream",
       "stream": "stdout",
       "text": [
        "44800 "
       ]
      },
      {
       "output_type": "stream",
       "stream": "stdout",
       "text": [
        "44900 "
       ]
      },
      {
       "output_type": "stream",
       "stream": "stdout",
       "text": [
        "45000 "
       ]
      },
      {
       "output_type": "stream",
       "stream": "stdout",
       "text": [
        "45100 "
       ]
      },
      {
       "output_type": "stream",
       "stream": "stdout",
       "text": [
        "45200 "
       ]
      },
      {
       "output_type": "stream",
       "stream": "stdout",
       "text": [
        "45300 "
       ]
      },
      {
       "output_type": "stream",
       "stream": "stdout",
       "text": [
        "45400 "
       ]
      },
      {
       "output_type": "stream",
       "stream": "stdout",
       "text": [
        "45500 "
       ]
      },
      {
       "output_type": "stream",
       "stream": "stdout",
       "text": [
        "45600 "
       ]
      },
      {
       "output_type": "stream",
       "stream": "stdout",
       "text": [
        "45700 "
       ]
      },
      {
       "output_type": "stream",
       "stream": "stdout",
       "text": [
        "45800 "
       ]
      },
      {
       "output_type": "stream",
       "stream": "stdout",
       "text": [
        "45900 "
       ]
      },
      {
       "output_type": "stream",
       "stream": "stdout",
       "text": [
        "46000\n"
       ]
      }
     ],
     "prompt_number": 100
    },
    {
     "cell_type": "code",
     "collapsed": false,
     "input": [
      "n = 21\n",
      "res = []\n",
      "k = 0\n",
      "for i in range(len(train)):\n",
      "    res.append(MeanNDayFromThis(n, train, train.City[i], train.Year[i], train.Month[i], train.Day[i]))\n",
      "    if ( (k % 100) == 0):\n",
      "        print k,\n",
      "    k += 1\n",
      "train[\"MeanNext21Day\"] = pd.Series(res)"
     ],
     "language": "python",
     "metadata": {},
     "outputs": [
      {
       "output_type": "stream",
       "stream": "stdout",
       "text": [
        "0 "
       ]
      },
      {
       "output_type": "stream",
       "stream": "stdout",
       "text": [
        "100 "
       ]
      },
      {
       "output_type": "stream",
       "stream": "stdout",
       "text": [
        "200 "
       ]
      },
      {
       "output_type": "stream",
       "stream": "stdout",
       "text": [
        "300 "
       ]
      },
      {
       "output_type": "stream",
       "stream": "stdout",
       "text": [
        "400 "
       ]
      },
      {
       "output_type": "stream",
       "stream": "stdout",
       "text": [
        "500 "
       ]
      },
      {
       "output_type": "stream",
       "stream": "stdout",
       "text": [
        "600 "
       ]
      },
      {
       "output_type": "stream",
       "stream": "stdout",
       "text": [
        "700 "
       ]
      },
      {
       "output_type": "stream",
       "stream": "stdout",
       "text": [
        "800 "
       ]
      },
      {
       "output_type": "stream",
       "stream": "stdout",
       "text": [
        "900 "
       ]
      },
      {
       "output_type": "stream",
       "stream": "stdout",
       "text": [
        "1000 "
       ]
      },
      {
       "output_type": "stream",
       "stream": "stdout",
       "text": [
        "1100 "
       ]
      },
      {
       "output_type": "stream",
       "stream": "stdout",
       "text": [
        "1200 "
       ]
      },
      {
       "output_type": "stream",
       "stream": "stdout",
       "text": [
        "1300 "
       ]
      },
      {
       "output_type": "stream",
       "stream": "stdout",
       "text": [
        "1400 "
       ]
      },
      {
       "output_type": "stream",
       "stream": "stdout",
       "text": [
        "1500 "
       ]
      },
      {
       "output_type": "stream",
       "stream": "stdout",
       "text": [
        "1600 "
       ]
      },
      {
       "output_type": "stream",
       "stream": "stdout",
       "text": [
        "1700 "
       ]
      },
      {
       "output_type": "stream",
       "stream": "stdout",
       "text": [
        "1800 "
       ]
      },
      {
       "output_type": "stream",
       "stream": "stdout",
       "text": [
        "1900 "
       ]
      },
      {
       "output_type": "stream",
       "stream": "stdout",
       "text": [
        "2000 "
       ]
      },
      {
       "output_type": "stream",
       "stream": "stdout",
       "text": [
        "2100 "
       ]
      },
      {
       "output_type": "stream",
       "stream": "stdout",
       "text": [
        "2200 "
       ]
      },
      {
       "output_type": "stream",
       "stream": "stdout",
       "text": [
        "2300 "
       ]
      },
      {
       "output_type": "stream",
       "stream": "stdout",
       "text": [
        "2400 "
       ]
      },
      {
       "output_type": "stream",
       "stream": "stdout",
       "text": [
        "2500 "
       ]
      },
      {
       "output_type": "stream",
       "stream": "stdout",
       "text": [
        "2600 "
       ]
      },
      {
       "output_type": "stream",
       "stream": "stdout",
       "text": [
        "2700 "
       ]
      },
      {
       "output_type": "stream",
       "stream": "stdout",
       "text": [
        "2800 "
       ]
      },
      {
       "output_type": "stream",
       "stream": "stdout",
       "text": [
        "2900 "
       ]
      },
      {
       "output_type": "stream",
       "stream": "stdout",
       "text": [
        "3000 "
       ]
      },
      {
       "output_type": "stream",
       "stream": "stdout",
       "text": [
        "3100 "
       ]
      },
      {
       "output_type": "stream",
       "stream": "stdout",
       "text": [
        "3200 "
       ]
      },
      {
       "output_type": "stream",
       "stream": "stdout",
       "text": [
        "3300 "
       ]
      },
      {
       "output_type": "stream",
       "stream": "stdout",
       "text": [
        "3400 "
       ]
      },
      {
       "output_type": "stream",
       "stream": "stdout",
       "text": [
        "3500 "
       ]
      },
      {
       "output_type": "stream",
       "stream": "stdout",
       "text": [
        "3600 "
       ]
      },
      {
       "output_type": "stream",
       "stream": "stdout",
       "text": [
        "3700 "
       ]
      },
      {
       "output_type": "stream",
       "stream": "stdout",
       "text": [
        "3800 "
       ]
      },
      {
       "output_type": "stream",
       "stream": "stdout",
       "text": [
        "3900 "
       ]
      },
      {
       "output_type": "stream",
       "stream": "stdout",
       "text": [
        "4000 "
       ]
      },
      {
       "output_type": "stream",
       "stream": "stdout",
       "text": [
        "4100 "
       ]
      },
      {
       "output_type": "stream",
       "stream": "stdout",
       "text": [
        "4200 "
       ]
      },
      {
       "output_type": "stream",
       "stream": "stdout",
       "text": [
        "4300 "
       ]
      },
      {
       "output_type": "stream",
       "stream": "stdout",
       "text": [
        "4400 "
       ]
      },
      {
       "output_type": "stream",
       "stream": "stdout",
       "text": [
        "4500 "
       ]
      },
      {
       "output_type": "stream",
       "stream": "stdout",
       "text": [
        "4600 "
       ]
      },
      {
       "output_type": "stream",
       "stream": "stdout",
       "text": [
        "4700 "
       ]
      },
      {
       "output_type": "stream",
       "stream": "stdout",
       "text": [
        "4800 "
       ]
      },
      {
       "output_type": "stream",
       "stream": "stdout",
       "text": [
        "4900 "
       ]
      },
      {
       "output_type": "stream",
       "stream": "stdout",
       "text": [
        "5000 "
       ]
      },
      {
       "output_type": "stream",
       "stream": "stdout",
       "text": [
        "5100 "
       ]
      },
      {
       "output_type": "stream",
       "stream": "stdout",
       "text": [
        "5200 "
       ]
      },
      {
       "output_type": "stream",
       "stream": "stdout",
       "text": [
        "5300 "
       ]
      },
      {
       "output_type": "stream",
       "stream": "stdout",
       "text": [
        "5400 "
       ]
      },
      {
       "output_type": "stream",
       "stream": "stdout",
       "text": [
        "5500 "
       ]
      },
      {
       "output_type": "stream",
       "stream": "stdout",
       "text": [
        "5600 "
       ]
      },
      {
       "output_type": "stream",
       "stream": "stdout",
       "text": [
        "5700 "
       ]
      },
      {
       "output_type": "stream",
       "stream": "stdout",
       "text": [
        "5800 "
       ]
      },
      {
       "output_type": "stream",
       "stream": "stdout",
       "text": [
        "5900 "
       ]
      },
      {
       "output_type": "stream",
       "stream": "stdout",
       "text": [
        "6000 "
       ]
      },
      {
       "output_type": "stream",
       "stream": "stdout",
       "text": [
        "6100 "
       ]
      },
      {
       "output_type": "stream",
       "stream": "stdout",
       "text": [
        "6200 "
       ]
      },
      {
       "output_type": "stream",
       "stream": "stdout",
       "text": [
        "6300 "
       ]
      },
      {
       "output_type": "stream",
       "stream": "stdout",
       "text": [
        "6400 "
       ]
      },
      {
       "output_type": "stream",
       "stream": "stdout",
       "text": [
        "6500 "
       ]
      },
      {
       "output_type": "stream",
       "stream": "stdout",
       "text": [
        "6600 "
       ]
      },
      {
       "output_type": "stream",
       "stream": "stdout",
       "text": [
        "6700 "
       ]
      },
      {
       "output_type": "stream",
       "stream": "stdout",
       "text": [
        "6800 "
       ]
      },
      {
       "output_type": "stream",
       "stream": "stdout",
       "text": [
        "6900 "
       ]
      },
      {
       "output_type": "stream",
       "stream": "stdout",
       "text": [
        "7000 "
       ]
      },
      {
       "output_type": "stream",
       "stream": "stdout",
       "text": [
        "7100 "
       ]
      },
      {
       "output_type": "stream",
       "stream": "stdout",
       "text": [
        "7200 "
       ]
      },
      {
       "output_type": "stream",
       "stream": "stdout",
       "text": [
        "7300 "
       ]
      },
      {
       "output_type": "stream",
       "stream": "stdout",
       "text": [
        "7400 "
       ]
      },
      {
       "output_type": "stream",
       "stream": "stdout",
       "text": [
        "7500 "
       ]
      },
      {
       "output_type": "stream",
       "stream": "stdout",
       "text": [
        "7600 "
       ]
      },
      {
       "output_type": "stream",
       "stream": "stdout",
       "text": [
        "7700 "
       ]
      },
      {
       "output_type": "stream",
       "stream": "stdout",
       "text": [
        "7800 "
       ]
      },
      {
       "output_type": "stream",
       "stream": "stdout",
       "text": [
        "7900 "
       ]
      },
      {
       "output_type": "stream",
       "stream": "stdout",
       "text": [
        "8000 "
       ]
      },
      {
       "output_type": "stream",
       "stream": "stdout",
       "text": [
        "8100 "
       ]
      },
      {
       "output_type": "stream",
       "stream": "stdout",
       "text": [
        "8200 "
       ]
      },
      {
       "output_type": "stream",
       "stream": "stdout",
       "text": [
        "8300 "
       ]
      },
      {
       "output_type": "stream",
       "stream": "stdout",
       "text": [
        "8400 "
       ]
      },
      {
       "output_type": "stream",
       "stream": "stdout",
       "text": [
        "8500 "
       ]
      },
      {
       "output_type": "stream",
       "stream": "stdout",
       "text": [
        "8600 "
       ]
      },
      {
       "output_type": "stream",
       "stream": "stdout",
       "text": [
        "8700 "
       ]
      },
      {
       "output_type": "stream",
       "stream": "stdout",
       "text": [
        "8800 "
       ]
      },
      {
       "output_type": "stream",
       "stream": "stdout",
       "text": [
        "8900 "
       ]
      },
      {
       "output_type": "stream",
       "stream": "stdout",
       "text": [
        "9000 "
       ]
      },
      {
       "output_type": "stream",
       "stream": "stdout",
       "text": [
        "9100 "
       ]
      },
      {
       "output_type": "stream",
       "stream": "stdout",
       "text": [
        "9200 "
       ]
      },
      {
       "output_type": "stream",
       "stream": "stdout",
       "text": [
        "9300 "
       ]
      },
      {
       "output_type": "stream",
       "stream": "stdout",
       "text": [
        "9400 "
       ]
      },
      {
       "output_type": "stream",
       "stream": "stdout",
       "text": [
        "9500 "
       ]
      },
      {
       "output_type": "stream",
       "stream": "stdout",
       "text": [
        "9600 "
       ]
      },
      {
       "output_type": "stream",
       "stream": "stdout",
       "text": [
        "9700 "
       ]
      },
      {
       "output_type": "stream",
       "stream": "stdout",
       "text": [
        "9800 "
       ]
      },
      {
       "output_type": "stream",
       "stream": "stdout",
       "text": [
        "9900 "
       ]
      },
      {
       "output_type": "stream",
       "stream": "stdout",
       "text": [
        "10000 "
       ]
      },
      {
       "output_type": "stream",
       "stream": "stdout",
       "text": [
        "10100 "
       ]
      },
      {
       "output_type": "stream",
       "stream": "stdout",
       "text": [
        "10200 "
       ]
      },
      {
       "output_type": "stream",
       "stream": "stdout",
       "text": [
        "10300 "
       ]
      },
      {
       "output_type": "stream",
       "stream": "stdout",
       "text": [
        "10400 "
       ]
      },
      {
       "output_type": "stream",
       "stream": "stdout",
       "text": [
        "10500 "
       ]
      },
      {
       "output_type": "stream",
       "stream": "stdout",
       "text": [
        "10600 "
       ]
      },
      {
       "output_type": "stream",
       "stream": "stdout",
       "text": [
        "10700 "
       ]
      },
      {
       "output_type": "stream",
       "stream": "stdout",
       "text": [
        "10800 "
       ]
      },
      {
       "output_type": "stream",
       "stream": "stdout",
       "text": [
        "10900 "
       ]
      },
      {
       "output_type": "stream",
       "stream": "stdout",
       "text": [
        "11000 "
       ]
      },
      {
       "output_type": "stream",
       "stream": "stdout",
       "text": [
        "11100 "
       ]
      },
      {
       "output_type": "stream",
       "stream": "stdout",
       "text": [
        "11200 "
       ]
      },
      {
       "output_type": "stream",
       "stream": "stdout",
       "text": [
        "11300 "
       ]
      },
      {
       "output_type": "stream",
       "stream": "stdout",
       "text": [
        "11400 "
       ]
      },
      {
       "output_type": "stream",
       "stream": "stdout",
       "text": [
        "11500 "
       ]
      },
      {
       "output_type": "stream",
       "stream": "stdout",
       "text": [
        "11600 "
       ]
      },
      {
       "output_type": "stream",
       "stream": "stdout",
       "text": [
        "11700 "
       ]
      },
      {
       "output_type": "stream",
       "stream": "stdout",
       "text": [
        "11800 "
       ]
      },
      {
       "output_type": "stream",
       "stream": "stdout",
       "text": [
        "11900 "
       ]
      },
      {
       "output_type": "stream",
       "stream": "stdout",
       "text": [
        "12000 "
       ]
      },
      {
       "output_type": "stream",
       "stream": "stdout",
       "text": [
        "12100 "
       ]
      },
      {
       "output_type": "stream",
       "stream": "stdout",
       "text": [
        "12200 "
       ]
      },
      {
       "output_type": "stream",
       "stream": "stdout",
       "text": [
        "12300 "
       ]
      },
      {
       "output_type": "stream",
       "stream": "stdout",
       "text": [
        "12400 "
       ]
      },
      {
       "output_type": "stream",
       "stream": "stdout",
       "text": [
        "12500 "
       ]
      },
      {
       "output_type": "stream",
       "stream": "stdout",
       "text": [
        "12600 "
       ]
      },
      {
       "output_type": "stream",
       "stream": "stdout",
       "text": [
        "12700 "
       ]
      },
      {
       "output_type": "stream",
       "stream": "stdout",
       "text": [
        "12800 "
       ]
      },
      {
       "output_type": "stream",
       "stream": "stdout",
       "text": [
        "12900 "
       ]
      },
      {
       "output_type": "stream",
       "stream": "stdout",
       "text": [
        "13000 "
       ]
      },
      {
       "output_type": "stream",
       "stream": "stdout",
       "text": [
        "13100 "
       ]
      },
      {
       "output_type": "stream",
       "stream": "stdout",
       "text": [
        "13200 "
       ]
      },
      {
       "output_type": "stream",
       "stream": "stdout",
       "text": [
        "13300 "
       ]
      },
      {
       "output_type": "stream",
       "stream": "stdout",
       "text": [
        "13400 "
       ]
      },
      {
       "output_type": "stream",
       "stream": "stdout",
       "text": [
        "13500 "
       ]
      },
      {
       "output_type": "stream",
       "stream": "stdout",
       "text": [
        "13600 "
       ]
      },
      {
       "output_type": "stream",
       "stream": "stdout",
       "text": [
        "13700 "
       ]
      },
      {
       "output_type": "stream",
       "stream": "stdout",
       "text": [
        "13800 "
       ]
      },
      {
       "output_type": "stream",
       "stream": "stdout",
       "text": [
        "13900 "
       ]
      },
      {
       "output_type": "stream",
       "stream": "stdout",
       "text": [
        "14000 "
       ]
      },
      {
       "output_type": "stream",
       "stream": "stdout",
       "text": [
        "14100 "
       ]
      },
      {
       "output_type": "stream",
       "stream": "stdout",
       "text": [
        "14200 "
       ]
      },
      {
       "output_type": "stream",
       "stream": "stdout",
       "text": [
        "14300 "
       ]
      },
      {
       "output_type": "stream",
       "stream": "stdout",
       "text": [
        "14400 "
       ]
      },
      {
       "output_type": "stream",
       "stream": "stdout",
       "text": [
        "14500 "
       ]
      },
      {
       "output_type": "stream",
       "stream": "stdout",
       "text": [
        "14600 "
       ]
      },
      {
       "output_type": "stream",
       "stream": "stdout",
       "text": [
        "14700 "
       ]
      },
      {
       "output_type": "stream",
       "stream": "stdout",
       "text": [
        "14800 "
       ]
      },
      {
       "output_type": "stream",
       "stream": "stdout",
       "text": [
        "14900 "
       ]
      },
      {
       "output_type": "stream",
       "stream": "stdout",
       "text": [
        "15000 "
       ]
      },
      {
       "output_type": "stream",
       "stream": "stdout",
       "text": [
        "15100 "
       ]
      },
      {
       "output_type": "stream",
       "stream": "stdout",
       "text": [
        "15200 "
       ]
      },
      {
       "output_type": "stream",
       "stream": "stdout",
       "text": [
        "15300 "
       ]
      },
      {
       "output_type": "stream",
       "stream": "stdout",
       "text": [
        "15400 "
       ]
      },
      {
       "output_type": "stream",
       "stream": "stdout",
       "text": [
        "15500 "
       ]
      },
      {
       "output_type": "stream",
       "stream": "stdout",
       "text": [
        "15600 "
       ]
      },
      {
       "output_type": "stream",
       "stream": "stdout",
       "text": [
        "15700 "
       ]
      },
      {
       "output_type": "stream",
       "stream": "stdout",
       "text": [
        "15800 "
       ]
      },
      {
       "output_type": "stream",
       "stream": "stdout",
       "text": [
        "15900 "
       ]
      },
      {
       "output_type": "stream",
       "stream": "stdout",
       "text": [
        "16000 "
       ]
      },
      {
       "output_type": "stream",
       "stream": "stdout",
       "text": [
        "16100 "
       ]
      },
      {
       "output_type": "stream",
       "stream": "stdout",
       "text": [
        "16200 "
       ]
      },
      {
       "output_type": "stream",
       "stream": "stdout",
       "text": [
        "16300 "
       ]
      },
      {
       "output_type": "stream",
       "stream": "stdout",
       "text": [
        "16400 "
       ]
      },
      {
       "output_type": "stream",
       "stream": "stdout",
       "text": [
        "16500 "
       ]
      },
      {
       "output_type": "stream",
       "stream": "stdout",
       "text": [
        "16600 "
       ]
      },
      {
       "output_type": "stream",
       "stream": "stdout",
       "text": [
        "16700 "
       ]
      },
      {
       "output_type": "stream",
       "stream": "stdout",
       "text": [
        "16800 "
       ]
      },
      {
       "output_type": "stream",
       "stream": "stdout",
       "text": [
        "16900 "
       ]
      },
      {
       "output_type": "stream",
       "stream": "stdout",
       "text": [
        "17000 "
       ]
      },
      {
       "output_type": "stream",
       "stream": "stdout",
       "text": [
        "17100 "
       ]
      },
      {
       "output_type": "stream",
       "stream": "stdout",
       "text": [
        "17200 "
       ]
      },
      {
       "output_type": "stream",
       "stream": "stdout",
       "text": [
        "17300 "
       ]
      },
      {
       "output_type": "stream",
       "stream": "stdout",
       "text": [
        "17400 "
       ]
      },
      {
       "output_type": "stream",
       "stream": "stdout",
       "text": [
        "17500 "
       ]
      },
      {
       "output_type": "stream",
       "stream": "stdout",
       "text": [
        "17600 "
       ]
      },
      {
       "output_type": "stream",
       "stream": "stdout",
       "text": [
        "17700 "
       ]
      },
      {
       "output_type": "stream",
       "stream": "stdout",
       "text": [
        "17800 "
       ]
      },
      {
       "output_type": "stream",
       "stream": "stdout",
       "text": [
        "17900 "
       ]
      },
      {
       "output_type": "stream",
       "stream": "stdout",
       "text": [
        "18000 "
       ]
      },
      {
       "output_type": "stream",
       "stream": "stdout",
       "text": [
        "18100 "
       ]
      },
      {
       "output_type": "stream",
       "stream": "stdout",
       "text": [
        "18200 "
       ]
      },
      {
       "output_type": "stream",
       "stream": "stdout",
       "text": [
        "18300 "
       ]
      },
      {
       "output_type": "stream",
       "stream": "stdout",
       "text": [
        "18400 "
       ]
      },
      {
       "output_type": "stream",
       "stream": "stdout",
       "text": [
        "18500 "
       ]
      },
      {
       "output_type": "stream",
       "stream": "stdout",
       "text": [
        "18600 "
       ]
      },
      {
       "output_type": "stream",
       "stream": "stdout",
       "text": [
        "18700 "
       ]
      },
      {
       "output_type": "stream",
       "stream": "stdout",
       "text": [
        "18800 "
       ]
      },
      {
       "output_type": "stream",
       "stream": "stdout",
       "text": [
        "18900 "
       ]
      },
      {
       "output_type": "stream",
       "stream": "stdout",
       "text": [
        "19000 "
       ]
      },
      {
       "output_type": "stream",
       "stream": "stdout",
       "text": [
        "19100 "
       ]
      },
      {
       "output_type": "stream",
       "stream": "stdout",
       "text": [
        "19200 "
       ]
      },
      {
       "output_type": "stream",
       "stream": "stdout",
       "text": [
        "19300 "
       ]
      },
      {
       "output_type": "stream",
       "stream": "stdout",
       "text": [
        "19400 "
       ]
      },
      {
       "output_type": "stream",
       "stream": "stdout",
       "text": [
        "19500 "
       ]
      },
      {
       "output_type": "stream",
       "stream": "stdout",
       "text": [
        "19600 "
       ]
      },
      {
       "output_type": "stream",
       "stream": "stdout",
       "text": [
        "19700 "
       ]
      },
      {
       "output_type": "stream",
       "stream": "stdout",
       "text": [
        "19800 "
       ]
      },
      {
       "output_type": "stream",
       "stream": "stdout",
       "text": [
        "19900 "
       ]
      },
      {
       "output_type": "stream",
       "stream": "stdout",
       "text": [
        "20000 "
       ]
      },
      {
       "output_type": "stream",
       "stream": "stdout",
       "text": [
        "20100 "
       ]
      },
      {
       "output_type": "stream",
       "stream": "stdout",
       "text": [
        "20200 "
       ]
      },
      {
       "output_type": "stream",
       "stream": "stdout",
       "text": [
        "20300 "
       ]
      },
      {
       "output_type": "stream",
       "stream": "stdout",
       "text": [
        "20400 "
       ]
      },
      {
       "output_type": "stream",
       "stream": "stdout",
       "text": [
        "20500 "
       ]
      },
      {
       "output_type": "stream",
       "stream": "stdout",
       "text": [
        "20600 "
       ]
      },
      {
       "output_type": "stream",
       "stream": "stdout",
       "text": [
        "20700 "
       ]
      },
      {
       "output_type": "stream",
       "stream": "stdout",
       "text": [
        "20800 "
       ]
      },
      {
       "output_type": "stream",
       "stream": "stdout",
       "text": [
        "20900 "
       ]
      },
      {
       "output_type": "stream",
       "stream": "stdout",
       "text": [
        "21000 "
       ]
      },
      {
       "output_type": "stream",
       "stream": "stdout",
       "text": [
        "21100 "
       ]
      },
      {
       "output_type": "stream",
       "stream": "stdout",
       "text": [
        "21200 "
       ]
      },
      {
       "output_type": "stream",
       "stream": "stdout",
       "text": [
        "21300 "
       ]
      },
      {
       "output_type": "stream",
       "stream": "stdout",
       "text": [
        "21400 "
       ]
      },
      {
       "output_type": "stream",
       "stream": "stdout",
       "text": [
        "21500 "
       ]
      },
      {
       "output_type": "stream",
       "stream": "stdout",
       "text": [
        "21600 "
       ]
      },
      {
       "output_type": "stream",
       "stream": "stdout",
       "text": [
        "21700 "
       ]
      },
      {
       "output_type": "stream",
       "stream": "stdout",
       "text": [
        "21800 "
       ]
      },
      {
       "output_type": "stream",
       "stream": "stdout",
       "text": [
        "21900 "
       ]
      },
      {
       "output_type": "stream",
       "stream": "stdout",
       "text": [
        "22000 "
       ]
      },
      {
       "output_type": "stream",
       "stream": "stdout",
       "text": [
        "22100 "
       ]
      },
      {
       "output_type": "stream",
       "stream": "stdout",
       "text": [
        "22200 "
       ]
      },
      {
       "output_type": "stream",
       "stream": "stdout",
       "text": [
        "22300 "
       ]
      },
      {
       "output_type": "stream",
       "stream": "stdout",
       "text": [
        "22400 "
       ]
      },
      {
       "output_type": "stream",
       "stream": "stdout",
       "text": [
        "22500 "
       ]
      },
      {
       "output_type": "stream",
       "stream": "stdout",
       "text": [
        "22600 "
       ]
      },
      {
       "output_type": "stream",
       "stream": "stdout",
       "text": [
        "22700 "
       ]
      },
      {
       "output_type": "stream",
       "stream": "stdout",
       "text": [
        "22800 "
       ]
      },
      {
       "output_type": "stream",
       "stream": "stdout",
       "text": [
        "22900 "
       ]
      },
      {
       "output_type": "stream",
       "stream": "stdout",
       "text": [
        "23000 "
       ]
      },
      {
       "output_type": "stream",
       "stream": "stdout",
       "text": [
        "23100 "
       ]
      },
      {
       "output_type": "stream",
       "stream": "stdout",
       "text": [
        "23200 "
       ]
      },
      {
       "output_type": "stream",
       "stream": "stdout",
       "text": [
        "23300 "
       ]
      },
      {
       "output_type": "stream",
       "stream": "stdout",
       "text": [
        "23400 "
       ]
      },
      {
       "output_type": "stream",
       "stream": "stdout",
       "text": [
        "23500 "
       ]
      },
      {
       "output_type": "stream",
       "stream": "stdout",
       "text": [
        "23600 "
       ]
      },
      {
       "output_type": "stream",
       "stream": "stdout",
       "text": [
        "23700 "
       ]
      },
      {
       "output_type": "stream",
       "stream": "stdout",
       "text": [
        "23800 "
       ]
      },
      {
       "output_type": "stream",
       "stream": "stdout",
       "text": [
        "23900 "
       ]
      },
      {
       "output_type": "stream",
       "stream": "stdout",
       "text": [
        "24000 "
       ]
      },
      {
       "output_type": "stream",
       "stream": "stdout",
       "text": [
        "24100 "
       ]
      },
      {
       "output_type": "stream",
       "stream": "stdout",
       "text": [
        "24200 "
       ]
      },
      {
       "output_type": "stream",
       "stream": "stdout",
       "text": [
        "24300 "
       ]
      },
      {
       "output_type": "stream",
       "stream": "stdout",
       "text": [
        "24400 "
       ]
      },
      {
       "output_type": "stream",
       "stream": "stdout",
       "text": [
        "24500 "
       ]
      },
      {
       "output_type": "stream",
       "stream": "stdout",
       "text": [
        "24600 "
       ]
      },
      {
       "output_type": "stream",
       "stream": "stdout",
       "text": [
        "24700 "
       ]
      },
      {
       "output_type": "stream",
       "stream": "stdout",
       "text": [
        "24800 "
       ]
      },
      {
       "output_type": "stream",
       "stream": "stdout",
       "text": [
        "24900 "
       ]
      },
      {
       "output_type": "stream",
       "stream": "stdout",
       "text": [
        "25000 "
       ]
      },
      {
       "output_type": "stream",
       "stream": "stdout",
       "text": [
        "25100 "
       ]
      },
      {
       "output_type": "stream",
       "stream": "stdout",
       "text": [
        "25200 "
       ]
      },
      {
       "output_type": "stream",
       "stream": "stdout",
       "text": [
        "25300 "
       ]
      },
      {
       "output_type": "stream",
       "stream": "stdout",
       "text": [
        "25400 "
       ]
      },
      {
       "output_type": "stream",
       "stream": "stdout",
       "text": [
        "25500 "
       ]
      },
      {
       "output_type": "stream",
       "stream": "stdout",
       "text": [
        "25600 "
       ]
      },
      {
       "output_type": "stream",
       "stream": "stdout",
       "text": [
        "25700 "
       ]
      },
      {
       "output_type": "stream",
       "stream": "stdout",
       "text": [
        "25800 "
       ]
      },
      {
       "output_type": "stream",
       "stream": "stdout",
       "text": [
        "25900 "
       ]
      },
      {
       "output_type": "stream",
       "stream": "stdout",
       "text": [
        "26000 "
       ]
      },
      {
       "output_type": "stream",
       "stream": "stdout",
       "text": [
        "26100 "
       ]
      },
      {
       "output_type": "stream",
       "stream": "stdout",
       "text": [
        "26200 "
       ]
      },
      {
       "output_type": "stream",
       "stream": "stdout",
       "text": [
        "26300 "
       ]
      },
      {
       "output_type": "stream",
       "stream": "stdout",
       "text": [
        "26400 "
       ]
      },
      {
       "output_type": "stream",
       "stream": "stdout",
       "text": [
        "26500 "
       ]
      },
      {
       "output_type": "stream",
       "stream": "stdout",
       "text": [
        "26600 "
       ]
      },
      {
       "output_type": "stream",
       "stream": "stdout",
       "text": [
        "26700 "
       ]
      },
      {
       "output_type": "stream",
       "stream": "stdout",
       "text": [
        "26800 "
       ]
      },
      {
       "output_type": "stream",
       "stream": "stdout",
       "text": [
        "26900 "
       ]
      },
      {
       "output_type": "stream",
       "stream": "stdout",
       "text": [
        "27000 "
       ]
      },
      {
       "output_type": "stream",
       "stream": "stdout",
       "text": [
        "27100 "
       ]
      },
      {
       "output_type": "stream",
       "stream": "stdout",
       "text": [
        "27200 "
       ]
      },
      {
       "output_type": "stream",
       "stream": "stdout",
       "text": [
        "27300 "
       ]
      },
      {
       "output_type": "stream",
       "stream": "stdout",
       "text": [
        "27400 "
       ]
      },
      {
       "output_type": "stream",
       "stream": "stdout",
       "text": [
        "27500 "
       ]
      },
      {
       "output_type": "stream",
       "stream": "stdout",
       "text": [
        "27600 "
       ]
      },
      {
       "output_type": "stream",
       "stream": "stdout",
       "text": [
        "27700 "
       ]
      },
      {
       "output_type": "stream",
       "stream": "stdout",
       "text": [
        "27800 "
       ]
      },
      {
       "output_type": "stream",
       "stream": "stdout",
       "text": [
        "27900 "
       ]
      },
      {
       "output_type": "stream",
       "stream": "stdout",
       "text": [
        "28000 "
       ]
      },
      {
       "output_type": "stream",
       "stream": "stdout",
       "text": [
        "28100 "
       ]
      },
      {
       "output_type": "stream",
       "stream": "stdout",
       "text": [
        "28200 "
       ]
      },
      {
       "output_type": "stream",
       "stream": "stdout",
       "text": [
        "28300 "
       ]
      },
      {
       "output_type": "stream",
       "stream": "stdout",
       "text": [
        "28400 "
       ]
      },
      {
       "output_type": "stream",
       "stream": "stdout",
       "text": [
        "28500 "
       ]
      },
      {
       "output_type": "stream",
       "stream": "stdout",
       "text": [
        "28600 "
       ]
      },
      {
       "output_type": "stream",
       "stream": "stdout",
       "text": [
        "28700 "
       ]
      },
      {
       "output_type": "stream",
       "stream": "stdout",
       "text": [
        "28800 "
       ]
      },
      {
       "output_type": "stream",
       "stream": "stdout",
       "text": [
        "28900 "
       ]
      },
      {
       "output_type": "stream",
       "stream": "stdout",
       "text": [
        "29000 "
       ]
      },
      {
       "output_type": "stream",
       "stream": "stdout",
       "text": [
        "29100 "
       ]
      },
      {
       "output_type": "stream",
       "stream": "stdout",
       "text": [
        "29200 "
       ]
      },
      {
       "output_type": "stream",
       "stream": "stdout",
       "text": [
        "29300 "
       ]
      },
      {
       "output_type": "stream",
       "stream": "stdout",
       "text": [
        "29400 "
       ]
      },
      {
       "output_type": "stream",
       "stream": "stdout",
       "text": [
        "29500 "
       ]
      },
      {
       "output_type": "stream",
       "stream": "stdout",
       "text": [
        "29600 "
       ]
      },
      {
       "output_type": "stream",
       "stream": "stdout",
       "text": [
        "29700 "
       ]
      },
      {
       "output_type": "stream",
       "stream": "stdout",
       "text": [
        "29800 "
       ]
      },
      {
       "output_type": "stream",
       "stream": "stdout",
       "text": [
        "29900 "
       ]
      },
      {
       "output_type": "stream",
       "stream": "stdout",
       "text": [
        "30000 "
       ]
      },
      {
       "output_type": "stream",
       "stream": "stdout",
       "text": [
        "30100 "
       ]
      },
      {
       "output_type": "stream",
       "stream": "stdout",
       "text": [
        "30200 "
       ]
      },
      {
       "output_type": "stream",
       "stream": "stdout",
       "text": [
        "30300 "
       ]
      },
      {
       "output_type": "stream",
       "stream": "stdout",
       "text": [
        "30400 "
       ]
      },
      {
       "output_type": "stream",
       "stream": "stdout",
       "text": [
        "30500 "
       ]
      },
      {
       "output_type": "stream",
       "stream": "stdout",
       "text": [
        "30600 "
       ]
      },
      {
       "output_type": "stream",
       "stream": "stdout",
       "text": [
        "30700 "
       ]
      },
      {
       "output_type": "stream",
       "stream": "stdout",
       "text": [
        "30800 "
       ]
      },
      {
       "output_type": "stream",
       "stream": "stdout",
       "text": [
        "30900 "
       ]
      },
      {
       "output_type": "stream",
       "stream": "stdout",
       "text": [
        "31000 "
       ]
      },
      {
       "output_type": "stream",
       "stream": "stdout",
       "text": [
        "31100 "
       ]
      },
      {
       "output_type": "stream",
       "stream": "stdout",
       "text": [
        "31200 "
       ]
      },
      {
       "output_type": "stream",
       "stream": "stdout",
       "text": [
        "31300 "
       ]
      },
      {
       "output_type": "stream",
       "stream": "stdout",
       "text": [
        "31400 "
       ]
      },
      {
       "output_type": "stream",
       "stream": "stdout",
       "text": [
        "31500 "
       ]
      },
      {
       "output_type": "stream",
       "stream": "stdout",
       "text": [
        "31600 "
       ]
      },
      {
       "output_type": "stream",
       "stream": "stdout",
       "text": [
        "31700 "
       ]
      },
      {
       "output_type": "stream",
       "stream": "stdout",
       "text": [
        "31800 "
       ]
      },
      {
       "output_type": "stream",
       "stream": "stdout",
       "text": [
        "31900 "
       ]
      },
      {
       "output_type": "stream",
       "stream": "stdout",
       "text": [
        "32000 "
       ]
      },
      {
       "output_type": "stream",
       "stream": "stdout",
       "text": [
        "32100 "
       ]
      },
      {
       "output_type": "stream",
       "stream": "stdout",
       "text": [
        "32200 "
       ]
      },
      {
       "output_type": "stream",
       "stream": "stdout",
       "text": [
        "32300 "
       ]
      },
      {
       "output_type": "stream",
       "stream": "stdout",
       "text": [
        "32400 "
       ]
      },
      {
       "output_type": "stream",
       "stream": "stdout",
       "text": [
        "32500 "
       ]
      },
      {
       "output_type": "stream",
       "stream": "stdout",
       "text": [
        "32600 "
       ]
      },
      {
       "output_type": "stream",
       "stream": "stdout",
       "text": [
        "32700 "
       ]
      },
      {
       "output_type": "stream",
       "stream": "stdout",
       "text": [
        "32800 "
       ]
      },
      {
       "output_type": "stream",
       "stream": "stdout",
       "text": [
        "32900 "
       ]
      },
      {
       "output_type": "stream",
       "stream": "stdout",
       "text": [
        "33000 "
       ]
      },
      {
       "output_type": "stream",
       "stream": "stdout",
       "text": [
        "33100 "
       ]
      },
      {
       "output_type": "stream",
       "stream": "stdout",
       "text": [
        "33200 "
       ]
      },
      {
       "output_type": "stream",
       "stream": "stdout",
       "text": [
        "33300 "
       ]
      },
      {
       "output_type": "stream",
       "stream": "stdout",
       "text": [
        "33400 "
       ]
      },
      {
       "output_type": "stream",
       "stream": "stdout",
       "text": [
        "33500 "
       ]
      },
      {
       "output_type": "stream",
       "stream": "stdout",
       "text": [
        "33600 "
       ]
      },
      {
       "output_type": "stream",
       "stream": "stdout",
       "text": [
        "33700 "
       ]
      },
      {
       "output_type": "stream",
       "stream": "stdout",
       "text": [
        "33800 "
       ]
      },
      {
       "output_type": "stream",
       "stream": "stdout",
       "text": [
        "33900 "
       ]
      },
      {
       "output_type": "stream",
       "stream": "stdout",
       "text": [
        "34000 "
       ]
      },
      {
       "output_type": "stream",
       "stream": "stdout",
       "text": [
        "34100 "
       ]
      },
      {
       "output_type": "stream",
       "stream": "stdout",
       "text": [
        "34200 "
       ]
      },
      {
       "output_type": "stream",
       "stream": "stdout",
       "text": [
        "34300 "
       ]
      },
      {
       "output_type": "stream",
       "stream": "stdout",
       "text": [
        "34400 "
       ]
      },
      {
       "output_type": "stream",
       "stream": "stdout",
       "text": [
        "34500 "
       ]
      },
      {
       "output_type": "stream",
       "stream": "stdout",
       "text": [
        "34600 "
       ]
      },
      {
       "output_type": "stream",
       "stream": "stdout",
       "text": [
        "34700 "
       ]
      },
      {
       "output_type": "stream",
       "stream": "stdout",
       "text": [
        "34800 "
       ]
      },
      {
       "output_type": "stream",
       "stream": "stdout",
       "text": [
        "34900 "
       ]
      },
      {
       "output_type": "stream",
       "stream": "stdout",
       "text": [
        "35000 "
       ]
      },
      {
       "output_type": "stream",
       "stream": "stdout",
       "text": [
        "35100 "
       ]
      },
      {
       "output_type": "stream",
       "stream": "stdout",
       "text": [
        "35200 "
       ]
      },
      {
       "output_type": "stream",
       "stream": "stdout",
       "text": [
        "35300 "
       ]
      },
      {
       "output_type": "stream",
       "stream": "stdout",
       "text": [
        "35400 "
       ]
      },
      {
       "output_type": "stream",
       "stream": "stdout",
       "text": [
        "35500 "
       ]
      },
      {
       "output_type": "stream",
       "stream": "stdout",
       "text": [
        "35600 "
       ]
      },
      {
       "output_type": "stream",
       "stream": "stdout",
       "text": [
        "35700 "
       ]
      },
      {
       "output_type": "stream",
       "stream": "stdout",
       "text": [
        "35800 "
       ]
      },
      {
       "output_type": "stream",
       "stream": "stdout",
       "text": [
        "35900 "
       ]
      },
      {
       "output_type": "stream",
       "stream": "stdout",
       "text": [
        "36000 "
       ]
      },
      {
       "output_type": "stream",
       "stream": "stdout",
       "text": [
        "36100 "
       ]
      },
      {
       "output_type": "stream",
       "stream": "stdout",
       "text": [
        "36200 "
       ]
      },
      {
       "output_type": "stream",
       "stream": "stdout",
       "text": [
        "36300 "
       ]
      },
      {
       "output_type": "stream",
       "stream": "stdout",
       "text": [
        "36400 "
       ]
      },
      {
       "output_type": "stream",
       "stream": "stdout",
       "text": [
        "36500 "
       ]
      },
      {
       "output_type": "stream",
       "stream": "stdout",
       "text": [
        "36600 "
       ]
      },
      {
       "output_type": "stream",
       "stream": "stdout",
       "text": [
        "36700 "
       ]
      },
      {
       "output_type": "stream",
       "stream": "stdout",
       "text": [
        "36800 "
       ]
      },
      {
       "output_type": "stream",
       "stream": "stdout",
       "text": [
        "36900 "
       ]
      },
      {
       "output_type": "stream",
       "stream": "stdout",
       "text": [
        "37000 "
       ]
      },
      {
       "output_type": "stream",
       "stream": "stdout",
       "text": [
        "37100 "
       ]
      },
      {
       "output_type": "stream",
       "stream": "stdout",
       "text": [
        "37200 "
       ]
      },
      {
       "output_type": "stream",
       "stream": "stdout",
       "text": [
        "37300 "
       ]
      },
      {
       "output_type": "stream",
       "stream": "stdout",
       "text": [
        "37400 "
       ]
      },
      {
       "output_type": "stream",
       "stream": "stdout",
       "text": [
        "37500 "
       ]
      },
      {
       "output_type": "stream",
       "stream": "stdout",
       "text": [
        "37600 "
       ]
      },
      {
       "output_type": "stream",
       "stream": "stdout",
       "text": [
        "37700 "
       ]
      },
      {
       "output_type": "stream",
       "stream": "stdout",
       "text": [
        "37800 "
       ]
      },
      {
       "output_type": "stream",
       "stream": "stdout",
       "text": [
        "37900 "
       ]
      },
      {
       "output_type": "stream",
       "stream": "stdout",
       "text": [
        "38000 "
       ]
      },
      {
       "output_type": "stream",
       "stream": "stdout",
       "text": [
        "38100 "
       ]
      },
      {
       "output_type": "stream",
       "stream": "stdout",
       "text": [
        "38200 "
       ]
      },
      {
       "output_type": "stream",
       "stream": "stdout",
       "text": [
        "38300 "
       ]
      },
      {
       "output_type": "stream",
       "stream": "stdout",
       "text": [
        "38400 "
       ]
      },
      {
       "output_type": "stream",
       "stream": "stdout",
       "text": [
        "38500 "
       ]
      },
      {
       "output_type": "stream",
       "stream": "stdout",
       "text": [
        "38600 "
       ]
      },
      {
       "output_type": "stream",
       "stream": "stdout",
       "text": [
        "38700 "
       ]
      },
      {
       "output_type": "stream",
       "stream": "stdout",
       "text": [
        "38800 "
       ]
      },
      {
       "output_type": "stream",
       "stream": "stdout",
       "text": [
        "38900 "
       ]
      },
      {
       "output_type": "stream",
       "stream": "stdout",
       "text": [
        "39000 "
       ]
      },
      {
       "output_type": "stream",
       "stream": "stdout",
       "text": [
        "39100 "
       ]
      },
      {
       "output_type": "stream",
       "stream": "stdout",
       "text": [
        "39200 "
       ]
      },
      {
       "output_type": "stream",
       "stream": "stdout",
       "text": [
        "39300 "
       ]
      },
      {
       "output_type": "stream",
       "stream": "stdout",
       "text": [
        "39400 "
       ]
      },
      {
       "output_type": "stream",
       "stream": "stdout",
       "text": [
        "39500 "
       ]
      },
      {
       "output_type": "stream",
       "stream": "stdout",
       "text": [
        "39600 "
       ]
      },
      {
       "output_type": "stream",
       "stream": "stdout",
       "text": [
        "39700 "
       ]
      },
      {
       "output_type": "stream",
       "stream": "stdout",
       "text": [
        "39800 "
       ]
      },
      {
       "output_type": "stream",
       "stream": "stdout",
       "text": [
        "39900 "
       ]
      },
      {
       "output_type": "stream",
       "stream": "stdout",
       "text": [
        "40000 "
       ]
      },
      {
       "output_type": "stream",
       "stream": "stdout",
       "text": [
        "40100 "
       ]
      },
      {
       "output_type": "stream",
       "stream": "stdout",
       "text": [
        "40200 "
       ]
      },
      {
       "output_type": "stream",
       "stream": "stdout",
       "text": [
        "40300 "
       ]
      },
      {
       "output_type": "stream",
       "stream": "stdout",
       "text": [
        "40400 "
       ]
      },
      {
       "output_type": "stream",
       "stream": "stdout",
       "text": [
        "40500 "
       ]
      },
      {
       "output_type": "stream",
       "stream": "stdout",
       "text": [
        "40600 "
       ]
      },
      {
       "output_type": "stream",
       "stream": "stdout",
       "text": [
        "40700 "
       ]
      },
      {
       "output_type": "stream",
       "stream": "stdout",
       "text": [
        "40800 "
       ]
      },
      {
       "output_type": "stream",
       "stream": "stdout",
       "text": [
        "40900 "
       ]
      },
      {
       "output_type": "stream",
       "stream": "stdout",
       "text": [
        "41000 "
       ]
      },
      {
       "output_type": "stream",
       "stream": "stdout",
       "text": [
        "41100 "
       ]
      },
      {
       "output_type": "stream",
       "stream": "stdout",
       "text": [
        "41200 "
       ]
      },
      {
       "output_type": "stream",
       "stream": "stdout",
       "text": [
        "41300 "
       ]
      },
      {
       "output_type": "stream",
       "stream": "stdout",
       "text": [
        "41400 "
       ]
      },
      {
       "output_type": "stream",
       "stream": "stdout",
       "text": [
        "41500 "
       ]
      },
      {
       "output_type": "stream",
       "stream": "stdout",
       "text": [
        "41600 "
       ]
      },
      {
       "output_type": "stream",
       "stream": "stdout",
       "text": [
        "41700 "
       ]
      },
      {
       "output_type": "stream",
       "stream": "stdout",
       "text": [
        "41800 "
       ]
      },
      {
       "output_type": "stream",
       "stream": "stdout",
       "text": [
        "41900 "
       ]
      },
      {
       "output_type": "stream",
       "stream": "stdout",
       "text": [
        "42000 "
       ]
      },
      {
       "output_type": "stream",
       "stream": "stdout",
       "text": [
        "42100 "
       ]
      },
      {
       "output_type": "stream",
       "stream": "stdout",
       "text": [
        "42200 "
       ]
      },
      {
       "output_type": "stream",
       "stream": "stdout",
       "text": [
        "42300 "
       ]
      },
      {
       "output_type": "stream",
       "stream": "stdout",
       "text": [
        "42400 "
       ]
      },
      {
       "output_type": "stream",
       "stream": "stdout",
       "text": [
        "42500 "
       ]
      },
      {
       "output_type": "stream",
       "stream": "stdout",
       "text": [
        "42600 "
       ]
      },
      {
       "output_type": "stream",
       "stream": "stdout",
       "text": [
        "42700 "
       ]
      },
      {
       "output_type": "stream",
       "stream": "stdout",
       "text": [
        "42800 "
       ]
      },
      {
       "output_type": "stream",
       "stream": "stdout",
       "text": [
        "42900 "
       ]
      },
      {
       "output_type": "stream",
       "stream": "stdout",
       "text": [
        "43000 "
       ]
      },
      {
       "output_type": "stream",
       "stream": "stdout",
       "text": [
        "43100 "
       ]
      },
      {
       "output_type": "stream",
       "stream": "stdout",
       "text": [
        "43200 "
       ]
      },
      {
       "output_type": "stream",
       "stream": "stdout",
       "text": [
        "43300 "
       ]
      },
      {
       "output_type": "stream",
       "stream": "stdout",
       "text": [
        "43400 "
       ]
      },
      {
       "output_type": "stream",
       "stream": "stdout",
       "text": [
        "43500 "
       ]
      },
      {
       "output_type": "stream",
       "stream": "stdout",
       "text": [
        "43600 "
       ]
      },
      {
       "output_type": "stream",
       "stream": "stdout",
       "text": [
        "43700 "
       ]
      },
      {
       "output_type": "stream",
       "stream": "stdout",
       "text": [
        "43800 "
       ]
      },
      {
       "output_type": "stream",
       "stream": "stdout",
       "text": [
        "43900 "
       ]
      },
      {
       "output_type": "stream",
       "stream": "stdout",
       "text": [
        "44000 "
       ]
      },
      {
       "output_type": "stream",
       "stream": "stdout",
       "text": [
        "44100 "
       ]
      },
      {
       "output_type": "stream",
       "stream": "stdout",
       "text": [
        "44200 "
       ]
      },
      {
       "output_type": "stream",
       "stream": "stdout",
       "text": [
        "44300 "
       ]
      },
      {
       "output_type": "stream",
       "stream": "stdout",
       "text": [
        "44400 "
       ]
      },
      {
       "output_type": "stream",
       "stream": "stdout",
       "text": [
        "44500 "
       ]
      },
      {
       "output_type": "stream",
       "stream": "stdout",
       "text": [
        "44600 "
       ]
      },
      {
       "output_type": "stream",
       "stream": "stdout",
       "text": [
        "44700 "
       ]
      },
      {
       "output_type": "stream",
       "stream": "stdout",
       "text": [
        "44800 "
       ]
      },
      {
       "output_type": "stream",
       "stream": "stdout",
       "text": [
        "44900 "
       ]
      },
      {
       "output_type": "stream",
       "stream": "stdout",
       "text": [
        "45000 "
       ]
      },
      {
       "output_type": "stream",
       "stream": "stdout",
       "text": [
        "45100 "
       ]
      },
      {
       "output_type": "stream",
       "stream": "stdout",
       "text": [
        "45200 "
       ]
      },
      {
       "output_type": "stream",
       "stream": "stdout",
       "text": [
        "45300 "
       ]
      },
      {
       "output_type": "stream",
       "stream": "stdout",
       "text": [
        "45400 "
       ]
      },
      {
       "output_type": "stream",
       "stream": "stdout",
       "text": [
        "45500 "
       ]
      },
      {
       "output_type": "stream",
       "stream": "stdout",
       "text": [
        "45600 "
       ]
      },
      {
       "output_type": "stream",
       "stream": "stdout",
       "text": [
        "45700 "
       ]
      },
      {
       "output_type": "stream",
       "stream": "stdout",
       "text": [
        "45800 "
       ]
      },
      {
       "output_type": "stream",
       "stream": "stdout",
       "text": [
        "45900 "
       ]
      },
      {
       "output_type": "stream",
       "stream": "stdout",
       "text": [
        "46000\n"
       ]
      }
     ],
     "prompt_number": 101
    },
    {
     "cell_type": "code",
     "collapsed": false,
     "input": [
      "n = -7\n",
      "res = []\n",
      "k = 0\n",
      "for i in range(len(train)):\n",
      "    res.append(MeanNDayFromThis(n, train, train.City[i], train.Year[i], train.Month[i], train.Day[i]))\n",
      "    if ( (k % 100) == 0):\n",
      "        print k,\n",
      "    k += 1\n",
      "train[\"MeanPrev7Day\"] = pd.Series(res)"
     ],
     "language": "python",
     "metadata": {},
     "outputs": [
      {
       "output_type": "stream",
       "stream": "stdout",
       "text": [
        "0 "
       ]
      },
      {
       "output_type": "stream",
       "stream": "stdout",
       "text": [
        "100 "
       ]
      },
      {
       "output_type": "stream",
       "stream": "stdout",
       "text": [
        "200 "
       ]
      },
      {
       "output_type": "stream",
       "stream": "stdout",
       "text": [
        "300 "
       ]
      },
      {
       "output_type": "stream",
       "stream": "stdout",
       "text": [
        "400 "
       ]
      },
      {
       "output_type": "stream",
       "stream": "stdout",
       "text": [
        "500 "
       ]
      },
      {
       "output_type": "stream",
       "stream": "stdout",
       "text": [
        "600 "
       ]
      },
      {
       "output_type": "stream",
       "stream": "stdout",
       "text": [
        "700 "
       ]
      },
      {
       "output_type": "stream",
       "stream": "stdout",
       "text": [
        "800 "
       ]
      },
      {
       "output_type": "stream",
       "stream": "stdout",
       "text": [
        "900 "
       ]
      },
      {
       "output_type": "stream",
       "stream": "stdout",
       "text": [
        "1000 "
       ]
      },
      {
       "output_type": "stream",
       "stream": "stdout",
       "text": [
        "1100 "
       ]
      },
      {
       "output_type": "stream",
       "stream": "stdout",
       "text": [
        "1200 "
       ]
      },
      {
       "output_type": "stream",
       "stream": "stdout",
       "text": [
        "1300 "
       ]
      },
      {
       "output_type": "stream",
       "stream": "stdout",
       "text": [
        "1400 "
       ]
      },
      {
       "output_type": "stream",
       "stream": "stdout",
       "text": [
        "1500 "
       ]
      },
      {
       "output_type": "stream",
       "stream": "stdout",
       "text": [
        "1600 "
       ]
      },
      {
       "output_type": "stream",
       "stream": "stdout",
       "text": [
        "1700 "
       ]
      },
      {
       "output_type": "stream",
       "stream": "stdout",
       "text": [
        "1800 "
       ]
      },
      {
       "output_type": "stream",
       "stream": "stdout",
       "text": [
        "1900 "
       ]
      },
      {
       "output_type": "stream",
       "stream": "stdout",
       "text": [
        "2000 "
       ]
      },
      {
       "output_type": "stream",
       "stream": "stdout",
       "text": [
        "2100 "
       ]
      },
      {
       "output_type": "stream",
       "stream": "stdout",
       "text": [
        "2200 "
       ]
      },
      {
       "output_type": "stream",
       "stream": "stdout",
       "text": [
        "2300 "
       ]
      },
      {
       "output_type": "stream",
       "stream": "stdout",
       "text": [
        "2400 "
       ]
      },
      {
       "output_type": "stream",
       "stream": "stdout",
       "text": [
        "2500 "
       ]
      },
      {
       "output_type": "stream",
       "stream": "stdout",
       "text": [
        "2600 "
       ]
      },
      {
       "output_type": "stream",
       "stream": "stdout",
       "text": [
        "2700 "
       ]
      },
      {
       "output_type": "stream",
       "stream": "stdout",
       "text": [
        "2800 "
       ]
      },
      {
       "output_type": "stream",
       "stream": "stdout",
       "text": [
        "2900 "
       ]
      },
      {
       "output_type": "stream",
       "stream": "stdout",
       "text": [
        "3000 "
       ]
      },
      {
       "output_type": "stream",
       "stream": "stdout",
       "text": [
        "3100 "
       ]
      },
      {
       "output_type": "stream",
       "stream": "stdout",
       "text": [
        "3200 "
       ]
      },
      {
       "output_type": "stream",
       "stream": "stdout",
       "text": [
        "3300 "
       ]
      },
      {
       "output_type": "stream",
       "stream": "stdout",
       "text": [
        "3400 "
       ]
      },
      {
       "output_type": "stream",
       "stream": "stdout",
       "text": [
        "3500 "
       ]
      },
      {
       "output_type": "stream",
       "stream": "stdout",
       "text": [
        "3600 "
       ]
      },
      {
       "output_type": "stream",
       "stream": "stdout",
       "text": [
        "3700 "
       ]
      },
      {
       "output_type": "stream",
       "stream": "stdout",
       "text": [
        "3800 "
       ]
      },
      {
       "output_type": "stream",
       "stream": "stdout",
       "text": [
        "3900 "
       ]
      },
      {
       "output_type": "stream",
       "stream": "stdout",
       "text": [
        "4000 "
       ]
      },
      {
       "output_type": "stream",
       "stream": "stdout",
       "text": [
        "4100 "
       ]
      },
      {
       "output_type": "stream",
       "stream": "stdout",
       "text": [
        "4200 "
       ]
      },
      {
       "output_type": "stream",
       "stream": "stdout",
       "text": [
        "4300 "
       ]
      },
      {
       "output_type": "stream",
       "stream": "stdout",
       "text": [
        "4400 "
       ]
      },
      {
       "output_type": "stream",
       "stream": "stdout",
       "text": [
        "4500 "
       ]
      },
      {
       "output_type": "stream",
       "stream": "stdout",
       "text": [
        "4600 "
       ]
      },
      {
       "output_type": "stream",
       "stream": "stdout",
       "text": [
        "4700 "
       ]
      },
      {
       "output_type": "stream",
       "stream": "stdout",
       "text": [
        "4800 "
       ]
      },
      {
       "output_type": "stream",
       "stream": "stdout",
       "text": [
        "4900 "
       ]
      },
      {
       "output_type": "stream",
       "stream": "stdout",
       "text": [
        "5000 "
       ]
      },
      {
       "output_type": "stream",
       "stream": "stdout",
       "text": [
        "5100 "
       ]
      },
      {
       "output_type": "stream",
       "stream": "stdout",
       "text": [
        "5200 "
       ]
      },
      {
       "output_type": "stream",
       "stream": "stdout",
       "text": [
        "5300 "
       ]
      },
      {
       "output_type": "stream",
       "stream": "stdout",
       "text": [
        "5400 "
       ]
      },
      {
       "output_type": "stream",
       "stream": "stdout",
       "text": [
        "5500 "
       ]
      },
      {
       "output_type": "stream",
       "stream": "stdout",
       "text": [
        "5600 "
       ]
      },
      {
       "output_type": "stream",
       "stream": "stdout",
       "text": [
        "5700 "
       ]
      },
      {
       "output_type": "stream",
       "stream": "stdout",
       "text": [
        "5800 "
       ]
      },
      {
       "output_type": "stream",
       "stream": "stdout",
       "text": [
        "5900 "
       ]
      },
      {
       "output_type": "stream",
       "stream": "stdout",
       "text": [
        "6000 "
       ]
      },
      {
       "output_type": "stream",
       "stream": "stdout",
       "text": [
        "6100 "
       ]
      },
      {
       "output_type": "stream",
       "stream": "stdout",
       "text": [
        "6200 "
       ]
      },
      {
       "output_type": "stream",
       "stream": "stdout",
       "text": [
        "6300 "
       ]
      },
      {
       "output_type": "stream",
       "stream": "stdout",
       "text": [
        "6400 "
       ]
      },
      {
       "output_type": "stream",
       "stream": "stdout",
       "text": [
        "6500 "
       ]
      },
      {
       "output_type": "stream",
       "stream": "stdout",
       "text": [
        "6600 "
       ]
      },
      {
       "output_type": "stream",
       "stream": "stdout",
       "text": [
        "6700 "
       ]
      },
      {
       "output_type": "stream",
       "stream": "stdout",
       "text": [
        "6800 "
       ]
      },
      {
       "output_type": "stream",
       "stream": "stdout",
       "text": [
        "6900 "
       ]
      },
      {
       "output_type": "stream",
       "stream": "stdout",
       "text": [
        "7000 "
       ]
      },
      {
       "output_type": "stream",
       "stream": "stdout",
       "text": [
        "7100 "
       ]
      },
      {
       "output_type": "stream",
       "stream": "stdout",
       "text": [
        "7200 "
       ]
      },
      {
       "output_type": "stream",
       "stream": "stdout",
       "text": [
        "7300 "
       ]
      },
      {
       "output_type": "stream",
       "stream": "stdout",
       "text": [
        "7400 "
       ]
      },
      {
       "output_type": "stream",
       "stream": "stdout",
       "text": [
        "7500 "
       ]
      },
      {
       "output_type": "stream",
       "stream": "stdout",
       "text": [
        "7600 "
       ]
      },
      {
       "output_type": "stream",
       "stream": "stdout",
       "text": [
        "7700 "
       ]
      },
      {
       "output_type": "stream",
       "stream": "stdout",
       "text": [
        "7800 "
       ]
      },
      {
       "output_type": "stream",
       "stream": "stdout",
       "text": [
        "7900 "
       ]
      },
      {
       "output_type": "stream",
       "stream": "stdout",
       "text": [
        "8000 "
       ]
      },
      {
       "output_type": "stream",
       "stream": "stdout",
       "text": [
        "8100 "
       ]
      },
      {
       "output_type": "stream",
       "stream": "stdout",
       "text": [
        "8200 "
       ]
      },
      {
       "output_type": "stream",
       "stream": "stdout",
       "text": [
        "8300 "
       ]
      },
      {
       "output_type": "stream",
       "stream": "stdout",
       "text": [
        "8400 "
       ]
      },
      {
       "output_type": "stream",
       "stream": "stdout",
       "text": [
        "8500 "
       ]
      },
      {
       "output_type": "stream",
       "stream": "stdout",
       "text": [
        "8600 "
       ]
      },
      {
       "output_type": "stream",
       "stream": "stdout",
       "text": [
        "8700 "
       ]
      },
      {
       "output_type": "stream",
       "stream": "stdout",
       "text": [
        "8800 "
       ]
      },
      {
       "output_type": "stream",
       "stream": "stdout",
       "text": [
        "8900 "
       ]
      },
      {
       "output_type": "stream",
       "stream": "stdout",
       "text": [
        "9000 "
       ]
      },
      {
       "output_type": "stream",
       "stream": "stdout",
       "text": [
        "9100 "
       ]
      },
      {
       "output_type": "stream",
       "stream": "stdout",
       "text": [
        "9200 "
       ]
      },
      {
       "output_type": "stream",
       "stream": "stdout",
       "text": [
        "9300 "
       ]
      },
      {
       "output_type": "stream",
       "stream": "stdout",
       "text": [
        "9400 "
       ]
      },
      {
       "output_type": "stream",
       "stream": "stdout",
       "text": [
        "9500 "
       ]
      },
      {
       "output_type": "stream",
       "stream": "stdout",
       "text": [
        "9600 "
       ]
      },
      {
       "output_type": "stream",
       "stream": "stdout",
       "text": [
        "9700 "
       ]
      },
      {
       "output_type": "stream",
       "stream": "stdout",
       "text": [
        "9800 "
       ]
      },
      {
       "output_type": "stream",
       "stream": "stdout",
       "text": [
        "9900 "
       ]
      },
      {
       "output_type": "stream",
       "stream": "stdout",
       "text": [
        "10000 "
       ]
      },
      {
       "output_type": "stream",
       "stream": "stdout",
       "text": [
        "10100 "
       ]
      },
      {
       "output_type": "stream",
       "stream": "stdout",
       "text": [
        "10200 "
       ]
      },
      {
       "output_type": "stream",
       "stream": "stdout",
       "text": [
        "10300 "
       ]
      },
      {
       "output_type": "stream",
       "stream": "stdout",
       "text": [
        "10400 "
       ]
      },
      {
       "output_type": "stream",
       "stream": "stdout",
       "text": [
        "10500 "
       ]
      },
      {
       "output_type": "stream",
       "stream": "stdout",
       "text": [
        "10600 "
       ]
      },
      {
       "output_type": "stream",
       "stream": "stdout",
       "text": [
        "10700 "
       ]
      },
      {
       "output_type": "stream",
       "stream": "stdout",
       "text": [
        "10800 "
       ]
      },
      {
       "output_type": "stream",
       "stream": "stdout",
       "text": [
        "10900 "
       ]
      },
      {
       "output_type": "stream",
       "stream": "stdout",
       "text": [
        "11000 "
       ]
      },
      {
       "output_type": "stream",
       "stream": "stdout",
       "text": [
        "11100 "
       ]
      },
      {
       "output_type": "stream",
       "stream": "stdout",
       "text": [
        "11200 "
       ]
      },
      {
       "output_type": "stream",
       "stream": "stdout",
       "text": [
        "11300 "
       ]
      },
      {
       "output_type": "stream",
       "stream": "stdout",
       "text": [
        "11400 "
       ]
      },
      {
       "output_type": "stream",
       "stream": "stdout",
       "text": [
        "11500 "
       ]
      },
      {
       "output_type": "stream",
       "stream": "stdout",
       "text": [
        "11600 "
       ]
      },
      {
       "output_type": "stream",
       "stream": "stdout",
       "text": [
        "11700 "
       ]
      },
      {
       "output_type": "stream",
       "stream": "stdout",
       "text": [
        "11800 "
       ]
      },
      {
       "output_type": "stream",
       "stream": "stdout",
       "text": [
        "11900 "
       ]
      },
      {
       "output_type": "stream",
       "stream": "stdout",
       "text": [
        "12000 "
       ]
      },
      {
       "output_type": "stream",
       "stream": "stdout",
       "text": [
        "12100 "
       ]
      },
      {
       "output_type": "stream",
       "stream": "stdout",
       "text": [
        "12200 "
       ]
      },
      {
       "output_type": "stream",
       "stream": "stdout",
       "text": [
        "12300 "
       ]
      },
      {
       "output_type": "stream",
       "stream": "stdout",
       "text": [
        "12400 "
       ]
      },
      {
       "output_type": "stream",
       "stream": "stdout",
       "text": [
        "12500 "
       ]
      },
      {
       "output_type": "stream",
       "stream": "stdout",
       "text": [
        "12600 "
       ]
      },
      {
       "output_type": "stream",
       "stream": "stdout",
       "text": [
        "12700 "
       ]
      },
      {
       "output_type": "stream",
       "stream": "stdout",
       "text": [
        "12800 "
       ]
      },
      {
       "output_type": "stream",
       "stream": "stdout",
       "text": [
        "12900 "
       ]
      },
      {
       "output_type": "stream",
       "stream": "stdout",
       "text": [
        "13000 "
       ]
      },
      {
       "output_type": "stream",
       "stream": "stdout",
       "text": [
        "13100 "
       ]
      },
      {
       "output_type": "stream",
       "stream": "stdout",
       "text": [
        "13200 "
       ]
      },
      {
       "output_type": "stream",
       "stream": "stdout",
       "text": [
        "13300 "
       ]
      },
      {
       "output_type": "stream",
       "stream": "stdout",
       "text": [
        "13400 "
       ]
      },
      {
       "output_type": "stream",
       "stream": "stdout",
       "text": [
        "13500 "
       ]
      },
      {
       "output_type": "stream",
       "stream": "stdout",
       "text": [
        "13600 "
       ]
      },
      {
       "output_type": "stream",
       "stream": "stdout",
       "text": [
        "13700 "
       ]
      },
      {
       "output_type": "stream",
       "stream": "stdout",
       "text": [
        "13800 "
       ]
      },
      {
       "output_type": "stream",
       "stream": "stdout",
       "text": [
        "13900 "
       ]
      },
      {
       "output_type": "stream",
       "stream": "stdout",
       "text": [
        "14000 "
       ]
      },
      {
       "output_type": "stream",
       "stream": "stdout",
       "text": [
        "14100 "
       ]
      },
      {
       "output_type": "stream",
       "stream": "stdout",
       "text": [
        "14200 "
       ]
      },
      {
       "output_type": "stream",
       "stream": "stdout",
       "text": [
        "14300 "
       ]
      },
      {
       "output_type": "stream",
       "stream": "stdout",
       "text": [
        "14400 "
       ]
      },
      {
       "output_type": "stream",
       "stream": "stdout",
       "text": [
        "14500 "
       ]
      },
      {
       "output_type": "stream",
       "stream": "stdout",
       "text": [
        "14600 "
       ]
      },
      {
       "output_type": "stream",
       "stream": "stdout",
       "text": [
        "14700 "
       ]
      },
      {
       "output_type": "stream",
       "stream": "stdout",
       "text": [
        "14800 "
       ]
      },
      {
       "output_type": "stream",
       "stream": "stdout",
       "text": [
        "14900 "
       ]
      },
      {
       "output_type": "stream",
       "stream": "stdout",
       "text": [
        "15000 "
       ]
      },
      {
       "output_type": "stream",
       "stream": "stdout",
       "text": [
        "15100 "
       ]
      },
      {
       "output_type": "stream",
       "stream": "stdout",
       "text": [
        "15200 "
       ]
      },
      {
       "output_type": "stream",
       "stream": "stdout",
       "text": [
        "15300 "
       ]
      },
      {
       "output_type": "stream",
       "stream": "stdout",
       "text": [
        "15400 "
       ]
      },
      {
       "output_type": "stream",
       "stream": "stdout",
       "text": [
        "15500 "
       ]
      },
      {
       "output_type": "stream",
       "stream": "stdout",
       "text": [
        "15600 "
       ]
      },
      {
       "output_type": "stream",
       "stream": "stdout",
       "text": [
        "15700 "
       ]
      },
      {
       "output_type": "stream",
       "stream": "stdout",
       "text": [
        "15800 "
       ]
      },
      {
       "output_type": "stream",
       "stream": "stdout",
       "text": [
        "15900 "
       ]
      },
      {
       "output_type": "stream",
       "stream": "stdout",
       "text": [
        "16000 "
       ]
      },
      {
       "output_type": "stream",
       "stream": "stdout",
       "text": [
        "16100 "
       ]
      },
      {
       "output_type": "stream",
       "stream": "stdout",
       "text": [
        "16200 "
       ]
      },
      {
       "output_type": "stream",
       "stream": "stdout",
       "text": [
        "16300 "
       ]
      },
      {
       "output_type": "stream",
       "stream": "stdout",
       "text": [
        "16400 "
       ]
      },
      {
       "output_type": "stream",
       "stream": "stdout",
       "text": [
        "16500 "
       ]
      },
      {
       "output_type": "stream",
       "stream": "stdout",
       "text": [
        "16600 "
       ]
      },
      {
       "output_type": "stream",
       "stream": "stdout",
       "text": [
        "16700 "
       ]
      },
      {
       "output_type": "stream",
       "stream": "stdout",
       "text": [
        "16800 "
       ]
      },
      {
       "output_type": "stream",
       "stream": "stdout",
       "text": [
        "16900 "
       ]
      },
      {
       "output_type": "stream",
       "stream": "stdout",
       "text": [
        "17000 "
       ]
      },
      {
       "output_type": "stream",
       "stream": "stdout",
       "text": [
        "17100 "
       ]
      },
      {
       "output_type": "stream",
       "stream": "stdout",
       "text": [
        "17200 "
       ]
      },
      {
       "output_type": "stream",
       "stream": "stdout",
       "text": [
        "17300 "
       ]
      },
      {
       "output_type": "stream",
       "stream": "stdout",
       "text": [
        "17400 "
       ]
      },
      {
       "output_type": "stream",
       "stream": "stdout",
       "text": [
        "17500 "
       ]
      },
      {
       "output_type": "stream",
       "stream": "stdout",
       "text": [
        "17600 "
       ]
      },
      {
       "output_type": "stream",
       "stream": "stdout",
       "text": [
        "17700 "
       ]
      },
      {
       "output_type": "stream",
       "stream": "stdout",
       "text": [
        "17800 "
       ]
      },
      {
       "output_type": "stream",
       "stream": "stdout",
       "text": [
        "17900 "
       ]
      },
      {
       "output_type": "stream",
       "stream": "stdout",
       "text": [
        "18000 "
       ]
      },
      {
       "output_type": "stream",
       "stream": "stdout",
       "text": [
        "18100 "
       ]
      },
      {
       "output_type": "stream",
       "stream": "stdout",
       "text": [
        "18200 "
       ]
      },
      {
       "output_type": "stream",
       "stream": "stdout",
       "text": [
        "18300 "
       ]
      },
      {
       "output_type": "stream",
       "stream": "stdout",
       "text": [
        "18400 "
       ]
      },
      {
       "output_type": "stream",
       "stream": "stdout",
       "text": [
        "18500 "
       ]
      },
      {
       "output_type": "stream",
       "stream": "stdout",
       "text": [
        "18600 "
       ]
      },
      {
       "output_type": "stream",
       "stream": "stdout",
       "text": [
        "18700 "
       ]
      },
      {
       "output_type": "stream",
       "stream": "stdout",
       "text": [
        "18800 "
       ]
      },
      {
       "output_type": "stream",
       "stream": "stdout",
       "text": [
        "18900 "
       ]
      },
      {
       "output_type": "stream",
       "stream": "stdout",
       "text": [
        "19000 "
       ]
      },
      {
       "output_type": "stream",
       "stream": "stdout",
       "text": [
        "19100 "
       ]
      },
      {
       "output_type": "stream",
       "stream": "stdout",
       "text": [
        "19200 "
       ]
      },
      {
       "output_type": "stream",
       "stream": "stdout",
       "text": [
        "19300 "
       ]
      },
      {
       "output_type": "stream",
       "stream": "stdout",
       "text": [
        "19400 "
       ]
      },
      {
       "output_type": "stream",
       "stream": "stdout",
       "text": [
        "19500 "
       ]
      },
      {
       "output_type": "stream",
       "stream": "stdout",
       "text": [
        "19600 "
       ]
      },
      {
       "output_type": "stream",
       "stream": "stdout",
       "text": [
        "19700 "
       ]
      },
      {
       "output_type": "stream",
       "stream": "stdout",
       "text": [
        "19800 "
       ]
      },
      {
       "output_type": "stream",
       "stream": "stdout",
       "text": [
        "19900 "
       ]
      },
      {
       "output_type": "stream",
       "stream": "stdout",
       "text": [
        "20000 "
       ]
      },
      {
       "output_type": "stream",
       "stream": "stdout",
       "text": [
        "20100 "
       ]
      },
      {
       "output_type": "stream",
       "stream": "stdout",
       "text": [
        "20200 "
       ]
      },
      {
       "output_type": "stream",
       "stream": "stdout",
       "text": [
        "20300 "
       ]
      },
      {
       "output_type": "stream",
       "stream": "stdout",
       "text": [
        "20400 "
       ]
      },
      {
       "output_type": "stream",
       "stream": "stdout",
       "text": [
        "20500 "
       ]
      },
      {
       "output_type": "stream",
       "stream": "stdout",
       "text": [
        "20600 "
       ]
      },
      {
       "output_type": "stream",
       "stream": "stdout",
       "text": [
        "20700 "
       ]
      },
      {
       "output_type": "stream",
       "stream": "stdout",
       "text": [
        "20800 "
       ]
      },
      {
       "output_type": "stream",
       "stream": "stdout",
       "text": [
        "20900 "
       ]
      },
      {
       "output_type": "stream",
       "stream": "stdout",
       "text": [
        "21000 "
       ]
      },
      {
       "output_type": "stream",
       "stream": "stdout",
       "text": [
        "21100 "
       ]
      },
      {
       "output_type": "stream",
       "stream": "stdout",
       "text": [
        "21200 "
       ]
      },
      {
       "output_type": "stream",
       "stream": "stdout",
       "text": [
        "21300 "
       ]
      },
      {
       "output_type": "stream",
       "stream": "stdout",
       "text": [
        "21400 "
       ]
      },
      {
       "output_type": "stream",
       "stream": "stdout",
       "text": [
        "21500 "
       ]
      },
      {
       "output_type": "stream",
       "stream": "stdout",
       "text": [
        "21600 "
       ]
      },
      {
       "output_type": "stream",
       "stream": "stdout",
       "text": [
        "21700 "
       ]
      },
      {
       "output_type": "stream",
       "stream": "stdout",
       "text": [
        "21800 "
       ]
      },
      {
       "output_type": "stream",
       "stream": "stdout",
       "text": [
        "21900 "
       ]
      },
      {
       "output_type": "stream",
       "stream": "stdout",
       "text": [
        "22000 "
       ]
      },
      {
       "output_type": "stream",
       "stream": "stdout",
       "text": [
        "22100 "
       ]
      },
      {
       "output_type": "stream",
       "stream": "stdout",
       "text": [
        "22200 "
       ]
      },
      {
       "output_type": "stream",
       "stream": "stdout",
       "text": [
        "22300 "
       ]
      },
      {
       "output_type": "stream",
       "stream": "stdout",
       "text": [
        "22400 "
       ]
      },
      {
       "output_type": "stream",
       "stream": "stdout",
       "text": [
        "22500 "
       ]
      },
      {
       "output_type": "stream",
       "stream": "stdout",
       "text": [
        "22600 "
       ]
      },
      {
       "output_type": "stream",
       "stream": "stdout",
       "text": [
        "22700 "
       ]
      },
      {
       "output_type": "stream",
       "stream": "stdout",
       "text": [
        "22800 "
       ]
      },
      {
       "output_type": "stream",
       "stream": "stdout",
       "text": [
        "22900 "
       ]
      },
      {
       "output_type": "stream",
       "stream": "stdout",
       "text": [
        "23000 "
       ]
      },
      {
       "output_type": "stream",
       "stream": "stdout",
       "text": [
        "23100 "
       ]
      },
      {
       "output_type": "stream",
       "stream": "stdout",
       "text": [
        "23200 "
       ]
      },
      {
       "output_type": "stream",
       "stream": "stdout",
       "text": [
        "23300 "
       ]
      },
      {
       "output_type": "stream",
       "stream": "stdout",
       "text": [
        "23400 "
       ]
      },
      {
       "output_type": "stream",
       "stream": "stdout",
       "text": [
        "23500 "
       ]
      },
      {
       "output_type": "stream",
       "stream": "stdout",
       "text": [
        "23600 "
       ]
      },
      {
       "output_type": "stream",
       "stream": "stdout",
       "text": [
        "23700 "
       ]
      },
      {
       "output_type": "stream",
       "stream": "stdout",
       "text": [
        "23800 "
       ]
      },
      {
       "output_type": "stream",
       "stream": "stdout",
       "text": [
        "23900 "
       ]
      },
      {
       "output_type": "stream",
       "stream": "stdout",
       "text": [
        "24000 "
       ]
      },
      {
       "output_type": "stream",
       "stream": "stdout",
       "text": [
        "24100 "
       ]
      },
      {
       "output_type": "stream",
       "stream": "stdout",
       "text": [
        "24200 "
       ]
      },
      {
       "output_type": "stream",
       "stream": "stdout",
       "text": [
        "24300 "
       ]
      },
      {
       "output_type": "stream",
       "stream": "stdout",
       "text": [
        "24400 "
       ]
      },
      {
       "output_type": "stream",
       "stream": "stdout",
       "text": [
        "24500 "
       ]
      },
      {
       "output_type": "stream",
       "stream": "stdout",
       "text": [
        "24600 "
       ]
      },
      {
       "output_type": "stream",
       "stream": "stdout",
       "text": [
        "24700 "
       ]
      },
      {
       "output_type": "stream",
       "stream": "stdout",
       "text": [
        "24800 "
       ]
      },
      {
       "output_type": "stream",
       "stream": "stdout",
       "text": [
        "24900 "
       ]
      },
      {
       "output_type": "stream",
       "stream": "stdout",
       "text": [
        "25000 "
       ]
      },
      {
       "output_type": "stream",
       "stream": "stdout",
       "text": [
        "25100 "
       ]
      },
      {
       "output_type": "stream",
       "stream": "stdout",
       "text": [
        "25200 "
       ]
      },
      {
       "output_type": "stream",
       "stream": "stdout",
       "text": [
        "25300 "
       ]
      },
      {
       "output_type": "stream",
       "stream": "stdout",
       "text": [
        "25400 "
       ]
      },
      {
       "output_type": "stream",
       "stream": "stdout",
       "text": [
        "25500 "
       ]
      },
      {
       "output_type": "stream",
       "stream": "stdout",
       "text": [
        "25600 "
       ]
      },
      {
       "output_type": "stream",
       "stream": "stdout",
       "text": [
        "25700 "
       ]
      },
      {
       "output_type": "stream",
       "stream": "stdout",
       "text": [
        "25800 "
       ]
      },
      {
       "output_type": "stream",
       "stream": "stdout",
       "text": [
        "25900 "
       ]
      },
      {
       "output_type": "stream",
       "stream": "stdout",
       "text": [
        "26000 "
       ]
      },
      {
       "output_type": "stream",
       "stream": "stdout",
       "text": [
        "26100 "
       ]
      },
      {
       "output_type": "stream",
       "stream": "stdout",
       "text": [
        "26200 "
       ]
      },
      {
       "output_type": "stream",
       "stream": "stdout",
       "text": [
        "26300 "
       ]
      },
      {
       "output_type": "stream",
       "stream": "stdout",
       "text": [
        "26400 "
       ]
      },
      {
       "output_type": "stream",
       "stream": "stdout",
       "text": [
        "26500 "
       ]
      },
      {
       "output_type": "stream",
       "stream": "stdout",
       "text": [
        "26600 "
       ]
      },
      {
       "output_type": "stream",
       "stream": "stdout",
       "text": [
        "26700 "
       ]
      },
      {
       "output_type": "stream",
       "stream": "stdout",
       "text": [
        "26800 "
       ]
      },
      {
       "output_type": "stream",
       "stream": "stdout",
       "text": [
        "26900 "
       ]
      },
      {
       "output_type": "stream",
       "stream": "stdout",
       "text": [
        "27000 "
       ]
      },
      {
       "output_type": "stream",
       "stream": "stdout",
       "text": [
        "27100 "
       ]
      },
      {
       "output_type": "stream",
       "stream": "stdout",
       "text": [
        "27200 "
       ]
      },
      {
       "output_type": "stream",
       "stream": "stdout",
       "text": [
        "27300 "
       ]
      },
      {
       "output_type": "stream",
       "stream": "stdout",
       "text": [
        "27400 "
       ]
      },
      {
       "output_type": "stream",
       "stream": "stdout",
       "text": [
        "27500 "
       ]
      },
      {
       "output_type": "stream",
       "stream": "stdout",
       "text": [
        "27600 "
       ]
      },
      {
       "output_type": "stream",
       "stream": "stdout",
       "text": [
        "27700 "
       ]
      },
      {
       "output_type": "stream",
       "stream": "stdout",
       "text": [
        "27800 "
       ]
      },
      {
       "output_type": "stream",
       "stream": "stdout",
       "text": [
        "27900 "
       ]
      },
      {
       "output_type": "stream",
       "stream": "stdout",
       "text": [
        "28000 "
       ]
      },
      {
       "output_type": "stream",
       "stream": "stdout",
       "text": [
        "28100 "
       ]
      },
      {
       "output_type": "stream",
       "stream": "stdout",
       "text": [
        "28200 "
       ]
      },
      {
       "output_type": "stream",
       "stream": "stdout",
       "text": [
        "28300 "
       ]
      },
      {
       "output_type": "stream",
       "stream": "stdout",
       "text": [
        "28400 "
       ]
      },
      {
       "output_type": "stream",
       "stream": "stdout",
       "text": [
        "28500 "
       ]
      },
      {
       "output_type": "stream",
       "stream": "stdout",
       "text": [
        "28600 "
       ]
      },
      {
       "output_type": "stream",
       "stream": "stdout",
       "text": [
        "28700 "
       ]
      },
      {
       "output_type": "stream",
       "stream": "stdout",
       "text": [
        "28800 "
       ]
      },
      {
       "output_type": "stream",
       "stream": "stdout",
       "text": [
        "28900 "
       ]
      },
      {
       "output_type": "stream",
       "stream": "stdout",
       "text": [
        "29000 "
       ]
      },
      {
       "output_type": "stream",
       "stream": "stdout",
       "text": [
        "29100 "
       ]
      },
      {
       "output_type": "stream",
       "stream": "stdout",
       "text": [
        "29200 "
       ]
      },
      {
       "output_type": "stream",
       "stream": "stdout",
       "text": [
        "29300 "
       ]
      },
      {
       "output_type": "stream",
       "stream": "stdout",
       "text": [
        "29400 "
       ]
      },
      {
       "output_type": "stream",
       "stream": "stdout",
       "text": [
        "29500 "
       ]
      },
      {
       "output_type": "stream",
       "stream": "stdout",
       "text": [
        "29600 "
       ]
      },
      {
       "output_type": "stream",
       "stream": "stdout",
       "text": [
        "29700 "
       ]
      },
      {
       "output_type": "stream",
       "stream": "stdout",
       "text": [
        "29800 "
       ]
      },
      {
       "output_type": "stream",
       "stream": "stdout",
       "text": [
        "29900 "
       ]
      },
      {
       "output_type": "stream",
       "stream": "stdout",
       "text": [
        "30000 "
       ]
      },
      {
       "output_type": "stream",
       "stream": "stdout",
       "text": [
        "30100 "
       ]
      },
      {
       "output_type": "stream",
       "stream": "stdout",
       "text": [
        "30200 "
       ]
      },
      {
       "output_type": "stream",
       "stream": "stdout",
       "text": [
        "30300 "
       ]
      },
      {
       "output_type": "stream",
       "stream": "stdout",
       "text": [
        "30400 "
       ]
      },
      {
       "output_type": "stream",
       "stream": "stdout",
       "text": [
        "30500 "
       ]
      },
      {
       "output_type": "stream",
       "stream": "stdout",
       "text": [
        "30600 "
       ]
      },
      {
       "output_type": "stream",
       "stream": "stdout",
       "text": [
        "30700 "
       ]
      },
      {
       "output_type": "stream",
       "stream": "stdout",
       "text": [
        "30800 "
       ]
      },
      {
       "output_type": "stream",
       "stream": "stdout",
       "text": [
        "30900 "
       ]
      },
      {
       "output_type": "stream",
       "stream": "stdout",
       "text": [
        "31000 "
       ]
      },
      {
       "output_type": "stream",
       "stream": "stdout",
       "text": [
        "31100 "
       ]
      },
      {
       "output_type": "stream",
       "stream": "stdout",
       "text": [
        "31200 "
       ]
      },
      {
       "output_type": "stream",
       "stream": "stdout",
       "text": [
        "31300 "
       ]
      },
      {
       "output_type": "stream",
       "stream": "stdout",
       "text": [
        "31400 "
       ]
      },
      {
       "output_type": "stream",
       "stream": "stdout",
       "text": [
        "31500 "
       ]
      },
      {
       "output_type": "stream",
       "stream": "stdout",
       "text": [
        "31600 "
       ]
      },
      {
       "output_type": "stream",
       "stream": "stdout",
       "text": [
        "31700 "
       ]
      },
      {
       "output_type": "stream",
       "stream": "stdout",
       "text": [
        "31800 "
       ]
      },
      {
       "output_type": "stream",
       "stream": "stdout",
       "text": [
        "31900 "
       ]
      },
      {
       "output_type": "stream",
       "stream": "stdout",
       "text": [
        "32000 "
       ]
      },
      {
       "output_type": "stream",
       "stream": "stdout",
       "text": [
        "32100 "
       ]
      },
      {
       "output_type": "stream",
       "stream": "stdout",
       "text": [
        "32200 "
       ]
      },
      {
       "output_type": "stream",
       "stream": "stdout",
       "text": [
        "32300 "
       ]
      },
      {
       "output_type": "stream",
       "stream": "stdout",
       "text": [
        "32400 "
       ]
      },
      {
       "output_type": "stream",
       "stream": "stdout",
       "text": [
        "32500 "
       ]
      },
      {
       "output_type": "stream",
       "stream": "stdout",
       "text": [
        "32600 "
       ]
      },
      {
       "output_type": "stream",
       "stream": "stdout",
       "text": [
        "32700 "
       ]
      },
      {
       "output_type": "stream",
       "stream": "stdout",
       "text": [
        "32800 "
       ]
      },
      {
       "output_type": "stream",
       "stream": "stdout",
       "text": [
        "32900 "
       ]
      },
      {
       "output_type": "stream",
       "stream": "stdout",
       "text": [
        "33000 "
       ]
      },
      {
       "output_type": "stream",
       "stream": "stdout",
       "text": [
        "33100 "
       ]
      },
      {
       "output_type": "stream",
       "stream": "stdout",
       "text": [
        "33200 "
       ]
      },
      {
       "output_type": "stream",
       "stream": "stdout",
       "text": [
        "33300 "
       ]
      },
      {
       "output_type": "stream",
       "stream": "stdout",
       "text": [
        "33400 "
       ]
      },
      {
       "output_type": "stream",
       "stream": "stdout",
       "text": [
        "33500 "
       ]
      },
      {
       "output_type": "stream",
       "stream": "stdout",
       "text": [
        "33600 "
       ]
      },
      {
       "output_type": "stream",
       "stream": "stdout",
       "text": [
        "33700 "
       ]
      },
      {
       "output_type": "stream",
       "stream": "stdout",
       "text": [
        "33800 "
       ]
      },
      {
       "output_type": "stream",
       "stream": "stdout",
       "text": [
        "33900 "
       ]
      },
      {
       "output_type": "stream",
       "stream": "stdout",
       "text": [
        "34000 "
       ]
      },
      {
       "output_type": "stream",
       "stream": "stdout",
       "text": [
        "34100 "
       ]
      },
      {
       "output_type": "stream",
       "stream": "stdout",
       "text": [
        "34200 "
       ]
      },
      {
       "output_type": "stream",
       "stream": "stdout",
       "text": [
        "34300 "
       ]
      },
      {
       "output_type": "stream",
       "stream": "stdout",
       "text": [
        "34400 "
       ]
      },
      {
       "output_type": "stream",
       "stream": "stdout",
       "text": [
        "34500 "
       ]
      },
      {
       "output_type": "stream",
       "stream": "stdout",
       "text": [
        "34600 "
       ]
      },
      {
       "output_type": "stream",
       "stream": "stdout",
       "text": [
        "34700 "
       ]
      },
      {
       "output_type": "stream",
       "stream": "stdout",
       "text": [
        "34800 "
       ]
      },
      {
       "output_type": "stream",
       "stream": "stdout",
       "text": [
        "34900 "
       ]
      },
      {
       "output_type": "stream",
       "stream": "stdout",
       "text": [
        "35000 "
       ]
      },
      {
       "output_type": "stream",
       "stream": "stdout",
       "text": [
        "35100 "
       ]
      },
      {
       "output_type": "stream",
       "stream": "stdout",
       "text": [
        "35200 "
       ]
      },
      {
       "output_type": "stream",
       "stream": "stdout",
       "text": [
        "35300 "
       ]
      },
      {
       "output_type": "stream",
       "stream": "stdout",
       "text": [
        "35400 "
       ]
      },
      {
       "output_type": "stream",
       "stream": "stdout",
       "text": [
        "35500 "
       ]
      },
      {
       "output_type": "stream",
       "stream": "stdout",
       "text": [
        "35600 "
       ]
      },
      {
       "output_type": "stream",
       "stream": "stdout",
       "text": [
        "35700 "
       ]
      },
      {
       "output_type": "stream",
       "stream": "stdout",
       "text": [
        "35800 "
       ]
      },
      {
       "output_type": "stream",
       "stream": "stdout",
       "text": [
        "35900 "
       ]
      },
      {
       "output_type": "stream",
       "stream": "stdout",
       "text": [
        "36000 "
       ]
      },
      {
       "output_type": "stream",
       "stream": "stdout",
       "text": [
        "36100 "
       ]
      },
      {
       "output_type": "stream",
       "stream": "stdout",
       "text": [
        "36200 "
       ]
      },
      {
       "output_type": "stream",
       "stream": "stdout",
       "text": [
        "36300 "
       ]
      },
      {
       "output_type": "stream",
       "stream": "stdout",
       "text": [
        "36400 "
       ]
      },
      {
       "output_type": "stream",
       "stream": "stdout",
       "text": [
        "36500 "
       ]
      },
      {
       "output_type": "stream",
       "stream": "stdout",
       "text": [
        "36600 "
       ]
      },
      {
       "output_type": "stream",
       "stream": "stdout",
       "text": [
        "36700 "
       ]
      },
      {
       "output_type": "stream",
       "stream": "stdout",
       "text": [
        "36800 "
       ]
      },
      {
       "output_type": "stream",
       "stream": "stdout",
       "text": [
        "36900 "
       ]
      },
      {
       "output_type": "stream",
       "stream": "stdout",
       "text": [
        "37000 "
       ]
      },
      {
       "output_type": "stream",
       "stream": "stdout",
       "text": [
        "37100 "
       ]
      },
      {
       "output_type": "stream",
       "stream": "stdout",
       "text": [
        "37200 "
       ]
      },
      {
       "output_type": "stream",
       "stream": "stdout",
       "text": [
        "37300 "
       ]
      },
      {
       "output_type": "stream",
       "stream": "stdout",
       "text": [
        "37400 "
       ]
      },
      {
       "output_type": "stream",
       "stream": "stdout",
       "text": [
        "37500 "
       ]
      },
      {
       "output_type": "stream",
       "stream": "stdout",
       "text": [
        "37600 "
       ]
      },
      {
       "output_type": "stream",
       "stream": "stdout",
       "text": [
        "37700 "
       ]
      },
      {
       "output_type": "stream",
       "stream": "stdout",
       "text": [
        "37800 "
       ]
      },
      {
       "output_type": "stream",
       "stream": "stdout",
       "text": [
        "37900 "
       ]
      },
      {
       "output_type": "stream",
       "stream": "stdout",
       "text": [
        "38000 "
       ]
      },
      {
       "output_type": "stream",
       "stream": "stdout",
       "text": [
        "38100 "
       ]
      },
      {
       "output_type": "stream",
       "stream": "stdout",
       "text": [
        "38200 "
       ]
      },
      {
       "output_type": "stream",
       "stream": "stdout",
       "text": [
        "38300 "
       ]
      },
      {
       "output_type": "stream",
       "stream": "stdout",
       "text": [
        "38400 "
       ]
      },
      {
       "output_type": "stream",
       "stream": "stdout",
       "text": [
        "38500 "
       ]
      },
      {
       "output_type": "stream",
       "stream": "stdout",
       "text": [
        "38600 "
       ]
      },
      {
       "output_type": "stream",
       "stream": "stdout",
       "text": [
        "38700 "
       ]
      },
      {
       "output_type": "stream",
       "stream": "stdout",
       "text": [
        "38800 "
       ]
      },
      {
       "output_type": "stream",
       "stream": "stdout",
       "text": [
        "38900 "
       ]
      },
      {
       "output_type": "stream",
       "stream": "stdout",
       "text": [
        "39000 "
       ]
      },
      {
       "output_type": "stream",
       "stream": "stdout",
       "text": [
        "39100 "
       ]
      },
      {
       "output_type": "stream",
       "stream": "stdout",
       "text": [
        "39200 "
       ]
      },
      {
       "output_type": "stream",
       "stream": "stdout",
       "text": [
        "39300 "
       ]
      },
      {
       "output_type": "stream",
       "stream": "stdout",
       "text": [
        "39400 "
       ]
      },
      {
       "output_type": "stream",
       "stream": "stdout",
       "text": [
        "39500 "
       ]
      },
      {
       "output_type": "stream",
       "stream": "stdout",
       "text": [
        "39600 "
       ]
      },
      {
       "output_type": "stream",
       "stream": "stdout",
       "text": [
        "39700 "
       ]
      },
      {
       "output_type": "stream",
       "stream": "stdout",
       "text": [
        "39800 "
       ]
      },
      {
       "output_type": "stream",
       "stream": "stdout",
       "text": [
        "39900 "
       ]
      },
      {
       "output_type": "stream",
       "stream": "stdout",
       "text": [
        "40000 "
       ]
      },
      {
       "output_type": "stream",
       "stream": "stdout",
       "text": [
        "40100 "
       ]
      },
      {
       "output_type": "stream",
       "stream": "stdout",
       "text": [
        "40200 "
       ]
      },
      {
       "output_type": "stream",
       "stream": "stdout",
       "text": [
        "40300 "
       ]
      },
      {
       "output_type": "stream",
       "stream": "stdout",
       "text": [
        "40400 "
       ]
      },
      {
       "output_type": "stream",
       "stream": "stdout",
       "text": [
        "40500 "
       ]
      },
      {
       "output_type": "stream",
       "stream": "stdout",
       "text": [
        "40600 "
       ]
      },
      {
       "output_type": "stream",
       "stream": "stdout",
       "text": [
        "40700 "
       ]
      },
      {
       "output_type": "stream",
       "stream": "stdout",
       "text": [
        "40800 "
       ]
      },
      {
       "output_type": "stream",
       "stream": "stdout",
       "text": [
        "40900 "
       ]
      },
      {
       "output_type": "stream",
       "stream": "stdout",
       "text": [
        "41000 "
       ]
      },
      {
       "output_type": "stream",
       "stream": "stdout",
       "text": [
        "41100 "
       ]
      },
      {
       "output_type": "stream",
       "stream": "stdout",
       "text": [
        "41200 "
       ]
      },
      {
       "output_type": "stream",
       "stream": "stdout",
       "text": [
        "41300 "
       ]
      },
      {
       "output_type": "stream",
       "stream": "stdout",
       "text": [
        "41400 "
       ]
      },
      {
       "output_type": "stream",
       "stream": "stdout",
       "text": [
        "41500 "
       ]
      },
      {
       "output_type": "stream",
       "stream": "stdout",
       "text": [
        "41600 "
       ]
      },
      {
       "output_type": "stream",
       "stream": "stdout",
       "text": [
        "41700 "
       ]
      },
      {
       "output_type": "stream",
       "stream": "stdout",
       "text": [
        "41800 "
       ]
      },
      {
       "output_type": "stream",
       "stream": "stdout",
       "text": [
        "41900 "
       ]
      },
      {
       "output_type": "stream",
       "stream": "stdout",
       "text": [
        "42000 "
       ]
      },
      {
       "output_type": "stream",
       "stream": "stdout",
       "text": [
        "42100 "
       ]
      },
      {
       "output_type": "stream",
       "stream": "stdout",
       "text": [
        "42200 "
       ]
      },
      {
       "output_type": "stream",
       "stream": "stdout",
       "text": [
        "42300 "
       ]
      },
      {
       "output_type": "stream",
       "stream": "stdout",
       "text": [
        "42400 "
       ]
      },
      {
       "output_type": "stream",
       "stream": "stdout",
       "text": [
        "42500 "
       ]
      },
      {
       "output_type": "stream",
       "stream": "stdout",
       "text": [
        "42600 "
       ]
      },
      {
       "output_type": "stream",
       "stream": "stdout",
       "text": [
        "42700 "
       ]
      },
      {
       "output_type": "stream",
       "stream": "stdout",
       "text": [
        "42800 "
       ]
      },
      {
       "output_type": "stream",
       "stream": "stdout",
       "text": [
        "42900 "
       ]
      },
      {
       "output_type": "stream",
       "stream": "stdout",
       "text": [
        "43000 "
       ]
      },
      {
       "output_type": "stream",
       "stream": "stdout",
       "text": [
        "43100 "
       ]
      },
      {
       "output_type": "stream",
       "stream": "stdout",
       "text": [
        "43200 "
       ]
      },
      {
       "output_type": "stream",
       "stream": "stdout",
       "text": [
        "43300 "
       ]
      },
      {
       "output_type": "stream",
       "stream": "stdout",
       "text": [
        "43400 "
       ]
      },
      {
       "output_type": "stream",
       "stream": "stdout",
       "text": [
        "43500 "
       ]
      },
      {
       "output_type": "stream",
       "stream": "stdout",
       "text": [
        "43600 "
       ]
      },
      {
       "output_type": "stream",
       "stream": "stdout",
       "text": [
        "43700 "
       ]
      },
      {
       "output_type": "stream",
       "stream": "stdout",
       "text": [
        "43800 "
       ]
      },
      {
       "output_type": "stream",
       "stream": "stdout",
       "text": [
        "43900 "
       ]
      },
      {
       "output_type": "stream",
       "stream": "stdout",
       "text": [
        "44000 "
       ]
      },
      {
       "output_type": "stream",
       "stream": "stdout",
       "text": [
        "44100 "
       ]
      },
      {
       "output_type": "stream",
       "stream": "stdout",
       "text": [
        "44200 "
       ]
      },
      {
       "output_type": "stream",
       "stream": "stdout",
       "text": [
        "44300 "
       ]
      },
      {
       "output_type": "stream",
       "stream": "stdout",
       "text": [
        "44400 "
       ]
      },
      {
       "output_type": "stream",
       "stream": "stdout",
       "text": [
        "44500 "
       ]
      },
      {
       "output_type": "stream",
       "stream": "stdout",
       "text": [
        "44600 "
       ]
      },
      {
       "output_type": "stream",
       "stream": "stdout",
       "text": [
        "44700 "
       ]
      },
      {
       "output_type": "stream",
       "stream": "stdout",
       "text": [
        "44800 "
       ]
      },
      {
       "output_type": "stream",
       "stream": "stdout",
       "text": [
        "44900 "
       ]
      },
      {
       "output_type": "stream",
       "stream": "stdout",
       "text": [
        "45000 "
       ]
      },
      {
       "output_type": "stream",
       "stream": "stdout",
       "text": [
        "45100 "
       ]
      },
      {
       "output_type": "stream",
       "stream": "stdout",
       "text": [
        "45200 "
       ]
      },
      {
       "output_type": "stream",
       "stream": "stdout",
       "text": [
        "45300 "
       ]
      },
      {
       "output_type": "stream",
       "stream": "stdout",
       "text": [
        "45400 "
       ]
      },
      {
       "output_type": "stream",
       "stream": "stdout",
       "text": [
        "45500 "
       ]
      },
      {
       "output_type": "stream",
       "stream": "stdout",
       "text": [
        "45600 "
       ]
      },
      {
       "output_type": "stream",
       "stream": "stdout",
       "text": [
        "45700 "
       ]
      },
      {
       "output_type": "stream",
       "stream": "stdout",
       "text": [
        "45800 "
       ]
      },
      {
       "output_type": "stream",
       "stream": "stdout",
       "text": [
        "45900 "
       ]
      },
      {
       "output_type": "stream",
       "stream": "stdout",
       "text": [
        "46000\n"
       ]
      }
     ],
     "prompt_number": 102
    },
    {
     "cell_type": "code",
     "collapsed": false,
     "input": [
      "n = -14\n",
      "res = []\n",
      "k = 0\n",
      "for i in range(len(train)):\n",
      "    res.append(MeanNDayFromThis(n, train, train.City[i], train.Year[i], train.Month[i], train.Day[i]))\n",
      "    if ( (k % 100) == 0):\n",
      "        print k,\n",
      "    k += 1\n",
      "train[\"MeanPrev14Day\"] = pd.Series(res)"
     ],
     "language": "python",
     "metadata": {},
     "outputs": [
      {
       "output_type": "stream",
       "stream": "stdout",
       "text": [
        "0 "
       ]
      },
      {
       "output_type": "stream",
       "stream": "stdout",
       "text": [
        "100 "
       ]
      },
      {
       "output_type": "stream",
       "stream": "stdout",
       "text": [
        "200 "
       ]
      },
      {
       "output_type": "stream",
       "stream": "stdout",
       "text": [
        "300 "
       ]
      },
      {
       "output_type": "stream",
       "stream": "stdout",
       "text": [
        "400 "
       ]
      },
      {
       "output_type": "stream",
       "stream": "stdout",
       "text": [
        "500 "
       ]
      },
      {
       "output_type": "stream",
       "stream": "stdout",
       "text": [
        "600 "
       ]
      },
      {
       "output_type": "stream",
       "stream": "stdout",
       "text": [
        "700 "
       ]
      },
      {
       "output_type": "stream",
       "stream": "stdout",
       "text": [
        "800 "
       ]
      },
      {
       "output_type": "stream",
       "stream": "stdout",
       "text": [
        "900 "
       ]
      },
      {
       "output_type": "stream",
       "stream": "stdout",
       "text": [
        "1000 "
       ]
      },
      {
       "output_type": "stream",
       "stream": "stdout",
       "text": [
        "1100 "
       ]
      },
      {
       "output_type": "stream",
       "stream": "stdout",
       "text": [
        "1200 "
       ]
      },
      {
       "output_type": "stream",
       "stream": "stdout",
       "text": [
        "1300 "
       ]
      },
      {
       "output_type": "stream",
       "stream": "stdout",
       "text": [
        "1400 "
       ]
      },
      {
       "output_type": "stream",
       "stream": "stdout",
       "text": [
        "1500 "
       ]
      },
      {
       "output_type": "stream",
       "stream": "stdout",
       "text": [
        "1600 "
       ]
      },
      {
       "output_type": "stream",
       "stream": "stdout",
       "text": [
        "1700 "
       ]
      },
      {
       "output_type": "stream",
       "stream": "stdout",
       "text": [
        "1800 "
       ]
      },
      {
       "output_type": "stream",
       "stream": "stdout",
       "text": [
        "1900 "
       ]
      },
      {
       "output_type": "stream",
       "stream": "stdout",
       "text": [
        "2000 "
       ]
      },
      {
       "output_type": "stream",
       "stream": "stdout",
       "text": [
        "2100 "
       ]
      },
      {
       "output_type": "stream",
       "stream": "stdout",
       "text": [
        "2200 "
       ]
      },
      {
       "output_type": "stream",
       "stream": "stdout",
       "text": [
        "2300 "
       ]
      },
      {
       "output_type": "stream",
       "stream": "stdout",
       "text": [
        "2400 "
       ]
      },
      {
       "output_type": "stream",
       "stream": "stdout",
       "text": [
        "2500 "
       ]
      },
      {
       "output_type": "stream",
       "stream": "stdout",
       "text": [
        "2600 "
       ]
      },
      {
       "output_type": "stream",
       "stream": "stdout",
       "text": [
        "2700 "
       ]
      },
      {
       "output_type": "stream",
       "stream": "stdout",
       "text": [
        "2800 "
       ]
      },
      {
       "output_type": "stream",
       "stream": "stdout",
       "text": [
        "2900 "
       ]
      },
      {
       "output_type": "stream",
       "stream": "stdout",
       "text": [
        "3000 "
       ]
      },
      {
       "output_type": "stream",
       "stream": "stdout",
       "text": [
        "3100 "
       ]
      },
      {
       "output_type": "stream",
       "stream": "stdout",
       "text": [
        "3200 "
       ]
      },
      {
       "output_type": "stream",
       "stream": "stdout",
       "text": [
        "3300 "
       ]
      },
      {
       "output_type": "stream",
       "stream": "stdout",
       "text": [
        "3400 "
       ]
      },
      {
       "output_type": "stream",
       "stream": "stdout",
       "text": [
        "3500 "
       ]
      },
      {
       "output_type": "stream",
       "stream": "stdout",
       "text": [
        "3600 "
       ]
      },
      {
       "output_type": "stream",
       "stream": "stdout",
       "text": [
        "3700 "
       ]
      },
      {
       "output_type": "stream",
       "stream": "stdout",
       "text": [
        "3800 "
       ]
      },
      {
       "output_type": "stream",
       "stream": "stdout",
       "text": [
        "3900 "
       ]
      },
      {
       "output_type": "stream",
       "stream": "stdout",
       "text": [
        "4000 "
       ]
      },
      {
       "output_type": "stream",
       "stream": "stdout",
       "text": [
        "4100 "
       ]
      },
      {
       "output_type": "stream",
       "stream": "stdout",
       "text": [
        "4200 "
       ]
      },
      {
       "output_type": "stream",
       "stream": "stdout",
       "text": [
        "4300 "
       ]
      },
      {
       "output_type": "stream",
       "stream": "stdout",
       "text": [
        "4400 "
       ]
      },
      {
       "output_type": "stream",
       "stream": "stdout",
       "text": [
        "4500 "
       ]
      },
      {
       "output_type": "stream",
       "stream": "stdout",
       "text": [
        "4600 "
       ]
      },
      {
       "output_type": "stream",
       "stream": "stdout",
       "text": [
        "4700 "
       ]
      },
      {
       "output_type": "stream",
       "stream": "stdout",
       "text": [
        "4800 "
       ]
      },
      {
       "output_type": "stream",
       "stream": "stdout",
       "text": [
        "4900 "
       ]
      },
      {
       "output_type": "stream",
       "stream": "stdout",
       "text": [
        "5000 "
       ]
      },
      {
       "output_type": "stream",
       "stream": "stdout",
       "text": [
        "5100 "
       ]
      },
      {
       "output_type": "stream",
       "stream": "stdout",
       "text": [
        "5200 "
       ]
      },
      {
       "output_type": "stream",
       "stream": "stdout",
       "text": [
        "5300 "
       ]
      },
      {
       "output_type": "stream",
       "stream": "stdout",
       "text": [
        "5400 "
       ]
      },
      {
       "output_type": "stream",
       "stream": "stdout",
       "text": [
        "5500 "
       ]
      },
      {
       "output_type": "stream",
       "stream": "stdout",
       "text": [
        "5600 "
       ]
      },
      {
       "output_type": "stream",
       "stream": "stdout",
       "text": [
        "5700 "
       ]
      },
      {
       "output_type": "stream",
       "stream": "stdout",
       "text": [
        "5800 "
       ]
      },
      {
       "output_type": "stream",
       "stream": "stdout",
       "text": [
        "5900 "
       ]
      },
      {
       "output_type": "stream",
       "stream": "stdout",
       "text": [
        "6000 "
       ]
      },
      {
       "output_type": "stream",
       "stream": "stdout",
       "text": [
        "6100 "
       ]
      },
      {
       "output_type": "stream",
       "stream": "stdout",
       "text": [
        "6200 "
       ]
      },
      {
       "output_type": "stream",
       "stream": "stdout",
       "text": [
        "6300 "
       ]
      },
      {
       "output_type": "stream",
       "stream": "stdout",
       "text": [
        "6400 "
       ]
      },
      {
       "output_type": "stream",
       "stream": "stdout",
       "text": [
        "6500 "
       ]
      },
      {
       "output_type": "stream",
       "stream": "stdout",
       "text": [
        "6600 "
       ]
      },
      {
       "output_type": "stream",
       "stream": "stdout",
       "text": [
        "6700 "
       ]
      },
      {
       "output_type": "stream",
       "stream": "stdout",
       "text": [
        "6800 "
       ]
      },
      {
       "output_type": "stream",
       "stream": "stdout",
       "text": [
        "6900 "
       ]
      },
      {
       "output_type": "stream",
       "stream": "stdout",
       "text": [
        "7000 "
       ]
      },
      {
       "output_type": "stream",
       "stream": "stdout",
       "text": [
        "7100 "
       ]
      },
      {
       "output_type": "stream",
       "stream": "stdout",
       "text": [
        "7200 "
       ]
      },
      {
       "output_type": "stream",
       "stream": "stdout",
       "text": [
        "7300 "
       ]
      },
      {
       "output_type": "stream",
       "stream": "stdout",
       "text": [
        "7400 "
       ]
      },
      {
       "output_type": "stream",
       "stream": "stdout",
       "text": [
        "7500 "
       ]
      },
      {
       "output_type": "stream",
       "stream": "stdout",
       "text": [
        "7600 "
       ]
      },
      {
       "output_type": "stream",
       "stream": "stdout",
       "text": [
        "7700 "
       ]
      },
      {
       "output_type": "stream",
       "stream": "stdout",
       "text": [
        "7800 "
       ]
      },
      {
       "output_type": "stream",
       "stream": "stdout",
       "text": [
        "7900 "
       ]
      },
      {
       "output_type": "stream",
       "stream": "stdout",
       "text": [
        "8000 "
       ]
      },
      {
       "output_type": "stream",
       "stream": "stdout",
       "text": [
        "8100 "
       ]
      },
      {
       "output_type": "stream",
       "stream": "stdout",
       "text": [
        "8200 "
       ]
      },
      {
       "output_type": "stream",
       "stream": "stdout",
       "text": [
        "8300 "
       ]
      },
      {
       "output_type": "stream",
       "stream": "stdout",
       "text": [
        "8400 "
       ]
      },
      {
       "output_type": "stream",
       "stream": "stdout",
       "text": [
        "8500 "
       ]
      },
      {
       "output_type": "stream",
       "stream": "stdout",
       "text": [
        "8600 "
       ]
      },
      {
       "output_type": "stream",
       "stream": "stdout",
       "text": [
        "8700 "
       ]
      },
      {
       "output_type": "stream",
       "stream": "stdout",
       "text": [
        "8800 "
       ]
      },
      {
       "output_type": "stream",
       "stream": "stdout",
       "text": [
        "8900 "
       ]
      },
      {
       "output_type": "stream",
       "stream": "stdout",
       "text": [
        "9000 "
       ]
      },
      {
       "output_type": "stream",
       "stream": "stdout",
       "text": [
        "9100 "
       ]
      },
      {
       "output_type": "stream",
       "stream": "stdout",
       "text": [
        "9200 "
       ]
      },
      {
       "output_type": "stream",
       "stream": "stdout",
       "text": [
        "9300 "
       ]
      },
      {
       "output_type": "stream",
       "stream": "stdout",
       "text": [
        "9400 "
       ]
      },
      {
       "output_type": "stream",
       "stream": "stdout",
       "text": [
        "9500 "
       ]
      },
      {
       "output_type": "stream",
       "stream": "stdout",
       "text": [
        "9600 "
       ]
      },
      {
       "output_type": "stream",
       "stream": "stdout",
       "text": [
        "9700 "
       ]
      },
      {
       "output_type": "stream",
       "stream": "stdout",
       "text": [
        "9800 "
       ]
      },
      {
       "output_type": "stream",
       "stream": "stdout",
       "text": [
        "9900 "
       ]
      },
      {
       "output_type": "stream",
       "stream": "stdout",
       "text": [
        "10000 "
       ]
      },
      {
       "output_type": "stream",
       "stream": "stdout",
       "text": [
        "10100 "
       ]
      },
      {
       "output_type": "stream",
       "stream": "stdout",
       "text": [
        "10200 "
       ]
      },
      {
       "output_type": "stream",
       "stream": "stdout",
       "text": [
        "10300 "
       ]
      },
      {
       "output_type": "stream",
       "stream": "stdout",
       "text": [
        "10400 "
       ]
      },
      {
       "output_type": "stream",
       "stream": "stdout",
       "text": [
        "10500 "
       ]
      },
      {
       "output_type": "stream",
       "stream": "stdout",
       "text": [
        "10600 "
       ]
      },
      {
       "output_type": "stream",
       "stream": "stdout",
       "text": [
        "10700 "
       ]
      },
      {
       "output_type": "stream",
       "stream": "stdout",
       "text": [
        "10800 "
       ]
      },
      {
       "output_type": "stream",
       "stream": "stdout",
       "text": [
        "10900 "
       ]
      },
      {
       "output_type": "stream",
       "stream": "stdout",
       "text": [
        "11000 "
       ]
      },
      {
       "output_type": "stream",
       "stream": "stdout",
       "text": [
        "11100 "
       ]
      },
      {
       "output_type": "stream",
       "stream": "stdout",
       "text": [
        "11200 "
       ]
      },
      {
       "output_type": "stream",
       "stream": "stdout",
       "text": [
        "11300 "
       ]
      },
      {
       "output_type": "stream",
       "stream": "stdout",
       "text": [
        "11400 "
       ]
      },
      {
       "output_type": "stream",
       "stream": "stdout",
       "text": [
        "11500 "
       ]
      },
      {
       "output_type": "stream",
       "stream": "stdout",
       "text": [
        "11600 "
       ]
      },
      {
       "output_type": "stream",
       "stream": "stdout",
       "text": [
        "11700 "
       ]
      },
      {
       "output_type": "stream",
       "stream": "stdout",
       "text": [
        "11800 "
       ]
      },
      {
       "output_type": "stream",
       "stream": "stdout",
       "text": [
        "11900 "
       ]
      },
      {
       "output_type": "stream",
       "stream": "stdout",
       "text": [
        "12000 "
       ]
      },
      {
       "output_type": "stream",
       "stream": "stdout",
       "text": [
        "12100 "
       ]
      },
      {
       "output_type": "stream",
       "stream": "stdout",
       "text": [
        "12200 "
       ]
      },
      {
       "output_type": "stream",
       "stream": "stdout",
       "text": [
        "12300 "
       ]
      },
      {
       "output_type": "stream",
       "stream": "stdout",
       "text": [
        "12400 "
       ]
      },
      {
       "output_type": "stream",
       "stream": "stdout",
       "text": [
        "12500 "
       ]
      },
      {
       "output_type": "stream",
       "stream": "stdout",
       "text": [
        "12600 "
       ]
      },
      {
       "output_type": "stream",
       "stream": "stdout",
       "text": [
        "12700 "
       ]
      },
      {
       "output_type": "stream",
       "stream": "stdout",
       "text": [
        "12800 "
       ]
      },
      {
       "output_type": "stream",
       "stream": "stdout",
       "text": [
        "12900 "
       ]
      },
      {
       "output_type": "stream",
       "stream": "stdout",
       "text": [
        "13000 "
       ]
      },
      {
       "output_type": "stream",
       "stream": "stdout",
       "text": [
        "13100 "
       ]
      },
      {
       "output_type": "stream",
       "stream": "stdout",
       "text": [
        "13200 "
       ]
      },
      {
       "output_type": "stream",
       "stream": "stdout",
       "text": [
        "13300 "
       ]
      },
      {
       "output_type": "stream",
       "stream": "stdout",
       "text": [
        "13400 "
       ]
      },
      {
       "output_type": "stream",
       "stream": "stdout",
       "text": [
        "13500 "
       ]
      },
      {
       "output_type": "stream",
       "stream": "stdout",
       "text": [
        "13600 "
       ]
      },
      {
       "output_type": "stream",
       "stream": "stdout",
       "text": [
        "13700 "
       ]
      },
      {
       "output_type": "stream",
       "stream": "stdout",
       "text": [
        "13800 "
       ]
      },
      {
       "output_type": "stream",
       "stream": "stdout",
       "text": [
        "13900 "
       ]
      },
      {
       "output_type": "stream",
       "stream": "stdout",
       "text": [
        "14000 "
       ]
      },
      {
       "output_type": "stream",
       "stream": "stdout",
       "text": [
        "14100 "
       ]
      },
      {
       "output_type": "stream",
       "stream": "stdout",
       "text": [
        "14200 "
       ]
      },
      {
       "output_type": "stream",
       "stream": "stdout",
       "text": [
        "14300 "
       ]
      },
      {
       "output_type": "stream",
       "stream": "stdout",
       "text": [
        "14400 "
       ]
      },
      {
       "output_type": "stream",
       "stream": "stdout",
       "text": [
        "14500 "
       ]
      },
      {
       "output_type": "stream",
       "stream": "stdout",
       "text": [
        "14600 "
       ]
      },
      {
       "output_type": "stream",
       "stream": "stdout",
       "text": [
        "14700 "
       ]
      },
      {
       "output_type": "stream",
       "stream": "stdout",
       "text": [
        "14800 "
       ]
      },
      {
       "output_type": "stream",
       "stream": "stdout",
       "text": [
        "14900 "
       ]
      },
      {
       "output_type": "stream",
       "stream": "stdout",
       "text": [
        "15000 "
       ]
      },
      {
       "output_type": "stream",
       "stream": "stdout",
       "text": [
        "15100 "
       ]
      },
      {
       "output_type": "stream",
       "stream": "stdout",
       "text": [
        "15200 "
       ]
      },
      {
       "output_type": "stream",
       "stream": "stdout",
       "text": [
        "15300 "
       ]
      },
      {
       "output_type": "stream",
       "stream": "stdout",
       "text": [
        "15400 "
       ]
      },
      {
       "output_type": "stream",
       "stream": "stdout",
       "text": [
        "15500 "
       ]
      },
      {
       "output_type": "stream",
       "stream": "stdout",
       "text": [
        "15600 "
       ]
      },
      {
       "output_type": "stream",
       "stream": "stdout",
       "text": [
        "15700 "
       ]
      },
      {
       "output_type": "stream",
       "stream": "stdout",
       "text": [
        "15800 "
       ]
      },
      {
       "output_type": "stream",
       "stream": "stdout",
       "text": [
        "15900 "
       ]
      },
      {
       "output_type": "stream",
       "stream": "stdout",
       "text": [
        "16000 "
       ]
      },
      {
       "output_type": "stream",
       "stream": "stdout",
       "text": [
        "16100 "
       ]
      },
      {
       "output_type": "stream",
       "stream": "stdout",
       "text": [
        "16200 "
       ]
      },
      {
       "output_type": "stream",
       "stream": "stdout",
       "text": [
        "16300 "
       ]
      },
      {
       "output_type": "stream",
       "stream": "stdout",
       "text": [
        "16400 "
       ]
      },
      {
       "output_type": "stream",
       "stream": "stdout",
       "text": [
        "16500 "
       ]
      },
      {
       "output_type": "stream",
       "stream": "stdout",
       "text": [
        "16600 "
       ]
      },
      {
       "output_type": "stream",
       "stream": "stdout",
       "text": [
        "16700 "
       ]
      },
      {
       "output_type": "stream",
       "stream": "stdout",
       "text": [
        "16800 "
       ]
      },
      {
       "output_type": "stream",
       "stream": "stdout",
       "text": [
        "16900 "
       ]
      },
      {
       "output_type": "stream",
       "stream": "stdout",
       "text": [
        "17000 "
       ]
      },
      {
       "output_type": "stream",
       "stream": "stdout",
       "text": [
        "17100 "
       ]
      },
      {
       "output_type": "stream",
       "stream": "stdout",
       "text": [
        "17200 "
       ]
      },
      {
       "output_type": "stream",
       "stream": "stdout",
       "text": [
        "17300 "
       ]
      },
      {
       "output_type": "stream",
       "stream": "stdout",
       "text": [
        "17400 "
       ]
      },
      {
       "output_type": "stream",
       "stream": "stdout",
       "text": [
        "17500 "
       ]
      },
      {
       "output_type": "stream",
       "stream": "stdout",
       "text": [
        "17600 "
       ]
      },
      {
       "output_type": "stream",
       "stream": "stdout",
       "text": [
        "17700 "
       ]
      },
      {
       "output_type": "stream",
       "stream": "stdout",
       "text": [
        "17800 "
       ]
      },
      {
       "output_type": "stream",
       "stream": "stdout",
       "text": [
        "17900 "
       ]
      },
      {
       "output_type": "stream",
       "stream": "stdout",
       "text": [
        "18000 "
       ]
      },
      {
       "output_type": "stream",
       "stream": "stdout",
       "text": [
        "18100 "
       ]
      },
      {
       "output_type": "stream",
       "stream": "stdout",
       "text": [
        "18200 "
       ]
      },
      {
       "output_type": "stream",
       "stream": "stdout",
       "text": [
        "18300 "
       ]
      },
      {
       "output_type": "stream",
       "stream": "stdout",
       "text": [
        "18400 "
       ]
      },
      {
       "output_type": "stream",
       "stream": "stdout",
       "text": [
        "18500 "
       ]
      },
      {
       "output_type": "stream",
       "stream": "stdout",
       "text": [
        "18600 "
       ]
      },
      {
       "output_type": "stream",
       "stream": "stdout",
       "text": [
        "18700 "
       ]
      },
      {
       "output_type": "stream",
       "stream": "stdout",
       "text": [
        "18800 "
       ]
      },
      {
       "output_type": "stream",
       "stream": "stdout",
       "text": [
        "18900 "
       ]
      },
      {
       "output_type": "stream",
       "stream": "stdout",
       "text": [
        "19000 "
       ]
      },
      {
       "output_type": "stream",
       "stream": "stdout",
       "text": [
        "19100 "
       ]
      },
      {
       "output_type": "stream",
       "stream": "stdout",
       "text": [
        "19200 "
       ]
      },
      {
       "output_type": "stream",
       "stream": "stdout",
       "text": [
        "19300 "
       ]
      },
      {
       "output_type": "stream",
       "stream": "stdout",
       "text": [
        "19400 "
       ]
      },
      {
       "output_type": "stream",
       "stream": "stdout",
       "text": [
        "19500 "
       ]
      },
      {
       "output_type": "stream",
       "stream": "stdout",
       "text": [
        "19600 "
       ]
      },
      {
       "output_type": "stream",
       "stream": "stdout",
       "text": [
        "19700 "
       ]
      },
      {
       "output_type": "stream",
       "stream": "stdout",
       "text": [
        "19800 "
       ]
      },
      {
       "output_type": "stream",
       "stream": "stdout",
       "text": [
        "19900 "
       ]
      },
      {
       "output_type": "stream",
       "stream": "stdout",
       "text": [
        "20000 "
       ]
      },
      {
       "output_type": "stream",
       "stream": "stdout",
       "text": [
        "20100 "
       ]
      },
      {
       "output_type": "stream",
       "stream": "stdout",
       "text": [
        "20200 "
       ]
      },
      {
       "output_type": "stream",
       "stream": "stdout",
       "text": [
        "20300 "
       ]
      },
      {
       "output_type": "stream",
       "stream": "stdout",
       "text": [
        "20400 "
       ]
      },
      {
       "output_type": "stream",
       "stream": "stdout",
       "text": [
        "20500 "
       ]
      },
      {
       "output_type": "stream",
       "stream": "stdout",
       "text": [
        "20600 "
       ]
      },
      {
       "output_type": "stream",
       "stream": "stdout",
       "text": [
        "20700 "
       ]
      },
      {
       "output_type": "stream",
       "stream": "stdout",
       "text": [
        "20800 "
       ]
      },
      {
       "output_type": "stream",
       "stream": "stdout",
       "text": [
        "20900 "
       ]
      },
      {
       "output_type": "stream",
       "stream": "stdout",
       "text": [
        "21000 "
       ]
      },
      {
       "output_type": "stream",
       "stream": "stdout",
       "text": [
        "21100 "
       ]
      },
      {
       "output_type": "stream",
       "stream": "stdout",
       "text": [
        "21200 "
       ]
      },
      {
       "output_type": "stream",
       "stream": "stdout",
       "text": [
        "21300 "
       ]
      },
      {
       "output_type": "stream",
       "stream": "stdout",
       "text": [
        "21400 "
       ]
      },
      {
       "output_type": "stream",
       "stream": "stdout",
       "text": [
        "21500 "
       ]
      },
      {
       "output_type": "stream",
       "stream": "stdout",
       "text": [
        "21600 "
       ]
      },
      {
       "output_type": "stream",
       "stream": "stdout",
       "text": [
        "21700 "
       ]
      },
      {
       "output_type": "stream",
       "stream": "stdout",
       "text": [
        "21800 "
       ]
      },
      {
       "output_type": "stream",
       "stream": "stdout",
       "text": [
        "21900 "
       ]
      },
      {
       "output_type": "stream",
       "stream": "stdout",
       "text": [
        "22000 "
       ]
      },
      {
       "output_type": "stream",
       "stream": "stdout",
       "text": [
        "22100 "
       ]
      },
      {
       "output_type": "stream",
       "stream": "stdout",
       "text": [
        "22200 "
       ]
      },
      {
       "output_type": "stream",
       "stream": "stdout",
       "text": [
        "22300 "
       ]
      },
      {
       "output_type": "stream",
       "stream": "stdout",
       "text": [
        "22400 "
       ]
      },
      {
       "output_type": "stream",
       "stream": "stdout",
       "text": [
        "22500 "
       ]
      },
      {
       "output_type": "stream",
       "stream": "stdout",
       "text": [
        "22600 "
       ]
      },
      {
       "output_type": "stream",
       "stream": "stdout",
       "text": [
        "22700 "
       ]
      },
      {
       "output_type": "stream",
       "stream": "stdout",
       "text": [
        "22800 "
       ]
      },
      {
       "output_type": "stream",
       "stream": "stdout",
       "text": [
        "22900 "
       ]
      },
      {
       "output_type": "stream",
       "stream": "stdout",
       "text": [
        "23000 "
       ]
      },
      {
       "output_type": "stream",
       "stream": "stdout",
       "text": [
        "23100 "
       ]
      },
      {
       "output_type": "stream",
       "stream": "stdout",
       "text": [
        "23200 "
       ]
      },
      {
       "output_type": "stream",
       "stream": "stdout",
       "text": [
        "23300 "
       ]
      },
      {
       "output_type": "stream",
       "stream": "stdout",
       "text": [
        "23400 "
       ]
      },
      {
       "output_type": "stream",
       "stream": "stdout",
       "text": [
        "23500 "
       ]
      },
      {
       "output_type": "stream",
       "stream": "stdout",
       "text": [
        "23600 "
       ]
      },
      {
       "output_type": "stream",
       "stream": "stdout",
       "text": [
        "23700 "
       ]
      },
      {
       "output_type": "stream",
       "stream": "stdout",
       "text": [
        "23800 "
       ]
      },
      {
       "output_type": "stream",
       "stream": "stdout",
       "text": [
        "23900 "
       ]
      },
      {
       "output_type": "stream",
       "stream": "stdout",
       "text": [
        "24000 "
       ]
      },
      {
       "output_type": "stream",
       "stream": "stdout",
       "text": [
        "24100 "
       ]
      },
      {
       "output_type": "stream",
       "stream": "stdout",
       "text": [
        "24200 "
       ]
      },
      {
       "output_type": "stream",
       "stream": "stdout",
       "text": [
        "24300 "
       ]
      },
      {
       "output_type": "stream",
       "stream": "stdout",
       "text": [
        "24400 "
       ]
      },
      {
       "output_type": "stream",
       "stream": "stdout",
       "text": [
        "24500 "
       ]
      },
      {
       "output_type": "stream",
       "stream": "stdout",
       "text": [
        "24600 "
       ]
      },
      {
       "output_type": "stream",
       "stream": "stdout",
       "text": [
        "24700 "
       ]
      },
      {
       "output_type": "stream",
       "stream": "stdout",
       "text": [
        "24800 "
       ]
      },
      {
       "output_type": "stream",
       "stream": "stdout",
       "text": [
        "24900 "
       ]
      },
      {
       "output_type": "stream",
       "stream": "stdout",
       "text": [
        "25000 "
       ]
      },
      {
       "output_type": "stream",
       "stream": "stdout",
       "text": [
        "25100 "
       ]
      },
      {
       "output_type": "stream",
       "stream": "stdout",
       "text": [
        "25200 "
       ]
      },
      {
       "output_type": "stream",
       "stream": "stdout",
       "text": [
        "25300 "
       ]
      },
      {
       "output_type": "stream",
       "stream": "stdout",
       "text": [
        "25400 "
       ]
      },
      {
       "output_type": "stream",
       "stream": "stdout",
       "text": [
        "25500 "
       ]
      },
      {
       "output_type": "stream",
       "stream": "stdout",
       "text": [
        "25600 "
       ]
      },
      {
       "output_type": "stream",
       "stream": "stdout",
       "text": [
        "25700 "
       ]
      },
      {
       "output_type": "stream",
       "stream": "stdout",
       "text": [
        "25800 "
       ]
      },
      {
       "output_type": "stream",
       "stream": "stdout",
       "text": [
        "25900 "
       ]
      },
      {
       "output_type": "stream",
       "stream": "stdout",
       "text": [
        "26000 "
       ]
      },
      {
       "output_type": "stream",
       "stream": "stdout",
       "text": [
        "26100 "
       ]
      },
      {
       "output_type": "stream",
       "stream": "stdout",
       "text": [
        "26200 "
       ]
      },
      {
       "output_type": "stream",
       "stream": "stdout",
       "text": [
        "26300 "
       ]
      },
      {
       "output_type": "stream",
       "stream": "stdout",
       "text": [
        "26400 "
       ]
      },
      {
       "output_type": "stream",
       "stream": "stdout",
       "text": [
        "26500 "
       ]
      },
      {
       "output_type": "stream",
       "stream": "stdout",
       "text": [
        "26600 "
       ]
      },
      {
       "output_type": "stream",
       "stream": "stdout",
       "text": [
        "26700 "
       ]
      },
      {
       "output_type": "stream",
       "stream": "stdout",
       "text": [
        "26800 "
       ]
      },
      {
       "output_type": "stream",
       "stream": "stdout",
       "text": [
        "26900 "
       ]
      },
      {
       "output_type": "stream",
       "stream": "stdout",
       "text": [
        "27000 "
       ]
      },
      {
       "output_type": "stream",
       "stream": "stdout",
       "text": [
        "27100 "
       ]
      },
      {
       "output_type": "stream",
       "stream": "stdout",
       "text": [
        "27200 "
       ]
      },
      {
       "output_type": "stream",
       "stream": "stdout",
       "text": [
        "27300 "
       ]
      },
      {
       "output_type": "stream",
       "stream": "stdout",
       "text": [
        "27400 "
       ]
      },
      {
       "output_type": "stream",
       "stream": "stdout",
       "text": [
        "27500 "
       ]
      },
      {
       "output_type": "stream",
       "stream": "stdout",
       "text": [
        "27600 "
       ]
      },
      {
       "output_type": "stream",
       "stream": "stdout",
       "text": [
        "27700 "
       ]
      },
      {
       "output_type": "stream",
       "stream": "stdout",
       "text": [
        "27800 "
       ]
      },
      {
       "output_type": "stream",
       "stream": "stdout",
       "text": [
        "27900 "
       ]
      },
      {
       "output_type": "stream",
       "stream": "stdout",
       "text": [
        "28000 "
       ]
      },
      {
       "output_type": "stream",
       "stream": "stdout",
       "text": [
        "28100 "
       ]
      },
      {
       "output_type": "stream",
       "stream": "stdout",
       "text": [
        "28200 "
       ]
      },
      {
       "output_type": "stream",
       "stream": "stdout",
       "text": [
        "28300 "
       ]
      },
      {
       "output_type": "stream",
       "stream": "stdout",
       "text": [
        "28400 "
       ]
      },
      {
       "output_type": "stream",
       "stream": "stdout",
       "text": [
        "28500 "
       ]
      },
      {
       "output_type": "stream",
       "stream": "stdout",
       "text": [
        "28600 "
       ]
      },
      {
       "output_type": "stream",
       "stream": "stdout",
       "text": [
        "28700 "
       ]
      },
      {
       "output_type": "stream",
       "stream": "stdout",
       "text": [
        "28800 "
       ]
      },
      {
       "output_type": "stream",
       "stream": "stdout",
       "text": [
        "28900 "
       ]
      },
      {
       "output_type": "stream",
       "stream": "stdout",
       "text": [
        "29000 "
       ]
      },
      {
       "output_type": "stream",
       "stream": "stdout",
       "text": [
        "29100 "
       ]
      },
      {
       "output_type": "stream",
       "stream": "stdout",
       "text": [
        "29200 "
       ]
      },
      {
       "output_type": "stream",
       "stream": "stdout",
       "text": [
        "29300 "
       ]
      },
      {
       "output_type": "stream",
       "stream": "stdout",
       "text": [
        "29400 "
       ]
      },
      {
       "output_type": "stream",
       "stream": "stdout",
       "text": [
        "29500 "
       ]
      },
      {
       "output_type": "stream",
       "stream": "stdout",
       "text": [
        "29600 "
       ]
      },
      {
       "output_type": "stream",
       "stream": "stdout",
       "text": [
        "29700 "
       ]
      },
      {
       "output_type": "stream",
       "stream": "stdout",
       "text": [
        "29800 "
       ]
      },
      {
       "output_type": "stream",
       "stream": "stdout",
       "text": [
        "29900 "
       ]
      },
      {
       "output_type": "stream",
       "stream": "stdout",
       "text": [
        "30000 "
       ]
      },
      {
       "output_type": "stream",
       "stream": "stdout",
       "text": [
        "30100 "
       ]
      },
      {
       "output_type": "stream",
       "stream": "stdout",
       "text": [
        "30200 "
       ]
      },
      {
       "output_type": "stream",
       "stream": "stdout",
       "text": [
        "30300 "
       ]
      },
      {
       "output_type": "stream",
       "stream": "stdout",
       "text": [
        "30400 "
       ]
      },
      {
       "output_type": "stream",
       "stream": "stdout",
       "text": [
        "30500 "
       ]
      },
      {
       "output_type": "stream",
       "stream": "stdout",
       "text": [
        "30600 "
       ]
      },
      {
       "output_type": "stream",
       "stream": "stdout",
       "text": [
        "30700 "
       ]
      },
      {
       "output_type": "stream",
       "stream": "stdout",
       "text": [
        "30800 "
       ]
      },
      {
       "output_type": "stream",
       "stream": "stdout",
       "text": [
        "30900 "
       ]
      },
      {
       "output_type": "stream",
       "stream": "stdout",
       "text": [
        "31000 "
       ]
      },
      {
       "output_type": "stream",
       "stream": "stdout",
       "text": [
        "31100 "
       ]
      },
      {
       "output_type": "stream",
       "stream": "stdout",
       "text": [
        "31200 "
       ]
      },
      {
       "output_type": "stream",
       "stream": "stdout",
       "text": [
        "31300 "
       ]
      },
      {
       "output_type": "stream",
       "stream": "stdout",
       "text": [
        "31400 "
       ]
      },
      {
       "output_type": "stream",
       "stream": "stdout",
       "text": [
        "31500 "
       ]
      },
      {
       "output_type": "stream",
       "stream": "stdout",
       "text": [
        "31600 "
       ]
      },
      {
       "output_type": "stream",
       "stream": "stdout",
       "text": [
        "31700 "
       ]
      },
      {
       "output_type": "stream",
       "stream": "stdout",
       "text": [
        "31800 "
       ]
      },
      {
       "output_type": "stream",
       "stream": "stdout",
       "text": [
        "31900 "
       ]
      },
      {
       "output_type": "stream",
       "stream": "stdout",
       "text": [
        "32000 "
       ]
      },
      {
       "output_type": "stream",
       "stream": "stdout",
       "text": [
        "32100 "
       ]
      },
      {
       "output_type": "stream",
       "stream": "stdout",
       "text": [
        "32200 "
       ]
      },
      {
       "output_type": "stream",
       "stream": "stdout",
       "text": [
        "32300 "
       ]
      },
      {
       "output_type": "stream",
       "stream": "stdout",
       "text": [
        "32400 "
       ]
      },
      {
       "output_type": "stream",
       "stream": "stdout",
       "text": [
        "32500 "
       ]
      },
      {
       "output_type": "stream",
       "stream": "stdout",
       "text": [
        "32600 "
       ]
      },
      {
       "output_type": "stream",
       "stream": "stdout",
       "text": [
        "32700 "
       ]
      },
      {
       "output_type": "stream",
       "stream": "stdout",
       "text": [
        "32800 "
       ]
      },
      {
       "output_type": "stream",
       "stream": "stdout",
       "text": [
        "32900 "
       ]
      },
      {
       "output_type": "stream",
       "stream": "stdout",
       "text": [
        "33000 "
       ]
      },
      {
       "output_type": "stream",
       "stream": "stdout",
       "text": [
        "33100 "
       ]
      },
      {
       "output_type": "stream",
       "stream": "stdout",
       "text": [
        "33200 "
       ]
      },
      {
       "output_type": "stream",
       "stream": "stdout",
       "text": [
        "33300 "
       ]
      },
      {
       "output_type": "stream",
       "stream": "stdout",
       "text": [
        "33400 "
       ]
      },
      {
       "output_type": "stream",
       "stream": "stdout",
       "text": [
        "33500 "
       ]
      },
      {
       "output_type": "stream",
       "stream": "stdout",
       "text": [
        "33600 "
       ]
      },
      {
       "output_type": "stream",
       "stream": "stdout",
       "text": [
        "33700 "
       ]
      },
      {
       "output_type": "stream",
       "stream": "stdout",
       "text": [
        "33800 "
       ]
      },
      {
       "output_type": "stream",
       "stream": "stdout",
       "text": [
        "33900 "
       ]
      },
      {
       "output_type": "stream",
       "stream": "stdout",
       "text": [
        "34000 "
       ]
      },
      {
       "output_type": "stream",
       "stream": "stdout",
       "text": [
        "34100 "
       ]
      },
      {
       "output_type": "stream",
       "stream": "stdout",
       "text": [
        "34200 "
       ]
      },
      {
       "output_type": "stream",
       "stream": "stdout",
       "text": [
        "34300 "
       ]
      },
      {
       "output_type": "stream",
       "stream": "stdout",
       "text": [
        "34400 "
       ]
      },
      {
       "output_type": "stream",
       "stream": "stdout",
       "text": [
        "34500 "
       ]
      },
      {
       "output_type": "stream",
       "stream": "stdout",
       "text": [
        "34600 "
       ]
      },
      {
       "output_type": "stream",
       "stream": "stdout",
       "text": [
        "34700 "
       ]
      },
      {
       "output_type": "stream",
       "stream": "stdout",
       "text": [
        "34800 "
       ]
      },
      {
       "output_type": "stream",
       "stream": "stdout",
       "text": [
        "34900 "
       ]
      },
      {
       "output_type": "stream",
       "stream": "stdout",
       "text": [
        "35000 "
       ]
      },
      {
       "output_type": "stream",
       "stream": "stdout",
       "text": [
        "35100 "
       ]
      },
      {
       "output_type": "stream",
       "stream": "stdout",
       "text": [
        "35200 "
       ]
      },
      {
       "output_type": "stream",
       "stream": "stdout",
       "text": [
        "35300 "
       ]
      },
      {
       "output_type": "stream",
       "stream": "stdout",
       "text": [
        "35400 "
       ]
      },
      {
       "output_type": "stream",
       "stream": "stdout",
       "text": [
        "35500 "
       ]
      },
      {
       "output_type": "stream",
       "stream": "stdout",
       "text": [
        "35600 "
       ]
      },
      {
       "output_type": "stream",
       "stream": "stdout",
       "text": [
        "35700 "
       ]
      },
      {
       "output_type": "stream",
       "stream": "stdout",
       "text": [
        "35800 "
       ]
      },
      {
       "output_type": "stream",
       "stream": "stdout",
       "text": [
        "35900 "
       ]
      },
      {
       "output_type": "stream",
       "stream": "stdout",
       "text": [
        "36000 "
       ]
      },
      {
       "output_type": "stream",
       "stream": "stdout",
       "text": [
        "36100 "
       ]
      },
      {
       "output_type": "stream",
       "stream": "stdout",
       "text": [
        "36200 "
       ]
      },
      {
       "output_type": "stream",
       "stream": "stdout",
       "text": [
        "36300 "
       ]
      },
      {
       "output_type": "stream",
       "stream": "stdout",
       "text": [
        "36400 "
       ]
      },
      {
       "output_type": "stream",
       "stream": "stdout",
       "text": [
        "36500 "
       ]
      },
      {
       "output_type": "stream",
       "stream": "stdout",
       "text": [
        "36600 "
       ]
      },
      {
       "output_type": "stream",
       "stream": "stdout",
       "text": [
        "36700 "
       ]
      },
      {
       "output_type": "stream",
       "stream": "stdout",
       "text": [
        "36800 "
       ]
      },
      {
       "output_type": "stream",
       "stream": "stdout",
       "text": [
        "36900 "
       ]
      },
      {
       "output_type": "stream",
       "stream": "stdout",
       "text": [
        "37000 "
       ]
      },
      {
       "output_type": "stream",
       "stream": "stdout",
       "text": [
        "37100 "
       ]
      },
      {
       "output_type": "stream",
       "stream": "stdout",
       "text": [
        "37200 "
       ]
      },
      {
       "output_type": "stream",
       "stream": "stdout",
       "text": [
        "37300 "
       ]
      },
      {
       "output_type": "stream",
       "stream": "stdout",
       "text": [
        "37400 "
       ]
      },
      {
       "output_type": "stream",
       "stream": "stdout",
       "text": [
        "37500 "
       ]
      },
      {
       "output_type": "stream",
       "stream": "stdout",
       "text": [
        "37600 "
       ]
      },
      {
       "output_type": "stream",
       "stream": "stdout",
       "text": [
        "37700 "
       ]
      },
      {
       "output_type": "stream",
       "stream": "stdout",
       "text": [
        "37800 "
       ]
      },
      {
       "output_type": "stream",
       "stream": "stdout",
       "text": [
        "37900 "
       ]
      },
      {
       "output_type": "stream",
       "stream": "stdout",
       "text": [
        "38000 "
       ]
      },
      {
       "output_type": "stream",
       "stream": "stdout",
       "text": [
        "38100 "
       ]
      },
      {
       "output_type": "stream",
       "stream": "stdout",
       "text": [
        "38200 "
       ]
      },
      {
       "output_type": "stream",
       "stream": "stdout",
       "text": [
        "38300 "
       ]
      },
      {
       "output_type": "stream",
       "stream": "stdout",
       "text": [
        "38400 "
       ]
      },
      {
       "output_type": "stream",
       "stream": "stdout",
       "text": [
        "38500 "
       ]
      },
      {
       "output_type": "stream",
       "stream": "stdout",
       "text": [
        "38600 "
       ]
      },
      {
       "output_type": "stream",
       "stream": "stdout",
       "text": [
        "38700 "
       ]
      },
      {
       "output_type": "stream",
       "stream": "stdout",
       "text": [
        "38800 "
       ]
      },
      {
       "output_type": "stream",
       "stream": "stdout",
       "text": [
        "38900 "
       ]
      },
      {
       "output_type": "stream",
       "stream": "stdout",
       "text": [
        "39000 "
       ]
      },
      {
       "output_type": "stream",
       "stream": "stdout",
       "text": [
        "39100 "
       ]
      },
      {
       "output_type": "stream",
       "stream": "stdout",
       "text": [
        "39200 "
       ]
      },
      {
       "output_type": "stream",
       "stream": "stdout",
       "text": [
        "39300 "
       ]
      },
      {
       "output_type": "stream",
       "stream": "stdout",
       "text": [
        "39400 "
       ]
      },
      {
       "output_type": "stream",
       "stream": "stdout",
       "text": [
        "39500 "
       ]
      },
      {
       "output_type": "stream",
       "stream": "stdout",
       "text": [
        "39600 "
       ]
      },
      {
       "output_type": "stream",
       "stream": "stdout",
       "text": [
        "39700 "
       ]
      },
      {
       "output_type": "stream",
       "stream": "stdout",
       "text": [
        "39800 "
       ]
      },
      {
       "output_type": "stream",
       "stream": "stdout",
       "text": [
        "39900 "
       ]
      },
      {
       "output_type": "stream",
       "stream": "stdout",
       "text": [
        "40000 "
       ]
      },
      {
       "output_type": "stream",
       "stream": "stdout",
       "text": [
        "40100 "
       ]
      },
      {
       "output_type": "stream",
       "stream": "stdout",
       "text": [
        "40200 "
       ]
      },
      {
       "output_type": "stream",
       "stream": "stdout",
       "text": [
        "40300 "
       ]
      },
      {
       "output_type": "stream",
       "stream": "stdout",
       "text": [
        "40400 "
       ]
      },
      {
       "output_type": "stream",
       "stream": "stdout",
       "text": [
        "40500 "
       ]
      },
      {
       "output_type": "stream",
       "stream": "stdout",
       "text": [
        "40600 "
       ]
      },
      {
       "output_type": "stream",
       "stream": "stdout",
       "text": [
        "40700 "
       ]
      },
      {
       "output_type": "stream",
       "stream": "stdout",
       "text": [
        "40800 "
       ]
      },
      {
       "output_type": "stream",
       "stream": "stdout",
       "text": [
        "40900 "
       ]
      },
      {
       "output_type": "stream",
       "stream": "stdout",
       "text": [
        "41000 "
       ]
      },
      {
       "output_type": "stream",
       "stream": "stdout",
       "text": [
        "41100 "
       ]
      },
      {
       "output_type": "stream",
       "stream": "stdout",
       "text": [
        "41200 "
       ]
      },
      {
       "output_type": "stream",
       "stream": "stdout",
       "text": [
        "41300 "
       ]
      },
      {
       "output_type": "stream",
       "stream": "stdout",
       "text": [
        "41400 "
       ]
      },
      {
       "output_type": "stream",
       "stream": "stdout",
       "text": [
        "41500 "
       ]
      },
      {
       "output_type": "stream",
       "stream": "stdout",
       "text": [
        "41600 "
       ]
      },
      {
       "output_type": "stream",
       "stream": "stdout",
       "text": [
        "41700 "
       ]
      },
      {
       "output_type": "stream",
       "stream": "stdout",
       "text": [
        "41800 "
       ]
      },
      {
       "output_type": "stream",
       "stream": "stdout",
       "text": [
        "41900 "
       ]
      },
      {
       "output_type": "stream",
       "stream": "stdout",
       "text": [
        "42000 "
       ]
      },
      {
       "output_type": "stream",
       "stream": "stdout",
       "text": [
        "42100 "
       ]
      },
      {
       "output_type": "stream",
       "stream": "stdout",
       "text": [
        "42200 "
       ]
      },
      {
       "output_type": "stream",
       "stream": "stdout",
       "text": [
        "42300 "
       ]
      },
      {
       "output_type": "stream",
       "stream": "stdout",
       "text": [
        "42400 "
       ]
      },
      {
       "output_type": "stream",
       "stream": "stdout",
       "text": [
        "42500 "
       ]
      },
      {
       "output_type": "stream",
       "stream": "stdout",
       "text": [
        "42600 "
       ]
      },
      {
       "output_type": "stream",
       "stream": "stdout",
       "text": [
        "42700 "
       ]
      },
      {
       "output_type": "stream",
       "stream": "stdout",
       "text": [
        "42800 "
       ]
      },
      {
       "output_type": "stream",
       "stream": "stdout",
       "text": [
        "42900 "
       ]
      },
      {
       "output_type": "stream",
       "stream": "stdout",
       "text": [
        "43000 "
       ]
      },
      {
       "output_type": "stream",
       "stream": "stdout",
       "text": [
        "43100 "
       ]
      },
      {
       "output_type": "stream",
       "stream": "stdout",
       "text": [
        "43200 "
       ]
      },
      {
       "output_type": "stream",
       "stream": "stdout",
       "text": [
        "43300 "
       ]
      },
      {
       "output_type": "stream",
       "stream": "stdout",
       "text": [
        "43400 "
       ]
      },
      {
       "output_type": "stream",
       "stream": "stdout",
       "text": [
        "43500 "
       ]
      },
      {
       "output_type": "stream",
       "stream": "stdout",
       "text": [
        "43600 "
       ]
      },
      {
       "output_type": "stream",
       "stream": "stdout",
       "text": [
        "43700 "
       ]
      },
      {
       "output_type": "stream",
       "stream": "stdout",
       "text": [
        "43800 "
       ]
      },
      {
       "output_type": "stream",
       "stream": "stdout",
       "text": [
        "43900 "
       ]
      },
      {
       "output_type": "stream",
       "stream": "stdout",
       "text": [
        "44000 "
       ]
      },
      {
       "output_type": "stream",
       "stream": "stdout",
       "text": [
        "44100 "
       ]
      },
      {
       "output_type": "stream",
       "stream": "stdout",
       "text": [
        "44200 "
       ]
      },
      {
       "output_type": "stream",
       "stream": "stdout",
       "text": [
        "44300 "
       ]
      },
      {
       "output_type": "stream",
       "stream": "stdout",
       "text": [
        "44400 "
       ]
      },
      {
       "output_type": "stream",
       "stream": "stdout",
       "text": [
        "44500 "
       ]
      },
      {
       "output_type": "stream",
       "stream": "stdout",
       "text": [
        "44600 "
       ]
      },
      {
       "output_type": "stream",
       "stream": "stdout",
       "text": [
        "44700 "
       ]
      },
      {
       "output_type": "stream",
       "stream": "stdout",
       "text": [
        "44800 "
       ]
      },
      {
       "output_type": "stream",
       "stream": "stdout",
       "text": [
        "44900 "
       ]
      },
      {
       "output_type": "stream",
       "stream": "stdout",
       "text": [
        "45000 "
       ]
      },
      {
       "output_type": "stream",
       "stream": "stdout",
       "text": [
        "45100 "
       ]
      },
      {
       "output_type": "stream",
       "stream": "stdout",
       "text": [
        "45200 "
       ]
      },
      {
       "output_type": "stream",
       "stream": "stdout",
       "text": [
        "45300 "
       ]
      },
      {
       "output_type": "stream",
       "stream": "stdout",
       "text": [
        "45400 "
       ]
      },
      {
       "output_type": "stream",
       "stream": "stdout",
       "text": [
        "45500 "
       ]
      },
      {
       "output_type": "stream",
       "stream": "stdout",
       "text": [
        "45600 "
       ]
      },
      {
       "output_type": "stream",
       "stream": "stdout",
       "text": [
        "45700 "
       ]
      },
      {
       "output_type": "stream",
       "stream": "stdout",
       "text": [
        "45800 "
       ]
      },
      {
       "output_type": "stream",
       "stream": "stdout",
       "text": [
        "45900 "
       ]
      },
      {
       "output_type": "stream",
       "stream": "stdout",
       "text": [
        "46000\n"
       ]
      }
     ],
     "prompt_number": 103
    },
    {
     "cell_type": "code",
     "collapsed": false,
     "input": [
      "n = -21\n",
      "res = []\n",
      "k = 0\n",
      "for i in range(len(train)):\n",
      "    res.append(MeanNDayFromThis(n, train, train.City[i], train.Year[i], train.Month[i], train.Day[i]))\n",
      "    if ( (k % 100) == 0):\n",
      "        print k,\n",
      "    k += 1\n",
      "train[\"MeanPrev21Day\"] = pd.Series(res)"
     ],
     "language": "python",
     "metadata": {},
     "outputs": [
      {
       "output_type": "stream",
       "stream": "stdout",
       "text": [
        "0 "
       ]
      },
      {
       "output_type": "stream",
       "stream": "stdout",
       "text": [
        "100 "
       ]
      },
      {
       "output_type": "stream",
       "stream": "stdout",
       "text": [
        "200 "
       ]
      },
      {
       "output_type": "stream",
       "stream": "stdout",
       "text": [
        "300 "
       ]
      },
      {
       "output_type": "stream",
       "stream": "stdout",
       "text": [
        "400 "
       ]
      },
      {
       "output_type": "stream",
       "stream": "stdout",
       "text": [
        "500 "
       ]
      },
      {
       "output_type": "stream",
       "stream": "stdout",
       "text": [
        "600 "
       ]
      },
      {
       "output_type": "stream",
       "stream": "stdout",
       "text": [
        "700 "
       ]
      },
      {
       "output_type": "stream",
       "stream": "stdout",
       "text": [
        "800 "
       ]
      },
      {
       "output_type": "stream",
       "stream": "stdout",
       "text": [
        "900 "
       ]
      },
      {
       "output_type": "stream",
       "stream": "stdout",
       "text": [
        "1000 "
       ]
      },
      {
       "output_type": "stream",
       "stream": "stdout",
       "text": [
        "1100 "
       ]
      },
      {
       "output_type": "stream",
       "stream": "stdout",
       "text": [
        "1200 "
       ]
      },
      {
       "output_type": "stream",
       "stream": "stdout",
       "text": [
        "1300 "
       ]
      },
      {
       "output_type": "stream",
       "stream": "stdout",
       "text": [
        "1400 "
       ]
      },
      {
       "output_type": "stream",
       "stream": "stdout",
       "text": [
        "1500 "
       ]
      },
      {
       "output_type": "stream",
       "stream": "stdout",
       "text": [
        "1600 "
       ]
      },
      {
       "output_type": "stream",
       "stream": "stdout",
       "text": [
        "1700 "
       ]
      },
      {
       "output_type": "stream",
       "stream": "stdout",
       "text": [
        "1800 "
       ]
      },
      {
       "output_type": "stream",
       "stream": "stdout",
       "text": [
        "1900 "
       ]
      },
      {
       "output_type": "stream",
       "stream": "stdout",
       "text": [
        "2000 "
       ]
      },
      {
       "output_type": "stream",
       "stream": "stdout",
       "text": [
        "2100 "
       ]
      },
      {
       "output_type": "stream",
       "stream": "stdout",
       "text": [
        "2200 "
       ]
      },
      {
       "output_type": "stream",
       "stream": "stdout",
       "text": [
        "2300 "
       ]
      },
      {
       "output_type": "stream",
       "stream": "stdout",
       "text": [
        "2400 "
       ]
      },
      {
       "output_type": "stream",
       "stream": "stdout",
       "text": [
        "2500 "
       ]
      },
      {
       "output_type": "stream",
       "stream": "stdout",
       "text": [
        "2600 "
       ]
      },
      {
       "output_type": "stream",
       "stream": "stdout",
       "text": [
        "2700 "
       ]
      },
      {
       "output_type": "stream",
       "stream": "stdout",
       "text": [
        "2800 "
       ]
      },
      {
       "output_type": "stream",
       "stream": "stdout",
       "text": [
        "2900 "
       ]
      },
      {
       "output_type": "stream",
       "stream": "stdout",
       "text": [
        "3000 "
       ]
      },
      {
       "output_type": "stream",
       "stream": "stdout",
       "text": [
        "3100 "
       ]
      },
      {
       "output_type": "stream",
       "stream": "stdout",
       "text": [
        "3200 "
       ]
      },
      {
       "output_type": "stream",
       "stream": "stdout",
       "text": [
        "3300 "
       ]
      },
      {
       "output_type": "stream",
       "stream": "stdout",
       "text": [
        "3400 "
       ]
      },
      {
       "output_type": "stream",
       "stream": "stdout",
       "text": [
        "3500 "
       ]
      },
      {
       "output_type": "stream",
       "stream": "stdout",
       "text": [
        "3600 "
       ]
      },
      {
       "output_type": "stream",
       "stream": "stdout",
       "text": [
        "3700 "
       ]
      },
      {
       "output_type": "stream",
       "stream": "stdout",
       "text": [
        "3800 "
       ]
      },
      {
       "output_type": "stream",
       "stream": "stdout",
       "text": [
        "3900 "
       ]
      },
      {
       "output_type": "stream",
       "stream": "stdout",
       "text": [
        "4000 "
       ]
      },
      {
       "output_type": "stream",
       "stream": "stdout",
       "text": [
        "4100 "
       ]
      },
      {
       "output_type": "stream",
       "stream": "stdout",
       "text": [
        "4200 "
       ]
      },
      {
       "output_type": "stream",
       "stream": "stdout",
       "text": [
        "4300 "
       ]
      },
      {
       "output_type": "stream",
       "stream": "stdout",
       "text": [
        "4400 "
       ]
      },
      {
       "output_type": "stream",
       "stream": "stdout",
       "text": [
        "4500 "
       ]
      },
      {
       "output_type": "stream",
       "stream": "stdout",
       "text": [
        "4600 "
       ]
      },
      {
       "output_type": "stream",
       "stream": "stdout",
       "text": [
        "4700 "
       ]
      },
      {
       "output_type": "stream",
       "stream": "stdout",
       "text": [
        "4800 "
       ]
      },
      {
       "output_type": "stream",
       "stream": "stdout",
       "text": [
        "4900 "
       ]
      },
      {
       "output_type": "stream",
       "stream": "stdout",
       "text": [
        "5000 "
       ]
      },
      {
       "output_type": "stream",
       "stream": "stdout",
       "text": [
        "5100 "
       ]
      },
      {
       "output_type": "stream",
       "stream": "stdout",
       "text": [
        "5200 "
       ]
      },
      {
       "output_type": "stream",
       "stream": "stdout",
       "text": [
        "5300 "
       ]
      },
      {
       "output_type": "stream",
       "stream": "stdout",
       "text": [
        "5400 "
       ]
      },
      {
       "output_type": "stream",
       "stream": "stdout",
       "text": [
        "5500 "
       ]
      },
      {
       "output_type": "stream",
       "stream": "stdout",
       "text": [
        "5600 "
       ]
      },
      {
       "output_type": "stream",
       "stream": "stdout",
       "text": [
        "5700 "
       ]
      },
      {
       "output_type": "stream",
       "stream": "stdout",
       "text": [
        "5800 "
       ]
      },
      {
       "output_type": "stream",
       "stream": "stdout",
       "text": [
        "5900 "
       ]
      },
      {
       "output_type": "stream",
       "stream": "stdout",
       "text": [
        "6000 "
       ]
      },
      {
       "output_type": "stream",
       "stream": "stdout",
       "text": [
        "6100 "
       ]
      },
      {
       "output_type": "stream",
       "stream": "stdout",
       "text": [
        "6200 "
       ]
      },
      {
       "output_type": "stream",
       "stream": "stdout",
       "text": [
        "6300 "
       ]
      },
      {
       "output_type": "stream",
       "stream": "stdout",
       "text": [
        "6400 "
       ]
      },
      {
       "output_type": "stream",
       "stream": "stdout",
       "text": [
        "6500 "
       ]
      },
      {
       "output_type": "stream",
       "stream": "stdout",
       "text": [
        "6600 "
       ]
      },
      {
       "output_type": "stream",
       "stream": "stdout",
       "text": [
        "6700 "
       ]
      },
      {
       "output_type": "stream",
       "stream": "stdout",
       "text": [
        "6800 "
       ]
      },
      {
       "output_type": "stream",
       "stream": "stdout",
       "text": [
        "6900 "
       ]
      },
      {
       "output_type": "stream",
       "stream": "stdout",
       "text": [
        "7000 "
       ]
      },
      {
       "output_type": "stream",
       "stream": "stdout",
       "text": [
        "7100 "
       ]
      },
      {
       "output_type": "stream",
       "stream": "stdout",
       "text": [
        "7200 "
       ]
      },
      {
       "output_type": "stream",
       "stream": "stdout",
       "text": [
        "7300 "
       ]
      },
      {
       "output_type": "stream",
       "stream": "stdout",
       "text": [
        "7400 "
       ]
      },
      {
       "output_type": "stream",
       "stream": "stdout",
       "text": [
        "7500 "
       ]
      },
      {
       "output_type": "stream",
       "stream": "stdout",
       "text": [
        "7600 "
       ]
      },
      {
       "output_type": "stream",
       "stream": "stdout",
       "text": [
        "7700 "
       ]
      },
      {
       "output_type": "stream",
       "stream": "stdout",
       "text": [
        "7800 "
       ]
      },
      {
       "output_type": "stream",
       "stream": "stdout",
       "text": [
        "7900 "
       ]
      },
      {
       "output_type": "stream",
       "stream": "stdout",
       "text": [
        "8000 "
       ]
      },
      {
       "output_type": "stream",
       "stream": "stdout",
       "text": [
        "8100 "
       ]
      },
      {
       "output_type": "stream",
       "stream": "stdout",
       "text": [
        "8200 "
       ]
      },
      {
       "output_type": "stream",
       "stream": "stdout",
       "text": [
        "8300 "
       ]
      },
      {
       "output_type": "stream",
       "stream": "stdout",
       "text": [
        "8400 "
       ]
      },
      {
       "output_type": "stream",
       "stream": "stdout",
       "text": [
        "8500 "
       ]
      },
      {
       "output_type": "stream",
       "stream": "stdout",
       "text": [
        "8600 "
       ]
      },
      {
       "output_type": "stream",
       "stream": "stdout",
       "text": [
        "8700 "
       ]
      },
      {
       "output_type": "stream",
       "stream": "stdout",
       "text": [
        "8800 "
       ]
      },
      {
       "output_type": "stream",
       "stream": "stdout",
       "text": [
        "8900 "
       ]
      },
      {
       "output_type": "stream",
       "stream": "stdout",
       "text": [
        "9000 "
       ]
      },
      {
       "output_type": "stream",
       "stream": "stdout",
       "text": [
        "9100 "
       ]
      },
      {
       "output_type": "stream",
       "stream": "stdout",
       "text": [
        "9200 "
       ]
      },
      {
       "output_type": "stream",
       "stream": "stdout",
       "text": [
        "9300 "
       ]
      },
      {
       "output_type": "stream",
       "stream": "stdout",
       "text": [
        "9400 "
       ]
      },
      {
       "output_type": "stream",
       "stream": "stdout",
       "text": [
        "9500 "
       ]
      },
      {
       "output_type": "stream",
       "stream": "stdout",
       "text": [
        "9600 "
       ]
      },
      {
       "output_type": "stream",
       "stream": "stdout",
       "text": [
        "9700 "
       ]
      },
      {
       "output_type": "stream",
       "stream": "stdout",
       "text": [
        "9800 "
       ]
      },
      {
       "output_type": "stream",
       "stream": "stdout",
       "text": [
        "9900 "
       ]
      },
      {
       "output_type": "stream",
       "stream": "stdout",
       "text": [
        "10000 "
       ]
      },
      {
       "output_type": "stream",
       "stream": "stdout",
       "text": [
        "10100 "
       ]
      },
      {
       "output_type": "stream",
       "stream": "stdout",
       "text": [
        "10200 "
       ]
      },
      {
       "output_type": "stream",
       "stream": "stdout",
       "text": [
        "10300 "
       ]
      },
      {
       "output_type": "stream",
       "stream": "stdout",
       "text": [
        "10400 "
       ]
      },
      {
       "output_type": "stream",
       "stream": "stdout",
       "text": [
        "10500 "
       ]
      },
      {
       "output_type": "stream",
       "stream": "stdout",
       "text": [
        "10600 "
       ]
      },
      {
       "output_type": "stream",
       "stream": "stdout",
       "text": [
        "10700 "
       ]
      },
      {
       "output_type": "stream",
       "stream": "stdout",
       "text": [
        "10800 "
       ]
      },
      {
       "output_type": "stream",
       "stream": "stdout",
       "text": [
        "10900 "
       ]
      },
      {
       "output_type": "stream",
       "stream": "stdout",
       "text": [
        "11000 "
       ]
      },
      {
       "output_type": "stream",
       "stream": "stdout",
       "text": [
        "11100 "
       ]
      },
      {
       "output_type": "stream",
       "stream": "stdout",
       "text": [
        "11200 "
       ]
      },
      {
       "output_type": "stream",
       "stream": "stdout",
       "text": [
        "11300 "
       ]
      },
      {
       "output_type": "stream",
       "stream": "stdout",
       "text": [
        "11400 "
       ]
      },
      {
       "output_type": "stream",
       "stream": "stdout",
       "text": [
        "11500 "
       ]
      },
      {
       "output_type": "stream",
       "stream": "stdout",
       "text": [
        "11600 "
       ]
      },
      {
       "output_type": "stream",
       "stream": "stdout",
       "text": [
        "11700 "
       ]
      },
      {
       "output_type": "stream",
       "stream": "stdout",
       "text": [
        "11800 "
       ]
      },
      {
       "output_type": "stream",
       "stream": "stdout",
       "text": [
        "11900 "
       ]
      },
      {
       "output_type": "stream",
       "stream": "stdout",
       "text": [
        "12000 "
       ]
      },
      {
       "output_type": "stream",
       "stream": "stdout",
       "text": [
        "12100 "
       ]
      },
      {
       "output_type": "stream",
       "stream": "stdout",
       "text": [
        "12200 "
       ]
      },
      {
       "output_type": "stream",
       "stream": "stdout",
       "text": [
        "12300 "
       ]
      },
      {
       "output_type": "stream",
       "stream": "stdout",
       "text": [
        "12400 "
       ]
      },
      {
       "output_type": "stream",
       "stream": "stdout",
       "text": [
        "12500 "
       ]
      },
      {
       "output_type": "stream",
       "stream": "stdout",
       "text": [
        "12600 "
       ]
      },
      {
       "output_type": "stream",
       "stream": "stdout",
       "text": [
        "12700 "
       ]
      },
      {
       "output_type": "stream",
       "stream": "stdout",
       "text": [
        "12800 "
       ]
      },
      {
       "output_type": "stream",
       "stream": "stdout",
       "text": [
        "12900 "
       ]
      },
      {
       "output_type": "stream",
       "stream": "stdout",
       "text": [
        "13000 "
       ]
      },
      {
       "output_type": "stream",
       "stream": "stdout",
       "text": [
        "13100 "
       ]
      },
      {
       "output_type": "stream",
       "stream": "stdout",
       "text": [
        "13200 "
       ]
      },
      {
       "output_type": "stream",
       "stream": "stdout",
       "text": [
        "13300 "
       ]
      },
      {
       "output_type": "stream",
       "stream": "stdout",
       "text": [
        "13400 "
       ]
      },
      {
       "output_type": "stream",
       "stream": "stdout",
       "text": [
        "13500 "
       ]
      },
      {
       "output_type": "stream",
       "stream": "stdout",
       "text": [
        "13600 "
       ]
      },
      {
       "output_type": "stream",
       "stream": "stdout",
       "text": [
        "13700 "
       ]
      },
      {
       "output_type": "stream",
       "stream": "stdout",
       "text": [
        "13800 "
       ]
      },
      {
       "output_type": "stream",
       "stream": "stdout",
       "text": [
        "13900 "
       ]
      },
      {
       "output_type": "stream",
       "stream": "stdout",
       "text": [
        "14000 "
       ]
      },
      {
       "output_type": "stream",
       "stream": "stdout",
       "text": [
        "14100 "
       ]
      },
      {
       "output_type": "stream",
       "stream": "stdout",
       "text": [
        "14200 "
       ]
      },
      {
       "output_type": "stream",
       "stream": "stdout",
       "text": [
        "14300 "
       ]
      },
      {
       "output_type": "stream",
       "stream": "stdout",
       "text": [
        "14400 "
       ]
      },
      {
       "output_type": "stream",
       "stream": "stdout",
       "text": [
        "14500 "
       ]
      },
      {
       "output_type": "stream",
       "stream": "stdout",
       "text": [
        "14600 "
       ]
      },
      {
       "output_type": "stream",
       "stream": "stdout",
       "text": [
        "14700 "
       ]
      },
      {
       "output_type": "stream",
       "stream": "stdout",
       "text": [
        "14800 "
       ]
      },
      {
       "output_type": "stream",
       "stream": "stdout",
       "text": [
        "14900 "
       ]
      },
      {
       "output_type": "stream",
       "stream": "stdout",
       "text": [
        "15000 "
       ]
      },
      {
       "output_type": "stream",
       "stream": "stdout",
       "text": [
        "15100 "
       ]
      },
      {
       "output_type": "stream",
       "stream": "stdout",
       "text": [
        "15200 "
       ]
      },
      {
       "output_type": "stream",
       "stream": "stdout",
       "text": [
        "15300 "
       ]
      },
      {
       "output_type": "stream",
       "stream": "stdout",
       "text": [
        "15400 "
       ]
      },
      {
       "output_type": "stream",
       "stream": "stdout",
       "text": [
        "15500 "
       ]
      },
      {
       "output_type": "stream",
       "stream": "stdout",
       "text": [
        "15600 "
       ]
      },
      {
       "output_type": "stream",
       "stream": "stdout",
       "text": [
        "15700 "
       ]
      },
      {
       "output_type": "stream",
       "stream": "stdout",
       "text": [
        "15800 "
       ]
      },
      {
       "output_type": "stream",
       "stream": "stdout",
       "text": [
        "15900 "
       ]
      },
      {
       "output_type": "stream",
       "stream": "stdout",
       "text": [
        "16000 "
       ]
      },
      {
       "output_type": "stream",
       "stream": "stdout",
       "text": [
        "16100 "
       ]
      },
      {
       "output_type": "stream",
       "stream": "stdout",
       "text": [
        "16200 "
       ]
      },
      {
       "output_type": "stream",
       "stream": "stdout",
       "text": [
        "16300 "
       ]
      },
      {
       "output_type": "stream",
       "stream": "stdout",
       "text": [
        "16400 "
       ]
      },
      {
       "output_type": "stream",
       "stream": "stdout",
       "text": [
        "16500 "
       ]
      },
      {
       "output_type": "stream",
       "stream": "stdout",
       "text": [
        "16600 "
       ]
      },
      {
       "output_type": "stream",
       "stream": "stdout",
       "text": [
        "16700 "
       ]
      },
      {
       "output_type": "stream",
       "stream": "stdout",
       "text": [
        "16800 "
       ]
      },
      {
       "output_type": "stream",
       "stream": "stdout",
       "text": [
        "16900 "
       ]
      },
      {
       "output_type": "stream",
       "stream": "stdout",
       "text": [
        "17000 "
       ]
      },
      {
       "output_type": "stream",
       "stream": "stdout",
       "text": [
        "17100 "
       ]
      },
      {
       "output_type": "stream",
       "stream": "stdout",
       "text": [
        "17200 "
       ]
      },
      {
       "output_type": "stream",
       "stream": "stdout",
       "text": [
        "17300 "
       ]
      },
      {
       "output_type": "stream",
       "stream": "stdout",
       "text": [
        "17400 "
       ]
      },
      {
       "output_type": "stream",
       "stream": "stdout",
       "text": [
        "17500 "
       ]
      },
      {
       "output_type": "stream",
       "stream": "stdout",
       "text": [
        "17600 "
       ]
      },
      {
       "output_type": "stream",
       "stream": "stdout",
       "text": [
        "17700 "
       ]
      },
      {
       "output_type": "stream",
       "stream": "stdout",
       "text": [
        "17800 "
       ]
      },
      {
       "output_type": "stream",
       "stream": "stdout",
       "text": [
        "17900 "
       ]
      },
      {
       "output_type": "stream",
       "stream": "stdout",
       "text": [
        "18000 "
       ]
      },
      {
       "output_type": "stream",
       "stream": "stdout",
       "text": [
        "18100 "
       ]
      },
      {
       "output_type": "stream",
       "stream": "stdout",
       "text": [
        "18200 "
       ]
      },
      {
       "output_type": "stream",
       "stream": "stdout",
       "text": [
        "18300 "
       ]
      },
      {
       "output_type": "stream",
       "stream": "stdout",
       "text": [
        "18400 "
       ]
      },
      {
       "output_type": "stream",
       "stream": "stdout",
       "text": [
        "18500 "
       ]
      },
      {
       "output_type": "stream",
       "stream": "stdout",
       "text": [
        "18600 "
       ]
      },
      {
       "output_type": "stream",
       "stream": "stdout",
       "text": [
        "18700 "
       ]
      },
      {
       "output_type": "stream",
       "stream": "stdout",
       "text": [
        "18800 "
       ]
      },
      {
       "output_type": "stream",
       "stream": "stdout",
       "text": [
        "18900 "
       ]
      },
      {
       "output_type": "stream",
       "stream": "stdout",
       "text": [
        "19000 "
       ]
      },
      {
       "output_type": "stream",
       "stream": "stdout",
       "text": [
        "19100 "
       ]
      },
      {
       "output_type": "stream",
       "stream": "stdout",
       "text": [
        "19200 "
       ]
      },
      {
       "output_type": "stream",
       "stream": "stdout",
       "text": [
        "19300 "
       ]
      },
      {
       "output_type": "stream",
       "stream": "stdout",
       "text": [
        "19400 "
       ]
      },
      {
       "output_type": "stream",
       "stream": "stdout",
       "text": [
        "19500 "
       ]
      },
      {
       "output_type": "stream",
       "stream": "stdout",
       "text": [
        "19600 "
       ]
      },
      {
       "output_type": "stream",
       "stream": "stdout",
       "text": [
        "19700 "
       ]
      },
      {
       "output_type": "stream",
       "stream": "stdout",
       "text": [
        "19800 "
       ]
      },
      {
       "output_type": "stream",
       "stream": "stdout",
       "text": [
        "19900 "
       ]
      },
      {
       "output_type": "stream",
       "stream": "stdout",
       "text": [
        "20000 "
       ]
      },
      {
       "output_type": "stream",
       "stream": "stdout",
       "text": [
        "20100 "
       ]
      },
      {
       "output_type": "stream",
       "stream": "stdout",
       "text": [
        "20200 "
       ]
      },
      {
       "output_type": "stream",
       "stream": "stdout",
       "text": [
        "20300 "
       ]
      },
      {
       "output_type": "stream",
       "stream": "stdout",
       "text": [
        "20400 "
       ]
      },
      {
       "output_type": "stream",
       "stream": "stdout",
       "text": [
        "20500 "
       ]
      },
      {
       "output_type": "stream",
       "stream": "stdout",
       "text": [
        "20600 "
       ]
      },
      {
       "output_type": "stream",
       "stream": "stdout",
       "text": [
        "20700 "
       ]
      },
      {
       "output_type": "stream",
       "stream": "stdout",
       "text": [
        "20800 "
       ]
      },
      {
       "output_type": "stream",
       "stream": "stdout",
       "text": [
        "20900 "
       ]
      },
      {
       "output_type": "stream",
       "stream": "stdout",
       "text": [
        "21000 "
       ]
      },
      {
       "output_type": "stream",
       "stream": "stdout",
       "text": [
        "21100 "
       ]
      },
      {
       "output_type": "stream",
       "stream": "stdout",
       "text": [
        "21200 "
       ]
      },
      {
       "output_type": "stream",
       "stream": "stdout",
       "text": [
        "21300 "
       ]
      },
      {
       "output_type": "stream",
       "stream": "stdout",
       "text": [
        "21400 "
       ]
      },
      {
       "output_type": "stream",
       "stream": "stdout",
       "text": [
        "21500 "
       ]
      },
      {
       "output_type": "stream",
       "stream": "stdout",
       "text": [
        "21600 "
       ]
      },
      {
       "output_type": "stream",
       "stream": "stdout",
       "text": [
        "21700 "
       ]
      },
      {
       "output_type": "stream",
       "stream": "stdout",
       "text": [
        "21800 "
       ]
      },
      {
       "output_type": "stream",
       "stream": "stdout",
       "text": [
        "21900 "
       ]
      },
      {
       "output_type": "stream",
       "stream": "stdout",
       "text": [
        "22000 "
       ]
      },
      {
       "output_type": "stream",
       "stream": "stdout",
       "text": [
        "22100 "
       ]
      },
      {
       "output_type": "stream",
       "stream": "stdout",
       "text": [
        "22200 "
       ]
      },
      {
       "output_type": "stream",
       "stream": "stdout",
       "text": [
        "22300 "
       ]
      },
      {
       "output_type": "stream",
       "stream": "stdout",
       "text": [
        "22400 "
       ]
      },
      {
       "output_type": "stream",
       "stream": "stdout",
       "text": [
        "22500 "
       ]
      },
      {
       "output_type": "stream",
       "stream": "stdout",
       "text": [
        "22600 "
       ]
      },
      {
       "output_type": "stream",
       "stream": "stdout",
       "text": [
        "22700 "
       ]
      },
      {
       "output_type": "stream",
       "stream": "stdout",
       "text": [
        "22800 "
       ]
      },
      {
       "output_type": "stream",
       "stream": "stdout",
       "text": [
        "22900 "
       ]
      },
      {
       "output_type": "stream",
       "stream": "stdout",
       "text": [
        "23000 "
       ]
      },
      {
       "output_type": "stream",
       "stream": "stdout",
       "text": [
        "23100 "
       ]
      },
      {
       "output_type": "stream",
       "stream": "stdout",
       "text": [
        "23200 "
       ]
      },
      {
       "output_type": "stream",
       "stream": "stdout",
       "text": [
        "23300 "
       ]
      },
      {
       "output_type": "stream",
       "stream": "stdout",
       "text": [
        "23400 "
       ]
      },
      {
       "output_type": "stream",
       "stream": "stdout",
       "text": [
        "23500 "
       ]
      },
      {
       "output_type": "stream",
       "stream": "stdout",
       "text": [
        "23600 "
       ]
      },
      {
       "output_type": "stream",
       "stream": "stdout",
       "text": [
        "23700 "
       ]
      },
      {
       "output_type": "stream",
       "stream": "stdout",
       "text": [
        "23800 "
       ]
      },
      {
       "output_type": "stream",
       "stream": "stdout",
       "text": [
        "23900 "
       ]
      },
      {
       "output_type": "stream",
       "stream": "stdout",
       "text": [
        "24000 "
       ]
      },
      {
       "output_type": "stream",
       "stream": "stdout",
       "text": [
        "24100 "
       ]
      },
      {
       "output_type": "stream",
       "stream": "stdout",
       "text": [
        "24200 "
       ]
      },
      {
       "output_type": "stream",
       "stream": "stdout",
       "text": [
        "24300 "
       ]
      },
      {
       "output_type": "stream",
       "stream": "stdout",
       "text": [
        "24400 "
       ]
      },
      {
       "output_type": "stream",
       "stream": "stdout",
       "text": [
        "24500 "
       ]
      },
      {
       "output_type": "stream",
       "stream": "stdout",
       "text": [
        "24600 "
       ]
      },
      {
       "output_type": "stream",
       "stream": "stdout",
       "text": [
        "24700 "
       ]
      },
      {
       "output_type": "stream",
       "stream": "stdout",
       "text": [
        "24800 "
       ]
      },
      {
       "output_type": "stream",
       "stream": "stdout",
       "text": [
        "24900 "
       ]
      },
      {
       "output_type": "stream",
       "stream": "stdout",
       "text": [
        "25000 "
       ]
      },
      {
       "output_type": "stream",
       "stream": "stdout",
       "text": [
        "25100 "
       ]
      },
      {
       "output_type": "stream",
       "stream": "stdout",
       "text": [
        "25200 "
       ]
      },
      {
       "output_type": "stream",
       "stream": "stdout",
       "text": [
        "25300 "
       ]
      },
      {
       "output_type": "stream",
       "stream": "stdout",
       "text": [
        "25400 "
       ]
      },
      {
       "output_type": "stream",
       "stream": "stdout",
       "text": [
        "25500 "
       ]
      },
      {
       "output_type": "stream",
       "stream": "stdout",
       "text": [
        "25600 "
       ]
      },
      {
       "output_type": "stream",
       "stream": "stdout",
       "text": [
        "25700 "
       ]
      },
      {
       "output_type": "stream",
       "stream": "stdout",
       "text": [
        "25800 "
       ]
      },
      {
       "output_type": "stream",
       "stream": "stdout",
       "text": [
        "25900 "
       ]
      },
      {
       "output_type": "stream",
       "stream": "stdout",
       "text": [
        "26000 "
       ]
      },
      {
       "output_type": "stream",
       "stream": "stdout",
       "text": [
        "26100 "
       ]
      },
      {
       "output_type": "stream",
       "stream": "stdout",
       "text": [
        "26200 "
       ]
      },
      {
       "output_type": "stream",
       "stream": "stdout",
       "text": [
        "26300 "
       ]
      },
      {
       "output_type": "stream",
       "stream": "stdout",
       "text": [
        "26400 "
       ]
      },
      {
       "output_type": "stream",
       "stream": "stdout",
       "text": [
        "26500 "
       ]
      },
      {
       "output_type": "stream",
       "stream": "stdout",
       "text": [
        "26600 "
       ]
      },
      {
       "output_type": "stream",
       "stream": "stdout",
       "text": [
        "26700 "
       ]
      },
      {
       "output_type": "stream",
       "stream": "stdout",
       "text": [
        "26800 "
       ]
      },
      {
       "output_type": "stream",
       "stream": "stdout",
       "text": [
        "26900 "
       ]
      },
      {
       "output_type": "stream",
       "stream": "stdout",
       "text": [
        "27000 "
       ]
      },
      {
       "output_type": "stream",
       "stream": "stdout",
       "text": [
        "27100 "
       ]
      },
      {
       "output_type": "stream",
       "stream": "stdout",
       "text": [
        "27200 "
       ]
      },
      {
       "output_type": "stream",
       "stream": "stdout",
       "text": [
        "27300 "
       ]
      },
      {
       "output_type": "stream",
       "stream": "stdout",
       "text": [
        "27400 "
       ]
      },
      {
       "output_type": "stream",
       "stream": "stdout",
       "text": [
        "27500 "
       ]
      },
      {
       "output_type": "stream",
       "stream": "stdout",
       "text": [
        "27600 "
       ]
      },
      {
       "output_type": "stream",
       "stream": "stdout",
       "text": [
        "27700 "
       ]
      },
      {
       "output_type": "stream",
       "stream": "stdout",
       "text": [
        "27800 "
       ]
      },
      {
       "output_type": "stream",
       "stream": "stdout",
       "text": [
        "27900 "
       ]
      },
      {
       "output_type": "stream",
       "stream": "stdout",
       "text": [
        "28000 "
       ]
      },
      {
       "output_type": "stream",
       "stream": "stdout",
       "text": [
        "28100 "
       ]
      },
      {
       "output_type": "stream",
       "stream": "stdout",
       "text": [
        "28200 "
       ]
      },
      {
       "output_type": "stream",
       "stream": "stdout",
       "text": [
        "28300 "
       ]
      },
      {
       "output_type": "stream",
       "stream": "stdout",
       "text": [
        "28400 "
       ]
      },
      {
       "output_type": "stream",
       "stream": "stdout",
       "text": [
        "28500 "
       ]
      },
      {
       "output_type": "stream",
       "stream": "stdout",
       "text": [
        "28600 "
       ]
      },
      {
       "output_type": "stream",
       "stream": "stdout",
       "text": [
        "28700 "
       ]
      },
      {
       "output_type": "stream",
       "stream": "stdout",
       "text": [
        "28800 "
       ]
      },
      {
       "output_type": "stream",
       "stream": "stdout",
       "text": [
        "28900 "
       ]
      },
      {
       "output_type": "stream",
       "stream": "stdout",
       "text": [
        "29000 "
       ]
      },
      {
       "output_type": "stream",
       "stream": "stdout",
       "text": [
        "29100 "
       ]
      },
      {
       "output_type": "stream",
       "stream": "stdout",
       "text": [
        "29200 "
       ]
      },
      {
       "output_type": "stream",
       "stream": "stdout",
       "text": [
        "29300 "
       ]
      },
      {
       "output_type": "stream",
       "stream": "stdout",
       "text": [
        "29400 "
       ]
      },
      {
       "output_type": "stream",
       "stream": "stdout",
       "text": [
        "29500 "
       ]
      },
      {
       "output_type": "stream",
       "stream": "stdout",
       "text": [
        "29600 "
       ]
      },
      {
       "output_type": "stream",
       "stream": "stdout",
       "text": [
        "29700 "
       ]
      },
      {
       "output_type": "stream",
       "stream": "stdout",
       "text": [
        "29800 "
       ]
      },
      {
       "output_type": "stream",
       "stream": "stdout",
       "text": [
        "29900 "
       ]
      },
      {
       "output_type": "stream",
       "stream": "stdout",
       "text": [
        "30000 "
       ]
      },
      {
       "output_type": "stream",
       "stream": "stdout",
       "text": [
        "30100 "
       ]
      },
      {
       "output_type": "stream",
       "stream": "stdout",
       "text": [
        "30200 "
       ]
      },
      {
       "output_type": "stream",
       "stream": "stdout",
       "text": [
        "30300 "
       ]
      },
      {
       "output_type": "stream",
       "stream": "stdout",
       "text": [
        "30400 "
       ]
      },
      {
       "output_type": "stream",
       "stream": "stdout",
       "text": [
        "30500 "
       ]
      },
      {
       "output_type": "stream",
       "stream": "stdout",
       "text": [
        "30600 "
       ]
      },
      {
       "output_type": "stream",
       "stream": "stdout",
       "text": [
        "30700 "
       ]
      },
      {
       "output_type": "stream",
       "stream": "stdout",
       "text": [
        "30800 "
       ]
      },
      {
       "output_type": "stream",
       "stream": "stdout",
       "text": [
        "30900 "
       ]
      },
      {
       "output_type": "stream",
       "stream": "stdout",
       "text": [
        "31000 "
       ]
      },
      {
       "output_type": "stream",
       "stream": "stdout",
       "text": [
        "31100 "
       ]
      },
      {
       "output_type": "stream",
       "stream": "stdout",
       "text": [
        "31200 "
       ]
      },
      {
       "output_type": "stream",
       "stream": "stdout",
       "text": [
        "31300 "
       ]
      },
      {
       "output_type": "stream",
       "stream": "stdout",
       "text": [
        "31400 "
       ]
      },
      {
       "output_type": "stream",
       "stream": "stdout",
       "text": [
        "31500 "
       ]
      },
      {
       "output_type": "stream",
       "stream": "stdout",
       "text": [
        "31600 "
       ]
      },
      {
       "output_type": "stream",
       "stream": "stdout",
       "text": [
        "31700 "
       ]
      },
      {
       "output_type": "stream",
       "stream": "stdout",
       "text": [
        "31800 "
       ]
      },
      {
       "output_type": "stream",
       "stream": "stdout",
       "text": [
        "31900 "
       ]
      },
      {
       "output_type": "stream",
       "stream": "stdout",
       "text": [
        "32000 "
       ]
      },
      {
       "output_type": "stream",
       "stream": "stdout",
       "text": [
        "32100 "
       ]
      },
      {
       "output_type": "stream",
       "stream": "stdout",
       "text": [
        "32200 "
       ]
      },
      {
       "output_type": "stream",
       "stream": "stdout",
       "text": [
        "32300 "
       ]
      },
      {
       "output_type": "stream",
       "stream": "stdout",
       "text": [
        "32400 "
       ]
      },
      {
       "output_type": "stream",
       "stream": "stdout",
       "text": [
        "32500 "
       ]
      },
      {
       "output_type": "stream",
       "stream": "stdout",
       "text": [
        "32600 "
       ]
      },
      {
       "output_type": "stream",
       "stream": "stdout",
       "text": [
        "32700 "
       ]
      },
      {
       "output_type": "stream",
       "stream": "stdout",
       "text": [
        "32800 "
       ]
      },
      {
       "output_type": "stream",
       "stream": "stdout",
       "text": [
        "32900 "
       ]
      },
      {
       "output_type": "stream",
       "stream": "stdout",
       "text": [
        "33000 "
       ]
      },
      {
       "output_type": "stream",
       "stream": "stdout",
       "text": [
        "33100 "
       ]
      },
      {
       "output_type": "stream",
       "stream": "stdout",
       "text": [
        "33200 "
       ]
      },
      {
       "output_type": "stream",
       "stream": "stdout",
       "text": [
        "33300 "
       ]
      },
      {
       "output_type": "stream",
       "stream": "stdout",
       "text": [
        "33400 "
       ]
      },
      {
       "output_type": "stream",
       "stream": "stdout",
       "text": [
        "33500 "
       ]
      },
      {
       "output_type": "stream",
       "stream": "stdout",
       "text": [
        "33600 "
       ]
      },
      {
       "output_type": "stream",
       "stream": "stdout",
       "text": [
        "33700 "
       ]
      },
      {
       "output_type": "stream",
       "stream": "stdout",
       "text": [
        "33800 "
       ]
      },
      {
       "output_type": "stream",
       "stream": "stdout",
       "text": [
        "33900 "
       ]
      },
      {
       "output_type": "stream",
       "stream": "stdout",
       "text": [
        "34000 "
       ]
      },
      {
       "output_type": "stream",
       "stream": "stdout",
       "text": [
        "34100 "
       ]
      },
      {
       "output_type": "stream",
       "stream": "stdout",
       "text": [
        "34200 "
       ]
      },
      {
       "output_type": "stream",
       "stream": "stdout",
       "text": [
        "34300 "
       ]
      },
      {
       "output_type": "stream",
       "stream": "stdout",
       "text": [
        "34400 "
       ]
      },
      {
       "output_type": "stream",
       "stream": "stdout",
       "text": [
        "34500 "
       ]
      },
      {
       "output_type": "stream",
       "stream": "stdout",
       "text": [
        "34600 "
       ]
      },
      {
       "output_type": "stream",
       "stream": "stdout",
       "text": [
        "34700 "
       ]
      },
      {
       "output_type": "stream",
       "stream": "stdout",
       "text": [
        "34800 "
       ]
      },
      {
       "output_type": "stream",
       "stream": "stdout",
       "text": [
        "34900 "
       ]
      },
      {
       "output_type": "stream",
       "stream": "stdout",
       "text": [
        "35000 "
       ]
      },
      {
       "output_type": "stream",
       "stream": "stdout",
       "text": [
        "35100 "
       ]
      },
      {
       "output_type": "stream",
       "stream": "stdout",
       "text": [
        "35200 "
       ]
      },
      {
       "output_type": "stream",
       "stream": "stdout",
       "text": [
        "35300 "
       ]
      },
      {
       "output_type": "stream",
       "stream": "stdout",
       "text": [
        "35400 "
       ]
      },
      {
       "output_type": "stream",
       "stream": "stdout",
       "text": [
        "35500 "
       ]
      },
      {
       "output_type": "stream",
       "stream": "stdout",
       "text": [
        "35600 "
       ]
      },
      {
       "output_type": "stream",
       "stream": "stdout",
       "text": [
        "35700 "
       ]
      },
      {
       "output_type": "stream",
       "stream": "stdout",
       "text": [
        "35800 "
       ]
      },
      {
       "output_type": "stream",
       "stream": "stdout",
       "text": [
        "35900 "
       ]
      },
      {
       "output_type": "stream",
       "stream": "stdout",
       "text": [
        "36000 "
       ]
      },
      {
       "output_type": "stream",
       "stream": "stdout",
       "text": [
        "36100 "
       ]
      },
      {
       "output_type": "stream",
       "stream": "stdout",
       "text": [
        "36200 "
       ]
      },
      {
       "output_type": "stream",
       "stream": "stdout",
       "text": [
        "36300 "
       ]
      },
      {
       "output_type": "stream",
       "stream": "stdout",
       "text": [
        "36400 "
       ]
      },
      {
       "output_type": "stream",
       "stream": "stdout",
       "text": [
        "36500 "
       ]
      },
      {
       "output_type": "stream",
       "stream": "stdout",
       "text": [
        "36600 "
       ]
      },
      {
       "output_type": "stream",
       "stream": "stdout",
       "text": [
        "36700 "
       ]
      },
      {
       "output_type": "stream",
       "stream": "stdout",
       "text": [
        "36800 "
       ]
      },
      {
       "output_type": "stream",
       "stream": "stdout",
       "text": [
        "36900 "
       ]
      },
      {
       "output_type": "stream",
       "stream": "stdout",
       "text": [
        "37000 "
       ]
      },
      {
       "output_type": "stream",
       "stream": "stdout",
       "text": [
        "37100 "
       ]
      },
      {
       "output_type": "stream",
       "stream": "stdout",
       "text": [
        "37200 "
       ]
      },
      {
       "output_type": "stream",
       "stream": "stdout",
       "text": [
        "37300 "
       ]
      },
      {
       "output_type": "stream",
       "stream": "stdout",
       "text": [
        "37400 "
       ]
      },
      {
       "output_type": "stream",
       "stream": "stdout",
       "text": [
        "37500 "
       ]
      },
      {
       "output_type": "stream",
       "stream": "stdout",
       "text": [
        "37600 "
       ]
      },
      {
       "output_type": "stream",
       "stream": "stdout",
       "text": [
        "37700 "
       ]
      },
      {
       "output_type": "stream",
       "stream": "stdout",
       "text": [
        "37800 "
       ]
      },
      {
       "output_type": "stream",
       "stream": "stdout",
       "text": [
        "37900 "
       ]
      },
      {
       "output_type": "stream",
       "stream": "stdout",
       "text": [
        "38000 "
       ]
      },
      {
       "output_type": "stream",
       "stream": "stdout",
       "text": [
        "38100 "
       ]
      },
      {
       "output_type": "stream",
       "stream": "stdout",
       "text": [
        "38200 "
       ]
      },
      {
       "output_type": "stream",
       "stream": "stdout",
       "text": [
        "38300 "
       ]
      },
      {
       "output_type": "stream",
       "stream": "stdout",
       "text": [
        "38400 "
       ]
      },
      {
       "output_type": "stream",
       "stream": "stdout",
       "text": [
        "38500 "
       ]
      },
      {
       "output_type": "stream",
       "stream": "stdout",
       "text": [
        "38600 "
       ]
      },
      {
       "output_type": "stream",
       "stream": "stdout",
       "text": [
        "38700 "
       ]
      },
      {
       "output_type": "stream",
       "stream": "stdout",
       "text": [
        "38800 "
       ]
      },
      {
       "output_type": "stream",
       "stream": "stdout",
       "text": [
        "38900 "
       ]
      },
      {
       "output_type": "stream",
       "stream": "stdout",
       "text": [
        "39000 "
       ]
      },
      {
       "output_type": "stream",
       "stream": "stdout",
       "text": [
        "39100 "
       ]
      },
      {
       "output_type": "stream",
       "stream": "stdout",
       "text": [
        "39200 "
       ]
      },
      {
       "output_type": "stream",
       "stream": "stdout",
       "text": [
        "39300 "
       ]
      },
      {
       "output_type": "stream",
       "stream": "stdout",
       "text": [
        "39400 "
       ]
      },
      {
       "output_type": "stream",
       "stream": "stdout",
       "text": [
        "39500 "
       ]
      },
      {
       "output_type": "stream",
       "stream": "stdout",
       "text": [
        "39600 "
       ]
      },
      {
       "output_type": "stream",
       "stream": "stdout",
       "text": [
        "39700 "
       ]
      },
      {
       "output_type": "stream",
       "stream": "stdout",
       "text": [
        "39800 "
       ]
      },
      {
       "output_type": "stream",
       "stream": "stdout",
       "text": [
        "39900 "
       ]
      },
      {
       "output_type": "stream",
       "stream": "stdout",
       "text": [
        "40000 "
       ]
      },
      {
       "output_type": "stream",
       "stream": "stdout",
       "text": [
        "40100 "
       ]
      },
      {
       "output_type": "stream",
       "stream": "stdout",
       "text": [
        "40200 "
       ]
      },
      {
       "output_type": "stream",
       "stream": "stdout",
       "text": [
        "40300 "
       ]
      },
      {
       "output_type": "stream",
       "stream": "stdout",
       "text": [
        "40400 "
       ]
      },
      {
       "output_type": "stream",
       "stream": "stdout",
       "text": [
        "40500 "
       ]
      },
      {
       "output_type": "stream",
       "stream": "stdout",
       "text": [
        "40600 "
       ]
      },
      {
       "output_type": "stream",
       "stream": "stdout",
       "text": [
        "40700 "
       ]
      },
      {
       "output_type": "stream",
       "stream": "stdout",
       "text": [
        "40800 "
       ]
      },
      {
       "output_type": "stream",
       "stream": "stdout",
       "text": [
        "40900 "
       ]
      },
      {
       "output_type": "stream",
       "stream": "stdout",
       "text": [
        "41000 "
       ]
      },
      {
       "output_type": "stream",
       "stream": "stdout",
       "text": [
        "41100 "
       ]
      },
      {
       "output_type": "stream",
       "stream": "stdout",
       "text": [
        "41200 "
       ]
      },
      {
       "output_type": "stream",
       "stream": "stdout",
       "text": [
        "41300 "
       ]
      },
      {
       "output_type": "stream",
       "stream": "stdout",
       "text": [
        "41400 "
       ]
      },
      {
       "output_type": "stream",
       "stream": "stdout",
       "text": [
        "41500 "
       ]
      },
      {
       "output_type": "stream",
       "stream": "stdout",
       "text": [
        "41600 "
       ]
      },
      {
       "output_type": "stream",
       "stream": "stdout",
       "text": [
        "41700 "
       ]
      },
      {
       "output_type": "stream",
       "stream": "stdout",
       "text": [
        "41800 "
       ]
      },
      {
       "output_type": "stream",
       "stream": "stdout",
       "text": [
        "41900 "
       ]
      },
      {
       "output_type": "stream",
       "stream": "stdout",
       "text": [
        "42000 "
       ]
      },
      {
       "output_type": "stream",
       "stream": "stdout",
       "text": [
        "42100 "
       ]
      },
      {
       "output_type": "stream",
       "stream": "stdout",
       "text": [
        "42200 "
       ]
      },
      {
       "output_type": "stream",
       "stream": "stdout",
       "text": [
        "42300 "
       ]
      },
      {
       "output_type": "stream",
       "stream": "stdout",
       "text": [
        "42400 "
       ]
      },
      {
       "output_type": "stream",
       "stream": "stdout",
       "text": [
        "42500 "
       ]
      },
      {
       "output_type": "stream",
       "stream": "stdout",
       "text": [
        "42600 "
       ]
      },
      {
       "output_type": "stream",
       "stream": "stdout",
       "text": [
        "42700 "
       ]
      },
      {
       "output_type": "stream",
       "stream": "stdout",
       "text": [
        "42800 "
       ]
      },
      {
       "output_type": "stream",
       "stream": "stdout",
       "text": [
        "42900 "
       ]
      },
      {
       "output_type": "stream",
       "stream": "stdout",
       "text": [
        "43000 "
       ]
      },
      {
       "output_type": "stream",
       "stream": "stdout",
       "text": [
        "43100 "
       ]
      },
      {
       "output_type": "stream",
       "stream": "stdout",
       "text": [
        "43200 "
       ]
      },
      {
       "output_type": "stream",
       "stream": "stdout",
       "text": [
        "43300 "
       ]
      },
      {
       "output_type": "stream",
       "stream": "stdout",
       "text": [
        "43400 "
       ]
      },
      {
       "output_type": "stream",
       "stream": "stdout",
       "text": [
        "43500 "
       ]
      },
      {
       "output_type": "stream",
       "stream": "stdout",
       "text": [
        "43600 "
       ]
      },
      {
       "output_type": "stream",
       "stream": "stdout",
       "text": [
        "43700 "
       ]
      },
      {
       "output_type": "stream",
       "stream": "stdout",
       "text": [
        "43800 "
       ]
      },
      {
       "output_type": "stream",
       "stream": "stdout",
       "text": [
        "43900 "
       ]
      },
      {
       "output_type": "stream",
       "stream": "stdout",
       "text": [
        "44000 "
       ]
      },
      {
       "output_type": "stream",
       "stream": "stdout",
       "text": [
        "44100 "
       ]
      },
      {
       "output_type": "stream",
       "stream": "stdout",
       "text": [
        "44200 "
       ]
      },
      {
       "output_type": "stream",
       "stream": "stdout",
       "text": [
        "44300 "
       ]
      },
      {
       "output_type": "stream",
       "stream": "stdout",
       "text": [
        "44400 "
       ]
      },
      {
       "output_type": "stream",
       "stream": "stdout",
       "text": [
        "44500 "
       ]
      },
      {
       "output_type": "stream",
       "stream": "stdout",
       "text": [
        "44600 "
       ]
      },
      {
       "output_type": "stream",
       "stream": "stdout",
       "text": [
        "44700 "
       ]
      },
      {
       "output_type": "stream",
       "stream": "stdout",
       "text": [
        "44800 "
       ]
      },
      {
       "output_type": "stream",
       "stream": "stdout",
       "text": [
        "44900 "
       ]
      },
      {
       "output_type": "stream",
       "stream": "stdout",
       "text": [
        "45000 "
       ]
      },
      {
       "output_type": "stream",
       "stream": "stdout",
       "text": [
        "45100 "
       ]
      },
      {
       "output_type": "stream",
       "stream": "stdout",
       "text": [
        "45200 "
       ]
      },
      {
       "output_type": "stream",
       "stream": "stdout",
       "text": [
        "45300 "
       ]
      },
      {
       "output_type": "stream",
       "stream": "stdout",
       "text": [
        "45400 "
       ]
      },
      {
       "output_type": "stream",
       "stream": "stdout",
       "text": [
        "45500 "
       ]
      },
      {
       "output_type": "stream",
       "stream": "stdout",
       "text": [
        "45600 "
       ]
      },
      {
       "output_type": "stream",
       "stream": "stdout",
       "text": [
        "45700 "
       ]
      },
      {
       "output_type": "stream",
       "stream": "stdout",
       "text": [
        "45800 "
       ]
      },
      {
       "output_type": "stream",
       "stream": "stdout",
       "text": [
        "45900 "
       ]
      },
      {
       "output_type": "stream",
       "stream": "stdout",
       "text": [
        "46000\n"
       ]
      }
     ],
     "prompt_number": 104
    },
    {
     "cell_type": "code",
     "collapsed": false,
     "input": [
      "n = -3\n",
      "res = []\n",
      "k = 0\n",
      "for i in range(len(train)):\n",
      "    res.append(MeanNDayFromThis(n, train, train.City[i], train.Year[i], train.Month[i], train.Day[i]))\n",
      "    if ( (k % 100) == 0):\n",
      "        print k,\n",
      "    k += 1\n",
      "train[\"MeanPrev3Day\"] = pd.Series(res)"
     ],
     "language": "python",
     "metadata": {},
     "outputs": [
      {
       "output_type": "stream",
       "stream": "stdout",
       "text": [
        "0 "
       ]
      },
      {
       "output_type": "stream",
       "stream": "stdout",
       "text": [
        "100 "
       ]
      },
      {
       "output_type": "stream",
       "stream": "stdout",
       "text": [
        "200 "
       ]
      },
      {
       "output_type": "stream",
       "stream": "stdout",
       "text": [
        "300 "
       ]
      },
      {
       "output_type": "stream",
       "stream": "stdout",
       "text": [
        "400 "
       ]
      },
      {
       "output_type": "stream",
       "stream": "stdout",
       "text": [
        "500 "
       ]
      },
      {
       "output_type": "stream",
       "stream": "stdout",
       "text": [
        "600 "
       ]
      },
      {
       "output_type": "stream",
       "stream": "stdout",
       "text": [
        "700 "
       ]
      },
      {
       "output_type": "stream",
       "stream": "stdout",
       "text": [
        "800 "
       ]
      },
      {
       "output_type": "stream",
       "stream": "stdout",
       "text": [
        "900 "
       ]
      },
      {
       "output_type": "stream",
       "stream": "stdout",
       "text": [
        "1000 "
       ]
      },
      {
       "output_type": "stream",
       "stream": "stdout",
       "text": [
        "1100 "
       ]
      },
      {
       "output_type": "stream",
       "stream": "stdout",
       "text": [
        "1200 "
       ]
      },
      {
       "output_type": "stream",
       "stream": "stdout",
       "text": [
        "1300 "
       ]
      },
      {
       "output_type": "stream",
       "stream": "stdout",
       "text": [
        "1400 "
       ]
      },
      {
       "output_type": "stream",
       "stream": "stdout",
       "text": [
        "1500 "
       ]
      },
      {
       "output_type": "stream",
       "stream": "stdout",
       "text": [
        "1600 "
       ]
      },
      {
       "output_type": "stream",
       "stream": "stdout",
       "text": [
        "1700 "
       ]
      },
      {
       "output_type": "stream",
       "stream": "stdout",
       "text": [
        "1800 "
       ]
      },
      {
       "output_type": "stream",
       "stream": "stdout",
       "text": [
        "1900 "
       ]
      },
      {
       "output_type": "stream",
       "stream": "stdout",
       "text": [
        "2000 "
       ]
      },
      {
       "output_type": "stream",
       "stream": "stdout",
       "text": [
        "2100 "
       ]
      },
      {
       "output_type": "stream",
       "stream": "stdout",
       "text": [
        "2200 "
       ]
      },
      {
       "output_type": "stream",
       "stream": "stdout",
       "text": [
        "2300 "
       ]
      },
      {
       "output_type": "stream",
       "stream": "stdout",
       "text": [
        "2400 "
       ]
      },
      {
       "output_type": "stream",
       "stream": "stdout",
       "text": [
        "2500 "
       ]
      },
      {
       "output_type": "stream",
       "stream": "stdout",
       "text": [
        "2600 "
       ]
      },
      {
       "output_type": "stream",
       "stream": "stdout",
       "text": [
        "2700 "
       ]
      },
      {
       "output_type": "stream",
       "stream": "stdout",
       "text": [
        "2800 "
       ]
      },
      {
       "output_type": "stream",
       "stream": "stdout",
       "text": [
        "2900 "
       ]
      },
      {
       "output_type": "stream",
       "stream": "stdout",
       "text": [
        "3000 "
       ]
      },
      {
       "output_type": "stream",
       "stream": "stdout",
       "text": [
        "3100 "
       ]
      },
      {
       "output_type": "stream",
       "stream": "stdout",
       "text": [
        "3200 "
       ]
      },
      {
       "output_type": "stream",
       "stream": "stdout",
       "text": [
        "3300 "
       ]
      },
      {
       "output_type": "stream",
       "stream": "stdout",
       "text": [
        "3400 "
       ]
      },
      {
       "output_type": "stream",
       "stream": "stdout",
       "text": [
        "3500 "
       ]
      },
      {
       "output_type": "stream",
       "stream": "stdout",
       "text": [
        "3600 "
       ]
      },
      {
       "output_type": "stream",
       "stream": "stdout",
       "text": [
        "3700 "
       ]
      },
      {
       "output_type": "stream",
       "stream": "stdout",
       "text": [
        "3800 "
       ]
      },
      {
       "output_type": "stream",
       "stream": "stdout",
       "text": [
        "3900 "
       ]
      },
      {
       "output_type": "stream",
       "stream": "stdout",
       "text": [
        "4000 "
       ]
      },
      {
       "output_type": "stream",
       "stream": "stdout",
       "text": [
        "4100 "
       ]
      },
      {
       "output_type": "stream",
       "stream": "stdout",
       "text": [
        "4200 "
       ]
      },
      {
       "output_type": "stream",
       "stream": "stdout",
       "text": [
        "4300 "
       ]
      },
      {
       "output_type": "stream",
       "stream": "stdout",
       "text": [
        "4400 "
       ]
      },
      {
       "output_type": "stream",
       "stream": "stdout",
       "text": [
        "4500 "
       ]
      },
      {
       "output_type": "stream",
       "stream": "stdout",
       "text": [
        "4600 "
       ]
      },
      {
       "output_type": "stream",
       "stream": "stdout",
       "text": [
        "4700 "
       ]
      },
      {
       "output_type": "stream",
       "stream": "stdout",
       "text": [
        "4800 "
       ]
      },
      {
       "output_type": "stream",
       "stream": "stdout",
       "text": [
        "4900 "
       ]
      },
      {
       "output_type": "stream",
       "stream": "stdout",
       "text": [
        "5000 "
       ]
      },
      {
       "output_type": "stream",
       "stream": "stdout",
       "text": [
        "5100 "
       ]
      },
      {
       "output_type": "stream",
       "stream": "stdout",
       "text": [
        "5200 "
       ]
      },
      {
       "output_type": "stream",
       "stream": "stdout",
       "text": [
        "5300 "
       ]
      },
      {
       "output_type": "stream",
       "stream": "stdout",
       "text": [
        "5400 "
       ]
      },
      {
       "output_type": "stream",
       "stream": "stdout",
       "text": [
        "5500 "
       ]
      },
      {
       "output_type": "stream",
       "stream": "stdout",
       "text": [
        "5600 "
       ]
      },
      {
       "output_type": "stream",
       "stream": "stdout",
       "text": [
        "5700 "
       ]
      },
      {
       "output_type": "stream",
       "stream": "stdout",
       "text": [
        "5800 "
       ]
      },
      {
       "output_type": "stream",
       "stream": "stdout",
       "text": [
        "5900 "
       ]
      },
      {
       "output_type": "stream",
       "stream": "stdout",
       "text": [
        "6000 "
       ]
      },
      {
       "output_type": "stream",
       "stream": "stdout",
       "text": [
        "6100 "
       ]
      },
      {
       "output_type": "stream",
       "stream": "stdout",
       "text": [
        "6200 "
       ]
      },
      {
       "output_type": "stream",
       "stream": "stdout",
       "text": [
        "6300 "
       ]
      },
      {
       "output_type": "stream",
       "stream": "stdout",
       "text": [
        "6400 "
       ]
      },
      {
       "output_type": "stream",
       "stream": "stdout",
       "text": [
        "6500 "
       ]
      },
      {
       "output_type": "stream",
       "stream": "stdout",
       "text": [
        "6600 "
       ]
      },
      {
       "output_type": "stream",
       "stream": "stdout",
       "text": [
        "6700 "
       ]
      },
      {
       "output_type": "stream",
       "stream": "stdout",
       "text": [
        "6800 "
       ]
      },
      {
       "output_type": "stream",
       "stream": "stdout",
       "text": [
        "6900 "
       ]
      },
      {
       "output_type": "stream",
       "stream": "stdout",
       "text": [
        "7000 "
       ]
      },
      {
       "output_type": "stream",
       "stream": "stdout",
       "text": [
        "7100 "
       ]
      },
      {
       "output_type": "stream",
       "stream": "stdout",
       "text": [
        "7200 "
       ]
      },
      {
       "output_type": "stream",
       "stream": "stdout",
       "text": [
        "7300 "
       ]
      },
      {
       "output_type": "stream",
       "stream": "stdout",
       "text": [
        "7400 "
       ]
      },
      {
       "output_type": "stream",
       "stream": "stdout",
       "text": [
        "7500 "
       ]
      },
      {
       "output_type": "stream",
       "stream": "stdout",
       "text": [
        "7600 "
       ]
      },
      {
       "output_type": "stream",
       "stream": "stdout",
       "text": [
        "7700 "
       ]
      },
      {
       "output_type": "stream",
       "stream": "stdout",
       "text": [
        "7800 "
       ]
      },
      {
       "output_type": "stream",
       "stream": "stdout",
       "text": [
        "7900 "
       ]
      },
      {
       "output_type": "stream",
       "stream": "stdout",
       "text": [
        "8000 "
       ]
      },
      {
       "output_type": "stream",
       "stream": "stdout",
       "text": [
        "8100 "
       ]
      },
      {
       "output_type": "stream",
       "stream": "stdout",
       "text": [
        "8200 "
       ]
      },
      {
       "output_type": "stream",
       "stream": "stdout",
       "text": [
        "8300 "
       ]
      },
      {
       "output_type": "stream",
       "stream": "stdout",
       "text": [
        "8400 "
       ]
      },
      {
       "output_type": "stream",
       "stream": "stdout",
       "text": [
        "8500 "
       ]
      },
      {
       "output_type": "stream",
       "stream": "stdout",
       "text": [
        "8600 "
       ]
      },
      {
       "output_type": "stream",
       "stream": "stdout",
       "text": [
        "8700 "
       ]
      },
      {
       "output_type": "stream",
       "stream": "stdout",
       "text": [
        "8800 "
       ]
      },
      {
       "output_type": "stream",
       "stream": "stdout",
       "text": [
        "8900 "
       ]
      },
      {
       "output_type": "stream",
       "stream": "stdout",
       "text": [
        "9000 "
       ]
      },
      {
       "output_type": "stream",
       "stream": "stdout",
       "text": [
        "9100 "
       ]
      },
      {
       "output_type": "stream",
       "stream": "stdout",
       "text": [
        "9200 "
       ]
      },
      {
       "output_type": "stream",
       "stream": "stdout",
       "text": [
        "9300 "
       ]
      },
      {
       "output_type": "stream",
       "stream": "stdout",
       "text": [
        "9400 "
       ]
      },
      {
       "output_type": "stream",
       "stream": "stdout",
       "text": [
        "9500 "
       ]
      },
      {
       "output_type": "stream",
       "stream": "stdout",
       "text": [
        "9600 "
       ]
      },
      {
       "output_type": "stream",
       "stream": "stdout",
       "text": [
        "9700 "
       ]
      },
      {
       "output_type": "stream",
       "stream": "stdout",
       "text": [
        "9800 "
       ]
      },
      {
       "output_type": "stream",
       "stream": "stdout",
       "text": [
        "9900 "
       ]
      },
      {
       "output_type": "stream",
       "stream": "stdout",
       "text": [
        "10000 "
       ]
      },
      {
       "output_type": "stream",
       "stream": "stdout",
       "text": [
        "10100 "
       ]
      },
      {
       "output_type": "stream",
       "stream": "stdout",
       "text": [
        "10200 "
       ]
      },
      {
       "output_type": "stream",
       "stream": "stdout",
       "text": [
        "10300 "
       ]
      },
      {
       "output_type": "stream",
       "stream": "stdout",
       "text": [
        "10400 "
       ]
      },
      {
       "output_type": "stream",
       "stream": "stdout",
       "text": [
        "10500 "
       ]
      },
      {
       "output_type": "stream",
       "stream": "stdout",
       "text": [
        "10600 "
       ]
      },
      {
       "output_type": "stream",
       "stream": "stdout",
       "text": [
        "10700 "
       ]
      },
      {
       "output_type": "stream",
       "stream": "stdout",
       "text": [
        "10800 "
       ]
      },
      {
       "output_type": "stream",
       "stream": "stdout",
       "text": [
        "10900 "
       ]
      },
      {
       "output_type": "stream",
       "stream": "stdout",
       "text": [
        "11000 "
       ]
      },
      {
       "output_type": "stream",
       "stream": "stdout",
       "text": [
        "11100 "
       ]
      },
      {
       "output_type": "stream",
       "stream": "stdout",
       "text": [
        "11200 "
       ]
      },
      {
       "output_type": "stream",
       "stream": "stdout",
       "text": [
        "11300 "
       ]
      },
      {
       "output_type": "stream",
       "stream": "stdout",
       "text": [
        "11400 "
       ]
      },
      {
       "output_type": "stream",
       "stream": "stdout",
       "text": [
        "11500 "
       ]
      },
      {
       "output_type": "stream",
       "stream": "stdout",
       "text": [
        "11600 "
       ]
      },
      {
       "output_type": "stream",
       "stream": "stdout",
       "text": [
        "11700 "
       ]
      },
      {
       "output_type": "stream",
       "stream": "stdout",
       "text": [
        "11800 "
       ]
      },
      {
       "output_type": "stream",
       "stream": "stdout",
       "text": [
        "11900 "
       ]
      },
      {
       "output_type": "stream",
       "stream": "stdout",
       "text": [
        "12000 "
       ]
      },
      {
       "output_type": "stream",
       "stream": "stdout",
       "text": [
        "12100 "
       ]
      },
      {
       "output_type": "stream",
       "stream": "stdout",
       "text": [
        "12200 "
       ]
      },
      {
       "output_type": "stream",
       "stream": "stdout",
       "text": [
        "12300 "
       ]
      },
      {
       "output_type": "stream",
       "stream": "stdout",
       "text": [
        "12400 "
       ]
      },
      {
       "output_type": "stream",
       "stream": "stdout",
       "text": [
        "12500 "
       ]
      },
      {
       "output_type": "stream",
       "stream": "stdout",
       "text": [
        "12600 "
       ]
      },
      {
       "output_type": "stream",
       "stream": "stdout",
       "text": [
        "12700 "
       ]
      },
      {
       "output_type": "stream",
       "stream": "stdout",
       "text": [
        "12800 "
       ]
      },
      {
       "output_type": "stream",
       "stream": "stdout",
       "text": [
        "12900 "
       ]
      },
      {
       "output_type": "stream",
       "stream": "stdout",
       "text": [
        "13000 "
       ]
      },
      {
       "output_type": "stream",
       "stream": "stdout",
       "text": [
        "13100 "
       ]
      },
      {
       "output_type": "stream",
       "stream": "stdout",
       "text": [
        "13200 "
       ]
      },
      {
       "output_type": "stream",
       "stream": "stdout",
       "text": [
        "13300 "
       ]
      },
      {
       "output_type": "stream",
       "stream": "stdout",
       "text": [
        "13400 "
       ]
      },
      {
       "output_type": "stream",
       "stream": "stdout",
       "text": [
        "13500 "
       ]
      },
      {
       "output_type": "stream",
       "stream": "stdout",
       "text": [
        "13600 "
       ]
      },
      {
       "output_type": "stream",
       "stream": "stdout",
       "text": [
        "13700 "
       ]
      },
      {
       "output_type": "stream",
       "stream": "stdout",
       "text": [
        "13800 "
       ]
      },
      {
       "output_type": "stream",
       "stream": "stdout",
       "text": [
        "13900 "
       ]
      },
      {
       "output_type": "stream",
       "stream": "stdout",
       "text": [
        "14000 "
       ]
      },
      {
       "output_type": "stream",
       "stream": "stdout",
       "text": [
        "14100 "
       ]
      },
      {
       "output_type": "stream",
       "stream": "stdout",
       "text": [
        "14200 "
       ]
      },
      {
       "output_type": "stream",
       "stream": "stdout",
       "text": [
        "14300 "
       ]
      },
      {
       "output_type": "stream",
       "stream": "stdout",
       "text": [
        "14400 "
       ]
      },
      {
       "output_type": "stream",
       "stream": "stdout",
       "text": [
        "14500 "
       ]
      },
      {
       "output_type": "stream",
       "stream": "stdout",
       "text": [
        "14600 "
       ]
      },
      {
       "output_type": "stream",
       "stream": "stdout",
       "text": [
        "14700 "
       ]
      },
      {
       "output_type": "stream",
       "stream": "stdout",
       "text": [
        "14800 "
       ]
      },
      {
       "output_type": "stream",
       "stream": "stdout",
       "text": [
        "14900 "
       ]
      },
      {
       "output_type": "stream",
       "stream": "stdout",
       "text": [
        "15000 "
       ]
      },
      {
       "output_type": "stream",
       "stream": "stdout",
       "text": [
        "15100 "
       ]
      },
      {
       "output_type": "stream",
       "stream": "stdout",
       "text": [
        "15200 "
       ]
      },
      {
       "output_type": "stream",
       "stream": "stdout",
       "text": [
        "15300 "
       ]
      },
      {
       "output_type": "stream",
       "stream": "stdout",
       "text": [
        "15400 "
       ]
      },
      {
       "output_type": "stream",
       "stream": "stdout",
       "text": [
        "15500 "
       ]
      },
      {
       "output_type": "stream",
       "stream": "stdout",
       "text": [
        "15600 "
       ]
      },
      {
       "output_type": "stream",
       "stream": "stdout",
       "text": [
        "15700 "
       ]
      },
      {
       "output_type": "stream",
       "stream": "stdout",
       "text": [
        "15800 "
       ]
      },
      {
       "output_type": "stream",
       "stream": "stdout",
       "text": [
        "15900 "
       ]
      },
      {
       "output_type": "stream",
       "stream": "stdout",
       "text": [
        "16000 "
       ]
      },
      {
       "output_type": "stream",
       "stream": "stdout",
       "text": [
        "16100 "
       ]
      },
      {
       "output_type": "stream",
       "stream": "stdout",
       "text": [
        "16200 "
       ]
      },
      {
       "output_type": "stream",
       "stream": "stdout",
       "text": [
        "16300 "
       ]
      },
      {
       "output_type": "stream",
       "stream": "stdout",
       "text": [
        "16400 "
       ]
      },
      {
       "output_type": "stream",
       "stream": "stdout",
       "text": [
        "16500 "
       ]
      },
      {
       "output_type": "stream",
       "stream": "stdout",
       "text": [
        "16600 "
       ]
      },
      {
       "output_type": "stream",
       "stream": "stdout",
       "text": [
        "16700 "
       ]
      },
      {
       "output_type": "stream",
       "stream": "stdout",
       "text": [
        "16800 "
       ]
      },
      {
       "output_type": "stream",
       "stream": "stdout",
       "text": [
        "16900 "
       ]
      },
      {
       "output_type": "stream",
       "stream": "stdout",
       "text": [
        "17000 "
       ]
      },
      {
       "output_type": "stream",
       "stream": "stdout",
       "text": [
        "17100 "
       ]
      },
      {
       "output_type": "stream",
       "stream": "stdout",
       "text": [
        "17200 "
       ]
      },
      {
       "output_type": "stream",
       "stream": "stdout",
       "text": [
        "17300 "
       ]
      },
      {
       "output_type": "stream",
       "stream": "stdout",
       "text": [
        "17400 "
       ]
      },
      {
       "output_type": "stream",
       "stream": "stdout",
       "text": [
        "17500 "
       ]
      },
      {
       "output_type": "stream",
       "stream": "stdout",
       "text": [
        "17600 "
       ]
      },
      {
       "output_type": "stream",
       "stream": "stdout",
       "text": [
        "17700 "
       ]
      },
      {
       "output_type": "stream",
       "stream": "stdout",
       "text": [
        "17800 "
       ]
      },
      {
       "output_type": "stream",
       "stream": "stdout",
       "text": [
        "17900 "
       ]
      },
      {
       "output_type": "stream",
       "stream": "stdout",
       "text": [
        "18000 "
       ]
      },
      {
       "output_type": "stream",
       "stream": "stdout",
       "text": [
        "18100 "
       ]
      },
      {
       "output_type": "stream",
       "stream": "stdout",
       "text": [
        "18200 "
       ]
      },
      {
       "output_type": "stream",
       "stream": "stdout",
       "text": [
        "18300 "
       ]
      },
      {
       "output_type": "stream",
       "stream": "stdout",
       "text": [
        "18400 "
       ]
      },
      {
       "output_type": "stream",
       "stream": "stdout",
       "text": [
        "18500 "
       ]
      },
      {
       "output_type": "stream",
       "stream": "stdout",
       "text": [
        "18600 "
       ]
      },
      {
       "output_type": "stream",
       "stream": "stdout",
       "text": [
        "18700 "
       ]
      },
      {
       "output_type": "stream",
       "stream": "stdout",
       "text": [
        "18800 "
       ]
      },
      {
       "output_type": "stream",
       "stream": "stdout",
       "text": [
        "18900 "
       ]
      },
      {
       "output_type": "stream",
       "stream": "stdout",
       "text": [
        "19000 "
       ]
      },
      {
       "output_type": "stream",
       "stream": "stdout",
       "text": [
        "19100 "
       ]
      },
      {
       "output_type": "stream",
       "stream": "stdout",
       "text": [
        "19200 "
       ]
      },
      {
       "output_type": "stream",
       "stream": "stdout",
       "text": [
        "19300 "
       ]
      },
      {
       "output_type": "stream",
       "stream": "stdout",
       "text": [
        "19400 "
       ]
      },
      {
       "output_type": "stream",
       "stream": "stdout",
       "text": [
        "19500 "
       ]
      },
      {
       "output_type": "stream",
       "stream": "stdout",
       "text": [
        "19600 "
       ]
      },
      {
       "output_type": "stream",
       "stream": "stdout",
       "text": [
        "19700 "
       ]
      },
      {
       "output_type": "stream",
       "stream": "stdout",
       "text": [
        "19800 "
       ]
      },
      {
       "output_type": "stream",
       "stream": "stdout",
       "text": [
        "19900 "
       ]
      },
      {
       "output_type": "stream",
       "stream": "stdout",
       "text": [
        "20000 "
       ]
      },
      {
       "output_type": "stream",
       "stream": "stdout",
       "text": [
        "20100 "
       ]
      },
      {
       "output_type": "stream",
       "stream": "stdout",
       "text": [
        "20200 "
       ]
      },
      {
       "output_type": "stream",
       "stream": "stdout",
       "text": [
        "20300 "
       ]
      },
      {
       "output_type": "stream",
       "stream": "stdout",
       "text": [
        "20400 "
       ]
      },
      {
       "output_type": "stream",
       "stream": "stdout",
       "text": [
        "20500 "
       ]
      },
      {
       "output_type": "stream",
       "stream": "stdout",
       "text": [
        "20600 "
       ]
      },
      {
       "output_type": "stream",
       "stream": "stdout",
       "text": [
        "20700 "
       ]
      },
      {
       "output_type": "stream",
       "stream": "stdout",
       "text": [
        "20800 "
       ]
      },
      {
       "output_type": "stream",
       "stream": "stdout",
       "text": [
        "20900 "
       ]
      },
      {
       "output_type": "stream",
       "stream": "stdout",
       "text": [
        "21000 "
       ]
      },
      {
       "output_type": "stream",
       "stream": "stdout",
       "text": [
        "21100 "
       ]
      },
      {
       "output_type": "stream",
       "stream": "stdout",
       "text": [
        "21200 "
       ]
      },
      {
       "output_type": "stream",
       "stream": "stdout",
       "text": [
        "21300 "
       ]
      },
      {
       "output_type": "stream",
       "stream": "stdout",
       "text": [
        "21400 "
       ]
      },
      {
       "output_type": "stream",
       "stream": "stdout",
       "text": [
        "21500 "
       ]
      },
      {
       "output_type": "stream",
       "stream": "stdout",
       "text": [
        "21600 "
       ]
      },
      {
       "output_type": "stream",
       "stream": "stdout",
       "text": [
        "21700 "
       ]
      },
      {
       "output_type": "stream",
       "stream": "stdout",
       "text": [
        "21800 "
       ]
      },
      {
       "output_type": "stream",
       "stream": "stdout",
       "text": [
        "21900 "
       ]
      },
      {
       "output_type": "stream",
       "stream": "stdout",
       "text": [
        "22000 "
       ]
      },
      {
       "output_type": "stream",
       "stream": "stdout",
       "text": [
        "22100 "
       ]
      },
      {
       "output_type": "stream",
       "stream": "stdout",
       "text": [
        "22200 "
       ]
      },
      {
       "output_type": "stream",
       "stream": "stdout",
       "text": [
        "22300 "
       ]
      },
      {
       "output_type": "stream",
       "stream": "stdout",
       "text": [
        "22400 "
       ]
      },
      {
       "output_type": "stream",
       "stream": "stdout",
       "text": [
        "22500 "
       ]
      },
      {
       "output_type": "stream",
       "stream": "stdout",
       "text": [
        "22600 "
       ]
      },
      {
       "output_type": "stream",
       "stream": "stdout",
       "text": [
        "22700 "
       ]
      },
      {
       "output_type": "stream",
       "stream": "stdout",
       "text": [
        "22800 "
       ]
      },
      {
       "output_type": "stream",
       "stream": "stdout",
       "text": [
        "22900 "
       ]
      },
      {
       "output_type": "stream",
       "stream": "stdout",
       "text": [
        "23000 "
       ]
      },
      {
       "output_type": "stream",
       "stream": "stdout",
       "text": [
        "23100 "
       ]
      },
      {
       "output_type": "stream",
       "stream": "stdout",
       "text": [
        "23200 "
       ]
      },
      {
       "output_type": "stream",
       "stream": "stdout",
       "text": [
        "23300 "
       ]
      },
      {
       "output_type": "stream",
       "stream": "stdout",
       "text": [
        "23400 "
       ]
      },
      {
       "output_type": "stream",
       "stream": "stdout",
       "text": [
        "23500 "
       ]
      },
      {
       "output_type": "stream",
       "stream": "stdout",
       "text": [
        "23600 "
       ]
      },
      {
       "output_type": "stream",
       "stream": "stdout",
       "text": [
        "23700 "
       ]
      },
      {
       "output_type": "stream",
       "stream": "stdout",
       "text": [
        "23800 "
       ]
      },
      {
       "output_type": "stream",
       "stream": "stdout",
       "text": [
        "23900 "
       ]
      },
      {
       "output_type": "stream",
       "stream": "stdout",
       "text": [
        "24000 "
       ]
      },
      {
       "output_type": "stream",
       "stream": "stdout",
       "text": [
        "24100 "
       ]
      },
      {
       "output_type": "stream",
       "stream": "stdout",
       "text": [
        "24200 "
       ]
      },
      {
       "output_type": "stream",
       "stream": "stdout",
       "text": [
        "24300 "
       ]
      },
      {
       "output_type": "stream",
       "stream": "stdout",
       "text": [
        "24400 "
       ]
      },
      {
       "output_type": "stream",
       "stream": "stdout",
       "text": [
        "24500 "
       ]
      },
      {
       "output_type": "stream",
       "stream": "stdout",
       "text": [
        "24600 "
       ]
      },
      {
       "output_type": "stream",
       "stream": "stdout",
       "text": [
        "24700 "
       ]
      },
      {
       "output_type": "stream",
       "stream": "stdout",
       "text": [
        "24800 "
       ]
      },
      {
       "output_type": "stream",
       "stream": "stdout",
       "text": [
        "24900 "
       ]
      },
      {
       "output_type": "stream",
       "stream": "stdout",
       "text": [
        "25000 "
       ]
      },
      {
       "output_type": "stream",
       "stream": "stdout",
       "text": [
        "25100 "
       ]
      },
      {
       "output_type": "stream",
       "stream": "stdout",
       "text": [
        "25200 "
       ]
      },
      {
       "output_type": "stream",
       "stream": "stdout",
       "text": [
        "25300 "
       ]
      },
      {
       "output_type": "stream",
       "stream": "stdout",
       "text": [
        "25400 "
       ]
      },
      {
       "output_type": "stream",
       "stream": "stdout",
       "text": [
        "25500 "
       ]
      },
      {
       "output_type": "stream",
       "stream": "stdout",
       "text": [
        "25600 "
       ]
      },
      {
       "output_type": "stream",
       "stream": "stdout",
       "text": [
        "25700 "
       ]
      },
      {
       "output_type": "stream",
       "stream": "stdout",
       "text": [
        "25800 "
       ]
      },
      {
       "output_type": "stream",
       "stream": "stdout",
       "text": [
        "25900 "
       ]
      },
      {
       "output_type": "stream",
       "stream": "stdout",
       "text": [
        "26000 "
       ]
      },
      {
       "output_type": "stream",
       "stream": "stdout",
       "text": [
        "26100 "
       ]
      },
      {
       "output_type": "stream",
       "stream": "stdout",
       "text": [
        "26200 "
       ]
      },
      {
       "output_type": "stream",
       "stream": "stdout",
       "text": [
        "26300 "
       ]
      },
      {
       "output_type": "stream",
       "stream": "stdout",
       "text": [
        "26400 "
       ]
      },
      {
       "output_type": "stream",
       "stream": "stdout",
       "text": [
        "26500 "
       ]
      },
      {
       "output_type": "stream",
       "stream": "stdout",
       "text": [
        "26600 "
       ]
      },
      {
       "output_type": "stream",
       "stream": "stdout",
       "text": [
        "26700 "
       ]
      },
      {
       "output_type": "stream",
       "stream": "stdout",
       "text": [
        "26800 "
       ]
      },
      {
       "output_type": "stream",
       "stream": "stdout",
       "text": [
        "26900 "
       ]
      },
      {
       "output_type": "stream",
       "stream": "stdout",
       "text": [
        "27000 "
       ]
      },
      {
       "output_type": "stream",
       "stream": "stdout",
       "text": [
        "27100 "
       ]
      },
      {
       "output_type": "stream",
       "stream": "stdout",
       "text": [
        "27200 "
       ]
      },
      {
       "output_type": "stream",
       "stream": "stdout",
       "text": [
        "27300 "
       ]
      },
      {
       "output_type": "stream",
       "stream": "stdout",
       "text": [
        "27400 "
       ]
      },
      {
       "output_type": "stream",
       "stream": "stdout",
       "text": [
        "27500 "
       ]
      },
      {
       "output_type": "stream",
       "stream": "stdout",
       "text": [
        "27600 "
       ]
      },
      {
       "output_type": "stream",
       "stream": "stdout",
       "text": [
        "27700 "
       ]
      },
      {
       "output_type": "stream",
       "stream": "stdout",
       "text": [
        "27800 "
       ]
      },
      {
       "output_type": "stream",
       "stream": "stdout",
       "text": [
        "27900 "
       ]
      },
      {
       "output_type": "stream",
       "stream": "stdout",
       "text": [
        "28000 "
       ]
      },
      {
       "output_type": "stream",
       "stream": "stdout",
       "text": [
        "28100 "
       ]
      },
      {
       "output_type": "stream",
       "stream": "stdout",
       "text": [
        "28200 "
       ]
      },
      {
       "output_type": "stream",
       "stream": "stdout",
       "text": [
        "28300 "
       ]
      },
      {
       "output_type": "stream",
       "stream": "stdout",
       "text": [
        "28400 "
       ]
      },
      {
       "output_type": "stream",
       "stream": "stdout",
       "text": [
        "28500 "
       ]
      },
      {
       "output_type": "stream",
       "stream": "stdout",
       "text": [
        "28600 "
       ]
      },
      {
       "output_type": "stream",
       "stream": "stdout",
       "text": [
        "28700 "
       ]
      },
      {
       "output_type": "stream",
       "stream": "stdout",
       "text": [
        "28800 "
       ]
      },
      {
       "output_type": "stream",
       "stream": "stdout",
       "text": [
        "28900 "
       ]
      },
      {
       "output_type": "stream",
       "stream": "stdout",
       "text": [
        "29000 "
       ]
      },
      {
       "output_type": "stream",
       "stream": "stdout",
       "text": [
        "29100 "
       ]
      },
      {
       "output_type": "stream",
       "stream": "stdout",
       "text": [
        "29200 "
       ]
      },
      {
       "output_type": "stream",
       "stream": "stdout",
       "text": [
        "29300 "
       ]
      },
      {
       "output_type": "stream",
       "stream": "stdout",
       "text": [
        "29400 "
       ]
      },
      {
       "output_type": "stream",
       "stream": "stdout",
       "text": [
        "29500 "
       ]
      },
      {
       "output_type": "stream",
       "stream": "stdout",
       "text": [
        "29600 "
       ]
      },
      {
       "output_type": "stream",
       "stream": "stdout",
       "text": [
        "29700 "
       ]
      },
      {
       "output_type": "stream",
       "stream": "stdout",
       "text": [
        "29800 "
       ]
      },
      {
       "output_type": "stream",
       "stream": "stdout",
       "text": [
        "29900 "
       ]
      },
      {
       "output_type": "stream",
       "stream": "stdout",
       "text": [
        "30000 "
       ]
      },
      {
       "output_type": "stream",
       "stream": "stdout",
       "text": [
        "30100 "
       ]
      },
      {
       "output_type": "stream",
       "stream": "stdout",
       "text": [
        "30200 "
       ]
      },
      {
       "output_type": "stream",
       "stream": "stdout",
       "text": [
        "30300 "
       ]
      },
      {
       "output_type": "stream",
       "stream": "stdout",
       "text": [
        "30400 "
       ]
      },
      {
       "output_type": "stream",
       "stream": "stdout",
       "text": [
        "30500 "
       ]
      },
      {
       "output_type": "stream",
       "stream": "stdout",
       "text": [
        "30600 "
       ]
      },
      {
       "output_type": "stream",
       "stream": "stdout",
       "text": [
        "30700 "
       ]
      },
      {
       "output_type": "stream",
       "stream": "stdout",
       "text": [
        "30800 "
       ]
      },
      {
       "output_type": "stream",
       "stream": "stdout",
       "text": [
        "30900 "
       ]
      },
      {
       "output_type": "stream",
       "stream": "stdout",
       "text": [
        "31000 "
       ]
      },
      {
       "output_type": "stream",
       "stream": "stdout",
       "text": [
        "31100 "
       ]
      },
      {
       "output_type": "stream",
       "stream": "stdout",
       "text": [
        "31200 "
       ]
      },
      {
       "output_type": "stream",
       "stream": "stdout",
       "text": [
        "31300 "
       ]
      },
      {
       "output_type": "stream",
       "stream": "stdout",
       "text": [
        "31400 "
       ]
      },
      {
       "output_type": "stream",
       "stream": "stdout",
       "text": [
        "31500 "
       ]
      },
      {
       "output_type": "stream",
       "stream": "stdout",
       "text": [
        "31600 "
       ]
      },
      {
       "output_type": "stream",
       "stream": "stdout",
       "text": [
        "31700 "
       ]
      },
      {
       "output_type": "stream",
       "stream": "stdout",
       "text": [
        "31800 "
       ]
      },
      {
       "output_type": "stream",
       "stream": "stdout",
       "text": [
        "31900 "
       ]
      },
      {
       "output_type": "stream",
       "stream": "stdout",
       "text": [
        "32000 "
       ]
      },
      {
       "output_type": "stream",
       "stream": "stdout",
       "text": [
        "32100 "
       ]
      },
      {
       "output_type": "stream",
       "stream": "stdout",
       "text": [
        "32200 "
       ]
      },
      {
       "output_type": "stream",
       "stream": "stdout",
       "text": [
        "32300 "
       ]
      },
      {
       "output_type": "stream",
       "stream": "stdout",
       "text": [
        "32400 "
       ]
      },
      {
       "output_type": "stream",
       "stream": "stdout",
       "text": [
        "32500 "
       ]
      },
      {
       "output_type": "stream",
       "stream": "stdout",
       "text": [
        "32600 "
       ]
      },
      {
       "output_type": "stream",
       "stream": "stdout",
       "text": [
        "32700 "
       ]
      },
      {
       "output_type": "stream",
       "stream": "stdout",
       "text": [
        "32800 "
       ]
      },
      {
       "output_type": "stream",
       "stream": "stdout",
       "text": [
        "32900 "
       ]
      },
      {
       "output_type": "stream",
       "stream": "stdout",
       "text": [
        "33000 "
       ]
      },
      {
       "output_type": "stream",
       "stream": "stdout",
       "text": [
        "33100 "
       ]
      },
      {
       "output_type": "stream",
       "stream": "stdout",
       "text": [
        "33200 "
       ]
      },
      {
       "output_type": "stream",
       "stream": "stdout",
       "text": [
        "33300 "
       ]
      },
      {
       "output_type": "stream",
       "stream": "stdout",
       "text": [
        "33400 "
       ]
      },
      {
       "output_type": "stream",
       "stream": "stdout",
       "text": [
        "33500 "
       ]
      },
      {
       "output_type": "stream",
       "stream": "stdout",
       "text": [
        "33600 "
       ]
      },
      {
       "output_type": "stream",
       "stream": "stdout",
       "text": [
        "33700 "
       ]
      },
      {
       "output_type": "stream",
       "stream": "stdout",
       "text": [
        "33800 "
       ]
      },
      {
       "output_type": "stream",
       "stream": "stdout",
       "text": [
        "33900 "
       ]
      },
      {
       "output_type": "stream",
       "stream": "stdout",
       "text": [
        "34000 "
       ]
      },
      {
       "output_type": "stream",
       "stream": "stdout",
       "text": [
        "34100 "
       ]
      },
      {
       "output_type": "stream",
       "stream": "stdout",
       "text": [
        "34200 "
       ]
      },
      {
       "output_type": "stream",
       "stream": "stdout",
       "text": [
        "34300 "
       ]
      },
      {
       "output_type": "stream",
       "stream": "stdout",
       "text": [
        "34400 "
       ]
      },
      {
       "output_type": "stream",
       "stream": "stdout",
       "text": [
        "34500 "
       ]
      },
      {
       "output_type": "stream",
       "stream": "stdout",
       "text": [
        "34600 "
       ]
      },
      {
       "output_type": "stream",
       "stream": "stdout",
       "text": [
        "34700 "
       ]
      },
      {
       "output_type": "stream",
       "stream": "stdout",
       "text": [
        "34800 "
       ]
      },
      {
       "output_type": "stream",
       "stream": "stdout",
       "text": [
        "34900 "
       ]
      },
      {
       "output_type": "stream",
       "stream": "stdout",
       "text": [
        "35000 "
       ]
      },
      {
       "output_type": "stream",
       "stream": "stdout",
       "text": [
        "35100 "
       ]
      },
      {
       "output_type": "stream",
       "stream": "stdout",
       "text": [
        "35200 "
       ]
      },
      {
       "output_type": "stream",
       "stream": "stdout",
       "text": [
        "35300 "
       ]
      },
      {
       "output_type": "stream",
       "stream": "stdout",
       "text": [
        "35400 "
       ]
      },
      {
       "output_type": "stream",
       "stream": "stdout",
       "text": [
        "35500 "
       ]
      },
      {
       "output_type": "stream",
       "stream": "stdout",
       "text": [
        "35600 "
       ]
      },
      {
       "output_type": "stream",
       "stream": "stdout",
       "text": [
        "35700 "
       ]
      },
      {
       "output_type": "stream",
       "stream": "stdout",
       "text": [
        "35800 "
       ]
      },
      {
       "output_type": "stream",
       "stream": "stdout",
       "text": [
        "35900 "
       ]
      },
      {
       "output_type": "stream",
       "stream": "stdout",
       "text": [
        "36000 "
       ]
      },
      {
       "output_type": "stream",
       "stream": "stdout",
       "text": [
        "36100 "
       ]
      },
      {
       "output_type": "stream",
       "stream": "stdout",
       "text": [
        "36200 "
       ]
      },
      {
       "output_type": "stream",
       "stream": "stdout",
       "text": [
        "36300 "
       ]
      },
      {
       "output_type": "stream",
       "stream": "stdout",
       "text": [
        "36400 "
       ]
      },
      {
       "output_type": "stream",
       "stream": "stdout",
       "text": [
        "36500 "
       ]
      },
      {
       "output_type": "stream",
       "stream": "stdout",
       "text": [
        "36600 "
       ]
      },
      {
       "output_type": "stream",
       "stream": "stdout",
       "text": [
        "36700 "
       ]
      },
      {
       "output_type": "stream",
       "stream": "stdout",
       "text": [
        "36800 "
       ]
      },
      {
       "output_type": "stream",
       "stream": "stdout",
       "text": [
        "36900 "
       ]
      },
      {
       "output_type": "stream",
       "stream": "stdout",
       "text": [
        "37000 "
       ]
      },
      {
       "output_type": "stream",
       "stream": "stdout",
       "text": [
        "37100 "
       ]
      },
      {
       "output_type": "stream",
       "stream": "stdout",
       "text": [
        "37200 "
       ]
      },
      {
       "output_type": "stream",
       "stream": "stdout",
       "text": [
        "37300 "
       ]
      },
      {
       "output_type": "stream",
       "stream": "stdout",
       "text": [
        "37400 "
       ]
      },
      {
       "output_type": "stream",
       "stream": "stdout",
       "text": [
        "37500 "
       ]
      },
      {
       "output_type": "stream",
       "stream": "stdout",
       "text": [
        "37600 "
       ]
      },
      {
       "output_type": "stream",
       "stream": "stdout",
       "text": [
        "37700 "
       ]
      },
      {
       "output_type": "stream",
       "stream": "stdout",
       "text": [
        "37800 "
       ]
      },
      {
       "output_type": "stream",
       "stream": "stdout",
       "text": [
        "37900 "
       ]
      },
      {
       "output_type": "stream",
       "stream": "stdout",
       "text": [
        "38000 "
       ]
      },
      {
       "output_type": "stream",
       "stream": "stdout",
       "text": [
        "38100 "
       ]
      },
      {
       "output_type": "stream",
       "stream": "stdout",
       "text": [
        "38200 "
       ]
      },
      {
       "output_type": "stream",
       "stream": "stdout",
       "text": [
        "38300 "
       ]
      },
      {
       "output_type": "stream",
       "stream": "stdout",
       "text": [
        "38400 "
       ]
      },
      {
       "output_type": "stream",
       "stream": "stdout",
       "text": [
        "38500 "
       ]
      },
      {
       "output_type": "stream",
       "stream": "stdout",
       "text": [
        "38600 "
       ]
      },
      {
       "output_type": "stream",
       "stream": "stdout",
       "text": [
        "38700 "
       ]
      },
      {
       "output_type": "stream",
       "stream": "stdout",
       "text": [
        "38800 "
       ]
      },
      {
       "output_type": "stream",
       "stream": "stdout",
       "text": [
        "38900 "
       ]
      },
      {
       "output_type": "stream",
       "stream": "stdout",
       "text": [
        "39000 "
       ]
      },
      {
       "output_type": "stream",
       "stream": "stdout",
       "text": [
        "39100 "
       ]
      },
      {
       "output_type": "stream",
       "stream": "stdout",
       "text": [
        "39200 "
       ]
      },
      {
       "output_type": "stream",
       "stream": "stdout",
       "text": [
        "39300 "
       ]
      },
      {
       "output_type": "stream",
       "stream": "stdout",
       "text": [
        "39400 "
       ]
      },
      {
       "output_type": "stream",
       "stream": "stdout",
       "text": [
        "39500 "
       ]
      },
      {
       "output_type": "stream",
       "stream": "stdout",
       "text": [
        "39600 "
       ]
      },
      {
       "output_type": "stream",
       "stream": "stdout",
       "text": [
        "39700 "
       ]
      },
      {
       "output_type": "stream",
       "stream": "stdout",
       "text": [
        "39800 "
       ]
      },
      {
       "output_type": "stream",
       "stream": "stdout",
       "text": [
        "39900 "
       ]
      },
      {
       "output_type": "stream",
       "stream": "stdout",
       "text": [
        "40000 "
       ]
      },
      {
       "output_type": "stream",
       "stream": "stdout",
       "text": [
        "40100 "
       ]
      },
      {
       "output_type": "stream",
       "stream": "stdout",
       "text": [
        "40200 "
       ]
      },
      {
       "output_type": "stream",
       "stream": "stdout",
       "text": [
        "40300 "
       ]
      },
      {
       "output_type": "stream",
       "stream": "stdout",
       "text": [
        "40400 "
       ]
      },
      {
       "output_type": "stream",
       "stream": "stdout",
       "text": [
        "40500 "
       ]
      },
      {
       "output_type": "stream",
       "stream": "stdout",
       "text": [
        "40600 "
       ]
      },
      {
       "output_type": "stream",
       "stream": "stdout",
       "text": [
        "40700 "
       ]
      },
      {
       "output_type": "stream",
       "stream": "stdout",
       "text": [
        "40800 "
       ]
      },
      {
       "output_type": "stream",
       "stream": "stdout",
       "text": [
        "40900 "
       ]
      },
      {
       "output_type": "stream",
       "stream": "stdout",
       "text": [
        "41000 "
       ]
      },
      {
       "output_type": "stream",
       "stream": "stdout",
       "text": [
        "41100 "
       ]
      },
      {
       "output_type": "stream",
       "stream": "stdout",
       "text": [
        "41200 "
       ]
      },
      {
       "output_type": "stream",
       "stream": "stdout",
       "text": [
        "41300 "
       ]
      },
      {
       "output_type": "stream",
       "stream": "stdout",
       "text": [
        "41400 "
       ]
      },
      {
       "output_type": "stream",
       "stream": "stdout",
       "text": [
        "41500 "
       ]
      },
      {
       "output_type": "stream",
       "stream": "stdout",
       "text": [
        "41600 "
       ]
      },
      {
       "output_type": "stream",
       "stream": "stdout",
       "text": [
        "41700 "
       ]
      },
      {
       "output_type": "stream",
       "stream": "stdout",
       "text": [
        "41800 "
       ]
      },
      {
       "output_type": "stream",
       "stream": "stdout",
       "text": [
        "41900 "
       ]
      },
      {
       "output_type": "stream",
       "stream": "stdout",
       "text": [
        "42000 "
       ]
      },
      {
       "output_type": "stream",
       "stream": "stdout",
       "text": [
        "42100 "
       ]
      },
      {
       "output_type": "stream",
       "stream": "stdout",
       "text": [
        "42200 "
       ]
      },
      {
       "output_type": "stream",
       "stream": "stdout",
       "text": [
        "42300 "
       ]
      },
      {
       "output_type": "stream",
       "stream": "stdout",
       "text": [
        "42400 "
       ]
      },
      {
       "output_type": "stream",
       "stream": "stdout",
       "text": [
        "42500 "
       ]
      },
      {
       "output_type": "stream",
       "stream": "stdout",
       "text": [
        "42600 "
       ]
      },
      {
       "output_type": "stream",
       "stream": "stdout",
       "text": [
        "42700 "
       ]
      },
      {
       "output_type": "stream",
       "stream": "stdout",
       "text": [
        "42800 "
       ]
      },
      {
       "output_type": "stream",
       "stream": "stdout",
       "text": [
        "42900 "
       ]
      },
      {
       "output_type": "stream",
       "stream": "stdout",
       "text": [
        "43000 "
       ]
      },
      {
       "output_type": "stream",
       "stream": "stdout",
       "text": [
        "43100 "
       ]
      },
      {
       "output_type": "stream",
       "stream": "stdout",
       "text": [
        "43200 "
       ]
      },
      {
       "output_type": "stream",
       "stream": "stdout",
       "text": [
        "43300 "
       ]
      },
      {
       "output_type": "stream",
       "stream": "stdout",
       "text": [
        "43400 "
       ]
      },
      {
       "output_type": "stream",
       "stream": "stdout",
       "text": [
        "43500 "
       ]
      },
      {
       "output_type": "stream",
       "stream": "stdout",
       "text": [
        "43600 "
       ]
      },
      {
       "output_type": "stream",
       "stream": "stdout",
       "text": [
        "43700 "
       ]
      },
      {
       "output_type": "stream",
       "stream": "stdout",
       "text": [
        "43800 "
       ]
      },
      {
       "output_type": "stream",
       "stream": "stdout",
       "text": [
        "43900 "
       ]
      },
      {
       "output_type": "stream",
       "stream": "stdout",
       "text": [
        "44000 "
       ]
      },
      {
       "output_type": "stream",
       "stream": "stdout",
       "text": [
        "44100 "
       ]
      },
      {
       "output_type": "stream",
       "stream": "stdout",
       "text": [
        "44200 "
       ]
      },
      {
       "output_type": "stream",
       "stream": "stdout",
       "text": [
        "44300 "
       ]
      },
      {
       "output_type": "stream",
       "stream": "stdout",
       "text": [
        "44400 "
       ]
      },
      {
       "output_type": "stream",
       "stream": "stdout",
       "text": [
        "44500 "
       ]
      },
      {
       "output_type": "stream",
       "stream": "stdout",
       "text": [
        "44600 "
       ]
      },
      {
       "output_type": "stream",
       "stream": "stdout",
       "text": [
        "44700 "
       ]
      },
      {
       "output_type": "stream",
       "stream": "stdout",
       "text": [
        "44800 "
       ]
      },
      {
       "output_type": "stream",
       "stream": "stdout",
       "text": [
        "44900 "
       ]
      },
      {
       "output_type": "stream",
       "stream": "stdout",
       "text": [
        "45000 "
       ]
      },
      {
       "output_type": "stream",
       "stream": "stdout",
       "text": [
        "45100 "
       ]
      },
      {
       "output_type": "stream",
       "stream": "stdout",
       "text": [
        "45200 "
       ]
      },
      {
       "output_type": "stream",
       "stream": "stdout",
       "text": [
        "45300 "
       ]
      },
      {
       "output_type": "stream",
       "stream": "stdout",
       "text": [
        "45400 "
       ]
      },
      {
       "output_type": "stream",
       "stream": "stdout",
       "text": [
        "45500 "
       ]
      },
      {
       "output_type": "stream",
       "stream": "stdout",
       "text": [
        "45600 "
       ]
      },
      {
       "output_type": "stream",
       "stream": "stdout",
       "text": [
        "45700 "
       ]
      },
      {
       "output_type": "stream",
       "stream": "stdout",
       "text": [
        "45800 "
       ]
      },
      {
       "output_type": "stream",
       "stream": "stdout",
       "text": [
        "45900 "
       ]
      },
      {
       "output_type": "stream",
       "stream": "stdout",
       "text": [
        "46000\n"
       ]
      }
     ],
     "prompt_number": 106
    },
    {
     "cell_type": "code",
     "collapsed": false,
     "input": [
      "n = 3\n",
      "res = []\n",
      "k = 0\n",
      "for i in range(len(train)):\n",
      "    res.append(MeanNDayFromThis(n, train, train.City[i], train.Year[i], train.Month[i], train.Day[i]))\n",
      "    if ( (k % 100) == 0):\n",
      "        print k,\n",
      "    k += 1\n",
      "train[\"MeanNext3Day\"] = pd.Series(res)"
     ],
     "language": "python",
     "metadata": {},
     "outputs": [
      {
       "output_type": "stream",
       "stream": "stdout",
       "text": [
        "0 "
       ]
      },
      {
       "output_type": "stream",
       "stream": "stdout",
       "text": [
        "100 "
       ]
      },
      {
       "output_type": "stream",
       "stream": "stdout",
       "text": [
        "200 "
       ]
      },
      {
       "output_type": "stream",
       "stream": "stdout",
       "text": [
        "300 "
       ]
      },
      {
       "output_type": "stream",
       "stream": "stdout",
       "text": [
        "400 "
       ]
      },
      {
       "output_type": "stream",
       "stream": "stdout",
       "text": [
        "500 "
       ]
      },
      {
       "output_type": "stream",
       "stream": "stdout",
       "text": [
        "600 "
       ]
      },
      {
       "output_type": "stream",
       "stream": "stdout",
       "text": [
        "700 "
       ]
      },
      {
       "output_type": "stream",
       "stream": "stdout",
       "text": [
        "800 "
       ]
      },
      {
       "output_type": "stream",
       "stream": "stdout",
       "text": [
        "900 "
       ]
      },
      {
       "output_type": "stream",
       "stream": "stdout",
       "text": [
        "1000 "
       ]
      },
      {
       "output_type": "stream",
       "stream": "stdout",
       "text": [
        "1100 "
       ]
      },
      {
       "output_type": "stream",
       "stream": "stdout",
       "text": [
        "1200 "
       ]
      },
      {
       "output_type": "stream",
       "stream": "stdout",
       "text": [
        "1300 "
       ]
      },
      {
       "output_type": "stream",
       "stream": "stdout",
       "text": [
        "1400 "
       ]
      },
      {
       "output_type": "stream",
       "stream": "stdout",
       "text": [
        "1500 "
       ]
      },
      {
       "output_type": "stream",
       "stream": "stdout",
       "text": [
        "1600 "
       ]
      },
      {
       "output_type": "stream",
       "stream": "stdout",
       "text": [
        "1700 "
       ]
      },
      {
       "output_type": "stream",
       "stream": "stdout",
       "text": [
        "1800 "
       ]
      },
      {
       "output_type": "stream",
       "stream": "stdout",
       "text": [
        "1900 "
       ]
      },
      {
       "output_type": "stream",
       "stream": "stdout",
       "text": [
        "2000 "
       ]
      },
      {
       "output_type": "stream",
       "stream": "stdout",
       "text": [
        "2100 "
       ]
      },
      {
       "output_type": "stream",
       "stream": "stdout",
       "text": [
        "2200 "
       ]
      },
      {
       "output_type": "stream",
       "stream": "stdout",
       "text": [
        "2300 "
       ]
      },
      {
       "output_type": "stream",
       "stream": "stdout",
       "text": [
        "2400 "
       ]
      },
      {
       "output_type": "stream",
       "stream": "stdout",
       "text": [
        "2500 "
       ]
      },
      {
       "output_type": "stream",
       "stream": "stdout",
       "text": [
        "2600 "
       ]
      },
      {
       "output_type": "stream",
       "stream": "stdout",
       "text": [
        "2700 "
       ]
      },
      {
       "output_type": "stream",
       "stream": "stdout",
       "text": [
        "2800 "
       ]
      },
      {
       "output_type": "stream",
       "stream": "stdout",
       "text": [
        "2900 "
       ]
      },
      {
       "output_type": "stream",
       "stream": "stdout",
       "text": [
        "3000 "
       ]
      },
      {
       "output_type": "stream",
       "stream": "stdout",
       "text": [
        "3100 "
       ]
      },
      {
       "output_type": "stream",
       "stream": "stdout",
       "text": [
        "3200 "
       ]
      },
      {
       "output_type": "stream",
       "stream": "stdout",
       "text": [
        "3300 "
       ]
      },
      {
       "output_type": "stream",
       "stream": "stdout",
       "text": [
        "3400 "
       ]
      },
      {
       "output_type": "stream",
       "stream": "stdout",
       "text": [
        "3500 "
       ]
      },
      {
       "output_type": "stream",
       "stream": "stdout",
       "text": [
        "3600 "
       ]
      },
      {
       "output_type": "stream",
       "stream": "stdout",
       "text": [
        "3700 "
       ]
      },
      {
       "output_type": "stream",
       "stream": "stdout",
       "text": [
        "3800 "
       ]
      },
      {
       "output_type": "stream",
       "stream": "stdout",
       "text": [
        "3900 "
       ]
      },
      {
       "output_type": "stream",
       "stream": "stdout",
       "text": [
        "4000 "
       ]
      },
      {
       "output_type": "stream",
       "stream": "stdout",
       "text": [
        "4100 "
       ]
      },
      {
       "output_type": "stream",
       "stream": "stdout",
       "text": [
        "4200 "
       ]
      },
      {
       "output_type": "stream",
       "stream": "stdout",
       "text": [
        "4300 "
       ]
      },
      {
       "output_type": "stream",
       "stream": "stdout",
       "text": [
        "4400 "
       ]
      },
      {
       "output_type": "stream",
       "stream": "stdout",
       "text": [
        "4500 "
       ]
      },
      {
       "output_type": "stream",
       "stream": "stdout",
       "text": [
        "4600 "
       ]
      },
      {
       "output_type": "stream",
       "stream": "stdout",
       "text": [
        "4700 "
       ]
      },
      {
       "output_type": "stream",
       "stream": "stdout",
       "text": [
        "4800 "
       ]
      },
      {
       "output_type": "stream",
       "stream": "stdout",
       "text": [
        "4900 "
       ]
      },
      {
       "output_type": "stream",
       "stream": "stdout",
       "text": [
        "5000 "
       ]
      },
      {
       "output_type": "stream",
       "stream": "stdout",
       "text": [
        "5100 "
       ]
      },
      {
       "output_type": "stream",
       "stream": "stdout",
       "text": [
        "5200 "
       ]
      },
      {
       "output_type": "stream",
       "stream": "stdout",
       "text": [
        "5300 "
       ]
      },
      {
       "output_type": "stream",
       "stream": "stdout",
       "text": [
        "5400 "
       ]
      },
      {
       "output_type": "stream",
       "stream": "stdout",
       "text": [
        "5500 "
       ]
      },
      {
       "output_type": "stream",
       "stream": "stdout",
       "text": [
        "5600 "
       ]
      },
      {
       "output_type": "stream",
       "stream": "stdout",
       "text": [
        "5700 "
       ]
      },
      {
       "output_type": "stream",
       "stream": "stdout",
       "text": [
        "5800 "
       ]
      },
      {
       "output_type": "stream",
       "stream": "stdout",
       "text": [
        "5900 "
       ]
      },
      {
       "output_type": "stream",
       "stream": "stdout",
       "text": [
        "6000 "
       ]
      },
      {
       "output_type": "stream",
       "stream": "stdout",
       "text": [
        "6100 "
       ]
      },
      {
       "output_type": "stream",
       "stream": "stdout",
       "text": [
        "6200 "
       ]
      },
      {
       "output_type": "stream",
       "stream": "stdout",
       "text": [
        "6300 "
       ]
      },
      {
       "output_type": "stream",
       "stream": "stdout",
       "text": [
        "6400 "
       ]
      },
      {
       "output_type": "stream",
       "stream": "stdout",
       "text": [
        "6500 "
       ]
      },
      {
       "output_type": "stream",
       "stream": "stdout",
       "text": [
        "6600 "
       ]
      },
      {
       "output_type": "stream",
       "stream": "stdout",
       "text": [
        "6700 "
       ]
      },
      {
       "output_type": "stream",
       "stream": "stdout",
       "text": [
        "6800 "
       ]
      },
      {
       "output_type": "stream",
       "stream": "stdout",
       "text": [
        "6900 "
       ]
      },
      {
       "output_type": "stream",
       "stream": "stdout",
       "text": [
        "7000 "
       ]
      },
      {
       "output_type": "stream",
       "stream": "stdout",
       "text": [
        "7100 "
       ]
      },
      {
       "output_type": "stream",
       "stream": "stdout",
       "text": [
        "7200 "
       ]
      },
      {
       "output_type": "stream",
       "stream": "stdout",
       "text": [
        "7300 "
       ]
      },
      {
       "output_type": "stream",
       "stream": "stdout",
       "text": [
        "7400 "
       ]
      },
      {
       "output_type": "stream",
       "stream": "stdout",
       "text": [
        "7500 "
       ]
      },
      {
       "output_type": "stream",
       "stream": "stdout",
       "text": [
        "7600 "
       ]
      },
      {
       "output_type": "stream",
       "stream": "stdout",
       "text": [
        "7700 "
       ]
      },
      {
       "output_type": "stream",
       "stream": "stdout",
       "text": [
        "7800 "
       ]
      },
      {
       "output_type": "stream",
       "stream": "stdout",
       "text": [
        "7900 "
       ]
      },
      {
       "output_type": "stream",
       "stream": "stdout",
       "text": [
        "8000 "
       ]
      },
      {
       "output_type": "stream",
       "stream": "stdout",
       "text": [
        "8100 "
       ]
      },
      {
       "output_type": "stream",
       "stream": "stdout",
       "text": [
        "8200 "
       ]
      },
      {
       "output_type": "stream",
       "stream": "stdout",
       "text": [
        "8300 "
       ]
      },
      {
       "output_type": "stream",
       "stream": "stdout",
       "text": [
        "8400 "
       ]
      },
      {
       "output_type": "stream",
       "stream": "stdout",
       "text": [
        "8500 "
       ]
      },
      {
       "output_type": "stream",
       "stream": "stdout",
       "text": [
        "8600 "
       ]
      },
      {
       "output_type": "stream",
       "stream": "stdout",
       "text": [
        "8700 "
       ]
      },
      {
       "output_type": "stream",
       "stream": "stdout",
       "text": [
        "8800 "
       ]
      },
      {
       "output_type": "stream",
       "stream": "stdout",
       "text": [
        "8900 "
       ]
      },
      {
       "output_type": "stream",
       "stream": "stdout",
       "text": [
        "9000 "
       ]
      },
      {
       "output_type": "stream",
       "stream": "stdout",
       "text": [
        "9100 "
       ]
      },
      {
       "output_type": "stream",
       "stream": "stdout",
       "text": [
        "9200 "
       ]
      },
      {
       "output_type": "stream",
       "stream": "stdout",
       "text": [
        "9300 "
       ]
      },
      {
       "output_type": "stream",
       "stream": "stdout",
       "text": [
        "9400 "
       ]
      },
      {
       "output_type": "stream",
       "stream": "stdout",
       "text": [
        "9500 "
       ]
      },
      {
       "output_type": "stream",
       "stream": "stdout",
       "text": [
        "9600 "
       ]
      },
      {
       "output_type": "stream",
       "stream": "stdout",
       "text": [
        "9700 "
       ]
      },
      {
       "output_type": "stream",
       "stream": "stdout",
       "text": [
        "9800 "
       ]
      },
      {
       "output_type": "stream",
       "stream": "stdout",
       "text": [
        "9900 "
       ]
      },
      {
       "output_type": "stream",
       "stream": "stdout",
       "text": [
        "10000 "
       ]
      },
      {
       "output_type": "stream",
       "stream": "stdout",
       "text": [
        "10100 "
       ]
      },
      {
       "output_type": "stream",
       "stream": "stdout",
       "text": [
        "10200 "
       ]
      },
      {
       "output_type": "stream",
       "stream": "stdout",
       "text": [
        "10300 "
       ]
      },
      {
       "output_type": "stream",
       "stream": "stdout",
       "text": [
        "10400 "
       ]
      },
      {
       "output_type": "stream",
       "stream": "stdout",
       "text": [
        "10500 "
       ]
      },
      {
       "output_type": "stream",
       "stream": "stdout",
       "text": [
        "10600 "
       ]
      },
      {
       "output_type": "stream",
       "stream": "stdout",
       "text": [
        "10700 "
       ]
      },
      {
       "output_type": "stream",
       "stream": "stdout",
       "text": [
        "10800 "
       ]
      },
      {
       "output_type": "stream",
       "stream": "stdout",
       "text": [
        "10900 "
       ]
      },
      {
       "output_type": "stream",
       "stream": "stdout",
       "text": [
        "11000 "
       ]
      },
      {
       "output_type": "stream",
       "stream": "stdout",
       "text": [
        "11100 "
       ]
      },
      {
       "output_type": "stream",
       "stream": "stdout",
       "text": [
        "11200 "
       ]
      },
      {
       "output_type": "stream",
       "stream": "stdout",
       "text": [
        "11300 "
       ]
      },
      {
       "output_type": "stream",
       "stream": "stdout",
       "text": [
        "11400 "
       ]
      },
      {
       "output_type": "stream",
       "stream": "stdout",
       "text": [
        "11500 "
       ]
      },
      {
       "output_type": "stream",
       "stream": "stdout",
       "text": [
        "11600 "
       ]
      },
      {
       "output_type": "stream",
       "stream": "stdout",
       "text": [
        "11700 "
       ]
      },
      {
       "output_type": "stream",
       "stream": "stdout",
       "text": [
        "11800 "
       ]
      },
      {
       "output_type": "stream",
       "stream": "stdout",
       "text": [
        "11900 "
       ]
      },
      {
       "output_type": "stream",
       "stream": "stdout",
       "text": [
        "12000 "
       ]
      },
      {
       "output_type": "stream",
       "stream": "stdout",
       "text": [
        "12100 "
       ]
      },
      {
       "output_type": "stream",
       "stream": "stdout",
       "text": [
        "12200 "
       ]
      },
      {
       "output_type": "stream",
       "stream": "stdout",
       "text": [
        "12300 "
       ]
      },
      {
       "output_type": "stream",
       "stream": "stdout",
       "text": [
        "12400 "
       ]
      },
      {
       "output_type": "stream",
       "stream": "stdout",
       "text": [
        "12500 "
       ]
      },
      {
       "output_type": "stream",
       "stream": "stdout",
       "text": [
        "12600 "
       ]
      },
      {
       "output_type": "stream",
       "stream": "stdout",
       "text": [
        "12700 "
       ]
      },
      {
       "output_type": "stream",
       "stream": "stdout",
       "text": [
        "12800 "
       ]
      },
      {
       "output_type": "stream",
       "stream": "stdout",
       "text": [
        "12900 "
       ]
      },
      {
       "output_type": "stream",
       "stream": "stdout",
       "text": [
        "13000 "
       ]
      },
      {
       "output_type": "stream",
       "stream": "stdout",
       "text": [
        "13100 "
       ]
      },
      {
       "output_type": "stream",
       "stream": "stdout",
       "text": [
        "13200 "
       ]
      },
      {
       "output_type": "stream",
       "stream": "stdout",
       "text": [
        "13300 "
       ]
      },
      {
       "output_type": "stream",
       "stream": "stdout",
       "text": [
        "13400 "
       ]
      },
      {
       "output_type": "stream",
       "stream": "stdout",
       "text": [
        "13500 "
       ]
      },
      {
       "output_type": "stream",
       "stream": "stdout",
       "text": [
        "13600 "
       ]
      },
      {
       "output_type": "stream",
       "stream": "stdout",
       "text": [
        "13700 "
       ]
      },
      {
       "output_type": "stream",
       "stream": "stdout",
       "text": [
        "13800 "
       ]
      },
      {
       "output_type": "stream",
       "stream": "stdout",
       "text": [
        "13900 "
       ]
      },
      {
       "output_type": "stream",
       "stream": "stdout",
       "text": [
        "14000 "
       ]
      },
      {
       "output_type": "stream",
       "stream": "stdout",
       "text": [
        "14100 "
       ]
      },
      {
       "output_type": "stream",
       "stream": "stdout",
       "text": [
        "14200 "
       ]
      },
      {
       "output_type": "stream",
       "stream": "stdout",
       "text": [
        "14300 "
       ]
      },
      {
       "output_type": "stream",
       "stream": "stdout",
       "text": [
        "14400 "
       ]
      },
      {
       "output_type": "stream",
       "stream": "stdout",
       "text": [
        "14500 "
       ]
      },
      {
       "output_type": "stream",
       "stream": "stdout",
       "text": [
        "14600 "
       ]
      },
      {
       "output_type": "stream",
       "stream": "stdout",
       "text": [
        "14700 "
       ]
      },
      {
       "output_type": "stream",
       "stream": "stdout",
       "text": [
        "14800 "
       ]
      },
      {
       "output_type": "stream",
       "stream": "stdout",
       "text": [
        "14900 "
       ]
      },
      {
       "output_type": "stream",
       "stream": "stdout",
       "text": [
        "15000 "
       ]
      },
      {
       "output_type": "stream",
       "stream": "stdout",
       "text": [
        "15100 "
       ]
      },
      {
       "output_type": "stream",
       "stream": "stdout",
       "text": [
        "15200 "
       ]
      },
      {
       "output_type": "stream",
       "stream": "stdout",
       "text": [
        "15300 "
       ]
      },
      {
       "output_type": "stream",
       "stream": "stdout",
       "text": [
        "15400 "
       ]
      },
      {
       "output_type": "stream",
       "stream": "stdout",
       "text": [
        "15500 "
       ]
      },
      {
       "output_type": "stream",
       "stream": "stdout",
       "text": [
        "15600 "
       ]
      },
      {
       "output_type": "stream",
       "stream": "stdout",
       "text": [
        "15700 "
       ]
      },
      {
       "output_type": "stream",
       "stream": "stdout",
       "text": [
        "15800 "
       ]
      },
      {
       "output_type": "stream",
       "stream": "stdout",
       "text": [
        "15900 "
       ]
      },
      {
       "output_type": "stream",
       "stream": "stdout",
       "text": [
        "16000 "
       ]
      },
      {
       "output_type": "stream",
       "stream": "stdout",
       "text": [
        "16100 "
       ]
      },
      {
       "output_type": "stream",
       "stream": "stdout",
       "text": [
        "16200 "
       ]
      },
      {
       "output_type": "stream",
       "stream": "stdout",
       "text": [
        "16300 "
       ]
      },
      {
       "output_type": "stream",
       "stream": "stdout",
       "text": [
        "16400 "
       ]
      },
      {
       "output_type": "stream",
       "stream": "stdout",
       "text": [
        "16500 "
       ]
      },
      {
       "output_type": "stream",
       "stream": "stdout",
       "text": [
        "16600 "
       ]
      },
      {
       "output_type": "stream",
       "stream": "stdout",
       "text": [
        "16700 "
       ]
      },
      {
       "output_type": "stream",
       "stream": "stdout",
       "text": [
        "16800 "
       ]
      },
      {
       "output_type": "stream",
       "stream": "stdout",
       "text": [
        "16900 "
       ]
      },
      {
       "output_type": "stream",
       "stream": "stdout",
       "text": [
        "17000 "
       ]
      },
      {
       "output_type": "stream",
       "stream": "stdout",
       "text": [
        "17100 "
       ]
      },
      {
       "output_type": "stream",
       "stream": "stdout",
       "text": [
        "17200 "
       ]
      },
      {
       "output_type": "stream",
       "stream": "stdout",
       "text": [
        "17300 "
       ]
      },
      {
       "output_type": "stream",
       "stream": "stdout",
       "text": [
        "17400 "
       ]
      },
      {
       "output_type": "stream",
       "stream": "stdout",
       "text": [
        "17500 "
       ]
      },
      {
       "output_type": "stream",
       "stream": "stdout",
       "text": [
        "17600 "
       ]
      },
      {
       "output_type": "stream",
       "stream": "stdout",
       "text": [
        "17700 "
       ]
      },
      {
       "output_type": "stream",
       "stream": "stdout",
       "text": [
        "17800 "
       ]
      },
      {
       "output_type": "stream",
       "stream": "stdout",
       "text": [
        "17900 "
       ]
      },
      {
       "output_type": "stream",
       "stream": "stdout",
       "text": [
        "18000 "
       ]
      },
      {
       "output_type": "stream",
       "stream": "stdout",
       "text": [
        "18100 "
       ]
      },
      {
       "output_type": "stream",
       "stream": "stdout",
       "text": [
        "18200 "
       ]
      },
      {
       "output_type": "stream",
       "stream": "stdout",
       "text": [
        "18300 "
       ]
      },
      {
       "output_type": "stream",
       "stream": "stdout",
       "text": [
        "18400 "
       ]
      },
      {
       "output_type": "stream",
       "stream": "stdout",
       "text": [
        "18500 "
       ]
      },
      {
       "output_type": "stream",
       "stream": "stdout",
       "text": [
        "18600 "
       ]
      },
      {
       "output_type": "stream",
       "stream": "stdout",
       "text": [
        "18700 "
       ]
      },
      {
       "output_type": "stream",
       "stream": "stdout",
       "text": [
        "18800 "
       ]
      },
      {
       "output_type": "stream",
       "stream": "stdout",
       "text": [
        "18900 "
       ]
      },
      {
       "output_type": "stream",
       "stream": "stdout",
       "text": [
        "19000 "
       ]
      },
      {
       "output_type": "stream",
       "stream": "stdout",
       "text": [
        "19100 "
       ]
      },
      {
       "output_type": "stream",
       "stream": "stdout",
       "text": [
        "19200 "
       ]
      },
      {
       "output_type": "stream",
       "stream": "stdout",
       "text": [
        "19300 "
       ]
      },
      {
       "output_type": "stream",
       "stream": "stdout",
       "text": [
        "19400 "
       ]
      },
      {
       "output_type": "stream",
       "stream": "stdout",
       "text": [
        "19500 "
       ]
      },
      {
       "output_type": "stream",
       "stream": "stdout",
       "text": [
        "19600 "
       ]
      },
      {
       "output_type": "stream",
       "stream": "stdout",
       "text": [
        "19700 "
       ]
      },
      {
       "output_type": "stream",
       "stream": "stdout",
       "text": [
        "19800 "
       ]
      },
      {
       "output_type": "stream",
       "stream": "stdout",
       "text": [
        "19900 "
       ]
      },
      {
       "output_type": "stream",
       "stream": "stdout",
       "text": [
        "20000 "
       ]
      },
      {
       "output_type": "stream",
       "stream": "stdout",
       "text": [
        "20100 "
       ]
      },
      {
       "output_type": "stream",
       "stream": "stdout",
       "text": [
        "20200 "
       ]
      },
      {
       "output_type": "stream",
       "stream": "stdout",
       "text": [
        "20300 "
       ]
      },
      {
       "output_type": "stream",
       "stream": "stdout",
       "text": [
        "20400 "
       ]
      },
      {
       "output_type": "stream",
       "stream": "stdout",
       "text": [
        "20500 "
       ]
      },
      {
       "output_type": "stream",
       "stream": "stdout",
       "text": [
        "20600 "
       ]
      },
      {
       "output_type": "stream",
       "stream": "stdout",
       "text": [
        "20700 "
       ]
      },
      {
       "output_type": "stream",
       "stream": "stdout",
       "text": [
        "20800 "
       ]
      },
      {
       "output_type": "stream",
       "stream": "stdout",
       "text": [
        "20900 "
       ]
      },
      {
       "output_type": "stream",
       "stream": "stdout",
       "text": [
        "21000 "
       ]
      },
      {
       "output_type": "stream",
       "stream": "stdout",
       "text": [
        "21100 "
       ]
      },
      {
       "output_type": "stream",
       "stream": "stdout",
       "text": [
        "21200 "
       ]
      },
      {
       "output_type": "stream",
       "stream": "stdout",
       "text": [
        "21300 "
       ]
      },
      {
       "output_type": "stream",
       "stream": "stdout",
       "text": [
        "21400 "
       ]
      },
      {
       "output_type": "stream",
       "stream": "stdout",
       "text": [
        "21500 "
       ]
      },
      {
       "output_type": "stream",
       "stream": "stdout",
       "text": [
        "21600 "
       ]
      },
      {
       "output_type": "stream",
       "stream": "stdout",
       "text": [
        "21700 "
       ]
      },
      {
       "output_type": "stream",
       "stream": "stdout",
       "text": [
        "21800 "
       ]
      },
      {
       "output_type": "stream",
       "stream": "stdout",
       "text": [
        "21900 "
       ]
      },
      {
       "output_type": "stream",
       "stream": "stdout",
       "text": [
        "22000 "
       ]
      },
      {
       "output_type": "stream",
       "stream": "stdout",
       "text": [
        "22100 "
       ]
      },
      {
       "output_type": "stream",
       "stream": "stdout",
       "text": [
        "22200 "
       ]
      },
      {
       "output_type": "stream",
       "stream": "stdout",
       "text": [
        "22300 "
       ]
      },
      {
       "output_type": "stream",
       "stream": "stdout",
       "text": [
        "22400 "
       ]
      },
      {
       "output_type": "stream",
       "stream": "stdout",
       "text": [
        "22500 "
       ]
      },
      {
       "output_type": "stream",
       "stream": "stdout",
       "text": [
        "22600 "
       ]
      },
      {
       "output_type": "stream",
       "stream": "stdout",
       "text": [
        "22700 "
       ]
      },
      {
       "output_type": "stream",
       "stream": "stdout",
       "text": [
        "22800 "
       ]
      },
      {
       "output_type": "stream",
       "stream": "stdout",
       "text": [
        "22900 "
       ]
      },
      {
       "output_type": "stream",
       "stream": "stdout",
       "text": [
        "23000 "
       ]
      },
      {
       "output_type": "stream",
       "stream": "stdout",
       "text": [
        "23100 "
       ]
      },
      {
       "output_type": "stream",
       "stream": "stdout",
       "text": [
        "23200 "
       ]
      },
      {
       "output_type": "stream",
       "stream": "stdout",
       "text": [
        "23300 "
       ]
      },
      {
       "output_type": "stream",
       "stream": "stdout",
       "text": [
        "23400 "
       ]
      },
      {
       "output_type": "stream",
       "stream": "stdout",
       "text": [
        "23500 "
       ]
      },
      {
       "output_type": "stream",
       "stream": "stdout",
       "text": [
        "23600 "
       ]
      },
      {
       "output_type": "stream",
       "stream": "stdout",
       "text": [
        "23700 "
       ]
      },
      {
       "output_type": "stream",
       "stream": "stdout",
       "text": [
        "23800 "
       ]
      },
      {
       "output_type": "stream",
       "stream": "stdout",
       "text": [
        "23900 "
       ]
      },
      {
       "output_type": "stream",
       "stream": "stdout",
       "text": [
        "24000 "
       ]
      },
      {
       "output_type": "stream",
       "stream": "stdout",
       "text": [
        "24100 "
       ]
      },
      {
       "output_type": "stream",
       "stream": "stdout",
       "text": [
        "24200 "
       ]
      },
      {
       "output_type": "stream",
       "stream": "stdout",
       "text": [
        "24300 "
       ]
      },
      {
       "output_type": "stream",
       "stream": "stdout",
       "text": [
        "24400 "
       ]
      },
      {
       "output_type": "stream",
       "stream": "stdout",
       "text": [
        "24500 "
       ]
      },
      {
       "output_type": "stream",
       "stream": "stdout",
       "text": [
        "24600 "
       ]
      },
      {
       "output_type": "stream",
       "stream": "stdout",
       "text": [
        "24700 "
       ]
      },
      {
       "output_type": "stream",
       "stream": "stdout",
       "text": [
        "24800 "
       ]
      },
      {
       "output_type": "stream",
       "stream": "stdout",
       "text": [
        "24900 "
       ]
      },
      {
       "output_type": "stream",
       "stream": "stdout",
       "text": [
        "25000 "
       ]
      },
      {
       "output_type": "stream",
       "stream": "stdout",
       "text": [
        "25100 "
       ]
      },
      {
       "output_type": "stream",
       "stream": "stdout",
       "text": [
        "25200 "
       ]
      },
      {
       "output_type": "stream",
       "stream": "stdout",
       "text": [
        "25300 "
       ]
      },
      {
       "output_type": "stream",
       "stream": "stdout",
       "text": [
        "25400 "
       ]
      },
      {
       "output_type": "stream",
       "stream": "stdout",
       "text": [
        "25500 "
       ]
      },
      {
       "output_type": "stream",
       "stream": "stdout",
       "text": [
        "25600 "
       ]
      },
      {
       "output_type": "stream",
       "stream": "stdout",
       "text": [
        "25700 "
       ]
      },
      {
       "output_type": "stream",
       "stream": "stdout",
       "text": [
        "25800 "
       ]
      },
      {
       "output_type": "stream",
       "stream": "stdout",
       "text": [
        "25900 "
       ]
      },
      {
       "output_type": "stream",
       "stream": "stdout",
       "text": [
        "26000 "
       ]
      },
      {
       "output_type": "stream",
       "stream": "stdout",
       "text": [
        "26100 "
       ]
      },
      {
       "output_type": "stream",
       "stream": "stdout",
       "text": [
        "26200 "
       ]
      },
      {
       "output_type": "stream",
       "stream": "stdout",
       "text": [
        "26300 "
       ]
      },
      {
       "output_type": "stream",
       "stream": "stdout",
       "text": [
        "26400 "
       ]
      },
      {
       "output_type": "stream",
       "stream": "stdout",
       "text": [
        "26500 "
       ]
      },
      {
       "output_type": "stream",
       "stream": "stdout",
       "text": [
        "26600 "
       ]
      },
      {
       "output_type": "stream",
       "stream": "stdout",
       "text": [
        "26700 "
       ]
      },
      {
       "output_type": "stream",
       "stream": "stdout",
       "text": [
        "26800 "
       ]
      },
      {
       "output_type": "stream",
       "stream": "stdout",
       "text": [
        "26900 "
       ]
      },
      {
       "output_type": "stream",
       "stream": "stdout",
       "text": [
        "27000 "
       ]
      },
      {
       "output_type": "stream",
       "stream": "stdout",
       "text": [
        "27100 "
       ]
      },
      {
       "output_type": "stream",
       "stream": "stdout",
       "text": [
        "27200 "
       ]
      },
      {
       "output_type": "stream",
       "stream": "stdout",
       "text": [
        "27300 "
       ]
      },
      {
       "output_type": "stream",
       "stream": "stdout",
       "text": [
        "27400 "
       ]
      },
      {
       "output_type": "stream",
       "stream": "stdout",
       "text": [
        "27500 "
       ]
      },
      {
       "output_type": "stream",
       "stream": "stdout",
       "text": [
        "27600 "
       ]
      },
      {
       "output_type": "stream",
       "stream": "stdout",
       "text": [
        "27700 "
       ]
      },
      {
       "output_type": "stream",
       "stream": "stdout",
       "text": [
        "27800 "
       ]
      },
      {
       "output_type": "stream",
       "stream": "stdout",
       "text": [
        "27900 "
       ]
      },
      {
       "output_type": "stream",
       "stream": "stdout",
       "text": [
        "28000 "
       ]
      },
      {
       "output_type": "stream",
       "stream": "stdout",
       "text": [
        "28100 "
       ]
      },
      {
       "output_type": "stream",
       "stream": "stdout",
       "text": [
        "28200 "
       ]
      },
      {
       "output_type": "stream",
       "stream": "stdout",
       "text": [
        "28300 "
       ]
      },
      {
       "output_type": "stream",
       "stream": "stdout",
       "text": [
        "28400 "
       ]
      },
      {
       "output_type": "stream",
       "stream": "stdout",
       "text": [
        "28500 "
       ]
      },
      {
       "output_type": "stream",
       "stream": "stdout",
       "text": [
        "28600 "
       ]
      },
      {
       "output_type": "stream",
       "stream": "stdout",
       "text": [
        "28700 "
       ]
      },
      {
       "output_type": "stream",
       "stream": "stdout",
       "text": [
        "28800 "
       ]
      },
      {
       "output_type": "stream",
       "stream": "stdout",
       "text": [
        "28900 "
       ]
      },
      {
       "output_type": "stream",
       "stream": "stdout",
       "text": [
        "29000 "
       ]
      },
      {
       "output_type": "stream",
       "stream": "stdout",
       "text": [
        "29100 "
       ]
      },
      {
       "output_type": "stream",
       "stream": "stdout",
       "text": [
        "29200 "
       ]
      },
      {
       "output_type": "stream",
       "stream": "stdout",
       "text": [
        "29300 "
       ]
      },
      {
       "output_type": "stream",
       "stream": "stdout",
       "text": [
        "29400 "
       ]
      },
      {
       "output_type": "stream",
       "stream": "stdout",
       "text": [
        "29500 "
       ]
      },
      {
       "output_type": "stream",
       "stream": "stdout",
       "text": [
        "29600 "
       ]
      },
      {
       "output_type": "stream",
       "stream": "stdout",
       "text": [
        "29700 "
       ]
      },
      {
       "output_type": "stream",
       "stream": "stdout",
       "text": [
        "29800 "
       ]
      },
      {
       "output_type": "stream",
       "stream": "stdout",
       "text": [
        "29900 "
       ]
      },
      {
       "output_type": "stream",
       "stream": "stdout",
       "text": [
        "30000 "
       ]
      },
      {
       "output_type": "stream",
       "stream": "stdout",
       "text": [
        "30100 "
       ]
      },
      {
       "output_type": "stream",
       "stream": "stdout",
       "text": [
        "30200 "
       ]
      },
      {
       "output_type": "stream",
       "stream": "stdout",
       "text": [
        "30300 "
       ]
      },
      {
       "output_type": "stream",
       "stream": "stdout",
       "text": [
        "30400 "
       ]
      },
      {
       "output_type": "stream",
       "stream": "stdout",
       "text": [
        "30500 "
       ]
      },
      {
       "output_type": "stream",
       "stream": "stdout",
       "text": [
        "30600 "
       ]
      },
      {
       "output_type": "stream",
       "stream": "stdout",
       "text": [
        "30700 "
       ]
      },
      {
       "output_type": "stream",
       "stream": "stdout",
       "text": [
        "30800 "
       ]
      },
      {
       "output_type": "stream",
       "stream": "stdout",
       "text": [
        "30900 "
       ]
      },
      {
       "output_type": "stream",
       "stream": "stdout",
       "text": [
        "31000 "
       ]
      },
      {
       "output_type": "stream",
       "stream": "stdout",
       "text": [
        "31100 "
       ]
      },
      {
       "output_type": "stream",
       "stream": "stdout",
       "text": [
        "31200 "
       ]
      },
      {
       "output_type": "stream",
       "stream": "stdout",
       "text": [
        "31300 "
       ]
      },
      {
       "output_type": "stream",
       "stream": "stdout",
       "text": [
        "31400 "
       ]
      },
      {
       "output_type": "stream",
       "stream": "stdout",
       "text": [
        "31500 "
       ]
      },
      {
       "output_type": "stream",
       "stream": "stdout",
       "text": [
        "31600 "
       ]
      },
      {
       "output_type": "stream",
       "stream": "stdout",
       "text": [
        "31700 "
       ]
      },
      {
       "output_type": "stream",
       "stream": "stdout",
       "text": [
        "31800 "
       ]
      },
      {
       "output_type": "stream",
       "stream": "stdout",
       "text": [
        "31900 "
       ]
      },
      {
       "output_type": "stream",
       "stream": "stdout",
       "text": [
        "32000 "
       ]
      },
      {
       "output_type": "stream",
       "stream": "stdout",
       "text": [
        "32100 "
       ]
      },
      {
       "output_type": "stream",
       "stream": "stdout",
       "text": [
        "32200 "
       ]
      },
      {
       "output_type": "stream",
       "stream": "stdout",
       "text": [
        "32300 "
       ]
      },
      {
       "output_type": "stream",
       "stream": "stdout",
       "text": [
        "32400 "
       ]
      },
      {
       "output_type": "stream",
       "stream": "stdout",
       "text": [
        "32500 "
       ]
      },
      {
       "output_type": "stream",
       "stream": "stdout",
       "text": [
        "32600 "
       ]
      },
      {
       "output_type": "stream",
       "stream": "stdout",
       "text": [
        "32700 "
       ]
      },
      {
       "output_type": "stream",
       "stream": "stdout",
       "text": [
        "32800 "
       ]
      },
      {
       "output_type": "stream",
       "stream": "stdout",
       "text": [
        "32900 "
       ]
      },
      {
       "output_type": "stream",
       "stream": "stdout",
       "text": [
        "33000 "
       ]
      },
      {
       "output_type": "stream",
       "stream": "stdout",
       "text": [
        "33100 "
       ]
      },
      {
       "output_type": "stream",
       "stream": "stdout",
       "text": [
        "33200 "
       ]
      },
      {
       "output_type": "stream",
       "stream": "stdout",
       "text": [
        "33300 "
       ]
      },
      {
       "output_type": "stream",
       "stream": "stdout",
       "text": [
        "33400 "
       ]
      },
      {
       "output_type": "stream",
       "stream": "stdout",
       "text": [
        "33500 "
       ]
      },
      {
       "output_type": "stream",
       "stream": "stdout",
       "text": [
        "33600 "
       ]
      },
      {
       "output_type": "stream",
       "stream": "stdout",
       "text": [
        "33700 "
       ]
      },
      {
       "output_type": "stream",
       "stream": "stdout",
       "text": [
        "33800 "
       ]
      },
      {
       "output_type": "stream",
       "stream": "stdout",
       "text": [
        "33900 "
       ]
      },
      {
       "output_type": "stream",
       "stream": "stdout",
       "text": [
        "34000 "
       ]
      },
      {
       "output_type": "stream",
       "stream": "stdout",
       "text": [
        "34100 "
       ]
      },
      {
       "output_type": "stream",
       "stream": "stdout",
       "text": [
        "34200 "
       ]
      },
      {
       "output_type": "stream",
       "stream": "stdout",
       "text": [
        "34300 "
       ]
      },
      {
       "output_type": "stream",
       "stream": "stdout",
       "text": [
        "34400 "
       ]
      },
      {
       "output_type": "stream",
       "stream": "stdout",
       "text": [
        "34500 "
       ]
      },
      {
       "output_type": "stream",
       "stream": "stdout",
       "text": [
        "34600 "
       ]
      },
      {
       "output_type": "stream",
       "stream": "stdout",
       "text": [
        "34700 "
       ]
      },
      {
       "output_type": "stream",
       "stream": "stdout",
       "text": [
        "34800 "
       ]
      },
      {
       "output_type": "stream",
       "stream": "stdout",
       "text": [
        "34900 "
       ]
      },
      {
       "output_type": "stream",
       "stream": "stdout",
       "text": [
        "35000 "
       ]
      },
      {
       "output_type": "stream",
       "stream": "stdout",
       "text": [
        "35100 "
       ]
      },
      {
       "output_type": "stream",
       "stream": "stdout",
       "text": [
        "35200 "
       ]
      },
      {
       "output_type": "stream",
       "stream": "stdout",
       "text": [
        "35300 "
       ]
      },
      {
       "output_type": "stream",
       "stream": "stdout",
       "text": [
        "35400 "
       ]
      },
      {
       "output_type": "stream",
       "stream": "stdout",
       "text": [
        "35500 "
       ]
      },
      {
       "output_type": "stream",
       "stream": "stdout",
       "text": [
        "35600 "
       ]
      },
      {
       "output_type": "stream",
       "stream": "stdout",
       "text": [
        "35700 "
       ]
      },
      {
       "output_type": "stream",
       "stream": "stdout",
       "text": [
        "35800 "
       ]
      },
      {
       "output_type": "stream",
       "stream": "stdout",
       "text": [
        "35900 "
       ]
      },
      {
       "output_type": "stream",
       "stream": "stdout",
       "text": [
        "36000 "
       ]
      },
      {
       "output_type": "stream",
       "stream": "stdout",
       "text": [
        "36100 "
       ]
      },
      {
       "output_type": "stream",
       "stream": "stdout",
       "text": [
        "36200 "
       ]
      },
      {
       "output_type": "stream",
       "stream": "stdout",
       "text": [
        "36300 "
       ]
      },
      {
       "output_type": "stream",
       "stream": "stdout",
       "text": [
        "36400 "
       ]
      },
      {
       "output_type": "stream",
       "stream": "stdout",
       "text": [
        "36500 "
       ]
      },
      {
       "output_type": "stream",
       "stream": "stdout",
       "text": [
        "36600 "
       ]
      },
      {
       "output_type": "stream",
       "stream": "stdout",
       "text": [
        "36700 "
       ]
      },
      {
       "output_type": "stream",
       "stream": "stdout",
       "text": [
        "36800 "
       ]
      },
      {
       "output_type": "stream",
       "stream": "stdout",
       "text": [
        "36900 "
       ]
      },
      {
       "output_type": "stream",
       "stream": "stdout",
       "text": [
        "37000 "
       ]
      },
      {
       "output_type": "stream",
       "stream": "stdout",
       "text": [
        "37100 "
       ]
      },
      {
       "output_type": "stream",
       "stream": "stdout",
       "text": [
        "37200 "
       ]
      },
      {
       "output_type": "stream",
       "stream": "stdout",
       "text": [
        "37300 "
       ]
      },
      {
       "output_type": "stream",
       "stream": "stdout",
       "text": [
        "37400 "
       ]
      },
      {
       "output_type": "stream",
       "stream": "stdout",
       "text": [
        "37500 "
       ]
      },
      {
       "output_type": "stream",
       "stream": "stdout",
       "text": [
        "37600 "
       ]
      },
      {
       "output_type": "stream",
       "stream": "stdout",
       "text": [
        "37700 "
       ]
      },
      {
       "output_type": "stream",
       "stream": "stdout",
       "text": [
        "37800 "
       ]
      },
      {
       "output_type": "stream",
       "stream": "stdout",
       "text": [
        "37900 "
       ]
      },
      {
       "output_type": "stream",
       "stream": "stdout",
       "text": [
        "38000 "
       ]
      },
      {
       "output_type": "stream",
       "stream": "stdout",
       "text": [
        "38100 "
       ]
      },
      {
       "output_type": "stream",
       "stream": "stdout",
       "text": [
        "38200 "
       ]
      },
      {
       "output_type": "stream",
       "stream": "stdout",
       "text": [
        "38300 "
       ]
      },
      {
       "output_type": "stream",
       "stream": "stdout",
       "text": [
        "38400 "
       ]
      },
      {
       "output_type": "stream",
       "stream": "stdout",
       "text": [
        "38500 "
       ]
      },
      {
       "output_type": "stream",
       "stream": "stdout",
       "text": [
        "38600 "
       ]
      },
      {
       "output_type": "stream",
       "stream": "stdout",
       "text": [
        "38700 "
       ]
      },
      {
       "output_type": "stream",
       "stream": "stdout",
       "text": [
        "38800 "
       ]
      },
      {
       "output_type": "stream",
       "stream": "stdout",
       "text": [
        "38900 "
       ]
      },
      {
       "output_type": "stream",
       "stream": "stdout",
       "text": [
        "39000 "
       ]
      },
      {
       "output_type": "stream",
       "stream": "stdout",
       "text": [
        "39100 "
       ]
      },
      {
       "output_type": "stream",
       "stream": "stdout",
       "text": [
        "39200 "
       ]
      },
      {
       "output_type": "stream",
       "stream": "stdout",
       "text": [
        "39300 "
       ]
      },
      {
       "output_type": "stream",
       "stream": "stdout",
       "text": [
        "39400 "
       ]
      },
      {
       "output_type": "stream",
       "stream": "stdout",
       "text": [
        "39500 "
       ]
      },
      {
       "output_type": "stream",
       "stream": "stdout",
       "text": [
        "39600 "
       ]
      },
      {
       "output_type": "stream",
       "stream": "stdout",
       "text": [
        "39700 "
       ]
      },
      {
       "output_type": "stream",
       "stream": "stdout",
       "text": [
        "39800 "
       ]
      },
      {
       "output_type": "stream",
       "stream": "stdout",
       "text": [
        "39900 "
       ]
      },
      {
       "output_type": "stream",
       "stream": "stdout",
       "text": [
        "40000 "
       ]
      },
      {
       "output_type": "stream",
       "stream": "stdout",
       "text": [
        "40100 "
       ]
      },
      {
       "output_type": "stream",
       "stream": "stdout",
       "text": [
        "40200 "
       ]
      },
      {
       "output_type": "stream",
       "stream": "stdout",
       "text": [
        "40300 "
       ]
      },
      {
       "output_type": "stream",
       "stream": "stdout",
       "text": [
        "40400 "
       ]
      },
      {
       "output_type": "stream",
       "stream": "stdout",
       "text": [
        "40500 "
       ]
      },
      {
       "output_type": "stream",
       "stream": "stdout",
       "text": [
        "40600 "
       ]
      },
      {
       "output_type": "stream",
       "stream": "stdout",
       "text": [
        "40700 "
       ]
      },
      {
       "output_type": "stream",
       "stream": "stdout",
       "text": [
        "40800 "
       ]
      },
      {
       "output_type": "stream",
       "stream": "stdout",
       "text": [
        "40900 "
       ]
      },
      {
       "output_type": "stream",
       "stream": "stdout",
       "text": [
        "41000 "
       ]
      },
      {
       "output_type": "stream",
       "stream": "stdout",
       "text": [
        "41100 "
       ]
      },
      {
       "output_type": "stream",
       "stream": "stdout",
       "text": [
        "41200 "
       ]
      },
      {
       "output_type": "stream",
       "stream": "stdout",
       "text": [
        "41300 "
       ]
      },
      {
       "output_type": "stream",
       "stream": "stdout",
       "text": [
        "41400 "
       ]
      },
      {
       "output_type": "stream",
       "stream": "stdout",
       "text": [
        "41500 "
       ]
      },
      {
       "output_type": "stream",
       "stream": "stdout",
       "text": [
        "41600 "
       ]
      },
      {
       "output_type": "stream",
       "stream": "stdout",
       "text": [
        "41700 "
       ]
      },
      {
       "output_type": "stream",
       "stream": "stdout",
       "text": [
        "41800 "
       ]
      },
      {
       "output_type": "stream",
       "stream": "stdout",
       "text": [
        "41900 "
       ]
      },
      {
       "output_type": "stream",
       "stream": "stdout",
       "text": [
        "42000 "
       ]
      },
      {
       "output_type": "stream",
       "stream": "stdout",
       "text": [
        "42100 "
       ]
      },
      {
       "output_type": "stream",
       "stream": "stdout",
       "text": [
        "42200 "
       ]
      },
      {
       "output_type": "stream",
       "stream": "stdout",
       "text": [
        "42300 "
       ]
      },
      {
       "output_type": "stream",
       "stream": "stdout",
       "text": [
        "42400 "
       ]
      },
      {
       "output_type": "stream",
       "stream": "stdout",
       "text": [
        "42500 "
       ]
      },
      {
       "output_type": "stream",
       "stream": "stdout",
       "text": [
        "42600 "
       ]
      },
      {
       "output_type": "stream",
       "stream": "stdout",
       "text": [
        "42700 "
       ]
      },
      {
       "output_type": "stream",
       "stream": "stdout",
       "text": [
        "42800 "
       ]
      },
      {
       "output_type": "stream",
       "stream": "stdout",
       "text": [
        "42900 "
       ]
      },
      {
       "output_type": "stream",
       "stream": "stdout",
       "text": [
        "43000 "
       ]
      },
      {
       "output_type": "stream",
       "stream": "stdout",
       "text": [
        "43100 "
       ]
      },
      {
       "output_type": "stream",
       "stream": "stdout",
       "text": [
        "43200 "
       ]
      },
      {
       "output_type": "stream",
       "stream": "stdout",
       "text": [
        "43300 "
       ]
      },
      {
       "output_type": "stream",
       "stream": "stdout",
       "text": [
        "43400 "
       ]
      },
      {
       "output_type": "stream",
       "stream": "stdout",
       "text": [
        "43500 "
       ]
      },
      {
       "output_type": "stream",
       "stream": "stdout",
       "text": [
        "43600 "
       ]
      },
      {
       "output_type": "stream",
       "stream": "stdout",
       "text": [
        "43700 "
       ]
      },
      {
       "output_type": "stream",
       "stream": "stdout",
       "text": [
        "43800 "
       ]
      },
      {
       "output_type": "stream",
       "stream": "stdout",
       "text": [
        "43900 "
       ]
      },
      {
       "output_type": "stream",
       "stream": "stdout",
       "text": [
        "44000 "
       ]
      },
      {
       "output_type": "stream",
       "stream": "stdout",
       "text": [
        "44100 "
       ]
      },
      {
       "output_type": "stream",
       "stream": "stdout",
       "text": [
        "44200 "
       ]
      },
      {
       "output_type": "stream",
       "stream": "stdout",
       "text": [
        "44300 "
       ]
      },
      {
       "output_type": "stream",
       "stream": "stdout",
       "text": [
        "44400 "
       ]
      },
      {
       "output_type": "stream",
       "stream": "stdout",
       "text": [
        "44500 "
       ]
      },
      {
       "output_type": "stream",
       "stream": "stdout",
       "text": [
        "44600 "
       ]
      },
      {
       "output_type": "stream",
       "stream": "stdout",
       "text": [
        "44700 "
       ]
      },
      {
       "output_type": "stream",
       "stream": "stdout",
       "text": [
        "44800 "
       ]
      },
      {
       "output_type": "stream",
       "stream": "stdout",
       "text": [
        "44900 "
       ]
      },
      {
       "output_type": "stream",
       "stream": "stdout",
       "text": [
        "45000 "
       ]
      },
      {
       "output_type": "stream",
       "stream": "stdout",
       "text": [
        "45100 "
       ]
      },
      {
       "output_type": "stream",
       "stream": "stdout",
       "text": [
        "45200 "
       ]
      },
      {
       "output_type": "stream",
       "stream": "stdout",
       "text": [
        "45300 "
       ]
      },
      {
       "output_type": "stream",
       "stream": "stdout",
       "text": [
        "45400 "
       ]
      },
      {
       "output_type": "stream",
       "stream": "stdout",
       "text": [
        "45500 "
       ]
      },
      {
       "output_type": "stream",
       "stream": "stdout",
       "text": [
        "45600 "
       ]
      },
      {
       "output_type": "stream",
       "stream": "stdout",
       "text": [
        "45700 "
       ]
      },
      {
       "output_type": "stream",
       "stream": "stdout",
       "text": [
        "45800 "
       ]
      },
      {
       "output_type": "stream",
       "stream": "stdout",
       "text": [
        "45900 "
       ]
      },
      {
       "output_type": "stream",
       "stream": "stdout",
       "text": [
        "46000\n"
       ]
      }
     ],
     "prompt_number": 107
    },
    {
     "cell_type": "code",
     "collapsed": false,
     "input": [
      "n = -31\n",
      "res = []\n",
      "k = 0\n",
      "for i in range(len(train)):\n",
      "    res.append(MeanNDayFromThis(n, train, train.City[i], train.Year[i], train.Month[i], train.Day[i]))\n",
      "    if ( (k % 100) == 0):\n",
      "        print k,\n",
      "    k += 1\n",
      "train[\"MeanPrev31Day\"] = pd.Series(res)"
     ],
     "language": "python",
     "metadata": {},
     "outputs": [
      {
       "output_type": "stream",
       "stream": "stdout",
       "text": [
        "0 "
       ]
      },
      {
       "output_type": "stream",
       "stream": "stdout",
       "text": [
        "100 "
       ]
      },
      {
       "output_type": "stream",
       "stream": "stdout",
       "text": [
        "200 "
       ]
      },
      {
       "output_type": "stream",
       "stream": "stdout",
       "text": [
        "300 "
       ]
      },
      {
       "output_type": "stream",
       "stream": "stdout",
       "text": [
        "400 "
       ]
      },
      {
       "output_type": "stream",
       "stream": "stdout",
       "text": [
        "500 "
       ]
      },
      {
       "output_type": "stream",
       "stream": "stdout",
       "text": [
        "600 "
       ]
      },
      {
       "output_type": "stream",
       "stream": "stdout",
       "text": [
        "700 "
       ]
      },
      {
       "output_type": "stream",
       "stream": "stdout",
       "text": [
        "800 "
       ]
      },
      {
       "output_type": "stream",
       "stream": "stdout",
       "text": [
        "900 "
       ]
      },
      {
       "output_type": "stream",
       "stream": "stdout",
       "text": [
        "1000 "
       ]
      },
      {
       "output_type": "stream",
       "stream": "stdout",
       "text": [
        "1100 "
       ]
      },
      {
       "output_type": "stream",
       "stream": "stdout",
       "text": [
        "1200 "
       ]
      },
      {
       "output_type": "stream",
       "stream": "stdout",
       "text": [
        "1300 "
       ]
      },
      {
       "output_type": "stream",
       "stream": "stdout",
       "text": [
        "1400 "
       ]
      },
      {
       "output_type": "stream",
       "stream": "stdout",
       "text": [
        "1500 "
       ]
      },
      {
       "output_type": "stream",
       "stream": "stdout",
       "text": [
        "1600 "
       ]
      },
      {
       "output_type": "stream",
       "stream": "stdout",
       "text": [
        "1700 "
       ]
      },
      {
       "output_type": "stream",
       "stream": "stdout",
       "text": [
        "1800 "
       ]
      },
      {
       "output_type": "stream",
       "stream": "stdout",
       "text": [
        "1900 "
       ]
      },
      {
       "output_type": "stream",
       "stream": "stdout",
       "text": [
        "2000 "
       ]
      },
      {
       "output_type": "stream",
       "stream": "stdout",
       "text": [
        "2100 "
       ]
      },
      {
       "output_type": "stream",
       "stream": "stdout",
       "text": [
        "2200 "
       ]
      },
      {
       "output_type": "stream",
       "stream": "stdout",
       "text": [
        "2300 "
       ]
      },
      {
       "output_type": "stream",
       "stream": "stdout",
       "text": [
        "2400 "
       ]
      },
      {
       "output_type": "stream",
       "stream": "stdout",
       "text": [
        "2500 "
       ]
      },
      {
       "output_type": "stream",
       "stream": "stdout",
       "text": [
        "2600 "
       ]
      },
      {
       "output_type": "stream",
       "stream": "stdout",
       "text": [
        "2700 "
       ]
      },
      {
       "output_type": "stream",
       "stream": "stdout",
       "text": [
        "2800 "
       ]
      },
      {
       "output_type": "stream",
       "stream": "stdout",
       "text": [
        "2900 "
       ]
      },
      {
       "output_type": "stream",
       "stream": "stdout",
       "text": [
        "3000 "
       ]
      },
      {
       "output_type": "stream",
       "stream": "stdout",
       "text": [
        "3100 "
       ]
      },
      {
       "output_type": "stream",
       "stream": "stdout",
       "text": [
        "3200 "
       ]
      },
      {
       "output_type": "stream",
       "stream": "stdout",
       "text": [
        "3300 "
       ]
      },
      {
       "output_type": "stream",
       "stream": "stdout",
       "text": [
        "3400 "
       ]
      },
      {
       "output_type": "stream",
       "stream": "stdout",
       "text": [
        "3500 "
       ]
      },
      {
       "output_type": "stream",
       "stream": "stdout",
       "text": [
        "3600 "
       ]
      },
      {
       "output_type": "stream",
       "stream": "stdout",
       "text": [
        "3700 "
       ]
      },
      {
       "output_type": "stream",
       "stream": "stdout",
       "text": [
        "3800 "
       ]
      },
      {
       "output_type": "stream",
       "stream": "stdout",
       "text": [
        "3900 "
       ]
      },
      {
       "output_type": "stream",
       "stream": "stdout",
       "text": [
        "4000 "
       ]
      },
      {
       "output_type": "stream",
       "stream": "stdout",
       "text": [
        "4100 "
       ]
      },
      {
       "output_type": "stream",
       "stream": "stdout",
       "text": [
        "4200 "
       ]
      },
      {
       "output_type": "stream",
       "stream": "stdout",
       "text": [
        "4300 "
       ]
      },
      {
       "output_type": "stream",
       "stream": "stdout",
       "text": [
        "4400 "
       ]
      },
      {
       "output_type": "stream",
       "stream": "stdout",
       "text": [
        "4500 "
       ]
      },
      {
       "output_type": "stream",
       "stream": "stdout",
       "text": [
        "4600 "
       ]
      },
      {
       "output_type": "stream",
       "stream": "stdout",
       "text": [
        "4700 "
       ]
      },
      {
       "output_type": "stream",
       "stream": "stdout",
       "text": [
        "4800 "
       ]
      },
      {
       "output_type": "stream",
       "stream": "stdout",
       "text": [
        "4900 "
       ]
      },
      {
       "output_type": "stream",
       "stream": "stdout",
       "text": [
        "5000 "
       ]
      },
      {
       "output_type": "stream",
       "stream": "stdout",
       "text": [
        "5100 "
       ]
      },
      {
       "output_type": "stream",
       "stream": "stdout",
       "text": [
        "5200 "
       ]
      },
      {
       "output_type": "stream",
       "stream": "stdout",
       "text": [
        "5300 "
       ]
      },
      {
       "output_type": "stream",
       "stream": "stdout",
       "text": [
        "5400 "
       ]
      },
      {
       "output_type": "stream",
       "stream": "stdout",
       "text": [
        "5500 "
       ]
      },
      {
       "output_type": "stream",
       "stream": "stdout",
       "text": [
        "5600 "
       ]
      },
      {
       "output_type": "stream",
       "stream": "stdout",
       "text": [
        "5700 "
       ]
      },
      {
       "output_type": "stream",
       "stream": "stdout",
       "text": [
        "5800 "
       ]
      },
      {
       "output_type": "stream",
       "stream": "stdout",
       "text": [
        "5900 "
       ]
      },
      {
       "output_type": "stream",
       "stream": "stdout",
       "text": [
        "6000 "
       ]
      },
      {
       "output_type": "stream",
       "stream": "stdout",
       "text": [
        "6100 "
       ]
      },
      {
       "output_type": "stream",
       "stream": "stdout",
       "text": [
        "6200 "
       ]
      },
      {
       "output_type": "stream",
       "stream": "stdout",
       "text": [
        "6300 "
       ]
      },
      {
       "output_type": "stream",
       "stream": "stdout",
       "text": [
        "6400 "
       ]
      },
      {
       "output_type": "stream",
       "stream": "stdout",
       "text": [
        "6500 "
       ]
      },
      {
       "output_type": "stream",
       "stream": "stdout",
       "text": [
        "6600 "
       ]
      },
      {
       "output_type": "stream",
       "stream": "stdout",
       "text": [
        "6700 "
       ]
      },
      {
       "output_type": "stream",
       "stream": "stdout",
       "text": [
        "6800 "
       ]
      },
      {
       "output_type": "stream",
       "stream": "stdout",
       "text": [
        "6900 "
       ]
      },
      {
       "output_type": "stream",
       "stream": "stdout",
       "text": [
        "7000 "
       ]
      },
      {
       "output_type": "stream",
       "stream": "stdout",
       "text": [
        "7100 "
       ]
      },
      {
       "output_type": "stream",
       "stream": "stdout",
       "text": [
        "7200 "
       ]
      },
      {
       "output_type": "stream",
       "stream": "stdout",
       "text": [
        "7300 "
       ]
      },
      {
       "output_type": "stream",
       "stream": "stdout",
       "text": [
        "7400 "
       ]
      },
      {
       "output_type": "stream",
       "stream": "stdout",
       "text": [
        "7500 "
       ]
      },
      {
       "output_type": "stream",
       "stream": "stdout",
       "text": [
        "7600 "
       ]
      },
      {
       "output_type": "stream",
       "stream": "stdout",
       "text": [
        "7700 "
       ]
      },
      {
       "output_type": "stream",
       "stream": "stdout",
       "text": [
        "7800 "
       ]
      },
      {
       "output_type": "stream",
       "stream": "stdout",
       "text": [
        "7900 "
       ]
      },
      {
       "output_type": "stream",
       "stream": "stdout",
       "text": [
        "8000 "
       ]
      },
      {
       "output_type": "stream",
       "stream": "stdout",
       "text": [
        "8100 "
       ]
      },
      {
       "output_type": "stream",
       "stream": "stdout",
       "text": [
        "8200 "
       ]
      },
      {
       "output_type": "stream",
       "stream": "stdout",
       "text": [
        "8300 "
       ]
      },
      {
       "output_type": "stream",
       "stream": "stdout",
       "text": [
        "8400 "
       ]
      },
      {
       "output_type": "stream",
       "stream": "stdout",
       "text": [
        "8500 "
       ]
      },
      {
       "output_type": "stream",
       "stream": "stdout",
       "text": [
        "8600 "
       ]
      },
      {
       "output_type": "stream",
       "stream": "stdout",
       "text": [
        "8700 "
       ]
      },
      {
       "output_type": "stream",
       "stream": "stdout",
       "text": [
        "8800 "
       ]
      },
      {
       "output_type": "stream",
       "stream": "stdout",
       "text": [
        "8900 "
       ]
      },
      {
       "output_type": "stream",
       "stream": "stdout",
       "text": [
        "9000 "
       ]
      },
      {
       "output_type": "stream",
       "stream": "stdout",
       "text": [
        "9100 "
       ]
      },
      {
       "output_type": "stream",
       "stream": "stdout",
       "text": [
        "9200 "
       ]
      },
      {
       "output_type": "stream",
       "stream": "stdout",
       "text": [
        "9300 "
       ]
      },
      {
       "output_type": "stream",
       "stream": "stdout",
       "text": [
        "9400 "
       ]
      },
      {
       "output_type": "stream",
       "stream": "stdout",
       "text": [
        "9500 "
       ]
      },
      {
       "output_type": "stream",
       "stream": "stdout",
       "text": [
        "9600 "
       ]
      },
      {
       "output_type": "stream",
       "stream": "stdout",
       "text": [
        "9700 "
       ]
      },
      {
       "output_type": "stream",
       "stream": "stdout",
       "text": [
        "9800 "
       ]
      },
      {
       "output_type": "stream",
       "stream": "stdout",
       "text": [
        "9900 "
       ]
      },
      {
       "output_type": "stream",
       "stream": "stdout",
       "text": [
        "10000 "
       ]
      },
      {
       "output_type": "stream",
       "stream": "stdout",
       "text": [
        "10100 "
       ]
      },
      {
       "output_type": "stream",
       "stream": "stdout",
       "text": [
        "10200 "
       ]
      },
      {
       "output_type": "stream",
       "stream": "stdout",
       "text": [
        "10300 "
       ]
      },
      {
       "output_type": "stream",
       "stream": "stdout",
       "text": [
        "10400 "
       ]
      },
      {
       "output_type": "stream",
       "stream": "stdout",
       "text": [
        "10500 "
       ]
      },
      {
       "output_type": "stream",
       "stream": "stdout",
       "text": [
        "10600 "
       ]
      },
      {
       "output_type": "stream",
       "stream": "stdout",
       "text": [
        "10700 "
       ]
      },
      {
       "output_type": "stream",
       "stream": "stdout",
       "text": [
        "10800 "
       ]
      },
      {
       "output_type": "stream",
       "stream": "stdout",
       "text": [
        "10900 "
       ]
      },
      {
       "output_type": "stream",
       "stream": "stdout",
       "text": [
        "11000 "
       ]
      },
      {
       "output_type": "stream",
       "stream": "stdout",
       "text": [
        "11100 "
       ]
      },
      {
       "output_type": "stream",
       "stream": "stdout",
       "text": [
        "11200 "
       ]
      },
      {
       "output_type": "stream",
       "stream": "stdout",
       "text": [
        "11300 "
       ]
      },
      {
       "output_type": "stream",
       "stream": "stdout",
       "text": [
        "11400 "
       ]
      },
      {
       "output_type": "stream",
       "stream": "stdout",
       "text": [
        "11500 "
       ]
      },
      {
       "output_type": "stream",
       "stream": "stdout",
       "text": [
        "11600 "
       ]
      },
      {
       "output_type": "stream",
       "stream": "stdout",
       "text": [
        "11700 "
       ]
      },
      {
       "output_type": "stream",
       "stream": "stdout",
       "text": [
        "11800 "
       ]
      },
      {
       "output_type": "stream",
       "stream": "stdout",
       "text": [
        "11900 "
       ]
      },
      {
       "output_type": "stream",
       "stream": "stdout",
       "text": [
        "12000 "
       ]
      },
      {
       "output_type": "stream",
       "stream": "stdout",
       "text": [
        "12100 "
       ]
      },
      {
       "output_type": "stream",
       "stream": "stdout",
       "text": [
        "12200 "
       ]
      },
      {
       "output_type": "stream",
       "stream": "stdout",
       "text": [
        "12300 "
       ]
      },
      {
       "output_type": "stream",
       "stream": "stdout",
       "text": [
        "12400 "
       ]
      },
      {
       "output_type": "stream",
       "stream": "stdout",
       "text": [
        "12500 "
       ]
      },
      {
       "output_type": "stream",
       "stream": "stdout",
       "text": [
        "12600 "
       ]
      },
      {
       "output_type": "stream",
       "stream": "stdout",
       "text": [
        "12700 "
       ]
      },
      {
       "output_type": "stream",
       "stream": "stdout",
       "text": [
        "12800 "
       ]
      },
      {
       "output_type": "stream",
       "stream": "stdout",
       "text": [
        "12900 "
       ]
      },
      {
       "output_type": "stream",
       "stream": "stdout",
       "text": [
        "13000 "
       ]
      },
      {
       "output_type": "stream",
       "stream": "stdout",
       "text": [
        "13100 "
       ]
      },
      {
       "output_type": "stream",
       "stream": "stdout",
       "text": [
        "13200 "
       ]
      },
      {
       "output_type": "stream",
       "stream": "stdout",
       "text": [
        "13300 "
       ]
      },
      {
       "output_type": "stream",
       "stream": "stdout",
       "text": [
        "13400 "
       ]
      },
      {
       "output_type": "stream",
       "stream": "stdout",
       "text": [
        "13500 "
       ]
      },
      {
       "output_type": "stream",
       "stream": "stdout",
       "text": [
        "13600 "
       ]
      },
      {
       "output_type": "stream",
       "stream": "stdout",
       "text": [
        "13700 "
       ]
      },
      {
       "output_type": "stream",
       "stream": "stdout",
       "text": [
        "13800 "
       ]
      },
      {
       "output_type": "stream",
       "stream": "stdout",
       "text": [
        "13900 "
       ]
      },
      {
       "output_type": "stream",
       "stream": "stdout",
       "text": [
        "14000 "
       ]
      },
      {
       "output_type": "stream",
       "stream": "stdout",
       "text": [
        "14100 "
       ]
      },
      {
       "output_type": "stream",
       "stream": "stdout",
       "text": [
        "14200 "
       ]
      },
      {
       "output_type": "stream",
       "stream": "stdout",
       "text": [
        "14300 "
       ]
      },
      {
       "output_type": "stream",
       "stream": "stdout",
       "text": [
        "14400 "
       ]
      },
      {
       "output_type": "stream",
       "stream": "stdout",
       "text": [
        "14500 "
       ]
      },
      {
       "output_type": "stream",
       "stream": "stdout",
       "text": [
        "14600 "
       ]
      },
      {
       "output_type": "stream",
       "stream": "stdout",
       "text": [
        "14700 "
       ]
      },
      {
       "output_type": "stream",
       "stream": "stdout",
       "text": [
        "14800 "
       ]
      },
      {
       "output_type": "stream",
       "stream": "stdout",
       "text": [
        "14900 "
       ]
      },
      {
       "output_type": "stream",
       "stream": "stdout",
       "text": [
        "15000 "
       ]
      },
      {
       "output_type": "stream",
       "stream": "stdout",
       "text": [
        "15100 "
       ]
      },
      {
       "output_type": "stream",
       "stream": "stdout",
       "text": [
        "15200 "
       ]
      },
      {
       "output_type": "stream",
       "stream": "stdout",
       "text": [
        "15300 "
       ]
      },
      {
       "output_type": "stream",
       "stream": "stdout",
       "text": [
        "15400 "
       ]
      },
      {
       "output_type": "stream",
       "stream": "stdout",
       "text": [
        "15500 "
       ]
      },
      {
       "output_type": "stream",
       "stream": "stdout",
       "text": [
        "15600 "
       ]
      },
      {
       "output_type": "stream",
       "stream": "stdout",
       "text": [
        "15700 "
       ]
      },
      {
       "output_type": "stream",
       "stream": "stdout",
       "text": [
        "15800 "
       ]
      },
      {
       "output_type": "stream",
       "stream": "stdout",
       "text": [
        "15900 "
       ]
      },
      {
       "output_type": "stream",
       "stream": "stdout",
       "text": [
        "16000 "
       ]
      },
      {
       "output_type": "stream",
       "stream": "stdout",
       "text": [
        "16100 "
       ]
      },
      {
       "output_type": "stream",
       "stream": "stdout",
       "text": [
        "16200 "
       ]
      },
      {
       "output_type": "stream",
       "stream": "stdout",
       "text": [
        "16300 "
       ]
      },
      {
       "output_type": "stream",
       "stream": "stdout",
       "text": [
        "16400 "
       ]
      },
      {
       "output_type": "stream",
       "stream": "stdout",
       "text": [
        "16500 "
       ]
      },
      {
       "output_type": "stream",
       "stream": "stdout",
       "text": [
        "16600 "
       ]
      },
      {
       "output_type": "stream",
       "stream": "stdout",
       "text": [
        "16700 "
       ]
      },
      {
       "output_type": "stream",
       "stream": "stdout",
       "text": [
        "16800 "
       ]
      },
      {
       "output_type": "stream",
       "stream": "stdout",
       "text": [
        "16900 "
       ]
      },
      {
       "output_type": "stream",
       "stream": "stdout",
       "text": [
        "17000 "
       ]
      },
      {
       "output_type": "stream",
       "stream": "stdout",
       "text": [
        "17100 "
       ]
      },
      {
       "output_type": "stream",
       "stream": "stdout",
       "text": [
        "17200 "
       ]
      },
      {
       "output_type": "stream",
       "stream": "stdout",
       "text": [
        "17300 "
       ]
      },
      {
       "output_type": "stream",
       "stream": "stdout",
       "text": [
        "17400 "
       ]
      },
      {
       "output_type": "stream",
       "stream": "stdout",
       "text": [
        "17500 "
       ]
      },
      {
       "output_type": "stream",
       "stream": "stdout",
       "text": [
        "17600 "
       ]
      },
      {
       "output_type": "stream",
       "stream": "stdout",
       "text": [
        "17700 "
       ]
      },
      {
       "output_type": "stream",
       "stream": "stdout",
       "text": [
        "17800 "
       ]
      },
      {
       "output_type": "stream",
       "stream": "stdout",
       "text": [
        "17900 "
       ]
      },
      {
       "output_type": "stream",
       "stream": "stdout",
       "text": [
        "18000 "
       ]
      },
      {
       "output_type": "stream",
       "stream": "stdout",
       "text": [
        "18100 "
       ]
      },
      {
       "output_type": "stream",
       "stream": "stdout",
       "text": [
        "18200 "
       ]
      },
      {
       "output_type": "stream",
       "stream": "stdout",
       "text": [
        "18300 "
       ]
      },
      {
       "output_type": "stream",
       "stream": "stdout",
       "text": [
        "18400 "
       ]
      },
      {
       "output_type": "stream",
       "stream": "stdout",
       "text": [
        "18500 "
       ]
      },
      {
       "output_type": "stream",
       "stream": "stdout",
       "text": [
        "18600 "
       ]
      },
      {
       "output_type": "stream",
       "stream": "stdout",
       "text": [
        "18700 "
       ]
      },
      {
       "output_type": "stream",
       "stream": "stdout",
       "text": [
        "18800 "
       ]
      },
      {
       "output_type": "stream",
       "stream": "stdout",
       "text": [
        "18900 "
       ]
      },
      {
       "output_type": "stream",
       "stream": "stdout",
       "text": [
        "19000 "
       ]
      },
      {
       "output_type": "stream",
       "stream": "stdout",
       "text": [
        "19100 "
       ]
      },
      {
       "output_type": "stream",
       "stream": "stdout",
       "text": [
        "19200 "
       ]
      },
      {
       "output_type": "stream",
       "stream": "stdout",
       "text": [
        "19300 "
       ]
      },
      {
       "output_type": "stream",
       "stream": "stdout",
       "text": [
        "19400 "
       ]
      },
      {
       "output_type": "stream",
       "stream": "stdout",
       "text": [
        "19500 "
       ]
      },
      {
       "output_type": "stream",
       "stream": "stdout",
       "text": [
        "19600 "
       ]
      },
      {
       "output_type": "stream",
       "stream": "stdout",
       "text": [
        "19700 "
       ]
      },
      {
       "output_type": "stream",
       "stream": "stdout",
       "text": [
        "19800 "
       ]
      },
      {
       "output_type": "stream",
       "stream": "stdout",
       "text": [
        "19900 "
       ]
      },
      {
       "output_type": "stream",
       "stream": "stdout",
       "text": [
        "20000 "
       ]
      },
      {
       "output_type": "stream",
       "stream": "stdout",
       "text": [
        "20100 "
       ]
      },
      {
       "output_type": "stream",
       "stream": "stdout",
       "text": [
        "20200 "
       ]
      },
      {
       "output_type": "stream",
       "stream": "stdout",
       "text": [
        "20300 "
       ]
      },
      {
       "output_type": "stream",
       "stream": "stdout",
       "text": [
        "20400 "
       ]
      },
      {
       "output_type": "stream",
       "stream": "stdout",
       "text": [
        "20500 "
       ]
      },
      {
       "output_type": "stream",
       "stream": "stdout",
       "text": [
        "20600 "
       ]
      },
      {
       "output_type": "stream",
       "stream": "stdout",
       "text": [
        "20700 "
       ]
      },
      {
       "output_type": "stream",
       "stream": "stdout",
       "text": [
        "20800 "
       ]
      },
      {
       "output_type": "stream",
       "stream": "stdout",
       "text": [
        "20900 "
       ]
      },
      {
       "output_type": "stream",
       "stream": "stdout",
       "text": [
        "21000 "
       ]
      },
      {
       "output_type": "stream",
       "stream": "stdout",
       "text": [
        "21100 "
       ]
      },
      {
       "output_type": "stream",
       "stream": "stdout",
       "text": [
        "21200 "
       ]
      },
      {
       "output_type": "stream",
       "stream": "stdout",
       "text": [
        "21300 "
       ]
      },
      {
       "output_type": "stream",
       "stream": "stdout",
       "text": [
        "21400 "
       ]
      },
      {
       "output_type": "stream",
       "stream": "stdout",
       "text": [
        "21500 "
       ]
      },
      {
       "output_type": "stream",
       "stream": "stdout",
       "text": [
        "21600 "
       ]
      },
      {
       "output_type": "stream",
       "stream": "stdout",
       "text": [
        "21700 "
       ]
      },
      {
       "output_type": "stream",
       "stream": "stdout",
       "text": [
        "21800 "
       ]
      },
      {
       "output_type": "stream",
       "stream": "stdout",
       "text": [
        "21900 "
       ]
      },
      {
       "output_type": "stream",
       "stream": "stdout",
       "text": [
        "22000 "
       ]
      },
      {
       "output_type": "stream",
       "stream": "stdout",
       "text": [
        "22100 "
       ]
      },
      {
       "output_type": "stream",
       "stream": "stdout",
       "text": [
        "22200 "
       ]
      },
      {
       "output_type": "stream",
       "stream": "stdout",
       "text": [
        "22300 "
       ]
      },
      {
       "output_type": "stream",
       "stream": "stdout",
       "text": [
        "22400 "
       ]
      },
      {
       "output_type": "stream",
       "stream": "stdout",
       "text": [
        "22500 "
       ]
      },
      {
       "output_type": "stream",
       "stream": "stdout",
       "text": [
        "22600 "
       ]
      },
      {
       "output_type": "stream",
       "stream": "stdout",
       "text": [
        "22700 "
       ]
      },
      {
       "output_type": "stream",
       "stream": "stdout",
       "text": [
        "22800 "
       ]
      },
      {
       "output_type": "stream",
       "stream": "stdout",
       "text": [
        "22900 "
       ]
      },
      {
       "output_type": "stream",
       "stream": "stdout",
       "text": [
        "23000 "
       ]
      },
      {
       "output_type": "stream",
       "stream": "stdout",
       "text": [
        "23100 "
       ]
      },
      {
       "output_type": "stream",
       "stream": "stdout",
       "text": [
        "23200 "
       ]
      },
      {
       "output_type": "stream",
       "stream": "stdout",
       "text": [
        "23300 "
       ]
      },
      {
       "output_type": "stream",
       "stream": "stdout",
       "text": [
        "23400 "
       ]
      },
      {
       "output_type": "stream",
       "stream": "stdout",
       "text": [
        "23500 "
       ]
      },
      {
       "output_type": "stream",
       "stream": "stdout",
       "text": [
        "23600 "
       ]
      },
      {
       "output_type": "stream",
       "stream": "stdout",
       "text": [
        "23700 "
       ]
      },
      {
       "output_type": "stream",
       "stream": "stdout",
       "text": [
        "23800 "
       ]
      },
      {
       "output_type": "stream",
       "stream": "stdout",
       "text": [
        "23900 "
       ]
      },
      {
       "output_type": "stream",
       "stream": "stdout",
       "text": [
        "24000 "
       ]
      },
      {
       "output_type": "stream",
       "stream": "stdout",
       "text": [
        "24100 "
       ]
      },
      {
       "output_type": "stream",
       "stream": "stdout",
       "text": [
        "24200 "
       ]
      },
      {
       "output_type": "stream",
       "stream": "stdout",
       "text": [
        "24300 "
       ]
      },
      {
       "output_type": "stream",
       "stream": "stdout",
       "text": [
        "24400 "
       ]
      },
      {
       "output_type": "stream",
       "stream": "stdout",
       "text": [
        "24500 "
       ]
      },
      {
       "output_type": "stream",
       "stream": "stdout",
       "text": [
        "24600 "
       ]
      },
      {
       "output_type": "stream",
       "stream": "stdout",
       "text": [
        "24700 "
       ]
      },
      {
       "output_type": "stream",
       "stream": "stdout",
       "text": [
        "24800 "
       ]
      },
      {
       "output_type": "stream",
       "stream": "stdout",
       "text": [
        "24900 "
       ]
      },
      {
       "output_type": "stream",
       "stream": "stdout",
       "text": [
        "25000 "
       ]
      },
      {
       "output_type": "stream",
       "stream": "stdout",
       "text": [
        "25100 "
       ]
      },
      {
       "output_type": "stream",
       "stream": "stdout",
       "text": [
        "25200 "
       ]
      },
      {
       "output_type": "stream",
       "stream": "stdout",
       "text": [
        "25300 "
       ]
      },
      {
       "output_type": "stream",
       "stream": "stdout",
       "text": [
        "25400 "
       ]
      },
      {
       "output_type": "stream",
       "stream": "stdout",
       "text": [
        "25500 "
       ]
      },
      {
       "output_type": "stream",
       "stream": "stdout",
       "text": [
        "25600 "
       ]
      },
      {
       "output_type": "stream",
       "stream": "stdout",
       "text": [
        "25700 "
       ]
      },
      {
       "output_type": "stream",
       "stream": "stdout",
       "text": [
        "25800 "
       ]
      },
      {
       "output_type": "stream",
       "stream": "stdout",
       "text": [
        "25900 "
       ]
      },
      {
       "output_type": "stream",
       "stream": "stdout",
       "text": [
        "26000 "
       ]
      },
      {
       "output_type": "stream",
       "stream": "stdout",
       "text": [
        "26100 "
       ]
      },
      {
       "output_type": "stream",
       "stream": "stdout",
       "text": [
        "26200 "
       ]
      },
      {
       "output_type": "stream",
       "stream": "stdout",
       "text": [
        "26300 "
       ]
      },
      {
       "output_type": "stream",
       "stream": "stdout",
       "text": [
        "26400 "
       ]
      },
      {
       "output_type": "stream",
       "stream": "stdout",
       "text": [
        "26500 "
       ]
      },
      {
       "output_type": "stream",
       "stream": "stdout",
       "text": [
        "26600 "
       ]
      },
      {
       "output_type": "stream",
       "stream": "stdout",
       "text": [
        "26700 "
       ]
      },
      {
       "output_type": "stream",
       "stream": "stdout",
       "text": [
        "26800 "
       ]
      },
      {
       "output_type": "stream",
       "stream": "stdout",
       "text": [
        "26900 "
       ]
      },
      {
       "output_type": "stream",
       "stream": "stdout",
       "text": [
        "27000 "
       ]
      },
      {
       "output_type": "stream",
       "stream": "stdout",
       "text": [
        "27100 "
       ]
      },
      {
       "output_type": "stream",
       "stream": "stdout",
       "text": [
        "27200 "
       ]
      },
      {
       "output_type": "stream",
       "stream": "stdout",
       "text": [
        "27300 "
       ]
      },
      {
       "output_type": "stream",
       "stream": "stdout",
       "text": [
        "27400 "
       ]
      },
      {
       "output_type": "stream",
       "stream": "stdout",
       "text": [
        "27500 "
       ]
      },
      {
       "output_type": "stream",
       "stream": "stdout",
       "text": [
        "27600 "
       ]
      },
      {
       "output_type": "stream",
       "stream": "stdout",
       "text": [
        "27700 "
       ]
      },
      {
       "output_type": "stream",
       "stream": "stdout",
       "text": [
        "27800 "
       ]
      },
      {
       "output_type": "stream",
       "stream": "stdout",
       "text": [
        "27900 "
       ]
      },
      {
       "output_type": "stream",
       "stream": "stdout",
       "text": [
        "28000 "
       ]
      },
      {
       "output_type": "stream",
       "stream": "stdout",
       "text": [
        "28100 "
       ]
      },
      {
       "output_type": "stream",
       "stream": "stdout",
       "text": [
        "28200 "
       ]
      },
      {
       "output_type": "stream",
       "stream": "stdout",
       "text": [
        "28300 "
       ]
      },
      {
       "output_type": "stream",
       "stream": "stdout",
       "text": [
        "28400 "
       ]
      },
      {
       "output_type": "stream",
       "stream": "stdout",
       "text": [
        "28500 "
       ]
      },
      {
       "output_type": "stream",
       "stream": "stdout",
       "text": [
        "28600 "
       ]
      },
      {
       "output_type": "stream",
       "stream": "stdout",
       "text": [
        "28700 "
       ]
      },
      {
       "output_type": "stream",
       "stream": "stdout",
       "text": [
        "28800 "
       ]
      },
      {
       "output_type": "stream",
       "stream": "stdout",
       "text": [
        "28900 "
       ]
      },
      {
       "output_type": "stream",
       "stream": "stdout",
       "text": [
        "29000 "
       ]
      },
      {
       "output_type": "stream",
       "stream": "stdout",
       "text": [
        "29100 "
       ]
      },
      {
       "output_type": "stream",
       "stream": "stdout",
       "text": [
        "29200 "
       ]
      },
      {
       "output_type": "stream",
       "stream": "stdout",
       "text": [
        "29300 "
       ]
      },
      {
       "output_type": "stream",
       "stream": "stdout",
       "text": [
        "29400 "
       ]
      },
      {
       "output_type": "stream",
       "stream": "stdout",
       "text": [
        "29500 "
       ]
      },
      {
       "output_type": "stream",
       "stream": "stdout",
       "text": [
        "29600 "
       ]
      },
      {
       "output_type": "stream",
       "stream": "stdout",
       "text": [
        "29700 "
       ]
      },
      {
       "output_type": "stream",
       "stream": "stdout",
       "text": [
        "29800 "
       ]
      },
      {
       "output_type": "stream",
       "stream": "stdout",
       "text": [
        "29900 "
       ]
      },
      {
       "output_type": "stream",
       "stream": "stdout",
       "text": [
        "30000 "
       ]
      },
      {
       "output_type": "stream",
       "stream": "stdout",
       "text": [
        "30100 "
       ]
      },
      {
       "output_type": "stream",
       "stream": "stdout",
       "text": [
        "30200 "
       ]
      },
      {
       "output_type": "stream",
       "stream": "stdout",
       "text": [
        "30300 "
       ]
      },
      {
       "output_type": "stream",
       "stream": "stdout",
       "text": [
        "30400 "
       ]
      },
      {
       "output_type": "stream",
       "stream": "stdout",
       "text": [
        "30500 "
       ]
      },
      {
       "output_type": "stream",
       "stream": "stdout",
       "text": [
        "30600 "
       ]
      },
      {
       "output_type": "stream",
       "stream": "stdout",
       "text": [
        "30700 "
       ]
      },
      {
       "output_type": "stream",
       "stream": "stdout",
       "text": [
        "30800 "
       ]
      },
      {
       "output_type": "stream",
       "stream": "stdout",
       "text": [
        "30900 "
       ]
      },
      {
       "output_type": "stream",
       "stream": "stdout",
       "text": [
        "31000 "
       ]
      },
      {
       "output_type": "stream",
       "stream": "stdout",
       "text": [
        "31100 "
       ]
      },
      {
       "output_type": "stream",
       "stream": "stdout",
       "text": [
        "31200 "
       ]
      },
      {
       "output_type": "stream",
       "stream": "stdout",
       "text": [
        "31300 "
       ]
      },
      {
       "output_type": "stream",
       "stream": "stdout",
       "text": [
        "31400 "
       ]
      },
      {
       "output_type": "stream",
       "stream": "stdout",
       "text": [
        "31500 "
       ]
      },
      {
       "output_type": "stream",
       "stream": "stdout",
       "text": [
        "31600 "
       ]
      },
      {
       "output_type": "stream",
       "stream": "stdout",
       "text": [
        "31700 "
       ]
      },
      {
       "output_type": "stream",
       "stream": "stdout",
       "text": [
        "31800 "
       ]
      },
      {
       "output_type": "stream",
       "stream": "stdout",
       "text": [
        "31900 "
       ]
      },
      {
       "output_type": "stream",
       "stream": "stdout",
       "text": [
        "32000 "
       ]
      },
      {
       "output_type": "stream",
       "stream": "stdout",
       "text": [
        "32100 "
       ]
      },
      {
       "output_type": "stream",
       "stream": "stdout",
       "text": [
        "32200 "
       ]
      },
      {
       "output_type": "stream",
       "stream": "stdout",
       "text": [
        "32300 "
       ]
      },
      {
       "output_type": "stream",
       "stream": "stdout",
       "text": [
        "32400 "
       ]
      },
      {
       "output_type": "stream",
       "stream": "stdout",
       "text": [
        "32500 "
       ]
      },
      {
       "output_type": "stream",
       "stream": "stdout",
       "text": [
        "32600 "
       ]
      },
      {
       "output_type": "stream",
       "stream": "stdout",
       "text": [
        "32700 "
       ]
      },
      {
       "output_type": "stream",
       "stream": "stdout",
       "text": [
        "32800 "
       ]
      },
      {
       "output_type": "stream",
       "stream": "stdout",
       "text": [
        "32900 "
       ]
      },
      {
       "output_type": "stream",
       "stream": "stdout",
       "text": [
        "33000 "
       ]
      },
      {
       "output_type": "stream",
       "stream": "stdout",
       "text": [
        "33100 "
       ]
      },
      {
       "output_type": "stream",
       "stream": "stdout",
       "text": [
        "33200 "
       ]
      },
      {
       "output_type": "stream",
       "stream": "stdout",
       "text": [
        "33300 "
       ]
      },
      {
       "output_type": "stream",
       "stream": "stdout",
       "text": [
        "33400 "
       ]
      },
      {
       "output_type": "stream",
       "stream": "stdout",
       "text": [
        "33500 "
       ]
      },
      {
       "output_type": "stream",
       "stream": "stdout",
       "text": [
        "33600 "
       ]
      },
      {
       "output_type": "stream",
       "stream": "stdout",
       "text": [
        "33700 "
       ]
      },
      {
       "output_type": "stream",
       "stream": "stdout",
       "text": [
        "33800 "
       ]
      },
      {
       "output_type": "stream",
       "stream": "stdout",
       "text": [
        "33900 "
       ]
      },
      {
       "output_type": "stream",
       "stream": "stdout",
       "text": [
        "34000 "
       ]
      },
      {
       "output_type": "stream",
       "stream": "stdout",
       "text": [
        "34100 "
       ]
      },
      {
       "output_type": "stream",
       "stream": "stdout",
       "text": [
        "34200 "
       ]
      },
      {
       "output_type": "stream",
       "stream": "stdout",
       "text": [
        "34300 "
       ]
      },
      {
       "output_type": "stream",
       "stream": "stdout",
       "text": [
        "34400 "
       ]
      },
      {
       "output_type": "stream",
       "stream": "stdout",
       "text": [
        "34500 "
       ]
      },
      {
       "output_type": "stream",
       "stream": "stdout",
       "text": [
        "34600 "
       ]
      },
      {
       "output_type": "stream",
       "stream": "stdout",
       "text": [
        "34700 "
       ]
      },
      {
       "output_type": "stream",
       "stream": "stdout",
       "text": [
        "34800 "
       ]
      },
      {
       "output_type": "stream",
       "stream": "stdout",
       "text": [
        "34900 "
       ]
      },
      {
       "output_type": "stream",
       "stream": "stdout",
       "text": [
        "35000 "
       ]
      },
      {
       "output_type": "stream",
       "stream": "stdout",
       "text": [
        "35100 "
       ]
      },
      {
       "output_type": "stream",
       "stream": "stdout",
       "text": [
        "35200 "
       ]
      },
      {
       "output_type": "stream",
       "stream": "stdout",
       "text": [
        "35300 "
       ]
      },
      {
       "output_type": "stream",
       "stream": "stdout",
       "text": [
        "35400 "
       ]
      },
      {
       "output_type": "stream",
       "stream": "stdout",
       "text": [
        "35500 "
       ]
      },
      {
       "output_type": "stream",
       "stream": "stdout",
       "text": [
        "35600 "
       ]
      },
      {
       "output_type": "stream",
       "stream": "stdout",
       "text": [
        "35700 "
       ]
      },
      {
       "output_type": "stream",
       "stream": "stdout",
       "text": [
        "35800 "
       ]
      },
      {
       "output_type": "stream",
       "stream": "stdout",
       "text": [
        "35900 "
       ]
      },
      {
       "output_type": "stream",
       "stream": "stdout",
       "text": [
        "36000 "
       ]
      },
      {
       "output_type": "stream",
       "stream": "stdout",
       "text": [
        "36100 "
       ]
      },
      {
       "output_type": "stream",
       "stream": "stdout",
       "text": [
        "36200 "
       ]
      },
      {
       "output_type": "stream",
       "stream": "stdout",
       "text": [
        "36300 "
       ]
      },
      {
       "output_type": "stream",
       "stream": "stdout",
       "text": [
        "36400 "
       ]
      },
      {
       "output_type": "stream",
       "stream": "stdout",
       "text": [
        "36500 "
       ]
      },
      {
       "output_type": "stream",
       "stream": "stdout",
       "text": [
        "36600 "
       ]
      },
      {
       "output_type": "stream",
       "stream": "stdout",
       "text": [
        "36700 "
       ]
      },
      {
       "output_type": "stream",
       "stream": "stdout",
       "text": [
        "36800 "
       ]
      },
      {
       "output_type": "stream",
       "stream": "stdout",
       "text": [
        "36900 "
       ]
      },
      {
       "output_type": "stream",
       "stream": "stdout",
       "text": [
        "37000 "
       ]
      },
      {
       "output_type": "stream",
       "stream": "stdout",
       "text": [
        "37100 "
       ]
      },
      {
       "output_type": "stream",
       "stream": "stdout",
       "text": [
        "37200 "
       ]
      },
      {
       "output_type": "stream",
       "stream": "stdout",
       "text": [
        "37300 "
       ]
      },
      {
       "output_type": "stream",
       "stream": "stdout",
       "text": [
        "37400 "
       ]
      },
      {
       "output_type": "stream",
       "stream": "stdout",
       "text": [
        "37500 "
       ]
      },
      {
       "output_type": "stream",
       "stream": "stdout",
       "text": [
        "37600 "
       ]
      },
      {
       "output_type": "stream",
       "stream": "stdout",
       "text": [
        "37700 "
       ]
      },
      {
       "output_type": "stream",
       "stream": "stdout",
       "text": [
        "37800 "
       ]
      },
      {
       "output_type": "stream",
       "stream": "stdout",
       "text": [
        "37900 "
       ]
      },
      {
       "output_type": "stream",
       "stream": "stdout",
       "text": [
        "38000 "
       ]
      },
      {
       "output_type": "stream",
       "stream": "stdout",
       "text": [
        "38100 "
       ]
      },
      {
       "output_type": "stream",
       "stream": "stdout",
       "text": [
        "38200 "
       ]
      },
      {
       "output_type": "stream",
       "stream": "stdout",
       "text": [
        "38300 "
       ]
      },
      {
       "output_type": "stream",
       "stream": "stdout",
       "text": [
        "38400 "
       ]
      },
      {
       "output_type": "stream",
       "stream": "stdout",
       "text": [
        "38500 "
       ]
      },
      {
       "output_type": "stream",
       "stream": "stdout",
       "text": [
        "38600 "
       ]
      },
      {
       "output_type": "stream",
       "stream": "stdout",
       "text": [
        "38700 "
       ]
      },
      {
       "output_type": "stream",
       "stream": "stdout",
       "text": [
        "38800 "
       ]
      },
      {
       "output_type": "stream",
       "stream": "stdout",
       "text": [
        "38900 "
       ]
      },
      {
       "output_type": "stream",
       "stream": "stdout",
       "text": [
        "39000 "
       ]
      },
      {
       "output_type": "stream",
       "stream": "stdout",
       "text": [
        "39100 "
       ]
      },
      {
       "output_type": "stream",
       "stream": "stdout",
       "text": [
        "39200 "
       ]
      },
      {
       "output_type": "stream",
       "stream": "stdout",
       "text": [
        "39300 "
       ]
      },
      {
       "output_type": "stream",
       "stream": "stdout",
       "text": [
        "39400 "
       ]
      },
      {
       "output_type": "stream",
       "stream": "stdout",
       "text": [
        "39500 "
       ]
      },
      {
       "output_type": "stream",
       "stream": "stdout",
       "text": [
        "39600 "
       ]
      },
      {
       "output_type": "stream",
       "stream": "stdout",
       "text": [
        "39700 "
       ]
      },
      {
       "output_type": "stream",
       "stream": "stdout",
       "text": [
        "39800 "
       ]
      },
      {
       "output_type": "stream",
       "stream": "stdout",
       "text": [
        "39900 "
       ]
      },
      {
       "output_type": "stream",
       "stream": "stdout",
       "text": [
        "40000 "
       ]
      },
      {
       "output_type": "stream",
       "stream": "stdout",
       "text": [
        "40100 "
       ]
      },
      {
       "output_type": "stream",
       "stream": "stdout",
       "text": [
        "40200 "
       ]
      },
      {
       "output_type": "stream",
       "stream": "stdout",
       "text": [
        "40300 "
       ]
      },
      {
       "output_type": "stream",
       "stream": "stdout",
       "text": [
        "40400 "
       ]
      },
      {
       "output_type": "stream",
       "stream": "stdout",
       "text": [
        "40500 "
       ]
      },
      {
       "output_type": "stream",
       "stream": "stdout",
       "text": [
        "40600 "
       ]
      },
      {
       "output_type": "stream",
       "stream": "stdout",
       "text": [
        "40700 "
       ]
      },
      {
       "output_type": "stream",
       "stream": "stdout",
       "text": [
        "40800 "
       ]
      },
      {
       "output_type": "stream",
       "stream": "stdout",
       "text": [
        "40900 "
       ]
      },
      {
       "output_type": "stream",
       "stream": "stdout",
       "text": [
        "41000 "
       ]
      },
      {
       "output_type": "stream",
       "stream": "stdout",
       "text": [
        "41100 "
       ]
      },
      {
       "output_type": "stream",
       "stream": "stdout",
       "text": [
        "41200 "
       ]
      },
      {
       "output_type": "stream",
       "stream": "stdout",
       "text": [
        "41300 "
       ]
      },
      {
       "output_type": "stream",
       "stream": "stdout",
       "text": [
        "41400 "
       ]
      },
      {
       "output_type": "stream",
       "stream": "stdout",
       "text": [
        "41500 "
       ]
      },
      {
       "output_type": "stream",
       "stream": "stdout",
       "text": [
        "41600 "
       ]
      },
      {
       "output_type": "stream",
       "stream": "stdout",
       "text": [
        "41700 "
       ]
      },
      {
       "output_type": "stream",
       "stream": "stdout",
       "text": [
        "41800 "
       ]
      },
      {
       "output_type": "stream",
       "stream": "stdout",
       "text": [
        "41900 "
       ]
      },
      {
       "output_type": "stream",
       "stream": "stdout",
       "text": [
        "42000 "
       ]
      },
      {
       "output_type": "stream",
       "stream": "stdout",
       "text": [
        "42100 "
       ]
      },
      {
       "output_type": "stream",
       "stream": "stdout",
       "text": [
        "42200 "
       ]
      },
      {
       "output_type": "stream",
       "stream": "stdout",
       "text": [
        "42300 "
       ]
      },
      {
       "output_type": "stream",
       "stream": "stdout",
       "text": [
        "42400 "
       ]
      },
      {
       "output_type": "stream",
       "stream": "stdout",
       "text": [
        "42500 "
       ]
      },
      {
       "output_type": "stream",
       "stream": "stdout",
       "text": [
        "42600 "
       ]
      },
      {
       "output_type": "stream",
       "stream": "stdout",
       "text": [
        "42700 "
       ]
      },
      {
       "output_type": "stream",
       "stream": "stdout",
       "text": [
        "42800 "
       ]
      },
      {
       "output_type": "stream",
       "stream": "stdout",
       "text": [
        "42900 "
       ]
      },
      {
       "output_type": "stream",
       "stream": "stdout",
       "text": [
        "43000 "
       ]
      },
      {
       "output_type": "stream",
       "stream": "stdout",
       "text": [
        "43100 "
       ]
      },
      {
       "output_type": "stream",
       "stream": "stdout",
       "text": [
        "43200 "
       ]
      },
      {
       "output_type": "stream",
       "stream": "stdout",
       "text": [
        "43300 "
       ]
      },
      {
       "output_type": "stream",
       "stream": "stdout",
       "text": [
        "43400 "
       ]
      },
      {
       "output_type": "stream",
       "stream": "stdout",
       "text": [
        "43500 "
       ]
      },
      {
       "output_type": "stream",
       "stream": "stdout",
       "text": [
        "43600 "
       ]
      },
      {
       "output_type": "stream",
       "stream": "stdout",
       "text": [
        "43700 "
       ]
      },
      {
       "output_type": "stream",
       "stream": "stdout",
       "text": [
        "43800 "
       ]
      },
      {
       "output_type": "stream",
       "stream": "stdout",
       "text": [
        "43900 "
       ]
      },
      {
       "output_type": "stream",
       "stream": "stdout",
       "text": [
        "44000 "
       ]
      },
      {
       "output_type": "stream",
       "stream": "stdout",
       "text": [
        "44100 "
       ]
      },
      {
       "output_type": "stream",
       "stream": "stdout",
       "text": [
        "44200 "
       ]
      },
      {
       "output_type": "stream",
       "stream": "stdout",
       "text": [
        "44300 "
       ]
      },
      {
       "output_type": "stream",
       "stream": "stdout",
       "text": [
        "44400 "
       ]
      },
      {
       "output_type": "stream",
       "stream": "stdout",
       "text": [
        "44500 "
       ]
      },
      {
       "output_type": "stream",
       "stream": "stdout",
       "text": [
        "44600 "
       ]
      },
      {
       "output_type": "stream",
       "stream": "stdout",
       "text": [
        "44700 "
       ]
      },
      {
       "output_type": "stream",
       "stream": "stdout",
       "text": [
        "44800 "
       ]
      },
      {
       "output_type": "stream",
       "stream": "stdout",
       "text": [
        "44900 "
       ]
      },
      {
       "output_type": "stream",
       "stream": "stdout",
       "text": [
        "45000 "
       ]
      },
      {
       "output_type": "stream",
       "stream": "stdout",
       "text": [
        "45100 "
       ]
      },
      {
       "output_type": "stream",
       "stream": "stdout",
       "text": [
        "45200 "
       ]
      },
      {
       "output_type": "stream",
       "stream": "stdout",
       "text": [
        "45300 "
       ]
      },
      {
       "output_type": "stream",
       "stream": "stdout",
       "text": [
        "45400 "
       ]
      },
      {
       "output_type": "stream",
       "stream": "stdout",
       "text": [
        "45500 "
       ]
      },
      {
       "output_type": "stream",
       "stream": "stdout",
       "text": [
        "45600 "
       ]
      },
      {
       "output_type": "stream",
       "stream": "stdout",
       "text": [
        "45700 "
       ]
      },
      {
       "output_type": "stream",
       "stream": "stdout",
       "text": [
        "45800 "
       ]
      },
      {
       "output_type": "stream",
       "stream": "stdout",
       "text": [
        "45900 "
       ]
      },
      {
       "output_type": "stream",
       "stream": "stdout",
       "text": [
        "46000\n"
       ]
      }
     ],
     "prompt_number": 109
    },
    {
     "cell_type": "code",
     "collapsed": false,
     "input": [
      "n = 31\n",
      "res = []\n",
      "k = 0\n",
      "for i in range(len(train)):\n",
      "    res.append(MeanNDayFromThis(n, train, train.City[i], train.Year[i], train.Month[i], train.Day[i]))\n",
      "    if ( (k % 100) == 0):\n",
      "        print k,\n",
      "    k += 1\n",
      "train[\"MeanNext31Day\"] = pd.Series(res)"
     ],
     "language": "python",
     "metadata": {},
     "outputs": [
      {
       "output_type": "stream",
       "stream": "stdout",
       "text": [
        "0 "
       ]
      },
      {
       "output_type": "stream",
       "stream": "stdout",
       "text": [
        "100 "
       ]
      },
      {
       "output_type": "stream",
       "stream": "stdout",
       "text": [
        "200 "
       ]
      },
      {
       "output_type": "stream",
       "stream": "stdout",
       "text": [
        "300 "
       ]
      },
      {
       "output_type": "stream",
       "stream": "stdout",
       "text": [
        "400 "
       ]
      },
      {
       "output_type": "stream",
       "stream": "stdout",
       "text": [
        "500 "
       ]
      },
      {
       "output_type": "stream",
       "stream": "stdout",
       "text": [
        "600 "
       ]
      },
      {
       "output_type": "stream",
       "stream": "stdout",
       "text": [
        "700 "
       ]
      },
      {
       "output_type": "stream",
       "stream": "stdout",
       "text": [
        "800 "
       ]
      },
      {
       "output_type": "stream",
       "stream": "stdout",
       "text": [
        "900 "
       ]
      },
      {
       "output_type": "stream",
       "stream": "stdout",
       "text": [
        "1000 "
       ]
      },
      {
       "output_type": "stream",
       "stream": "stdout",
       "text": [
        "1100 "
       ]
      },
      {
       "output_type": "stream",
       "stream": "stdout",
       "text": [
        "1200 "
       ]
      },
      {
       "output_type": "stream",
       "stream": "stdout",
       "text": [
        "1300 "
       ]
      },
      {
       "output_type": "stream",
       "stream": "stdout",
       "text": [
        "1400 "
       ]
      },
      {
       "output_type": "stream",
       "stream": "stdout",
       "text": [
        "1500 "
       ]
      },
      {
       "output_type": "stream",
       "stream": "stdout",
       "text": [
        "1600 "
       ]
      },
      {
       "output_type": "stream",
       "stream": "stdout",
       "text": [
        "1700 "
       ]
      },
      {
       "output_type": "stream",
       "stream": "stdout",
       "text": [
        "1800 "
       ]
      },
      {
       "output_type": "stream",
       "stream": "stdout",
       "text": [
        "1900 "
       ]
      },
      {
       "output_type": "stream",
       "stream": "stdout",
       "text": [
        "2000 "
       ]
      },
      {
       "output_type": "stream",
       "stream": "stdout",
       "text": [
        "2100 "
       ]
      },
      {
       "output_type": "stream",
       "stream": "stdout",
       "text": [
        "2200 "
       ]
      },
      {
       "output_type": "stream",
       "stream": "stdout",
       "text": [
        "2300 "
       ]
      },
      {
       "output_type": "stream",
       "stream": "stdout",
       "text": [
        "2400 "
       ]
      },
      {
       "output_type": "stream",
       "stream": "stdout",
       "text": [
        "2500 "
       ]
      },
      {
       "output_type": "stream",
       "stream": "stdout",
       "text": [
        "2600 "
       ]
      },
      {
       "output_type": "stream",
       "stream": "stdout",
       "text": [
        "2700 "
       ]
      },
      {
       "output_type": "stream",
       "stream": "stdout",
       "text": [
        "2800 "
       ]
      },
      {
       "output_type": "stream",
       "stream": "stdout",
       "text": [
        "2900 "
       ]
      },
      {
       "output_type": "stream",
       "stream": "stdout",
       "text": [
        "3000 "
       ]
      },
      {
       "output_type": "stream",
       "stream": "stdout",
       "text": [
        "3100 "
       ]
      },
      {
       "output_type": "stream",
       "stream": "stdout",
       "text": [
        "3200 "
       ]
      },
      {
       "output_type": "stream",
       "stream": "stdout",
       "text": [
        "3300 "
       ]
      },
      {
       "output_type": "stream",
       "stream": "stdout",
       "text": [
        "3400 "
       ]
      },
      {
       "output_type": "stream",
       "stream": "stdout",
       "text": [
        "3500 "
       ]
      },
      {
       "output_type": "stream",
       "stream": "stdout",
       "text": [
        "3600 "
       ]
      },
      {
       "output_type": "stream",
       "stream": "stdout",
       "text": [
        "3700 "
       ]
      },
      {
       "output_type": "stream",
       "stream": "stdout",
       "text": [
        "3800 "
       ]
      },
      {
       "output_type": "stream",
       "stream": "stdout",
       "text": [
        "3900 "
       ]
      },
      {
       "output_type": "stream",
       "stream": "stdout",
       "text": [
        "4000 "
       ]
      },
      {
       "output_type": "stream",
       "stream": "stdout",
       "text": [
        "4100 "
       ]
      },
      {
       "output_type": "stream",
       "stream": "stdout",
       "text": [
        "4200 "
       ]
      },
      {
       "output_type": "stream",
       "stream": "stdout",
       "text": [
        "4300 "
       ]
      },
      {
       "output_type": "stream",
       "stream": "stdout",
       "text": [
        "4400 "
       ]
      },
      {
       "output_type": "stream",
       "stream": "stdout",
       "text": [
        "4500 "
       ]
      },
      {
       "output_type": "stream",
       "stream": "stdout",
       "text": [
        "4600 "
       ]
      },
      {
       "output_type": "stream",
       "stream": "stdout",
       "text": [
        "4700 "
       ]
      },
      {
       "output_type": "stream",
       "stream": "stdout",
       "text": [
        "4800 "
       ]
      },
      {
       "output_type": "stream",
       "stream": "stdout",
       "text": [
        "4900 "
       ]
      },
      {
       "output_type": "stream",
       "stream": "stdout",
       "text": [
        "5000 "
       ]
      },
      {
       "output_type": "stream",
       "stream": "stdout",
       "text": [
        "5100 "
       ]
      },
      {
       "output_type": "stream",
       "stream": "stdout",
       "text": [
        "5200 "
       ]
      },
      {
       "output_type": "stream",
       "stream": "stdout",
       "text": [
        "5300 "
       ]
      },
      {
       "output_type": "stream",
       "stream": "stdout",
       "text": [
        "5400 "
       ]
      },
      {
       "output_type": "stream",
       "stream": "stdout",
       "text": [
        "5500 "
       ]
      },
      {
       "output_type": "stream",
       "stream": "stdout",
       "text": [
        "5600 "
       ]
      },
      {
       "output_type": "stream",
       "stream": "stdout",
       "text": [
        "5700 "
       ]
      },
      {
       "output_type": "stream",
       "stream": "stdout",
       "text": [
        "5800 "
       ]
      },
      {
       "output_type": "stream",
       "stream": "stdout",
       "text": [
        "5900 "
       ]
      },
      {
       "output_type": "stream",
       "stream": "stdout",
       "text": [
        "6000 "
       ]
      },
      {
       "output_type": "stream",
       "stream": "stdout",
       "text": [
        "6100 "
       ]
      },
      {
       "output_type": "stream",
       "stream": "stdout",
       "text": [
        "6200 "
       ]
      },
      {
       "output_type": "stream",
       "stream": "stdout",
       "text": [
        "6300 "
       ]
      },
      {
       "output_type": "stream",
       "stream": "stdout",
       "text": [
        "6400 "
       ]
      },
      {
       "output_type": "stream",
       "stream": "stdout",
       "text": [
        "6500 "
       ]
      },
      {
       "output_type": "stream",
       "stream": "stdout",
       "text": [
        "6600 "
       ]
      },
      {
       "output_type": "stream",
       "stream": "stdout",
       "text": [
        "6700 "
       ]
      },
      {
       "output_type": "stream",
       "stream": "stdout",
       "text": [
        "6800 "
       ]
      },
      {
       "output_type": "stream",
       "stream": "stdout",
       "text": [
        "6900 "
       ]
      },
      {
       "output_type": "stream",
       "stream": "stdout",
       "text": [
        "7000 "
       ]
      },
      {
       "output_type": "stream",
       "stream": "stdout",
       "text": [
        "7100 "
       ]
      },
      {
       "output_type": "stream",
       "stream": "stdout",
       "text": [
        "7200 "
       ]
      },
      {
       "output_type": "stream",
       "stream": "stdout",
       "text": [
        "7300 "
       ]
      },
      {
       "output_type": "stream",
       "stream": "stdout",
       "text": [
        "7400 "
       ]
      },
      {
       "output_type": "stream",
       "stream": "stdout",
       "text": [
        "7500 "
       ]
      },
      {
       "output_type": "stream",
       "stream": "stdout",
       "text": [
        "7600 "
       ]
      },
      {
       "output_type": "stream",
       "stream": "stdout",
       "text": [
        "7700 "
       ]
      },
      {
       "output_type": "stream",
       "stream": "stdout",
       "text": [
        "7800 "
       ]
      },
      {
       "output_type": "stream",
       "stream": "stdout",
       "text": [
        "7900 "
       ]
      },
      {
       "output_type": "stream",
       "stream": "stdout",
       "text": [
        "8000 "
       ]
      },
      {
       "output_type": "stream",
       "stream": "stdout",
       "text": [
        "8100 "
       ]
      },
      {
       "output_type": "stream",
       "stream": "stdout",
       "text": [
        "8200 "
       ]
      },
      {
       "output_type": "stream",
       "stream": "stdout",
       "text": [
        "8300 "
       ]
      },
      {
       "output_type": "stream",
       "stream": "stdout",
       "text": [
        "8400 "
       ]
      },
      {
       "output_type": "stream",
       "stream": "stdout",
       "text": [
        "8500 "
       ]
      },
      {
       "output_type": "stream",
       "stream": "stdout",
       "text": [
        "8600 "
       ]
      },
      {
       "output_type": "stream",
       "stream": "stdout",
       "text": [
        "8700 "
       ]
      },
      {
       "output_type": "stream",
       "stream": "stdout",
       "text": [
        "8800 "
       ]
      },
      {
       "output_type": "stream",
       "stream": "stdout",
       "text": [
        "8900 "
       ]
      },
      {
       "output_type": "stream",
       "stream": "stdout",
       "text": [
        "9000 "
       ]
      },
      {
       "output_type": "stream",
       "stream": "stdout",
       "text": [
        "9100 "
       ]
      },
      {
       "output_type": "stream",
       "stream": "stdout",
       "text": [
        "9200 "
       ]
      },
      {
       "output_type": "stream",
       "stream": "stdout",
       "text": [
        "9300 "
       ]
      },
      {
       "output_type": "stream",
       "stream": "stdout",
       "text": [
        "9400 "
       ]
      },
      {
       "output_type": "stream",
       "stream": "stdout",
       "text": [
        "9500 "
       ]
      },
      {
       "output_type": "stream",
       "stream": "stdout",
       "text": [
        "9600 "
       ]
      },
      {
       "output_type": "stream",
       "stream": "stdout",
       "text": [
        "9700 "
       ]
      },
      {
       "output_type": "stream",
       "stream": "stdout",
       "text": [
        "9800 "
       ]
      },
      {
       "output_type": "stream",
       "stream": "stdout",
       "text": [
        "9900 "
       ]
      },
      {
       "output_type": "stream",
       "stream": "stdout",
       "text": [
        "10000 "
       ]
      },
      {
       "output_type": "stream",
       "stream": "stdout",
       "text": [
        "10100 "
       ]
      },
      {
       "output_type": "stream",
       "stream": "stdout",
       "text": [
        "10200 "
       ]
      },
      {
       "output_type": "stream",
       "stream": "stdout",
       "text": [
        "10300 "
       ]
      },
      {
       "output_type": "stream",
       "stream": "stdout",
       "text": [
        "10400 "
       ]
      },
      {
       "output_type": "stream",
       "stream": "stdout",
       "text": [
        "10500 "
       ]
      },
      {
       "output_type": "stream",
       "stream": "stdout",
       "text": [
        "10600 "
       ]
      },
      {
       "output_type": "stream",
       "stream": "stdout",
       "text": [
        "10700 "
       ]
      },
      {
       "output_type": "stream",
       "stream": "stdout",
       "text": [
        "10800 "
       ]
      },
      {
       "output_type": "stream",
       "stream": "stdout",
       "text": [
        "10900 "
       ]
      },
      {
       "output_type": "stream",
       "stream": "stdout",
       "text": [
        "11000 "
       ]
      },
      {
       "output_type": "stream",
       "stream": "stdout",
       "text": [
        "11100 "
       ]
      },
      {
       "output_type": "stream",
       "stream": "stdout",
       "text": [
        "11200 "
       ]
      },
      {
       "output_type": "stream",
       "stream": "stdout",
       "text": [
        "11300 "
       ]
      },
      {
       "output_type": "stream",
       "stream": "stdout",
       "text": [
        "11400 "
       ]
      },
      {
       "output_type": "stream",
       "stream": "stdout",
       "text": [
        "11500 "
       ]
      },
      {
       "output_type": "stream",
       "stream": "stdout",
       "text": [
        "11600 "
       ]
      },
      {
       "output_type": "stream",
       "stream": "stdout",
       "text": [
        "11700 "
       ]
      },
      {
       "output_type": "stream",
       "stream": "stdout",
       "text": [
        "11800 "
       ]
      },
      {
       "output_type": "stream",
       "stream": "stdout",
       "text": [
        "11900 "
       ]
      },
      {
       "output_type": "stream",
       "stream": "stdout",
       "text": [
        "12000 "
       ]
      },
      {
       "output_type": "stream",
       "stream": "stdout",
       "text": [
        "12100 "
       ]
      },
      {
       "output_type": "stream",
       "stream": "stdout",
       "text": [
        "12200 "
       ]
      },
      {
       "output_type": "stream",
       "stream": "stdout",
       "text": [
        "12300 "
       ]
      },
      {
       "output_type": "stream",
       "stream": "stdout",
       "text": [
        "12400 "
       ]
      },
      {
       "output_type": "stream",
       "stream": "stdout",
       "text": [
        "12500 "
       ]
      },
      {
       "output_type": "stream",
       "stream": "stdout",
       "text": [
        "12600 "
       ]
      },
      {
       "output_type": "stream",
       "stream": "stdout",
       "text": [
        "12700 "
       ]
      },
      {
       "output_type": "stream",
       "stream": "stdout",
       "text": [
        "12800 "
       ]
      },
      {
       "output_type": "stream",
       "stream": "stdout",
       "text": [
        "12900 "
       ]
      },
      {
       "output_type": "stream",
       "stream": "stdout",
       "text": [
        "13000 "
       ]
      },
      {
       "output_type": "stream",
       "stream": "stdout",
       "text": [
        "13100 "
       ]
      },
      {
       "output_type": "stream",
       "stream": "stdout",
       "text": [
        "13200 "
       ]
      },
      {
       "output_type": "stream",
       "stream": "stdout",
       "text": [
        "13300 "
       ]
      },
      {
       "output_type": "stream",
       "stream": "stdout",
       "text": [
        "13400 "
       ]
      },
      {
       "output_type": "stream",
       "stream": "stdout",
       "text": [
        "13500 "
       ]
      },
      {
       "output_type": "stream",
       "stream": "stdout",
       "text": [
        "13600 "
       ]
      },
      {
       "output_type": "stream",
       "stream": "stdout",
       "text": [
        "13700 "
       ]
      },
      {
       "output_type": "stream",
       "stream": "stdout",
       "text": [
        "13800 "
       ]
      },
      {
       "output_type": "stream",
       "stream": "stdout",
       "text": [
        "13900 "
       ]
      },
      {
       "output_type": "stream",
       "stream": "stdout",
       "text": [
        "14000 "
       ]
      },
      {
       "output_type": "stream",
       "stream": "stdout",
       "text": [
        "14100 "
       ]
      },
      {
       "output_type": "stream",
       "stream": "stdout",
       "text": [
        "14200 "
       ]
      },
      {
       "output_type": "stream",
       "stream": "stdout",
       "text": [
        "14300 "
       ]
      },
      {
       "output_type": "stream",
       "stream": "stdout",
       "text": [
        "14400 "
       ]
      },
      {
       "output_type": "stream",
       "stream": "stdout",
       "text": [
        "14500 "
       ]
      },
      {
       "output_type": "stream",
       "stream": "stdout",
       "text": [
        "14600 "
       ]
      },
      {
       "output_type": "stream",
       "stream": "stdout",
       "text": [
        "14700 "
       ]
      },
      {
       "output_type": "stream",
       "stream": "stdout",
       "text": [
        "14800 "
       ]
      },
      {
       "output_type": "stream",
       "stream": "stdout",
       "text": [
        "14900 "
       ]
      },
      {
       "output_type": "stream",
       "stream": "stdout",
       "text": [
        "15000 "
       ]
      },
      {
       "output_type": "stream",
       "stream": "stdout",
       "text": [
        "15100 "
       ]
      },
      {
       "output_type": "stream",
       "stream": "stdout",
       "text": [
        "15200 "
       ]
      },
      {
       "output_type": "stream",
       "stream": "stdout",
       "text": [
        "15300 "
       ]
      },
      {
       "output_type": "stream",
       "stream": "stdout",
       "text": [
        "15400 "
       ]
      },
      {
       "output_type": "stream",
       "stream": "stdout",
       "text": [
        "15500 "
       ]
      },
      {
       "output_type": "stream",
       "stream": "stdout",
       "text": [
        "15600 "
       ]
      },
      {
       "output_type": "stream",
       "stream": "stdout",
       "text": [
        "15700 "
       ]
      },
      {
       "output_type": "stream",
       "stream": "stdout",
       "text": [
        "15800 "
       ]
      },
      {
       "output_type": "stream",
       "stream": "stdout",
       "text": [
        "15900 "
       ]
      },
      {
       "output_type": "stream",
       "stream": "stdout",
       "text": [
        "16000 "
       ]
      },
      {
       "output_type": "stream",
       "stream": "stdout",
       "text": [
        "16100 "
       ]
      },
      {
       "output_type": "stream",
       "stream": "stdout",
       "text": [
        "16200 "
       ]
      },
      {
       "output_type": "stream",
       "stream": "stdout",
       "text": [
        "16300 "
       ]
      },
      {
       "output_type": "stream",
       "stream": "stdout",
       "text": [
        "16400 "
       ]
      },
      {
       "output_type": "stream",
       "stream": "stdout",
       "text": [
        "16500 "
       ]
      },
      {
       "output_type": "stream",
       "stream": "stdout",
       "text": [
        "16600 "
       ]
      },
      {
       "output_type": "stream",
       "stream": "stdout",
       "text": [
        "16700 "
       ]
      },
      {
       "output_type": "stream",
       "stream": "stdout",
       "text": [
        "16800 "
       ]
      },
      {
       "output_type": "stream",
       "stream": "stdout",
       "text": [
        "16900 "
       ]
      },
      {
       "output_type": "stream",
       "stream": "stdout",
       "text": [
        "17000 "
       ]
      },
      {
       "output_type": "stream",
       "stream": "stdout",
       "text": [
        "17100 "
       ]
      },
      {
       "output_type": "stream",
       "stream": "stdout",
       "text": [
        "17200 "
       ]
      },
      {
       "output_type": "stream",
       "stream": "stdout",
       "text": [
        "17300 "
       ]
      },
      {
       "output_type": "stream",
       "stream": "stdout",
       "text": [
        "17400 "
       ]
      },
      {
       "output_type": "stream",
       "stream": "stdout",
       "text": [
        "17500 "
       ]
      },
      {
       "output_type": "stream",
       "stream": "stdout",
       "text": [
        "17600 "
       ]
      },
      {
       "output_type": "stream",
       "stream": "stdout",
       "text": [
        "17700 "
       ]
      },
      {
       "output_type": "stream",
       "stream": "stdout",
       "text": [
        "17800 "
       ]
      },
      {
       "output_type": "stream",
       "stream": "stdout",
       "text": [
        "17900 "
       ]
      },
      {
       "output_type": "stream",
       "stream": "stdout",
       "text": [
        "18000 "
       ]
      },
      {
       "output_type": "stream",
       "stream": "stdout",
       "text": [
        "18100 "
       ]
      },
      {
       "output_type": "stream",
       "stream": "stdout",
       "text": [
        "18200 "
       ]
      },
      {
       "output_type": "stream",
       "stream": "stdout",
       "text": [
        "18300 "
       ]
      },
      {
       "output_type": "stream",
       "stream": "stdout",
       "text": [
        "18400 "
       ]
      },
      {
       "output_type": "stream",
       "stream": "stdout",
       "text": [
        "18500 "
       ]
      },
      {
       "output_type": "stream",
       "stream": "stdout",
       "text": [
        "18600 "
       ]
      },
      {
       "output_type": "stream",
       "stream": "stdout",
       "text": [
        "18700 "
       ]
      },
      {
       "output_type": "stream",
       "stream": "stdout",
       "text": [
        "18800 "
       ]
      },
      {
       "output_type": "stream",
       "stream": "stdout",
       "text": [
        "18900 "
       ]
      },
      {
       "output_type": "stream",
       "stream": "stdout",
       "text": [
        "19000 "
       ]
      },
      {
       "output_type": "stream",
       "stream": "stdout",
       "text": [
        "19100 "
       ]
      },
      {
       "output_type": "stream",
       "stream": "stdout",
       "text": [
        "19200 "
       ]
      },
      {
       "output_type": "stream",
       "stream": "stdout",
       "text": [
        "19300 "
       ]
      },
      {
       "output_type": "stream",
       "stream": "stdout",
       "text": [
        "19400 "
       ]
      },
      {
       "output_type": "stream",
       "stream": "stdout",
       "text": [
        "19500 "
       ]
      },
      {
       "output_type": "stream",
       "stream": "stdout",
       "text": [
        "19600 "
       ]
      },
      {
       "output_type": "stream",
       "stream": "stdout",
       "text": [
        "19700 "
       ]
      },
      {
       "output_type": "stream",
       "stream": "stdout",
       "text": [
        "19800 "
       ]
      },
      {
       "output_type": "stream",
       "stream": "stdout",
       "text": [
        "19900 "
       ]
      },
      {
       "output_type": "stream",
       "stream": "stdout",
       "text": [
        "20000 "
       ]
      },
      {
       "output_type": "stream",
       "stream": "stdout",
       "text": [
        "20100 "
       ]
      },
      {
       "output_type": "stream",
       "stream": "stdout",
       "text": [
        "20200 "
       ]
      },
      {
       "output_type": "stream",
       "stream": "stdout",
       "text": [
        "20300 "
       ]
      },
      {
       "output_type": "stream",
       "stream": "stdout",
       "text": [
        "20400 "
       ]
      },
      {
       "output_type": "stream",
       "stream": "stdout",
       "text": [
        "20500 "
       ]
      },
      {
       "output_type": "stream",
       "stream": "stdout",
       "text": [
        "20600 "
       ]
      },
      {
       "output_type": "stream",
       "stream": "stdout",
       "text": [
        "20700 "
       ]
      },
      {
       "output_type": "stream",
       "stream": "stdout",
       "text": [
        "20800 "
       ]
      },
      {
       "output_type": "stream",
       "stream": "stdout",
       "text": [
        "20900 "
       ]
      },
      {
       "output_type": "stream",
       "stream": "stdout",
       "text": [
        "21000 "
       ]
      },
      {
       "output_type": "stream",
       "stream": "stdout",
       "text": [
        "21100 "
       ]
      },
      {
       "output_type": "stream",
       "stream": "stdout",
       "text": [
        "21200 "
       ]
      },
      {
       "output_type": "stream",
       "stream": "stdout",
       "text": [
        "21300 "
       ]
      },
      {
       "output_type": "stream",
       "stream": "stdout",
       "text": [
        "21400 "
       ]
      },
      {
       "output_type": "stream",
       "stream": "stdout",
       "text": [
        "21500 "
       ]
      },
      {
       "output_type": "stream",
       "stream": "stdout",
       "text": [
        "21600 "
       ]
      },
      {
       "output_type": "stream",
       "stream": "stdout",
       "text": [
        "21700 "
       ]
      },
      {
       "output_type": "stream",
       "stream": "stdout",
       "text": [
        "21800 "
       ]
      },
      {
       "output_type": "stream",
       "stream": "stdout",
       "text": [
        "21900 "
       ]
      },
      {
       "output_type": "stream",
       "stream": "stdout",
       "text": [
        "22000 "
       ]
      },
      {
       "output_type": "stream",
       "stream": "stdout",
       "text": [
        "22100 "
       ]
      },
      {
       "output_type": "stream",
       "stream": "stdout",
       "text": [
        "22200 "
       ]
      },
      {
       "output_type": "stream",
       "stream": "stdout",
       "text": [
        "22300 "
       ]
      },
      {
       "output_type": "stream",
       "stream": "stdout",
       "text": [
        "22400 "
       ]
      },
      {
       "output_type": "stream",
       "stream": "stdout",
       "text": [
        "22500 "
       ]
      },
      {
       "output_type": "stream",
       "stream": "stdout",
       "text": [
        "22600 "
       ]
      },
      {
       "output_type": "stream",
       "stream": "stdout",
       "text": [
        "22700 "
       ]
      },
      {
       "output_type": "stream",
       "stream": "stdout",
       "text": [
        "22800 "
       ]
      },
      {
       "output_type": "stream",
       "stream": "stdout",
       "text": [
        "22900 "
       ]
      },
      {
       "output_type": "stream",
       "stream": "stdout",
       "text": [
        "23000 "
       ]
      },
      {
       "output_type": "stream",
       "stream": "stdout",
       "text": [
        "23100 "
       ]
      },
      {
       "output_type": "stream",
       "stream": "stdout",
       "text": [
        "23200 "
       ]
      },
      {
       "output_type": "stream",
       "stream": "stdout",
       "text": [
        "23300 "
       ]
      },
      {
       "output_type": "stream",
       "stream": "stdout",
       "text": [
        "23400 "
       ]
      },
      {
       "output_type": "stream",
       "stream": "stdout",
       "text": [
        "23500 "
       ]
      },
      {
       "output_type": "stream",
       "stream": "stdout",
       "text": [
        "23600 "
       ]
      },
      {
       "output_type": "stream",
       "stream": "stdout",
       "text": [
        "23700 "
       ]
      },
      {
       "output_type": "stream",
       "stream": "stdout",
       "text": [
        "23800 "
       ]
      },
      {
       "output_type": "stream",
       "stream": "stdout",
       "text": [
        "23900 "
       ]
      },
      {
       "output_type": "stream",
       "stream": "stdout",
       "text": [
        "24000 "
       ]
      },
      {
       "output_type": "stream",
       "stream": "stdout",
       "text": [
        "24100 "
       ]
      },
      {
       "output_type": "stream",
       "stream": "stdout",
       "text": [
        "24200 "
       ]
      },
      {
       "output_type": "stream",
       "stream": "stdout",
       "text": [
        "24300 "
       ]
      },
      {
       "output_type": "stream",
       "stream": "stdout",
       "text": [
        "24400 "
       ]
      },
      {
       "output_type": "stream",
       "stream": "stdout",
       "text": [
        "24500 "
       ]
      },
      {
       "output_type": "stream",
       "stream": "stdout",
       "text": [
        "24600 "
       ]
      },
      {
       "output_type": "stream",
       "stream": "stdout",
       "text": [
        "24700 "
       ]
      },
      {
       "output_type": "stream",
       "stream": "stdout",
       "text": [
        "24800 "
       ]
      },
      {
       "output_type": "stream",
       "stream": "stdout",
       "text": [
        "24900 "
       ]
      },
      {
       "output_type": "stream",
       "stream": "stdout",
       "text": [
        "25000 "
       ]
      },
      {
       "output_type": "stream",
       "stream": "stdout",
       "text": [
        "25100 "
       ]
      },
      {
       "output_type": "stream",
       "stream": "stdout",
       "text": [
        "25200 "
       ]
      },
      {
       "output_type": "stream",
       "stream": "stdout",
       "text": [
        "25300 "
       ]
      },
      {
       "output_type": "stream",
       "stream": "stdout",
       "text": [
        "25400 "
       ]
      },
      {
       "output_type": "stream",
       "stream": "stdout",
       "text": [
        "25500 "
       ]
      },
      {
       "output_type": "stream",
       "stream": "stdout",
       "text": [
        "25600 "
       ]
      },
      {
       "output_type": "stream",
       "stream": "stdout",
       "text": [
        "25700 "
       ]
      },
      {
       "output_type": "stream",
       "stream": "stdout",
       "text": [
        "25800 "
       ]
      },
      {
       "output_type": "stream",
       "stream": "stdout",
       "text": [
        "25900 "
       ]
      },
      {
       "output_type": "stream",
       "stream": "stdout",
       "text": [
        "26000 "
       ]
      },
      {
       "output_type": "stream",
       "stream": "stdout",
       "text": [
        "26100 "
       ]
      },
      {
       "output_type": "stream",
       "stream": "stdout",
       "text": [
        "26200 "
       ]
      },
      {
       "output_type": "stream",
       "stream": "stdout",
       "text": [
        "26300 "
       ]
      },
      {
       "output_type": "stream",
       "stream": "stdout",
       "text": [
        "26400 "
       ]
      },
      {
       "output_type": "stream",
       "stream": "stdout",
       "text": [
        "26500 "
       ]
      },
      {
       "output_type": "stream",
       "stream": "stdout",
       "text": [
        "26600 "
       ]
      },
      {
       "output_type": "stream",
       "stream": "stdout",
       "text": [
        "26700 "
       ]
      },
      {
       "output_type": "stream",
       "stream": "stdout",
       "text": [
        "26800 "
       ]
      },
      {
       "output_type": "stream",
       "stream": "stdout",
       "text": [
        "26900 "
       ]
      },
      {
       "output_type": "stream",
       "stream": "stdout",
       "text": [
        "27000 "
       ]
      },
      {
       "output_type": "stream",
       "stream": "stdout",
       "text": [
        "27100 "
       ]
      },
      {
       "output_type": "stream",
       "stream": "stdout",
       "text": [
        "27200 "
       ]
      },
      {
       "output_type": "stream",
       "stream": "stdout",
       "text": [
        "27300 "
       ]
      },
      {
       "output_type": "stream",
       "stream": "stdout",
       "text": [
        "27400 "
       ]
      },
      {
       "output_type": "stream",
       "stream": "stdout",
       "text": [
        "27500 "
       ]
      },
      {
       "output_type": "stream",
       "stream": "stdout",
       "text": [
        "27600 "
       ]
      },
      {
       "output_type": "stream",
       "stream": "stdout",
       "text": [
        "27700 "
       ]
      },
      {
       "output_type": "stream",
       "stream": "stdout",
       "text": [
        "27800 "
       ]
      },
      {
       "output_type": "stream",
       "stream": "stdout",
       "text": [
        "27900 "
       ]
      },
      {
       "output_type": "stream",
       "stream": "stdout",
       "text": [
        "28000 "
       ]
      },
      {
       "output_type": "stream",
       "stream": "stdout",
       "text": [
        "28100 "
       ]
      },
      {
       "output_type": "stream",
       "stream": "stdout",
       "text": [
        "28200 "
       ]
      },
      {
       "output_type": "stream",
       "stream": "stdout",
       "text": [
        "28300 "
       ]
      },
      {
       "output_type": "stream",
       "stream": "stdout",
       "text": [
        "28400 "
       ]
      },
      {
       "output_type": "stream",
       "stream": "stdout",
       "text": [
        "28500 "
       ]
      },
      {
       "output_type": "stream",
       "stream": "stdout",
       "text": [
        "28600 "
       ]
      },
      {
       "output_type": "stream",
       "stream": "stdout",
       "text": [
        "28700 "
       ]
      },
      {
       "output_type": "stream",
       "stream": "stdout",
       "text": [
        "28800 "
       ]
      },
      {
       "output_type": "stream",
       "stream": "stdout",
       "text": [
        "28900 "
       ]
      },
      {
       "output_type": "stream",
       "stream": "stdout",
       "text": [
        "29000 "
       ]
      },
      {
       "output_type": "stream",
       "stream": "stdout",
       "text": [
        "29100 "
       ]
      },
      {
       "output_type": "stream",
       "stream": "stdout",
       "text": [
        "29200 "
       ]
      },
      {
       "output_type": "stream",
       "stream": "stdout",
       "text": [
        "29300 "
       ]
      },
      {
       "output_type": "stream",
       "stream": "stdout",
       "text": [
        "29400 "
       ]
      },
      {
       "output_type": "stream",
       "stream": "stdout",
       "text": [
        "29500 "
       ]
      },
      {
       "output_type": "stream",
       "stream": "stdout",
       "text": [
        "29600 "
       ]
      },
      {
       "output_type": "stream",
       "stream": "stdout",
       "text": [
        "29700 "
       ]
      },
      {
       "output_type": "stream",
       "stream": "stdout",
       "text": [
        "29800 "
       ]
      },
      {
       "output_type": "stream",
       "stream": "stdout",
       "text": [
        "29900 "
       ]
      },
      {
       "output_type": "stream",
       "stream": "stdout",
       "text": [
        "30000 "
       ]
      },
      {
       "output_type": "stream",
       "stream": "stdout",
       "text": [
        "30100 "
       ]
      },
      {
       "output_type": "stream",
       "stream": "stdout",
       "text": [
        "30200 "
       ]
      },
      {
       "output_type": "stream",
       "stream": "stdout",
       "text": [
        "30300 "
       ]
      },
      {
       "output_type": "stream",
       "stream": "stdout",
       "text": [
        "30400 "
       ]
      },
      {
       "output_type": "stream",
       "stream": "stdout",
       "text": [
        "30500 "
       ]
      },
      {
       "output_type": "stream",
       "stream": "stdout",
       "text": [
        "30600 "
       ]
      },
      {
       "output_type": "stream",
       "stream": "stdout",
       "text": [
        "30700 "
       ]
      },
      {
       "output_type": "stream",
       "stream": "stdout",
       "text": [
        "30800 "
       ]
      },
      {
       "output_type": "stream",
       "stream": "stdout",
       "text": [
        "30900 "
       ]
      },
      {
       "output_type": "stream",
       "stream": "stdout",
       "text": [
        "31000 "
       ]
      },
      {
       "output_type": "stream",
       "stream": "stdout",
       "text": [
        "31100 "
       ]
      },
      {
       "output_type": "stream",
       "stream": "stdout",
       "text": [
        "31200 "
       ]
      },
      {
       "output_type": "stream",
       "stream": "stdout",
       "text": [
        "31300 "
       ]
      },
      {
       "output_type": "stream",
       "stream": "stdout",
       "text": [
        "31400 "
       ]
      },
      {
       "output_type": "stream",
       "stream": "stdout",
       "text": [
        "31500 "
       ]
      },
      {
       "output_type": "stream",
       "stream": "stdout",
       "text": [
        "31600 "
       ]
      },
      {
       "output_type": "stream",
       "stream": "stdout",
       "text": [
        "31700 "
       ]
      },
      {
       "output_type": "stream",
       "stream": "stdout",
       "text": [
        "31800 "
       ]
      },
      {
       "output_type": "stream",
       "stream": "stdout",
       "text": [
        "31900 "
       ]
      },
      {
       "output_type": "stream",
       "stream": "stdout",
       "text": [
        "32000 "
       ]
      },
      {
       "output_type": "stream",
       "stream": "stdout",
       "text": [
        "32100 "
       ]
      },
      {
       "output_type": "stream",
       "stream": "stdout",
       "text": [
        "32200 "
       ]
      },
      {
       "output_type": "stream",
       "stream": "stdout",
       "text": [
        "32300 "
       ]
      },
      {
       "output_type": "stream",
       "stream": "stdout",
       "text": [
        "32400 "
       ]
      },
      {
       "output_type": "stream",
       "stream": "stdout",
       "text": [
        "32500 "
       ]
      },
      {
       "output_type": "stream",
       "stream": "stdout",
       "text": [
        "32600 "
       ]
      },
      {
       "output_type": "stream",
       "stream": "stdout",
       "text": [
        "32700 "
       ]
      },
      {
       "output_type": "stream",
       "stream": "stdout",
       "text": [
        "32800 "
       ]
      },
      {
       "output_type": "stream",
       "stream": "stdout",
       "text": [
        "32900 "
       ]
      },
      {
       "output_type": "stream",
       "stream": "stdout",
       "text": [
        "33000 "
       ]
      },
      {
       "output_type": "stream",
       "stream": "stdout",
       "text": [
        "33100 "
       ]
      },
      {
       "output_type": "stream",
       "stream": "stdout",
       "text": [
        "33200 "
       ]
      },
      {
       "output_type": "stream",
       "stream": "stdout",
       "text": [
        "33300 "
       ]
      },
      {
       "output_type": "stream",
       "stream": "stdout",
       "text": [
        "33400 "
       ]
      },
      {
       "output_type": "stream",
       "stream": "stdout",
       "text": [
        "33500 "
       ]
      },
      {
       "output_type": "stream",
       "stream": "stdout",
       "text": [
        "33600 "
       ]
      },
      {
       "output_type": "stream",
       "stream": "stdout",
       "text": [
        "33700 "
       ]
      },
      {
       "output_type": "stream",
       "stream": "stdout",
       "text": [
        "33800 "
       ]
      },
      {
       "output_type": "stream",
       "stream": "stdout",
       "text": [
        "33900 "
       ]
      },
      {
       "output_type": "stream",
       "stream": "stdout",
       "text": [
        "34000 "
       ]
      },
      {
       "output_type": "stream",
       "stream": "stdout",
       "text": [
        "34100 "
       ]
      },
      {
       "output_type": "stream",
       "stream": "stdout",
       "text": [
        "34200 "
       ]
      },
      {
       "output_type": "stream",
       "stream": "stdout",
       "text": [
        "34300 "
       ]
      },
      {
       "output_type": "stream",
       "stream": "stdout",
       "text": [
        "34400 "
       ]
      },
      {
       "output_type": "stream",
       "stream": "stdout",
       "text": [
        "34500 "
       ]
      },
      {
       "output_type": "stream",
       "stream": "stdout",
       "text": [
        "34600 "
       ]
      },
      {
       "output_type": "stream",
       "stream": "stdout",
       "text": [
        "34700 "
       ]
      },
      {
       "output_type": "stream",
       "stream": "stdout",
       "text": [
        "34800 "
       ]
      },
      {
       "output_type": "stream",
       "stream": "stdout",
       "text": [
        "34900 "
       ]
      },
      {
       "output_type": "stream",
       "stream": "stdout",
       "text": [
        "35000 "
       ]
      },
      {
       "output_type": "stream",
       "stream": "stdout",
       "text": [
        "35100 "
       ]
      },
      {
       "output_type": "stream",
       "stream": "stdout",
       "text": [
        "35200 "
       ]
      },
      {
       "output_type": "stream",
       "stream": "stdout",
       "text": [
        "35300 "
       ]
      },
      {
       "output_type": "stream",
       "stream": "stdout",
       "text": [
        "35400 "
       ]
      },
      {
       "output_type": "stream",
       "stream": "stdout",
       "text": [
        "35500 "
       ]
      },
      {
       "output_type": "stream",
       "stream": "stdout",
       "text": [
        "35600 "
       ]
      },
      {
       "output_type": "stream",
       "stream": "stdout",
       "text": [
        "35700 "
       ]
      },
      {
       "output_type": "stream",
       "stream": "stdout",
       "text": [
        "35800 "
       ]
      },
      {
       "output_type": "stream",
       "stream": "stdout",
       "text": [
        "35900 "
       ]
      },
      {
       "output_type": "stream",
       "stream": "stdout",
       "text": [
        "36000 "
       ]
      },
      {
       "output_type": "stream",
       "stream": "stdout",
       "text": [
        "36100 "
       ]
      },
      {
       "output_type": "stream",
       "stream": "stdout",
       "text": [
        "36200 "
       ]
      },
      {
       "output_type": "stream",
       "stream": "stdout",
       "text": [
        "36300 "
       ]
      },
      {
       "output_type": "stream",
       "stream": "stdout",
       "text": [
        "36400 "
       ]
      },
      {
       "output_type": "stream",
       "stream": "stdout",
       "text": [
        "36500 "
       ]
      },
      {
       "output_type": "stream",
       "stream": "stdout",
       "text": [
        "36600 "
       ]
      },
      {
       "output_type": "stream",
       "stream": "stdout",
       "text": [
        "36700 "
       ]
      },
      {
       "output_type": "stream",
       "stream": "stdout",
       "text": [
        "36800 "
       ]
      },
      {
       "output_type": "stream",
       "stream": "stdout",
       "text": [
        "36900 "
       ]
      },
      {
       "output_type": "stream",
       "stream": "stdout",
       "text": [
        "37000 "
       ]
      },
      {
       "output_type": "stream",
       "stream": "stdout",
       "text": [
        "37100 "
       ]
      },
      {
       "output_type": "stream",
       "stream": "stdout",
       "text": [
        "37200 "
       ]
      },
      {
       "output_type": "stream",
       "stream": "stdout",
       "text": [
        "37300 "
       ]
      },
      {
       "output_type": "stream",
       "stream": "stdout",
       "text": [
        "37400 "
       ]
      },
      {
       "output_type": "stream",
       "stream": "stdout",
       "text": [
        "37500 "
       ]
      },
      {
       "output_type": "stream",
       "stream": "stdout",
       "text": [
        "37600 "
       ]
      },
      {
       "output_type": "stream",
       "stream": "stdout",
       "text": [
        "37700 "
       ]
      },
      {
       "output_type": "stream",
       "stream": "stdout",
       "text": [
        "37800 "
       ]
      },
      {
       "output_type": "stream",
       "stream": "stdout",
       "text": [
        "37900 "
       ]
      },
      {
       "output_type": "stream",
       "stream": "stdout",
       "text": [
        "38000 "
       ]
      },
      {
       "output_type": "stream",
       "stream": "stdout",
       "text": [
        "38100 "
       ]
      },
      {
       "output_type": "stream",
       "stream": "stdout",
       "text": [
        "38200 "
       ]
      },
      {
       "output_type": "stream",
       "stream": "stdout",
       "text": [
        "38300 "
       ]
      },
      {
       "output_type": "stream",
       "stream": "stdout",
       "text": [
        "38400 "
       ]
      },
      {
       "output_type": "stream",
       "stream": "stdout",
       "text": [
        "38500 "
       ]
      },
      {
       "output_type": "stream",
       "stream": "stdout",
       "text": [
        "38600 "
       ]
      },
      {
       "output_type": "stream",
       "stream": "stdout",
       "text": [
        "38700 "
       ]
      },
      {
       "output_type": "stream",
       "stream": "stdout",
       "text": [
        "38800 "
       ]
      },
      {
       "output_type": "stream",
       "stream": "stdout",
       "text": [
        "38900 "
       ]
      },
      {
       "output_type": "stream",
       "stream": "stdout",
       "text": [
        "39000 "
       ]
      },
      {
       "output_type": "stream",
       "stream": "stdout",
       "text": [
        "39100 "
       ]
      },
      {
       "output_type": "stream",
       "stream": "stdout",
       "text": [
        "39200 "
       ]
      },
      {
       "output_type": "stream",
       "stream": "stdout",
       "text": [
        "39300 "
       ]
      },
      {
       "output_type": "stream",
       "stream": "stdout",
       "text": [
        "39400 "
       ]
      },
      {
       "output_type": "stream",
       "stream": "stdout",
       "text": [
        "39500 "
       ]
      },
      {
       "output_type": "stream",
       "stream": "stdout",
       "text": [
        "39600 "
       ]
      },
      {
       "output_type": "stream",
       "stream": "stdout",
       "text": [
        "39700 "
       ]
      },
      {
       "output_type": "stream",
       "stream": "stdout",
       "text": [
        "39800 "
       ]
      },
      {
       "output_type": "stream",
       "stream": "stdout",
       "text": [
        "39900 "
       ]
      },
      {
       "output_type": "stream",
       "stream": "stdout",
       "text": [
        "40000 "
       ]
      },
      {
       "output_type": "stream",
       "stream": "stdout",
       "text": [
        "40100 "
       ]
      },
      {
       "output_type": "stream",
       "stream": "stdout",
       "text": [
        "40200 "
       ]
      },
      {
       "output_type": "stream",
       "stream": "stdout",
       "text": [
        "40300 "
       ]
      },
      {
       "output_type": "stream",
       "stream": "stdout",
       "text": [
        "40400 "
       ]
      },
      {
       "output_type": "stream",
       "stream": "stdout",
       "text": [
        "40500 "
       ]
      },
      {
       "output_type": "stream",
       "stream": "stdout",
       "text": [
        "40600 "
       ]
      },
      {
       "output_type": "stream",
       "stream": "stdout",
       "text": [
        "40700 "
       ]
      },
      {
       "output_type": "stream",
       "stream": "stdout",
       "text": [
        "40800 "
       ]
      },
      {
       "output_type": "stream",
       "stream": "stdout",
       "text": [
        "40900 "
       ]
      },
      {
       "output_type": "stream",
       "stream": "stdout",
       "text": [
        "41000 "
       ]
      },
      {
       "output_type": "stream",
       "stream": "stdout",
       "text": [
        "41100 "
       ]
      },
      {
       "output_type": "stream",
       "stream": "stdout",
       "text": [
        "41200 "
       ]
      },
      {
       "output_type": "stream",
       "stream": "stdout",
       "text": [
        "41300 "
       ]
      },
      {
       "output_type": "stream",
       "stream": "stdout",
       "text": [
        "41400 "
       ]
      },
      {
       "output_type": "stream",
       "stream": "stdout",
       "text": [
        "41500 "
       ]
      },
      {
       "output_type": "stream",
       "stream": "stdout",
       "text": [
        "41600 "
       ]
      },
      {
       "output_type": "stream",
       "stream": "stdout",
       "text": [
        "41700 "
       ]
      },
      {
       "output_type": "stream",
       "stream": "stdout",
       "text": [
        "41800 "
       ]
      },
      {
       "output_type": "stream",
       "stream": "stdout",
       "text": [
        "41900 "
       ]
      },
      {
       "output_type": "stream",
       "stream": "stdout",
       "text": [
        "42000 "
       ]
      },
      {
       "output_type": "stream",
       "stream": "stdout",
       "text": [
        "42100 "
       ]
      },
      {
       "output_type": "stream",
       "stream": "stdout",
       "text": [
        "42200 "
       ]
      },
      {
       "output_type": "stream",
       "stream": "stdout",
       "text": [
        "42300 "
       ]
      },
      {
       "output_type": "stream",
       "stream": "stdout",
       "text": [
        "42400 "
       ]
      },
      {
       "output_type": "stream",
       "stream": "stdout",
       "text": [
        "42500 "
       ]
      },
      {
       "output_type": "stream",
       "stream": "stdout",
       "text": [
        "42600 "
       ]
      },
      {
       "output_type": "stream",
       "stream": "stdout",
       "text": [
        "42700 "
       ]
      },
      {
       "output_type": "stream",
       "stream": "stdout",
       "text": [
        "42800 "
       ]
      },
      {
       "output_type": "stream",
       "stream": "stdout",
       "text": [
        "42900 "
       ]
      },
      {
       "output_type": "stream",
       "stream": "stdout",
       "text": [
        "43000 "
       ]
      },
      {
       "output_type": "stream",
       "stream": "stdout",
       "text": [
        "43100 "
       ]
      },
      {
       "output_type": "stream",
       "stream": "stdout",
       "text": [
        "43200 "
       ]
      },
      {
       "output_type": "stream",
       "stream": "stdout",
       "text": [
        "43300 "
       ]
      },
      {
       "output_type": "stream",
       "stream": "stdout",
       "text": [
        "43400 "
       ]
      },
      {
       "output_type": "stream",
       "stream": "stdout",
       "text": [
        "43500 "
       ]
      },
      {
       "output_type": "stream",
       "stream": "stdout",
       "text": [
        "43600 "
       ]
      },
      {
       "output_type": "stream",
       "stream": "stdout",
       "text": [
        "43700 "
       ]
      },
      {
       "output_type": "stream",
       "stream": "stdout",
       "text": [
        "43800 "
       ]
      },
      {
       "output_type": "stream",
       "stream": "stdout",
       "text": [
        "43900 "
       ]
      },
      {
       "output_type": "stream",
       "stream": "stdout",
       "text": [
        "44000 "
       ]
      },
      {
       "output_type": "stream",
       "stream": "stdout",
       "text": [
        "44100 "
       ]
      },
      {
       "output_type": "stream",
       "stream": "stdout",
       "text": [
        "44200 "
       ]
      },
      {
       "output_type": "stream",
       "stream": "stdout",
       "text": [
        "44300 "
       ]
      },
      {
       "output_type": "stream",
       "stream": "stdout",
       "text": [
        "44400 "
       ]
      },
      {
       "output_type": "stream",
       "stream": "stdout",
       "text": [
        "44500 "
       ]
      },
      {
       "output_type": "stream",
       "stream": "stdout",
       "text": [
        "44600 "
       ]
      },
      {
       "output_type": "stream",
       "stream": "stdout",
       "text": [
        "44700 "
       ]
      },
      {
       "output_type": "stream",
       "stream": "stdout",
       "text": [
        "44800 "
       ]
      },
      {
       "output_type": "stream",
       "stream": "stdout",
       "text": [
        "44900 "
       ]
      },
      {
       "output_type": "stream",
       "stream": "stdout",
       "text": [
        "45000 "
       ]
      },
      {
       "output_type": "stream",
       "stream": "stdout",
       "text": [
        "45100 "
       ]
      },
      {
       "output_type": "stream",
       "stream": "stdout",
       "text": [
        "45200 "
       ]
      },
      {
       "output_type": "stream",
       "stream": "stdout",
       "text": [
        "45300 "
       ]
      },
      {
       "output_type": "stream",
       "stream": "stdout",
       "text": [
        "45400 "
       ]
      },
      {
       "output_type": "stream",
       "stream": "stdout",
       "text": [
        "45500 "
       ]
      },
      {
       "output_type": "stream",
       "stream": "stdout",
       "text": [
        "45600 "
       ]
      },
      {
       "output_type": "stream",
       "stream": "stdout",
       "text": [
        "45700 "
       ]
      },
      {
       "output_type": "stream",
       "stream": "stdout",
       "text": [
        "45800 "
       ]
      },
      {
       "output_type": "stream",
       "stream": "stdout",
       "text": [
        "45900 "
       ]
      },
      {
       "output_type": "stream",
       "stream": "stdout",
       "text": [
        "46000\n"
       ]
      }
     ],
     "prompt_number": 110
    },
    {
     "cell_type": "code",
     "collapsed": false,
     "input": [
      "n = 1\n",
      "res = []\n",
      "k = 0\n",
      "for i in range(len(train)):\n",
      "    res.append(MeanNDayFromThis(n, train, train.City[i], train.Year[i], train.Month[i], train.Day[i]))\n",
      "    if ( (k % 100) == 0):\n",
      "        print k,\n",
      "    k += 1\n",
      "train[\"NextValue\"] = pd.Series(res)"
     ],
     "language": "python",
     "metadata": {},
     "outputs": [
      {
       "output_type": "stream",
       "stream": "stdout",
       "text": [
        "0 "
       ]
      },
      {
       "output_type": "stream",
       "stream": "stdout",
       "text": [
        "100 "
       ]
      },
      {
       "output_type": "stream",
       "stream": "stdout",
       "text": [
        "200 "
       ]
      },
      {
       "output_type": "stream",
       "stream": "stdout",
       "text": [
        "300 "
       ]
      },
      {
       "output_type": "stream",
       "stream": "stdout",
       "text": [
        "400 "
       ]
      },
      {
       "output_type": "stream",
       "stream": "stdout",
       "text": [
        "500 "
       ]
      },
      {
       "output_type": "stream",
       "stream": "stdout",
       "text": [
        "600 "
       ]
      },
      {
       "output_type": "stream",
       "stream": "stdout",
       "text": [
        "700 "
       ]
      },
      {
       "output_type": "stream",
       "stream": "stdout",
       "text": [
        "800 "
       ]
      },
      {
       "output_type": "stream",
       "stream": "stdout",
       "text": [
        "900 "
       ]
      },
      {
       "output_type": "stream",
       "stream": "stdout",
       "text": [
        "1000 "
       ]
      },
      {
       "output_type": "stream",
       "stream": "stdout",
       "text": [
        "1100 "
       ]
      },
      {
       "output_type": "stream",
       "stream": "stdout",
       "text": [
        "1200 "
       ]
      },
      {
       "output_type": "stream",
       "stream": "stdout",
       "text": [
        "1300 "
       ]
      },
      {
       "output_type": "stream",
       "stream": "stdout",
       "text": [
        "1400 "
       ]
      },
      {
       "output_type": "stream",
       "stream": "stdout",
       "text": [
        "1500 "
       ]
      },
      {
       "output_type": "stream",
       "stream": "stdout",
       "text": [
        "1600 "
       ]
      },
      {
       "output_type": "stream",
       "stream": "stdout",
       "text": [
        "1700 "
       ]
      },
      {
       "output_type": "stream",
       "stream": "stdout",
       "text": [
        "1800 "
       ]
      },
      {
       "output_type": "stream",
       "stream": "stdout",
       "text": [
        "1900 "
       ]
      },
      {
       "output_type": "stream",
       "stream": "stdout",
       "text": [
        "2000 "
       ]
      },
      {
       "output_type": "stream",
       "stream": "stdout",
       "text": [
        "2100 "
       ]
      },
      {
       "output_type": "stream",
       "stream": "stdout",
       "text": [
        "2200 "
       ]
      },
      {
       "output_type": "stream",
       "stream": "stdout",
       "text": [
        "2300 "
       ]
      },
      {
       "output_type": "stream",
       "stream": "stdout",
       "text": [
        "2400 "
       ]
      },
      {
       "output_type": "stream",
       "stream": "stdout",
       "text": [
        "2500 "
       ]
      },
      {
       "output_type": "stream",
       "stream": "stdout",
       "text": [
        "2600 "
       ]
      },
      {
       "output_type": "stream",
       "stream": "stdout",
       "text": [
        "2700 "
       ]
      },
      {
       "output_type": "stream",
       "stream": "stdout",
       "text": [
        "2800 "
       ]
      },
      {
       "output_type": "stream",
       "stream": "stdout",
       "text": [
        "2900 "
       ]
      },
      {
       "output_type": "stream",
       "stream": "stdout",
       "text": [
        "3000 "
       ]
      },
      {
       "output_type": "stream",
       "stream": "stdout",
       "text": [
        "3100 "
       ]
      },
      {
       "output_type": "stream",
       "stream": "stdout",
       "text": [
        "3200 "
       ]
      },
      {
       "output_type": "stream",
       "stream": "stdout",
       "text": [
        "3300 "
       ]
      },
      {
       "output_type": "stream",
       "stream": "stdout",
       "text": [
        "3400 "
       ]
      },
      {
       "output_type": "stream",
       "stream": "stdout",
       "text": [
        "3500 "
       ]
      },
      {
       "output_type": "stream",
       "stream": "stdout",
       "text": [
        "3600 "
       ]
      },
      {
       "output_type": "stream",
       "stream": "stdout",
       "text": [
        "3700 "
       ]
      },
      {
       "output_type": "stream",
       "stream": "stdout",
       "text": [
        "3800 "
       ]
      },
      {
       "output_type": "stream",
       "stream": "stdout",
       "text": [
        "3900 "
       ]
      },
      {
       "output_type": "stream",
       "stream": "stdout",
       "text": [
        "4000 "
       ]
      },
      {
       "output_type": "stream",
       "stream": "stdout",
       "text": [
        "4100 "
       ]
      },
      {
       "output_type": "stream",
       "stream": "stdout",
       "text": [
        "4200 "
       ]
      },
      {
       "output_type": "stream",
       "stream": "stdout",
       "text": [
        "4300 "
       ]
      },
      {
       "output_type": "stream",
       "stream": "stdout",
       "text": [
        "4400 "
       ]
      },
      {
       "output_type": "stream",
       "stream": "stdout",
       "text": [
        "4500 "
       ]
      },
      {
       "output_type": "stream",
       "stream": "stdout",
       "text": [
        "4600 "
       ]
      },
      {
       "output_type": "stream",
       "stream": "stdout",
       "text": [
        "4700 "
       ]
      },
      {
       "output_type": "stream",
       "stream": "stdout",
       "text": [
        "4800 "
       ]
      },
      {
       "output_type": "stream",
       "stream": "stdout",
       "text": [
        "4900 "
       ]
      },
      {
       "output_type": "stream",
       "stream": "stdout",
       "text": [
        "5000 "
       ]
      },
      {
       "output_type": "stream",
       "stream": "stdout",
       "text": [
        "5100 "
       ]
      },
      {
       "output_type": "stream",
       "stream": "stdout",
       "text": [
        "5200 "
       ]
      },
      {
       "output_type": "stream",
       "stream": "stdout",
       "text": [
        "5300 "
       ]
      },
      {
       "output_type": "stream",
       "stream": "stdout",
       "text": [
        "5400 "
       ]
      },
      {
       "output_type": "stream",
       "stream": "stdout",
       "text": [
        "5500 "
       ]
      },
      {
       "output_type": "stream",
       "stream": "stdout",
       "text": [
        "5600 "
       ]
      },
      {
       "output_type": "stream",
       "stream": "stdout",
       "text": [
        "5700 "
       ]
      },
      {
       "output_type": "stream",
       "stream": "stdout",
       "text": [
        "5800 "
       ]
      },
      {
       "output_type": "stream",
       "stream": "stdout",
       "text": [
        "5900 "
       ]
      },
      {
       "output_type": "stream",
       "stream": "stdout",
       "text": [
        "6000 "
       ]
      },
      {
       "output_type": "stream",
       "stream": "stdout",
       "text": [
        "6100 "
       ]
      },
      {
       "output_type": "stream",
       "stream": "stdout",
       "text": [
        "6200 "
       ]
      },
      {
       "output_type": "stream",
       "stream": "stdout",
       "text": [
        "6300 "
       ]
      },
      {
       "output_type": "stream",
       "stream": "stdout",
       "text": [
        "6400 "
       ]
      },
      {
       "output_type": "stream",
       "stream": "stdout",
       "text": [
        "6500 "
       ]
      },
      {
       "output_type": "stream",
       "stream": "stdout",
       "text": [
        "6600 "
       ]
      },
      {
       "output_type": "stream",
       "stream": "stdout",
       "text": [
        "6700 "
       ]
      },
      {
       "output_type": "stream",
       "stream": "stdout",
       "text": [
        "6800 "
       ]
      },
      {
       "output_type": "stream",
       "stream": "stdout",
       "text": [
        "6900 "
       ]
      },
      {
       "output_type": "stream",
       "stream": "stdout",
       "text": [
        "7000 "
       ]
      },
      {
       "output_type": "stream",
       "stream": "stdout",
       "text": [
        "7100 "
       ]
      },
      {
       "output_type": "stream",
       "stream": "stdout",
       "text": [
        "7200 "
       ]
      },
      {
       "output_type": "stream",
       "stream": "stdout",
       "text": [
        "7300 "
       ]
      },
      {
       "output_type": "stream",
       "stream": "stdout",
       "text": [
        "7400 "
       ]
      },
      {
       "output_type": "stream",
       "stream": "stdout",
       "text": [
        "7500 "
       ]
      },
      {
       "output_type": "stream",
       "stream": "stdout",
       "text": [
        "7600 "
       ]
      },
      {
       "output_type": "stream",
       "stream": "stdout",
       "text": [
        "7700 "
       ]
      },
      {
       "output_type": "stream",
       "stream": "stdout",
       "text": [
        "7800 "
       ]
      },
      {
       "output_type": "stream",
       "stream": "stdout",
       "text": [
        "7900 "
       ]
      },
      {
       "output_type": "stream",
       "stream": "stdout",
       "text": [
        "8000 "
       ]
      },
      {
       "output_type": "stream",
       "stream": "stdout",
       "text": [
        "8100 "
       ]
      },
      {
       "output_type": "stream",
       "stream": "stdout",
       "text": [
        "8200 "
       ]
      },
      {
       "output_type": "stream",
       "stream": "stdout",
       "text": [
        "8300 "
       ]
      },
      {
       "output_type": "stream",
       "stream": "stdout",
       "text": [
        "8400 "
       ]
      },
      {
       "output_type": "stream",
       "stream": "stdout",
       "text": [
        "8500 "
       ]
      },
      {
       "output_type": "stream",
       "stream": "stdout",
       "text": [
        "8600 "
       ]
      },
      {
       "output_type": "stream",
       "stream": "stdout",
       "text": [
        "8700 "
       ]
      },
      {
       "output_type": "stream",
       "stream": "stdout",
       "text": [
        "8800 "
       ]
      },
      {
       "output_type": "stream",
       "stream": "stdout",
       "text": [
        "8900 "
       ]
      },
      {
       "output_type": "stream",
       "stream": "stdout",
       "text": [
        "9000 "
       ]
      },
      {
       "output_type": "stream",
       "stream": "stdout",
       "text": [
        "9100 "
       ]
      },
      {
       "output_type": "stream",
       "stream": "stdout",
       "text": [
        "9200 "
       ]
      },
      {
       "output_type": "stream",
       "stream": "stdout",
       "text": [
        "9300 "
       ]
      },
      {
       "output_type": "stream",
       "stream": "stdout",
       "text": [
        "9400 "
       ]
      },
      {
       "output_type": "stream",
       "stream": "stdout",
       "text": [
        "9500 "
       ]
      },
      {
       "output_type": "stream",
       "stream": "stdout",
       "text": [
        "9600 "
       ]
      },
      {
       "output_type": "stream",
       "stream": "stdout",
       "text": [
        "9700 "
       ]
      },
      {
       "output_type": "stream",
       "stream": "stdout",
       "text": [
        "9800 "
       ]
      },
      {
       "output_type": "stream",
       "stream": "stdout",
       "text": [
        "9900 "
       ]
      },
      {
       "output_type": "stream",
       "stream": "stdout",
       "text": [
        "10000 "
       ]
      },
      {
       "output_type": "stream",
       "stream": "stdout",
       "text": [
        "10100 "
       ]
      },
      {
       "output_type": "stream",
       "stream": "stdout",
       "text": [
        "10200 "
       ]
      },
      {
       "output_type": "stream",
       "stream": "stdout",
       "text": [
        "10300 "
       ]
      },
      {
       "output_type": "stream",
       "stream": "stdout",
       "text": [
        "10400 "
       ]
      },
      {
       "output_type": "stream",
       "stream": "stdout",
       "text": [
        "10500 "
       ]
      },
      {
       "output_type": "stream",
       "stream": "stdout",
       "text": [
        "10600 "
       ]
      },
      {
       "output_type": "stream",
       "stream": "stdout",
       "text": [
        "10700 "
       ]
      },
      {
       "output_type": "stream",
       "stream": "stdout",
       "text": [
        "10800 "
       ]
      },
      {
       "output_type": "stream",
       "stream": "stdout",
       "text": [
        "10900 "
       ]
      },
      {
       "output_type": "stream",
       "stream": "stdout",
       "text": [
        "11000 "
       ]
      },
      {
       "output_type": "stream",
       "stream": "stdout",
       "text": [
        "11100 "
       ]
      },
      {
       "output_type": "stream",
       "stream": "stdout",
       "text": [
        "11200 "
       ]
      },
      {
       "output_type": "stream",
       "stream": "stdout",
       "text": [
        "11300 "
       ]
      },
      {
       "output_type": "stream",
       "stream": "stdout",
       "text": [
        "11400 "
       ]
      },
      {
       "output_type": "stream",
       "stream": "stdout",
       "text": [
        "11500 "
       ]
      },
      {
       "output_type": "stream",
       "stream": "stdout",
       "text": [
        "11600 "
       ]
      },
      {
       "output_type": "stream",
       "stream": "stdout",
       "text": [
        "11700 "
       ]
      },
      {
       "output_type": "stream",
       "stream": "stdout",
       "text": [
        "11800 "
       ]
      },
      {
       "output_type": "stream",
       "stream": "stdout",
       "text": [
        "11900 "
       ]
      },
      {
       "output_type": "stream",
       "stream": "stdout",
       "text": [
        "12000 "
       ]
      },
      {
       "output_type": "stream",
       "stream": "stdout",
       "text": [
        "12100 "
       ]
      },
      {
       "output_type": "stream",
       "stream": "stdout",
       "text": [
        "12200 "
       ]
      },
      {
       "output_type": "stream",
       "stream": "stdout",
       "text": [
        "12300 "
       ]
      },
      {
       "output_type": "stream",
       "stream": "stdout",
       "text": [
        "12400 "
       ]
      },
      {
       "output_type": "stream",
       "stream": "stdout",
       "text": [
        "12500 "
       ]
      },
      {
       "output_type": "stream",
       "stream": "stdout",
       "text": [
        "12600 "
       ]
      },
      {
       "output_type": "stream",
       "stream": "stdout",
       "text": [
        "12700 "
       ]
      },
      {
       "output_type": "stream",
       "stream": "stdout",
       "text": [
        "12800 "
       ]
      },
      {
       "output_type": "stream",
       "stream": "stdout",
       "text": [
        "12900 "
       ]
      },
      {
       "output_type": "stream",
       "stream": "stdout",
       "text": [
        "13000 "
       ]
      },
      {
       "output_type": "stream",
       "stream": "stdout",
       "text": [
        "13100 "
       ]
      },
      {
       "output_type": "stream",
       "stream": "stdout",
       "text": [
        "13200 "
       ]
      },
      {
       "output_type": "stream",
       "stream": "stdout",
       "text": [
        "13300 "
       ]
      },
      {
       "output_type": "stream",
       "stream": "stdout",
       "text": [
        "13400 "
       ]
      },
      {
       "output_type": "stream",
       "stream": "stdout",
       "text": [
        "13500 "
       ]
      },
      {
       "output_type": "stream",
       "stream": "stdout",
       "text": [
        "13600 "
       ]
      },
      {
       "output_type": "stream",
       "stream": "stdout",
       "text": [
        "13700 "
       ]
      },
      {
       "output_type": "stream",
       "stream": "stdout",
       "text": [
        "13800 "
       ]
      },
      {
       "output_type": "stream",
       "stream": "stdout",
       "text": [
        "13900 "
       ]
      },
      {
       "output_type": "stream",
       "stream": "stdout",
       "text": [
        "14000 "
       ]
      },
      {
       "output_type": "stream",
       "stream": "stdout",
       "text": [
        "14100 "
       ]
      },
      {
       "output_type": "stream",
       "stream": "stdout",
       "text": [
        "14200 "
       ]
      },
      {
       "output_type": "stream",
       "stream": "stdout",
       "text": [
        "14300 "
       ]
      },
      {
       "output_type": "stream",
       "stream": "stdout",
       "text": [
        "14400 "
       ]
      },
      {
       "output_type": "stream",
       "stream": "stdout",
       "text": [
        "14500 "
       ]
      },
      {
       "output_type": "stream",
       "stream": "stdout",
       "text": [
        "14600 "
       ]
      },
      {
       "output_type": "stream",
       "stream": "stdout",
       "text": [
        "14700 "
       ]
      },
      {
       "output_type": "stream",
       "stream": "stdout",
       "text": [
        "14800 "
       ]
      },
      {
       "output_type": "stream",
       "stream": "stdout",
       "text": [
        "14900 "
       ]
      },
      {
       "output_type": "stream",
       "stream": "stdout",
       "text": [
        "15000 "
       ]
      },
      {
       "output_type": "stream",
       "stream": "stdout",
       "text": [
        "15100 "
       ]
      },
      {
       "output_type": "stream",
       "stream": "stdout",
       "text": [
        "15200 "
       ]
      },
      {
       "output_type": "stream",
       "stream": "stdout",
       "text": [
        "15300 "
       ]
      },
      {
       "output_type": "stream",
       "stream": "stdout",
       "text": [
        "15400 "
       ]
      },
      {
       "output_type": "stream",
       "stream": "stdout",
       "text": [
        "15500 "
       ]
      },
      {
       "output_type": "stream",
       "stream": "stdout",
       "text": [
        "15600 "
       ]
      },
      {
       "output_type": "stream",
       "stream": "stdout",
       "text": [
        "15700 "
       ]
      },
      {
       "output_type": "stream",
       "stream": "stdout",
       "text": [
        "15800 "
       ]
      },
      {
       "output_type": "stream",
       "stream": "stdout",
       "text": [
        "15900 "
       ]
      },
      {
       "output_type": "stream",
       "stream": "stdout",
       "text": [
        "16000 "
       ]
      },
      {
       "output_type": "stream",
       "stream": "stdout",
       "text": [
        "16100 "
       ]
      },
      {
       "output_type": "stream",
       "stream": "stdout",
       "text": [
        "16200 "
       ]
      },
      {
       "output_type": "stream",
       "stream": "stdout",
       "text": [
        "16300 "
       ]
      },
      {
       "output_type": "stream",
       "stream": "stdout",
       "text": [
        "16400 "
       ]
      },
      {
       "output_type": "stream",
       "stream": "stdout",
       "text": [
        "16500 "
       ]
      },
      {
       "output_type": "stream",
       "stream": "stdout",
       "text": [
        "16600 "
       ]
      },
      {
       "output_type": "stream",
       "stream": "stdout",
       "text": [
        "16700 "
       ]
      },
      {
       "output_type": "stream",
       "stream": "stdout",
       "text": [
        "16800 "
       ]
      },
      {
       "output_type": "stream",
       "stream": "stdout",
       "text": [
        "16900 "
       ]
      },
      {
       "output_type": "stream",
       "stream": "stdout",
       "text": [
        "17000 "
       ]
      },
      {
       "output_type": "stream",
       "stream": "stdout",
       "text": [
        "17100 "
       ]
      },
      {
       "output_type": "stream",
       "stream": "stdout",
       "text": [
        "17200 "
       ]
      },
      {
       "output_type": "stream",
       "stream": "stdout",
       "text": [
        "17300 "
       ]
      },
      {
       "output_type": "stream",
       "stream": "stdout",
       "text": [
        "17400 "
       ]
      },
      {
       "output_type": "stream",
       "stream": "stdout",
       "text": [
        "17500 "
       ]
      },
      {
       "output_type": "stream",
       "stream": "stdout",
       "text": [
        "17600 "
       ]
      },
      {
       "output_type": "stream",
       "stream": "stdout",
       "text": [
        "17700 "
       ]
      },
      {
       "output_type": "stream",
       "stream": "stdout",
       "text": [
        "17800 "
       ]
      },
      {
       "output_type": "stream",
       "stream": "stdout",
       "text": [
        "17900 "
       ]
      },
      {
       "output_type": "stream",
       "stream": "stdout",
       "text": [
        "18000 "
       ]
      },
      {
       "output_type": "stream",
       "stream": "stdout",
       "text": [
        "18100 "
       ]
      },
      {
       "output_type": "stream",
       "stream": "stdout",
       "text": [
        "18200 "
       ]
      },
      {
       "output_type": "stream",
       "stream": "stdout",
       "text": [
        "18300 "
       ]
      },
      {
       "output_type": "stream",
       "stream": "stdout",
       "text": [
        "18400 "
       ]
      },
      {
       "output_type": "stream",
       "stream": "stdout",
       "text": [
        "18500 "
       ]
      },
      {
       "output_type": "stream",
       "stream": "stdout",
       "text": [
        "18600 "
       ]
      },
      {
       "output_type": "stream",
       "stream": "stdout",
       "text": [
        "18700 "
       ]
      },
      {
       "output_type": "stream",
       "stream": "stdout",
       "text": [
        "18800 "
       ]
      },
      {
       "output_type": "stream",
       "stream": "stdout",
       "text": [
        "18900 "
       ]
      },
      {
       "output_type": "stream",
       "stream": "stdout",
       "text": [
        "19000 "
       ]
      },
      {
       "output_type": "stream",
       "stream": "stdout",
       "text": [
        "19100 "
       ]
      },
      {
       "output_type": "stream",
       "stream": "stdout",
       "text": [
        "19200 "
       ]
      },
      {
       "output_type": "stream",
       "stream": "stdout",
       "text": [
        "19300 "
       ]
      },
      {
       "output_type": "stream",
       "stream": "stdout",
       "text": [
        "19400 "
       ]
      },
      {
       "output_type": "stream",
       "stream": "stdout",
       "text": [
        "19500 "
       ]
      },
      {
       "output_type": "stream",
       "stream": "stdout",
       "text": [
        "19600 "
       ]
      },
      {
       "output_type": "stream",
       "stream": "stdout",
       "text": [
        "19700 "
       ]
      },
      {
       "output_type": "stream",
       "stream": "stdout",
       "text": [
        "19800 "
       ]
      },
      {
       "output_type": "stream",
       "stream": "stdout",
       "text": [
        "19900 "
       ]
      },
      {
       "output_type": "stream",
       "stream": "stdout",
       "text": [
        "20000 "
       ]
      },
      {
       "output_type": "stream",
       "stream": "stdout",
       "text": [
        "20100 "
       ]
      },
      {
       "output_type": "stream",
       "stream": "stdout",
       "text": [
        "20200 "
       ]
      },
      {
       "output_type": "stream",
       "stream": "stdout",
       "text": [
        "20300 "
       ]
      },
      {
       "output_type": "stream",
       "stream": "stdout",
       "text": [
        "20400 "
       ]
      },
      {
       "output_type": "stream",
       "stream": "stdout",
       "text": [
        "20500 "
       ]
      },
      {
       "output_type": "stream",
       "stream": "stdout",
       "text": [
        "20600 "
       ]
      },
      {
       "output_type": "stream",
       "stream": "stdout",
       "text": [
        "20700 "
       ]
      },
      {
       "output_type": "stream",
       "stream": "stdout",
       "text": [
        "20800 "
       ]
      },
      {
       "output_type": "stream",
       "stream": "stdout",
       "text": [
        "20900 "
       ]
      },
      {
       "output_type": "stream",
       "stream": "stdout",
       "text": [
        "21000 "
       ]
      },
      {
       "output_type": "stream",
       "stream": "stdout",
       "text": [
        "21100 "
       ]
      },
      {
       "output_type": "stream",
       "stream": "stdout",
       "text": [
        "21200 "
       ]
      },
      {
       "output_type": "stream",
       "stream": "stdout",
       "text": [
        "21300 "
       ]
      },
      {
       "output_type": "stream",
       "stream": "stdout",
       "text": [
        "21400 "
       ]
      },
      {
       "output_type": "stream",
       "stream": "stdout",
       "text": [
        "21500 "
       ]
      },
      {
       "output_type": "stream",
       "stream": "stdout",
       "text": [
        "21600 "
       ]
      },
      {
       "output_type": "stream",
       "stream": "stdout",
       "text": [
        "21700 "
       ]
      },
      {
       "output_type": "stream",
       "stream": "stdout",
       "text": [
        "21800 "
       ]
      },
      {
       "output_type": "stream",
       "stream": "stdout",
       "text": [
        "21900 "
       ]
      },
      {
       "output_type": "stream",
       "stream": "stdout",
       "text": [
        "22000 "
       ]
      },
      {
       "output_type": "stream",
       "stream": "stdout",
       "text": [
        "22100 "
       ]
      },
      {
       "output_type": "stream",
       "stream": "stdout",
       "text": [
        "22200 "
       ]
      },
      {
       "output_type": "stream",
       "stream": "stdout",
       "text": [
        "22300 "
       ]
      },
      {
       "output_type": "stream",
       "stream": "stdout",
       "text": [
        "22400 "
       ]
      },
      {
       "output_type": "stream",
       "stream": "stdout",
       "text": [
        "22500 "
       ]
      },
      {
       "output_type": "stream",
       "stream": "stdout",
       "text": [
        "22600 "
       ]
      },
      {
       "output_type": "stream",
       "stream": "stdout",
       "text": [
        "22700 "
       ]
      },
      {
       "output_type": "stream",
       "stream": "stdout",
       "text": [
        "22800 "
       ]
      },
      {
       "output_type": "stream",
       "stream": "stdout",
       "text": [
        "22900 "
       ]
      },
      {
       "output_type": "stream",
       "stream": "stdout",
       "text": [
        "23000 "
       ]
      },
      {
       "output_type": "stream",
       "stream": "stdout",
       "text": [
        "23100 "
       ]
      },
      {
       "output_type": "stream",
       "stream": "stdout",
       "text": [
        "23200 "
       ]
      },
      {
       "output_type": "stream",
       "stream": "stdout",
       "text": [
        "23300 "
       ]
      },
      {
       "output_type": "stream",
       "stream": "stdout",
       "text": [
        "23400 "
       ]
      },
      {
       "output_type": "stream",
       "stream": "stdout",
       "text": [
        "23500 "
       ]
      },
      {
       "output_type": "stream",
       "stream": "stdout",
       "text": [
        "23600 "
       ]
      },
      {
       "output_type": "stream",
       "stream": "stdout",
       "text": [
        "23700 "
       ]
      },
      {
       "output_type": "stream",
       "stream": "stdout",
       "text": [
        "23800 "
       ]
      },
      {
       "output_type": "stream",
       "stream": "stdout",
       "text": [
        "23900 "
       ]
      },
      {
       "output_type": "stream",
       "stream": "stdout",
       "text": [
        "24000 "
       ]
      },
      {
       "output_type": "stream",
       "stream": "stdout",
       "text": [
        "24100 "
       ]
      },
      {
       "output_type": "stream",
       "stream": "stdout",
       "text": [
        "24200 "
       ]
      },
      {
       "output_type": "stream",
       "stream": "stdout",
       "text": [
        "24300 "
       ]
      },
      {
       "output_type": "stream",
       "stream": "stdout",
       "text": [
        "24400 "
       ]
      },
      {
       "output_type": "stream",
       "stream": "stdout",
       "text": [
        "24500 "
       ]
      },
      {
       "output_type": "stream",
       "stream": "stdout",
       "text": [
        "24600 "
       ]
      },
      {
       "output_type": "stream",
       "stream": "stdout",
       "text": [
        "24700 "
       ]
      },
      {
       "output_type": "stream",
       "stream": "stdout",
       "text": [
        "24800 "
       ]
      },
      {
       "output_type": "stream",
       "stream": "stdout",
       "text": [
        "24900 "
       ]
      },
      {
       "output_type": "stream",
       "stream": "stdout",
       "text": [
        "25000 "
       ]
      },
      {
       "output_type": "stream",
       "stream": "stdout",
       "text": [
        "25100 "
       ]
      },
      {
       "output_type": "stream",
       "stream": "stdout",
       "text": [
        "25200 "
       ]
      },
      {
       "output_type": "stream",
       "stream": "stdout",
       "text": [
        "25300 "
       ]
      },
      {
       "output_type": "stream",
       "stream": "stdout",
       "text": [
        "25400 "
       ]
      },
      {
       "output_type": "stream",
       "stream": "stdout",
       "text": [
        "25500 "
       ]
      },
      {
       "output_type": "stream",
       "stream": "stdout",
       "text": [
        "25600 "
       ]
      },
      {
       "output_type": "stream",
       "stream": "stdout",
       "text": [
        "25700 "
       ]
      },
      {
       "output_type": "stream",
       "stream": "stdout",
       "text": [
        "25800 "
       ]
      },
      {
       "output_type": "stream",
       "stream": "stdout",
       "text": [
        "25900 "
       ]
      },
      {
       "output_type": "stream",
       "stream": "stdout",
       "text": [
        "26000 "
       ]
      },
      {
       "output_type": "stream",
       "stream": "stdout",
       "text": [
        "26100 "
       ]
      },
      {
       "output_type": "stream",
       "stream": "stdout",
       "text": [
        "26200 "
       ]
      },
      {
       "output_type": "stream",
       "stream": "stdout",
       "text": [
        "26300 "
       ]
      },
      {
       "output_type": "stream",
       "stream": "stdout",
       "text": [
        "26400 "
       ]
      },
      {
       "output_type": "stream",
       "stream": "stdout",
       "text": [
        "26500 "
       ]
      },
      {
       "output_type": "stream",
       "stream": "stdout",
       "text": [
        "26600 "
       ]
      },
      {
       "output_type": "stream",
       "stream": "stdout",
       "text": [
        "26700 "
       ]
      },
      {
       "output_type": "stream",
       "stream": "stdout",
       "text": [
        "26800 "
       ]
      },
      {
       "output_type": "stream",
       "stream": "stdout",
       "text": [
        "26900 "
       ]
      },
      {
       "output_type": "stream",
       "stream": "stdout",
       "text": [
        "27000 "
       ]
      },
      {
       "output_type": "stream",
       "stream": "stdout",
       "text": [
        "27100 "
       ]
      },
      {
       "output_type": "stream",
       "stream": "stdout",
       "text": [
        "27200 "
       ]
      },
      {
       "output_type": "stream",
       "stream": "stdout",
       "text": [
        "27300 "
       ]
      },
      {
       "output_type": "stream",
       "stream": "stdout",
       "text": [
        "27400 "
       ]
      },
      {
       "output_type": "stream",
       "stream": "stdout",
       "text": [
        "27500 "
       ]
      },
      {
       "output_type": "stream",
       "stream": "stdout",
       "text": [
        "27600 "
       ]
      },
      {
       "output_type": "stream",
       "stream": "stdout",
       "text": [
        "27700 "
       ]
      },
      {
       "output_type": "stream",
       "stream": "stdout",
       "text": [
        "27800 "
       ]
      },
      {
       "output_type": "stream",
       "stream": "stdout",
       "text": [
        "27900 "
       ]
      },
      {
       "output_type": "stream",
       "stream": "stdout",
       "text": [
        "28000 "
       ]
      },
      {
       "output_type": "stream",
       "stream": "stdout",
       "text": [
        "28100 "
       ]
      },
      {
       "output_type": "stream",
       "stream": "stdout",
       "text": [
        "28200 "
       ]
      },
      {
       "output_type": "stream",
       "stream": "stdout",
       "text": [
        "28300 "
       ]
      },
      {
       "output_type": "stream",
       "stream": "stdout",
       "text": [
        "28400 "
       ]
      },
      {
       "output_type": "stream",
       "stream": "stdout",
       "text": [
        "28500 "
       ]
      },
      {
       "output_type": "stream",
       "stream": "stdout",
       "text": [
        "28600 "
       ]
      },
      {
       "output_type": "stream",
       "stream": "stdout",
       "text": [
        "28700 "
       ]
      },
      {
       "output_type": "stream",
       "stream": "stdout",
       "text": [
        "28800 "
       ]
      },
      {
       "output_type": "stream",
       "stream": "stdout",
       "text": [
        "28900 "
       ]
      },
      {
       "output_type": "stream",
       "stream": "stdout",
       "text": [
        "29000 "
       ]
      },
      {
       "output_type": "stream",
       "stream": "stdout",
       "text": [
        "29100 "
       ]
      },
      {
       "output_type": "stream",
       "stream": "stdout",
       "text": [
        "29200 "
       ]
      },
      {
       "output_type": "stream",
       "stream": "stdout",
       "text": [
        "29300 "
       ]
      },
      {
       "output_type": "stream",
       "stream": "stdout",
       "text": [
        "29400 "
       ]
      },
      {
       "output_type": "stream",
       "stream": "stdout",
       "text": [
        "29500 "
       ]
      },
      {
       "output_type": "stream",
       "stream": "stdout",
       "text": [
        "29600 "
       ]
      },
      {
       "output_type": "stream",
       "stream": "stdout",
       "text": [
        "29700 "
       ]
      },
      {
       "output_type": "stream",
       "stream": "stdout",
       "text": [
        "29800 "
       ]
      },
      {
       "output_type": "stream",
       "stream": "stdout",
       "text": [
        "29900 "
       ]
      },
      {
       "output_type": "stream",
       "stream": "stdout",
       "text": [
        "30000 "
       ]
      },
      {
       "output_type": "stream",
       "stream": "stdout",
       "text": [
        "30100 "
       ]
      },
      {
       "output_type": "stream",
       "stream": "stdout",
       "text": [
        "30200 "
       ]
      },
      {
       "output_type": "stream",
       "stream": "stdout",
       "text": [
        "30300 "
       ]
      },
      {
       "output_type": "stream",
       "stream": "stdout",
       "text": [
        "30400 "
       ]
      },
      {
       "output_type": "stream",
       "stream": "stdout",
       "text": [
        "30500 "
       ]
      },
      {
       "output_type": "stream",
       "stream": "stdout",
       "text": [
        "30600 "
       ]
      },
      {
       "output_type": "stream",
       "stream": "stdout",
       "text": [
        "30700 "
       ]
      },
      {
       "output_type": "stream",
       "stream": "stdout",
       "text": [
        "30800 "
       ]
      },
      {
       "output_type": "stream",
       "stream": "stdout",
       "text": [
        "30900 "
       ]
      },
      {
       "output_type": "stream",
       "stream": "stdout",
       "text": [
        "31000 "
       ]
      },
      {
       "output_type": "stream",
       "stream": "stdout",
       "text": [
        "31100 "
       ]
      },
      {
       "output_type": "stream",
       "stream": "stdout",
       "text": [
        "31200 "
       ]
      },
      {
       "output_type": "stream",
       "stream": "stdout",
       "text": [
        "31300 "
       ]
      },
      {
       "output_type": "stream",
       "stream": "stdout",
       "text": [
        "31400 "
       ]
      },
      {
       "output_type": "stream",
       "stream": "stdout",
       "text": [
        "31500 "
       ]
      },
      {
       "output_type": "stream",
       "stream": "stdout",
       "text": [
        "31600 "
       ]
      },
      {
       "output_type": "stream",
       "stream": "stdout",
       "text": [
        "31700 "
       ]
      },
      {
       "output_type": "stream",
       "stream": "stdout",
       "text": [
        "31800 "
       ]
      },
      {
       "output_type": "stream",
       "stream": "stdout",
       "text": [
        "31900 "
       ]
      },
      {
       "output_type": "stream",
       "stream": "stdout",
       "text": [
        "32000 "
       ]
      },
      {
       "output_type": "stream",
       "stream": "stdout",
       "text": [
        "32100 "
       ]
      },
      {
       "output_type": "stream",
       "stream": "stdout",
       "text": [
        "32200 "
       ]
      },
      {
       "output_type": "stream",
       "stream": "stdout",
       "text": [
        "32300 "
       ]
      },
      {
       "output_type": "stream",
       "stream": "stdout",
       "text": [
        "32400 "
       ]
      },
      {
       "output_type": "stream",
       "stream": "stdout",
       "text": [
        "32500 "
       ]
      },
      {
       "output_type": "stream",
       "stream": "stdout",
       "text": [
        "32600 "
       ]
      },
      {
       "output_type": "stream",
       "stream": "stdout",
       "text": [
        "32700 "
       ]
      },
      {
       "output_type": "stream",
       "stream": "stdout",
       "text": [
        "32800 "
       ]
      },
      {
       "output_type": "stream",
       "stream": "stdout",
       "text": [
        "32900 "
       ]
      },
      {
       "output_type": "stream",
       "stream": "stdout",
       "text": [
        "33000 "
       ]
      },
      {
       "output_type": "stream",
       "stream": "stdout",
       "text": [
        "33100 "
       ]
      },
      {
       "output_type": "stream",
       "stream": "stdout",
       "text": [
        "33200 "
       ]
      },
      {
       "output_type": "stream",
       "stream": "stdout",
       "text": [
        "33300 "
       ]
      },
      {
       "output_type": "stream",
       "stream": "stdout",
       "text": [
        "33400 "
       ]
      },
      {
       "output_type": "stream",
       "stream": "stdout",
       "text": [
        "33500 "
       ]
      },
      {
       "output_type": "stream",
       "stream": "stdout",
       "text": [
        "33600 "
       ]
      },
      {
       "output_type": "stream",
       "stream": "stdout",
       "text": [
        "33700 "
       ]
      },
      {
       "output_type": "stream",
       "stream": "stdout",
       "text": [
        "33800 "
       ]
      },
      {
       "output_type": "stream",
       "stream": "stdout",
       "text": [
        "33900 "
       ]
      },
      {
       "output_type": "stream",
       "stream": "stdout",
       "text": [
        "34000 "
       ]
      },
      {
       "output_type": "stream",
       "stream": "stdout",
       "text": [
        "34100 "
       ]
      },
      {
       "output_type": "stream",
       "stream": "stdout",
       "text": [
        "34200 "
       ]
      },
      {
       "output_type": "stream",
       "stream": "stdout",
       "text": [
        "34300 "
       ]
      },
      {
       "output_type": "stream",
       "stream": "stdout",
       "text": [
        "34400 "
       ]
      },
      {
       "output_type": "stream",
       "stream": "stdout",
       "text": [
        "34500 "
       ]
      },
      {
       "output_type": "stream",
       "stream": "stdout",
       "text": [
        "34600 "
       ]
      },
      {
       "output_type": "stream",
       "stream": "stdout",
       "text": [
        "34700 "
       ]
      },
      {
       "output_type": "stream",
       "stream": "stdout",
       "text": [
        "34800 "
       ]
      },
      {
       "output_type": "stream",
       "stream": "stdout",
       "text": [
        "34900 "
       ]
      },
      {
       "output_type": "stream",
       "stream": "stdout",
       "text": [
        "35000 "
       ]
      },
      {
       "output_type": "stream",
       "stream": "stdout",
       "text": [
        "35100 "
       ]
      },
      {
       "output_type": "stream",
       "stream": "stdout",
       "text": [
        "35200 "
       ]
      },
      {
       "output_type": "stream",
       "stream": "stdout",
       "text": [
        "35300 "
       ]
      },
      {
       "output_type": "stream",
       "stream": "stdout",
       "text": [
        "35400 "
       ]
      },
      {
       "output_type": "stream",
       "stream": "stdout",
       "text": [
        "35500 "
       ]
      },
      {
       "output_type": "stream",
       "stream": "stdout",
       "text": [
        "35600 "
       ]
      },
      {
       "output_type": "stream",
       "stream": "stdout",
       "text": [
        "35700 "
       ]
      },
      {
       "output_type": "stream",
       "stream": "stdout",
       "text": [
        "35800 "
       ]
      },
      {
       "output_type": "stream",
       "stream": "stdout",
       "text": [
        "35900 "
       ]
      },
      {
       "output_type": "stream",
       "stream": "stdout",
       "text": [
        "36000 "
       ]
      },
      {
       "output_type": "stream",
       "stream": "stdout",
       "text": [
        "36100 "
       ]
      },
      {
       "output_type": "stream",
       "stream": "stdout",
       "text": [
        "36200 "
       ]
      },
      {
       "output_type": "stream",
       "stream": "stdout",
       "text": [
        "36300 "
       ]
      },
      {
       "output_type": "stream",
       "stream": "stdout",
       "text": [
        "36400 "
       ]
      },
      {
       "output_type": "stream",
       "stream": "stdout",
       "text": [
        "36500 "
       ]
      },
      {
       "output_type": "stream",
       "stream": "stdout",
       "text": [
        "36600 "
       ]
      },
      {
       "output_type": "stream",
       "stream": "stdout",
       "text": [
        "36700 "
       ]
      },
      {
       "output_type": "stream",
       "stream": "stdout",
       "text": [
        "36800 "
       ]
      },
      {
       "output_type": "stream",
       "stream": "stdout",
       "text": [
        "36900 "
       ]
      },
      {
       "output_type": "stream",
       "stream": "stdout",
       "text": [
        "37000 "
       ]
      },
      {
       "output_type": "stream",
       "stream": "stdout",
       "text": [
        "37100 "
       ]
      },
      {
       "output_type": "stream",
       "stream": "stdout",
       "text": [
        "37200 "
       ]
      },
      {
       "output_type": "stream",
       "stream": "stdout",
       "text": [
        "37300 "
       ]
      },
      {
       "output_type": "stream",
       "stream": "stdout",
       "text": [
        "37400 "
       ]
      },
      {
       "output_type": "stream",
       "stream": "stdout",
       "text": [
        "37500 "
       ]
      },
      {
       "output_type": "stream",
       "stream": "stdout",
       "text": [
        "37600 "
       ]
      },
      {
       "output_type": "stream",
       "stream": "stdout",
       "text": [
        "37700 "
       ]
      },
      {
       "output_type": "stream",
       "stream": "stdout",
       "text": [
        "37800 "
       ]
      },
      {
       "output_type": "stream",
       "stream": "stdout",
       "text": [
        "37900 "
       ]
      },
      {
       "output_type": "stream",
       "stream": "stdout",
       "text": [
        "38000 "
       ]
      },
      {
       "output_type": "stream",
       "stream": "stdout",
       "text": [
        "38100 "
       ]
      },
      {
       "output_type": "stream",
       "stream": "stdout",
       "text": [
        "38200 "
       ]
      },
      {
       "output_type": "stream",
       "stream": "stdout",
       "text": [
        "38300 "
       ]
      },
      {
       "output_type": "stream",
       "stream": "stdout",
       "text": [
        "38400 "
       ]
      },
      {
       "output_type": "stream",
       "stream": "stdout",
       "text": [
        "38500 "
       ]
      },
      {
       "output_type": "stream",
       "stream": "stdout",
       "text": [
        "38600 "
       ]
      },
      {
       "output_type": "stream",
       "stream": "stdout",
       "text": [
        "38700 "
       ]
      },
      {
       "output_type": "stream",
       "stream": "stdout",
       "text": [
        "38800 "
       ]
      },
      {
       "output_type": "stream",
       "stream": "stdout",
       "text": [
        "38900 "
       ]
      },
      {
       "output_type": "stream",
       "stream": "stdout",
       "text": [
        "39000 "
       ]
      },
      {
       "output_type": "stream",
       "stream": "stdout",
       "text": [
        "39100 "
       ]
      },
      {
       "output_type": "stream",
       "stream": "stdout",
       "text": [
        "39200 "
       ]
      },
      {
       "output_type": "stream",
       "stream": "stdout",
       "text": [
        "39300 "
       ]
      },
      {
       "output_type": "stream",
       "stream": "stdout",
       "text": [
        "39400 "
       ]
      },
      {
       "output_type": "stream",
       "stream": "stdout",
       "text": [
        "39500 "
       ]
      },
      {
       "output_type": "stream",
       "stream": "stdout",
       "text": [
        "39600 "
       ]
      },
      {
       "output_type": "stream",
       "stream": "stdout",
       "text": [
        "39700 "
       ]
      },
      {
       "output_type": "stream",
       "stream": "stdout",
       "text": [
        "39800 "
       ]
      },
      {
       "output_type": "stream",
       "stream": "stdout",
       "text": [
        "39900 "
       ]
      },
      {
       "output_type": "stream",
       "stream": "stdout",
       "text": [
        "40000 "
       ]
      },
      {
       "output_type": "stream",
       "stream": "stdout",
       "text": [
        "40100 "
       ]
      },
      {
       "output_type": "stream",
       "stream": "stdout",
       "text": [
        "40200 "
       ]
      },
      {
       "output_type": "stream",
       "stream": "stdout",
       "text": [
        "40300 "
       ]
      },
      {
       "output_type": "stream",
       "stream": "stdout",
       "text": [
        "40400 "
       ]
      },
      {
       "output_type": "stream",
       "stream": "stdout",
       "text": [
        "40500 "
       ]
      },
      {
       "output_type": "stream",
       "stream": "stdout",
       "text": [
        "40600 "
       ]
      },
      {
       "output_type": "stream",
       "stream": "stdout",
       "text": [
        "40700 "
       ]
      },
      {
       "output_type": "stream",
       "stream": "stdout",
       "text": [
        "40800 "
       ]
      },
      {
       "output_type": "stream",
       "stream": "stdout",
       "text": [
        "40900 "
       ]
      },
      {
       "output_type": "stream",
       "stream": "stdout",
       "text": [
        "41000 "
       ]
      },
      {
       "output_type": "stream",
       "stream": "stdout",
       "text": [
        "41100 "
       ]
      },
      {
       "output_type": "stream",
       "stream": "stdout",
       "text": [
        "41200 "
       ]
      },
      {
       "output_type": "stream",
       "stream": "stdout",
       "text": [
        "41300 "
       ]
      },
      {
       "output_type": "stream",
       "stream": "stdout",
       "text": [
        "41400 "
       ]
      },
      {
       "output_type": "stream",
       "stream": "stdout",
       "text": [
        "41500 "
       ]
      },
      {
       "output_type": "stream",
       "stream": "stdout",
       "text": [
        "41600 "
       ]
      },
      {
       "output_type": "stream",
       "stream": "stdout",
       "text": [
        "41700 "
       ]
      },
      {
       "output_type": "stream",
       "stream": "stdout",
       "text": [
        "41800 "
       ]
      },
      {
       "output_type": "stream",
       "stream": "stdout",
       "text": [
        "41900 "
       ]
      },
      {
       "output_type": "stream",
       "stream": "stdout",
       "text": [
        "42000 "
       ]
      },
      {
       "output_type": "stream",
       "stream": "stdout",
       "text": [
        "42100 "
       ]
      },
      {
       "output_type": "stream",
       "stream": "stdout",
       "text": [
        "42200 "
       ]
      },
      {
       "output_type": "stream",
       "stream": "stdout",
       "text": [
        "42300 "
       ]
      },
      {
       "output_type": "stream",
       "stream": "stdout",
       "text": [
        "42400 "
       ]
      },
      {
       "output_type": "stream",
       "stream": "stdout",
       "text": [
        "42500 "
       ]
      },
      {
       "output_type": "stream",
       "stream": "stdout",
       "text": [
        "42600 "
       ]
      },
      {
       "output_type": "stream",
       "stream": "stdout",
       "text": [
        "42700 "
       ]
      },
      {
       "output_type": "stream",
       "stream": "stdout",
       "text": [
        "42800 "
       ]
      },
      {
       "output_type": "stream",
       "stream": "stdout",
       "text": [
        "42900 "
       ]
      },
      {
       "output_type": "stream",
       "stream": "stdout",
       "text": [
        "43000 "
       ]
      },
      {
       "output_type": "stream",
       "stream": "stdout",
       "text": [
        "43100 "
       ]
      },
      {
       "output_type": "stream",
       "stream": "stdout",
       "text": [
        "43200 "
       ]
      },
      {
       "output_type": "stream",
       "stream": "stdout",
       "text": [
        "43300 "
       ]
      },
      {
       "output_type": "stream",
       "stream": "stdout",
       "text": [
        "43400 "
       ]
      },
      {
       "output_type": "stream",
       "stream": "stdout",
       "text": [
        "43500 "
       ]
      },
      {
       "output_type": "stream",
       "stream": "stdout",
       "text": [
        "43600 "
       ]
      },
      {
       "output_type": "stream",
       "stream": "stdout",
       "text": [
        "43700 "
       ]
      },
      {
       "output_type": "stream",
       "stream": "stdout",
       "text": [
        "43800 "
       ]
      },
      {
       "output_type": "stream",
       "stream": "stdout",
       "text": [
        "43900 "
       ]
      },
      {
       "output_type": "stream",
       "stream": "stdout",
       "text": [
        "44000 "
       ]
      },
      {
       "output_type": "stream",
       "stream": "stdout",
       "text": [
        "44100 "
       ]
      },
      {
       "output_type": "stream",
       "stream": "stdout",
       "text": [
        "44200 "
       ]
      },
      {
       "output_type": "stream",
       "stream": "stdout",
       "text": [
        "44300 "
       ]
      },
      {
       "output_type": "stream",
       "stream": "stdout",
       "text": [
        "44400 "
       ]
      },
      {
       "output_type": "stream",
       "stream": "stdout",
       "text": [
        "44500 "
       ]
      },
      {
       "output_type": "stream",
       "stream": "stdout",
       "text": [
        "44600 "
       ]
      },
      {
       "output_type": "stream",
       "stream": "stdout",
       "text": [
        "44700 "
       ]
      },
      {
       "output_type": "stream",
       "stream": "stdout",
       "text": [
        "44800 "
       ]
      },
      {
       "output_type": "stream",
       "stream": "stdout",
       "text": [
        "44900 "
       ]
      },
      {
       "output_type": "stream",
       "stream": "stdout",
       "text": [
        "45000 "
       ]
      },
      {
       "output_type": "stream",
       "stream": "stdout",
       "text": [
        "45100 "
       ]
      },
      {
       "output_type": "stream",
       "stream": "stdout",
       "text": [
        "45200 "
       ]
      },
      {
       "output_type": "stream",
       "stream": "stdout",
       "text": [
        "45300 "
       ]
      },
      {
       "output_type": "stream",
       "stream": "stdout",
       "text": [
        "45400 "
       ]
      },
      {
       "output_type": "stream",
       "stream": "stdout",
       "text": [
        "45500 "
       ]
      },
      {
       "output_type": "stream",
       "stream": "stdout",
       "text": [
        "45600 "
       ]
      },
      {
       "output_type": "stream",
       "stream": "stdout",
       "text": [
        "45700 "
       ]
      },
      {
       "output_type": "stream",
       "stream": "stdout",
       "text": [
        "45800 "
       ]
      },
      {
       "output_type": "stream",
       "stream": "stdout",
       "text": [
        "45900 "
       ]
      },
      {
       "output_type": "stream",
       "stream": "stdout",
       "text": [
        "46000\n"
       ]
      }
     ],
     "prompt_number": 6
    },
    {
     "cell_type": "code",
     "collapsed": false,
     "input": [
      "n = -1\n",
      "res = []\n",
      "k = 0\n",
      "for i in range(len(train)):\n",
      "    res.append(MeanNDayFromThis(n, train, train.City[i], train.Year[i], train.Month[i], train.Day[i]))\n",
      "    if ( (k % 100) == 0):\n",
      "        print k,\n",
      "    k += 1\n",
      "train[\"PrevValue\"] = pd.Series(res)"
     ],
     "language": "python",
     "metadata": {},
     "outputs": [
      {
       "output_type": "stream",
       "stream": "stdout",
       "text": [
        "0 "
       ]
      },
      {
       "output_type": "stream",
       "stream": "stdout",
       "text": [
        "100 "
       ]
      },
      {
       "output_type": "stream",
       "stream": "stdout",
       "text": [
        "200 "
       ]
      },
      {
       "output_type": "stream",
       "stream": "stdout",
       "text": [
        "300 "
       ]
      },
      {
       "output_type": "stream",
       "stream": "stdout",
       "text": [
        "400 "
       ]
      },
      {
       "output_type": "stream",
       "stream": "stdout",
       "text": [
        "500 "
       ]
      },
      {
       "output_type": "stream",
       "stream": "stdout",
       "text": [
        "600 "
       ]
      },
      {
       "output_type": "stream",
       "stream": "stdout",
       "text": [
        "700 "
       ]
      },
      {
       "output_type": "stream",
       "stream": "stdout",
       "text": [
        "800 "
       ]
      },
      {
       "output_type": "stream",
       "stream": "stdout",
       "text": [
        "900 "
       ]
      },
      {
       "output_type": "stream",
       "stream": "stdout",
       "text": [
        "1000 "
       ]
      },
      {
       "output_type": "stream",
       "stream": "stdout",
       "text": [
        "1100 "
       ]
      },
      {
       "output_type": "stream",
       "stream": "stdout",
       "text": [
        "1200 "
       ]
      },
      {
       "output_type": "stream",
       "stream": "stdout",
       "text": [
        "1300 "
       ]
      },
      {
       "output_type": "stream",
       "stream": "stdout",
       "text": [
        "1400 "
       ]
      },
      {
       "output_type": "stream",
       "stream": "stdout",
       "text": [
        "1500 "
       ]
      },
      {
       "output_type": "stream",
       "stream": "stdout",
       "text": [
        "1600 "
       ]
      },
      {
       "output_type": "stream",
       "stream": "stdout",
       "text": [
        "1700 "
       ]
      },
      {
       "output_type": "stream",
       "stream": "stdout",
       "text": [
        "1800 "
       ]
      },
      {
       "output_type": "stream",
       "stream": "stdout",
       "text": [
        "1900 "
       ]
      },
      {
       "output_type": "stream",
       "stream": "stdout",
       "text": [
        "2000 "
       ]
      },
      {
       "output_type": "stream",
       "stream": "stdout",
       "text": [
        "2100 "
       ]
      },
      {
       "output_type": "stream",
       "stream": "stdout",
       "text": [
        "2200 "
       ]
      },
      {
       "output_type": "stream",
       "stream": "stdout",
       "text": [
        "2300 "
       ]
      },
      {
       "output_type": "stream",
       "stream": "stdout",
       "text": [
        "2400 "
       ]
      },
      {
       "output_type": "stream",
       "stream": "stdout",
       "text": [
        "2500 "
       ]
      },
      {
       "output_type": "stream",
       "stream": "stdout",
       "text": [
        "2600 "
       ]
      },
      {
       "output_type": "stream",
       "stream": "stdout",
       "text": [
        "2700 "
       ]
      },
      {
       "output_type": "stream",
       "stream": "stdout",
       "text": [
        "2800 "
       ]
      },
      {
       "output_type": "stream",
       "stream": "stdout",
       "text": [
        "2900 "
       ]
      },
      {
       "output_type": "stream",
       "stream": "stdout",
       "text": [
        "3000 "
       ]
      },
      {
       "output_type": "stream",
       "stream": "stdout",
       "text": [
        "3100 "
       ]
      },
      {
       "output_type": "stream",
       "stream": "stdout",
       "text": [
        "3200 "
       ]
      },
      {
       "output_type": "stream",
       "stream": "stdout",
       "text": [
        "3300 "
       ]
      },
      {
       "output_type": "stream",
       "stream": "stdout",
       "text": [
        "3400 "
       ]
      },
      {
       "output_type": "stream",
       "stream": "stdout",
       "text": [
        "3500 "
       ]
      },
      {
       "output_type": "stream",
       "stream": "stdout",
       "text": [
        "3600 "
       ]
      },
      {
       "output_type": "stream",
       "stream": "stdout",
       "text": [
        "3700 "
       ]
      },
      {
       "output_type": "stream",
       "stream": "stdout",
       "text": [
        "3800 "
       ]
      },
      {
       "output_type": "stream",
       "stream": "stdout",
       "text": [
        "3900 "
       ]
      },
      {
       "output_type": "stream",
       "stream": "stdout",
       "text": [
        "4000 "
       ]
      },
      {
       "output_type": "stream",
       "stream": "stdout",
       "text": [
        "4100 "
       ]
      },
      {
       "output_type": "stream",
       "stream": "stdout",
       "text": [
        "4200 "
       ]
      },
      {
       "output_type": "stream",
       "stream": "stdout",
       "text": [
        "4300 "
       ]
      },
      {
       "output_type": "stream",
       "stream": "stdout",
       "text": [
        "4400 "
       ]
      },
      {
       "output_type": "stream",
       "stream": "stdout",
       "text": [
        "4500 "
       ]
      },
      {
       "output_type": "stream",
       "stream": "stdout",
       "text": [
        "4600 "
       ]
      },
      {
       "output_type": "stream",
       "stream": "stdout",
       "text": [
        "4700 "
       ]
      },
      {
       "output_type": "stream",
       "stream": "stdout",
       "text": [
        "4800 "
       ]
      },
      {
       "output_type": "stream",
       "stream": "stdout",
       "text": [
        "4900 "
       ]
      },
      {
       "output_type": "stream",
       "stream": "stdout",
       "text": [
        "5000 "
       ]
      },
      {
       "output_type": "stream",
       "stream": "stdout",
       "text": [
        "5100 "
       ]
      },
      {
       "output_type": "stream",
       "stream": "stdout",
       "text": [
        "5200 "
       ]
      },
      {
       "output_type": "stream",
       "stream": "stdout",
       "text": [
        "5300 "
       ]
      },
      {
       "output_type": "stream",
       "stream": "stdout",
       "text": [
        "5400 "
       ]
      },
      {
       "output_type": "stream",
       "stream": "stdout",
       "text": [
        "5500 "
       ]
      },
      {
       "output_type": "stream",
       "stream": "stdout",
       "text": [
        "5600 "
       ]
      },
      {
       "output_type": "stream",
       "stream": "stdout",
       "text": [
        "5700 "
       ]
      },
      {
       "output_type": "stream",
       "stream": "stdout",
       "text": [
        "5800 "
       ]
      },
      {
       "output_type": "stream",
       "stream": "stdout",
       "text": [
        "5900 "
       ]
      },
      {
       "output_type": "stream",
       "stream": "stdout",
       "text": [
        "6000 "
       ]
      },
      {
       "output_type": "stream",
       "stream": "stdout",
       "text": [
        "6100 "
       ]
      },
      {
       "output_type": "stream",
       "stream": "stdout",
       "text": [
        "6200 "
       ]
      },
      {
       "output_type": "stream",
       "stream": "stdout",
       "text": [
        "6300 "
       ]
      },
      {
       "output_type": "stream",
       "stream": "stdout",
       "text": [
        "6400 "
       ]
      },
      {
       "output_type": "stream",
       "stream": "stdout",
       "text": [
        "6500 "
       ]
      },
      {
       "output_type": "stream",
       "stream": "stdout",
       "text": [
        "6600 "
       ]
      },
      {
       "output_type": "stream",
       "stream": "stdout",
       "text": [
        "6700 "
       ]
      },
      {
       "output_type": "stream",
       "stream": "stdout",
       "text": [
        "6800 "
       ]
      },
      {
       "output_type": "stream",
       "stream": "stdout",
       "text": [
        "6900 "
       ]
      },
      {
       "output_type": "stream",
       "stream": "stdout",
       "text": [
        "7000 "
       ]
      },
      {
       "output_type": "stream",
       "stream": "stdout",
       "text": [
        "7100 "
       ]
      },
      {
       "output_type": "stream",
       "stream": "stdout",
       "text": [
        "7200 "
       ]
      },
      {
       "output_type": "stream",
       "stream": "stdout",
       "text": [
        "7300 "
       ]
      },
      {
       "output_type": "stream",
       "stream": "stdout",
       "text": [
        "7400 "
       ]
      },
      {
       "output_type": "stream",
       "stream": "stdout",
       "text": [
        "7500 "
       ]
      },
      {
       "output_type": "stream",
       "stream": "stdout",
       "text": [
        "7600 "
       ]
      },
      {
       "output_type": "stream",
       "stream": "stdout",
       "text": [
        "7700 "
       ]
      },
      {
       "output_type": "stream",
       "stream": "stdout",
       "text": [
        "7800 "
       ]
      },
      {
       "output_type": "stream",
       "stream": "stdout",
       "text": [
        "7900 "
       ]
      },
      {
       "output_type": "stream",
       "stream": "stdout",
       "text": [
        "8000 "
       ]
      },
      {
       "output_type": "stream",
       "stream": "stdout",
       "text": [
        "8100 "
       ]
      },
      {
       "output_type": "stream",
       "stream": "stdout",
       "text": [
        "8200 "
       ]
      },
      {
       "output_type": "stream",
       "stream": "stdout",
       "text": [
        "8300 "
       ]
      },
      {
       "output_type": "stream",
       "stream": "stdout",
       "text": [
        "8400 "
       ]
      },
      {
       "output_type": "stream",
       "stream": "stdout",
       "text": [
        "8500 "
       ]
      },
      {
       "output_type": "stream",
       "stream": "stdout",
       "text": [
        "8600 "
       ]
      },
      {
       "output_type": "stream",
       "stream": "stdout",
       "text": [
        "8700 "
       ]
      },
      {
       "output_type": "stream",
       "stream": "stdout",
       "text": [
        "8800 "
       ]
      },
      {
       "output_type": "stream",
       "stream": "stdout",
       "text": [
        "8900 "
       ]
      },
      {
       "output_type": "stream",
       "stream": "stdout",
       "text": [
        "9000 "
       ]
      },
      {
       "output_type": "stream",
       "stream": "stdout",
       "text": [
        "9100 "
       ]
      },
      {
       "output_type": "stream",
       "stream": "stdout",
       "text": [
        "9200 "
       ]
      },
      {
       "output_type": "stream",
       "stream": "stdout",
       "text": [
        "9300 "
       ]
      },
      {
       "output_type": "stream",
       "stream": "stdout",
       "text": [
        "9400 "
       ]
      },
      {
       "output_type": "stream",
       "stream": "stdout",
       "text": [
        "9500 "
       ]
      },
      {
       "output_type": "stream",
       "stream": "stdout",
       "text": [
        "9600 "
       ]
      },
      {
       "output_type": "stream",
       "stream": "stdout",
       "text": [
        "9700 "
       ]
      },
      {
       "output_type": "stream",
       "stream": "stdout",
       "text": [
        "9800 "
       ]
      },
      {
       "output_type": "stream",
       "stream": "stdout",
       "text": [
        "9900 "
       ]
      },
      {
       "output_type": "stream",
       "stream": "stdout",
       "text": [
        "10000 "
       ]
      },
      {
       "output_type": "stream",
       "stream": "stdout",
       "text": [
        "10100 "
       ]
      },
      {
       "output_type": "stream",
       "stream": "stdout",
       "text": [
        "10200 "
       ]
      },
      {
       "output_type": "stream",
       "stream": "stdout",
       "text": [
        "10300 "
       ]
      },
      {
       "output_type": "stream",
       "stream": "stdout",
       "text": [
        "10400 "
       ]
      },
      {
       "output_type": "stream",
       "stream": "stdout",
       "text": [
        "10500 "
       ]
      },
      {
       "output_type": "stream",
       "stream": "stdout",
       "text": [
        "10600 "
       ]
      },
      {
       "output_type": "stream",
       "stream": "stdout",
       "text": [
        "10700 "
       ]
      },
      {
       "output_type": "stream",
       "stream": "stdout",
       "text": [
        "10800 "
       ]
      },
      {
       "output_type": "stream",
       "stream": "stdout",
       "text": [
        "10900 "
       ]
      },
      {
       "output_type": "stream",
       "stream": "stdout",
       "text": [
        "11000 "
       ]
      },
      {
       "output_type": "stream",
       "stream": "stdout",
       "text": [
        "11100 "
       ]
      },
      {
       "output_type": "stream",
       "stream": "stdout",
       "text": [
        "11200 "
       ]
      },
      {
       "output_type": "stream",
       "stream": "stdout",
       "text": [
        "11300 "
       ]
      },
      {
       "output_type": "stream",
       "stream": "stdout",
       "text": [
        "11400 "
       ]
      },
      {
       "output_type": "stream",
       "stream": "stdout",
       "text": [
        "11500 "
       ]
      },
      {
       "output_type": "stream",
       "stream": "stdout",
       "text": [
        "11600 "
       ]
      },
      {
       "output_type": "stream",
       "stream": "stdout",
       "text": [
        "11700 "
       ]
      },
      {
       "output_type": "stream",
       "stream": "stdout",
       "text": [
        "11800 "
       ]
      },
      {
       "output_type": "stream",
       "stream": "stdout",
       "text": [
        "11900 "
       ]
      },
      {
       "output_type": "stream",
       "stream": "stdout",
       "text": [
        "12000 "
       ]
      },
      {
       "output_type": "stream",
       "stream": "stdout",
       "text": [
        "12100 "
       ]
      },
      {
       "output_type": "stream",
       "stream": "stdout",
       "text": [
        "12200 "
       ]
      },
      {
       "output_type": "stream",
       "stream": "stdout",
       "text": [
        "12300 "
       ]
      },
      {
       "output_type": "stream",
       "stream": "stdout",
       "text": [
        "12400 "
       ]
      },
      {
       "output_type": "stream",
       "stream": "stdout",
       "text": [
        "12500 "
       ]
      },
      {
       "output_type": "stream",
       "stream": "stdout",
       "text": [
        "12600 "
       ]
      },
      {
       "output_type": "stream",
       "stream": "stdout",
       "text": [
        "12700 "
       ]
      },
      {
       "output_type": "stream",
       "stream": "stdout",
       "text": [
        "12800 "
       ]
      },
      {
       "output_type": "stream",
       "stream": "stdout",
       "text": [
        "12900 "
       ]
      },
      {
       "output_type": "stream",
       "stream": "stdout",
       "text": [
        "13000 "
       ]
      },
      {
       "output_type": "stream",
       "stream": "stdout",
       "text": [
        "13100 "
       ]
      },
      {
       "output_type": "stream",
       "stream": "stdout",
       "text": [
        "13200 "
       ]
      },
      {
       "output_type": "stream",
       "stream": "stdout",
       "text": [
        "13300 "
       ]
      },
      {
       "output_type": "stream",
       "stream": "stdout",
       "text": [
        "13400 "
       ]
      },
      {
       "output_type": "stream",
       "stream": "stdout",
       "text": [
        "13500 "
       ]
      },
      {
       "output_type": "stream",
       "stream": "stdout",
       "text": [
        "13600 "
       ]
      },
      {
       "output_type": "stream",
       "stream": "stdout",
       "text": [
        "13700 "
       ]
      },
      {
       "output_type": "stream",
       "stream": "stdout",
       "text": [
        "13800 "
       ]
      },
      {
       "output_type": "stream",
       "stream": "stdout",
       "text": [
        "13900 "
       ]
      },
      {
       "output_type": "stream",
       "stream": "stdout",
       "text": [
        "14000 "
       ]
      },
      {
       "output_type": "stream",
       "stream": "stdout",
       "text": [
        "14100 "
       ]
      },
      {
       "output_type": "stream",
       "stream": "stdout",
       "text": [
        "14200 "
       ]
      },
      {
       "output_type": "stream",
       "stream": "stdout",
       "text": [
        "14300 "
       ]
      },
      {
       "output_type": "stream",
       "stream": "stdout",
       "text": [
        "14400 "
       ]
      },
      {
       "output_type": "stream",
       "stream": "stdout",
       "text": [
        "14500 "
       ]
      },
      {
       "output_type": "stream",
       "stream": "stdout",
       "text": [
        "14600 "
       ]
      },
      {
       "output_type": "stream",
       "stream": "stdout",
       "text": [
        "14700 "
       ]
      },
      {
       "output_type": "stream",
       "stream": "stdout",
       "text": [
        "14800 "
       ]
      },
      {
       "output_type": "stream",
       "stream": "stdout",
       "text": [
        "14900 "
       ]
      },
      {
       "output_type": "stream",
       "stream": "stdout",
       "text": [
        "15000 "
       ]
      },
      {
       "output_type": "stream",
       "stream": "stdout",
       "text": [
        "15100 "
       ]
      },
      {
       "output_type": "stream",
       "stream": "stdout",
       "text": [
        "15200 "
       ]
      },
      {
       "output_type": "stream",
       "stream": "stdout",
       "text": [
        "15300 "
       ]
      },
      {
       "output_type": "stream",
       "stream": "stdout",
       "text": [
        "15400 "
       ]
      },
      {
       "output_type": "stream",
       "stream": "stdout",
       "text": [
        "15500 "
       ]
      },
      {
       "output_type": "stream",
       "stream": "stdout",
       "text": [
        "15600 "
       ]
      },
      {
       "output_type": "stream",
       "stream": "stdout",
       "text": [
        "15700 "
       ]
      },
      {
       "output_type": "stream",
       "stream": "stdout",
       "text": [
        "15800 "
       ]
      },
      {
       "output_type": "stream",
       "stream": "stdout",
       "text": [
        "15900 "
       ]
      },
      {
       "output_type": "stream",
       "stream": "stdout",
       "text": [
        "16000 "
       ]
      },
      {
       "output_type": "stream",
       "stream": "stdout",
       "text": [
        "16100 "
       ]
      },
      {
       "output_type": "stream",
       "stream": "stdout",
       "text": [
        "16200 "
       ]
      },
      {
       "output_type": "stream",
       "stream": "stdout",
       "text": [
        "16300 "
       ]
      },
      {
       "output_type": "stream",
       "stream": "stdout",
       "text": [
        "16400 "
       ]
      },
      {
       "output_type": "stream",
       "stream": "stdout",
       "text": [
        "16500 "
       ]
      },
      {
       "output_type": "stream",
       "stream": "stdout",
       "text": [
        "16600 "
       ]
      },
      {
       "output_type": "stream",
       "stream": "stdout",
       "text": [
        "16700 "
       ]
      },
      {
       "output_type": "stream",
       "stream": "stdout",
       "text": [
        "16800 "
       ]
      },
      {
       "output_type": "stream",
       "stream": "stdout",
       "text": [
        "16900 "
       ]
      },
      {
       "output_type": "stream",
       "stream": "stdout",
       "text": [
        "17000 "
       ]
      },
      {
       "output_type": "stream",
       "stream": "stdout",
       "text": [
        "17100 "
       ]
      },
      {
       "output_type": "stream",
       "stream": "stdout",
       "text": [
        "17200 "
       ]
      },
      {
       "output_type": "stream",
       "stream": "stdout",
       "text": [
        "17300 "
       ]
      },
      {
       "output_type": "stream",
       "stream": "stdout",
       "text": [
        "17400 "
       ]
      },
      {
       "output_type": "stream",
       "stream": "stdout",
       "text": [
        "17500 "
       ]
      },
      {
       "output_type": "stream",
       "stream": "stdout",
       "text": [
        "17600 "
       ]
      },
      {
       "output_type": "stream",
       "stream": "stdout",
       "text": [
        "17700 "
       ]
      },
      {
       "output_type": "stream",
       "stream": "stdout",
       "text": [
        "17800 "
       ]
      },
      {
       "output_type": "stream",
       "stream": "stdout",
       "text": [
        "17900 "
       ]
      },
      {
       "output_type": "stream",
       "stream": "stdout",
       "text": [
        "18000 "
       ]
      },
      {
       "output_type": "stream",
       "stream": "stdout",
       "text": [
        "18100 "
       ]
      },
      {
       "output_type": "stream",
       "stream": "stdout",
       "text": [
        "18200 "
       ]
      },
      {
       "output_type": "stream",
       "stream": "stdout",
       "text": [
        "18300 "
       ]
      },
      {
       "output_type": "stream",
       "stream": "stdout",
       "text": [
        "18400 "
       ]
      },
      {
       "output_type": "stream",
       "stream": "stdout",
       "text": [
        "18500 "
       ]
      },
      {
       "output_type": "stream",
       "stream": "stdout",
       "text": [
        "18600 "
       ]
      },
      {
       "output_type": "stream",
       "stream": "stdout",
       "text": [
        "18700 "
       ]
      },
      {
       "output_type": "stream",
       "stream": "stdout",
       "text": [
        "18800 "
       ]
      },
      {
       "output_type": "stream",
       "stream": "stdout",
       "text": [
        "18900 "
       ]
      },
      {
       "output_type": "stream",
       "stream": "stdout",
       "text": [
        "19000 "
       ]
      },
      {
       "output_type": "stream",
       "stream": "stdout",
       "text": [
        "19100 "
       ]
      },
      {
       "output_type": "stream",
       "stream": "stdout",
       "text": [
        "19200 "
       ]
      },
      {
       "output_type": "stream",
       "stream": "stdout",
       "text": [
        "19300 "
       ]
      },
      {
       "output_type": "stream",
       "stream": "stdout",
       "text": [
        "19400 "
       ]
      },
      {
       "output_type": "stream",
       "stream": "stdout",
       "text": [
        "19500 "
       ]
      },
      {
       "output_type": "stream",
       "stream": "stdout",
       "text": [
        "19600 "
       ]
      },
      {
       "output_type": "stream",
       "stream": "stdout",
       "text": [
        "19700 "
       ]
      },
      {
       "output_type": "stream",
       "stream": "stdout",
       "text": [
        "19800 "
       ]
      },
      {
       "output_type": "stream",
       "stream": "stdout",
       "text": [
        "19900 "
       ]
      },
      {
       "output_type": "stream",
       "stream": "stdout",
       "text": [
        "20000 "
       ]
      },
      {
       "output_type": "stream",
       "stream": "stdout",
       "text": [
        "20100 "
       ]
      },
      {
       "output_type": "stream",
       "stream": "stdout",
       "text": [
        "20200 "
       ]
      },
      {
       "output_type": "stream",
       "stream": "stdout",
       "text": [
        "20300 "
       ]
      },
      {
       "output_type": "stream",
       "stream": "stdout",
       "text": [
        "20400 "
       ]
      },
      {
       "output_type": "stream",
       "stream": "stdout",
       "text": [
        "20500 "
       ]
      },
      {
       "output_type": "stream",
       "stream": "stdout",
       "text": [
        "20600 "
       ]
      },
      {
       "output_type": "stream",
       "stream": "stdout",
       "text": [
        "20700 "
       ]
      },
      {
       "output_type": "stream",
       "stream": "stdout",
       "text": [
        "20800 "
       ]
      },
      {
       "output_type": "stream",
       "stream": "stdout",
       "text": [
        "20900 "
       ]
      },
      {
       "output_type": "stream",
       "stream": "stdout",
       "text": [
        "21000 "
       ]
      },
      {
       "output_type": "stream",
       "stream": "stdout",
       "text": [
        "21100 "
       ]
      },
      {
       "output_type": "stream",
       "stream": "stdout",
       "text": [
        "21200 "
       ]
      },
      {
       "output_type": "stream",
       "stream": "stdout",
       "text": [
        "21300 "
       ]
      },
      {
       "output_type": "stream",
       "stream": "stdout",
       "text": [
        "21400 "
       ]
      },
      {
       "output_type": "stream",
       "stream": "stdout",
       "text": [
        "21500 "
       ]
      },
      {
       "output_type": "stream",
       "stream": "stdout",
       "text": [
        "21600 "
       ]
      },
      {
       "output_type": "stream",
       "stream": "stdout",
       "text": [
        "21700 "
       ]
      },
      {
       "output_type": "stream",
       "stream": "stdout",
       "text": [
        "21800 "
       ]
      },
      {
       "output_type": "stream",
       "stream": "stdout",
       "text": [
        "21900 "
       ]
      },
      {
       "output_type": "stream",
       "stream": "stdout",
       "text": [
        "22000 "
       ]
      },
      {
       "output_type": "stream",
       "stream": "stdout",
       "text": [
        "22100 "
       ]
      },
      {
       "output_type": "stream",
       "stream": "stdout",
       "text": [
        "22200 "
       ]
      },
      {
       "output_type": "stream",
       "stream": "stdout",
       "text": [
        "22300 "
       ]
      },
      {
       "output_type": "stream",
       "stream": "stdout",
       "text": [
        "22400 "
       ]
      },
      {
       "output_type": "stream",
       "stream": "stdout",
       "text": [
        "22500 "
       ]
      },
      {
       "output_type": "stream",
       "stream": "stdout",
       "text": [
        "22600 "
       ]
      },
      {
       "output_type": "stream",
       "stream": "stdout",
       "text": [
        "22700 "
       ]
      },
      {
       "output_type": "stream",
       "stream": "stdout",
       "text": [
        "22800 "
       ]
      },
      {
       "output_type": "stream",
       "stream": "stdout",
       "text": [
        "22900 "
       ]
      },
      {
       "output_type": "stream",
       "stream": "stdout",
       "text": [
        "23000 "
       ]
      },
      {
       "output_type": "stream",
       "stream": "stdout",
       "text": [
        "23100 "
       ]
      },
      {
       "output_type": "stream",
       "stream": "stdout",
       "text": [
        "23200 "
       ]
      },
      {
       "output_type": "stream",
       "stream": "stdout",
       "text": [
        "23300 "
       ]
      },
      {
       "output_type": "stream",
       "stream": "stdout",
       "text": [
        "23400 "
       ]
      },
      {
       "output_type": "stream",
       "stream": "stdout",
       "text": [
        "23500 "
       ]
      },
      {
       "output_type": "stream",
       "stream": "stdout",
       "text": [
        "23600 "
       ]
      },
      {
       "output_type": "stream",
       "stream": "stdout",
       "text": [
        "23700 "
       ]
      },
      {
       "output_type": "stream",
       "stream": "stdout",
       "text": [
        "23800 "
       ]
      },
      {
       "output_type": "stream",
       "stream": "stdout",
       "text": [
        "23900 "
       ]
      },
      {
       "output_type": "stream",
       "stream": "stdout",
       "text": [
        "24000 "
       ]
      },
      {
       "output_type": "stream",
       "stream": "stdout",
       "text": [
        "24100 "
       ]
      },
      {
       "output_type": "stream",
       "stream": "stdout",
       "text": [
        "24200 "
       ]
      },
      {
       "output_type": "stream",
       "stream": "stdout",
       "text": [
        "24300 "
       ]
      },
      {
       "output_type": "stream",
       "stream": "stdout",
       "text": [
        "24400 "
       ]
      },
      {
       "output_type": "stream",
       "stream": "stdout",
       "text": [
        "24500 "
       ]
      },
      {
       "output_type": "stream",
       "stream": "stdout",
       "text": [
        "24600 "
       ]
      },
      {
       "output_type": "stream",
       "stream": "stdout",
       "text": [
        "24700 "
       ]
      },
      {
       "output_type": "stream",
       "stream": "stdout",
       "text": [
        "24800 "
       ]
      },
      {
       "output_type": "stream",
       "stream": "stdout",
       "text": [
        "24900 "
       ]
      },
      {
       "output_type": "stream",
       "stream": "stdout",
       "text": [
        "25000 "
       ]
      },
      {
       "output_type": "stream",
       "stream": "stdout",
       "text": [
        "25100 "
       ]
      },
      {
       "output_type": "stream",
       "stream": "stdout",
       "text": [
        "25200 "
       ]
      },
      {
       "output_type": "stream",
       "stream": "stdout",
       "text": [
        "25300 "
       ]
      },
      {
       "output_type": "stream",
       "stream": "stdout",
       "text": [
        "25400 "
       ]
      },
      {
       "output_type": "stream",
       "stream": "stdout",
       "text": [
        "25500 "
       ]
      },
      {
       "output_type": "stream",
       "stream": "stdout",
       "text": [
        "25600 "
       ]
      },
      {
       "output_type": "stream",
       "stream": "stdout",
       "text": [
        "25700 "
       ]
      },
      {
       "output_type": "stream",
       "stream": "stdout",
       "text": [
        "25800 "
       ]
      },
      {
       "output_type": "stream",
       "stream": "stdout",
       "text": [
        "25900 "
       ]
      },
      {
       "output_type": "stream",
       "stream": "stdout",
       "text": [
        "26000 "
       ]
      },
      {
       "output_type": "stream",
       "stream": "stdout",
       "text": [
        "26100 "
       ]
      },
      {
       "output_type": "stream",
       "stream": "stdout",
       "text": [
        "26200 "
       ]
      },
      {
       "output_type": "stream",
       "stream": "stdout",
       "text": [
        "26300 "
       ]
      },
      {
       "output_type": "stream",
       "stream": "stdout",
       "text": [
        "26400 "
       ]
      },
      {
       "output_type": "stream",
       "stream": "stdout",
       "text": [
        "26500 "
       ]
      },
      {
       "output_type": "stream",
       "stream": "stdout",
       "text": [
        "26600 "
       ]
      },
      {
       "output_type": "stream",
       "stream": "stdout",
       "text": [
        "26700 "
       ]
      },
      {
       "output_type": "stream",
       "stream": "stdout",
       "text": [
        "26800 "
       ]
      },
      {
       "output_type": "stream",
       "stream": "stdout",
       "text": [
        "26900 "
       ]
      },
      {
       "output_type": "stream",
       "stream": "stdout",
       "text": [
        "27000 "
       ]
      },
      {
       "output_type": "stream",
       "stream": "stdout",
       "text": [
        "27100 "
       ]
      },
      {
       "output_type": "stream",
       "stream": "stdout",
       "text": [
        "27200 "
       ]
      },
      {
       "output_type": "stream",
       "stream": "stdout",
       "text": [
        "27300 "
       ]
      },
      {
       "output_type": "stream",
       "stream": "stdout",
       "text": [
        "27400 "
       ]
      },
      {
       "output_type": "stream",
       "stream": "stdout",
       "text": [
        "27500 "
       ]
      },
      {
       "output_type": "stream",
       "stream": "stdout",
       "text": [
        "27600 "
       ]
      },
      {
       "output_type": "stream",
       "stream": "stdout",
       "text": [
        "27700 "
       ]
      },
      {
       "output_type": "stream",
       "stream": "stdout",
       "text": [
        "27800 "
       ]
      },
      {
       "output_type": "stream",
       "stream": "stdout",
       "text": [
        "27900 "
       ]
      },
      {
       "output_type": "stream",
       "stream": "stdout",
       "text": [
        "28000 "
       ]
      },
      {
       "output_type": "stream",
       "stream": "stdout",
       "text": [
        "28100 "
       ]
      },
      {
       "output_type": "stream",
       "stream": "stdout",
       "text": [
        "28200 "
       ]
      },
      {
       "output_type": "stream",
       "stream": "stdout",
       "text": [
        "28300 "
       ]
      },
      {
       "output_type": "stream",
       "stream": "stdout",
       "text": [
        "28400 "
       ]
      },
      {
       "output_type": "stream",
       "stream": "stdout",
       "text": [
        "28500 "
       ]
      },
      {
       "output_type": "stream",
       "stream": "stdout",
       "text": [
        "28600 "
       ]
      },
      {
       "output_type": "stream",
       "stream": "stdout",
       "text": [
        "28700 "
       ]
      },
      {
       "output_type": "stream",
       "stream": "stdout",
       "text": [
        "28800 "
       ]
      },
      {
       "output_type": "stream",
       "stream": "stdout",
       "text": [
        "28900 "
       ]
      },
      {
       "output_type": "stream",
       "stream": "stdout",
       "text": [
        "29000 "
       ]
      },
      {
       "output_type": "stream",
       "stream": "stdout",
       "text": [
        "29100 "
       ]
      },
      {
       "output_type": "stream",
       "stream": "stdout",
       "text": [
        "29200 "
       ]
      },
      {
       "output_type": "stream",
       "stream": "stdout",
       "text": [
        "29300 "
       ]
      },
      {
       "output_type": "stream",
       "stream": "stdout",
       "text": [
        "29400 "
       ]
      },
      {
       "output_type": "stream",
       "stream": "stdout",
       "text": [
        "29500 "
       ]
      },
      {
       "output_type": "stream",
       "stream": "stdout",
       "text": [
        "29600 "
       ]
      },
      {
       "output_type": "stream",
       "stream": "stdout",
       "text": [
        "29700 "
       ]
      },
      {
       "output_type": "stream",
       "stream": "stdout",
       "text": [
        "29800 "
       ]
      },
      {
       "output_type": "stream",
       "stream": "stdout",
       "text": [
        "29900 "
       ]
      },
      {
       "output_type": "stream",
       "stream": "stdout",
       "text": [
        "30000 "
       ]
      },
      {
       "output_type": "stream",
       "stream": "stdout",
       "text": [
        "30100 "
       ]
      },
      {
       "output_type": "stream",
       "stream": "stdout",
       "text": [
        "30200 "
       ]
      },
      {
       "output_type": "stream",
       "stream": "stdout",
       "text": [
        "30300 "
       ]
      },
      {
       "output_type": "stream",
       "stream": "stdout",
       "text": [
        "30400 "
       ]
      },
      {
       "output_type": "stream",
       "stream": "stdout",
       "text": [
        "30500 "
       ]
      },
      {
       "output_type": "stream",
       "stream": "stdout",
       "text": [
        "30600 "
       ]
      },
      {
       "output_type": "stream",
       "stream": "stdout",
       "text": [
        "30700 "
       ]
      },
      {
       "output_type": "stream",
       "stream": "stdout",
       "text": [
        "30800 "
       ]
      },
      {
       "output_type": "stream",
       "stream": "stdout",
       "text": [
        "30900 "
       ]
      },
      {
       "output_type": "stream",
       "stream": "stdout",
       "text": [
        "31000 "
       ]
      },
      {
       "output_type": "stream",
       "stream": "stdout",
       "text": [
        "31100 "
       ]
      },
      {
       "output_type": "stream",
       "stream": "stdout",
       "text": [
        "31200 "
       ]
      },
      {
       "output_type": "stream",
       "stream": "stdout",
       "text": [
        "31300 "
       ]
      },
      {
       "output_type": "stream",
       "stream": "stdout",
       "text": [
        "31400 "
       ]
      },
      {
       "output_type": "stream",
       "stream": "stdout",
       "text": [
        "31500 "
       ]
      },
      {
       "output_type": "stream",
       "stream": "stdout",
       "text": [
        "31600 "
       ]
      },
      {
       "output_type": "stream",
       "stream": "stdout",
       "text": [
        "31700 "
       ]
      },
      {
       "output_type": "stream",
       "stream": "stdout",
       "text": [
        "31800 "
       ]
      },
      {
       "output_type": "stream",
       "stream": "stdout",
       "text": [
        "31900 "
       ]
      },
      {
       "output_type": "stream",
       "stream": "stdout",
       "text": [
        "32000 "
       ]
      },
      {
       "output_type": "stream",
       "stream": "stdout",
       "text": [
        "32100 "
       ]
      },
      {
       "output_type": "stream",
       "stream": "stdout",
       "text": [
        "32200 "
       ]
      },
      {
       "output_type": "stream",
       "stream": "stdout",
       "text": [
        "32300 "
       ]
      },
      {
       "output_type": "stream",
       "stream": "stdout",
       "text": [
        "32400 "
       ]
      },
      {
       "output_type": "stream",
       "stream": "stdout",
       "text": [
        "32500 "
       ]
      },
      {
       "output_type": "stream",
       "stream": "stdout",
       "text": [
        "32600 "
       ]
      },
      {
       "output_type": "stream",
       "stream": "stdout",
       "text": [
        "32700 "
       ]
      },
      {
       "output_type": "stream",
       "stream": "stdout",
       "text": [
        "32800 "
       ]
      },
      {
       "output_type": "stream",
       "stream": "stdout",
       "text": [
        "32900 "
       ]
      },
      {
       "output_type": "stream",
       "stream": "stdout",
       "text": [
        "33000 "
       ]
      },
      {
       "output_type": "stream",
       "stream": "stdout",
       "text": [
        "33100 "
       ]
      },
      {
       "output_type": "stream",
       "stream": "stdout",
       "text": [
        "33200 "
       ]
      },
      {
       "output_type": "stream",
       "stream": "stdout",
       "text": [
        "33300 "
       ]
      },
      {
       "output_type": "stream",
       "stream": "stdout",
       "text": [
        "33400 "
       ]
      },
      {
       "output_type": "stream",
       "stream": "stdout",
       "text": [
        "33500 "
       ]
      },
      {
       "output_type": "stream",
       "stream": "stdout",
       "text": [
        "33600 "
       ]
      },
      {
       "output_type": "stream",
       "stream": "stdout",
       "text": [
        "33700 "
       ]
      },
      {
       "output_type": "stream",
       "stream": "stdout",
       "text": [
        "33800 "
       ]
      },
      {
       "output_type": "stream",
       "stream": "stdout",
       "text": [
        "33900 "
       ]
      },
      {
       "output_type": "stream",
       "stream": "stdout",
       "text": [
        "34000 "
       ]
      },
      {
       "output_type": "stream",
       "stream": "stdout",
       "text": [
        "34100 "
       ]
      },
      {
       "output_type": "stream",
       "stream": "stdout",
       "text": [
        "34200 "
       ]
      },
      {
       "output_type": "stream",
       "stream": "stdout",
       "text": [
        "34300 "
       ]
      },
      {
       "output_type": "stream",
       "stream": "stdout",
       "text": [
        "34400 "
       ]
      },
      {
       "output_type": "stream",
       "stream": "stdout",
       "text": [
        "34500 "
       ]
      },
      {
       "output_type": "stream",
       "stream": "stdout",
       "text": [
        "34600 "
       ]
      },
      {
       "output_type": "stream",
       "stream": "stdout",
       "text": [
        "34700 "
       ]
      },
      {
       "output_type": "stream",
       "stream": "stdout",
       "text": [
        "34800 "
       ]
      },
      {
       "output_type": "stream",
       "stream": "stdout",
       "text": [
        "34900 "
       ]
      },
      {
       "output_type": "stream",
       "stream": "stdout",
       "text": [
        "35000 "
       ]
      },
      {
       "output_type": "stream",
       "stream": "stdout",
       "text": [
        "35100 "
       ]
      },
      {
       "output_type": "stream",
       "stream": "stdout",
       "text": [
        "35200 "
       ]
      },
      {
       "output_type": "stream",
       "stream": "stdout",
       "text": [
        "35300 "
       ]
      },
      {
       "output_type": "stream",
       "stream": "stdout",
       "text": [
        "35400 "
       ]
      },
      {
       "output_type": "stream",
       "stream": "stdout",
       "text": [
        "35500 "
       ]
      },
      {
       "output_type": "stream",
       "stream": "stdout",
       "text": [
        "35600 "
       ]
      },
      {
       "output_type": "stream",
       "stream": "stdout",
       "text": [
        "35700 "
       ]
      },
      {
       "output_type": "stream",
       "stream": "stdout",
       "text": [
        "35800 "
       ]
      },
      {
       "output_type": "stream",
       "stream": "stdout",
       "text": [
        "35900 "
       ]
      },
      {
       "output_type": "stream",
       "stream": "stdout",
       "text": [
        "36000 "
       ]
      },
      {
       "output_type": "stream",
       "stream": "stdout",
       "text": [
        "36100 "
       ]
      },
      {
       "output_type": "stream",
       "stream": "stdout",
       "text": [
        "36200 "
       ]
      },
      {
       "output_type": "stream",
       "stream": "stdout",
       "text": [
        "36300 "
       ]
      },
      {
       "output_type": "stream",
       "stream": "stdout",
       "text": [
        "36400 "
       ]
      },
      {
       "output_type": "stream",
       "stream": "stdout",
       "text": [
        "36500 "
       ]
      },
      {
       "output_type": "stream",
       "stream": "stdout",
       "text": [
        "36600 "
       ]
      },
      {
       "output_type": "stream",
       "stream": "stdout",
       "text": [
        "36700 "
       ]
      },
      {
       "output_type": "stream",
       "stream": "stdout",
       "text": [
        "36800 "
       ]
      },
      {
       "output_type": "stream",
       "stream": "stdout",
       "text": [
        "36900 "
       ]
      },
      {
       "output_type": "stream",
       "stream": "stdout",
       "text": [
        "37000 "
       ]
      },
      {
       "output_type": "stream",
       "stream": "stdout",
       "text": [
        "37100 "
       ]
      },
      {
       "output_type": "stream",
       "stream": "stdout",
       "text": [
        "37200 "
       ]
      },
      {
       "output_type": "stream",
       "stream": "stdout",
       "text": [
        "37300 "
       ]
      },
      {
       "output_type": "stream",
       "stream": "stdout",
       "text": [
        "37400 "
       ]
      },
      {
       "output_type": "stream",
       "stream": "stdout",
       "text": [
        "37500 "
       ]
      },
      {
       "output_type": "stream",
       "stream": "stdout",
       "text": [
        "37600 "
       ]
      },
      {
       "output_type": "stream",
       "stream": "stdout",
       "text": [
        "37700 "
       ]
      },
      {
       "output_type": "stream",
       "stream": "stdout",
       "text": [
        "37800 "
       ]
      },
      {
       "output_type": "stream",
       "stream": "stdout",
       "text": [
        "37900 "
       ]
      },
      {
       "output_type": "stream",
       "stream": "stdout",
       "text": [
        "38000 "
       ]
      },
      {
       "output_type": "stream",
       "stream": "stdout",
       "text": [
        "38100 "
       ]
      },
      {
       "output_type": "stream",
       "stream": "stdout",
       "text": [
        "38200 "
       ]
      },
      {
       "output_type": "stream",
       "stream": "stdout",
       "text": [
        "38300 "
       ]
      },
      {
       "output_type": "stream",
       "stream": "stdout",
       "text": [
        "38400 "
       ]
      },
      {
       "output_type": "stream",
       "stream": "stdout",
       "text": [
        "38500 "
       ]
      },
      {
       "output_type": "stream",
       "stream": "stdout",
       "text": [
        "38600 "
       ]
      },
      {
       "output_type": "stream",
       "stream": "stdout",
       "text": [
        "38700 "
       ]
      },
      {
       "output_type": "stream",
       "stream": "stdout",
       "text": [
        "38800 "
       ]
      },
      {
       "output_type": "stream",
       "stream": "stdout",
       "text": [
        "38900 "
       ]
      },
      {
       "output_type": "stream",
       "stream": "stdout",
       "text": [
        "39000 "
       ]
      },
      {
       "output_type": "stream",
       "stream": "stdout",
       "text": [
        "39100 "
       ]
      },
      {
       "output_type": "stream",
       "stream": "stdout",
       "text": [
        "39200 "
       ]
      },
      {
       "output_type": "stream",
       "stream": "stdout",
       "text": [
        "39300 "
       ]
      },
      {
       "output_type": "stream",
       "stream": "stdout",
       "text": [
        "39400 "
       ]
      },
      {
       "output_type": "stream",
       "stream": "stdout",
       "text": [
        "39500 "
       ]
      },
      {
       "output_type": "stream",
       "stream": "stdout",
       "text": [
        "39600 "
       ]
      },
      {
       "output_type": "stream",
       "stream": "stdout",
       "text": [
        "39700 "
       ]
      },
      {
       "output_type": "stream",
       "stream": "stdout",
       "text": [
        "39800 "
       ]
      },
      {
       "output_type": "stream",
       "stream": "stdout",
       "text": [
        "39900 "
       ]
      },
      {
       "output_type": "stream",
       "stream": "stdout",
       "text": [
        "40000 "
       ]
      },
      {
       "output_type": "stream",
       "stream": "stdout",
       "text": [
        "40100 "
       ]
      },
      {
       "output_type": "stream",
       "stream": "stdout",
       "text": [
        "40200 "
       ]
      },
      {
       "output_type": "stream",
       "stream": "stdout",
       "text": [
        "40300 "
       ]
      },
      {
       "output_type": "stream",
       "stream": "stdout",
       "text": [
        "40400 "
       ]
      },
      {
       "output_type": "stream",
       "stream": "stdout",
       "text": [
        "40500 "
       ]
      },
      {
       "output_type": "stream",
       "stream": "stdout",
       "text": [
        "40600 "
       ]
      },
      {
       "output_type": "stream",
       "stream": "stdout",
       "text": [
        "40700 "
       ]
      },
      {
       "output_type": "stream",
       "stream": "stdout",
       "text": [
        "40800 "
       ]
      },
      {
       "output_type": "stream",
       "stream": "stdout",
       "text": [
        "40900 "
       ]
      },
      {
       "output_type": "stream",
       "stream": "stdout",
       "text": [
        "41000 "
       ]
      },
      {
       "output_type": "stream",
       "stream": "stdout",
       "text": [
        "41100 "
       ]
      },
      {
       "output_type": "stream",
       "stream": "stdout",
       "text": [
        "41200 "
       ]
      },
      {
       "output_type": "stream",
       "stream": "stdout",
       "text": [
        "41300 "
       ]
      },
      {
       "output_type": "stream",
       "stream": "stdout",
       "text": [
        "41400 "
       ]
      },
      {
       "output_type": "stream",
       "stream": "stdout",
       "text": [
        "41500 "
       ]
      },
      {
       "output_type": "stream",
       "stream": "stdout",
       "text": [
        "41600 "
       ]
      },
      {
       "output_type": "stream",
       "stream": "stdout",
       "text": [
        "41700 "
       ]
      },
      {
       "output_type": "stream",
       "stream": "stdout",
       "text": [
        "41800 "
       ]
      },
      {
       "output_type": "stream",
       "stream": "stdout",
       "text": [
        "41900 "
       ]
      },
      {
       "output_type": "stream",
       "stream": "stdout",
       "text": [
        "42000 "
       ]
      },
      {
       "output_type": "stream",
       "stream": "stdout",
       "text": [
        "42100 "
       ]
      },
      {
       "output_type": "stream",
       "stream": "stdout",
       "text": [
        "42200 "
       ]
      },
      {
       "output_type": "stream",
       "stream": "stdout",
       "text": [
        "42300 "
       ]
      },
      {
       "output_type": "stream",
       "stream": "stdout",
       "text": [
        "42400 "
       ]
      },
      {
       "output_type": "stream",
       "stream": "stdout",
       "text": [
        "42500 "
       ]
      },
      {
       "output_type": "stream",
       "stream": "stdout",
       "text": [
        "42600 "
       ]
      },
      {
       "output_type": "stream",
       "stream": "stdout",
       "text": [
        "42700 "
       ]
      },
      {
       "output_type": "stream",
       "stream": "stdout",
       "text": [
        "42800 "
       ]
      },
      {
       "output_type": "stream",
       "stream": "stdout",
       "text": [
        "42900 "
       ]
      },
      {
       "output_type": "stream",
       "stream": "stdout",
       "text": [
        "43000 "
       ]
      },
      {
       "output_type": "stream",
       "stream": "stdout",
       "text": [
        "43100 "
       ]
      },
      {
       "output_type": "stream",
       "stream": "stdout",
       "text": [
        "43200 "
       ]
      },
      {
       "output_type": "stream",
       "stream": "stdout",
       "text": [
        "43300 "
       ]
      },
      {
       "output_type": "stream",
       "stream": "stdout",
       "text": [
        "43400 "
       ]
      },
      {
       "output_type": "stream",
       "stream": "stdout",
       "text": [
        "43500 "
       ]
      },
      {
       "output_type": "stream",
       "stream": "stdout",
       "text": [
        "43600 "
       ]
      },
      {
       "output_type": "stream",
       "stream": "stdout",
       "text": [
        "43700 "
       ]
      },
      {
       "output_type": "stream",
       "stream": "stdout",
       "text": [
        "43800 "
       ]
      },
      {
       "output_type": "stream",
       "stream": "stdout",
       "text": [
        "43900 "
       ]
      },
      {
       "output_type": "stream",
       "stream": "stdout",
       "text": [
        "44000 "
       ]
      },
      {
       "output_type": "stream",
       "stream": "stdout",
       "text": [
        "44100 "
       ]
      },
      {
       "output_type": "stream",
       "stream": "stdout",
       "text": [
        "44200 "
       ]
      },
      {
       "output_type": "stream",
       "stream": "stdout",
       "text": [
        "44300 "
       ]
      },
      {
       "output_type": "stream",
       "stream": "stdout",
       "text": [
        "44400 "
       ]
      },
      {
       "output_type": "stream",
       "stream": "stdout",
       "text": [
        "44500 "
       ]
      },
      {
       "output_type": "stream",
       "stream": "stdout",
       "text": [
        "44600 "
       ]
      },
      {
       "output_type": "stream",
       "stream": "stdout",
       "text": [
        "44700 "
       ]
      },
      {
       "output_type": "stream",
       "stream": "stdout",
       "text": [
        "44800 "
       ]
      },
      {
       "output_type": "stream",
       "stream": "stdout",
       "text": [
        "44900 "
       ]
      },
      {
       "output_type": "stream",
       "stream": "stdout",
       "text": [
        "45000 "
       ]
      },
      {
       "output_type": "stream",
       "stream": "stdout",
       "text": [
        "45100 "
       ]
      },
      {
       "output_type": "stream",
       "stream": "stdout",
       "text": [
        "45200 "
       ]
      },
      {
       "output_type": "stream",
       "stream": "stdout",
       "text": [
        "45300 "
       ]
      },
      {
       "output_type": "stream",
       "stream": "stdout",
       "text": [
        "45400 "
       ]
      },
      {
       "output_type": "stream",
       "stream": "stdout",
       "text": [
        "45500 "
       ]
      },
      {
       "output_type": "stream",
       "stream": "stdout",
       "text": [
        "45600 "
       ]
      },
      {
       "output_type": "stream",
       "stream": "stdout",
       "text": [
        "45700 "
       ]
      },
      {
       "output_type": "stream",
       "stream": "stdout",
       "text": [
        "45800 "
       ]
      },
      {
       "output_type": "stream",
       "stream": "stdout",
       "text": [
        "45900 "
       ]
      },
      {
       "output_type": "stream",
       "stream": "stdout",
       "text": [
        "46000\n"
       ]
      }
     ],
     "prompt_number": 7
    },
    {
     "cell_type": "code",
     "collapsed": false,
     "input": [],
     "language": "python",
     "metadata": {},
     "outputs": [],
     "prompt_number": 14
    },
    {
     "cell_type": "code",
     "collapsed": false,
     "input": [
      "train.to_csv(\"train.csv\", index=None)\n",
      "test.to_csv(\"test.csv\", index=None)"
     ],
     "language": "python",
     "metadata": {},
     "outputs": []
    },
    {
     "cell_type": "code",
     "collapsed": false,
     "input": [],
     "language": "python",
     "metadata": {},
     "outputs": []
    }
   ],
   "metadata": {}
  }
 ]
}