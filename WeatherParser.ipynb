{
 "cells": [
  {
   "cell_type": "code",
   "execution_count": 1,
   "metadata": {
    "collapsed": false
   },
   "outputs": [],
   "source": [
    "import datetime\n",
    "import pandas as pd\n",
    "from forecastiopy import *\n",
    "import getpass"
   ]
  },
  {
   "cell_type": "code",
   "execution_count": 8,
   "metadata": {
    "collapsed": false
   },
   "outputs": [],
   "source": [
    "api_key = '56023f79aa8cf2b7918c28e6d6ea54e6'"
   ]
  },
  {
   "cell_type": "code",
   "execution_count": 3,
   "metadata": {
    "collapsed": false
   },
   "outputs": [
    {
     "data": {
      "text/plain": [
       "(         Date   CityName        lat        lng\n",
       " 0  2011-10-06  Сыктывкар  61.647851  50.833903\n",
       " 1  2011-10-07  Сыктывкар  61.647851  50.833903\n",
       " 2  2011-10-09  Сыктывкар  61.647851  50.833903\n",
       " 3  2011-11-15  Сыктывкар  61.647851  50.833903\n",
       " 4  2011-12-08  Сыктывкар  61.647851  50.833903\n",
       " 5  2011-12-09  Сыктывкар  61.647851  50.833903\n",
       " 6  2011-12-10  Сыктывкар  61.647851  50.833903\n",
       " 7  2011-12-11  Сыктывкар  61.647851  50.833903\n",
       " 8  2011-12-13  Сыктывкар  61.647851  50.833903\n",
       " 9  2011-12-14  Сыктывкар  61.647851  50.833903,\n",
       "              Date       CityName        lat        lng\n",
       " 53416  2016-10-19        Вологда  59.218066  39.897805\n",
       " 53417  2016-10-19   Электросталь  55.783553  38.455161\n",
       " 53418  2016-10-19     Всеволожск  60.009861  30.660640\n",
       " 53419  2016-10-19       Смоленск  54.790311  32.050366\n",
       " 53420  2016-10-19        Гатчина  59.562463  30.106466\n",
       " 53421  2016-10-19           Ухта  63.567321  53.747159\n",
       " 53422  2016-10-19  Нижневартовск  60.943119  76.543372\n",
       " 53423  2016-10-19         Тюмень  57.161297  65.525017\n",
       " 53424  2016-10-19    Новоалтайск  53.441572  83.920835\n",
       " 53425  2016-10-19        Энгельс  51.475330  46.113677)"
      ]
     },
     "execution_count": 3,
     "metadata": {},
     "output_type": "execute_result"
    }
   ],
   "source": [
    "common = pd.read_csv('data_original/common.csv')\n",
    "city = pd.read_csv('data_transform/city.csv')\n",
    "query = pd.merge(common, city, how='left', on='Point')\n",
    "query = query[['Date', 'CityName', 'lat', 'lng']]\n",
    "query.head(10), query.tail(10)\n"
   ]
  },
  {
   "cell_type": "code",
   "execution_count": 4,
   "metadata": {
    "collapsed": false
   },
   "outputs": [],
   "source": [
    "columns = ['summary', 'icon', 'precipType', 'temperature', 'apparentTemperature', 'dewPoint', 'humidity', 'windSpeed', 'windBearing', 'visibility', 'cloudCover', 'pressure']\n",
    "for column in columns:\n",
    "    query[column] = None"
   ]
  },
  {
   "cell_type": "code",
   "execution_count": 6,
   "metadata": {
    "collapsed": false
   },
   "outputs": [
    {
     "name": "stderr",
     "output_type": "stream",
     "text": [
      "/opt/anaconda3/lib/python3.5/site-packages/IPython/core/interactiveshell.py:2717: DtypeWarning: Columns (4,5,6) have mixed types. Specify dtype option on import or set low_memory=False.\n",
      "  interactivity=interactivity, compiler=compiler, result=result)\n"
     ]
    },
    {
     "data": {
      "text/plain": [
       "(         Date   CityName        lat        lng        summary  \\\n",
       " 0  2011-10-06  Сыктывкар  61.647851  50.833903       Overcast   \n",
       " 1  2011-10-07  Сыктывкар  61.647851  50.833903       Overcast   \n",
       " 2  2011-10-09  Сыктывкар  61.647851  50.833903  Partly Cloudy   \n",
       " 3  2011-11-15  Сыктывкар  61.647851  50.833903       Overcast   \n",
       " 4  2011-12-08  Сыктывкар  61.647851  50.833903       Overcast   \n",
       " 5  2011-12-09  Сыктывкар  61.647851  50.833903       Overcast   \n",
       " 6  2011-12-10  Сыктывкар  61.647851  50.833903       Overcast   \n",
       " 7  2011-12-11  Сыктывкар  61.647851  50.833903       Overcast   \n",
       " 8  2011-12-13  Сыктывкар  61.647851  50.833903       Overcast   \n",
       " 9  2011-12-14  Сыктывкар  61.647851  50.833903       Overcast   \n",
       " \n",
       "                   icon precipType  temperature  apparentTemperature  dewPoint  \\\n",
       " 0               cloudy       rain         4.95                 1.77      4.13   \n",
       " 1               cloudy       rain         7.22                 5.09      5.04   \n",
       " 2  partly-cloudy-night       rain         9.71                 9.00      8.08   \n",
       " 3               cloudy       snow        -1.04                -5.66     -1.32   \n",
       " 4               cloudy       snow        -1.78                -3.57     -2.19   \n",
       " 5               cloudy       snow        -2.44                -2.44     -4.04   \n",
       " 6               cloudy       snow        -4.43                -8.21     -6.47   \n",
       " 7               cloudy       snow        -7.28               -13.31     -8.93   \n",
       " 8               cloudy       snow        -9.77               -15.78    -11.34   \n",
       " 9               cloudy       snow        -7.00               -10.09     -7.81   \n",
       " \n",
       "    humidity  windSpeed  windBearing  visibility  cloudCover  pressure  \n",
       " 0      0.94       4.05        195.0        8.32         1.0    990.66  \n",
       " 1      0.86       3.13        240.0       11.27         1.0       NaN  \n",
       " 2      0.90       1.82        229.0        8.48         0.5   1007.93  \n",
       " 3      0.98       4.14        205.0        5.63         1.0    988.27  \n",
       " 4      0.97       1.38        171.0       10.54         1.0   1013.80  \n",
       " 5      0.89       0.89        188.0        9.06         1.0   1026.65  \n",
       " 6      0.86       2.45        163.0       10.61         1.0   1026.66  \n",
       " 7      0.88       4.10        173.0        8.42         1.0   1018.29  \n",
       " 8      0.88       3.49        192.0        8.40         1.0   1017.16  \n",
       " 9      0.94       1.69        195.0       10.77         1.0   1028.18  ,\n",
       "              Date       CityName        lat        lng summary icon  \\\n",
       " 53416  2016-10-19        Вологда  59.218066  39.897805     NaN  NaN   \n",
       " 53417  2016-10-19   Электросталь  55.783553  38.455161     NaN  NaN   \n",
       " 53418  2016-10-19     Всеволожск  60.009861  30.660640     NaN  NaN   \n",
       " 53419  2016-10-19       Смоленск  54.790311  32.050366     NaN  NaN   \n",
       " 53420  2016-10-19        Гатчина  59.562463  30.106466     NaN  NaN   \n",
       " 53421  2016-10-19           Ухта  63.567321  53.747159     NaN  NaN   \n",
       " 53422  2016-10-19  Нижневартовск  60.943118  76.543372     NaN  NaN   \n",
       " 53423  2016-10-19         Тюмень  57.161298  65.525017     NaN  NaN   \n",
       " 53424  2016-10-19    Новоалтайск  53.441572  83.920835     NaN  NaN   \n",
       " 53425  2016-10-19        Энгельс  51.475330  46.113677     NaN  NaN   \n",
       " \n",
       "       precipType  temperature  apparentTemperature  dewPoint  humidity  \\\n",
       " 53416        NaN          NaN                  NaN       NaN       NaN   \n",
       " 53417        NaN          NaN                  NaN       NaN       NaN   \n",
       " 53418        NaN          NaN                  NaN       NaN       NaN   \n",
       " 53419        NaN          NaN                  NaN       NaN       NaN   \n",
       " 53420        NaN          NaN                  NaN       NaN       NaN   \n",
       " 53421        NaN          NaN                  NaN       NaN       NaN   \n",
       " 53422        NaN          NaN                  NaN       NaN       NaN   \n",
       " 53423        NaN          NaN                  NaN       NaN       NaN   \n",
       " 53424        NaN          NaN                  NaN       NaN       NaN   \n",
       " 53425        NaN          NaN                  NaN       NaN       NaN   \n",
       " \n",
       "        windSpeed  windBearing  visibility  cloudCover  pressure  \n",
       " 53416        NaN          NaN         NaN         NaN       NaN  \n",
       " 53417        NaN          NaN         NaN         NaN       NaN  \n",
       " 53418        NaN          NaN         NaN         NaN       NaN  \n",
       " 53419        NaN          NaN         NaN         NaN       NaN  \n",
       " 53420        NaN          NaN         NaN         NaN       NaN  \n",
       " 53421        NaN          NaN         NaN         NaN       NaN  \n",
       " 53422        NaN          NaN         NaN         NaN       NaN  \n",
       " 53423        NaN          NaN         NaN         NaN       NaN  \n",
       " 53424        NaN          NaN         NaN         NaN       NaN  \n",
       " 53425        NaN          NaN         NaN         NaN       NaN  )"
      ]
     },
     "execution_count": 6,
     "metadata": {},
     "output_type": "execute_result"
    }
   ],
   "source": [
    "query = pd.read_csv('data_transform/tmp_weather.csv')\n",
    "query.head(10), query.tail(10)"
   ]
  },
  {
   "cell_type": "code",
   "execution_count": null,
   "metadata": {
    "collapsed": false
   },
   "outputs": [],
   "source": [
    "for i in query[pd.isnull(query.summary)].index:\n",
    "    row = query.loc[(i)]\n",
    "    date = pd.to_datetime(row['Date']).to_datetime()    \n",
    "    date = date.strftime('%Y-%m-%dT%H:%M:%S')\n",
    "    fio = ForecastIO.ForecastIO(api_key, latitude=row['lat'], longitude=row['lng'], time=date)\n",
    "    for column in columns:\n",
    "        query.loc[i, column] = fio.currently.get(column)\n",
    "    if i % 100 == 0:\n",
    "        print(i)\n",
    "        query.to_csv('data_transform/tmp_weather.csv', index = None)"
   ]
  },
  {
   "cell_type": "code",
   "execution_count": 11,
   "metadata": {
    "collapsed": false
   },
   "outputs": [
    {
     "data": {
      "text/plain": [
       "Int64Index([ 6525,  6526,  6527,  6528,  6529,  6530,  6531,  6532,  6533,\n",
       "             6534,\n",
       "            ...\n",
       "            53416, 53417, 53418, 53419, 53420, 53421, 53422, 53423, 53424,\n",
       "            53425],\n",
       "           dtype='int64', length=46901)"
      ]
     },
     "execution_count": 11,
     "metadata": {},
     "output_type": "execute_result"
    }
   ],
   "source": [
    "query.to_csv('data_transform/tmp_weather.csv', index = None)\n",
    "query[pd.isnull(query.summary)].index"
   ]
  }
 ],
 "metadata": {
  "anaconda-cloud": {},
  "kernelspec": {
   "display_name": "Python [conda root]",
   "language": "python",
   "name": "conda-root-py"
  },
  "language_info": {
   "codemirror_mode": {
    "name": "ipython",
    "version": 3
   },
   "file_extension": ".py",
   "mimetype": "text/x-python",
   "name": "python",
   "nbconvert_exporter": "python",
   "pygments_lexer": "ipython3",
   "version": "3.5.2"
  }
 },
 "nbformat": 4,
 "nbformat_minor": 1
}
