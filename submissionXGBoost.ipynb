{
 "metadata": {
  "anaconda-cloud": {},
  "kernelspec": {
   "display_name": "Python [conda root]",
   "language": "python",
   "name": "conda-root-py"
  },
  "language_info": {
   "codemirror_mode": {
    "name": "ipython",
    "version": 3
   },
   "file_extension": ".py",
   "mimetype": "text/x-python",
   "name": "python",
   "nbconvert_exporter": "python",
   "pygments_lexer": "ipython3",
   "version": "3.5.2"
  },
  "name": "",
  "signature": "sha256:252f69281f8f390c8462a8da4f71501d31e20681af36aba6aff13e799ba2bf6d"
 },
 "nbformat": 3,
 "nbformat_minor": 0,
 "worksheets": [
  {
   "cells": [
    {
     "cell_type": "code",
     "collapsed": false,
     "input": [
      "import pandas as pd\n",
      "import numpy as np\n",
      "from sklearn.metrics import mean_absolute_error as mae\n",
      "from sklearn.ensemble import GradientBoostingRegressor\n",
      "from sklearn.ensemble import RandomForestRegressor\n",
      "\n",
      "\n",
      "features = pd.read_csv('data_transform/all.csv')\n",
      "\n",
      "data = features.fillna(100000000)\n",
      "\n",
      "remove_column = ['IsTest', 'IsTrain', 'IsValidation', 'Date', 'Point', 'CityName'\n",
      "\t\t\t\t , 'MeanForThroughDay', 'MeanForMonthDayByPoints'\n",
      "                 , 'MeanForThroughDayByPoints', 'MeanForThroughWeekByPoints'\n",
      "                 , 'MeanForYearDayByPoints', u'Prev2Day', u'Prev3Day'\n",
      "                 , u'Next2Day', u'Next3Day', 'NextExisting21Value'\n",
      "                 , 'PrevExisting21Value', 'NextExisting14Value'\n",
      "                 , 'PrevExisting14Value', 'NextExisting3Value'\n",
      "                 , 'PrevExisting3Value'\n",
      "                 , 'BranchNumber', 'MeanForMonth', 'Next1Day', 'Prev7Day'\n",
      "                 ]\n",
      "\n",
      "\n",
      "dataTrain = data[data.IsTrain == 1]\n",
      "dataTrain = dataTrain[dataTrain.columns.difference(remove_column)]\n",
      "\n",
      "X_train = dataTrain[dataTrain.columns.difference(['Count'])]\n",
      "y_train = dataTrain[['Count']]\n",
      "\n",
      "dataValidation =  data[data.IsValidation == 1]\n",
      "dataValidation = dataValidation[dataValidation.columns.difference(remove_column)]\n",
      "\n",
      "X_test = dataValidation[dataValidation.columns.difference(['Count'])]\n",
      "y_test = dataValidation[['Count']]\n",
      "\n",
      "dataResult =  data[data.IsTest == 1]\n",
      "dataResult = dataResult[dataResult.columns.difference(remove_column)]\n",
      "\n",
      "X_res = dataResult[dataResult.columns.difference(['Count'])]\n",
      "\n",
      "'''\n",
      "dtrain = xgb.DMatrix( X_train, label=y_train)\n",
      "dtest = xgb.DMatrix( X_test, label=y_test)\n",
      "dres = xgb.DMatrix( X_res )\n",
      "evallist  = [(dtest,'eval'), (dtrain,'train')]\n",
      "\n",
      "param = {'max_depth': 6,\n",
      " \t\t'silent': 1,\n",
      " \t\t'eta': 0.01,\n",
      " \t\t'eval_metric': 'mae'\n",
      " }\n",
      "\n",
      "num_round = 100\n",
      "\n",
      "bst = xgb.train( param, dtrain, num_round, evallist, verbose_eval=10 )\n",
      "\n",
      "\n",
      "result = bst.predict(dres)\n",
      "'''"
     ],
     "language": "python",
     "metadata": {},
     "outputs": [
      {
       "metadata": {},
       "output_type": "pyout",
       "prompt_number": 222,
       "text": [
        "\"\\ndtrain = xgb.DMatrix( X_train, label=y_train)\\ndtest = xgb.DMatrix( X_test, label=y_test)\\ndres = xgb.DMatrix( X_res )\\nevallist  = [(dtest,'eval'), (dtrain,'train')]\\n\\nparam = {'max_depth': 6,\\n \\t\\t'silent': 1,\\n \\t\\t'eta': 0.01,\\n \\t\\t'eval_metric': 'mae'\\n }\\n\\nnum_round = 100\\n\\nbst = xgb.train( param, dtrain, num_round, evallist, verbose_eval=10 )\\n\\n\\nresult = bst.predict(dres)\\n\""
       ]
      }
     ],
     "prompt_number": 222
    },
    {
     "cell_type": "code",
     "collapsed": false,
     "input": [
      "X_train.columns"
     ],
     "language": "python",
     "metadata": {},
     "outputs": [
      {
       "metadata": {},
       "output_type": "pyout",
       "prompt_number": 223,
       "text": [
        "Index([u'CityID', u'MeanForMonthByPoints', u'MeanForMonthDay',\n",
        "       u'MeanForThroughMonth', u'MeanForThroughMonthByPoints',\n",
        "       u'MeanForThroughWeek', u'MeanForWeekDay', u'MeanForWeekDayByPoints',\n",
        "       u'MeanForYear', u'MeanForYearByPoints', u'MeanForYearDay', u'Month',\n",
        "       u'MonthDay', u'Next7Day', u'Prev1Day', u'ThroughDay', u'ThroughMonth',\n",
        "       u'ThroughWeek', u'WeekDay', u'Year', u'YearDay'],\n",
        "      dtype='object')"
       ]
      }
     ],
     "prompt_number": 223
    },
    {
     "cell_type": "code",
     "collapsed": false,
     "input": [
      "gbr = GradientBoostingRegressor(n_estimators=100, loss=\"lad\", verbose=1, max_depth=7, learning_rate=0.1)"
     ],
     "language": "python",
     "metadata": {},
     "outputs": [],
     "prompt_number": 224
    },
    {
     "cell_type": "code",
     "collapsed": false,
     "input": [
      "gbr.fit(X_train, y_train)"
     ],
     "language": "python",
     "metadata": {},
     "outputs": [
      {
       "output_type": "stream",
       "stream": "stdout",
       "text": [
        "      Iter       Train Loss   Remaining Time \n",
        "         1          48.0130           21.76s"
       ]
      },
      {
       "output_type": "stream",
       "stream": "stdout",
       "text": [
        "\n",
        "         2          44.2281           21.61s"
       ]
      },
      {
       "output_type": "stream",
       "stream": "stdout",
       "text": [
        "\n",
        "         3          40.7923           21.13s"
       ]
      },
      {
       "output_type": "stream",
       "stream": "stdout",
       "text": [
        "\n",
        "         4          37.9505           20.75s"
       ]
      },
      {
       "output_type": "stream",
       "stream": "stdout",
       "text": [
        "\n",
        "         5          35.2591           20.73s"
       ]
      },
      {
       "output_type": "stream",
       "stream": "stdout",
       "text": [
        "\n",
        "         6          32.7690           20.46s"
       ]
      },
      {
       "output_type": "stream",
       "stream": "stdout",
       "text": [
        "\n",
        "         7          30.5650           20.25s"
       ]
      },
      {
       "output_type": "stream",
       "stream": "stdout",
       "text": [
        "\n",
        "         8          28.6342           20.06s"
       ]
      },
      {
       "output_type": "stream",
       "stream": "stdout",
       "text": [
        "\n",
        "         9          26.9344           19.98s"
       ]
      },
      {
       "output_type": "stream",
       "stream": "stdout",
       "text": [
        "\n",
        "        10          25.4432           19.72s"
       ]
      },
      {
       "output_type": "stream",
       "stream": "stdout",
       "text": [
        "\n",
        "        20          17.4836           17.03s"
       ]
      },
      {
       "output_type": "stream",
       "stream": "stdout",
       "text": [
        "\n",
        "        30          15.2897           14.39s"
       ]
      },
      {
       "output_type": "stream",
       "stream": "stdout",
       "text": [
        "\n",
        "        40          14.6129           11.60s"
       ]
      },
      {
       "output_type": "stream",
       "stream": "stdout",
       "text": [
        "\n",
        "        50          14.2729            9.11s"
       ]
      },
      {
       "output_type": "stream",
       "stream": "stdout",
       "text": [
        "\n",
        "        60          13.9769            7.00s"
       ]
      },
      {
       "output_type": "stream",
       "stream": "stdout",
       "text": [
        "\n",
        "        70          13.7640            5.04s"
       ]
      },
      {
       "output_type": "stream",
       "stream": "stdout",
       "text": [
        "\n",
        "        80          13.6266            3.20s"
       ]
      },
      {
       "output_type": "stream",
       "stream": "stdout",
       "text": [
        "\n",
        "        90          13.4884            1.55s"
       ]
      },
      {
       "output_type": "stream",
       "stream": "stdout",
       "text": [
        "\n",
        "       100          13.4273            0.00s"
       ]
      },
      {
       "output_type": "stream",
       "stream": "stdout",
       "text": [
        "\n"
       ]
      },
      {
       "metadata": {},
       "output_type": "pyout",
       "prompt_number": 225,
       "text": [
        "GradientBoostingRegressor(alpha=0.9, criterion='friedman_mse', init=None,\n",
        "             learning_rate=0.1, loss='lad', max_depth=7, max_features=None,\n",
        "             max_leaf_nodes=None, min_impurity_split=1e-07,\n",
        "             min_samples_leaf=1, min_samples_split=2,\n",
        "             min_weight_fraction_leaf=0.0, n_estimators=100,\n",
        "             presort='auto', random_state=None, subsample=1.0, verbose=1,\n",
        "             warm_start=False)"
       ]
      }
     ],
     "prompt_number": 225
    },
    {
     "cell_type": "code",
     "collapsed": false,
     "input": [
      "result = gbr.predict(X_test)\n",
      "mae(result, y_test)"
     ],
     "language": "python",
     "metadata": {},
     "outputs": [
      {
       "metadata": {},
       "output_type": "pyout",
       "prompt_number": 226,
       "text": [
        "19.613044074815022"
       ]
      }
     ],
     "prompt_number": 226
    },
    {
     "cell_type": "code",
     "collapsed": false,
     "input": [
      "gbr.feature_importances_"
     ],
     "language": "python",
     "metadata": {},
     "outputs": [
      {
       "metadata": {},
       "output_type": "pyout",
       "prompt_number": 227,
       "text": [
        "array([ 0.03700893,  0.03986223,  0.03689351,  0.025396  ,  0.26063099,\n",
        "        0.04318093,  0.02875247,  0.08559827,  0.00378209,  0.03097359,\n",
        "        0.08796993,  0.00266649,  0.03630186,  0.05297844,  0.06985085,\n",
        "        0.04343034,  0.0041455 ,  0.01171093,  0.03040304,  0.00061389,\n",
        "        0.06784971])"
       ]
      }
     ],
     "prompt_number": 227
    },
    {
     "cell_type": "code",
     "collapsed": false,
     "input": [
      "X_train.columns"
     ],
     "language": "python",
     "metadata": {},
     "outputs": [
      {
       "metadata": {},
       "output_type": "pyout",
       "prompt_number": 228,
       "text": [
        "Index([u'CityID', u'MeanForMonthByPoints', u'MeanForMonthDay',\n",
        "       u'MeanForThroughMonth', u'MeanForThroughMonthByPoints',\n",
        "       u'MeanForThroughWeek', u'MeanForWeekDay', u'MeanForWeekDayByPoints',\n",
        "       u'MeanForYear', u'MeanForYearByPoints', u'MeanForYearDay', u'Month',\n",
        "       u'MonthDay', u'Next7Day', u'Prev1Day', u'ThroughDay', u'ThroughMonth',\n",
        "       u'ThroughWeek', u'WeekDay', u'Year', u'YearDay'],\n",
        "      dtype='object')"
       ]
      }
     ],
     "prompt_number": 228
    },
    {
     "cell_type": "code",
     "collapsed": false,
     "input": [],
     "language": "python",
     "metadata": {},
     "outputs": []
    },
    {
     "cell_type": "code",
     "collapsed": false,
     "input": [],
     "language": "python",
     "metadata": {},
     "outputs": []
    },
    {
     "cell_type": "code",
     "collapsed": false,
     "input": [
      "city = X_train.CityID.unique()"
     ],
     "language": "python",
     "metadata": {},
     "outputs": [],
     "prompt_number": 127
    },
    {
     "cell_type": "code",
     "collapsed": false,
     "input": [],
     "language": "python",
     "metadata": {},
     "outputs": [],
     "prompt_number": 121
    },
    {
     "cell_type": "code",
     "collapsed": false,
     "input": [
      "a = 30\n",
      "\n",
      "gbr = GradientBoostingRegressor(n_estimators=100, loss=\"lad\", verbose=1, max_depth=7, learning_rate=0.1)\n",
      "\n",
      "index = X_train[int(city[a]) == X_train.CityID].index\n",
      "gbr.fit(X_train.loc[index], y_train.loc[index])\n",
      "\n",
      "indexTest = X_test[int(city[a]) == X_test.CityID].index\n",
      "\n",
      "result = gbr.predict(X_test.loc[indexTest])\n",
      "mae(result, y_test.loc[indexTest])"
     ],
     "language": "python",
     "metadata": {},
     "outputs": [
      {
       "output_type": "stream",
       "stream": "stdout",
       "text": [
        "      Iter       Train Loss   Remaining Time \n",
        "         1          25.3374            0.27s\n",
        "         2          23.2749            0.38s\n",
        "         3          21.4305            0.35s\n",
        "         4          19.8084            0.32s\n",
        "         5          18.3294            0.29s\n",
        "         6          17.0713            0.28s\n",
        "         7          16.0138            0.26s\n",
        "         8          14.9567            0.25s\n",
        "         9          14.0476            0.24s\n",
        "        10          13.2548            0.24s\n",
        "        20           8.6906            0.19s\n",
        "        30           7.0865            0.17s"
       ]
      },
      {
       "output_type": "stream",
       "stream": "stdout",
       "text": [
        "\n",
        "        40           6.1389            0.16s\n",
        "        50           5.6700            0.12s\n",
        "        60           5.3077            0.09s"
       ]
      },
      {
       "output_type": "stream",
       "stream": "stdout",
       "text": [
        "\n",
        "        70           5.0232            0.06s\n",
        "        80           4.8790            0.04s\n",
        "        90           4.6154            0.02s\n",
        "       100           4.4697            0.00s"
       ]
      },
      {
       "output_type": "stream",
       "stream": "stdout",
       "text": [
        "\n"
       ]
      },
      {
       "metadata": {},
       "output_type": "pyout",
       "prompt_number": 171,
       "text": [
        "26.259871299379736"
       ]
      }
     ],
     "prompt_number": 171
    },
    {
     "cell_type": "code",
     "collapsed": false,
     "input": [],
     "language": "python",
     "metadata": {},
     "outputs": [
      {
       "metadata": {},
       "output_type": "pyout",
       "prompt_number": 158,
       "text": [
        "18.690911454971058"
       ]
      }
     ],
     "prompt_number": 158
    },
    {
     "cell_type": "code",
     "collapsed": false,
     "input": [],
     "language": "python",
     "metadata": {},
     "outputs": [],
     "prompt_number": 153
    },
    {
     "cell_type": "code",
     "collapsed": false,
     "input": [],
     "language": "python",
     "metadata": {},
     "outputs": [],
     "prompt_number": 148
    },
    {
     "cell_type": "code",
     "collapsed": false,
     "input": [
      "type(int(city[0]))"
     ],
     "language": "python",
     "metadata": {},
     "outputs": [
      {
       "metadata": {},
       "output_type": "pyout",
       "prompt_number": 144,
       "text": [
        "int"
       ]
      }
     ],
     "prompt_number": 144
    },
    {
     "cell_type": "code",
     "collapsed": false,
     "input": [
      "type(0)"
     ],
     "language": "python",
     "metadata": {},
     "outputs": [
      {
       "metadata": {},
       "output_type": "pyout",
       "prompt_number": 143,
       "text": [
        "int"
       ]
      }
     ],
     "prompt_number": 143
    },
    {
     "cell_type": "code",
     "collapsed": false,
     "input": [],
     "language": "python",
     "metadata": {},
     "outputs": [],
     "prompt_number": 155
    },
    {
     "cell_type": "code",
     "collapsed": false,
     "input": [
      "result = gbr.predict(X_test)\n",
      "mae(result, y_test)"
     ],
     "language": "python",
     "metadata": {},
     "outputs": [
      {
       "metadata": {},
       "output_type": "pyout",
       "prompt_number": 123,
       "text": [
        "18.417470673911357"
       ]
      }
     ],
     "prompt_number": 123
    },
    {
     "cell_type": "code",
     "collapsed": false,
     "input": [],
     "language": "python",
     "metadata": {},
     "outputs": [],
     "prompt_number": 77
    },
    {
     "cell_type": "code",
     "collapsed": false,
     "input": [],
     "language": "python",
     "metadata": {},
     "outputs": [],
     "prompt_number": 98
    },
    {
     "cell_type": "code",
     "collapsed": false,
     "input": [],
     "language": "python",
     "metadata": {},
     "outputs": [],
     "prompt_number": 119
    },
    {
     "cell_type": "code",
     "collapsed": false,
     "input": [
      "for i in range(50, 1750, 50) :\n",
      "    index = X_test[(X_test.ThroughDay > i) & (X_test.ThroughDay < (i + 50) )].index\n",
      "    result = gbr.predict(X_test.loc[index])\n",
      "    print str(i) + \":\" + str(i + 50) + \" \" + str(mae(result, y_test.loc[index]))"
     ],
     "language": "python",
     "metadata": {},
     "outputs": [
      {
       "output_type": "stream",
       "stream": "stdout",
       "text": [
        "50:100 22.1520056427\n",
        "100:150 19.8594499817\n",
        "150:200 32.8189048677\n",
        "200:250 29.4175401263\n",
        "250:300 13.0841821987\n",
        "300:350 12.8785363781\n",
        "350:400 16.0095149878\n",
        "400:450 10.9344282283\n",
        "450:500 13.9921959737\n",
        "500:550 18.2934960244\n",
        "550:600 18.5347578737\n",
        "600:650 10.4404147618\n",
        "650:700 12.2951277001\n",
        "700:750 11.3748969898\n",
        "750:800 15.3812817008\n",
        "800:850 16.1175740404\n",
        "850:900 16.6944755551\n",
        "900:950 24.5276798689\n",
        "950:1000 15.7098835548\n",
        "1000:1050 15.5978112504"
       ]
      },
      {
       "output_type": "stream",
       "stream": "stdout",
       "text": [
        "\n",
        "1050:1100 14.0654136572\n",
        "1100:1150 16.8359412288\n",
        "1150:1200 21.5025034488\n",
        "1200:1250 21.4760010203\n",
        "1250:1300 20.2040357208\n",
        "1300:1350 14.3084594035\n",
        "1350:1400 15.4344639957\n",
        "1400:1450 13.9106009014\n",
        "1450:1500 16.8512289667\n",
        "1500:1550 17.5707967076"
       ]
      },
      {
       "output_type": "stream",
       "stream": "stdout",
       "text": [
        "\n",
        "1550:1600 21.2949704853\n",
        "1600:1650 25.3157834973\n",
        "1650:1700 23.0381007477\n",
        "1700:1750 15.6299939061\n"
       ]
      }
     ],
     "prompt_number": 125
    },
    {
     "cell_type": "code",
     "collapsed": false,
     "input": [],
     "language": "python",
     "metadata": {},
     "outputs": [],
     "prompt_number": 109
    },
    {
     "cell_type": "code",
     "collapsed": false,
     "input": [],
     "language": "python",
     "metadata": {},
     "outputs": [],
     "prompt_number": 109
    },
    {
     "cell_type": "code",
     "collapsed": false,
     "input": [
      "features.shape"
     ],
     "language": "python",
     "metadata": {},
     "outputs": [
      {
       "metadata": {},
       "output_type": "pyout",
       "prompt_number": 110,
       "text": [
        "(53385, 33)"
       ]
      }
     ],
     "prompt_number": 110
    },
    {
     "cell_type": "code",
     "collapsed": false,
     "input": [
      "for i in range(0, 53000, 5000):\n",
      "    print features.ThroughDay[i]"
     ],
     "language": "python",
     "metadata": {},
     "outputs": [
      {
       "output_type": "stream",
       "stream": "stdout",
       "text": [
        "0\n",
        "856\n",
        "1138\n",
        "1310\n",
        "1426\n",
        "1516\n",
        "1592\n",
        "1656\n",
        "1712\n",
        "1764\n",
        "1810\n"
       ]
      }
     ],
     "prompt_number": 112
    },
    {
     "cell_type": "code",
     "collapsed": false,
     "input": [],
     "language": "python",
     "metadata": {},
     "outputs": [],
     "prompt_number": 119
    },
    {
     "cell_type": "code",
     "collapsed": false,
     "input": [],
     "language": "python",
     "metadata": {},
     "outputs": []
    },
    {
     "cell_type": "code",
     "collapsed": false,
     "input": [],
     "language": "python",
     "metadata": {},
     "outputs": []
    },
    {
     "cell_type": "code",
     "collapsed": false,
     "input": [],
     "language": "python",
     "metadata": {},
     "outputs": []
    },
    {
     "cell_type": "code",
     "collapsed": false,
     "input": [
      "i = 1750\n",
      "X_test[(X_test.ThroughDay > i) & (X_test.ThroughDay < (i + 50) )].index"
     ],
     "language": "python",
     "metadata": {},
     "outputs": [
      {
       "metadata": {},
       "output_type": "pyout",
       "prompt_number": 70,
       "text": [
        "Int64Index([43668, 43669, 43670, 43671, 43672, 43673, 43674, 43675, 43676,\n",
        "            43677,\n",
        "            ...\n",
        "            48555, 48556, 48557, 48558, 48559, 48560, 48561, 48562, 48563,\n",
        "            48564],\n",
        "           dtype='int64', length=936)"
       ]
      }
     ],
     "prompt_number": 70
    },
    {
     "cell_type": "code",
     "collapsed": false,
     "input": [
      "max(X_test.ThroughDay)"
     ],
     "language": "python",
     "metadata": {},
     "outputs": [
      {
       "metadata": {},
       "output_type": "pyout",
       "prompt_number": 57,
       "text": [
        "1830"
       ]
      }
     ],
     "prompt_number": 57
    },
    {
     "cell_type": "code",
     "collapsed": false,
     "input": [
      "range(0, 1750, 50) "
     ],
     "language": "python",
     "metadata": {},
     "outputs": [],
     "prompt_number": 58
    },
    {
     "cell_type": "code",
     "collapsed": false,
     "input": [
      "X_test.shape"
     ],
     "language": "python",
     "metadata": {},
     "outputs": [
      {
       "metadata": {},
       "output_type": "pyout",
       "prompt_number": 56,
       "text": [
        "(8295, 19)"
       ]
      }
     ],
     "prompt_number": 56
    },
    {
     "cell_type": "code",
     "collapsed": false,
     "input": [
      "result = gbr.predict(X_res)"
     ],
     "language": "python",
     "metadata": {},
     "outputs": [],
     "prompt_number": 51
    },
    {
     "cell_type": "code",
     "collapsed": false,
     "input": [
      "dataResult.shape"
     ],
     "language": "python",
     "metadata": {},
     "outputs": [
      {
       "metadata": {},
       "output_type": "pyout",
       "prompt_number": 20,
       "text": [
        "(7337, 20)"
       ]
      }
     ],
     "prompt_number": 20
    },
    {
     "cell_type": "code",
     "collapsed": false,
     "input": [],
     "language": "python",
     "metadata": {},
     "outputs": [],
     "prompt_number": 20
    },
    {
     "cell_type": "code",
     "collapsed": false,
     "input": [
      "resDataFrame = pd.DataFrame()\n",
      "resDataFrame[\"Date\"] = data.Date[data.IsTest == True]\n",
      "resDataFrame.Date = resDataFrame.Date.apply(lambda x: pd.to_datetime(x))\n",
      "resDataFrame[\"Point\"] = data.Point[data.IsTest == True]\n",
      "resDataFrame.index = range(resDataFrame.shape[0])\n",
      "resDataFrame[\"Count\"] = pd.Series(result)"
     ],
     "language": "python",
     "metadata": {},
     "outputs": [],
     "prompt_number": 21
    },
    {
     "cell_type": "code",
     "collapsed": false,
     "input": [
      "resDataFrame.head()"
     ],
     "language": "python",
     "metadata": {
      "scrolled": true
     },
     "outputs": [
      {
       "html": [
        "<div style=\"max-width:1500px;overflow:auto;\">\n",
        "<table border=\"1\" class=\"dataframe\">\n",
        "  <thead>\n",
        "    <tr style=\"text-align: right;\">\n",
        "      <th></th>\n",
        "      <th>Date</th>\n",
        "      <th>Point</th>\n",
        "      <th>Count</th>\n",
        "    </tr>\n",
        "  </thead>\n",
        "  <tbody>\n",
        "    <tr>\n",
        "      <th>0</th>\n",
        "      <td>2011-12-14</td>\n",
        "      <td>\u0421\u044b\u043a\u0442\u044b\u0432\u043a\u0430\u0440-1</td>\n",
        "      <td>63.806363</td>\n",
        "    </tr>\n",
        "    <tr>\n",
        "      <th>1</th>\n",
        "      <td>2011-12-19</td>\n",
        "      <td>\u0421\u044b\u043a\u0442\u044b\u0432\u043a\u0430\u0440-1</td>\n",
        "      <td>81.084584</td>\n",
        "    </tr>\n",
        "    <tr>\n",
        "      <th>2</th>\n",
        "      <td>2011-12-26</td>\n",
        "      <td>\u0421\u044b\u043a\u0442\u044b\u0432\u043a\u0430\u0440-1</td>\n",
        "      <td>128.163525</td>\n",
        "    </tr>\n",
        "    <tr>\n",
        "      <th>3</th>\n",
        "      <td>2011-12-27</td>\n",
        "      <td>\u0421\u044b\u043a\u0442\u044b\u0432\u043a\u0430\u0440-1</td>\n",
        "      <td>129.511927</td>\n",
        "    </tr>\n",
        "    <tr>\n",
        "      <th>4</th>\n",
        "      <td>2012-01-12</td>\n",
        "      <td>\u0421\u044b\u043a\u0442\u044b\u0432\u043a\u0430\u0440-1</td>\n",
        "      <td>118.964137</td>\n",
        "    </tr>\n",
        "  </tbody>\n",
        "</table>\n",
        "</div>"
       ],
       "metadata": {},
       "output_type": "pyout",
       "prompt_number": 22,
       "text": [
        "        Date        Point       Count\n",
        "0 2011-12-14  \u0421\u044b\u043a\u0442\u044b\u0432\u043a\u0430\u0440-1   63.806363\n",
        "1 2011-12-19  \u0421\u044b\u043a\u0442\u044b\u0432\u043a\u0430\u0440-1   81.084584\n",
        "2 2011-12-26  \u0421\u044b\u043a\u0442\u044b\u0432\u043a\u0430\u0440-1  128.163525\n",
        "3 2011-12-27  \u0421\u044b\u043a\u0442\u044b\u0432\u043a\u0430\u0440-1  129.511927\n",
        "4 2012-01-12  \u0421\u044b\u043a\u0442\u044b\u0432\u043a\u0430\u0440-1  118.964137"
       ]
      }
     ],
     "prompt_number": 22
    },
    {
     "cell_type": "code",
     "collapsed": false,
     "input": [
      "resDataFrame.tail()"
     ],
     "language": "python",
     "metadata": {},
     "outputs": [
      {
       "html": [
        "<div style=\"max-width:1500px;overflow:auto;\">\n",
        "<table border=\"1\" class=\"dataframe\">\n",
        "  <thead>\n",
        "    <tr style=\"text-align: right;\">\n",
        "      <th></th>\n",
        "      <th>Date</th>\n",
        "      <th>Point</th>\n",
        "      <th>Count</th>\n",
        "    </tr>\n",
        "  </thead>\n",
        "  <tbody>\n",
        "    <tr>\n",
        "      <th>7332</th>\n",
        "      <td>2016-09-27</td>\n",
        "      <td>\u041d\u043e\u0432\u043e\u0430\u043b\u0442\u0430\u0439\u0441\u043a-1</td>\n",
        "      <td>22.043781</td>\n",
        "    </tr>\n",
        "    <tr>\n",
        "      <th>7333</th>\n",
        "      <td>2016-09-27</td>\n",
        "      <td>\u042d\u043d\u0433\u0435\u043b\u044c\u0441-1</td>\n",
        "      <td>60.755663</td>\n",
        "    </tr>\n",
        "    <tr>\n",
        "      <th>7334</th>\n",
        "      <td>2016-09-27</td>\n",
        "      <td>\u0417\u0435\u043b\u0435\u043d\u043e\u0433\u0440\u0430\u0434-1</td>\n",
        "      <td>144.701518</td>\n",
        "    </tr>\n",
        "    <tr>\n",
        "      <th>7335</th>\n",
        "      <td>2016-09-27</td>\n",
        "      <td>\u041b\u0435\u043d\u0438\u043d\u0441\u043a-\u041a\u0443\u0437\u043d\u0435\u0446\u043a\u0438\u0439-1</td>\n",
        "      <td>63.067413</td>\n",
        "    </tr>\n",
        "    <tr>\n",
        "      <th>7336</th>\n",
        "      <td>2016-09-27</td>\n",
        "      <td>\u0421\u0430\u043c\u0430\u0440\u0430-3</td>\n",
        "      <td>305.038558</td>\n",
        "    </tr>\n",
        "  </tbody>\n",
        "</table>\n",
        "</div>"
       ],
       "metadata": {},
       "output_type": "pyout",
       "prompt_number": 23,
       "text": [
        "           Date                Point       Count\n",
        "7332 2016-09-27        \u041d\u043e\u0432\u043e\u0430\u043b\u0442\u0430\u0439\u0441\u043a-1   22.043781\n",
        "7333 2016-09-27            \u042d\u043d\u0433\u0435\u043b\u044c\u0441-1   60.755663\n",
        "7334 2016-09-27         \u0417\u0435\u043b\u0435\u043d\u043e\u0433\u0440\u0430\u0434-1  144.701518\n",
        "7335 2016-09-27  \u041b\u0435\u043d\u0438\u043d\u0441\u043a-\u041a\u0443\u0437\u043d\u0435\u0446\u043a\u0438\u0439-1   63.067413\n",
        "7336 2016-09-27             \u0421\u0430\u043c\u0430\u0440\u0430-3  305.038558"
       ]
      }
     ],
     "prompt_number": 23
    },
    {
     "cell_type": "code",
     "collapsed": false,
     "input": [],
     "language": "python",
     "metadata": {},
     "outputs": [],
     "prompt_number": 23
    },
    {
     "cell_type": "code",
     "collapsed": true,
     "input": [
      "originTest = pd.read_csv(\"data_original/test.csv\")"
     ],
     "language": "python",
     "metadata": {},
     "outputs": [],
     "prompt_number": 24
    },
    {
     "cell_type": "code",
     "collapsed": false,
     "input": [
      "originTest.Date = originTest.Date.apply(lambda x: pd.to_datetime(x, format='%d.%m.%Y'))"
     ],
     "language": "python",
     "metadata": {},
     "outputs": [],
     "prompt_number": 25
    },
    {
     "cell_type": "code",
     "collapsed": false,
     "input": [
      "originTest.head()"
     ],
     "language": "python",
     "metadata": {},
     "outputs": [
      {
       "html": [
        "<div style=\"max-width:1500px;overflow:auto;\">\n",
        "<table border=\"1\" class=\"dataframe\">\n",
        "  <thead>\n",
        "    <tr style=\"text-align: right;\">\n",
        "      <th></th>\n",
        "      <th>Date</th>\n",
        "      <th>Point</th>\n",
        "      <th>Count</th>\n",
        "    </tr>\n",
        "  </thead>\n",
        "  <tbody>\n",
        "    <tr>\n",
        "      <th>0</th>\n",
        "      <td>2016-07-08</td>\n",
        "      <td>\u0423\u043b\u044c\u044f\u043d\u043e\u0432\u0441\u043a-2</td>\n",
        "      <td>NaN</td>\n",
        "    </tr>\n",
        "    <tr>\n",
        "      <th>1</th>\n",
        "      <td>2016-07-25</td>\n",
        "      <td>\u0411\u0430\u043b\u0430\u0448\u0438\u0445\u0430-1</td>\n",
        "      <td>NaN</td>\n",
        "    </tr>\n",
        "    <tr>\n",
        "      <th>2</th>\n",
        "      <td>2014-11-09</td>\n",
        "      <td>\u0423\u0445\u0442\u0430-1</td>\n",
        "      <td>NaN</td>\n",
        "    </tr>\n",
        "    <tr>\n",
        "      <th>3</th>\n",
        "      <td>2015-11-12</td>\n",
        "      <td>\u0410\u043b\u044c\u043c\u0435\u0442\u044c\u0435\u0432\u0441\u043a-1</td>\n",
        "      <td>NaN</td>\n",
        "    </tr>\n",
        "    <tr>\n",
        "      <th>4</th>\n",
        "      <td>2014-07-17</td>\n",
        "      <td>\u0423\u0445\u0442\u0430-1</td>\n",
        "      <td>NaN</td>\n",
        "    </tr>\n",
        "  </tbody>\n",
        "</table>\n",
        "</div>"
       ],
       "metadata": {},
       "output_type": "pyout",
       "prompt_number": 26,
       "text": [
        "        Date          Point  Count\n",
        "0 2016-07-08    \u0423\u043b\u044c\u044f\u043d\u043e\u0432\u0441\u043a-2    NaN\n",
        "1 2016-07-25     \u0411\u0430\u043b\u0430\u0448\u0438\u0445\u0430-1    NaN\n",
        "2 2014-11-09         \u0423\u0445\u0442\u0430-1    NaN\n",
        "3 2015-11-12  \u0410\u043b\u044c\u043c\u0435\u0442\u044c\u0435\u0432\u0441\u043a-1    NaN\n",
        "4 2014-07-17         \u0423\u0445\u0442\u0430-1    NaN"
       ]
      }
     ],
     "prompt_number": 26
    },
    {
     "cell_type": "code",
     "collapsed": false,
     "input": [
      "resDataFrame[(resDataFrame.Date == originTest.Date[0]) & (resDataFrame.Point == originTest.Point[0]) ]"
     ],
     "language": "python",
     "metadata": {},
     "outputs": [
      {
       "html": [
        "<div style=\"max-width:1500px;overflow:auto;\">\n",
        "<table border=\"1\" class=\"dataframe\">\n",
        "  <thead>\n",
        "    <tr style=\"text-align: right;\">\n",
        "      <th></th>\n",
        "      <th>Date</th>\n",
        "      <th>Point</th>\n",
        "      <th>Count</th>\n",
        "    </tr>\n",
        "  </thead>\n",
        "  <tbody>\n",
        "    <tr>\n",
        "      <th>6495</th>\n",
        "      <td>2016-07-08</td>\n",
        "      <td>\u0423\u043b\u044c\u044f\u043d\u043e\u0432\u0441\u043a-2</td>\n",
        "      <td>212.437626</td>\n",
        "    </tr>\n",
        "  </tbody>\n",
        "</table>\n",
        "</div>"
       ],
       "metadata": {},
       "output_type": "pyout",
       "prompt_number": 27,
       "text": [
        "           Date        Point       Count\n",
        "6495 2016-07-08  \u0423\u043b\u044c\u044f\u043d\u043e\u0432\u0441\u043a-2  212.437626"
       ]
      }
     ],
     "prompt_number": 27
    },
    {
     "cell_type": "code",
     "collapsed": false,
     "input": [
      "resNP = np.array([np.nan] * originTest.shape[0])\n",
      "\n",
      "for i in originTest.index:\n",
      "    resNP[i] = resDataFrame.Count[(resDataFrame.Date == originTest.Date[i]) &\n",
      "                                             (resDataFrame.Point == originTest.Point[i])]"
     ],
     "language": "python",
     "metadata": {
      "scrolled": true
     },
     "outputs": [],
     "prompt_number": 28
    },
    {
     "cell_type": "code",
     "collapsed": false,
     "input": [
      "resNP.shape"
     ],
     "language": "python",
     "metadata": {},
     "outputs": [
      {
       "metadata": {},
       "output_type": "pyout",
       "prompt_number": 29,
       "text": [
        "(7337,)"
       ]
      }
     ],
     "prompt_number": 29
    },
    {
     "cell_type": "code",
     "collapsed": false,
     "input": [
      "originTest.Count = pd.Series(resNP)"
     ],
     "language": "python",
     "metadata": {},
     "outputs": [],
     "prompt_number": 30
    },
    {
     "cell_type": "code",
     "collapsed": true,
     "input": [
      "originTest.Count = originTest.Count.apply(lambda x: 1 if x < 1 else x)"
     ],
     "language": "python",
     "metadata": {},
     "outputs": [],
     "prompt_number": 31
    },
    {
     "cell_type": "code",
     "collapsed": false,
     "input": [
      "originTest.Count = originTest.Count.apply(lambda x: round(x) if abs(x - round(x)) < 0.15 else x)"
     ],
     "language": "python",
     "metadata": {},
     "outputs": [],
     "prompt_number": 32
    },
    {
     "cell_type": "code",
     "collapsed": true,
     "input": [
      "originTest['Year'] = originTest.Date.apply(lambda x: x.year)\n",
      "originTest['Month'] = originTest.Date.apply(lambda x: x.month)\n",
      "originTest['MonthDay'] = originTest.Date.apply(lambda x: x.day)"
     ],
     "language": "python",
     "metadata": {},
     "outputs": [],
     "prompt_number": 33
    },
    {
     "cell_type": "code",
     "collapsed": false,
     "input": [
      "OriginalDate = []\n",
      "k = 9\n",
      "for i in range(originTest.shape[0]):\n",
      "    daystr = str(originTest.MonthDay[i]) if originTest.MonthDay[i] >= 10 else  \"0\" + str(originTest.MonthDay[i])\n",
      "    monthstr = str(originTest.Month[i]) if originTest.Month[i] >= 10 else  \"0\" + str(originTest.Month[i])\n",
      "    OriginalDate.append(daystr + \".\" + monthstr + \".\" +  str(originTest.Year[i]))"
     ],
     "language": "python",
     "metadata": {},
     "outputs": [],
     "prompt_number": 34
    },
    {
     "cell_type": "code",
     "collapsed": false,
     "input": [],
     "language": "python",
     "metadata": {},
     "outputs": [],
     "prompt_number": 34
    },
    {
     "cell_type": "code",
     "collapsed": true,
     "input": [],
     "language": "python",
     "metadata": {},
     "outputs": [],
     "prompt_number": 34
    },
    {
     "cell_type": "code",
     "collapsed": true,
     "input": [
      "originTest[\"OriginalDate\"] = pd.Series(OriginalDate)"
     ],
     "language": "python",
     "metadata": {},
     "outputs": [],
     "prompt_number": 35
    },
    {
     "cell_type": "code",
     "collapsed": false,
     "input": [],
     "language": "python",
     "metadata": {
      "scrolled": true
     },
     "outputs": [],
     "prompt_number": 35
    },
    {
     "cell_type": "code",
     "collapsed": false,
     "input": [],
     "language": "python",
     "metadata": {},
     "outputs": [],
     "prompt_number": 35
    },
    {
     "cell_type": "code",
     "collapsed": false,
     "input": [
      "originTest.tail()"
     ],
     "language": "python",
     "metadata": {},
     "outputs": [
      {
       "html": [
        "<div style=\"max-width:1500px;overflow:auto;\">\n",
        "<table border=\"1\" class=\"dataframe\">\n",
        "  <thead>\n",
        "    <tr style=\"text-align: right;\">\n",
        "      <th></th>\n",
        "      <th>Date</th>\n",
        "      <th>Point</th>\n",
        "      <th>Count</th>\n",
        "      <th>Year</th>\n",
        "      <th>Month</th>\n",
        "      <th>MonthDay</th>\n",
        "      <th>OriginalDate</th>\n",
        "    </tr>\n",
        "  </thead>\n",
        "  <tbody>\n",
        "    <tr>\n",
        "      <th>7332</th>\n",
        "      <td>2015-05-27</td>\n",
        "      <td>\u0411\u0435\u043b\u0433\u043e\u0440\u043e\u0434-1</td>\n",
        "      <td>68.669348</td>\n",
        "      <td>2015</td>\n",
        "      <td>5</td>\n",
        "      <td>27</td>\n",
        "      <td>27.05.2015</td>\n",
        "    </tr>\n",
        "    <tr>\n",
        "      <th>7333</th>\n",
        "      <td>2015-01-31</td>\n",
        "      <td>\u0421\u0430\u043c\u0430\u0440\u0430-3</td>\n",
        "      <td>170.000000</td>\n",
        "      <td>2015</td>\n",
        "      <td>1</td>\n",
        "      <td>31</td>\n",
        "      <td>31.01.2015</td>\n",
        "    </tr>\n",
        "    <tr>\n",
        "      <th>7334</th>\n",
        "      <td>2015-11-12</td>\n",
        "      <td>\u0412\u043e\u043b\u043e\u0433\u0434\u0430-1</td>\n",
        "      <td>34.455445</td>\n",
        "      <td>2015</td>\n",
        "      <td>11</td>\n",
        "      <td>12</td>\n",
        "      <td>12.11.2015</td>\n",
        "    </tr>\n",
        "    <tr>\n",
        "      <th>7335</th>\n",
        "      <td>2016-05-07</td>\n",
        "      <td>\u0414\u043e\u043c\u043e\u0434\u0435\u0434\u043e\u0432\u043e-1</td>\n",
        "      <td>105.000000</td>\n",
        "      <td>2016</td>\n",
        "      <td>5</td>\n",
        "      <td>7</td>\n",
        "      <td>07.05.2016</td>\n",
        "    </tr>\n",
        "    <tr>\n",
        "      <th>7336</th>\n",
        "      <td>2015-04-18</td>\n",
        "      <td>\u041c\u0430\u0445\u0430\u0447\u043a\u0430\u043b\u0430-1</td>\n",
        "      <td>95.393159</td>\n",
        "      <td>2015</td>\n",
        "      <td>4</td>\n",
        "      <td>18</td>\n",
        "      <td>18.04.2015</td>\n",
        "    </tr>\n",
        "  </tbody>\n",
        "</table>\n",
        "</div>"
       ],
       "metadata": {},
       "output_type": "pyout",
       "prompt_number": 36,
       "text": [
        "           Date         Point       Count  Year  Month  MonthDay OriginalDate\n",
        "7332 2015-05-27    \u0411\u0435\u043b\u0433\u043e\u0440\u043e\u0434-1   68.669348  2015      5        27   27.05.2015\n",
        "7333 2015-01-31      \u0421\u0430\u043c\u0430\u0440\u0430-3  170.000000  2015      1        31   31.01.2015\n",
        "7334 2015-11-12     \u0412\u043e\u043b\u043e\u0433\u0434\u0430-1   34.455445  2015     11        12   12.11.2015\n",
        "7335 2016-05-07  \u0414\u043e\u043c\u043e\u0434\u0435\u0434\u043e\u0432\u043e-1  105.000000  2016      5         7   07.05.2016\n",
        "7336 2015-04-18   \u041c\u0430\u0445\u0430\u0447\u043a\u0430\u043b\u0430-1   95.393159  2015      4        18   18.04.2015"
       ]
      }
     ],
     "prompt_number": 36
    },
    {
     "cell_type": "code",
     "collapsed": false,
     "input": [
      "originTest = originTest[[\"OriginalDate\", \"Point\", \"Count\"]]"
     ],
     "language": "python",
     "metadata": {},
     "outputs": [],
     "prompt_number": 37
    },
    {
     "cell_type": "code",
     "collapsed": false,
     "input": [
      "originTest.head()"
     ],
     "language": "python",
     "metadata": {},
     "outputs": [
      {
       "html": [
        "<div style=\"max-width:1500px;overflow:auto;\">\n",
        "<table border=\"1\" class=\"dataframe\">\n",
        "  <thead>\n",
        "    <tr style=\"text-align: right;\">\n",
        "      <th></th>\n",
        "      <th>OriginalDate</th>\n",
        "      <th>Point</th>\n",
        "      <th>Count</th>\n",
        "    </tr>\n",
        "  </thead>\n",
        "  <tbody>\n",
        "    <tr>\n",
        "      <th>0</th>\n",
        "      <td>08.07.2016</td>\n",
        "      <td>\u0423\u043b\u044c\u044f\u043d\u043e\u0432\u0441\u043a-2</td>\n",
        "      <td>212.437626</td>\n",
        "    </tr>\n",
        "    <tr>\n",
        "      <th>1</th>\n",
        "      <td>25.07.2016</td>\n",
        "      <td>\u0411\u0430\u043b\u0430\u0448\u0438\u0445\u0430-1</td>\n",
        "      <td>109.000000</td>\n",
        "    </tr>\n",
        "    <tr>\n",
        "      <th>2</th>\n",
        "      <td>09.11.2014</td>\n",
        "      <td>\u0423\u0445\u0442\u0430-1</td>\n",
        "      <td>189.522185</td>\n",
        "    </tr>\n",
        "    <tr>\n",
        "      <th>3</th>\n",
        "      <td>12.11.2015</td>\n",
        "      <td>\u0410\u043b\u044c\u043c\u0435\u0442\u044c\u0435\u0432\u0441\u043a-1</td>\n",
        "      <td>58.000000</td>\n",
        "    </tr>\n",
        "    <tr>\n",
        "      <th>4</th>\n",
        "      <td>17.07.2014</td>\n",
        "      <td>\u0423\u0445\u0442\u0430-1</td>\n",
        "      <td>156.000000</td>\n",
        "    </tr>\n",
        "  </tbody>\n",
        "</table>\n",
        "</div>"
       ],
       "metadata": {},
       "output_type": "pyout",
       "prompt_number": 38,
       "text": [
        "  OriginalDate          Point       Count\n",
        "0   08.07.2016    \u0423\u043b\u044c\u044f\u043d\u043e\u0432\u0441\u043a-2  212.437626\n",
        "1   25.07.2016     \u0411\u0430\u043b\u0430\u0448\u0438\u0445\u0430-1  109.000000\n",
        "2   09.11.2014         \u0423\u0445\u0442\u0430-1  189.522185\n",
        "3   12.11.2015  \u0410\u043b\u044c\u043c\u0435\u0442\u044c\u0435\u0432\u0441\u043a-1   58.000000\n",
        "4   17.07.2014         \u0423\u0445\u0442\u0430-1  156.000000"
       ]
      }
     ],
     "prompt_number": 38
    },
    {
     "cell_type": "code",
     "collapsed": false,
     "input": [
      "originTest.tail()"
     ],
     "language": "python",
     "metadata": {},
     "outputs": [
      {
       "html": [
        "<div style=\"max-width:1500px;overflow:auto;\">\n",
        "<table border=\"1\" class=\"dataframe\">\n",
        "  <thead>\n",
        "    <tr style=\"text-align: right;\">\n",
        "      <th></th>\n",
        "      <th>OriginalDate</th>\n",
        "      <th>Point</th>\n",
        "      <th>Count</th>\n",
        "    </tr>\n",
        "  </thead>\n",
        "  <tbody>\n",
        "    <tr>\n",
        "      <th>7332</th>\n",
        "      <td>27.05.2015</td>\n",
        "      <td>\u0411\u0435\u043b\u0433\u043e\u0440\u043e\u0434-1</td>\n",
        "      <td>68.669348</td>\n",
        "    </tr>\n",
        "    <tr>\n",
        "      <th>7333</th>\n",
        "      <td>31.01.2015</td>\n",
        "      <td>\u0421\u0430\u043c\u0430\u0440\u0430-3</td>\n",
        "      <td>170.000000</td>\n",
        "    </tr>\n",
        "    <tr>\n",
        "      <th>7334</th>\n",
        "      <td>12.11.2015</td>\n",
        "      <td>\u0412\u043e\u043b\u043e\u0433\u0434\u0430-1</td>\n",
        "      <td>34.455445</td>\n",
        "    </tr>\n",
        "    <tr>\n",
        "      <th>7335</th>\n",
        "      <td>07.05.2016</td>\n",
        "      <td>\u0414\u043e\u043c\u043e\u0434\u0435\u0434\u043e\u0432\u043e-1</td>\n",
        "      <td>105.000000</td>\n",
        "    </tr>\n",
        "    <tr>\n",
        "      <th>7336</th>\n",
        "      <td>18.04.2015</td>\n",
        "      <td>\u041c\u0430\u0445\u0430\u0447\u043a\u0430\u043b\u0430-1</td>\n",
        "      <td>95.393159</td>\n",
        "    </tr>\n",
        "  </tbody>\n",
        "</table>\n",
        "</div>"
       ],
       "metadata": {},
       "output_type": "pyout",
       "prompt_number": 39,
       "text": [
        "     OriginalDate         Point       Count\n",
        "7332   27.05.2015    \u0411\u0435\u043b\u0433\u043e\u0440\u043e\u0434-1   68.669348\n",
        "7333   31.01.2015      \u0421\u0430\u043c\u0430\u0440\u0430-3  170.000000\n",
        "7334   12.11.2015     \u0412\u043e\u043b\u043e\u0433\u0434\u0430-1   34.455445\n",
        "7335   07.05.2016  \u0414\u043e\u043c\u043e\u0434\u0435\u0434\u043e\u0432\u043e-1  105.000000\n",
        "7336   18.04.2015   \u041c\u0430\u0445\u0430\u0447\u043a\u0430\u043b\u0430-1   95.393159"
       ]
      }
     ],
     "prompt_number": 39
    },
    {
     "cell_type": "code",
     "collapsed": false,
     "input": [
      "originTest.to_csv('submission.csv', index=None, header=None)"
     ],
     "language": "python",
     "metadata": {},
     "outputs": [],
     "prompt_number": 40
    },
    {
     "cell_type": "code",
     "collapsed": false,
     "input": [
      "pd.isnull(originTest).sum() > 0"
     ],
     "language": "python",
     "metadata": {},
     "outputs": [
      {
       "metadata": {},
       "output_type": "pyout",
       "prompt_number": 41,
       "text": [
        "OriginalDate    False\n",
        "Point           False\n",
        "Count           False\n",
        "dtype: bool"
       ]
      }
     ],
     "prompt_number": 41
    },
    {
     "cell_type": "code",
     "collapsed": false,
     "input": [
      "originTest"
     ],
     "language": "python",
     "metadata": {},
     "outputs": [
      {
       "html": [
        "<div style=\"max-width:1500px;overflow:auto;\">\n",
        "<table border=\"1\" class=\"dataframe\">\n",
        "  <thead>\n",
        "    <tr style=\"text-align: right;\">\n",
        "      <th></th>\n",
        "      <th>OriginalDate</th>\n",
        "      <th>Point</th>\n",
        "      <th>Count</th>\n",
        "    </tr>\n",
        "  </thead>\n",
        "  <tbody>\n",
        "    <tr>\n",
        "      <th>0</th>\n",
        "      <td>08.07.2016</td>\n",
        "      <td>\u0423\u043b\u044c\u044f\u043d\u043e\u0432\u0441\u043a-2</td>\n",
        "      <td>212.437626</td>\n",
        "    </tr>\n",
        "    <tr>\n",
        "      <th>1</th>\n",
        "      <td>25.07.2016</td>\n",
        "      <td>\u0411\u0430\u043b\u0430\u0448\u0438\u0445\u0430-1</td>\n",
        "      <td>109.000000</td>\n",
        "    </tr>\n",
        "    <tr>\n",
        "      <th>2</th>\n",
        "      <td>09.11.2014</td>\n",
        "      <td>\u0423\u0445\u0442\u0430-1</td>\n",
        "      <td>189.522185</td>\n",
        "    </tr>\n",
        "    <tr>\n",
        "      <th>3</th>\n",
        "      <td>12.11.2015</td>\n",
        "      <td>\u0410\u043b\u044c\u043c\u0435\u0442\u044c\u0435\u0432\u0441\u043a-1</td>\n",
        "      <td>58.000000</td>\n",
        "    </tr>\n",
        "    <tr>\n",
        "      <th>4</th>\n",
        "      <td>17.07.2014</td>\n",
        "      <td>\u0423\u0445\u0442\u0430-1</td>\n",
        "      <td>156.000000</td>\n",
        "    </tr>\n",
        "    <tr>\n",
        "      <th>5</th>\n",
        "      <td>18.04.2016</td>\n",
        "      <td>\u0421\u0443\u0440\u0433\u0443\u0442-1</td>\n",
        "      <td>171.000000</td>\n",
        "    </tr>\n",
        "    <tr>\n",
        "      <th>6</th>\n",
        "      <td>26.08.2015</td>\n",
        "      <td>\u0412\u043e\u043b\u0436\u0441\u043a\u0438\u0439-1</td>\n",
        "      <td>83.560129</td>\n",
        "    </tr>\n",
        "    <tr>\n",
        "      <th>7</th>\n",
        "      <td>05.02.2015</td>\n",
        "      <td>\u041c\u0430\u0439\u043a\u043e\u043f-1</td>\n",
        "      <td>71.700867</td>\n",
        "    </tr>\n",
        "    <tr>\n",
        "      <th>8</th>\n",
        "      <td>28.09.2015</td>\n",
        "      <td>\u0421\u0430\u0440\u0430\u043f\u0443\u043b-1</td>\n",
        "      <td>65.344320</td>\n",
        "    </tr>\n",
        "    <tr>\n",
        "      <th>9</th>\n",
        "      <td>23.04.2016</td>\n",
        "      <td>\u041c\u043e\u0441\u043a\u0432\u0430 1-1</td>\n",
        "      <td>119.745721</td>\n",
        "    </tr>\n",
        "    <tr>\n",
        "      <th>10</th>\n",
        "      <td>04.02.2015</td>\n",
        "      <td>\u0423\u0445\u0442\u0430-1</td>\n",
        "      <td>155.000000</td>\n",
        "    </tr>\n",
        "    <tr>\n",
        "      <th>11</th>\n",
        "      <td>28.09.2015</td>\n",
        "      <td>\u0421\u044b\u043a\u0442\u044b\u0432\u043a\u0430\u0440-5</td>\n",
        "      <td>42.685058</td>\n",
        "    </tr>\n",
        "    <tr>\n",
        "      <th>12</th>\n",
        "      <td>29.03.2013</td>\n",
        "      <td>\u0423\u0445\u0442\u0430-1</td>\n",
        "      <td>168.810038</td>\n",
        "    </tr>\n",
        "    <tr>\n",
        "      <th>13</th>\n",
        "      <td>27.09.2015</td>\n",
        "      <td>\u041c\u0443\u0440\u043e\u043c-1</td>\n",
        "      <td>52.472323</td>\n",
        "    </tr>\n",
        "    <tr>\n",
        "      <th>14</th>\n",
        "      <td>26.10.2015</td>\n",
        "      <td>\u041c\u044b\u0442\u0438\u0449\u0438-1</td>\n",
        "      <td>77.367469</td>\n",
        "    </tr>\n",
        "    <tr>\n",
        "      <th>15</th>\n",
        "      <td>07.04.2015</td>\n",
        "      <td>\u0423\u0441\u0441\u0443\u0440\u0438\u0439\u0441\u043a-1</td>\n",
        "      <td>53.311302</td>\n",
        "    </tr>\n",
        "    <tr>\n",
        "      <th>16</th>\n",
        "      <td>24.03.2016</td>\n",
        "      <td>\u0421\u043c\u043e\u043b\u0435\u043d\u0441\u043a-3</td>\n",
        "      <td>66.189631</td>\n",
        "    </tr>\n",
        "    <tr>\n",
        "      <th>17</th>\n",
        "      <td>08.03.2013</td>\n",
        "      <td>\u0427\u0435\u043b\u044f\u0431\u0438\u043d\u0441\u043a-1</td>\n",
        "      <td>103.516904</td>\n",
        "    </tr>\n",
        "    <tr>\n",
        "      <th>18</th>\n",
        "      <td>28.04.2013</td>\n",
        "      <td>\u0411\u0435\u043b\u0433\u043e\u0440\u043e\u0434-1</td>\n",
        "      <td>50.000000</td>\n",
        "    </tr>\n",
        "    <tr>\n",
        "      <th>19</th>\n",
        "      <td>16.06.2014</td>\n",
        "      <td>\u0421\u044b\u043a\u0442\u044b\u0432\u043a\u0430\u0440-2</td>\n",
        "      <td>35.772184</td>\n",
        "    </tr>\n",
        "    <tr>\n",
        "      <th>20</th>\n",
        "      <td>28.09.2014</td>\n",
        "      <td>\u0421\u044b\u043a\u0442\u044b\u0432\u043a\u0430\u0440-2</td>\n",
        "      <td>108.000000</td>\n",
        "    </tr>\n",
        "    <tr>\n",
        "      <th>21</th>\n",
        "      <td>26.03.2016</td>\n",
        "      <td>\u0421\u0430\u043b\u0430\u0432\u0430\u0442-1</td>\n",
        "      <td>29.000000</td>\n",
        "    </tr>\n",
        "    <tr>\n",
        "      <th>22</th>\n",
        "      <td>25.03.2016</td>\n",
        "      <td>\u041d\u043e\u0432\u043e\u0440\u043e\u0441\u0441\u0438\u0439\u0441\u043a-1</td>\n",
        "      <td>130.000000</td>\n",
        "    </tr>\n",
        "    <tr>\n",
        "      <th>23</th>\n",
        "      <td>31.01.2016</td>\n",
        "      <td>\u041c\u0430\u0445\u0430\u0447\u043a\u0430\u043b\u0430-1</td>\n",
        "      <td>131.794597</td>\n",
        "    </tr>\n",
        "    <tr>\n",
        "      <th>24</th>\n",
        "      <td>08.07.2016</td>\n",
        "      <td>\u041d\u043e\u0432\u043e\u0447\u0435\u0431\u043e\u043a\u0441\u0430\u0440\u0441\u043a-1</td>\n",
        "      <td>45.495228</td>\n",
        "    </tr>\n",
        "    <tr>\n",
        "      <th>25</th>\n",
        "      <td>17.07.2015</td>\n",
        "      <td>\u0427\u0430\u0439\u043a\u043e\u0432\u0441\u043a\u0438\u0439-1</td>\n",
        "      <td>28.000000</td>\n",
        "    </tr>\n",
        "    <tr>\n",
        "      <th>26</th>\n",
        "      <td>29.07.2015</td>\n",
        "      <td>\u0411\u0443\u0433\u0443\u043b\u044c\u043c\u0430-1</td>\n",
        "      <td>40.335957</td>\n",
        "    </tr>\n",
        "    <tr>\n",
        "      <th>27</th>\n",
        "      <td>22.06.2014</td>\n",
        "      <td>\u0421\u044b\u043a\u0442\u044b\u0432\u043a\u0430\u0440-4</td>\n",
        "      <td>86.720520</td>\n",
        "    </tr>\n",
        "    <tr>\n",
        "      <th>28</th>\n",
        "      <td>07.05.2016</td>\n",
        "      <td>\u041d\u0438\u0436\u043d\u0435\u043a\u0430\u043c\u0441\u043a-1</td>\n",
        "      <td>104.321725</td>\n",
        "    </tr>\n",
        "    <tr>\n",
        "      <th>29</th>\n",
        "      <td>24.02.2015</td>\n",
        "      <td>\u0421\u044b\u043a\u0442\u044b\u0432\u043a\u0430\u0440-3</td>\n",
        "      <td>77.000000</td>\n",
        "    </tr>\n",
        "    <tr>\n",
        "      <th>...</th>\n",
        "      <td>...</td>\n",
        "      <td>...</td>\n",
        "      <td>...</td>\n",
        "    </tr>\n",
        "    <tr>\n",
        "      <th>7307</th>\n",
        "      <td>01.04.2014</td>\n",
        "      <td>\u0427\u0435\u043b\u044f\u0431\u0438\u043d\u0441\u043a-1</td>\n",
        "      <td>62.000000</td>\n",
        "    </tr>\n",
        "    <tr>\n",
        "      <th>7308</th>\n",
        "      <td>30.04.2016</td>\n",
        "      <td>\u0421\u044b\u043a\u0442\u044b\u0432\u043a\u0430\u0440-5</td>\n",
        "      <td>53.000000</td>\n",
        "    </tr>\n",
        "    <tr>\n",
        "      <th>7309</th>\n",
        "      <td>20.01.2014</td>\n",
        "      <td>\u0421\u044b\u043a\u0442\u044b\u0432\u043a\u0430\u0440-3</td>\n",
        "      <td>87.588076</td>\n",
        "    </tr>\n",
        "    <tr>\n",
        "      <th>7310</th>\n",
        "      <td>17.05.2016</td>\n",
        "      <td>\u0412\u0435\u043b\u044c\u0441\u043a-1</td>\n",
        "      <td>50.357199</td>\n",
        "    </tr>\n",
        "    <tr>\n",
        "      <th>7311</th>\n",
        "      <td>26.05.2014</td>\n",
        "      <td>\u042d\u043d\u0433\u0435\u043b\u044c\u0441-1</td>\n",
        "      <td>22.000000</td>\n",
        "    </tr>\n",
        "    <tr>\n",
        "      <th>7312</th>\n",
        "      <td>06.11.2014</td>\n",
        "      <td>\u041e\u043a\u0442\u044f\u0431\u0440\u044c\u0441\u043a\u0438\u0439-1</td>\n",
        "      <td>57.672350</td>\n",
        "    </tr>\n",
        "    <tr>\n",
        "      <th>7313</th>\n",
        "      <td>07.08.2013</td>\n",
        "      <td>\u0421\u044b\u043a\u0442\u044b\u0432\u043a\u0430\u0440-1</td>\n",
        "      <td>270.757687</td>\n",
        "    </tr>\n",
        "    <tr>\n",
        "      <th>7314</th>\n",
        "      <td>17.05.2016</td>\n",
        "      <td>\u041e\u043a\u0442\u044f\u0431\u0440\u044c\u0441\u043a\u0438\u0439-1</td>\n",
        "      <td>84.683795</td>\n",
        "    </tr>\n",
        "    <tr>\n",
        "      <th>7315</th>\n",
        "      <td>18.04.2015</td>\n",
        "      <td>\u0421\u044b\u043a\u0442\u044b\u0432\u043a\u0430\u0440-2</td>\n",
        "      <td>112.412580</td>\n",
        "    </tr>\n",
        "    <tr>\n",
        "      <th>7316</th>\n",
        "      <td>19.06.2016</td>\n",
        "      <td>\u0417\u0435\u043b\u0435\u043d\u043e\u0433\u0440\u0430\u0434-1</td>\n",
        "      <td>180.000000</td>\n",
        "    </tr>\n",
        "    <tr>\n",
        "      <th>7317</th>\n",
        "      <td>11.05.2016</td>\n",
        "      <td>\u0422\u044e\u043c\u0435\u043d\u044c-1</td>\n",
        "      <td>115.000000</td>\n",
        "    </tr>\n",
        "    <tr>\n",
        "      <th>7318</th>\n",
        "      <td>05.08.2016</td>\n",
        "      <td>\u0421\u0430\u043b\u0430\u0432\u0430\u0442-1</td>\n",
        "      <td>32.225611</td>\n",
        "    </tr>\n",
        "    <tr>\n",
        "      <th>7319</th>\n",
        "      <td>09.11.2013</td>\n",
        "      <td>\u0421\u0430\u0440\u0430\u043f\u0443\u043b-1</td>\n",
        "      <td>104.000000</td>\n",
        "    </tr>\n",
        "    <tr>\n",
        "      <th>7320</th>\n",
        "      <td>30.04.2015</td>\n",
        "      <td>\u041e\u043a\u0442\u044f\u0431\u0440\u044c\u0441\u043a\u0438\u0439-1</td>\n",
        "      <td>68.278915</td>\n",
        "    </tr>\n",
        "    <tr>\n",
        "      <th>7321</th>\n",
        "      <td>29.05.2015</td>\n",
        "      <td>\u0422\u0430\u0433\u0430\u043d\u0440\u043e\u0433-1</td>\n",
        "      <td>165.632252</td>\n",
        "    </tr>\n",
        "    <tr>\n",
        "      <th>7322</th>\n",
        "      <td>30.04.2016</td>\n",
        "      <td>\u0414\u043e\u043b\u0433\u043e\u043f\u0440\u0443\u0434\u043d\u044b\u0439-1</td>\n",
        "      <td>310.000000</td>\n",
        "    </tr>\n",
        "    <tr>\n",
        "      <th>7323</th>\n",
        "      <td>26.10.2015</td>\n",
        "      <td>\u0423\u0441\u0441\u0443\u0440\u0438\u0439\u0441\u043a-1</td>\n",
        "      <td>115.000000</td>\n",
        "    </tr>\n",
        "    <tr>\n",
        "      <th>7324</th>\n",
        "      <td>09.07.2014</td>\n",
        "      <td>\u0421\u044b\u043a\u0442\u044b\u0432\u043a\u0430\u0440-4</td>\n",
        "      <td>47.000000</td>\n",
        "    </tr>\n",
        "    <tr>\n",
        "      <th>7325</th>\n",
        "      <td>26.03.2014</td>\n",
        "      <td>\u0411\u0435\u043b\u0433\u043e\u0440\u043e\u0434-1</td>\n",
        "      <td>102.643299</td>\n",
        "    </tr>\n",
        "    <tr>\n",
        "      <th>7326</th>\n",
        "      <td>26.10.2015</td>\n",
        "      <td>\u0421\u043c\u043e\u043b\u0435\u043d\u0441\u043a-2</td>\n",
        "      <td>157.000000</td>\n",
        "    </tr>\n",
        "    <tr>\n",
        "      <th>7327</th>\n",
        "      <td>14.04.2015</td>\n",
        "      <td>\u0413\u0430\u0442\u0447\u0438\u043d\u0430-1</td>\n",
        "      <td>31.420402</td>\n",
        "    </tr>\n",
        "    <tr>\n",
        "      <th>7328</th>\n",
        "      <td>04.12.2015</td>\n",
        "      <td>\u0411\u0435\u0440\u0435\u0437\u043d\u0438\u043a\u0438-1</td>\n",
        "      <td>76.000000</td>\n",
        "    </tr>\n",
        "    <tr>\n",
        "      <th>7329</th>\n",
        "      <td>16.04.2016</td>\n",
        "      <td>\u0421\u0430\u043c\u0430\u0440\u0430-3</td>\n",
        "      <td>379.326408</td>\n",
        "    </tr>\n",
        "    <tr>\n",
        "      <th>7330</th>\n",
        "      <td>04.12.2014</td>\n",
        "      <td>\u0421\u044b\u043a\u0442\u044b\u0432\u043a\u0430\u0440-2</td>\n",
        "      <td>54.661074</td>\n",
        "    </tr>\n",
        "    <tr>\n",
        "      <th>7331</th>\n",
        "      <td>02.12.2015</td>\n",
        "      <td>\u041a\u043e\u043b\u043f\u0438\u043d\u043e-1</td>\n",
        "      <td>58.542337</td>\n",
        "    </tr>\n",
        "    <tr>\n",
        "      <th>7332</th>\n",
        "      <td>27.05.2015</td>\n",
        "      <td>\u0411\u0435\u043b\u0433\u043e\u0440\u043e\u0434-1</td>\n",
        "      <td>68.669348</td>\n",
        "    </tr>\n",
        "    <tr>\n",
        "      <th>7333</th>\n",
        "      <td>31.01.2015</td>\n",
        "      <td>\u0421\u0430\u043c\u0430\u0440\u0430-3</td>\n",
        "      <td>170.000000</td>\n",
        "    </tr>\n",
        "    <tr>\n",
        "      <th>7334</th>\n",
        "      <td>12.11.2015</td>\n",
        "      <td>\u0412\u043e\u043b\u043e\u0433\u0434\u0430-1</td>\n",
        "      <td>34.455445</td>\n",
        "    </tr>\n",
        "    <tr>\n",
        "      <th>7335</th>\n",
        "      <td>07.05.2016</td>\n",
        "      <td>\u0414\u043e\u043c\u043e\u0434\u0435\u0434\u043e\u0432\u043e-1</td>\n",
        "      <td>105.000000</td>\n",
        "    </tr>\n",
        "    <tr>\n",
        "      <th>7336</th>\n",
        "      <td>18.04.2015</td>\n",
        "      <td>\u041c\u0430\u0445\u0430\u0447\u043a\u0430\u043b\u0430-1</td>\n",
        "      <td>95.393159</td>\n",
        "    </tr>\n",
        "  </tbody>\n",
        "</table>\n",
        "<p>7337 rows \u00d7 3 columns</p>\n",
        "</div>"
       ],
       "metadata": {},
       "output_type": "pyout",
       "prompt_number": 42,
       "text": [
        "     OriginalDate             Point       Count\n",
        "0      08.07.2016       \u0423\u043b\u044c\u044f\u043d\u043e\u0432\u0441\u043a-2  212.437626\n",
        "1      25.07.2016        \u0411\u0430\u043b\u0430\u0448\u0438\u0445\u0430-1  109.000000\n",
        "2      09.11.2014            \u0423\u0445\u0442\u0430-1  189.522185\n",
        "3      12.11.2015     \u0410\u043b\u044c\u043c\u0435\u0442\u044c\u0435\u0432\u0441\u043a-1   58.000000\n",
        "4      17.07.2014            \u0423\u0445\u0442\u0430-1  156.000000\n",
        "5      18.04.2016          \u0421\u0443\u0440\u0433\u0443\u0442-1  171.000000\n",
        "6      26.08.2015        \u0412\u043e\u043b\u0436\u0441\u043a\u0438\u0439-1   83.560129\n",
        "7      05.02.2015          \u041c\u0430\u0439\u043a\u043e\u043f-1   71.700867\n",
        "8      28.09.2015         \u0421\u0430\u0440\u0430\u043f\u0443\u043b-1   65.344320\n",
        "9      23.04.2016        \u041c\u043e\u0441\u043a\u0432\u0430 1-1  119.745721\n",
        "10     04.02.2015            \u0423\u0445\u0442\u0430-1  155.000000\n",
        "11     28.09.2015       \u0421\u044b\u043a\u0442\u044b\u0432\u043a\u0430\u0440-5   42.685058\n",
        "12     29.03.2013            \u0423\u0445\u0442\u0430-1  168.810038\n",
        "13     27.09.2015           \u041c\u0443\u0440\u043e\u043c-1   52.472323\n",
        "14     26.10.2015          \u041c\u044b\u0442\u0438\u0449\u0438-1   77.367469\n",
        "15     07.04.2015       \u0423\u0441\u0441\u0443\u0440\u0438\u0439\u0441\u043a-1   53.311302\n",
        "16     24.03.2016        \u0421\u043c\u043e\u043b\u0435\u043d\u0441\u043a-3   66.189631\n",
        "17     08.03.2013       \u0427\u0435\u043b\u044f\u0431\u0438\u043d\u0441\u043a-1  103.516904\n",
        "18     28.04.2013        \u0411\u0435\u043b\u0433\u043e\u0440\u043e\u0434-1   50.000000\n",
        "19     16.06.2014       \u0421\u044b\u043a\u0442\u044b\u0432\u043a\u0430\u0440-2   35.772184\n",
        "20     28.09.2014       \u0421\u044b\u043a\u0442\u044b\u0432\u043a\u0430\u0440-2  108.000000\n",
        "21     26.03.2016         \u0421\u0430\u043b\u0430\u0432\u0430\u0442-1   29.000000\n",
        "22     25.03.2016    \u041d\u043e\u0432\u043e\u0440\u043e\u0441\u0441\u0438\u0439\u0441\u043a-1  130.000000\n",
        "23     31.01.2016       \u041c\u0430\u0445\u0430\u0447\u043a\u0430\u043b\u0430-1  131.794597\n",
        "24     08.07.2016  \u041d\u043e\u0432\u043e\u0447\u0435\u0431\u043e\u043a\u0441\u0430\u0440\u0441\u043a-1   45.495228\n",
        "25     17.07.2015      \u0427\u0430\u0439\u043a\u043e\u0432\u0441\u043a\u0438\u0439-1   28.000000\n",
        "26     29.07.2015        \u0411\u0443\u0433\u0443\u043b\u044c\u043c\u0430-1   40.335957\n",
        "27     22.06.2014       \u0421\u044b\u043a\u0442\u044b\u0432\u043a\u0430\u0440-4   86.720520\n",
        "28     07.05.2016      \u041d\u0438\u0436\u043d\u0435\u043a\u0430\u043c\u0441\u043a-1  104.321725\n",
        "29     24.02.2015       \u0421\u044b\u043a\u0442\u044b\u0432\u043a\u0430\u0440-3   77.000000\n",
        "...           ...               ...         ...\n",
        "7307   01.04.2014       \u0427\u0435\u043b\u044f\u0431\u0438\u043d\u0441\u043a-1   62.000000\n",
        "7308   30.04.2016       \u0421\u044b\u043a\u0442\u044b\u0432\u043a\u0430\u0440-5   53.000000\n",
        "7309   20.01.2014       \u0421\u044b\u043a\u0442\u044b\u0432\u043a\u0430\u0440-3   87.588076\n",
        "7310   17.05.2016          \u0412\u0435\u043b\u044c\u0441\u043a-1   50.357199\n",
        "7311   26.05.2014         \u042d\u043d\u0433\u0435\u043b\u044c\u0441-1   22.000000\n",
        "7312   06.11.2014     \u041e\u043a\u0442\u044f\u0431\u0440\u044c\u0441\u043a\u0438\u0439-1   57.672350\n",
        "7313   07.08.2013       \u0421\u044b\u043a\u0442\u044b\u0432\u043a\u0430\u0440-1  270.757687\n",
        "7314   17.05.2016     \u041e\u043a\u0442\u044f\u0431\u0440\u044c\u0441\u043a\u0438\u0439-1   84.683795\n",
        "7315   18.04.2015       \u0421\u044b\u043a\u0442\u044b\u0432\u043a\u0430\u0440-2  112.412580\n",
        "7316   19.06.2016      \u0417\u0435\u043b\u0435\u043d\u043e\u0433\u0440\u0430\u0434-1  180.000000\n",
        "7317   11.05.2016          \u0422\u044e\u043c\u0435\u043d\u044c-1  115.000000\n",
        "7318   05.08.2016         \u0421\u0430\u043b\u0430\u0432\u0430\u0442-1   32.225611\n",
        "7319   09.11.2013         \u0421\u0430\u0440\u0430\u043f\u0443\u043b-1  104.000000\n",
        "7320   30.04.2015     \u041e\u043a\u0442\u044f\u0431\u0440\u044c\u0441\u043a\u0438\u0439-1   68.278915\n",
        "7321   29.05.2015        \u0422\u0430\u0433\u0430\u043d\u0440\u043e\u0433-1  165.632252\n",
        "7322   30.04.2016    \u0414\u043e\u043b\u0433\u043e\u043f\u0440\u0443\u0434\u043d\u044b\u0439-1  310.000000\n",
        "7323   26.10.2015       \u0423\u0441\u0441\u0443\u0440\u0438\u0439\u0441\u043a-1  115.000000\n",
        "7324   09.07.2014       \u0421\u044b\u043a\u0442\u044b\u0432\u043a\u0430\u0440-4   47.000000\n",
        "7325   26.03.2014        \u0411\u0435\u043b\u0433\u043e\u0440\u043e\u0434-1  102.643299\n",
        "7326   26.10.2015        \u0421\u043c\u043e\u043b\u0435\u043d\u0441\u043a-2  157.000000\n",
        "7327   14.04.2015         \u0413\u0430\u0442\u0447\u0438\u043d\u0430-1   31.420402\n",
        "7328   04.12.2015       \u0411\u0435\u0440\u0435\u0437\u043d\u0438\u043a\u0438-1   76.000000\n",
        "7329   16.04.2016          \u0421\u0430\u043c\u0430\u0440\u0430-3  379.326408\n",
        "7330   04.12.2014       \u0421\u044b\u043a\u0442\u044b\u0432\u043a\u0430\u0440-2   54.661074\n",
        "7331   02.12.2015         \u041a\u043e\u043b\u043f\u0438\u043d\u043e-1   58.542337\n",
        "7332   27.05.2015        \u0411\u0435\u043b\u0433\u043e\u0440\u043e\u0434-1   68.669348\n",
        "7333   31.01.2015          \u0421\u0430\u043c\u0430\u0440\u0430-3  170.000000\n",
        "7334   12.11.2015         \u0412\u043e\u043b\u043e\u0433\u0434\u0430-1   34.455445\n",
        "7335   07.05.2016      \u0414\u043e\u043c\u043e\u0434\u0435\u0434\u043e\u0432\u043e-1  105.000000\n",
        "7336   18.04.2015       \u041c\u0430\u0445\u0430\u0447\u043a\u0430\u043b\u0430-1   95.393159\n",
        "\n",
        "[7337 rows x 3 columns]"
       ]
      }
     ],
     "prompt_number": 42
    },
    {
     "cell_type": "code",
     "collapsed": false,
     "input": [],
     "language": "python",
     "metadata": {},
     "outputs": [],
     "prompt_number": 42
    },
    {
     "cell_type": "code",
     "collapsed": false,
     "input": [],
     "language": "python",
     "metadata": {},
     "outputs": [],
     "prompt_number": null
    }
   ],
   "metadata": {}
  }
 ]
}