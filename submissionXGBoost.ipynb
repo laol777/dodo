{
 "cells": [
  {
   "cell_type": "code",
   "execution_count": 19,
   "metadata": {
    "collapsed": false
   },
   "outputs": [
    {
     "data": {
      "text/plain": [
       "\"\\ndtrain = xgb.DMatrix( X_train, label=y_train)\\ndtest = xgb.DMatrix( X_test, label=y_test)\\ndres = xgb.DMatrix( X_res )\\nevallist  = [(dtest,'eval'), (dtrain,'train')]\\n\\nparam = {'max_depth': 6,\\n \\t\\t'silent': 1,\\n \\t\\t'eta': 0.01,\\n \\t\\t'eval_metric': 'mae'\\n }\\n\\nnum_round = 100\\n\\nbst = xgb.train( param, dtrain, num_round, evallist, verbose_eval=10 )\\n\\n\\nresult = bst.predict(dres)\\n\""
      ]
     },
     "execution_count": 19,
     "metadata": {},
     "output_type": "execute_result"
    }
   ],
   "source": [
    "import pandas as pd\n",
    "import numpy as np\n",
    "from sklearn.metrics import mean_absolute_error as mae\n",
    "from sklearn.ensemble import GradientBoostingRegressor\n",
    "from sklearn.ensemble import RandomForestRegressor\n",
    "\n",
    "\n",
    "features = pd.read_csv('data_transform/all.csv')\n",
    "\n",
    "data = features.fillna(100000000)\n",
    "\n",
    "remove_column = ['IsTest', 'IsTrain', 'IsValidation', 'Date', 'Point', 'CityName'\n",
    "\t\t\t\t , 'MeanForThroughDay', 'MeanForMonthDayByPoints'\n",
    "                 , 'MeanForThroughDayByPoints', 'MeanForThroughWeekByPoints'\n",
    "                 , 'MeanForYearDayByPoints', u'Prev2Day', u'Prev3Day'\n",
    "                 , u'Next2Day', u'Next3Day', 'NextExisting21Value'\n",
    "                 , 'PrevExisting21Value', 'NextExisting14Value'\n",
    "                 , 'PrevExisting14Value', 'NextExisting3Value'\n",
    "                 , 'PrevExisting3Value'\n",
    "                 , 'BranchNumber', 'MeanForMonth', 'Next1Day', 'Prev7Day'\n",
    "                 ]\n",
    "\n",
    "\n",
    "dataTrain = data[data.IsTrain == 1]\n",
    "dataTrain = dataTrain[dataTrain.columns.difference(remove_column)]\n",
    "\n",
    "X_train = dataTrain[dataTrain.columns.difference(['Count'])]\n",
    "y_train = dataTrain[['Count']]\n",
    "\n",
    "dataValidation =  data[data.IsValidation == 1]\n",
    "dataValidation = dataValidation[dataValidation.columns.difference(remove_column)]\n",
    "\n",
    "X_test = dataValidation[dataValidation.columns.difference(['Count'])]\n",
    "y_test = dataValidation[['Count']]\n",
    "\n",
    "dataResult =  data[data.IsTest == 1]\n",
    "dataResult = dataResult[dataResult.columns.difference(remove_column)]\n",
    "\n",
    "X_res = dataResult[dataResult.columns.difference(['Count'])]\n",
    "\n",
    "'''\n",
    "dtrain = xgb.DMatrix( X_train, label=y_train)\n",
    "dtest = xgb.DMatrix( X_test, label=y_test)\n",
    "dres = xgb.DMatrix( X_res )\n",
    "evallist  = [(dtest,'eval'), (dtrain,'train')]\n",
    "\n",
    "param = {'max_depth': 6,\n",
    " \t\t'silent': 1,\n",
    " \t\t'eta': 0.01,\n",
    " \t\t'eval_metric': 'mae'\n",
    " }\n",
    "\n",
    "num_round = 100\n",
    "\n",
    "bst = xgb.train( param, dtrain, num_round, evallist, verbose_eval=10 )\n",
    "\n",
    "\n",
    "result = bst.predict(dres)\n",
    "'''"
   ]
  },
  {
   "cell_type": "code",
   "execution_count": 20,
   "metadata": {
    "collapsed": false
   },
   "outputs": [
    {
     "data": {
      "text/plain": [
       "Index(['CityID', 'MeanForMonthByPoints', 'MeanForMonthDay',\n",
       "       'MeanForThroughMonth', 'MeanForThroughMonthByPoints',\n",
       "       'MeanForThroughWeek', 'MeanForWeekDay', 'MeanForWeekDayByPoints',\n",
       "       'MeanForYear', 'MeanForYearByPoints', 'MeanForYearDay', 'Month',\n",
       "       'MonthDay', 'ThroughDay', 'ThroughMonth', 'ThroughWeek', 'WeekDay',\n",
       "       'Year', 'YearDay'],\n",
       "      dtype='object')"
      ]
     },
     "execution_count": 20,
     "metadata": {},
     "output_type": "execute_result"
    }
   ],
   "source": [
    "X_train.columns"
   ]
  },
  {
   "cell_type": "code",
   "execution_count": 21,
   "metadata": {
    "collapsed": false
   },
   "outputs": [],
   "source": [
    "gbr = GradientBoostingRegressor(n_estimators=80, loss=\"lad\", verbose=1, max_depth=7, random_state=10)"
   ]
  },
  {
   "cell_type": "code",
   "execution_count": 22,
   "metadata": {
    "collapsed": false
   },
   "outputs": [
    {
     "name": "stderr",
     "output_type": "stream",
     "text": [
      "/opt/anaconda3/lib/python3.5/site-packages/sklearn/utils/validation.py:515: DataConversionWarning: A column-vector y was passed when a 1d array was expected. Please change the shape of y to (n_samples, ), for example using ravel().\n",
      "  y = column_or_1d(y, warn=True)\n"
     ]
    },
    {
     "name": "stdout",
     "output_type": "stream",
     "text": [
      "      Iter       Train Loss   Remaining Time \n",
      "         1          48.1586           15.54s\n",
      "         2          44.2569           14.60s\n",
      "         3          40.7485           14.27s\n",
      "         4          37.6195           13.92s\n",
      "         5          34.9142           13.60s\n",
      "         6          32.4959           13.39s\n",
      "         7          30.3464           13.25s\n",
      "         8          28.4594           13.06s\n",
      "         9          26.7705           12.82s\n",
      "        10          25.2926           12.66s\n",
      "        20          17.6518           10.75s\n",
      "        30          15.5902            8.73s\n",
      "        40          14.9663            6.56s\n",
      "        50          14.6562            4.63s\n",
      "        60          14.3835            2.94s\n",
      "        70          14.1581            1.41s\n",
      "        80          13.9683            0.00s\n"
     ]
    },
    {
     "data": {
      "text/plain": [
       "GradientBoostingRegressor(alpha=0.9, init=None, learning_rate=0.1, loss='lad',\n",
       "             max_depth=7, max_features=None, max_leaf_nodes=None,\n",
       "             min_samples_leaf=1, min_samples_split=2,\n",
       "             min_weight_fraction_leaf=0.0, n_estimators=80, presort='auto',\n",
       "             random_state=10, subsample=1.0, verbose=1, warm_start=False)"
      ]
     },
     "execution_count": 22,
     "metadata": {},
     "output_type": "execute_result"
    }
   ],
   "source": [
    "gbr.fit(X_train, y_train)"
   ]
  },
  {
   "cell_type": "code",
   "execution_count": 23,
   "metadata": {
    "collapsed": false
   },
   "outputs": [
    {
     "data": {
      "text/plain": [
       "15.584894753194439"
      ]
     },
     "execution_count": 23,
     "metadata": {},
     "output_type": "execute_result"
    }
   ],
   "source": [
    "result = gbr.predict(X_test)\n",
    "mae(result, y_test)"
   ]
  },
  {
   "cell_type": "code",
   "execution_count": 24,
   "metadata": {
    "collapsed": false
   },
   "outputs": [],
   "source": [
    "result = gbr.predict(X_res)"
   ]
  },
  {
   "cell_type": "code",
   "execution_count": 25,
   "metadata": {
    "collapsed": false
   },
   "outputs": [
    {
     "data": {
      "text/plain": [
       "(7337, 20)"
      ]
     },
     "execution_count": 25,
     "metadata": {},
     "output_type": "execute_result"
    }
   ],
   "source": [
    "dataResult.shape"
   ]
  },
  {
   "cell_type": "code",
   "execution_count": 26,
   "metadata": {
    "collapsed": false
   },
   "outputs": [
    {
     "data": {
      "text/plain": [
       "True"
      ]
     },
     "execution_count": 26,
     "metadata": {},
     "output_type": "execute_result"
    }
   ],
   "source": [
    "1 == True"
   ]
  },
  {
   "cell_type": "code",
   "execution_count": 27,
   "metadata": {
    "collapsed": false
   },
   "outputs": [],
   "source": [
    "resDataFrame = pd.DataFrame()\n",
    "resDataFrame[\"Date\"] = data.Date[data.IsTest == True]\n",
    "resDataFrame.Date = resDataFrame.Date.apply(lambda x: pd.to_datetime(x))\n",
    "resDataFrame[\"Point\"] = data.Point[data.IsTest == True]\n",
    "resDataFrame.index = range(resDataFrame.shape[0])\n",
    "resDataFrame[\"Count\"] = pd.Series(result)"
   ]
  },
  {
   "cell_type": "code",
   "execution_count": 28,
   "metadata": {
    "collapsed": false,
    "scrolled": true
   },
   "outputs": [
    {
     "data": {
      "text/html": [
       "<div>\n",
       "<table border=\"1\" class=\"dataframe\">\n",
       "  <thead>\n",
       "    <tr style=\"text-align: right;\">\n",
       "      <th></th>\n",
       "      <th>Date</th>\n",
       "      <th>Point</th>\n",
       "      <th>Count</th>\n",
       "    </tr>\n",
       "  </thead>\n",
       "  <tbody>\n",
       "    <tr>\n",
       "      <th>0</th>\n",
       "      <td>2011-12-14</td>\n",
       "      <td>Сыктывкар-1</td>\n",
       "      <td>68.582369</td>\n",
       "    </tr>\n",
       "    <tr>\n",
       "      <th>1</th>\n",
       "      <td>2011-12-19</td>\n",
       "      <td>Сыктывкар-1</td>\n",
       "      <td>73.229086</td>\n",
       "    </tr>\n",
       "    <tr>\n",
       "      <th>2</th>\n",
       "      <td>2011-12-26</td>\n",
       "      <td>Сыктывкар-1</td>\n",
       "      <td>106.566636</td>\n",
       "    </tr>\n",
       "    <tr>\n",
       "      <th>3</th>\n",
       "      <td>2011-12-27</td>\n",
       "      <td>Сыктывкар-1</td>\n",
       "      <td>110.311289</td>\n",
       "    </tr>\n",
       "    <tr>\n",
       "      <th>4</th>\n",
       "      <td>2012-01-12</td>\n",
       "      <td>Сыктывкар-1</td>\n",
       "      <td>117.976172</td>\n",
       "    </tr>\n",
       "  </tbody>\n",
       "</table>\n",
       "</div>"
      ],
      "text/plain": [
       "        Date        Point       Count\n",
       "0 2011-12-14  Сыктывкар-1   68.582369\n",
       "1 2011-12-19  Сыктывкар-1   73.229086\n",
       "2 2011-12-26  Сыктывкар-1  106.566636\n",
       "3 2011-12-27  Сыктывкар-1  110.311289\n",
       "4 2012-01-12  Сыктывкар-1  117.976172"
      ]
     },
     "execution_count": 28,
     "metadata": {},
     "output_type": "execute_result"
    }
   ],
   "source": [
    "resDataFrame.head()"
   ]
  },
  {
   "cell_type": "code",
   "execution_count": 29,
   "metadata": {
    "collapsed": false
   },
   "outputs": [
    {
     "data": {
      "text/html": [
       "<div>\n",
       "<table border=\"1\" class=\"dataframe\">\n",
       "  <thead>\n",
       "    <tr style=\"text-align: right;\">\n",
       "      <th></th>\n",
       "      <th>Date</th>\n",
       "      <th>Point</th>\n",
       "      <th>Count</th>\n",
       "    </tr>\n",
       "  </thead>\n",
       "  <tbody>\n",
       "    <tr>\n",
       "      <th>7332</th>\n",
       "      <td>2016-09-27</td>\n",
       "      <td>Новоалтайск-1</td>\n",
       "      <td>19.295813</td>\n",
       "    </tr>\n",
       "    <tr>\n",
       "      <th>7333</th>\n",
       "      <td>2016-09-27</td>\n",
       "      <td>Энгельс-1</td>\n",
       "      <td>54.387129</td>\n",
       "    </tr>\n",
       "    <tr>\n",
       "      <th>7334</th>\n",
       "      <td>2016-09-27</td>\n",
       "      <td>Зеленоград-1</td>\n",
       "      <td>133.524927</td>\n",
       "    </tr>\n",
       "    <tr>\n",
       "      <th>7335</th>\n",
       "      <td>2016-09-27</td>\n",
       "      <td>Ленинск-Кузнецкий-1</td>\n",
       "      <td>53.359373</td>\n",
       "    </tr>\n",
       "    <tr>\n",
       "      <th>7336</th>\n",
       "      <td>2016-09-27</td>\n",
       "      <td>Самара-3</td>\n",
       "      <td>328.769516</td>\n",
       "    </tr>\n",
       "  </tbody>\n",
       "</table>\n",
       "</div>"
      ],
      "text/plain": [
       "           Date                Point       Count\n",
       "7332 2016-09-27        Новоалтайск-1   19.295813\n",
       "7333 2016-09-27            Энгельс-1   54.387129\n",
       "7334 2016-09-27         Зеленоград-1  133.524927\n",
       "7335 2016-09-27  Ленинск-Кузнецкий-1   53.359373\n",
       "7336 2016-09-27             Самара-3  328.769516"
      ]
     },
     "execution_count": 29,
     "metadata": {},
     "output_type": "execute_result"
    }
   ],
   "source": [
    "resDataFrame.tail()"
   ]
  },
  {
   "cell_type": "code",
   "execution_count": null,
   "metadata": {
    "collapsed": false
   },
   "outputs": [],
   "source": []
  },
  {
   "cell_type": "code",
   "execution_count": 30,
   "metadata": {
    "collapsed": true
   },
   "outputs": [],
   "source": [
    "originTest = pd.read_csv(\"data_original/test.csv\")"
   ]
  },
  {
   "cell_type": "code",
   "execution_count": 31,
   "metadata": {
    "collapsed": false
   },
   "outputs": [],
   "source": [
    "originTest.Date = originTest.Date.apply(lambda x: pd.to_datetime(x, format='%d.%m.%Y'))"
   ]
  },
  {
   "cell_type": "code",
   "execution_count": 32,
   "metadata": {
    "collapsed": false
   },
   "outputs": [
    {
     "data": {
      "text/html": [
       "<div>\n",
       "<table border=\"1\" class=\"dataframe\">\n",
       "  <thead>\n",
       "    <tr style=\"text-align: right;\">\n",
       "      <th></th>\n",
       "      <th>Date</th>\n",
       "      <th>Point</th>\n",
       "      <th>Count</th>\n",
       "    </tr>\n",
       "  </thead>\n",
       "  <tbody>\n",
       "    <tr>\n",
       "      <th>0</th>\n",
       "      <td>2016-07-08</td>\n",
       "      <td>Ульяновск-2</td>\n",
       "      <td>NaN</td>\n",
       "    </tr>\n",
       "    <tr>\n",
       "      <th>1</th>\n",
       "      <td>2016-07-25</td>\n",
       "      <td>Балашиха-1</td>\n",
       "      <td>NaN</td>\n",
       "    </tr>\n",
       "    <tr>\n",
       "      <th>2</th>\n",
       "      <td>2014-11-09</td>\n",
       "      <td>Ухта-1</td>\n",
       "      <td>NaN</td>\n",
       "    </tr>\n",
       "    <tr>\n",
       "      <th>3</th>\n",
       "      <td>2015-11-12</td>\n",
       "      <td>Альметьевск-1</td>\n",
       "      <td>NaN</td>\n",
       "    </tr>\n",
       "    <tr>\n",
       "      <th>4</th>\n",
       "      <td>2014-07-17</td>\n",
       "      <td>Ухта-1</td>\n",
       "      <td>NaN</td>\n",
       "    </tr>\n",
       "  </tbody>\n",
       "</table>\n",
       "</div>"
      ],
      "text/plain": [
       "        Date          Point  Count\n",
       "0 2016-07-08    Ульяновск-2    NaN\n",
       "1 2016-07-25     Балашиха-1    NaN\n",
       "2 2014-11-09         Ухта-1    NaN\n",
       "3 2015-11-12  Альметьевск-1    NaN\n",
       "4 2014-07-17         Ухта-1    NaN"
      ]
     },
     "execution_count": 32,
     "metadata": {},
     "output_type": "execute_result"
    }
   ],
   "source": [
    "originTest.head()"
   ]
  },
  {
   "cell_type": "code",
   "execution_count": 33,
   "metadata": {
    "collapsed": false
   },
   "outputs": [
    {
     "data": {
      "text/html": [
       "<div>\n",
       "<table border=\"1\" class=\"dataframe\">\n",
       "  <thead>\n",
       "    <tr style=\"text-align: right;\">\n",
       "      <th></th>\n",
       "      <th>Date</th>\n",
       "      <th>Point</th>\n",
       "      <th>Count</th>\n",
       "    </tr>\n",
       "  </thead>\n",
       "  <tbody>\n",
       "    <tr>\n",
       "      <th>6495</th>\n",
       "      <td>2016-07-08</td>\n",
       "      <td>Ульяновск-2</td>\n",
       "      <td>220.701822</td>\n",
       "    </tr>\n",
       "  </tbody>\n",
       "</table>\n",
       "</div>"
      ],
      "text/plain": [
       "           Date        Point       Count\n",
       "6495 2016-07-08  Ульяновск-2  220.701822"
      ]
     },
     "execution_count": 33,
     "metadata": {},
     "output_type": "execute_result"
    }
   ],
   "source": [
    "resDataFrame[(resDataFrame.Date == originTest.Date[0]) & (resDataFrame.Point == originTest.Point[0]) ]"
   ]
  },
  {
   "cell_type": "code",
   "execution_count": 34,
   "metadata": {
    "collapsed": false,
    "scrolled": true
   },
   "outputs": [],
   "source": [
    "resNP = np.array([np.nan] * originTest.shape[0])\n",
    "\n",
    "for i in originTest.index:\n",
    "    resNP[i] = resDataFrame.Count[(resDataFrame.Date == originTest.Date[i]) &\n",
    "                                             (resDataFrame.Point == originTest.Point[i])]"
   ]
  },
  {
   "cell_type": "code",
   "execution_count": 35,
   "metadata": {
    "collapsed": false
   },
   "outputs": [
    {
     "data": {
      "text/plain": [
       "(7337,)"
      ]
     },
     "execution_count": 35,
     "metadata": {},
     "output_type": "execute_result"
    }
   ],
   "source": [
    "resNP.shape"
   ]
  },
  {
   "cell_type": "code",
   "execution_count": 36,
   "metadata": {
    "collapsed": false
   },
   "outputs": [],
   "source": [
    "originTest.Count = pd.Series(resNP)"
   ]
  },
  {
   "cell_type": "code",
   "execution_count": 37,
   "metadata": {
    "collapsed": true
   },
   "outputs": [],
   "source": [
    "originTest.Count = originTest.Count.apply(lambda x: 1 if x < 1 else x)"
   ]
  },
  {
   "cell_type": "code",
   "execution_count": 38,
   "metadata": {
    "collapsed": false
   },
   "outputs": [],
   "source": [
    "originTest.Count = originTest.Count.apply(lambda x: round(x) if abs(x - round(x)) < 0.15 else x)"
   ]
  },
  {
   "cell_type": "code",
   "execution_count": 39,
   "metadata": {
    "collapsed": true
   },
   "outputs": [],
   "source": [
    "originTest['Year'] = originTest.Date.apply(lambda x: x.year)\n",
    "originTest['Month'] = originTest.Date.apply(lambda x: x.month)\n",
    "originTest['MonthDay'] = originTest.Date.apply(lambda x: x.day)"
   ]
  },
  {
   "cell_type": "code",
   "execution_count": 40,
   "metadata": {
    "collapsed": false
   },
   "outputs": [],
   "source": [
    "OriginalDate = []\n",
    "k = 9\n",
    "for i in range(originTest.shape[0]):\n",
    "    daystr = str(originTest.MonthDay[i]) if originTest.MonthDay[i] >= 10 else  \"0\" + str(originTest.MonthDay[i])\n",
    "    monthstr = str(originTest.Month[i]) if originTest.Month[i] >= 10 else  \"0\" + str(originTest.Month[i])\n",
    "    OriginalDate.append(daystr + \".\" + monthstr + \".\" +  str(originTest.Year[i]))"
   ]
  },
  {
   "cell_type": "code",
   "execution_count": null,
   "metadata": {
    "collapsed": false
   },
   "outputs": [],
   "source": []
  },
  {
   "cell_type": "code",
   "execution_count": null,
   "metadata": {
    "collapsed": true
   },
   "outputs": [],
   "source": []
  },
  {
   "cell_type": "code",
   "execution_count": 41,
   "metadata": {
    "collapsed": true
   },
   "outputs": [],
   "source": [
    "originTest[\"OriginalDate\"] = pd.Series(OriginalDate)"
   ]
  },
  {
   "cell_type": "code",
   "execution_count": null,
   "metadata": {
    "collapsed": false,
    "scrolled": true
   },
   "outputs": [],
   "source": []
  },
  {
   "cell_type": "code",
   "execution_count": null,
   "metadata": {
    "collapsed": false
   },
   "outputs": [],
   "source": []
  },
  {
   "cell_type": "code",
   "execution_count": 42,
   "metadata": {
    "collapsed": false
   },
   "outputs": [
    {
     "data": {
      "text/html": [
       "<div>\n",
       "<table border=\"1\" class=\"dataframe\">\n",
       "  <thead>\n",
       "    <tr style=\"text-align: right;\">\n",
       "      <th></th>\n",
       "      <th>Date</th>\n",
       "      <th>Point</th>\n",
       "      <th>Count</th>\n",
       "      <th>Year</th>\n",
       "      <th>Month</th>\n",
       "      <th>MonthDay</th>\n",
       "      <th>OriginalDate</th>\n",
       "    </tr>\n",
       "  </thead>\n",
       "  <tbody>\n",
       "    <tr>\n",
       "      <th>7332</th>\n",
       "      <td>2015-05-27</td>\n",
       "      <td>Белгород-1</td>\n",
       "      <td>69.364244</td>\n",
       "      <td>2015</td>\n",
       "      <td>5</td>\n",
       "      <td>27</td>\n",
       "      <td>27.05.2015</td>\n",
       "    </tr>\n",
       "    <tr>\n",
       "      <th>7333</th>\n",
       "      <td>2015-01-31</td>\n",
       "      <td>Самара-3</td>\n",
       "      <td>161.732720</td>\n",
       "      <td>2015</td>\n",
       "      <td>1</td>\n",
       "      <td>31</td>\n",
       "      <td>31.01.2015</td>\n",
       "    </tr>\n",
       "    <tr>\n",
       "      <th>7334</th>\n",
       "      <td>2015-11-12</td>\n",
       "      <td>Вологда-1</td>\n",
       "      <td>33.829153</td>\n",
       "      <td>2015</td>\n",
       "      <td>11</td>\n",
       "      <td>12</td>\n",
       "      <td>12.11.2015</td>\n",
       "    </tr>\n",
       "    <tr>\n",
       "      <th>7335</th>\n",
       "      <td>2016-05-07</td>\n",
       "      <td>Домодедово-1</td>\n",
       "      <td>98.234087</td>\n",
       "      <td>2016</td>\n",
       "      <td>5</td>\n",
       "      <td>7</td>\n",
       "      <td>07.05.2016</td>\n",
       "    </tr>\n",
       "    <tr>\n",
       "      <th>7336</th>\n",
       "      <td>2015-04-18</td>\n",
       "      <td>Махачкала-1</td>\n",
       "      <td>97.000000</td>\n",
       "      <td>2015</td>\n",
       "      <td>4</td>\n",
       "      <td>18</td>\n",
       "      <td>18.04.2015</td>\n",
       "    </tr>\n",
       "  </tbody>\n",
       "</table>\n",
       "</div>"
      ],
      "text/plain": [
       "           Date         Point       Count  Year  Month  MonthDay OriginalDate\n",
       "7332 2015-05-27    Белгород-1   69.364244  2015      5        27   27.05.2015\n",
       "7333 2015-01-31      Самара-3  161.732720  2015      1        31   31.01.2015\n",
       "7334 2015-11-12     Вологда-1   33.829153  2015     11        12   12.11.2015\n",
       "7335 2016-05-07  Домодедово-1   98.234087  2016      5         7   07.05.2016\n",
       "7336 2015-04-18   Махачкала-1   97.000000  2015      4        18   18.04.2015"
      ]
     },
     "execution_count": 42,
     "metadata": {},
     "output_type": "execute_result"
    }
   ],
   "source": [
    "originTest.tail()"
   ]
  },
  {
   "cell_type": "code",
   "execution_count": 43,
   "metadata": {
    "collapsed": false
   },
   "outputs": [],
   "source": [
    "originTest = originTest[[\"OriginalDate\", \"Point\", \"Count\"]]"
   ]
  },
  {
   "cell_type": "code",
   "execution_count": 44,
   "metadata": {
    "collapsed": false
   },
   "outputs": [
    {
     "data": {
      "text/html": [
       "<div>\n",
       "<table border=\"1\" class=\"dataframe\">\n",
       "  <thead>\n",
       "    <tr style=\"text-align: right;\">\n",
       "      <th></th>\n",
       "      <th>OriginalDate</th>\n",
       "      <th>Point</th>\n",
       "      <th>Count</th>\n",
       "    </tr>\n",
       "  </thead>\n",
       "  <tbody>\n",
       "    <tr>\n",
       "      <th>0</th>\n",
       "      <td>08.07.2016</td>\n",
       "      <td>Ульяновск-2</td>\n",
       "      <td>220.701822</td>\n",
       "    </tr>\n",
       "    <tr>\n",
       "      <th>1</th>\n",
       "      <td>25.07.2016</td>\n",
       "      <td>Балашиха-1</td>\n",
       "      <td>118.323384</td>\n",
       "    </tr>\n",
       "    <tr>\n",
       "      <th>2</th>\n",
       "      <td>09.11.2014</td>\n",
       "      <td>Ухта-1</td>\n",
       "      <td>173.000000</td>\n",
       "    </tr>\n",
       "    <tr>\n",
       "      <th>3</th>\n",
       "      <td>12.11.2015</td>\n",
       "      <td>Альметьевск-1</td>\n",
       "      <td>60.378913</td>\n",
       "    </tr>\n",
       "    <tr>\n",
       "      <th>4</th>\n",
       "      <td>17.07.2014</td>\n",
       "      <td>Ухта-1</td>\n",
       "      <td>154.427647</td>\n",
       "    </tr>\n",
       "  </tbody>\n",
       "</table>\n",
       "</div>"
      ],
      "text/plain": [
       "  OriginalDate          Point       Count\n",
       "0   08.07.2016    Ульяновск-2  220.701822\n",
       "1   25.07.2016     Балашиха-1  118.323384\n",
       "2   09.11.2014         Ухта-1  173.000000\n",
       "3   12.11.2015  Альметьевск-1   60.378913\n",
       "4   17.07.2014         Ухта-1  154.427647"
      ]
     },
     "execution_count": 44,
     "metadata": {},
     "output_type": "execute_result"
    }
   ],
   "source": [
    "originTest.head()"
   ]
  },
  {
   "cell_type": "code",
   "execution_count": 45,
   "metadata": {
    "collapsed": false
   },
   "outputs": [
    {
     "data": {
      "text/html": [
       "<div>\n",
       "<table border=\"1\" class=\"dataframe\">\n",
       "  <thead>\n",
       "    <tr style=\"text-align: right;\">\n",
       "      <th></th>\n",
       "      <th>OriginalDate</th>\n",
       "      <th>Point</th>\n",
       "      <th>Count</th>\n",
       "    </tr>\n",
       "  </thead>\n",
       "  <tbody>\n",
       "    <tr>\n",
       "      <th>7332</th>\n",
       "      <td>27.05.2015</td>\n",
       "      <td>Белгород-1</td>\n",
       "      <td>69.364244</td>\n",
       "    </tr>\n",
       "    <tr>\n",
       "      <th>7333</th>\n",
       "      <td>31.01.2015</td>\n",
       "      <td>Самара-3</td>\n",
       "      <td>161.732720</td>\n",
       "    </tr>\n",
       "    <tr>\n",
       "      <th>7334</th>\n",
       "      <td>12.11.2015</td>\n",
       "      <td>Вологда-1</td>\n",
       "      <td>33.829153</td>\n",
       "    </tr>\n",
       "    <tr>\n",
       "      <th>7335</th>\n",
       "      <td>07.05.2016</td>\n",
       "      <td>Домодедово-1</td>\n",
       "      <td>98.234087</td>\n",
       "    </tr>\n",
       "    <tr>\n",
       "      <th>7336</th>\n",
       "      <td>18.04.2015</td>\n",
       "      <td>Махачкала-1</td>\n",
       "      <td>97.000000</td>\n",
       "    </tr>\n",
       "  </tbody>\n",
       "</table>\n",
       "</div>"
      ],
      "text/plain": [
       "     OriginalDate         Point       Count\n",
       "7332   27.05.2015    Белгород-1   69.364244\n",
       "7333   31.01.2015      Самара-3  161.732720\n",
       "7334   12.11.2015     Вологда-1   33.829153\n",
       "7335   07.05.2016  Домодедово-1   98.234087\n",
       "7336   18.04.2015   Махачкала-1   97.000000"
      ]
     },
     "execution_count": 45,
     "metadata": {},
     "output_type": "execute_result"
    }
   ],
   "source": [
    "originTest.tail()"
   ]
  },
  {
   "cell_type": "code",
   "execution_count": 46,
   "metadata": {
    "collapsed": false
   },
   "outputs": [],
   "source": [
    "originTest.to_csv('submission.csv', index=None, header=None)"
   ]
  },
  {
   "cell_type": "code",
   "execution_count": 47,
   "metadata": {
    "collapsed": false
   },
   "outputs": [
    {
     "data": {
      "text/plain": [
       "OriginalDate    False\n",
       "Point           False\n",
       "Count           False\n",
       "dtype: bool"
      ]
     },
     "execution_count": 47,
     "metadata": {},
     "output_type": "execute_result"
    }
   ],
   "source": [
    "pd.isnull(originTest).sum() > 0"
   ]
  },
  {
   "cell_type": "code",
   "execution_count": 48,
   "metadata": {
    "collapsed": false
   },
   "outputs": [
    {
     "data": {
      "text/html": [
       "<div>\n",
       "<table border=\"1\" class=\"dataframe\">\n",
       "  <thead>\n",
       "    <tr style=\"text-align: right;\">\n",
       "      <th></th>\n",
       "      <th>OriginalDate</th>\n",
       "      <th>Point</th>\n",
       "      <th>Count</th>\n",
       "    </tr>\n",
       "  </thead>\n",
       "  <tbody>\n",
       "    <tr>\n",
       "      <th>0</th>\n",
       "      <td>08.07.2016</td>\n",
       "      <td>Ульяновск-2</td>\n",
       "      <td>220.701822</td>\n",
       "    </tr>\n",
       "    <tr>\n",
       "      <th>1</th>\n",
       "      <td>25.07.2016</td>\n",
       "      <td>Балашиха-1</td>\n",
       "      <td>118.323384</td>\n",
       "    </tr>\n",
       "    <tr>\n",
       "      <th>2</th>\n",
       "      <td>09.11.2014</td>\n",
       "      <td>Ухта-1</td>\n",
       "      <td>173.000000</td>\n",
       "    </tr>\n",
       "    <tr>\n",
       "      <th>3</th>\n",
       "      <td>12.11.2015</td>\n",
       "      <td>Альметьевск-1</td>\n",
       "      <td>60.378913</td>\n",
       "    </tr>\n",
       "    <tr>\n",
       "      <th>4</th>\n",
       "      <td>17.07.2014</td>\n",
       "      <td>Ухта-1</td>\n",
       "      <td>154.427647</td>\n",
       "    </tr>\n",
       "    <tr>\n",
       "      <th>5</th>\n",
       "      <td>18.04.2016</td>\n",
       "      <td>Сургут-1</td>\n",
       "      <td>191.000000</td>\n",
       "    </tr>\n",
       "    <tr>\n",
       "      <th>6</th>\n",
       "      <td>26.08.2015</td>\n",
       "      <td>Волжский-1</td>\n",
       "      <td>82.183014</td>\n",
       "    </tr>\n",
       "    <tr>\n",
       "      <th>7</th>\n",
       "      <td>05.02.2015</td>\n",
       "      <td>Майкоп-1</td>\n",
       "      <td>62.413892</td>\n",
       "    </tr>\n",
       "    <tr>\n",
       "      <th>8</th>\n",
       "      <td>28.09.2015</td>\n",
       "      <td>Сарапул-1</td>\n",
       "      <td>52.681614</td>\n",
       "    </tr>\n",
       "    <tr>\n",
       "      <th>9</th>\n",
       "      <td>23.04.2016</td>\n",
       "      <td>Москва 1-1</td>\n",
       "      <td>118.000000</td>\n",
       "    </tr>\n",
       "    <tr>\n",
       "      <th>10</th>\n",
       "      <td>04.02.2015</td>\n",
       "      <td>Ухта-1</td>\n",
       "      <td>144.000000</td>\n",
       "    </tr>\n",
       "    <tr>\n",
       "      <th>11</th>\n",
       "      <td>28.09.2015</td>\n",
       "      <td>Сыктывкар-5</td>\n",
       "      <td>34.812523</td>\n",
       "    </tr>\n",
       "    <tr>\n",
       "      <th>12</th>\n",
       "      <td>29.03.2013</td>\n",
       "      <td>Ухта-1</td>\n",
       "      <td>167.547610</td>\n",
       "    </tr>\n",
       "    <tr>\n",
       "      <th>13</th>\n",
       "      <td>27.09.2015</td>\n",
       "      <td>Муром-1</td>\n",
       "      <td>53.553174</td>\n",
       "    </tr>\n",
       "    <tr>\n",
       "      <th>14</th>\n",
       "      <td>26.10.2015</td>\n",
       "      <td>Мытищи-1</td>\n",
       "      <td>84.234808</td>\n",
       "    </tr>\n",
       "    <tr>\n",
       "      <th>15</th>\n",
       "      <td>07.04.2015</td>\n",
       "      <td>Уссурийск-1</td>\n",
       "      <td>46.000000</td>\n",
       "    </tr>\n",
       "    <tr>\n",
       "      <th>16</th>\n",
       "      <td>24.03.2016</td>\n",
       "      <td>Смоленск-3</td>\n",
       "      <td>64.482453</td>\n",
       "    </tr>\n",
       "    <tr>\n",
       "      <th>17</th>\n",
       "      <td>08.03.2013</td>\n",
       "      <td>Челябинск-1</td>\n",
       "      <td>113.822355</td>\n",
       "    </tr>\n",
       "    <tr>\n",
       "      <th>18</th>\n",
       "      <td>28.04.2013</td>\n",
       "      <td>Белгород-1</td>\n",
       "      <td>51.489212</td>\n",
       "    </tr>\n",
       "    <tr>\n",
       "      <th>19</th>\n",
       "      <td>16.06.2014</td>\n",
       "      <td>Сыктывкар-2</td>\n",
       "      <td>36.639880</td>\n",
       "    </tr>\n",
       "    <tr>\n",
       "      <th>20</th>\n",
       "      <td>28.09.2014</td>\n",
       "      <td>Сыктывкар-2</td>\n",
       "      <td>105.000000</td>\n",
       "    </tr>\n",
       "    <tr>\n",
       "      <th>21</th>\n",
       "      <td>26.03.2016</td>\n",
       "      <td>Салават-1</td>\n",
       "      <td>30.655535</td>\n",
       "    </tr>\n",
       "    <tr>\n",
       "      <th>22</th>\n",
       "      <td>25.03.2016</td>\n",
       "      <td>Новороссийск-1</td>\n",
       "      <td>137.000000</td>\n",
       "    </tr>\n",
       "    <tr>\n",
       "      <th>23</th>\n",
       "      <td>31.01.2016</td>\n",
       "      <td>Махачкала-1</td>\n",
       "      <td>119.328696</td>\n",
       "    </tr>\n",
       "    <tr>\n",
       "      <th>24</th>\n",
       "      <td>08.07.2016</td>\n",
       "      <td>Новочебоксарск-1</td>\n",
       "      <td>47.000000</td>\n",
       "    </tr>\n",
       "    <tr>\n",
       "      <th>25</th>\n",
       "      <td>17.07.2015</td>\n",
       "      <td>Чайковский-1</td>\n",
       "      <td>28.323223</td>\n",
       "    </tr>\n",
       "    <tr>\n",
       "      <th>26</th>\n",
       "      <td>29.07.2015</td>\n",
       "      <td>Бугульма-1</td>\n",
       "      <td>39.784653</td>\n",
       "    </tr>\n",
       "    <tr>\n",
       "      <th>27</th>\n",
       "      <td>22.06.2014</td>\n",
       "      <td>Сыктывкар-4</td>\n",
       "      <td>81.462447</td>\n",
       "    </tr>\n",
       "    <tr>\n",
       "      <th>28</th>\n",
       "      <td>07.05.2016</td>\n",
       "      <td>Нижнекамск-1</td>\n",
       "      <td>101.266267</td>\n",
       "    </tr>\n",
       "    <tr>\n",
       "      <th>29</th>\n",
       "      <td>24.02.2015</td>\n",
       "      <td>Сыктывкар-3</td>\n",
       "      <td>75.471731</td>\n",
       "    </tr>\n",
       "    <tr>\n",
       "      <th>...</th>\n",
       "      <td>...</td>\n",
       "      <td>...</td>\n",
       "      <td>...</td>\n",
       "    </tr>\n",
       "    <tr>\n",
       "      <th>7307</th>\n",
       "      <td>01.04.2014</td>\n",
       "      <td>Челябинск-1</td>\n",
       "      <td>59.658492</td>\n",
       "    </tr>\n",
       "    <tr>\n",
       "      <th>7308</th>\n",
       "      <td>30.04.2016</td>\n",
       "      <td>Сыктывкар-5</td>\n",
       "      <td>51.785816</td>\n",
       "    </tr>\n",
       "    <tr>\n",
       "      <th>7309</th>\n",
       "      <td>20.01.2014</td>\n",
       "      <td>Сыктывкар-3</td>\n",
       "      <td>88.692216</td>\n",
       "    </tr>\n",
       "    <tr>\n",
       "      <th>7310</th>\n",
       "      <td>17.05.2016</td>\n",
       "      <td>Вельск-1</td>\n",
       "      <td>52.000000</td>\n",
       "    </tr>\n",
       "    <tr>\n",
       "      <th>7311</th>\n",
       "      <td>26.05.2014</td>\n",
       "      <td>Энгельс-1</td>\n",
       "      <td>25.000000</td>\n",
       "    </tr>\n",
       "    <tr>\n",
       "      <th>7312</th>\n",
       "      <td>06.11.2014</td>\n",
       "      <td>Октябрьский-1</td>\n",
       "      <td>60.780428</td>\n",
       "    </tr>\n",
       "    <tr>\n",
       "      <th>7313</th>\n",
       "      <td>07.08.2013</td>\n",
       "      <td>Сыктывкар-1</td>\n",
       "      <td>273.000000</td>\n",
       "    </tr>\n",
       "    <tr>\n",
       "      <th>7314</th>\n",
       "      <td>17.05.2016</td>\n",
       "      <td>Октябрьский-1</td>\n",
       "      <td>81.725098</td>\n",
       "    </tr>\n",
       "    <tr>\n",
       "      <th>7315</th>\n",
       "      <td>18.04.2015</td>\n",
       "      <td>Сыктывкар-2</td>\n",
       "      <td>114.628172</td>\n",
       "    </tr>\n",
       "    <tr>\n",
       "      <th>7316</th>\n",
       "      <td>19.06.2016</td>\n",
       "      <td>Зеленоград-1</td>\n",
       "      <td>178.437237</td>\n",
       "    </tr>\n",
       "    <tr>\n",
       "      <th>7317</th>\n",
       "      <td>11.05.2016</td>\n",
       "      <td>Тюмень-1</td>\n",
       "      <td>125.491483</td>\n",
       "    </tr>\n",
       "    <tr>\n",
       "      <th>7318</th>\n",
       "      <td>05.08.2016</td>\n",
       "      <td>Салават-1</td>\n",
       "      <td>32.478696</td>\n",
       "    </tr>\n",
       "    <tr>\n",
       "      <th>7319</th>\n",
       "      <td>09.11.2013</td>\n",
       "      <td>Сарапул-1</td>\n",
       "      <td>98.422304</td>\n",
       "    </tr>\n",
       "    <tr>\n",
       "      <th>7320</th>\n",
       "      <td>30.04.2015</td>\n",
       "      <td>Октябрьский-1</td>\n",
       "      <td>65.511750</td>\n",
       "    </tr>\n",
       "    <tr>\n",
       "      <th>7321</th>\n",
       "      <td>29.05.2015</td>\n",
       "      <td>Таганрог-1</td>\n",
       "      <td>173.000000</td>\n",
       "    </tr>\n",
       "    <tr>\n",
       "      <th>7322</th>\n",
       "      <td>30.04.2016</td>\n",
       "      <td>Долгопрудный-1</td>\n",
       "      <td>324.000000</td>\n",
       "    </tr>\n",
       "    <tr>\n",
       "      <th>7323</th>\n",
       "      <td>26.10.2015</td>\n",
       "      <td>Уссурийск-1</td>\n",
       "      <td>121.173120</td>\n",
       "    </tr>\n",
       "    <tr>\n",
       "      <th>7324</th>\n",
       "      <td>09.07.2014</td>\n",
       "      <td>Сыктывкар-4</td>\n",
       "      <td>43.526959</td>\n",
       "    </tr>\n",
       "    <tr>\n",
       "      <th>7325</th>\n",
       "      <td>26.03.2014</td>\n",
       "      <td>Белгород-1</td>\n",
       "      <td>94.000000</td>\n",
       "    </tr>\n",
       "    <tr>\n",
       "      <th>7326</th>\n",
       "      <td>26.10.2015</td>\n",
       "      <td>Смоленск-2</td>\n",
       "      <td>177.769178</td>\n",
       "    </tr>\n",
       "    <tr>\n",
       "      <th>7327</th>\n",
       "      <td>14.04.2015</td>\n",
       "      <td>Гатчина-1</td>\n",
       "      <td>29.760270</td>\n",
       "    </tr>\n",
       "    <tr>\n",
       "      <th>7328</th>\n",
       "      <td>04.12.2015</td>\n",
       "      <td>Березники-1</td>\n",
       "      <td>80.617370</td>\n",
       "    </tr>\n",
       "    <tr>\n",
       "      <th>7329</th>\n",
       "      <td>16.04.2016</td>\n",
       "      <td>Самара-3</td>\n",
       "      <td>371.507801</td>\n",
       "    </tr>\n",
       "    <tr>\n",
       "      <th>7330</th>\n",
       "      <td>04.12.2014</td>\n",
       "      <td>Сыктывкар-2</td>\n",
       "      <td>58.767117</td>\n",
       "    </tr>\n",
       "    <tr>\n",
       "      <th>7331</th>\n",
       "      <td>02.12.2015</td>\n",
       "      <td>Колпино-1</td>\n",
       "      <td>62.594960</td>\n",
       "    </tr>\n",
       "    <tr>\n",
       "      <th>7332</th>\n",
       "      <td>27.05.2015</td>\n",
       "      <td>Белгород-1</td>\n",
       "      <td>69.364244</td>\n",
       "    </tr>\n",
       "    <tr>\n",
       "      <th>7333</th>\n",
       "      <td>31.01.2015</td>\n",
       "      <td>Самара-3</td>\n",
       "      <td>161.732720</td>\n",
       "    </tr>\n",
       "    <tr>\n",
       "      <th>7334</th>\n",
       "      <td>12.11.2015</td>\n",
       "      <td>Вологда-1</td>\n",
       "      <td>33.829153</td>\n",
       "    </tr>\n",
       "    <tr>\n",
       "      <th>7335</th>\n",
       "      <td>07.05.2016</td>\n",
       "      <td>Домодедово-1</td>\n",
       "      <td>98.234087</td>\n",
       "    </tr>\n",
       "    <tr>\n",
       "      <th>7336</th>\n",
       "      <td>18.04.2015</td>\n",
       "      <td>Махачкала-1</td>\n",
       "      <td>97.000000</td>\n",
       "    </tr>\n",
       "  </tbody>\n",
       "</table>\n",
       "<p>7337 rows × 3 columns</p>\n",
       "</div>"
      ],
      "text/plain": [
       "     OriginalDate             Point       Count\n",
       "0      08.07.2016       Ульяновск-2  220.701822\n",
       "1      25.07.2016        Балашиха-1  118.323384\n",
       "2      09.11.2014            Ухта-1  173.000000\n",
       "3      12.11.2015     Альметьевск-1   60.378913\n",
       "4      17.07.2014            Ухта-1  154.427647\n",
       "5      18.04.2016          Сургут-1  191.000000\n",
       "6      26.08.2015        Волжский-1   82.183014\n",
       "7      05.02.2015          Майкоп-1   62.413892\n",
       "8      28.09.2015         Сарапул-1   52.681614\n",
       "9      23.04.2016        Москва 1-1  118.000000\n",
       "10     04.02.2015            Ухта-1  144.000000\n",
       "11     28.09.2015       Сыктывкар-5   34.812523\n",
       "12     29.03.2013            Ухта-1  167.547610\n",
       "13     27.09.2015           Муром-1   53.553174\n",
       "14     26.10.2015          Мытищи-1   84.234808\n",
       "15     07.04.2015       Уссурийск-1   46.000000\n",
       "16     24.03.2016        Смоленск-3   64.482453\n",
       "17     08.03.2013       Челябинск-1  113.822355\n",
       "18     28.04.2013        Белгород-1   51.489212\n",
       "19     16.06.2014       Сыктывкар-2   36.639880\n",
       "20     28.09.2014       Сыктывкар-2  105.000000\n",
       "21     26.03.2016         Салават-1   30.655535\n",
       "22     25.03.2016    Новороссийск-1  137.000000\n",
       "23     31.01.2016       Махачкала-1  119.328696\n",
       "24     08.07.2016  Новочебоксарск-1   47.000000\n",
       "25     17.07.2015      Чайковский-1   28.323223\n",
       "26     29.07.2015        Бугульма-1   39.784653\n",
       "27     22.06.2014       Сыктывкар-4   81.462447\n",
       "28     07.05.2016      Нижнекамск-1  101.266267\n",
       "29     24.02.2015       Сыктывкар-3   75.471731\n",
       "...           ...               ...         ...\n",
       "7307   01.04.2014       Челябинск-1   59.658492\n",
       "7308   30.04.2016       Сыктывкар-5   51.785816\n",
       "7309   20.01.2014       Сыктывкар-3   88.692216\n",
       "7310   17.05.2016          Вельск-1   52.000000\n",
       "7311   26.05.2014         Энгельс-1   25.000000\n",
       "7312   06.11.2014     Октябрьский-1   60.780428\n",
       "7313   07.08.2013       Сыктывкар-1  273.000000\n",
       "7314   17.05.2016     Октябрьский-1   81.725098\n",
       "7315   18.04.2015       Сыктывкар-2  114.628172\n",
       "7316   19.06.2016      Зеленоград-1  178.437237\n",
       "7317   11.05.2016          Тюмень-1  125.491483\n",
       "7318   05.08.2016         Салават-1   32.478696\n",
       "7319   09.11.2013         Сарапул-1   98.422304\n",
       "7320   30.04.2015     Октябрьский-1   65.511750\n",
       "7321   29.05.2015        Таганрог-1  173.000000\n",
       "7322   30.04.2016    Долгопрудный-1  324.000000\n",
       "7323   26.10.2015       Уссурийск-1  121.173120\n",
       "7324   09.07.2014       Сыктывкар-4   43.526959\n",
       "7325   26.03.2014        Белгород-1   94.000000\n",
       "7326   26.10.2015        Смоленск-2  177.769178\n",
       "7327   14.04.2015         Гатчина-1   29.760270\n",
       "7328   04.12.2015       Березники-1   80.617370\n",
       "7329   16.04.2016          Самара-3  371.507801\n",
       "7330   04.12.2014       Сыктывкар-2   58.767117\n",
       "7331   02.12.2015         Колпино-1   62.594960\n",
       "7332   27.05.2015        Белгород-1   69.364244\n",
       "7333   31.01.2015          Самара-3  161.732720\n",
       "7334   12.11.2015         Вологда-1   33.829153\n",
       "7335   07.05.2016      Домодедово-1   98.234087\n",
       "7336   18.04.2015       Махачкала-1   97.000000\n",
       "\n",
       "[7337 rows x 3 columns]"
      ]
     },
     "execution_count": 48,
     "metadata": {},
     "output_type": "execute_result"
    }
   ],
   "source": [
    "originTest"
   ]
  },
  {
   "cell_type": "code",
   "execution_count": 64,
   "metadata": {
    "collapsed": false
   },
   "outputs": [],
   "source": []
  },
  {
   "cell_type": "code",
   "execution_count": null,
   "metadata": {
    "collapsed": false
   },
   "outputs": [],
   "source": []
  }
 ],
 "metadata": {
  "anaconda-cloud": {},
  "kernelspec": {
   "display_name": "Python [conda root]",
   "language": "python",
   "name": "conda-root-py"
  },
  "language_info": {
   "codemirror_mode": {
    "name": "ipython",
    "version": 3
   },
   "file_extension": ".py",
   "mimetype": "text/x-python",
   "name": "python",
   "nbconvert_exporter": "python",
   "pygments_lexer": "ipython3",
   "version": "3.5.2"
  }
 },
 "nbformat": 4,
 "nbformat_minor": 0
}
