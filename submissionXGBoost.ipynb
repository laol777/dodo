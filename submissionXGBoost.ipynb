{
 "metadata": {
  "anaconda-cloud": {},
  "kernelspec": {
   "display_name": "Python 2",
   "language": "python",
   "name": "python2"
  },
  "language_info": {
   "codemirror_mode": {
    "name": "ipython",
    "version": 2
   },
   "file_extension": ".py",
   "mimetype": "text/x-python",
   "name": "python",
   "nbconvert_exporter": "python",
   "pygments_lexer": "ipython2",
   "version": "2.7.6"
  },
  "name": "",
  "signature": "sha256:9f1663746bf1ab8b1ababbc3245ff6df9633bd401f311d2da97e2157a1130534"
 },
 "nbformat": 3,
 "nbformat_minor": 0,
 "worksheets": [
  {
   "cells": [
    {
     "cell_type": "code",
     "collapsed": false,
     "input": [
      "import pandas as pd\n",
      "import numpy as np\n",
      "import xgboost as xgb\n",
      "from sklearn.metrics import mean_absolute_error as mae\n",
      "from sklearn.ensemble import GradientBoostingRegressor\n",
      "from sklearn.ensemble import RandomForestRegressor\n",
      "\n",
      "\n",
      "features = pd.read_csv('data_transform/all.csv')\n",
      "\n",
      "data = features.fillna(100000000)\n",
      "\n",
      "remove_column = ['IsTest', 'IsTrain', 'IsValidation', 'Date', 'Point', 'CityName'\n",
      "\t\t\t\t , 'MeanForThroughDay', 'MeanForMonthDayByPoints'\n",
      "                 , 'MeanForThroughDayByPoints', 'MeanForThroughWeekByPoints'\n",
      "                 , 'MeanForYearDayByPoints', u'Prev2Day', u'Prev3Day'\n",
      "                 , u'Next2Day', u'Next3Day', 'NextExisting21Value'\n",
      "                 , 'PrevExisting21Value', 'NextExisting14Value'\n",
      "                 , 'PrevExisting14Value', 'NextExisting3Value'\n",
      "                 , 'PrevExisting3Value'\n",
      "                 , 'BranchNumber', 'MeanForMonth', 'Next1Day', 'Prev7Day'\n",
      "                 ]\n",
      "\n",
      "\n",
      "dataTrain = data[data.IsTrain == 1]\n",
      "dataTrain = dataTrain[dataTrain.columns.difference(remove_column)]\n",
      "\n",
      "X_train = dataTrain[dataTrain.columns.difference(['Count'])]\n",
      "y_train = dataTrain[['Count']]\n",
      "\n",
      "dataValidation =  data[data.IsValidation == 1]\n",
      "dataValidation = dataValidation[dataValidation.columns.difference(remove_column)]\n",
      "\n",
      "X_test = dataValidation[dataValidation.columns.difference(['Count'])]\n",
      "y_test = dataValidation[['Count']]\n",
      "\n",
      "dataResult =  data[data.IsTest == 1]\n",
      "dataResult = dataResult[dataResult.columns.difference(remove_column)]\n",
      "\n",
      "X_res = dataResult[dataResult.columns.difference(['Count'])]\n",
      "\n",
      "'''\n",
      "dtrain = xgb.DMatrix( X_train, label=y_train)\n",
      "dtest = xgb.DMatrix( X_test, label=y_test)\n",
      "dres = xgb.DMatrix( X_res )\n",
      "evallist  = [(dtest,'eval'), (dtrain,'train')]\n",
      "\n",
      "param = {'max_depth': 6,\n",
      " \t\t'silent': 1,\n",
      " \t\t'eta': 0.01,\n",
      " \t\t'eval_metric': 'mae'\n",
      " }\n",
      "\n",
      "num_round = 100\n",
      "\n",
      "bst = xgb.train( param, dtrain, num_round, evallist, verbose_eval=10 )\n",
      "\n",
      "\n",
      "result = bst.predict(dres)\n",
      "'''"
     ],
     "language": "python",
     "metadata": {},
     "outputs": [
      {
       "metadata": {},
       "output_type": "pyout",
       "prompt_number": 94,
       "text": [
        "\"\\ndtrain = xgb.DMatrix( X_train, label=y_train)\\ndtest = xgb.DMatrix( X_test, label=y_test)\\ndres = xgb.DMatrix( X_res )\\nevallist  = [(dtest,'eval'), (dtrain,'train')]\\n\\nparam = {'max_depth': 6,\\n \\t\\t'silent': 1,\\n \\t\\t'eta': 0.01,\\n \\t\\t'eval_metric': 'mae'\\n }\\n\\nnum_round = 100\\n\\nbst = xgb.train( param, dtrain, num_round, evallist, verbose_eval=10 )\\n\\n\\nresult = bst.predict(dres)\\n\""
       ]
      }
     ],
     "prompt_number": 94
    },
    {
     "cell_type": "code",
     "collapsed": false,
     "input": [
      "X_train.columns"
     ],
     "language": "python",
     "metadata": {},
     "outputs": [
      {
       "metadata": {},
       "output_type": "pyout",
       "prompt_number": 128,
       "text": [
        "Index([u'CityID', u'MeanForMonthByPoints', u'MeanForMonthDay',\n",
        "       u'MeanForThroughMonth', u'MeanForThroughMonthByPoints',\n",
        "       u'MeanForThroughWeek', u'MeanForWeekDay', u'MeanForWeekDayByPoints',\n",
        "       u'MeanForYear', u'MeanForYearByPoints', u'MeanForYearDay', u'Month',\n",
        "       u'MonthDay', u'ThroughDay', u'ThroughMonth', u'ThroughWeek', u'WeekDay',\n",
        "       u'Year', u'YearDay'],\n",
        "      dtype='object')"
       ]
      }
     ],
     "prompt_number": 128
    },
    {
     "cell_type": "code",
     "collapsed": false,
     "input": [
      "gbr = GradientBoostingRegressor(n_estimators=800, loss=\"lad\", verbose=1, max_depth=7)"
     ],
     "language": "python",
     "metadata": {},
     "outputs": [],
     "prompt_number": 98
    },
    {
     "cell_type": "code",
     "collapsed": false,
     "input": [
      "gbr.fit(X_train, y_train)"
     ],
     "language": "python",
     "metadata": {},
     "outputs": [
      {
       "output_type": "stream",
       "stream": "stdout",
       "text": [
        "      Iter       Train Loss   Remaining Time \n",
        "         1          48.1586            2.87m"
       ]
      },
      {
       "output_type": "stream",
       "stream": "stdout",
       "text": [
        "\n",
        "         2          44.2555            2.71m"
       ]
      },
      {
       "output_type": "stream",
       "stream": "stdout",
       "text": [
        "\n",
        "         3          40.7474            2.66m"
       ]
      },
      {
       "output_type": "stream",
       "stream": "stdout",
       "text": [
        "\n",
        "         4          37.6176            2.63m"
       ]
      },
      {
       "output_type": "stream",
       "stream": "stdout",
       "text": [
        "\n",
        "         5          34.9125            2.63m"
       ]
      },
      {
       "output_type": "stream",
       "stream": "stdout",
       "text": [
        "\n",
        "         6          32.4948            2.62m"
       ]
      },
      {
       "output_type": "stream",
       "stream": "stdout",
       "text": [
        "\n",
        "         7          30.3465            2.61m"
       ]
      },
      {
       "output_type": "stream",
       "stream": "stdout",
       "text": [
        "\n",
        "         8          28.4590            2.61m"
       ]
      },
      {
       "output_type": "stream",
       "stream": "stdout",
       "text": [
        "\n",
        "         9          26.7697            2.60m"
       ]
      },
      {
       "output_type": "stream",
       "stream": "stdout",
       "text": [
        "\n",
        "        10          25.2912            2.60m"
       ]
      },
      {
       "output_type": "stream",
       "stream": "stdout",
       "text": [
        "\n",
        "        20          17.6552            2.45m"
       ]
      },
      {
       "output_type": "stream",
       "stream": "stdout",
       "text": [
        "\n",
        "        30          15.6213            2.33m"
       ]
      },
      {
       "output_type": "stream",
       "stream": "stdout",
       "text": [
        "\n",
        "        40          14.9653            2.19m"
       ]
      },
      {
       "output_type": "stream",
       "stream": "stdout",
       "text": [
        "\n",
        "        50          14.6643            2.05m"
       ]
      },
      {
       "output_type": "stream",
       "stream": "stdout",
       "text": [
        "\n",
        "        60          14.3635            1.94m"
       ]
      },
      {
       "output_type": "stream",
       "stream": "stdout",
       "text": [
        "\n",
        "        70          14.1425            1.84m"
       ]
      },
      {
       "output_type": "stream",
       "stream": "stdout",
       "text": [
        "\n",
        "        80          13.9091            1.76m"
       ]
      },
      {
       "output_type": "stream",
       "stream": "stdout",
       "text": [
        "\n",
        "        90          13.8288            1.67m"
       ]
      },
      {
       "output_type": "stream",
       "stream": "stdout",
       "text": [
        "\n",
        "       100          13.6402            1.62m"
       ]
      },
      {
       "output_type": "stream",
       "stream": "stdout",
       "text": [
        "\n",
        "       200          13.4425            1.06m"
       ]
      },
      {
       "output_type": "stream",
       "stream": "stdout",
       "text": [
        "\n",
        "       300          13.3580           46.19s"
       ]
      },
      {
       "output_type": "stream",
       "stream": "stdout",
       "text": [
        "\n",
        "       400          13.2665           34.47s"
       ]
      },
      {
       "output_type": "stream",
       "stream": "stdout",
       "text": [
        "\n",
        "       500          13.2425           24.49s"
       ]
      },
      {
       "output_type": "stream",
       "stream": "stdout",
       "text": [
        "\n",
        "       600          13.2368           15.47s"
       ]
      },
      {
       "output_type": "stream",
       "stream": "stdout",
       "text": [
        "\n",
        "       700          13.2366            7.41s"
       ]
      },
      {
       "output_type": "stream",
       "stream": "stdout",
       "text": [
        "\n",
        "       800          13.2364            0.00s"
       ]
      },
      {
       "output_type": "stream",
       "stream": "stdout",
       "text": [
        "\n"
       ]
      },
      {
       "metadata": {},
       "output_type": "pyout",
       "prompt_number": 99,
       "text": [
        "GradientBoostingRegressor(alpha=0.9, criterion='friedman_mse', init=None,\n",
        "             learning_rate=0.1, loss='lad', max_depth=7, max_features=None,\n",
        "             max_leaf_nodes=None, min_impurity_split=1e-07,\n",
        "             min_samples_leaf=1, min_samples_split=2,\n",
        "             min_weight_fraction_leaf=0.0, n_estimators=800,\n",
        "             presort='auto', random_state=None, subsample=1.0, verbose=1,\n",
        "             warm_start=False)"
       ]
      }
     ],
     "prompt_number": 99
    },
    {
     "cell_type": "code",
     "collapsed": false,
     "input": [
      "result = gbr.predict(X_test)\n",
      "mae(result, y_test)"
     ],
     "language": "python",
     "metadata": {},
     "outputs": [
      {
       "metadata": {},
       "output_type": "pyout",
       "prompt_number": 130,
       "text": [
        "15.240071906606"
       ]
      }
     ],
     "prompt_number": 130
    },
    {
     "cell_type": "code",
     "collapsed": false,
     "input": [
      "result = gbr.predict(X_res)"
     ],
     "language": "python",
     "metadata": {},
     "outputs": [],
     "prompt_number": 101
    },
    {
     "cell_type": "code",
     "collapsed": false,
     "input": [
      "dataResult.shape"
     ],
     "language": "python",
     "metadata": {},
     "outputs": [
      {
       "metadata": {},
       "output_type": "pyout",
       "prompt_number": 102,
       "text": [
        "(7337, 20)"
       ]
      }
     ],
     "prompt_number": 102
    },
    {
     "cell_type": "code",
     "collapsed": false,
     "input": [
      "resDataFrame = pd.DataFrame()\n",
      "resDataFrame[\"Date\"] = data.Date[data.IsTest == True]\n",
      "resDataFrame.Date = resDataFrame.Date.apply(lambda x: pd.to_datetime(x))\n",
      "resDataFrame[\"Point\"] = data.Point[data.IsTest == True]\n",
      "resDataFrame.index = range(resDataFrame.shape[0])\n",
      "resDataFrame[\"Count\"] = pd.Series(result)"
     ],
     "language": "python",
     "metadata": {},
     "outputs": [],
     "prompt_number": 103
    },
    {
     "cell_type": "code",
     "collapsed": false,
     "input": [
      "resDataFrame.head()"
     ],
     "language": "python",
     "metadata": {
      "scrolled": true
     },
     "outputs": [
      {
       "html": [
        "<div style=\"max-width:1500px;overflow:auto;\">\n",
        "<table border=\"1\" class=\"dataframe\">\n",
        "  <thead>\n",
        "    <tr style=\"text-align: right;\">\n",
        "      <th></th>\n",
        "      <th>Date</th>\n",
        "      <th>Point</th>\n",
        "      <th>Count</th>\n",
        "    </tr>\n",
        "  </thead>\n",
        "  <tbody>\n",
        "    <tr>\n",
        "      <th>0</th>\n",
        "      <td>2011-12-14</td>\n",
        "      <td>\u0421\u044b\u043a\u0442\u044b\u0432\u043a\u0430\u0440-1</td>\n",
        "      <td>67.149051</td>\n",
        "    </tr>\n",
        "    <tr>\n",
        "      <th>1</th>\n",
        "      <td>2011-12-19</td>\n",
        "      <td>\u0421\u044b\u043a\u0442\u044b\u0432\u043a\u0430\u0440-1</td>\n",
        "      <td>78.029916</td>\n",
        "    </tr>\n",
        "    <tr>\n",
        "      <th>2</th>\n",
        "      <td>2011-12-26</td>\n",
        "      <td>\u0421\u044b\u043a\u0442\u044b\u0432\u043a\u0430\u0440-1</td>\n",
        "      <td>122.864192</td>\n",
        "    </tr>\n",
        "    <tr>\n",
        "      <th>3</th>\n",
        "      <td>2011-12-27</td>\n",
        "      <td>\u0421\u044b\u043a\u0442\u044b\u0432\u043a\u0430\u0440-1</td>\n",
        "      <td>111.159702</td>\n",
        "    </tr>\n",
        "    <tr>\n",
        "      <th>4</th>\n",
        "      <td>2012-01-12</td>\n",
        "      <td>\u0421\u044b\u043a\u0442\u044b\u0432\u043a\u0430\u0440-1</td>\n",
        "      <td>137.373571</td>\n",
        "    </tr>\n",
        "  </tbody>\n",
        "</table>\n",
        "</div>"
       ],
       "metadata": {},
       "output_type": "pyout",
       "prompt_number": 104,
       "text": [
        "        Date        Point       Count\n",
        "0 2011-12-14  \u0421\u044b\u043a\u0442\u044b\u0432\u043a\u0430\u0440-1   67.149051\n",
        "1 2011-12-19  \u0421\u044b\u043a\u0442\u044b\u0432\u043a\u0430\u0440-1   78.029916\n",
        "2 2011-12-26  \u0421\u044b\u043a\u0442\u044b\u0432\u043a\u0430\u0440-1  122.864192\n",
        "3 2011-12-27  \u0421\u044b\u043a\u0442\u044b\u0432\u043a\u0430\u0440-1  111.159702\n",
        "4 2012-01-12  \u0421\u044b\u043a\u0442\u044b\u0432\u043a\u0430\u0440-1  137.373571"
       ]
      }
     ],
     "prompt_number": 104
    },
    {
     "cell_type": "code",
     "collapsed": false,
     "input": [
      "resDataFrame.tail()"
     ],
     "language": "python",
     "metadata": {},
     "outputs": [
      {
       "html": [
        "<div style=\"max-width:1500px;overflow:auto;\">\n",
        "<table border=\"1\" class=\"dataframe\">\n",
        "  <thead>\n",
        "    <tr style=\"text-align: right;\">\n",
        "      <th></th>\n",
        "      <th>Date</th>\n",
        "      <th>Point</th>\n",
        "      <th>Count</th>\n",
        "    </tr>\n",
        "  </thead>\n",
        "  <tbody>\n",
        "    <tr>\n",
        "      <th>7332</th>\n",
        "      <td>2016-09-27</td>\n",
        "      <td>\u041d\u043e\u0432\u043e\u0430\u043b\u0442\u0430\u0439\u0441\u043a-1</td>\n",
        "      <td>18.434164</td>\n",
        "    </tr>\n",
        "    <tr>\n",
        "      <th>7333</th>\n",
        "      <td>2016-09-27</td>\n",
        "      <td>\u042d\u043d\u0433\u0435\u043b\u044c\u0441-1</td>\n",
        "      <td>55.358612</td>\n",
        "    </tr>\n",
        "    <tr>\n",
        "      <th>7334</th>\n",
        "      <td>2016-09-27</td>\n",
        "      <td>\u0417\u0435\u043b\u0435\u043d\u043e\u0433\u0440\u0430\u0434-1</td>\n",
        "      <td>141.386399</td>\n",
        "    </tr>\n",
        "    <tr>\n",
        "      <th>7335</th>\n",
        "      <td>2016-09-27</td>\n",
        "      <td>\u041b\u0435\u043d\u0438\u043d\u0441\u043a-\u041a\u0443\u0437\u043d\u0435\u0446\u043a\u0438\u0439-1</td>\n",
        "      <td>56.644179</td>\n",
        "    </tr>\n",
        "    <tr>\n",
        "      <th>7336</th>\n",
        "      <td>2016-09-27</td>\n",
        "      <td>\u0421\u0430\u043c\u0430\u0440\u0430-3</td>\n",
        "      <td>344.066037</td>\n",
        "    </tr>\n",
        "  </tbody>\n",
        "</table>\n",
        "</div>"
       ],
       "metadata": {},
       "output_type": "pyout",
       "prompt_number": 105,
       "text": [
        "           Date                Point       Count\n",
        "7332 2016-09-27        \u041d\u043e\u0432\u043e\u0430\u043b\u0442\u0430\u0439\u0441\u043a-1   18.434164\n",
        "7333 2016-09-27            \u042d\u043d\u0433\u0435\u043b\u044c\u0441-1   55.358612\n",
        "7334 2016-09-27         \u0417\u0435\u043b\u0435\u043d\u043e\u0433\u0440\u0430\u0434-1  141.386399\n",
        "7335 2016-09-27  \u041b\u0435\u043d\u0438\u043d\u0441\u043a-\u041a\u0443\u0437\u043d\u0435\u0446\u043a\u0438\u0439-1   56.644179\n",
        "7336 2016-09-27             \u0421\u0430\u043c\u0430\u0440\u0430-3  344.066037"
       ]
      }
     ],
     "prompt_number": 105
    },
    {
     "cell_type": "code",
     "collapsed": false,
     "input": [
      "resDataFrame.shape"
     ],
     "language": "python",
     "metadata": {},
     "outputs": [
      {
       "metadata": {},
       "output_type": "pyout",
       "prompt_number": 106,
       "text": [
        "(7337, 3)"
       ]
      }
     ],
     "prompt_number": 106
    },
    {
     "cell_type": "code",
     "collapsed": true,
     "input": [
      "originTest = pd.read_csv(\"data_original/test.csv\")"
     ],
     "language": "python",
     "metadata": {},
     "outputs": [],
     "prompt_number": 107
    },
    {
     "cell_type": "code",
     "collapsed": false,
     "input": [
      "originTest.Date = originTest.Date.apply(lambda x: pd.to_datetime(x, format='%d.%m.%Y'))"
     ],
     "language": "python",
     "metadata": {},
     "outputs": [],
     "prompt_number": 108
    },
    {
     "cell_type": "code",
     "collapsed": false,
     "input": [
      "originTest.head()"
     ],
     "language": "python",
     "metadata": {},
     "outputs": [
      {
       "html": [
        "<div style=\"max-width:1500px;overflow:auto;\">\n",
        "<table border=\"1\" class=\"dataframe\">\n",
        "  <thead>\n",
        "    <tr style=\"text-align: right;\">\n",
        "      <th></th>\n",
        "      <th>Date</th>\n",
        "      <th>Point</th>\n",
        "      <th>Count</th>\n",
        "    </tr>\n",
        "  </thead>\n",
        "  <tbody>\n",
        "    <tr>\n",
        "      <th>0</th>\n",
        "      <td>2016-07-08</td>\n",
        "      <td>\u0423\u043b\u044c\u044f\u043d\u043e\u0432\u0441\u043a-2</td>\n",
        "      <td>NaN</td>\n",
        "    </tr>\n",
        "    <tr>\n",
        "      <th>1</th>\n",
        "      <td>2016-07-25</td>\n",
        "      <td>\u0411\u0430\u043b\u0430\u0448\u0438\u0445\u0430-1</td>\n",
        "      <td>NaN</td>\n",
        "    </tr>\n",
        "    <tr>\n",
        "      <th>2</th>\n",
        "      <td>2014-11-09</td>\n",
        "      <td>\u0423\u0445\u0442\u0430-1</td>\n",
        "      <td>NaN</td>\n",
        "    </tr>\n",
        "    <tr>\n",
        "      <th>3</th>\n",
        "      <td>2015-11-12</td>\n",
        "      <td>\u0410\u043b\u044c\u043c\u0435\u0442\u044c\u0435\u0432\u0441\u043a-1</td>\n",
        "      <td>NaN</td>\n",
        "    </tr>\n",
        "    <tr>\n",
        "      <th>4</th>\n",
        "      <td>2014-07-17</td>\n",
        "      <td>\u0423\u0445\u0442\u0430-1</td>\n",
        "      <td>NaN</td>\n",
        "    </tr>\n",
        "  </tbody>\n",
        "</table>\n",
        "</div>"
       ],
       "metadata": {},
       "output_type": "pyout",
       "prompt_number": 109,
       "text": [
        "        Date          Point  Count\n",
        "0 2016-07-08    \u0423\u043b\u044c\u044f\u043d\u043e\u0432\u0441\u043a-2    NaN\n",
        "1 2016-07-25     \u0411\u0430\u043b\u0430\u0448\u0438\u0445\u0430-1    NaN\n",
        "2 2014-11-09         \u0423\u0445\u0442\u0430-1    NaN\n",
        "3 2015-11-12  \u0410\u043b\u044c\u043c\u0435\u0442\u044c\u0435\u0432\u0441\u043a-1    NaN\n",
        "4 2014-07-17         \u0423\u0445\u0442\u0430-1    NaN"
       ]
      }
     ],
     "prompt_number": 109
    },
    {
     "cell_type": "code",
     "collapsed": false,
     "input": [
      "resDataFrame[(resDataFrame.Date == originTest.Date[0]) & (resDataFrame.Point == originTest.Point[0]) ]"
     ],
     "language": "python",
     "metadata": {},
     "outputs": [
      {
       "html": [
        "<div style=\"max-width:1500px;overflow:auto;\">\n",
        "<table border=\"1\" class=\"dataframe\">\n",
        "  <thead>\n",
        "    <tr style=\"text-align: right;\">\n",
        "      <th></th>\n",
        "      <th>Date</th>\n",
        "      <th>Point</th>\n",
        "      <th>Count</th>\n",
        "    </tr>\n",
        "  </thead>\n",
        "  <tbody>\n",
        "    <tr>\n",
        "      <th>6495</th>\n",
        "      <td>2016-07-08</td>\n",
        "      <td>\u0423\u043b\u044c\u044f\u043d\u043e\u0432\u0441\u043a-2</td>\n",
        "      <td>218.25043</td>\n",
        "    </tr>\n",
        "  </tbody>\n",
        "</table>\n",
        "</div>"
       ],
       "metadata": {},
       "output_type": "pyout",
       "prompt_number": 110,
       "text": [
        "           Date        Point      Count\n",
        "6495 2016-07-08  \u0423\u043b\u044c\u044f\u043d\u043e\u0432\u0441\u043a-2  218.25043"
       ]
      }
     ],
     "prompt_number": 110
    },
    {
     "cell_type": "code",
     "collapsed": false,
     "input": [
      "resNP = np.array([np.nan] * originTest.shape[0])\n",
      "for i in originTest.index:\n",
      "    resNP[i] = resDataFrame.Count[(resDataFrame.Date == originTest.Date[i]) &\n",
      "                                             (resDataFrame.Point == originTest.Point[i])]"
     ],
     "language": "python",
     "metadata": {
      "scrolled": true
     },
     "outputs": [],
     "prompt_number": 111
    },
    {
     "cell_type": "code",
     "collapsed": false,
     "input": [
      "resNP.shape"
     ],
     "language": "python",
     "metadata": {},
     "outputs": [
      {
       "metadata": {},
       "output_type": "pyout",
       "prompt_number": 112,
       "text": [
        "(7337,)"
       ]
      }
     ],
     "prompt_number": 112
    },
    {
     "cell_type": "code",
     "collapsed": false,
     "input": [
      "originTest.Count = pd.Series(resNP)"
     ],
     "language": "python",
     "metadata": {},
     "outputs": [],
     "prompt_number": 113
    },
    {
     "cell_type": "code",
     "collapsed": true,
     "input": [
      "originTest.Count = originTest.Count.apply(lambda x: 1 if x < 1 else x)"
     ],
     "language": "python",
     "metadata": {},
     "outputs": [],
     "prompt_number": 114
    },
    {
     "cell_type": "code",
     "collapsed": false,
     "input": [
      "originTest.Count = originTest.Count.apply(lambda x: round(x) if abs(x - round(x)) < 0.15 else x)"
     ],
     "language": "python",
     "metadata": {},
     "outputs": [],
     "prompt_number": 115
    },
    {
     "cell_type": "code",
     "collapsed": true,
     "input": [
      "originTest['Year'] = originTest.Date.apply(lambda x: x.year)\n",
      "originTest['Month'] = originTest.Date.apply(lambda x: x.month)\n",
      "originTest['MonthDay'] = originTest.Date.apply(lambda x: x.day)"
     ],
     "language": "python",
     "metadata": {},
     "outputs": [],
     "prompt_number": 116
    },
    {
     "cell_type": "code",
     "collapsed": false,
     "input": [
      "OriginalDate = []\n",
      "k = 9\n",
      "for i in range(originTest.shape[0]):\n",
      "    daystr = str(originTest.MonthDay[i]) if originTest.MonthDay[i] >= 10 else  \"0\" + str(originTest.MonthDay[i])\n",
      "    monthstr = str(originTest.Month[i]) if originTest.Month[i] >= 10 else  \"0\" + str(originTest.Month[i])\n",
      "    OriginalDate.append(daystr + \".\" + monthstr + \".\" +  str(originTest.Year[i]))"
     ],
     "language": "python",
     "metadata": {},
     "outputs": [],
     "prompt_number": 117
    },
    {
     "cell_type": "code",
     "collapsed": false,
     "input": [],
     "language": "python",
     "metadata": {},
     "outputs": [],
     "prompt_number": 117
    },
    {
     "cell_type": "code",
     "collapsed": true,
     "input": [],
     "language": "python",
     "metadata": {},
     "outputs": [],
     "prompt_number": 117
    },
    {
     "cell_type": "code",
     "collapsed": true,
     "input": [
      "originTest[\"OriginalDate\"] = pd.Series(OriginalDate)"
     ],
     "language": "python",
     "metadata": {},
     "outputs": [],
     "prompt_number": 118
    },
    {
     "cell_type": "code",
     "collapsed": false,
     "input": [],
     "language": "python",
     "metadata": {
      "scrolled": true
     },
     "outputs": [],
     "prompt_number": 118
    },
    {
     "cell_type": "code",
     "collapsed": false,
     "input": [],
     "language": "python",
     "metadata": {},
     "outputs": [],
     "prompt_number": 118
    },
    {
     "cell_type": "code",
     "collapsed": false,
     "input": [
      "originTest.tail()"
     ],
     "language": "python",
     "metadata": {},
     "outputs": [
      {
       "html": [
        "<div style=\"max-width:1500px;overflow:auto;\">\n",
        "<table border=\"1\" class=\"dataframe\">\n",
        "  <thead>\n",
        "    <tr style=\"text-align: right;\">\n",
        "      <th></th>\n",
        "      <th>Date</th>\n",
        "      <th>Point</th>\n",
        "      <th>Count</th>\n",
        "      <th>Year</th>\n",
        "      <th>Month</th>\n",
        "      <th>MonthDay</th>\n",
        "      <th>OriginalDate</th>\n",
        "    </tr>\n",
        "  </thead>\n",
        "  <tbody>\n",
        "    <tr>\n",
        "      <th>7332</th>\n",
        "      <td>2015-05-27</td>\n",
        "      <td>\u0411\u0435\u043b\u0433\u043e\u0440\u043e\u0434-1</td>\n",
        "      <td>71.000000</td>\n",
        "      <td>2015</td>\n",
        "      <td>5</td>\n",
        "      <td>27</td>\n",
        "      <td>27.05.2015</td>\n",
        "    </tr>\n",
        "    <tr>\n",
        "      <th>7333</th>\n",
        "      <td>2015-01-31</td>\n",
        "      <td>\u0421\u0430\u043c\u0430\u0440\u0430-3</td>\n",
        "      <td>164.289547</td>\n",
        "      <td>2015</td>\n",
        "      <td>1</td>\n",
        "      <td>31</td>\n",
        "      <td>31.01.2015</td>\n",
        "    </tr>\n",
        "    <tr>\n",
        "      <th>7334</th>\n",
        "      <td>2015-11-12</td>\n",
        "      <td>\u0412\u043e\u043b\u043e\u0433\u0434\u0430-1</td>\n",
        "      <td>33.234443</td>\n",
        "      <td>2015</td>\n",
        "      <td>11</td>\n",
        "      <td>12</td>\n",
        "      <td>12.11.2015</td>\n",
        "    </tr>\n",
        "    <tr>\n",
        "      <th>7335</th>\n",
        "      <td>2016-05-07</td>\n",
        "      <td>\u0414\u043e\u043c\u043e\u0434\u0435\u0434\u043e\u0432\u043e-1</td>\n",
        "      <td>97.743827</td>\n",
        "      <td>2016</td>\n",
        "      <td>5</td>\n",
        "      <td>7</td>\n",
        "      <td>07.05.2016</td>\n",
        "    </tr>\n",
        "    <tr>\n",
        "      <th>7336</th>\n",
        "      <td>2015-04-18</td>\n",
        "      <td>\u041c\u0430\u0445\u0430\u0447\u043a\u0430\u043b\u0430-1</td>\n",
        "      <td>98.726074</td>\n",
        "      <td>2015</td>\n",
        "      <td>4</td>\n",
        "      <td>18</td>\n",
        "      <td>18.04.2015</td>\n",
        "    </tr>\n",
        "  </tbody>\n",
        "</table>\n",
        "</div>"
       ],
       "metadata": {},
       "output_type": "pyout",
       "prompt_number": 119,
       "text": [
        "           Date         Point       Count  Year  Month  MonthDay OriginalDate\n",
        "7332 2015-05-27    \u0411\u0435\u043b\u0433\u043e\u0440\u043e\u0434-1   71.000000  2015      5        27   27.05.2015\n",
        "7333 2015-01-31      \u0421\u0430\u043c\u0430\u0440\u0430-3  164.289547  2015      1        31   31.01.2015\n",
        "7334 2015-11-12     \u0412\u043e\u043b\u043e\u0433\u0434\u0430-1   33.234443  2015     11        12   12.11.2015\n",
        "7335 2016-05-07  \u0414\u043e\u043c\u043e\u0434\u0435\u0434\u043e\u0432\u043e-1   97.743827  2016      5         7   07.05.2016\n",
        "7336 2015-04-18   \u041c\u0430\u0445\u0430\u0447\u043a\u0430\u043b\u0430-1   98.726074  2015      4        18   18.04.2015"
       ]
      }
     ],
     "prompt_number": 119
    },
    {
     "cell_type": "code",
     "collapsed": false,
     "input": [
      "originTest = originTest[[\"OriginalDate\", \"Point\", \"Count\"]]"
     ],
     "language": "python",
     "metadata": {},
     "outputs": [],
     "prompt_number": 120
    },
    {
     "cell_type": "code",
     "collapsed": false,
     "input": [
      "originTest.head()"
     ],
     "language": "python",
     "metadata": {},
     "outputs": [
      {
       "html": [
        "<div style=\"max-width:1500px;overflow:auto;\">\n",
        "<table border=\"1\" class=\"dataframe\">\n",
        "  <thead>\n",
        "    <tr style=\"text-align: right;\">\n",
        "      <th></th>\n",
        "      <th>OriginalDate</th>\n",
        "      <th>Point</th>\n",
        "      <th>Count</th>\n",
        "    </tr>\n",
        "  </thead>\n",
        "  <tbody>\n",
        "    <tr>\n",
        "      <th>0</th>\n",
        "      <td>08.07.2016</td>\n",
        "      <td>\u0423\u043b\u044c\u044f\u043d\u043e\u0432\u0441\u043a-2</td>\n",
        "      <td>218.250430</td>\n",
        "    </tr>\n",
        "    <tr>\n",
        "      <th>1</th>\n",
        "      <td>25.07.2016</td>\n",
        "      <td>\u0411\u0430\u043b\u0430\u0448\u0438\u0445\u0430-1</td>\n",
        "      <td>121.163623</td>\n",
        "    </tr>\n",
        "    <tr>\n",
        "      <th>2</th>\n",
        "      <td>09.11.2014</td>\n",
        "      <td>\u0423\u0445\u0442\u0430-1</td>\n",
        "      <td>186.178918</td>\n",
        "    </tr>\n",
        "    <tr>\n",
        "      <th>3</th>\n",
        "      <td>12.11.2015</td>\n",
        "      <td>\u0410\u043b\u044c\u043c\u0435\u0442\u044c\u0435\u0432\u0441\u043a-1</td>\n",
        "      <td>60.299072</td>\n",
        "    </tr>\n",
        "    <tr>\n",
        "      <th>4</th>\n",
        "      <td>17.07.2014</td>\n",
        "      <td>\u0423\u0445\u0442\u0430-1</td>\n",
        "      <td>153.641044</td>\n",
        "    </tr>\n",
        "  </tbody>\n",
        "</table>\n",
        "</div>"
       ],
       "metadata": {},
       "output_type": "pyout",
       "prompt_number": 121,
       "text": [
        "  OriginalDate          Point       Count\n",
        "0   08.07.2016    \u0423\u043b\u044c\u044f\u043d\u043e\u0432\u0441\u043a-2  218.250430\n",
        "1   25.07.2016     \u0411\u0430\u043b\u0430\u0448\u0438\u0445\u0430-1  121.163623\n",
        "2   09.11.2014         \u0423\u0445\u0442\u0430-1  186.178918\n",
        "3   12.11.2015  \u0410\u043b\u044c\u043c\u0435\u0442\u044c\u0435\u0432\u0441\u043a-1   60.299072\n",
        "4   17.07.2014         \u0423\u0445\u0442\u0430-1  153.641044"
       ]
      }
     ],
     "prompt_number": 121
    },
    {
     "cell_type": "code",
     "collapsed": false,
     "input": [
      "originTest.tail()"
     ],
     "language": "python",
     "metadata": {},
     "outputs": [
      {
       "html": [
        "<div style=\"max-width:1500px;overflow:auto;\">\n",
        "<table border=\"1\" class=\"dataframe\">\n",
        "  <thead>\n",
        "    <tr style=\"text-align: right;\">\n",
        "      <th></th>\n",
        "      <th>OriginalDate</th>\n",
        "      <th>Point</th>\n",
        "      <th>Count</th>\n",
        "    </tr>\n",
        "  </thead>\n",
        "  <tbody>\n",
        "    <tr>\n",
        "      <th>7332</th>\n",
        "      <td>27.05.2015</td>\n",
        "      <td>\u0411\u0435\u043b\u0433\u043e\u0440\u043e\u0434-1</td>\n",
        "      <td>71.000000</td>\n",
        "    </tr>\n",
        "    <tr>\n",
        "      <th>7333</th>\n",
        "      <td>31.01.2015</td>\n",
        "      <td>\u0421\u0430\u043c\u0430\u0440\u0430-3</td>\n",
        "      <td>164.289547</td>\n",
        "    </tr>\n",
        "    <tr>\n",
        "      <th>7334</th>\n",
        "      <td>12.11.2015</td>\n",
        "      <td>\u0412\u043e\u043b\u043e\u0433\u0434\u0430-1</td>\n",
        "      <td>33.234443</td>\n",
        "    </tr>\n",
        "    <tr>\n",
        "      <th>7335</th>\n",
        "      <td>07.05.2016</td>\n",
        "      <td>\u0414\u043e\u043c\u043e\u0434\u0435\u0434\u043e\u0432\u043e-1</td>\n",
        "      <td>97.743827</td>\n",
        "    </tr>\n",
        "    <tr>\n",
        "      <th>7336</th>\n",
        "      <td>18.04.2015</td>\n",
        "      <td>\u041c\u0430\u0445\u0430\u0447\u043a\u0430\u043b\u0430-1</td>\n",
        "      <td>98.726074</td>\n",
        "    </tr>\n",
        "  </tbody>\n",
        "</table>\n",
        "</div>"
       ],
       "metadata": {},
       "output_type": "pyout",
       "prompt_number": 122,
       "text": [
        "     OriginalDate         Point       Count\n",
        "7332   27.05.2015    \u0411\u0435\u043b\u0433\u043e\u0440\u043e\u0434-1   71.000000\n",
        "7333   31.01.2015      \u0421\u0430\u043c\u0430\u0440\u0430-3  164.289547\n",
        "7334   12.11.2015     \u0412\u043e\u043b\u043e\u0433\u0434\u0430-1   33.234443\n",
        "7335   07.05.2016  \u0414\u043e\u043c\u043e\u0434\u0435\u0434\u043e\u0432\u043e-1   97.743827\n",
        "7336   18.04.2015   \u041c\u0430\u0445\u0430\u0447\u043a\u0430\u043b\u0430-1   98.726074"
       ]
      }
     ],
     "prompt_number": 122
    },
    {
     "cell_type": "code",
     "collapsed": false,
     "input": [
      "originTest.to_csv('submission.csv', index=None, header=None)"
     ],
     "language": "python",
     "metadata": {},
     "outputs": [],
     "prompt_number": 126
    },
    {
     "cell_type": "code",
     "collapsed": false,
     "input": [
      "pd.isnull(originTest).sum() > 0"
     ],
     "language": "python",
     "metadata": {},
     "outputs": [
      {
       "metadata": {},
       "output_type": "pyout",
       "prompt_number": 125,
       "text": [
        "OriginalDate    False\n",
        "Point           False\n",
        "Count           False\n",
        "dtype: bool"
       ]
      }
     ],
     "prompt_number": 125
    },
    {
     "cell_type": "code",
     "collapsed": true,
     "input": [],
     "language": "python",
     "metadata": {},
     "outputs": [],
     "prompt_number": 127
    },
    {
     "cell_type": "code",
     "collapsed": false,
     "input": [],
     "language": "python",
     "metadata": {},
     "outputs": [],
     "prompt_number": 64
    },
    {
     "cell_type": "code",
     "collapsed": false,
     "input": [],
     "language": "python",
     "metadata": {},
     "outputs": []
    }
   ],
   "metadata": {}
  }
 ]
}