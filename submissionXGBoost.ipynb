{
 "cells": [
  {
   "cell_type": "code",
   "execution_count": 23,
   "metadata": {
    "collapsed": false
   },
   "outputs": [
    {
     "name": "stdout",
     "output_type": "stream",
     "text": [
      "[0]\teval-mae:103.633\ttrain-mae:104.724\n",
      "[300]\teval-mae:16.9867\ttrain-mae:15.8775\n",
      "[600]\teval-mae:16.0142\ttrain-mae:14.6194\n",
      "[900]\teval-mae:15.6822\ttrain-mae:14.0441\n"
     ]
    }
   ],
   "source": [
    "import pandas as pd\n",
    "import numpy as np\n",
    "import xgboost as xgb\n",
    "from sklearn.metrics import mean_absolute_error as mae\n",
    "\n",
    "\n",
    "features = pd.read_csv('data_transform/all.csv')\n",
    "\n",
    "data = features.fillna(100000000)\n",
    "\n",
    "remove_column = ['IsTest', 'IsTrain', 'IsValidation', 'Date', 'Point', 'CityName'\n",
    "\t\t\t\t , 'MeanForThroughDay', 'MeanForMonthDayByPoints'\n",
    "                 , 'MeanForThroughDayByPoints', 'MeanForThroughWeekByPoints'\n",
    "                 , 'MeanForYearDayByPoints', u'Prev2Day', u'Prev3Day'\n",
    "                 , u'Next2Day', u'Next3Day', 'NextExisting21Value'\n",
    "                 , 'PrevExisting21Value', 'NextExisting14Value'\n",
    "                 , 'PrevExisting14Value', 'NextExisting3Value'\n",
    "                 , 'PrevExisting3Value'\n",
    "                 , 'BranchNumber', 'MeanForMonth', 'Next1Day', 'Prev7Day'\n",
    "                 ]\n",
    "\n",
    "\n",
    "dataTrain = data[data.IsTrain == 1]\n",
    "dataTrain = dataTrain[dataTrain.columns.difference(remove_column)]\n",
    "\n",
    "X_train = dataTrain[dataTrain.columns.difference(['Count'])]\n",
    "y_train = dataTrain[['Count']]\n",
    "\n",
    "dataValidation =  data[data.IsValidation == 1]\n",
    "dataValidation = dataValidation[dataValidation.columns.difference(remove_column)]\n",
    "\n",
    "X_test = dataValidation[dataValidation.columns.difference(['Count'])]\n",
    "y_test = dataValidation[['Count']]\n",
    "\n",
    "dataResult =  data[data.IsValidation == 1]\n",
    "dataResult = dataResult[dataResult.columns.difference(remove_column)]\n",
    "\n",
    "X_res = dataResult[dataResult.columns.difference(['Count'])]\n",
    "\n",
    "\n",
    "dtrain = xgb.DMatrix( X_train, label=y_train)\n",
    "dtest = xgb.DMatrix( X_test, label=y_test)\n",
    "dres = xgb.DMatrix( X_res )\n",
    "evallist  = [(dtest,'eval'), (dtrain,'train')]\n",
    "\n",
    "param = {'max_depth': 6,\n",
    " \t\t'silent': 1,\n",
    " \t\t'eta': 0.01,\n",
    " \t\t'eval_metric': 'mae'\n",
    " }\n",
    "\n",
    "num_round = 1000\n",
    "\n",
    "bst = xgb.train( param, dtrain, num_round, evallist, verbose_eval=300 )\n",
    "\n",
    "\n",
    "result = bst.predict(dres)"
   ]
  },
  {
   "cell_type": "code",
   "execution_count": 24,
   "metadata": {
    "collapsed": false
   },
   "outputs": [],
   "source": [
    "resDataFrame = pd.DataFrame()\n",
    "resDataFrame[\"Date\"] = data.Date[data.IsTest == True]\n",
    "resDataFrame.Date = resDataFrame.Date.apply(lambda x: pd.to_datetime(x))\n",
    "resDataFrame[\"Point\"] = data.Point[data.IsTest == True]\n",
    "resDataFrame.index = range(resDataFrame.shape[0])\n",
    "resDataFrame[\"Count\"] = pd.Series(result)"
   ]
  },
  {
   "cell_type": "code",
   "execution_count": 25,
   "metadata": {
    "collapsed": false,
    "scrolled": true
   },
   "outputs": [
    {
     "data": {
      "text/html": [
       "<div>\n",
       "<table border=\"1\" class=\"dataframe\">\n",
       "  <thead>\n",
       "    <tr style=\"text-align: right;\">\n",
       "      <th></th>\n",
       "      <th>Date</th>\n",
       "      <th>Point</th>\n",
       "      <th>Count</th>\n",
       "    </tr>\n",
       "  </thead>\n",
       "  <tbody>\n",
       "    <tr>\n",
       "      <th>0</th>\n",
       "      <td>2011-12-14</td>\n",
       "      <td>Сыктывкар-1</td>\n",
       "      <td>107.465218</td>\n",
       "    </tr>\n",
       "    <tr>\n",
       "      <th>1</th>\n",
       "      <td>2011-12-19</td>\n",
       "      <td>Сыктывкар-1</td>\n",
       "      <td>146.673203</td>\n",
       "    </tr>\n",
       "    <tr>\n",
       "      <th>2</th>\n",
       "      <td>2011-12-26</td>\n",
       "      <td>Сыктывкар-1</td>\n",
       "      <td>100.477905</td>\n",
       "    </tr>\n",
       "    <tr>\n",
       "      <th>3</th>\n",
       "      <td>2011-12-27</td>\n",
       "      <td>Сыктывкар-1</td>\n",
       "      <td>133.700912</td>\n",
       "    </tr>\n",
       "    <tr>\n",
       "      <th>4</th>\n",
       "      <td>2012-01-12</td>\n",
       "      <td>Сыктывкар-1</td>\n",
       "      <td>136.116058</td>\n",
       "    </tr>\n",
       "  </tbody>\n",
       "</table>\n",
       "</div>"
      ],
      "text/plain": [
       "        Date        Point       Count\n",
       "0 2011-12-14  Сыктывкар-1  107.465218\n",
       "1 2011-12-19  Сыктывкар-1  146.673203\n",
       "2 2011-12-26  Сыктывкар-1  100.477905\n",
       "3 2011-12-27  Сыктывкар-1  133.700912\n",
       "4 2012-01-12  Сыктывкар-1  136.116058"
      ]
     },
     "execution_count": 25,
     "metadata": {},
     "output_type": "execute_result"
    }
   ],
   "source": [
    "resDataFrame.head()"
   ]
  },
  {
   "cell_type": "code",
   "execution_count": 26,
   "metadata": {
    "collapsed": false
   },
   "outputs": [
    {
     "data": {
      "text/html": [
       "<div>\n",
       "<table border=\"1\" class=\"dataframe\">\n",
       "  <thead>\n",
       "    <tr style=\"text-align: right;\">\n",
       "      <th></th>\n",
       "      <th>Date</th>\n",
       "      <th>Point</th>\n",
       "      <th>Count</th>\n",
       "    </tr>\n",
       "  </thead>\n",
       "  <tbody>\n",
       "    <tr>\n",
       "      <th>7332</th>\n",
       "      <td>2016-09-27</td>\n",
       "      <td>Новоалтайск-1</td>\n",
       "      <td>NaN</td>\n",
       "    </tr>\n",
       "    <tr>\n",
       "      <th>7333</th>\n",
       "      <td>2016-09-27</td>\n",
       "      <td>Энгельс-1</td>\n",
       "      <td>NaN</td>\n",
       "    </tr>\n",
       "    <tr>\n",
       "      <th>7334</th>\n",
       "      <td>2016-09-27</td>\n",
       "      <td>Зеленоград-1</td>\n",
       "      <td>NaN</td>\n",
       "    </tr>\n",
       "    <tr>\n",
       "      <th>7335</th>\n",
       "      <td>2016-09-27</td>\n",
       "      <td>Ленинск-Кузнецкий-1</td>\n",
       "      <td>NaN</td>\n",
       "    </tr>\n",
       "    <tr>\n",
       "      <th>7336</th>\n",
       "      <td>2016-09-27</td>\n",
       "      <td>Самара-3</td>\n",
       "      <td>NaN</td>\n",
       "    </tr>\n",
       "  </tbody>\n",
       "</table>\n",
       "</div>"
      ],
      "text/plain": [
       "           Date                Point  Count\n",
       "7332 2016-09-27        Новоалтайск-1    NaN\n",
       "7333 2016-09-27            Энгельс-1    NaN\n",
       "7334 2016-09-27         Зеленоград-1    NaN\n",
       "7335 2016-09-27  Ленинск-Кузнецкий-1    NaN\n",
       "7336 2016-09-27             Самара-3    NaN"
      ]
     },
     "execution_count": 26,
     "metadata": {},
     "output_type": "execute_result"
    }
   ],
   "source": [
    "resDataFrame.tail()"
   ]
  },
  {
   "cell_type": "code",
   "execution_count": 27,
   "metadata": {
    "collapsed": false
   },
   "outputs": [
    {
     "data": {
      "text/plain": [
       "(7337, 3)"
      ]
     },
     "execution_count": 27,
     "metadata": {},
     "output_type": "execute_result"
    }
   ],
   "source": [
    "resDataFrame.shape"
   ]
  },
  {
   "cell_type": "code",
   "execution_count": 28,
   "metadata": {
    "collapsed": true
   },
   "outputs": [],
   "source": [
    "originTest = pd.read_csv(\"data_original/test.csv\")"
   ]
  },
  {
   "cell_type": "code",
   "execution_count": 29,
   "metadata": {
    "collapsed": false
   },
   "outputs": [],
   "source": [
    "originTest.Date = originTest.Date.apply(lambda x: pd.to_datetime(x, format='%d.%m.%Y'))"
   ]
  },
  {
   "cell_type": "markdown",
   "metadata": {
    "collapsed": false
   },
   "source": [
    "originTest.head()"
   ]
  },
  {
   "cell_type": "code",
   "execution_count": 30,
   "metadata": {
    "collapsed": false
   },
   "outputs": [
    {
     "data": {
      "text/html": [
       "<div>\n",
       "<table border=\"1\" class=\"dataframe\">\n",
       "  <thead>\n",
       "    <tr style=\"text-align: right;\">\n",
       "      <th></th>\n",
       "      <th>Date</th>\n",
       "      <th>Point</th>\n",
       "      <th>Count</th>\n",
       "    </tr>\n",
       "  </thead>\n",
       "  <tbody>\n",
       "    <tr>\n",
       "      <th>6495</th>\n",
       "      <td>2016-07-08</td>\n",
       "      <td>Ульяновск-2</td>\n",
       "      <td>224.535782</td>\n",
       "    </tr>\n",
       "  </tbody>\n",
       "</table>\n",
       "</div>"
      ],
      "text/plain": [
       "           Date        Point       Count\n",
       "6495 2016-07-08  Ульяновск-2  224.535782"
      ]
     },
     "execution_count": 30,
     "metadata": {},
     "output_type": "execute_result"
    }
   ],
   "source": [
    "resDataFrame[(resDataFrame.Date == originTest.Date[0]) & (resDataFrame.Point == originTest.Point[0]) ]"
   ]
  },
  {
   "cell_type": "code",
   "execution_count": 31,
   "metadata": {
    "collapsed": false,
    "scrolled": true
   },
   "outputs": [],
   "source": [
    "resNP = np.array([np.nan] * originTest.shape[0])\n",
    "for i in originTest.index:\n",
    "    resNP[i] = resDataFrame.Count[(resDataFrame.Date == originTest.Date[i]) &\n",
    "                                             (resDataFrame.Point == originTest.Point[i])]"
   ]
  },
  {
   "cell_type": "code",
   "execution_count": 32,
   "metadata": {
    "collapsed": false
   },
   "outputs": [
    {
     "data": {
      "text/plain": [
       "(7337,)"
      ]
     },
     "execution_count": 32,
     "metadata": {},
     "output_type": "execute_result"
    }
   ],
   "source": [
    "resNP.shape"
   ]
  },
  {
   "cell_type": "code",
   "execution_count": 33,
   "metadata": {
    "collapsed": false
   },
   "outputs": [],
   "source": [
    "originTest.Count = pd.Series(resNP)"
   ]
  },
  {
   "cell_type": "code",
   "execution_count": 34,
   "metadata": {
    "collapsed": true
   },
   "outputs": [],
   "source": [
    "originTest.Count = originTest.Count.apply(lambda x: 1 if x < 1 else x)"
   ]
  },
  {
   "cell_type": "code",
   "execution_count": 35,
   "metadata": {
    "collapsed": false
   },
   "outputs": [],
   "source": [
    "originTest.Count = originTest.Count.apply(lambda x: round(x) if abs(x - round(x)) < 0.15 else x)\n"
   ]
  },
  {
   "cell_type": "code",
   "execution_count": 36,
   "metadata": {
    "collapsed": true
   },
   "outputs": [],
   "source": [
    "originTest['Year'] = originTest.Date.apply(lambda x: x.year)\n",
    "originTest['Month'] = originTest.Date.apply(lambda x: x.month)\n",
    "originTest['MonthDay'] = originTest.Date.apply(lambda x: x.day)"
   ]
  },
  {
   "cell_type": "code",
   "execution_count": 37,
   "metadata": {
    "collapsed": false
   },
   "outputs": [],
   "source": [
    "OriginalDate = []\n",
    "k = 9\n",
    "for i in range(originTest.shape[0]):\n",
    "    daystr = str(originTest.MonthDay[i]) if originTest.MonthDay[i] >= 10 else  \"0\" + str(originTest.MonthDay[i])\n",
    "    monthstr = str(originTest.Month[i]) if originTest.Month[i] >= 10 else  \"0\" + str(originTest.Month[i])\n",
    "    OriginalDate.append(daystr + \".\" + monthstr + \".\" +  str(originTest.Year[i]))"
   ]
  },
  {
   "cell_type": "code",
   "execution_count": null,
   "metadata": {
    "collapsed": false
   },
   "outputs": [],
   "source": []
  },
  {
   "cell_type": "code",
   "execution_count": null,
   "metadata": {
    "collapsed": true
   },
   "outputs": [],
   "source": []
  },
  {
   "cell_type": "code",
   "execution_count": 38,
   "metadata": {
    "collapsed": true
   },
   "outputs": [],
   "source": [
    "originTest[\"OriginalDate\"] = pd.Series(OriginalDate)"
   ]
  },
  {
   "cell_type": "code",
   "execution_count": 39,
   "metadata": {
    "collapsed": false,
    "scrolled": true
   },
   "outputs": [
    {
     "data": {
      "text/html": [
       "<div>\n",
       "<table border=\"1\" class=\"dataframe\">\n",
       "  <thead>\n",
       "    <tr style=\"text-align: right;\">\n",
       "      <th></th>\n",
       "      <th>Date</th>\n",
       "      <th>Point</th>\n",
       "      <th>Count</th>\n",
       "      <th>Year</th>\n",
       "      <th>Month</th>\n",
       "      <th>MonthDay</th>\n",
       "      <th>OriginalDate</th>\n",
       "    </tr>\n",
       "  </thead>\n",
       "  <tbody>\n",
       "    <tr>\n",
       "      <th>0</th>\n",
       "      <td>2016-07-08</td>\n",
       "      <td>Ульяновск-2</td>\n",
       "      <td>224.535782</td>\n",
       "      <td>2016</td>\n",
       "      <td>7</td>\n",
       "      <td>8</td>\n",
       "      <td>08.07.2016</td>\n",
       "    </tr>\n",
       "    <tr>\n",
       "      <th>1</th>\n",
       "      <td>2016-07-25</td>\n",
       "      <td>Балашиха-1</td>\n",
       "      <td>222.713669</td>\n",
       "      <td>2016</td>\n",
       "      <td>7</td>\n",
       "      <td>25</td>\n",
       "      <td>25.07.2016</td>\n",
       "    </tr>\n",
       "    <tr>\n",
       "      <th>2</th>\n",
       "      <td>2014-11-09</td>\n",
       "      <td>Ухта-1</td>\n",
       "      <td>101.448448</td>\n",
       "      <td>2014</td>\n",
       "      <td>11</td>\n",
       "      <td>9</td>\n",
       "      <td>09.11.2014</td>\n",
       "    </tr>\n",
       "    <tr>\n",
       "      <th>3</th>\n",
       "      <td>2015-11-12</td>\n",
       "      <td>Альметьевск-1</td>\n",
       "      <td>85.229507</td>\n",
       "      <td>2015</td>\n",
       "      <td>11</td>\n",
       "      <td>12</td>\n",
       "      <td>12.11.2015</td>\n",
       "    </tr>\n",
       "    <tr>\n",
       "      <th>4</th>\n",
       "      <td>2014-07-17</td>\n",
       "      <td>Ухта-1</td>\n",
       "      <td>67.000000</td>\n",
       "      <td>2014</td>\n",
       "      <td>7</td>\n",
       "      <td>17</td>\n",
       "      <td>17.07.2014</td>\n",
       "    </tr>\n",
       "  </tbody>\n",
       "</table>\n",
       "</div>"
      ],
      "text/plain": [
       "        Date          Point       Count  Year  Month  MonthDay OriginalDate\n",
       "0 2016-07-08    Ульяновск-2  224.535782  2016      7         8   08.07.2016\n",
       "1 2016-07-25     Балашиха-1  222.713669  2016      7        25   25.07.2016\n",
       "2 2014-11-09         Ухта-1  101.448448  2014     11         9   09.11.2014\n",
       "3 2015-11-12  Альметьевск-1   85.229507  2015     11        12   12.11.2015\n",
       "4 2014-07-17         Ухта-1   67.000000  2014      7        17   17.07.2014"
      ]
     },
     "execution_count": 39,
     "metadata": {},
     "output_type": "execute_result"
    }
   ],
   "source": [
    "originTest.head()"
   ]
  },
  {
   "cell_type": "code",
   "execution_count": null,
   "metadata": {
    "collapsed": false
   },
   "outputs": [],
   "source": []
  },
  {
   "cell_type": "code",
   "execution_count": 40,
   "metadata": {
    "collapsed": false
   },
   "outputs": [
    {
     "data": {
      "text/html": [
       "<div>\n",
       "<table border=\"1\" class=\"dataframe\">\n",
       "  <thead>\n",
       "    <tr style=\"text-align: right;\">\n",
       "      <th></th>\n",
       "      <th>Date</th>\n",
       "      <th>Point</th>\n",
       "      <th>Count</th>\n",
       "      <th>Year</th>\n",
       "      <th>Month</th>\n",
       "      <th>MonthDay</th>\n",
       "      <th>OriginalDate</th>\n",
       "    </tr>\n",
       "  </thead>\n",
       "  <tbody>\n",
       "    <tr>\n",
       "      <th>7332</th>\n",
       "      <td>2015-05-27</td>\n",
       "      <td>Белгород-1</td>\n",
       "      <td>109.673622</td>\n",
       "      <td>2015</td>\n",
       "      <td>5</td>\n",
       "      <td>27</td>\n",
       "      <td>27.05.2015</td>\n",
       "    </tr>\n",
       "    <tr>\n",
       "      <th>7333</th>\n",
       "      <td>2015-01-31</td>\n",
       "      <td>Самара-3</td>\n",
       "      <td>51.000000</td>\n",
       "      <td>2015</td>\n",
       "      <td>1</td>\n",
       "      <td>31</td>\n",
       "      <td>31.01.2015</td>\n",
       "    </tr>\n",
       "    <tr>\n",
       "      <th>7334</th>\n",
       "      <td>2015-11-12</td>\n",
       "      <td>Вологда-1</td>\n",
       "      <td>97.358200</td>\n",
       "      <td>2015</td>\n",
       "      <td>11</td>\n",
       "      <td>12</td>\n",
       "      <td>12.11.2015</td>\n",
       "    </tr>\n",
       "    <tr>\n",
       "      <th>7335</th>\n",
       "      <td>2016-05-07</td>\n",
       "      <td>Домодедово-1</td>\n",
       "      <td>85.723549</td>\n",
       "      <td>2016</td>\n",
       "      <td>5</td>\n",
       "      <td>7</td>\n",
       "      <td>07.05.2016</td>\n",
       "    </tr>\n",
       "    <tr>\n",
       "      <th>7336</th>\n",
       "      <td>2015-04-18</td>\n",
       "      <td>Махачкала-1</td>\n",
       "      <td>47.000000</td>\n",
       "      <td>2015</td>\n",
       "      <td>4</td>\n",
       "      <td>18</td>\n",
       "      <td>18.04.2015</td>\n",
       "    </tr>\n",
       "  </tbody>\n",
       "</table>\n",
       "</div>"
      ],
      "text/plain": [
       "           Date         Point       Count  Year  Month  MonthDay OriginalDate\n",
       "7332 2015-05-27    Белгород-1  109.673622  2015      5        27   27.05.2015\n",
       "7333 2015-01-31      Самара-3   51.000000  2015      1        31   31.01.2015\n",
       "7334 2015-11-12     Вологда-1   97.358200  2015     11        12   12.11.2015\n",
       "7335 2016-05-07  Домодедово-1   85.723549  2016      5         7   07.05.2016\n",
       "7336 2015-04-18   Махачкала-1   47.000000  2015      4        18   18.04.2015"
      ]
     },
     "execution_count": 40,
     "metadata": {},
     "output_type": "execute_result"
    }
   ],
   "source": [
    "originTest.tail()"
   ]
  },
  {
   "cell_type": "code",
   "execution_count": 41,
   "metadata": {
    "collapsed": false
   },
   "outputs": [],
   "source": [
    "originTest = originTest[[\"OriginalDate\", \"Point\", \"Count\"]]"
   ]
  },
  {
   "cell_type": "code",
   "execution_count": 42,
   "metadata": {
    "collapsed": false
   },
   "outputs": [
    {
     "data": {
      "text/html": [
       "<div>\n",
       "<table border=\"1\" class=\"dataframe\">\n",
       "  <thead>\n",
       "    <tr style=\"text-align: right;\">\n",
       "      <th></th>\n",
       "      <th>OriginalDate</th>\n",
       "      <th>Point</th>\n",
       "      <th>Count</th>\n",
       "    </tr>\n",
       "  </thead>\n",
       "  <tbody>\n",
       "    <tr>\n",
       "      <th>0</th>\n",
       "      <td>08.07.2016</td>\n",
       "      <td>Ульяновск-2</td>\n",
       "      <td>224.535782</td>\n",
       "    </tr>\n",
       "    <tr>\n",
       "      <th>1</th>\n",
       "      <td>25.07.2016</td>\n",
       "      <td>Балашиха-1</td>\n",
       "      <td>222.713669</td>\n",
       "    </tr>\n",
       "    <tr>\n",
       "      <th>2</th>\n",
       "      <td>09.11.2014</td>\n",
       "      <td>Ухта-1</td>\n",
       "      <td>101.448448</td>\n",
       "    </tr>\n",
       "    <tr>\n",
       "      <th>3</th>\n",
       "      <td>12.11.2015</td>\n",
       "      <td>Альметьевск-1</td>\n",
       "      <td>85.229507</td>\n",
       "    </tr>\n",
       "    <tr>\n",
       "      <th>4</th>\n",
       "      <td>17.07.2014</td>\n",
       "      <td>Ухта-1</td>\n",
       "      <td>67.000000</td>\n",
       "    </tr>\n",
       "  </tbody>\n",
       "</table>\n",
       "</div>"
      ],
      "text/plain": [
       "  OriginalDate          Point       Count\n",
       "0   08.07.2016    Ульяновск-2  224.535782\n",
       "1   25.07.2016     Балашиха-1  222.713669\n",
       "2   09.11.2014         Ухта-1  101.448448\n",
       "3   12.11.2015  Альметьевск-1   85.229507\n",
       "4   17.07.2014         Ухта-1   67.000000"
      ]
     },
     "execution_count": 42,
     "metadata": {},
     "output_type": "execute_result"
    }
   ],
   "source": [
    "originTest.head()"
   ]
  },
  {
   "cell_type": "code",
   "execution_count": 43,
   "metadata": {
    "collapsed": false
   },
   "outputs": [],
   "source": [
    "originTest.to_csv('submission.csv', index=None, header=None)"
   ]
  },
  {
   "cell_type": "code",
   "execution_count": null,
   "metadata": {
    "collapsed": true
   },
   "outputs": [],
   "source": []
  },
  {
   "cell_type": "code",
   "execution_count": null,
   "metadata": {
    "collapsed": true
   },
   "outputs": [],
   "source": []
  }
 ],
 "metadata": {
  "anaconda-cloud": {},
  "kernelspec": {
   "display_name": "Python 2",
   "language": "python",
   "name": "python2"
  },
  "language_info": {
   "codemirror_mode": {
    "name": "ipython",
    "version": 2
   },
   "file_extension": ".py",
   "mimetype": "text/x-python",
   "name": "python",
   "nbconvert_exporter": "python",
   "pygments_lexer": "ipython2",
   "version": "2.7.6"
  }
 },
 "nbformat": 4,
 "nbformat_minor": 1
}
