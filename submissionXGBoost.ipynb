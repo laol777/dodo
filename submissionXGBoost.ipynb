{
 "cells": [
  {
   "cell_type": "code",
   "execution_count": 1,
   "metadata": {
    "collapsed": false
   },
   "outputs": [],
   "source": [
    "import pandas as pd\n",
    "import numpy as np\n",
    "from sklearn.metrics import mean_absolute_error as mae\n",
    "from sklearn.ensemble import GradientBoostingRegressor\n",
    "from sklearn.ensemble import RandomForestRegressor\n",
    "import xgboost as xgb\n",
    "\n",
    "features = pd.read_csv('data_transform/all.csv')\n",
    "\n",
    "data = features.fillna(100000000)\n",
    "\n",
    "\n",
    "remove_column = ['IsTest', 'IsTrain', 'IsValidation', 'Date', 'Point', 'CityName'\n",
    "                 ,u'MeanForMonthDayByPoints', u'MeanForThroughMonthByPoints'\n",
    "                ,u'MeanForThroughWeekByPoints'\n",
    "                ,u'MeanForYearByPoints', u'MeanForYearDayByPoints'\n",
    "                 ,'MeanForYearDay', 'MeanForThroughWeek'\n",
    "                ]\n",
    "\n",
    "\n",
    "\n",
    "dataTrain = data[data.IsTrain == 1]\n",
    "dataTrain = dataTrain[dataTrain.columns.difference(remove_column)]\n",
    "\n",
    "X_train = dataTrain[dataTrain.columns.difference(['Count'])]\n",
    "y_train = dataTrain[['Count']]\n",
    "\n",
    "dataValidation =  data[data.IsTest == 1]\n",
    "dataValidation = dataValidation[dataValidation.columns.difference(remove_column)]\n",
    "\n",
    "X_test = dataValidation[dataValidation.columns.difference(['Count'])]\n",
    "y_test = dataValidation[['Count']]"
   ]
  },
  {
   "cell_type": "code",
   "execution_count": 2,
   "metadata": {
    "collapsed": false
   },
   "outputs": [
    {
     "data": {
      "text/plain": [
       "Index([u'MeanForMonth', u'MeanForMonthByPoints', u'MeanForMonthDay',\n",
       "       u'MeanForThroughMonth', u'MeanForWeekDay', u'MeanForWeekDayByPoints',\n",
       "       u'MeanForYear', u'Month', u'MonthDay', u'ThroughDay', u'ThroughMonth',\n",
       "       u'ThroughWeek', u'WeekDay', u'Year', u'YearDay'],\n",
       "      dtype='object')"
      ]
     },
     "execution_count": 2,
     "metadata": {},
     "output_type": "execute_result"
    }
   ],
   "source": [
    "X_train.columns"
   ]
  },
  {
   "cell_type": "code",
   "execution_count": 3,
   "metadata": {
    "collapsed": false,
    "scrolled": true
   },
   "outputs": [
    {
     "name": "stdout",
     "output_type": "stream",
     "text": [
      "[0]\teval-mae:117.828\ttrain-mae:103.652\n",
      "[200]\teval-mae:83.3796\ttrain-mae:70.0092\n",
      "[400]\teval-mae:33.7328\ttrain-mae:26.1213\n",
      "[600]\teval-mae:26.627\ttrain-mae:20.4233\n",
      "[800]\teval-mae:25.7372\ttrain-mae:19.4487\n",
      "[1000]\teval-mae:25.3977\ttrain-mae:18.845\n",
      "[1200]\teval-mae:25.1022\ttrain-mae:18.353\n",
      "[1400]\teval-mae:24.7417\ttrain-mae:17.9121\n",
      "[1600]\teval-mae:24.4466\ttrain-mae:17.5407\n",
      "[1800]\teval-mae:24.1371\ttrain-mae:17.1916\n",
      "[2000]\teval-mae:23.8935\ttrain-mae:16.8965\n",
      "[2200]\teval-mae:23.597\ttrain-mae:16.611\n",
      "[2400]\teval-mae:23.3788\ttrain-mae:16.3647\n",
      "[2600]\teval-mae:23.1428\ttrain-mae:16.1388\n",
      "[2800]\teval-mae:22.8981\ttrain-mae:15.9374\n",
      "[3000]\teval-mae:22.6619\ttrain-mae:15.7244\n",
      "[3200]\teval-mae:22.4834\ttrain-mae:15.5427\n",
      "[3400]\teval-mae:22.2552\ttrain-mae:15.3565\n",
      "[3600]\teval-mae:22.0727\ttrain-mae:15.1852\n",
      "[3800]\teval-mae:21.9304\ttrain-mae:15.0113\n",
      "[4000]\teval-mae:21.7756\ttrain-mae:14.8518\n",
      "[4200]\teval-mae:21.6588\ttrain-mae:14.7014\n",
      "[4400]\teval-mae:21.4968\ttrain-mae:14.5568\n",
      "[4600]\teval-mae:21.3453\ttrain-mae:14.4077\n",
      "[4800]\teval-mae:21.1949\ttrain-mae:14.2759\n",
      "[5000]\teval-mae:21.0729\ttrain-mae:14.152\n",
      "[5200]\teval-mae:20.9839\ttrain-mae:14.0422\n",
      "[5400]\teval-mae:20.8569\ttrain-mae:13.9116\n",
      "[5600]\teval-mae:20.7461\ttrain-mae:13.7987\n",
      "[5800]\teval-mae:20.6214\ttrain-mae:13.6876\n",
      "[6000]\teval-mae:20.5125\ttrain-mae:13.5721\n",
      "[6200]\teval-mae:20.4653\ttrain-mae:13.4699\n",
      "[6400]\teval-mae:20.3816\ttrain-mae:13.3737\n",
      "[6600]\teval-mae:20.3028\ttrain-mae:13.2713\n",
      "[6800]\teval-mae:20.2089\ttrain-mae:13.186\n",
      "[7000]\teval-mae:20.1271\ttrain-mae:13.0934\n",
      "[7200]\teval-mae:20.0774\ttrain-mae:13.0032\n",
      "[7400]\teval-mae:20.0062\ttrain-mae:12.9192\n",
      "[7600]\teval-mae:19.9434\ttrain-mae:12.8366\n",
      "[7800]\teval-mae:19.8972\ttrain-mae:12.7525\n",
      "[8000]\teval-mae:19.8366\ttrain-mae:12.6735\n",
      "[8200]\teval-mae:19.7744\ttrain-mae:12.592\n",
      "[8400]\teval-mae:19.731\ttrain-mae:12.5154\n",
      "[8600]\teval-mae:19.682\ttrain-mae:12.4333\n",
      "[8800]\teval-mae:19.6596\ttrain-mae:12.369\n",
      "[9000]\teval-mae:19.6123\ttrain-mae:12.2954\n",
      "[9200]\teval-mae:19.583\ttrain-mae:12.2204\n",
      "[9400]\teval-mae:19.5627\ttrain-mae:12.1522\n",
      "[9600]\teval-mae:19.541\ttrain-mae:12.081\n",
      "[9800]\teval-mae:19.4952\ttrain-mae:12.0149\n",
      "[10000]\teval-mae:19.4851\ttrain-mae:11.957\n",
      "[10200]\teval-mae:19.45\ttrain-mae:11.8892\n",
      "[10400]\teval-mae:19.4196\ttrain-mae:11.827\n",
      "[10600]\teval-mae:19.4042\ttrain-mae:11.7644\n",
      "[10800]\teval-mae:19.3712\ttrain-mae:11.705\n",
      "[11000]\teval-mae:19.3554\ttrain-mae:11.6424\n",
      "[11200]\teval-mae:19.3466\ttrain-mae:11.585\n",
      "[11400]\teval-mae:19.3189\ttrain-mae:11.5297\n",
      "[11600]\teval-mae:19.2975\ttrain-mae:11.4709\n",
      "[11800]\teval-mae:19.2922\ttrain-mae:11.4186\n",
      "[12000]\teval-mae:19.265\ttrain-mae:11.3677\n",
      "[12200]\teval-mae:19.2476\ttrain-mae:11.3126\n",
      "[12400]\teval-mae:19.2389\ttrain-mae:11.2561\n",
      "[12600]\teval-mae:19.2235\ttrain-mae:11.2066\n",
      "[12800]\teval-mae:19.1984\ttrain-mae:11.1556\n",
      "[13000]\teval-mae:19.1904\ttrain-mae:11.1043\n",
      "[13200]\teval-mae:19.2023\ttrain-mae:11.0576\n",
      "[13400]\teval-mae:19.1931\ttrain-mae:11.0104\n",
      "[13600]\teval-mae:19.1779\ttrain-mae:10.9593\n",
      "[13800]\teval-mae:19.1839\ttrain-mae:10.9127\n",
      "[14000]\teval-mae:19.1705\ttrain-mae:10.8671\n",
      "[14200]\teval-mae:19.1682\ttrain-mae:10.8234\n",
      "[14400]\teval-mae:19.1687\ttrain-mae:10.7795\n",
      "[14600]\teval-mae:19.1632\ttrain-mae:10.7348\n",
      "[14800]\teval-mae:19.151\ttrain-mae:10.6887\n",
      "[15000]\teval-mae:19.1502\ttrain-mae:10.6477\n",
      "[15200]\teval-mae:19.1495\ttrain-mae:10.6032\n",
      "[15400]\teval-mae:19.1322\ttrain-mae:10.5584\n",
      "[15600]\teval-mae:19.1245\ttrain-mae:10.5175\n",
      "[15800]\teval-mae:19.1296\ttrain-mae:10.4752\n"
     ]
    }
   ],
   "source": [
    "dtrain = xgb.DMatrix( X_train, label=y_train)\n",
    "dtest = xgb.DMatrix( X_test, label=y_test)\n",
    "evallist  = [(dtest,'eval'), (dtrain,'train')]\n",
    "\n",
    "param = {'max_depth': 6,\n",
    " \t\t'silent': 1,\n",
    " \t\t'eta': 0.01,\n",
    " \t\t'eval_metric': 'mae',\n",
    "         'subsample' : 0.9,\n",
    "         'colsample_bytree':0.5,\n",
    "         'tree_method':'exact'\n",
    "         #,'rate_drop':0.01\n",
    "         ,'objective':'reg:tweedie'\n",
    " }\n",
    "\n",
    "num_round = 16000\n",
    "\n",
    "bst = xgb.train( param, dtrain, num_round, evallist, verbose_eval=200 )"
   ]
  },
  {
   "cell_type": "code",
   "execution_count": 4,
   "metadata": {
    "collapsed": false
   },
   "outputs": [],
   "source": [
    "pred = bst.predict(dtest)"
   ]
  },
  {
   "cell_type": "code",
   "execution_count": 5,
   "metadata": {
    "collapsed": true
   },
   "outputs": [],
   "source": [
    "y_test = np.array(y_test.Count)"
   ]
  },
  {
   "cell_type": "code",
   "execution_count": 6,
   "metadata": {
    "collapsed": false
   },
   "outputs": [
    {
     "data": {
      "text/plain": [
       "19.09470622389934"
      ]
     },
     "execution_count": 6,
     "metadata": {},
     "output_type": "execute_result"
    }
   ],
   "source": [
    "#MAPE\n",
    "sum( abs((pred - y_test) / y_test) ) * (100. / pred.shape[0])"
   ]
  },
  {
   "cell_type": "code",
   "execution_count": null,
   "metadata": {
    "collapsed": true
   },
   "outputs": [],
   "source": []
  }
 ],
 "metadata": {
  "anaconda-cloud": {},
  "kernelspec": {
   "display_name": "Python 2",
   "language": "python",
   "name": "python2"
  },
  "language_info": {
   "codemirror_mode": {
    "name": "ipython",
    "version": 2
   },
   "file_extension": ".py",
   "mimetype": "text/x-python",
   "name": "python",
   "nbconvert_exporter": "python",
   "pygments_lexer": "ipython2",
   "version": "2.7.6"
  }
 },
 "nbformat": 4,
 "nbformat_minor": 0
}
